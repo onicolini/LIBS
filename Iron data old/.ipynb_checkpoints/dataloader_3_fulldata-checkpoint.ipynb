{
 "cells": [
  {
   "cell_type": "code",
   "execution_count": 1,
   "metadata": {},
   "outputs": [],
   "source": [
    "import os\n",
    "import pandas as pd\n",
    "import matplotlib.pyplot as plt\n",
    "import numpy as np\n",
    "%matplotlib notebook \n",
    "from sklearn.decomposition import PCA \n",
    "from sklearn.preprocessing import StandardScaler"
   ]
  },
  {
   "cell_type": "markdown",
   "metadata": {},
   "source": [
    "# NOTE: The labels file that this notebook builds miss the first row, i.e. which element is each column\n",
    "### therefore this needs to be added manually"
   ]
  },
  {
   "cell_type": "code",
   "execution_count": 34,
   "metadata": {
    "scrolled": false
   },
   "outputs": [
    {
     "name": "stdout",
     "output_type": "stream",
     "text": [
      "<class 'pandas.core.frame.DataFrame'>\n",
      "(59, 9)\n",
      "[['B16' 93.63 2.48 0.12 0.13 0.052000000000000005 0.024 0.012 0.03]\n",
      " ['B16' 93.63 2.48 0.12 0.13 0.052000000000000005 0.024 0.012 0.03]\n",
      " ['B16' 93.63 2.48 0.12 0.13 0.052000000000000005 0.024 0.012 0.03]\n",
      " ['B15' 93.55 2.53 0.13 0.13 0.09300000000000001 0.024 0.012 0.033]\n",
      " ['B15' 93.55 2.53 0.13 0.13 0.09300000000000001 0.024 0.012 0.033]\n",
      " ['B15' 93.55 2.53 0.13 0.13 0.09300000000000001 0.024 0.012 0.033]\n",
      " ['B14' 93.65 2.49 0.12 0.13 0.11 0.024 0.012 0.036000000000000004]\n",
      " ['B14' 93.65 2.49 0.12 0.13 0.11 0.024 0.012 0.036000000000000004]\n",
      " ['B14' 93.65 2.49 0.12 0.13 0.11 0.024 0.012 0.036000000000000004]\n",
      " ['B13' 91.68 2.46 0.19 0.64 1.18 0.023 0.27 0.057999999999999996]\n",
      " ['B13' 91.68 2.46 0.19 0.64 1.18 0.023 0.27 0.057999999999999996]\n",
      " ['B13' 91.68 2.46 0.19 0.64 1.18 0.023 0.27 0.057999999999999996]\n",
      " ['B12' 92.47 2.62 0.36 0.83 0.07 0.022000000000000002\n",
      "  0.018000000000000002 0.049]\n",
      " ['B12' 92.47 2.62 0.36 0.83 0.07 0.022000000000000002\n",
      "  0.018000000000000002 0.049]\n",
      " ['B12' 92.47 2.62 0.36 0.83 0.07 0.022000000000000002\n",
      "  0.018000000000000002 0.049]\n",
      " ['B11' 93.23 2.31 0.17 0.55 0.061 0.025 0.013999999999999999\n",
      "  0.07200000000000001]\n",
      " ['B11' 93.23 2.31 0.17 0.55 0.061 0.025 0.013999999999999999\n",
      "  0.07200000000000001]\n",
      " ['B11' 93.23 2.31 0.17 0.55 0.061 0.025 0.013999999999999999\n",
      "  0.07200000000000001]\n",
      " ['B10' 93.24 2.27 0.17 0.55 0.061 0.025 0.013000000000000001 0.066]\n",
      " ['B10' 93.24 2.27 0.17 0.55 0.061 0.025 0.013000000000000001 0.066]\n",
      " ['B10' 93.24 2.27 0.17 0.55 0.061 0.025 0.013000000000000001 0.066]\n",
      " ['A01' 92.94 1.84 0.19 0.64 0.42 0.022000000000000002\n",
      "  0.26899999999999996 0.0024]\n",
      " ['A01' 92.94 1.84 0.19 0.64 0.42 0.022000000000000002\n",
      "  0.26899999999999996 0.0024]\n",
      " ['A01' 92.94 1.84 0.19 0.64 0.42 0.022000000000000002\n",
      "  0.26899999999999996 0.0024]\n",
      " ['A02' 93.35 1.8 0.17 0.48 0.37 0.022000000000000002 0.17300000000000001\n",
      "  0.0017]\n",
      " ['A02' 93.35 1.8 0.17 0.48 0.37 0.022000000000000002 0.17300000000000001\n",
      "  0.0017]\n",
      " ['A02' 93.35 1.8 0.17 0.48 0.37 0.022000000000000002 0.17300000000000001\n",
      "  0.0017]\n",
      " ['A03' 94.15 1.59 0.14 0.32 0.06 0.024 0.016 0.001]\n",
      " ['A03' 94.15 1.59 0.14 0.32 0.06 0.024 0.016 0.001]\n",
      " ['A03' 94.15 1.59 0.14 0.32 0.06 0.024 0.016 0.001]\n",
      " ['A04' 93.7 1.38 0.2 0.66 0.04 0.018000000000000002 0.26899999999999996\n",
      "  0.0017]\n",
      " ['A04' 93.7 1.38 0.2 0.66 0.04 0.018000000000000002 0.26899999999999996\n",
      "  0.0017]\n",
      " ['A04' 93.7 1.38 0.2 0.66 0.04 0.018000000000000002 0.26899999999999996\n",
      "  0.0017]\n",
      " ['A05' 94.33 1.63 0.12 0.11 0.09 0.019 0.019 0.0022]\n",
      " ['A05' 94.33 1.63 0.12 0.11 0.09 0.019 0.019 0.0022]\n",
      " ['A05' 94.33 1.63 0.12 0.11 0.09 0.019 0.019 0.0022]\n",
      " ['A06' 94.51 1.5 0.12 0.09 0.04 0.021 0.009000000000000001 0.0009]\n",
      " ['A06' 94.51 1.5 0.12 0.09 0.04 0.021 0.009000000000000001 0.0009]\n",
      " ['A06' 94.51 1.5 0.12 0.09 0.04 0.021 0.009000000000000001 0.0009]\n",
      " ['A07' 94.01 1.31 0.2 0.61 0.07 0.019 0.016 0.0046]\n",
      " ['A07' 94.01 1.31 0.2 0.61 0.07 0.019 0.016 0.0046]\n",
      " ['C17' 92.27 2.54 0.16 1.13 0.095 0.027000000000000003\n",
      "  0.027000000000000003 0.0568]\n",
      " ['C17' 92.27 2.54 0.16 1.13 0.095 0.027000000000000003\n",
      "  0.027000000000000003 0.0568]\n",
      " ['C17' 92.27 2.54 0.16 1.13 0.095 0.027000000000000003\n",
      "  0.027000000000000003 0.0568]\n",
      " ['C18' 92.79 2.4 0.21 0.65 0.071 0.019 0.265 0.047]\n",
      " ['C18' 92.79 2.4 0.21 0.65 0.071 0.019 0.265 0.047]\n",
      " ['C18' 92.79 2.4 0.21 0.65 0.071 0.019 0.265 0.047]\n",
      " ['C19' 91.81 2.39 0.2 0.65 1.1 0.021 0.267 0.0542]\n",
      " ['C19' 91.81 2.39 0.2 0.65 1.1 0.021 0.267 0.0542]\n",
      " ['C19' 91.81 2.39 0.2 0.65 1.1 0.021 0.267 0.0542]\n",
      " ['C20' 91.81 2.42 0.19 0.65 1.06 0.021 0.263 0.0442]\n",
      " ['C20' 91.81 2.42 0.19 0.65 1.06 0.021 0.263 0.0442]\n",
      " ['C20' 91.81 2.42 0.19 0.65 1.06 0.021 0.263 0.0442]\n",
      " ['C21' 92.37 2.61 0.16 1.17 0.062 0.019 0.015 0.0504]\n",
      " ['C21' 92.37 2.61 0.16 1.17 0.062 0.019 0.015 0.0504]\n",
      " ['C21' 92.37 2.61 0.16 1.17 0.062 0.019 0.015 0.0504]\n",
      " ['C22' 92.07 4.4 0.2 0.14 0.053 0.022000000000000002 0.012 0.0468]\n",
      " ['C22' 92.07 4.4 0.2 0.14 0.053 0.022000000000000002 0.012 0.0468]\n",
      " ['C22' 92.07 4.4 0.2 0.14 0.053 0.022000000000000002 0.012 0.0468]]\n"
     ]
    }
   ],
   "source": [
    "df_y = pd.read_csv('labels_aligned+.csv', sep = ',')\n",
    "print(type(df_y))\n",
    "concentration=df_y.values\n",
    "print(concentration.shape)\n",
    "print(concentration)"
   ]
  },
  {
   "cell_type": "code",
   "execution_count": 3,
   "metadata": {},
   "outputs": [
    {
     "name": "stdout",
     "output_type": "stream",
     "text": [
      "(59, 7)\n",
      "<class 'numpy.ndarray'>\n",
      "<class 'pandas.core.frame.DataFrame'>\n"
     ]
    }
   ],
   "source": [
    "multi_y = concentration[:,2:]#I discard the first 2 columns, i.e. the element name and the Fe concentration\n",
    "print (multi_y.shape)\n",
    "print (type(multi_y))\n",
    "df_y= pd.DataFrame(multi_y)\n",
    "print (type(df_y))"
   ]
  },
  {
   "cell_type": "code",
   "execution_count": 4,
   "metadata": {},
   "outputs": [
    {
     "name": "stdout",
     "output_type": "stream",
     "text": [
      "[2.48 0.12 0.13 0.052000000000000005 0.024 0.012 0.03]\n"
     ]
    }
   ],
   "source": [
    "vector= multi_y[0]\n",
    "print(vector)"
   ]
  },
  {
   "cell_type": "code",
   "execution_count": 35,
   "metadata": {},
   "outputs": [
    {
     "name": "stdout",
     "output_type": "stream",
     "text": [
      "(538, 7)\n",
      "[[4.4 0.2 0.14 ... 0.022000000000000002 0.012 0.0468]\n",
      " [4.4 0.2 0.14 ... 0.022000000000000002 0.012 0.0468]\n",
      " [4.4 0.2 0.14 ... 0.022000000000000002 0.012 0.0468]\n",
      " ...\n",
      " [4.4 0.2 0.14 ... 0.022000000000000002 0.012 0.0468]\n",
      " [4.4 0.2 0.14 ... 0.022000000000000002 0.012 0.0468]\n",
      " [4.4 0.2 0.14 ... 0.022000000000000002 0.012 0.0468]]\n"
     ]
    }
   ],
   "source": [
    "m = 5\n",
    "\n",
    "a=np.zeros((len(dfs[0]),1),dtype=vector.dtype) + vector\n",
    "print(a.shape)\n",
    "print(a)"
   ]
  },
  {
   "cell_type": "code",
   "execution_count": 27,
   "metadata": {},
   "outputs": [
    {
     "name": "stdout",
     "output_type": "stream",
     "text": [
      "(7,)\n",
      "(7,)\n",
      "(7,)\n",
      "(7,)\n",
      "(7,)\n",
      "(7,)\n",
      "(7,)\n",
      "(7,)\n",
      "(7,)\n",
      "(7,)\n",
      "(7,)\n",
      "(7,)\n",
      "(7,)\n",
      "(7,)\n",
      "(7,)\n",
      "(7,)\n",
      "(7,)\n",
      "(7,)\n",
      "(7,)\n",
      "(7,)\n",
      "(7,)\n",
      "(7,)\n",
      "(7,)\n",
      "(7,)\n",
      "(7,)\n",
      "(7,)\n",
      "(7,)\n",
      "(7,)\n",
      "(7,)\n",
      "(7,)\n",
      "(7,)\n",
      "(7,)\n",
      "(7,)\n",
      "(7,)\n",
      "(7,)\n",
      "(7,)\n",
      "(7,)\n",
      "(7,)\n",
      "(7,)\n",
      "(7,)\n",
      "(7,)\n",
      "(7,)\n",
      "(7,)\n",
      "(7,)\n",
      "(7,)\n",
      "(7,)\n",
      "(7,)\n",
      "(7,)\n",
      "(7,)\n",
      "(7,)\n",
      "(7,)\n",
      "(7,)\n",
      "(7,)\n",
      "(7,)\n",
      "(7,)\n",
      "(7,)\n",
      "(7,)\n",
      "(7,)\n",
      "[[2.48 0.12 0.13 ... 0.024 0.012 0.03]\n",
      " [2.48 0.12 0.13 ... 0.024 0.012 0.03]\n",
      " [2.48 0.12 0.13 ... 0.024 0.012 0.03]\n",
      " ...\n",
      " [4.4 0.2 0.14 ... 0.022000000000000002 0.012 0.0468]\n",
      " [4.4 0.2 0.14 ... 0.022000000000000002 0.012 0.0468]\n",
      " [4.4 0.2 0.14 ... 0.022000000000000002 0.012 0.0468]]\n"
     ]
    }
   ],
   "source": [
    "\n",
    "for i in range(1, len(multi_y)):\n",
    "    vector = multi_y[i]\n",
    "    #print(vector.shape)\n",
    "    tmp=np.zeros((len(dfs[i]),1), dtype=vector.dtype) + vector\n",
    "                 \n",
    "    a=np.concatenate((a, tmp))\n",
    "    \n",
    "print(a)\n",
    "    "
   ]
  },
  {
   "cell_type": "code",
   "execution_count": 28,
   "metadata": {},
   "outputs": [
    {
     "data": {
      "text/plain": [
       "(32051, 7)"
      ]
     },
     "execution_count": 28,
     "metadata": {},
     "output_type": "execute_result"
    }
   ],
   "source": [
    "a.shape"
   ]
  },
  {
   "cell_type": "code",
   "execution_count": 30,
   "metadata": {},
   "outputs": [],
   "source": [
    "np.savetxt(\"labels_extended.csv\", a, delimiter=\",\", fmt='%f')"
   ]
  },
  {
   "cell_type": "code",
   "execution_count": 14,
   "metadata": {},
   "outputs": [
    {
     "name": "stdout",
     "output_type": "stream",
     "text": [
      "59\n",
      "59\n",
      "537\n"
     ]
    }
   ],
   "source": [
    "print(len(multi_y))\n",
    "print(len(dfs))\n",
    "print(len(dfs[1]))"
   ]
  },
  {
   "cell_type": "code",
   "execution_count": null,
   "metadata": {},
   "outputs": [],
   "source": []
  },
  {
   "cell_type": "code",
   "execution_count": 5,
   "metadata": {},
   "outputs": [],
   "source": [
    "from glob import glob\n",
    "filenames = glob('./data/0*')\n",
    "dfs = [pd.read_csv(f,sep='\\t') for f in filenames]\n",
    "#type(dfs) #dfs is a list of dataframes "
   ]
  },
  {
   "cell_type": "code",
   "execution_count": 7,
   "metadata": {},
   "outputs": [
    {
     "name": "stdout",
     "output_type": "stream",
     "text": [
      "<class 'numpy.ndarray'>\n",
      "(538, 4094)\n"
     ]
    }
   ],
   "source": [
    "df=dfs[0].drop(columns=['Pixels'])\n",
    "df=df.dropna(axis=1)\n",
    "data=df.values\n",
    "#plt.plot(data[0], data[400])\n",
    "\n",
    "print(type(data))\n",
    "#print(data)\n",
    "print(data.shape)"
   ]
  },
  {
   "cell_type": "code",
   "execution_count": 8,
   "metadata": {},
   "outputs": [
    {
     "name": "stdout",
     "output_type": "stream",
     "text": [
      "(4094,)\n",
      "[188.1951 188.2601 188.325  ... 440.6714 440.7245 440.7775]\n"
     ]
    }
   ],
   "source": [
    "x = data[0,:] #wavelengths\n",
    "print(x.shape)\n",
    "print(x)"
   ]
  },
  {
   "cell_type": "code",
   "execution_count": 9,
   "metadata": {},
   "outputs": [
    {
     "name": "stdout",
     "output_type": "stream",
     "text": [
      "(537, 4094)\n"
     ]
    }
   ],
   "source": [
    "y = data[1:,:] #intensities\n",
    "#print(y)\n",
    "print(y.shape)\n",
    "#np.asmatrix(y)"
   ]
  },
  {
   "cell_type": "code",
   "execution_count": 10,
   "metadata": {},
   "outputs": [
    {
     "name": "stdout",
     "output_type": "stream",
     "text": [
      "(4094,)\n",
      "[ 582.46368715  504.20856611  530.70949721 ... 2177.94599628 1990.0744879\n",
      " 1936.0689013 ]\n"
     ]
    }
   ],
   "source": [
    "y_avg0 = np.mean(y, axis=0) #average of intensities\n",
    "\n",
    "y_avg = y_avg0 # this will be used to append other means\n",
    "\n",
    "print(y_avg.shape)\n",
    "print(y_avg)"
   ]
  },
  {
   "cell_type": "code",
   "execution_count": 31,
   "metadata": {},
   "outputs": [
    {
     "name": "stdout",
     "output_type": "stream",
     "text": [
      "data index: 0\n",
      "(538, 4094)\n",
      "data index: 1\n",
      "(537, 4094)\n",
      "data index: 2\n",
      "(663, 4094)\n",
      "data index: 3\n",
      "(571, 4094)\n",
      "data index: 4\n",
      "(538, 4094)\n",
      "data index: 5\n",
      "(536, 4094)\n",
      "data index: 6\n",
      "(565, 4094)\n",
      "data index: 7\n",
      "(548, 4094)\n",
      "data index: 8\n",
      "(516, 4094)\n",
      "data index: 9\n",
      "(536, 4094)\n",
      "data index: 10\n",
      "(543, 4094)\n",
      "data index: 11\n",
      "(535, 4094)\n",
      "data index: 12\n",
      "(536, 4094)\n",
      "data index: 13\n",
      "(529, 4094)\n",
      "data index: 14\n",
      "(540, 4094)\n",
      "data index: 15\n",
      "(559, 4094)\n",
      "data index: 16\n",
      "(535, 4094)\n",
      "data index: 17\n",
      "(540, 4094)\n",
      "data index: 18\n",
      "(534, 4094)\n",
      "data index: 19\n",
      "(539, 4094)\n",
      "data index: 20\n",
      "(539, 4094)\n",
      "data index: 21\n",
      "(534, 4094)\n",
      "data index: 22\n",
      "(574, 4094)\n",
      "data index: 23\n",
      "(539, 4094)\n",
      "data index: 24\n",
      "(530, 4094)\n",
      "data index: 25\n",
      "(535, 4094)\n",
      "data index: 26\n",
      "(530, 4094)\n",
      "data index: 27\n",
      "(518, 4094)\n",
      "data index: 28\n",
      "(539, 4094)\n",
      "data index: 29\n",
      "(526, 4094)\n",
      "data index: 30\n",
      "(619, 4094)\n",
      "data index: 31\n",
      "(568, 4094)\n",
      "data index: 32\n",
      "(570, 4094)\n",
      "data index: 33\n",
      "(542, 4094)\n",
      "data index: 34\n",
      "(507, 4094)\n",
      "data index: 35\n",
      "(562, 4094)\n",
      "data index: 36\n",
      "(560, 4094)\n",
      "data index: 37\n",
      "(530, 4094)\n",
      "data index: 38\n",
      "(531, 4094)\n",
      "data index: 39\n",
      "(536, 4094)\n",
      "data index: 40\n",
      "(527, 4094)\n",
      "data index: 41\n",
      "(574, 4094)\n",
      "data index: 42\n",
      "(535, 4094)\n",
      "data index: 43\n",
      "(532, 4094)\n",
      "data index: 44\n",
      "(530, 4094)\n",
      "data index: 45\n",
      "(533, 4094)\n",
      "data index: 46\n",
      "(572, 4094)\n",
      "data index: 47\n",
      "(518, 4094)\n",
      "data index: 48\n",
      "(546, 4094)\n",
      "data index: 49\n",
      "(549, 4094)\n",
      "data index: 50\n",
      "(543, 4094)\n",
      "data index: 51\n",
      "(532, 4094)\n",
      "data index: 52\n",
      "(540, 4094)\n",
      "data index: 53\n",
      "(523, 4094)\n",
      "data index: 54\n",
      "(522, 4094)\n",
      "data index: 55\n",
      "(560, 4094)\n",
      "data index: 56\n",
      "(534, 4094)\n",
      "data index: 57\n",
      "(527, 4094)\n",
      "data index: 58\n",
      "(527, 4094)\n",
      "[[ 188.1951      188.2601      188.325      ...  440.6714\n",
      "   440.7245      440.7775    ]\n",
      " [ 582.46368715  504.20856611  530.70949721 ... 2177.94599628\n",
      "  1990.0744879  1936.0689013 ]\n",
      " [ 578.02985075  502.67350746  528.0391791  ... 2186.88992537\n",
      "  2002.99253731 1956.69962687]\n",
      " ...\n",
      " [ 556.          487.          554.         ... 2303.\n",
      "  2049.         2113.        ]\n",
      " [ 553.          455.          527.         ... 2421.\n",
      "  2168.         2140.        ]\n",
      " [ 561.          489.          546.         ... 2335.\n",
      "  2033.         2107.        ]]\n"
     ]
    }
   ],
   "source": [
    "\n",
    "#for i in range(0, len(dfs)):\n",
    "for i in range(0, len(dfs)):\n",
    "    df=dfs[i].drop(columns=['Pixels']) \n",
    "    df=df.dropna(axis=1)\n",
    "    data=df.values\n",
    "    #plt.plot(data[0], data[400])\n",
    "    #print(data)\n",
    "    print(\"data index: \" + str(i))\n",
    "    print(data.shape)\n",
    "    s+=len(data)\n",
    "    tmp_y = data[100:,:] #intensities\n",
    "    #y_avg = np.mean(tmp_y, axis=0) #average of intensities\n",
    "    x = np.vstack([x, tmp_y])\n",
    "\n",
    "print(x)    "
   ]
  },
  {
   "cell_type": "code",
   "execution_count": 32,
   "metadata": {},
   "outputs": [
    {
     "data": {
      "text/plain": [
       "(32052, 4094)"
      ]
     },
     "execution_count": 32,
     "metadata": {},
     "output_type": "execute_result"
    }
   ],
   "source": [
    "x.shape"
   ]
  },
  {
   "cell_type": "code",
   "execution_count": 33,
   "metadata": {},
   "outputs": [],
   "source": [
    "np.savetxt(\"data_full.csv\", x, delimiter=\",\", fmt='%f')"
   ]
  },
  {
   "cell_type": "code",
   "execution_count": 10,
   "metadata": {},
   "outputs": [],
   "source": [
    "#x.tofile('foo.csv',sep=',',format='%10.5f')"
   ]
  },
  {
   "cell_type": "code",
   "execution_count": 11,
   "metadata": {},
   "outputs": [
    {
     "data": {
      "text/plain": [
       "'import csv\\n\\n\\nwith open(\"new_file.csv\",\"w+\") as my_csv:\\n    csvWriter = csv.writer(my_csv,delimiter=\\',\\')\\n    csvWriter.writerows(x)'"
      ]
     },
     "execution_count": 11,
     "metadata": {},
     "output_type": "execute_result"
    }
   ],
   "source": [
    "\"\"\"import csv\n",
    "\n",
    "\n",
    "with open(\"new_file.csv\",\"w+\") as my_csv:\n",
    "    csvWriter = csv.writer(my_csv,delimiter=',')\n",
    "    csvWriter.writerows(x)\"\"\""
   ]
  },
  {
   "cell_type": "code",
   "execution_count": 12,
   "metadata": {},
   "outputs": [],
   "source": [
    "\n",
    "#y_avg = np.vstack([x, y_avg36])"
   ]
  },
  {
   "cell_type": "code",
   "execution_count": 13,
   "metadata": {},
   "outputs": [],
   "source": [
    "#print (y_avg)"
   ]
  },
  {
   "cell_type": "code",
   "execution_count": null,
   "metadata": {},
   "outputs": [],
   "source": []
  },
  {
   "cell_type": "code",
   "execution_count": null,
   "metadata": {},
   "outputs": [],
   "source": []
  },
  {
   "cell_type": "code",
   "execution_count": null,
   "metadata": {},
   "outputs": [],
   "source": []
  },
  {
   "cell_type": "code",
   "execution_count": null,
   "metadata": {},
   "outputs": [],
   "source": []
  },
  {
   "cell_type": "code",
   "execution_count": null,
   "metadata": {},
   "outputs": [],
   "source": []
  },
  {
   "cell_type": "code",
   "execution_count": null,
   "metadata": {},
   "outputs": [],
   "source": []
  },
  {
   "cell_type": "code",
   "execution_count": null,
   "metadata": {},
   "outputs": [],
   "source": []
  },
  {
   "cell_type": "code",
   "execution_count": null,
   "metadata": {},
   "outputs": [],
   "source": []
  },
  {
   "cell_type": "code",
   "execution_count": null,
   "metadata": {},
   "outputs": [],
   "source": []
  },
  {
   "cell_type": "code",
   "execution_count": null,
   "metadata": {},
   "outputs": [],
   "source": []
  },
  {
   "cell_type": "code",
   "execution_count": null,
   "metadata": {},
   "outputs": [],
   "source": []
  },
  {
   "cell_type": "code",
   "execution_count": null,
   "metadata": {},
   "outputs": [],
   "source": []
  },
  {
   "cell_type": "code",
   "execution_count": 14,
   "metadata": {},
   "outputs": [
    {
     "data": {
      "text/plain": [
       "\"df = pd.read_csv('./data2/001_B16_Zanardi_QS277us_200Hz_delay1us_exp1ms', sep = '\\t')\\n#print(df)\\n#print(df.dtypes)\\n#print(df.ndim)\\n#df\\n\\ndf1=df.drop(columns=['Pixels'])\\ndf1=df1.dropna(axis=1)\\n#df1\\n\\ndata=df1.values\\nprint(data)\\nplt.plot(data[0], data[200])\""
      ]
     },
     "execution_count": 14,
     "metadata": {},
     "output_type": "execute_result"
    }
   ],
   "source": [
    "\"\"\"df = pd.read_csv('./data2/001_B16_Zanardi_QS277us_200Hz_delay1us_exp1ms', sep = '\\t')\n",
    "#print(df)\n",
    "#print(df.dtypes)\n",
    "#print(df.ndim)\n",
    "#df\n",
    "\n",
    "df1=df.drop(columns=['Pixels'])\n",
    "df1=df1.dropna(axis=1)\n",
    "#df1\n",
    "\n",
    "data=df1.values\n",
    "print(data)\n",
    "plt.plot(data[0], data[200])\"\"\""
   ]
  },
  {
   "cell_type": "code",
   "execution_count": null,
   "metadata": {},
   "outputs": [],
   "source": []
  },
  {
   "cell_type": "code",
   "execution_count": null,
   "metadata": {},
   "outputs": [],
   "source": []
  },
  {
   "cell_type": "code",
   "execution_count": null,
   "metadata": {},
   "outputs": [],
   "source": []
  },
  {
   "cell_type": "code",
   "execution_count": null,
   "metadata": {},
   "outputs": [],
   "source": []
  }
 ],
 "metadata": {
  "kernelspec": {
   "display_name": "Python 3",
   "language": "python",
   "name": "python3"
  },
  "language_info": {
   "codemirror_mode": {
    "name": "ipython",
    "version": 3
   },
   "file_extension": ".py",
   "mimetype": "text/x-python",
   "name": "python",
   "nbconvert_exporter": "python",
   "pygments_lexer": "ipython3",
   "version": "3.7.6"
  }
 },
 "nbformat": 4,
 "nbformat_minor": 2
}
