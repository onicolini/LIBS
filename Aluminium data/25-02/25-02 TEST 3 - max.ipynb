{
 "cells": [
  {
   "cell_type": "markdown",
   "metadata": {},
   "source": [
    "## Intensity filtered data using reference aluminium wavelength 309.506 (pixel number 445) using saturated data\n",
    "\n",
    "### No preprocessing"
   ]
  },
  {
   "cell_type": "code",
   "execution_count": 1,
   "metadata": {},
   "outputs": [],
   "source": [
    "import os\n",
    "from sys import stdout\n",
    "import time\n",
    "\n",
    "import numpy as np\n",
    "import pandas as pd\n",
    "import matplotlib.pyplot as plt\n",
    "import peakutils\n",
    "%matplotlib inline \n",
    "from math import sqrt\n",
    "from scipy.signal import savgol_filter\n",
    "from sklearn.decomposition import PCA \n",
    "from sklearn.preprocessing import StandardScaler, normalize, MinMaxScaler \n",
    "from sklearn.model_selection import train_test_split, RandomizedSearchCV\n",
    "from sklearn.metrics import mean_squared_error, r2_score\n",
    "from sklearn.cross_decomposition import PLSRegression\n",
    "from sklearn.model_selection import cross_val_predict\n",
    "from sklearn import linear_model\n",
    "from sklearn.linear_model import ElasticNet,ElasticNetCV\n",
    "\n",
    "import warnings\n",
    "warnings.filterwarnings('ignore')"
   ]
  },
  {
   "cell_type": "code",
   "execution_count": 2,
   "metadata": {},
   "outputs": [
    {
     "data": {
      "text/plain": [
       "\"   \\n    # Fit a line to the CV vs response\\n    z = np.polyfit(y, y_c, 1)\\n    with plt.style.context(('ggplot')):\\n        fig, ax = plt.subplots(figsize=(9, 5))\\n        ax.scatter(y_c, y, c='red', edgecolors='k')\\n        #Plot the best fit line\\n        ax.plot(np.polyval(z,y), y, c='blue', linewidth=1)\\n        #Plot the ideal 1:1 line\\n        ax.plot(y, y, color='green', linewidth=1)\\n        plt.title('$R^{2}$ (CV): '+str(score_cv))\\n        plt.xlabel('Predicted $^{\\\\circ}$Brix')\\n        plt.ylabel('Measured $^{\\\\circ}$Brix')\\n        plt.show()\\n    return\\n\""
      ]
     },
     "execution_count": 2,
     "metadata": {},
     "output_type": "execute_result"
    }
   ],
   "source": [
    "def optimise_pls_cv(X, y, n_comp, plot_components=True):\n",
    "    '''Run PLS including a variable number of components, up to n_comp,\n",
    "       and calculate MSE '''\n",
    "    mse = []\n",
    "    component = np.arange(1, n_comp)\n",
    "    for i in component:\n",
    "        pls = PLSRegression(n_components=i)\n",
    "        # Cross-validation\n",
    "        y_cv = cross_val_predict(pls, X, y, cv=10)\n",
    "        mse.append(mean_squared_error(y, y_cv))\n",
    "        comp = 100*(i+1)/40\n",
    "        # Trick to update status on the same line\n",
    "        stdout.write(\"\\r%d%% completed\" % comp)\n",
    "        stdout.flush()\n",
    "    stdout.write(\"\\n\")\n",
    "    # Calculate and print the position of minimum in MSE\n",
    "    msemin = np.argmin(mse)\n",
    "    print(\"Suggested number of components: \", msemin+1)\n",
    "    stdout.write(\"\\n\")\n",
    "    if plot_components is True:\n",
    "        with plt.style.context(('ggplot')):\n",
    "            plt.plot(component, np.array(mse), '-v', color = 'blue', mfc='blue')\n",
    "            plt.plot(component[msemin], np.array(mse)[msemin], 'P', ms=10, mfc='red')\n",
    "            plt.xlabel('Number of PLS components')\n",
    "            plt.ylabel('MSE')\n",
    "            plt.title('PLS')\n",
    "            plt.xlim(left=-1)\n",
    "        plt.show()\n",
    "    # Define PLS object with optimal number of components\n",
    "    pls_opt = PLSRegression(n_components=msemin+1)\n",
    "    # Fir to the entire dataset\n",
    "    pls_opt.fit(X, y)\n",
    "    y_c = pls_opt.predict(X)\n",
    "    # Cross-validation\n",
    "    y_cv = cross_val_predict(pls_opt, X, y, cv=10)\n",
    "    # Calculate scores for calibration and cross-validation\n",
    "    score_c = r2_score(y, y_c)\n",
    "    score_cv = r2_score(y, y_cv)\n",
    "    # Calculate mean squared error for calibration and cross validation\n",
    "    mse_c = mean_squared_error(y, y_c)\n",
    "    mse_cv = mean_squared_error(y, y_cv)\n",
    "    print('R2 calib: %5.3f'  % score_c)\n",
    "    print('R2 CV: %5.3f'  % score_cv)\n",
    "    print('MSE calib: %5.3f' % mse_c)\n",
    "    print('MSE CV: %5.3f' % mse_cv)\n",
    "    \n",
    "    return\n",
    "    # Plot regression and figures of merit\n",
    "    rangey = max(y) - min(y)\n",
    "    rangex = max(y_c) - min(y_c)\n",
    "\"\"\"   \n",
    "    # Fit a line to the CV vs response\n",
    "    z = np.polyfit(y, y_c, 1)\n",
    "    with plt.style.context(('ggplot')):\n",
    "        fig, ax = plt.subplots(figsize=(9, 5))\n",
    "        ax.scatter(y_c, y, c='red', edgecolors='k')\n",
    "        #Plot the best fit line\n",
    "        ax.plot(np.polyval(z,y), y, c='blue', linewidth=1)\n",
    "        #Plot the ideal 1:1 line\n",
    "        ax.plot(y, y, color='green', linewidth=1)\n",
    "        plt.title('$R^{2}$ (CV): '+str(score_cv))\n",
    "        plt.xlabel('Predicted $^{\\circ}$Brix')\n",
    "        plt.ylabel('Measured $^{\\circ}$Brix')\n",
    "        plt.show()\n",
    "    return\n",
    "\"\"\" "
   ]
  },
  {
   "cell_type": "code",
   "execution_count": 3,
   "metadata": {},
   "outputs": [],
   "source": [
    "def pls_variable_selection(X, y, max_comp):\n",
    "    \n",
    "    # Define MSE array to be populated\n",
    "    mse = np.zeros((max_comp,X.shape[1]))\n",
    "    # Loop over the number of PLS components\n",
    "    for i in range(max_comp):\n",
    "        \n",
    "        # Regression with specified number of components, using full spectrum\n",
    "        pls1 = PLSRegression(n_components=i+1)\n",
    "        pls1.fit(X, y)\n",
    "        \n",
    "        # Indices of sort spectra according to ascending absolute value of PLS coefficients\n",
    "        sorted_ind = np.argsort(np.abs(pls1.coef_[:,0]))\n",
    "        # Sort spectra accordingly \n",
    "        Xc = X[:,sorted_ind]\n",
    "        # Discard one wavelength at a time of the sorted spectra,\n",
    "        # regress, and calculate the MSE cross-validation\n",
    "        for j in range(Xc.shape[1]-(i+1)):\n",
    "            pls2 = PLSRegression(n_components=i+1)\n",
    "            pls2.fit(Xc[:, j:], y)\n",
    "            \n",
    "            y_cv = cross_val_predict(pls2, Xc[:, j:], y, cv=5)\n",
    "            mse[i,j] = mean_squared_error(y, y_cv)\n",
    "    \n",
    "        comp = 100*(i+1)/(max_comp)\n",
    "        stdout.write(\"\\r%d%% completed\" % comp)\n",
    "        stdout.flush()\n",
    "    stdout.write(\"\\n\")\n",
    "    # # Calculate and print the position of minimum in MSE\n",
    "    mseminx,mseminy = np.where(mse==np.min(mse[np.nonzero(mse)]))\n",
    "    print(\"Optimised number of PLS components: \", mseminx[0]+1)\n",
    "    print(\"Wavelengths to be discarded \",mseminy[0])\n",
    "    print('Optimised MSEP ', mse[mseminx,mseminy][0])\n",
    "    stdout.write(\"\\n\")\n",
    "    # plt.imshow(mse, interpolation=None)\n",
    "    # plt.show()\n",
    "    # Calculate PLS with optimal components and export values\n",
    "    pls = PLSRegression(n_components=mseminx[0]+1)\n",
    "    pls.fit(X, y)\n",
    "        \n",
    "    sorted_ind = np.argsort(np.abs(pls.coef_[:,0]))\n",
    "    Xc = X[:,sorted_ind]\n",
    "    return(Xc[:,mseminy[0]:],mseminx[0]+1,mseminy[0], sorted_ind)"
   ]
  },
  {
   "cell_type": "code",
   "execution_count": 4,
   "metadata": {},
   "outputs": [],
   "source": [
    "def msc(input_data, reference=None):\n",
    "    ''' Perform Multiplicative scatter correction'''\n",
    "    # mean centre correction\n",
    "    for i in range(input_data.shape[0]):\n",
    "        input_data[i,:] -= input_data[i,:].mean()\n",
    "    # Get the reference spectrum. If not given, estimate it from the mean    \n",
    "    if reference is None:    \n",
    "        # Calculate mean\n",
    "        ref = np.mean(input_data, axis=0)\n",
    "    else:\n",
    "        ref = reference\n",
    "    # Define a new array and populate it with the corrected data    \n",
    "    data_msc = np.zeros_like(input_data)\n",
    "    for i in range(input_data.shape[0]):\n",
    "        # Run regression\n",
    "        fit = np.polyfit(ref, input_data[i,:], 1, full=True)\n",
    "        # Apply correction\n",
    "        data_msc[i,:] = (input_data[i,:] - fit[0][1]) / fit[0][0] \n",
    "    return (data_msc, ref)"
   ]
  },
  {
   "cell_type": "code",
   "execution_count": 5,
   "metadata": {},
   "outputs": [],
   "source": [
    "def snv(input_data):\n",
    "  \n",
    "    # Define a new array and populate it with the corrected data  \n",
    "    data_snv = np.zeros_like(input_data)\n",
    "    for i in range(input_data.shape[0]):\n",
    "        # Apply correction\n",
    "        data_snv[i,:] = (input_data[i,:] - np.mean(input_data[i,:])) / np.std(input_data[i,:])\n",
    "    return data_snv"
   ]
  },
  {
   "cell_type": "code",
   "execution_count": 6,
   "metadata": {},
   "outputs": [
    {
     "name": "stdout",
     "output_type": "stream",
     "text": [
      "(24, 1446)\n",
      "(1446,)\n",
      "24\n"
     ]
    },
    {
     "data": {
      "text/html": [
       "<div>\n",
       "<style scoped>\n",
       "    .dataframe tbody tr th:only-of-type {\n",
       "        vertical-align: middle;\n",
       "    }\n",
       "\n",
       "    .dataframe tbody tr th {\n",
       "        vertical-align: top;\n",
       "    }\n",
       "\n",
       "    .dataframe thead th {\n",
       "        text-align: right;\n",
       "    }\n",
       "</style>\n",
       "<table border=\"1\" class=\"dataframe\">\n",
       "  <thead>\n",
       "    <tr style=\"text-align: right;\">\n",
       "      <th></th>\n",
       "      <th>252.071400</th>\n",
       "      <th>252.201700</th>\n",
       "      <th>252.331900</th>\n",
       "      <th>252.462200</th>\n",
       "      <th>252.592400</th>\n",
       "      <th>252.722600</th>\n",
       "      <th>252.852900</th>\n",
       "      <th>252.983100</th>\n",
       "      <th>253.113300</th>\n",
       "      <th>253.243600</th>\n",
       "      <th>...</th>\n",
       "      <th>428.718100</th>\n",
       "      <th>428.828600</th>\n",
       "      <th>428.939000</th>\n",
       "      <th>429.049500</th>\n",
       "      <th>429.159900</th>\n",
       "      <th>429.270300</th>\n",
       "      <th>429.380600</th>\n",
       "      <th>429.491000</th>\n",
       "      <th>429.601300</th>\n",
       "      <th>429.711600</th>\n",
       "    </tr>\n",
       "  </thead>\n",
       "  <tbody>\n",
       "    <tr>\n",
       "      <th>0</th>\n",
       "      <td>-0.000210</td>\n",
       "      <td>-0.000639</td>\n",
       "      <td>-0.001595</td>\n",
       "      <td>0.000643</td>\n",
       "      <td>-0.000213</td>\n",
       "      <td>-0.000232</td>\n",
       "      <td>0.000652</td>\n",
       "      <td>0.001475</td>\n",
       "      <td>0.000393</td>\n",
       "      <td>-0.000785</td>\n",
       "      <td>...</td>\n",
       "      <td>0.002509</td>\n",
       "      <td>0.008653</td>\n",
       "      <td>0.024692</td>\n",
       "      <td>0.018906</td>\n",
       "      <td>0.005324</td>\n",
       "      <td>0.000888</td>\n",
       "      <td>-0.001138</td>\n",
       "      <td>-0.001946</td>\n",
       "      <td>-0.002246</td>\n",
       "      <td>-0.001511</td>\n",
       "    </tr>\n",
       "    <tr>\n",
       "      <th>1</th>\n",
       "      <td>-0.003582</td>\n",
       "      <td>-0.003548</td>\n",
       "      <td>-0.005357</td>\n",
       "      <td>-0.001928</td>\n",
       "      <td>-0.002945</td>\n",
       "      <td>-0.003834</td>\n",
       "      <td>-0.002074</td>\n",
       "      <td>-0.000600</td>\n",
       "      <td>-0.002513</td>\n",
       "      <td>-0.004224</td>\n",
       "      <td>...</td>\n",
       "      <td>0.001011</td>\n",
       "      <td>-0.001870</td>\n",
       "      <td>-0.002708</td>\n",
       "      <td>-0.003080</td>\n",
       "      <td>-0.001640</td>\n",
       "      <td>-0.001307</td>\n",
       "      <td>-0.003694</td>\n",
       "      <td>-0.004383</td>\n",
       "      <td>-0.005476</td>\n",
       "      <td>-0.004697</td>\n",
       "    </tr>\n",
       "    <tr>\n",
       "      <th>2</th>\n",
       "      <td>-0.001252</td>\n",
       "      <td>-0.001949</td>\n",
       "      <td>-0.003586</td>\n",
       "      <td>-0.000612</td>\n",
       "      <td>-0.001683</td>\n",
       "      <td>-0.002172</td>\n",
       "      <td>-0.001338</td>\n",
       "      <td>0.000317</td>\n",
       "      <td>-0.001313</td>\n",
       "      <td>-0.002453</td>\n",
       "      <td>...</td>\n",
       "      <td>0.001313</td>\n",
       "      <td>-0.001102</td>\n",
       "      <td>-0.001349</td>\n",
       "      <td>-0.001639</td>\n",
       "      <td>-0.000058</td>\n",
       "      <td>-0.000298</td>\n",
       "      <td>-0.002150</td>\n",
       "      <td>-0.002768</td>\n",
       "      <td>-0.003169</td>\n",
       "      <td>-0.002796</td>\n",
       "    </tr>\n",
       "    <tr>\n",
       "      <th>3</th>\n",
       "      <td>-0.002206</td>\n",
       "      <td>-0.002580</td>\n",
       "      <td>-0.004170</td>\n",
       "      <td>-0.000779</td>\n",
       "      <td>-0.002323</td>\n",
       "      <td>-0.003121</td>\n",
       "      <td>-0.001756</td>\n",
       "      <td>-0.000261</td>\n",
       "      <td>-0.001784</td>\n",
       "      <td>-0.002994</td>\n",
       "      <td>...</td>\n",
       "      <td>0.000928</td>\n",
       "      <td>-0.001468</td>\n",
       "      <td>-0.001181</td>\n",
       "      <td>-0.001866</td>\n",
       "      <td>-0.000333</td>\n",
       "      <td>-0.001048</td>\n",
       "      <td>-0.003125</td>\n",
       "      <td>-0.003941</td>\n",
       "      <td>-0.004591</td>\n",
       "      <td>-0.003871</td>\n",
       "    </tr>\n",
       "    <tr>\n",
       "      <th>4</th>\n",
       "      <td>0.002338</td>\n",
       "      <td>0.000922</td>\n",
       "      <td>0.000127</td>\n",
       "      <td>0.003164</td>\n",
       "      <td>0.002240</td>\n",
       "      <td>0.003238</td>\n",
       "      <td>0.006202</td>\n",
       "      <td>0.006119</td>\n",
       "      <td>0.002660</td>\n",
       "      <td>-0.000029</td>\n",
       "      <td>...</td>\n",
       "      <td>0.000725</td>\n",
       "      <td>-0.001176</td>\n",
       "      <td>-0.002633</td>\n",
       "      <td>-0.001860</td>\n",
       "      <td>-0.000341</td>\n",
       "      <td>-0.000811</td>\n",
       "      <td>-0.002141</td>\n",
       "      <td>-0.002720</td>\n",
       "      <td>-0.003195</td>\n",
       "      <td>-0.002492</td>\n",
       "    </tr>\n",
       "    <tr>\n",
       "      <th>5</th>\n",
       "      <td>0.002398</td>\n",
       "      <td>0.000480</td>\n",
       "      <td>-0.000197</td>\n",
       "      <td>0.003477</td>\n",
       "      <td>0.002467</td>\n",
       "      <td>0.003134</td>\n",
       "      <td>0.006505</td>\n",
       "      <td>0.005906</td>\n",
       "      <td>0.002064</td>\n",
       "      <td>-0.000281</td>\n",
       "      <td>...</td>\n",
       "      <td>0.000905</td>\n",
       "      <td>-0.000643</td>\n",
       "      <td>-0.000297</td>\n",
       "      <td>-0.000545</td>\n",
       "      <td>-0.000251</td>\n",
       "      <td>-0.000626</td>\n",
       "      <td>-0.002412</td>\n",
       "      <td>-0.002890</td>\n",
       "      <td>-0.003234</td>\n",
       "      <td>-0.002584</td>\n",
       "    </tr>\n",
       "    <tr>\n",
       "      <th>6</th>\n",
       "      <td>-0.001983</td>\n",
       "      <td>-0.002323</td>\n",
       "      <td>-0.004331</td>\n",
       "      <td>-0.000443</td>\n",
       "      <td>-0.001563</td>\n",
       "      <td>-0.002711</td>\n",
       "      <td>-0.001107</td>\n",
       "      <td>-0.000150</td>\n",
       "      <td>-0.002148</td>\n",
       "      <td>-0.003925</td>\n",
       "      <td>...</td>\n",
       "      <td>0.002111</td>\n",
       "      <td>-0.001279</td>\n",
       "      <td>-0.002115</td>\n",
       "      <td>-0.001973</td>\n",
       "      <td>-0.000296</td>\n",
       "      <td>-0.000153</td>\n",
       "      <td>-0.002498</td>\n",
       "      <td>-0.003435</td>\n",
       "      <td>-0.004028</td>\n",
       "      <td>-0.003362</td>\n",
       "    </tr>\n",
       "    <tr>\n",
       "      <th>7</th>\n",
       "      <td>-0.000808</td>\n",
       "      <td>-0.001354</td>\n",
       "      <td>-0.002318</td>\n",
       "      <td>0.000212</td>\n",
       "      <td>-0.001132</td>\n",
       "      <td>-0.001159</td>\n",
       "      <td>-0.000009</td>\n",
       "      <td>0.000732</td>\n",
       "      <td>-0.000541</td>\n",
       "      <td>-0.001857</td>\n",
       "      <td>...</td>\n",
       "      <td>0.001744</td>\n",
       "      <td>-0.000414</td>\n",
       "      <td>-0.000522</td>\n",
       "      <td>-0.000206</td>\n",
       "      <td>0.000420</td>\n",
       "      <td>0.000024</td>\n",
       "      <td>-0.001217</td>\n",
       "      <td>-0.002107</td>\n",
       "      <td>-0.002700</td>\n",
       "      <td>-0.002156</td>\n",
       "    </tr>\n",
       "    <tr>\n",
       "      <th>8</th>\n",
       "      <td>0.001493</td>\n",
       "      <td>0.000257</td>\n",
       "      <td>-0.000365</td>\n",
       "      <td>0.002307</td>\n",
       "      <td>0.001783</td>\n",
       "      <td>0.002369</td>\n",
       "      <td>0.004336</td>\n",
       "      <td>0.004582</td>\n",
       "      <td>0.002373</td>\n",
       "      <td>0.000370</td>\n",
       "      <td>...</td>\n",
       "      <td>0.001869</td>\n",
       "      <td>0.000101</td>\n",
       "      <td>-0.000057</td>\n",
       "      <td>-0.000298</td>\n",
       "      <td>0.000478</td>\n",
       "      <td>0.000392</td>\n",
       "      <td>-0.000645</td>\n",
       "      <td>-0.000707</td>\n",
       "      <td>-0.001332</td>\n",
       "      <td>-0.000616</td>\n",
       "    </tr>\n",
       "    <tr>\n",
       "      <th>9</th>\n",
       "      <td>0.004379</td>\n",
       "      <td>0.002283</td>\n",
       "      <td>0.002047</td>\n",
       "      <td>0.005823</td>\n",
       "      <td>0.005045</td>\n",
       "      <td>0.006563</td>\n",
       "      <td>0.010463</td>\n",
       "      <td>0.009912</td>\n",
       "      <td>0.005186</td>\n",
       "      <td>0.002660</td>\n",
       "      <td>...</td>\n",
       "      <td>0.001314</td>\n",
       "      <td>-0.000403</td>\n",
       "      <td>-0.000953</td>\n",
       "      <td>-0.000941</td>\n",
       "      <td>0.000025</td>\n",
       "      <td>0.000086</td>\n",
       "      <td>-0.000724</td>\n",
       "      <td>-0.001427</td>\n",
       "      <td>-0.001759</td>\n",
       "      <td>-0.001209</td>\n",
       "    </tr>\n",
       "    <tr>\n",
       "      <th>10</th>\n",
       "      <td>0.000945</td>\n",
       "      <td>-0.000086</td>\n",
       "      <td>-0.000912</td>\n",
       "      <td>0.001864</td>\n",
       "      <td>0.000932</td>\n",
       "      <td>0.001343</td>\n",
       "      <td>0.003332</td>\n",
       "      <td>0.003597</td>\n",
       "      <td>0.001378</td>\n",
       "      <td>-0.000211</td>\n",
       "      <td>...</td>\n",
       "      <td>0.003037</td>\n",
       "      <td>0.006789</td>\n",
       "      <td>0.017951</td>\n",
       "      <td>0.015080</td>\n",
       "      <td>0.005025</td>\n",
       "      <td>0.001302</td>\n",
       "      <td>-0.000621</td>\n",
       "      <td>-0.001172</td>\n",
       "      <td>-0.001501</td>\n",
       "      <td>-0.000922</td>\n",
       "    </tr>\n",
       "    <tr>\n",
       "      <th>11</th>\n",
       "      <td>-0.000678</td>\n",
       "      <td>-0.000914</td>\n",
       "      <td>-0.003631</td>\n",
       "      <td>0.000846</td>\n",
       "      <td>-0.001305</td>\n",
       "      <td>-0.001762</td>\n",
       "      <td>0.000438</td>\n",
       "      <td>-0.000045</td>\n",
       "      <td>-0.001101</td>\n",
       "      <td>-0.003345</td>\n",
       "      <td>...</td>\n",
       "      <td>0.002331</td>\n",
       "      <td>-0.000742</td>\n",
       "      <td>0.002055</td>\n",
       "      <td>0.002364</td>\n",
       "      <td>0.000792</td>\n",
       "      <td>-0.000486</td>\n",
       "      <td>-0.001875</td>\n",
       "      <td>-0.002480</td>\n",
       "      <td>-0.003171</td>\n",
       "      <td>-0.002681</td>\n",
       "    </tr>\n",
       "    <tr>\n",
       "      <th>12</th>\n",
       "      <td>0.002564</td>\n",
       "      <td>0.001041</td>\n",
       "      <td>0.000294</td>\n",
       "      <td>0.003355</td>\n",
       "      <td>0.002398</td>\n",
       "      <td>0.003458</td>\n",
       "      <td>0.006295</td>\n",
       "      <td>0.006298</td>\n",
       "      <td>0.002485</td>\n",
       "      <td>0.000184</td>\n",
       "      <td>...</td>\n",
       "      <td>0.000596</td>\n",
       "      <td>-0.001047</td>\n",
       "      <td>-0.001848</td>\n",
       "      <td>-0.001771</td>\n",
       "      <td>-0.000502</td>\n",
       "      <td>-0.000685</td>\n",
       "      <td>-0.002061</td>\n",
       "      <td>-0.002645</td>\n",
       "      <td>-0.002826</td>\n",
       "      <td>-0.002377</td>\n",
       "    </tr>\n",
       "    <tr>\n",
       "      <th>13</th>\n",
       "      <td>0.004029</td>\n",
       "      <td>0.002002</td>\n",
       "      <td>0.001458</td>\n",
       "      <td>0.004928</td>\n",
       "      <td>0.004117</td>\n",
       "      <td>0.005251</td>\n",
       "      <td>0.008354</td>\n",
       "      <td>0.008307</td>\n",
       "      <td>0.004423</td>\n",
       "      <td>0.002050</td>\n",
       "      <td>...</td>\n",
       "      <td>0.000808</td>\n",
       "      <td>-0.000831</td>\n",
       "      <td>-0.001378</td>\n",
       "      <td>-0.001223</td>\n",
       "      <td>0.000028</td>\n",
       "      <td>0.000150</td>\n",
       "      <td>-0.000982</td>\n",
       "      <td>-0.001620</td>\n",
       "      <td>-0.001908</td>\n",
       "      <td>-0.001560</td>\n",
       "    </tr>\n",
       "    <tr>\n",
       "      <th>14</th>\n",
       "      <td>-0.000400</td>\n",
       "      <td>-0.001280</td>\n",
       "      <td>-0.001845</td>\n",
       "      <td>0.000602</td>\n",
       "      <td>-0.000324</td>\n",
       "      <td>-0.000837</td>\n",
       "      <td>0.000595</td>\n",
       "      <td>0.001727</td>\n",
       "      <td>0.000046</td>\n",
       "      <td>-0.000920</td>\n",
       "      <td>...</td>\n",
       "      <td>0.002161</td>\n",
       "      <td>0.002506</td>\n",
       "      <td>0.007779</td>\n",
       "      <td>0.005816</td>\n",
       "      <td>0.002335</td>\n",
       "      <td>0.000812</td>\n",
       "      <td>-0.000839</td>\n",
       "      <td>-0.001346</td>\n",
       "      <td>-0.001975</td>\n",
       "      <td>-0.001373</td>\n",
       "    </tr>\n",
       "    <tr>\n",
       "      <th>15</th>\n",
       "      <td>-0.002184</td>\n",
       "      <td>-0.002303</td>\n",
       "      <td>-0.004372</td>\n",
       "      <td>-0.000707</td>\n",
       "      <td>-0.002326</td>\n",
       "      <td>-0.003478</td>\n",
       "      <td>-0.001751</td>\n",
       "      <td>0.000121</td>\n",
       "      <td>-0.002345</td>\n",
       "      <td>-0.004218</td>\n",
       "      <td>...</td>\n",
       "      <td>0.001272</td>\n",
       "      <td>-0.001902</td>\n",
       "      <td>-0.003330</td>\n",
       "      <td>-0.003087</td>\n",
       "      <td>-0.000920</td>\n",
       "      <td>-0.000652</td>\n",
       "      <td>-0.003418</td>\n",
       "      <td>-0.003629</td>\n",
       "      <td>-0.004677</td>\n",
       "      <td>-0.004188</td>\n",
       "    </tr>\n",
       "    <tr>\n",
       "      <th>16</th>\n",
       "      <td>-0.001664</td>\n",
       "      <td>-0.001969</td>\n",
       "      <td>-0.003037</td>\n",
       "      <td>-0.000656</td>\n",
       "      <td>-0.001431</td>\n",
       "      <td>-0.001545</td>\n",
       "      <td>-0.000415</td>\n",
       "      <td>0.000627</td>\n",
       "      <td>-0.001008</td>\n",
       "      <td>-0.001740</td>\n",
       "      <td>...</td>\n",
       "      <td>0.001242</td>\n",
       "      <td>0.001303</td>\n",
       "      <td>0.004090</td>\n",
       "      <td>0.002771</td>\n",
       "      <td>0.001062</td>\n",
       "      <td>-0.000247</td>\n",
       "      <td>-0.002065</td>\n",
       "      <td>-0.002711</td>\n",
       "      <td>-0.002963</td>\n",
       "      <td>-0.002735</td>\n",
       "    </tr>\n",
       "    <tr>\n",
       "      <th>17</th>\n",
       "      <td>0.002547</td>\n",
       "      <td>0.000970</td>\n",
       "      <td>0.000358</td>\n",
       "      <td>0.003068</td>\n",
       "      <td>0.002634</td>\n",
       "      <td>0.003581</td>\n",
       "      <td>0.006305</td>\n",
       "      <td>0.006509</td>\n",
       "      <td>0.003166</td>\n",
       "      <td>0.001423</td>\n",
       "      <td>...</td>\n",
       "      <td>0.001230</td>\n",
       "      <td>-0.000827</td>\n",
       "      <td>-0.001312</td>\n",
       "      <td>-0.001381</td>\n",
       "      <td>-0.000361</td>\n",
       "      <td>-0.000111</td>\n",
       "      <td>-0.001345</td>\n",
       "      <td>-0.001560</td>\n",
       "      <td>-0.001905</td>\n",
       "      <td>-0.001759</td>\n",
       "    </tr>\n",
       "    <tr>\n",
       "      <th>18</th>\n",
       "      <td>0.002341</td>\n",
       "      <td>0.000699</td>\n",
       "      <td>0.000223</td>\n",
       "      <td>0.003104</td>\n",
       "      <td>0.002452</td>\n",
       "      <td>0.004113</td>\n",
       "      <td>0.007355</td>\n",
       "      <td>0.007009</td>\n",
       "      <td>0.003594</td>\n",
       "      <td>0.001264</td>\n",
       "      <td>...</td>\n",
       "      <td>0.000728</td>\n",
       "      <td>-0.000523</td>\n",
       "      <td>-0.001229</td>\n",
       "      <td>-0.001481</td>\n",
       "      <td>-0.001008</td>\n",
       "      <td>-0.001222</td>\n",
       "      <td>-0.001903</td>\n",
       "      <td>-0.002155</td>\n",
       "      <td>-0.002765</td>\n",
       "      <td>-0.002653</td>\n",
       "    </tr>\n",
       "    <tr>\n",
       "      <th>19</th>\n",
       "      <td>0.004245</td>\n",
       "      <td>0.002127</td>\n",
       "      <td>0.001291</td>\n",
       "      <td>0.004395</td>\n",
       "      <td>0.003397</td>\n",
       "      <td>0.004654</td>\n",
       "      <td>0.007446</td>\n",
       "      <td>0.007334</td>\n",
       "      <td>0.003709</td>\n",
       "      <td>0.001432</td>\n",
       "      <td>...</td>\n",
       "      <td>0.001068</td>\n",
       "      <td>-0.000849</td>\n",
       "      <td>-0.001335</td>\n",
       "      <td>-0.001226</td>\n",
       "      <td>-0.000092</td>\n",
       "      <td>0.000166</td>\n",
       "      <td>-0.000851</td>\n",
       "      <td>-0.001405</td>\n",
       "      <td>-0.002172</td>\n",
       "      <td>-0.001468</td>\n",
       "    </tr>\n",
       "    <tr>\n",
       "      <th>20</th>\n",
       "      <td>-0.000115</td>\n",
       "      <td>-0.001677</td>\n",
       "      <td>-0.001909</td>\n",
       "      <td>0.000929</td>\n",
       "      <td>0.000219</td>\n",
       "      <td>0.000699</td>\n",
       "      <td>0.002777</td>\n",
       "      <td>0.003008</td>\n",
       "      <td>0.000326</td>\n",
       "      <td>-0.001118</td>\n",
       "      <td>...</td>\n",
       "      <td>0.000335</td>\n",
       "      <td>-0.001148</td>\n",
       "      <td>-0.000390</td>\n",
       "      <td>-0.001288</td>\n",
       "      <td>-0.000679</td>\n",
       "      <td>-0.001384</td>\n",
       "      <td>-0.002927</td>\n",
       "      <td>-0.003122</td>\n",
       "      <td>-0.003323</td>\n",
       "      <td>-0.003297</td>\n",
       "    </tr>\n",
       "    <tr>\n",
       "      <th>21</th>\n",
       "      <td>0.001625</td>\n",
       "      <td>0.000119</td>\n",
       "      <td>-0.000904</td>\n",
       "      <td>0.002541</td>\n",
       "      <td>0.001163</td>\n",
       "      <td>0.001736</td>\n",
       "      <td>0.004099</td>\n",
       "      <td>0.004047</td>\n",
       "      <td>0.001227</td>\n",
       "      <td>-0.000410</td>\n",
       "      <td>...</td>\n",
       "      <td>0.000560</td>\n",
       "      <td>-0.000868</td>\n",
       "      <td>-0.000388</td>\n",
       "      <td>-0.000622</td>\n",
       "      <td>-0.000061</td>\n",
       "      <td>-0.000506</td>\n",
       "      <td>-0.002067</td>\n",
       "      <td>-0.002520</td>\n",
       "      <td>-0.002930</td>\n",
       "      <td>-0.002419</td>\n",
       "    </tr>\n",
       "    <tr>\n",
       "      <th>22</th>\n",
       "      <td>0.003500</td>\n",
       "      <td>0.001883</td>\n",
       "      <td>0.000722</td>\n",
       "      <td>0.004329</td>\n",
       "      <td>0.003246</td>\n",
       "      <td>0.004004</td>\n",
       "      <td>0.006617</td>\n",
       "      <td>0.006856</td>\n",
       "      <td>0.003139</td>\n",
       "      <td>0.000369</td>\n",
       "      <td>...</td>\n",
       "      <td>0.001085</td>\n",
       "      <td>-0.001050</td>\n",
       "      <td>-0.001762</td>\n",
       "      <td>-0.001377</td>\n",
       "      <td>0.000023</td>\n",
       "      <td>0.000039</td>\n",
       "      <td>-0.001524</td>\n",
       "      <td>-0.001860</td>\n",
       "      <td>-0.002376</td>\n",
       "      <td>-0.001967</td>\n",
       "    </tr>\n",
       "    <tr>\n",
       "      <th>23</th>\n",
       "      <td>0.003213</td>\n",
       "      <td>0.001486</td>\n",
       "      <td>0.001112</td>\n",
       "      <td>0.004187</td>\n",
       "      <td>0.003461</td>\n",
       "      <td>0.004776</td>\n",
       "      <td>0.007795</td>\n",
       "      <td>0.007236</td>\n",
       "      <td>0.003982</td>\n",
       "      <td>0.001812</td>\n",
       "      <td>...</td>\n",
       "      <td>0.001696</td>\n",
       "      <td>0.000458</td>\n",
       "      <td>-0.000148</td>\n",
       "      <td>-0.000061</td>\n",
       "      <td>0.000771</td>\n",
       "      <td>0.000796</td>\n",
       "      <td>-0.000169</td>\n",
       "      <td>-0.000407</td>\n",
       "      <td>-0.000950</td>\n",
       "      <td>-0.000412</td>\n",
       "    </tr>\n",
       "  </tbody>\n",
       "</table>\n",
       "<p>24 rows × 1446 columns</p>\n",
       "</div>"
      ],
      "text/plain": [
       "    252.071400  252.201700  252.331900  252.462200  252.592400  252.722600  \\\n",
       "0    -0.000210   -0.000639   -0.001595    0.000643   -0.000213   -0.000232   \n",
       "1    -0.003582   -0.003548   -0.005357   -0.001928   -0.002945   -0.003834   \n",
       "2    -0.001252   -0.001949   -0.003586   -0.000612   -0.001683   -0.002172   \n",
       "3    -0.002206   -0.002580   -0.004170   -0.000779   -0.002323   -0.003121   \n",
       "4     0.002338    0.000922    0.000127    0.003164    0.002240    0.003238   \n",
       "5     0.002398    0.000480   -0.000197    0.003477    0.002467    0.003134   \n",
       "6    -0.001983   -0.002323   -0.004331   -0.000443   -0.001563   -0.002711   \n",
       "7    -0.000808   -0.001354   -0.002318    0.000212   -0.001132   -0.001159   \n",
       "8     0.001493    0.000257   -0.000365    0.002307    0.001783    0.002369   \n",
       "9     0.004379    0.002283    0.002047    0.005823    0.005045    0.006563   \n",
       "10    0.000945   -0.000086   -0.000912    0.001864    0.000932    0.001343   \n",
       "11   -0.000678   -0.000914   -0.003631    0.000846   -0.001305   -0.001762   \n",
       "12    0.002564    0.001041    0.000294    0.003355    0.002398    0.003458   \n",
       "13    0.004029    0.002002    0.001458    0.004928    0.004117    0.005251   \n",
       "14   -0.000400   -0.001280   -0.001845    0.000602   -0.000324   -0.000837   \n",
       "15   -0.002184   -0.002303   -0.004372   -0.000707   -0.002326   -0.003478   \n",
       "16   -0.001664   -0.001969   -0.003037   -0.000656   -0.001431   -0.001545   \n",
       "17    0.002547    0.000970    0.000358    0.003068    0.002634    0.003581   \n",
       "18    0.002341    0.000699    0.000223    0.003104    0.002452    0.004113   \n",
       "19    0.004245    0.002127    0.001291    0.004395    0.003397    0.004654   \n",
       "20   -0.000115   -0.001677   -0.001909    0.000929    0.000219    0.000699   \n",
       "21    0.001625    0.000119   -0.000904    0.002541    0.001163    0.001736   \n",
       "22    0.003500    0.001883    0.000722    0.004329    0.003246    0.004004   \n",
       "23    0.003213    0.001486    0.001112    0.004187    0.003461    0.004776   \n",
       "\n",
       "    252.852900  252.983100  253.113300  253.243600  ...  428.718100  \\\n",
       "0     0.000652    0.001475    0.000393   -0.000785  ...    0.002509   \n",
       "1    -0.002074   -0.000600   -0.002513   -0.004224  ...    0.001011   \n",
       "2    -0.001338    0.000317   -0.001313   -0.002453  ...    0.001313   \n",
       "3    -0.001756   -0.000261   -0.001784   -0.002994  ...    0.000928   \n",
       "4     0.006202    0.006119    0.002660   -0.000029  ...    0.000725   \n",
       "5     0.006505    0.005906    0.002064   -0.000281  ...    0.000905   \n",
       "6    -0.001107   -0.000150   -0.002148   -0.003925  ...    0.002111   \n",
       "7    -0.000009    0.000732   -0.000541   -0.001857  ...    0.001744   \n",
       "8     0.004336    0.004582    0.002373    0.000370  ...    0.001869   \n",
       "9     0.010463    0.009912    0.005186    0.002660  ...    0.001314   \n",
       "10    0.003332    0.003597    0.001378   -0.000211  ...    0.003037   \n",
       "11    0.000438   -0.000045   -0.001101   -0.003345  ...    0.002331   \n",
       "12    0.006295    0.006298    0.002485    0.000184  ...    0.000596   \n",
       "13    0.008354    0.008307    0.004423    0.002050  ...    0.000808   \n",
       "14    0.000595    0.001727    0.000046   -0.000920  ...    0.002161   \n",
       "15   -0.001751    0.000121   -0.002345   -0.004218  ...    0.001272   \n",
       "16   -0.000415    0.000627   -0.001008   -0.001740  ...    0.001242   \n",
       "17    0.006305    0.006509    0.003166    0.001423  ...    0.001230   \n",
       "18    0.007355    0.007009    0.003594    0.001264  ...    0.000728   \n",
       "19    0.007446    0.007334    0.003709    0.001432  ...    0.001068   \n",
       "20    0.002777    0.003008    0.000326   -0.001118  ...    0.000335   \n",
       "21    0.004099    0.004047    0.001227   -0.000410  ...    0.000560   \n",
       "22    0.006617    0.006856    0.003139    0.000369  ...    0.001085   \n",
       "23    0.007795    0.007236    0.003982    0.001812  ...    0.001696   \n",
       "\n",
       "    428.828600  428.939000  429.049500  429.159900  429.270300  429.380600  \\\n",
       "0     0.008653    0.024692    0.018906    0.005324    0.000888   -0.001138   \n",
       "1    -0.001870   -0.002708   -0.003080   -0.001640   -0.001307   -0.003694   \n",
       "2    -0.001102   -0.001349   -0.001639   -0.000058   -0.000298   -0.002150   \n",
       "3    -0.001468   -0.001181   -0.001866   -0.000333   -0.001048   -0.003125   \n",
       "4    -0.001176   -0.002633   -0.001860   -0.000341   -0.000811   -0.002141   \n",
       "5    -0.000643   -0.000297   -0.000545   -0.000251   -0.000626   -0.002412   \n",
       "6    -0.001279   -0.002115   -0.001973   -0.000296   -0.000153   -0.002498   \n",
       "7    -0.000414   -0.000522   -0.000206    0.000420    0.000024   -0.001217   \n",
       "8     0.000101   -0.000057   -0.000298    0.000478    0.000392   -0.000645   \n",
       "9    -0.000403   -0.000953   -0.000941    0.000025    0.000086   -0.000724   \n",
       "10    0.006789    0.017951    0.015080    0.005025    0.001302   -0.000621   \n",
       "11   -0.000742    0.002055    0.002364    0.000792   -0.000486   -0.001875   \n",
       "12   -0.001047   -0.001848   -0.001771   -0.000502   -0.000685   -0.002061   \n",
       "13   -0.000831   -0.001378   -0.001223    0.000028    0.000150   -0.000982   \n",
       "14    0.002506    0.007779    0.005816    0.002335    0.000812   -0.000839   \n",
       "15   -0.001902   -0.003330   -0.003087   -0.000920   -0.000652   -0.003418   \n",
       "16    0.001303    0.004090    0.002771    0.001062   -0.000247   -0.002065   \n",
       "17   -0.000827   -0.001312   -0.001381   -0.000361   -0.000111   -0.001345   \n",
       "18   -0.000523   -0.001229   -0.001481   -0.001008   -0.001222   -0.001903   \n",
       "19   -0.000849   -0.001335   -0.001226   -0.000092    0.000166   -0.000851   \n",
       "20   -0.001148   -0.000390   -0.001288   -0.000679   -0.001384   -0.002927   \n",
       "21   -0.000868   -0.000388   -0.000622   -0.000061   -0.000506   -0.002067   \n",
       "22   -0.001050   -0.001762   -0.001377    0.000023    0.000039   -0.001524   \n",
       "23    0.000458   -0.000148   -0.000061    0.000771    0.000796   -0.000169   \n",
       "\n",
       "    429.491000  429.601300  429.711600  \n",
       "0    -0.001946   -0.002246   -0.001511  \n",
       "1    -0.004383   -0.005476   -0.004697  \n",
       "2    -0.002768   -0.003169   -0.002796  \n",
       "3    -0.003941   -0.004591   -0.003871  \n",
       "4    -0.002720   -0.003195   -0.002492  \n",
       "5    -0.002890   -0.003234   -0.002584  \n",
       "6    -0.003435   -0.004028   -0.003362  \n",
       "7    -0.002107   -0.002700   -0.002156  \n",
       "8    -0.000707   -0.001332   -0.000616  \n",
       "9    -0.001427   -0.001759   -0.001209  \n",
       "10   -0.001172   -0.001501   -0.000922  \n",
       "11   -0.002480   -0.003171   -0.002681  \n",
       "12   -0.002645   -0.002826   -0.002377  \n",
       "13   -0.001620   -0.001908   -0.001560  \n",
       "14   -0.001346   -0.001975   -0.001373  \n",
       "15   -0.003629   -0.004677   -0.004188  \n",
       "16   -0.002711   -0.002963   -0.002735  \n",
       "17   -0.001560   -0.001905   -0.001759  \n",
       "18   -0.002155   -0.002765   -0.002653  \n",
       "19   -0.001405   -0.002172   -0.001468  \n",
       "20   -0.003122   -0.003323   -0.003297  \n",
       "21   -0.002520   -0.002930   -0.002419  \n",
       "22   -0.001860   -0.002376   -0.001967  \n",
       "23   -0.000407   -0.000950   -0.000412  \n",
       "\n",
       "[24 rows x 1446 columns]"
      ]
     },
     "execution_count": 6,
     "metadata": {},
     "output_type": "execute_result"
    }
   ],
   "source": [
    "x_df = pd.read_csv('../avg_base_wl_max_25-02.csv', sep = ',')\n",
    "values = x_df.values\n",
    "#wl=x_df.columns.values\n",
    "#print(wl.shape)\n",
    "\n",
    "#print(values)\n",
    "#print(type(values))\n",
    "print(values.shape)\n",
    "print(values[1].shape)\n",
    "print(len(values))\n",
    "x_df"
   ]
  },
  {
   "cell_type": "code",
   "execution_count": 7,
   "metadata": {},
   "outputs": [
    {
     "name": "stdout",
     "output_type": "stream",
     "text": [
      "[252.0714 252.2017 252.3319 ... 429.491  429.6013 429.7116]\n"
     ]
    },
    {
     "data": {
      "image/png": "[encoded data removed]",
      "text/plain": [
       "<Figure size 432x288 with 1 Axes>"
      ]
     },
     "metadata": {
      "needs_background": "light"
     },
     "output_type": "display_data"
    }
   ],
   "source": [
    "#This is just for visualizing the various plots of the samples\n",
    "\n",
    "df = pd.read_csv('../ref_new/1.csv')\n",
    "data=df.values\n",
    "wl= data[0]\n",
    "print(wl)\n",
    "\n",
    "for i in range(len(values)):\n",
    "    plt.plot(wl, data[i,:])\n",
    "    #plt.show() #comment this one to have unique plot instead of multiple ones\n",
    "#range(len(dfs))\n",
    "#\"\"\"\n",
    "\n"
   ]
  },
  {
   "cell_type": "code",
   "execution_count": 8,
   "metadata": {},
   "outputs": [
    {
     "name": "stdout",
     "output_type": "stream",
     "text": [
      "<class 'pandas.core.frame.DataFrame'>\n",
      "(24, 9)\n"
     ]
    },
    {
     "data": {
      "text/html": [
       "<div>\n",
       "<style scoped>\n",
       "    .dataframe tbody tr th:only-of-type {\n",
       "        vertical-align: middle;\n",
       "    }\n",
       "\n",
       "    .dataframe tbody tr th {\n",
       "        vertical-align: top;\n",
       "    }\n",
       "\n",
       "    .dataframe thead th {\n",
       "        text-align: right;\n",
       "    }\n",
       "</style>\n",
       "<table border=\"1\" class=\"dataframe\">\n",
       "  <thead>\n",
       "    <tr style=\"text-align: right;\">\n",
       "      <th></th>\n",
       "      <th>Reference Number</th>\n",
       "      <th>Si</th>\n",
       "      <th>Fe</th>\n",
       "      <th>Mg</th>\n",
       "      <th>Zn</th>\n",
       "      <th>Cu</th>\n",
       "      <th>Mn</th>\n",
       "      <th>Al</th>\n",
       "      <th>Total</th>\n",
       "    </tr>\n",
       "  </thead>\n",
       "  <tbody>\n",
       "    <tr>\n",
       "      <th>0</th>\n",
       "      <td>1</td>\n",
       "      <td>0.185</td>\n",
       "      <td>0.228</td>\n",
       "      <td>2.940</td>\n",
       "      <td>0.0304</td>\n",
       "      <td>0.0620</td>\n",
       "      <td>0.280</td>\n",
       "      <td>96.0000</td>\n",
       "      <td>99.7254</td>\n",
       "    </tr>\n",
       "    <tr>\n",
       "      <th>1</th>\n",
       "      <td>2</td>\n",
       "      <td>0.360</td>\n",
       "      <td>0.600</td>\n",
       "      <td>1.100</td>\n",
       "      <td>0.0700</td>\n",
       "      <td>0.2000</td>\n",
       "      <td>0.830</td>\n",
       "      <td>96.5787</td>\n",
       "      <td>99.7387</td>\n",
       "    </tr>\n",
       "    <tr>\n",
       "      <th>2</th>\n",
       "      <td>3</td>\n",
       "      <td>9.140</td>\n",
       "      <td>1.010</td>\n",
       "      <td>0.200</td>\n",
       "      <td>0.4200</td>\n",
       "      <td>3.6000</td>\n",
       "      <td>0.410</td>\n",
       "      <td>84.7770</td>\n",
       "      <td>99.5570</td>\n",
       "    </tr>\n",
       "    <tr>\n",
       "      <th>3</th>\n",
       "      <td>4</td>\n",
       "      <td>8.565</td>\n",
       "      <td>0.000</td>\n",
       "      <td>0.293</td>\n",
       "      <td>0.8870</td>\n",
       "      <td>2.6360</td>\n",
       "      <td>0.330</td>\n",
       "      <td>86.5650</td>\n",
       "      <td>99.2760</td>\n",
       "    </tr>\n",
       "    <tr>\n",
       "      <th>4</th>\n",
       "      <td>5</td>\n",
       "      <td>9.500</td>\n",
       "      <td>0.000</td>\n",
       "      <td>0.391</td>\n",
       "      <td>0.0000</td>\n",
       "      <td>0.0580</td>\n",
       "      <td>0.016</td>\n",
       "      <td>90.0210</td>\n",
       "      <td>99.9860</td>\n",
       "    </tr>\n",
       "    <tr>\n",
       "      <th>5</th>\n",
       "      <td>6</td>\n",
       "      <td>7.220</td>\n",
       "      <td>0.140</td>\n",
       "      <td>0.360</td>\n",
       "      <td>0.0840</td>\n",
       "      <td>0.1200</td>\n",
       "      <td>0.053</td>\n",
       "      <td>91.8090</td>\n",
       "      <td>99.7860</td>\n",
       "    </tr>\n",
       "    <tr>\n",
       "      <th>6</th>\n",
       "      <td>7</td>\n",
       "      <td>7.460</td>\n",
       "      <td>0.530</td>\n",
       "      <td>0.036</td>\n",
       "      <td>0.1400</td>\n",
       "      <td>0.1500</td>\n",
       "      <td>0.100</td>\n",
       "      <td>91.4140</td>\n",
       "      <td>99.8300</td>\n",
       "    </tr>\n",
       "    <tr>\n",
       "      <th>7</th>\n",
       "      <td>8</td>\n",
       "      <td>12.900</td>\n",
       "      <td>0.120</td>\n",
       "      <td>0.520</td>\n",
       "      <td>0.1550</td>\n",
       "      <td>0.5200</td>\n",
       "      <td>0.286</td>\n",
       "      <td>84.7905</td>\n",
       "      <td>99.2915</td>\n",
       "    </tr>\n",
       "    <tr>\n",
       "      <th>8</th>\n",
       "      <td>9</td>\n",
       "      <td>8.750</td>\n",
       "      <td>0.460</td>\n",
       "      <td>1.710</td>\n",
       "      <td>0.0290</td>\n",
       "      <td>2.0000</td>\n",
       "      <td>0.056</td>\n",
       "      <td>85.3100</td>\n",
       "      <td>98.3150</td>\n",
       "    </tr>\n",
       "    <tr>\n",
       "      <th>9</th>\n",
       "      <td>10</td>\n",
       "      <td>0.260</td>\n",
       "      <td>0.420</td>\n",
       "      <td>1.260</td>\n",
       "      <td>0.0200</td>\n",
       "      <td>0.0040</td>\n",
       "      <td>1.160</td>\n",
       "      <td>96.8346</td>\n",
       "      <td>99.9586</td>\n",
       "    </tr>\n",
       "    <tr>\n",
       "      <th>10</th>\n",
       "      <td>11</td>\n",
       "      <td>0.070</td>\n",
       "      <td>0.100</td>\n",
       "      <td>0.410</td>\n",
       "      <td>0.1800</td>\n",
       "      <td>0.0600</td>\n",
       "      <td>1.450</td>\n",
       "      <td>97.6000</td>\n",
       "      <td>99.8700</td>\n",
       "    </tr>\n",
       "    <tr>\n",
       "      <th>11</th>\n",
       "      <td>12</td>\n",
       "      <td>0.160</td>\n",
       "      <td>0.310</td>\n",
       "      <td>0.880</td>\n",
       "      <td>0.1000</td>\n",
       "      <td>0.1100</td>\n",
       "      <td>1.140</td>\n",
       "      <td>97.1500</td>\n",
       "      <td>99.8500</td>\n",
       "    </tr>\n",
       "    <tr>\n",
       "      <th>12</th>\n",
       "      <td>13</td>\n",
       "      <td>6.120</td>\n",
       "      <td>0.000</td>\n",
       "      <td>0.320</td>\n",
       "      <td>0.0000</td>\n",
       "      <td>0.0054</td>\n",
       "      <td>0.016</td>\n",
       "      <td>93.5352</td>\n",
       "      <td>99.9966</td>\n",
       "    </tr>\n",
       "    <tr>\n",
       "      <th>13</th>\n",
       "      <td>14</td>\n",
       "      <td>12.530</td>\n",
       "      <td>0.310</td>\n",
       "      <td>0.025</td>\n",
       "      <td>0.0500</td>\n",
       "      <td>0.0560</td>\n",
       "      <td>0.033</td>\n",
       "      <td>86.8180</td>\n",
       "      <td>99.8220</td>\n",
       "    </tr>\n",
       "    <tr>\n",
       "      <th>14</th>\n",
       "      <td>15</td>\n",
       "      <td>0.530</td>\n",
       "      <td>0.230</td>\n",
       "      <td>0.770</td>\n",
       "      <td>0.0310</td>\n",
       "      <td>0.0060</td>\n",
       "      <td>0.024</td>\n",
       "      <td>98.3881</td>\n",
       "      <td>99.9791</td>\n",
       "    </tr>\n",
       "    <tr>\n",
       "      <th>15</th>\n",
       "      <td>16</td>\n",
       "      <td>0.160</td>\n",
       "      <td>0.200</td>\n",
       "      <td>4.540</td>\n",
       "      <td>0.0520</td>\n",
       "      <td>0.0500</td>\n",
       "      <td>0.380</td>\n",
       "      <td>94.5340</td>\n",
       "      <td>99.9160</td>\n",
       "    </tr>\n",
       "    <tr>\n",
       "      <th>16</th>\n",
       "      <td>17</td>\n",
       "      <td>3.000</td>\n",
       "      <td>0.795</td>\n",
       "      <td>0.570</td>\n",
       "      <td>0.1540</td>\n",
       "      <td>4.2900</td>\n",
       "      <td>0.037</td>\n",
       "      <td>90.4640</td>\n",
       "      <td>99.3100</td>\n",
       "    </tr>\n",
       "    <tr>\n",
       "      <th>17</th>\n",
       "      <td>18</td>\n",
       "      <td>9.460</td>\n",
       "      <td>1.190</td>\n",
       "      <td>0.390</td>\n",
       "      <td>0.1600</td>\n",
       "      <td>3.1000</td>\n",
       "      <td>0.260</td>\n",
       "      <td>84.8070</td>\n",
       "      <td>99.3670</td>\n",
       "    </tr>\n",
       "    <tr>\n",
       "      <th>18</th>\n",
       "      <td>19</td>\n",
       "      <td>0.530</td>\n",
       "      <td>0.180</td>\n",
       "      <td>3.570</td>\n",
       "      <td>5.0600</td>\n",
       "      <td>1.9000</td>\n",
       "      <td>0.130</td>\n",
       "      <td>88.2100</td>\n",
       "      <td>99.5800</td>\n",
       "    </tr>\n",
       "    <tr>\n",
       "      <th>19</th>\n",
       "      <td>24</td>\n",
       "      <td>9.190</td>\n",
       "      <td>0.000</td>\n",
       "      <td>0.339</td>\n",
       "      <td>0.0000</td>\n",
       "      <td>0.0057</td>\n",
       "      <td>0.008</td>\n",
       "      <td>90.4538</td>\n",
       "      <td>99.9965</td>\n",
       "    </tr>\n",
       "    <tr>\n",
       "      <th>20</th>\n",
       "      <td>25</td>\n",
       "      <td>6.160</td>\n",
       "      <td>0.000</td>\n",
       "      <td>0.363</td>\n",
       "      <td>0.0000</td>\n",
       "      <td>0.0060</td>\n",
       "      <td>0.206</td>\n",
       "      <td>93.2574</td>\n",
       "      <td>99.9924</td>\n",
       "    </tr>\n",
       "    <tr>\n",
       "      <th>21</th>\n",
       "      <td>26</td>\n",
       "      <td>0.180</td>\n",
       "      <td>0.205</td>\n",
       "      <td>2.480</td>\n",
       "      <td>5.4400</td>\n",
       "      <td>1.6000</td>\n",
       "      <td>0.079</td>\n",
       "      <td>89.8430</td>\n",
       "      <td>99.8270</td>\n",
       "    </tr>\n",
       "    <tr>\n",
       "      <th>22</th>\n",
       "      <td>28</td>\n",
       "      <td>0.180</td>\n",
       "      <td>0.500</td>\n",
       "      <td>1.110</td>\n",
       "      <td>0.0520</td>\n",
       "      <td>0.1500</td>\n",
       "      <td>1.260</td>\n",
       "      <td>96.7210</td>\n",
       "      <td>99.9730</td>\n",
       "    </tr>\n",
       "    <tr>\n",
       "      <th>23</th>\n",
       "      <td>29</td>\n",
       "      <td>0.180</td>\n",
       "      <td>0.350</td>\n",
       "      <td>2.030</td>\n",
       "      <td>6.0800</td>\n",
       "      <td>1.3500</td>\n",
       "      <td>0.450</td>\n",
       "      <td>89.3900</td>\n",
       "      <td>99.8300</td>\n",
       "    </tr>\n",
       "  </tbody>\n",
       "</table>\n",
       "</div>"
      ],
      "text/plain": [
       "    Reference Number      Si     Fe     Mg      Zn      Cu     Mn       Al  \\\n",
       "0                  1   0.185  0.228  2.940  0.0304  0.0620  0.280  96.0000   \n",
       "1                  2   0.360  0.600  1.100  0.0700  0.2000  0.830  96.5787   \n",
       "2                  3   9.140  1.010  0.200  0.4200  3.6000  0.410  84.7770   \n",
       "3                  4   8.565  0.000  0.293  0.8870  2.6360  0.330  86.5650   \n",
       "4                  5   9.500  0.000  0.391  0.0000  0.0580  0.016  90.0210   \n",
       "5                  6   7.220  0.140  0.360  0.0840  0.1200  0.053  91.8090   \n",
       "6                  7   7.460  0.530  0.036  0.1400  0.1500  0.100  91.4140   \n",
       "7                  8  12.900  0.120  0.520  0.1550  0.5200  0.286  84.7905   \n",
       "8                  9   8.750  0.460  1.710  0.0290  2.0000  0.056  85.3100   \n",
       "9                 10   0.260  0.420  1.260  0.0200  0.0040  1.160  96.8346   \n",
       "10                11   0.070  0.100  0.410  0.1800  0.0600  1.450  97.6000   \n",
       "11                12   0.160  0.310  0.880  0.1000  0.1100  1.140  97.1500   \n",
       "12                13   6.120  0.000  0.320  0.0000  0.0054  0.016  93.5352   \n",
       "13                14  12.530  0.310  0.025  0.0500  0.0560  0.033  86.8180   \n",
       "14                15   0.530  0.230  0.770  0.0310  0.0060  0.024  98.3881   \n",
       "15                16   0.160  0.200  4.540  0.0520  0.0500  0.380  94.5340   \n",
       "16                17   3.000  0.795  0.570  0.1540  4.2900  0.037  90.4640   \n",
       "17                18   9.460  1.190  0.390  0.1600  3.1000  0.260  84.8070   \n",
       "18                19   0.530  0.180  3.570  5.0600  1.9000  0.130  88.2100   \n",
       "19                24   9.190  0.000  0.339  0.0000  0.0057  0.008  90.4538   \n",
       "20                25   6.160  0.000  0.363  0.0000  0.0060  0.206  93.2574   \n",
       "21                26   0.180  0.205  2.480  5.4400  1.6000  0.079  89.8430   \n",
       "22                28   0.180  0.500  1.110  0.0520  0.1500  1.260  96.7210   \n",
       "23                29   0.180  0.350  2.030  6.0800  1.3500  0.450  89.3900   \n",
       "\n",
       "      Total  \n",
       "0   99.7254  \n",
       "1   99.7387  \n",
       "2   99.5570  \n",
       "3   99.2760  \n",
       "4   99.9860  \n",
       "5   99.7860  \n",
       "6   99.8300  \n",
       "7   99.2915  \n",
       "8   98.3150  \n",
       "9   99.9586  \n",
       "10  99.8700  \n",
       "11  99.8500  \n",
       "12  99.9966  \n",
       "13  99.8220  \n",
       "14  99.9791  \n",
       "15  99.9160  \n",
       "16  99.3100  \n",
       "17  99.3670  \n",
       "18  99.5800  \n",
       "19  99.9965  \n",
       "20  99.9924  \n",
       "21  99.8270  \n",
       "22  99.9730  \n",
       "23  99.8300  "
      ]
     },
     "execution_count": 8,
     "metadata": {},
     "output_type": "execute_result"
    }
   ],
   "source": [
    "df_y = pd.read_csv('../concentration_1.csv', sep = ',')\n",
    "print(type(df_y))\n",
    "concentration=df_y.values\n",
    "print(concentration.shape)\n",
    "#print(concentration)\n",
    "\n",
    "y_values=df_y.values\n",
    "y_all=pd.DataFrame(y_values[:,1:-2])\n",
    "#print(y_all)\n",
    "df_y"
   ]
  },
  {
   "cell_type": "code",
   "execution_count": 9,
   "metadata": {
    "scrolled": true
   },
   "outputs": [
    {
     "name": "stdout",
     "output_type": "stream",
     "text": [
      "[2.94  1.1   0.2   0.293 0.391 0.36  0.036 0.52  1.71  1.26  0.41  0.88\n",
      " 0.32  0.025 0.77  4.54  0.57  0.39  3.57  0.339 0.363 2.48  1.11  2.03 ]\n",
      "(24,)\n"
     ]
    }
   ],
   "source": [
    "y_val = concentration[:,3] #1-Si, 2-Fe, 3-Mg, 5-Cu, 6-Mn (4-Zn but too much sparse)\n",
    "print(y_val)\n",
    "print(y_val.shape)\n",
    "y_df= pd.DataFrame(y_val)\n",
    "#y_df"
   ]
  },
  {
   "cell_type": "code",
   "execution_count": null,
   "metadata": {},
   "outputs": [],
   "source": []
  },
  {
   "cell_type": "code",
   "execution_count": 10,
   "metadata": {},
   "outputs": [
    {
     "name": "stdout",
     "output_type": "stream",
     "text": [
      "(19, 1446) (19, 1)\n",
      "(5, 1446) (5, 1)\n",
      "       0\n",
      "7   0.52\n",
      "22  1.11\n",
      "9   1.26\n",
      "8   1.71\n",
      "1   1.10\n"
     ]
    }
   ],
   "source": [
    "X_train, X_test, y_train, y_test = train_test_split(x_df, y_df, test_size=0.2)\n",
    "print (X_train.shape, y_train.shape)\n",
    "print (X_test.shape, y_test.shape)\n",
    "print(y_test)"
   ]
  },
  {
   "cell_type": "code",
   "execution_count": null,
   "metadata": {},
   "outputs": [],
   "source": []
  },
  {
   "cell_type": "markdown",
   "metadata": {},
   "source": [
    "# Principal Components Analysis"
   ]
  },
  {
   "cell_type": "code",
   "execution_count": 11,
   "metadata": {},
   "outputs": [
    {
     "name": "stdout",
     "output_type": "stream",
     "text": [
      "(24, 1446)\n",
      "(1446,)\n",
      "24\n",
      "(24, 20)\n",
      "[32.16 58.34 69.76 79.23 85.78 89.43 91.66 93.69 95.11 96.32 97.1  97.7\n",
      " 98.23 98.57 98.83 99.08 99.28 99.46 99.61 99.75]\n"
     ]
    }
   ],
   "source": [
    "n_components=20\n",
    "\n",
    "\n",
    "x = x_df.values\n",
    "print(x.shape)\n",
    "print(x[1].shape)\n",
    "print(len(x))\n",
    "\n",
    "\n",
    "# This has to be used later for regression, PCA is done on X only\n",
    "\"\"\"\n",
    "y_df = pd.read_csv('labels_aligned+.csv', sep = ',')\n",
    "concentration=y_df.values\n",
    "#print(concentration)\n",
    "multi_y = concentration[:,2:]\n",
    "#print (multi_y)\n",
    "print (multi_y.shape)\n",
    "multi_y= np.array(multi_y, dtype=np.float)\n",
    "y=np.around(multi_y, decimals=4)\n",
    "#print(y)\n",
    "\"\"\"\n",
    "\n",
    "# PCA\n",
    "\n",
    "X_std = StandardScaler().fit_transform(x)\n",
    "#print(X_std)\n",
    "\n",
    "pca = PCA(n_components= n_components)\n",
    "PC=pca.fit(X_std)\n",
    "\n",
    "principalComponents = pca.fit_transform(X_std)\n",
    "print(principalComponents.shape)\n",
    "#principalDf = pd.DataFrame(data = principalComponents, columns = ['principal component 1', 'principal component 2', 'principal component 3'])\n",
    "#print(principalDf)\n",
    "\n",
    "\n",
    "#print(pca.explained_variance_ratio_)\n",
    "print(np.cumsum(np.round(pca.explained_variance_ratio_, decimals=4)*100))\n",
    "#print(pca.singular_values_)"
   ]
  },
  {
   "cell_type": "code",
   "execution_count": 12,
   "metadata": {},
   "outputs": [
    {
     "name": "stdout",
     "output_type": "stream",
     "text": [
      "0.9848340523115449 -15.14649505941636\n",
      "0.020707936081303502 22.046798162306988\n"
     ]
    }
   ],
   "source": [
    "regr = linear_model.LinearRegression()\n",
    "# Fit\n",
    "regr.fit(principalComponents, y_df)\n",
    "# Calibration\n",
    "y_c = regr.predict(principalComponents)\n",
    "# Cross-validation\n",
    "y_cv = cross_val_predict(regr, principalComponents, y_df, cv=10)\n",
    "# Calculate scores for calibration and cross-validation\n",
    "score_c = r2_score(y_df, y_c)\n",
    "score_cv = r2_score(y_df, y_cv)\n",
    "# Calculate mean square error for calibration and cross validation\n",
    "\n",
    "mse_c = mean_squared_error(y_df, y_c)\n",
    "mse_cv = mean_squared_error(y_df, y_cv)\n",
    "\n",
    "print(score_c, score_cv)\n",
    "print(mse_c, mse_cv)"
   ]
  },
  {
   "cell_type": "markdown",
   "metadata": {},
   "source": [
    "now using PCA with Linear regression and PLS"
   ]
  },
  {
   "cell_type": "code",
   "execution_count": 13,
   "metadata": {},
   "outputs": [
    {
     "name": "stdout",
     "output_type": "stream",
     "text": [
      "(19, 1446)\n",
      "(1446,)\n",
      "19\n",
      "(19, 15)\n",
      "[31.39 57.97 69.86 78.68 86.   90.19 92.52 94.59 95.99 97.29 97.94 98.58\n",
      " 98.98 99.31 99.55]\n"
     ]
    }
   ],
   "source": [
    "n_components=15\n",
    "\n",
    "x = X_train.values\n",
    "x_t = X_test.values\n",
    "print(x.shape)\n",
    "print(x[1].shape)\n",
    "print(len(x))\n",
    "\n",
    "\n",
    "# This has to be used later for regression, PCA is done on X only\n",
    "\"\"\"\n",
    "y_df = pd.read_csv('labels_aligned+.csv', sep = ',')\n",
    "concentration=y_df.values\n",
    "#print(concentration)\n",
    "multi_y = concentration[:,2:]\n",
    "#print (multi_y)\n",
    "print (multi_y.shape)\n",
    "multi_y= np.array(multi_y, dtype=np.float)\n",
    "y=np.around(multi_y, decimals=4)\n",
    "#print(y)\n",
    "\"\"\"\n",
    "\n",
    "# PCA\n",
    "\n",
    "X_std = StandardScaler().fit_transform(x)\n",
    "X_std_test = StandardScaler().fit_transform(x_t)\n",
    "#print(X_std)\n",
    "\n",
    "pca = PCA(n_components= n_components)\n",
    "PC=pca.fit(X_std)\n",
    "\n",
    "x_pc = pca.fit_transform(X_std)\n",
    "x_test1 = pca.transform(X_std_test)\n",
    "print(x_pc.shape)\n",
    "#principalDf = pd.DataFrame(data = principalComponents, columns = ['principal component 1', 'principal component 2', 'principal component 3'])\n",
    "#print(principalDf)\n",
    "\n",
    "\n",
    "#print(pca.explained_variance_ratio_)\n",
    "print(np.cumsum(np.round(pca.explained_variance_ratio_, decimals=4)*100))"
   ]
  },
  {
   "cell_type": "code",
   "execution_count": 14,
   "metadata": {},
   "outputs": [
    {
     "name": "stdout",
     "output_type": "stream",
     "text": [
      "R2_pred:  -2.140162453328776\n",
      "MSE:  2.221136886011957\n"
     ]
    }
   ],
   "source": [
    "regr = linear_model.LinearRegression()\n",
    "# Fit\n",
    "regr.fit(x_pc, y_train)\n",
    "# Calibration\n",
    "y_p = regr.predict(x_test1)\n",
    "# Cross-validation\n",
    "#y_cv = cross_val_predict(regr, principalComponents, y_df, cv=10)\n",
    "# Calculate scores for calibration and cross-validation\n",
    "score_c = r2_score(y_test, y_p)\n",
    "#score_cv = r2_score(y_df, y_cv)\n",
    "# Calculate mean square error for calibration and cross validation\n",
    "mse_c = mean_squared_error(y_test, y_p)\n",
    "#mse_cv = mean_squared_error(y_df, y_cv)\n",
    "\n",
    "print(\"R2_pred: \", score_c)\n",
    "print(\"MSE: \", mse_c)"
   ]
  },
  {
   "cell_type": "code",
   "execution_count": 15,
   "metadata": {},
   "outputs": [
    {
     "name": "stdout",
     "output_type": "stream",
     "text": [
      "37% completed\n",
      "Suggested number of components:  1\n",
      "\n"
     ]
    },
    {
     "data": {
      "image/png": "[encoded data removed]",
      "text/plain": [
       "<Figure size 432x288 with 1 Axes>"
      ]
     },
     "metadata": {},
     "output_type": "display_data"
    },
    {
     "name": "stdout",
     "output_type": "stream",
     "text": [
      "R2 calib: 0.842\n",
      "R2 CV: -0.248\n",
      "MSE calib: 0.243\n",
      "MSE CV: 1.919\n"
     ]
    }
   ],
   "source": [
    "optimise_pls_cv(x_pc, y_train, 15, plot_components=True) "
   ]
  },
  {
   "cell_type": "code",
   "execution_count": 16,
   "metadata": {},
   "outputs": [
    {
     "name": "stdout",
     "output_type": "stream",
     "text": [
      "R2_pred:  -2.140162453328775\n",
      "MSE:  2.2211368860119567\n"
     ]
    }
   ],
   "source": [
    "pls = PLSRegression(n_components=3)\n",
    "# Fit\n",
    "pls.fit(x_pc, y_train)\n",
    "# Calibration\n",
    "y_c = pls.predict(x_test1)\n",
    "# Cross-validation\n",
    "#y_cv = cross_val_predict(regr, principalComponents, y_df, cv=10)\n",
    "# Calculate scores for calibration and cross-validation\n",
    "score_c = r2_score(y_test, y_c)\n",
    "#score_cv = r2_score(y_df, y_cv)\n",
    "# Calculate mean square error for calibration and cross validation\n",
    "mse_c = mean_squared_error(y_test, y_c)\n",
    "#mse_cv = mean_squared_error(y_df, y_cv)\n",
    "\n",
    "print(\"R2_pred: \", score_c)\n",
    "print(\"MSE: \", mse_c)"
   ]
  },
  {
   "cell_type": "markdown",
   "metadata": {},
   "source": [
    "# Linear Regression\n",
    "this is ordinary least square regression"
   ]
  },
  {
   "cell_type": "code",
   "execution_count": 17,
   "metadata": {},
   "outputs": [
    {
     "name": "stdout",
     "output_type": "stream",
     "text": [
      "R^2_pred:  -2.6374479331473597\n",
      "RMSE:  1.6040208039353228 \n",
      "\n",
      "[real, predictions]\n",
      "[[ 2.48        0.62521473]\n",
      " [ 0.77       -0.68450134]\n",
      " [ 1.71        2.41707274]\n",
      " [ 0.293       2.9009344 ]\n",
      " [ 0.39        0.47565905]]\n"
     ]
    },
    {
     "data": {
      "image/png": "[encoded data removed]",
      "text/plain": [
       "<Figure size 432x288 with 1 Axes>"
      ]
     },
     "metadata": {
      "needs_background": "light"
     },
     "output_type": "display_data"
    }
   ],
   "source": [
    "lm = linear_model.LinearRegression()\n",
    "model = lm.fit(X_train, y_train)\n",
    "predictions = lm.predict(X_test)\n",
    "\n",
    "\n",
    "rmse = sqrt(mean_squared_error(y_test, predictions))\n",
    "r2 = r2_score(y_test, predictions)\n",
    "print(\"R^2_pred: \", r2)\n",
    "print(\"RMSE: \", rmse, \"\\n\")\n",
    "\n",
    "\n",
    "b=np.append(y_test, predictions, axis=1)\n",
    "\n",
    "print(\"[real, predictions]\")\n",
    "print(b)\n",
    "\n",
    "plt.scatter(y_test, predictions)\n",
    "plt.xlabel('True Values')\n",
    "plt.ylabel('Predictions')\n",
    "plt.grid(True)\n",
    "plt.show()"
   ]
  },
  {
   "cell_type": "markdown",
   "metadata": {},
   "source": [
    "# Partial Least Square Regression"
   ]
  },
  {
   "cell_type": "markdown",
   "metadata": {},
   "source": [
    "## No preprocessing"
   ]
  },
  {
   "cell_type": "code",
   "execution_count": 18,
   "metadata": {},
   "outputs": [
    {
     "name": "stdout",
     "output_type": "stream",
     "text": [
      "(19, 1446) (19, 1)\n",
      "(5, 1446) (5, 1)\n"
     ]
    },
    {
     "data": {
      "text/html": [
       "<div>\n",
       "<style scoped>\n",
       "    .dataframe tbody tr th:only-of-type {\n",
       "        vertical-align: middle;\n",
       "    }\n",
       "\n",
       "    .dataframe tbody tr th {\n",
       "        vertical-align: top;\n",
       "    }\n",
       "\n",
       "    .dataframe thead th {\n",
       "        text-align: right;\n",
       "    }\n",
       "</style>\n",
       "<table border=\"1\" class=\"dataframe\">\n",
       "  <thead>\n",
       "    <tr style=\"text-align: right;\">\n",
       "      <th></th>\n",
       "      <th>0</th>\n",
       "    </tr>\n",
       "  </thead>\n",
       "  <tbody>\n",
       "    <tr>\n",
       "      <th>17</th>\n",
       "      <td>0.390</td>\n",
       "    </tr>\n",
       "    <tr>\n",
       "      <th>11</th>\n",
       "      <td>0.880</td>\n",
       "    </tr>\n",
       "    <tr>\n",
       "      <th>13</th>\n",
       "      <td>0.025</td>\n",
       "    </tr>\n",
       "    <tr>\n",
       "      <th>8</th>\n",
       "      <td>1.710</td>\n",
       "    </tr>\n",
       "    <tr>\n",
       "      <th>0</th>\n",
       "      <td>2.940</td>\n",
       "    </tr>\n",
       "  </tbody>\n",
       "</table>\n",
       "</div>"
      ],
      "text/plain": [
       "        0\n",
       "17  0.390\n",
       "11  0.880\n",
       "13  0.025\n",
       "8   1.710\n",
       "0   2.940"
      ]
     },
     "execution_count": 18,
     "metadata": {},
     "output_type": "execute_result"
    }
   ],
   "source": [
    "X_train, X_test, y_train, y_test = train_test_split(x_df, y_df, test_size=0.2)\n",
    "print (X_train.shape, y_train.shape)\n",
    "print (X_test.shape, y_test.shape)\n",
    "#print(X_test)\n",
    "y_test"
   ]
  },
  {
   "cell_type": "code",
   "execution_count": 19,
   "metadata": {},
   "outputs": [
    {
     "name": "stdout",
     "output_type": "stream",
     "text": [
      "100% completed\n",
      "Suggested number of components:  3\n",
      "\n"
     ]
    },
    {
     "data": {
      "image/png": "[encoded data removed]",
      "text/plain": [
       "<Figure size 432x288 with 1 Axes>"
      ]
     },
     "metadata": {},
     "output_type": "display_data"
    },
    {
     "name": "stdout",
     "output_type": "stream",
     "text": [
      "R2 calib: 0.631\n",
      "R2 CV: -0.024\n",
      "MSE calib: 0.504\n",
      "MSE CV: 1.399\n"
     ]
    }
   ],
   "source": [
    "optimise_pls_cv(x_df, y_df, 40, plot_components=True)\n",
    "#optimise_pls_cv(x_df, y_all, 40, plot_components=True)"
   ]
  },
  {
   "cell_type": "code",
   "execution_count": 20,
   "metadata": {},
   "outputs": [
    {
     "name": "stdout",
     "output_type": "stream",
     "text": [
      "R^2_cv -0.024341247548550493\n",
      "MSE:  1.3986592539696938\n"
     ]
    }
   ],
   "source": [
    "# Define PLS object\n",
    "pls = PLSRegression(n_components=3)\n",
    "# Fit\n",
    "pls.fit(x_df, y_df)\n",
    "# Cross-validation\n",
    "y_cv = cross_val_predict(pls, x_df, y_df, cv=10)\n",
    "# Calculate scores\n",
    "score = r2_score(y_df, y_cv)\n",
    "mse = mean_squared_error(y_df, y_cv)\n",
    "\n",
    "print(\"R^2_cv\", score)\n",
    "print(\"MSE: \", mse)"
   ]
  },
  {
   "cell_type": "code",
   "execution_count": 21,
   "metadata": {},
   "outputs": [
    {
     "name": "stdout",
     "output_type": "stream",
     "text": [
      "100% completed\n",
      "Suggested number of components:  3\n",
      "\n"
     ]
    },
    {
     "data": {
      "image/png": "[encoded data removed]",
      "text/plain": [
       "<Figure size 432x288 with 1 Axes>"
      ]
     },
     "metadata": {},
     "output_type": "display_data"
    },
    {
     "name": "stdout",
     "output_type": "stream",
     "text": [
      "R2 calib: 0.647\n",
      "R2 CV: -0.182\n",
      "MSE calib: 0.507\n",
      "MSE CV: 1.699\n"
     ]
    }
   ],
   "source": [
    "optimise_pls_cv(X_train,y_train, 40, plot_components=True)"
   ]
  },
  {
   "cell_type": "code",
   "execution_count": 22,
   "metadata": {},
   "outputs": [
    {
     "name": "stdout",
     "output_type": "stream",
     "text": [
      "R2_pred:  -0.5557076082817476\n",
      "R2_cv:  -0.1821699646165642\n",
      "\n",
      "TEST\n",
      " [real, predictions]\n",
      "[[ 0.39        0.81840809]\n",
      " [ 0.88        2.65767874]\n",
      " [ 0.025      -0.90659475]\n",
      " [ 1.71        0.78481889]\n",
      " [ 2.94        1.10312556]]\n",
      "\n"
     ]
    },
    {
     "data": {
      "image/png": "[encoded data removed]",
      "text/plain": [
       "<Figure size 432x288 with 1 Axes>"
      ]
     },
     "metadata": {
      "needs_background": "light"
     },
     "output_type": "display_data"
    }
   ],
   "source": [
    "# Define PLS object\n",
    "pls = PLSRegression(n_components=3)\n",
    "# Fit\n",
    "pls.fit(X_train, y_train)\n",
    "# Cross-validation\n",
    "y_pred = pls.predict(X_test)\n",
    "y_pred1 = pls.predict(X_train)\n",
    "\n",
    "# Cross-validation\n",
    "y_cv = cross_val_predict(pls, X_train, y_train, cv=10)\n",
    "\n",
    "# Calculate scores for calibration and cross-validation\n",
    "score_pred = r2_score(y_test, y_pred)\n",
    "score_cv = r2_score(y_train, y_cv)\n",
    "\n",
    "print(\"R2_pred: \", score_pred)\n",
    "print(\"R2_cv: \",score_cv)\n",
    "print(\"\")\n",
    "\n",
    "b=np.append(y_test, y_pred, axis=1)\n",
    "\n",
    "print(\"TEST\\n [real, predictions]\")\n",
    "print(b)\n",
    "print(\"\")\n",
    "\n",
    "c=np.append(y_train, y_pred1, axis=1)\n",
    "\n",
    "#print(\"TRAIN\\n [real, predictions]\")\n",
    "#print(c)\n",
    "\n",
    "plt.scatter(y_test, y_pred)\n",
    "plt.scatter(y_train, y_pred1)\n",
    "plt.xlabel('True Values')\n",
    "plt.ylabel('Predictions')\n",
    "plt.grid(True)\n",
    "plt.show()"
   ]
  },
  {
   "cell_type": "code",
   "execution_count": 23,
   "metadata": {},
   "outputs": [
    {
     "name": "stdout",
     "output_type": "stream",
     "text": [
      "(1446,)\n"
     ]
    }
   ],
   "source": [
    "print(wl.shape)"
   ]
  },
  {
   "cell_type": "markdown",
   "metadata": {},
   "source": [
    "## Wavelenght selection for PLS"
   ]
  },
  {
   "cell_type": "code",
   "execution_count": 11,
   "metadata": {
    "scrolled": true
   },
   "outputs": [
    {
     "name": "stdout",
     "output_type": "stream",
     "text": [
      "100% completed\n",
      "Optimised number of PLS components:  12\n",
      "Wavelengths to be discarded  1394\n",
      "Optimised MSEP  0.32360208506318905\n",
      "\n",
      "--- 423.05475068092346 seconds ---\n"
     ]
    }
   ],
   "source": [
    "start_time = time.time()\n",
    "\n",
    "opt_Xc, ncomp, wav, sorted_ind = pls_variable_selection(x_df.values, y_val, 15)\n",
    "\n",
    "print(\"--- %s seconds ---\" % (time.time() - start_time))"
   ]
  },
  {
   "cell_type": "code",
   "execution_count": 12,
   "metadata": {},
   "outputs": [
    {
     "name": "stdout",
     "output_type": "stream",
     "text": [
      "sorted wavelengths:  [280.7512 395.324  371.7441 315.1039 280.622  342.6533 379.8041 256.1076\n",
      " 376.6857 304.5289]\n"
     ]
    },
    {
     "data": {
      "image/png": "[encoded data removed]",
      "text/plain": [
       "<Figure size 432x288 with 1 Axes>"
      ]
     },
     "metadata": {
      "needs_background": "light"
     },
     "output_type": "display_data"
    }
   ],
   "source": [
    "#print(opt_Xc.shape,\"\\n\")\n",
    "#print(\"sorted indexes: \", sorted_ind)\n",
    "print(\"sorted wavelengths: \", wl[sorted_ind[:10]].T)\n",
    "\n",
    "plt.plot(opt_Xc.T)\n",
    "plt.show()"
   ]
  },
  {
   "cell_type": "code",
   "execution_count": 13,
   "metadata": {},
   "outputs": [
    {
     "name": "stdout",
     "output_type": "stream",
     "text": [
      "(19, 52) (19, 1)\n",
      "(5, 52) (5, 1)\n",
      "        0\n",
      "17  0.390\n",
      "3   0.293\n",
      "13  0.025\n",
      "21  2.480\n",
      "12  0.320\n"
     ]
    }
   ],
   "source": [
    "X_train, X_test, y_train, y_test = train_test_split(opt_Xc, y_df, test_size=0.2, random_state = 16) #seed for Mg = 3, 16\n",
    "#X_train, X_test, y_train, y_test = train_test_split(opt_Xc, y_df, test_size=0.2, random_state = 7) #seed for Si = 7\n",
    "#X_train, X_test, y_train, y_test = train_test_split(opt_Xc, y_df, test_size=0.2, random_state = 16) #seed for Cu =16\n",
    "#X_train, X_test, y_train, y_test = train_test_split(opt_Xc, y_df, test_size=0.2, random_state = 7) #seed for Fe =7\n",
    "#X_train, X_test, y_train, y_test = train_test_split(opt_Xc, y_df, test_size=0.2, random_state = 3) #seed for Mn = 3\n",
    "\n",
    "#X_train, X_test, y_train, y_test = train_test_split(opt_Xc, y_df, test_size=0.2)\n",
    "print (X_train.shape, y_train.shape)\n",
    "print (X_test.shape, y_test.shape)\n",
    "print(y_test)"
   ]
  },
  {
   "cell_type": "code",
   "execution_count": 45,
   "metadata": {},
   "outputs": [],
   "source": [
    "#optimise_pls_cv(X_train,y_train, 3, plot_components=True)"
   ]
  },
  {
   "cell_type": "code",
   "execution_count": 14,
   "metadata": {},
   "outputs": [
    {
     "name": "stdout",
     "output_type": "stream",
     "text": [
      "R2_pred:  0.8994043277614364\n",
      "RMSE:  0.28475139161864554\n",
      "\n"
     ]
    },
    {
     "data": {
      "image/png": "[encoded data removed]",
      "text/plain": [
       "<Figure size 720x504 with 1 Axes>"
      ]
     },
     "metadata": {
      "needs_background": "light"
     },
     "output_type": "display_data"
    }
   ],
   "source": [
    "# Define PLS object\n",
    "pls = PLSRegression(n_components=14)\n",
    "# Fit\n",
    "pls.fit(X_train, y_train)\n",
    "\n",
    "y_pred = pls.predict(X_test)\n",
    "y_pred1 = pls.predict(X_train)\n",
    "\n",
    "# Calculate score and error\n",
    "r2 = r2_score(y_test, y_pred)\n",
    "rmse = sqrt(mean_squared_error(y_test, y_pred))\n",
    "\n",
    "\n",
    "print(\"R2_pred: \", r2)\n",
    "print(\"RMSE: \", rmse)\n",
    "#print(\"R2_cv: \",score_cv)\n",
    "print(\"\")\n",
    "\n",
    "\n",
    "c=np.append(y_train, y_pred1, axis=1)\n",
    "\n",
    "#print(\"TRAIN\\n [real, predictions]\")\n",
    "#print(c)\n",
    "\n",
    "plt.figure(figsize=(10,7))\n",
    "plt.scatter(y_test, y_pred)\n",
    "plt.scatter(y_train, y_pred1)\n",
    "plt.plot( y_test, linear_model.LinearRegression().fit(y_test, y_pred).predict(y_test) )\n",
    "plt.xlabel('True Values')\n",
    "plt.ylabel('Predictions')\n",
    "plt.grid(True)\n",
    "plt.show()"
   ]
  },
  {
   "cell_type": "markdown",
   "metadata": {},
   "source": [
    "## Using Normalization"
   ]
  },
  {
   "cell_type": "code",
   "execution_count": 15,
   "metadata": {},
   "outputs": [
    {
     "name": "stdout",
     "output_type": "stream",
     "text": [
      "(19, 52)\n",
      "(5, 52)\n"
     ]
    }
   ],
   "source": [
    "Xn_train = normalize(X_train, axis=1)\n",
    "Xn_test = normalize(X_test, axis=1)\n",
    "print(Xn_train.shape)\n",
    "print(Xn_test.shape)"
   ]
  },
  {
   "cell_type": "code",
   "execution_count": 16,
   "metadata": {},
   "outputs": [
    {
     "data": {
      "image/png": "[encoded data removed]",
      "text/plain": [
       "<Figure size 432x288 with 1 Axes>"
      ]
     },
     "metadata": {
      "needs_background": "light"
     },
     "output_type": "display_data"
    }
   ],
   "source": [
    "plt.plot(Xn_train.T)\n",
    "plt.show()"
   ]
  },
  {
   "cell_type": "code",
   "execution_count": 17,
   "metadata": {},
   "outputs": [],
   "source": [
    "#optimise_pls_cv(Xn_train,y_train, 40, plot_components=True)\n",
    "#optimise_pls_cv(Xn_train,y_train, 7, plot_components=True)"
   ]
  },
  {
   "cell_type": "code",
   "execution_count": 18,
   "metadata": {},
   "outputs": [
    {
     "name": "stdout",
     "output_type": "stream",
     "text": [
      "R2_pred:  0.9624481273417763\n",
      "RMSE:  0.1739770675546142\n",
      "\n",
      "TEST\n",
      " [real, predictions]\n",
      "[[0.39       0.26671506]\n",
      " [0.293      0.04295978]\n",
      " [0.025      0.24602268]\n",
      " [2.48       2.45965012]\n",
      " [0.32       0.47606302]]\n",
      "\n"
     ]
    },
    {
     "data": {
      "image/png": "[encoded data removed]",
      "text/plain": [
       "<Figure size 720x504 with 1 Axes>"
      ]
     },
     "metadata": {
      "needs_background": "light"
     },
     "output_type": "display_data"
    }
   ],
   "source": [
    "# Define PLS object\n",
    "pls = PLSRegression(n_components=14)\n",
    "# Fit\n",
    "pls.fit(Xn_train, y_train)\n",
    "\n",
    "y_pred = pls.predict(Xn_test)\n",
    "y_pred1 = pls.predict(Xn_train)\n",
    "\n",
    "# Calculate score and error\n",
    "r2 = r2_score(y_test, y_pred)\n",
    "rmse = sqrt(mean_squared_error(y_test, y_pred))\n",
    "\n",
    "\n",
    "print(\"R2_pred: \", r2)\n",
    "print(\"RMSE: \", rmse)\n",
    "#print(\"R2_cv: \",score_cv)\n",
    "print(\"\")\n",
    "\n",
    "\n",
    "b=np.append(y_test, y_pred, axis=1)\n",
    "\n",
    "print(\"TEST\\n [real, predictions]\")\n",
    "print(b)\n",
    "print(\"\")\n",
    "\n",
    "c=np.append(y_train, y_pred1, axis=1)\n",
    "\n",
    "#print(\"TRAIN\\n [real, predictions]\")\n",
    "#print(c)\n",
    "\n",
    "plt.figure(figsize=(10,7))\n",
    "plt.scatter(y_test, y_pred)\n",
    "plt.scatter(y_train, y_pred1)\n",
    "plt.plot( y_test, linear_model.LinearRegression().fit(y_test, y_pred).predict(y_test) )\n",
    "plt.xlabel('True Values')\n",
    "plt.ylabel('Predictions')\n",
    "plt.grid(True)\n",
    "plt.show()"
   ]
  },
  {
   "cell_type": "markdown",
   "metadata": {},
   "source": [
    "## Using SNV"
   ]
  },
  {
   "cell_type": "code",
   "execution_count": 19,
   "metadata": {},
   "outputs": [
    {
     "name": "stdout",
     "output_type": "stream",
     "text": [
      "(19, 52)\n",
      "(5, 52)\n"
     ]
    }
   ],
   "source": [
    "Xs_train = snv(X_train)\n",
    "Xs_test = snv(X_test)\n",
    "print(Xs_train.shape)\n",
    "print(Xs_test.shape)\n",
    "\n",
    "#optimise_pls_cv(Xn_train,y_train, 40, plot_components=True)\n",
    "#optimise_pls_cv(Xs_train,y_train, 7, plot_components=True)"
   ]
  },
  {
   "cell_type": "code",
   "execution_count": 20,
   "metadata": {},
   "outputs": [
    {
     "data": {
      "image/png": "[encoded data removed]",
      "text/plain": [
       "<Figure size 432x288 with 1 Axes>"
      ]
     },
     "metadata": {
      "needs_background": "light"
     },
     "output_type": "display_data"
    }
   ],
   "source": [
    "plt.plot(Xs_train.T)\n",
    "plt.show()"
   ]
  },
  {
   "cell_type": "code",
   "execution_count": 21,
   "metadata": {},
   "outputs": [
    {
     "name": "stdout",
     "output_type": "stream",
     "text": [
      "R2_pred:  0.7337784935099232\n",
      "RMSE:  0.4632311703808058\n",
      "\n",
      "TEST\n",
      " [real, predictions]\n",
      "[[ 0.39        1.05525065]\n",
      " [ 0.293       0.08200967]\n",
      " [ 0.025      -0.36700629]\n",
      " [ 2.48        1.87249228]\n",
      " [ 0.32        0.57120844]]\n",
      "\n"
     ]
    },
    {
     "data": {
      "image/png": "[encoded data removed]",
      "text/plain": [
       "<Figure size 720x504 with 1 Axes>"
      ]
     },
     "metadata": {
      "needs_background": "light"
     },
     "output_type": "display_data"
    }
   ],
   "source": [
    "# Define PLS object\n",
    "pls = PLSRegression(n_components=14)\n",
    "# Fit\n",
    "pls.fit(Xs_train, y_train)\n",
    "\n",
    "y_pred = pls.predict(Xs_test)\n",
    "y_pred1 = pls.predict(Xs_train)\n",
    "\n",
    "# Calculate score and error\n",
    "r2 = r2_score(y_test, y_pred)\n",
    "rmse = sqrt(mean_squared_error(y_test, y_pred))\n",
    "\n",
    "\n",
    "print(\"R2_pred: \", r2)\n",
    "print(\"RMSE: \", rmse)\n",
    "#print(\"R2_cv: \",score_cv)\n",
    "print(\"\")\n",
    "\n",
    "\n",
    "b=np.append(y_test, y_pred, axis=1)\n",
    "\n",
    "print(\"TEST\\n [real, predictions]\")\n",
    "print(b)\n",
    "print(\"\")\n",
    "\n",
    "c=np.append(y_train, y_pred1, axis=1)\n",
    "\n",
    "#print(\"TRAIN\\n [real, predictions]\")\n",
    "#print(c)\n",
    "\n",
    "plt.figure(figsize=(10,7))\n",
    "plt.scatter(y_test, y_pred)\n",
    "plt.scatter(y_train, y_pred1)\n",
    "plt.plot( y_test, linear_model.LinearRegression().fit(y_test, y_pred).predict(y_test) )\n",
    "plt.xlabel('True Values')\n",
    "plt.ylabel('Predictions')\n",
    "plt.grid(True)\n",
    "plt.show()"
   ]
  },
  {
   "cell_type": "code",
   "execution_count": null,
   "metadata": {},
   "outputs": [],
   "source": []
  },
  {
   "cell_type": "markdown",
   "metadata": {},
   "source": [
    "## Using Max-norm"
   ]
  },
  {
   "cell_type": "code",
   "execution_count": 31,
   "metadata": {},
   "outputs": [],
   "source": [
    "Xm_train = X_train / np.max(X_train)\n",
    "Xm_test = X_test / np.max(X_test)\n",
    "\n",
    "#optimise_pls_cv(Xn_train,y_train, 40, plot_components=True)\n",
    "#optimise_pls_cv(Xm_train,y_train, 15, plot_components=True)"
   ]
  },
  {
   "cell_type": "code",
   "execution_count": 32,
   "metadata": {},
   "outputs": [
    {
     "data": {
      "image/png": "[encoded data removed]",
      "text/plain": [
       "<Figure size 432x288 with 1 Axes>"
      ]
     },
     "metadata": {
      "needs_background": "light"
     },
     "output_type": "display_data"
    }
   ],
   "source": [
    "plt.plot(Xm_train.T)\n",
    "plt.show()"
   ]
  },
  {
   "cell_type": "code",
   "execution_count": 33,
   "metadata": {},
   "outputs": [
    {
     "name": "stdout",
     "output_type": "stream",
     "text": [
      "R2_pred:  0.810167118191902\n",
      "RMSE:  0.39116674571010823\n",
      "\n",
      "TEST\n",
      " [real, predictions]\n",
      "[[0.39       0.59636215]\n",
      " [0.293      0.26496094]\n",
      " [0.025      0.79523029]\n",
      " [2.48       2.54457715]\n",
      " [0.32       0.67250629]]\n",
      "\n"
     ]
    },
    {
     "data": {
      "image/png": "[encoded data removed]",
      "text/plain": [
       "<Figure size 720x504 with 1 Axes>"
      ]
     },
     "metadata": {
      "needs_background": "light"
     },
     "output_type": "display_data"
    }
   ],
   "source": [
    "# Define PLS object\n",
    "pls = PLSRegression(n_components=14)\n",
    "# Fit\n",
    "pls.fit(Xm_train, y_train)\n",
    "\n",
    "y_pred = pls.predict(Xm_test)\n",
    "y_pred1 = pls.predict(Xm_train)\n",
    "\n",
    "# Calculate score and error\n",
    "r2 = r2_score(y_test, y_pred)\n",
    "rmse = sqrt(mean_squared_error(y_test, y_pred))\n",
    "\n",
    "\n",
    "print(\"R2_pred: \", r2)\n",
    "print(\"RMSE: \", rmse)\n",
    "#print(\"R2_cv: \",score_cv)\n",
    "print(\"\")\n",
    "\n",
    "b=np.append(y_test, y_pred, axis=1)\n",
    "\n",
    "print(\"TEST\\n [real, predictions]\")\n",
    "print(b)\n",
    "print(\"\")\n",
    "\n",
    "c=np.append(y_train, y_pred1, axis=1)\n",
    "\n",
    "#print(\"TRAIN\\n [real, predictions]\")\n",
    "#print(c)\n",
    "\n",
    "plt.figure(figsize=(10,7))\n",
    "plt.scatter(y_test, y_pred)\n",
    "plt.scatter(y_train, y_pred1)\n",
    "plt.plot( y_test, linear_model.LinearRegression().fit(y_test, y_pred).predict(y_test) )\n",
    "plt.xlabel('True Values')\n",
    "plt.ylabel('Predictions')\n",
    "plt.grid(True)\n",
    "plt.show()"
   ]
  },
  {
   "cell_type": "code",
   "execution_count": null,
   "metadata": {},
   "outputs": [],
   "source": []
  },
  {
   "cell_type": "code",
   "execution_count": null,
   "metadata": {},
   "outputs": [],
   "source": []
  },
  {
   "cell_type": "code",
   "execution_count": null,
   "metadata": {},
   "outputs": [],
   "source": []
  },
  {
   "cell_type": "markdown",
   "metadata": {},
   "source": [
    "## Using Savgol filter"
   ]
  },
  {
   "cell_type": "code",
   "execution_count": 45,
   "metadata": {},
   "outputs": [
    {
     "name": "stdout",
     "output_type": "stream",
     "text": [
      "(19, 1446) (19, 1)\n",
      "(5, 1446) (5, 1)\n"
     ]
    }
   ],
   "source": [
    "X_train, X_test, y_train, y_test = train_test_split(x_df, y_df, test_size=0.2)\n",
    "print (X_train.shape, y_train.shape)\n",
    "print (X_test.shape, y_test.shape)\n",
    "#print(X_test)"
   ]
  },
  {
   "cell_type": "code",
   "execution_count": 46,
   "metadata": {},
   "outputs": [
    {
     "data": {
      "image/png": "[encoded data removed]",
      "text/plain": [
       "<Figure size 576x324 with 1 Axes>"
      ]
     },
     "metadata": {
      "needs_background": "light"
     },
     "output_type": "display_data"
    },
    {
     "name": "stdout",
     "output_type": "stream",
     "text": [
      "100% completed\n",
      "Suggested number of components:  2\n",
      "\n"
     ]
    },
    {
     "data": {
      "image/png": "[encoded data removed]",
      "text/plain": [
       "<Figure size 432x288 with 1 Axes>"
      ]
     },
     "metadata": {},
     "output_type": "display_data"
    },
    {
     "name": "stdout",
     "output_type": "stream",
     "text": [
      "R2 calib: 0.379\n",
      "R2 CV: -0.167\n",
      "MSE calib: 0.060\n",
      "MSE CV: 0.114\n"
     ]
    }
   ],
   "source": [
    "# Calculate second derivative\n",
    "X2 = savgol_filter(x_df, 101, polyorder = 6,deriv=0) # Is this useful with LIBS spectra???\n",
    "# Plot second derivative\n",
    "plt.figure(figsize=(8,4.5))\n",
    "with plt.style.context(('ggplot')):\n",
    "    plt.plot(range(len(X2.T)), X2.T)\n",
    "    plt.xlabel('Wavelength (nm)')\n",
    "    plt.ylabel('D2 Intensity')\n",
    "    plt.show()\n",
    "    \n",
    "    \n",
    "X2_1 = msc(X2)[0]\n",
    "    \n",
    "optimise_pls_cv(X2_1, y_df, 40, plot_components=True)"
   ]
  },
  {
   "cell_type": "code",
   "execution_count": 47,
   "metadata": {},
   "outputs": [
    {
     "name": "stdout",
     "output_type": "stream",
     "text": [
      "100% completed\n",
      "Suggested number of components:  1\n",
      "\n"
     ]
    },
    {
     "data": {
      "image/png": "[encoded data removed]",
      "text/plain": [
       "<Figure size 432x288 with 1 Axes>"
      ]
     },
     "metadata": {},
     "output_type": "display_data"
    },
    {
     "name": "stdout",
     "output_type": "stream",
     "text": [
      "R2 calib: 0.371\n",
      "R2 CV: -0.416\n",
      "MSE calib: 0.068\n",
      "MSE CV: 0.154\n"
     ]
    }
   ],
   "source": [
    "X2_train = savgol_filter(X_train, 37, polyorder = 4,deriv=1) \n",
    "X2_test = savgol_filter(X_test, 35, polyorder = 4,deriv=1) \n",
    "\n",
    "\n",
    "\n",
    "\n",
    "optimise_pls_cv(X2_train, y_train, 40, plot_components=True)"
   ]
  },
  {
   "cell_type": "code",
   "execution_count": 48,
   "metadata": {},
   "outputs": [
    {
     "name": "stdout",
     "output_type": "stream",
     "text": [
      "R2_pred:  -4.753078554158901\n",
      "R2_cv:  -2.2141918711061606\n",
      "\n",
      "[real, predictions]\n",
      "[[0.2        0.11137006]\n",
      " [0.53       0.65583142]\n",
      " [0.         0.92409265]\n",
      " [0.1        0.33074561]\n",
      " [0.14       0.19440714]]\n"
     ]
    },
    {
     "data": {
      "image/png": "[encoded data removed]",
      "text/plain": [
       "<Figure size 432x288 with 1 Axes>"
      ]
     },
     "metadata": {
      "needs_background": "light"
     },
     "output_type": "display_data"
    }
   ],
   "source": [
    "# Define PLS object\n",
    "pls = PLSRegression(n_components=4)\n",
    "# Fit\n",
    "pls.fit(X2_train, y_train)\n",
    "\n",
    "y_pred = pls.predict(X2_test)\n",
    "\n",
    "# Cross-validation\n",
    "y_cv = cross_val_predict(pls, X2_train, y_train, cv=10)\n",
    "\n",
    "# Calculate scores for calibration and cross-validation\n",
    "score_pred = r2_score(y_test, y_pred)\n",
    "score_cv = r2_score(y_train, y_cv)\n",
    "\n",
    "print(\"R2_pred: \", score_pred)\n",
    "print(\"R2_cv: \",score_cv)\n",
    "print(\"\")\n",
    "\n",
    "b=np.append(y_test, y_pred, axis=1)\n",
    "\n",
    "print(\"[real, predictions]\")\n",
    "print(b)\n",
    "\n",
    "plt.scatter(y_test, y_pred)\n",
    "plt.xlabel('True Values')\n",
    "plt.ylabel('Predictions')\n",
    "plt.grid(True)\n",
    "plt.show()"
   ]
  },
  {
   "cell_type": "code",
   "execution_count": null,
   "metadata": {},
   "outputs": [],
   "source": []
  },
  {
   "cell_type": "markdown",
   "metadata": {},
   "source": [
    "# Elastic Net"
   ]
  },
  {
   "cell_type": "code",
   "execution_count": 49,
   "metadata": {},
   "outputs": [],
   "source": [
    "alphas = [0.0001, 0.001, 0.01, 0.1, 0.3, 0.5, 0.7, 1]"
   ]
  },
  {
   "cell_type": "code",
   "execution_count": 50,
   "metadata": {},
   "outputs": [
    {
     "name": "stdout",
     "output_type": "stream",
     "text": [
      "Alpha:0.0001, R2:0.31, MSE:2.86, RMSE:1.69\n",
      "Alpha:0.0010, R2:0.06, MSE:2.69, RMSE:1.64\n",
      "Alpha:0.0100, R2:0.00, MSE:2.67, RMSE:1.63\n",
      "Alpha:0.1000, R2:0.00, MSE:2.67, RMSE:1.63\n",
      "Alpha:0.3000, R2:0.00, MSE:2.67, RMSE:1.63\n",
      "Alpha:0.5000, R2:0.00, MSE:2.67, RMSE:1.63\n",
      "Alpha:0.7000, R2:0.00, MSE:2.67, RMSE:1.63\n",
      "Alpha:1.0000, R2:0.00, MSE:2.67, RMSE:1.63\n"
     ]
    }
   ],
   "source": [
    "for a in alphas:\n",
    "    model = ElasticNet(alpha=a).fit(X_train,y_train)   \n",
    "    score = model.score(X_train, y_train)\n",
    "    pred_y = model.predict(X_test)\n",
    "    mse = mean_squared_error(y_test, pred_y)   \n",
    "    print(\"Alpha:{0:.4f}, R2:{1:.2f}, MSE:{2:.2f}, RMSE:{3:.2f}\".format(a, score, mse, np.sqrt(mse)))"
   ]
  },
  {
   "cell_type": "code",
   "execution_count": 53,
   "metadata": {
    "scrolled": true
   },
   "outputs": [
    {
     "name": "stdout",
     "output_type": "stream",
     "text": [
      "Train score:  0.30735234558204294\n",
      "RMSE:  1.692288364509511\n",
      "R^2:  -0.14336631154891522\n"
     ]
    }
   ],
   "source": [
    "model = ElasticNet(alpha=0.0001).fit(X_train,y_train)   \n",
    "score = model.score(X_train, y_train)\n",
    "print(\"Train score: \", score)\n",
    "pred_y = model.predict(X_test)\n",
    "\n",
    "\n",
    "rmse = sqrt(mean_squared_error(y_test, pred_y))\n",
    "r2 = r2_score(y_test, pred_y)\n",
    "print(\"RMSE: \", rmse)\n",
    "print(\"R^2: \", r2)"
   ]
  },
  {
   "cell_type": "code",
   "execution_count": 52,
   "metadata": {},
   "outputs": [
    {
     "data": {
      "image/png": "[encoded data removed]",
      "text/plain": [
       "<Figure size 432x288 with 1 Axes>"
      ]
     },
     "metadata": {
      "needs_background": "light"
     },
     "output_type": "display_data"
    }
   ],
   "source": [
    "plt.scatter(y_test, y_pred)\n",
    "plt.xlabel('True Values')\n",
    "plt.ylabel('Predictions')\n",
    "plt.grid(True)\n",
    "plt.show()"
   ]
  },
  {
   "cell_type": "code",
   "execution_count": null,
   "metadata": {},
   "outputs": [],
   "source": []
  },
  {
   "cell_type": "markdown",
   "metadata": {},
   "source": [
    "# Random Forest"
   ]
  },
  {
   "cell_type": "code",
   "execution_count": 24,
   "metadata": {},
   "outputs": [
    {
     "name": "stdout",
     "output_type": "stream",
     "text": [
      "(20, 20) (20, 1)\n",
      "(4, 20) (4, 1)\n"
     ]
    }
   ],
   "source": [
    "#X_train, X_test, y_train, y_test = train_test_split(x_df, y_df, test_size=0.15)\n",
    "X_train, X_test, y_train, y_test = train_test_split(principalComponents, y_df, test_size=0.15)\n",
    "\n",
    "\n",
    "print (X_train.shape, y_train.shape)\n",
    "print (X_test.shape, y_test.shape)\n",
    "#print(y_test)"
   ]
  },
  {
   "cell_type": "code",
   "execution_count": 25,
   "metadata": {},
   "outputs": [
    {
     "name": "stdout",
     "output_type": "stream",
     "text": [
      "(4,)\n",
      "(20,)\n"
     ]
    }
   ],
   "source": [
    "y_test=np.ravel(y_test)\n",
    "print(y_test.shape)\n",
    "y_train=np.ravel(y_train)\n",
    "print(y_train.shape)"
   ]
  },
  {
   "cell_type": "code",
   "execution_count": 26,
   "metadata": {},
   "outputs": [
    {
     "name": "stdout",
     "output_type": "stream",
     "text": [
      "RMSE:  2.0107659208266253\n",
      "R^2:  -0.16835577941126534 \n",
      "\n",
      "[real, predictions]\n",
      "[[0.391     0.751814 ]\n",
      " [0.036     1.57471  ]\n",
      " [4.54      0.8524968]\n",
      " [0.339     0.6168908]]\n"
     ]
    },
    {
     "data": {
      "text/plain": [
       "Text(0, 0.5, 'Predictions')"
      ]
     },
     "execution_count": 26,
     "metadata": {},
     "output_type": "execute_result"
    },
    {
     "data": {
      "image/png": "[encoded data removed]",
      "text/plain": [
       "<Figure size 432x288 with 1 Axes>"
      ]
     },
     "metadata": {
      "needs_background": "light"
     },
     "output_type": "display_data"
    }
   ],
   "source": [
    "# Import the model we are using\n",
    "from sklearn.ensemble import RandomForestRegressor\n",
    "# Instantiate model with 1000 decision trees\n",
    "rf = RandomForestRegressor(n_estimators = 2500, max_depth=30, random_state = 42)\n",
    "# Train the model on training data\n",
    "\n",
    "rf.fit(X_train, y_train);\n",
    "\n",
    "# Use the forest's predict method on the test data\n",
    "predictions = rf.predict(X_test)\n",
    "\n",
    "rmse = sqrt(mean_squared_error(y_test, predictions))\n",
    "r2 = r2_score(y_test, predictions)\n",
    "print(\"RMSE: \", rmse)\n",
    "print(\"R^2: \", r2, \"\\n\")\n",
    "\n",
    "y_test= y_test.reshape((len(y_test), 1))\n",
    "predictions=predictions.reshape((len(y_test), 1))\n",
    "#print((y_test, predictions))\n",
    "\n",
    "b=np.append(y_test, predictions, axis=1)\n",
    "\n",
    "print(\"[real, predictions]\")\n",
    "print(b)\n",
    "\n",
    "plt.scatter(y_test, predictions)\n",
    "plt.xlabel('True Values')\n",
    "plt.ylabel('Predictions')"
   ]
  },
  {
   "cell_type": "code",
   "execution_count": null,
   "metadata": {},
   "outputs": [],
   "source": []
  },
  {
   "cell_type": "code",
   "execution_count": null,
   "metadata": {},
   "outputs": [],
   "source": []
  },
  {
   "cell_type": "markdown",
   "metadata": {},
   "source": [
    "# MultiOutput Random Forest"
   ]
  },
  {
   "cell_type": "code",
   "execution_count": 132,
   "metadata": {},
   "outputs": [
    {
     "name": "stdout",
     "output_type": "stream",
     "text": [
      "(24, 6)\n",
      "<class 'numpy.ndarray'>\n",
      "<class 'pandas.core.frame.DataFrame'>\n"
     ]
    }
   ],
   "source": [
    "multi_y = concentration[:,1:-2]\n",
    "print (multi_y.shape)\n",
    "print (type(multi_y))\n",
    "df_y= pd.DataFrame(multi_y)\n",
    "print (type(df_y))"
   ]
  },
  {
   "cell_type": "code",
   "execution_count": 153,
   "metadata": {},
   "outputs": [
    {
     "name": "stdout",
     "output_type": "stream",
     "text": [
      "(19, 1130) (19, 6)\n",
      "(5, 1130) (5, 6)\n"
     ]
    }
   ],
   "source": [
    "X_train, X_test, y_train, y_test = train_test_split(x_df, df_y, test_size=0.2)\n",
    "print (X_train.shape, y_train.shape)\n",
    "print (X_test.shape, y_test.shape)\n",
    "#print(X_test)"
   ]
  },
  {
   "cell_type": "code",
   "execution_count": 134,
   "metadata": {},
   "outputs": [
    {
     "data": {
      "text/plain": [
       "MultiOutputRegressor(estimator=RandomForestRegressor(bootstrap=True,\n",
       "                                                     ccp_alpha=0.0,\n",
       "                                                     criterion='mse',\n",
       "                                                     max_depth=30,\n",
       "                                                     max_features='auto',\n",
       "                                                     max_leaf_nodes=None,\n",
       "                                                     max_samples=None,\n",
       "                                                     min_impurity_decrease=0.0,\n",
       "                                                     min_impurity_split=None,\n",
       "                                                     min_samples_leaf=1,\n",
       "                                                     min_samples_split=2,\n",
       "                                                     min_weight_fraction_leaf=0.0,\n",
       "                                                     n_estimators=650,\n",
       "                                                     n_jobs=None,\n",
       "                                                     oob_score=False,\n",
       "                                                     random_state=0, verbose=0,\n",
       "                                                     warm_start=False),\n",
       "                     n_jobs=None)"
      ]
     },
     "execution_count": 134,
     "metadata": {},
     "output_type": "execute_result"
    }
   ],
   "source": [
    "from sklearn.multioutput import MultiOutputRegressor\n",
    "from sklearn.ensemble import RandomForestRegressor\n",
    "\n",
    "max_depth = 30\n",
    "regr_multirf = MultiOutputRegressor(RandomForestRegressor(n_estimators=650,\n",
    "                                                          max_depth=max_depth,\n",
    "                                                          random_state=0))\n",
    "regr_multirf.fit(X_train, y_train)\n"
   ]
  },
  {
   "cell_type": "code",
   "execution_count": 135,
   "metadata": {},
   "outputs": [],
   "source": [
    "y_multirf = regr_multirf.predict(X_test)"
   ]
  },
  {
   "cell_type": "code",
   "execution_count": 136,
   "metadata": {},
   "outputs": [
    {
     "name": "stdout",
     "output_type": "stream",
     "text": [
      "(5, 6)\n",
      "(5, 6)\n"
     ]
    }
   ],
   "source": [
    "print(y_test.shape)\n",
    "print(y_multirf.shape)"
   ]
  },
  {
   "cell_type": "code",
   "execution_count": 137,
   "metadata": {},
   "outputs": [
    {
     "name": "stdout",
     "output_type": "stream",
     "text": [
      "R^2:  -1.2798201186343863\n",
      "RMSE:  1.5231794557929577\n"
     ]
    }
   ],
   "source": [
    "rmse = sqrt(mean_squared_error(y_test, y_multirf))\n",
    "r2 = r2_score(y_test, y_multirf)\n",
    "\n",
    "print(\"R^2: \", r2)\n",
    "print(\"RMSE: \", rmse)"
   ]
  },
  {
   "cell_type": "code",
   "execution_count": 138,
   "metadata": {},
   "outputs": [
    {
     "name": "stdout",
     "output_type": "stream",
     "text": [
      "[real, predictions]\n",
      "[[6.160e+00 0.000e+00 3.630e-01 0.000e+00 6.000e-03 2.060e-01 8.711e+00\n",
      "  2.880e-01 4.460e-01 2.870e-01 7.790e-01 1.910e-01]\n",
      " [6.120e+00 0.000e+00 3.200e-01 0.000e+00 5.000e-03 1.600e-02 8.009e+00\n",
      "  2.150e-01 4.630e-01 8.500e-02 1.110e-01 1.440e-01]\n",
      " [1.253e+01 3.100e-01 2.500e-02 5.000e-02 5.600e-02 3.300e-02 7.822e+00\n",
      "  2.570e-01 2.970e-01 1.650e-01 1.750e-01 2.170e-01]\n",
      " [1.800e-01 5.000e-01 1.110e+00 5.200e-02 1.500e-01 1.260e+00 4.830e-01\n",
      "  3.630e-01 1.233e+00 2.260e-01 1.360e-01 9.710e-01]\n",
      " [1.290e+01 1.200e-01 5.200e-01 1.550e-01 5.200e-01 2.860e-01 6.898e+00\n",
      "  3.360e-01 7.140e-01 1.420e-01 5.610e-01 2.290e-01]]\n"
     ]
    }
   ],
   "source": [
    "b=np.append(np.around(y_test,3), np.around(y_multirf,3), axis=1)\n",
    "\n",
    "print(\"[real, predictions]\")\n",
    "print(b)"
   ]
  },
  {
   "cell_type": "code",
   "execution_count": 139,
   "metadata": {},
   "outputs": [
    {
     "data": {
      "text/plain": [
       "Text(0, 0.5, 'Predictions')"
      ]
     },
     "execution_count": 139,
     "metadata": {},
     "output_type": "execute_result"
    },
    {
     "data": {
      "image/png": "[encoded data removed]",
      "text/plain": [
       "<Figure size 432x288 with 1 Axes>"
      ]
     },
     "metadata": {
      "needs_background": "light"
     },
     "output_type": "display_data"
    }
   ],
   "source": [
    "plt.scatter(y_test, y_multirf)\n",
    "plt.xlabel('True Values')\n",
    "plt.ylabel('Predictions')"
   ]
  },
  {
   "cell_type": "code",
   "execution_count": 141,
   "metadata": {},
   "outputs": [
    {
     "data": {
      "text/plain": [
       "array([8.71, 8.01, 7.82, 0.48, 6.9 ])"
      ]
     },
     "execution_count": 141,
     "metadata": {},
     "output_type": "execute_result"
    }
   ],
   "source": [
    "y_pred=np.around(y_multirf,2)\n",
    "y_pred[:,0]"
   ]
  },
  {
   "cell_type": "code",
   "execution_count": 142,
   "metadata": {},
   "outputs": [
    {
     "data": {
      "text/plain": [
       "array([ 6.16,  6.12, 12.53,  0.18, 12.9 ])"
      ]
     },
     "execution_count": 142,
     "metadata": {},
     "output_type": "execute_result"
    }
   ],
   "source": [
    "y_test[0].values"
   ]
  },
  {
   "cell_type": "code",
   "execution_count": 143,
   "metadata": {},
   "outputs": [
    {
     "name": "stdout",
     "output_type": "stream",
     "text": [
      "real:  [ 6.16  6.12 12.53  0.18 12.9 ]\n",
      "pred:  [8.71 8.01 7.82 0.48 6.9 ]\n"
     ]
    }
   ],
   "source": [
    "print(\"real: \", y_test[0].values)\n",
    "print(\"pred: \", y_pred[:,0])"
   ]
  },
  {
   "cell_type": "markdown",
   "metadata": {},
   "source": [
    "# PLS-2"
   ]
  },
  {
   "cell_type": "code",
   "execution_count": 154,
   "metadata": {},
   "outputs": [
    {
     "name": "stdout",
     "output_type": "stream",
     "text": [
      "100% completed\n",
      "Suggested number of components:  33\n",
      "\n"
     ]
    },
    {
     "data": {
      "image/png": "[encoded data removed]",
      "text/plain": [
       "<Figure size 432x288 with 1 Axes>"
      ]
     },
     "metadata": {},
     "output_type": "display_data"
    },
    {
     "name": "stdout",
     "output_type": "stream",
     "text": [
      "R2 calib: 1.000\n",
      "R2 CV: 0.018\n",
      "MSE calib: 0.000\n",
      "MSE CV: 0.939\n"
     ]
    }
   ],
   "source": [
    "optimise_pls_cv(X_train, y_train, 40, plot_components=True)"
   ]
  },
  {
   "cell_type": "code",
   "execution_count": 155,
   "metadata": {},
   "outputs": [
    {
     "name": "stdout",
     "output_type": "stream",
     "text": [
      "R^2:  0.018347253779067135\n",
      "MSE:  0.9391318844120397\n"
     ]
    }
   ],
   "source": [
    "# Define PLS object\n",
    "pls = PLSRegression(n_components= 26)\n",
    "# Fit\n",
    "pls.fit(X_train, y_train)\n",
    "# Cross-validation\n",
    "y_cv = cross_val_predict(pls, X_train, y_train, cv=10)\n",
    "# Calculate scores\n",
    "score = r2_score(y_train, y_cv)\n",
    "mse = mean_squared_error(y_train, y_cv)\n",
    "\n",
    "print(\"R^2: \", score)\n",
    "print(\"MSE: \", mse)"
   ]
  },
  {
   "cell_type": "code",
   "execution_count": 150,
   "metadata": {},
   "outputs": [
    {
     "name": "stdout",
     "output_type": "stream",
     "text": [
      "-4.070272705754876\n",
      "0.36555579763038115\n"
     ]
    }
   ],
   "source": [
    "y_pred = pls.predict(X_test)\n",
    "\n",
    "# Cross-validation\n",
    "y_cv = cross_val_predict(pls, X_train, y_train, cv=10)\n",
    "\n",
    "# Calculate scores for calibration and cross-validation\n",
    "score_pred = r2_score(y_test, y_pred)\n",
    "score_cv = r2_score(y_train, y_cv)\n",
    "\n",
    "print(score_pred) #NAMMERDA\n",
    "print(score_cv)"
   ]
  },
  {
   "cell_type": "code",
   "execution_count": 151,
   "metadata": {},
   "outputs": [
    {
     "data": {
      "text/html": [
       "<div>\n",
       "<style scoped>\n",
       "    .dataframe tbody tr th:only-of-type {\n",
       "        vertical-align: middle;\n",
       "    }\n",
       "\n",
       "    .dataframe tbody tr th {\n",
       "        vertical-align: top;\n",
       "    }\n",
       "\n",
       "    .dataframe thead th {\n",
       "        text-align: right;\n",
       "    }\n",
       "</style>\n",
       "<table border=\"1\" class=\"dataframe\">\n",
       "  <thead>\n",
       "    <tr style=\"text-align: right;\">\n",
       "      <th></th>\n",
       "      <th>0</th>\n",
       "      <th>1</th>\n",
       "      <th>2</th>\n",
       "      <th>3</th>\n",
       "      <th>4</th>\n",
       "      <th>5</th>\n",
       "    </tr>\n",
       "  </thead>\n",
       "  <tbody>\n",
       "    <tr>\n",
       "      <th>0</th>\n",
       "      <td>7.84</td>\n",
       "      <td>0.22</td>\n",
       "      <td>0.54</td>\n",
       "      <td>0.19</td>\n",
       "      <td>0.57</td>\n",
       "      <td>0.27</td>\n",
       "    </tr>\n",
       "    <tr>\n",
       "      <th>1</th>\n",
       "      <td>8.62</td>\n",
       "      <td>0.12</td>\n",
       "      <td>0.35</td>\n",
       "      <td>0.06</td>\n",
       "      <td>-0.12</td>\n",
       "      <td>-0.06</td>\n",
       "    </tr>\n",
       "    <tr>\n",
       "      <th>2</th>\n",
       "      <td>10.50</td>\n",
       "      <td>0.13</td>\n",
       "      <td>-0.61</td>\n",
       "      <td>0.45</td>\n",
       "      <td>0.15</td>\n",
       "      <td>-0.03</td>\n",
       "    </tr>\n",
       "    <tr>\n",
       "      <th>3</th>\n",
       "      <td>-0.28</td>\n",
       "      <td>0.42</td>\n",
       "      <td>1.56</td>\n",
       "      <td>-0.11</td>\n",
       "      <td>-0.34</td>\n",
       "      <td>0.95</td>\n",
       "    </tr>\n",
       "    <tr>\n",
       "      <th>4</th>\n",
       "      <td>9.93</td>\n",
       "      <td>0.09</td>\n",
       "      <td>0.29</td>\n",
       "      <td>-0.26</td>\n",
       "      <td>0.65</td>\n",
       "      <td>0.14</td>\n",
       "    </tr>\n",
       "  </tbody>\n",
       "</table>\n",
       "</div>"
      ],
      "text/plain": [
       "       0     1     2     3     4     5\n",
       "0   7.84  0.22  0.54  0.19  0.57  0.27\n",
       "1   8.62  0.12  0.35  0.06 -0.12 -0.06\n",
       "2  10.50  0.13 -0.61  0.45  0.15 -0.03\n",
       "3  -0.28  0.42  1.56 -0.11 -0.34  0.95\n",
       "4   9.93  0.09  0.29 -0.26  0.65  0.14"
      ]
     },
     "execution_count": 151,
     "metadata": {},
     "output_type": "execute_result"
    }
   ],
   "source": [
    "pd.DataFrame(np.round(y_pred, decimals=2))"
   ]
  },
  {
   "cell_type": "code",
   "execution_count": 152,
   "metadata": {
    "scrolled": true
   },
   "outputs": [
    {
     "data": {
      "text/html": [
       "<div>\n",
       "<style scoped>\n",
       "    .dataframe tbody tr th:only-of-type {\n",
       "        vertical-align: middle;\n",
       "    }\n",
       "\n",
       "    .dataframe tbody tr th {\n",
       "        vertical-align: top;\n",
       "    }\n",
       "\n",
       "    .dataframe thead th {\n",
       "        text-align: right;\n",
       "    }\n",
       "</style>\n",
       "<table border=\"1\" class=\"dataframe\">\n",
       "  <thead>\n",
       "    <tr style=\"text-align: right;\">\n",
       "      <th></th>\n",
       "      <th>0</th>\n",
       "      <th>1</th>\n",
       "      <th>2</th>\n",
       "      <th>3</th>\n",
       "      <th>4</th>\n",
       "      <th>5</th>\n",
       "    </tr>\n",
       "  </thead>\n",
       "  <tbody>\n",
       "    <tr>\n",
       "      <th>20</th>\n",
       "      <td>6.16</td>\n",
       "      <td>0.00</td>\n",
       "      <td>0.36</td>\n",
       "      <td>0.00</td>\n",
       "      <td>0.01</td>\n",
       "      <td>0.21</td>\n",
       "    </tr>\n",
       "    <tr>\n",
       "      <th>12</th>\n",
       "      <td>6.12</td>\n",
       "      <td>0.00</td>\n",
       "      <td>0.32</td>\n",
       "      <td>0.00</td>\n",
       "      <td>0.01</td>\n",
       "      <td>0.02</td>\n",
       "    </tr>\n",
       "    <tr>\n",
       "      <th>13</th>\n",
       "      <td>12.53</td>\n",
       "      <td>0.31</td>\n",
       "      <td>0.02</td>\n",
       "      <td>0.05</td>\n",
       "      <td>0.06</td>\n",
       "      <td>0.03</td>\n",
       "    </tr>\n",
       "    <tr>\n",
       "      <th>22</th>\n",
       "      <td>0.18</td>\n",
       "      <td>0.50</td>\n",
       "      <td>1.11</td>\n",
       "      <td>0.05</td>\n",
       "      <td>0.15</td>\n",
       "      <td>1.26</td>\n",
       "    </tr>\n",
       "    <tr>\n",
       "      <th>7</th>\n",
       "      <td>12.90</td>\n",
       "      <td>0.12</td>\n",
       "      <td>0.52</td>\n",
       "      <td>0.16</td>\n",
       "      <td>0.52</td>\n",
       "      <td>0.29</td>\n",
       "    </tr>\n",
       "  </tbody>\n",
       "</table>\n",
       "</div>"
      ],
      "text/plain": [
       "        0     1     2     3     4     5\n",
       "20   6.16  0.00  0.36  0.00  0.01  0.21\n",
       "12   6.12  0.00  0.32  0.00  0.01  0.02\n",
       "13  12.53  0.31  0.02  0.05  0.06  0.03\n",
       "22   0.18  0.50  1.11  0.05  0.15  1.26\n",
       "7   12.90  0.12  0.52  0.16  0.52  0.29"
      ]
     },
     "execution_count": 152,
     "metadata": {},
     "output_type": "execute_result"
    }
   ],
   "source": [
    "np.round(y_test, decimals=2)"
   ]
  },
  {
   "cell_type": "code",
   "execution_count": null,
   "metadata": {},
   "outputs": [],
   "source": []
  },
  {
   "cell_type": "code",
   "execution_count": null,
   "metadata": {},
   "outputs": [],
   "source": []
  }
 ],
 "metadata": {
  "kernelspec": {
   "display_name": "Python 3",
   "language": "python",
   "name": "python3"
  },
  "language_info": {
   "codemirror_mode": {
    "name": "ipython",
    "version": 3
   },
   "file_extension": ".py",
   "mimetype": "text/x-python",
   "name": "python",
   "nbconvert_exporter": "python",
   "pygments_lexer": "ipython3",
   "version": "3.7.6"
  }
 },
 "nbformat": 4,
 "nbformat_minor": 2
}
