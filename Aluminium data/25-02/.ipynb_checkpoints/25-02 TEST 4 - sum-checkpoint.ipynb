{
 "cells": [
  {
   "cell_type": "markdown",
   "metadata": {},
   "source": [
    "## Intensity filtered data using reference aluminium wavelength 309.506 (pixel number 445) using saturated data\n",
    "\n",
    "### No preprocessing"
   ]
  },
  {
   "cell_type": "code",
   "execution_count": 1,
   "metadata": {},
   "outputs": [],
   "source": [
    "import os\n",
    "from sys import stdout\n",
    "import time\n",
    "\n",
    "import numpy as np\n",
    "import pandas as pd\n",
    "import matplotlib.pyplot as plt\n",
    "import peakutils\n",
    "%matplotlib inline \n",
    "from math import sqrt\n",
    "from scipy.signal import savgol_filter\n",
    "from sklearn.decomposition import PCA \n",
    "from sklearn.preprocessing import StandardScaler, normalize, MinMaxScaler \n",
    "from sklearn.model_selection import train_test_split, RandomizedSearchCV\n",
    "from sklearn.metrics import mean_squared_error, r2_score\n",
    "from sklearn.cross_decomposition import PLSRegression\n",
    "from sklearn.model_selection import cross_val_predict\n",
    "from sklearn import linear_model\n",
    "from sklearn.linear_model import ElasticNet,ElasticNetCV\n",
    "\n",
    "import warnings\n",
    "warnings.filterwarnings('ignore')"
   ]
  },
  {
   "cell_type": "code",
   "execution_count": 2,
   "metadata": {},
   "outputs": [
    {
     "data": {
      "text/plain": [
       "\"   \\n    # Fit a line to the CV vs response\\n    z = np.polyfit(y, y_c, 1)\\n    with plt.style.context(('ggplot')):\\n        fig, ax = plt.subplots(figsize=(9, 5))\\n        ax.scatter(y_c, y, c='red', edgecolors='k')\\n        #Plot the best fit line\\n        ax.plot(np.polyval(z,y), y, c='blue', linewidth=1)\\n        #Plot the ideal 1:1 line\\n        ax.plot(y, y, color='green', linewidth=1)\\n        plt.title('$R^{2}$ (CV): '+str(score_cv))\\n        plt.xlabel('Predicted $^{\\\\circ}$Brix')\\n        plt.ylabel('Measured $^{\\\\circ}$Brix')\\n        plt.show()\\n    return\\n\""
      ]
     },
     "execution_count": 2,
     "metadata": {},
     "output_type": "execute_result"
    }
   ],
   "source": [
    "def optimise_pls_cv(X, y, n_comp, plot_components=True):\n",
    "    '''Run PLS including a variable number of components, up to n_comp,\n",
    "       and calculate MSE '''\n",
    "    mse = []\n",
    "    component = np.arange(1, n_comp)\n",
    "    for i in component:\n",
    "        pls = PLSRegression(n_components=i)\n",
    "        # Cross-validation\n",
    "        y_cv = cross_val_predict(pls, X, y, cv=10)\n",
    "        mse.append(mean_squared_error(y, y_cv))\n",
    "        comp = 100*(i+1)/40\n",
    "        # Trick to update status on the same line\n",
    "        stdout.write(\"\\r%d%% completed\" % comp)\n",
    "        stdout.flush()\n",
    "    stdout.write(\"\\n\")\n",
    "    # Calculate and print the position of minimum in MSE\n",
    "    msemin = np.argmin(mse)\n",
    "    print(\"Suggested number of components: \", msemin+1)\n",
    "    stdout.write(\"\\n\")\n",
    "    if plot_components is True:\n",
    "        with plt.style.context(('ggplot')):\n",
    "            plt.plot(component, np.array(mse), '-v', color = 'blue', mfc='blue')\n",
    "            plt.plot(component[msemin], np.array(mse)[msemin], 'P', ms=10, mfc='red')\n",
    "            plt.xlabel('Number of PLS components')\n",
    "            plt.ylabel('MSE')\n",
    "            plt.title('PLS')\n",
    "            plt.xlim(left=-1)\n",
    "        plt.show()\n",
    "    # Define PLS object with optimal number of components\n",
    "    pls_opt = PLSRegression(n_components=msemin+1)\n",
    "    # Fir to the entire dataset\n",
    "    pls_opt.fit(X, y)\n",
    "    y_c = pls_opt.predict(X)\n",
    "    # Cross-validation\n",
    "    y_cv = cross_val_predict(pls_opt, X, y, cv=10)\n",
    "    # Calculate scores for calibration and cross-validation\n",
    "    score_c = r2_score(y, y_c)\n",
    "    score_cv = r2_score(y, y_cv)\n",
    "    # Calculate mean squared error for calibration and cross validation\n",
    "    mse_c = mean_squared_error(y, y_c)\n",
    "    mse_cv = mean_squared_error(y, y_cv)\n",
    "    print('R2 calib: %5.3f'  % score_c)\n",
    "    print('R2 CV: %5.3f'  % score_cv)\n",
    "    print('MSE calib: %5.3f' % mse_c)\n",
    "    print('MSE CV: %5.3f' % mse_cv)\n",
    "    \n",
    "    return\n",
    "    # Plot regression and figures of merit\n",
    "    rangey = max(y) - min(y)\n",
    "    rangex = max(y_c) - min(y_c)\n",
    "\"\"\"   \n",
    "    # Fit a line to the CV vs response\n",
    "    z = np.polyfit(y, y_c, 1)\n",
    "    with plt.style.context(('ggplot')):\n",
    "        fig, ax = plt.subplots(figsize=(9, 5))\n",
    "        ax.scatter(y_c, y, c='red', edgecolors='k')\n",
    "        #Plot the best fit line\n",
    "        ax.plot(np.polyval(z,y), y, c='blue', linewidth=1)\n",
    "        #Plot the ideal 1:1 line\n",
    "        ax.plot(y, y, color='green', linewidth=1)\n",
    "        plt.title('$R^{2}$ (CV): '+str(score_cv))\n",
    "        plt.xlabel('Predicted $^{\\circ}$Brix')\n",
    "        plt.ylabel('Measured $^{\\circ}$Brix')\n",
    "        plt.show()\n",
    "    return\n",
    "\"\"\" "
   ]
  },
  {
   "cell_type": "code",
   "execution_count": 3,
   "metadata": {},
   "outputs": [],
   "source": [
    "def pls_variable_selection(X, y, max_comp):\n",
    "    \n",
    "    # Define MSE array to be populated\n",
    "    mse = np.zeros((max_comp,X.shape[1]))\n",
    "    # Loop over the number of PLS components\n",
    "    for i in range(max_comp):\n",
    "        \n",
    "        # Regression with specified number of components, using full spectrum\n",
    "        pls1 = PLSRegression(n_components=i+1)\n",
    "        pls1.fit(X, y)\n",
    "        \n",
    "        # Indices of sort spectra according to ascending absolute value of PLS coefficients\n",
    "        sorted_ind = np.argsort(np.abs(pls1.coef_[:,0]))\n",
    "        # Sort spectra accordingly \n",
    "        Xc = X[:,sorted_ind]\n",
    "        # Discard one wavelength at a time of the sorted spectra,\n",
    "        # regress, and calculate the MSE cross-validation\n",
    "        for j in range(Xc.shape[1]-(i+1)):\n",
    "            pls2 = PLSRegression(n_components=i+1)\n",
    "            pls2.fit(Xc[:, j:], y)\n",
    "            \n",
    "            y_cv = cross_val_predict(pls2, Xc[:, j:], y, cv=5)\n",
    "            mse[i,j] = mean_squared_error(y, y_cv)\n",
    "    \n",
    "        comp = 100*(i+1)/(max_comp)\n",
    "        stdout.write(\"\\r%d%% completed\" % comp)\n",
    "        stdout.flush()\n",
    "    stdout.write(\"\\n\")\n",
    "    # # Calculate and print the position of minimum in MSE\n",
    "    mseminx,mseminy = np.where(mse==np.min(mse[np.nonzero(mse)]))\n",
    "    print(\"Optimised number of PLS components: \", mseminx[0]+1)\n",
    "    print(\"Wavelengths to be discarded \",mseminy[0])\n",
    "    print('Optimised MSEP ', mse[mseminx,mseminy][0])\n",
    "    stdout.write(\"\\n\")\n",
    "    # plt.imshow(mse, interpolation=None)\n",
    "    # plt.show()\n",
    "    # Calculate PLS with optimal components and export values\n",
    "    pls = PLSRegression(n_components=mseminx[0]+1)\n",
    "    pls.fit(X, y)\n",
    "        \n",
    "    sorted_ind = np.argsort(np.abs(pls.coef_[:,0]))\n",
    "    Xc = X[:,sorted_ind]\n",
    "    return(Xc[:,mseminy[0]:],mseminx[0]+1,mseminy[0], sorted_ind)"
   ]
  },
  {
   "cell_type": "code",
   "execution_count": 4,
   "metadata": {},
   "outputs": [],
   "source": [
    "def msc(input_data, reference=None):\n",
    "    ''' Perform Multiplicative scatter correction'''\n",
    "    # mean centre correction\n",
    "    for i in range(input_data.shape[0]):\n",
    "        input_data[i,:] -= input_data[i,:].mean()\n",
    "    # Get the reference spectrum. If not given, estimate it from the mean    \n",
    "    if reference is None:    \n",
    "        # Calculate mean\n",
    "        ref = np.mean(input_data, axis=0)\n",
    "    else:\n",
    "        ref = reference\n",
    "    # Define a new array and populate it with the corrected data    \n",
    "    data_msc = np.zeros_like(input_data)\n",
    "    for i in range(input_data.shape[0]):\n",
    "        # Run regression\n",
    "        fit = np.polyfit(ref, input_data[i,:], 1, full=True)\n",
    "        # Apply correction\n",
    "        data_msc[i,:] = (input_data[i,:] - fit[0][1]) / fit[0][0] \n",
    "    return (data_msc, ref)"
   ]
  },
  {
   "cell_type": "code",
   "execution_count": 5,
   "metadata": {},
   "outputs": [],
   "source": [
    "def snv(input_data):\n",
    "  \n",
    "    # Define a new array and populate it with the corrected data  \n",
    "    data_snv = np.zeros_like(input_data)\n",
    "    for i in range(input_data.shape[0]):\n",
    "        # Apply correction\n",
    "        data_snv[i,:] = (input_data[i,:] - np.mean(input_data[i,:])) / np.std(input_data[i,:])\n",
    "    return data_snv"
   ]
  },
  {
   "cell_type": "code",
   "execution_count": 6,
   "metadata": {},
   "outputs": [
    {
     "name": "stdout",
     "output_type": "stream",
     "text": [
      "(24, 1446)\n",
      "(1446,)\n",
      "24\n"
     ]
    },
    {
     "data": {
      "text/html": [
       "<div>\n",
       "<style scoped>\n",
       "    .dataframe tbody tr th:only-of-type {\n",
       "        vertical-align: middle;\n",
       "    }\n",
       "\n",
       "    .dataframe tbody tr th {\n",
       "        vertical-align: top;\n",
       "    }\n",
       "\n",
       "    .dataframe thead th {\n",
       "        text-align: right;\n",
       "    }\n",
       "</style>\n",
       "<table border=\"1\" class=\"dataframe\">\n",
       "  <thead>\n",
       "    <tr style=\"text-align: right;\">\n",
       "      <th></th>\n",
       "      <th>252.071400</th>\n",
       "      <th>252.201700</th>\n",
       "      <th>252.331900</th>\n",
       "      <th>252.462200</th>\n",
       "      <th>252.592400</th>\n",
       "      <th>252.722600</th>\n",
       "      <th>252.852900</th>\n",
       "      <th>252.983100</th>\n",
       "      <th>253.113300</th>\n",
       "      <th>253.243600</th>\n",
       "      <th>...</th>\n",
       "      <th>428.718100</th>\n",
       "      <th>428.828600</th>\n",
       "      <th>428.939000</th>\n",
       "      <th>429.049500</th>\n",
       "      <th>429.159900</th>\n",
       "      <th>429.270300</th>\n",
       "      <th>429.380600</th>\n",
       "      <th>429.491000</th>\n",
       "      <th>429.601300</th>\n",
       "      <th>429.711600</th>\n",
       "    </tr>\n",
       "  </thead>\n",
       "  <tbody>\n",
       "    <tr>\n",
       "      <th>0</th>\n",
       "      <td>-0.000004</td>\n",
       "      <td>-0.000012</td>\n",
       "      <td>-0.000029</td>\n",
       "      <td>0.000011</td>\n",
       "      <td>-0.000006</td>\n",
       "      <td>-0.000007</td>\n",
       "      <td>0.000007</td>\n",
       "      <td>0.000023</td>\n",
       "      <td>0.000003</td>\n",
       "      <td>-0.000018</td>\n",
       "      <td>...</td>\n",
       "      <td>0.000043</td>\n",
       "      <td>0.000140</td>\n",
       "      <td>0.000400</td>\n",
       "      <td>0.000306</td>\n",
       "      <td>0.000087</td>\n",
       "      <td>0.000016</td>\n",
       "      <td>-0.000021</td>\n",
       "      <td>-0.000035</td>\n",
       "      <td>-0.000040</td>\n",
       "      <td>-0.000028</td>\n",
       "    </tr>\n",
       "    <tr>\n",
       "      <th>1</th>\n",
       "      <td>-0.000098</td>\n",
       "      <td>-0.000096</td>\n",
       "      <td>-0.000145</td>\n",
       "      <td>-0.000055</td>\n",
       "      <td>-0.000081</td>\n",
       "      <td>-0.000104</td>\n",
       "      <td>-0.000059</td>\n",
       "      <td>-0.000020</td>\n",
       "      <td>-0.000068</td>\n",
       "      <td>-0.000114</td>\n",
       "      <td>...</td>\n",
       "      <td>0.000026</td>\n",
       "      <td>-0.000050</td>\n",
       "      <td>-0.000073</td>\n",
       "      <td>-0.000083</td>\n",
       "      <td>-0.000046</td>\n",
       "      <td>-0.000037</td>\n",
       "      <td>-0.000099</td>\n",
       "      <td>-0.000118</td>\n",
       "      <td>-0.000148</td>\n",
       "      <td>-0.000127</td>\n",
       "    </tr>\n",
       "    <tr>\n",
       "      <th>2</th>\n",
       "      <td>-0.000032</td>\n",
       "      <td>-0.000048</td>\n",
       "      <td>-0.000088</td>\n",
       "      <td>-0.000015</td>\n",
       "      <td>-0.000042</td>\n",
       "      <td>-0.000054</td>\n",
       "      <td>-0.000034</td>\n",
       "      <td>0.000006</td>\n",
       "      <td>-0.000034</td>\n",
       "      <td>-0.000062</td>\n",
       "      <td>...</td>\n",
       "      <td>0.000031</td>\n",
       "      <td>-0.000029</td>\n",
       "      <td>-0.000034</td>\n",
       "      <td>-0.000042</td>\n",
       "      <td>-0.000002</td>\n",
       "      <td>-0.000008</td>\n",
       "      <td>-0.000054</td>\n",
       "      <td>-0.000068</td>\n",
       "      <td>-0.000079</td>\n",
       "      <td>-0.000069</td>\n",
       "    </tr>\n",
       "    <tr>\n",
       "      <th>3</th>\n",
       "      <td>-0.000053</td>\n",
       "      <td>-0.000062</td>\n",
       "      <td>-0.000100</td>\n",
       "      <td>-0.000020</td>\n",
       "      <td>-0.000056</td>\n",
       "      <td>-0.000075</td>\n",
       "      <td>-0.000043</td>\n",
       "      <td>-0.000007</td>\n",
       "      <td>-0.000044</td>\n",
       "      <td>-0.000072</td>\n",
       "      <td>...</td>\n",
       "      <td>0.000021</td>\n",
       "      <td>-0.000036</td>\n",
       "      <td>-0.000030</td>\n",
       "      <td>-0.000045</td>\n",
       "      <td>-0.000009</td>\n",
       "      <td>-0.000025</td>\n",
       "      <td>-0.000075</td>\n",
       "      <td>-0.000094</td>\n",
       "      <td>-0.000111</td>\n",
       "      <td>-0.000093</td>\n",
       "    </tr>\n",
       "    <tr>\n",
       "      <th>4</th>\n",
       "      <td>0.000060</td>\n",
       "      <td>0.000024</td>\n",
       "      <td>0.000002</td>\n",
       "      <td>0.000082</td>\n",
       "      <td>0.000058</td>\n",
       "      <td>0.000083</td>\n",
       "      <td>0.000160</td>\n",
       "      <td>0.000157</td>\n",
       "      <td>0.000067</td>\n",
       "      <td>-0.000003</td>\n",
       "      <td>...</td>\n",
       "      <td>0.000019</td>\n",
       "      <td>-0.000031</td>\n",
       "      <td>-0.000069</td>\n",
       "      <td>-0.000049</td>\n",
       "      <td>-0.000008</td>\n",
       "      <td>-0.000020</td>\n",
       "      <td>-0.000056</td>\n",
       "      <td>-0.000071</td>\n",
       "      <td>-0.000084</td>\n",
       "      <td>-0.000065</td>\n",
       "    </tr>\n",
       "    <tr>\n",
       "      <th>5</th>\n",
       "      <td>0.000062</td>\n",
       "      <td>0.000011</td>\n",
       "      <td>-0.000008</td>\n",
       "      <td>0.000093</td>\n",
       "      <td>0.000063</td>\n",
       "      <td>0.000081</td>\n",
       "      <td>0.000171</td>\n",
       "      <td>0.000156</td>\n",
       "      <td>0.000052</td>\n",
       "      <td>-0.000011</td>\n",
       "      <td>...</td>\n",
       "      <td>0.000024</td>\n",
       "      <td>-0.000019</td>\n",
       "      <td>-0.000010</td>\n",
       "      <td>-0.000017</td>\n",
       "      <td>-0.000007</td>\n",
       "      <td>-0.000018</td>\n",
       "      <td>-0.000066</td>\n",
       "      <td>-0.000079</td>\n",
       "      <td>-0.000088</td>\n",
       "      <td>-0.000071</td>\n",
       "    </tr>\n",
       "    <tr>\n",
       "      <th>6</th>\n",
       "      <td>-0.000056</td>\n",
       "      <td>-0.000063</td>\n",
       "      <td>-0.000118</td>\n",
       "      <td>-0.000016</td>\n",
       "      <td>-0.000046</td>\n",
       "      <td>-0.000077</td>\n",
       "      <td>-0.000033</td>\n",
       "      <td>-0.000010</td>\n",
       "      <td>-0.000063</td>\n",
       "      <td>-0.000110</td>\n",
       "      <td>...</td>\n",
       "      <td>0.000055</td>\n",
       "      <td>-0.000037</td>\n",
       "      <td>-0.000060</td>\n",
       "      <td>-0.000054</td>\n",
       "      <td>-0.000013</td>\n",
       "      <td>-0.000009</td>\n",
       "      <td>-0.000071</td>\n",
       "      <td>-0.000095</td>\n",
       "      <td>-0.000113</td>\n",
       "      <td>-0.000095</td>\n",
       "    </tr>\n",
       "    <tr>\n",
       "      <th>7</th>\n",
       "      <td>-0.000018</td>\n",
       "      <td>-0.000030</td>\n",
       "      <td>-0.000051</td>\n",
       "      <td>0.000005</td>\n",
       "      <td>-0.000025</td>\n",
       "      <td>-0.000026</td>\n",
       "      <td>-0.000001</td>\n",
       "      <td>0.000016</td>\n",
       "      <td>-0.000013</td>\n",
       "      <td>-0.000041</td>\n",
       "      <td>...</td>\n",
       "      <td>0.000038</td>\n",
       "      <td>-0.000010</td>\n",
       "      <td>-0.000012</td>\n",
       "      <td>-0.000005</td>\n",
       "      <td>0.000009</td>\n",
       "      <td>0.000000</td>\n",
       "      <td>-0.000026</td>\n",
       "      <td>-0.000047</td>\n",
       "      <td>-0.000060</td>\n",
       "      <td>-0.000048</td>\n",
       "    </tr>\n",
       "    <tr>\n",
       "      <th>8</th>\n",
       "      <td>0.000028</td>\n",
       "      <td>0.000003</td>\n",
       "      <td>-0.000010</td>\n",
       "      <td>0.000043</td>\n",
       "      <td>0.000032</td>\n",
       "      <td>0.000043</td>\n",
       "      <td>0.000081</td>\n",
       "      <td>0.000086</td>\n",
       "      <td>0.000043</td>\n",
       "      <td>0.000002</td>\n",
       "      <td>...</td>\n",
       "      <td>0.000037</td>\n",
       "      <td>0.000000</td>\n",
       "      <td>-0.000004</td>\n",
       "      <td>-0.000008</td>\n",
       "      <td>0.000009</td>\n",
       "      <td>0.000007</td>\n",
       "      <td>-0.000014</td>\n",
       "      <td>-0.000015</td>\n",
       "      <td>-0.000029</td>\n",
       "      <td>-0.000015</td>\n",
       "    </tr>\n",
       "    <tr>\n",
       "      <th>9</th>\n",
       "      <td>0.000081</td>\n",
       "      <td>0.000042</td>\n",
       "      <td>0.000035</td>\n",
       "      <td>0.000111</td>\n",
       "      <td>0.000093</td>\n",
       "      <td>0.000123</td>\n",
       "      <td>0.000198</td>\n",
       "      <td>0.000190</td>\n",
       "      <td>0.000097</td>\n",
       "      <td>0.000048</td>\n",
       "      <td>...</td>\n",
       "      <td>0.000026</td>\n",
       "      <td>-0.000009</td>\n",
       "      <td>-0.000021</td>\n",
       "      <td>-0.000020</td>\n",
       "      <td>0.000001</td>\n",
       "      <td>0.000003</td>\n",
       "      <td>-0.000016</td>\n",
       "      <td>-0.000030</td>\n",
       "      <td>-0.000037</td>\n",
       "      <td>-0.000024</td>\n",
       "    </tr>\n",
       "    <tr>\n",
       "      <th>10</th>\n",
       "      <td>0.000013</td>\n",
       "      <td>-0.000002</td>\n",
       "      <td>-0.000017</td>\n",
       "      <td>0.000029</td>\n",
       "      <td>0.000013</td>\n",
       "      <td>0.000018</td>\n",
       "      <td>0.000051</td>\n",
       "      <td>0.000055</td>\n",
       "      <td>0.000019</td>\n",
       "      <td>-0.000006</td>\n",
       "      <td>...</td>\n",
       "      <td>0.000048</td>\n",
       "      <td>0.000102</td>\n",
       "      <td>0.000271</td>\n",
       "      <td>0.000229</td>\n",
       "      <td>0.000076</td>\n",
       "      <td>0.000018</td>\n",
       "      <td>-0.000012</td>\n",
       "      <td>-0.000021</td>\n",
       "      <td>-0.000027</td>\n",
       "      <td>-0.000018</td>\n",
       "    </tr>\n",
       "    <tr>\n",
       "      <th>11</th>\n",
       "      <td>-0.000020</td>\n",
       "      <td>-0.000027</td>\n",
       "      <td>-0.000101</td>\n",
       "      <td>0.000024</td>\n",
       "      <td>-0.000038</td>\n",
       "      <td>-0.000050</td>\n",
       "      <td>0.000013</td>\n",
       "      <td>-0.000003</td>\n",
       "      <td>-0.000030</td>\n",
       "      <td>-0.000091</td>\n",
       "      <td>...</td>\n",
       "      <td>0.000064</td>\n",
       "      <td>-0.000022</td>\n",
       "      <td>0.000056</td>\n",
       "      <td>0.000064</td>\n",
       "      <td>0.000021</td>\n",
       "      <td>-0.000014</td>\n",
       "      <td>-0.000052</td>\n",
       "      <td>-0.000069</td>\n",
       "      <td>-0.000089</td>\n",
       "      <td>-0.000075</td>\n",
       "    </tr>\n",
       "    <tr>\n",
       "      <th>12</th>\n",
       "      <td>0.000061</td>\n",
       "      <td>0.000023</td>\n",
       "      <td>0.000004</td>\n",
       "      <td>0.000080</td>\n",
       "      <td>0.000055</td>\n",
       "      <td>0.000081</td>\n",
       "      <td>0.000151</td>\n",
       "      <td>0.000152</td>\n",
       "      <td>0.000058</td>\n",
       "      <td>0.000000</td>\n",
       "      <td>...</td>\n",
       "      <td>0.000014</td>\n",
       "      <td>-0.000027</td>\n",
       "      <td>-0.000047</td>\n",
       "      <td>-0.000046</td>\n",
       "      <td>-0.000014</td>\n",
       "      <td>-0.000018</td>\n",
       "      <td>-0.000053</td>\n",
       "      <td>-0.000068</td>\n",
       "      <td>-0.000072</td>\n",
       "      <td>-0.000062</td>\n",
       "    </tr>\n",
       "    <tr>\n",
       "      <th>13</th>\n",
       "      <td>0.000079</td>\n",
       "      <td>0.000039</td>\n",
       "      <td>0.000027</td>\n",
       "      <td>0.000098</td>\n",
       "      <td>0.000080</td>\n",
       "      <td>0.000102</td>\n",
       "      <td>0.000164</td>\n",
       "      <td>0.000165</td>\n",
       "      <td>0.000086</td>\n",
       "      <td>0.000038</td>\n",
       "      <td>...</td>\n",
       "      <td>0.000018</td>\n",
       "      <td>-0.000017</td>\n",
       "      <td>-0.000028</td>\n",
       "      <td>-0.000025</td>\n",
       "      <td>0.000001</td>\n",
       "      <td>0.000003</td>\n",
       "      <td>-0.000021</td>\n",
       "      <td>-0.000033</td>\n",
       "      <td>-0.000040</td>\n",
       "      <td>-0.000033</td>\n",
       "    </tr>\n",
       "    <tr>\n",
       "      <th>14</th>\n",
       "      <td>-0.000010</td>\n",
       "      <td>-0.000028</td>\n",
       "      <td>-0.000040</td>\n",
       "      <td>0.000012</td>\n",
       "      <td>-0.000009</td>\n",
       "      <td>-0.000020</td>\n",
       "      <td>0.000010</td>\n",
       "      <td>0.000034</td>\n",
       "      <td>-0.000002</td>\n",
       "      <td>-0.000023</td>\n",
       "      <td>...</td>\n",
       "      <td>0.000044</td>\n",
       "      <td>0.000051</td>\n",
       "      <td>0.000160</td>\n",
       "      <td>0.000119</td>\n",
       "      <td>0.000047</td>\n",
       "      <td>0.000015</td>\n",
       "      <td>-0.000020</td>\n",
       "      <td>-0.000031</td>\n",
       "      <td>-0.000045</td>\n",
       "      <td>-0.000033</td>\n",
       "    </tr>\n",
       "    <tr>\n",
       "      <th>15</th>\n",
       "      <td>-0.000057</td>\n",
       "      <td>-0.000060</td>\n",
       "      <td>-0.000113</td>\n",
       "      <td>-0.000018</td>\n",
       "      <td>-0.000061</td>\n",
       "      <td>-0.000090</td>\n",
       "      <td>-0.000046</td>\n",
       "      <td>0.000003</td>\n",
       "      <td>-0.000061</td>\n",
       "      <td>-0.000110</td>\n",
       "      <td>...</td>\n",
       "      <td>0.000033</td>\n",
       "      <td>-0.000049</td>\n",
       "      <td>-0.000087</td>\n",
       "      <td>-0.000080</td>\n",
       "      <td>-0.000024</td>\n",
       "      <td>-0.000017</td>\n",
       "      <td>-0.000089</td>\n",
       "      <td>-0.000094</td>\n",
       "      <td>-0.000121</td>\n",
       "      <td>-0.000108</td>\n",
       "    </tr>\n",
       "    <tr>\n",
       "      <th>16</th>\n",
       "      <td>-0.000036</td>\n",
       "      <td>-0.000042</td>\n",
       "      <td>-0.000066</td>\n",
       "      <td>-0.000014</td>\n",
       "      <td>-0.000032</td>\n",
       "      <td>-0.000035</td>\n",
       "      <td>-0.000011</td>\n",
       "      <td>0.000012</td>\n",
       "      <td>-0.000023</td>\n",
       "      <td>-0.000039</td>\n",
       "      <td>...</td>\n",
       "      <td>0.000027</td>\n",
       "      <td>0.000026</td>\n",
       "      <td>0.000083</td>\n",
       "      <td>0.000056</td>\n",
       "      <td>0.000023</td>\n",
       "      <td>-0.000005</td>\n",
       "      <td>-0.000045</td>\n",
       "      <td>-0.000059</td>\n",
       "      <td>-0.000064</td>\n",
       "      <td>-0.000059</td>\n",
       "    </tr>\n",
       "    <tr>\n",
       "      <th>17</th>\n",
       "      <td>0.000060</td>\n",
       "      <td>0.000023</td>\n",
       "      <td>0.000007</td>\n",
       "      <td>0.000072</td>\n",
       "      <td>0.000062</td>\n",
       "      <td>0.000084</td>\n",
       "      <td>0.000149</td>\n",
       "      <td>0.000154</td>\n",
       "      <td>0.000074</td>\n",
       "      <td>0.000033</td>\n",
       "      <td>...</td>\n",
       "      <td>0.000030</td>\n",
       "      <td>-0.000020</td>\n",
       "      <td>-0.000033</td>\n",
       "      <td>-0.000034</td>\n",
       "      <td>-0.000009</td>\n",
       "      <td>-0.000003</td>\n",
       "      <td>-0.000033</td>\n",
       "      <td>-0.000038</td>\n",
       "      <td>-0.000047</td>\n",
       "      <td>-0.000043</td>\n",
       "    </tr>\n",
       "    <tr>\n",
       "      <th>18</th>\n",
       "      <td>0.000044</td>\n",
       "      <td>0.000014</td>\n",
       "      <td>0.000003</td>\n",
       "      <td>0.000060</td>\n",
       "      <td>0.000045</td>\n",
       "      <td>0.000078</td>\n",
       "      <td>0.000141</td>\n",
       "      <td>0.000135</td>\n",
       "      <td>0.000069</td>\n",
       "      <td>0.000021</td>\n",
       "      <td>...</td>\n",
       "      <td>0.000016</td>\n",
       "      <td>-0.000011</td>\n",
       "      <td>-0.000024</td>\n",
       "      <td>-0.000030</td>\n",
       "      <td>-0.000019</td>\n",
       "      <td>-0.000024</td>\n",
       "      <td>-0.000037</td>\n",
       "      <td>-0.000043</td>\n",
       "      <td>-0.000056</td>\n",
       "      <td>-0.000053</td>\n",
       "    </tr>\n",
       "    <tr>\n",
       "      <th>19</th>\n",
       "      <td>0.000109</td>\n",
       "      <td>0.000054</td>\n",
       "      <td>0.000032</td>\n",
       "      <td>0.000112</td>\n",
       "      <td>0.000087</td>\n",
       "      <td>0.000119</td>\n",
       "      <td>0.000191</td>\n",
       "      <td>0.000189</td>\n",
       "      <td>0.000094</td>\n",
       "      <td>0.000035</td>\n",
       "      <td>...</td>\n",
       "      <td>0.000029</td>\n",
       "      <td>-0.000022</td>\n",
       "      <td>-0.000035</td>\n",
       "      <td>-0.000033</td>\n",
       "      <td>-0.000003</td>\n",
       "      <td>0.000005</td>\n",
       "      <td>-0.000022</td>\n",
       "      <td>-0.000037</td>\n",
       "      <td>-0.000057</td>\n",
       "      <td>-0.000039</td>\n",
       "    </tr>\n",
       "    <tr>\n",
       "      <th>20</th>\n",
       "      <td>-0.000005</td>\n",
       "      <td>-0.000047</td>\n",
       "      <td>-0.000054</td>\n",
       "      <td>0.000025</td>\n",
       "      <td>0.000006</td>\n",
       "      <td>0.000019</td>\n",
       "      <td>0.000075</td>\n",
       "      <td>0.000083</td>\n",
       "      <td>0.000008</td>\n",
       "      <td>-0.000032</td>\n",
       "      <td>...</td>\n",
       "      <td>0.000010</td>\n",
       "      <td>-0.000033</td>\n",
       "      <td>-0.000012</td>\n",
       "      <td>-0.000036</td>\n",
       "      <td>-0.000020</td>\n",
       "      <td>-0.000039</td>\n",
       "      <td>-0.000082</td>\n",
       "      <td>-0.000087</td>\n",
       "      <td>-0.000093</td>\n",
       "      <td>-0.000092</td>\n",
       "    </tr>\n",
       "    <tr>\n",
       "      <th>21</th>\n",
       "      <td>0.000047</td>\n",
       "      <td>0.000003</td>\n",
       "      <td>-0.000027</td>\n",
       "      <td>0.000074</td>\n",
       "      <td>0.000034</td>\n",
       "      <td>0.000050</td>\n",
       "      <td>0.000119</td>\n",
       "      <td>0.000117</td>\n",
       "      <td>0.000036</td>\n",
       "      <td>-0.000012</td>\n",
       "      <td>...</td>\n",
       "      <td>0.000016</td>\n",
       "      <td>-0.000025</td>\n",
       "      <td>-0.000011</td>\n",
       "      <td>-0.000018</td>\n",
       "      <td>-0.000002</td>\n",
       "      <td>-0.000014</td>\n",
       "      <td>-0.000060</td>\n",
       "      <td>-0.000074</td>\n",
       "      <td>-0.000086</td>\n",
       "      <td>-0.000071</td>\n",
       "    </tr>\n",
       "    <tr>\n",
       "      <th>22</th>\n",
       "      <td>0.000095</td>\n",
       "      <td>0.000051</td>\n",
       "      <td>0.000019</td>\n",
       "      <td>0.000117</td>\n",
       "      <td>0.000087</td>\n",
       "      <td>0.000108</td>\n",
       "      <td>0.000179</td>\n",
       "      <td>0.000186</td>\n",
       "      <td>0.000084</td>\n",
       "      <td>0.000009</td>\n",
       "      <td>...</td>\n",
       "      <td>0.000029</td>\n",
       "      <td>-0.000029</td>\n",
       "      <td>-0.000048</td>\n",
       "      <td>-0.000038</td>\n",
       "      <td>0.000001</td>\n",
       "      <td>0.000001</td>\n",
       "      <td>-0.000042</td>\n",
       "      <td>-0.000051</td>\n",
       "      <td>-0.000065</td>\n",
       "      <td>-0.000054</td>\n",
       "    </tr>\n",
       "    <tr>\n",
       "      <th>23</th>\n",
       "      <td>0.000066</td>\n",
       "      <td>0.000030</td>\n",
       "      <td>0.000022</td>\n",
       "      <td>0.000087</td>\n",
       "      <td>0.000071</td>\n",
       "      <td>0.000098</td>\n",
       "      <td>0.000161</td>\n",
       "      <td>0.000149</td>\n",
       "      <td>0.000081</td>\n",
       "      <td>0.000036</td>\n",
       "      <td>...</td>\n",
       "      <td>0.000036</td>\n",
       "      <td>0.000009</td>\n",
       "      <td>-0.000005</td>\n",
       "      <td>-0.000003</td>\n",
       "      <td>0.000015</td>\n",
       "      <td>0.000016</td>\n",
       "      <td>-0.000005</td>\n",
       "      <td>-0.000010</td>\n",
       "      <td>-0.000021</td>\n",
       "      <td>-0.000010</td>\n",
       "    </tr>\n",
       "  </tbody>\n",
       "</table>\n",
       "<p>24 rows × 1446 columns</p>\n",
       "</div>"
      ],
      "text/plain": [
       "    252.071400  252.201700  252.331900  252.462200  252.592400  252.722600  \\\n",
       "0    -0.000004   -0.000012   -0.000029    0.000011   -0.000006   -0.000007   \n",
       "1    -0.000098   -0.000096   -0.000145   -0.000055   -0.000081   -0.000104   \n",
       "2    -0.000032   -0.000048   -0.000088   -0.000015   -0.000042   -0.000054   \n",
       "3    -0.000053   -0.000062   -0.000100   -0.000020   -0.000056   -0.000075   \n",
       "4     0.000060    0.000024    0.000002    0.000082    0.000058    0.000083   \n",
       "5     0.000062    0.000011   -0.000008    0.000093    0.000063    0.000081   \n",
       "6    -0.000056   -0.000063   -0.000118   -0.000016   -0.000046   -0.000077   \n",
       "7    -0.000018   -0.000030   -0.000051    0.000005   -0.000025   -0.000026   \n",
       "8     0.000028    0.000003   -0.000010    0.000043    0.000032    0.000043   \n",
       "9     0.000081    0.000042    0.000035    0.000111    0.000093    0.000123   \n",
       "10    0.000013   -0.000002   -0.000017    0.000029    0.000013    0.000018   \n",
       "11   -0.000020   -0.000027   -0.000101    0.000024   -0.000038   -0.000050   \n",
       "12    0.000061    0.000023    0.000004    0.000080    0.000055    0.000081   \n",
       "13    0.000079    0.000039    0.000027    0.000098    0.000080    0.000102   \n",
       "14   -0.000010   -0.000028   -0.000040    0.000012   -0.000009   -0.000020   \n",
       "15   -0.000057   -0.000060   -0.000113   -0.000018   -0.000061   -0.000090   \n",
       "16   -0.000036   -0.000042   -0.000066   -0.000014   -0.000032   -0.000035   \n",
       "17    0.000060    0.000023    0.000007    0.000072    0.000062    0.000084   \n",
       "18    0.000044    0.000014    0.000003    0.000060    0.000045    0.000078   \n",
       "19    0.000109    0.000054    0.000032    0.000112    0.000087    0.000119   \n",
       "20   -0.000005   -0.000047   -0.000054    0.000025    0.000006    0.000019   \n",
       "21    0.000047    0.000003   -0.000027    0.000074    0.000034    0.000050   \n",
       "22    0.000095    0.000051    0.000019    0.000117    0.000087    0.000108   \n",
       "23    0.000066    0.000030    0.000022    0.000087    0.000071    0.000098   \n",
       "\n",
       "    252.852900  252.983100  253.113300  253.243600  ...  428.718100  \\\n",
       "0     0.000007    0.000023    0.000003   -0.000018  ...    0.000043   \n",
       "1    -0.000059   -0.000020   -0.000068   -0.000114  ...    0.000026   \n",
       "2    -0.000034    0.000006   -0.000034   -0.000062  ...    0.000031   \n",
       "3    -0.000043   -0.000007   -0.000044   -0.000072  ...    0.000021   \n",
       "4     0.000160    0.000157    0.000067   -0.000003  ...    0.000019   \n",
       "5     0.000171    0.000156    0.000052   -0.000011  ...    0.000024   \n",
       "6    -0.000033   -0.000010   -0.000063   -0.000110  ...    0.000055   \n",
       "7    -0.000001    0.000016   -0.000013   -0.000041  ...    0.000038   \n",
       "8     0.000081    0.000086    0.000043    0.000002  ...    0.000037   \n",
       "9     0.000198    0.000190    0.000097    0.000048  ...    0.000026   \n",
       "10    0.000051    0.000055    0.000019   -0.000006  ...    0.000048   \n",
       "11    0.000013   -0.000003   -0.000030   -0.000091  ...    0.000064   \n",
       "12    0.000151    0.000152    0.000058    0.000000  ...    0.000014   \n",
       "13    0.000164    0.000165    0.000086    0.000038  ...    0.000018   \n",
       "14    0.000010    0.000034   -0.000002   -0.000023  ...    0.000044   \n",
       "15   -0.000046    0.000003   -0.000061   -0.000110  ...    0.000033   \n",
       "16   -0.000011    0.000012   -0.000023   -0.000039  ...    0.000027   \n",
       "17    0.000149    0.000154    0.000074    0.000033  ...    0.000030   \n",
       "18    0.000141    0.000135    0.000069    0.000021  ...    0.000016   \n",
       "19    0.000191    0.000189    0.000094    0.000035  ...    0.000029   \n",
       "20    0.000075    0.000083    0.000008   -0.000032  ...    0.000010   \n",
       "21    0.000119    0.000117    0.000036   -0.000012  ...    0.000016   \n",
       "22    0.000179    0.000186    0.000084    0.000009  ...    0.000029   \n",
       "23    0.000161    0.000149    0.000081    0.000036  ...    0.000036   \n",
       "\n",
       "    428.828600  428.939000  429.049500  429.159900  429.270300  429.380600  \\\n",
       "0     0.000140    0.000400    0.000306    0.000087    0.000016   -0.000021   \n",
       "1    -0.000050   -0.000073   -0.000083   -0.000046   -0.000037   -0.000099   \n",
       "2    -0.000029   -0.000034   -0.000042   -0.000002   -0.000008   -0.000054   \n",
       "3    -0.000036   -0.000030   -0.000045   -0.000009   -0.000025   -0.000075   \n",
       "4    -0.000031   -0.000069   -0.000049   -0.000008   -0.000020   -0.000056   \n",
       "5    -0.000019   -0.000010   -0.000017   -0.000007   -0.000018   -0.000066   \n",
       "6    -0.000037   -0.000060   -0.000054   -0.000013   -0.000009   -0.000071   \n",
       "7    -0.000010   -0.000012   -0.000005    0.000009    0.000000   -0.000026   \n",
       "8     0.000000   -0.000004   -0.000008    0.000009    0.000007   -0.000014   \n",
       "9    -0.000009   -0.000021   -0.000020    0.000001    0.000003   -0.000016   \n",
       "10    0.000102    0.000271    0.000229    0.000076    0.000018   -0.000012   \n",
       "11   -0.000022    0.000056    0.000064    0.000021   -0.000014   -0.000052   \n",
       "12   -0.000027   -0.000047   -0.000046   -0.000014   -0.000018   -0.000053   \n",
       "13   -0.000017   -0.000028   -0.000025    0.000001    0.000003   -0.000021   \n",
       "14    0.000051    0.000160    0.000119    0.000047    0.000015   -0.000020   \n",
       "15   -0.000049   -0.000087   -0.000080   -0.000024   -0.000017   -0.000089   \n",
       "16    0.000026    0.000083    0.000056    0.000023   -0.000005   -0.000045   \n",
       "17   -0.000020   -0.000033   -0.000034   -0.000009   -0.000003   -0.000033   \n",
       "18   -0.000011   -0.000024   -0.000030   -0.000019   -0.000024   -0.000037   \n",
       "19   -0.000022   -0.000035   -0.000033   -0.000003    0.000005   -0.000022   \n",
       "20   -0.000033   -0.000012   -0.000036   -0.000020   -0.000039   -0.000082   \n",
       "21   -0.000025   -0.000011   -0.000018   -0.000002   -0.000014   -0.000060   \n",
       "22   -0.000029   -0.000048   -0.000038    0.000001    0.000001   -0.000042   \n",
       "23    0.000009   -0.000005   -0.000003    0.000015    0.000016   -0.000005   \n",
       "\n",
       "    429.491000  429.601300  429.711600  \n",
       "0    -0.000035   -0.000040   -0.000028  \n",
       "1    -0.000118   -0.000148   -0.000127  \n",
       "2    -0.000068   -0.000079   -0.000069  \n",
       "3    -0.000094   -0.000111   -0.000093  \n",
       "4    -0.000071   -0.000084   -0.000065  \n",
       "5    -0.000079   -0.000088   -0.000071  \n",
       "6    -0.000095   -0.000113   -0.000095  \n",
       "7    -0.000047   -0.000060   -0.000048  \n",
       "8    -0.000015   -0.000029   -0.000015  \n",
       "9    -0.000030   -0.000037   -0.000024  \n",
       "10   -0.000021   -0.000027   -0.000018  \n",
       "11   -0.000069   -0.000089   -0.000075  \n",
       "12   -0.000068   -0.000072   -0.000062  \n",
       "13   -0.000033   -0.000040   -0.000033  \n",
       "14   -0.000031   -0.000045   -0.000033  \n",
       "15   -0.000094   -0.000121   -0.000108  \n",
       "16   -0.000059   -0.000064   -0.000059  \n",
       "17   -0.000038   -0.000047   -0.000043  \n",
       "18   -0.000043   -0.000056   -0.000053  \n",
       "19   -0.000037   -0.000057   -0.000039  \n",
       "20   -0.000087   -0.000093   -0.000092  \n",
       "21   -0.000074   -0.000086   -0.000071  \n",
       "22   -0.000051   -0.000065   -0.000054  \n",
       "23   -0.000010   -0.000021   -0.000010  \n",
       "\n",
       "[24 rows x 1446 columns]"
      ]
     },
     "execution_count": 6,
     "metadata": {},
     "output_type": "execute_result"
    }
   ],
   "source": [
    "x_df = pd.read_csv('../avg_base_wl_sum_25-02.csv', sep = ',')\n",
    "values = x_df.values\n",
    "#wl=x_df.columns.values\n",
    "#print(wl.shape)\n",
    "\n",
    "#print(values)\n",
    "#print(type(values))\n",
    "print(values.shape)\n",
    "print(values[1].shape)\n",
    "print(len(values))\n",
    "x_df"
   ]
  },
  {
   "cell_type": "code",
   "execution_count": 7,
   "metadata": {},
   "outputs": [
    {
     "name": "stdout",
     "output_type": "stream",
     "text": [
      "[252.0714 252.2017 252.3319 ... 429.491  429.6013 429.7116]\n"
     ]
    },
    {
     "data": {
      "image/png": "[encoded data removed]",
      "text/plain": [
       "<Figure size 432x288 with 1 Axes>"
      ]
     },
     "metadata": {
      "needs_background": "light"
     },
     "output_type": "display_data"
    }
   ],
   "source": [
    "#This is just for visualizing the various plots of the samples\n",
    "\n",
    "df = pd.read_csv('../ref_new/1.csv')\n",
    "data=df.values\n",
    "wl= data[0]\n",
    "print(wl)\n",
    "\n",
    "for i in range(len(values)):\n",
    "    plt.plot(wl, data[i,:])\n",
    "    #plt.show() #comment this one to have unique plot instead of multiple ones\n",
    "#range(len(dfs))\n",
    "#\"\"\"\n",
    "\n"
   ]
  },
  {
   "cell_type": "code",
   "execution_count": 8,
   "metadata": {},
   "outputs": [
    {
     "name": "stdout",
     "output_type": "stream",
     "text": [
      "<class 'pandas.core.frame.DataFrame'>\n",
      "(24, 9)\n"
     ]
    },
    {
     "data": {
      "text/html": [
       "<div>\n",
       "<style scoped>\n",
       "    .dataframe tbody tr th:only-of-type {\n",
       "        vertical-align: middle;\n",
       "    }\n",
       "\n",
       "    .dataframe tbody tr th {\n",
       "        vertical-align: top;\n",
       "    }\n",
       "\n",
       "    .dataframe thead th {\n",
       "        text-align: right;\n",
       "    }\n",
       "</style>\n",
       "<table border=\"1\" class=\"dataframe\">\n",
       "  <thead>\n",
       "    <tr style=\"text-align: right;\">\n",
       "      <th></th>\n",
       "      <th>Reference Number</th>\n",
       "      <th>Si</th>\n",
       "      <th>Fe</th>\n",
       "      <th>Mg</th>\n",
       "      <th>Zn</th>\n",
       "      <th>Cu</th>\n",
       "      <th>Mn</th>\n",
       "      <th>Al</th>\n",
       "      <th>Total</th>\n",
       "    </tr>\n",
       "  </thead>\n",
       "  <tbody>\n",
       "    <tr>\n",
       "      <th>0</th>\n",
       "      <td>1</td>\n",
       "      <td>0.185</td>\n",
       "      <td>0.228</td>\n",
       "      <td>2.940</td>\n",
       "      <td>0.0304</td>\n",
       "      <td>0.0620</td>\n",
       "      <td>0.280</td>\n",
       "      <td>96.0000</td>\n",
       "      <td>99.7254</td>\n",
       "    </tr>\n",
       "    <tr>\n",
       "      <th>1</th>\n",
       "      <td>2</td>\n",
       "      <td>0.360</td>\n",
       "      <td>0.600</td>\n",
       "      <td>1.100</td>\n",
       "      <td>0.0700</td>\n",
       "      <td>0.2000</td>\n",
       "      <td>0.830</td>\n",
       "      <td>96.5787</td>\n",
       "      <td>99.7387</td>\n",
       "    </tr>\n",
       "    <tr>\n",
       "      <th>2</th>\n",
       "      <td>3</td>\n",
       "      <td>9.140</td>\n",
       "      <td>1.010</td>\n",
       "      <td>0.200</td>\n",
       "      <td>0.4200</td>\n",
       "      <td>3.6000</td>\n",
       "      <td>0.410</td>\n",
       "      <td>84.7770</td>\n",
       "      <td>99.5570</td>\n",
       "    </tr>\n",
       "    <tr>\n",
       "      <th>3</th>\n",
       "      <td>4</td>\n",
       "      <td>8.565</td>\n",
       "      <td>0.000</td>\n",
       "      <td>0.293</td>\n",
       "      <td>0.8870</td>\n",
       "      <td>2.6360</td>\n",
       "      <td>0.330</td>\n",
       "      <td>86.5650</td>\n",
       "      <td>99.2760</td>\n",
       "    </tr>\n",
       "    <tr>\n",
       "      <th>4</th>\n",
       "      <td>5</td>\n",
       "      <td>9.500</td>\n",
       "      <td>0.000</td>\n",
       "      <td>0.391</td>\n",
       "      <td>0.0000</td>\n",
       "      <td>0.0580</td>\n",
       "      <td>0.016</td>\n",
       "      <td>90.0210</td>\n",
       "      <td>99.9860</td>\n",
       "    </tr>\n",
       "    <tr>\n",
       "      <th>5</th>\n",
       "      <td>6</td>\n",
       "      <td>7.220</td>\n",
       "      <td>0.140</td>\n",
       "      <td>0.360</td>\n",
       "      <td>0.0840</td>\n",
       "      <td>0.1200</td>\n",
       "      <td>0.053</td>\n",
       "      <td>91.8090</td>\n",
       "      <td>99.7860</td>\n",
       "    </tr>\n",
       "    <tr>\n",
       "      <th>6</th>\n",
       "      <td>7</td>\n",
       "      <td>7.460</td>\n",
       "      <td>0.530</td>\n",
       "      <td>0.036</td>\n",
       "      <td>0.1400</td>\n",
       "      <td>0.1500</td>\n",
       "      <td>0.100</td>\n",
       "      <td>91.4140</td>\n",
       "      <td>99.8300</td>\n",
       "    </tr>\n",
       "    <tr>\n",
       "      <th>7</th>\n",
       "      <td>8</td>\n",
       "      <td>12.900</td>\n",
       "      <td>0.120</td>\n",
       "      <td>0.520</td>\n",
       "      <td>0.1550</td>\n",
       "      <td>0.5200</td>\n",
       "      <td>0.286</td>\n",
       "      <td>84.7905</td>\n",
       "      <td>99.2915</td>\n",
       "    </tr>\n",
       "    <tr>\n",
       "      <th>8</th>\n",
       "      <td>9</td>\n",
       "      <td>8.750</td>\n",
       "      <td>0.460</td>\n",
       "      <td>1.710</td>\n",
       "      <td>0.0290</td>\n",
       "      <td>2.0000</td>\n",
       "      <td>0.056</td>\n",
       "      <td>85.3100</td>\n",
       "      <td>98.3150</td>\n",
       "    </tr>\n",
       "    <tr>\n",
       "      <th>9</th>\n",
       "      <td>10</td>\n",
       "      <td>0.260</td>\n",
       "      <td>0.420</td>\n",
       "      <td>1.260</td>\n",
       "      <td>0.0200</td>\n",
       "      <td>0.0040</td>\n",
       "      <td>1.160</td>\n",
       "      <td>96.8346</td>\n",
       "      <td>99.9586</td>\n",
       "    </tr>\n",
       "    <tr>\n",
       "      <th>10</th>\n",
       "      <td>11</td>\n",
       "      <td>0.070</td>\n",
       "      <td>0.100</td>\n",
       "      <td>0.410</td>\n",
       "      <td>0.1800</td>\n",
       "      <td>0.0600</td>\n",
       "      <td>1.450</td>\n",
       "      <td>97.6000</td>\n",
       "      <td>99.8700</td>\n",
       "    </tr>\n",
       "    <tr>\n",
       "      <th>11</th>\n",
       "      <td>12</td>\n",
       "      <td>0.160</td>\n",
       "      <td>0.310</td>\n",
       "      <td>0.880</td>\n",
       "      <td>0.1000</td>\n",
       "      <td>0.1100</td>\n",
       "      <td>1.140</td>\n",
       "      <td>97.1500</td>\n",
       "      <td>99.8500</td>\n",
       "    </tr>\n",
       "    <tr>\n",
       "      <th>12</th>\n",
       "      <td>13</td>\n",
       "      <td>6.120</td>\n",
       "      <td>0.000</td>\n",
       "      <td>0.320</td>\n",
       "      <td>0.0000</td>\n",
       "      <td>0.0054</td>\n",
       "      <td>0.016</td>\n",
       "      <td>93.5352</td>\n",
       "      <td>99.9966</td>\n",
       "    </tr>\n",
       "    <tr>\n",
       "      <th>13</th>\n",
       "      <td>14</td>\n",
       "      <td>12.530</td>\n",
       "      <td>0.310</td>\n",
       "      <td>0.025</td>\n",
       "      <td>0.0500</td>\n",
       "      <td>0.0560</td>\n",
       "      <td>0.033</td>\n",
       "      <td>86.8180</td>\n",
       "      <td>99.8220</td>\n",
       "    </tr>\n",
       "    <tr>\n",
       "      <th>14</th>\n",
       "      <td>15</td>\n",
       "      <td>0.530</td>\n",
       "      <td>0.230</td>\n",
       "      <td>0.770</td>\n",
       "      <td>0.0310</td>\n",
       "      <td>0.0060</td>\n",
       "      <td>0.024</td>\n",
       "      <td>98.3881</td>\n",
       "      <td>99.9791</td>\n",
       "    </tr>\n",
       "    <tr>\n",
       "      <th>15</th>\n",
       "      <td>16</td>\n",
       "      <td>0.160</td>\n",
       "      <td>0.200</td>\n",
       "      <td>4.540</td>\n",
       "      <td>0.0520</td>\n",
       "      <td>0.0500</td>\n",
       "      <td>0.380</td>\n",
       "      <td>94.5340</td>\n",
       "      <td>99.9160</td>\n",
       "    </tr>\n",
       "    <tr>\n",
       "      <th>16</th>\n",
       "      <td>17</td>\n",
       "      <td>3.000</td>\n",
       "      <td>0.795</td>\n",
       "      <td>0.570</td>\n",
       "      <td>0.1540</td>\n",
       "      <td>4.2900</td>\n",
       "      <td>0.037</td>\n",
       "      <td>90.4640</td>\n",
       "      <td>99.3100</td>\n",
       "    </tr>\n",
       "    <tr>\n",
       "      <th>17</th>\n",
       "      <td>18</td>\n",
       "      <td>9.460</td>\n",
       "      <td>1.190</td>\n",
       "      <td>0.390</td>\n",
       "      <td>0.1600</td>\n",
       "      <td>3.1000</td>\n",
       "      <td>0.260</td>\n",
       "      <td>84.8070</td>\n",
       "      <td>99.3670</td>\n",
       "    </tr>\n",
       "    <tr>\n",
       "      <th>18</th>\n",
       "      <td>19</td>\n",
       "      <td>0.530</td>\n",
       "      <td>0.180</td>\n",
       "      <td>3.570</td>\n",
       "      <td>5.0600</td>\n",
       "      <td>1.9000</td>\n",
       "      <td>0.130</td>\n",
       "      <td>88.2100</td>\n",
       "      <td>99.5800</td>\n",
       "    </tr>\n",
       "    <tr>\n",
       "      <th>19</th>\n",
       "      <td>24</td>\n",
       "      <td>9.190</td>\n",
       "      <td>0.000</td>\n",
       "      <td>0.339</td>\n",
       "      <td>0.0000</td>\n",
       "      <td>0.0057</td>\n",
       "      <td>0.008</td>\n",
       "      <td>90.4538</td>\n",
       "      <td>99.9965</td>\n",
       "    </tr>\n",
       "    <tr>\n",
       "      <th>20</th>\n",
       "      <td>25</td>\n",
       "      <td>6.160</td>\n",
       "      <td>0.000</td>\n",
       "      <td>0.363</td>\n",
       "      <td>0.0000</td>\n",
       "      <td>0.0060</td>\n",
       "      <td>0.206</td>\n",
       "      <td>93.2574</td>\n",
       "      <td>99.9924</td>\n",
       "    </tr>\n",
       "    <tr>\n",
       "      <th>21</th>\n",
       "      <td>26</td>\n",
       "      <td>0.180</td>\n",
       "      <td>0.205</td>\n",
       "      <td>2.480</td>\n",
       "      <td>5.4400</td>\n",
       "      <td>1.6000</td>\n",
       "      <td>0.079</td>\n",
       "      <td>89.8430</td>\n",
       "      <td>99.8270</td>\n",
       "    </tr>\n",
       "    <tr>\n",
       "      <th>22</th>\n",
       "      <td>28</td>\n",
       "      <td>0.180</td>\n",
       "      <td>0.500</td>\n",
       "      <td>1.110</td>\n",
       "      <td>0.0520</td>\n",
       "      <td>0.1500</td>\n",
       "      <td>1.260</td>\n",
       "      <td>96.7210</td>\n",
       "      <td>99.9730</td>\n",
       "    </tr>\n",
       "    <tr>\n",
       "      <th>23</th>\n",
       "      <td>29</td>\n",
       "      <td>0.180</td>\n",
       "      <td>0.350</td>\n",
       "      <td>2.030</td>\n",
       "      <td>6.0800</td>\n",
       "      <td>1.3500</td>\n",
       "      <td>0.450</td>\n",
       "      <td>89.3900</td>\n",
       "      <td>99.8300</td>\n",
       "    </tr>\n",
       "  </tbody>\n",
       "</table>\n",
       "</div>"
      ],
      "text/plain": [
       "    Reference Number      Si     Fe     Mg      Zn      Cu     Mn       Al  \\\n",
       "0                  1   0.185  0.228  2.940  0.0304  0.0620  0.280  96.0000   \n",
       "1                  2   0.360  0.600  1.100  0.0700  0.2000  0.830  96.5787   \n",
       "2                  3   9.140  1.010  0.200  0.4200  3.6000  0.410  84.7770   \n",
       "3                  4   8.565  0.000  0.293  0.8870  2.6360  0.330  86.5650   \n",
       "4                  5   9.500  0.000  0.391  0.0000  0.0580  0.016  90.0210   \n",
       "5                  6   7.220  0.140  0.360  0.0840  0.1200  0.053  91.8090   \n",
       "6                  7   7.460  0.530  0.036  0.1400  0.1500  0.100  91.4140   \n",
       "7                  8  12.900  0.120  0.520  0.1550  0.5200  0.286  84.7905   \n",
       "8                  9   8.750  0.460  1.710  0.0290  2.0000  0.056  85.3100   \n",
       "9                 10   0.260  0.420  1.260  0.0200  0.0040  1.160  96.8346   \n",
       "10                11   0.070  0.100  0.410  0.1800  0.0600  1.450  97.6000   \n",
       "11                12   0.160  0.310  0.880  0.1000  0.1100  1.140  97.1500   \n",
       "12                13   6.120  0.000  0.320  0.0000  0.0054  0.016  93.5352   \n",
       "13                14  12.530  0.310  0.025  0.0500  0.0560  0.033  86.8180   \n",
       "14                15   0.530  0.230  0.770  0.0310  0.0060  0.024  98.3881   \n",
       "15                16   0.160  0.200  4.540  0.0520  0.0500  0.380  94.5340   \n",
       "16                17   3.000  0.795  0.570  0.1540  4.2900  0.037  90.4640   \n",
       "17                18   9.460  1.190  0.390  0.1600  3.1000  0.260  84.8070   \n",
       "18                19   0.530  0.180  3.570  5.0600  1.9000  0.130  88.2100   \n",
       "19                24   9.190  0.000  0.339  0.0000  0.0057  0.008  90.4538   \n",
       "20                25   6.160  0.000  0.363  0.0000  0.0060  0.206  93.2574   \n",
       "21                26   0.180  0.205  2.480  5.4400  1.6000  0.079  89.8430   \n",
       "22                28   0.180  0.500  1.110  0.0520  0.1500  1.260  96.7210   \n",
       "23                29   0.180  0.350  2.030  6.0800  1.3500  0.450  89.3900   \n",
       "\n",
       "      Total  \n",
       "0   99.7254  \n",
       "1   99.7387  \n",
       "2   99.5570  \n",
       "3   99.2760  \n",
       "4   99.9860  \n",
       "5   99.7860  \n",
       "6   99.8300  \n",
       "7   99.2915  \n",
       "8   98.3150  \n",
       "9   99.9586  \n",
       "10  99.8700  \n",
       "11  99.8500  \n",
       "12  99.9966  \n",
       "13  99.8220  \n",
       "14  99.9791  \n",
       "15  99.9160  \n",
       "16  99.3100  \n",
       "17  99.3670  \n",
       "18  99.5800  \n",
       "19  99.9965  \n",
       "20  99.9924  \n",
       "21  99.8270  \n",
       "22  99.9730  \n",
       "23  99.8300  "
      ]
     },
     "execution_count": 8,
     "metadata": {},
     "output_type": "execute_result"
    }
   ],
   "source": [
    "df_y = pd.read_csv('../concentration_1.csv', sep = ',')\n",
    "print(type(df_y))\n",
    "concentration=df_y.values\n",
    "print(concentration.shape)\n",
    "#print(concentration)\n",
    "\n",
    "y_values=df_y.values\n",
    "y_all=pd.DataFrame(y_values[:,1:-2])\n",
    "#print(y_all)\n",
    "df_y"
   ]
  },
  {
   "cell_type": "code",
   "execution_count": 9,
   "metadata": {
    "scrolled": true
   },
   "outputs": [
    {
     "name": "stdout",
     "output_type": "stream",
     "text": [
      "[ 0.185  0.36   9.14   8.565  9.5    7.22   7.46  12.9    8.75   0.26\n",
      "  0.07   0.16   6.12  12.53   0.53   0.16   3.     9.46   0.53   9.19\n",
      "  6.16   0.18   0.18   0.18 ]\n",
      "(24,)\n"
     ]
    }
   ],
   "source": [
    "y_val = concentration[:,1] #1-Si, 2-Fe, 3-Mg, 5-Cu, 6-Mn (4-Zn but too much sparse)\n",
    "print(y_val)\n",
    "print(y_val.shape)\n",
    "y_df= pd.DataFrame(y_val)\n",
    "#y_df"
   ]
  },
  {
   "cell_type": "code",
   "execution_count": null,
   "metadata": {},
   "outputs": [],
   "source": []
  },
  {
   "cell_type": "code",
   "execution_count": 10,
   "metadata": {},
   "outputs": [
    {
     "name": "stdout",
     "output_type": "stream",
     "text": [
      "(19, 1446) (19, 1)\n",
      "(5, 1446) (5, 1)\n",
      "        0\n",
      "9   0.260\n",
      "16  3.000\n",
      "20  6.160\n",
      "3   8.565\n",
      "14  0.530\n"
     ]
    }
   ],
   "source": [
    "X_train, X_test, y_train, y_test = train_test_split(x_df, y_df, test_size=0.2)\n",
    "print (X_train.shape, y_train.shape)\n",
    "print (X_test.shape, y_test.shape)\n",
    "print(y_test)"
   ]
  },
  {
   "cell_type": "code",
   "execution_count": null,
   "metadata": {},
   "outputs": [],
   "source": []
  },
  {
   "cell_type": "markdown",
   "metadata": {},
   "source": [
    "# Principal Components Analysis"
   ]
  },
  {
   "cell_type": "code",
   "execution_count": 11,
   "metadata": {},
   "outputs": [
    {
     "name": "stdout",
     "output_type": "stream",
     "text": [
      "(24, 1446)\n",
      "(1446,)\n",
      "24\n",
      "(24, 20)\n",
      "[38.95 59.71 71.43 78.86 84.79 88.46 90.94 93.09 94.69 96.11 96.82 97.46\n",
      " 98.   98.4  98.72 98.97 99.19 99.38 99.56 99.72]\n"
     ]
    }
   ],
   "source": [
    "n_components=20\n",
    "\n",
    "\n",
    "x = x_df.values\n",
    "print(x.shape)\n",
    "print(x[1].shape)\n",
    "print(len(x))\n",
    "\n",
    "\n",
    "# This has to be used later for regression, PCA is done on X only\n",
    "\"\"\"\n",
    "y_df = pd.read_csv('labels_aligned+.csv', sep = ',')\n",
    "concentration=y_df.values\n",
    "#print(concentration)\n",
    "multi_y = concentration[:,2:]\n",
    "#print (multi_y)\n",
    "print (multi_y.shape)\n",
    "multi_y= np.array(multi_y, dtype=np.float)\n",
    "y=np.around(multi_y, decimals=4)\n",
    "#print(y)\n",
    "\"\"\"\n",
    "\n",
    "# PCA\n",
    "\n",
    "X_std = StandardScaler().fit_transform(x)\n",
    "#print(X_std)\n",
    "\n",
    "pca = PCA(n_components= n_components)\n",
    "PC=pca.fit(X_std)\n",
    "\n",
    "principalComponents = pca.fit_transform(X_std)\n",
    "print(principalComponents.shape)\n",
    "#principalDf = pd.DataFrame(data = principalComponents, columns = ['principal component 1', 'principal component 2', 'principal component 3'])\n",
    "#print(principalDf)\n",
    "\n",
    "\n",
    "#print(pca.explained_variance_ratio_)\n",
    "print(np.cumsum(np.round(pca.explained_variance_ratio_, decimals=4)*100))\n",
    "#print(pca.singular_values_)"
   ]
  },
  {
   "cell_type": "code",
   "execution_count": 12,
   "metadata": {},
   "outputs": [
    {
     "name": "stdout",
     "output_type": "stream",
     "text": [
      "0.8974032431401451 -2851.774184421466\n",
      "2.0695922349839857 57546.45157357451\n"
     ]
    }
   ],
   "source": [
    "regr = linear_model.LinearRegression()\n",
    "# Fit\n",
    "regr.fit(principalComponents, y_df)\n",
    "# Calibration\n",
    "y_c = regr.predict(principalComponents)\n",
    "# Cross-validation\n",
    "y_cv = cross_val_predict(regr, principalComponents, y_df, cv=10)\n",
    "# Calculate scores for calibration and cross-validation\n",
    "score_c = r2_score(y_df, y_c)\n",
    "score_cv = r2_score(y_df, y_cv)\n",
    "# Calculate mean square error for calibration and cross validation\n",
    "\n",
    "mse_c = mean_squared_error(y_df, y_c)\n",
    "mse_cv = mean_squared_error(y_df, y_cv)\n",
    "\n",
    "print(score_c, score_cv)\n",
    "print(mse_c, mse_cv)"
   ]
  },
  {
   "cell_type": "markdown",
   "metadata": {},
   "source": [
    "now using PCA with Linear regression and PLS"
   ]
  },
  {
   "cell_type": "code",
   "execution_count": 13,
   "metadata": {},
   "outputs": [
    {
     "name": "stdout",
     "output_type": "stream",
     "text": [
      "(19, 1446)\n",
      "(1446,)\n",
      "19\n",
      "(19, 15)\n",
      "[38.24 59.39 72.61 81.1  86.18 90.23 93.15 95.17 96.27 97.09 97.87 98.52\n",
      " 98.87 99.18 99.44]\n"
     ]
    }
   ],
   "source": [
    "n_components=15\n",
    "\n",
    "x = X_train.values\n",
    "x_t = X_test.values\n",
    "print(x.shape)\n",
    "print(x[1].shape)\n",
    "print(len(x))\n",
    "\n",
    "\n",
    "# This has to be used later for regression, PCA is done on X only\n",
    "\"\"\"\n",
    "y_df = pd.read_csv('labels_aligned+.csv', sep = ',')\n",
    "concentration=y_df.values\n",
    "#print(concentration)\n",
    "multi_y = concentration[:,2:]\n",
    "#print (multi_y)\n",
    "print (multi_y.shape)\n",
    "multi_y= np.array(multi_y, dtype=np.float)\n",
    "y=np.around(multi_y, decimals=4)\n",
    "#print(y)\n",
    "\"\"\"\n",
    "\n",
    "# PCA\n",
    "\n",
    "X_std = StandardScaler().fit_transform(x)\n",
    "X_std_test = StandardScaler().fit_transform(x_t)\n",
    "#print(X_std)\n",
    "\n",
    "pca = PCA(n_components= n_components)\n",
    "PC=pca.fit(X_std)\n",
    "\n",
    "x_pc = pca.fit_transform(X_std)\n",
    "x_test1 = pca.transform(X_std_test)\n",
    "print(x_pc.shape)\n",
    "#principalDf = pd.DataFrame(data = principalComponents, columns = ['principal component 1', 'principal component 2', 'principal component 3'])\n",
    "#print(principalDf)\n",
    "\n",
    "\n",
    "#print(pca.explained_variance_ratio_)\n",
    "print(np.cumsum(np.round(pca.explained_variance_ratio_, decimals=4)*100))"
   ]
  },
  {
   "cell_type": "code",
   "execution_count": 14,
   "metadata": {},
   "outputs": [
    {
     "name": "stdout",
     "output_type": "stream",
     "text": [
      "R2_pred:  -1.4660509433815831\n",
      "MSE:  25.692443247379515\n"
     ]
    }
   ],
   "source": [
    "regr = linear_model.LinearRegression()\n",
    "# Fit\n",
    "regr.fit(x_pc, y_train)\n",
    "# Calibration\n",
    "y_p = regr.predict(x_test1)\n",
    "# Cross-validation\n",
    "#y_cv = cross_val_predict(regr, principalComponents, y_df, cv=10)\n",
    "# Calculate scores for calibration and cross-validation\n",
    "score_c = r2_score(y_test, y_p)\n",
    "#score_cv = r2_score(y_df, y_cv)\n",
    "# Calculate mean square error for calibration and cross validation\n",
    "mse_c = mean_squared_error(y_test, y_p)\n",
    "#mse_cv = mean_squared_error(y_df, y_cv)\n",
    "\n",
    "print(\"R2_pred: \", score_c)\n",
    "print(\"MSE: \", mse_c)"
   ]
  },
  {
   "cell_type": "code",
   "execution_count": 15,
   "metadata": {},
   "outputs": [
    {
     "name": "stdout",
     "output_type": "stream",
     "text": [
      "37% completed\n",
      "Suggested number of components:  1\n",
      "\n"
     ]
    },
    {
     "data": {
      "image/png": "[encoded data removed]",
      "text/plain": [
       "<Figure size 432x288 with 1 Axes>"
      ]
     },
     "metadata": {},
     "output_type": "display_data"
    },
    {
     "name": "stdout",
     "output_type": "stream",
     "text": [
      "R2 calib: 0.920\n",
      "R2 CV: -0.376\n",
      "MSE calib: 1.792\n",
      "MSE CV: 30.829\n"
     ]
    }
   ],
   "source": [
    "optimise_pls_cv(x_pc, y_train, 15, plot_components=True) "
   ]
  },
  {
   "cell_type": "code",
   "execution_count": 16,
   "metadata": {},
   "outputs": [
    {
     "name": "stdout",
     "output_type": "stream",
     "text": [
      "R2_pred:  -1.4660509433815871\n",
      "MSE:  25.692443247379554\n"
     ]
    }
   ],
   "source": [
    "pls = PLSRegression(n_components=3)\n",
    "# Fit\n",
    "pls.fit(x_pc, y_train)\n",
    "# Calibration\n",
    "y_c = pls.predict(x_test1)\n",
    "# Cross-validation\n",
    "#y_cv = cross_val_predict(regr, principalComponents, y_df, cv=10)\n",
    "# Calculate scores for calibration and cross-validation\n",
    "score_c = r2_score(y_test, y_c)\n",
    "#score_cv = r2_score(y_df, y_cv)\n",
    "# Calculate mean square error for calibration and cross validation\n",
    "mse_c = mean_squared_error(y_test, y_c)\n",
    "#mse_cv = mean_squared_error(y_df, y_cv)\n",
    "\n",
    "print(\"R2_pred: \", score_c)\n",
    "print(\"MSE: \", mse_c)"
   ]
  },
  {
   "cell_type": "markdown",
   "metadata": {},
   "source": [
    "# Linear Regression\n",
    "this is ordinary least square regression"
   ]
  },
  {
   "cell_type": "code",
   "execution_count": 17,
   "metadata": {},
   "outputs": [
    {
     "name": "stdout",
     "output_type": "stream",
     "text": [
      "R^2_pred:  -2.2865271528336417\n",
      "RMSE:  5.85154155198462 \n",
      "\n",
      "[real, predictions]\n",
      "[[ 0.26        8.58555881]\n",
      " [ 3.         -5.77091982]\n",
      " [ 6.16        3.17586416]\n",
      " [ 8.565       4.84589679]\n",
      " [ 0.53        2.02061504]]\n"
     ]
    },
    {
     "data": {
      "image/png": "[encoded data removed]",
      "text/plain": [
       "<Figure size 432x288 with 1 Axes>"
      ]
     },
     "metadata": {
      "needs_background": "light"
     },
     "output_type": "display_data"
    }
   ],
   "source": [
    "lm = linear_model.LinearRegression()\n",
    "model = lm.fit(X_train, y_train)\n",
    "predictions = lm.predict(X_test)\n",
    "\n",
    "\n",
    "rmse = sqrt(mean_squared_error(y_test, predictions))\n",
    "r2 = r2_score(y_test, predictions)\n",
    "print(\"R^2_pred: \", r2)\n",
    "print(\"RMSE: \", rmse, \"\\n\")\n",
    "\n",
    "\n",
    "b=np.append(y_test, predictions, axis=1)\n",
    "\n",
    "print(\"[real, predictions]\")\n",
    "print(b)\n",
    "\n",
    "plt.scatter(y_test, predictions)\n",
    "plt.xlabel('True Values')\n",
    "plt.ylabel('Predictions')\n",
    "plt.grid(True)\n",
    "plt.show()"
   ]
  },
  {
   "cell_type": "markdown",
   "metadata": {},
   "source": [
    "# Partial Least Square Regression"
   ]
  },
  {
   "cell_type": "markdown",
   "metadata": {},
   "source": [
    "## No preprocessing"
   ]
  },
  {
   "cell_type": "code",
   "execution_count": 18,
   "metadata": {},
   "outputs": [
    {
     "name": "stdout",
     "output_type": "stream",
     "text": [
      "(19, 1446) (19, 1)\n",
      "(5, 1446) (5, 1)\n"
     ]
    },
    {
     "data": {
      "text/html": [
       "<div>\n",
       "<style scoped>\n",
       "    .dataframe tbody tr th:only-of-type {\n",
       "        vertical-align: middle;\n",
       "    }\n",
       "\n",
       "    .dataframe tbody tr th {\n",
       "        vertical-align: top;\n",
       "    }\n",
       "\n",
       "    .dataframe thead th {\n",
       "        text-align: right;\n",
       "    }\n",
       "</style>\n",
       "<table border=\"1\" class=\"dataframe\">\n",
       "  <thead>\n",
       "    <tr style=\"text-align: right;\">\n",
       "      <th></th>\n",
       "      <th>0</th>\n",
       "    </tr>\n",
       "  </thead>\n",
       "  <tbody>\n",
       "    <tr>\n",
       "      <th>21</th>\n",
       "      <td>0.18</td>\n",
       "    </tr>\n",
       "    <tr>\n",
       "      <th>17</th>\n",
       "      <td>9.46</td>\n",
       "    </tr>\n",
       "    <tr>\n",
       "      <th>8</th>\n",
       "      <td>8.75</td>\n",
       "    </tr>\n",
       "    <tr>\n",
       "      <th>18</th>\n",
       "      <td>0.53</td>\n",
       "    </tr>\n",
       "    <tr>\n",
       "      <th>13</th>\n",
       "      <td>12.53</td>\n",
       "    </tr>\n",
       "  </tbody>\n",
       "</table>\n",
       "</div>"
      ],
      "text/plain": [
       "        0\n",
       "21   0.18\n",
       "17   9.46\n",
       "8    8.75\n",
       "18   0.53\n",
       "13  12.53"
      ]
     },
     "execution_count": 18,
     "metadata": {},
     "output_type": "execute_result"
    }
   ],
   "source": [
    "X_train, X_test, y_train, y_test = train_test_split(x_df, y_df, test_size=0.2)\n",
    "print (X_train.shape, y_train.shape)\n",
    "print (X_test.shape, y_test.shape)\n",
    "#print(X_test)\n",
    "y_test"
   ]
  },
  {
   "cell_type": "code",
   "execution_count": 19,
   "metadata": {},
   "outputs": [
    {
     "name": "stdout",
     "output_type": "stream",
     "text": [
      "100% completed\n",
      "Suggested number of components:  1\n",
      "\n"
     ]
    },
    {
     "data": {
      "image/png": "[encoded data removed]",
      "text/plain": [
       "<Figure size 432x288 with 1 Axes>"
      ]
     },
     "metadata": {},
     "output_type": "display_data"
    },
    {
     "name": "stdout",
     "output_type": "stream",
     "text": [
      "R2 calib: 0.243\n",
      "R2 CV: -0.076\n",
      "MSE calib: 15.262\n",
      "MSE CV: 21.699\n"
     ]
    }
   ],
   "source": [
    "optimise_pls_cv(x_df, y_df, 40, plot_components=True)\n",
    "#optimise_pls_cv(x_df, y_all, 40, plot_components=True)"
   ]
  },
  {
   "cell_type": "code",
   "execution_count": 20,
   "metadata": {},
   "outputs": [
    {
     "name": "stdout",
     "output_type": "stream",
     "text": [
      "R^2_cv -0.24537725560346701\n",
      "MSE:  25.12187691608332\n"
     ]
    }
   ],
   "source": [
    "# Define PLS object\n",
    "pls = PLSRegression(n_components=3)\n",
    "# Fit\n",
    "pls.fit(x_df, y_df)\n",
    "# Cross-validation\n",
    "y_cv = cross_val_predict(pls, x_df, y_df, cv=10)\n",
    "# Calculate scores\n",
    "score = r2_score(y_df, y_cv)\n",
    "mse = mean_squared_error(y_df, y_cv)\n",
    "\n",
    "print(\"R^2_cv\", score)\n",
    "print(\"MSE: \", mse)"
   ]
  },
  {
   "cell_type": "code",
   "execution_count": 21,
   "metadata": {},
   "outputs": [
    {
     "name": "stdout",
     "output_type": "stream",
     "text": [
      "100% completed\n",
      "Suggested number of components:  1\n",
      "\n"
     ]
    },
    {
     "data": {
      "image/png": "[encoded data removed]",
      "text/plain": [
       "<Figure size 432x288 with 1 Axes>"
      ]
     },
     "metadata": {},
     "output_type": "display_data"
    },
    {
     "name": "stdout",
     "output_type": "stream",
     "text": [
      "R2 calib: 0.247\n",
      "R2 CV: -0.113\n",
      "MSE calib: 13.587\n",
      "MSE CV: 20.067\n"
     ]
    }
   ],
   "source": [
    "optimise_pls_cv(X_train,y_train, 40, plot_components=True)"
   ]
  },
  {
   "cell_type": "code",
   "execution_count": 22,
   "metadata": {},
   "outputs": [
    {
     "name": "stdout",
     "output_type": "stream",
     "text": [
      "R2_pred:  -0.49218044071177536\n",
      "R2_cv:  -0.46654792669098066\n",
      "\n",
      "TEST\n",
      " [real, predictions]\n",
      "[[ 0.18        4.92103394]\n",
      " [ 9.46        1.71403009]\n",
      " [ 8.75       -0.4440464 ]\n",
      " [ 0.53       -1.30427111]\n",
      " [12.53        8.41083999]]\n",
      "\n"
     ]
    },
    {
     "data": {
      "image/png": "[encoded data removed]",
      "text/plain": [
       "<Figure size 432x288 with 1 Axes>"
      ]
     },
     "metadata": {
      "needs_background": "light"
     },
     "output_type": "display_data"
    }
   ],
   "source": [
    "# Define PLS object\n",
    "pls = PLSRegression(n_components=3)\n",
    "# Fit\n",
    "pls.fit(X_train, y_train)\n",
    "# Cross-validation\n",
    "y_pred = pls.predict(X_test)\n",
    "y_pred1 = pls.predict(X_train)\n",
    "\n",
    "# Cross-validation\n",
    "y_cv = cross_val_predict(pls, X_train, y_train, cv=10)\n",
    "\n",
    "# Calculate scores for calibration and cross-validation\n",
    "score_pred = r2_score(y_test, y_pred)\n",
    "score_cv = r2_score(y_train, y_cv)\n",
    "\n",
    "print(\"R2_pred: \", score_pred)\n",
    "print(\"R2_cv: \",score_cv)\n",
    "print(\"\")\n",
    "\n",
    "b=np.append(y_test, y_pred, axis=1)\n",
    "\n",
    "print(\"TEST\\n [real, predictions]\")\n",
    "print(b)\n",
    "print(\"\")\n",
    "\n",
    "c=np.append(y_train, y_pred1, axis=1)\n",
    "\n",
    "#print(\"TRAIN\\n [real, predictions]\")\n",
    "#print(c)\n",
    "\n",
    "plt.scatter(y_test, y_pred)\n",
    "plt.scatter(y_train, y_pred1)\n",
    "plt.xlabel('True Values')\n",
    "plt.ylabel('Predictions')\n",
    "plt.grid(True)\n",
    "plt.show()"
   ]
  },
  {
   "cell_type": "code",
   "execution_count": 23,
   "metadata": {},
   "outputs": [
    {
     "name": "stdout",
     "output_type": "stream",
     "text": [
      "(1446,)\n"
     ]
    }
   ],
   "source": [
    "print(wl.shape)"
   ]
  },
  {
   "cell_type": "markdown",
   "metadata": {},
   "source": [
    "### Wavelenght selection for PLS"
   ]
  },
  {
   "cell_type": "code",
   "execution_count": 24,
   "metadata": {
    "scrolled": true
   },
   "outputs": [
    {
     "name": "stdout",
     "output_type": "stream",
     "text": [
      "100% completed\n",
      "Optimised number of PLS components:  9\n",
      "Wavelengths to be discarded  1417\n",
      "Optimised MSEP  5.120288585148565\n",
      "\n",
      "--- 371.9502127170563 seconds ---\n"
     ]
    }
   ],
   "source": [
    "start_time = time.time()\n",
    "\n",
    "opt_Xc, ncomp, wav, sorted_ind = pls_variable_selection(x_df.values, y_val, 15)\n",
    "\n",
    "print(\"--- %s seconds ---\" % (time.time() - start_time))"
   ]
  },
  {
   "cell_type": "code",
   "execution_count": 40,
   "metadata": {},
   "outputs": [
    {
     "name": "stdout",
     "output_type": "stream",
     "text": [
      "(24, 29)\n",
      "sorted indexes:  [  15  102 1203 ...   88 1400 1402]\n",
      "[254.0248 265.3373 402.3183 413.5758 401.5062 355.1538 254.2852 397.5469\n",
      " 342.0308 290.8076]\n"
     ]
    },
    {
     "data": {
      "image/png": "[encoded data removed]",
      "text/plain": [
       "<Figure size 432x288 with 1 Axes>"
      ]
     },
     "metadata": {
      "needs_background": "light"
     },
     "output_type": "display_data"
    }
   ],
   "source": [
    "print(opt_Xc.shape)\n",
    "print(\"sorted indexes: \", sorted_ind)\n",
    "print(wl[sorted_ind[:10]].T)\n",
    "\n",
    "plt.plot(opt_Xc.T)\n",
    "plt.show()"
   ]
  },
  {
   "cell_type": "code",
   "execution_count": 41,
   "metadata": {},
   "outputs": [
    {
     "name": "stdout",
     "output_type": "stream",
     "text": [
      "(19, 29) (19, 1)\n",
      "(5, 29) (5, 1)\n",
      "        0\n",
      "1    0.36\n",
      "5    7.22\n",
      "11   0.16\n",
      "13  12.53\n",
      "2    9.14\n"
     ]
    }
   ],
   "source": [
    "#X_train, X_test, y_train, y_test = train_test_split(opt_Xc, y_df, test_size=0.2, random_state = 3) #seed for Mg = 3, 16\n",
    "X_train, X_test, y_train, y_test = train_test_split(opt_Xc, y_df, test_size=0.2, random_state = 7) #seed for Si = 7\n",
    "#X_train, X_test, y_train, y_test = train_test_split(opt_Xc, y_df, test_size=0.2, random_state = 16) #seed for Cu =16\n",
    "\n",
    "#X_train, X_test, y_train, y_test = train_test_split(opt_Xc, y_df, test_size=0.2)\n",
    "print (X_train.shape, y_train.shape)\n",
    "print (X_test.shape, y_test.shape)\n",
    "print(y_test)"
   ]
  },
  {
   "cell_type": "code",
   "execution_count": 42,
   "metadata": {},
   "outputs": [
    {
     "name": "stdout",
     "output_type": "stream",
     "text": [
      "17% completed\n",
      "Suggested number of components:  6\n",
      "\n"
     ]
    },
    {
     "data": {
      "image/png": "[encoded data removed]",
      "text/plain": [
       "<Figure size 432x288 with 1 Axes>"
      ]
     },
     "metadata": {},
     "output_type": "display_data"
    },
    {
     "name": "stdout",
     "output_type": "stream",
     "text": [
      "R2 calib: 0.948\n",
      "R2 CV: 0.609\n",
      "MSE calib: 0.981\n",
      "MSE CV: 7.324\n"
     ]
    }
   ],
   "source": [
    "optimise_pls_cv(X_train,y_train, 7, plot_components=True)"
   ]
  },
  {
   "cell_type": "code",
   "execution_count": 43,
   "metadata": {},
   "outputs": [
    {
     "name": "stdout",
     "output_type": "stream",
     "text": [
      "R2_pred:  0.5128569497606005\n",
      "R2_cv:  0.2920808585045779\n",
      "\n",
      "TEST\n",
      " [real, predictions]\n",
      "[[ 0.36        2.99879819]\n",
      " [ 7.22        3.41764385]\n",
      " [ 0.16        0.49688095]\n",
      " [12.53        8.10574471]\n",
      " [ 9.14        4.98454067]]\n",
      "\n"
     ]
    },
    {
     "data": {
      "image/png": "[encoded data removed]",
      "text/plain": [
       "<Figure size 720x504 with 1 Axes>"
      ]
     },
     "metadata": {
      "needs_background": "light"
     },
     "output_type": "display_data"
    }
   ],
   "source": [
    "# Define PLS object\n",
    "pls = PLSRegression(n_components=12)\n",
    "# Fit\n",
    "pls.fit(X_train, y_train)\n",
    "\n",
    "y_pred = pls.predict(X_test)\n",
    "y_pred1 = pls.predict(X_train)\n",
    "\n",
    "# Cross-validation\n",
    "y_cv = cross_val_predict(pls, X_train, y_train, cv=10)\n",
    "\n",
    "# Calculate scores for calibration and cross-validation\n",
    "score_pred = r2_score(y_test, y_pred)\n",
    "score_cv = r2_score(y_train, y_cv)\n",
    "\n",
    "print(\"R2_pred: \", score_pred)\n",
    "print(\"R2_cv: \",score_cv)\n",
    "print(\"\")\n",
    "\n",
    "b=np.append(y_test, y_pred, axis=1)\n",
    "\n",
    "print(\"TEST\\n [real, predictions]\")\n",
    "print(b)\n",
    "print(\"\")\n",
    "\n",
    "c=np.append(y_train, y_pred1, axis=1)\n",
    "\n",
    "#print(\"TRAIN\\n [real, predictions]\")\n",
    "#print(c)\n",
    "\n",
    "plt.figure(figsize=(10,7))\n",
    "plt.scatter(y_test, y_pred)\n",
    "plt.scatter(y_train, y_pred1)\n",
    "plt.plot( y_test, linear_model.LinearRegression().fit(y_test, y_pred).predict(y_test) )\n",
    "plt.xlabel('True Values')\n",
    "plt.ylabel('Predictions')\n",
    "plt.grid(True)\n",
    "plt.show()"
   ]
  },
  {
   "cell_type": "markdown",
   "metadata": {},
   "source": [
    "## Using Normalization"
   ]
  },
  {
   "cell_type": "code",
   "execution_count": 44,
   "metadata": {},
   "outputs": [
    {
     "name": "stdout",
     "output_type": "stream",
     "text": [
      "(19, 29)\n",
      "(5, 29)\n"
     ]
    }
   ],
   "source": [
    "Xn_train = normalize(X_train, axis=1)\n",
    "Xn_test = normalize(X_test, axis=1)\n",
    "print(Xn_train.shape)\n",
    "print(Xn_test.shape)"
   ]
  },
  {
   "cell_type": "code",
   "execution_count": 45,
   "metadata": {},
   "outputs": [
    {
     "data": {
      "image/png": "[encoded data removed]",
      "text/plain": [
       "<Figure size 432x288 with 1 Axes>"
      ]
     },
     "metadata": {
      "needs_background": "light"
     },
     "output_type": "display_data"
    }
   ],
   "source": [
    "plt.plot(Xn_train.T)\n",
    "plt.show()"
   ]
  },
  {
   "cell_type": "code",
   "execution_count": 46,
   "metadata": {},
   "outputs": [
    {
     "name": "stdout",
     "output_type": "stream",
     "text": [
      "17% completed\n",
      "Suggested number of components:  5\n",
      "\n"
     ]
    },
    {
     "data": {
      "image/png": "[encoded data removed]",
      "text/plain": [
       "<Figure size 432x288 with 1 Axes>"
      ]
     },
     "metadata": {},
     "output_type": "display_data"
    },
    {
     "name": "stdout",
     "output_type": "stream",
     "text": [
      "R2 calib: 0.928\n",
      "R2 CV: 0.575\n",
      "MSE calib: 1.348\n",
      "MSE CV: 7.952\n"
     ]
    }
   ],
   "source": [
    "#optimise_pls_cv(Xn_train,y_train, 40, plot_components=True)\n",
    "optimise_pls_cv(Xn_train,y_train, 7, plot_components=True)"
   ]
  },
  {
   "cell_type": "code",
   "execution_count": 47,
   "metadata": {},
   "outputs": [
    {
     "name": "stdout",
     "output_type": "stream",
     "text": [
      "R2_pred:  0.21553482755716757\n",
      "R2_cv:  -0.09487204991416776\n",
      "\n",
      "TEST\n",
      " [real, predictions]\n",
      "[[3.60000000e-01 4.43516248e+00]\n",
      " [7.22000000e+00 1.06646930e+00]\n",
      " [1.60000000e-01 7.27457074e-03]\n",
      " [1.25300000e+01 7.49023433e+00]\n",
      " [9.14000000e+00 5.38360230e+00]]\n",
      "\n"
     ]
    },
    {
     "data": {
      "image/png": "[encoded data removed]",
      "text/plain": [
       "<Figure size 720x504 with 1 Axes>"
      ]
     },
     "metadata": {
      "needs_background": "light"
     },
     "output_type": "display_data"
    }
   ],
   "source": [
    "# Define PLS object\n",
    "pls = PLSRegression(n_components=14)\n",
    "# Fit\n",
    "pls.fit(Xn_train, y_train)\n",
    "\n",
    "y_pred = pls.predict(Xn_test)\n",
    "y_pred1 = pls.predict(Xn_train)\n",
    "\n",
    "# Cross-validation\n",
    "y_cv = cross_val_predict(pls, Xn_train, y_train, cv=10)\n",
    "\n",
    "# Calculate scores for calibration and cross-validation\n",
    "score_pred = r2_score(y_test, y_pred)\n",
    "score_cv = r2_score(y_train, y_cv)\n",
    "\n",
    "print(\"R2_pred: \", score_pred)\n",
    "print(\"R2_cv: \",score_cv)\n",
    "print(\"\")\n",
    "\n",
    "b=np.append(y_test, y_pred, axis=1)\n",
    "\n",
    "print(\"TEST\\n [real, predictions]\")\n",
    "print(b)\n",
    "print(\"\")\n",
    "\n",
    "c=np.append(y_train, y_pred1, axis=1)\n",
    "\n",
    "#print(\"TRAIN\\n [real, predictions]\")\n",
    "#print(c)\n",
    "\n",
    "plt.figure(figsize=(10,7))\n",
    "plt.scatter(y_test, y_pred)\n",
    "plt.scatter(y_train, y_pred1)\n",
    "plt.plot( y_test, linear_model.LinearRegression().fit(y_test, y_pred).predict(y_test) )\n",
    "plt.xlabel('True Values')\n",
    "plt.ylabel('Predictions')\n",
    "plt.grid(True)\n",
    "plt.show()"
   ]
  },
  {
   "cell_type": "markdown",
   "metadata": {},
   "source": [
    "## Using SNV"
   ]
  },
  {
   "cell_type": "code",
   "execution_count": 48,
   "metadata": {},
   "outputs": [
    {
     "name": "stdout",
     "output_type": "stream",
     "text": [
      "(19, 29)\n",
      "(5, 29)\n",
      "17% completed\n",
      "Suggested number of components:  6\n",
      "\n"
     ]
    },
    {
     "data": {
      "image/png": "[encoded data removed]",
      "text/plain": [
       "<Figure size 432x288 with 1 Axes>"
      ]
     },
     "metadata": {},
     "output_type": "display_data"
    },
    {
     "name": "stdout",
     "output_type": "stream",
     "text": [
      "R2 calib: 0.943\n",
      "R2 CV: 0.758\n",
      "MSE calib: 1.073\n",
      "MSE CV: 4.529\n"
     ]
    }
   ],
   "source": [
    "Xs_train = snv(X_train)\n",
    "Xs_test = snv(X_test)\n",
    "print(Xs_train.shape)\n",
    "print(Xs_test.shape)\n",
    "\n",
    "#optimise_pls_cv(Xn_train,y_train, 40, plot_components=True)\n",
    "optimise_pls_cv(Xs_train,y_train, 7, plot_components=True)"
   ]
  },
  {
   "cell_type": "code",
   "execution_count": 49,
   "metadata": {},
   "outputs": [
    {
     "data": {
      "image/png": "[encoded data removed]",
      "text/plain": [
       "<Figure size 432x288 with 1 Axes>"
      ]
     },
     "metadata": {
      "needs_background": "light"
     },
     "output_type": "display_data"
    }
   ],
   "source": [
    "plt.plot(Xs_train.T)\n",
    "plt.show()"
   ]
  },
  {
   "cell_type": "code",
   "execution_count": 50,
   "metadata": {},
   "outputs": [
    {
     "name": "stdout",
     "output_type": "stream",
     "text": [
      "R2_pred:  -0.022176877974004583\n",
      "R2_cv:  0.7262937119131265\n",
      "\n",
      "TEST\n",
      " [real, predictions]\n",
      "[[ 0.36        3.31373052]\n",
      " [ 7.22        4.72894402]\n",
      " [ 0.16        9.60376863]\n",
      " [12.53        8.86870486]\n",
      " [ 9.14       11.36986608]]\n",
      "\n"
     ]
    },
    {
     "data": {
      "image/png": "[encoded data removed]",
      "text/plain": [
       "<Figure size 720x504 with 1 Axes>"
      ]
     },
     "metadata": {
      "needs_background": "light"
     },
     "output_type": "display_data"
    }
   ],
   "source": [
    "# Define PLS object\n",
    "pls = PLSRegression(n_components=8)\n",
    "# Fit\n",
    "pls.fit(Xs_train, y_train)\n",
    "\n",
    "y_pred = pls.predict(Xs_test)\n",
    "y_pred1 = pls.predict(Xs_train)\n",
    "\n",
    "# Cross-validation\n",
    "y_cv = cross_val_predict(pls, Xs_train, y_train, cv=10)\n",
    "\n",
    "# Calculate scores for calibration and cross-validation\n",
    "score_pred = r2_score(y_test, y_pred)\n",
    "score_cv = r2_score(y_train, y_cv)\n",
    "\n",
    "print(\"R2_pred: \", score_pred)\n",
    "print(\"R2_cv: \",score_cv)\n",
    "print(\"\")\n",
    "\n",
    "b=np.append(y_test, y_pred, axis=1)\n",
    "\n",
    "print(\"TEST\\n [real, predictions]\")\n",
    "print(b)\n",
    "print(\"\")\n",
    "\n",
    "c=np.append(y_train, y_pred1, axis=1)\n",
    "\n",
    "#print(\"TRAIN\\n [real, predictions]\")\n",
    "#print(c)\n",
    "\n",
    "plt.figure(figsize=(10,7))\n",
    "plt.scatter(y_test, y_pred)\n",
    "plt.scatter(y_train, y_pred1)\n",
    "plt.plot( y_test, linear_model.LinearRegression().fit(y_test, y_pred).predict(y_test) )\n",
    "plt.xlabel('True Values')\n",
    "plt.ylabel('Predictions')\n",
    "plt.grid(True)\n",
    "plt.show()"
   ]
  },
  {
   "cell_type": "code",
   "execution_count": null,
   "metadata": {},
   "outputs": [],
   "source": []
  },
  {
   "cell_type": "markdown",
   "metadata": {},
   "source": [
    "## Using Max-norm"
   ]
  },
  {
   "cell_type": "code",
   "execution_count": 51,
   "metadata": {},
   "outputs": [
    {
     "name": "stdout",
     "output_type": "stream",
     "text": [
      "37% completed\n",
      "Suggested number of components:  6\n",
      "\n"
     ]
    },
    {
     "data": {
      "image/png": "[encoded data removed]",
      "text/plain": [
       "<Figure size 432x288 with 1 Axes>"
      ]
     },
     "metadata": {},
     "output_type": "display_data"
    },
    {
     "name": "stdout",
     "output_type": "stream",
     "text": [
      "R2 calib: 0.948\n",
      "R2 CV: 0.609\n",
      "MSE calib: 0.981\n",
      "MSE CV: 7.324\n"
     ]
    }
   ],
   "source": [
    "Xm_train = X_train / np.max(X_train)\n",
    "Xm_test = X_test / np.max(X_test)\n",
    "\n",
    "#optimise_pls_cv(Xn_train,y_train, 40, plot_components=True)\n",
    "optimise_pls_cv(Xm_train,y_train, 15, plot_components=True)"
   ]
  },
  {
   "cell_type": "code",
   "execution_count": 52,
   "metadata": {},
   "outputs": [
    {
     "data": {
      "image/png": "[encoded data removed]",
      "text/plain": [
       "<Figure size 432x288 with 1 Axes>"
      ]
     },
     "metadata": {
      "needs_background": "light"
     },
     "output_type": "display_data"
    }
   ],
   "source": [
    "plt.plot(Xm_train.T)\n",
    "plt.show()"
   ]
  },
  {
   "cell_type": "code",
   "execution_count": 53,
   "metadata": {},
   "outputs": [
    {
     "name": "stdout",
     "output_type": "stream",
     "text": [
      "R2_pred:  0.36041941693130364\n",
      "R2_cv:  0.292080858504579\n",
      "\n",
      "TEST\n",
      " [real, predictions]\n",
      "[[ 0.36        1.81226732]\n",
      " [ 7.22        2.29485037]\n",
      " [ 0.16       -1.07037645]\n",
      " [12.53        7.69635788]\n",
      " [ 9.14        4.10018801]]\n",
      "\n"
     ]
    },
    {
     "data": {
      "image/png": "[encoded data removed]",
      "text/plain": [
       "<Figure size 720x504 with 1 Axes>"
      ]
     },
     "metadata": {
      "needs_background": "light"
     },
     "output_type": "display_data"
    }
   ],
   "source": [
    "# Define PLS object\n",
    "pls = PLSRegression(n_components=12)\n",
    "# Fit\n",
    "pls.fit(Xm_train, y_train)\n",
    "\n",
    "y_pred = pls.predict(Xm_test)\n",
    "y_pred1 = pls.predict(Xm_train)\n",
    "\n",
    "# Cross-validation\n",
    "y_cv = cross_val_predict(pls, Xm_train, y_train, cv=10)\n",
    "\n",
    "# Calculate scores for calibration and cross-validation\n",
    "score_pred = r2_score(y_test, y_pred)\n",
    "score_cv = r2_score(y_train, y_cv)\n",
    "\n",
    "print(\"R2_pred: \", score_pred)\n",
    "print(\"R2_cv: \",score_cv)\n",
    "print(\"\")\n",
    "\n",
    "b=np.append(y_test, y_pred, axis=1)\n",
    "\n",
    "print(\"TEST\\n [real, predictions]\")\n",
    "print(b)\n",
    "print(\"\")\n",
    "\n",
    "c=np.append(y_train, y_pred1, axis=1)\n",
    "\n",
    "#print(\"TRAIN\\n [real, predictions]\")\n",
    "#print(c)\n",
    "\n",
    "plt.figure(figsize=(10,7))\n",
    "plt.scatter(y_test, y_pred)\n",
    "plt.scatter(y_train, y_pred1)\n",
    "plt.plot( y_test, linear_model.LinearRegression().fit(y_test, y_pred).predict(y_test) )\n",
    "plt.xlabel('True Values')\n",
    "plt.ylabel('Predictions')\n",
    "plt.grid(True)\n",
    "plt.show()"
   ]
  },
  {
   "cell_type": "code",
   "execution_count": null,
   "metadata": {},
   "outputs": [],
   "source": []
  },
  {
   "cell_type": "code",
   "execution_count": null,
   "metadata": {},
   "outputs": [],
   "source": []
  },
  {
   "cell_type": "code",
   "execution_count": null,
   "metadata": {},
   "outputs": [],
   "source": []
  },
  {
   "cell_type": "code",
   "execution_count": null,
   "metadata": {},
   "outputs": [],
   "source": []
  },
  {
   "cell_type": "code",
   "execution_count": null,
   "metadata": {},
   "outputs": [],
   "source": []
  },
  {
   "cell_type": "code",
   "execution_count": null,
   "metadata": {},
   "outputs": [],
   "source": []
  },
  {
   "cell_type": "code",
   "execution_count": null,
   "metadata": {},
   "outputs": [],
   "source": []
  },
  {
   "cell_type": "markdown",
   "metadata": {},
   "source": [
    "## Using Savgol filter"
   ]
  },
  {
   "cell_type": "code",
   "execution_count": 80,
   "metadata": {},
   "outputs": [
    {
     "name": "stdout",
     "output_type": "stream",
     "text": [
      "(19, 1446) (19, 1)\n",
      "(5, 1446) (5, 1)\n"
     ]
    }
   ],
   "source": [
    "X_train, X_test, y_train, y_test = train_test_split(x_df, y_df, test_size=0.2)\n",
    "print (X_train.shape, y_train.shape)\n",
    "print (X_test.shape, y_test.shape)\n",
    "#print(X_test)"
   ]
  },
  {
   "cell_type": "code",
   "execution_count": 81,
   "metadata": {},
   "outputs": [
    {
     "data": {
      "image/png": "[encoded data removed]",
      "text/plain": [
       "<Figure size 576x324 with 1 Axes>"
      ]
     },
     "metadata": {
      "needs_background": "light"
     },
     "output_type": "display_data"
    },
    {
     "name": "stdout",
     "output_type": "stream",
     "text": [
      "100% completed\n",
      "Suggested number of components:  3\n",
      "\n"
     ]
    },
    {
     "data": {
      "image/png": "[encoded data removed]",
      "text/plain": [
       "<Figure size 432x288 with 1 Axes>"
      ]
     },
     "metadata": {},
     "output_type": "display_data"
    },
    {
     "name": "stdout",
     "output_type": "stream",
     "text": [
      "R2 calib: 0.476\n",
      "R2 CV: -0.131\n",
      "MSE calib: 0.716\n",
      "MSE CV: 1.544\n"
     ]
    }
   ],
   "source": [
    "# Calculate second derivative\n",
    "X2 = savgol_filter(x_df, 101, polyorder = 6,deriv=0) # Is this useful with LIBS spectra???\n",
    "# Plot second derivative\n",
    "plt.figure(figsize=(8,4.5))\n",
    "with plt.style.context(('ggplot')):\n",
    "    plt.plot(range(len(X2.T)), X2.T)\n",
    "    plt.xlabel('Wavelength (nm)')\n",
    "    plt.ylabel('D2 Intensity')\n",
    "    plt.show()\n",
    "    \n",
    "    \n",
    "X2_1 = msc(X2)[0]\n",
    "    \n",
    "optimise_pls_cv(X2_1, y_df, 40, plot_components=True)"
   ]
  },
  {
   "cell_type": "code",
   "execution_count": 86,
   "metadata": {},
   "outputs": [
    {
     "name": "stdout",
     "output_type": "stream",
     "text": [
      "100% completed\n",
      "Suggested number of components:  2\n",
      "\n"
     ]
    },
    {
     "data": {
      "image/png": "[encoded data removed]",
      "text/plain": [
       "<Figure size 432x288 with 1 Axes>"
      ]
     },
     "metadata": {},
     "output_type": "display_data"
    },
    {
     "name": "stdout",
     "output_type": "stream",
     "text": [
      "R2 calib: 0.620\n",
      "R2 CV: -0.120\n",
      "MSE calib: 0.481\n",
      "MSE CV: 1.417\n"
     ]
    }
   ],
   "source": [
    "X2_train = savgol_filter(X_train, 37, polyorder = 4,deriv=1) \n",
    "X2_test = savgol_filter(X_test, 35, polyorder = 4,deriv=1) \n",
    "\n",
    "\n",
    "\n",
    "\n",
    "optimise_pls_cv(X2_train, y_train, 40, plot_components=True)"
   ]
  },
  {
   "cell_type": "code",
   "execution_count": 87,
   "metadata": {},
   "outputs": [
    {
     "name": "stdout",
     "output_type": "stream",
     "text": [
      "R2_pred:  -0.4142851041406448\n",
      "R2_cv:  -0.502517109222492\n",
      "\n",
      "[real, predictions]\n",
      "[[ 0.339      -0.72308828]\n",
      " [ 3.57        0.70202523]\n",
      " [ 0.2         0.71243987]\n",
      " [ 0.293       1.80524588]\n",
      " [ 0.363      -0.11310216]]\n"
     ]
    },
    {
     "data": {
      "image/png": "[encoded data removed]",
      "text/plain": [
       "<Figure size 432x288 with 1 Axes>"
      ]
     },
     "metadata": {
      "needs_background": "light"
     },
     "output_type": "display_data"
    }
   ],
   "source": [
    "# Define PLS object\n",
    "pls = PLSRegression(n_components=4)\n",
    "# Fit\n",
    "pls.fit(X2_train, y_train)\n",
    "\n",
    "y_pred = pls.predict(X2_test)\n",
    "\n",
    "# Cross-validation\n",
    "y_cv = cross_val_predict(pls, X2_train, y_train, cv=10)\n",
    "\n",
    "# Calculate scores for calibration and cross-validation\n",
    "score_pred = r2_score(y_test, y_pred)\n",
    "score_cv = r2_score(y_train, y_cv)\n",
    "\n",
    "print(\"R2_pred: \", score_pred)\n",
    "print(\"R2_cv: \",score_cv)\n",
    "print(\"\")\n",
    "\n",
    "b=np.append(y_test, y_pred, axis=1)\n",
    "\n",
    "print(\"[real, predictions]\")\n",
    "print(b)\n",
    "\n",
    "plt.scatter(y_test, y_pred)\n",
    "plt.xlabel('True Values')\n",
    "plt.ylabel('Predictions')\n",
    "plt.grid(True)\n",
    "plt.show()"
   ]
  },
  {
   "cell_type": "code",
   "execution_count": null,
   "metadata": {},
   "outputs": [],
   "source": []
  },
  {
   "cell_type": "markdown",
   "metadata": {},
   "source": [
    "# Elastic Net"
   ]
  },
  {
   "cell_type": "code",
   "execution_count": 49,
   "metadata": {},
   "outputs": [],
   "source": [
    "alphas = [0.0001, 0.001, 0.01, 0.1, 0.3, 0.5, 0.7, 1]"
   ]
  },
  {
   "cell_type": "code",
   "execution_count": 50,
   "metadata": {},
   "outputs": [
    {
     "name": "stdout",
     "output_type": "stream",
     "text": [
      "Alpha:0.0001, R2:0.31, MSE:2.86, RMSE:1.69\n",
      "Alpha:0.0010, R2:0.06, MSE:2.69, RMSE:1.64\n",
      "Alpha:0.0100, R2:0.00, MSE:2.67, RMSE:1.63\n",
      "Alpha:0.1000, R2:0.00, MSE:2.67, RMSE:1.63\n",
      "Alpha:0.3000, R2:0.00, MSE:2.67, RMSE:1.63\n",
      "Alpha:0.5000, R2:0.00, MSE:2.67, RMSE:1.63\n",
      "Alpha:0.7000, R2:0.00, MSE:2.67, RMSE:1.63\n",
      "Alpha:1.0000, R2:0.00, MSE:2.67, RMSE:1.63\n"
     ]
    }
   ],
   "source": [
    "for a in alphas:\n",
    "    model = ElasticNet(alpha=a).fit(X_train,y_train)   \n",
    "    score = model.score(X_train, y_train)\n",
    "    pred_y = model.predict(X_test)\n",
    "    mse = mean_squared_error(y_test, pred_y)   \n",
    "    print(\"Alpha:{0:.4f}, R2:{1:.2f}, MSE:{2:.2f}, RMSE:{3:.2f}\".format(a, score, mse, np.sqrt(mse)))"
   ]
  },
  {
   "cell_type": "code",
   "execution_count": 53,
   "metadata": {
    "scrolled": true
   },
   "outputs": [
    {
     "name": "stdout",
     "output_type": "stream",
     "text": [
      "Train score:  0.30735234558204294\n",
      "RMSE:  1.692288364509511\n",
      "R^2:  -0.14336631154891522\n"
     ]
    }
   ],
   "source": [
    "model = ElasticNet(alpha=0.0001).fit(X_train,y_train)   \n",
    "score = model.score(X_train, y_train)\n",
    "print(\"Train score: \", score)\n",
    "pred_y = model.predict(X_test)\n",
    "\n",
    "\n",
    "rmse = sqrt(mean_squared_error(y_test, pred_y))\n",
    "r2 = r2_score(y_test, pred_y)\n",
    "print(\"RMSE: \", rmse)\n",
    "print(\"R^2: \", r2)"
   ]
  },
  {
   "cell_type": "code",
   "execution_count": 52,
   "metadata": {},
   "outputs": [
    {
     "data": {
      "image/png": "[encoded data removed]",
      "text/plain": [
       "<Figure size 432x288 with 1 Axes>"
      ]
     },
     "metadata": {
      "needs_background": "light"
     },
     "output_type": "display_data"
    }
   ],
   "source": [
    "plt.scatter(y_test, y_pred)\n",
    "plt.xlabel('True Values')\n",
    "plt.ylabel('Predictions')\n",
    "plt.grid(True)\n",
    "plt.show()"
   ]
  },
  {
   "cell_type": "code",
   "execution_count": null,
   "metadata": {},
   "outputs": [],
   "source": []
  },
  {
   "cell_type": "markdown",
   "metadata": {},
   "source": [
    "# Random Forest"
   ]
  },
  {
   "cell_type": "code",
   "execution_count": 84,
   "metadata": {},
   "outputs": [
    {
     "name": "stdout",
     "output_type": "stream",
     "text": [
      "(20, 1446) (20, 1)\n",
      "(4, 1446) (4, 1)\n"
     ]
    }
   ],
   "source": [
    "X_train, X_test, y_train, y_test = train_test_split(x_df, y_df, test_size=0.15)\n",
    "print (X_train.shape, y_train.shape)\n",
    "print (X_test.shape, y_test.shape)\n",
    "#print(X_test)"
   ]
  },
  {
   "cell_type": "code",
   "execution_count": 54,
   "metadata": {},
   "outputs": [
    {
     "name": "stdout",
     "output_type": "stream",
     "text": [
      "(5,)\n",
      "(19,)\n"
     ]
    }
   ],
   "source": [
    "y_test=np.ravel(y_test)\n",
    "print(y_test.shape)\n",
    "y_train=np.ravel(y_train)\n",
    "print(y_train.shape)"
   ]
  },
  {
   "cell_type": "code",
   "execution_count": 75,
   "metadata": {},
   "outputs": [],
   "source": [
    "# Import the model we are using\n",
    "from sklearn.ensemble import RandomForestRegressor\n",
    "# Instantiate model with 1000 decision trees\n",
    "rf = RandomForestRegressor(n_estimators = 2500, max_depth=30, random_state = 42)\n",
    "# Train the model on training data\n",
    "#rf.fit(X_train, y_train);\n",
    "\n",
    "rf.fit(X_train, y_train);"
   ]
  },
  {
   "cell_type": "code",
   "execution_count": 76,
   "metadata": {},
   "outputs": [
    {
     "name": "stdout",
     "output_type": "stream",
     "text": [
      "Mean Absolute Error: 1.13\n"
     ]
    }
   ],
   "source": [
    "# Use the forest's predict method on the test data\n",
    "\n",
    "#predictions = rf.predict(X_test)\n",
    "predictions = rf.predict(X_test)\n",
    "\n",
    "# Calculate the absolute errors\n",
    "errors = abs(predictions - y_test)\n",
    "# Print out the mean absolute error (mae)\n",
    "print('Mean Absolute Error:', round(np.mean(errors), 2))"
   ]
  },
  {
   "cell_type": "code",
   "execution_count": 77,
   "metadata": {},
   "outputs": [
    {
     "name": "stdout",
     "output_type": "stream",
     "text": [
      "RMSE:  1.4820281410355223\n",
      "R^2:  0.12310103913964598\n"
     ]
    }
   ],
   "source": [
    "rmse = sqrt(mean_squared_error(y_test, predictions))\n",
    "r2 = r2_score(y_test, predictions)\n",
    "print(\"RMSE: \", rmse)\n",
    "print(\"R^2: \", r2)"
   ]
  },
  {
   "cell_type": "code",
   "execution_count": 78,
   "metadata": {},
   "outputs": [
    {
     "name": "stdout",
     "output_type": "stream",
     "text": [
      "(5, 1)\n",
      "<class 'numpy.ndarray'>\n",
      "(5, 1)\n",
      "<class 'numpy.ndarray'>\n"
     ]
    }
   ],
   "source": [
    "y_test= y_test.reshape((len(y_test), 1))\n",
    "print(y_test.shape)\n",
    "print(type(y_test))\n",
    "predictions=predictions.reshape((len(y_test), 1))\n",
    "print(predictions.shape)\n",
    "print(type(y_test))\n",
    "#print((y_test, predictions))"
   ]
  },
  {
   "cell_type": "code",
   "execution_count": 79,
   "metadata": {},
   "outputs": [
    {
     "name": "stdout",
     "output_type": "stream",
     "text": [
      "[real, predictions]\n",
      "[[1.11      0.8601912]\n",
      " [0.32      0.5391656]\n",
      " [0.39      1.3922612]\n",
      " [4.54      1.43745  ]\n",
      " [0.77      1.2611772]]\n"
     ]
    },
    {
     "data": {
      "text/plain": [
       "Text(0, 0.5, 'Predictions')"
      ]
     },
     "execution_count": 79,
     "metadata": {},
     "output_type": "execute_result"
    },
    {
     "data": {
      "image/png": "[encoded data removed]",
      "text/plain": [
       "<Figure size 432x288 with 1 Axes>"
      ]
     },
     "metadata": {
      "needs_background": "light"
     },
     "output_type": "display_data"
    }
   ],
   "source": [
    "b=np.append(y_test, predictions, axis=1)\n",
    "\n",
    "print(\"[real, predictions]\")\n",
    "print(b)\n",
    "\n",
    "plt.scatter(y_test, predictions)\n",
    "plt.xlabel('True Values')\n",
    "plt.ylabel('Predictions')"
   ]
  },
  {
   "cell_type": "code",
   "execution_count": null,
   "metadata": {},
   "outputs": [],
   "source": []
  },
  {
   "cell_type": "code",
   "execution_count": null,
   "metadata": {},
   "outputs": [],
   "source": []
  },
  {
   "cell_type": "code",
   "execution_count": null,
   "metadata": {},
   "outputs": [],
   "source": []
  },
  {
   "cell_type": "code",
   "execution_count": null,
   "metadata": {},
   "outputs": [],
   "source": []
  },
  {
   "cell_type": "code",
   "execution_count": null,
   "metadata": {},
   "outputs": [],
   "source": []
  },
  {
   "cell_type": "markdown",
   "metadata": {},
   "source": [
    "# MultiOutput Random Forest"
   ]
  },
  {
   "cell_type": "code",
   "execution_count": 132,
   "metadata": {},
   "outputs": [
    {
     "name": "stdout",
     "output_type": "stream",
     "text": [
      "(24, 6)\n",
      "<class 'numpy.ndarray'>\n",
      "<class 'pandas.core.frame.DataFrame'>\n"
     ]
    }
   ],
   "source": [
    "multi_y = concentration[:,1:-2]\n",
    "print (multi_y.shape)\n",
    "print (type(multi_y))\n",
    "df_y= pd.DataFrame(multi_y)\n",
    "print (type(df_y))"
   ]
  },
  {
   "cell_type": "code",
   "execution_count": 153,
   "metadata": {},
   "outputs": [
    {
     "name": "stdout",
     "output_type": "stream",
     "text": [
      "(19, 1130) (19, 6)\n",
      "(5, 1130) (5, 6)\n"
     ]
    }
   ],
   "source": [
    "X_train, X_test, y_train, y_test = train_test_split(x_df, df_y, test_size=0.2)\n",
    "print (X_train.shape, y_train.shape)\n",
    "print (X_test.shape, y_test.shape)\n",
    "#print(X_test)"
   ]
  },
  {
   "cell_type": "code",
   "execution_count": 134,
   "metadata": {},
   "outputs": [
    {
     "data": {
      "text/plain": [
       "MultiOutputRegressor(estimator=RandomForestRegressor(bootstrap=True,\n",
       "                                                     ccp_alpha=0.0,\n",
       "                                                     criterion='mse',\n",
       "                                                     max_depth=30,\n",
       "                                                     max_features='auto',\n",
       "                                                     max_leaf_nodes=None,\n",
       "                                                     max_samples=None,\n",
       "                                                     min_impurity_decrease=0.0,\n",
       "                                                     min_impurity_split=None,\n",
       "                                                     min_samples_leaf=1,\n",
       "                                                     min_samples_split=2,\n",
       "                                                     min_weight_fraction_leaf=0.0,\n",
       "                                                     n_estimators=650,\n",
       "                                                     n_jobs=None,\n",
       "                                                     oob_score=False,\n",
       "                                                     random_state=0, verbose=0,\n",
       "                                                     warm_start=False),\n",
       "                     n_jobs=None)"
      ]
     },
     "execution_count": 134,
     "metadata": {},
     "output_type": "execute_result"
    }
   ],
   "source": [
    "from sklearn.multioutput import MultiOutputRegressor\n",
    "from sklearn.ensemble import RandomForestRegressor\n",
    "\n",
    "max_depth = 30\n",
    "regr_multirf = MultiOutputRegressor(RandomForestRegressor(n_estimators=650,\n",
    "                                                          max_depth=max_depth,\n",
    "                                                          random_state=0))\n",
    "regr_multirf.fit(X_train, y_train)\n"
   ]
  },
  {
   "cell_type": "code",
   "execution_count": 135,
   "metadata": {},
   "outputs": [],
   "source": [
    "y_multirf = regr_multirf.predict(X_test)"
   ]
  },
  {
   "cell_type": "code",
   "execution_count": 136,
   "metadata": {},
   "outputs": [
    {
     "name": "stdout",
     "output_type": "stream",
     "text": [
      "(5, 6)\n",
      "(5, 6)\n"
     ]
    }
   ],
   "source": [
    "print(y_test.shape)\n",
    "print(y_multirf.shape)"
   ]
  },
  {
   "cell_type": "code",
   "execution_count": 137,
   "metadata": {},
   "outputs": [
    {
     "name": "stdout",
     "output_type": "stream",
     "text": [
      "R^2:  -1.2798201186343863\n",
      "RMSE:  1.5231794557929577\n"
     ]
    }
   ],
   "source": [
    "rmse = sqrt(mean_squared_error(y_test, y_multirf))\n",
    "r2 = r2_score(y_test, y_multirf)\n",
    "\n",
    "print(\"R^2: \", r2)\n",
    "print(\"RMSE: \", rmse)"
   ]
  },
  {
   "cell_type": "code",
   "execution_count": 138,
   "metadata": {},
   "outputs": [
    {
     "name": "stdout",
     "output_type": "stream",
     "text": [
      "[real, predictions]\n",
      "[[6.160e+00 0.000e+00 3.630e-01 0.000e+00 6.000e-03 2.060e-01 8.711e+00\n",
      "  2.880e-01 4.460e-01 2.870e-01 7.790e-01 1.910e-01]\n",
      " [6.120e+00 0.000e+00 3.200e-01 0.000e+00 5.000e-03 1.600e-02 8.009e+00\n",
      "  2.150e-01 4.630e-01 8.500e-02 1.110e-01 1.440e-01]\n",
      " [1.253e+01 3.100e-01 2.500e-02 5.000e-02 5.600e-02 3.300e-02 7.822e+00\n",
      "  2.570e-01 2.970e-01 1.650e-01 1.750e-01 2.170e-01]\n",
      " [1.800e-01 5.000e-01 1.110e+00 5.200e-02 1.500e-01 1.260e+00 4.830e-01\n",
      "  3.630e-01 1.233e+00 2.260e-01 1.360e-01 9.710e-01]\n",
      " [1.290e+01 1.200e-01 5.200e-01 1.550e-01 5.200e-01 2.860e-01 6.898e+00\n",
      "  3.360e-01 7.140e-01 1.420e-01 5.610e-01 2.290e-01]]\n"
     ]
    }
   ],
   "source": [
    "b=np.append(np.around(y_test,3), np.around(y_multirf,3), axis=1)\n",
    "\n",
    "print(\"[real, predictions]\")\n",
    "print(b)"
   ]
  },
  {
   "cell_type": "code",
   "execution_count": 139,
   "metadata": {},
   "outputs": [
    {
     "data": {
      "text/plain": [
       "Text(0, 0.5, 'Predictions')"
      ]
     },
     "execution_count": 139,
     "metadata": {},
     "output_type": "execute_result"
    },
    {
     "data": {
      "image/png": "[encoded data removed]",
      "text/plain": [
       "<Figure size 432x288 with 1 Axes>"
      ]
     },
     "metadata": {
      "needs_background": "light"
     },
     "output_type": "display_data"
    }
   ],
   "source": [
    "plt.scatter(y_test, y_multirf)\n",
    "plt.xlabel('True Values')\n",
    "plt.ylabel('Predictions')"
   ]
  },
  {
   "cell_type": "code",
   "execution_count": 141,
   "metadata": {},
   "outputs": [
    {
     "data": {
      "text/plain": [
       "array([8.71, 8.01, 7.82, 0.48, 6.9 ])"
      ]
     },
     "execution_count": 141,
     "metadata": {},
     "output_type": "execute_result"
    }
   ],
   "source": [
    "y_pred=np.around(y_multirf,2)\n",
    "y_pred[:,0]"
   ]
  },
  {
   "cell_type": "code",
   "execution_count": 142,
   "metadata": {},
   "outputs": [
    {
     "data": {
      "text/plain": [
       "array([ 6.16,  6.12, 12.53,  0.18, 12.9 ])"
      ]
     },
     "execution_count": 142,
     "metadata": {},
     "output_type": "execute_result"
    }
   ],
   "source": [
    "y_test[0].values"
   ]
  },
  {
   "cell_type": "code",
   "execution_count": 143,
   "metadata": {},
   "outputs": [
    {
     "name": "stdout",
     "output_type": "stream",
     "text": [
      "real:  [ 6.16  6.12 12.53  0.18 12.9 ]\n",
      "pred:  [8.71 8.01 7.82 0.48 6.9 ]\n"
     ]
    }
   ],
   "source": [
    "print(\"real: \", y_test[0].values)\n",
    "print(\"pred: \", y_pred[:,0])"
   ]
  },
  {
   "cell_type": "markdown",
   "metadata": {},
   "source": [
    "# PLS-2"
   ]
  },
  {
   "cell_type": "code",
   "execution_count": 154,
   "metadata": {},
   "outputs": [
    {
     "name": "stdout",
     "output_type": "stream",
     "text": [
      "100% completed\n",
      "Suggested number of components:  33\n",
      "\n"
     ]
    },
    {
     "data": {
      "image/png": "[encoded data removed]",
      "text/plain": [
       "<Figure size 432x288 with 1 Axes>"
      ]
     },
     "metadata": {},
     "output_type": "display_data"
    },
    {
     "name": "stdout",
     "output_type": "stream",
     "text": [
      "R2 calib: 1.000\n",
      "R2 CV: 0.018\n",
      "MSE calib: 0.000\n",
      "MSE CV: 0.939\n"
     ]
    }
   ],
   "source": [
    "optimise_pls_cv(X_train, y_train, 40, plot_components=True)"
   ]
  },
  {
   "cell_type": "code",
   "execution_count": 155,
   "metadata": {},
   "outputs": [
    {
     "name": "stdout",
     "output_type": "stream",
     "text": [
      "R^2:  0.018347253779067135\n",
      "MSE:  0.9391318844120397\n"
     ]
    }
   ],
   "source": [
    "# Define PLS object\n",
    "pls = PLSRegression(n_components= 26)\n",
    "# Fit\n",
    "pls.fit(X_train, y_train)\n",
    "# Cross-validation\n",
    "y_cv = cross_val_predict(pls, X_train, y_train, cv=10)\n",
    "# Calculate scores\n",
    "score = r2_score(y_train, y_cv)\n",
    "mse = mean_squared_error(y_train, y_cv)\n",
    "\n",
    "print(\"R^2: \", score)\n",
    "print(\"MSE: \", mse)"
   ]
  },
  {
   "cell_type": "code",
   "execution_count": 150,
   "metadata": {},
   "outputs": [
    {
     "name": "stdout",
     "output_type": "stream",
     "text": [
      "-4.070272705754876\n",
      "0.36555579763038115\n"
     ]
    }
   ],
   "source": [
    "y_pred = pls.predict(X_test)\n",
    "\n",
    "# Cross-validation\n",
    "y_cv = cross_val_predict(pls, X_train, y_train, cv=10)\n",
    "\n",
    "# Calculate scores for calibration and cross-validation\n",
    "score_pred = r2_score(y_test, y_pred)\n",
    "score_cv = r2_score(y_train, y_cv)\n",
    "\n",
    "print(score_pred) #NAMMERDA\n",
    "print(score_cv)"
   ]
  },
  {
   "cell_type": "code",
   "execution_count": 151,
   "metadata": {},
   "outputs": [
    {
     "data": {
      "text/html": [
       "<div>\n",
       "<style scoped>\n",
       "    .dataframe tbody tr th:only-of-type {\n",
       "        vertical-align: middle;\n",
       "    }\n",
       "\n",
       "    .dataframe tbody tr th {\n",
       "        vertical-align: top;\n",
       "    }\n",
       "\n",
       "    .dataframe thead th {\n",
       "        text-align: right;\n",
       "    }\n",
       "</style>\n",
       "<table border=\"1\" class=\"dataframe\">\n",
       "  <thead>\n",
       "    <tr style=\"text-align: right;\">\n",
       "      <th></th>\n",
       "      <th>0</th>\n",
       "      <th>1</th>\n",
       "      <th>2</th>\n",
       "      <th>3</th>\n",
       "      <th>4</th>\n",
       "      <th>5</th>\n",
       "    </tr>\n",
       "  </thead>\n",
       "  <tbody>\n",
       "    <tr>\n",
       "      <th>0</th>\n",
       "      <td>7.84</td>\n",
       "      <td>0.22</td>\n",
       "      <td>0.54</td>\n",
       "      <td>0.19</td>\n",
       "      <td>0.57</td>\n",
       "      <td>0.27</td>\n",
       "    </tr>\n",
       "    <tr>\n",
       "      <th>1</th>\n",
       "      <td>8.62</td>\n",
       "      <td>0.12</td>\n",
       "      <td>0.35</td>\n",
       "      <td>0.06</td>\n",
       "      <td>-0.12</td>\n",
       "      <td>-0.06</td>\n",
       "    </tr>\n",
       "    <tr>\n",
       "      <th>2</th>\n",
       "      <td>10.50</td>\n",
       "      <td>0.13</td>\n",
       "      <td>-0.61</td>\n",
       "      <td>0.45</td>\n",
       "      <td>0.15</td>\n",
       "      <td>-0.03</td>\n",
       "    </tr>\n",
       "    <tr>\n",
       "      <th>3</th>\n",
       "      <td>-0.28</td>\n",
       "      <td>0.42</td>\n",
       "      <td>1.56</td>\n",
       "      <td>-0.11</td>\n",
       "      <td>-0.34</td>\n",
       "      <td>0.95</td>\n",
       "    </tr>\n",
       "    <tr>\n",
       "      <th>4</th>\n",
       "      <td>9.93</td>\n",
       "      <td>0.09</td>\n",
       "      <td>0.29</td>\n",
       "      <td>-0.26</td>\n",
       "      <td>0.65</td>\n",
       "      <td>0.14</td>\n",
       "    </tr>\n",
       "  </tbody>\n",
       "</table>\n",
       "</div>"
      ],
      "text/plain": [
       "       0     1     2     3     4     5\n",
       "0   7.84  0.22  0.54  0.19  0.57  0.27\n",
       "1   8.62  0.12  0.35  0.06 -0.12 -0.06\n",
       "2  10.50  0.13 -0.61  0.45  0.15 -0.03\n",
       "3  -0.28  0.42  1.56 -0.11 -0.34  0.95\n",
       "4   9.93  0.09  0.29 -0.26  0.65  0.14"
      ]
     },
     "execution_count": 151,
     "metadata": {},
     "output_type": "execute_result"
    }
   ],
   "source": [
    "pd.DataFrame(np.round(y_pred, decimals=2))"
   ]
  },
  {
   "cell_type": "code",
   "execution_count": 152,
   "metadata": {
    "scrolled": true
   },
   "outputs": [
    {
     "data": {
      "text/html": [
       "<div>\n",
       "<style scoped>\n",
       "    .dataframe tbody tr th:only-of-type {\n",
       "        vertical-align: middle;\n",
       "    }\n",
       "\n",
       "    .dataframe tbody tr th {\n",
       "        vertical-align: top;\n",
       "    }\n",
       "\n",
       "    .dataframe thead th {\n",
       "        text-align: right;\n",
       "    }\n",
       "</style>\n",
       "<table border=\"1\" class=\"dataframe\">\n",
       "  <thead>\n",
       "    <tr style=\"text-align: right;\">\n",
       "      <th></th>\n",
       "      <th>0</th>\n",
       "      <th>1</th>\n",
       "      <th>2</th>\n",
       "      <th>3</th>\n",
       "      <th>4</th>\n",
       "      <th>5</th>\n",
       "    </tr>\n",
       "  </thead>\n",
       "  <tbody>\n",
       "    <tr>\n",
       "      <th>20</th>\n",
       "      <td>6.16</td>\n",
       "      <td>0.00</td>\n",
       "      <td>0.36</td>\n",
       "      <td>0.00</td>\n",
       "      <td>0.01</td>\n",
       "      <td>0.21</td>\n",
       "    </tr>\n",
       "    <tr>\n",
       "      <th>12</th>\n",
       "      <td>6.12</td>\n",
       "      <td>0.00</td>\n",
       "      <td>0.32</td>\n",
       "      <td>0.00</td>\n",
       "      <td>0.01</td>\n",
       "      <td>0.02</td>\n",
       "    </tr>\n",
       "    <tr>\n",
       "      <th>13</th>\n",
       "      <td>12.53</td>\n",
       "      <td>0.31</td>\n",
       "      <td>0.02</td>\n",
       "      <td>0.05</td>\n",
       "      <td>0.06</td>\n",
       "      <td>0.03</td>\n",
       "    </tr>\n",
       "    <tr>\n",
       "      <th>22</th>\n",
       "      <td>0.18</td>\n",
       "      <td>0.50</td>\n",
       "      <td>1.11</td>\n",
       "      <td>0.05</td>\n",
       "      <td>0.15</td>\n",
       "      <td>1.26</td>\n",
       "    </tr>\n",
       "    <tr>\n",
       "      <th>7</th>\n",
       "      <td>12.90</td>\n",
       "      <td>0.12</td>\n",
       "      <td>0.52</td>\n",
       "      <td>0.16</td>\n",
       "      <td>0.52</td>\n",
       "      <td>0.29</td>\n",
       "    </tr>\n",
       "  </tbody>\n",
       "</table>\n",
       "</div>"
      ],
      "text/plain": [
       "        0     1     2     3     4     5\n",
       "20   6.16  0.00  0.36  0.00  0.01  0.21\n",
       "12   6.12  0.00  0.32  0.00  0.01  0.02\n",
       "13  12.53  0.31  0.02  0.05  0.06  0.03\n",
       "22   0.18  0.50  1.11  0.05  0.15  1.26\n",
       "7   12.90  0.12  0.52  0.16  0.52  0.29"
      ]
     },
     "execution_count": 152,
     "metadata": {},
     "output_type": "execute_result"
    }
   ],
   "source": [
    "np.round(y_test, decimals=2)"
   ]
  },
  {
   "cell_type": "code",
   "execution_count": null,
   "metadata": {},
   "outputs": [],
   "source": []
  },
  {
   "cell_type": "code",
   "execution_count": null,
   "metadata": {},
   "outputs": [],
   "source": []
  }
 ],
 "metadata": {
  "kernelspec": {
   "display_name": "Python 3",
   "language": "python",
   "name": "python3"
  },
  "language_info": {
   "codemirror_mode": {
    "name": "ipython",
    "version": 3
   },
   "file_extension": ".py",
   "mimetype": "text/x-python",
   "name": "python",
   "nbconvert_exporter": "python",
   "pygments_lexer": "ipython3",
   "version": "3.7.6"
  }
 },
 "nbformat": 4,
 "nbformat_minor": 2
}
