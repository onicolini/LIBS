{
 "cells": [
  {
   "cell_type": "markdown",
   "metadata": {},
   "source": [
    "## Intensity filtered data using reference aluminium wavelength 309.506 (pixel number 445) using saturated data\n"
   ]
  },
  {
   "cell_type": "code",
   "execution_count": 1,
   "metadata": {},
   "outputs": [],
   "source": [
    "import os\n",
    "from sys import stdout\n",
    "import time\n",
    "\n",
    "import numpy as np\n",
    "import pandas as pd\n",
    "import matplotlib.pyplot as plt\n",
    "import peakutils\n",
    "%matplotlib inline \n",
    "from math import sqrt\n",
    "from scipy.signal import savgol_filter\n",
    "from sklearn.decomposition import PCA \n",
    "from sklearn.preprocessing import StandardScaler, normalize, MinMaxScaler \n",
    "from sklearn.model_selection import train_test_split, RandomizedSearchCV\n",
    "from sklearn.metrics import mean_squared_error, r2_score\n",
    "from sklearn.cross_decomposition import PLSRegression\n",
    "from sklearn.model_selection import cross_val_predict\n",
    "from sklearn import linear_model\n",
    "from sklearn.linear_model import ElasticNet,ElasticNetCV\n",
    "\n",
    "import warnings\n",
    "warnings.filterwarnings('ignore')"
   ]
  },
  {
   "cell_type": "code",
   "execution_count": 2,
   "metadata": {},
   "outputs": [
    {
     "data": {
      "text/plain": [
       "\"   \\n    # Fit a line to the CV vs response\\n    z = np.polyfit(y, y_c, 1)\\n    with plt.style.context(('ggplot')):\\n        fig, ax = plt.subplots(figsize=(9, 5))\\n        ax.scatter(y_c, y, c='red', edgecolors='k')\\n        #Plot the best fit line\\n        ax.plot(np.polyval(z,y), y, c='blue', linewidth=1)\\n        #Plot the ideal 1:1 line\\n        ax.plot(y, y, color='green', linewidth=1)\\n        plt.title('$R^{2}$ (CV): '+str(score_cv))\\n        plt.xlabel('Predicted $^{\\\\circ}$Brix')\\n        plt.ylabel('Measured $^{\\\\circ}$Brix')\\n        plt.show()\\n    return\\n\""
      ]
     },
     "execution_count": 2,
     "metadata": {},
     "output_type": "execute_result"
    }
   ],
   "source": [
    "def optimise_pls_cv(X, y, n_comp, plot_components=True):\n",
    "    '''Run PLS including a variable number of components, up to n_comp,\n",
    "       and calculate MSE '''\n",
    "    mse = []\n",
    "    component = np.arange(1, n_comp)\n",
    "    for i in component:\n",
    "        pls = PLSRegression(n_components=i)\n",
    "        # Cross-validation\n",
    "        y_cv = cross_val_predict(pls, X, y, cv=10)\n",
    "        mse.append(mean_squared_error(y, y_cv))\n",
    "        comp = 100*(i+1)/40\n",
    "        # Trick to update status on the same line\n",
    "        stdout.write(\"\\r%d%% completed\" % comp)\n",
    "        stdout.flush()\n",
    "    stdout.write(\"\\n\")\n",
    "    # Calculate and print the position of minimum in MSE\n",
    "    msemin = np.argmin(mse)\n",
    "    print(\"Suggested number of components: \", msemin+1)\n",
    "    stdout.write(\"\\n\")\n",
    "    if plot_components is True:\n",
    "        with plt.style.context(('ggplot')):\n",
    "            plt.plot(component, np.array(mse), '-v', color = 'blue', mfc='blue')\n",
    "            plt.plot(component[msemin], np.array(mse)[msemin], 'P', ms=10, mfc='red')\n",
    "            plt.xlabel('Number of PLS components')\n",
    "            plt.ylabel('MSE')\n",
    "            plt.title('PLS')\n",
    "            plt.xlim(left=-1)\n",
    "        plt.show()\n",
    "    # Define PLS object with optimal number of components\n",
    "    pls_opt = PLSRegression(n_components=msemin+1)\n",
    "    # Fir to the entire dataset\n",
    "    pls_opt.fit(X, y)\n",
    "    y_c = pls_opt.predict(X)\n",
    "    # Cross-validation\n",
    "    y_cv = cross_val_predict(pls_opt, X, y, cv=10)\n",
    "    # Calculate scores for calibration and cross-validation\n",
    "    score_c = r2_score(y, y_c)\n",
    "    score_cv = r2_score(y, y_cv)\n",
    "    # Calculate mean squared error for calibration and cross validation\n",
    "    mse_c = mean_squared_error(y, y_c)\n",
    "    mse_cv = mean_squared_error(y, y_cv)\n",
    "    print('R2 calib: %5.3f'  % score_c)\n",
    "    print('R2 CV: %5.3f'  % score_cv)\n",
    "    print('MSE calib: %5.3f' % mse_c)\n",
    "    print('MSE CV: %5.3f' % mse_cv)\n",
    "    \n",
    "    return\n",
    "    # Plot regression and figures of merit\n",
    "    rangey = max(y) - min(y)\n",
    "    rangex = max(y_c) - min(y_c)\n",
    "\"\"\"   \n",
    "    # Fit a line to the CV vs response\n",
    "    z = np.polyfit(y, y_c, 1)\n",
    "    with plt.style.context(('ggplot')):\n",
    "        fig, ax = plt.subplots(figsize=(9, 5))\n",
    "        ax.scatter(y_c, y, c='red', edgecolors='k')\n",
    "        #Plot the best fit line\n",
    "        ax.plot(np.polyval(z,y), y, c='blue', linewidth=1)\n",
    "        #Plot the ideal 1:1 line\n",
    "        ax.plot(y, y, color='green', linewidth=1)\n",
    "        plt.title('$R^{2}$ (CV): '+str(score_cv))\n",
    "        plt.xlabel('Predicted $^{\\circ}$Brix')\n",
    "        plt.ylabel('Measured $^{\\circ}$Brix')\n",
    "        plt.show()\n",
    "    return\n",
    "\"\"\" "
   ]
  },
  {
   "cell_type": "code",
   "execution_count": 3,
   "metadata": {},
   "outputs": [],
   "source": [
    "def pls_variable_selection(X, y, max_comp):\n",
    "    \n",
    "    # Define MSE array to be populated\n",
    "    mse = np.zeros((max_comp,X.shape[1]))\n",
    "    # Loop over the number of PLS components\n",
    "    for i in range(max_comp):\n",
    "        \n",
    "        # Regression with specified number of components, using full spectrum\n",
    "        pls1 = PLSRegression(n_components=i+1)\n",
    "        pls1.fit(X, y)\n",
    "        \n",
    "        # Indices of sort spectra according to ascending absolute value of PLS coefficients\n",
    "        sorted_ind = np.argsort(np.abs(pls1.coef_[:,0]))\n",
    "        # Sort spectra accordingly \n",
    "        Xc = X[:,sorted_ind]\n",
    "        # Discard one wavelength at a time of the sorted spectra,\n",
    "        # regress, and calculate the MSE cross-validation\n",
    "        for j in range(Xc.shape[1]-(i+1)):\n",
    "            pls2 = PLSRegression(n_components=i+1)\n",
    "            pls2.fit(Xc[:, j:], y)\n",
    "            \n",
    "            y_cv = cross_val_predict(pls2, Xc[:, j:], y, cv=5)\n",
    "            mse[i,j] = mean_squared_error(y, y_cv)\n",
    "    \n",
    "        comp = 100*(i+1)/(max_comp)\n",
    "        stdout.write(\"\\r%d%% completed\" % comp)\n",
    "        stdout.flush()\n",
    "    stdout.write(\"\\n\")\n",
    "    # # Calculate and print the position of minimum in MSE\n",
    "    mseminx,mseminy = np.where(mse==np.min(mse[np.nonzero(mse)]))\n",
    "    print(\"Optimised number of PLS components: \", mseminx[0]+1)\n",
    "    print(\"Wavelengths to be discarded \",mseminy[0])\n",
    "    print('Optimised MSEP ', mse[mseminx,mseminy][0])\n",
    "    stdout.write(\"\\n\")\n",
    "    # plt.imshow(mse, interpolation=None)\n",
    "    # plt.show()\n",
    "    # Calculate PLS with optimal components and export values\n",
    "    pls = PLSRegression(n_components=mseminx[0]+1)\n",
    "    pls.fit(X, y)\n",
    "        \n",
    "    sorted_ind = np.argsort(np.abs(pls.coef_[:,0]))\n",
    "    Xc = X[:,sorted_ind]\n",
    "    return(Xc[:,mseminy[0]:],mseminx[0]+1,mseminy[0], sorted_ind)"
   ]
  },
  {
   "cell_type": "code",
   "execution_count": 4,
   "metadata": {},
   "outputs": [],
   "source": [
    "def msc(input_data, reference=None):\n",
    "    ''' Perform Multiplicative scatter correction'''\n",
    "    # mean centre correction\n",
    "    for i in range(input_data.shape[0]):\n",
    "        input_data[i,:] -= input_data[i,:].mean()\n",
    "    # Get the reference spectrum. If not given, estimate it from the mean    \n",
    "    if reference is None:    \n",
    "        # Calculate mean\n",
    "        ref = np.mean(input_data, axis=0)\n",
    "    else:\n",
    "        ref = reference\n",
    "    # Define a new array and populate it with the corrected data    \n",
    "    data_msc = np.zeros_like(input_data)\n",
    "    for i in range(input_data.shape[0]):\n",
    "        # Run regression\n",
    "        fit = np.polyfit(ref, input_data[i,:], 1, full=True)\n",
    "        # Apply correction\n",
    "        data_msc[i,:] = (input_data[i,:] - fit[0][1]) / fit[0][0] \n",
    "    return (data_msc, ref)"
   ]
  },
  {
   "cell_type": "code",
   "execution_count": 5,
   "metadata": {},
   "outputs": [],
   "source": [
    "def snv(input_data):\n",
    "  \n",
    "    # Define a new array and populate it with the corrected data  \n",
    "    data_snv = np.zeros_like(input_data)\n",
    "    for i in range(input_data.shape[0]):\n",
    "        # Apply correction\n",
    "        data_snv[i,:] = (input_data[i,:] - np.mean(input_data[i,:])) / np.std(input_data[i,:])\n",
    "    return data_snv"
   ]
  },
  {
   "cell_type": "code",
   "execution_count": 6,
   "metadata": {},
   "outputs": [
    {
     "name": "stdout",
     "output_type": "stream",
     "text": [
      "(24, 1446)\n",
      "(1446,)\n",
      "24\n"
     ]
    },
    {
     "data": {
      "text/html": [
       "<div>\n",
       "<style scoped>\n",
       "    .dataframe tbody tr th:only-of-type {\n",
       "        vertical-align: middle;\n",
       "    }\n",
       "\n",
       "    .dataframe tbody tr th {\n",
       "        vertical-align: top;\n",
       "    }\n",
       "\n",
       "    .dataframe thead th {\n",
       "        text-align: right;\n",
       "    }\n",
       "</style>\n",
       "<table border=\"1\" class=\"dataframe\">\n",
       "  <thead>\n",
       "    <tr style=\"text-align: right;\">\n",
       "      <th></th>\n",
       "      <th>252.071400</th>\n",
       "      <th>252.201700</th>\n",
       "      <th>252.331900</th>\n",
       "      <th>252.462200</th>\n",
       "      <th>252.592400</th>\n",
       "      <th>252.722600</th>\n",
       "      <th>252.852900</th>\n",
       "      <th>252.983100</th>\n",
       "      <th>253.113300</th>\n",
       "      <th>253.243600</th>\n",
       "      <th>...</th>\n",
       "      <th>428.718100</th>\n",
       "      <th>428.828600</th>\n",
       "      <th>428.939000</th>\n",
       "      <th>429.049500</th>\n",
       "      <th>429.159900</th>\n",
       "      <th>429.270300</th>\n",
       "      <th>429.380600</th>\n",
       "      <th>429.491000</th>\n",
       "      <th>429.601300</th>\n",
       "      <th>429.711600</th>\n",
       "    </tr>\n",
       "  </thead>\n",
       "  <tbody>\n",
       "    <tr>\n",
       "      <th>0</th>\n",
       "      <td>-0.001862</td>\n",
       "      <td>-0.002192</td>\n",
       "      <td>-0.008038</td>\n",
       "      <td>0.002800</td>\n",
       "      <td>-0.002243</td>\n",
       "      <td>-0.003750</td>\n",
       "      <td>-0.000799</td>\n",
       "      <td>0.004166</td>\n",
       "      <td>-0.002893</td>\n",
       "      <td>-0.007387</td>\n",
       "      <td>...</td>\n",
       "      <td>0.010400</td>\n",
       "      <td>0.025247</td>\n",
       "      <td>0.074566</td>\n",
       "      <td>0.057249</td>\n",
       "      <td>0.017858</td>\n",
       "      <td>0.004599</td>\n",
       "      <td>-0.004972</td>\n",
       "      <td>-0.009002</td>\n",
       "      <td>-0.010061</td>\n",
       "      <td>-0.007025</td>\n",
       "    </tr>\n",
       "    <tr>\n",
       "      <th>1</th>\n",
       "      <td>-0.015789</td>\n",
       "      <td>-0.015221</td>\n",
       "      <td>-0.022937</td>\n",
       "      <td>-0.008972</td>\n",
       "      <td>-0.013017</td>\n",
       "      <td>-0.016961</td>\n",
       "      <td>-0.009471</td>\n",
       "      <td>-0.003342</td>\n",
       "      <td>-0.011507</td>\n",
       "      <td>-0.018242</td>\n",
       "      <td>...</td>\n",
       "      <td>0.004205</td>\n",
       "      <td>-0.007960</td>\n",
       "      <td>-0.011707</td>\n",
       "      <td>-0.013229</td>\n",
       "      <td>-0.007136</td>\n",
       "      <td>-0.005799</td>\n",
       "      <td>-0.015382</td>\n",
       "      <td>-0.018578</td>\n",
       "      <td>-0.023492</td>\n",
       "      <td>-0.019948</td>\n",
       "    </tr>\n",
       "    <tr>\n",
       "      <th>2</th>\n",
       "      <td>-0.005312</td>\n",
       "      <td>-0.008155</td>\n",
       "      <td>-0.014583</td>\n",
       "      <td>-0.002700</td>\n",
       "      <td>-0.007170</td>\n",
       "      <td>-0.009104</td>\n",
       "      <td>-0.006037</td>\n",
       "      <td>0.000690</td>\n",
       "      <td>-0.005730</td>\n",
       "      <td>-0.010745</td>\n",
       "      <td>...</td>\n",
       "      <td>0.005268</td>\n",
       "      <td>-0.005010</td>\n",
       "      <td>-0.005835</td>\n",
       "      <td>-0.007229</td>\n",
       "      <td>0.000132</td>\n",
       "      <td>-0.001010</td>\n",
       "      <td>-0.008749</td>\n",
       "      <td>-0.010861</td>\n",
       "      <td>-0.012930</td>\n",
       "      <td>-0.011280</td>\n",
       "    </tr>\n",
       "    <tr>\n",
       "      <th>3</th>\n",
       "      <td>-0.008638</td>\n",
       "      <td>-0.009982</td>\n",
       "      <td>-0.016113</td>\n",
       "      <td>-0.003078</td>\n",
       "      <td>-0.009352</td>\n",
       "      <td>-0.012381</td>\n",
       "      <td>-0.006851</td>\n",
       "      <td>-0.000997</td>\n",
       "      <td>-0.007327</td>\n",
       "      <td>-0.011690</td>\n",
       "      <td>...</td>\n",
       "      <td>0.003736</td>\n",
       "      <td>-0.005996</td>\n",
       "      <td>-0.004822</td>\n",
       "      <td>-0.007490</td>\n",
       "      <td>-0.001252</td>\n",
       "      <td>-0.004220</td>\n",
       "      <td>-0.012097</td>\n",
       "      <td>-0.015297</td>\n",
       "      <td>-0.018228</td>\n",
       "      <td>-0.015086</td>\n",
       "    </tr>\n",
       "    <tr>\n",
       "      <th>4</th>\n",
       "      <td>0.007461</td>\n",
       "      <td>0.003325</td>\n",
       "      <td>-0.001009</td>\n",
       "      <td>0.011515</td>\n",
       "      <td>0.006913</td>\n",
       "      <td>0.010578</td>\n",
       "      <td>0.021872</td>\n",
       "      <td>0.021310</td>\n",
       "      <td>0.008570</td>\n",
       "      <td>-0.001940</td>\n",
       "      <td>...</td>\n",
       "      <td>0.003073</td>\n",
       "      <td>-0.004865</td>\n",
       "      <td>-0.011256</td>\n",
       "      <td>-0.007650</td>\n",
       "      <td>-0.001515</td>\n",
       "      <td>-0.003336</td>\n",
       "      <td>-0.009095</td>\n",
       "      <td>-0.011874</td>\n",
       "      <td>-0.013389</td>\n",
       "      <td>-0.010339</td>\n",
       "    </tr>\n",
       "    <tr>\n",
       "      <th>5</th>\n",
       "      <td>0.008105</td>\n",
       "      <td>0.000456</td>\n",
       "      <td>-0.002281</td>\n",
       "      <td>0.012368</td>\n",
       "      <td>0.008034</td>\n",
       "      <td>0.009846</td>\n",
       "      <td>0.023344</td>\n",
       "      <td>0.021582</td>\n",
       "      <td>0.005845</td>\n",
       "      <td>-0.002670</td>\n",
       "      <td>...</td>\n",
       "      <td>0.003760</td>\n",
       "      <td>-0.003217</td>\n",
       "      <td>-0.002446</td>\n",
       "      <td>-0.003572</td>\n",
       "      <td>-0.000613</td>\n",
       "      <td>-0.002313</td>\n",
       "      <td>-0.010056</td>\n",
       "      <td>-0.011534</td>\n",
       "      <td>-0.013029</td>\n",
       "      <td>-0.010423</td>\n",
       "    </tr>\n",
       "    <tr>\n",
       "      <th>6</th>\n",
       "      <td>-0.007392</td>\n",
       "      <td>-0.008689</td>\n",
       "      <td>-0.016275</td>\n",
       "      <td>-0.001519</td>\n",
       "      <td>-0.005978</td>\n",
       "      <td>-0.010107</td>\n",
       "      <td>-0.004234</td>\n",
       "      <td>-0.000402</td>\n",
       "      <td>-0.007972</td>\n",
       "      <td>-0.014776</td>\n",
       "      <td>...</td>\n",
       "      <td>0.008225</td>\n",
       "      <td>-0.004752</td>\n",
       "      <td>-0.007932</td>\n",
       "      <td>-0.007300</td>\n",
       "      <td>-0.000887</td>\n",
       "      <td>-0.000474</td>\n",
       "      <td>-0.009431</td>\n",
       "      <td>-0.012985</td>\n",
       "      <td>-0.014916</td>\n",
       "      <td>-0.012603</td>\n",
       "    </tr>\n",
       "    <tr>\n",
       "      <th>7</th>\n",
       "      <td>-0.003424</td>\n",
       "      <td>-0.005623</td>\n",
       "      <td>-0.009451</td>\n",
       "      <td>0.000867</td>\n",
       "      <td>-0.004607</td>\n",
       "      <td>-0.005085</td>\n",
       "      <td>-0.000461</td>\n",
       "      <td>0.003142</td>\n",
       "      <td>-0.002780</td>\n",
       "      <td>-0.007502</td>\n",
       "      <td>...</td>\n",
       "      <td>0.007245</td>\n",
       "      <td>-0.001783</td>\n",
       "      <td>-0.002598</td>\n",
       "      <td>-0.000859</td>\n",
       "      <td>0.001988</td>\n",
       "      <td>0.000315</td>\n",
       "      <td>-0.004325</td>\n",
       "      <td>-0.008430</td>\n",
       "      <td>-0.011169</td>\n",
       "      <td>-0.008497</td>\n",
       "    </tr>\n",
       "    <tr>\n",
       "      <th>8</th>\n",
       "      <td>0.004407</td>\n",
       "      <td>-0.000081</td>\n",
       "      <td>-0.003111</td>\n",
       "      <td>0.006682</td>\n",
       "      <td>0.004457</td>\n",
       "      <td>0.005643</td>\n",
       "      <td>0.012489</td>\n",
       "      <td>0.013628</td>\n",
       "      <td>0.006045</td>\n",
       "      <td>-0.002055</td>\n",
       "      <td>...</td>\n",
       "      <td>0.007220</td>\n",
       "      <td>-0.000670</td>\n",
       "      <td>-0.002121</td>\n",
       "      <td>-0.002942</td>\n",
       "      <td>0.001318</td>\n",
       "      <td>0.001345</td>\n",
       "      <td>-0.003296</td>\n",
       "      <td>-0.003325</td>\n",
       "      <td>-0.006030</td>\n",
       "      <td>-0.003717</td>\n",
       "    </tr>\n",
       "    <tr>\n",
       "      <th>9</th>\n",
       "      <td>0.011218</td>\n",
       "      <td>0.004706</td>\n",
       "      <td>0.000613</td>\n",
       "      <td>0.017653</td>\n",
       "      <td>0.011511</td>\n",
       "      <td>0.014102</td>\n",
       "      <td>0.028880</td>\n",
       "      <td>0.029383</td>\n",
       "      <td>0.014016</td>\n",
       "      <td>0.005249</td>\n",
       "      <td>...</td>\n",
       "      <td>0.005602</td>\n",
       "      <td>-0.000975</td>\n",
       "      <td>-0.004360</td>\n",
       "      <td>-0.005490</td>\n",
       "      <td>0.001458</td>\n",
       "      <td>0.002165</td>\n",
       "      <td>-0.003148</td>\n",
       "      <td>-0.007218</td>\n",
       "      <td>-0.006567</td>\n",
       "      <td>-0.004438</td>\n",
       "    </tr>\n",
       "    <tr>\n",
       "      <th>10</th>\n",
       "      <td>0.003177</td>\n",
       "      <td>-0.001364</td>\n",
       "      <td>-0.005794</td>\n",
       "      <td>0.006155</td>\n",
       "      <td>0.002781</td>\n",
       "      <td>0.000954</td>\n",
       "      <td>0.010379</td>\n",
       "      <td>0.010868</td>\n",
       "      <td>0.001833</td>\n",
       "      <td>-0.003670</td>\n",
       "      <td>...</td>\n",
       "      <td>0.010186</td>\n",
       "      <td>0.015320</td>\n",
       "      <td>0.041387</td>\n",
       "      <td>0.035340</td>\n",
       "      <td>0.012172</td>\n",
       "      <td>0.002348</td>\n",
       "      <td>-0.004160</td>\n",
       "      <td>-0.006923</td>\n",
       "      <td>-0.008869</td>\n",
       "      <td>-0.005917</td>\n",
       "    </tr>\n",
       "    <tr>\n",
       "      <th>11</th>\n",
       "      <td>-0.002827</td>\n",
       "      <td>-0.003820</td>\n",
       "      <td>-0.015301</td>\n",
       "      <td>0.003518</td>\n",
       "      <td>-0.005447</td>\n",
       "      <td>-0.007401</td>\n",
       "      <td>0.001802</td>\n",
       "      <td>-0.000142</td>\n",
       "      <td>-0.004663</td>\n",
       "      <td>-0.014203</td>\n",
       "      <td>...</td>\n",
       "      <td>0.009873</td>\n",
       "      <td>-0.003091</td>\n",
       "      <td>0.008726</td>\n",
       "      <td>0.010034</td>\n",
       "      <td>0.003389</td>\n",
       "      <td>-0.002052</td>\n",
       "      <td>-0.007899</td>\n",
       "      <td>-0.010502</td>\n",
       "      <td>-0.013376</td>\n",
       "      <td>-0.011299</td>\n",
       "    </tr>\n",
       "    <tr>\n",
       "      <th>12</th>\n",
       "      <td>0.008068</td>\n",
       "      <td>0.002515</td>\n",
       "      <td>-0.001146</td>\n",
       "      <td>0.010610</td>\n",
       "      <td>0.006989</td>\n",
       "      <td>0.010888</td>\n",
       "      <td>0.021176</td>\n",
       "      <td>0.021564</td>\n",
       "      <td>0.007500</td>\n",
       "      <td>-0.001337</td>\n",
       "      <td>...</td>\n",
       "      <td>0.002757</td>\n",
       "      <td>-0.004326</td>\n",
       "      <td>-0.007631</td>\n",
       "      <td>-0.007062</td>\n",
       "      <td>-0.002066</td>\n",
       "      <td>-0.002882</td>\n",
       "      <td>-0.008904</td>\n",
       "      <td>-0.010701</td>\n",
       "      <td>-0.011584</td>\n",
       "      <td>-0.009881</td>\n",
       "    </tr>\n",
       "    <tr>\n",
       "      <th>13</th>\n",
       "      <td>0.009626</td>\n",
       "      <td>0.003894</td>\n",
       "      <td>0.000118</td>\n",
       "      <td>0.013880</td>\n",
       "      <td>0.009392</td>\n",
       "      <td>0.011102</td>\n",
       "      <td>0.021188</td>\n",
       "      <td>0.023232</td>\n",
       "      <td>0.011154</td>\n",
       "      <td>0.003108</td>\n",
       "      <td>...</td>\n",
       "      <td>0.003927</td>\n",
       "      <td>-0.003163</td>\n",
       "      <td>-0.004580</td>\n",
       "      <td>-0.004119</td>\n",
       "      <td>0.001392</td>\n",
       "      <td>0.001183</td>\n",
       "      <td>-0.003941</td>\n",
       "      <td>-0.005506</td>\n",
       "      <td>-0.007195</td>\n",
       "      <td>-0.006887</td>\n",
       "    </tr>\n",
       "    <tr>\n",
       "      <th>14</th>\n",
       "      <td>-0.003131</td>\n",
       "      <td>-0.006633</td>\n",
       "      <td>-0.008418</td>\n",
       "      <td>0.001837</td>\n",
       "      <td>-0.003562</td>\n",
       "      <td>-0.005385</td>\n",
       "      <td>0.000454</td>\n",
       "      <td>0.004901</td>\n",
       "      <td>-0.002603</td>\n",
       "      <td>-0.006219</td>\n",
       "      <td>...</td>\n",
       "      <td>0.006909</td>\n",
       "      <td>0.007580</td>\n",
       "      <td>0.026378</td>\n",
       "      <td>0.019378</td>\n",
       "      <td>0.006988</td>\n",
       "      <td>0.001247</td>\n",
       "      <td>-0.005092</td>\n",
       "      <td>-0.007630</td>\n",
       "      <td>-0.010495</td>\n",
       "      <td>-0.008633</td>\n",
       "    </tr>\n",
       "    <tr>\n",
       "      <th>15</th>\n",
       "      <td>-0.008637</td>\n",
       "      <td>-0.009022</td>\n",
       "      <td>-0.017279</td>\n",
       "      <td>-0.002779</td>\n",
       "      <td>-0.009312</td>\n",
       "      <td>-0.013924</td>\n",
       "      <td>-0.007029</td>\n",
       "      <td>0.000466</td>\n",
       "      <td>-0.009484</td>\n",
       "      <td>-0.016803</td>\n",
       "      <td>...</td>\n",
       "      <td>0.004998</td>\n",
       "      <td>-0.007580</td>\n",
       "      <td>-0.013222</td>\n",
       "      <td>-0.012039</td>\n",
       "      <td>-0.003673</td>\n",
       "      <td>-0.002688</td>\n",
       "      <td>-0.013607</td>\n",
       "      <td>-0.014377</td>\n",
       "      <td>-0.018443</td>\n",
       "      <td>-0.016522</td>\n",
       "    </tr>\n",
       "    <tr>\n",
       "      <th>16</th>\n",
       "      <td>-0.005948</td>\n",
       "      <td>-0.006836</td>\n",
       "      <td>-0.011310</td>\n",
       "      <td>-0.002492</td>\n",
       "      <td>-0.005651</td>\n",
       "      <td>-0.006473</td>\n",
       "      <td>-0.003068</td>\n",
       "      <td>0.001076</td>\n",
       "      <td>-0.005299</td>\n",
       "      <td>-0.008127</td>\n",
       "      <td>...</td>\n",
       "      <td>0.005246</td>\n",
       "      <td>0.004259</td>\n",
       "      <td>0.011914</td>\n",
       "      <td>0.008758</td>\n",
       "      <td>0.004326</td>\n",
       "      <td>-0.000397</td>\n",
       "      <td>-0.008112</td>\n",
       "      <td>-0.010252</td>\n",
       "      <td>-0.011978</td>\n",
       "      <td>-0.011147</td>\n",
       "    </tr>\n",
       "    <tr>\n",
       "      <th>17</th>\n",
       "      <td>0.007099</td>\n",
       "      <td>0.001628</td>\n",
       "      <td>-0.002484</td>\n",
       "      <td>0.008843</td>\n",
       "      <td>0.008365</td>\n",
       "      <td>0.010215</td>\n",
       "      <td>0.020095</td>\n",
       "      <td>0.022190</td>\n",
       "      <td>0.008576</td>\n",
       "      <td>0.003184</td>\n",
       "      <td>...</td>\n",
       "      <td>0.005326</td>\n",
       "      <td>-0.003552</td>\n",
       "      <td>-0.007308</td>\n",
       "      <td>-0.006028</td>\n",
       "      <td>-0.001708</td>\n",
       "      <td>0.000947</td>\n",
       "      <td>-0.005737</td>\n",
       "      <td>-0.006340</td>\n",
       "      <td>-0.008670</td>\n",
       "      <td>-0.008357</td>\n",
       "    </tr>\n",
       "    <tr>\n",
       "      <th>18</th>\n",
       "      <td>0.004867</td>\n",
       "      <td>0.001623</td>\n",
       "      <td>-0.001449</td>\n",
       "      <td>0.007270</td>\n",
       "      <td>0.003305</td>\n",
       "      <td>0.008578</td>\n",
       "      <td>0.021179</td>\n",
       "      <td>0.017913</td>\n",
       "      <td>0.010301</td>\n",
       "      <td>0.000229</td>\n",
       "      <td>...</td>\n",
       "      <td>0.005740</td>\n",
       "      <td>-0.001678</td>\n",
       "      <td>-0.002508</td>\n",
       "      <td>-0.005853</td>\n",
       "      <td>0.000982</td>\n",
       "      <td>-0.001002</td>\n",
       "      <td>-0.004214</td>\n",
       "      <td>-0.006270</td>\n",
       "      <td>-0.009879</td>\n",
       "      <td>-0.008611</td>\n",
       "    </tr>\n",
       "    <tr>\n",
       "      <th>19</th>\n",
       "      <td>0.015499</td>\n",
       "      <td>0.006613</td>\n",
       "      <td>0.003219</td>\n",
       "      <td>0.014321</td>\n",
       "      <td>0.011535</td>\n",
       "      <td>0.015189</td>\n",
       "      <td>0.025223</td>\n",
       "      <td>0.026286</td>\n",
       "      <td>0.011351</td>\n",
       "      <td>0.003207</td>\n",
       "      <td>...</td>\n",
       "      <td>0.005809</td>\n",
       "      <td>-0.003221</td>\n",
       "      <td>-0.005378</td>\n",
       "      <td>-0.005053</td>\n",
       "      <td>0.000163</td>\n",
       "      <td>0.000936</td>\n",
       "      <td>-0.002834</td>\n",
       "      <td>-0.006102</td>\n",
       "      <td>-0.009353</td>\n",
       "      <td>-0.006337</td>\n",
       "    </tr>\n",
       "    <tr>\n",
       "      <th>20</th>\n",
       "      <td>-0.001820</td>\n",
       "      <td>-0.007043</td>\n",
       "      <td>-0.008593</td>\n",
       "      <td>0.003325</td>\n",
       "      <td>-0.000247</td>\n",
       "      <td>0.001867</td>\n",
       "      <td>0.010513</td>\n",
       "      <td>0.011727</td>\n",
       "      <td>-0.000287</td>\n",
       "      <td>-0.006191</td>\n",
       "      <td>...</td>\n",
       "      <td>0.001858</td>\n",
       "      <td>-0.006259</td>\n",
       "      <td>-0.002083</td>\n",
       "      <td>-0.005633</td>\n",
       "      <td>-0.003824</td>\n",
       "      <td>-0.006749</td>\n",
       "      <td>-0.012297</td>\n",
       "      <td>-0.014137</td>\n",
       "      <td>-0.014222</td>\n",
       "      <td>-0.014351</td>\n",
       "    </tr>\n",
       "    <tr>\n",
       "      <th>21</th>\n",
       "      <td>0.006418</td>\n",
       "      <td>0.000186</td>\n",
       "      <td>-0.004580</td>\n",
       "      <td>0.010607</td>\n",
       "      <td>0.004396</td>\n",
       "      <td>0.006335</td>\n",
       "      <td>0.016376</td>\n",
       "      <td>0.016099</td>\n",
       "      <td>0.004337</td>\n",
       "      <td>-0.002600</td>\n",
       "      <td>...</td>\n",
       "      <td>0.002594</td>\n",
       "      <td>-0.003472</td>\n",
       "      <td>-0.002091</td>\n",
       "      <td>-0.002921</td>\n",
       "      <td>-0.000546</td>\n",
       "      <td>-0.001779</td>\n",
       "      <td>-0.008762</td>\n",
       "      <td>-0.010769</td>\n",
       "      <td>-0.012475</td>\n",
       "      <td>-0.010696</td>\n",
       "    </tr>\n",
       "    <tr>\n",
       "      <th>22</th>\n",
       "      <td>0.014379</td>\n",
       "      <td>0.007575</td>\n",
       "      <td>0.002111</td>\n",
       "      <td>0.017196</td>\n",
       "      <td>0.012159</td>\n",
       "      <td>0.015253</td>\n",
       "      <td>0.026009</td>\n",
       "      <td>0.027666</td>\n",
       "      <td>0.011963</td>\n",
       "      <td>-0.000288</td>\n",
       "      <td>...</td>\n",
       "      <td>0.005192</td>\n",
       "      <td>-0.004472</td>\n",
       "      <td>-0.007736</td>\n",
       "      <td>-0.006038</td>\n",
       "      <td>-0.000299</td>\n",
       "      <td>0.000642</td>\n",
       "      <td>-0.006837</td>\n",
       "      <td>-0.008062</td>\n",
       "      <td>-0.010011</td>\n",
       "      <td>-0.008629</td>\n",
       "    </tr>\n",
       "    <tr>\n",
       "      <th>23</th>\n",
       "      <td>0.007902</td>\n",
       "      <td>0.003089</td>\n",
       "      <td>0.000834</td>\n",
       "      <td>0.014349</td>\n",
       "      <td>0.012117</td>\n",
       "      <td>0.013674</td>\n",
       "      <td>0.025347</td>\n",
       "      <td>0.023769</td>\n",
       "      <td>0.011415</td>\n",
       "      <td>0.005296</td>\n",
       "      <td>...</td>\n",
       "      <td>0.007919</td>\n",
       "      <td>0.001926</td>\n",
       "      <td>-0.003748</td>\n",
       "      <td>-0.002723</td>\n",
       "      <td>0.003132</td>\n",
       "      <td>0.004249</td>\n",
       "      <td>-0.000978</td>\n",
       "      <td>-0.001975</td>\n",
       "      <td>-0.005080</td>\n",
       "      <td>-0.003030</td>\n",
       "    </tr>\n",
       "  </tbody>\n",
       "</table>\n",
       "<p>24 rows × 1446 columns</p>\n",
       "</div>"
      ],
      "text/plain": [
       "    252.071400  252.201700  252.331900  252.462200  252.592400  252.722600  \\\n",
       "0    -0.001862   -0.002192   -0.008038    0.002800   -0.002243   -0.003750   \n",
       "1    -0.015789   -0.015221   -0.022937   -0.008972   -0.013017   -0.016961   \n",
       "2    -0.005312   -0.008155   -0.014583   -0.002700   -0.007170   -0.009104   \n",
       "3    -0.008638   -0.009982   -0.016113   -0.003078   -0.009352   -0.012381   \n",
       "4     0.007461    0.003325   -0.001009    0.011515    0.006913    0.010578   \n",
       "5     0.008105    0.000456   -0.002281    0.012368    0.008034    0.009846   \n",
       "6    -0.007392   -0.008689   -0.016275   -0.001519   -0.005978   -0.010107   \n",
       "7    -0.003424   -0.005623   -0.009451    0.000867   -0.004607   -0.005085   \n",
       "8     0.004407   -0.000081   -0.003111    0.006682    0.004457    0.005643   \n",
       "9     0.011218    0.004706    0.000613    0.017653    0.011511    0.014102   \n",
       "10    0.003177   -0.001364   -0.005794    0.006155    0.002781    0.000954   \n",
       "11   -0.002827   -0.003820   -0.015301    0.003518   -0.005447   -0.007401   \n",
       "12    0.008068    0.002515   -0.001146    0.010610    0.006989    0.010888   \n",
       "13    0.009626    0.003894    0.000118    0.013880    0.009392    0.011102   \n",
       "14   -0.003131   -0.006633   -0.008418    0.001837   -0.003562   -0.005385   \n",
       "15   -0.008637   -0.009022   -0.017279   -0.002779   -0.009312   -0.013924   \n",
       "16   -0.005948   -0.006836   -0.011310   -0.002492   -0.005651   -0.006473   \n",
       "17    0.007099    0.001628   -0.002484    0.008843    0.008365    0.010215   \n",
       "18    0.004867    0.001623   -0.001449    0.007270    0.003305    0.008578   \n",
       "19    0.015499    0.006613    0.003219    0.014321    0.011535    0.015189   \n",
       "20   -0.001820   -0.007043   -0.008593    0.003325   -0.000247    0.001867   \n",
       "21    0.006418    0.000186   -0.004580    0.010607    0.004396    0.006335   \n",
       "22    0.014379    0.007575    0.002111    0.017196    0.012159    0.015253   \n",
       "23    0.007902    0.003089    0.000834    0.014349    0.012117    0.013674   \n",
       "\n",
       "    252.852900  252.983100  253.113300  253.243600  ...  428.718100  \\\n",
       "0    -0.000799    0.004166   -0.002893   -0.007387  ...    0.010400   \n",
       "1    -0.009471   -0.003342   -0.011507   -0.018242  ...    0.004205   \n",
       "2    -0.006037    0.000690   -0.005730   -0.010745  ...    0.005268   \n",
       "3    -0.006851   -0.000997   -0.007327   -0.011690  ...    0.003736   \n",
       "4     0.021872    0.021310    0.008570   -0.001940  ...    0.003073   \n",
       "5     0.023344    0.021582    0.005845   -0.002670  ...    0.003760   \n",
       "6    -0.004234   -0.000402   -0.007972   -0.014776  ...    0.008225   \n",
       "7    -0.000461    0.003142   -0.002780   -0.007502  ...    0.007245   \n",
       "8     0.012489    0.013628    0.006045   -0.002055  ...    0.007220   \n",
       "9     0.028880    0.029383    0.014016    0.005249  ...    0.005602   \n",
       "10    0.010379    0.010868    0.001833   -0.003670  ...    0.010186   \n",
       "11    0.001802   -0.000142   -0.004663   -0.014203  ...    0.009873   \n",
       "12    0.021176    0.021564    0.007500   -0.001337  ...    0.002757   \n",
       "13    0.021188    0.023232    0.011154    0.003108  ...    0.003927   \n",
       "14    0.000454    0.004901   -0.002603   -0.006219  ...    0.006909   \n",
       "15   -0.007029    0.000466   -0.009484   -0.016803  ...    0.004998   \n",
       "16   -0.003068    0.001076   -0.005299   -0.008127  ...    0.005246   \n",
       "17    0.020095    0.022190    0.008576    0.003184  ...    0.005326   \n",
       "18    0.021179    0.017913    0.010301    0.000229  ...    0.005740   \n",
       "19    0.025223    0.026286    0.011351    0.003207  ...    0.005809   \n",
       "20    0.010513    0.011727   -0.000287   -0.006191  ...    0.001858   \n",
       "21    0.016376    0.016099    0.004337   -0.002600  ...    0.002594   \n",
       "22    0.026009    0.027666    0.011963   -0.000288  ...    0.005192   \n",
       "23    0.025347    0.023769    0.011415    0.005296  ...    0.007919   \n",
       "\n",
       "    428.828600  428.939000  429.049500  429.159900  429.270300  429.380600  \\\n",
       "0     0.025247    0.074566    0.057249    0.017858    0.004599   -0.004972   \n",
       "1    -0.007960   -0.011707   -0.013229   -0.007136   -0.005799   -0.015382   \n",
       "2    -0.005010   -0.005835   -0.007229    0.000132   -0.001010   -0.008749   \n",
       "3    -0.005996   -0.004822   -0.007490   -0.001252   -0.004220   -0.012097   \n",
       "4    -0.004865   -0.011256   -0.007650   -0.001515   -0.003336   -0.009095   \n",
       "5    -0.003217   -0.002446   -0.003572   -0.000613   -0.002313   -0.010056   \n",
       "6    -0.004752   -0.007932   -0.007300   -0.000887   -0.000474   -0.009431   \n",
       "7    -0.001783   -0.002598   -0.000859    0.001988    0.000315   -0.004325   \n",
       "8    -0.000670   -0.002121   -0.002942    0.001318    0.001345   -0.003296   \n",
       "9    -0.000975   -0.004360   -0.005490    0.001458    0.002165   -0.003148   \n",
       "10    0.015320    0.041387    0.035340    0.012172    0.002348   -0.004160   \n",
       "11   -0.003091    0.008726    0.010034    0.003389   -0.002052   -0.007899   \n",
       "12   -0.004326   -0.007631   -0.007062   -0.002066   -0.002882   -0.008904   \n",
       "13   -0.003163   -0.004580   -0.004119    0.001392    0.001183   -0.003941   \n",
       "14    0.007580    0.026378    0.019378    0.006988    0.001247   -0.005092   \n",
       "15   -0.007580   -0.013222   -0.012039   -0.003673   -0.002688   -0.013607   \n",
       "16    0.004259    0.011914    0.008758    0.004326   -0.000397   -0.008112   \n",
       "17   -0.003552   -0.007308   -0.006028   -0.001708    0.000947   -0.005737   \n",
       "18   -0.001678   -0.002508   -0.005853    0.000982   -0.001002   -0.004214   \n",
       "19   -0.003221   -0.005378   -0.005053    0.000163    0.000936   -0.002834   \n",
       "20   -0.006259   -0.002083   -0.005633   -0.003824   -0.006749   -0.012297   \n",
       "21   -0.003472   -0.002091   -0.002921   -0.000546   -0.001779   -0.008762   \n",
       "22   -0.004472   -0.007736   -0.006038   -0.000299    0.000642   -0.006837   \n",
       "23    0.001926   -0.003748   -0.002723    0.003132    0.004249   -0.000978   \n",
       "\n",
       "    429.491000  429.601300  429.711600  \n",
       "0    -0.009002   -0.010061   -0.007025  \n",
       "1    -0.018578   -0.023492   -0.019948  \n",
       "2    -0.010861   -0.012930   -0.011280  \n",
       "3    -0.015297   -0.018228   -0.015086  \n",
       "4    -0.011874   -0.013389   -0.010339  \n",
       "5    -0.011534   -0.013029   -0.010423  \n",
       "6    -0.012985   -0.014916   -0.012603  \n",
       "7    -0.008430   -0.011169   -0.008497  \n",
       "8    -0.003325   -0.006030   -0.003717  \n",
       "9    -0.007218   -0.006567   -0.004438  \n",
       "10   -0.006923   -0.008869   -0.005917  \n",
       "11   -0.010502   -0.013376   -0.011299  \n",
       "12   -0.010701   -0.011584   -0.009881  \n",
       "13   -0.005506   -0.007195   -0.006887  \n",
       "14   -0.007630   -0.010495   -0.008633  \n",
       "15   -0.014377   -0.018443   -0.016522  \n",
       "16   -0.010252   -0.011978   -0.011147  \n",
       "17   -0.006340   -0.008670   -0.008357  \n",
       "18   -0.006270   -0.009879   -0.008611  \n",
       "19   -0.006102   -0.009353   -0.006337  \n",
       "20   -0.014137   -0.014222   -0.014351  \n",
       "21   -0.010769   -0.012475   -0.010696  \n",
       "22   -0.008062   -0.010011   -0.008629  \n",
       "23   -0.001975   -0.005080   -0.003030  \n",
       "\n",
       "[24 rows x 1446 columns]"
      ]
     },
     "execution_count": 6,
     "metadata": {},
     "output_type": "execute_result"
    }
   ],
   "source": [
    "x_df = pd.read_csv('../avg_base_nosat_wl_wl-norm_03-03.csv', sep = ',')\n",
    "values = x_df.values\n",
    "#wl=x_df.columns.values\n",
    "#print(wl.shape)\n",
    "\n",
    "#print(values)\n",
    "#print(type(values))\n",
    "print(values.shape)\n",
    "print(values[1].shape)\n",
    "print(len(values))\n",
    "x_df"
   ]
  },
  {
   "cell_type": "code",
   "execution_count": 7,
   "metadata": {},
   "outputs": [
    {
     "name": "stdout",
     "output_type": "stream",
     "text": [
      "[252.0714 252.2017 252.3319 ... 429.491  429.6013 429.7116]\n"
     ]
    },
    {
     "data": {
      "image/png": "[encoded data removed]",
      "text/plain": [
       "<Figure size 432x288 with 1 Axes>"
      ]
     },
     "metadata": {
      "needs_background": "light"
     },
     "output_type": "display_data"
    }
   ],
   "source": [
    "#This is just for visualizing the various plots of the samples\n",
    "\n",
    "df = pd.read_csv('../ref_new/1.csv')\n",
    "data=df.values\n",
    "wl= data[0]\n",
    "print(wl)\n",
    "\n",
    "for i in range(len(values)):\n",
    "    plt.plot(wl, data[i,:])\n",
    "    #plt.show() #comment this one to have unique plot instead of multiple ones\n",
    "#range(len(dfs))\n",
    "#\"\"\"\n",
    "\n"
   ]
  },
  {
   "cell_type": "code",
   "execution_count": 8,
   "metadata": {},
   "outputs": [
    {
     "name": "stdout",
     "output_type": "stream",
     "text": [
      "<class 'pandas.core.frame.DataFrame'>\n",
      "(24, 9)\n"
     ]
    },
    {
     "data": {
      "text/html": [
       "<div>\n",
       "<style scoped>\n",
       "    .dataframe tbody tr th:only-of-type {\n",
       "        vertical-align: middle;\n",
       "    }\n",
       "\n",
       "    .dataframe tbody tr th {\n",
       "        vertical-align: top;\n",
       "    }\n",
       "\n",
       "    .dataframe thead th {\n",
       "        text-align: right;\n",
       "    }\n",
       "</style>\n",
       "<table border=\"1\" class=\"dataframe\">\n",
       "  <thead>\n",
       "    <tr style=\"text-align: right;\">\n",
       "      <th></th>\n",
       "      <th>Reference Number</th>\n",
       "      <th>Si</th>\n",
       "      <th>Fe</th>\n",
       "      <th>Mg</th>\n",
       "      <th>Zn</th>\n",
       "      <th>Cu</th>\n",
       "      <th>Mn</th>\n",
       "      <th>Al</th>\n",
       "      <th>Total</th>\n",
       "    </tr>\n",
       "  </thead>\n",
       "  <tbody>\n",
       "    <tr>\n",
       "      <th>0</th>\n",
       "      <td>1</td>\n",
       "      <td>0.185</td>\n",
       "      <td>0.228</td>\n",
       "      <td>2.940</td>\n",
       "      <td>0.0304</td>\n",
       "      <td>0.0620</td>\n",
       "      <td>0.280</td>\n",
       "      <td>96.0000</td>\n",
       "      <td>99.7254</td>\n",
       "    </tr>\n",
       "    <tr>\n",
       "      <th>1</th>\n",
       "      <td>2</td>\n",
       "      <td>0.360</td>\n",
       "      <td>0.600</td>\n",
       "      <td>1.100</td>\n",
       "      <td>0.0700</td>\n",
       "      <td>0.2000</td>\n",
       "      <td>0.830</td>\n",
       "      <td>96.5787</td>\n",
       "      <td>99.7387</td>\n",
       "    </tr>\n",
       "    <tr>\n",
       "      <th>2</th>\n",
       "      <td>3</td>\n",
       "      <td>9.140</td>\n",
       "      <td>1.010</td>\n",
       "      <td>0.200</td>\n",
       "      <td>0.4200</td>\n",
       "      <td>3.6000</td>\n",
       "      <td>0.410</td>\n",
       "      <td>84.7770</td>\n",
       "      <td>99.5570</td>\n",
       "    </tr>\n",
       "    <tr>\n",
       "      <th>3</th>\n",
       "      <td>4</td>\n",
       "      <td>8.565</td>\n",
       "      <td>0.000</td>\n",
       "      <td>0.293</td>\n",
       "      <td>0.8870</td>\n",
       "      <td>2.6360</td>\n",
       "      <td>0.330</td>\n",
       "      <td>86.5650</td>\n",
       "      <td>99.2760</td>\n",
       "    </tr>\n",
       "    <tr>\n",
       "      <th>4</th>\n",
       "      <td>5</td>\n",
       "      <td>9.500</td>\n",
       "      <td>0.000</td>\n",
       "      <td>0.391</td>\n",
       "      <td>0.0000</td>\n",
       "      <td>0.0580</td>\n",
       "      <td>0.016</td>\n",
       "      <td>90.0210</td>\n",
       "      <td>99.9860</td>\n",
       "    </tr>\n",
       "    <tr>\n",
       "      <th>5</th>\n",
       "      <td>6</td>\n",
       "      <td>7.220</td>\n",
       "      <td>0.140</td>\n",
       "      <td>0.360</td>\n",
       "      <td>0.0840</td>\n",
       "      <td>0.1200</td>\n",
       "      <td>0.053</td>\n",
       "      <td>91.8090</td>\n",
       "      <td>99.7860</td>\n",
       "    </tr>\n",
       "    <tr>\n",
       "      <th>6</th>\n",
       "      <td>7</td>\n",
       "      <td>7.460</td>\n",
       "      <td>0.530</td>\n",
       "      <td>0.036</td>\n",
       "      <td>0.1400</td>\n",
       "      <td>0.1500</td>\n",
       "      <td>0.100</td>\n",
       "      <td>91.4140</td>\n",
       "      <td>99.8300</td>\n",
       "    </tr>\n",
       "    <tr>\n",
       "      <th>7</th>\n",
       "      <td>8</td>\n",
       "      <td>12.900</td>\n",
       "      <td>0.120</td>\n",
       "      <td>0.520</td>\n",
       "      <td>0.1550</td>\n",
       "      <td>0.5200</td>\n",
       "      <td>0.286</td>\n",
       "      <td>84.7905</td>\n",
       "      <td>99.2915</td>\n",
       "    </tr>\n",
       "    <tr>\n",
       "      <th>8</th>\n",
       "      <td>9</td>\n",
       "      <td>8.750</td>\n",
       "      <td>0.460</td>\n",
       "      <td>1.710</td>\n",
       "      <td>0.0290</td>\n",
       "      <td>2.0000</td>\n",
       "      <td>0.056</td>\n",
       "      <td>85.3100</td>\n",
       "      <td>98.3150</td>\n",
       "    </tr>\n",
       "    <tr>\n",
       "      <th>9</th>\n",
       "      <td>10</td>\n",
       "      <td>0.260</td>\n",
       "      <td>0.420</td>\n",
       "      <td>1.260</td>\n",
       "      <td>0.0200</td>\n",
       "      <td>0.0040</td>\n",
       "      <td>1.160</td>\n",
       "      <td>96.8346</td>\n",
       "      <td>99.9586</td>\n",
       "    </tr>\n",
       "    <tr>\n",
       "      <th>10</th>\n",
       "      <td>11</td>\n",
       "      <td>0.070</td>\n",
       "      <td>0.100</td>\n",
       "      <td>0.410</td>\n",
       "      <td>0.1800</td>\n",
       "      <td>0.0600</td>\n",
       "      <td>1.450</td>\n",
       "      <td>97.6000</td>\n",
       "      <td>99.8700</td>\n",
       "    </tr>\n",
       "    <tr>\n",
       "      <th>11</th>\n",
       "      <td>12</td>\n",
       "      <td>0.160</td>\n",
       "      <td>0.310</td>\n",
       "      <td>0.880</td>\n",
       "      <td>0.1000</td>\n",
       "      <td>0.1100</td>\n",
       "      <td>1.140</td>\n",
       "      <td>97.1500</td>\n",
       "      <td>99.8500</td>\n",
       "    </tr>\n",
       "    <tr>\n",
       "      <th>12</th>\n",
       "      <td>13</td>\n",
       "      <td>6.120</td>\n",
       "      <td>0.000</td>\n",
       "      <td>0.320</td>\n",
       "      <td>0.0000</td>\n",
       "      <td>0.0054</td>\n",
       "      <td>0.016</td>\n",
       "      <td>93.5352</td>\n",
       "      <td>99.9966</td>\n",
       "    </tr>\n",
       "    <tr>\n",
       "      <th>13</th>\n",
       "      <td>14</td>\n",
       "      <td>12.530</td>\n",
       "      <td>0.310</td>\n",
       "      <td>0.025</td>\n",
       "      <td>0.0500</td>\n",
       "      <td>0.0560</td>\n",
       "      <td>0.033</td>\n",
       "      <td>86.8180</td>\n",
       "      <td>99.8220</td>\n",
       "    </tr>\n",
       "    <tr>\n",
       "      <th>14</th>\n",
       "      <td>15</td>\n",
       "      <td>0.530</td>\n",
       "      <td>0.230</td>\n",
       "      <td>0.770</td>\n",
       "      <td>0.0310</td>\n",
       "      <td>0.0060</td>\n",
       "      <td>0.024</td>\n",
       "      <td>98.3881</td>\n",
       "      <td>99.9791</td>\n",
       "    </tr>\n",
       "    <tr>\n",
       "      <th>15</th>\n",
       "      <td>16</td>\n",
       "      <td>0.160</td>\n",
       "      <td>0.200</td>\n",
       "      <td>4.540</td>\n",
       "      <td>0.0520</td>\n",
       "      <td>0.0500</td>\n",
       "      <td>0.380</td>\n",
       "      <td>94.5340</td>\n",
       "      <td>99.9160</td>\n",
       "    </tr>\n",
       "    <tr>\n",
       "      <th>16</th>\n",
       "      <td>17</td>\n",
       "      <td>3.000</td>\n",
       "      <td>0.795</td>\n",
       "      <td>0.570</td>\n",
       "      <td>0.1540</td>\n",
       "      <td>4.2900</td>\n",
       "      <td>0.037</td>\n",
       "      <td>90.4640</td>\n",
       "      <td>99.3100</td>\n",
       "    </tr>\n",
       "    <tr>\n",
       "      <th>17</th>\n",
       "      <td>18</td>\n",
       "      <td>9.460</td>\n",
       "      <td>1.190</td>\n",
       "      <td>0.390</td>\n",
       "      <td>0.1600</td>\n",
       "      <td>3.1000</td>\n",
       "      <td>0.260</td>\n",
       "      <td>84.8070</td>\n",
       "      <td>99.3670</td>\n",
       "    </tr>\n",
       "    <tr>\n",
       "      <th>18</th>\n",
       "      <td>19</td>\n",
       "      <td>0.530</td>\n",
       "      <td>0.180</td>\n",
       "      <td>3.570</td>\n",
       "      <td>5.0600</td>\n",
       "      <td>1.9000</td>\n",
       "      <td>0.130</td>\n",
       "      <td>88.2100</td>\n",
       "      <td>99.5800</td>\n",
       "    </tr>\n",
       "    <tr>\n",
       "      <th>19</th>\n",
       "      <td>24</td>\n",
       "      <td>9.190</td>\n",
       "      <td>0.000</td>\n",
       "      <td>0.339</td>\n",
       "      <td>0.0000</td>\n",
       "      <td>0.0057</td>\n",
       "      <td>0.008</td>\n",
       "      <td>90.4538</td>\n",
       "      <td>99.9965</td>\n",
       "    </tr>\n",
       "    <tr>\n",
       "      <th>20</th>\n",
       "      <td>25</td>\n",
       "      <td>6.160</td>\n",
       "      <td>0.000</td>\n",
       "      <td>0.363</td>\n",
       "      <td>0.0000</td>\n",
       "      <td>0.0060</td>\n",
       "      <td>0.206</td>\n",
       "      <td>93.2574</td>\n",
       "      <td>99.9924</td>\n",
       "    </tr>\n",
       "    <tr>\n",
       "      <th>21</th>\n",
       "      <td>26</td>\n",
       "      <td>0.180</td>\n",
       "      <td>0.205</td>\n",
       "      <td>2.480</td>\n",
       "      <td>5.4400</td>\n",
       "      <td>1.6000</td>\n",
       "      <td>0.079</td>\n",
       "      <td>89.8430</td>\n",
       "      <td>99.8270</td>\n",
       "    </tr>\n",
       "    <tr>\n",
       "      <th>22</th>\n",
       "      <td>28</td>\n",
       "      <td>0.180</td>\n",
       "      <td>0.500</td>\n",
       "      <td>1.110</td>\n",
       "      <td>0.0520</td>\n",
       "      <td>0.1500</td>\n",
       "      <td>1.260</td>\n",
       "      <td>96.7210</td>\n",
       "      <td>99.9730</td>\n",
       "    </tr>\n",
       "    <tr>\n",
       "      <th>23</th>\n",
       "      <td>29</td>\n",
       "      <td>0.180</td>\n",
       "      <td>0.350</td>\n",
       "      <td>2.030</td>\n",
       "      <td>6.0800</td>\n",
       "      <td>1.3500</td>\n",
       "      <td>0.450</td>\n",
       "      <td>89.3900</td>\n",
       "      <td>99.8300</td>\n",
       "    </tr>\n",
       "  </tbody>\n",
       "</table>\n",
       "</div>"
      ],
      "text/plain": [
       "    Reference Number      Si     Fe     Mg      Zn      Cu     Mn       Al  \\\n",
       "0                  1   0.185  0.228  2.940  0.0304  0.0620  0.280  96.0000   \n",
       "1                  2   0.360  0.600  1.100  0.0700  0.2000  0.830  96.5787   \n",
       "2                  3   9.140  1.010  0.200  0.4200  3.6000  0.410  84.7770   \n",
       "3                  4   8.565  0.000  0.293  0.8870  2.6360  0.330  86.5650   \n",
       "4                  5   9.500  0.000  0.391  0.0000  0.0580  0.016  90.0210   \n",
       "5                  6   7.220  0.140  0.360  0.0840  0.1200  0.053  91.8090   \n",
       "6                  7   7.460  0.530  0.036  0.1400  0.1500  0.100  91.4140   \n",
       "7                  8  12.900  0.120  0.520  0.1550  0.5200  0.286  84.7905   \n",
       "8                  9   8.750  0.460  1.710  0.0290  2.0000  0.056  85.3100   \n",
       "9                 10   0.260  0.420  1.260  0.0200  0.0040  1.160  96.8346   \n",
       "10                11   0.070  0.100  0.410  0.1800  0.0600  1.450  97.6000   \n",
       "11                12   0.160  0.310  0.880  0.1000  0.1100  1.140  97.1500   \n",
       "12                13   6.120  0.000  0.320  0.0000  0.0054  0.016  93.5352   \n",
       "13                14  12.530  0.310  0.025  0.0500  0.0560  0.033  86.8180   \n",
       "14                15   0.530  0.230  0.770  0.0310  0.0060  0.024  98.3881   \n",
       "15                16   0.160  0.200  4.540  0.0520  0.0500  0.380  94.5340   \n",
       "16                17   3.000  0.795  0.570  0.1540  4.2900  0.037  90.4640   \n",
       "17                18   9.460  1.190  0.390  0.1600  3.1000  0.260  84.8070   \n",
       "18                19   0.530  0.180  3.570  5.0600  1.9000  0.130  88.2100   \n",
       "19                24   9.190  0.000  0.339  0.0000  0.0057  0.008  90.4538   \n",
       "20                25   6.160  0.000  0.363  0.0000  0.0060  0.206  93.2574   \n",
       "21                26   0.180  0.205  2.480  5.4400  1.6000  0.079  89.8430   \n",
       "22                28   0.180  0.500  1.110  0.0520  0.1500  1.260  96.7210   \n",
       "23                29   0.180  0.350  2.030  6.0800  1.3500  0.450  89.3900   \n",
       "\n",
       "      Total  \n",
       "0   99.7254  \n",
       "1   99.7387  \n",
       "2   99.5570  \n",
       "3   99.2760  \n",
       "4   99.9860  \n",
       "5   99.7860  \n",
       "6   99.8300  \n",
       "7   99.2915  \n",
       "8   98.3150  \n",
       "9   99.9586  \n",
       "10  99.8700  \n",
       "11  99.8500  \n",
       "12  99.9966  \n",
       "13  99.8220  \n",
       "14  99.9791  \n",
       "15  99.9160  \n",
       "16  99.3100  \n",
       "17  99.3670  \n",
       "18  99.5800  \n",
       "19  99.9965  \n",
       "20  99.9924  \n",
       "21  99.8270  \n",
       "22  99.9730  \n",
       "23  99.8300  "
      ]
     },
     "execution_count": 8,
     "metadata": {},
     "output_type": "execute_result"
    }
   ],
   "source": [
    "df_y = pd.read_csv('../concentration_1.csv', sep = ',')\n",
    "print(type(df_y))\n",
    "concentration=df_y.values\n",
    "print(concentration.shape)\n",
    "#print(concentration)\n",
    "\n",
    "y_values=df_y.values\n",
    "y_all=pd.DataFrame(y_values[:,1:-2])\n",
    "#print(y_all)\n",
    "df_y"
   ]
  },
  {
   "cell_type": "code",
   "execution_count": 9,
   "metadata": {
    "scrolled": true
   },
   "outputs": [
    {
     "name": "stdout",
     "output_type": "stream",
     "text": [
      "[2.94  1.1   0.2   0.293 0.391 0.36  0.036 0.52  1.71  1.26  0.41  0.88\n",
      " 0.32  0.025 0.77  4.54  0.57  0.39  3.57  0.339 0.363 2.48  1.11  2.03 ]\n",
      "(24,)\n"
     ]
    }
   ],
   "source": [
    "y_val = concentration[:,3] #1-Si, 2-Fe, 3-Mg, 5-Cu, 6-Mn (4-Zn but too much sparse)\n",
    "print(y_val)\n",
    "print(y_val.shape)\n",
    "y_df= pd.DataFrame(y_val)\n",
    "#y_df"
   ]
  },
  {
   "cell_type": "code",
   "execution_count": null,
   "metadata": {},
   "outputs": [],
   "source": []
  },
  {
   "cell_type": "code",
   "execution_count": 17,
   "metadata": {},
   "outputs": [
    {
     "name": "stdout",
     "output_type": "stream",
     "text": [
      "(19, 1446) (19, 1)\n",
      "(5, 1446) (5, 1)\n",
      "        0\n",
      "1   1.100\n",
      "2   0.200\n",
      "13  0.025\n",
      "17  0.390\n",
      "16  0.570\n"
     ]
    }
   ],
   "source": [
    "X_train, X_test, y_train, y_test = train_test_split(x_df, y_df, test_size=0.2)\n",
    "print (X_train.shape, y_train.shape)\n",
    "print (X_test.shape, y_test.shape)\n",
    "print(y_test)"
   ]
  },
  {
   "cell_type": "code",
   "execution_count": null,
   "metadata": {},
   "outputs": [],
   "source": []
  },
  {
   "cell_type": "markdown",
   "metadata": {},
   "source": [
    "# Principal Components Analysis"
   ]
  },
  {
   "cell_type": "code",
   "execution_count": 11,
   "metadata": {},
   "outputs": [
    {
     "name": "stdout",
     "output_type": "stream",
     "text": [
      "(24, 1446)\n",
      "(1446,)\n",
      "24\n",
      "(24, 20)\n",
      "[32.16 58.34 69.76 79.23 85.78 89.43 91.66 93.69 95.11 96.32 97.1  97.7\n",
      " 98.23 98.57 98.83 99.08 99.28 99.46 99.61 99.75]\n"
     ]
    }
   ],
   "source": [
    "n_components=20\n",
    "\n",
    "\n",
    "x = x_df.values\n",
    "print(x.shape)\n",
    "print(x[1].shape)\n",
    "print(len(x))\n",
    "\n",
    "\n",
    "# This has to be used later for regression, PCA is done on X only\n",
    "\"\"\"\n",
    "y_df = pd.read_csv('labels_aligned+.csv', sep = ',')\n",
    "concentration=y_df.values\n",
    "#print(concentration)\n",
    "multi_y = concentration[:,2:]\n",
    "#print (multi_y)\n",
    "print (multi_y.shape)\n",
    "multi_y= np.array(multi_y, dtype=np.float)\n",
    "y=np.around(multi_y, decimals=4)\n",
    "#print(y)\n",
    "\"\"\"\n",
    "\n",
    "# PCA\n",
    "\n",
    "X_std = StandardScaler().fit_transform(x)\n",
    "#print(X_std)\n",
    "\n",
    "pca = PCA(n_components= n_components)\n",
    "PC=pca.fit(X_std)\n",
    "\n",
    "principalComponents = pca.fit_transform(X_std)\n",
    "print(principalComponents.shape)\n",
    "#principalDf = pd.DataFrame(data = principalComponents, columns = ['principal component 1', 'principal component 2', 'principal component 3'])\n",
    "#print(principalDf)\n",
    "\n",
    "\n",
    "#print(pca.explained_variance_ratio_)\n",
    "print(np.cumsum(np.round(pca.explained_variance_ratio_, decimals=4)*100))\n",
    "#print(pca.singular_values_)"
   ]
  },
  {
   "cell_type": "code",
   "execution_count": 12,
   "metadata": {},
   "outputs": [
    {
     "name": "stdout",
     "output_type": "stream",
     "text": [
      "0.9848340523115449 -15.14649505941636\n",
      "0.020707936081303502 22.046798162306988\n"
     ]
    }
   ],
   "source": [
    "regr = linear_model.LinearRegression()\n",
    "# Fit\n",
    "regr.fit(principalComponents, y_df)\n",
    "# Calibration\n",
    "y_c = regr.predict(principalComponents)\n",
    "# Cross-validation\n",
    "y_cv = cross_val_predict(regr, principalComponents, y_df, cv=10)\n",
    "# Calculate scores for calibration and cross-validation\n",
    "score_c = r2_score(y_df, y_c)\n",
    "score_cv = r2_score(y_df, y_cv)\n",
    "# Calculate mean square error for calibration and cross validation\n",
    "\n",
    "mse_c = mean_squared_error(y_df, y_c)\n",
    "mse_cv = mean_squared_error(y_df, y_cv)\n",
    "\n",
    "print(score_c, score_cv)\n",
    "print(mse_c, mse_cv)"
   ]
  },
  {
   "cell_type": "markdown",
   "metadata": {},
   "source": [
    "now using PCA with Linear regression and PLS"
   ]
  },
  {
   "cell_type": "code",
   "execution_count": 13,
   "metadata": {},
   "outputs": [
    {
     "name": "stdout",
     "output_type": "stream",
     "text": [
      "(19, 1446)\n",
      "(1446,)\n",
      "19\n",
      "(19, 15)\n",
      "[31.39 57.97 69.86 78.68 86.   90.19 92.52 94.59 95.99 97.29 97.94 98.58\n",
      " 98.98 99.31 99.55]\n"
     ]
    }
   ],
   "source": [
    "n_components=15\n",
    "\n",
    "x = X_train.values\n",
    "x_t = X_test.values\n",
    "print(x.shape)\n",
    "print(x[1].shape)\n",
    "print(len(x))\n",
    "\n",
    "\n",
    "# This has to be used later for regression, PCA is done on X only\n",
    "\"\"\"\n",
    "y_df = pd.read_csv('labels_aligned+.csv', sep = ',')\n",
    "concentration=y_df.values\n",
    "#print(concentration)\n",
    "multi_y = concentration[:,2:]\n",
    "#print (multi_y)\n",
    "print (multi_y.shape)\n",
    "multi_y= np.array(multi_y, dtype=np.float)\n",
    "y=np.around(multi_y, decimals=4)\n",
    "#print(y)\n",
    "\"\"\"\n",
    "\n",
    "# PCA\n",
    "\n",
    "X_std = StandardScaler().fit_transform(x)\n",
    "X_std_test = StandardScaler().fit_transform(x_t)\n",
    "#print(X_std)\n",
    "\n",
    "pca = PCA(n_components= n_components)\n",
    "PC=pca.fit(X_std)\n",
    "\n",
    "x_pc = pca.fit_transform(X_std)\n",
    "x_test1 = pca.transform(X_std_test)\n",
    "print(x_pc.shape)\n",
    "#principalDf = pd.DataFrame(data = principalComponents, columns = ['principal component 1', 'principal component 2', 'principal component 3'])\n",
    "#print(principalDf)\n",
    "\n",
    "\n",
    "#print(pca.explained_variance_ratio_)\n",
    "print(np.cumsum(np.round(pca.explained_variance_ratio_, decimals=4)*100))"
   ]
  },
  {
   "cell_type": "code",
   "execution_count": 14,
   "metadata": {},
   "outputs": [
    {
     "name": "stdout",
     "output_type": "stream",
     "text": [
      "R2_pred:  -2.140162453328776\n",
      "MSE:  2.221136886011957\n"
     ]
    }
   ],
   "source": [
    "regr = linear_model.LinearRegression()\n",
    "# Fit\n",
    "regr.fit(x_pc, y_train)\n",
    "# Calibration\n",
    "y_p = regr.predict(x_test1)\n",
    "# Cross-validation\n",
    "#y_cv = cross_val_predict(regr, principalComponents, y_df, cv=10)\n",
    "# Calculate scores for calibration and cross-validation\n",
    "score_c = r2_score(y_test, y_p)\n",
    "#score_cv = r2_score(y_df, y_cv)\n",
    "# Calculate mean square error for calibration and cross validation\n",
    "mse_c = mean_squared_error(y_test, y_p)\n",
    "#mse_cv = mean_squared_error(y_df, y_cv)\n",
    "\n",
    "print(\"R2_pred: \", score_c)\n",
    "print(\"MSE: \", mse_c)"
   ]
  },
  {
   "cell_type": "code",
   "execution_count": 15,
   "metadata": {},
   "outputs": [
    {
     "name": "stdout",
     "output_type": "stream",
     "text": [
      "37% completed\n",
      "Suggested number of components:  1\n",
      "\n"
     ]
    },
    {
     "data": {
      "image/png": "[encoded data removed]",
      "text/plain": [
       "<Figure size 432x288 with 1 Axes>"
      ]
     },
     "metadata": {},
     "output_type": "display_data"
    },
    {
     "name": "stdout",
     "output_type": "stream",
     "text": [
      "R2 calib: 0.842\n",
      "R2 CV: -0.248\n",
      "MSE calib: 0.243\n",
      "MSE CV: 1.919\n"
     ]
    }
   ],
   "source": [
    "optimise_pls_cv(x_pc, y_train, 15, plot_components=True) "
   ]
  },
  {
   "cell_type": "code",
   "execution_count": 16,
   "metadata": {},
   "outputs": [
    {
     "name": "stdout",
     "output_type": "stream",
     "text": [
      "R2_pred:  -2.140162453328775\n",
      "MSE:  2.2211368860119567\n"
     ]
    }
   ],
   "source": [
    "pls = PLSRegression(n_components=3)\n",
    "# Fit\n",
    "pls.fit(x_pc, y_train)\n",
    "# Calibration\n",
    "y_c = pls.predict(x_test1)\n",
    "# Cross-validation\n",
    "#y_cv = cross_val_predict(regr, principalComponents, y_df, cv=10)\n",
    "# Calculate scores for calibration and cross-validation\n",
    "score_c = r2_score(y_test, y_c)\n",
    "#score_cv = r2_score(y_df, y_cv)\n",
    "# Calculate mean square error for calibration and cross validation\n",
    "mse_c = mean_squared_error(y_test, y_c)\n",
    "#mse_cv = mean_squared_error(y_df, y_cv)\n",
    "\n",
    "print(\"R2_pred: \", score_c)\n",
    "print(\"MSE: \", mse_c)"
   ]
  },
  {
   "cell_type": "markdown",
   "metadata": {},
   "source": [
    "# Partial Least Square Regression"
   ]
  },
  {
   "cell_type": "code",
   "execution_count": 23,
   "metadata": {},
   "outputs": [
    {
     "name": "stdout",
     "output_type": "stream",
     "text": [
      "(1446,)\n"
     ]
    }
   ],
   "source": [
    "print(wl.shape)"
   ]
  },
  {
   "cell_type": "markdown",
   "metadata": {},
   "source": [
    "## Wavelenght selection for PLS"
   ]
  },
  {
   "cell_type": "code",
   "execution_count": 10,
   "metadata": {
    "scrolled": true
   },
   "outputs": [
    {
     "name": "stdout",
     "output_type": "stream",
     "text": [
      "100% completed\n",
      "Optimised number of PLS components:  8\n",
      "Wavelengths to be discarded  1411\n",
      "Optimised MSEP  0.39322839374148005\n",
      "\n",
      "--- 341.1094193458557 seconds ---\n"
     ]
    }
   ],
   "source": [
    "start_time = time.time()\n",
    "\n",
    "opt_Xc, ncomp, wav, sorted_ind = pls_variable_selection(x_df.values, y_val, 15)\n",
    "\n",
    "print(\"--- %s seconds ---\" % (time.time() - start_time))"
   ]
  },
  {
   "cell_type": "code",
   "execution_count": 11,
   "metadata": {},
   "outputs": [
    {
     "name": "stdout",
     "output_type": "stream",
     "text": [
      "sorted wavelengths:  [309.506  399.4131 382.791  291.0649 377.5265 383.387  334.0345 275.32\n",
      " 333.6584 383.9826]\n"
     ]
    },
    {
     "data": {
      "image/png": "[encoded data removed]",
      "text/plain": [
       "<Figure size 432x288 with 1 Axes>"
      ]
     },
     "metadata": {
      "needs_background": "light"
     },
     "output_type": "display_data"
    }
   ],
   "source": [
    "#print(opt_Xc.shape,\"\\n\")\n",
    "#print(\"sorted indexes: \", sorted_ind)\n",
    "print(\"sorted wavelengths: \", wl[sorted_ind[:10]].T)\n",
    "\n",
    "plt.plot(opt_Xc.T)\n",
    "plt.show()"
   ]
  },
  {
   "cell_type": "code",
   "execution_count": 30,
   "metadata": {},
   "outputs": [
    {
     "name": "stdout",
     "output_type": "stream",
     "text": [
      "(19, 35) (19, 1)\n",
      "(5, 35) (5, 1)\n",
      "       0\n",
      "22  1.11\n",
      "12  0.32\n",
      "17  0.39\n",
      "15  4.54\n",
      "14  0.77\n"
     ]
    }
   ],
   "source": [
    "X_train, X_test, y_train, y_test = train_test_split(opt_Xc, y_df, test_size=0.2, random_state = 3) #seed for Mg = 3, 16\n",
    "#X_train, X_test, y_train, y_test = train_test_split(opt_Xc, y_df, test_size=0.2, random_state = 7) #seed for Si = 7\n",
    "#X_train, X_test, y_train, y_test = train_test_split(opt_Xc, y_df, test_size=0.2, random_state = 16) #seed for Cu =16\n",
    "#X_train, X_test, y_train, y_test = train_test_split(opt_Xc, y_df, test_size=0.2, random_state = 7) #seed for Fe =7\n",
    "#X_train, X_test, y_train, y_test = train_test_split(opt_Xc, y_df, test_size=0.2, random_state = 3) #seed for Mn = 3\n",
    "\n",
    "#X_train, X_test, y_train, y_test = train_test_split(opt_Xc, y_df, test_size=0.2)\n",
    "print (X_train.shape, y_train.shape)\n",
    "print (X_test.shape, y_test.shape)\n",
    "print(y_test)"
   ]
  },
  {
   "cell_type": "code",
   "execution_count": 31,
   "metadata": {},
   "outputs": [],
   "source": [
    "#optimise_pls_cv(X_train,y_train, 3, plot_components=True)"
   ]
  },
  {
   "cell_type": "code",
   "execution_count": 32,
   "metadata": {},
   "outputs": [
    {
     "name": "stdout",
     "output_type": "stream",
     "text": [
      "R2_pred:  0.908005884309103\n",
      "RMSE:  0.48002261333408036\n",
      "\n"
     ]
    },
    {
     "data": {
      "image/png": "[encoded data removed]",
      "text/plain": [
       "<Figure size 720x504 with 1 Axes>"
      ]
     },
     "metadata": {
      "needs_background": "light"
     },
     "output_type": "display_data"
    }
   ],
   "source": [
    "# Define PLS object\n",
    "pls = PLSRegression(n_components=14)\n",
    "# Fit\n",
    "pls.fit(X_train, y_train)\n",
    "\n",
    "y_pred = pls.predict(X_test)\n",
    "y_pred1 = pls.predict(X_train)\n",
    "\n",
    "# Calculate score and error\n",
    "r2 = r2_score(y_test, y_pred)\n",
    "rmse = sqrt(mean_squared_error(y_test, y_pred))\n",
    "\n",
    "\n",
    "print(\"R2_pred: \", r2)\n",
    "print(\"RMSE: \", rmse)\n",
    "#print(\"R2_cv: \",score_cv)\n",
    "print(\"\")\n",
    "\n",
    "\n",
    "c=np.append(y_train, y_pred1, axis=1)\n",
    "\n",
    "#print(\"TRAIN\\n [real, predictions]\")\n",
    "#print(c)\n",
    "\n",
    "plt.figure(figsize=(10,7))\n",
    "plt.scatter(y_test, y_pred)\n",
    "plt.scatter(y_train, y_pred1)\n",
    "plt.plot( y_test, linear_model.LinearRegression().fit(y_test, y_pred).predict(y_test) )\n",
    "plt.xlabel('True Values')\n",
    "plt.ylabel('Predictions')\n",
    "plt.grid(True)\n",
    "plt.show()"
   ]
  },
  {
   "cell_type": "markdown",
   "metadata": {},
   "source": [
    "## Using Normalization"
   ]
  },
  {
   "cell_type": "code",
   "execution_count": 33,
   "metadata": {},
   "outputs": [
    {
     "name": "stdout",
     "output_type": "stream",
     "text": [
      "(19, 35)\n",
      "(5, 35)\n"
     ]
    }
   ],
   "source": [
    "Xn_train = normalize(X_train, axis=1)\n",
    "Xn_test = normalize(X_test, axis=1)\n",
    "print(Xn_train.shape)\n",
    "print(Xn_test.shape)"
   ]
  },
  {
   "cell_type": "code",
   "execution_count": 34,
   "metadata": {},
   "outputs": [
    {
     "data": {
      "image/png": "[encoded data removed]",
      "text/plain": [
       "<Figure size 432x288 with 1 Axes>"
      ]
     },
     "metadata": {
      "needs_background": "light"
     },
     "output_type": "display_data"
    }
   ],
   "source": [
    "plt.plot(Xn_train.T)\n",
    "plt.show()"
   ]
  },
  {
   "cell_type": "code",
   "execution_count": 35,
   "metadata": {},
   "outputs": [],
   "source": [
    "#optimise_pls_cv(Xn_train,y_train, 40, plot_components=True)\n",
    "#optimise_pls_cv(Xn_train,y_train, 7, plot_components=True)"
   ]
  },
  {
   "cell_type": "code",
   "execution_count": 36,
   "metadata": {},
   "outputs": [
    {
     "name": "stdout",
     "output_type": "stream",
     "text": [
      "R2_pred:  0.8354910306205594\n",
      "RMSE:  0.6419134318577059\n",
      "\n",
      "TEST\n",
      " [real, predictions]\n",
      "[[1.11       1.7069994 ]\n",
      " [0.32       0.39957279]\n",
      " [0.39       0.04778366]\n",
      " [4.54       3.49988401]\n",
      " [0.77       0.0639045 ]]\n",
      "\n"
     ]
    },
    {
     "data": {
      "image/png": "[encoded data removed]",
      "text/plain": [
       "<Figure size 720x504 with 1 Axes>"
      ]
     },
     "metadata": {
      "needs_background": "light"
     },
     "output_type": "display_data"
    }
   ],
   "source": [
    "# Define PLS object\n",
    "pls = PLSRegression(n_components=14)\n",
    "# Fit\n",
    "pls.fit(Xn_train, y_train)\n",
    "\n",
    "y_pred = pls.predict(Xn_test)\n",
    "y_pred1 = pls.predict(Xn_train)\n",
    "\n",
    "# Calculate score and error\n",
    "r2 = r2_score(y_test, y_pred)\n",
    "rmse = sqrt(mean_squared_error(y_test, y_pred))\n",
    "\n",
    "\n",
    "print(\"R2_pred: \", r2)\n",
    "print(\"RMSE: \", rmse)\n",
    "#print(\"R2_cv: \",score_cv)\n",
    "print(\"\")\n",
    "\n",
    "\n",
    "b=np.append(y_test, y_pred, axis=1)\n",
    "\n",
    "print(\"TEST\\n [real, predictions]\")\n",
    "print(b)\n",
    "print(\"\")\n",
    "\n",
    "c=np.append(y_train, y_pred1, axis=1)\n",
    "\n",
    "#print(\"TRAIN\\n [real, predictions]\")\n",
    "#print(c)\n",
    "\n",
    "plt.figure(figsize=(10,7))\n",
    "plt.scatter(y_test, y_pred)\n",
    "plt.scatter(y_train, y_pred1)\n",
    "plt.plot( y_test, linear_model.LinearRegression().fit(y_test, y_pred).predict(y_test) )\n",
    "plt.xlabel('True Values')\n",
    "plt.ylabel('Predictions')\n",
    "plt.grid(True)\n",
    "plt.show()"
   ]
  },
  {
   "cell_type": "markdown",
   "metadata": {},
   "source": [
    "## Using SNV"
   ]
  },
  {
   "cell_type": "code",
   "execution_count": 37,
   "metadata": {},
   "outputs": [
    {
     "name": "stdout",
     "output_type": "stream",
     "text": [
      "(19, 35)\n",
      "(5, 35)\n"
     ]
    }
   ],
   "source": [
    "Xs_train = snv(X_train)\n",
    "Xs_test = snv(X_test)\n",
    "print(Xs_train.shape)\n",
    "print(Xs_test.shape)\n",
    "\n",
    "#optimise_pls_cv(Xn_train,y_train, 40, plot_components=True)\n",
    "#optimise_pls_cv(Xs_train,y_train, 7, plot_components=True)"
   ]
  },
  {
   "cell_type": "code",
   "execution_count": 38,
   "metadata": {},
   "outputs": [
    {
     "data": {
      "image/png": "[encoded data removed]",
      "text/plain": [
       "<Figure size 432x288 with 1 Axes>"
      ]
     },
     "metadata": {
      "needs_background": "light"
     },
     "output_type": "display_data"
    }
   ],
   "source": [
    "plt.plot(Xs_train.T)\n",
    "plt.show()"
   ]
  },
  {
   "cell_type": "code",
   "execution_count": 39,
   "metadata": {},
   "outputs": [
    {
     "name": "stdout",
     "output_type": "stream",
     "text": [
      "R2_pred:  0.825093024011529\n",
      "RMSE:  0.661889113572105\n",
      "\n",
      "TEST\n",
      " [real, predictions]\n",
      "[[1.11       1.68701888]\n",
      " [0.32       0.70348492]\n",
      " [0.39       0.0291773 ]\n",
      " [4.54       3.40873204]\n",
      " [0.77       0.22180815]]\n",
      "\n"
     ]
    },
    {
     "data": {
      "image/png": "[encoded data removed]",
      "text/plain": [
       "<Figure size 720x504 with 1 Axes>"
      ]
     },
     "metadata": {
      "needs_background": "light"
     },
     "output_type": "display_data"
    }
   ],
   "source": [
    "# Define PLS object\n",
    "pls = PLSRegression(n_components=14)\n",
    "# Fit\n",
    "pls.fit(Xs_train, y_train)\n",
    "\n",
    "y_pred = pls.predict(Xs_test)\n",
    "y_pred1 = pls.predict(Xs_train)\n",
    "\n",
    "# Calculate score and error\n",
    "r2 = r2_score(y_test, y_pred)\n",
    "rmse = sqrt(mean_squared_error(y_test, y_pred))\n",
    "\n",
    "\n",
    "print(\"R2_pred: \", r2)\n",
    "print(\"RMSE: \", rmse)\n",
    "#print(\"R2_cv: \",score_cv)\n",
    "print(\"\")\n",
    "\n",
    "\n",
    "b=np.append(y_test, y_pred, axis=1)\n",
    "\n",
    "print(\"TEST\\n [real, predictions]\")\n",
    "print(b)\n",
    "print(\"\")\n",
    "\n",
    "c=np.append(y_train, y_pred1, axis=1)\n",
    "\n",
    "#print(\"TRAIN\\n [real, predictions]\")\n",
    "#print(c)\n",
    "\n",
    "plt.figure(figsize=(10,7))\n",
    "plt.scatter(y_test, y_pred)\n",
    "plt.scatter(y_train, y_pred1)\n",
    "plt.plot( y_test, linear_model.LinearRegression().fit(y_test, y_pred).predict(y_test) )\n",
    "plt.xlabel('True Values')\n",
    "plt.ylabel('Predictions')\n",
    "plt.grid(True)\n",
    "plt.show()"
   ]
  },
  {
   "cell_type": "code",
   "execution_count": null,
   "metadata": {},
   "outputs": [],
   "source": []
  },
  {
   "cell_type": "markdown",
   "metadata": {},
   "source": [
    "## Using Max-norm"
   ]
  },
  {
   "cell_type": "code",
   "execution_count": 40,
   "metadata": {},
   "outputs": [],
   "source": [
    "Xm_train = X_train / np.max(X_train)\n",
    "Xm_test = X_test / np.max(X_test)\n",
    "\n",
    "#optimise_pls_cv(Xn_train,y_train, 40, plot_components=True)\n",
    "#optimise_pls_cv(Xm_train,y_train, 15, plot_components=True)"
   ]
  },
  {
   "cell_type": "code",
   "execution_count": 41,
   "metadata": {},
   "outputs": [
    {
     "data": {
      "image/png": "[encoded data removed]",
      "text/plain": [
       "<Figure size 432x288 with 1 Axes>"
      ]
     },
     "metadata": {
      "needs_background": "light"
     },
     "output_type": "display_data"
    }
   ],
   "source": [
    "plt.plot(Xm_train.T)\n",
    "plt.show()"
   ]
  },
  {
   "cell_type": "code",
   "execution_count": 42,
   "metadata": {},
   "outputs": [
    {
     "name": "stdout",
     "output_type": "stream",
     "text": [
      "R2_pred:  0.1103767848078161\n",
      "RMSE:  1.4927419102153363\n",
      "\n",
      "TEST\n",
      " [real, predictions]\n",
      "[[1.11       3.17883378]\n",
      " [0.32       1.31175238]\n",
      " [0.39       1.38706186]\n",
      " [4.54       6.70560074]\n",
      " [0.77       1.21021259]]\n",
      "\n"
     ]
    },
    {
     "data": {
      "image/png": "[encoded data removed]",
      "text/plain": [
       "<Figure size 720x504 with 1 Axes>"
      ]
     },
     "metadata": {
      "needs_background": "light"
     },
     "output_type": "display_data"
    }
   ],
   "source": [
    "# Define PLS object\n",
    "pls = PLSRegression(n_components=14)\n",
    "# Fit\n",
    "pls.fit(Xm_train, y_train)\n",
    "\n",
    "y_pred = pls.predict(Xm_test)\n",
    "y_pred1 = pls.predict(Xm_train)\n",
    "\n",
    "# Calculate score and error\n",
    "r2 = r2_score(y_test, y_pred)\n",
    "rmse = sqrt(mean_squared_error(y_test, y_pred))\n",
    "\n",
    "\n",
    "print(\"R2_pred: \", r2)\n",
    "print(\"RMSE: \", rmse)\n",
    "#print(\"R2_cv: \",score_cv)\n",
    "print(\"\")\n",
    "\n",
    "b=np.append(y_test, y_pred, axis=1)\n",
    "\n",
    "print(\"TEST\\n [real, predictions]\")\n",
    "print(b)\n",
    "print(\"\")\n",
    "\n",
    "c=np.append(y_train, y_pred1, axis=1)\n",
    "\n",
    "#print(\"TRAIN\\n [real, predictions]\")\n",
    "#print(c)\n",
    "\n",
    "plt.figure(figsize=(10,7))\n",
    "plt.scatter(y_test, y_pred)\n",
    "plt.scatter(y_train, y_pred1)\n",
    "plt.plot( y_test, linear_model.LinearRegression().fit(y_test, y_pred).predict(y_test) )\n",
    "plt.xlabel('True Values')\n",
    "plt.ylabel('Predictions')\n",
    "plt.grid(True)\n",
    "plt.show()"
   ]
  },
  {
   "cell_type": "code",
   "execution_count": null,
   "metadata": {},
   "outputs": [],
   "source": []
  },
  {
   "cell_type": "code",
   "execution_count": null,
   "metadata": {},
   "outputs": [],
   "source": []
  },
  {
   "cell_type": "code",
   "execution_count": null,
   "metadata": {},
   "outputs": [],
   "source": []
  },
  {
   "cell_type": "markdown",
   "metadata": {},
   "source": [
    "## Using Savgol filter"
   ]
  },
  {
   "cell_type": "code",
   "execution_count": 45,
   "metadata": {},
   "outputs": [
    {
     "name": "stdout",
     "output_type": "stream",
     "text": [
      "(19, 1446) (19, 1)\n",
      "(5, 1446) (5, 1)\n"
     ]
    }
   ],
   "source": [
    "X_train, X_test, y_train, y_test = train_test_split(x_df, y_df, test_size=0.2)\n",
    "print (X_train.shape, y_train.shape)\n",
    "print (X_test.shape, y_test.shape)\n",
    "#print(X_test)"
   ]
  },
  {
   "cell_type": "code",
   "execution_count": 41,
   "metadata": {},
   "outputs": [
    {
     "data": {
      "image/png": "[encoded data removed]",
      "text/plain": [
       "<Figure size 576x324 with 1 Axes>"
      ]
     },
     "metadata": {
      "needs_background": "light"
     },
     "output_type": "display_data"
    },
    {
     "name": "stdout",
     "output_type": "stream",
     "text": [
      "100% completed\n",
      "Suggested number of components:  8\n",
      "\n"
     ]
    },
    {
     "data": {
      "image/png": "[encoded data removed]",
      "text/plain": [
       "<Figure size 432x288 with 1 Axes>"
      ]
     },
     "metadata": {},
     "output_type": "display_data"
    },
    {
     "name": "stdout",
     "output_type": "stream",
     "text": [
      "R2 calib: 0.956\n",
      "R2 CV: 0.404\n",
      "MSE calib: 0.060\n",
      "MSE CV: 0.813\n"
     ]
    }
   ],
   "source": [
    "# Calculate second derivative\n",
    "X2 = savgol_filter(opt_Xc, 11, polyorder = 6,deriv=0) # Is this useful with LIBS spectra???\n",
    "# Plot second derivative\n",
    "plt.figure(figsize=(8,4.5))\n",
    "with plt.style.context(('ggplot')):\n",
    "    plt.plot(range(len(X2.T)), X2.T)\n",
    "    plt.xlabel('Wavelength (nm)')\n",
    "    plt.ylabel('D2 Intensity')\n",
    "    plt.show()\n",
    "    \n",
    "\n",
    "    \n",
    "optimise_pls_cv(X2, y_df, 40, plot_components=True)"
   ]
  },
  {
   "cell_type": "code",
   "execution_count": 42,
   "metadata": {},
   "outputs": [
    {
     "name": "stdout",
     "output_type": "stream",
     "text": [
      "100% completed\n",
      "Suggested number of components:  1\n",
      "\n"
     ]
    },
    {
     "data": {
      "image/png": "[encoded data removed]",
      "text/plain": [
       "<Figure size 432x288 with 1 Axes>"
      ]
     },
     "metadata": {},
     "output_type": "display_data"
    },
    {
     "name": "stdout",
     "output_type": "stream",
     "text": [
      "R2 calib: 0.169\n",
      "R2 CV: -0.027\n",
      "MSE calib: 1.211\n",
      "MSE CV: 1.497\n"
     ]
    }
   ],
   "source": [
    "X2_train = savgol_filter(X_train, 37, polyorder = 4,deriv=1) \n",
    "X2_test = savgol_filter(X_test, 35, polyorder = 4,deriv=1) \n",
    "\n",
    "\n",
    "\n",
    "\n",
    "optimise_pls_cv(X2_train, y_train, 40, plot_components=True)"
   ]
  },
  {
   "cell_type": "code",
   "execution_count": 43,
   "metadata": {},
   "outputs": [
    {
     "name": "stdout",
     "output_type": "stream",
     "text": [
      "R2_pred:  -2586.547461785336\n",
      "R2_cv:  -0.690675692387712\n",
      "\n",
      "[real, predictions]\n",
      "[[ 3.90000000e-01 -4.48737877e+01]\n",
      " [ 2.93000000e-01 -4.61390595e+01]\n",
      " [ 2.50000000e-02 -3.88958047e+01]\n",
      " [ 2.48000000e+00 -4.94609327e+01]\n",
      " [ 3.20000000e-01 -4.45219137e+01]]\n"
     ]
    },
    {
     "data": {
      "image/png": "[encoded data removed]",
      "text/plain": [
       "<Figure size 432x288 with 1 Axes>"
      ]
     },
     "metadata": {
      "needs_background": "light"
     },
     "output_type": "display_data"
    }
   ],
   "source": [
    "# Define PLS object\n",
    "pls = PLSRegression(n_components=4)\n",
    "# Fit\n",
    "pls.fit(X2_train, y_train)\n",
    "\n",
    "y_pred = pls.predict(X2_test)\n",
    "\n",
    "# Cross-validation\n",
    "y_cv = cross_val_predict(pls, X2_train, y_train, cv=10)\n",
    "\n",
    "# Calculate scores for calibration and cross-validation\n",
    "score_pred = r2_score(y_test, y_pred)\n",
    "score_cv = r2_score(y_train, y_cv)\n",
    "\n",
    "print(\"R2_pred: \", score_pred)\n",
    "print(\"R2_cv: \",score_cv)\n",
    "print(\"\")\n",
    "\n",
    "b=np.append(y_test, y_pred, axis=1)\n",
    "\n",
    "print(\"[real, predictions]\")\n",
    "print(b)\n",
    "\n",
    "plt.scatter(y_test, y_pred)\n",
    "plt.xlabel('True Values')\n",
    "plt.ylabel('Predictions')\n",
    "plt.grid(True)\n",
    "plt.show()"
   ]
  },
  {
   "cell_type": "code",
   "execution_count": null,
   "metadata": {},
   "outputs": [],
   "source": []
  },
  {
   "cell_type": "markdown",
   "metadata": {},
   "source": [
    "# Elastic Net"
   ]
  },
  {
   "cell_type": "code",
   "execution_count": 49,
   "metadata": {},
   "outputs": [],
   "source": [
    "alphas = [0.0001, 0.001, 0.01, 0.1, 0.3, 0.5, 0.7, 1]"
   ]
  },
  {
   "cell_type": "code",
   "execution_count": 50,
   "metadata": {},
   "outputs": [
    {
     "name": "stdout",
     "output_type": "stream",
     "text": [
      "Alpha:0.0001, R2:0.31, MSE:2.86, RMSE:1.69\n",
      "Alpha:0.0010, R2:0.06, MSE:2.69, RMSE:1.64\n",
      "Alpha:0.0100, R2:0.00, MSE:2.67, RMSE:1.63\n",
      "Alpha:0.1000, R2:0.00, MSE:2.67, RMSE:1.63\n",
      "Alpha:0.3000, R2:0.00, MSE:2.67, RMSE:1.63\n",
      "Alpha:0.5000, R2:0.00, MSE:2.67, RMSE:1.63\n",
      "Alpha:0.7000, R2:0.00, MSE:2.67, RMSE:1.63\n",
      "Alpha:1.0000, R2:0.00, MSE:2.67, RMSE:1.63\n"
     ]
    }
   ],
   "source": [
    "for a in alphas:\n",
    "    model = ElasticNet(alpha=a).fit(X_train,y_train)   \n",
    "    score = model.score(X_train, y_train)\n",
    "    pred_y = model.predict(X_test)\n",
    "    mse = mean_squared_error(y_test, pred_y)   \n",
    "    print(\"Alpha:{0:.4f}, R2:{1:.2f}, MSE:{2:.2f}, RMSE:{3:.2f}\".format(a, score, mse, np.sqrt(mse)))"
   ]
  },
  {
   "cell_type": "code",
   "execution_count": 53,
   "metadata": {
    "scrolled": true
   },
   "outputs": [
    {
     "name": "stdout",
     "output_type": "stream",
     "text": [
      "Train score:  0.30735234558204294\n",
      "RMSE:  1.692288364509511\n",
      "R^2:  -0.14336631154891522\n"
     ]
    }
   ],
   "source": [
    "model = ElasticNet(alpha=0.0001).fit(X_train,y_train)   \n",
    "score = model.score(X_train, y_train)\n",
    "print(\"Train score: \", score)\n",
    "pred_y = model.predict(X_test)\n",
    "\n",
    "\n",
    "rmse = sqrt(mean_squared_error(y_test, pred_y))\n",
    "r2 = r2_score(y_test, pred_y)\n",
    "print(\"RMSE: \", rmse)\n",
    "print(\"R^2: \", r2)"
   ]
  },
  {
   "cell_type": "code",
   "execution_count": 52,
   "metadata": {},
   "outputs": [
    {
     "data": {
      "image/png": "[encoded data removed]",
      "text/plain": [
       "<Figure size 432x288 with 1 Axes>"
      ]
     },
     "metadata": {
      "needs_background": "light"
     },
     "output_type": "display_data"
    }
   ],
   "source": [
    "plt.scatter(y_test, y_pred)\n",
    "plt.xlabel('True Values')\n",
    "plt.ylabel('Predictions')\n",
    "plt.grid(True)\n",
    "plt.show()"
   ]
  },
  {
   "cell_type": "code",
   "execution_count": null,
   "metadata": {},
   "outputs": [],
   "source": []
  },
  {
   "cell_type": "markdown",
   "metadata": {},
   "source": [
    "# Random Forest"
   ]
  },
  {
   "cell_type": "code",
   "execution_count": 24,
   "metadata": {},
   "outputs": [
    {
     "name": "stdout",
     "output_type": "stream",
     "text": [
      "(20, 20) (20, 1)\n",
      "(4, 20) (4, 1)\n"
     ]
    }
   ],
   "source": [
    "#X_train, X_test, y_train, y_test = train_test_split(x_df, y_df, test_size=0.15)\n",
    "X_train, X_test, y_train, y_test = train_test_split(principalComponents, y_df, test_size=0.15)\n",
    "\n",
    "\n",
    "print (X_train.shape, y_train.shape)\n",
    "print (X_test.shape, y_test.shape)\n",
    "#print(y_test)"
   ]
  },
  {
   "cell_type": "code",
   "execution_count": 25,
   "metadata": {},
   "outputs": [
    {
     "name": "stdout",
     "output_type": "stream",
     "text": [
      "(4,)\n",
      "(20,)\n"
     ]
    }
   ],
   "source": [
    "y_test=np.ravel(y_test)\n",
    "print(y_test.shape)\n",
    "y_train=np.ravel(y_train)\n",
    "print(y_train.shape)"
   ]
  },
  {
   "cell_type": "code",
   "execution_count": 26,
   "metadata": {},
   "outputs": [
    {
     "name": "stdout",
     "output_type": "stream",
     "text": [
      "RMSE:  2.0107659208266253\n",
      "R^2:  -0.16835577941126534 \n",
      "\n",
      "[real, predictions]\n",
      "[[0.391     0.751814 ]\n",
      " [0.036     1.57471  ]\n",
      " [4.54      0.8524968]\n",
      " [0.339     0.6168908]]\n"
     ]
    },
    {
     "data": {
      "text/plain": [
       "Text(0, 0.5, 'Predictions')"
      ]
     },
     "execution_count": 26,
     "metadata": {},
     "output_type": "execute_result"
    },
    {
     "data": {
      "image/png": "[encoded data removed]",
      "text/plain": [
       "<Figure size 432x288 with 1 Axes>"
      ]
     },
     "metadata": {
      "needs_background": "light"
     },
     "output_type": "display_data"
    }
   ],
   "source": [
    "# Import the model we are using\n",
    "from sklearn.ensemble import RandomForestRegressor\n",
    "# Instantiate model with 1000 decision trees\n",
    "rf = RandomForestRegressor(n_estimators = 2500, max_depth=30, random_state = 42)\n",
    "# Train the model on training data\n",
    "\n",
    "rf.fit(X_train, y_train);\n",
    "\n",
    "# Use the forest's predict method on the test data\n",
    "predictions = rf.predict(X_test)\n",
    "\n",
    "rmse = sqrt(mean_squared_error(y_test, predictions))\n",
    "r2 = r2_score(y_test, predictions)\n",
    "print(\"RMSE: \", rmse)\n",
    "print(\"R^2: \", r2, \"\\n\")\n",
    "\n",
    "y_test= y_test.reshape((len(y_test), 1))\n",
    "predictions=predictions.reshape((len(y_test), 1))\n",
    "#print((y_test, predictions))\n",
    "\n",
    "b=np.append(y_test, predictions, axis=1)\n",
    "\n",
    "print(\"[real, predictions]\")\n",
    "print(b)\n",
    "\n",
    "plt.scatter(y_test, predictions)\n",
    "plt.xlabel('True Values')\n",
    "plt.ylabel('Predictions')"
   ]
  },
  {
   "cell_type": "code",
   "execution_count": null,
   "metadata": {},
   "outputs": [],
   "source": []
  },
  {
   "cell_type": "code",
   "execution_count": null,
   "metadata": {},
   "outputs": [],
   "source": []
  },
  {
   "cell_type": "markdown",
   "metadata": {},
   "source": [
    "# MultiOutput Random Forest"
   ]
  },
  {
   "cell_type": "code",
   "execution_count": 132,
   "metadata": {},
   "outputs": [
    {
     "name": "stdout",
     "output_type": "stream",
     "text": [
      "(24, 6)\n",
      "<class 'numpy.ndarray'>\n",
      "<class 'pandas.core.frame.DataFrame'>\n"
     ]
    }
   ],
   "source": [
    "multi_y = concentration[:,1:-2]\n",
    "print (multi_y.shape)\n",
    "print (type(multi_y))\n",
    "df_y= pd.DataFrame(multi_y)\n",
    "print (type(df_y))"
   ]
  },
  {
   "cell_type": "code",
   "execution_count": 153,
   "metadata": {},
   "outputs": [
    {
     "name": "stdout",
     "output_type": "stream",
     "text": [
      "(19, 1130) (19, 6)\n",
      "(5, 1130) (5, 6)\n"
     ]
    }
   ],
   "source": [
    "X_train, X_test, y_train, y_test = train_test_split(x_df, df_y, test_size=0.2)\n",
    "print (X_train.shape, y_train.shape)\n",
    "print (X_test.shape, y_test.shape)\n",
    "#print(X_test)"
   ]
  },
  {
   "cell_type": "code",
   "execution_count": 134,
   "metadata": {},
   "outputs": [
    {
     "data": {
      "text/plain": [
       "MultiOutputRegressor(estimator=RandomForestRegressor(bootstrap=True,\n",
       "                                                     ccp_alpha=0.0,\n",
       "                                                     criterion='mse',\n",
       "                                                     max_depth=30,\n",
       "                                                     max_features='auto',\n",
       "                                                     max_leaf_nodes=None,\n",
       "                                                     max_samples=None,\n",
       "                                                     min_impurity_decrease=0.0,\n",
       "                                                     min_impurity_split=None,\n",
       "                                                     min_samples_leaf=1,\n",
       "                                                     min_samples_split=2,\n",
       "                                                     min_weight_fraction_leaf=0.0,\n",
       "                                                     n_estimators=650,\n",
       "                                                     n_jobs=None,\n",
       "                                                     oob_score=False,\n",
       "                                                     random_state=0, verbose=0,\n",
       "                                                     warm_start=False),\n",
       "                     n_jobs=None)"
      ]
     },
     "execution_count": 134,
     "metadata": {},
     "output_type": "execute_result"
    }
   ],
   "source": [
    "from sklearn.multioutput import MultiOutputRegressor\n",
    "from sklearn.ensemble import RandomForestRegressor\n",
    "\n",
    "max_depth = 30\n",
    "regr_multirf = MultiOutputRegressor(RandomForestRegressor(n_estimators=650,\n",
    "                                                          max_depth=max_depth,\n",
    "                                                          random_state=0))\n",
    "regr_multirf.fit(X_train, y_train)\n"
   ]
  },
  {
   "cell_type": "code",
   "execution_count": 135,
   "metadata": {},
   "outputs": [],
   "source": [
    "y_multirf = regr_multirf.predict(X_test)"
   ]
  },
  {
   "cell_type": "code",
   "execution_count": 136,
   "metadata": {},
   "outputs": [
    {
     "name": "stdout",
     "output_type": "stream",
     "text": [
      "(5, 6)\n",
      "(5, 6)\n"
     ]
    }
   ],
   "source": [
    "print(y_test.shape)\n",
    "print(y_multirf.shape)"
   ]
  },
  {
   "cell_type": "code",
   "execution_count": 137,
   "metadata": {},
   "outputs": [
    {
     "name": "stdout",
     "output_type": "stream",
     "text": [
      "R^2:  -1.2798201186343863\n",
      "RMSE:  1.5231794557929577\n"
     ]
    }
   ],
   "source": [
    "rmse = sqrt(mean_squared_error(y_test, y_multirf))\n",
    "r2 = r2_score(y_test, y_multirf)\n",
    "\n",
    "print(\"R^2: \", r2)\n",
    "print(\"RMSE: \", rmse)"
   ]
  },
  {
   "cell_type": "code",
   "execution_count": 138,
   "metadata": {},
   "outputs": [
    {
     "name": "stdout",
     "output_type": "stream",
     "text": [
      "[real, predictions]\n",
      "[[6.160e+00 0.000e+00 3.630e-01 0.000e+00 6.000e-03 2.060e-01 8.711e+00\n",
      "  2.880e-01 4.460e-01 2.870e-01 7.790e-01 1.910e-01]\n",
      " [6.120e+00 0.000e+00 3.200e-01 0.000e+00 5.000e-03 1.600e-02 8.009e+00\n",
      "  2.150e-01 4.630e-01 8.500e-02 1.110e-01 1.440e-01]\n",
      " [1.253e+01 3.100e-01 2.500e-02 5.000e-02 5.600e-02 3.300e-02 7.822e+00\n",
      "  2.570e-01 2.970e-01 1.650e-01 1.750e-01 2.170e-01]\n",
      " [1.800e-01 5.000e-01 1.110e+00 5.200e-02 1.500e-01 1.260e+00 4.830e-01\n",
      "  3.630e-01 1.233e+00 2.260e-01 1.360e-01 9.710e-01]\n",
      " [1.290e+01 1.200e-01 5.200e-01 1.550e-01 5.200e-01 2.860e-01 6.898e+00\n",
      "  3.360e-01 7.140e-01 1.420e-01 5.610e-01 2.290e-01]]\n"
     ]
    }
   ],
   "source": [
    "b=np.append(np.around(y_test,3), np.around(y_multirf,3), axis=1)\n",
    "\n",
    "print(\"[real, predictions]\")\n",
    "print(b)"
   ]
  },
  {
   "cell_type": "code",
   "execution_count": 139,
   "metadata": {},
   "outputs": [
    {
     "data": {
      "text/plain": [
       "Text(0, 0.5, 'Predictions')"
      ]
     },
     "execution_count": 139,
     "metadata": {},
     "output_type": "execute_result"
    },
    {
     "data": {
      "image/png": "[encoded data removed]",
      "text/plain": [
       "<Figure size 432x288 with 1 Axes>"
      ]
     },
     "metadata": {
      "needs_background": "light"
     },
     "output_type": "display_data"
    }
   ],
   "source": [
    "plt.scatter(y_test, y_multirf)\n",
    "plt.xlabel('True Values')\n",
    "plt.ylabel('Predictions')"
   ]
  },
  {
   "cell_type": "code",
   "execution_count": 141,
   "metadata": {},
   "outputs": [
    {
     "data": {
      "text/plain": [
       "array([8.71, 8.01, 7.82, 0.48, 6.9 ])"
      ]
     },
     "execution_count": 141,
     "metadata": {},
     "output_type": "execute_result"
    }
   ],
   "source": [
    "y_pred=np.around(y_multirf,2)\n",
    "y_pred[:,0]"
   ]
  },
  {
   "cell_type": "code",
   "execution_count": 142,
   "metadata": {},
   "outputs": [
    {
     "data": {
      "text/plain": [
       "array([ 6.16,  6.12, 12.53,  0.18, 12.9 ])"
      ]
     },
     "execution_count": 142,
     "metadata": {},
     "output_type": "execute_result"
    }
   ],
   "source": [
    "y_test[0].values"
   ]
  },
  {
   "cell_type": "code",
   "execution_count": 143,
   "metadata": {},
   "outputs": [
    {
     "name": "stdout",
     "output_type": "stream",
     "text": [
      "real:  [ 6.16  6.12 12.53  0.18 12.9 ]\n",
      "pred:  [8.71 8.01 7.82 0.48 6.9 ]\n"
     ]
    }
   ],
   "source": [
    "print(\"real: \", y_test[0].values)\n",
    "print(\"pred: \", y_pred[:,0])"
   ]
  },
  {
   "cell_type": "markdown",
   "metadata": {},
   "source": [
    "# PLS-2"
   ]
  },
  {
   "cell_type": "code",
   "execution_count": 154,
   "metadata": {},
   "outputs": [
    {
     "name": "stdout",
     "output_type": "stream",
     "text": [
      "100% completed\n",
      "Suggested number of components:  33\n",
      "\n"
     ]
    },
    {
     "data": {
      "image/png": "[encoded data removed]",
      "text/plain": [
       "<Figure size 432x288 with 1 Axes>"
      ]
     },
     "metadata": {},
     "output_type": "display_data"
    },
    {
     "name": "stdout",
     "output_type": "stream",
     "text": [
      "R2 calib: 1.000\n",
      "R2 CV: 0.018\n",
      "MSE calib: 0.000\n",
      "MSE CV: 0.939\n"
     ]
    }
   ],
   "source": [
    "optimise_pls_cv(X_train, y_train, 40, plot_components=True)"
   ]
  },
  {
   "cell_type": "code",
   "execution_count": 155,
   "metadata": {},
   "outputs": [
    {
     "name": "stdout",
     "output_type": "stream",
     "text": [
      "R^2:  0.018347253779067135\n",
      "MSE:  0.9391318844120397\n"
     ]
    }
   ],
   "source": [
    "# Define PLS object\n",
    "pls = PLSRegression(n_components= 26)\n",
    "# Fit\n",
    "pls.fit(X_train, y_train)\n",
    "# Cross-validation\n",
    "y_cv = cross_val_predict(pls, X_train, y_train, cv=10)\n",
    "# Calculate scores\n",
    "score = r2_score(y_train, y_cv)\n",
    "mse = mean_squared_error(y_train, y_cv)\n",
    "\n",
    "print(\"R^2: \", score)\n",
    "print(\"MSE: \", mse)"
   ]
  },
  {
   "cell_type": "code",
   "execution_count": 150,
   "metadata": {},
   "outputs": [
    {
     "name": "stdout",
     "output_type": "stream",
     "text": [
      "-4.070272705754876\n",
      "0.36555579763038115\n"
     ]
    }
   ],
   "source": [
    "y_pred = pls.predict(X_test)\n",
    "\n",
    "# Cross-validation\n",
    "y_cv = cross_val_predict(pls, X_train, y_train, cv=10)\n",
    "\n",
    "# Calculate scores for calibration and cross-validation\n",
    "score_pred = r2_score(y_test, y_pred)\n",
    "score_cv = r2_score(y_train, y_cv)\n",
    "\n",
    "print(score_pred) #NAMMERDA\n",
    "print(score_cv)"
   ]
  },
  {
   "cell_type": "code",
   "execution_count": 151,
   "metadata": {},
   "outputs": [
    {
     "data": {
      "text/html": [
       "<div>\n",
       "<style scoped>\n",
       "    .dataframe tbody tr th:only-of-type {\n",
       "        vertical-align: middle;\n",
       "    }\n",
       "\n",
       "    .dataframe tbody tr th {\n",
       "        vertical-align: top;\n",
       "    }\n",
       "\n",
       "    .dataframe thead th {\n",
       "        text-align: right;\n",
       "    }\n",
       "</style>\n",
       "<table border=\"1\" class=\"dataframe\">\n",
       "  <thead>\n",
       "    <tr style=\"text-align: right;\">\n",
       "      <th></th>\n",
       "      <th>0</th>\n",
       "      <th>1</th>\n",
       "      <th>2</th>\n",
       "      <th>3</th>\n",
       "      <th>4</th>\n",
       "      <th>5</th>\n",
       "    </tr>\n",
       "  </thead>\n",
       "  <tbody>\n",
       "    <tr>\n",
       "      <th>0</th>\n",
       "      <td>7.84</td>\n",
       "      <td>0.22</td>\n",
       "      <td>0.54</td>\n",
       "      <td>0.19</td>\n",
       "      <td>0.57</td>\n",
       "      <td>0.27</td>\n",
       "    </tr>\n",
       "    <tr>\n",
       "      <th>1</th>\n",
       "      <td>8.62</td>\n",
       "      <td>0.12</td>\n",
       "      <td>0.35</td>\n",
       "      <td>0.06</td>\n",
       "      <td>-0.12</td>\n",
       "      <td>-0.06</td>\n",
       "    </tr>\n",
       "    <tr>\n",
       "      <th>2</th>\n",
       "      <td>10.50</td>\n",
       "      <td>0.13</td>\n",
       "      <td>-0.61</td>\n",
       "      <td>0.45</td>\n",
       "      <td>0.15</td>\n",
       "      <td>-0.03</td>\n",
       "    </tr>\n",
       "    <tr>\n",
       "      <th>3</th>\n",
       "      <td>-0.28</td>\n",
       "      <td>0.42</td>\n",
       "      <td>1.56</td>\n",
       "      <td>-0.11</td>\n",
       "      <td>-0.34</td>\n",
       "      <td>0.95</td>\n",
       "    </tr>\n",
       "    <tr>\n",
       "      <th>4</th>\n",
       "      <td>9.93</td>\n",
       "      <td>0.09</td>\n",
       "      <td>0.29</td>\n",
       "      <td>-0.26</td>\n",
       "      <td>0.65</td>\n",
       "      <td>0.14</td>\n",
       "    </tr>\n",
       "  </tbody>\n",
       "</table>\n",
       "</div>"
      ],
      "text/plain": [
       "       0     1     2     3     4     5\n",
       "0   7.84  0.22  0.54  0.19  0.57  0.27\n",
       "1   8.62  0.12  0.35  0.06 -0.12 -0.06\n",
       "2  10.50  0.13 -0.61  0.45  0.15 -0.03\n",
       "3  -0.28  0.42  1.56 -0.11 -0.34  0.95\n",
       "4   9.93  0.09  0.29 -0.26  0.65  0.14"
      ]
     },
     "execution_count": 151,
     "metadata": {},
     "output_type": "execute_result"
    }
   ],
   "source": [
    "pd.DataFrame(np.round(y_pred, decimals=2))"
   ]
  },
  {
   "cell_type": "code",
   "execution_count": 152,
   "metadata": {
    "scrolled": true
   },
   "outputs": [
    {
     "data": {
      "text/html": [
       "<div>\n",
       "<style scoped>\n",
       "    .dataframe tbody tr th:only-of-type {\n",
       "        vertical-align: middle;\n",
       "    }\n",
       "\n",
       "    .dataframe tbody tr th {\n",
       "        vertical-align: top;\n",
       "    }\n",
       "\n",
       "    .dataframe thead th {\n",
       "        text-align: right;\n",
       "    }\n",
       "</style>\n",
       "<table border=\"1\" class=\"dataframe\">\n",
       "  <thead>\n",
       "    <tr style=\"text-align: right;\">\n",
       "      <th></th>\n",
       "      <th>0</th>\n",
       "      <th>1</th>\n",
       "      <th>2</th>\n",
       "      <th>3</th>\n",
       "      <th>4</th>\n",
       "      <th>5</th>\n",
       "    </tr>\n",
       "  </thead>\n",
       "  <tbody>\n",
       "    <tr>\n",
       "      <th>20</th>\n",
       "      <td>6.16</td>\n",
       "      <td>0.00</td>\n",
       "      <td>0.36</td>\n",
       "      <td>0.00</td>\n",
       "      <td>0.01</td>\n",
       "      <td>0.21</td>\n",
       "    </tr>\n",
       "    <tr>\n",
       "      <th>12</th>\n",
       "      <td>6.12</td>\n",
       "      <td>0.00</td>\n",
       "      <td>0.32</td>\n",
       "      <td>0.00</td>\n",
       "      <td>0.01</td>\n",
       "      <td>0.02</td>\n",
       "    </tr>\n",
       "    <tr>\n",
       "      <th>13</th>\n",
       "      <td>12.53</td>\n",
       "      <td>0.31</td>\n",
       "      <td>0.02</td>\n",
       "      <td>0.05</td>\n",
       "      <td>0.06</td>\n",
       "      <td>0.03</td>\n",
       "    </tr>\n",
       "    <tr>\n",
       "      <th>22</th>\n",
       "      <td>0.18</td>\n",
       "      <td>0.50</td>\n",
       "      <td>1.11</td>\n",
       "      <td>0.05</td>\n",
       "      <td>0.15</td>\n",
       "      <td>1.26</td>\n",
       "    </tr>\n",
       "    <tr>\n",
       "      <th>7</th>\n",
       "      <td>12.90</td>\n",
       "      <td>0.12</td>\n",
       "      <td>0.52</td>\n",
       "      <td>0.16</td>\n",
       "      <td>0.52</td>\n",
       "      <td>0.29</td>\n",
       "    </tr>\n",
       "  </tbody>\n",
       "</table>\n",
       "</div>"
      ],
      "text/plain": [
       "        0     1     2     3     4     5\n",
       "20   6.16  0.00  0.36  0.00  0.01  0.21\n",
       "12   6.12  0.00  0.32  0.00  0.01  0.02\n",
       "13  12.53  0.31  0.02  0.05  0.06  0.03\n",
       "22   0.18  0.50  1.11  0.05  0.15  1.26\n",
       "7   12.90  0.12  0.52  0.16  0.52  0.29"
      ]
     },
     "execution_count": 152,
     "metadata": {},
     "output_type": "execute_result"
    }
   ],
   "source": [
    "np.round(y_test, decimals=2)"
   ]
  },
  {
   "cell_type": "code",
   "execution_count": null,
   "metadata": {},
   "outputs": [],
   "source": []
  },
  {
   "cell_type": "code",
   "execution_count": null,
   "metadata": {},
   "outputs": [],
   "source": []
  }
 ],
 "metadata": {
  "kernelspec": {
   "display_name": "Python 3",
   "language": "python",
   "name": "python3"
  },
  "language_info": {
   "codemirror_mode": {
    "name": "ipython",
    "version": 3
   },
   "file_extension": ".py",
   "mimetype": "text/x-python",
   "name": "python",
   "nbconvert_exporter": "python",
   "pygments_lexer": "ipython3",
   "version": "3.7.6"
  }
 },
 "nbformat": 4,
 "nbformat_minor": 2
}
