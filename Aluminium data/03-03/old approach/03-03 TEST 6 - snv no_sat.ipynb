{
 "cells": [
  {
   "cell_type": "markdown",
   "metadata": {},
   "source": [
    "## Intensity filtered data using reference aluminium wavelength 309.506 (pixel number 445) using saturated data\n",
    "\n",
    "### No preprocessing"
   ]
  },
  {
   "cell_type": "code",
   "execution_count": 1,
   "metadata": {},
   "outputs": [],
   "source": [
    "import os\n",
    "from sys import stdout\n",
    "import time\n",
    "\n",
    "import numpy as np\n",
    "import pandas as pd\n",
    "import matplotlib.pyplot as plt\n",
    "import peakutils\n",
    "%matplotlib inline \n",
    "from math import sqrt\n",
    "from scipy.signal import savgol_filter\n",
    "from sklearn.decomposition import PCA \n",
    "from sklearn.preprocessing import StandardScaler, normalize, MinMaxScaler \n",
    "from sklearn.model_selection import train_test_split, RandomizedSearchCV\n",
    "from sklearn.metrics import mean_squared_error, r2_score\n",
    "from sklearn.cross_decomposition import PLSRegression\n",
    "from sklearn.model_selection import cross_val_predict\n",
    "from sklearn import linear_model\n",
    "from sklearn.linear_model import ElasticNet,ElasticNetCV\n",
    "\n",
    "import warnings\n",
    "warnings.filterwarnings('ignore')"
   ]
  },
  {
   "cell_type": "code",
   "execution_count": 2,
   "metadata": {},
   "outputs": [
    {
     "data": {
      "text/plain": [
       "\"   \\n    # Fit a line to the CV vs response\\n    z = np.polyfit(y, y_c, 1)\\n    with plt.style.context(('ggplot')):\\n        fig, ax = plt.subplots(figsize=(9, 5))\\n        ax.scatter(y_c, y, c='red', edgecolors='k')\\n        #Plot the best fit line\\n        ax.plot(np.polyval(z,y), y, c='blue', linewidth=1)\\n        #Plot the ideal 1:1 line\\n        ax.plot(y, y, color='green', linewidth=1)\\n        plt.title('$R^{2}$ (CV): '+str(score_cv))\\n        plt.xlabel('Predicted $^{\\\\circ}$Brix')\\n        plt.ylabel('Measured $^{\\\\circ}$Brix')\\n        plt.show()\\n    return\\n\""
      ]
     },
     "execution_count": 2,
     "metadata": {},
     "output_type": "execute_result"
    }
   ],
   "source": [
    "def optimise_pls_cv(X, y, n_comp, plot_components=True):\n",
    "    '''Run PLS including a variable number of components, up to n_comp,\n",
    "       and calculate MSE '''\n",
    "    mse = []\n",
    "    component = np.arange(1, n_comp)\n",
    "    for i in component:\n",
    "        pls = PLSRegression(n_components=i)\n",
    "        # Cross-validation\n",
    "        y_cv = cross_val_predict(pls, X, y, cv=10)\n",
    "        mse.append(mean_squared_error(y, y_cv))\n",
    "        comp = 100*(i+1)/40\n",
    "        # Trick to update status on the same line\n",
    "        stdout.write(\"\\r%d%% completed\" % comp)\n",
    "        stdout.flush()\n",
    "    stdout.write(\"\\n\")\n",
    "    # Calculate and print the position of minimum in MSE\n",
    "    msemin = np.argmin(mse)\n",
    "    print(\"Suggested number of components: \", msemin+1)\n",
    "    stdout.write(\"\\n\")\n",
    "    if plot_components is True:\n",
    "        with plt.style.context(('ggplot')):\n",
    "            plt.plot(component, np.array(mse), '-v', color = 'blue', mfc='blue')\n",
    "            plt.plot(component[msemin], np.array(mse)[msemin], 'P', ms=10, mfc='red')\n",
    "            plt.xlabel('Number of PLS components')\n",
    "            plt.ylabel('MSE')\n",
    "            plt.title('PLS')\n",
    "            plt.xlim(left=-1)\n",
    "        plt.show()\n",
    "    # Define PLS object with optimal number of components\n",
    "    pls_opt = PLSRegression(n_components=msemin+1)\n",
    "    # Fir to the entire dataset\n",
    "    pls_opt.fit(X, y)\n",
    "    y_c = pls_opt.predict(X)\n",
    "    # Cross-validation\n",
    "    y_cv = cross_val_predict(pls_opt, X, y, cv=10)\n",
    "    # Calculate scores for calibration and cross-validation\n",
    "    score_c = r2_score(y, y_c)\n",
    "    score_cv = r2_score(y, y_cv)\n",
    "    # Calculate mean squared error for calibration and cross validation\n",
    "    mse_c = mean_squared_error(y, y_c)\n",
    "    mse_cv = mean_squared_error(y, y_cv)\n",
    "    print('R2 calib: %5.3f'  % score_c)\n",
    "    print('R2 CV: %5.3f'  % score_cv)\n",
    "    print('MSE calib: %5.3f' % mse_c)\n",
    "    print('MSE CV: %5.3f' % mse_cv)\n",
    "    \n",
    "    return\n",
    "    # Plot regression and figures of merit\n",
    "    rangey = max(y) - min(y)\n",
    "    rangex = max(y_c) - min(y_c)\n",
    "\"\"\"   \n",
    "    # Fit a line to the CV vs response\n",
    "    z = np.polyfit(y, y_c, 1)\n",
    "    with plt.style.context(('ggplot')):\n",
    "        fig, ax = plt.subplots(figsize=(9, 5))\n",
    "        ax.scatter(y_c, y, c='red', edgecolors='k')\n",
    "        #Plot the best fit line\n",
    "        ax.plot(np.polyval(z,y), y, c='blue', linewidth=1)\n",
    "        #Plot the ideal 1:1 line\n",
    "        ax.plot(y, y, color='green', linewidth=1)\n",
    "        plt.title('$R^{2}$ (CV): '+str(score_cv))\n",
    "        plt.xlabel('Predicted $^{\\circ}$Brix')\n",
    "        plt.ylabel('Measured $^{\\circ}$Brix')\n",
    "        plt.show()\n",
    "    return\n",
    "\"\"\" "
   ]
  },
  {
   "cell_type": "code",
   "execution_count": 3,
   "metadata": {},
   "outputs": [],
   "source": [
    "def pls_variable_selection(X, y, max_comp):\n",
    "    \n",
    "    # Define MSE array to be populated\n",
    "    mse = np.zeros((max_comp,X.shape[1]))\n",
    "    # Loop over the number of PLS components\n",
    "    for i in range(max_comp):\n",
    "        \n",
    "        # Regression with specified number of components, using full spectrum\n",
    "        pls1 = PLSRegression(n_components=i+1)\n",
    "        pls1.fit(X, y)\n",
    "        \n",
    "        # Indices of sort spectra according to ascending absolute value of PLS coefficients\n",
    "        sorted_ind = np.argsort(np.abs(pls1.coef_[:,0]))\n",
    "        # Sort spectra accordingly \n",
    "        Xc = X[:,sorted_ind]\n",
    "        # Discard one wavelength at a time of the sorted spectra,\n",
    "        # regress, and calculate the MSE cross-validation\n",
    "        for j in range(Xc.shape[1]-(i+1)):\n",
    "            pls2 = PLSRegression(n_components=i+1)\n",
    "            pls2.fit(Xc[:, j:], y)\n",
    "            \n",
    "            y_cv = cross_val_predict(pls2, Xc[:, j:], y, cv=5)\n",
    "            mse[i,j] = mean_squared_error(y, y_cv)\n",
    "    \n",
    "        comp = 100*(i+1)/(max_comp)\n",
    "        stdout.write(\"\\r%d%% completed\" % comp)\n",
    "        stdout.flush()\n",
    "    stdout.write(\"\\n\")\n",
    "    # # Calculate and print the position of minimum in MSE\n",
    "    mseminx,mseminy = np.where(mse==np.min(mse[np.nonzero(mse)]))\n",
    "    print(\"Optimised number of PLS components: \", mseminx[0]+1)\n",
    "    print(\"Wavelengths to be discarded \",mseminy[0])\n",
    "    print('Optimised MSEP ', mse[mseminx,mseminy][0])\n",
    "    stdout.write(\"\\n\")\n",
    "    # plt.imshow(mse, interpolation=None)\n",
    "    # plt.show()\n",
    "    # Calculate PLS with optimal components and export values\n",
    "    pls = PLSRegression(n_components=mseminx[0]+1)\n",
    "    pls.fit(X, y)\n",
    "        \n",
    "    sorted_ind = np.argsort(np.abs(pls.coef_[:,0]))\n",
    "    Xc = X[:,sorted_ind]\n",
    "    return(Xc[:,mseminy[0]:],mseminx[0]+1,mseminy[0], sorted_ind)"
   ]
  },
  {
   "cell_type": "code",
   "execution_count": 4,
   "metadata": {},
   "outputs": [],
   "source": [
    "def msc(input_data, reference=None):\n",
    "    ''' Perform Multiplicative scatter correction'''\n",
    "    # mean centre correction\n",
    "    for i in range(input_data.shape[0]):\n",
    "        input_data[i,:] -= input_data[i,:].mean()\n",
    "    # Get the reference spectrum. If not given, estimate it from the mean    \n",
    "    if reference is None:    \n",
    "        # Calculate mean\n",
    "        ref = np.mean(input_data, axis=0)\n",
    "    else:\n",
    "        ref = reference\n",
    "    # Define a new array and populate it with the corrected data    \n",
    "    data_msc = np.zeros_like(input_data)\n",
    "    for i in range(input_data.shape[0]):\n",
    "        # Run regression\n",
    "        fit = np.polyfit(ref, input_data[i,:], 1, full=True)\n",
    "        # Apply correction\n",
    "        data_msc[i,:] = (input_data[i,:] - fit[0][1]) / fit[0][0] \n",
    "    return (data_msc, ref)"
   ]
  },
  {
   "cell_type": "code",
   "execution_count": 5,
   "metadata": {},
   "outputs": [],
   "source": [
    "def snv(input_data):\n",
    "  \n",
    "    # Define a new array and populate it with the corrected data  \n",
    "    data_snv = np.zeros_like(input_data)\n",
    "    for i in range(input_data.shape[0]):\n",
    "        # Apply correction\n",
    "        data_snv[i,:] = (input_data[i,:] - np.mean(input_data[i,:])) / np.std(input_data[i,:])\n",
    "    return data_snv"
   ]
  },
  {
   "cell_type": "code",
   "execution_count": 9,
   "metadata": {},
   "outputs": [
    {
     "name": "stdout",
     "output_type": "stream",
     "text": [
      "(24, 1446)\n",
      "(1446,)\n",
      "24\n"
     ]
    },
    {
     "data": {
      "text/html": [
       "<div>\n",
       "<style scoped>\n",
       "    .dataframe tbody tr th:only-of-type {\n",
       "        vertical-align: middle;\n",
       "    }\n",
       "\n",
       "    .dataframe tbody tr th {\n",
       "        vertical-align: top;\n",
       "    }\n",
       "\n",
       "    .dataframe thead th {\n",
       "        text-align: right;\n",
       "    }\n",
       "</style>\n",
       "<table border=\"1\" class=\"dataframe\">\n",
       "  <thead>\n",
       "    <tr style=\"text-align: right;\">\n",
       "      <th></th>\n",
       "      <th>252.071400</th>\n",
       "      <th>252.201700</th>\n",
       "      <th>252.331900</th>\n",
       "      <th>252.462200</th>\n",
       "      <th>252.592400</th>\n",
       "      <th>252.722600</th>\n",
       "      <th>252.852900</th>\n",
       "      <th>252.983100</th>\n",
       "      <th>253.113300</th>\n",
       "      <th>253.243600</th>\n",
       "      <th>...</th>\n",
       "      <th>428.718100</th>\n",
       "      <th>428.828600</th>\n",
       "      <th>428.939000</th>\n",
       "      <th>429.049500</th>\n",
       "      <th>429.159900</th>\n",
       "      <th>429.270300</th>\n",
       "      <th>429.380600</th>\n",
       "      <th>429.491000</th>\n",
       "      <th>429.601300</th>\n",
       "      <th>429.711600</th>\n",
       "    </tr>\n",
       "  </thead>\n",
       "  <tbody>\n",
       "    <tr>\n",
       "      <th>0</th>\n",
       "      <td>-0.318604</td>\n",
       "      <td>-0.319020</td>\n",
       "      <td>-0.332921</td>\n",
       "      <td>-0.307267</td>\n",
       "      <td>-0.319061</td>\n",
       "      <td>-0.322658</td>\n",
       "      <td>-0.315684</td>\n",
       "      <td>-0.303599</td>\n",
       "      <td>-0.320778</td>\n",
       "      <td>-0.331246</td>\n",
       "      <td>...</td>\n",
       "      <td>-0.288873</td>\n",
       "      <td>-0.253503</td>\n",
       "      <td>-0.136435</td>\n",
       "      <td>-0.177965</td>\n",
       "      <td>-0.271079</td>\n",
       "      <td>-0.302979</td>\n",
       "      <td>-0.325821</td>\n",
       "      <td>-0.335401</td>\n",
       "      <td>-0.337972</td>\n",
       "      <td>-0.330550</td>\n",
       "    </tr>\n",
       "    <tr>\n",
       "      <th>1</th>\n",
       "      <td>-0.333033</td>\n",
       "      <td>-0.331282</td>\n",
       "      <td>-0.352592</td>\n",
       "      <td>-0.314036</td>\n",
       "      <td>-0.324924</td>\n",
       "      <td>-0.335963</td>\n",
       "      <td>-0.315418</td>\n",
       "      <td>-0.298334</td>\n",
       "      <td>-0.321080</td>\n",
       "      <td>-0.339809</td>\n",
       "      <td>...</td>\n",
       "      <td>-0.277392</td>\n",
       "      <td>-0.311213</td>\n",
       "      <td>-0.321579</td>\n",
       "      <td>-0.325987</td>\n",
       "      <td>-0.308783</td>\n",
       "      <td>-0.304955</td>\n",
       "      <td>-0.331831</td>\n",
       "      <td>-0.340543</td>\n",
       "      <td>-0.354108</td>\n",
       "      <td>-0.344155</td>\n",
       "    </tr>\n",
       "    <tr>\n",
       "      <th>2</th>\n",
       "      <td>-0.315255</td>\n",
       "      <td>-0.323187</td>\n",
       "      <td>-0.341197</td>\n",
       "      <td>-0.307518</td>\n",
       "      <td>-0.320173</td>\n",
       "      <td>-0.325481</td>\n",
       "      <td>-0.316764</td>\n",
       "      <td>-0.298224</td>\n",
       "      <td>-0.316406</td>\n",
       "      <td>-0.330282</td>\n",
       "      <td>...</td>\n",
       "      <td>-0.285114</td>\n",
       "      <td>-0.313807</td>\n",
       "      <td>-0.316300</td>\n",
       "      <td>-0.320181</td>\n",
       "      <td>-0.299683</td>\n",
       "      <td>-0.302594</td>\n",
       "      <td>-0.324331</td>\n",
       "      <td>-0.330312</td>\n",
       "      <td>-0.336177</td>\n",
       "      <td>-0.331684</td>\n",
       "    </tr>\n",
       "    <tr>\n",
       "      <th>3</th>\n",
       "      <td>-0.319525</td>\n",
       "      <td>-0.323432</td>\n",
       "      <td>-0.339746</td>\n",
       "      <td>-0.304811</td>\n",
       "      <td>-0.321549</td>\n",
       "      <td>-0.329882</td>\n",
       "      <td>-0.314919</td>\n",
       "      <td>-0.299255</td>\n",
       "      <td>-0.316262</td>\n",
       "      <td>-0.327901</td>\n",
       "      <td>...</td>\n",
       "      <td>-0.286474</td>\n",
       "      <td>-0.312632</td>\n",
       "      <td>-0.309695</td>\n",
       "      <td>-0.316607</td>\n",
       "      <td>-0.299884</td>\n",
       "      <td>-0.307747</td>\n",
       "      <td>-0.329022</td>\n",
       "      <td>-0.337569</td>\n",
       "      <td>-0.345554</td>\n",
       "      <td>-0.336952</td>\n",
       "    </tr>\n",
       "    <tr>\n",
       "      <th>4</th>\n",
       "      <td>-0.258446</td>\n",
       "      <td>-0.270114</td>\n",
       "      <td>-0.282268</td>\n",
       "      <td>-0.247470</td>\n",
       "      <td>-0.260129</td>\n",
       "      <td>-0.249779</td>\n",
       "      <td>-0.218276</td>\n",
       "      <td>-0.219870</td>\n",
       "      <td>-0.255689</td>\n",
       "      <td>-0.285056</td>\n",
       "      <td>...</td>\n",
       "      <td>-0.270986</td>\n",
       "      <td>-0.293184</td>\n",
       "      <td>-0.310939</td>\n",
       "      <td>-0.300930</td>\n",
       "      <td>-0.283579</td>\n",
       "      <td>-0.288915</td>\n",
       "      <td>-0.304628</td>\n",
       "      <td>-0.312684</td>\n",
       "      <td>-0.316950</td>\n",
       "      <td>-0.308201</td>\n",
       "    </tr>\n",
       "    <tr>\n",
       "      <th>5</th>\n",
       "      <td>-0.245765</td>\n",
       "      <td>-0.267087</td>\n",
       "      <td>-0.274710</td>\n",
       "      <td>-0.234039</td>\n",
       "      <td>-0.245929</td>\n",
       "      <td>-0.240995</td>\n",
       "      <td>-0.203465</td>\n",
       "      <td>-0.208407</td>\n",
       "      <td>-0.251854</td>\n",
       "      <td>-0.275789</td>\n",
       "      <td>...</td>\n",
       "      <td>-0.257889</td>\n",
       "      <td>-0.277229</td>\n",
       "      <td>-0.275161</td>\n",
       "      <td>-0.278123</td>\n",
       "      <td>-0.269891</td>\n",
       "      <td>-0.274705</td>\n",
       "      <td>-0.296144</td>\n",
       "      <td>-0.300350</td>\n",
       "      <td>-0.304357</td>\n",
       "      <td>-0.297106</td>\n",
       "    </tr>\n",
       "    <tr>\n",
       "      <th>6</th>\n",
       "      <td>-0.321088</td>\n",
       "      <td>-0.324756</td>\n",
       "      <td>-0.347113</td>\n",
       "      <td>-0.303429</td>\n",
       "      <td>-0.316149</td>\n",
       "      <td>-0.328773</td>\n",
       "      <td>-0.311197</td>\n",
       "      <td>-0.300478</td>\n",
       "      <td>-0.322428</td>\n",
       "      <td>-0.342807</td>\n",
       "      <td>...</td>\n",
       "      <td>-0.275019</td>\n",
       "      <td>-0.313151</td>\n",
       "      <td>-0.322668</td>\n",
       "      <td>-0.320948</td>\n",
       "      <td>-0.301506</td>\n",
       "      <td>-0.299824</td>\n",
       "      <td>-0.326682</td>\n",
       "      <td>-0.337254</td>\n",
       "      <td>-0.343319</td>\n",
       "      <td>-0.335544</td>\n",
       "    </tr>\n",
       "    <tr>\n",
       "      <th>7</th>\n",
       "      <td>-0.338308</td>\n",
       "      <td>-0.343895</td>\n",
       "      <td>-0.353850</td>\n",
       "      <td>-0.327184</td>\n",
       "      <td>-0.341498</td>\n",
       "      <td>-0.342367</td>\n",
       "      <td>-0.330347</td>\n",
       "      <td>-0.320885</td>\n",
       "      <td>-0.336127</td>\n",
       "      <td>-0.348574</td>\n",
       "      <td>...</td>\n",
       "      <td>-0.309977</td>\n",
       "      <td>-0.333680</td>\n",
       "      <td>-0.335865</td>\n",
       "      <td>-0.331224</td>\n",
       "      <td>-0.323568</td>\n",
       "      <td>-0.328215</td>\n",
       "      <td>-0.340498</td>\n",
       "      <td>-0.350759</td>\n",
       "      <td>-0.357982</td>\n",
       "      <td>-0.351210</td>\n",
       "    </tr>\n",
       "    <tr>\n",
       "      <th>8</th>\n",
       "      <td>-0.311943</td>\n",
       "      <td>-0.325121</td>\n",
       "      <td>-0.333939</td>\n",
       "      <td>-0.305441</td>\n",
       "      <td>-0.311780</td>\n",
       "      <td>-0.308242</td>\n",
       "      <td>-0.288194</td>\n",
       "      <td>-0.285137</td>\n",
       "      <td>-0.307188</td>\n",
       "      <td>-0.330637</td>\n",
       "      <td>...</td>\n",
       "      <td>-0.303795</td>\n",
       "      <td>-0.326682</td>\n",
       "      <td>-0.331077</td>\n",
       "      <td>-0.333193</td>\n",
       "      <td>-0.320881</td>\n",
       "      <td>-0.320640</td>\n",
       "      <td>-0.334071</td>\n",
       "      <td>-0.334318</td>\n",
       "      <td>-0.342171</td>\n",
       "      <td>-0.335432</td>\n",
       "    </tr>\n",
       "    <tr>\n",
       "      <th>9</th>\n",
       "      <td>-0.305004</td>\n",
       "      <td>-0.324217</td>\n",
       "      <td>-0.336118</td>\n",
       "      <td>-0.286602</td>\n",
       "      <td>-0.304846</td>\n",
       "      <td>-0.296811</td>\n",
       "      <td>-0.253333</td>\n",
       "      <td>-0.251506</td>\n",
       "      <td>-0.296689</td>\n",
       "      <td>-0.323196</td>\n",
       "      <td>...</td>\n",
       "      <td>-0.321896</td>\n",
       "      <td>-0.340958</td>\n",
       "      <td>-0.350874</td>\n",
       "      <td>-0.354316</td>\n",
       "      <td>-0.333601</td>\n",
       "      <td>-0.331472</td>\n",
       "      <td>-0.346947</td>\n",
       "      <td>-0.359230</td>\n",
       "      <td>-0.357969</td>\n",
       "      <td>-0.351330</td>\n",
       "    </tr>\n",
       "    <tr>\n",
       "      <th>10</th>\n",
       "      <td>-0.346210</td>\n",
       "      <td>-0.357354</td>\n",
       "      <td>-0.367930</td>\n",
       "      <td>-0.338852</td>\n",
       "      <td>-0.347236</td>\n",
       "      <td>-0.351493</td>\n",
       "      <td>-0.328742</td>\n",
       "      <td>-0.327498</td>\n",
       "      <td>-0.349267</td>\n",
       "      <td>-0.362696</td>\n",
       "      <td>...</td>\n",
       "      <td>-0.329317</td>\n",
       "      <td>-0.316558</td>\n",
       "      <td>-0.253864</td>\n",
       "      <td>-0.268263</td>\n",
       "      <td>-0.324495</td>\n",
       "      <td>-0.348115</td>\n",
       "      <td>-0.363723</td>\n",
       "      <td>-0.370677</td>\n",
       "      <td>-0.374980</td>\n",
       "      <td>-0.368047</td>\n",
       "    </tr>\n",
       "    <tr>\n",
       "      <th>11</th>\n",
       "      <td>-0.282639</td>\n",
       "      <td>-0.285231</td>\n",
       "      <td>-0.315007</td>\n",
       "      <td>-0.265763</td>\n",
       "      <td>-0.289575</td>\n",
       "      <td>-0.294535</td>\n",
       "      <td>-0.270256</td>\n",
       "      <td>-0.275723</td>\n",
       "      <td>-0.287192</td>\n",
       "      <td>-0.311649</td>\n",
       "      <td>...</td>\n",
       "      <td>-0.249644</td>\n",
       "      <td>-0.283349</td>\n",
       "      <td>-0.252707</td>\n",
       "      <td>-0.249323</td>\n",
       "      <td>-0.266553</td>\n",
       "      <td>-0.280478</td>\n",
       "      <td>-0.295726</td>\n",
       "      <td>-0.302262</td>\n",
       "      <td>-0.309916</td>\n",
       "      <td>-0.304565</td>\n",
       "    </tr>\n",
       "    <tr>\n",
       "      <th>12</th>\n",
       "      <td>-0.259973</td>\n",
       "      <td>-0.275604</td>\n",
       "      <td>-0.285559</td>\n",
       "      <td>-0.252963</td>\n",
       "      <td>-0.262857</td>\n",
       "      <td>-0.252234</td>\n",
       "      <td>-0.223769</td>\n",
       "      <td>-0.222447</td>\n",
       "      <td>-0.261619</td>\n",
       "      <td>-0.286182</td>\n",
       "      <td>...</td>\n",
       "      <td>-0.274617</td>\n",
       "      <td>-0.294283</td>\n",
       "      <td>-0.303441</td>\n",
       "      <td>-0.301889</td>\n",
       "      <td>-0.288098</td>\n",
       "      <td>-0.290239</td>\n",
       "      <td>-0.307080</td>\n",
       "      <td>-0.312093</td>\n",
       "      <td>-0.314267</td>\n",
       "      <td>-0.309771</td>\n",
       "    </tr>\n",
       "    <tr>\n",
       "      <th>13</th>\n",
       "      <td>-0.291470</td>\n",
       "      <td>-0.307599</td>\n",
       "      <td>-0.318354</td>\n",
       "      <td>-0.279170</td>\n",
       "      <td>-0.292211</td>\n",
       "      <td>-0.287379</td>\n",
       "      <td>-0.258689</td>\n",
       "      <td>-0.252562</td>\n",
       "      <td>-0.287169</td>\n",
       "      <td>-0.310122</td>\n",
       "      <td>...</td>\n",
       "      <td>-0.307490</td>\n",
       "      <td>-0.328006</td>\n",
       "      <td>-0.331757</td>\n",
       "      <td>-0.330356</td>\n",
       "      <td>-0.314777</td>\n",
       "      <td>-0.315394</td>\n",
       "      <td>-0.329872</td>\n",
       "      <td>-0.334367</td>\n",
       "      <td>-0.339160</td>\n",
       "      <td>-0.338460</td>\n",
       "    </tr>\n",
       "    <tr>\n",
       "      <th>14</th>\n",
       "      <td>-0.335291</td>\n",
       "      <td>-0.344500</td>\n",
       "      <td>-0.349528</td>\n",
       "      <td>-0.321950</td>\n",
       "      <td>-0.336232</td>\n",
       "      <td>-0.341076</td>\n",
       "      <td>-0.325372</td>\n",
       "      <td>-0.313520</td>\n",
       "      <td>-0.333475</td>\n",
       "      <td>-0.343393</td>\n",
       "      <td>...</td>\n",
       "      <td>-0.308210</td>\n",
       "      <td>-0.306642</td>\n",
       "      <td>-0.256382</td>\n",
       "      <td>-0.275281</td>\n",
       "      <td>-0.307921</td>\n",
       "      <td>-0.323086</td>\n",
       "      <td>-0.340084</td>\n",
       "      <td>-0.346905</td>\n",
       "      <td>-0.354531</td>\n",
       "      <td>-0.349631</td>\n",
       "    </tr>\n",
       "    <tr>\n",
       "      <th>15</th>\n",
       "      <td>-0.306300</td>\n",
       "      <td>-0.307283</td>\n",
       "      <td>-0.329702</td>\n",
       "      <td>-0.290205</td>\n",
       "      <td>-0.308104</td>\n",
       "      <td>-0.320604</td>\n",
       "      <td>-0.302023</td>\n",
       "      <td>-0.281498</td>\n",
       "      <td>-0.308480</td>\n",
       "      <td>-0.328604</td>\n",
       "      <td>...</td>\n",
       "      <td>-0.268898</td>\n",
       "      <td>-0.303305</td>\n",
       "      <td>-0.318870</td>\n",
       "      <td>-0.315490</td>\n",
       "      <td>-0.292481</td>\n",
       "      <td>-0.290002</td>\n",
       "      <td>-0.319719</td>\n",
       "      <td>-0.322007</td>\n",
       "      <td>-0.332820</td>\n",
       "      <td>-0.327704</td>\n",
       "    </tr>\n",
       "    <tr>\n",
       "      <th>16</th>\n",
       "      <td>-0.346035</td>\n",
       "      <td>-0.348609</td>\n",
       "      <td>-0.361090</td>\n",
       "      <td>-0.336191</td>\n",
       "      <td>-0.345188</td>\n",
       "      <td>-0.347572</td>\n",
       "      <td>-0.338046</td>\n",
       "      <td>-0.326076</td>\n",
       "      <td>-0.344251</td>\n",
       "      <td>-0.352072</td>\n",
       "      <td>...</td>\n",
       "      <td>-0.314271</td>\n",
       "      <td>-0.317288</td>\n",
       "      <td>-0.295811</td>\n",
       "      <td>-0.304836</td>\n",
       "      <td>-0.316859</td>\n",
       "      <td>-0.330201</td>\n",
       "      <td>-0.352175</td>\n",
       "      <td>-0.358012</td>\n",
       "      <td>-0.362968</td>\n",
       "      <td>-0.360510</td>\n",
       "    </tr>\n",
       "    <tr>\n",
       "      <th>17</th>\n",
       "      <td>-0.296263</td>\n",
       "      <td>-0.312017</td>\n",
       "      <td>-0.323615</td>\n",
       "      <td>-0.291225</td>\n",
       "      <td>-0.291771</td>\n",
       "      <td>-0.286973</td>\n",
       "      <td>-0.258799</td>\n",
       "      <td>-0.252463</td>\n",
       "      <td>-0.291788</td>\n",
       "      <td>-0.307009</td>\n",
       "      <td>...</td>\n",
       "      <td>-0.300611</td>\n",
       "      <td>-0.326174</td>\n",
       "      <td>-0.336762</td>\n",
       "      <td>-0.332936</td>\n",
       "      <td>-0.320792</td>\n",
       "      <td>-0.313011</td>\n",
       "      <td>-0.332514</td>\n",
       "      <td>-0.334272</td>\n",
       "      <td>-0.341024</td>\n",
       "      <td>-0.340148</td>\n",
       "    </tr>\n",
       "    <tr>\n",
       "      <th>18</th>\n",
       "      <td>-0.319224</td>\n",
       "      <td>-0.328238</td>\n",
       "      <td>-0.337494</td>\n",
       "      <td>-0.311886</td>\n",
       "      <td>-0.323698</td>\n",
       "      <td>-0.307941</td>\n",
       "      <td>-0.270557</td>\n",
       "      <td>-0.280269</td>\n",
       "      <td>-0.302701</td>\n",
       "      <td>-0.332417</td>\n",
       "      <td>...</td>\n",
       "      <td>-0.315596</td>\n",
       "      <td>-0.337658</td>\n",
       "      <td>-0.341024</td>\n",
       "      <td>-0.350598</td>\n",
       "      <td>-0.329892</td>\n",
       "      <td>-0.335891</td>\n",
       "      <td>-0.345632</td>\n",
       "      <td>-0.351627</td>\n",
       "      <td>-0.362430</td>\n",
       "      <td>-0.358693</td>\n",
       "    </tr>\n",
       "    <tr>\n",
       "      <th>19</th>\n",
       "      <td>-0.236228</td>\n",
       "      <td>-0.262435</td>\n",
       "      <td>-0.272235</td>\n",
       "      <td>-0.239589</td>\n",
       "      <td>-0.248176</td>\n",
       "      <td>-0.237320</td>\n",
       "      <td>-0.207627</td>\n",
       "      <td>-0.204914</td>\n",
       "      <td>-0.248118</td>\n",
       "      <td>-0.272008</td>\n",
       "      <td>...</td>\n",
       "      <td>-0.264560</td>\n",
       "      <td>-0.291009</td>\n",
       "      <td>-0.297205</td>\n",
       "      <td>-0.295872</td>\n",
       "      <td>-0.280807</td>\n",
       "      <td>-0.278961</td>\n",
       "      <td>-0.290182</td>\n",
       "      <td>-0.299297</td>\n",
       "      <td>-0.308632</td>\n",
       "      <td>-0.300034</td>\n",
       "    </tr>\n",
       "    <tr>\n",
       "      <th>20</th>\n",
       "      <td>-0.299844</td>\n",
       "      <td>-0.314855</td>\n",
       "      <td>-0.319515</td>\n",
       "      <td>-0.285074</td>\n",
       "      <td>-0.295314</td>\n",
       "      <td>-0.289447</td>\n",
       "      <td>-0.264384</td>\n",
       "      <td>-0.260862</td>\n",
       "      <td>-0.295508</td>\n",
       "      <td>-0.312359</td>\n",
       "      <td>...</td>\n",
       "      <td>-0.289101</td>\n",
       "      <td>-0.312493</td>\n",
       "      <td>-0.300316</td>\n",
       "      <td>-0.310682</td>\n",
       "      <td>-0.305281</td>\n",
       "      <td>-0.313804</td>\n",
       "      <td>-0.329865</td>\n",
       "      <td>-0.335153</td>\n",
       "      <td>-0.335421</td>\n",
       "      <td>-0.335904</td>\n",
       "    </tr>\n",
       "    <tr>\n",
       "      <th>21</th>\n",
       "      <td>-0.246855</td>\n",
       "      <td>-0.264114</td>\n",
       "      <td>-0.276949</td>\n",
       "      <td>-0.235324</td>\n",
       "      <td>-0.252496</td>\n",
       "      <td>-0.246982</td>\n",
       "      <td>-0.219381</td>\n",
       "      <td>-0.220028</td>\n",
       "      <td>-0.252613</td>\n",
       "      <td>-0.271507</td>\n",
       "      <td>...</td>\n",
       "      <td>-0.257286</td>\n",
       "      <td>-0.274026</td>\n",
       "      <td>-0.270275</td>\n",
       "      <td>-0.272491</td>\n",
       "      <td>-0.265982</td>\n",
       "      <td>-0.269327</td>\n",
       "      <td>-0.288562</td>\n",
       "      <td>-0.294065</td>\n",
       "      <td>-0.298561</td>\n",
       "      <td>-0.293770</td>\n",
       "    </tr>\n",
       "    <tr>\n",
       "      <th>22</th>\n",
       "      <td>-0.241452</td>\n",
       "      <td>-0.259495</td>\n",
       "      <td>-0.274197</td>\n",
       "      <td>-0.233827</td>\n",
       "      <td>-0.247158</td>\n",
       "      <td>-0.238938</td>\n",
       "      <td>-0.210152</td>\n",
       "      <td>-0.205588</td>\n",
       "      <td>-0.247715</td>\n",
       "      <td>-0.280661</td>\n",
       "      <td>...</td>\n",
       "      <td>-0.265714</td>\n",
       "      <td>-0.291738</td>\n",
       "      <td>-0.300673</td>\n",
       "      <td>-0.295912</td>\n",
       "      <td>-0.280478</td>\n",
       "      <td>-0.278188</td>\n",
       "      <td>-0.298264</td>\n",
       "      <td>-0.301218</td>\n",
       "      <td>-0.306762</td>\n",
       "      <td>-0.303010</td>\n",
       "    </tr>\n",
       "    <tr>\n",
       "      <th>23</th>\n",
       "      <td>-0.309208</td>\n",
       "      <td>-0.322532</td>\n",
       "      <td>-0.328724</td>\n",
       "      <td>-0.290986</td>\n",
       "      <td>-0.296990</td>\n",
       "      <td>-0.292520</td>\n",
       "      <td>-0.260178</td>\n",
       "      <td>-0.264888</td>\n",
       "      <td>-0.299019</td>\n",
       "      <td>-0.315929</td>\n",
       "      <td>...</td>\n",
       "      <td>-0.308478</td>\n",
       "      <td>-0.325315</td>\n",
       "      <td>-0.341218</td>\n",
       "      <td>-0.338319</td>\n",
       "      <td>-0.321960</td>\n",
       "      <td>-0.318771</td>\n",
       "      <td>-0.333196</td>\n",
       "      <td>-0.336466</td>\n",
       "      <td>-0.344798</td>\n",
       "      <td>-0.339117</td>\n",
       "    </tr>\n",
       "  </tbody>\n",
       "</table>\n",
       "<p>24 rows × 1446 columns</p>\n",
       "</div>"
      ],
      "text/plain": [
       "    252.071400  252.201700  252.331900  252.462200  252.592400  252.722600  \\\n",
       "0    -0.318604   -0.319020   -0.332921   -0.307267   -0.319061   -0.322658   \n",
       "1    -0.333033   -0.331282   -0.352592   -0.314036   -0.324924   -0.335963   \n",
       "2    -0.315255   -0.323187   -0.341197   -0.307518   -0.320173   -0.325481   \n",
       "3    -0.319525   -0.323432   -0.339746   -0.304811   -0.321549   -0.329882   \n",
       "4    -0.258446   -0.270114   -0.282268   -0.247470   -0.260129   -0.249779   \n",
       "5    -0.245765   -0.267087   -0.274710   -0.234039   -0.245929   -0.240995   \n",
       "6    -0.321088   -0.324756   -0.347113   -0.303429   -0.316149   -0.328773   \n",
       "7    -0.338308   -0.343895   -0.353850   -0.327184   -0.341498   -0.342367   \n",
       "8    -0.311943   -0.325121   -0.333939   -0.305441   -0.311780   -0.308242   \n",
       "9    -0.305004   -0.324217   -0.336118   -0.286602   -0.304846   -0.296811   \n",
       "10   -0.346210   -0.357354   -0.367930   -0.338852   -0.347236   -0.351493   \n",
       "11   -0.282639   -0.285231   -0.315007   -0.265763   -0.289575   -0.294535   \n",
       "12   -0.259973   -0.275604   -0.285559   -0.252963   -0.262857   -0.252234   \n",
       "13   -0.291470   -0.307599   -0.318354   -0.279170   -0.292211   -0.287379   \n",
       "14   -0.335291   -0.344500   -0.349528   -0.321950   -0.336232   -0.341076   \n",
       "15   -0.306300   -0.307283   -0.329702   -0.290205   -0.308104   -0.320604   \n",
       "16   -0.346035   -0.348609   -0.361090   -0.336191   -0.345188   -0.347572   \n",
       "17   -0.296263   -0.312017   -0.323615   -0.291225   -0.291771   -0.286973   \n",
       "18   -0.319224   -0.328238   -0.337494   -0.311886   -0.323698   -0.307941   \n",
       "19   -0.236228   -0.262435   -0.272235   -0.239589   -0.248176   -0.237320   \n",
       "20   -0.299844   -0.314855   -0.319515   -0.285074   -0.295314   -0.289447   \n",
       "21   -0.246855   -0.264114   -0.276949   -0.235324   -0.252496   -0.246982   \n",
       "22   -0.241452   -0.259495   -0.274197   -0.233827   -0.247158   -0.238938   \n",
       "23   -0.309208   -0.322532   -0.328724   -0.290986   -0.296990   -0.292520   \n",
       "\n",
       "    252.852900  252.983100  253.113300  253.243600  ...  428.718100  \\\n",
       "0    -0.315684   -0.303599   -0.320778   -0.331246  ...   -0.288873   \n",
       "1    -0.315418   -0.298334   -0.321080   -0.339809  ...   -0.277392   \n",
       "2    -0.316764   -0.298224   -0.316406   -0.330282  ...   -0.285114   \n",
       "3    -0.314919   -0.299255   -0.316262   -0.327901  ...   -0.286474   \n",
       "4    -0.218276   -0.219870   -0.255689   -0.285056  ...   -0.270986   \n",
       "5    -0.203465   -0.208407   -0.251854   -0.275789  ...   -0.257889   \n",
       "6    -0.311197   -0.300478   -0.322428   -0.342807  ...   -0.275019   \n",
       "7    -0.330347   -0.320885   -0.336127   -0.348574  ...   -0.309977   \n",
       "8    -0.288194   -0.285137   -0.307188   -0.330637  ...   -0.303795   \n",
       "9    -0.253333   -0.251506   -0.296689   -0.323196  ...   -0.321896   \n",
       "10   -0.328742   -0.327498   -0.349267   -0.362696  ...   -0.329317   \n",
       "11   -0.270256   -0.275723   -0.287192   -0.311649  ...   -0.249644   \n",
       "12   -0.223769   -0.222447   -0.261619   -0.286182  ...   -0.274617   \n",
       "13   -0.258689   -0.252562   -0.287169   -0.310122  ...   -0.307490   \n",
       "14   -0.325372   -0.313520   -0.333475   -0.343393  ...   -0.308210   \n",
       "15   -0.302023   -0.281498   -0.308480   -0.328604  ...   -0.268898   \n",
       "16   -0.338046   -0.326076   -0.344251   -0.352072  ...   -0.314271   \n",
       "17   -0.258799   -0.252463   -0.291788   -0.307009  ...   -0.300611   \n",
       "18   -0.270557   -0.280269   -0.302701   -0.332417  ...   -0.315596   \n",
       "19   -0.207627   -0.204914   -0.248118   -0.272008  ...   -0.264560   \n",
       "20   -0.264384   -0.260862   -0.295508   -0.312359  ...   -0.289101   \n",
       "21   -0.219381   -0.220028   -0.252613   -0.271507  ...   -0.257286   \n",
       "22   -0.210152   -0.205588   -0.247715   -0.280661  ...   -0.265714   \n",
       "23   -0.260178   -0.264888   -0.299019   -0.315929  ...   -0.308478   \n",
       "\n",
       "    428.828600  428.939000  429.049500  429.159900  429.270300  429.380600  \\\n",
       "0    -0.253503   -0.136435   -0.177965   -0.271079   -0.302979   -0.325821   \n",
       "1    -0.311213   -0.321579   -0.325987   -0.308783   -0.304955   -0.331831   \n",
       "2    -0.313807   -0.316300   -0.320181   -0.299683   -0.302594   -0.324331   \n",
       "3    -0.312632   -0.309695   -0.316607   -0.299884   -0.307747   -0.329022   \n",
       "4    -0.293184   -0.310939   -0.300930   -0.283579   -0.288915   -0.304628   \n",
       "5    -0.277229   -0.275161   -0.278123   -0.269891   -0.274705   -0.296144   \n",
       "6    -0.313151   -0.322668   -0.320948   -0.301506   -0.299824   -0.326682   \n",
       "7    -0.333680   -0.335865   -0.331224   -0.323568   -0.328215   -0.340498   \n",
       "8    -0.326682   -0.331077   -0.333193   -0.320881   -0.320640   -0.334071   \n",
       "9    -0.340958   -0.350874   -0.354316   -0.333601   -0.331472   -0.346947   \n",
       "10   -0.316558   -0.253864   -0.268263   -0.324495   -0.348115   -0.363723   \n",
       "11   -0.283349   -0.252707   -0.249323   -0.266553   -0.280478   -0.295726   \n",
       "12   -0.294283   -0.303441   -0.301889   -0.288098   -0.290239   -0.307080   \n",
       "13   -0.328006   -0.331757   -0.330356   -0.314777   -0.315394   -0.329872   \n",
       "14   -0.306642   -0.256382   -0.275281   -0.307921   -0.323086   -0.340084   \n",
       "15   -0.303305   -0.318870   -0.315490   -0.292481   -0.290002   -0.319719   \n",
       "16   -0.317288   -0.295811   -0.304836   -0.316859   -0.330201   -0.352175   \n",
       "17   -0.326174   -0.336762   -0.332936   -0.320792   -0.313011   -0.332514   \n",
       "18   -0.337658   -0.341024   -0.350598   -0.329892   -0.335891   -0.345632   \n",
       "19   -0.291009   -0.297205   -0.295872   -0.280807   -0.278961   -0.290182   \n",
       "20   -0.312493   -0.300316   -0.310682   -0.305281   -0.313804   -0.329865   \n",
       "21   -0.274026   -0.270275   -0.272491   -0.265982   -0.269327   -0.288562   \n",
       "22   -0.291738   -0.300673   -0.295912   -0.280478   -0.278188   -0.298264   \n",
       "23   -0.325315   -0.341218   -0.338319   -0.321960   -0.318771   -0.333196   \n",
       "\n",
       "    429.491000  429.601300  429.711600  \n",
       "0    -0.335401   -0.337972   -0.330550  \n",
       "1    -0.340543   -0.354108   -0.344155  \n",
       "2    -0.330312   -0.336177   -0.331684  \n",
       "3    -0.337569   -0.345554   -0.336952  \n",
       "4    -0.312684   -0.316950   -0.308201  \n",
       "5    -0.300350   -0.304357   -0.297106  \n",
       "6    -0.337254   -0.343319   -0.335544  \n",
       "7    -0.350759   -0.357982   -0.351210  \n",
       "8    -0.334318   -0.342171   -0.335432  \n",
       "9    -0.359230   -0.357969   -0.351330  \n",
       "10   -0.370677   -0.374980   -0.368047  \n",
       "11   -0.302262   -0.309916   -0.304565  \n",
       "12   -0.312093   -0.314267   -0.309771  \n",
       "13   -0.334367   -0.339160   -0.338460  \n",
       "14   -0.346905   -0.354531   -0.349631  \n",
       "15   -0.322007   -0.332820   -0.327704  \n",
       "16   -0.358012   -0.362968   -0.360510  \n",
       "17   -0.334272   -0.341024   -0.340148  \n",
       "18   -0.351627   -0.362430   -0.358693  \n",
       "19   -0.299297   -0.308632   -0.300034  \n",
       "20   -0.335153   -0.335421   -0.335904  \n",
       "21   -0.294065   -0.298561   -0.293770  \n",
       "22   -0.301218   -0.306762   -0.303010  \n",
       "23   -0.336466   -0.344798   -0.339117  \n",
       "\n",
       "[24 rows x 1446 columns]"
      ]
     },
     "execution_count": 9,
     "metadata": {},
     "output_type": "execute_result"
    }
   ],
   "source": [
    "x_df = pd.read_csv('../avg_base_nosat_wl_snv_03-03.csv', sep = ',')\n",
    "values = x_df.values\n",
    "#wl=x_df.columns.values\n",
    "#print(wl.shape)\n",
    "\n",
    "#print(values)\n",
    "#print(type(values))\n",
    "print(values.shape)\n",
    "print(values[1].shape)\n",
    "print(len(values))\n",
    "x_df"
   ]
  },
  {
   "cell_type": "code",
   "execution_count": 10,
   "metadata": {},
   "outputs": [
    {
     "name": "stdout",
     "output_type": "stream",
     "text": [
      "[252.0714 252.2017 252.3319 ... 429.491  429.6013 429.7116]\n"
     ]
    },
    {
     "data": {
      "image/png": "[encoded data removed]",
      "text/plain": [
       "<Figure size 432x288 with 1 Axes>"
      ]
     },
     "metadata": {
      "needs_background": "light"
     },
     "output_type": "display_data"
    }
   ],
   "source": [
    "#This is just for visualizing the various plots of the samples\n",
    "\n",
    "df = pd.read_csv('../ref_new/1.csv')\n",
    "data=df.values\n",
    "wl= data[0]\n",
    "print(wl)\n",
    "\n",
    "for i in range(len(values)):\n",
    "    plt.plot(wl, data[i,:])\n",
    "    #plt.show() #comment this one to have unique plot instead of multiple ones\n",
    "#range(len(dfs))\n",
    "#\"\"\"\n",
    "\n"
   ]
  },
  {
   "cell_type": "code",
   "execution_count": 11,
   "metadata": {
    "scrolled": false
   },
   "outputs": [
    {
     "name": "stdout",
     "output_type": "stream",
     "text": [
      "<class 'pandas.core.frame.DataFrame'>\n",
      "(24, 9)\n"
     ]
    },
    {
     "data": {
      "text/html": [
       "<div>\n",
       "<style scoped>\n",
       "    .dataframe tbody tr th:only-of-type {\n",
       "        vertical-align: middle;\n",
       "    }\n",
       "\n",
       "    .dataframe tbody tr th {\n",
       "        vertical-align: top;\n",
       "    }\n",
       "\n",
       "    .dataframe thead th {\n",
       "        text-align: right;\n",
       "    }\n",
       "</style>\n",
       "<table border=\"1\" class=\"dataframe\">\n",
       "  <thead>\n",
       "    <tr style=\"text-align: right;\">\n",
       "      <th></th>\n",
       "      <th>Reference Number</th>\n",
       "      <th>Si</th>\n",
       "      <th>Fe</th>\n",
       "      <th>Mg</th>\n",
       "      <th>Zn</th>\n",
       "      <th>Cu</th>\n",
       "      <th>Mn</th>\n",
       "      <th>Al</th>\n",
       "      <th>Total</th>\n",
       "    </tr>\n",
       "  </thead>\n",
       "  <tbody>\n",
       "    <tr>\n",
       "      <th>0</th>\n",
       "      <td>1</td>\n",
       "      <td>0.185</td>\n",
       "      <td>0.228</td>\n",
       "      <td>2.940</td>\n",
       "      <td>0.0304</td>\n",
       "      <td>0.0620</td>\n",
       "      <td>0.280</td>\n",
       "      <td>96.0000</td>\n",
       "      <td>99.7254</td>\n",
       "    </tr>\n",
       "    <tr>\n",
       "      <th>1</th>\n",
       "      <td>2</td>\n",
       "      <td>0.360</td>\n",
       "      <td>0.600</td>\n",
       "      <td>1.100</td>\n",
       "      <td>0.0700</td>\n",
       "      <td>0.2000</td>\n",
       "      <td>0.830</td>\n",
       "      <td>96.5787</td>\n",
       "      <td>99.7387</td>\n",
       "    </tr>\n",
       "    <tr>\n",
       "      <th>2</th>\n",
       "      <td>3</td>\n",
       "      <td>9.140</td>\n",
       "      <td>1.010</td>\n",
       "      <td>0.200</td>\n",
       "      <td>0.4200</td>\n",
       "      <td>3.6000</td>\n",
       "      <td>0.410</td>\n",
       "      <td>84.7770</td>\n",
       "      <td>99.5570</td>\n",
       "    </tr>\n",
       "    <tr>\n",
       "      <th>3</th>\n",
       "      <td>4</td>\n",
       "      <td>8.565</td>\n",
       "      <td>0.000</td>\n",
       "      <td>0.293</td>\n",
       "      <td>0.8870</td>\n",
       "      <td>2.6360</td>\n",
       "      <td>0.330</td>\n",
       "      <td>86.5650</td>\n",
       "      <td>99.2760</td>\n",
       "    </tr>\n",
       "    <tr>\n",
       "      <th>4</th>\n",
       "      <td>5</td>\n",
       "      <td>9.500</td>\n",
       "      <td>0.000</td>\n",
       "      <td>0.391</td>\n",
       "      <td>0.0000</td>\n",
       "      <td>0.0580</td>\n",
       "      <td>0.016</td>\n",
       "      <td>90.0210</td>\n",
       "      <td>99.9860</td>\n",
       "    </tr>\n",
       "    <tr>\n",
       "      <th>5</th>\n",
       "      <td>6</td>\n",
       "      <td>7.220</td>\n",
       "      <td>0.140</td>\n",
       "      <td>0.360</td>\n",
       "      <td>0.0840</td>\n",
       "      <td>0.1200</td>\n",
       "      <td>0.053</td>\n",
       "      <td>91.8090</td>\n",
       "      <td>99.7860</td>\n",
       "    </tr>\n",
       "    <tr>\n",
       "      <th>6</th>\n",
       "      <td>7</td>\n",
       "      <td>7.460</td>\n",
       "      <td>0.530</td>\n",
       "      <td>0.036</td>\n",
       "      <td>0.1400</td>\n",
       "      <td>0.1500</td>\n",
       "      <td>0.100</td>\n",
       "      <td>91.4140</td>\n",
       "      <td>99.8300</td>\n",
       "    </tr>\n",
       "    <tr>\n",
       "      <th>7</th>\n",
       "      <td>8</td>\n",
       "      <td>12.900</td>\n",
       "      <td>0.120</td>\n",
       "      <td>0.520</td>\n",
       "      <td>0.1550</td>\n",
       "      <td>0.5200</td>\n",
       "      <td>0.286</td>\n",
       "      <td>84.7905</td>\n",
       "      <td>99.2915</td>\n",
       "    </tr>\n",
       "    <tr>\n",
       "      <th>8</th>\n",
       "      <td>9</td>\n",
       "      <td>8.750</td>\n",
       "      <td>0.460</td>\n",
       "      <td>1.710</td>\n",
       "      <td>0.0290</td>\n",
       "      <td>2.0000</td>\n",
       "      <td>0.056</td>\n",
       "      <td>85.3100</td>\n",
       "      <td>98.3150</td>\n",
       "    </tr>\n",
       "    <tr>\n",
       "      <th>9</th>\n",
       "      <td>10</td>\n",
       "      <td>0.260</td>\n",
       "      <td>0.420</td>\n",
       "      <td>1.260</td>\n",
       "      <td>0.0200</td>\n",
       "      <td>0.0040</td>\n",
       "      <td>1.160</td>\n",
       "      <td>96.8346</td>\n",
       "      <td>99.9586</td>\n",
       "    </tr>\n",
       "    <tr>\n",
       "      <th>10</th>\n",
       "      <td>11</td>\n",
       "      <td>0.070</td>\n",
       "      <td>0.100</td>\n",
       "      <td>0.410</td>\n",
       "      <td>0.1800</td>\n",
       "      <td>0.0600</td>\n",
       "      <td>1.450</td>\n",
       "      <td>97.6000</td>\n",
       "      <td>99.8700</td>\n",
       "    </tr>\n",
       "    <tr>\n",
       "      <th>11</th>\n",
       "      <td>12</td>\n",
       "      <td>0.160</td>\n",
       "      <td>0.310</td>\n",
       "      <td>0.880</td>\n",
       "      <td>0.1000</td>\n",
       "      <td>0.1100</td>\n",
       "      <td>1.140</td>\n",
       "      <td>97.1500</td>\n",
       "      <td>99.8500</td>\n",
       "    </tr>\n",
       "    <tr>\n",
       "      <th>12</th>\n",
       "      <td>13</td>\n",
       "      <td>6.120</td>\n",
       "      <td>0.000</td>\n",
       "      <td>0.320</td>\n",
       "      <td>0.0000</td>\n",
       "      <td>0.0054</td>\n",
       "      <td>0.016</td>\n",
       "      <td>93.5352</td>\n",
       "      <td>99.9966</td>\n",
       "    </tr>\n",
       "    <tr>\n",
       "      <th>13</th>\n",
       "      <td>14</td>\n",
       "      <td>12.530</td>\n",
       "      <td>0.310</td>\n",
       "      <td>0.025</td>\n",
       "      <td>0.0500</td>\n",
       "      <td>0.0560</td>\n",
       "      <td>0.033</td>\n",
       "      <td>86.8180</td>\n",
       "      <td>99.8220</td>\n",
       "    </tr>\n",
       "    <tr>\n",
       "      <th>14</th>\n",
       "      <td>15</td>\n",
       "      <td>0.530</td>\n",
       "      <td>0.230</td>\n",
       "      <td>0.770</td>\n",
       "      <td>0.0310</td>\n",
       "      <td>0.0060</td>\n",
       "      <td>0.024</td>\n",
       "      <td>98.3881</td>\n",
       "      <td>99.9791</td>\n",
       "    </tr>\n",
       "    <tr>\n",
       "      <th>15</th>\n",
       "      <td>16</td>\n",
       "      <td>0.160</td>\n",
       "      <td>0.200</td>\n",
       "      <td>4.540</td>\n",
       "      <td>0.0520</td>\n",
       "      <td>0.0500</td>\n",
       "      <td>0.380</td>\n",
       "      <td>94.5340</td>\n",
       "      <td>99.9160</td>\n",
       "    </tr>\n",
       "    <tr>\n",
       "      <th>16</th>\n",
       "      <td>17</td>\n",
       "      <td>3.000</td>\n",
       "      <td>0.795</td>\n",
       "      <td>0.570</td>\n",
       "      <td>0.1540</td>\n",
       "      <td>4.2900</td>\n",
       "      <td>0.037</td>\n",
       "      <td>90.4640</td>\n",
       "      <td>99.3100</td>\n",
       "    </tr>\n",
       "    <tr>\n",
       "      <th>17</th>\n",
       "      <td>18</td>\n",
       "      <td>9.460</td>\n",
       "      <td>1.190</td>\n",
       "      <td>0.390</td>\n",
       "      <td>0.1600</td>\n",
       "      <td>3.1000</td>\n",
       "      <td>0.260</td>\n",
       "      <td>84.8070</td>\n",
       "      <td>99.3670</td>\n",
       "    </tr>\n",
       "    <tr>\n",
       "      <th>18</th>\n",
       "      <td>19</td>\n",
       "      <td>0.530</td>\n",
       "      <td>0.180</td>\n",
       "      <td>3.570</td>\n",
       "      <td>5.0600</td>\n",
       "      <td>1.9000</td>\n",
       "      <td>0.130</td>\n",
       "      <td>88.2100</td>\n",
       "      <td>99.5800</td>\n",
       "    </tr>\n",
       "    <tr>\n",
       "      <th>19</th>\n",
       "      <td>24</td>\n",
       "      <td>9.190</td>\n",
       "      <td>0.000</td>\n",
       "      <td>0.339</td>\n",
       "      <td>0.0000</td>\n",
       "      <td>0.0057</td>\n",
       "      <td>0.008</td>\n",
       "      <td>90.4538</td>\n",
       "      <td>99.9965</td>\n",
       "    </tr>\n",
       "    <tr>\n",
       "      <th>20</th>\n",
       "      <td>25</td>\n",
       "      <td>6.160</td>\n",
       "      <td>0.000</td>\n",
       "      <td>0.363</td>\n",
       "      <td>0.0000</td>\n",
       "      <td>0.0060</td>\n",
       "      <td>0.206</td>\n",
       "      <td>93.2574</td>\n",
       "      <td>99.9924</td>\n",
       "    </tr>\n",
       "    <tr>\n",
       "      <th>21</th>\n",
       "      <td>26</td>\n",
       "      <td>0.180</td>\n",
       "      <td>0.205</td>\n",
       "      <td>2.480</td>\n",
       "      <td>5.4400</td>\n",
       "      <td>1.6000</td>\n",
       "      <td>0.079</td>\n",
       "      <td>89.8430</td>\n",
       "      <td>99.8270</td>\n",
       "    </tr>\n",
       "    <tr>\n",
       "      <th>22</th>\n",
       "      <td>28</td>\n",
       "      <td>0.180</td>\n",
       "      <td>0.500</td>\n",
       "      <td>1.110</td>\n",
       "      <td>0.0520</td>\n",
       "      <td>0.1500</td>\n",
       "      <td>1.260</td>\n",
       "      <td>96.7210</td>\n",
       "      <td>99.9730</td>\n",
       "    </tr>\n",
       "    <tr>\n",
       "      <th>23</th>\n",
       "      <td>29</td>\n",
       "      <td>0.180</td>\n",
       "      <td>0.350</td>\n",
       "      <td>2.030</td>\n",
       "      <td>6.0800</td>\n",
       "      <td>1.3500</td>\n",
       "      <td>0.450</td>\n",
       "      <td>89.3900</td>\n",
       "      <td>99.8300</td>\n",
       "    </tr>\n",
       "  </tbody>\n",
       "</table>\n",
       "</div>"
      ],
      "text/plain": [
       "    Reference Number      Si     Fe     Mg      Zn      Cu     Mn       Al  \\\n",
       "0                  1   0.185  0.228  2.940  0.0304  0.0620  0.280  96.0000   \n",
       "1                  2   0.360  0.600  1.100  0.0700  0.2000  0.830  96.5787   \n",
       "2                  3   9.140  1.010  0.200  0.4200  3.6000  0.410  84.7770   \n",
       "3                  4   8.565  0.000  0.293  0.8870  2.6360  0.330  86.5650   \n",
       "4                  5   9.500  0.000  0.391  0.0000  0.0580  0.016  90.0210   \n",
       "5                  6   7.220  0.140  0.360  0.0840  0.1200  0.053  91.8090   \n",
       "6                  7   7.460  0.530  0.036  0.1400  0.1500  0.100  91.4140   \n",
       "7                  8  12.900  0.120  0.520  0.1550  0.5200  0.286  84.7905   \n",
       "8                  9   8.750  0.460  1.710  0.0290  2.0000  0.056  85.3100   \n",
       "9                 10   0.260  0.420  1.260  0.0200  0.0040  1.160  96.8346   \n",
       "10                11   0.070  0.100  0.410  0.1800  0.0600  1.450  97.6000   \n",
       "11                12   0.160  0.310  0.880  0.1000  0.1100  1.140  97.1500   \n",
       "12                13   6.120  0.000  0.320  0.0000  0.0054  0.016  93.5352   \n",
       "13                14  12.530  0.310  0.025  0.0500  0.0560  0.033  86.8180   \n",
       "14                15   0.530  0.230  0.770  0.0310  0.0060  0.024  98.3881   \n",
       "15                16   0.160  0.200  4.540  0.0520  0.0500  0.380  94.5340   \n",
       "16                17   3.000  0.795  0.570  0.1540  4.2900  0.037  90.4640   \n",
       "17                18   9.460  1.190  0.390  0.1600  3.1000  0.260  84.8070   \n",
       "18                19   0.530  0.180  3.570  5.0600  1.9000  0.130  88.2100   \n",
       "19                24   9.190  0.000  0.339  0.0000  0.0057  0.008  90.4538   \n",
       "20                25   6.160  0.000  0.363  0.0000  0.0060  0.206  93.2574   \n",
       "21                26   0.180  0.205  2.480  5.4400  1.6000  0.079  89.8430   \n",
       "22                28   0.180  0.500  1.110  0.0520  0.1500  1.260  96.7210   \n",
       "23                29   0.180  0.350  2.030  6.0800  1.3500  0.450  89.3900   \n",
       "\n",
       "      Total  \n",
       "0   99.7254  \n",
       "1   99.7387  \n",
       "2   99.5570  \n",
       "3   99.2760  \n",
       "4   99.9860  \n",
       "5   99.7860  \n",
       "6   99.8300  \n",
       "7   99.2915  \n",
       "8   98.3150  \n",
       "9   99.9586  \n",
       "10  99.8700  \n",
       "11  99.8500  \n",
       "12  99.9966  \n",
       "13  99.8220  \n",
       "14  99.9791  \n",
       "15  99.9160  \n",
       "16  99.3100  \n",
       "17  99.3670  \n",
       "18  99.5800  \n",
       "19  99.9965  \n",
       "20  99.9924  \n",
       "21  99.8270  \n",
       "22  99.9730  \n",
       "23  99.8300  "
      ]
     },
     "execution_count": 11,
     "metadata": {},
     "output_type": "execute_result"
    }
   ],
   "source": [
    "df_y = pd.read_csv('../concentration_1.csv', sep = ',')\n",
    "print(type(df_y))\n",
    "concentration=df_y.values\n",
    "print(concentration.shape)\n",
    "#print(concentration)\n",
    "\n",
    "y_values=df_y.values\n",
    "y_all=pd.DataFrame(y_values[:,1:-2])\n",
    "#print(y_all)\n",
    "df_y"
   ]
  },
  {
   "cell_type": "code",
   "execution_count": 31,
   "metadata": {
    "scrolled": true
   },
   "outputs": [
    {
     "name": "stdout",
     "output_type": "stream",
     "text": [
      "[2.94  1.1   0.2   0.293 0.391 0.36  0.036 0.52  1.71  1.26  0.41  0.88\n",
      " 0.32  0.025 0.77  4.54  0.57  0.39  3.57  0.339 0.363 2.48  1.11  2.03 ]\n",
      "(24,)\n"
     ]
    }
   ],
   "source": [
    "y_val = concentration[:,3] #1-Si, 2-Fe, 3-Mg, 5-Cu, 6-Mn (4-Zn but too much sparse)\n",
    "print(y_val)\n",
    "print(y_val.shape)\n",
    "y_df= pd.DataFrame(y_val)\n",
    "#y_df"
   ]
  },
  {
   "cell_type": "code",
   "execution_count": null,
   "metadata": {},
   "outputs": [],
   "source": []
  },
  {
   "cell_type": "code",
   "execution_count": 13,
   "metadata": {},
   "outputs": [
    {
     "name": "stdout",
     "output_type": "stream",
     "text": [
      "(19, 1446) (19, 1)\n",
      "(5, 1446) (5, 1)\n",
      "       0\n",
      "2   3.60\n",
      "11  0.11\n",
      "1   0.20\n",
      "8   2.00\n",
      "16  4.29\n"
     ]
    }
   ],
   "source": [
    "X_train, X_test, y_train, y_test = train_test_split(x_df, y_df, test_size=0.2)\n",
    "print (X_train.shape, y_train.shape)\n",
    "print (X_test.shape, y_test.shape)\n",
    "print(y_test)"
   ]
  },
  {
   "cell_type": "code",
   "execution_count": null,
   "metadata": {},
   "outputs": [],
   "source": []
  },
  {
   "cell_type": "markdown",
   "metadata": {},
   "source": [
    "# Principal Components Analysis"
   ]
  },
  {
   "cell_type": "code",
   "execution_count": 11,
   "metadata": {},
   "outputs": [
    {
     "name": "stdout",
     "output_type": "stream",
     "text": [
      "(24, 1446)\n",
      "(1446,)\n",
      "24\n",
      "(24, 20)\n",
      "[33.46 55.65 67.57 76.52 83.83 87.93 90.57 92.92 94.42 95.9  96.66 97.3\n",
      " 97.94 98.31 98.64 98.92 99.18 99.36 99.54 99.7 ]\n"
     ]
    }
   ],
   "source": [
    "n_components=20\n",
    "\n",
    "\n",
    "x = x_df.values\n",
    "print(x.shape)\n",
    "print(x[1].shape)\n",
    "print(len(x))\n",
    "\n",
    "\n",
    "# This has to be used later for regression, PCA is done on X only\n",
    "\"\"\"\n",
    "y_df = pd.read_csv('labels_aligned+.csv', sep = ',')\n",
    "concentration=y_df.values\n",
    "#print(concentration)\n",
    "multi_y = concentration[:,2:]\n",
    "#print (multi_y)\n",
    "print (multi_y.shape)\n",
    "multi_y= np.array(multi_y, dtype=np.float)\n",
    "y=np.around(multi_y, decimals=4)\n",
    "#print(y)\n",
    "\"\"\"\n",
    "\n",
    "# PCA\n",
    "\n",
    "X_std = StandardScaler().fit_transform(x)\n",
    "#print(X_std)\n",
    "\n",
    "pca = PCA(n_components= n_components)\n",
    "PC=pca.fit(X_std)\n",
    "\n",
    "principalComponents = pca.fit_transform(X_std)\n",
    "print(principalComponents.shape)\n",
    "#principalDf = pd.DataFrame(data = principalComponents, columns = ['principal component 1', 'principal component 2', 'principal component 3'])\n",
    "#print(principalDf)\n",
    "\n",
    "\n",
    "#print(pca.explained_variance_ratio_)\n",
    "print(np.cumsum(np.round(pca.explained_variance_ratio_, decimals=4)*100))\n",
    "#print(pca.singular_values_)"
   ]
  },
  {
   "cell_type": "code",
   "execution_count": 12,
   "metadata": {},
   "outputs": [
    {
     "name": "stdout",
     "output_type": "stream",
     "text": [
      "0.8323098529433228 -3096.352964219548\n",
      "0.2800088395128268 5171.956875794245\n"
     ]
    }
   ],
   "source": [
    "regr = linear_model.LinearRegression()\n",
    "# Fit\n",
    "regr.fit(principalComponents, y_df)\n",
    "# Calibration\n",
    "y_c = regr.predict(principalComponents)\n",
    "# Cross-validation\n",
    "y_cv = cross_val_predict(regr, principalComponents, y_df, cv=10)\n",
    "# Calculate scores for calibration and cross-validation\n",
    "score_c = r2_score(y_df, y_c)\n",
    "score_cv = r2_score(y_df, y_cv)\n",
    "# Calculate mean square error for calibration and cross validation\n",
    "\n",
    "mse_c = mean_squared_error(y_df, y_c)\n",
    "mse_cv = mean_squared_error(y_df, y_cv)\n",
    "\n",
    "print(score_c, score_cv)\n",
    "print(mse_c, mse_cv)"
   ]
  },
  {
   "cell_type": "markdown",
   "metadata": {},
   "source": [
    "now using PCA with Linear regression and PLS"
   ]
  },
  {
   "cell_type": "code",
   "execution_count": 13,
   "metadata": {},
   "outputs": [
    {
     "name": "stdout",
     "output_type": "stream",
     "text": [
      "(19, 1446)\n",
      "(1446,)\n",
      "19\n",
      "(19, 15)\n",
      "[35.29 57.41 70.31 78.85 86.29 90.57 92.96 94.55 96.05 97.08 97.82 98.41\n",
      " 98.88 99.23 99.51]\n"
     ]
    }
   ],
   "source": [
    "n_components=15\n",
    "\n",
    "x = X_train.values\n",
    "x_t = X_test.values\n",
    "print(x.shape)\n",
    "print(x[1].shape)\n",
    "print(len(x))\n",
    "\n",
    "\n",
    "# This has to be used later for regression, PCA is done on X only\n",
    "\"\"\"\n",
    "y_df = pd.read_csv('labels_aligned+.csv', sep = ',')\n",
    "concentration=y_df.values\n",
    "#print(concentration)\n",
    "multi_y = concentration[:,2:]\n",
    "#print (multi_y)\n",
    "print (multi_y.shape)\n",
    "multi_y= np.array(multi_y, dtype=np.float)\n",
    "y=np.around(multi_y, decimals=4)\n",
    "#print(y)\n",
    "\"\"\"\n",
    "\n",
    "# PCA\n",
    "\n",
    "X_std = StandardScaler().fit_transform(x)\n",
    "X_std_test = StandardScaler().fit_transform(x_t)\n",
    "#print(X_std)\n",
    "\n",
    "pca = PCA(n_components= n_components)\n",
    "PC=pca.fit(X_std)\n",
    "\n",
    "x_pc = pca.fit_transform(X_std)\n",
    "x_test1 = pca.transform(X_std_test)\n",
    "print(x_pc.shape)\n",
    "#principalDf = pd.DataFrame(data = principalComponents, columns = ['principal component 1', 'principal component 2', 'principal component 3'])\n",
    "#print(principalDf)\n",
    "\n",
    "\n",
    "#print(pca.explained_variance_ratio_)\n",
    "print(np.cumsum(np.round(pca.explained_variance_ratio_, decimals=4)*100))"
   ]
  },
  {
   "cell_type": "code",
   "execution_count": 14,
   "metadata": {},
   "outputs": [
    {
     "name": "stdout",
     "output_type": "stream",
     "text": [
      "R2_pred:  -1.9581534794740505\n",
      "MSE:  8.899970792008798\n"
     ]
    }
   ],
   "source": [
    "regr = linear_model.LinearRegression()\n",
    "# Fit\n",
    "regr.fit(x_pc, y_train)\n",
    "# Calibration\n",
    "y_p = regr.predict(x_test1)\n",
    "# Cross-validation\n",
    "#y_cv = cross_val_predict(regr, principalComponents, y_df, cv=10)\n",
    "# Calculate scores for calibration and cross-validation\n",
    "score_c = r2_score(y_test, y_p)\n",
    "#score_cv = r2_score(y_df, y_cv)\n",
    "# Calculate mean square error for calibration and cross validation\n",
    "mse_c = mean_squared_error(y_test, y_p)\n",
    "#mse_cv = mean_squared_error(y_df, y_cv)\n",
    "\n",
    "print(\"R2_pred: \", score_c)\n",
    "print(\"MSE: \", mse_c)"
   ]
  },
  {
   "cell_type": "code",
   "execution_count": 15,
   "metadata": {},
   "outputs": [
    {
     "name": "stdout",
     "output_type": "stream",
     "text": [
      "37% completed\n",
      "Suggested number of components:  2\n",
      "\n"
     ]
    },
    {
     "data": {
      "image/png": "[encoded data removed]",
      "text/plain": [
       "<Figure size 432x288 with 1 Axes>"
      ]
     },
     "metadata": {},
     "output_type": "display_data"
    },
    {
     "name": "stdout",
     "output_type": "stream",
     "text": [
      "R2 calib: 0.977\n",
      "R2 CV: 0.295\n",
      "MSE calib: 0.028\n",
      "MSE CV: 0.865\n"
     ]
    }
   ],
   "source": [
    "optimise_pls_cv(x_pc, y_train, 15, plot_components=True) "
   ]
  },
  {
   "cell_type": "code",
   "execution_count": 16,
   "metadata": {},
   "outputs": [
    {
     "name": "stdout",
     "output_type": "stream",
     "text": [
      "R2_pred:  -1.9581534794740518\n",
      "MSE:  8.899970792008803\n"
     ]
    }
   ],
   "source": [
    "pls = PLSRegression(n_components=3)\n",
    "# Fit\n",
    "pls.fit(x_pc, y_train)\n",
    "# Calibration\n",
    "y_c = pls.predict(x_test1)\n",
    "# Cross-validation\n",
    "#y_cv = cross_val_predict(regr, principalComponents, y_df, cv=10)\n",
    "# Calculate scores for calibration and cross-validation\n",
    "score_c = r2_score(y_test, y_c)\n",
    "#score_cv = r2_score(y_df, y_cv)\n",
    "# Calculate mean square error for calibration and cross validation\n",
    "mse_c = mean_squared_error(y_test, y_c)\n",
    "#mse_cv = mean_squared_error(y_df, y_cv)\n",
    "\n",
    "print(\"R2_pred: \", score_c)\n",
    "print(\"MSE: \", mse_c)"
   ]
  },
  {
   "cell_type": "markdown",
   "metadata": {},
   "source": [
    "# Linear Regression\n",
    "this is ordinary least square regression"
   ]
  },
  {
   "cell_type": "code",
   "execution_count": 17,
   "metadata": {},
   "outputs": [
    {
     "name": "stdout",
     "output_type": "stream",
     "text": [
      "R^2_pred:  -2.777635928861099\n",
      "RMSE:  3.3712735198608224 \n",
      "\n",
      "[real, predictions]\n",
      "[[ 2.636       2.04738472]\n",
      " [ 4.29       -2.91932826]\n",
      " [ 0.15        1.44283266]\n",
      " [ 0.11        1.78346931]\n",
      " [ 0.0057      0.19178616]]\n"
     ]
    },
    {
     "data": {
      "image/png": "[encoded data removed]",
      "text/plain": [
       "<Figure size 432x288 with 1 Axes>"
      ]
     },
     "metadata": {
      "needs_background": "light"
     },
     "output_type": "display_data"
    }
   ],
   "source": [
    "lm = linear_model.LinearRegression()\n",
    "model = lm.fit(X_train, y_train)\n",
    "predictions = lm.predict(X_test)\n",
    "\n",
    "\n",
    "rmse = sqrt(mean_squared_error(y_test, predictions))\n",
    "r2 = r2_score(y_test, predictions)\n",
    "print(\"R^2_pred: \", r2)\n",
    "print(\"RMSE: \", rmse, \"\\n\")\n",
    "\n",
    "\n",
    "b=np.append(y_test, predictions, axis=1)\n",
    "\n",
    "print(\"[real, predictions]\")\n",
    "print(b)\n",
    "\n",
    "plt.scatter(y_test, predictions)\n",
    "plt.xlabel('True Values')\n",
    "plt.ylabel('Predictions')\n",
    "plt.grid(True)\n",
    "plt.show()"
   ]
  },
  {
   "cell_type": "markdown",
   "metadata": {},
   "source": [
    "# Partial Least Square Regression"
   ]
  },
  {
   "cell_type": "markdown",
   "metadata": {},
   "source": [
    "## No preprocessing"
   ]
  },
  {
   "cell_type": "code",
   "execution_count": 18,
   "metadata": {},
   "outputs": [
    {
     "name": "stdout",
     "output_type": "stream",
     "text": [
      "(19, 1446) (19, 1)\n",
      "(5, 1446) (5, 1)\n"
     ]
    },
    {
     "data": {
      "text/html": [
       "<div>\n",
       "<style scoped>\n",
       "    .dataframe tbody tr th:only-of-type {\n",
       "        vertical-align: middle;\n",
       "    }\n",
       "\n",
       "    .dataframe tbody tr th {\n",
       "        vertical-align: top;\n",
       "    }\n",
       "\n",
       "    .dataframe thead th {\n",
       "        text-align: right;\n",
       "    }\n",
       "</style>\n",
       "<table border=\"1\" class=\"dataframe\">\n",
       "  <thead>\n",
       "    <tr style=\"text-align: right;\">\n",
       "      <th></th>\n",
       "      <th>0</th>\n",
       "    </tr>\n",
       "  </thead>\n",
       "  <tbody>\n",
       "    <tr>\n",
       "      <th>14</th>\n",
       "      <td>0.006</td>\n",
       "    </tr>\n",
       "    <tr>\n",
       "      <th>1</th>\n",
       "      <td>0.200</td>\n",
       "    </tr>\n",
       "    <tr>\n",
       "      <th>10</th>\n",
       "      <td>0.060</td>\n",
       "    </tr>\n",
       "    <tr>\n",
       "      <th>6</th>\n",
       "      <td>0.150</td>\n",
       "    </tr>\n",
       "    <tr>\n",
       "      <th>17</th>\n",
       "      <td>3.100</td>\n",
       "    </tr>\n",
       "  </tbody>\n",
       "</table>\n",
       "</div>"
      ],
      "text/plain": [
       "        0\n",
       "14  0.006\n",
       "1   0.200\n",
       "10  0.060\n",
       "6   0.150\n",
       "17  3.100"
      ]
     },
     "execution_count": 18,
     "metadata": {},
     "output_type": "execute_result"
    }
   ],
   "source": [
    "X_train, X_test, y_train, y_test = train_test_split(x_df, y_df, test_size=0.2)\n",
    "print (X_train.shape, y_train.shape)\n",
    "print (X_test.shape, y_test.shape)\n",
    "#print(X_test)\n",
    "y_test"
   ]
  },
  {
   "cell_type": "code",
   "execution_count": 19,
   "metadata": {},
   "outputs": [
    {
     "name": "stdout",
     "output_type": "stream",
     "text": [
      "100% completed\n",
      "Suggested number of components:  2\n",
      "\n"
     ]
    },
    {
     "data": {
      "image/png": "[encoded data removed]",
      "text/plain": [
       "<Figure size 432x288 with 1 Axes>"
      ]
     },
     "metadata": {},
     "output_type": "display_data"
    },
    {
     "name": "stdout",
     "output_type": "stream",
     "text": [
      "R2 calib: 0.431\n",
      "R2 CV: -0.257\n",
      "MSE calib: 0.950\n",
      "MSE CV: 2.099\n"
     ]
    }
   ],
   "source": [
    "optimise_pls_cv(x_df, y_df, 40, plot_components=True)\n",
    "#optimise_pls_cv(x_df, y_all, 40, plot_components=True)"
   ]
  },
  {
   "cell_type": "code",
   "execution_count": 20,
   "metadata": {},
   "outputs": [
    {
     "name": "stdout",
     "output_type": "stream",
     "text": [
      "R^2_cv -0.4346472028354018\n",
      "MSE:  2.395572461633596\n"
     ]
    }
   ],
   "source": [
    "# Define PLS object\n",
    "pls = PLSRegression(n_components=3)\n",
    "# Fit\n",
    "pls.fit(x_df, y_df)\n",
    "# Cross-validation\n",
    "y_cv = cross_val_predict(pls, x_df, y_df, cv=10)\n",
    "# Calculate scores\n",
    "score = r2_score(y_df, y_cv)\n",
    "mse = mean_squared_error(y_df, y_cv)\n",
    "\n",
    "print(\"R^2_cv\", score)\n",
    "print(\"MSE: \", mse)"
   ]
  },
  {
   "cell_type": "code",
   "execution_count": 21,
   "metadata": {},
   "outputs": [
    {
     "name": "stdout",
     "output_type": "stream",
     "text": [
      "100% completed\n",
      "Suggested number of components:  2\n",
      "\n"
     ]
    },
    {
     "data": {
      "image/png": "[encoded data removed]",
      "text/plain": [
       "<Figure size 432x288 with 1 Axes>"
      ]
     },
     "metadata": {},
     "output_type": "display_data"
    },
    {
     "name": "stdout",
     "output_type": "stream",
     "text": [
      "R2 calib: 0.666\n",
      "R2 CV: -0.025\n",
      "MSE calib: 0.572\n",
      "MSE CV: 1.757\n"
     ]
    }
   ],
   "source": [
    "optimise_pls_cv(X_train,y_train, 40, plot_components=True)"
   ]
  },
  {
   "cell_type": "code",
   "execution_count": 22,
   "metadata": {},
   "outputs": [
    {
     "name": "stdout",
     "output_type": "stream",
     "text": [
      "R2_pred:  -2.3223436814350333\n",
      "R2_cv:  -0.5398031909409946\n",
      "\n",
      "TEST\n",
      " [real, predictions]\n",
      "[[0.006      2.95348128]\n",
      " [0.2        2.3490467 ]\n",
      " [0.06       1.67598581]\n",
      " [0.15       1.96372797]\n",
      " [3.1        0.92605202]]\n",
      "\n"
     ]
    },
    {
     "data": {
      "image/png": "[encoded data removed]",
      "text/plain": [
       "<Figure size 432x288 with 1 Axes>"
      ]
     },
     "metadata": {
      "needs_background": "light"
     },
     "output_type": "display_data"
    }
   ],
   "source": [
    "# Define PLS object\n",
    "pls = PLSRegression(n_components=3)\n",
    "# Fit\n",
    "pls.fit(X_train, y_train)\n",
    "# Cross-validation\n",
    "y_pred = pls.predict(X_test)\n",
    "y_pred1 = pls.predict(X_train)\n",
    "\n",
    "# Cross-validation\n",
    "y_cv = cross_val_predict(pls, X_train, y_train, cv=10)\n",
    "\n",
    "# Calculate scores for calibration and cross-validation\n",
    "score_pred = r2_score(y_test, y_pred)\n",
    "score_cv = r2_score(y_train, y_cv)\n",
    "\n",
    "print(\"R2_pred: \", score_pred)\n",
    "print(\"R2_cv: \",score_cv)\n",
    "print(\"\")\n",
    "\n",
    "b=np.append(y_test, y_pred, axis=1)\n",
    "\n",
    "print(\"TEST\\n [real, predictions]\")\n",
    "print(b)\n",
    "print(\"\")\n",
    "\n",
    "c=np.append(y_train, y_pred1, axis=1)\n",
    "\n",
    "#print(\"TRAIN\\n [real, predictions]\")\n",
    "#print(c)\n",
    "\n",
    "plt.scatter(y_test, y_pred)\n",
    "plt.scatter(y_train, y_pred1)\n",
    "plt.xlabel('True Values')\n",
    "plt.ylabel('Predictions')\n",
    "plt.grid(True)\n",
    "plt.show()"
   ]
  },
  {
   "cell_type": "code",
   "execution_count": 23,
   "metadata": {},
   "outputs": [
    {
     "name": "stdout",
     "output_type": "stream",
     "text": [
      "(1446,)\n"
     ]
    }
   ],
   "source": [
    "print(wl.shape)"
   ]
  },
  {
   "cell_type": "markdown",
   "metadata": {},
   "source": [
    "## Wavelenght selection for PLS"
   ]
  },
  {
   "cell_type": "code",
   "execution_count": 32,
   "metadata": {
    "scrolled": true
   },
   "outputs": [
    {
     "name": "stdout",
     "output_type": "stream",
     "text": [
      "100% completed\n",
      "Optimised number of PLS components:  11\n",
      "Wavelengths to be discarded  1424\n",
      "Optimised MSEP  0.8659698456574757\n",
      "\n",
      "--- 449.45041584968567 seconds ---\n"
     ]
    }
   ],
   "source": [
    "start_time = time.time()\n",
    "\n",
    "opt_Xc, ncomp, wav, sorted_ind = pls_variable_selection(x_df.values, y_val, 15)\n",
    "\n",
    "print(\"--- %s seconds ---\" % (time.time() - start_time))"
   ]
  },
  {
   "cell_type": "code",
   "execution_count": 33,
   "metadata": {},
   "outputs": [
    {
     "name": "stdout",
     "output_type": "stream",
     "text": [
      "sorted wavelengths:  [413.6896 307.3382 379.5647 315.3579 421.8187 410.61   381.3587 363.4857\n",
      " 423.0497 325.4837]\n"
     ]
    },
    {
     "data": {
      "image/png": "[encoded data removed]",
      "text/plain": [
       "<Figure size 432x288 with 1 Axes>"
      ]
     },
     "metadata": {
      "needs_background": "light"
     },
     "output_type": "display_data"
    }
   ],
   "source": [
    "#print(opt_Xc.shape,\"\\n\")\n",
    "#print(\"sorted indexes: \", sorted_ind)\n",
    "print(\"sorted wavelengths: \", wl[sorted_ind[:10]].T)\n",
    "\n",
    "plt.plot(opt_Xc.T)\n",
    "plt.show()"
   ]
  },
  {
   "cell_type": "code",
   "execution_count": 34,
   "metadata": {},
   "outputs": [
    {
     "name": "stdout",
     "output_type": "stream",
     "text": [
      "(19, 22) (19, 1)\n",
      "(5, 22) (5, 1)\n",
      "        0\n",
      "17  0.390\n",
      "3   0.293\n",
      "13  0.025\n",
      "21  2.480\n",
      "12  0.320\n"
     ]
    }
   ],
   "source": [
    "#X_train, X_test, y_train, y_test = train_test_split(opt_Xc, y_df, test_size=0.2, random_state = 16) #seed for Mg = 3, 16\n",
    "#X_train, X_test, y_train, y_test = train_test_split(opt_Xc, y_df, test_size=0.2, random_state = 7) #seed for Si = 7\n",
    "X_train, X_test, y_train, y_test = train_test_split(opt_Xc, y_df, test_size=0.2, random_state = 16) #seed for Cu =16\n",
    "#X_train, X_test, y_train, y_test = train_test_split(opt_Xc, y_df, test_size=0.2, random_state = 7) #seed for Fe =16\n",
    "#X_train, X_test, y_train, y_test = train_test_split(opt_Xc, y_df, test_size=0.2, random_state = 3) #seed for Mn = 3\n",
    "\n",
    "#X_train, X_test, y_train, y_test = train_test_split(opt_Xc, y_df, test_size=0.2)\n",
    "print (X_train.shape, y_train.shape)\n",
    "print (X_test.shape, y_test.shape)\n",
    "print(y_test)"
   ]
  },
  {
   "cell_type": "code",
   "execution_count": 35,
   "metadata": {},
   "outputs": [
    {
     "name": "stdout",
     "output_type": "stream",
     "text": [
      "17% completed\n",
      "Suggested number of components:  1\n",
      "\n"
     ]
    },
    {
     "data": {
      "image/png": "[encoded data removed]",
      "text/plain": [
       "<Figure size 432x288 with 1 Axes>"
      ]
     },
     "metadata": {},
     "output_type": "display_data"
    },
    {
     "name": "stdout",
     "output_type": "stream",
     "text": [
      "R2 calib: 0.313\n",
      "R2 CV: 0.037\n",
      "MSE calib: 1.001\n",
      "MSE CV: 1.403\n"
     ]
    }
   ],
   "source": [
    "optimise_pls_cv(X_train,y_train, 7, plot_components=True)"
   ]
  },
  {
   "cell_type": "code",
   "execution_count": 36,
   "metadata": {},
   "outputs": [
    {
     "name": "stdout",
     "output_type": "stream",
     "text": [
      "R2_pred:  0.35051088924625184\n",
      "RMSE:  0.7235393305111006\n",
      "\n",
      "TEST\n",
      " [real, predictions]\n",
      "[[ 0.39       -0.15763429]\n",
      " [ 0.293       1.12958276]\n",
      " [ 0.025      -1.20049383]\n",
      " [ 2.48        2.81192973]\n",
      " [ 0.32        0.24410993]]\n",
      "\n"
     ]
    },
    {
     "data": {
      "image/png": "[encoded data removed]",
      "text/plain": [
       "<Figure size 720x504 with 1 Axes>"
      ]
     },
     "metadata": {
      "needs_background": "light"
     },
     "output_type": "display_data"
    }
   ],
   "source": [
    "# Define PLS object\n",
    "pls = PLSRegression(n_components=10)\n",
    "# Fit\n",
    "pls.fit(X_train, y_train)\n",
    "\n",
    "y_pred = pls.predict(X_test)\n",
    "y_pred1 = pls.predict(X_train)\n",
    "\n",
    "# Calculate score and error\n",
    "r2 = r2_score(y_test, y_pred)\n",
    "rmse = sqrt(mean_squared_error(y_test, y_pred))\n",
    "\n",
    "\n",
    "print(\"R2_pred: \", r2)\n",
    "print(\"RMSE: \", rmse)\n",
    "#print(\"R2_cv: \",score_cv)\n",
    "print(\"\")\n",
    "\n",
    "\n",
    "b=np.append(y_test, y_pred, axis=1)\n",
    "\n",
    "print(\"TEST\\n [real, predictions]\")\n",
    "print(b)\n",
    "print(\"\")\n",
    "\n",
    "c=np.append(y_train, y_pred1, axis=1)\n",
    "\n",
    "#print(\"TRAIN\\n [real, predictions]\")\n",
    "#print(c)\n",
    "\n",
    "plt.figure(figsize=(10,7))\n",
    "plt.scatter(y_test, y_pred)\n",
    "plt.scatter(y_train, y_pred1)\n",
    "plt.plot( y_test, linear_model.LinearRegression().fit(y_test, y_pred).predict(y_test) )\n",
    "plt.xlabel('True Values')\n",
    "plt.ylabel('Predictions')\n",
    "plt.grid(True)\n",
    "plt.show()"
   ]
  },
  {
   "cell_type": "markdown",
   "metadata": {},
   "source": [
    "## Using Normalization"
   ]
  },
  {
   "cell_type": "code",
   "execution_count": 37,
   "metadata": {},
   "outputs": [
    {
     "name": "stdout",
     "output_type": "stream",
     "text": [
      "(19, 22)\n",
      "(5, 22)\n"
     ]
    }
   ],
   "source": [
    "Xn_train = normalize(X_train, axis=1)\n",
    "Xn_test = normalize(X_test, axis=1)\n",
    "print(Xn_train.shape)\n",
    "print(Xn_test.shape)"
   ]
  },
  {
   "cell_type": "code",
   "execution_count": 38,
   "metadata": {},
   "outputs": [
    {
     "data": {
      "image/png": "[encoded data removed]",
      "text/plain": [
       "<Figure size 432x288 with 1 Axes>"
      ]
     },
     "metadata": {
      "needs_background": "light"
     },
     "output_type": "display_data"
    }
   ],
   "source": [
    "plt.plot(Xn_train.T)\n",
    "plt.show()"
   ]
  },
  {
   "cell_type": "code",
   "execution_count": 39,
   "metadata": {},
   "outputs": [
    {
     "name": "stdout",
     "output_type": "stream",
     "text": [
      "17% completed\n",
      "Suggested number of components:  2\n",
      "\n"
     ]
    },
    {
     "data": {
      "image/png": "[encoded data removed]",
      "text/plain": [
       "<Figure size 432x288 with 1 Axes>"
      ]
     },
     "metadata": {},
     "output_type": "display_data"
    },
    {
     "name": "stdout",
     "output_type": "stream",
     "text": [
      "R2 calib: 0.497\n",
      "R2 CV: -0.240\n",
      "MSE calib: 0.733\n",
      "MSE CV: 1.808\n"
     ]
    }
   ],
   "source": [
    "#optimise_pls_cv(Xn_train,y_train, 40, plot_components=True)\n",
    "optimise_pls_cv(Xn_train,y_train, 7, plot_components=True)"
   ]
  },
  {
   "cell_type": "code",
   "execution_count": 40,
   "metadata": {},
   "outputs": [
    {
     "name": "stdout",
     "output_type": "stream",
     "text": [
      "R2_pred:  0.22612612580938363\n",
      "RMSE:  0.7897893974290493\n",
      "\n",
      "TEST\n",
      " [real, predictions]\n",
      "[[ 0.39       -0.30797603]\n",
      " [ 0.293       1.65729014]\n",
      " [ 0.025      -0.83527056]\n",
      " [ 2.48        2.42356913]\n",
      " [ 0.32        0.48470719]]\n",
      "\n"
     ]
    },
    {
     "data": {
      "image/png": "[encoded data removed]",
      "text/plain": [
       "<Figure size 720x504 with 1 Axes>"
      ]
     },
     "metadata": {
      "needs_background": "light"
     },
     "output_type": "display_data"
    }
   ],
   "source": [
    "# Define PLS object\n",
    "pls = PLSRegression(n_components=10)\n",
    "# Fit\n",
    "pls.fit(Xn_train, y_train)\n",
    "\n",
    "y_pred = pls.predict(Xn_test)\n",
    "y_pred1 = pls.predict(Xn_train)\n",
    "\n",
    "# Calculate score and error\n",
    "r2 = r2_score(y_test, y_pred)\n",
    "rmse = sqrt(mean_squared_error(y_test, y_pred))\n",
    "\n",
    "\n",
    "print(\"R2_pred: \", r2)\n",
    "print(\"RMSE: \", rmse)\n",
    "#print(\"R2_cv: \",score_cv)\n",
    "print(\"\")\n",
    "\n",
    "\n",
    "b=np.append(y_test, y_pred, axis=1)\n",
    "\n",
    "print(\"TEST\\n [real, predictions]\")\n",
    "print(b)\n",
    "print(\"\")\n",
    "\n",
    "c=np.append(y_train, y_pred1, axis=1)\n",
    "\n",
    "#print(\"TRAIN\\n [real, predictions]\")\n",
    "#print(c)\n",
    "\n",
    "plt.figure(figsize=(10,7))\n",
    "plt.scatter(y_test, y_pred)\n",
    "plt.scatter(y_train, y_pred1)\n",
    "plt.plot( y_test, linear_model.LinearRegression().fit(y_test, y_pred).predict(y_test) )\n",
    "plt.xlabel('True Values')\n",
    "plt.ylabel('Predictions')\n",
    "plt.grid(True)\n",
    "plt.show()"
   ]
  },
  {
   "cell_type": "markdown",
   "metadata": {},
   "source": [
    "## Using SNV"
   ]
  },
  {
   "cell_type": "code",
   "execution_count": 41,
   "metadata": {},
   "outputs": [
    {
     "name": "stdout",
     "output_type": "stream",
     "text": [
      "(19, 22)\n",
      "(5, 22)\n",
      "17% completed\n",
      "Suggested number of components:  5\n",
      "\n"
     ]
    },
    {
     "data": {
      "image/png": "[encoded data removed]",
      "text/plain": [
       "<Figure size 432x288 with 1 Axes>"
      ]
     },
     "metadata": {},
     "output_type": "display_data"
    },
    {
     "name": "stdout",
     "output_type": "stream",
     "text": [
      "R2 calib: 0.823\n",
      "R2 CV: 0.199\n",
      "MSE calib: 0.257\n",
      "MSE CV: 1.167\n"
     ]
    }
   ],
   "source": [
    "Xs_train = snv(X_train)\n",
    "Xs_test = snv(X_test)\n",
    "print(Xs_train.shape)\n",
    "print(Xs_test.shape)\n",
    "\n",
    "#optimise_pls_cv(Xn_train,y_train, 40, plot_components=True)\n",
    "optimise_pls_cv(Xs_train,y_train, 7, plot_components=True)"
   ]
  },
  {
   "cell_type": "code",
   "execution_count": 42,
   "metadata": {},
   "outputs": [
    {
     "data": {
      "image/png": "[encoded data removed]",
      "text/plain": [
       "<Figure size 432x288 with 1 Axes>"
      ]
     },
     "metadata": {
      "needs_background": "light"
     },
     "output_type": "display_data"
    }
   ],
   "source": [
    "plt.plot(Xs_train.T)\n",
    "plt.show()"
   ]
  },
  {
   "cell_type": "code",
   "execution_count": 43,
   "metadata": {},
   "outputs": [
    {
     "name": "stdout",
     "output_type": "stream",
     "text": [
      "R2_pred:  -0.35571893597527326\n",
      "RMSE:  1.0453483490083897\n",
      "\n",
      "TEST\n",
      " [real, predictions]\n",
      "[[ 0.39       -0.1219823 ]\n",
      " [ 0.293       1.970253  ]\n",
      " [ 0.025      -1.5105876 ]\n",
      " [ 2.48        2.55643073]\n",
      " [ 0.32        0.47681654]]\n",
      "\n"
     ]
    },
    {
     "data": {
      "image/png": "[encoded data removed]",
      "text/plain": [
       "<Figure size 720x504 with 1 Axes>"
      ]
     },
     "metadata": {
      "needs_background": "light"
     },
     "output_type": "display_data"
    }
   ],
   "source": [
    "# Define PLS object\n",
    "pls = PLSRegression(n_components=10)\n",
    "# Fit\n",
    "pls.fit(Xs_train, y_train)\n",
    "\n",
    "y_pred = pls.predict(Xs_test)\n",
    "y_pred1 = pls.predict(Xs_train)\n",
    "\n",
    "# Calculate score and error\n",
    "r2 = r2_score(y_test, y_pred)\n",
    "rmse = sqrt(mean_squared_error(y_test, y_pred))\n",
    "\n",
    "\n",
    "print(\"R2_pred: \", r2)\n",
    "print(\"RMSE: \", rmse)\n",
    "#print(\"R2_cv: \",score_cv)\n",
    "print(\"\")\n",
    "\n",
    "\n",
    "b=np.append(y_test, y_pred, axis=1)\n",
    "\n",
    "print(\"TEST\\n [real, predictions]\")\n",
    "print(b)\n",
    "print(\"\")\n",
    "\n",
    "c=np.append(y_train, y_pred1, axis=1)\n",
    "\n",
    "#print(\"TRAIN\\n [real, predictions]\")\n",
    "#print(c)\n",
    "\n",
    "plt.figure(figsize=(10,7))\n",
    "plt.scatter(y_test, y_pred)\n",
    "plt.scatter(y_train, y_pred1)\n",
    "plt.plot( y_test, linear_model.LinearRegression().fit(y_test, y_pred).predict(y_test) )\n",
    "plt.xlabel('True Values')\n",
    "plt.ylabel('Predictions')\n",
    "plt.grid(True)\n",
    "plt.show()"
   ]
  },
  {
   "cell_type": "code",
   "execution_count": null,
   "metadata": {},
   "outputs": [],
   "source": []
  },
  {
   "cell_type": "markdown",
   "metadata": {},
   "source": [
    "## Using Max-norm"
   ]
  },
  {
   "cell_type": "code",
   "execution_count": 44,
   "metadata": {},
   "outputs": [
    {
     "name": "stdout",
     "output_type": "stream",
     "text": [
      "17% completed\n",
      "Suggested number of components:  1\n",
      "\n"
     ]
    },
    {
     "data": {
      "image/png": "[encoded data removed]",
      "text/plain": [
       "<Figure size 432x288 with 1 Axes>"
      ]
     },
     "metadata": {},
     "output_type": "display_data"
    },
    {
     "name": "stdout",
     "output_type": "stream",
     "text": [
      "R2 calib: 0.313\n",
      "R2 CV: 0.037\n",
      "MSE calib: 1.001\n",
      "MSE CV: 1.403\n"
     ]
    }
   ],
   "source": [
    "Xm_train = X_train / np.max(X_train)\n",
    "Xm_test = X_test / np.max(X_test)\n",
    "\n",
    "#optimise_pls_cv(Xn_train,y_train, 40, plot_components=True)\n",
    "optimise_pls_cv(Xm_train,y_train, 7, plot_components=True)"
   ]
  },
  {
   "cell_type": "code",
   "execution_count": 45,
   "metadata": {},
   "outputs": [
    {
     "data": {
      "image/png": "[encoded data removed]",
      "text/plain": [
       "<Figure size 432x288 with 1 Axes>"
      ]
     },
     "metadata": {
      "needs_background": "light"
     },
     "output_type": "display_data"
    }
   ],
   "source": [
    "plt.plot(Xm_train.T)\n",
    "plt.show()"
   ]
  },
  {
   "cell_type": "code",
   "execution_count": 46,
   "metadata": {},
   "outputs": [
    {
     "name": "stdout",
     "output_type": "stream",
     "text": [
      "R2_pred:  -151.98934239189407\n",
      "RMSE:  11.10469911092891\n",
      "\n",
      "TEST\n",
      " [real, predictions]\n",
      "[[  0.39       -11.53769014]\n",
      " [  0.293       -9.30928181]\n",
      " [  0.025      -13.34307091]\n",
      " [  2.48        -6.39683128]\n",
      " [  0.32       -10.84219737]]\n",
      "\n"
     ]
    },
    {
     "data": {
      "image/png": "[encoded data removed]",
      "text/plain": [
       "<Figure size 720x504 with 1 Axes>"
      ]
     },
     "metadata": {
      "needs_background": "light"
     },
     "output_type": "display_data"
    }
   ],
   "source": [
    "# Define PLS object\n",
    "pls = PLSRegression(n_components=10)\n",
    "# Fit\n",
    "pls.fit(Xm_train, y_train)\n",
    "\n",
    "y_pred = pls.predict(Xm_test)\n",
    "y_pred1 = pls.predict(Xm_train)\n",
    "\n",
    "# Calculate score and error\n",
    "r2 = r2_score(y_test, y_pred)\n",
    "rmse = sqrt(mean_squared_error(y_test, y_pred))\n",
    "\n",
    "\n",
    "print(\"R2_pred: \", r2)\n",
    "print(\"RMSE: \", rmse)\n",
    "#print(\"R2_cv: \",score_cv)\n",
    "print(\"\")\n",
    "\n",
    "\n",
    "b=np.append(y_test, y_pred, axis=1)\n",
    "\n",
    "print(\"TEST\\n [real, predictions]\")\n",
    "print(b)\n",
    "print(\"\")\n",
    "\n",
    "c=np.append(y_train, y_pred1, axis=1)\n",
    "\n",
    "#print(\"TRAIN\\n [real, predictions]\")\n",
    "#print(c)\n",
    "\n",
    "plt.figure(figsize=(10,7))\n",
    "plt.scatter(y_test, y_pred)\n",
    "plt.scatter(y_train, y_pred1)\n",
    "plt.plot( y_test, linear_model.LinearRegression().fit(y_test, y_pred).predict(y_test) )\n",
    "plt.xlabel('True Values')\n",
    "plt.ylabel('Predictions')\n",
    "plt.grid(True)\n",
    "plt.show()"
   ]
  },
  {
   "cell_type": "code",
   "execution_count": null,
   "metadata": {},
   "outputs": [],
   "source": []
  },
  {
   "cell_type": "code",
   "execution_count": null,
   "metadata": {},
   "outputs": [],
   "source": []
  },
  {
   "cell_type": "code",
   "execution_count": null,
   "metadata": {},
   "outputs": [],
   "source": []
  },
  {
   "cell_type": "code",
   "execution_count": null,
   "metadata": {},
   "outputs": [],
   "source": []
  },
  {
   "cell_type": "code",
   "execution_count": null,
   "metadata": {},
   "outputs": [],
   "source": []
  },
  {
   "cell_type": "markdown",
   "metadata": {},
   "source": [
    "## Using Savgol filter"
   ]
  },
  {
   "cell_type": "code",
   "execution_count": 80,
   "metadata": {},
   "outputs": [
    {
     "name": "stdout",
     "output_type": "stream",
     "text": [
      "(19, 1446) (19, 1)\n",
      "(5, 1446) (5, 1)\n"
     ]
    }
   ],
   "source": [
    "X_train, X_test, y_train, y_test = train_test_split(x_df, y_df, test_size=0.2)\n",
    "print (X_train.shape, y_train.shape)\n",
    "print (X_test.shape, y_test.shape)\n",
    "#print(X_test)"
   ]
  },
  {
   "cell_type": "code",
   "execution_count": 81,
   "metadata": {},
   "outputs": [
    {
     "data": {
      "image/png": "[encoded data removed]",
      "text/plain": [
       "<Figure size 576x324 with 1 Axes>"
      ]
     },
     "metadata": {
      "needs_background": "light"
     },
     "output_type": "display_data"
    },
    {
     "name": "stdout",
     "output_type": "stream",
     "text": [
      "100% completed\n",
      "Suggested number of components:  3\n",
      "\n"
     ]
    },
    {
     "data": {
      "image/png": "[encoded data removed]",
      "text/plain": [
       "<Figure size 432x288 with 1 Axes>"
      ]
     },
     "metadata": {},
     "output_type": "display_data"
    },
    {
     "name": "stdout",
     "output_type": "stream",
     "text": [
      "R2 calib: 0.476\n",
      "R2 CV: -0.131\n",
      "MSE calib: 0.716\n",
      "MSE CV: 1.544\n"
     ]
    }
   ],
   "source": [
    "# Calculate second derivative\n",
    "X2 = savgol_filter(x_df, 101, polyorder = 6,deriv=0) # Is this useful with LIBS spectra???\n",
    "# Plot second derivative\n",
    "plt.figure(figsize=(8,4.5))\n",
    "with plt.style.context(('ggplot')):\n",
    "    plt.plot(range(len(X2.T)), X2.T)\n",
    "    plt.xlabel('Wavelength (nm)')\n",
    "    plt.ylabel('D2 Intensity')\n",
    "    plt.show()\n",
    "    \n",
    "    \n",
    "X2_1 = msc(X2)[0]\n",
    "    \n",
    "optimise_pls_cv(X2_1, y_df, 40, plot_components=True)"
   ]
  },
  {
   "cell_type": "code",
   "execution_count": 86,
   "metadata": {},
   "outputs": [
    {
     "name": "stdout",
     "output_type": "stream",
     "text": [
      "100% completed\n",
      "Suggested number of components:  2\n",
      "\n"
     ]
    },
    {
     "data": {
      "image/png": "[encoded data removed]",
      "text/plain": [
       "<Figure size 432x288 with 1 Axes>"
      ]
     },
     "metadata": {},
     "output_type": "display_data"
    },
    {
     "name": "stdout",
     "output_type": "stream",
     "text": [
      "R2 calib: 0.620\n",
      "R2 CV: -0.120\n",
      "MSE calib: 0.481\n",
      "MSE CV: 1.417\n"
     ]
    }
   ],
   "source": [
    "X2_train = savgol_filter(X_train, 37, polyorder = 4,deriv=1) \n",
    "X2_test = savgol_filter(X_test, 35, polyorder = 4,deriv=1) \n",
    "\n",
    "\n",
    "\n",
    "\n",
    "optimise_pls_cv(X2_train, y_train, 40, plot_components=True)"
   ]
  },
  {
   "cell_type": "code",
   "execution_count": 87,
   "metadata": {},
   "outputs": [
    {
     "name": "stdout",
     "output_type": "stream",
     "text": [
      "R2_pred:  -0.4142851041406448\n",
      "R2_cv:  -0.502517109222492\n",
      "\n",
      "[real, predictions]\n",
      "[[ 0.339      -0.72308828]\n",
      " [ 3.57        0.70202523]\n",
      " [ 0.2         0.71243987]\n",
      " [ 0.293       1.80524588]\n",
      " [ 0.363      -0.11310216]]\n"
     ]
    },
    {
     "data": {
      "image/png": "[encoded data removed]",
      "text/plain": [
       "<Figure size 432x288 with 1 Axes>"
      ]
     },
     "metadata": {
      "needs_background": "light"
     },
     "output_type": "display_data"
    }
   ],
   "source": [
    "# Define PLS object\n",
    "pls = PLSRegression(n_components=4)\n",
    "# Fit\n",
    "pls.fit(X2_train, y_train)\n",
    "\n",
    "y_pred = pls.predict(X2_test)\n",
    "\n",
    "# Cross-validation\n",
    "y_cv = cross_val_predict(pls, X2_train, y_train, cv=10)\n",
    "\n",
    "# Calculate scores for calibration and cross-validation\n",
    "score_pred = r2_score(y_test, y_pred)\n",
    "score_cv = r2_score(y_train, y_cv)\n",
    "\n",
    "print(\"R2_pred: \", score_pred)\n",
    "print(\"R2_cv: \",score_cv)\n",
    "print(\"\")\n",
    "\n",
    "b=np.append(y_test, y_pred, axis=1)\n",
    "\n",
    "print(\"[real, predictions]\")\n",
    "print(b)\n",
    "\n",
    "plt.scatter(y_test, y_pred)\n",
    "plt.xlabel('True Values')\n",
    "plt.ylabel('Predictions')\n",
    "plt.grid(True)\n",
    "plt.show()"
   ]
  },
  {
   "cell_type": "code",
   "execution_count": null,
   "metadata": {},
   "outputs": [],
   "source": []
  },
  {
   "cell_type": "markdown",
   "metadata": {},
   "source": [
    "# Elastic Net"
   ]
  },
  {
   "cell_type": "code",
   "execution_count": 49,
   "metadata": {},
   "outputs": [],
   "source": [
    "alphas = [0.0001, 0.001, 0.01, 0.1, 0.3, 0.5, 0.7, 1]"
   ]
  },
  {
   "cell_type": "code",
   "execution_count": 50,
   "metadata": {},
   "outputs": [
    {
     "name": "stdout",
     "output_type": "stream",
     "text": [
      "Alpha:0.0001, R2:0.31, MSE:2.86, RMSE:1.69\n",
      "Alpha:0.0010, R2:0.06, MSE:2.69, RMSE:1.64\n",
      "Alpha:0.0100, R2:0.00, MSE:2.67, RMSE:1.63\n",
      "Alpha:0.1000, R2:0.00, MSE:2.67, RMSE:1.63\n",
      "Alpha:0.3000, R2:0.00, MSE:2.67, RMSE:1.63\n",
      "Alpha:0.5000, R2:0.00, MSE:2.67, RMSE:1.63\n",
      "Alpha:0.7000, R2:0.00, MSE:2.67, RMSE:1.63\n",
      "Alpha:1.0000, R2:0.00, MSE:2.67, RMSE:1.63\n"
     ]
    }
   ],
   "source": [
    "for a in alphas:\n",
    "    model = ElasticNet(alpha=a).fit(X_train,y_train)   \n",
    "    score = model.score(X_train, y_train)\n",
    "    pred_y = model.predict(X_test)\n",
    "    mse = mean_squared_error(y_test, pred_y)   \n",
    "    print(\"Alpha:{0:.4f}, R2:{1:.2f}, MSE:{2:.2f}, RMSE:{3:.2f}\".format(a, score, mse, np.sqrt(mse)))"
   ]
  },
  {
   "cell_type": "code",
   "execution_count": 53,
   "metadata": {
    "scrolled": true
   },
   "outputs": [
    {
     "name": "stdout",
     "output_type": "stream",
     "text": [
      "Train score:  0.30735234558204294\n",
      "RMSE:  1.692288364509511\n",
      "R^2:  -0.14336631154891522\n"
     ]
    }
   ],
   "source": [
    "model = ElasticNet(alpha=0.0001).fit(X_train,y_train)   \n",
    "score = model.score(X_train, y_train)\n",
    "print(\"Train score: \", score)\n",
    "pred_y = model.predict(X_test)\n",
    "\n",
    "\n",
    "rmse = sqrt(mean_squared_error(y_test, pred_y))\n",
    "r2 = r2_score(y_test, pred_y)\n",
    "print(\"RMSE: \", rmse)\n",
    "print(\"R^2: \", r2)"
   ]
  },
  {
   "cell_type": "code",
   "execution_count": 52,
   "metadata": {},
   "outputs": [
    {
     "data": {
      "image/png": "[encoded data removed]",
      "text/plain": [
       "<Figure size 432x288 with 1 Axes>"
      ]
     },
     "metadata": {
      "needs_background": "light"
     },
     "output_type": "display_data"
    }
   ],
   "source": [
    "plt.scatter(y_test, y_pred)\n",
    "plt.xlabel('True Values')\n",
    "plt.ylabel('Predictions')\n",
    "plt.grid(True)\n",
    "plt.show()"
   ]
  },
  {
   "cell_type": "code",
   "execution_count": null,
   "metadata": {},
   "outputs": [],
   "source": []
  },
  {
   "cell_type": "markdown",
   "metadata": {},
   "source": [
    "# Random Forest"
   ]
  },
  {
   "cell_type": "code",
   "execution_count": 24,
   "metadata": {},
   "outputs": [
    {
     "name": "stdout",
     "output_type": "stream",
     "text": [
      "(20, 20) (20, 1)\n",
      "(4, 20) (4, 1)\n"
     ]
    }
   ],
   "source": [
    "#X_train, X_test, y_train, y_test = train_test_split(x_df, y_df, test_size=0.15)\n",
    "X_train, X_test, y_train, y_test = train_test_split(principalComponents, y_df, test_size=0.15)\n",
    "\n",
    "\n",
    "print (X_train.shape, y_train.shape)\n",
    "print (X_test.shape, y_test.shape)\n",
    "#print(y_test)"
   ]
  },
  {
   "cell_type": "code",
   "execution_count": 25,
   "metadata": {},
   "outputs": [
    {
     "name": "stdout",
     "output_type": "stream",
     "text": [
      "(4,)\n",
      "(20,)\n"
     ]
    }
   ],
   "source": [
    "y_test=np.ravel(y_test)\n",
    "print(y_test.shape)\n",
    "y_train=np.ravel(y_train)\n",
    "print(y_train.shape)"
   ]
  },
  {
   "cell_type": "code",
   "execution_count": 27,
   "metadata": {},
   "outputs": [
    {
     "name": "stdout",
     "output_type": "stream",
     "text": [
      "RMSE:  4.0536884409757015\n",
      "R^2:  -10.677988790263843 \n",
      "\n",
      "[real, predictions]\n",
      "[[3.      3.40154]\n",
      " [0.53    5.28668]\n",
      " [0.07    4.19444]\n",
      " [0.26    5.35228]]\n"
     ]
    },
    {
     "data": {
      "text/plain": [
       "Text(0, 0.5, 'Predictions')"
      ]
     },
     "execution_count": 27,
     "metadata": {},
     "output_type": "execute_result"
    },
    {
     "data": {
      "image/png": "[encoded data removed]",
      "text/plain": [
       "<Figure size 432x288 with 1 Axes>"
      ]
     },
     "metadata": {
      "needs_background": "light"
     },
     "output_type": "display_data"
    }
   ],
   "source": [
    "# Import the model we are using\n",
    "from sklearn.ensemble import RandomForestRegressor\n",
    "# Instantiate model with 1000 decision trees\n",
    "rf = RandomForestRegressor(n_estimators = 250, max_depth=30, random_state = 42)\n",
    "# Train the model on training data\n",
    "\n",
    "rf.fit(X_train, y_train);\n",
    "\n",
    "# Use the forest's predict method on the test data\n",
    "predictions = rf.predict(X_test)\n",
    "\n",
    "rmse = sqrt(mean_squared_error(y_test, predictions))\n",
    "r2 = r2_score(y_test, predictions)\n",
    "print(\"RMSE: \", rmse)\n",
    "print(\"R^2: \", r2, \"\\n\")\n",
    "\n",
    "y_test= y_test.reshape((len(y_test), 1))\n",
    "predictions=predictions.reshape((len(y_test), 1))\n",
    "#print((y_test, predictions))\n",
    "\n",
    "b=np.append(y_test, predictions, axis=1)\n",
    "\n",
    "print(\"[real, predictions]\")\n",
    "print(b)\n",
    "\n",
    "plt.scatter(y_test, predictions)\n",
    "plt.xlabel('True Values')\n",
    "plt.ylabel('Predictions')"
   ]
  },
  {
   "cell_type": "code",
   "execution_count": null,
   "metadata": {},
   "outputs": [],
   "source": []
  },
  {
   "cell_type": "markdown",
   "metadata": {},
   "source": [
    "# MultiOutput Random Forest"
   ]
  },
  {
   "cell_type": "code",
   "execution_count": 132,
   "metadata": {},
   "outputs": [
    {
     "name": "stdout",
     "output_type": "stream",
     "text": [
      "(24, 6)\n",
      "<class 'numpy.ndarray'>\n",
      "<class 'pandas.core.frame.DataFrame'>\n"
     ]
    }
   ],
   "source": [
    "multi_y = concentration[:,1:-2]\n",
    "print (multi_y.shape)\n",
    "print (type(multi_y))\n",
    "df_y= pd.DataFrame(multi_y)\n",
    "print (type(df_y))"
   ]
  },
  {
   "cell_type": "code",
   "execution_count": 153,
   "metadata": {},
   "outputs": [
    {
     "name": "stdout",
     "output_type": "stream",
     "text": [
      "(19, 1130) (19, 6)\n",
      "(5, 1130) (5, 6)\n"
     ]
    }
   ],
   "source": [
    "X_train, X_test, y_train, y_test = train_test_split(x_df, df_y, test_size=0.2)\n",
    "print (X_train.shape, y_train.shape)\n",
    "print (X_test.shape, y_test.shape)\n",
    "#print(X_test)"
   ]
  },
  {
   "cell_type": "code",
   "execution_count": 134,
   "metadata": {},
   "outputs": [
    {
     "data": {
      "text/plain": [
       "MultiOutputRegressor(estimator=RandomForestRegressor(bootstrap=True,\n",
       "                                                     ccp_alpha=0.0,\n",
       "                                                     criterion='mse',\n",
       "                                                     max_depth=30,\n",
       "                                                     max_features='auto',\n",
       "                                                     max_leaf_nodes=None,\n",
       "                                                     max_samples=None,\n",
       "                                                     min_impurity_decrease=0.0,\n",
       "                                                     min_impurity_split=None,\n",
       "                                                     min_samples_leaf=1,\n",
       "                                                     min_samples_split=2,\n",
       "                                                     min_weight_fraction_leaf=0.0,\n",
       "                                                     n_estimators=650,\n",
       "                                                     n_jobs=None,\n",
       "                                                     oob_score=False,\n",
       "                                                     random_state=0, verbose=0,\n",
       "                                                     warm_start=False),\n",
       "                     n_jobs=None)"
      ]
     },
     "execution_count": 134,
     "metadata": {},
     "output_type": "execute_result"
    }
   ],
   "source": [
    "from sklearn.multioutput import MultiOutputRegressor\n",
    "from sklearn.ensemble import RandomForestRegressor\n",
    "\n",
    "max_depth = 30\n",
    "regr_multirf = MultiOutputRegressor(RandomForestRegressor(n_estimators=650,\n",
    "                                                          max_depth=max_depth,\n",
    "                                                          random_state=0))\n",
    "regr_multirf.fit(X_train, y_train)\n"
   ]
  },
  {
   "cell_type": "code",
   "execution_count": 135,
   "metadata": {},
   "outputs": [],
   "source": [
    "y_multirf = regr_multirf.predict(X_test)"
   ]
  },
  {
   "cell_type": "code",
   "execution_count": 136,
   "metadata": {},
   "outputs": [
    {
     "name": "stdout",
     "output_type": "stream",
     "text": [
      "(5, 6)\n",
      "(5, 6)\n"
     ]
    }
   ],
   "source": [
    "print(y_test.shape)\n",
    "print(y_multirf.shape)"
   ]
  },
  {
   "cell_type": "code",
   "execution_count": 137,
   "metadata": {},
   "outputs": [
    {
     "name": "stdout",
     "output_type": "stream",
     "text": [
      "R^2:  -1.2798201186343863\n",
      "RMSE:  1.5231794557929577\n"
     ]
    }
   ],
   "source": [
    "rmse = sqrt(mean_squared_error(y_test, y_multirf))\n",
    "r2 = r2_score(y_test, y_multirf)\n",
    "\n",
    "print(\"R^2: \", r2)\n",
    "print(\"RMSE: \", rmse)"
   ]
  },
  {
   "cell_type": "code",
   "execution_count": 138,
   "metadata": {},
   "outputs": [
    {
     "name": "stdout",
     "output_type": "stream",
     "text": [
      "[real, predictions]\n",
      "[[6.160e+00 0.000e+00 3.630e-01 0.000e+00 6.000e-03 2.060e-01 8.711e+00\n",
      "  2.880e-01 4.460e-01 2.870e-01 7.790e-01 1.910e-01]\n",
      " [6.120e+00 0.000e+00 3.200e-01 0.000e+00 5.000e-03 1.600e-02 8.009e+00\n",
      "  2.150e-01 4.630e-01 8.500e-02 1.110e-01 1.440e-01]\n",
      " [1.253e+01 3.100e-01 2.500e-02 5.000e-02 5.600e-02 3.300e-02 7.822e+00\n",
      "  2.570e-01 2.970e-01 1.650e-01 1.750e-01 2.170e-01]\n",
      " [1.800e-01 5.000e-01 1.110e+00 5.200e-02 1.500e-01 1.260e+00 4.830e-01\n",
      "  3.630e-01 1.233e+00 2.260e-01 1.360e-01 9.710e-01]\n",
      " [1.290e+01 1.200e-01 5.200e-01 1.550e-01 5.200e-01 2.860e-01 6.898e+00\n",
      "  3.360e-01 7.140e-01 1.420e-01 5.610e-01 2.290e-01]]\n"
     ]
    }
   ],
   "source": [
    "b=np.append(np.around(y_test,3), np.around(y_multirf,3), axis=1)\n",
    "\n",
    "print(\"[real, predictions]\")\n",
    "print(b)"
   ]
  },
  {
   "cell_type": "code",
   "execution_count": 139,
   "metadata": {},
   "outputs": [
    {
     "data": {
      "text/plain": [
       "Text(0, 0.5, 'Predictions')"
      ]
     },
     "execution_count": 139,
     "metadata": {},
     "output_type": "execute_result"
    },
    {
     "data": {
      "image/png": "[encoded data removed]",
      "text/plain": [
       "<Figure size 432x288 with 1 Axes>"
      ]
     },
     "metadata": {
      "needs_background": "light"
     },
     "output_type": "display_data"
    }
   ],
   "source": [
    "plt.scatter(y_test, y_multirf)\n",
    "plt.xlabel('True Values')\n",
    "plt.ylabel('Predictions')"
   ]
  },
  {
   "cell_type": "code",
   "execution_count": 141,
   "metadata": {},
   "outputs": [
    {
     "data": {
      "text/plain": [
       "array([8.71, 8.01, 7.82, 0.48, 6.9 ])"
      ]
     },
     "execution_count": 141,
     "metadata": {},
     "output_type": "execute_result"
    }
   ],
   "source": [
    "y_pred=np.around(y_multirf,2)\n",
    "y_pred[:,0]"
   ]
  },
  {
   "cell_type": "code",
   "execution_count": 142,
   "metadata": {},
   "outputs": [
    {
     "data": {
      "text/plain": [
       "array([ 6.16,  6.12, 12.53,  0.18, 12.9 ])"
      ]
     },
     "execution_count": 142,
     "metadata": {},
     "output_type": "execute_result"
    }
   ],
   "source": [
    "y_test[0].values"
   ]
  },
  {
   "cell_type": "code",
   "execution_count": 143,
   "metadata": {},
   "outputs": [
    {
     "name": "stdout",
     "output_type": "stream",
     "text": [
      "real:  [ 6.16  6.12 12.53  0.18 12.9 ]\n",
      "pred:  [8.71 8.01 7.82 0.48 6.9 ]\n"
     ]
    }
   ],
   "source": [
    "print(\"real: \", y_test[0].values)\n",
    "print(\"pred: \", y_pred[:,0])"
   ]
  },
  {
   "cell_type": "markdown",
   "metadata": {},
   "source": [
    "# PLS-2"
   ]
  },
  {
   "cell_type": "code",
   "execution_count": 154,
   "metadata": {},
   "outputs": [
    {
     "name": "stdout",
     "output_type": "stream",
     "text": [
      "100% completed\n",
      "Suggested number of components:  33\n",
      "\n"
     ]
    },
    {
     "data": {
      "image/png": "[encoded data removed]",
      "text/plain": [
       "<Figure size 432x288 with 1 Axes>"
      ]
     },
     "metadata": {},
     "output_type": "display_data"
    },
    {
     "name": "stdout",
     "output_type": "stream",
     "text": [
      "R2 calib: 1.000\n",
      "R2 CV: 0.018\n",
      "MSE calib: 0.000\n",
      "MSE CV: 0.939\n"
     ]
    }
   ],
   "source": [
    "optimise_pls_cv(X_train, y_train, 40, plot_components=True)"
   ]
  },
  {
   "cell_type": "code",
   "execution_count": 155,
   "metadata": {},
   "outputs": [
    {
     "name": "stdout",
     "output_type": "stream",
     "text": [
      "R^2:  0.018347253779067135\n",
      "MSE:  0.9391318844120397\n"
     ]
    }
   ],
   "source": [
    "# Define PLS object\n",
    "pls = PLSRegression(n_components= 26)\n",
    "# Fit\n",
    "pls.fit(X_train, y_train)\n",
    "# Cross-validation\n",
    "y_cv = cross_val_predict(pls, X_train, y_train, cv=10)\n",
    "# Calculate scores\n",
    "score = r2_score(y_train, y_cv)\n",
    "mse = mean_squared_error(y_train, y_cv)\n",
    "\n",
    "print(\"R^2: \", score)\n",
    "print(\"MSE: \", mse)"
   ]
  },
  {
   "cell_type": "code",
   "execution_count": 150,
   "metadata": {},
   "outputs": [
    {
     "name": "stdout",
     "output_type": "stream",
     "text": [
      "-4.070272705754876\n",
      "0.36555579763038115\n"
     ]
    }
   ],
   "source": [
    "y_pred = pls.predict(X_test)\n",
    "\n",
    "# Cross-validation\n",
    "y_cv = cross_val_predict(pls, X_train, y_train, cv=10)\n",
    "\n",
    "# Calculate scores for calibration and cross-validation\n",
    "score_pred = r2_score(y_test, y_pred)\n",
    "score_cv = r2_score(y_train, y_cv)\n",
    "\n",
    "print(score_pred) #NAMMERDA\n",
    "print(score_cv)"
   ]
  },
  {
   "cell_type": "code",
   "execution_count": 151,
   "metadata": {},
   "outputs": [
    {
     "data": {
      "text/html": [
       "<div>\n",
       "<style scoped>\n",
       "    .dataframe tbody tr th:only-of-type {\n",
       "        vertical-align: middle;\n",
       "    }\n",
       "\n",
       "    .dataframe tbody tr th {\n",
       "        vertical-align: top;\n",
       "    }\n",
       "\n",
       "    .dataframe thead th {\n",
       "        text-align: right;\n",
       "    }\n",
       "</style>\n",
       "<table border=\"1\" class=\"dataframe\">\n",
       "  <thead>\n",
       "    <tr style=\"text-align: right;\">\n",
       "      <th></th>\n",
       "      <th>0</th>\n",
       "      <th>1</th>\n",
       "      <th>2</th>\n",
       "      <th>3</th>\n",
       "      <th>4</th>\n",
       "      <th>5</th>\n",
       "    </tr>\n",
       "  </thead>\n",
       "  <tbody>\n",
       "    <tr>\n",
       "      <th>0</th>\n",
       "      <td>7.84</td>\n",
       "      <td>0.22</td>\n",
       "      <td>0.54</td>\n",
       "      <td>0.19</td>\n",
       "      <td>0.57</td>\n",
       "      <td>0.27</td>\n",
       "    </tr>\n",
       "    <tr>\n",
       "      <th>1</th>\n",
       "      <td>8.62</td>\n",
       "      <td>0.12</td>\n",
       "      <td>0.35</td>\n",
       "      <td>0.06</td>\n",
       "      <td>-0.12</td>\n",
       "      <td>-0.06</td>\n",
       "    </tr>\n",
       "    <tr>\n",
       "      <th>2</th>\n",
       "      <td>10.50</td>\n",
       "      <td>0.13</td>\n",
       "      <td>-0.61</td>\n",
       "      <td>0.45</td>\n",
       "      <td>0.15</td>\n",
       "      <td>-0.03</td>\n",
       "    </tr>\n",
       "    <tr>\n",
       "      <th>3</th>\n",
       "      <td>-0.28</td>\n",
       "      <td>0.42</td>\n",
       "      <td>1.56</td>\n",
       "      <td>-0.11</td>\n",
       "      <td>-0.34</td>\n",
       "      <td>0.95</td>\n",
       "    </tr>\n",
       "    <tr>\n",
       "      <th>4</th>\n",
       "      <td>9.93</td>\n",
       "      <td>0.09</td>\n",
       "      <td>0.29</td>\n",
       "      <td>-0.26</td>\n",
       "      <td>0.65</td>\n",
       "      <td>0.14</td>\n",
       "    </tr>\n",
       "  </tbody>\n",
       "</table>\n",
       "</div>"
      ],
      "text/plain": [
       "       0     1     2     3     4     5\n",
       "0   7.84  0.22  0.54  0.19  0.57  0.27\n",
       "1   8.62  0.12  0.35  0.06 -0.12 -0.06\n",
       "2  10.50  0.13 -0.61  0.45  0.15 -0.03\n",
       "3  -0.28  0.42  1.56 -0.11 -0.34  0.95\n",
       "4   9.93  0.09  0.29 -0.26  0.65  0.14"
      ]
     },
     "execution_count": 151,
     "metadata": {},
     "output_type": "execute_result"
    }
   ],
   "source": [
    "pd.DataFrame(np.round(y_pred, decimals=2))"
   ]
  },
  {
   "cell_type": "code",
   "execution_count": 152,
   "metadata": {
    "scrolled": true
   },
   "outputs": [
    {
     "data": {
      "text/html": [
       "<div>\n",
       "<style scoped>\n",
       "    .dataframe tbody tr th:only-of-type {\n",
       "        vertical-align: middle;\n",
       "    }\n",
       "\n",
       "    .dataframe tbody tr th {\n",
       "        vertical-align: top;\n",
       "    }\n",
       "\n",
       "    .dataframe thead th {\n",
       "        text-align: right;\n",
       "    }\n",
       "</style>\n",
       "<table border=\"1\" class=\"dataframe\">\n",
       "  <thead>\n",
       "    <tr style=\"text-align: right;\">\n",
       "      <th></th>\n",
       "      <th>0</th>\n",
       "      <th>1</th>\n",
       "      <th>2</th>\n",
       "      <th>3</th>\n",
       "      <th>4</th>\n",
       "      <th>5</th>\n",
       "    </tr>\n",
       "  </thead>\n",
       "  <tbody>\n",
       "    <tr>\n",
       "      <th>20</th>\n",
       "      <td>6.16</td>\n",
       "      <td>0.00</td>\n",
       "      <td>0.36</td>\n",
       "      <td>0.00</td>\n",
       "      <td>0.01</td>\n",
       "      <td>0.21</td>\n",
       "    </tr>\n",
       "    <tr>\n",
       "      <th>12</th>\n",
       "      <td>6.12</td>\n",
       "      <td>0.00</td>\n",
       "      <td>0.32</td>\n",
       "      <td>0.00</td>\n",
       "      <td>0.01</td>\n",
       "      <td>0.02</td>\n",
       "    </tr>\n",
       "    <tr>\n",
       "      <th>13</th>\n",
       "      <td>12.53</td>\n",
       "      <td>0.31</td>\n",
       "      <td>0.02</td>\n",
       "      <td>0.05</td>\n",
       "      <td>0.06</td>\n",
       "      <td>0.03</td>\n",
       "    </tr>\n",
       "    <tr>\n",
       "      <th>22</th>\n",
       "      <td>0.18</td>\n",
       "      <td>0.50</td>\n",
       "      <td>1.11</td>\n",
       "      <td>0.05</td>\n",
       "      <td>0.15</td>\n",
       "      <td>1.26</td>\n",
       "    </tr>\n",
       "    <tr>\n",
       "      <th>7</th>\n",
       "      <td>12.90</td>\n",
       "      <td>0.12</td>\n",
       "      <td>0.52</td>\n",
       "      <td>0.16</td>\n",
       "      <td>0.52</td>\n",
       "      <td>0.29</td>\n",
       "    </tr>\n",
       "  </tbody>\n",
       "</table>\n",
       "</div>"
      ],
      "text/plain": [
       "        0     1     2     3     4     5\n",
       "20   6.16  0.00  0.36  0.00  0.01  0.21\n",
       "12   6.12  0.00  0.32  0.00  0.01  0.02\n",
       "13  12.53  0.31  0.02  0.05  0.06  0.03\n",
       "22   0.18  0.50  1.11  0.05  0.15  1.26\n",
       "7   12.90  0.12  0.52  0.16  0.52  0.29"
      ]
     },
     "execution_count": 152,
     "metadata": {},
     "output_type": "execute_result"
    }
   ],
   "source": [
    "np.round(y_test, decimals=2)"
   ]
  },
  {
   "cell_type": "code",
   "execution_count": null,
   "metadata": {},
   "outputs": [],
   "source": []
  },
  {
   "cell_type": "code",
   "execution_count": null,
   "metadata": {},
   "outputs": [],
   "source": []
  }
 ],
 "metadata": {
  "kernelspec": {
   "display_name": "Python 3",
   "language": "python",
   "name": "python3"
  },
  "language_info": {
   "codemirror_mode": {
    "name": "ipython",
    "version": 3
   },
   "file_extension": ".py",
   "mimetype": "text/x-python",
   "name": "python",
   "nbconvert_exporter": "python",
   "pygments_lexer": "ipython3",
   "version": "3.7.6"
  }
 },
 "nbformat": 4,
 "nbformat_minor": 2
}
