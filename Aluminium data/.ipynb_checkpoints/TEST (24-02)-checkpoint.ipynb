{
 "cells": [
  {
   "cell_type": "code",
   "execution_count": 1,
   "metadata": {},
   "outputs": [],
   "source": [
    "import os\n",
    "from sys import stdout\n",
    "import time\n",
    "\n",
    "import numpy as np\n",
    "import pandas as pd\n",
    "import matplotlib.pyplot as plt\n",
    "import peakutils\n",
    "%matplotlib inline \n",
    "from math import sqrt\n",
    "from scipy.signal import savgol_filter\n",
    "from sklearn.decomposition import PCA \n",
    "from sklearn.preprocessing import StandardScaler, normalize, MinMaxScaler \n",
    "from sklearn.model_selection import train_test_split, RandomizedSearchCV\n",
    "from sklearn.metrics import mean_squared_error, r2_score\n",
    "from sklearn.cross_decomposition import PLSRegression\n",
    "from sklearn.model_selection import cross_val_predict\n",
    "from sklearn import linear_model\n",
    "from sklearn.linear_model import ElasticNet,ElasticNetCV\n",
    "\n",
    "import warnings\n",
    "warnings.filterwarnings('ignore')"
   ]
  },
  {
   "cell_type": "code",
   "execution_count": 2,
   "metadata": {},
   "outputs": [
    {
     "data": {
      "text/plain": [
       "\"   \\n    # Fit a line to the CV vs response\\n    z = np.polyfit(y, y_c, 1)\\n    with plt.style.context(('ggplot')):\\n        fig, ax = plt.subplots(figsize=(9, 5))\\n        ax.scatter(y_c, y, c='red', edgecolors='k')\\n        #Plot the best fit line\\n        ax.plot(np.polyval(z,y), y, c='blue', linewidth=1)\\n        #Plot the ideal 1:1 line\\n        ax.plot(y, y, color='green', linewidth=1)\\n        plt.title('$R^{2}$ (CV): '+str(score_cv))\\n        plt.xlabel('Predicted $^{\\\\circ}$Brix')\\n        plt.ylabel('Measured $^{\\\\circ}$Brix')\\n        plt.show()\\n    return\\n\""
      ]
     },
     "execution_count": 2,
     "metadata": {},
     "output_type": "execute_result"
    }
   ],
   "source": [
    "def optimise_pls_cv(X, y, n_comp, plot_components=True):\n",
    "    '''Run PLS including a variable number of components, up to n_comp,\n",
    "       and calculate MSE '''\n",
    "    mse = []\n",
    "    component = np.arange(1, n_comp)\n",
    "    for i in component:\n",
    "        pls = PLSRegression(n_components=i)\n",
    "        # Cross-validation\n",
    "        y_cv = cross_val_predict(pls, X, y, cv=10)\n",
    "        mse.append(mean_squared_error(y, y_cv))\n",
    "        comp = 100*(i+1)/40\n",
    "        # Trick to update status on the same line\n",
    "        stdout.write(\"\\r%d%% completed\" % comp)\n",
    "        stdout.flush()\n",
    "    stdout.write(\"\\n\")\n",
    "    # Calculate and print the position of minimum in MSE\n",
    "    msemin = np.argmin(mse)\n",
    "    print(\"Suggested number of components: \", msemin+1)\n",
    "    stdout.write(\"\\n\")\n",
    "    if plot_components is True:\n",
    "        with plt.style.context(('ggplot')):\n",
    "            plt.plot(component, np.array(mse), '-v', color = 'blue', mfc='blue')\n",
    "            plt.plot(component[msemin], np.array(mse)[msemin], 'P', ms=10, mfc='red')\n",
    "            plt.xlabel('Number of PLS components')\n",
    "            plt.ylabel('MSE')\n",
    "            plt.title('PLS')\n",
    "            plt.xlim(left=-1)\n",
    "        plt.show()\n",
    "    # Define PLS object with optimal number of components\n",
    "    pls_opt = PLSRegression(n_components=msemin+1)\n",
    "    # Fir to the entire dataset\n",
    "    pls_opt.fit(X, y)\n",
    "    y_c = pls_opt.predict(X)\n",
    "    # Cross-validation\n",
    "    y_cv = cross_val_predict(pls_opt, X, y, cv=10)\n",
    "    # Calculate scores for calibration and cross-validation\n",
    "    score_c = r2_score(y, y_c)\n",
    "    score_cv = r2_score(y, y_cv)\n",
    "    # Calculate mean squared error for calibration and cross validation\n",
    "    mse_c = mean_squared_error(y, y_c)\n",
    "    mse_cv = mean_squared_error(y, y_cv)\n",
    "    print('R2 calib: %5.3f'  % score_c)\n",
    "    print('R2 CV: %5.3f'  % score_cv)\n",
    "    print('MSE calib: %5.3f' % mse_c)\n",
    "    print('MSE CV: %5.3f' % mse_cv)\n",
    "    \n",
    "    return\n",
    "    # Plot regression and figures of merit\n",
    "    rangey = max(y) - min(y)\n",
    "    rangex = max(y_c) - min(y_c)\n",
    "\"\"\"   \n",
    "    # Fit a line to the CV vs response\n",
    "    z = np.polyfit(y, y_c, 1)\n",
    "    with plt.style.context(('ggplot')):\n",
    "        fig, ax = plt.subplots(figsize=(9, 5))\n",
    "        ax.scatter(y_c, y, c='red', edgecolors='k')\n",
    "        #Plot the best fit line\n",
    "        ax.plot(np.polyval(z,y), y, c='blue', linewidth=1)\n",
    "        #Plot the ideal 1:1 line\n",
    "        ax.plot(y, y, color='green', linewidth=1)\n",
    "        plt.title('$R^{2}$ (CV): '+str(score_cv))\n",
    "        plt.xlabel('Predicted $^{\\circ}$Brix')\n",
    "        plt.ylabel('Measured $^{\\circ}$Brix')\n",
    "        plt.show()\n",
    "    return\n",
    "\"\"\" "
   ]
  },
  {
   "cell_type": "code",
   "execution_count": 3,
   "metadata": {},
   "outputs": [],
   "source": [
    "def pls_variable_selection(X, y, max_comp):\n",
    "    \n",
    "    # Define MSE array to be populated\n",
    "    mse = np.zeros((max_comp,X.shape[1]))\n",
    "    # Loop over the number of PLS components\n",
    "    for i in range(max_comp):\n",
    "        \n",
    "        # Regression with specified number of components, using full spectrum\n",
    "        pls1 = PLSRegression(n_components=i+1)\n",
    "        pls1.fit(X, y)\n",
    "        \n",
    "        # Indices of sort spectra according to ascending absolute value of PLS coefficients\n",
    "        sorted_ind = np.argsort(np.abs(pls1.coef_[:,0]))\n",
    "        # Sort spectra accordingly \n",
    "        Xc = X[:,sorted_ind]\n",
    "        # Discard one wavelength at a time of the sorted spectra,\n",
    "        # regress, and calculate the MSE cross-validation\n",
    "        for j in range(Xc.shape[1]-(i+1)):\n",
    "            pls2 = PLSRegression(n_components=i+1)\n",
    "            pls2.fit(Xc[:, j:], y)\n",
    "            \n",
    "            y_cv = cross_val_predict(pls2, Xc[:, j:], y, cv=5)\n",
    "            mse[i,j] = mean_squared_error(y, y_cv)\n",
    "    \n",
    "        comp = 100*(i+1)/(max_comp)\n",
    "        stdout.write(\"\\r%d%% completed\" % comp)\n",
    "        stdout.flush()\n",
    "    stdout.write(\"\\n\")\n",
    "    # # Calculate and print the position of minimum in MSE\n",
    "    mseminx,mseminy = np.where(mse==np.min(mse[np.nonzero(mse)]))\n",
    "    print(\"Optimised number of PLS components: \", mseminx[0]+1)\n",
    "    print(\"Wavelengths to be discarded \",mseminy[0])\n",
    "    print('Optimised MSEP ', mse[mseminx,mseminy][0])\n",
    "    stdout.write(\"\\n\")\n",
    "    # plt.imshow(mse, interpolation=None)\n",
    "    # plt.show()\n",
    "    # Calculate PLS with optimal components and export values\n",
    "    pls = PLSRegression(n_components=mseminx[0]+1)\n",
    "    pls.fit(X, y)\n",
    "        \n",
    "    sorted_ind = np.argsort(np.abs(pls.coef_[:,0]))\n",
    "    Xc = X[:,sorted_ind]\n",
    "    return(Xc[:,mseminy[0]:],mseminx[0]+1,mseminy[0], sorted_ind)"
   ]
  },
  {
   "cell_type": "code",
   "execution_count": 4,
   "metadata": {},
   "outputs": [],
   "source": [
    "def msc(input_data, reference=None):\n",
    "    ''' Perform Multiplicative scatter correction'''\n",
    "    # mean centre correction\n",
    "    for i in range(input_data.shape[0]):\n",
    "        input_data[i,:] -= input_data[i,:].mean()\n",
    "    # Get the reference spectrum. If not given, estimate it from the mean    \n",
    "    if reference is None:    \n",
    "        # Calculate mean\n",
    "        ref = np.mean(input_data, axis=0)\n",
    "    else:\n",
    "        ref = reference\n",
    "    # Define a new array and populate it with the corrected data    \n",
    "    data_msc = np.zeros_like(input_data)\n",
    "    for i in range(input_data.shape[0]):\n",
    "        # Run regression\n",
    "        fit = np.polyfit(ref, input_data[i,:], 1, full=True)\n",
    "        # Apply correction\n",
    "        data_msc[i,:] = (input_data[i,:] - fit[0][1]) / fit[0][0] \n",
    "    return (data_msc, ref)"
   ]
  },
  {
   "cell_type": "code",
   "execution_count": 259,
   "metadata": {},
   "outputs": [],
   "source": [
    "def snv(input_data):\n",
    "  \n",
    "    # Define a new array and populate it with the corrected data  \n",
    "    data_snv = np.zeros_like(input_data)\n",
    "    for i in range(input_data.shape[0]):\n",
    "        # Apply correction\n",
    "        data_snv[i,:] = (input_data[i,:] - np.mean(input_data[i,:])) / np.std(input_data[i,:])\n",
    "    return data_snv"
   ]
  },
  {
   "cell_type": "code",
   "execution_count": 5,
   "metadata": {},
   "outputs": [
    {
     "name": "stdout",
     "output_type": "stream",
     "text": [
      "(24, 1446)\n",
      "(1446,)\n",
      "24\n"
     ]
    },
    {
     "data": {
      "text/html": [
       "<div>\n",
       "<style scoped>\n",
       "    .dataframe tbody tr th:only-of-type {\n",
       "        vertical-align: middle;\n",
       "    }\n",
       "\n",
       "    .dataframe tbody tr th {\n",
       "        vertical-align: top;\n",
       "    }\n",
       "\n",
       "    .dataframe thead th {\n",
       "        text-align: right;\n",
       "    }\n",
       "</style>\n",
       "<table border=\"1\" class=\"dataframe\">\n",
       "  <thead>\n",
       "    <tr style=\"text-align: right;\">\n",
       "      <th></th>\n",
       "      <th>252.071400</th>\n",
       "      <th>252.201700</th>\n",
       "      <th>252.331900</th>\n",
       "      <th>252.462200</th>\n",
       "      <th>252.592400</th>\n",
       "      <th>252.722600</th>\n",
       "      <th>252.852900</th>\n",
       "      <th>252.983100</th>\n",
       "      <th>253.113300</th>\n",
       "      <th>253.243600</th>\n",
       "      <th>...</th>\n",
       "      <th>428.718100</th>\n",
       "      <th>428.828600</th>\n",
       "      <th>428.939000</th>\n",
       "      <th>429.049500</th>\n",
       "      <th>429.159900</th>\n",
       "      <th>429.270300</th>\n",
       "      <th>429.380600</th>\n",
       "      <th>429.491000</th>\n",
       "      <th>429.601300</th>\n",
       "      <th>429.711600</th>\n",
       "    </tr>\n",
       "  </thead>\n",
       "  <tbody>\n",
       "    <tr>\n",
       "      <th>0</th>\n",
       "      <td>-0.000051</td>\n",
       "      <td>-0.000137</td>\n",
       "      <td>-0.000348</td>\n",
       "      <td>0.000134</td>\n",
       "      <td>-0.000060</td>\n",
       "      <td>-0.000077</td>\n",
       "      <td>0.000103</td>\n",
       "      <td>0.000288</td>\n",
       "      <td>0.000048</td>\n",
       "      <td>-0.000200</td>\n",
       "      <td>...</td>\n",
       "      <td>0.000521</td>\n",
       "      <td>0.001721</td>\n",
       "      <td>0.004923</td>\n",
       "      <td>0.003764</td>\n",
       "      <td>0.001069</td>\n",
       "      <td>0.000188</td>\n",
       "      <td>-0.000245</td>\n",
       "      <td>-0.000420</td>\n",
       "      <td>-0.000480</td>\n",
       "      <td>-0.000328</td>\n",
       "    </tr>\n",
       "    <tr>\n",
       "      <th>1</th>\n",
       "      <td>-0.001183</td>\n",
       "      <td>-0.001046</td>\n",
       "      <td>-0.001689</td>\n",
       "      <td>-0.000682</td>\n",
       "      <td>-0.000926</td>\n",
       "      <td>-0.001222</td>\n",
       "      <td>-0.000757</td>\n",
       "      <td>-0.000432</td>\n",
       "      <td>-0.000893</td>\n",
       "      <td>-0.001300</td>\n",
       "      <td>...</td>\n",
       "      <td>0.000315</td>\n",
       "      <td>-0.000633</td>\n",
       "      <td>-0.000929</td>\n",
       "      <td>-0.000934</td>\n",
       "      <td>-0.000485</td>\n",
       "      <td>-0.000438</td>\n",
       "      <td>-0.001200</td>\n",
       "      <td>-0.001419</td>\n",
       "      <td>-0.001679</td>\n",
       "      <td>-0.001496</td>\n",
       "    </tr>\n",
       "    <tr>\n",
       "      <th>2</th>\n",
       "      <td>-0.000382</td>\n",
       "      <td>-0.000548</td>\n",
       "      <td>-0.001030</td>\n",
       "      <td>-0.000186</td>\n",
       "      <td>-0.000471</td>\n",
       "      <td>-0.000625</td>\n",
       "      <td>-0.000407</td>\n",
       "      <td>0.000065</td>\n",
       "      <td>-0.000358</td>\n",
       "      <td>-0.000748</td>\n",
       "      <td>...</td>\n",
       "      <td>0.000356</td>\n",
       "      <td>-0.000319</td>\n",
       "      <td>-0.000437</td>\n",
       "      <td>-0.000497</td>\n",
       "      <td>-0.000020</td>\n",
       "      <td>-0.000095</td>\n",
       "      <td>-0.000618</td>\n",
       "      <td>-0.000748</td>\n",
       "      <td>-0.000897</td>\n",
       "      <td>-0.000763</td>\n",
       "    </tr>\n",
       "    <tr>\n",
       "      <th>3</th>\n",
       "      <td>-0.000632</td>\n",
       "      <td>-0.000785</td>\n",
       "      <td>-0.001162</td>\n",
       "      <td>-0.000292</td>\n",
       "      <td>-0.000639</td>\n",
       "      <td>-0.000852</td>\n",
       "      <td>-0.000558</td>\n",
       "      <td>-0.000084</td>\n",
       "      <td>-0.000512</td>\n",
       "      <td>-0.000889</td>\n",
       "      <td>...</td>\n",
       "      <td>0.000334</td>\n",
       "      <td>-0.000420</td>\n",
       "      <td>-0.000335</td>\n",
       "      <td>-0.000562</td>\n",
       "      <td>-0.000090</td>\n",
       "      <td>-0.000270</td>\n",
       "      <td>-0.000825</td>\n",
       "      <td>-0.001128</td>\n",
       "      <td>-0.001327</td>\n",
       "      <td>-0.001101</td>\n",
       "    </tr>\n",
       "    <tr>\n",
       "      <th>4</th>\n",
       "      <td>0.000615</td>\n",
       "      <td>0.000247</td>\n",
       "      <td>0.000025</td>\n",
       "      <td>0.000840</td>\n",
       "      <td>0.000589</td>\n",
       "      <td>0.000853</td>\n",
       "      <td>0.001643</td>\n",
       "      <td>0.001616</td>\n",
       "      <td>0.000699</td>\n",
       "      <td>-0.000022</td>\n",
       "      <td>...</td>\n",
       "      <td>0.000197</td>\n",
       "      <td>-0.000316</td>\n",
       "      <td>-0.000706</td>\n",
       "      <td>-0.000500</td>\n",
       "      <td>-0.000089</td>\n",
       "      <td>-0.000213</td>\n",
       "      <td>-0.000574</td>\n",
       "      <td>-0.000726</td>\n",
       "      <td>-0.000858</td>\n",
       "      <td>-0.000666</td>\n",
       "    </tr>\n",
       "    <tr>\n",
       "      <th>5</th>\n",
       "      <td>0.000623</td>\n",
       "      <td>0.000112</td>\n",
       "      <td>-0.000077</td>\n",
       "      <td>0.000916</td>\n",
       "      <td>0.000636</td>\n",
       "      <td>0.000809</td>\n",
       "      <td>0.001711</td>\n",
       "      <td>0.001559</td>\n",
       "      <td>0.000529</td>\n",
       "      <td>-0.000098</td>\n",
       "      <td>...</td>\n",
       "      <td>0.000244</td>\n",
       "      <td>-0.000184</td>\n",
       "      <td>-0.000098</td>\n",
       "      <td>-0.000164</td>\n",
       "      <td>-0.000065</td>\n",
       "      <td>-0.000170</td>\n",
       "      <td>-0.000652</td>\n",
       "      <td>-0.000780</td>\n",
       "      <td>-0.000873</td>\n",
       "      <td>-0.000697</td>\n",
       "    </tr>\n",
       "    <tr>\n",
       "      <th>6</th>\n",
       "      <td>-0.000321</td>\n",
       "      <td>-0.000409</td>\n",
       "      <td>-0.000991</td>\n",
       "      <td>0.000060</td>\n",
       "      <td>-0.000408</td>\n",
       "      <td>-0.000826</td>\n",
       "      <td>-0.000322</td>\n",
       "      <td>0.000093</td>\n",
       "      <td>-0.000523</td>\n",
       "      <td>-0.001165</td>\n",
       "      <td>...</td>\n",
       "      <td>0.000609</td>\n",
       "      <td>-0.000264</td>\n",
       "      <td>-0.000513</td>\n",
       "      <td>-0.000529</td>\n",
       "      <td>0.000029</td>\n",
       "      <td>0.000076</td>\n",
       "      <td>-0.000625</td>\n",
       "      <td>-0.000945</td>\n",
       "      <td>-0.001089</td>\n",
       "      <td>-0.000953</td>\n",
       "    </tr>\n",
       "    <tr>\n",
       "      <th>7</th>\n",
       "      <td>-0.000210</td>\n",
       "      <td>-0.000352</td>\n",
       "      <td>-0.000602</td>\n",
       "      <td>0.000056</td>\n",
       "      <td>-0.000297</td>\n",
       "      <td>-0.000301</td>\n",
       "      <td>-0.000004</td>\n",
       "      <td>0.000193</td>\n",
       "      <td>-0.000140</td>\n",
       "      <td>-0.000479</td>\n",
       "      <td>...</td>\n",
       "      <td>0.000458</td>\n",
       "      <td>-0.000105</td>\n",
       "      <td>-0.000136</td>\n",
       "      <td>-0.000052</td>\n",
       "      <td>0.000116</td>\n",
       "      <td>0.000011</td>\n",
       "      <td>-0.000311</td>\n",
       "      <td>-0.000540</td>\n",
       "      <td>-0.000697</td>\n",
       "      <td>-0.000556</td>\n",
       "    </tr>\n",
       "    <tr>\n",
       "      <th>8</th>\n",
       "      <td>0.000343</td>\n",
       "      <td>0.000048</td>\n",
       "      <td>-0.000111</td>\n",
       "      <td>0.000531</td>\n",
       "      <td>0.000399</td>\n",
       "      <td>0.000530</td>\n",
       "      <td>0.001000</td>\n",
       "      <td>0.001059</td>\n",
       "      <td>0.000538</td>\n",
       "      <td>0.000049</td>\n",
       "      <td>...</td>\n",
       "      <td>0.000453</td>\n",
       "      <td>0.000015</td>\n",
       "      <td>-0.000034</td>\n",
       "      <td>-0.000083</td>\n",
       "      <td>0.000113</td>\n",
       "      <td>0.000099</td>\n",
       "      <td>-0.000159</td>\n",
       "      <td>-0.000174</td>\n",
       "      <td>-0.000329</td>\n",
       "      <td>-0.000161</td>\n",
       "    </tr>\n",
       "    <tr>\n",
       "      <th>9</th>\n",
       "      <td>0.000988</td>\n",
       "      <td>0.000493</td>\n",
       "      <td>0.000385</td>\n",
       "      <td>0.001313</td>\n",
       "      <td>0.001123</td>\n",
       "      <td>0.001451</td>\n",
       "      <td>0.002381</td>\n",
       "      <td>0.002267</td>\n",
       "      <td>0.001154</td>\n",
       "      <td>0.000555</td>\n",
       "      <td>...</td>\n",
       "      <td>0.000314</td>\n",
       "      <td>-0.000088</td>\n",
       "      <td>-0.000269</td>\n",
       "      <td>-0.000253</td>\n",
       "      <td>0.000022</td>\n",
       "      <td>0.000058</td>\n",
       "      <td>-0.000175</td>\n",
       "      <td>-0.000349</td>\n",
       "      <td>-0.000454</td>\n",
       "      <td>-0.000300</td>\n",
       "    </tr>\n",
       "    <tr>\n",
       "      <th>10</th>\n",
       "      <td>0.000182</td>\n",
       "      <td>-0.000027</td>\n",
       "      <td>-0.000218</td>\n",
       "      <td>0.000384</td>\n",
       "      <td>0.000177</td>\n",
       "      <td>0.000243</td>\n",
       "      <td>0.000681</td>\n",
       "      <td>0.000735</td>\n",
       "      <td>0.000261</td>\n",
       "      <td>-0.000071</td>\n",
       "      <td>...</td>\n",
       "      <td>0.000634</td>\n",
       "      <td>0.001358</td>\n",
       "      <td>0.003601</td>\n",
       "      <td>0.003035</td>\n",
       "      <td>0.001008</td>\n",
       "      <td>0.000249</td>\n",
       "      <td>-0.000153</td>\n",
       "      <td>-0.000273</td>\n",
       "      <td>-0.000344</td>\n",
       "      <td>-0.000222</td>\n",
       "    </tr>\n",
       "    <tr>\n",
       "      <th>11</th>\n",
       "      <td>-0.000028</td>\n",
       "      <td>-0.000407</td>\n",
       "      <td>-0.000766</td>\n",
       "      <td>0.000250</td>\n",
       "      <td>-0.000334</td>\n",
       "      <td>-0.000639</td>\n",
       "      <td>-0.000157</td>\n",
       "      <td>0.000295</td>\n",
       "      <td>-0.000329</td>\n",
       "      <td>-0.000866</td>\n",
       "      <td>...</td>\n",
       "      <td>0.000840</td>\n",
       "      <td>0.000279</td>\n",
       "      <td>0.000772</td>\n",
       "      <td>0.000555</td>\n",
       "      <td>0.000422</td>\n",
       "      <td>0.000190</td>\n",
       "      <td>-0.000506</td>\n",
       "      <td>-0.000641</td>\n",
       "      <td>-0.000868</td>\n",
       "      <td>-0.000623</td>\n",
       "    </tr>\n",
       "    <tr>\n",
       "      <th>12</th>\n",
       "      <td>0.000625</td>\n",
       "      <td>0.000224</td>\n",
       "      <td>0.000072</td>\n",
       "      <td>0.000822</td>\n",
       "      <td>0.000589</td>\n",
       "      <td>0.000845</td>\n",
       "      <td>0.001587</td>\n",
       "      <td>0.001582</td>\n",
       "      <td>0.000597</td>\n",
       "      <td>0.000003</td>\n",
       "      <td>...</td>\n",
       "      <td>0.000180</td>\n",
       "      <td>-0.000283</td>\n",
       "      <td>-0.000495</td>\n",
       "      <td>-0.000482</td>\n",
       "      <td>-0.000128</td>\n",
       "      <td>-0.000181</td>\n",
       "      <td>-0.000561</td>\n",
       "      <td>-0.000704</td>\n",
       "      <td>-0.000741</td>\n",
       "      <td>-0.000641</td>\n",
       "    </tr>\n",
       "    <tr>\n",
       "      <th>13</th>\n",
       "      <td>0.000907</td>\n",
       "      <td>0.000443</td>\n",
       "      <td>0.000305</td>\n",
       "      <td>0.001129</td>\n",
       "      <td>0.000921</td>\n",
       "      <td>0.001172</td>\n",
       "      <td>0.001886</td>\n",
       "      <td>0.001899</td>\n",
       "      <td>0.000994</td>\n",
       "      <td>0.000440</td>\n",
       "      <td>...</td>\n",
       "      <td>0.000201</td>\n",
       "      <td>-0.000197</td>\n",
       "      <td>-0.000323</td>\n",
       "      <td>-0.000288</td>\n",
       "      <td>0.000018</td>\n",
       "      <td>0.000040</td>\n",
       "      <td>-0.000235</td>\n",
       "      <td>-0.000379</td>\n",
       "      <td>-0.000453</td>\n",
       "      <td>-0.000376</td>\n",
       "    </tr>\n",
       "    <tr>\n",
       "      <th>14</th>\n",
       "      <td>-0.000115</td>\n",
       "      <td>-0.000338</td>\n",
       "      <td>-0.000499</td>\n",
       "      <td>0.000151</td>\n",
       "      <td>-0.000106</td>\n",
       "      <td>-0.000236</td>\n",
       "      <td>0.000134</td>\n",
       "      <td>0.000411</td>\n",
       "      <td>-0.000021</td>\n",
       "      <td>-0.000283</td>\n",
       "      <td>...</td>\n",
       "      <td>0.000535</td>\n",
       "      <td>0.000603</td>\n",
       "      <td>0.001898</td>\n",
       "      <td>0.001447</td>\n",
       "      <td>0.000581</td>\n",
       "      <td>0.000204</td>\n",
       "      <td>-0.000249</td>\n",
       "      <td>-0.000378</td>\n",
       "      <td>-0.000542</td>\n",
       "      <td>-0.000384</td>\n",
       "    </tr>\n",
       "    <tr>\n",
       "      <th>15</th>\n",
       "      <td>-0.000561</td>\n",
       "      <td>-0.000617</td>\n",
       "      <td>-0.001229</td>\n",
       "      <td>-0.000199</td>\n",
       "      <td>-0.000648</td>\n",
       "      <td>-0.000941</td>\n",
       "      <td>-0.000549</td>\n",
       "      <td>-0.000027</td>\n",
       "      <td>-0.000611</td>\n",
       "      <td>-0.001206</td>\n",
       "      <td>...</td>\n",
       "      <td>0.000382</td>\n",
       "      <td>-0.000561</td>\n",
       "      <td>-0.000886</td>\n",
       "      <td>-0.000877</td>\n",
       "      <td>-0.000191</td>\n",
       "      <td>-0.000161</td>\n",
       "      <td>-0.000929</td>\n",
       "      <td>-0.001030</td>\n",
       "      <td>-0.001298</td>\n",
       "      <td>-0.001124</td>\n",
       "    </tr>\n",
       "    <tr>\n",
       "      <th>16</th>\n",
       "      <td>-0.000432</td>\n",
       "      <td>-0.000508</td>\n",
       "      <td>-0.000791</td>\n",
       "      <td>-0.000168</td>\n",
       "      <td>-0.000378</td>\n",
       "      <td>-0.000412</td>\n",
       "      <td>-0.000126</td>\n",
       "      <td>0.000150</td>\n",
       "      <td>-0.000276</td>\n",
       "      <td>-0.000468</td>\n",
       "      <td>...</td>\n",
       "      <td>0.000334</td>\n",
       "      <td>0.000323</td>\n",
       "      <td>0.001012</td>\n",
       "      <td>0.000687</td>\n",
       "      <td>0.000282</td>\n",
       "      <td>-0.000059</td>\n",
       "      <td>-0.000536</td>\n",
       "      <td>-0.000701</td>\n",
       "      <td>-0.000772</td>\n",
       "      <td>-0.000709</td>\n",
       "    </tr>\n",
       "    <tr>\n",
       "      <th>17</th>\n",
       "      <td>0.000612</td>\n",
       "      <td>0.000181</td>\n",
       "      <td>-0.000038</td>\n",
       "      <td>0.000808</td>\n",
       "      <td>0.000638</td>\n",
       "      <td>0.000927</td>\n",
       "      <td>0.001679</td>\n",
       "      <td>0.001699</td>\n",
       "      <td>0.000734</td>\n",
       "      <td>0.000303</td>\n",
       "      <td>...</td>\n",
       "      <td>0.000369</td>\n",
       "      <td>-0.000224</td>\n",
       "      <td>-0.000413</td>\n",
       "      <td>-0.000411</td>\n",
       "      <td>-0.000110</td>\n",
       "      <td>-0.000012</td>\n",
       "      <td>-0.000391</td>\n",
       "      <td>-0.000467</td>\n",
       "      <td>-0.000573</td>\n",
       "      <td>-0.000527</td>\n",
       "    </tr>\n",
       "    <tr>\n",
       "      <th>18</th>\n",
       "      <td>0.000496</td>\n",
       "      <td>0.000093</td>\n",
       "      <td>-0.000019</td>\n",
       "      <td>0.000710</td>\n",
       "      <td>0.000490</td>\n",
       "      <td>0.000876</td>\n",
       "      <td>0.001602</td>\n",
       "      <td>0.001556</td>\n",
       "      <td>0.000783</td>\n",
       "      <td>0.000207</td>\n",
       "      <td>...</td>\n",
       "      <td>0.000220</td>\n",
       "      <td>-0.000129</td>\n",
       "      <td>-0.000302</td>\n",
       "      <td>-0.000403</td>\n",
       "      <td>-0.000248</td>\n",
       "      <td>-0.000276</td>\n",
       "      <td>-0.000485</td>\n",
       "      <td>-0.000551</td>\n",
       "      <td>-0.000669</td>\n",
       "      <td>-0.000670</td>\n",
       "    </tr>\n",
       "    <tr>\n",
       "      <th>19</th>\n",
       "      <td>0.001141</td>\n",
       "      <td>0.000566</td>\n",
       "      <td>0.000333</td>\n",
       "      <td>0.001175</td>\n",
       "      <td>0.000908</td>\n",
       "      <td>0.001242</td>\n",
       "      <td>0.001995</td>\n",
       "      <td>0.001971</td>\n",
       "      <td>0.000991</td>\n",
       "      <td>0.000369</td>\n",
       "      <td>...</td>\n",
       "      <td>0.000300</td>\n",
       "      <td>-0.000228</td>\n",
       "      <td>-0.000365</td>\n",
       "      <td>-0.000334</td>\n",
       "      <td>-0.000025</td>\n",
       "      <td>0.000049</td>\n",
       "      <td>-0.000232</td>\n",
       "      <td>-0.000383</td>\n",
       "      <td>-0.000595</td>\n",
       "      <td>-0.000399</td>\n",
       "    </tr>\n",
       "    <tr>\n",
       "      <th>20</th>\n",
       "      <td>-0.000099</td>\n",
       "      <td>-0.000542</td>\n",
       "      <td>-0.000720</td>\n",
       "      <td>0.000261</td>\n",
       "      <td>-0.000010</td>\n",
       "      <td>0.000159</td>\n",
       "      <td>0.000746</td>\n",
       "      <td>0.000917</td>\n",
       "      <td>0.000054</td>\n",
       "      <td>-0.000333</td>\n",
       "      <td>...</td>\n",
       "      <td>0.000134</td>\n",
       "      <td>-0.000353</td>\n",
       "      <td>-0.000175</td>\n",
       "      <td>-0.000419</td>\n",
       "      <td>-0.000162</td>\n",
       "      <td>-0.000406</td>\n",
       "      <td>-0.000857</td>\n",
       "      <td>-0.000920</td>\n",
       "      <td>-0.001006</td>\n",
       "      <td>-0.001004</td>\n",
       "    </tr>\n",
       "    <tr>\n",
       "      <th>21</th>\n",
       "      <td>0.000462</td>\n",
       "      <td>0.000032</td>\n",
       "      <td>-0.000258</td>\n",
       "      <td>0.000722</td>\n",
       "      <td>0.000329</td>\n",
       "      <td>0.000493</td>\n",
       "      <td>0.001163</td>\n",
       "      <td>0.001150</td>\n",
       "      <td>0.000347</td>\n",
       "      <td>-0.000118</td>\n",
       "      <td>...</td>\n",
       "      <td>0.000160</td>\n",
       "      <td>-0.000245</td>\n",
       "      <td>-0.000112</td>\n",
       "      <td>-0.000177</td>\n",
       "      <td>-0.000019</td>\n",
       "      <td>-0.000139</td>\n",
       "      <td>-0.000586</td>\n",
       "      <td>-0.000715</td>\n",
       "      <td>-0.000832</td>\n",
       "      <td>-0.000687</td>\n",
       "    </tr>\n",
       "    <tr>\n",
       "      <th>22</th>\n",
       "      <td>0.000953</td>\n",
       "      <td>0.000509</td>\n",
       "      <td>0.000204</td>\n",
       "      <td>0.001185</td>\n",
       "      <td>0.000880</td>\n",
       "      <td>0.001101</td>\n",
       "      <td>0.001817</td>\n",
       "      <td>0.001870</td>\n",
       "      <td>0.000862</td>\n",
       "      <td>0.000070</td>\n",
       "      <td>...</td>\n",
       "      <td>0.000325</td>\n",
       "      <td>-0.000308</td>\n",
       "      <td>-0.000516</td>\n",
       "      <td>-0.000395</td>\n",
       "      <td>0.000028</td>\n",
       "      <td>0.000013</td>\n",
       "      <td>-0.000407</td>\n",
       "      <td>-0.000524</td>\n",
       "      <td>-0.000664</td>\n",
       "      <td>-0.000536</td>\n",
       "    </tr>\n",
       "    <tr>\n",
       "      <th>23</th>\n",
       "      <td>0.000773</td>\n",
       "      <td>0.000350</td>\n",
       "      <td>0.000256</td>\n",
       "      <td>0.001023</td>\n",
       "      <td>0.000845</td>\n",
       "      <td>0.001158</td>\n",
       "      <td>0.001900</td>\n",
       "      <td>0.001764</td>\n",
       "      <td>0.000962</td>\n",
       "      <td>0.000434</td>\n",
       "      <td>...</td>\n",
       "      <td>0.000425</td>\n",
       "      <td>0.000111</td>\n",
       "      <td>-0.000050</td>\n",
       "      <td>-0.000028</td>\n",
       "      <td>0.000188</td>\n",
       "      <td>0.000199</td>\n",
       "      <td>-0.000045</td>\n",
       "      <td>-0.000111</td>\n",
       "      <td>-0.000245</td>\n",
       "      <td>-0.000114</td>\n",
       "    </tr>\n",
       "  </tbody>\n",
       "</table>\n",
       "<p>24 rows × 1446 columns</p>\n",
       "</div>"
      ],
      "text/plain": [
       "    252.071400  252.201700  252.331900  252.462200  252.592400  252.722600  \\\n",
       "0    -0.000051   -0.000137   -0.000348    0.000134   -0.000060   -0.000077   \n",
       "1    -0.001183   -0.001046   -0.001689   -0.000682   -0.000926   -0.001222   \n",
       "2    -0.000382   -0.000548   -0.001030   -0.000186   -0.000471   -0.000625   \n",
       "3    -0.000632   -0.000785   -0.001162   -0.000292   -0.000639   -0.000852   \n",
       "4     0.000615    0.000247    0.000025    0.000840    0.000589    0.000853   \n",
       "5     0.000623    0.000112   -0.000077    0.000916    0.000636    0.000809   \n",
       "6    -0.000321   -0.000409   -0.000991    0.000060   -0.000408   -0.000826   \n",
       "7    -0.000210   -0.000352   -0.000602    0.000056   -0.000297   -0.000301   \n",
       "8     0.000343    0.000048   -0.000111    0.000531    0.000399    0.000530   \n",
       "9     0.000988    0.000493    0.000385    0.001313    0.001123    0.001451   \n",
       "10    0.000182   -0.000027   -0.000218    0.000384    0.000177    0.000243   \n",
       "11   -0.000028   -0.000407   -0.000766    0.000250   -0.000334   -0.000639   \n",
       "12    0.000625    0.000224    0.000072    0.000822    0.000589    0.000845   \n",
       "13    0.000907    0.000443    0.000305    0.001129    0.000921    0.001172   \n",
       "14   -0.000115   -0.000338   -0.000499    0.000151   -0.000106   -0.000236   \n",
       "15   -0.000561   -0.000617   -0.001229   -0.000199   -0.000648   -0.000941   \n",
       "16   -0.000432   -0.000508   -0.000791   -0.000168   -0.000378   -0.000412   \n",
       "17    0.000612    0.000181   -0.000038    0.000808    0.000638    0.000927   \n",
       "18    0.000496    0.000093   -0.000019    0.000710    0.000490    0.000876   \n",
       "19    0.001141    0.000566    0.000333    0.001175    0.000908    0.001242   \n",
       "20   -0.000099   -0.000542   -0.000720    0.000261   -0.000010    0.000159   \n",
       "21    0.000462    0.000032   -0.000258    0.000722    0.000329    0.000493   \n",
       "22    0.000953    0.000509    0.000204    0.001185    0.000880    0.001101   \n",
       "23    0.000773    0.000350    0.000256    0.001023    0.000845    0.001158   \n",
       "\n",
       "    252.852900  252.983100  253.113300  253.243600  ...  428.718100  \\\n",
       "0     0.000103    0.000288    0.000048   -0.000200  ...    0.000521   \n",
       "1    -0.000757   -0.000432   -0.000893   -0.001300  ...    0.000315   \n",
       "2    -0.000407    0.000065   -0.000358   -0.000748  ...    0.000356   \n",
       "3    -0.000558   -0.000084   -0.000512   -0.000889  ...    0.000334   \n",
       "4     0.001643    0.001616    0.000699   -0.000022  ...    0.000197   \n",
       "5     0.001711    0.001559    0.000529   -0.000098  ...    0.000244   \n",
       "6    -0.000322    0.000093   -0.000523   -0.001165  ...    0.000609   \n",
       "7    -0.000004    0.000193   -0.000140   -0.000479  ...    0.000458   \n",
       "8     0.001000    0.001059    0.000538    0.000049  ...    0.000453   \n",
       "9     0.002381    0.002267    0.001154    0.000555  ...    0.000314   \n",
       "10    0.000681    0.000735    0.000261   -0.000071  ...    0.000634   \n",
       "11   -0.000157    0.000295   -0.000329   -0.000866  ...    0.000840   \n",
       "12    0.001587    0.001582    0.000597    0.000003  ...    0.000180   \n",
       "13    0.001886    0.001899    0.000994    0.000440  ...    0.000201   \n",
       "14    0.000134    0.000411   -0.000021   -0.000283  ...    0.000535   \n",
       "15   -0.000549   -0.000027   -0.000611   -0.001206  ...    0.000382   \n",
       "16   -0.000126    0.000150   -0.000276   -0.000468  ...    0.000334   \n",
       "17    0.001679    0.001699    0.000734    0.000303  ...    0.000369   \n",
       "18    0.001602    0.001556    0.000783    0.000207  ...    0.000220   \n",
       "19    0.001995    0.001971    0.000991    0.000369  ...    0.000300   \n",
       "20    0.000746    0.000917    0.000054   -0.000333  ...    0.000134   \n",
       "21    0.001163    0.001150    0.000347   -0.000118  ...    0.000160   \n",
       "22    0.001817    0.001870    0.000862    0.000070  ...    0.000325   \n",
       "23    0.001900    0.001764    0.000962    0.000434  ...    0.000425   \n",
       "\n",
       "    428.828600  428.939000  429.049500  429.159900  429.270300  429.380600  \\\n",
       "0     0.001721    0.004923    0.003764    0.001069    0.000188   -0.000245   \n",
       "1    -0.000633   -0.000929   -0.000934   -0.000485   -0.000438   -0.001200   \n",
       "2    -0.000319   -0.000437   -0.000497   -0.000020   -0.000095   -0.000618   \n",
       "3    -0.000420   -0.000335   -0.000562   -0.000090   -0.000270   -0.000825   \n",
       "4    -0.000316   -0.000706   -0.000500   -0.000089   -0.000213   -0.000574   \n",
       "5    -0.000184   -0.000098   -0.000164   -0.000065   -0.000170   -0.000652   \n",
       "6    -0.000264   -0.000513   -0.000529    0.000029    0.000076   -0.000625   \n",
       "7    -0.000105   -0.000136   -0.000052    0.000116    0.000011   -0.000311   \n",
       "8     0.000015   -0.000034   -0.000083    0.000113    0.000099   -0.000159   \n",
       "9    -0.000088   -0.000269   -0.000253    0.000022    0.000058   -0.000175   \n",
       "10    0.001358    0.003601    0.003035    0.001008    0.000249   -0.000153   \n",
       "11    0.000279    0.000772    0.000555    0.000422    0.000190   -0.000506   \n",
       "12   -0.000283   -0.000495   -0.000482   -0.000128   -0.000181   -0.000561   \n",
       "13   -0.000197   -0.000323   -0.000288    0.000018    0.000040   -0.000235   \n",
       "14    0.000603    0.001898    0.001447    0.000581    0.000204   -0.000249   \n",
       "15   -0.000561   -0.000886   -0.000877   -0.000191   -0.000161   -0.000929   \n",
       "16    0.000323    0.001012    0.000687    0.000282   -0.000059   -0.000536   \n",
       "17   -0.000224   -0.000413   -0.000411   -0.000110   -0.000012   -0.000391   \n",
       "18   -0.000129   -0.000302   -0.000403   -0.000248   -0.000276   -0.000485   \n",
       "19   -0.000228   -0.000365   -0.000334   -0.000025    0.000049   -0.000232   \n",
       "20   -0.000353   -0.000175   -0.000419   -0.000162   -0.000406   -0.000857   \n",
       "21   -0.000245   -0.000112   -0.000177   -0.000019   -0.000139   -0.000586   \n",
       "22   -0.000308   -0.000516   -0.000395    0.000028    0.000013   -0.000407   \n",
       "23    0.000111   -0.000050   -0.000028    0.000188    0.000199   -0.000045   \n",
       "\n",
       "    429.491000  429.601300  429.711600  \n",
       "0    -0.000420   -0.000480   -0.000328  \n",
       "1    -0.001419   -0.001679   -0.001496  \n",
       "2    -0.000748   -0.000897   -0.000763  \n",
       "3    -0.001128   -0.001327   -0.001101  \n",
       "4    -0.000726   -0.000858   -0.000666  \n",
       "5    -0.000780   -0.000873   -0.000697  \n",
       "6    -0.000945   -0.001089   -0.000953  \n",
       "7    -0.000540   -0.000697   -0.000556  \n",
       "8    -0.000174   -0.000329   -0.000161  \n",
       "9    -0.000349   -0.000454   -0.000300  \n",
       "10   -0.000273   -0.000344   -0.000222  \n",
       "11   -0.000641   -0.000868   -0.000623  \n",
       "12   -0.000704   -0.000741   -0.000641  \n",
       "13   -0.000379   -0.000453   -0.000376  \n",
       "14   -0.000378   -0.000542   -0.000384  \n",
       "15   -0.001030   -0.001298   -0.001124  \n",
       "16   -0.000701   -0.000772   -0.000709  \n",
       "17   -0.000467   -0.000573   -0.000527  \n",
       "18   -0.000551   -0.000669   -0.000670  \n",
       "19   -0.000383   -0.000595   -0.000399  \n",
       "20   -0.000920   -0.001006   -0.001004  \n",
       "21   -0.000715   -0.000832   -0.000687  \n",
       "22   -0.000524   -0.000664   -0.000536  \n",
       "23   -0.000111   -0.000245   -0.000114  \n",
       "\n",
       "[24 rows x 1446 columns]"
      ]
     },
     "execution_count": 5,
     "metadata": {},
     "output_type": "execute_result"
    }
   ],
   "source": [
    "x_df = pd.read_csv('avg_base_norm.csv', sep = ',')\n",
    "values = x_df.values\n",
    "#wl=x_df.columns.values\n",
    "#print(wl.shape)\n",
    "\n",
    "#print(values)\n",
    "#print(type(values))\n",
    "print(values.shape)\n",
    "print(values[1].shape)\n",
    "print(len(values))\n",
    "x_df"
   ]
  },
  {
   "cell_type": "code",
   "execution_count": 6,
   "metadata": {},
   "outputs": [
    {
     "name": "stdout",
     "output_type": "stream",
     "text": [
      "[252.0714 252.2017 252.3319 ... 429.491  429.6013 429.7116]\n"
     ]
    },
    {
     "data": {
      "image/png": "[encoded data removed]",
      "text/plain": [
       "<Figure size 432x288 with 1 Axes>"
      ]
     },
     "metadata": {
      "needs_background": "light"
     },
     "output_type": "display_data"
    }
   ],
   "source": [
    "#This is just for visualizing the various plots of the samples\n",
    "\n",
    "df = pd.read_csv('./ref_new/1.csv')\n",
    "data=df.values\n",
    "wl= data[0]\n",
    "print(wl)\n",
    "\n",
    "for i in range(len(values)):\n",
    "    plt.plot(wl, data[i,:])\n",
    "    #plt.show() #comment this one to have unique plot instead of multiple ones\n",
    "#range(len(dfs))\n",
    "#\"\"\"\n",
    "\n"
   ]
  },
  {
   "cell_type": "code",
   "execution_count": 7,
   "metadata": {},
   "outputs": [
    {
     "name": "stdout",
     "output_type": "stream",
     "text": [
      "<class 'pandas.core.frame.DataFrame'>\n",
      "(24, 9)\n"
     ]
    },
    {
     "data": {
      "text/html": [
       "<div>\n",
       "<style scoped>\n",
       "    .dataframe tbody tr th:only-of-type {\n",
       "        vertical-align: middle;\n",
       "    }\n",
       "\n",
       "    .dataframe tbody tr th {\n",
       "        vertical-align: top;\n",
       "    }\n",
       "\n",
       "    .dataframe thead th {\n",
       "        text-align: right;\n",
       "    }\n",
       "</style>\n",
       "<table border=\"1\" class=\"dataframe\">\n",
       "  <thead>\n",
       "    <tr style=\"text-align: right;\">\n",
       "      <th></th>\n",
       "      <th>Reference Number</th>\n",
       "      <th>Si</th>\n",
       "      <th>Fe</th>\n",
       "      <th>Mg</th>\n",
       "      <th>Cu</th>\n",
       "      <th>Zn</th>\n",
       "      <th>Mn</th>\n",
       "      <th>Al</th>\n",
       "      <th>Total</th>\n",
       "    </tr>\n",
       "  </thead>\n",
       "  <tbody>\n",
       "    <tr>\n",
       "      <th>0</th>\n",
       "      <td>1</td>\n",
       "      <td>0.185</td>\n",
       "      <td>0.228</td>\n",
       "      <td>2.940</td>\n",
       "      <td>0.0304</td>\n",
       "      <td>0.0620</td>\n",
       "      <td>0.280</td>\n",
       "      <td>96.0000</td>\n",
       "      <td>99.7254</td>\n",
       "    </tr>\n",
       "    <tr>\n",
       "      <th>1</th>\n",
       "      <td>2</td>\n",
       "      <td>0.360</td>\n",
       "      <td>0.600</td>\n",
       "      <td>1.100</td>\n",
       "      <td>0.0700</td>\n",
       "      <td>0.2000</td>\n",
       "      <td>0.830</td>\n",
       "      <td>96.5787</td>\n",
       "      <td>99.7387</td>\n",
       "    </tr>\n",
       "    <tr>\n",
       "      <th>2</th>\n",
       "      <td>3</td>\n",
       "      <td>9.140</td>\n",
       "      <td>1.010</td>\n",
       "      <td>0.200</td>\n",
       "      <td>0.4200</td>\n",
       "      <td>3.6000</td>\n",
       "      <td>0.410</td>\n",
       "      <td>84.7770</td>\n",
       "      <td>99.5570</td>\n",
       "    </tr>\n",
       "    <tr>\n",
       "      <th>3</th>\n",
       "      <td>4</td>\n",
       "      <td>8.565</td>\n",
       "      <td>0.000</td>\n",
       "      <td>0.293</td>\n",
       "      <td>0.8870</td>\n",
       "      <td>2.6360</td>\n",
       "      <td>0.330</td>\n",
       "      <td>86.5650</td>\n",
       "      <td>99.2760</td>\n",
       "    </tr>\n",
       "    <tr>\n",
       "      <th>4</th>\n",
       "      <td>5</td>\n",
       "      <td>9.500</td>\n",
       "      <td>0.000</td>\n",
       "      <td>0.391</td>\n",
       "      <td>0.0000</td>\n",
       "      <td>0.0580</td>\n",
       "      <td>0.016</td>\n",
       "      <td>90.0210</td>\n",
       "      <td>99.9860</td>\n",
       "    </tr>\n",
       "    <tr>\n",
       "      <th>5</th>\n",
       "      <td>6</td>\n",
       "      <td>7.220</td>\n",
       "      <td>0.140</td>\n",
       "      <td>0.360</td>\n",
       "      <td>0.0840</td>\n",
       "      <td>0.1200</td>\n",
       "      <td>0.053</td>\n",
       "      <td>91.8090</td>\n",
       "      <td>99.7860</td>\n",
       "    </tr>\n",
       "    <tr>\n",
       "      <th>6</th>\n",
       "      <td>7</td>\n",
       "      <td>7.460</td>\n",
       "      <td>0.530</td>\n",
       "      <td>0.036</td>\n",
       "      <td>0.1400</td>\n",
       "      <td>0.1500</td>\n",
       "      <td>0.100</td>\n",
       "      <td>91.4140</td>\n",
       "      <td>99.8300</td>\n",
       "    </tr>\n",
       "    <tr>\n",
       "      <th>7</th>\n",
       "      <td>8</td>\n",
       "      <td>12.900</td>\n",
       "      <td>0.120</td>\n",
       "      <td>0.520</td>\n",
       "      <td>0.1550</td>\n",
       "      <td>0.5200</td>\n",
       "      <td>0.286</td>\n",
       "      <td>84.7905</td>\n",
       "      <td>99.2915</td>\n",
       "    </tr>\n",
       "    <tr>\n",
       "      <th>8</th>\n",
       "      <td>9</td>\n",
       "      <td>8.750</td>\n",
       "      <td>0.460</td>\n",
       "      <td>1.710</td>\n",
       "      <td>0.0290</td>\n",
       "      <td>2.0000</td>\n",
       "      <td>0.056</td>\n",
       "      <td>85.3100</td>\n",
       "      <td>98.3150</td>\n",
       "    </tr>\n",
       "    <tr>\n",
       "      <th>9</th>\n",
       "      <td>10</td>\n",
       "      <td>0.260</td>\n",
       "      <td>0.420</td>\n",
       "      <td>1.260</td>\n",
       "      <td>0.0200</td>\n",
       "      <td>0.0040</td>\n",
       "      <td>1.160</td>\n",
       "      <td>96.8346</td>\n",
       "      <td>99.9586</td>\n",
       "    </tr>\n",
       "    <tr>\n",
       "      <th>10</th>\n",
       "      <td>11</td>\n",
       "      <td>0.070</td>\n",
       "      <td>0.100</td>\n",
       "      <td>0.410</td>\n",
       "      <td>0.1800</td>\n",
       "      <td>0.0600</td>\n",
       "      <td>1.450</td>\n",
       "      <td>97.6000</td>\n",
       "      <td>99.8700</td>\n",
       "    </tr>\n",
       "    <tr>\n",
       "      <th>11</th>\n",
       "      <td>12</td>\n",
       "      <td>0.160</td>\n",
       "      <td>0.310</td>\n",
       "      <td>0.880</td>\n",
       "      <td>0.1000</td>\n",
       "      <td>0.1100</td>\n",
       "      <td>1.140</td>\n",
       "      <td>97.1500</td>\n",
       "      <td>99.8500</td>\n",
       "    </tr>\n",
       "    <tr>\n",
       "      <th>12</th>\n",
       "      <td>13</td>\n",
       "      <td>6.120</td>\n",
       "      <td>0.000</td>\n",
       "      <td>0.320</td>\n",
       "      <td>0.0000</td>\n",
       "      <td>0.0054</td>\n",
       "      <td>0.016</td>\n",
       "      <td>93.5352</td>\n",
       "      <td>99.9966</td>\n",
       "    </tr>\n",
       "    <tr>\n",
       "      <th>13</th>\n",
       "      <td>14</td>\n",
       "      <td>12.530</td>\n",
       "      <td>0.310</td>\n",
       "      <td>0.025</td>\n",
       "      <td>0.0500</td>\n",
       "      <td>0.0560</td>\n",
       "      <td>0.033</td>\n",
       "      <td>86.8180</td>\n",
       "      <td>99.8220</td>\n",
       "    </tr>\n",
       "    <tr>\n",
       "      <th>14</th>\n",
       "      <td>15</td>\n",
       "      <td>0.530</td>\n",
       "      <td>0.230</td>\n",
       "      <td>0.770</td>\n",
       "      <td>0.0310</td>\n",
       "      <td>0.0060</td>\n",
       "      <td>0.024</td>\n",
       "      <td>98.3881</td>\n",
       "      <td>99.9791</td>\n",
       "    </tr>\n",
       "    <tr>\n",
       "      <th>15</th>\n",
       "      <td>16</td>\n",
       "      <td>0.160</td>\n",
       "      <td>0.200</td>\n",
       "      <td>4.540</td>\n",
       "      <td>0.0520</td>\n",
       "      <td>0.0500</td>\n",
       "      <td>0.380</td>\n",
       "      <td>94.5340</td>\n",
       "      <td>99.9160</td>\n",
       "    </tr>\n",
       "    <tr>\n",
       "      <th>16</th>\n",
       "      <td>17</td>\n",
       "      <td>3.000</td>\n",
       "      <td>0.795</td>\n",
       "      <td>0.570</td>\n",
       "      <td>0.1540</td>\n",
       "      <td>4.2900</td>\n",
       "      <td>0.037</td>\n",
       "      <td>90.4640</td>\n",
       "      <td>99.3100</td>\n",
       "    </tr>\n",
       "    <tr>\n",
       "      <th>17</th>\n",
       "      <td>18</td>\n",
       "      <td>9.460</td>\n",
       "      <td>1.190</td>\n",
       "      <td>0.390</td>\n",
       "      <td>0.1600</td>\n",
       "      <td>3.1000</td>\n",
       "      <td>0.260</td>\n",
       "      <td>84.8070</td>\n",
       "      <td>99.3670</td>\n",
       "    </tr>\n",
       "    <tr>\n",
       "      <th>18</th>\n",
       "      <td>19</td>\n",
       "      <td>0.530</td>\n",
       "      <td>0.180</td>\n",
       "      <td>3.570</td>\n",
       "      <td>5.0600</td>\n",
       "      <td>1.9000</td>\n",
       "      <td>0.130</td>\n",
       "      <td>88.2100</td>\n",
       "      <td>99.5800</td>\n",
       "    </tr>\n",
       "    <tr>\n",
       "      <th>19</th>\n",
       "      <td>24</td>\n",
       "      <td>9.190</td>\n",
       "      <td>0.000</td>\n",
       "      <td>0.339</td>\n",
       "      <td>0.0000</td>\n",
       "      <td>0.0057</td>\n",
       "      <td>0.008</td>\n",
       "      <td>90.4538</td>\n",
       "      <td>99.9965</td>\n",
       "    </tr>\n",
       "    <tr>\n",
       "      <th>20</th>\n",
       "      <td>25</td>\n",
       "      <td>6.160</td>\n",
       "      <td>0.000</td>\n",
       "      <td>0.363</td>\n",
       "      <td>0.0000</td>\n",
       "      <td>0.0060</td>\n",
       "      <td>0.206</td>\n",
       "      <td>93.2574</td>\n",
       "      <td>99.9924</td>\n",
       "    </tr>\n",
       "    <tr>\n",
       "      <th>21</th>\n",
       "      <td>26</td>\n",
       "      <td>0.180</td>\n",
       "      <td>0.205</td>\n",
       "      <td>2.480</td>\n",
       "      <td>5.4400</td>\n",
       "      <td>1.6000</td>\n",
       "      <td>0.079</td>\n",
       "      <td>89.8430</td>\n",
       "      <td>99.8270</td>\n",
       "    </tr>\n",
       "    <tr>\n",
       "      <th>22</th>\n",
       "      <td>28</td>\n",
       "      <td>0.180</td>\n",
       "      <td>0.500</td>\n",
       "      <td>1.110</td>\n",
       "      <td>0.0520</td>\n",
       "      <td>0.1500</td>\n",
       "      <td>1.260</td>\n",
       "      <td>96.7210</td>\n",
       "      <td>99.9730</td>\n",
       "    </tr>\n",
       "    <tr>\n",
       "      <th>23</th>\n",
       "      <td>29</td>\n",
       "      <td>0.180</td>\n",
       "      <td>0.350</td>\n",
       "      <td>2.030</td>\n",
       "      <td>6.0800</td>\n",
       "      <td>1.3500</td>\n",
       "      <td>0.450</td>\n",
       "      <td>89.3900</td>\n",
       "      <td>99.8300</td>\n",
       "    </tr>\n",
       "  </tbody>\n",
       "</table>\n",
       "</div>"
      ],
      "text/plain": [
       "    Reference Number      Si     Fe     Mg     Cu       Zn     Mn       Al  \\\n",
       "0                  1   0.185  0.228  2.940  0.0304  0.0620  0.280  96.0000   \n",
       "1                  2   0.360  0.600  1.100  0.0700  0.2000  0.830  96.5787   \n",
       "2                  3   9.140  1.010  0.200  0.4200  3.6000  0.410  84.7770   \n",
       "3                  4   8.565  0.000  0.293  0.8870  2.6360  0.330  86.5650   \n",
       "4                  5   9.500  0.000  0.391  0.0000  0.0580  0.016  90.0210   \n",
       "5                  6   7.220  0.140  0.360  0.0840  0.1200  0.053  91.8090   \n",
       "6                  7   7.460  0.530  0.036  0.1400  0.1500  0.100  91.4140   \n",
       "7                  8  12.900  0.120  0.520  0.1550  0.5200  0.286  84.7905   \n",
       "8                  9   8.750  0.460  1.710  0.0290  2.0000  0.056  85.3100   \n",
       "9                 10   0.260  0.420  1.260  0.0200  0.0040  1.160  96.8346   \n",
       "10                11   0.070  0.100  0.410  0.1800  0.0600  1.450  97.6000   \n",
       "11                12   0.160  0.310  0.880  0.1000  0.1100  1.140  97.1500   \n",
       "12                13   6.120  0.000  0.320  0.0000  0.0054  0.016  93.5352   \n",
       "13                14  12.530  0.310  0.025  0.0500  0.0560  0.033  86.8180   \n",
       "14                15   0.530  0.230  0.770  0.0310  0.0060  0.024  98.3881   \n",
       "15                16   0.160  0.200  4.540  0.0520  0.0500  0.380  94.5340   \n",
       "16                17   3.000  0.795  0.570  0.1540  4.2900  0.037  90.4640   \n",
       "17                18   9.460  1.190  0.390  0.1600  3.1000  0.260  84.8070   \n",
       "18                19   0.530  0.180  3.570  5.0600  1.9000  0.130  88.2100   \n",
       "19                24   9.190  0.000  0.339  0.0000  0.0057  0.008  90.4538   \n",
       "20                25   6.160  0.000  0.363  0.0000  0.0060  0.206  93.2574   \n",
       "21                26   0.180  0.205  2.480  5.4400  1.6000  0.079  89.8430   \n",
       "22                28   0.180  0.500  1.110  0.0520  0.1500  1.260  96.7210   \n",
       "23                29   0.180  0.350  2.030  6.0800  1.3500  0.450  89.3900   \n",
       "\n",
       "      Total  \n",
       "0   99.7254  \n",
       "1   99.7387  \n",
       "2   99.5570  \n",
       "3   99.2760  \n",
       "4   99.9860  \n",
       "5   99.7860  \n",
       "6   99.8300  \n",
       "7   99.2915  \n",
       "8   98.3150  \n",
       "9   99.9586  \n",
       "10  99.8700  \n",
       "11  99.8500  \n",
       "12  99.9966  \n",
       "13  99.8220  \n",
       "14  99.9791  \n",
       "15  99.9160  \n",
       "16  99.3100  \n",
       "17  99.3670  \n",
       "18  99.5800  \n",
       "19  99.9965  \n",
       "20  99.9924  \n",
       "21  99.8270  \n",
       "22  99.9730  \n",
       "23  99.8300  "
      ]
     },
     "execution_count": 7,
     "metadata": {},
     "output_type": "execute_result"
    }
   ],
   "source": [
    "df_y = pd.read_csv('concentration_1.csv', sep = ',')\n",
    "print(type(df_y))\n",
    "concentration=df_y.values\n",
    "print(concentration.shape)\n",
    "#print(concentration)\n",
    "\n",
    "y_values=df_y.values\n",
    "y_all=pd.DataFrame(y_values[:,1:-2])\n",
    "#print(y_all)\n",
    "df_y"
   ]
  },
  {
   "cell_type": "code",
   "execution_count": 8,
   "metadata": {
    "scrolled": true
   },
   "outputs": [
    {
     "name": "stdout",
     "output_type": "stream",
     "text": [
      "[2.94  1.1   0.2   0.293 0.391 0.36  0.036 0.52  1.71  1.26  0.41  0.88\n",
      " 0.32  0.025 0.77  4.54  0.57  0.39  3.57  0.339 0.363 2.48  1.11  2.03 ]\n",
      "(24,)\n"
     ]
    }
   ],
   "source": [
    "y_val = concentration[:,3]\n",
    "print(y_val)\n",
    "print(y_val.shape)\n",
    "y_df= pd.DataFrame(y_val)\n",
    "#y_df"
   ]
  },
  {
   "cell_type": "code",
   "execution_count": 9,
   "metadata": {},
   "outputs": [
    {
     "data": {
      "text/plain": [
       "[251.59, 288.12, 390.6]"
      ]
     },
     "execution_count": 9,
     "metadata": {},
     "output_type": "execute_result"
    }
   ],
   "source": [
    "target = [251.59, 288.12, 390.60]\n",
    "target"
   ]
  },
  {
   "cell_type": "code",
   "execution_count": 10,
   "metadata": {},
   "outputs": [
    {
     "name": "stdout",
     "output_type": "stream",
     "text": [
      "number of selected wavelengths:  56 \n",
      "\n",
      "[252.0714, 252.2017, 252.3319, 252.4622, 252.5924, 252.7226, 252.8529, 252.9831, 286.6869, 286.8158, 286.9447, 287.0735, 287.2024, 287.3313, 287.4601, 287.5889, 287.7178, 287.8466, 287.9754, 288.1042, 288.233, 288.3618, 288.4906, 288.6194, 288.7482, 288.8769, 289.0057, 289.1345, 289.2632, 289.3919, 289.5207, 389.203, 389.3212, 389.4394, 389.5576, 389.6757, 389.7939, 389.912, 390.0301, 390.1481, 390.2662, 390.3842, 390.5023, 390.6203, 390.7382, 390.8562, 390.9741, 391.0921, 391.21, 391.3278, 391.4457, 391.5635, 391.6814, 391.7992, 391.917, 392.0347] \n",
      "\n",
      "[0, 1, 2, 3, 4, 5, 6, 7, 267, 268, 269, 270, 271, 272, 273, 274, 275, 276, 277, 278, 279, 280, 281, 282, 283, 284, 285, 286, 287, 288, 289, 1091, 1092, 1093, 1094, 1095, 1096, 1097, 1098, 1099, 1100, 1101, 1102, 1103, 1104, 1105, 1106, 1107, 1108, 1109, 1110, 1111, 1112, 1113, 1114, 1115]\n"
     ]
    }
   ],
   "source": [
    "a = []\n",
    "b = []\n",
    "for t in target:\n",
    "    for i in range(len(wl)):\n",
    "        if abs(wl[i]-t) < 1.5:\n",
    "            a.append(wl[i])\n",
    "            b.append(i)\n",
    "            \n",
    "print(\"number of selected wavelengths: \",len(a), \"\\n\")\n",
    "print(a, \"\\n\")\n",
    "print(b)"
   ]
  },
  {
   "cell_type": "code",
   "execution_count": 29,
   "metadata": {},
   "outputs": [
    {
     "name": "stdout",
     "output_type": "stream",
     "text": [
      "(24, 1446)\n"
     ]
    },
    {
     "data": {
      "text/html": [
       "<div>\n",
       "<style scoped>\n",
       "    .dataframe tbody tr th:only-of-type {\n",
       "        vertical-align: middle;\n",
       "    }\n",
       "\n",
       "    .dataframe tbody tr th {\n",
       "        vertical-align: top;\n",
       "    }\n",
       "\n",
       "    .dataframe thead th {\n",
       "        text-align: right;\n",
       "    }\n",
       "</style>\n",
       "<table border=\"1\" class=\"dataframe\">\n",
       "  <thead>\n",
       "    <tr style=\"text-align: right;\">\n",
       "      <th></th>\n",
       "      <th>0</th>\n",
       "      <th>1</th>\n",
       "      <th>2</th>\n",
       "      <th>3</th>\n",
       "      <th>4</th>\n",
       "      <th>5</th>\n",
       "      <th>6</th>\n",
       "      <th>7</th>\n",
       "      <th>8</th>\n",
       "      <th>9</th>\n",
       "      <th>...</th>\n",
       "      <th>46</th>\n",
       "      <th>47</th>\n",
       "      <th>48</th>\n",
       "      <th>49</th>\n",
       "      <th>50</th>\n",
       "      <th>51</th>\n",
       "      <th>52</th>\n",
       "      <th>53</th>\n",
       "      <th>54</th>\n",
       "      <th>55</th>\n",
       "    </tr>\n",
       "  </thead>\n",
       "  <tbody>\n",
       "    <tr>\n",
       "      <th>0</th>\n",
       "      <td>-0.000051</td>\n",
       "      <td>-0.000137</td>\n",
       "      <td>-0.000348</td>\n",
       "      <td>0.000134</td>\n",
       "      <td>-0.000060</td>\n",
       "      <td>-0.000077</td>\n",
       "      <td>0.000103</td>\n",
       "      <td>0.000288</td>\n",
       "      <td>-0.000112</td>\n",
       "      <td>-0.000165</td>\n",
       "      <td>...</td>\n",
       "      <td>0.007227</td>\n",
       "      <td>0.007327</td>\n",
       "      <td>0.007341</td>\n",
       "      <td>0.007692</td>\n",
       "      <td>0.007941</td>\n",
       "      <td>0.008409</td>\n",
       "      <td>0.008798</td>\n",
       "      <td>0.009385</td>\n",
       "      <td>0.010252</td>\n",
       "      <td>0.010720</td>\n",
       "    </tr>\n",
       "    <tr>\n",
       "      <th>1</th>\n",
       "      <td>-0.001183</td>\n",
       "      <td>-0.001046</td>\n",
       "      <td>-0.001689</td>\n",
       "      <td>-0.000682</td>\n",
       "      <td>-0.000926</td>\n",
       "      <td>-0.001222</td>\n",
       "      <td>-0.000757</td>\n",
       "      <td>-0.000432</td>\n",
       "      <td>-0.001589</td>\n",
       "      <td>-0.001217</td>\n",
       "      <td>...</td>\n",
       "      <td>0.004913</td>\n",
       "      <td>0.004809</td>\n",
       "      <td>0.005029</td>\n",
       "      <td>0.005381</td>\n",
       "      <td>0.005397</td>\n",
       "      <td>0.006014</td>\n",
       "      <td>0.006409</td>\n",
       "      <td>0.006595</td>\n",
       "      <td>0.007521</td>\n",
       "      <td>0.007988</td>\n",
       "    </tr>\n",
       "    <tr>\n",
       "      <th>2</th>\n",
       "      <td>-0.000382</td>\n",
       "      <td>-0.000548</td>\n",
       "      <td>-0.001030</td>\n",
       "      <td>-0.000186</td>\n",
       "      <td>-0.000471</td>\n",
       "      <td>-0.000625</td>\n",
       "      <td>-0.000407</td>\n",
       "      <td>0.000065</td>\n",
       "      <td>-0.001242</td>\n",
       "      <td>-0.001063</td>\n",
       "      <td>...</td>\n",
       "      <td>0.005611</td>\n",
       "      <td>0.005747</td>\n",
       "      <td>0.005737</td>\n",
       "      <td>0.006017</td>\n",
       "      <td>0.006289</td>\n",
       "      <td>0.006844</td>\n",
       "      <td>0.007219</td>\n",
       "      <td>0.007418</td>\n",
       "      <td>0.008370</td>\n",
       "      <td>0.008860</td>\n",
       "    </tr>\n",
       "    <tr>\n",
       "      <th>3</th>\n",
       "      <td>-0.000632</td>\n",
       "      <td>-0.000785</td>\n",
       "      <td>-0.001162</td>\n",
       "      <td>-0.000292</td>\n",
       "      <td>-0.000639</td>\n",
       "      <td>-0.000852</td>\n",
       "      <td>-0.000558</td>\n",
       "      <td>-0.000084</td>\n",
       "      <td>-0.001209</td>\n",
       "      <td>-0.001077</td>\n",
       "      <td>...</td>\n",
       "      <td>0.005954</td>\n",
       "      <td>0.005963</td>\n",
       "      <td>0.006061</td>\n",
       "      <td>0.006496</td>\n",
       "      <td>0.006746</td>\n",
       "      <td>0.007322</td>\n",
       "      <td>0.007612</td>\n",
       "      <td>0.007802</td>\n",
       "      <td>0.008897</td>\n",
       "      <td>0.009378</td>\n",
       "    </tr>\n",
       "    <tr>\n",
       "      <th>4</th>\n",
       "      <td>0.000615</td>\n",
       "      <td>0.000247</td>\n",
       "      <td>0.000025</td>\n",
       "      <td>0.000840</td>\n",
       "      <td>0.000589</td>\n",
       "      <td>0.000853</td>\n",
       "      <td>0.001643</td>\n",
       "      <td>0.001616</td>\n",
       "      <td>-0.001052</td>\n",
       "      <td>-0.000853</td>\n",
       "      <td>...</td>\n",
       "      <td>0.007588</td>\n",
       "      <td>0.007138</td>\n",
       "      <td>0.006655</td>\n",
       "      <td>0.006675</td>\n",
       "      <td>0.006816</td>\n",
       "      <td>0.007139</td>\n",
       "      <td>0.007304</td>\n",
       "      <td>0.007460</td>\n",
       "      <td>0.008203</td>\n",
       "      <td>0.008617</td>\n",
       "    </tr>\n",
       "    <tr>\n",
       "      <th>5</th>\n",
       "      <td>0.000623</td>\n",
       "      <td>0.000112</td>\n",
       "      <td>-0.000077</td>\n",
       "      <td>0.000916</td>\n",
       "      <td>0.000636</td>\n",
       "      <td>0.000809</td>\n",
       "      <td>0.001711</td>\n",
       "      <td>0.001559</td>\n",
       "      <td>-0.001166</td>\n",
       "      <td>-0.000986</td>\n",
       "      <td>...</td>\n",
       "      <td>0.007252</td>\n",
       "      <td>0.006801</td>\n",
       "      <td>0.006435</td>\n",
       "      <td>0.006619</td>\n",
       "      <td>0.006538</td>\n",
       "      <td>0.006974</td>\n",
       "      <td>0.007067</td>\n",
       "      <td>0.007287</td>\n",
       "      <td>0.008081</td>\n",
       "      <td>0.008409</td>\n",
       "    </tr>\n",
       "    <tr>\n",
       "      <th>6</th>\n",
       "      <td>-0.000321</td>\n",
       "      <td>-0.000409</td>\n",
       "      <td>-0.000991</td>\n",
       "      <td>0.000060</td>\n",
       "      <td>-0.000408</td>\n",
       "      <td>-0.000826</td>\n",
       "      <td>-0.000322</td>\n",
       "      <td>0.000093</td>\n",
       "      <td>-0.001324</td>\n",
       "      <td>-0.001059</td>\n",
       "      <td>...</td>\n",
       "      <td>0.005149</td>\n",
       "      <td>0.005162</td>\n",
       "      <td>0.004800</td>\n",
       "      <td>0.005468</td>\n",
       "      <td>0.005582</td>\n",
       "      <td>0.006197</td>\n",
       "      <td>0.006383</td>\n",
       "      <td>0.006366</td>\n",
       "      <td>0.007529</td>\n",
       "      <td>0.007818</td>\n",
       "    </tr>\n",
       "    <tr>\n",
       "      <th>7</th>\n",
       "      <td>-0.000210</td>\n",
       "      <td>-0.000352</td>\n",
       "      <td>-0.000602</td>\n",
       "      <td>0.000056</td>\n",
       "      <td>-0.000297</td>\n",
       "      <td>-0.000301</td>\n",
       "      <td>-0.000004</td>\n",
       "      <td>0.000193</td>\n",
       "      <td>-0.000066</td>\n",
       "      <td>0.000048</td>\n",
       "      <td>...</td>\n",
       "      <td>0.006258</td>\n",
       "      <td>0.006245</td>\n",
       "      <td>0.005997</td>\n",
       "      <td>0.006438</td>\n",
       "      <td>0.006420</td>\n",
       "      <td>0.006790</td>\n",
       "      <td>0.006929</td>\n",
       "      <td>0.006966</td>\n",
       "      <td>0.007848</td>\n",
       "      <td>0.008162</td>\n",
       "    </tr>\n",
       "    <tr>\n",
       "      <th>8</th>\n",
       "      <td>0.000343</td>\n",
       "      <td>0.000048</td>\n",
       "      <td>-0.000111</td>\n",
       "      <td>0.000531</td>\n",
       "      <td>0.000399</td>\n",
       "      <td>0.000530</td>\n",
       "      <td>0.001000</td>\n",
       "      <td>0.001059</td>\n",
       "      <td>-0.000974</td>\n",
       "      <td>-0.000937</td>\n",
       "      <td>...</td>\n",
       "      <td>0.006458</td>\n",
       "      <td>0.006347</td>\n",
       "      <td>0.006166</td>\n",
       "      <td>0.006577</td>\n",
       "      <td>0.006734</td>\n",
       "      <td>0.007114</td>\n",
       "      <td>0.007376</td>\n",
       "      <td>0.007740</td>\n",
       "      <td>0.008538</td>\n",
       "      <td>0.008981</td>\n",
       "    </tr>\n",
       "    <tr>\n",
       "      <th>9</th>\n",
       "      <td>0.000988</td>\n",
       "      <td>0.000493</td>\n",
       "      <td>0.000385</td>\n",
       "      <td>0.001313</td>\n",
       "      <td>0.001123</td>\n",
       "      <td>0.001451</td>\n",
       "      <td>0.002381</td>\n",
       "      <td>0.002267</td>\n",
       "      <td>-0.001265</td>\n",
       "      <td>-0.001069</td>\n",
       "      <td>...</td>\n",
       "      <td>0.007922</td>\n",
       "      <td>0.007301</td>\n",
       "      <td>0.006884</td>\n",
       "      <td>0.007085</td>\n",
       "      <td>0.007126</td>\n",
       "      <td>0.007400</td>\n",
       "      <td>0.007644</td>\n",
       "      <td>0.007914</td>\n",
       "      <td>0.008691</td>\n",
       "      <td>0.009126</td>\n",
       "    </tr>\n",
       "    <tr>\n",
       "      <th>10</th>\n",
       "      <td>0.000182</td>\n",
       "      <td>-0.000027</td>\n",
       "      <td>-0.000218</td>\n",
       "      <td>0.000384</td>\n",
       "      <td>0.000177</td>\n",
       "      <td>0.000243</td>\n",
       "      <td>0.000681</td>\n",
       "      <td>0.000735</td>\n",
       "      <td>0.000918</td>\n",
       "      <td>0.000907</td>\n",
       "      <td>...</td>\n",
       "      <td>0.008399</td>\n",
       "      <td>0.008139</td>\n",
       "      <td>0.007860</td>\n",
       "      <td>0.007894</td>\n",
       "      <td>0.007810</td>\n",
       "      <td>0.007973</td>\n",
       "      <td>0.008045</td>\n",
       "      <td>0.008254</td>\n",
       "      <td>0.008713</td>\n",
       "      <td>0.008815</td>\n",
       "    </tr>\n",
       "    <tr>\n",
       "      <th>11</th>\n",
       "      <td>-0.000028</td>\n",
       "      <td>-0.000407</td>\n",
       "      <td>-0.000766</td>\n",
       "      <td>0.000250</td>\n",
       "      <td>-0.000334</td>\n",
       "      <td>-0.000639</td>\n",
       "      <td>-0.000157</td>\n",
       "      <td>0.000295</td>\n",
       "      <td>-0.001481</td>\n",
       "      <td>-0.001050</td>\n",
       "      <td>...</td>\n",
       "      <td>0.005623</td>\n",
       "      <td>0.005530</td>\n",
       "      <td>0.005515</td>\n",
       "      <td>0.006210</td>\n",
       "      <td>0.006023</td>\n",
       "      <td>0.006801</td>\n",
       "      <td>0.006777</td>\n",
       "      <td>0.007168</td>\n",
       "      <td>0.008287</td>\n",
       "      <td>0.008559</td>\n",
       "    </tr>\n",
       "    <tr>\n",
       "      <th>12</th>\n",
       "      <td>0.000625</td>\n",
       "      <td>0.000224</td>\n",
       "      <td>0.000072</td>\n",
       "      <td>0.000822</td>\n",
       "      <td>0.000589</td>\n",
       "      <td>0.000845</td>\n",
       "      <td>0.001587</td>\n",
       "      <td>0.001582</td>\n",
       "      <td>-0.000983</td>\n",
       "      <td>-0.000844</td>\n",
       "      <td>...</td>\n",
       "      <td>0.007493</td>\n",
       "      <td>0.007061</td>\n",
       "      <td>0.006770</td>\n",
       "      <td>0.006915</td>\n",
       "      <td>0.006940</td>\n",
       "      <td>0.007285</td>\n",
       "      <td>0.007433</td>\n",
       "      <td>0.007673</td>\n",
       "      <td>0.008361</td>\n",
       "      <td>0.008772</td>\n",
       "    </tr>\n",
       "    <tr>\n",
       "      <th>13</th>\n",
       "      <td>0.000907</td>\n",
       "      <td>0.000443</td>\n",
       "      <td>0.000305</td>\n",
       "      <td>0.001129</td>\n",
       "      <td>0.000921</td>\n",
       "      <td>0.001172</td>\n",
       "      <td>0.001886</td>\n",
       "      <td>0.001899</td>\n",
       "      <td>-0.000851</td>\n",
       "      <td>-0.000740</td>\n",
       "      <td>...</td>\n",
       "      <td>0.008117</td>\n",
       "      <td>0.007685</td>\n",
       "      <td>0.007278</td>\n",
       "      <td>0.007461</td>\n",
       "      <td>0.007577</td>\n",
       "      <td>0.007923</td>\n",
       "      <td>0.008119</td>\n",
       "      <td>0.008412</td>\n",
       "      <td>0.009159</td>\n",
       "      <td>0.009558</td>\n",
       "    </tr>\n",
       "    <tr>\n",
       "      <th>14</th>\n",
       "      <td>-0.000115</td>\n",
       "      <td>-0.000338</td>\n",
       "      <td>-0.000499</td>\n",
       "      <td>0.000151</td>\n",
       "      <td>-0.000106</td>\n",
       "      <td>-0.000236</td>\n",
       "      <td>0.000134</td>\n",
       "      <td>0.000411</td>\n",
       "      <td>-0.000208</td>\n",
       "      <td>-0.000131</td>\n",
       "      <td>...</td>\n",
       "      <td>0.005930</td>\n",
       "      <td>0.005924</td>\n",
       "      <td>0.005765</td>\n",
       "      <td>0.006055</td>\n",
       "      <td>0.006202</td>\n",
       "      <td>0.006554</td>\n",
       "      <td>0.006712</td>\n",
       "      <td>0.006908</td>\n",
       "      <td>0.007556</td>\n",
       "      <td>0.007926</td>\n",
       "    </tr>\n",
       "    <tr>\n",
       "      <th>15</th>\n",
       "      <td>-0.000561</td>\n",
       "      <td>-0.000617</td>\n",
       "      <td>-0.001229</td>\n",
       "      <td>-0.000199</td>\n",
       "      <td>-0.000648</td>\n",
       "      <td>-0.000941</td>\n",
       "      <td>-0.000549</td>\n",
       "      <td>-0.000027</td>\n",
       "      <td>-0.001381</td>\n",
       "      <td>-0.001064</td>\n",
       "      <td>...</td>\n",
       "      <td>0.005457</td>\n",
       "      <td>0.005544</td>\n",
       "      <td>0.005348</td>\n",
       "      <td>0.005907</td>\n",
       "      <td>0.005960</td>\n",
       "      <td>0.006519</td>\n",
       "      <td>0.006891</td>\n",
       "      <td>0.006928</td>\n",
       "      <td>0.008071</td>\n",
       "      <td>0.008449</td>\n",
       "    </tr>\n",
       "    <tr>\n",
       "      <th>16</th>\n",
       "      <td>-0.000432</td>\n",
       "      <td>-0.000508</td>\n",
       "      <td>-0.000791</td>\n",
       "      <td>-0.000168</td>\n",
       "      <td>-0.000378</td>\n",
       "      <td>-0.000412</td>\n",
       "      <td>-0.000126</td>\n",
       "      <td>0.000150</td>\n",
       "      <td>-0.000486</td>\n",
       "      <td>-0.000379</td>\n",
       "      <td>...</td>\n",
       "      <td>0.005392</td>\n",
       "      <td>0.005460</td>\n",
       "      <td>0.005405</td>\n",
       "      <td>0.005665</td>\n",
       "      <td>0.005690</td>\n",
       "      <td>0.006178</td>\n",
       "      <td>0.006288</td>\n",
       "      <td>0.006622</td>\n",
       "      <td>0.007311</td>\n",
       "      <td>0.007571</td>\n",
       "    </tr>\n",
       "    <tr>\n",
       "      <th>17</th>\n",
       "      <td>0.000612</td>\n",
       "      <td>0.000181</td>\n",
       "      <td>-0.000038</td>\n",
       "      <td>0.000808</td>\n",
       "      <td>0.000638</td>\n",
       "      <td>0.000927</td>\n",
       "      <td>0.001679</td>\n",
       "      <td>0.001699</td>\n",
       "      <td>-0.001392</td>\n",
       "      <td>-0.001203</td>\n",
       "      <td>...</td>\n",
       "      <td>0.006768</td>\n",
       "      <td>0.006360</td>\n",
       "      <td>0.006099</td>\n",
       "      <td>0.006141</td>\n",
       "      <td>0.006132</td>\n",
       "      <td>0.006349</td>\n",
       "      <td>0.006575</td>\n",
       "      <td>0.006756</td>\n",
       "      <td>0.007442</td>\n",
       "      <td>0.007858</td>\n",
       "    </tr>\n",
       "    <tr>\n",
       "      <th>18</th>\n",
       "      <td>0.000496</td>\n",
       "      <td>0.000093</td>\n",
       "      <td>-0.000019</td>\n",
       "      <td>0.000710</td>\n",
       "      <td>0.000490</td>\n",
       "      <td>0.000876</td>\n",
       "      <td>0.001602</td>\n",
       "      <td>0.001556</td>\n",
       "      <td>-0.001260</td>\n",
       "      <td>-0.001114</td>\n",
       "      <td>...</td>\n",
       "      <td>0.007163</td>\n",
       "      <td>0.006827</td>\n",
       "      <td>0.006554</td>\n",
       "      <td>0.006762</td>\n",
       "      <td>0.006797</td>\n",
       "      <td>0.007164</td>\n",
       "      <td>0.007385</td>\n",
       "      <td>0.007630</td>\n",
       "      <td>0.008378</td>\n",
       "      <td>0.008877</td>\n",
       "    </tr>\n",
       "    <tr>\n",
       "      <th>19</th>\n",
       "      <td>0.001141</td>\n",
       "      <td>0.000566</td>\n",
       "      <td>0.000333</td>\n",
       "      <td>0.001175</td>\n",
       "      <td>0.000908</td>\n",
       "      <td>0.001242</td>\n",
       "      <td>0.001995</td>\n",
       "      <td>0.001971</td>\n",
       "      <td>-0.000754</td>\n",
       "      <td>-0.000597</td>\n",
       "      <td>...</td>\n",
       "      <td>0.007187</td>\n",
       "      <td>0.006533</td>\n",
       "      <td>0.006179</td>\n",
       "      <td>0.006265</td>\n",
       "      <td>0.006244</td>\n",
       "      <td>0.006551</td>\n",
       "      <td>0.006683</td>\n",
       "      <td>0.006875</td>\n",
       "      <td>0.007539</td>\n",
       "      <td>0.007903</td>\n",
       "    </tr>\n",
       "    <tr>\n",
       "      <th>20</th>\n",
       "      <td>-0.000099</td>\n",
       "      <td>-0.000542</td>\n",
       "      <td>-0.000720</td>\n",
       "      <td>0.000261</td>\n",
       "      <td>-0.000010</td>\n",
       "      <td>0.000159</td>\n",
       "      <td>0.000746</td>\n",
       "      <td>0.000917</td>\n",
       "      <td>-0.001464</td>\n",
       "      <td>-0.001164</td>\n",
       "      <td>...</td>\n",
       "      <td>0.005775</td>\n",
       "      <td>0.005560</td>\n",
       "      <td>0.005434</td>\n",
       "      <td>0.005567</td>\n",
       "      <td>0.005776</td>\n",
       "      <td>0.005906</td>\n",
       "      <td>0.005978</td>\n",
       "      <td>0.006212</td>\n",
       "      <td>0.006988</td>\n",
       "      <td>0.007291</td>\n",
       "    </tr>\n",
       "    <tr>\n",
       "      <th>21</th>\n",
       "      <td>0.000462</td>\n",
       "      <td>0.000032</td>\n",
       "      <td>-0.000258</td>\n",
       "      <td>0.000722</td>\n",
       "      <td>0.000329</td>\n",
       "      <td>0.000493</td>\n",
       "      <td>0.001163</td>\n",
       "      <td>0.001150</td>\n",
       "      <td>-0.001126</td>\n",
       "      <td>-0.000893</td>\n",
       "      <td>...</td>\n",
       "      <td>0.006389</td>\n",
       "      <td>0.006079</td>\n",
       "      <td>0.005766</td>\n",
       "      <td>0.006001</td>\n",
       "      <td>0.006105</td>\n",
       "      <td>0.006497</td>\n",
       "      <td>0.006648</td>\n",
       "      <td>0.006875</td>\n",
       "      <td>0.007602</td>\n",
       "      <td>0.007956</td>\n",
       "    </tr>\n",
       "    <tr>\n",
       "      <th>22</th>\n",
       "      <td>0.000953</td>\n",
       "      <td>0.000509</td>\n",
       "      <td>0.000204</td>\n",
       "      <td>0.001185</td>\n",
       "      <td>0.000880</td>\n",
       "      <td>0.001101</td>\n",
       "      <td>0.001817</td>\n",
       "      <td>0.001870</td>\n",
       "      <td>-0.000939</td>\n",
       "      <td>-0.000798</td>\n",
       "      <td>...</td>\n",
       "      <td>0.007738</td>\n",
       "      <td>0.007170</td>\n",
       "      <td>0.006618</td>\n",
       "      <td>0.006696</td>\n",
       "      <td>0.006647</td>\n",
       "      <td>0.006915</td>\n",
       "      <td>0.007093</td>\n",
       "      <td>0.007139</td>\n",
       "      <td>0.007947</td>\n",
       "      <td>0.008155</td>\n",
       "    </tr>\n",
       "    <tr>\n",
       "      <th>23</th>\n",
       "      <td>0.000773</td>\n",
       "      <td>0.000350</td>\n",
       "      <td>0.000256</td>\n",
       "      <td>0.001023</td>\n",
       "      <td>0.000845</td>\n",
       "      <td>0.001158</td>\n",
       "      <td>0.001900</td>\n",
       "      <td>0.001764</td>\n",
       "      <td>-0.000753</td>\n",
       "      <td>-0.000712</td>\n",
       "      <td>...</td>\n",
       "      <td>0.006827</td>\n",
       "      <td>0.006309</td>\n",
       "      <td>0.005923</td>\n",
       "      <td>0.006074</td>\n",
       "      <td>0.006107</td>\n",
       "      <td>0.006224</td>\n",
       "      <td>0.006443</td>\n",
       "      <td>0.006563</td>\n",
       "      <td>0.007179</td>\n",
       "      <td>0.007503</td>\n",
       "    </tr>\n",
       "  </tbody>\n",
       "</table>\n",
       "<p>24 rows × 56 columns</p>\n",
       "</div>"
      ],
      "text/plain": [
       "          0         1         2         3         4         5         6   \\\n",
       "0  -0.000051 -0.000137 -0.000348  0.000134 -0.000060 -0.000077  0.000103   \n",
       "1  -0.001183 -0.001046 -0.001689 -0.000682 -0.000926 -0.001222 -0.000757   \n",
       "2  -0.000382 -0.000548 -0.001030 -0.000186 -0.000471 -0.000625 -0.000407   \n",
       "3  -0.000632 -0.000785 -0.001162 -0.000292 -0.000639 -0.000852 -0.000558   \n",
       "4   0.000615  0.000247  0.000025  0.000840  0.000589  0.000853  0.001643   \n",
       "5   0.000623  0.000112 -0.000077  0.000916  0.000636  0.000809  0.001711   \n",
       "6  -0.000321 -0.000409 -0.000991  0.000060 -0.000408 -0.000826 -0.000322   \n",
       "7  -0.000210 -0.000352 -0.000602  0.000056 -0.000297 -0.000301 -0.000004   \n",
       "8   0.000343  0.000048 -0.000111  0.000531  0.000399  0.000530  0.001000   \n",
       "9   0.000988  0.000493  0.000385  0.001313  0.001123  0.001451  0.002381   \n",
       "10  0.000182 -0.000027 -0.000218  0.000384  0.000177  0.000243  0.000681   \n",
       "11 -0.000028 -0.000407 -0.000766  0.000250 -0.000334 -0.000639 -0.000157   \n",
       "12  0.000625  0.000224  0.000072  0.000822  0.000589  0.000845  0.001587   \n",
       "13  0.000907  0.000443  0.000305  0.001129  0.000921  0.001172  0.001886   \n",
       "14 -0.000115 -0.000338 -0.000499  0.000151 -0.000106 -0.000236  0.000134   \n",
       "15 -0.000561 -0.000617 -0.001229 -0.000199 -0.000648 -0.000941 -0.000549   \n",
       "16 -0.000432 -0.000508 -0.000791 -0.000168 -0.000378 -0.000412 -0.000126   \n",
       "17  0.000612  0.000181 -0.000038  0.000808  0.000638  0.000927  0.001679   \n",
       "18  0.000496  0.000093 -0.000019  0.000710  0.000490  0.000876  0.001602   \n",
       "19  0.001141  0.000566  0.000333  0.001175  0.000908  0.001242  0.001995   \n",
       "20 -0.000099 -0.000542 -0.000720  0.000261 -0.000010  0.000159  0.000746   \n",
       "21  0.000462  0.000032 -0.000258  0.000722  0.000329  0.000493  0.001163   \n",
       "22  0.000953  0.000509  0.000204  0.001185  0.000880  0.001101  0.001817   \n",
       "23  0.000773  0.000350  0.000256  0.001023  0.000845  0.001158  0.001900   \n",
       "\n",
       "          7         8         9   ...        46        47        48        49  \\\n",
       "0   0.000288 -0.000112 -0.000165  ...  0.007227  0.007327  0.007341  0.007692   \n",
       "1  -0.000432 -0.001589 -0.001217  ...  0.004913  0.004809  0.005029  0.005381   \n",
       "2   0.000065 -0.001242 -0.001063  ...  0.005611  0.005747  0.005737  0.006017   \n",
       "3  -0.000084 -0.001209 -0.001077  ...  0.005954  0.005963  0.006061  0.006496   \n",
       "4   0.001616 -0.001052 -0.000853  ...  0.007588  0.007138  0.006655  0.006675   \n",
       "5   0.001559 -0.001166 -0.000986  ...  0.007252  0.006801  0.006435  0.006619   \n",
       "6   0.000093 -0.001324 -0.001059  ...  0.005149  0.005162  0.004800  0.005468   \n",
       "7   0.000193 -0.000066  0.000048  ...  0.006258  0.006245  0.005997  0.006438   \n",
       "8   0.001059 -0.000974 -0.000937  ...  0.006458  0.006347  0.006166  0.006577   \n",
       "9   0.002267 -0.001265 -0.001069  ...  0.007922  0.007301  0.006884  0.007085   \n",
       "10  0.000735  0.000918  0.000907  ...  0.008399  0.008139  0.007860  0.007894   \n",
       "11  0.000295 -0.001481 -0.001050  ...  0.005623  0.005530  0.005515  0.006210   \n",
       "12  0.001582 -0.000983 -0.000844  ...  0.007493  0.007061  0.006770  0.006915   \n",
       "13  0.001899 -0.000851 -0.000740  ...  0.008117  0.007685  0.007278  0.007461   \n",
       "14  0.000411 -0.000208 -0.000131  ...  0.005930  0.005924  0.005765  0.006055   \n",
       "15 -0.000027 -0.001381 -0.001064  ...  0.005457  0.005544  0.005348  0.005907   \n",
       "16  0.000150 -0.000486 -0.000379  ...  0.005392  0.005460  0.005405  0.005665   \n",
       "17  0.001699 -0.001392 -0.001203  ...  0.006768  0.006360  0.006099  0.006141   \n",
       "18  0.001556 -0.001260 -0.001114  ...  0.007163  0.006827  0.006554  0.006762   \n",
       "19  0.001971 -0.000754 -0.000597  ...  0.007187  0.006533  0.006179  0.006265   \n",
       "20  0.000917 -0.001464 -0.001164  ...  0.005775  0.005560  0.005434  0.005567   \n",
       "21  0.001150 -0.001126 -0.000893  ...  0.006389  0.006079  0.005766  0.006001   \n",
       "22  0.001870 -0.000939 -0.000798  ...  0.007738  0.007170  0.006618  0.006696   \n",
       "23  0.001764 -0.000753 -0.000712  ...  0.006827  0.006309  0.005923  0.006074   \n",
       "\n",
       "          50        51        52        53        54        55  \n",
       "0   0.007941  0.008409  0.008798  0.009385  0.010252  0.010720  \n",
       "1   0.005397  0.006014  0.006409  0.006595  0.007521  0.007988  \n",
       "2   0.006289  0.006844  0.007219  0.007418  0.008370  0.008860  \n",
       "3   0.006746  0.007322  0.007612  0.007802  0.008897  0.009378  \n",
       "4   0.006816  0.007139  0.007304  0.007460  0.008203  0.008617  \n",
       "5   0.006538  0.006974  0.007067  0.007287  0.008081  0.008409  \n",
       "6   0.005582  0.006197  0.006383  0.006366  0.007529  0.007818  \n",
       "7   0.006420  0.006790  0.006929  0.006966  0.007848  0.008162  \n",
       "8   0.006734  0.007114  0.007376  0.007740  0.008538  0.008981  \n",
       "9   0.007126  0.007400  0.007644  0.007914  0.008691  0.009126  \n",
       "10  0.007810  0.007973  0.008045  0.008254  0.008713  0.008815  \n",
       "11  0.006023  0.006801  0.006777  0.007168  0.008287  0.008559  \n",
       "12  0.006940  0.007285  0.007433  0.007673  0.008361  0.008772  \n",
       "13  0.007577  0.007923  0.008119  0.008412  0.009159  0.009558  \n",
       "14  0.006202  0.006554  0.006712  0.006908  0.007556  0.007926  \n",
       "15  0.005960  0.006519  0.006891  0.006928  0.008071  0.008449  \n",
       "16  0.005690  0.006178  0.006288  0.006622  0.007311  0.007571  \n",
       "17  0.006132  0.006349  0.006575  0.006756  0.007442  0.007858  \n",
       "18  0.006797  0.007164  0.007385  0.007630  0.008378  0.008877  \n",
       "19  0.006244  0.006551  0.006683  0.006875  0.007539  0.007903  \n",
       "20  0.005776  0.005906  0.005978  0.006212  0.006988  0.007291  \n",
       "21  0.006105  0.006497  0.006648  0.006875  0.007602  0.007956  \n",
       "22  0.006647  0.006915  0.007093  0.007139  0.007947  0.008155  \n",
       "23  0.006107  0.006224  0.006443  0.006563  0.007179  0.007503  \n",
       "\n",
       "[24 rows x 56 columns]"
      ]
     },
     "execution_count": 29,
     "metadata": {},
     "output_type": "execute_result"
    }
   ],
   "source": [
    "print(values.shape)\n",
    "values[:, b].shape\n",
    "x_selecta = pd.DataFrame(values[:, b])\n",
    "x_selecta"
   ]
  },
  {
   "cell_type": "code",
   "execution_count": 30,
   "metadata": {},
   "outputs": [
    {
     "name": "stdout",
     "output_type": "stream",
     "text": [
      "(19, 56) (19, 1)\n",
      "(5, 56) (5, 1)\n"
     ]
    }
   ],
   "source": [
    "X_train, X_test, y_train, y_test = train_test_split(x_selecta, y_df, test_size=0.2)\n",
    "print (X_train.shape, y_train.shape)\n",
    "print (X_test.shape, y_test.shape)\n",
    "\n",
    "#print(X_test)"
   ]
  },
  {
   "cell_type": "code",
   "execution_count": 31,
   "metadata": {},
   "outputs": [
    {
     "name": "stdout",
     "output_type": "stream",
     "text": [
      "(24, 20)\n",
      "[ 57.26  87.81  96.86  98.17  99.01  99.34  99.53  99.69  99.76  99.81\n",
      "  99.84  99.87  99.9   99.92  99.94  99.96  99.97  99.98  99.99 100.  ]\n"
     ]
    }
   ],
   "source": [
    "n_components= 20\n",
    "\n",
    "# PCA\n",
    "\n",
    "X_std = StandardScaler().fit_transform(x_selecta.values)\n",
    "#print(X_std)\n",
    "\n",
    "pca = PCA(n_components= n_components)\n",
    "PC=pca.fit(X_std)\n",
    "\n",
    "principalComponents = pca.fit_transform(X_std)\n",
    "print(principalComponents.shape)\n",
    "#principalDf = pd.DataFrame(data = principalComponents, columns = ['principal component 1', 'principal component 2', 'principal component 3'])\n",
    "#print(principalDf)\n",
    "\n",
    "\n",
    "#print(pca.explained_variance_ratio_)\n",
    "print(np.cumsum(np.round(pca.explained_variance_ratio_, decimals=4)*100))\n",
    "#print(pca.singular_values_)"
   ]
  },
  {
   "cell_type": "code",
   "execution_count": 32,
   "metadata": {},
   "outputs": [
    {
     "name": "stdout",
     "output_type": "stream",
     "text": [
      "0.8101459469906304 -7271.336416861637\n",
      "3.829755305278809 146698.31132271708\n"
     ]
    }
   ],
   "source": [
    "regr = linear_model.LinearRegression()\n",
    "# Fit\n",
    "regr.fit(principalComponents, y_df)\n",
    "# Calibration\n",
    "y_c = regr.predict(principalComponents)\n",
    "# Cross-validation\n",
    "y_cv = cross_val_predict(regr, principalComponents, y_df, cv=10)\n",
    "# Calculate scores for calibration and cross-validation\n",
    "score_c = r2_score(y_df, y_c)\n",
    "score_cv = r2_score(y_df, y_cv)\n",
    "# Calculate mean square error for calibration and cross validation\n",
    "mse_c = mean_squared_error(y_df, y_c)\n",
    "mse_cv = mean_squared_error(y_df, y_cv)\n",
    "\n",
    "print(score_c, score_cv)\n",
    "print(mse_c, mse_cv)"
   ]
  },
  {
   "cell_type": "code",
   "execution_count": 33,
   "metadata": {},
   "outputs": [
    {
     "name": "stdout",
     "output_type": "stream",
     "text": [
      "(19, 56)\n",
      "(56,)\n",
      "19\n",
      "(19, 18)\n",
      "[61.75 90.19 96.96 98.27 99.14 99.39 99.57 99.74 99.81 99.86 99.89 99.92\n",
      " 99.94 99.96 99.97 99.98 99.99 99.99]\n"
     ]
    }
   ],
   "source": [
    "n_components=18\n",
    "\n",
    "x = X_train.values\n",
    "x_t = X_test.values\n",
    "print(x.shape)\n",
    "print(x[1].shape)\n",
    "print(len(x))\n",
    "\n",
    "\n",
    "# This has to be used later for regression, PCA is done on X only\n",
    "\"\"\"\n",
    "y_df = pd.read_csv('labels_aligned+.csv', sep = ',')\n",
    "concentration=y_df.values\n",
    "#print(concentration)\n",
    "multi_y = concentration[:,2:]\n",
    "#print (multi_y)\n",
    "print (multi_y.shape)\n",
    "multi_y= np.array(multi_y, dtype=np.float)\n",
    "y=np.around(multi_y, decimals=4)\n",
    "#print(y)\n",
    "\"\"\"\n",
    "\n",
    "# PCA\n",
    "\n",
    "X_std = StandardScaler().fit_transform(x)\n",
    "X_std_test = StandardScaler().fit_transform(x_t)\n",
    "#print(X_std)\n",
    "\n",
    "pca = PCA(n_components= n_components)\n",
    "PC=pca.fit(X_std)\n",
    "\n",
    "x_pc = pca.fit_transform(X_std)\n",
    "x_test1 = pca.transform(X_std_test)\n",
    "print(x_pc.shape)\n",
    "#principalDf = pd.DataFrame(data = principalComponents, columns = ['principal component 1', 'principal component 2', 'principal component 3'])\n",
    "#print(principalDf)\n",
    "\n",
    "\n",
    "#print(pca.explained_variance_ratio_)\n",
    "print(np.cumsum(np.round(pca.explained_variance_ratio_, decimals=4)*100))"
   ]
  },
  {
   "cell_type": "code",
   "execution_count": 34,
   "metadata": {},
   "outputs": [
    {
     "name": "stdout",
     "output_type": "stream",
     "text": [
      "R2_pred:  -1.6381598639648058\n",
      "MSE:  51.858202919561634\n"
     ]
    }
   ],
   "source": [
    "regr = linear_model.LinearRegression()\n",
    "# Fit\n",
    "regr.fit(x_pc, y_train)\n",
    "# Calibration\n",
    "y_c = regr.predict(x_test1)\n",
    "# Cross-validation\n",
    "#y_cv = cross_val_predict(regr, principalComponents, y_df, cv=10)\n",
    "# Calculate scores for calibration and cross-validation\n",
    "score_c = r2_score(y_test, y_c)\n",
    "#score_cv = r2_score(y_df, y_cv)\n",
    "# Calculate mean square error for calibration and cross validation\n",
    "mse_c = mean_squared_error(y_test, y_c)\n",
    "#mse_cv = mean_squared_error(y_df, y_cv)\n",
    "\n",
    "print(\"R2_pred: \", score_c)\n",
    "print(\"MSE: \", mse_c)"
   ]
  },
  {
   "cell_type": "code",
   "execution_count": 35,
   "metadata": {},
   "outputs": [
    {
     "name": "stdout",
     "output_type": "stream",
     "text": [
      "100% completed\n",
      "Optimised number of PLS components:  16\n",
      "Wavelengths to be discarded  24\n",
      "Optimised MSEP  8.667832146355162\n",
      "\n"
     ]
    }
   ],
   "source": [
    "opt_Xc, ncomp, wav, sorted_ind = pls_variable_selection(x_selecta.values, y_df, 20)"
   ]
  },
  {
   "cell_type": "code",
   "execution_count": 37,
   "metadata": {},
   "outputs": [
    {
     "name": "stdout",
     "output_type": "stream",
     "text": [
      "(19, 32) (19, 1)\n",
      "(5, 32) (5, 1)\n",
      "50% completed\n",
      "Suggested number of components:  1\n",
      "\n"
     ]
    },
    {
     "data": {
      "image/png": "[encoded data removed]",
      "text/plain": [
       "<Figure size 432x288 with 1 Axes>"
      ]
     },
     "metadata": {},
     "output_type": "display_data"
    },
    {
     "name": "stdout",
     "output_type": "stream",
     "text": [
      "R2 calib: 0.052\n",
      "R2 CV: -0.501\n",
      "MSE calib: 20.746\n",
      "MSE CV: 32.835\n"
     ]
    }
   ],
   "source": [
    "X_train, X_test, y_train, y_test = train_test_split(opt_Xc, y_df, test_size=0.2)\n",
    "print (X_train.shape, y_train.shape)\n",
    "print (X_test.shape, y_test.shape)\n",
    "#print(X_test)\n",
    "\n",
    "optimise_pls_cv(X_train,y_train, 20, plot_components=True)"
   ]
  },
  {
   "cell_type": "code",
   "execution_count": 41,
   "metadata": {},
   "outputs": [
    {
     "name": "stdout",
     "output_type": "stream",
     "text": [
      "R2_pred: -0.7160073417048995\n",
      "R2_cv: -0.6764037693486473 \n",
      "\n",
      "[real, predictions]\n",
      "[[ 7.22        2.71815733]\n",
      " [ 6.16        1.11877812]\n",
      " [ 0.26        0.85970057]\n",
      " [ 9.14       16.22425016]\n",
      " [ 0.16        4.76953591]]\n"
     ]
    },
    {
     "data": {
      "image/png": "[encoded data removed]",
      "text/plain": [
       "<Figure size 432x288 with 1 Axes>"
      ]
     },
     "metadata": {
      "needs_background": "light"
     },
     "output_type": "display_data"
    }
   ],
   "source": [
    "# Define PLS object\n",
    "pls = PLSRegression(n_components=26)\n",
    "# Fit\n",
    "pls.fit(X_train, y_train)\n",
    "# Cross-validation\n",
    "y_pred = pls.predict(X_test)\n",
    "\n",
    "# Cross-validation\n",
    "y_cv = cross_val_predict(pls, X_train, y_train, cv=10)\n",
    "\n",
    "# Calculate scores for calibration and cross-validation\n",
    "score_pred = r2_score(y_test, y_pred)\n",
    "score_cv = r2_score(y_train, y_cv)\n",
    "\n",
    "print(\"R2_pred:\", score_pred)\n",
    "print(\"R2_cv:\",score_cv, \"\\n\")\n",
    "\n",
    "b=np.append(y_test, y_pred, axis=1)\n",
    "\n",
    "print(\"[real, predictions]\")\n",
    "print(b)\n",
    "\n",
    "plt.scatter(y_test, y_pred)\n",
    "plt.xlabel('True Values')\n",
    "plt.ylabel('Predictions')\n",
    "plt.grid(True)\n",
    "plt.show()"
   ]
  },
  {
   "cell_type": "code",
   "execution_count": null,
   "metadata": {},
   "outputs": [],
   "source": []
  },
  {
   "cell_type": "code",
   "execution_count": null,
   "metadata": {},
   "outputs": [],
   "source": []
  },
  {
   "cell_type": "code",
   "execution_count": null,
   "metadata": {},
   "outputs": [],
   "source": []
  },
  {
   "cell_type": "code",
   "execution_count": null,
   "metadata": {},
   "outputs": [],
   "source": []
  },
  {
   "cell_type": "code",
   "execution_count": 38,
   "metadata": {},
   "outputs": [
    {
     "data": {
      "text/plain": [
       "array([[-0.00432779, -0.00445947, -0.00459477, ..., -0.0070824 ,\n",
       "        -0.00697957, -0.00694981],\n",
       "       [-0.00300622, -0.00289671, -0.00330585, ..., -0.01077987,\n",
       "        -0.01069323, -0.01084606],\n",
       "       [-0.00490734, -0.00516648, -0.00522813, ..., -0.00778191,\n",
       "        -0.00777324, -0.00787054],\n",
       "       ...,\n",
       "       [-0.00333413, -0.00366814, -0.00372828, ..., -0.0062468 ,\n",
       "        -0.00596367, -0.0061552 ],\n",
       "       [-0.00552155, -0.00564901, -0.00586207, ..., -0.00698353,\n",
       "        -0.0073193 , -0.00732596],\n",
       "       [-0.00662448, -0.00681398, -0.00687648, ..., -0.00805989,\n",
       "        -0.00812742, -0.00792078]])"
      ]
     },
     "execution_count": 38,
     "metadata": {},
     "output_type": "execute_result"
    }
   ],
   "source": [
    "Xmsc = msc(x_df.values)\n",
    "Xmsc[0]"
   ]
  },
  {
   "cell_type": "code",
   "execution_count": 136,
   "metadata": {
    "scrolled": false
   },
   "outputs": [
    {
     "data": {
      "image/png": "[encoded data removed]",
      "text/plain": [
       "<Figure size 1152x1440 with 2 Axes>"
      ]
     },
     "metadata": {
      "needs_background": "light"
     },
     "output_type": "display_data"
    }
   ],
   "source": [
    "X = x_df.values[0,:].reshape(1,-1)\n",
    "#wl\n",
    "Xmsc = msc(X)[0] # Take the first element of the output tuple\n",
    "\n",
    "%matplotlib inline\n",
    "## Plot spectra\n",
    "plt.figure(figsize=(16,20))\n",
    "with plt.style.context(('ggplot')):\n",
    "    ax1 = plt.subplot(311)\n",
    "    plt.plot(X.T)\n",
    "    #plt.plot(wl.T, X.T)\n",
    "    plt.title('Original data')\n",
    "    ax2 = plt.subplot(312)\n",
    "    plt.plot(Xmsc.T)\n",
    "    #plt.plot(wl.T, Xmsc.T)\n",
    "    plt.ylabel('Intensity spectra')\n",
    "    plt.title('MSC')\n",
    "    plt.show()"
   ]
  },
  {
   "cell_type": "code",
   "execution_count": null,
   "metadata": {},
   "outputs": [],
   "source": []
  },
  {
   "cell_type": "code",
   "execution_count": null,
   "metadata": {},
   "outputs": [],
   "source": []
  },
  {
   "cell_type": "code",
   "execution_count": null,
   "metadata": {},
   "outputs": [],
   "source": []
  },
  {
   "cell_type": "code",
   "execution_count": 15,
   "metadata": {},
   "outputs": [
    {
     "name": "stdout",
     "output_type": "stream",
     "text": [
      "(19, 1446) (19, 1)\n",
      "(5, 1446) (5, 1)\n",
      "        0\n",
      "11  0.880\n",
      "5   0.360\n",
      "0   2.940\n",
      "6   0.036\n",
      "7   0.520\n"
     ]
    }
   ],
   "source": [
    "X_train, X_test, y_train, y_test = train_test_split(x_df, y_df, test_size=0.2)\n",
    "print (X_train.shape, y_train.shape)\n",
    "print (X_test.shape, y_test.shape)\n",
    "print(y_test)"
   ]
  },
  {
   "cell_type": "code",
   "execution_count": null,
   "metadata": {},
   "outputs": [],
   "source": []
  },
  {
   "cell_type": "markdown",
   "metadata": {},
   "source": [
    "# Principal Components Analysis"
   ]
  },
  {
   "cell_type": "code",
   "execution_count": 11,
   "metadata": {},
   "outputs": [
    {
     "name": "stdout",
     "output_type": "stream",
     "text": [
      "(24, 1446)\n",
      "(1446,)\n",
      "24\n",
      "(24, 20)\n",
      "[33.36 57.43 68.68 77.5  84.83 88.22 90.68 93.08 94.61 95.94 96.79 97.44\n",
      " 98.03 98.41 98.73 98.99 99.2  99.4  99.57 99.71]\n"
     ]
    }
   ],
   "source": [
    "n_components=20\n",
    "\n",
    "x_df = pd.read_csv('avg_base_norm.csv', sep = ',')\n",
    "x = x_df.values\n",
    "print(x.shape)\n",
    "print(x[1].shape)\n",
    "print(len(x))\n",
    "\n",
    "\n",
    "# This has to be used later for regression, PCA is done on X only\n",
    "\"\"\"\n",
    "y_df = pd.read_csv('labels_aligned+.csv', sep = ',')\n",
    "concentration=y_df.values\n",
    "#print(concentration)\n",
    "multi_y = concentration[:,2:]\n",
    "#print (multi_y)\n",
    "print (multi_y.shape)\n",
    "multi_y= np.array(multi_y, dtype=np.float)\n",
    "y=np.around(multi_y, decimals=4)\n",
    "#print(y)\n",
    "\"\"\"\n",
    "\n",
    "# PCA\n",
    "\n",
    "X_std = StandardScaler().fit_transform(x)\n",
    "#print(X_std)\n",
    "\n",
    "pca = PCA(n_components= n_components)\n",
    "PC=pca.fit(X_std)\n",
    "\n",
    "principalComponents = pca.fit_transform(X_std)\n",
    "print(principalComponents.shape)\n",
    "#principalDf = pd.DataFrame(data = principalComponents, columns = ['principal component 1', 'principal component 2', 'principal component 3'])\n",
    "#print(principalDf)\n",
    "\n",
    "\n",
    "#print(pca.explained_variance_ratio_)\n",
    "print(np.cumsum(np.round(pca.explained_variance_ratio_, decimals=4)*100))\n",
    "#print(pca.singular_values_)"
   ]
  },
  {
   "cell_type": "code",
   "execution_count": 12,
   "metadata": {},
   "outputs": [],
   "source": [
    "regr = linear_model.LinearRegression()\n",
    "# Fit\n",
    "regr.fit(principalComponents, y_df)\n",
    "# Calibration\n",
    "y_c = regr.predict(principalComponents)\n",
    "# Cross-validation\n",
    "y_cv = cross_val_predict(regr, principalComponents, y_df, cv=10)\n",
    "# Calculate scores for calibration and cross-validation\n",
    "score_c = r2_score(y_df, y_c)\n",
    "score_cv = r2_score(y_df, y_cv)\n",
    "# Calculate mean square error for calibration and cross validation\n",
    "mse_c = mean_squared_error(y_df, y_c)\n",
    "mse_cv = mean_squared_error(y_df, y_cv)"
   ]
  },
  {
   "cell_type": "code",
   "execution_count": 13,
   "metadata": {},
   "outputs": [
    {
     "name": "stdout",
     "output_type": "stream",
     "text": [
      "0.982683032848459 -233.4568916900284\n",
      "0.023644987854542082 320.13286783483335\n"
     ]
    }
   ],
   "source": [
    "print(score_c, score_cv)\n",
    "print(mse_c, mse_cv)"
   ]
  },
  {
   "cell_type": "code",
   "execution_count": 16,
   "metadata": {},
   "outputs": [
    {
     "name": "stdout",
     "output_type": "stream",
     "text": [
      "(19, 1446)\n",
      "(1446,)\n",
      "19\n",
      "(19, 15)\n",
      "[35.85 60.9  72.68 81.66 88.26 91.81 94.29 95.75 96.84 97.6  98.16 98.58\n",
      " 98.97 99.27 99.51]\n"
     ]
    }
   ],
   "source": [
    "n_components=15\n",
    "\n",
    "x = X_train.values\n",
    "x_t = X_test.values\n",
    "print(x.shape)\n",
    "print(x[1].shape)\n",
    "print(len(x))\n",
    "\n",
    "\n",
    "# This has to be used later for regression, PCA is done on X only\n",
    "\"\"\"\n",
    "y_df = pd.read_csv('labels_aligned+.csv', sep = ',')\n",
    "concentration=y_df.values\n",
    "#print(concentration)\n",
    "multi_y = concentration[:,2:]\n",
    "#print (multi_y)\n",
    "print (multi_y.shape)\n",
    "multi_y= np.array(multi_y, dtype=np.float)\n",
    "y=np.around(multi_y, decimals=4)\n",
    "#print(y)\n",
    "\"\"\"\n",
    "\n",
    "# PCA\n",
    "\n",
    "X_std = StandardScaler().fit_transform(x)\n",
    "X_std_test = StandardScaler().fit_transform(x_t)\n",
    "#print(X_std)\n",
    "\n",
    "pca = PCA(n_components= n_components)\n",
    "PC=pca.fit(X_std)\n",
    "\n",
    "x_pc = pca.fit_transform(X_std)\n",
    "x_test1 = pca.transform(X_std_test)\n",
    "print(x_pc.shape)\n",
    "#principalDf = pd.DataFrame(data = principalComponents, columns = ['principal component 1', 'principal component 2', 'principal component 3'])\n",
    "#print(principalDf)\n",
    "\n",
    "\n",
    "#print(pca.explained_variance_ratio_)\n",
    "print(np.cumsum(np.round(pca.explained_variance_ratio_, decimals=4)*100))"
   ]
  },
  {
   "cell_type": "code",
   "execution_count": 17,
   "metadata": {},
   "outputs": [
    {
     "data": {
      "text/plain": [
       "array([[  5.63856668,  23.08835309,  -9.73293309,  10.3798126 ,\n",
       "         -5.34225827,  -8.76864809,   3.09673656,  -2.99491098,\n",
       "          3.99776425,   2.4634476 ,  -9.51690062,  -3.65407071,\n",
       "          5.63468961,   1.5497209 ,   0.74242609],\n",
       "       [-20.30758424,  -0.42339392,  15.69945744,   0.8237185 ,\n",
       "         10.75841938,  -3.22239527,  -9.10237453,   4.57836927,\n",
       "         -3.8526803 ,   6.61426283,  -3.04824177,   1.83944735,\n",
       "         -3.91503304,  -5.12549702,  -4.23552779],\n",
       "       [ -3.51415514, -11.98794428,   6.6379223 , -15.41429824,\n",
       "        -24.30840608,   1.86649393,   0.32574675,   5.49201362,\n",
       "          3.33680451,  -1.20568148,   5.84879982,  -3.39758773,\n",
       "         -3.44713625,   0.6285108 ,   3.13735447],\n",
       "       [-11.88545294,  -1.56407651, -14.07358709,   1.48624025,\n",
       "         17.99230099,   7.85269938,  -0.95785659,  -5.28296317,\n",
       "          1.28637163,  -5.32225607,   2.97990681,   6.08570965,\n",
       "          3.67371683,   0.88894942,   1.48869127],\n",
       "       [ 30.06862563,  -9.11293838,   1.46914044,   2.7245269 ,\n",
       "          0.89994398,   2.27185005,   6.63774781,  -1.79250874,\n",
       "         -4.76826009,  -2.54977288,   3.73643575,  -0.87349855,\n",
       "         -1.94623714,   2.05831589,  -1.13294404]])"
      ]
     },
     "execution_count": 17,
     "metadata": {},
     "output_type": "execute_result"
    }
   ],
   "source": [
    "x_test1"
   ]
  },
  {
   "cell_type": "code",
   "execution_count": 18,
   "metadata": {},
   "outputs": [
    {
     "name": "stdout",
     "output_type": "stream",
     "text": [
      "R2:  -0.5402952417594689\n",
      "MSE:  1.6429888203291014\n"
     ]
    }
   ],
   "source": [
    "regr = linear_model.LinearRegression()\n",
    "# Fit\n",
    "regr.fit(x_pc, y_train)\n",
    "# Calibration\n",
    "y_c = regr.predict(x_test1)\n",
    "# Cross-validation\n",
    "#y_cv = cross_val_predict(regr, principalComponents, y_df, cv=10)\n",
    "# Calculate scores for calibration and cross-validation\n",
    "score_c = r2_score(y_test, y_c)\n",
    "#score_cv = r2_score(y_df, y_cv)\n",
    "# Calculate mean square error for calibration and cross validation\n",
    "mse_c = mean_squared_error(y_test, y_c)\n",
    "#mse_cv = mean_squared_error(y_df, y_cv)\n",
    "\n",
    "print(\"R2: \", score_c)\n",
    "print(\"MSE: \", mse_c)"
   ]
  },
  {
   "cell_type": "code",
   "execution_count": 19,
   "metadata": {},
   "outputs": [
    {
     "name": "stdout",
     "output_type": "stream",
     "text": [
      "37% completed\n",
      "Suggested number of components:  1\n",
      "\n"
     ]
    },
    {
     "data": {
      "image/png": "[encoded data removed]",
      "text/plain": [
       "<Figure size 432x288 with 1 Axes>"
      ]
     },
     "metadata": {},
     "output_type": "display_data"
    },
    {
     "name": "stdout",
     "output_type": "stream",
     "text": [
      "R2 calib: 0.935\n",
      "R2 CV: -0.105\n",
      "MSE calib: 0.094\n",
      "MSE CV: 1.586\n"
     ]
    }
   ],
   "source": [
    "optimise_pls_cv(x_pc, y_train, 15, plot_components=True) "
   ]
  },
  {
   "cell_type": "code",
   "execution_count": 22,
   "metadata": {},
   "outputs": [
    {
     "name": "stdout",
     "output_type": "stream",
     "text": [
      "R2:  -0.5402952417594666\n",
      "MSE:  1.642988820329099\n"
     ]
    }
   ],
   "source": [
    "pls = PLSRegression(n_components=7)\n",
    "# Fit\n",
    "pls.fit(x_pc, y_train)\n",
    "# Calibration\n",
    "y_c = pls.predict(x_test1)\n",
    "# Cross-validation\n",
    "#y_cv = cross_val_predict(regr, principalComponents, y_df, cv=10)\n",
    "# Calculate scores for calibration and cross-validation\n",
    "score_c = r2_score(y_test, y_c)\n",
    "#score_cv = r2_score(y_df, y_cv)\n",
    "# Calculate mean square error for calibration and cross validation\n",
    "mse_c = mean_squared_error(y_test, y_c)\n",
    "#mse_cv = mean_squared_error(y_df, y_cv)\n",
    "\n",
    "print(\"R2: \", score_c)\n",
    "print(\"MSE: \", mse_c)"
   ]
  },
  {
   "cell_type": "code",
   "execution_count": null,
   "metadata": {},
   "outputs": [],
   "source": []
  },
  {
   "cell_type": "markdown",
   "metadata": {},
   "source": [
    "#### This is the *mathematical* way to do it"
   ]
  },
  {
   "cell_type": "code",
   "execution_count": 24,
   "metadata": {},
   "outputs": [
    {
     "name": "stdout",
     "output_type": "stream",
     "text": [
      "(1508.8695652173917+0j)\n",
      "[47.43 65.94 74.18 81.21 85.42 88.88 91.66 93.52 94.9  95.92 96.71 97.28\n",
      " 97.78 98.2  98.59 98.86 99.09 99.3  99.46 99.62]\n"
     ]
    },
    {
     "data": {
      "text/plain": [
       "\"# Make a list of (eigenvalue, eigenvector) tuples\\neig_pairs = [(np.abs(eig_vals[i]), eig_vecs[:,i]) for i in range(len(eig_vals))]\\n\\n# Sort the (eigenvalue, eigenvector) tuples from high to low\\neig_pairs.sort(key=lambda x: x[0], reverse=True)\\n\\n# Visually confirm that the list is correctly sorted by decreasing eigenvalues\\nprint('Eigenvalues in descending order:')\\nfor i in eig_pairs[:20]: #only first 20 eigenvalues\\n    print(i[0])\\n\""
      ]
     },
     "execution_count": 24,
     "metadata": {},
     "output_type": "execute_result"
    },
    {
     "data": {
      "image/png": "[encoded data removed]",
      "text/plain": [
       "<Figure size 432x288 with 1 Axes>"
      ]
     },
     "metadata": {},
     "output_type": "display_data"
    }
   ],
   "source": [
    "cov_mat = np.cov(X_std.T) #covariance matrix\n",
    "#print('NumPy covariance matrix: \\n%s' %np.cov(X_std.T))\n",
    "\n",
    "eig_vals, eig_vecs = np.linalg.eig(cov_mat)\n",
    "\n",
    "#print('Eigenvectors \\n%s' %eig_vecs)\n",
    "#print('\\nEigenvalues \\n%s' %eig_vals)\n",
    "\n",
    "tot = sum(eig_vals)\n",
    "print(tot)\n",
    "var_exp = [(i / tot)*100 for i in sorted(eig_vals, reverse=True)]\n",
    "cum_var_exp = np.cumsum(var_exp)\n",
    "#print(cum_var_exp.real)\n",
    "print(np.round(cum_var_exp[:20].real, decimals=2)) # same as above but only first 10 elements\n",
    "\n",
    "with plt.style.context('seaborn-whitegrid'):\n",
    "    plt.figure(figsize=(6, 4))\n",
    "\n",
    "    plt.bar(range(len(var_exp)), var_exp, alpha=0.5, align='center', label='individual explained variance')\n",
    "    plt.step(range(len(cum_var_exp)), cum_var_exp, where='mid', label='cumulative explained variance')\n",
    "    plt.ylabel('Explained variance ratio')\n",
    "    plt.xlabel('Principal components')\n",
    "    plt.legend(loc='best')\n",
    "    plt.tight_layout()\n",
    "    \n",
    "'''# Make a list of (eigenvalue, eigenvector) tuples\n",
    "eig_pairs = [(np.abs(eig_vals[i]), eig_vecs[:,i]) for i in range(len(eig_vals))]\n",
    "\n",
    "# Sort the (eigenvalue, eigenvector) tuples from high to low\n",
    "eig_pairs.sort(key=lambda x: x[0], reverse=True)\n",
    "\n",
    "# Visually confirm that the list is correctly sorted by decreasing eigenvalues\n",
    "print('Eigenvalues in descending order:')\n",
    "for i in eig_pairs[:20]: #only first 20 eigenvalues\n",
    "    print(i[0])\n",
    "'''"
   ]
  },
  {
   "cell_type": "markdown",
   "metadata": {},
   "source": [
    "# Linear Regression\n",
    "this is ordinary least square regression"
   ]
  },
  {
   "cell_type": "code",
   "execution_count": 23,
   "metadata": {},
   "outputs": [],
   "source": [
    "\n",
    "\n",
    "# fit a model\n",
    "lm = linear_model.LinearRegression()\n",
    "model = lm.fit(X_train, y_train)\n",
    "predictions = lm.predict(X_test)"
   ]
  },
  {
   "cell_type": "code",
   "execution_count": 24,
   "metadata": {},
   "outputs": [
    {
     "name": "stdout",
     "output_type": "stream",
     "text": [
      "[real, predictions]\n",
      "[[0.88       0.1241113 ]\n",
      " [0.36       1.71453431]\n",
      " [2.94       7.84232113]\n",
      " [0.036      1.56825637]\n",
      " [0.52       4.84333243]]\n"
     ]
    }
   ],
   "source": [
    "b=np.append(y_test, predictions, axis=1)\n",
    "\n",
    "print(\"[real, predictions]\")\n",
    "print(b)"
   ]
  },
  {
   "cell_type": "code",
   "execution_count": 25,
   "metadata": {},
   "outputs": [
    {
     "data": {
      "image/png": "[encoded data removed]",
      "text/plain": [
       "<Figure size 432x288 with 1 Axes>"
      ]
     },
     "metadata": {
      "needs_background": "light"
     },
     "output_type": "display_data"
    }
   ],
   "source": [
    "plt.scatter(y_test, predictions)\n",
    "plt.xlabel('True Values')\n",
    "plt.ylabel('Predictions')\n",
    "plt.grid(True)\n",
    "plt.show()"
   ]
  },
  {
   "cell_type": "code",
   "execution_count": 26,
   "metadata": {},
   "outputs": [
    {
     "name": "stdout",
     "output_type": "stream",
     "text": [
      "RMSE:  3.0814897786758393\n",
      "R^2:  -7.902066383486357\n"
     ]
    }
   ],
   "source": [
    "rmse = sqrt(mean_squared_error(y_test, predictions))\n",
    "r2 = r2_score(y_test, predictions)\n",
    "print(\"RMSE: \", rmse)\n",
    "print(\"R^2: \", r2)"
   ]
  },
  {
   "cell_type": "markdown",
   "metadata": {},
   "source": [
    "# Partial Least Square Regression"
   ]
  },
  {
   "cell_type": "markdown",
   "metadata": {},
   "source": [
    "## No preprocessing"
   ]
  },
  {
   "cell_type": "code",
   "execution_count": 27,
   "metadata": {},
   "outputs": [
    {
     "name": "stdout",
     "output_type": "stream",
     "text": [
      "(19, 1446) (19, 1)\n",
      "(5, 1446) (5, 1)\n"
     ]
    },
    {
     "data": {
      "text/html": [
       "<div>\n",
       "<style scoped>\n",
       "    .dataframe tbody tr th:only-of-type {\n",
       "        vertical-align: middle;\n",
       "    }\n",
       "\n",
       "    .dataframe tbody tr th {\n",
       "        vertical-align: top;\n",
       "    }\n",
       "\n",
       "    .dataframe thead th {\n",
       "        text-align: right;\n",
       "    }\n",
       "</style>\n",
       "<table border=\"1\" class=\"dataframe\">\n",
       "  <thead>\n",
       "    <tr style=\"text-align: right;\">\n",
       "      <th></th>\n",
       "      <th>0</th>\n",
       "    </tr>\n",
       "  </thead>\n",
       "  <tbody>\n",
       "    <tr>\n",
       "      <th>11</th>\n",
       "      <td>0.880</td>\n",
       "    </tr>\n",
       "    <tr>\n",
       "      <th>8</th>\n",
       "      <td>1.710</td>\n",
       "    </tr>\n",
       "    <tr>\n",
       "      <th>3</th>\n",
       "      <td>0.293</td>\n",
       "    </tr>\n",
       "    <tr>\n",
       "      <th>21</th>\n",
       "      <td>2.480</td>\n",
       "    </tr>\n",
       "    <tr>\n",
       "      <th>4</th>\n",
       "      <td>0.391</td>\n",
       "    </tr>\n",
       "  </tbody>\n",
       "</table>\n",
       "</div>"
      ],
      "text/plain": [
       "        0\n",
       "11  0.880\n",
       "8   1.710\n",
       "3   0.293\n",
       "21  2.480\n",
       "4   0.391"
      ]
     },
     "execution_count": 27,
     "metadata": {},
     "output_type": "execute_result"
    }
   ],
   "source": [
    "X_train, X_test, y_train, y_test = train_test_split(x_df, y_df, test_size=0.2)\n",
    "print (X_train.shape, y_train.shape)\n",
    "print (X_test.shape, y_test.shape)\n",
    "#print(X_test)\n",
    "y_test"
   ]
  },
  {
   "cell_type": "code",
   "execution_count": 28,
   "metadata": {},
   "outputs": [
    {
     "name": "stdout",
     "output_type": "stream",
     "text": [
      "100% completed\n",
      "Suggested number of components:  3\n",
      "\n"
     ]
    },
    {
     "data": {
      "image/png": "[encoded data removed]",
      "text/plain": [
       "<Figure size 432x288 with 1 Axes>"
      ]
     },
     "metadata": {},
     "output_type": "display_data"
    },
    {
     "name": "stdout",
     "output_type": "stream",
     "text": [
      "R2 calib: 0.656\n",
      "R2 CV: -0.281\n",
      "MSE calib: 0.470\n",
      "MSE CV: 1.750\n"
     ]
    }
   ],
   "source": [
    "optimise_pls_cv(x_df, y_df, 40, plot_components=True)\n",
    "#optimise_pls_cv(x_df, y_all, 40, plot_components=True)"
   ]
  },
  {
   "cell_type": "code",
   "execution_count": 31,
   "metadata": {},
   "outputs": [
    {
     "name": "stdout",
     "output_type": "stream",
     "text": [
      "R^2_cv -0.2814971446543939\n",
      "MSE:  1.749785869304901\n"
     ]
    }
   ],
   "source": [
    "# Define PLS object\n",
    "pls = PLSRegression(n_components=3)\n",
    "# Fit\n",
    "pls.fit(x_df, y_df)\n",
    "# Cross-validation\n",
    "y_cv = cross_val_predict(pls, x_df, y_df, cv=10)\n",
    "# Calculate scores\n",
    "score = r2_score(y_df, y_cv)\n",
    "mse = mean_squared_error(y_df, y_cv)\n",
    "\n",
    "print(\"R^2_cv\", score)\n",
    "print(\"MSE: \", mse)"
   ]
  },
  {
   "cell_type": "code",
   "execution_count": 32,
   "metadata": {},
   "outputs": [
    {
     "name": "stdout",
     "output_type": "stream",
     "text": [
      "100% completed\n",
      "Suggested number of components:  3\n",
      "\n"
     ]
    },
    {
     "data": {
      "image/png": "[encoded data removed]",
      "text/plain": [
       "<Figure size 432x288 with 1 Axes>"
      ]
     },
     "metadata": {},
     "output_type": "display_data"
    },
    {
     "name": "stdout",
     "output_type": "stream",
     "text": [
      "R2 calib: 0.652\n",
      "R2 CV: -0.182\n",
      "MSE calib: 0.537\n",
      "MSE CV: 1.822\n"
     ]
    }
   ],
   "source": [
    "optimise_pls_cv(X_train,y_train, 40, plot_components=True)"
   ]
  },
  {
   "cell_type": "code",
   "execution_count": 33,
   "metadata": {},
   "outputs": [
    {
     "name": "stdout",
     "output_type": "stream",
     "text": [
      "R2_pred:  -1.6724187879961692\n",
      "R2_cv:  -0.18208423865757006\n",
      "\n",
      "TEST\n",
      " [real, predictions]\n",
      "[[0.88       2.48758708]\n",
      " [1.71       1.86444549]\n",
      " [0.293      2.26133851]\n",
      " [2.48       0.82458332]\n",
      " [0.391      0.58963879]]\n",
      "\n",
      "TRAIN\n",
      " [real, predictions]\n",
      "[[ 0.036       0.32059472]\n",
      " [ 3.57        2.27952523]\n",
      " [ 0.32        0.38307389]\n",
      " [ 0.41        0.70752447]\n",
      " [ 0.025       0.33321394]\n",
      " [ 0.363      -0.79325288]\n",
      " [ 0.339      -0.0831704 ]\n",
      " [ 2.94        2.89804989]\n",
      " [ 0.52        0.94288612]\n",
      " [ 1.26        2.30254572]\n",
      " [ 0.36        0.6957977 ]\n",
      " [ 0.77        0.59020249]\n",
      " [ 1.1         2.18249441]\n",
      " [ 1.11        1.10833606]\n",
      " [ 4.54        2.62815733]\n",
      " [ 0.57        1.13894039]\n",
      " [ 0.39        0.3804927 ]\n",
      " [ 0.2         0.5540617 ]\n",
      " [ 2.03        2.28352652]]\n"
     ]
    },
    {
     "data": {
      "image/png": "[encoded data removed]",
      "text/plain": [
       "<Figure size 432x288 with 1 Axes>"
      ]
     },
     "metadata": {
      "needs_background": "light"
     },
     "output_type": "display_data"
    }
   ],
   "source": [
    "# Define PLS object\n",
    "pls = PLSRegression(n_components=3)\n",
    "# Fit\n",
    "pls.fit(X_train, y_train)\n",
    "# Cross-validation\n",
    "y_pred = pls.predict(X_test)\n",
    "y_pred1 = pls.predict(X_train)\n",
    "\n",
    "# Cross-validation\n",
    "y_cv = cross_val_predict(pls, X_train, y_train, cv=10)\n",
    "\n",
    "# Calculate scores for calibration and cross-validation\n",
    "score_pred = r2_score(y_test, y_pred)\n",
    "score_cv = r2_score(y_train, y_cv)\n",
    "\n",
    "print(\"R2_pred: \", score_pred)\n",
    "print(\"R2_cv: \",score_cv)\n",
    "print(\"\")\n",
    "\n",
    "b=np.append(y_test, y_pred, axis=1)\n",
    "\n",
    "print(\"TEST\\n [real, predictions]\")\n",
    "print(b)\n",
    "print(\"\")\n",
    "\n",
    "c=np.append(y_train, y_pred1, axis=1)\n",
    "\n",
    "#print(\"TRAIN\\n [real, predictions]\")\n",
    "#print(c)\n",
    "\n",
    "plt.scatter(y_test, y_pred)\n",
    "plt.scatter(y_train, y_pred1)\n",
    "plt.xlabel('True Values')\n",
    "plt.ylabel('Predictions')\n",
    "plt.grid(True)\n",
    "plt.show()"
   ]
  },
  {
   "cell_type": "code",
   "execution_count": null,
   "metadata": {},
   "outputs": [],
   "source": []
  },
  {
   "cell_type": "code",
   "execution_count": 35,
   "metadata": {
    "scrolled": true
   },
   "outputs": [
    {
     "name": "stdout",
     "output_type": "stream",
     "text": [
      "100% completed\n",
      "Optimised number of PLS components:  8\n",
      "Wavelengths to be discarded  1419\n",
      "Optimised MSEP  0.3810360348246194\n",
      "\n",
      "--- 327.237673997879 seconds ---\n"
     ]
    }
   ],
   "source": [
    "start_time = time.time()\n",
    "\n",
    "opt_Xc, ncomp, wav, sorted_ind = pls_variable_selection(x_df.values, y_val, 15)\n",
    "\n",
    "print(\"--- %s seconds ---\" % (time.time() - start_time))"
   ]
  },
  {
   "cell_type": "code",
   "execution_count": 239,
   "metadata": {},
   "outputs": [
    {
     "name": "stdout",
     "output_type": "stream",
     "text": [
      "(24, 27)\n",
      "sorted indexes:  [1020  693  719 ...   28 1396  122]\n",
      "[380.7612 340.7848 344.0216 408.6626 385.8852 402.3183 429.0495 421.0338\n",
      " 381.2393 316.6273]\n"
     ]
    },
    {
     "data": {
      "image/png": "[encoded data removed]",
      "text/plain": [
       "<Figure size 432x288 with 1 Axes>"
      ]
     },
     "metadata": {
      "needs_background": "light"
     },
     "output_type": "display_data"
    }
   ],
   "source": [
    "print(opt_Xc.shape)\n",
    "print(\"sorted indexes: \", sorted_ind)\n",
    "print(wl[sorted_ind[:10]].T)\n",
    "\n",
    "plt.plot(opt_Xc.T)\n",
    "plt.show()"
   ]
  },
  {
   "cell_type": "code",
   "execution_count": 261,
   "metadata": {},
   "outputs": [
    {
     "name": "stdout",
     "output_type": "stream",
     "text": [
      "(19, 27) (19, 1)\n",
      "(5, 27) (5, 1)\n"
     ]
    },
    {
     "data": {
      "text/html": [
       "<div>\n",
       "<style scoped>\n",
       "    .dataframe tbody tr th:only-of-type {\n",
       "        vertical-align: middle;\n",
       "    }\n",
       "\n",
       "    .dataframe tbody tr th {\n",
       "        vertical-align: top;\n",
       "    }\n",
       "\n",
       "    .dataframe thead th {\n",
       "        text-align: right;\n",
       "    }\n",
       "</style>\n",
       "<table border=\"1\" class=\"dataframe\">\n",
       "  <thead>\n",
       "    <tr style=\"text-align: right;\">\n",
       "      <th></th>\n",
       "      <th>0</th>\n",
       "    </tr>\n",
       "  </thead>\n",
       "  <tbody>\n",
       "    <tr>\n",
       "      <th>22</th>\n",
       "      <td>1.11</td>\n",
       "    </tr>\n",
       "    <tr>\n",
       "      <th>12</th>\n",
       "      <td>0.32</td>\n",
       "    </tr>\n",
       "    <tr>\n",
       "      <th>17</th>\n",
       "      <td>0.39</td>\n",
       "    </tr>\n",
       "    <tr>\n",
       "      <th>15</th>\n",
       "      <td>4.54</td>\n",
       "    </tr>\n",
       "    <tr>\n",
       "      <th>14</th>\n",
       "      <td>0.77</td>\n",
       "    </tr>\n",
       "  </tbody>\n",
       "</table>\n",
       "</div>"
      ],
      "text/plain": [
       "       0\n",
       "22  1.11\n",
       "12  0.32\n",
       "17  0.39\n",
       "15  4.54\n",
       "14  0.77"
      ]
     },
     "execution_count": 261,
     "metadata": {},
     "output_type": "execute_result"
    }
   ],
   "source": [
    "X_train, X_test, y_train, y_test = train_test_split(opt_Xc, y_df, test_size=0.2, random_state=3)\n",
    "#X_train, X_test, y_train, y_test = train_test_split(opt_Xc, y_df, test_size=0.2)\n",
    "print (X_train.shape, y_train.shape)\n",
    "print (X_test.shape, y_test.shape)\n",
    "print(y_test)"
   ]
  },
  {
   "cell_type": "code",
   "execution_count": 262,
   "metadata": {},
   "outputs": [
    {
     "name": "stdout",
     "output_type": "stream",
     "text": [
      "62% completed\n",
      "Suggested number of components:  3\n",
      "\n"
     ]
    },
    {
     "data": {
      "image/png": "[encoded data removed]",
      "text/plain": [
       "<Figure size 432x288 with 1 Axes>"
      ]
     },
     "metadata": {},
     "output_type": "display_data"
    },
    {
     "name": "stdout",
     "output_type": "stream",
     "text": [
      "R2 calib: 0.835\n",
      "R2 CV: 0.177\n",
      "MSE calib: 0.170\n",
      "MSE CV: 0.849\n"
     ]
    }
   ],
   "source": [
    "optimise_pls_cv(X_train,y_train, 25, plot_components=True)"
   ]
  },
  {
   "cell_type": "code",
   "execution_count": 263,
   "metadata": {},
   "outputs": [
    {
     "name": "stdout",
     "output_type": "stream",
     "text": [
      "R2_pred:  0.963985984111562\n",
      "R2_cv:  -0.3431452799748351\n",
      "\n",
      "TEST\n",
      " [real, predictions]\n",
      "[[1.11       1.18326018]\n",
      " [0.32       0.07009963]\n",
      " [0.39       0.24296584]\n",
      " [4.54       4.91643929]\n",
      " [0.77       1.23892069]]\n",
      "\n"
     ]
    },
    {
     "data": {
      "image/png": "[encoded data removed]",
      "text/plain": [
       "<Figure size 720x504 with 1 Axes>"
      ]
     },
     "metadata": {
      "needs_background": "light"
     },
     "output_type": "display_data"
    }
   ],
   "source": [
    "# Define PLS object\n",
    "pls = PLSRegression(n_components=11)\n",
    "# Fit\n",
    "pls.fit(X_train, y_train)\n",
    "\n",
    "y_pred = pls.predict(X_test)\n",
    "y_pred1 = pls.predict(X_train)\n",
    "\n",
    "# Cross-validation\n",
    "y_cv = cross_val_predict(pls, X_train, y_train, cv=10)\n",
    "\n",
    "# Calculate scores for calibration and cross-validation\n",
    "score_pred = r2_score(y_test, y_pred)\n",
    "score_cv = r2_score(y_train, y_cv)\n",
    "\n",
    "print(\"R2_pred: \", score_pred)\n",
    "print(\"R2_cv: \",score_cv)\n",
    "print(\"\")\n",
    "\n",
    "b=np.append(y_test, y_pred, axis=1)\n",
    "\n",
    "print(\"TEST\\n [real, predictions]\")\n",
    "print(b)\n",
    "print(\"\")\n",
    "\n",
    "c=np.append(y_train, y_pred1, axis=1)\n",
    "\n",
    "#print(\"TRAIN\\n [real, predictions]\")\n",
    "#print(c)\n",
    "\n",
    "plt.figure(figsize=(10,7))\n",
    "plt.scatter(y_test, y_pred)\n",
    "plt.scatter(y_train, y_pred1)\n",
    "plt.plot( y_test, linear_model.LinearRegression().fit(y_test, y_pred).predict(y_test) )\n",
    "plt.xlabel('True Values')\n",
    "plt.ylabel('Predictions')\n",
    "plt.grid(True)\n",
    "plt.show()"
   ]
  },
  {
   "cell_type": "code",
   "execution_count": null,
   "metadata": {},
   "outputs": [],
   "source": []
  },
  {
   "cell_type": "markdown",
   "metadata": {},
   "source": [
    "## Using Normalization"
   ]
  },
  {
   "cell_type": "code",
   "execution_count": 245,
   "metadata": {},
   "outputs": [
    {
     "name": "stdout",
     "output_type": "stream",
     "text": [
      "(19, 27)\n",
      "(5, 27)\n"
     ]
    }
   ],
   "source": [
    "Xn_train = normalize(X_train, axis=1)\n",
    "Xn_test = normalize(X_test, axis=1)\n",
    "print(Xn_train.shape)\n",
    "print(Xn_test.shape)"
   ]
  },
  {
   "cell_type": "code",
   "execution_count": 246,
   "metadata": {},
   "outputs": [
    {
     "data": {
      "image/png": "[encoded data removed]",
      "text/plain": [
       "<Figure size 432x288 with 1 Axes>"
      ]
     },
     "metadata": {
      "needs_background": "light"
     },
     "output_type": "display_data"
    }
   ],
   "source": [
    "plt.plot(Xn_train.T)\n",
    "plt.show()"
   ]
  },
  {
   "cell_type": "code",
   "execution_count": 247,
   "metadata": {},
   "outputs": [
    {
     "name": "stdout",
     "output_type": "stream",
     "text": [
      "62% completed\n",
      "Suggested number of components:  9\n",
      "\n"
     ]
    },
    {
     "data": {
      "image/png": "[encoded data removed]",
      "text/plain": [
       "<Figure size 432x288 with 1 Axes>"
      ]
     },
     "metadata": {},
     "output_type": "display_data"
    },
    {
     "name": "stdout",
     "output_type": "stream",
     "text": [
      "R2 calib: 0.995\n",
      "R2 CV: 0.704\n",
      "MSE calib: 0.009\n",
      "MSE CV: 0.464\n"
     ]
    }
   ],
   "source": [
    "#optimise_pls_cv(Xn_train,y_train, 40, plot_components=True)\n",
    "optimise_pls_cv(Xn_train,y_train, 25, plot_components=True)"
   ]
  },
  {
   "cell_type": "code",
   "execution_count": 258,
   "metadata": {},
   "outputs": [
    {
     "name": "stdout",
     "output_type": "stream",
     "text": [
      "R2_pred:  0.5595310825838897\n",
      "R2_cv:  0.6977363084995667\n",
      "\n",
      "TEST\n",
      " [real, predictions]\n",
      "[[ 0.391       0.56457518]\n",
      " [ 0.52        0.30950529]\n",
      " [ 0.339      -0.36216576]\n",
      " [ 2.03        1.49649073]\n",
      " [ 0.41        0.1342524 ]]\n",
      "\n"
     ]
    },
    {
     "data": {
      "image/png": "[encoded data removed]",
      "text/plain": [
       "<Figure size 720x504 with 1 Axes>"
      ]
     },
     "metadata": {
      "needs_background": "light"
     },
     "output_type": "display_data"
    }
   ],
   "source": [
    "# Define PLS object\n",
    "pls = PLSRegression(n_components=10)\n",
    "# Fit\n",
    "pls.fit(Xn_train, y_train)\n",
    "\n",
    "y_pred = pls.predict(Xn_test)\n",
    "y_pred1 = pls.predict(Xn_train)\n",
    "\n",
    "# Cross-validation\n",
    "y_cv = cross_val_predict(pls, Xn_train, y_train, cv=10)\n",
    "\n",
    "# Calculate scores for calibration and cross-validation\n",
    "score_pred = r2_score(y_test, y_pred)\n",
    "score_cv = r2_score(y_train, y_cv)\n",
    "\n",
    "print(\"R2_pred: \", score_pred)\n",
    "print(\"R2_cv: \",score_cv)\n",
    "print(\"\")\n",
    "\n",
    "b=np.append(y_test, y_pred, axis=1)\n",
    "\n",
    "print(\"TEST\\n [real, predictions]\")\n",
    "print(b)\n",
    "print(\"\")\n",
    "\n",
    "c=np.append(y_train, y_pred1, axis=1)\n",
    "\n",
    "#print(\"TRAIN\\n [real, predictions]\")\n",
    "#print(c)\n",
    "\n",
    "plt.figure(figsize=(10,7))\n",
    "plt.scatter(y_test, y_pred)\n",
    "plt.scatter(y_train, y_pred1)\n",
    "plt.plot( y_test, linear_model.LinearRegression().fit(y_test, y_pred).predict(y_test) )\n",
    "plt.xlabel('True Values')\n",
    "plt.ylabel('Predictions')\n",
    "plt.grid(True)\n",
    "plt.show()"
   ]
  },
  {
   "cell_type": "code",
   "execution_count": null,
   "metadata": {},
   "outputs": [],
   "source": []
  },
  {
   "cell_type": "code",
   "execution_count": null,
   "metadata": {},
   "outputs": [],
   "source": []
  },
  {
   "cell_type": "markdown",
   "metadata": {},
   "source": [
    "## Using SNV"
   ]
  },
  {
   "cell_type": "code",
   "execution_count": 249,
   "metadata": {},
   "outputs": [],
   "source": []
  },
  {
   "cell_type": "code",
   "execution_count": 250,
   "metadata": {},
   "outputs": [
    {
     "name": "stdout",
     "output_type": "stream",
     "text": [
      "(19, 27)\n",
      "(5, 27)\n",
      "62% completed\n",
      "Suggested number of components:  9\n",
      "\n"
     ]
    },
    {
     "data": {
      "image/png": "[encoded data removed]",
      "text/plain": [
       "<Figure size 432x288 with 1 Axes>"
      ]
     },
     "metadata": {},
     "output_type": "display_data"
    },
    {
     "name": "stdout",
     "output_type": "stream",
     "text": [
      "R2 calib: 0.996\n",
      "R2 CV: 0.715\n",
      "MSE calib: 0.007\n",
      "MSE CV: 0.446\n"
     ]
    }
   ],
   "source": [
    "Xn_train = snv(X_train)\n",
    "Xn_test = snv(X_test)\n",
    "print(Xn_train.shape)\n",
    "print(Xn_test.shape)\n",
    "\n",
    "#optimise_pls_cv(Xn_train,y_train, 40, plot_components=True)\n",
    "optimise_pls_cv(Xn_train,y_train, 25, plot_components=True)"
   ]
  },
  {
   "cell_type": "code",
   "execution_count": 251,
   "metadata": {},
   "outputs": [
    {
     "data": {
      "image/png": "[encoded data removed]",
      "text/plain": [
       "<Figure size 432x288 with 1 Axes>"
      ]
     },
     "metadata": {
      "needs_background": "light"
     },
     "output_type": "display_data"
    }
   ],
   "source": [
    "plt.plot(Xn_train.T)\n",
    "plt.show()"
   ]
  },
  {
   "cell_type": "code",
   "execution_count": 252,
   "metadata": {},
   "outputs": [
    {
     "name": "stdout",
     "output_type": "stream",
     "text": [
      "R2_pred:  0.5595310825838897\n",
      "R2_cv:  0.6977363084995667\n",
      "\n",
      "TEST\n",
      " [real, predictions]\n",
      "[[ 0.391       0.56457518]\n",
      " [ 0.52        0.30950529]\n",
      " [ 0.339      -0.36216576]\n",
      " [ 2.03        1.49649073]\n",
      " [ 0.41        0.1342524 ]]\n",
      "\n"
     ]
    },
    {
     "data": {
      "image/png": "[encoded data removed]",
      "text/plain": [
       "<Figure size 720x504 with 1 Axes>"
      ]
     },
     "metadata": {
      "needs_background": "light"
     },
     "output_type": "display_data"
    }
   ],
   "source": [
    "# Define PLS object\n",
    "pls = PLSRegression(n_components=10)\n",
    "# Fit\n",
    "pls.fit(Xn_train, y_train)\n",
    "\n",
    "y_pred = pls.predict(Xn_test)\n",
    "y_pred1 = pls.predict(Xn_train)\n",
    "\n",
    "# Cross-validation\n",
    "y_cv = cross_val_predict(pls, Xn_train, y_train, cv=10)\n",
    "\n",
    "# Calculate scores for calibration and cross-validation\n",
    "score_pred = r2_score(y_test, y_pred)\n",
    "score_cv = r2_score(y_train, y_cv)\n",
    "\n",
    "print(\"R2_pred: \", score_pred)\n",
    "print(\"R2_cv: \",score_cv)\n",
    "print(\"\")\n",
    "\n",
    "b=np.append(y_test, y_pred, axis=1)\n",
    "\n",
    "print(\"TEST\\n [real, predictions]\")\n",
    "print(b)\n",
    "print(\"\")\n",
    "\n",
    "c=np.append(y_train, y_pred1, axis=1)\n",
    "\n",
    "#print(\"TRAIN\\n [real, predictions]\")\n",
    "#print(c)\n",
    "\n",
    "plt.figure(figsize=(10,7))\n",
    "plt.scatter(y_test, y_pred)\n",
    "plt.scatter(y_train, y_pred1)\n",
    "plt.plot( y_test, linear_model.LinearRegression().fit(y_test, y_pred).predict(y_test) )\n",
    "plt.xlabel('True Values')\n",
    "plt.ylabel('Predictions')\n",
    "plt.grid(True)\n",
    "plt.show()"
   ]
  },
  {
   "cell_type": "code",
   "execution_count": null,
   "metadata": {},
   "outputs": [],
   "source": []
  },
  {
   "cell_type": "markdown",
   "metadata": {},
   "source": [
    "## Using Savgol filter"
   ]
  },
  {
   "cell_type": "code",
   "execution_count": 160,
   "metadata": {},
   "outputs": [
    {
     "name": "stdout",
     "output_type": "stream",
     "text": [
      "(19, 1446) (19, 1)\n",
      "(5, 1446) (5, 1)\n"
     ]
    }
   ],
   "source": [
    "X_train, X_test, y_train, y_test = train_test_split(x_df, y_df, test_size=0.2)\n",
    "print (X_train.shape, y_train.shape)\n",
    "print (X_test.shape, y_test.shape)\n",
    "#print(X_test)"
   ]
  },
  {
   "cell_type": "code",
   "execution_count": 115,
   "metadata": {},
   "outputs": [
    {
     "data": {
      "image/png": "[encoded data removed]",
      "text/plain": [
       "<Figure size 576x324 with 1 Axes>"
      ]
     },
     "metadata": {
      "needs_background": "light"
     },
     "output_type": "display_data"
    },
    {
     "name": "stdout",
     "output_type": "stream",
     "text": [
      "100% completed\n",
      "Suggested number of components:  3\n",
      "\n"
     ]
    },
    {
     "data": {
      "image/png": "[encoded data removed]",
      "text/plain": [
       "<Figure size 432x288 with 1 Axes>"
      ]
     },
     "metadata": {},
     "output_type": "display_data"
    },
    {
     "name": "stdout",
     "output_type": "stream",
     "text": [
      "R2 calib: 0.517\n",
      "R2 CV: -0.205\n",
      "MSE calib: 0.660\n",
      "MSE CV: 1.645\n"
     ]
    }
   ],
   "source": [
    "# Calculate second derivative\n",
    "X2 = savgol_filter(x_df, 101, polyorder = 6,deriv=0) # Is this useful with LIBS spectra???\n",
    "# Plot second derivative\n",
    "plt.figure(figsize=(8,4.5))\n",
    "with plt.style.context(('ggplot')):\n",
    "    plt.plot(range(len(X2.T)), X2.T)\n",
    "    plt.xlabel('Wavelength (nm)')\n",
    "    plt.ylabel('D2 Intensity')\n",
    "    plt.show()\n",
    "    \n",
    "    \n",
    "X2_1 = msc(X2)[0]\n",
    "    \n",
    "optimise_pls_cv(X2_1, y_df, 40, plot_components=True)"
   ]
  },
  {
   "cell_type": "code",
   "execution_count": 122,
   "metadata": {},
   "outputs": [
    {
     "name": "stdout",
     "output_type": "stream",
     "text": [
      "100% completed\n",
      "Suggested number of components:  4\n",
      "\n"
     ]
    },
    {
     "data": {
      "image/png": "[encoded data removed]",
      "text/plain": [
       "<Figure size 432x288 with 1 Axes>"
      ]
     },
     "metadata": {},
     "output_type": "display_data"
    },
    {
     "name": "stdout",
     "output_type": "stream",
     "text": [
      "R2 calib: 0.796\n",
      "R2 CV: 0.121\n",
      "MSE calib: 0.210\n",
      "MSE CV: 0.908\n"
     ]
    }
   ],
   "source": [
    "X2_train = savgol_filter(X_train, 37, polyorder = 4,deriv=0) \n",
    "X2_test = savgol_filter(X_test, 35, polyorder = 4,deriv=0) \n",
    "\n",
    "\n",
    "\n",
    "\n",
    "optimise_pls_cv(X2_train, y_train, 40, plot_components=True)"
   ]
  },
  {
   "cell_type": "code",
   "execution_count": 123,
   "metadata": {},
   "outputs": [
    {
     "name": "stdout",
     "output_type": "stream",
     "text": [
      "R2_pred:  -0.13492392041324552\n",
      "R2_cv:  0.12073556685671827\n",
      "\n",
      "[real, predictions]\n",
      "[[1.11       1.38590257]\n",
      " [0.32       0.58834074]\n",
      " [0.39       1.43281912]\n",
      " [4.54       0.99576645]\n",
      " [0.77       0.12480451]]\n"
     ]
    },
    {
     "data": {
      "image/png": "[encoded data removed]",
      "text/plain": [
       "<Figure size 432x288 with 1 Axes>"
      ]
     },
     "metadata": {
      "needs_background": "light"
     },
     "output_type": "display_data"
    }
   ],
   "source": [
    "# Define PLS object\n",
    "pls = PLSRegression(n_components=4)\n",
    "# Fit\n",
    "pls.fit(X2_train, y_train)\n",
    "\n",
    "y_pred = pls.predict(X2_test)\n",
    "\n",
    "# Cross-validation\n",
    "y_cv = cross_val_predict(pls, X2_train, y_train, cv=10)\n",
    "\n",
    "# Calculate scores for calibration and cross-validation\n",
    "score_pred = r2_score(y_test, y_pred)\n",
    "score_cv = r2_score(y_train, y_cv)\n",
    "\n",
    "print(\"R2_pred: \", score_pred)\n",
    "print(\"R2_cv: \",score_cv)\n",
    "print(\"\")\n",
    "\n",
    "b=np.append(y_test, y_pred, axis=1)\n",
    "\n",
    "print(\"[real, predictions]\")\n",
    "print(b)\n",
    "\n",
    "plt.scatter(y_test, y_pred)\n",
    "plt.xlabel('True Values')\n",
    "plt.ylabel('Predictions')\n",
    "plt.grid(True)\n",
    "plt.show()"
   ]
  },
  {
   "cell_type": "code",
   "execution_count": null,
   "metadata": {},
   "outputs": [],
   "source": []
  },
  {
   "cell_type": "markdown",
   "metadata": {},
   "source": [
    "# Elastic Net"
   ]
  },
  {
   "cell_type": "code",
   "execution_count": 184,
   "metadata": {},
   "outputs": [],
   "source": [
    "alphas = [0.0001, 0.001, 0.01, 0.1, 0.3, 0.5, 0.7, 1]"
   ]
  },
  {
   "cell_type": "code",
   "execution_count": 185,
   "metadata": {},
   "outputs": [
    {
     "name": "stdout",
     "output_type": "stream",
     "text": [
      "Alpha:0.0001, R2:0.10, MSE:29.75, RMSE:5.45\n",
      "Alpha:0.0010, R2:0.02, MSE:29.19, RMSE:5.40\n",
      "Alpha:0.0100, R2:0.00, MSE:28.83, RMSE:5.37\n",
      "Alpha:0.1000, R2:0.00, MSE:28.83, RMSE:5.37\n",
      "Alpha:0.3000, R2:0.00, MSE:28.83, RMSE:5.37\n",
      "Alpha:0.5000, R2:0.00, MSE:28.83, RMSE:5.37\n",
      "Alpha:0.7000, R2:0.00, MSE:28.83, RMSE:5.37\n",
      "Alpha:1.0000, R2:0.00, MSE:28.83, RMSE:5.37\n"
     ]
    }
   ],
   "source": [
    "for a in alphas:\n",
    "    model = ElasticNet(alpha=a).fit(X_train,y_train)   \n",
    "    score = model.score(X_train, y_train)\n",
    "    pred_y = model.predict(X_test)\n",
    "    mse = mean_squared_error(y_test, pred_y)   \n",
    "    print(\"Alpha:{0:.4f}, R2:{1:.2f}, MSE:{2:.2f}, RMSE:{3:.2f}\".format(a, score, mse, np.sqrt(mse)))"
   ]
  },
  {
   "cell_type": "code",
   "execution_count": 186,
   "metadata": {
    "scrolled": true
   },
   "outputs": [
    {
     "name": "stdout",
     "output_type": "stream",
     "text": [
      "Train score:  1.2781745333589889e-05\n",
      "RMSE:  5.36898101492605\n",
      "R^2:  -0.7603728250353385\n"
     ]
    }
   ],
   "source": [
    "model = ElasticNet(alpha=0.01).fit(X_train,y_train)   \n",
    "score = model.score(X_train, y_train)\n",
    "print(\"Train score: \", score)\n",
    "pred_y = model.predict(X_test)\n",
    "\n",
    "\n",
    "rmse = sqrt(mean_squared_error(y_test, pred_y))\n",
    "r2 = r2_score(y_test, pred_y)\n",
    "print(\"RMSE: \", rmse)\n",
    "print(\"R^2: \", r2)"
   ]
  },
  {
   "cell_type": "code",
   "execution_count": 187,
   "metadata": {},
   "outputs": [
    {
     "data": {
      "image/png": "[encoded data removed]",
      "text/plain": [
       "<Figure size 432x288 with 1 Axes>"
      ]
     },
     "metadata": {
      "needs_background": "light"
     },
     "output_type": "display_data"
    }
   ],
   "source": [
    "plt.scatter(y_test, y_pred)\n",
    "plt.xlabel('True Values')\n",
    "plt.ylabel('Predictions')\n",
    "plt.grid(True)\n",
    "plt.show()"
   ]
  },
  {
   "cell_type": "code",
   "execution_count": null,
   "metadata": {},
   "outputs": [],
   "source": []
  },
  {
   "cell_type": "markdown",
   "metadata": {},
   "source": [
    "# Random Forest"
   ]
  },
  {
   "cell_type": "code",
   "execution_count": 84,
   "metadata": {},
   "outputs": [
    {
     "name": "stdout",
     "output_type": "stream",
     "text": [
      "(20, 1446) (20, 1)\n",
      "(4, 1446) (4, 1)\n"
     ]
    }
   ],
   "source": [
    "X_train, X_test, y_train, y_test = train_test_split(x_df, y_df, test_size=0.15)\n",
    "print (X_train.shape, y_train.shape)\n",
    "print (X_test.shape, y_test.shape)\n",
    "#print(X_test)"
   ]
  },
  {
   "cell_type": "code",
   "execution_count": 146,
   "metadata": {},
   "outputs": [
    {
     "name": "stdout",
     "output_type": "stream",
     "text": [
      "(5,)\n",
      "(19,)\n"
     ]
    }
   ],
   "source": [
    "y_test=np.ravel(y_test)\n",
    "print(y_test.shape)\n",
    "y_train=np.ravel(y_train)\n",
    "print(y_train.shape)"
   ]
  },
  {
   "cell_type": "code",
   "execution_count": 180,
   "metadata": {},
   "outputs": [],
   "source": [
    "# Import the model we are using\n",
    "from sklearn.ensemble import RandomForestRegressor\n",
    "# Instantiate model with 1000 decision trees\n",
    "rf = RandomForestRegressor(n_estimators = 500, max_depth=30, random_state = 42)\n",
    "# Train the model on training data\n",
    "#rf.fit(X_train, y_train);\n",
    "\n",
    "rf.fit(Xn_train, y_train);"
   ]
  },
  {
   "cell_type": "code",
   "execution_count": 181,
   "metadata": {},
   "outputs": [
    {
     "name": "stdout",
     "output_type": "stream",
     "text": [
      "Mean Absolute Error: 4.21\n"
     ]
    }
   ],
   "source": [
    "# Use the forest's predict method on the test data\n",
    "\n",
    "#predictions = rf.predict(X_test)\n",
    "predictions = rf.predict(X_test)\n",
    "\n",
    "# Calculate the absolute errors\n",
    "errors = abs(predictions - y_test)\n",
    "# Print out the mean absolute error (mae)\n",
    "print('Mean Absolute Error:', round(np.mean(errors), 2))"
   ]
  },
  {
   "cell_type": "code",
   "execution_count": 182,
   "metadata": {},
   "outputs": [
    {
     "name": "stdout",
     "output_type": "stream",
     "text": [
      "RMSE:  3.9912770579101613\n",
      "R^2:  0.027152716203246885\n"
     ]
    }
   ],
   "source": [
    "rmse = sqrt(mean_squared_error(y_test, predictions))\n",
    "r2 = r2_score(y_test, predictions)\n",
    "print(\"RMSE: \", rmse)\n",
    "print(\"R^2: \", r2)"
   ]
  },
  {
   "cell_type": "code",
   "execution_count": 150,
   "metadata": {},
   "outputs": [
    {
     "name": "stdout",
     "output_type": "stream",
     "text": [
      "(5, 1)\n",
      "<class 'numpy.ndarray'>\n",
      "(5, 1)\n",
      "<class 'numpy.ndarray'>\n"
     ]
    }
   ],
   "source": [
    "y_test= y_test.reshape((len(y_test), 1))\n",
    "print(y_test.shape)\n",
    "print(type(y_test))\n",
    "predictions=predictions.reshape((len(y_test), 1))\n",
    "print(predictions.shape)\n",
    "print(type(y_test))\n",
    "#print((y_test, predictions))"
   ]
  },
  {
   "cell_type": "code",
   "execution_count": 151,
   "metadata": {},
   "outputs": [
    {
     "name": "stdout",
     "output_type": "stream",
     "text": [
      "[real, predictions]\n",
      "[[ 0.16      2.315648]\n",
      " [ 7.46      5.096398]\n",
      " [ 8.75      3.14387 ]\n",
      " [ 8.565     5.224808]\n",
      " [12.53      7.015142]]\n"
     ]
    }
   ],
   "source": [
    "b=np.append(y_test, predictions, axis=1)\n",
    "\n",
    "print(\"[real, predictions]\")\n",
    "print(b)"
   ]
  },
  {
   "cell_type": "code",
   "execution_count": 152,
   "metadata": {},
   "outputs": [
    {
     "data": {
      "text/plain": [
       "Text(0, 0.5, 'Predictions')"
      ]
     },
     "execution_count": 152,
     "metadata": {},
     "output_type": "execute_result"
    },
    {
     "data": {
      "image/png": "[encoded data removed]",
      "text/plain": [
       "<Figure size 432x288 with 1 Axes>"
      ]
     },
     "metadata": {
      "needs_background": "light"
     },
     "output_type": "display_data"
    }
   ],
   "source": [
    "plt.scatter(y_test, predictions)\n",
    "plt.xlabel('True Values')\n",
    "plt.ylabel('Predictions')"
   ]
  },
  {
   "cell_type": "code",
   "execution_count": 55,
   "metadata": {},
   "outputs": [],
   "source": [
    "#I don't remember what's this\n",
    "\n",
    "#X_train = normalize(X_train, axis=1)\n",
    "#X_test = normalize(X_test, axis=1)"
   ]
  },
  {
   "cell_type": "code",
   "execution_count": 41,
   "metadata": {},
   "outputs": [
    {
     "ename": "NameError",
     "evalue": "name 'c' is not defined",
     "output_type": "error",
     "traceback": [
      "\u001b[1;31m---------------------------------------------------------------------------\u001b[0m",
      "\u001b[1;31mNameError\u001b[0m                                 Traceback (most recent call last)",
      "\u001b[1;32m<ipython-input-41-2b66fd261ee5>\u001b[0m in \u001b[0;36m<module>\u001b[1;34m\u001b[0m\n\u001b[1;32m----> 1\u001b[1;33m \u001b[0mc\u001b[0m\u001b[1;33m\u001b[0m\u001b[1;33m\u001b[0m\u001b[0m\n\u001b[0m",
      "\u001b[1;31mNameError\u001b[0m: name 'c' is not defined"
     ]
    }
   ],
   "source": [
    "c"
   ]
  },
  {
   "cell_type": "markdown",
   "metadata": {},
   "source": [
    "# MultiOutput Random Forest"
   ]
  },
  {
   "cell_type": "code",
   "execution_count": 132,
   "metadata": {},
   "outputs": [
    {
     "name": "stdout",
     "output_type": "stream",
     "text": [
      "(24, 6)\n",
      "<class 'numpy.ndarray'>\n",
      "<class 'pandas.core.frame.DataFrame'>\n"
     ]
    }
   ],
   "source": [
    "multi_y = concentration[:,1:-2]\n",
    "print (multi_y.shape)\n",
    "print (type(multi_y))\n",
    "df_y= pd.DataFrame(multi_y)\n",
    "print (type(df_y))"
   ]
  },
  {
   "cell_type": "code",
   "execution_count": 153,
   "metadata": {},
   "outputs": [
    {
     "name": "stdout",
     "output_type": "stream",
     "text": [
      "(19, 1130) (19, 6)\n",
      "(5, 1130) (5, 6)\n"
     ]
    }
   ],
   "source": [
    "X_train, X_test, y_train, y_test = train_test_split(x_df, df_y, test_size=0.2)\n",
    "print (X_train.shape, y_train.shape)\n",
    "print (X_test.shape, y_test.shape)\n",
    "#print(X_test)"
   ]
  },
  {
   "cell_type": "code",
   "execution_count": 134,
   "metadata": {},
   "outputs": [
    {
     "data": {
      "text/plain": [
       "MultiOutputRegressor(estimator=RandomForestRegressor(bootstrap=True,\n",
       "                                                     ccp_alpha=0.0,\n",
       "                                                     criterion='mse',\n",
       "                                                     max_depth=30,\n",
       "                                                     max_features='auto',\n",
       "                                                     max_leaf_nodes=None,\n",
       "                                                     max_samples=None,\n",
       "                                                     min_impurity_decrease=0.0,\n",
       "                                                     min_impurity_split=None,\n",
       "                                                     min_samples_leaf=1,\n",
       "                                                     min_samples_split=2,\n",
       "                                                     min_weight_fraction_leaf=0.0,\n",
       "                                                     n_estimators=650,\n",
       "                                                     n_jobs=None,\n",
       "                                                     oob_score=False,\n",
       "                                                     random_state=0, verbose=0,\n",
       "                                                     warm_start=False),\n",
       "                     n_jobs=None)"
      ]
     },
     "execution_count": 134,
     "metadata": {},
     "output_type": "execute_result"
    }
   ],
   "source": [
    "from sklearn.multioutput import MultiOutputRegressor\n",
    "from sklearn.ensemble import RandomForestRegressor\n",
    "\n",
    "max_depth = 30\n",
    "regr_multirf = MultiOutputRegressor(RandomForestRegressor(n_estimators=650,\n",
    "                                                          max_depth=max_depth,\n",
    "                                                          random_state=0))\n",
    "regr_multirf.fit(X_train, y_train)\n"
   ]
  },
  {
   "cell_type": "code",
   "execution_count": 135,
   "metadata": {},
   "outputs": [],
   "source": [
    "y_multirf = regr_multirf.predict(X_test)"
   ]
  },
  {
   "cell_type": "code",
   "execution_count": 136,
   "metadata": {},
   "outputs": [
    {
     "name": "stdout",
     "output_type": "stream",
     "text": [
      "(5, 6)\n",
      "(5, 6)\n"
     ]
    }
   ],
   "source": [
    "print(y_test.shape)\n",
    "print(y_multirf.shape)"
   ]
  },
  {
   "cell_type": "code",
   "execution_count": 137,
   "metadata": {},
   "outputs": [
    {
     "name": "stdout",
     "output_type": "stream",
     "text": [
      "R^2:  -1.2798201186343863\n",
      "RMSE:  1.5231794557929577\n"
     ]
    }
   ],
   "source": [
    "rmse = sqrt(mean_squared_error(y_test, y_multirf))\n",
    "r2 = r2_score(y_test, y_multirf)\n",
    "\n",
    "print(\"R^2: \", r2)\n",
    "print(\"RMSE: \", rmse)"
   ]
  },
  {
   "cell_type": "code",
   "execution_count": 138,
   "metadata": {},
   "outputs": [
    {
     "name": "stdout",
     "output_type": "stream",
     "text": [
      "[real, predictions]\n",
      "[[6.160e+00 0.000e+00 3.630e-01 0.000e+00 6.000e-03 2.060e-01 8.711e+00\n",
      "  2.880e-01 4.460e-01 2.870e-01 7.790e-01 1.910e-01]\n",
      " [6.120e+00 0.000e+00 3.200e-01 0.000e+00 5.000e-03 1.600e-02 8.009e+00\n",
      "  2.150e-01 4.630e-01 8.500e-02 1.110e-01 1.440e-01]\n",
      " [1.253e+01 3.100e-01 2.500e-02 5.000e-02 5.600e-02 3.300e-02 7.822e+00\n",
      "  2.570e-01 2.970e-01 1.650e-01 1.750e-01 2.170e-01]\n",
      " [1.800e-01 5.000e-01 1.110e+00 5.200e-02 1.500e-01 1.260e+00 4.830e-01\n",
      "  3.630e-01 1.233e+00 2.260e-01 1.360e-01 9.710e-01]\n",
      " [1.290e+01 1.200e-01 5.200e-01 1.550e-01 5.200e-01 2.860e-01 6.898e+00\n",
      "  3.360e-01 7.140e-01 1.420e-01 5.610e-01 2.290e-01]]\n"
     ]
    }
   ],
   "source": [
    "b=np.append(np.around(y_test,3), np.around(y_multirf,3), axis=1)\n",
    "\n",
    "print(\"[real, predictions]\")\n",
    "print(b)"
   ]
  },
  {
   "cell_type": "code",
   "execution_count": 139,
   "metadata": {},
   "outputs": [
    {
     "data": {
      "text/plain": [
       "Text(0, 0.5, 'Predictions')"
      ]
     },
     "execution_count": 139,
     "metadata": {},
     "output_type": "execute_result"
    },
    {
     "data": {
      "image/png": "[encoded data removed]",
      "text/plain": [
       "<Figure size 432x288 with 1 Axes>"
      ]
     },
     "metadata": {
      "needs_background": "light"
     },
     "output_type": "display_data"
    }
   ],
   "source": [
    "plt.scatter(y_test, y_multirf)\n",
    "plt.xlabel('True Values')\n",
    "plt.ylabel('Predictions')"
   ]
  },
  {
   "cell_type": "code",
   "execution_count": 141,
   "metadata": {},
   "outputs": [
    {
     "data": {
      "text/plain": [
       "array([8.71, 8.01, 7.82, 0.48, 6.9 ])"
      ]
     },
     "execution_count": 141,
     "metadata": {},
     "output_type": "execute_result"
    }
   ],
   "source": [
    "y_pred=np.around(y_multirf,2)\n",
    "y_pred[:,0]"
   ]
  },
  {
   "cell_type": "code",
   "execution_count": 142,
   "metadata": {},
   "outputs": [
    {
     "data": {
      "text/plain": [
       "array([ 6.16,  6.12, 12.53,  0.18, 12.9 ])"
      ]
     },
     "execution_count": 142,
     "metadata": {},
     "output_type": "execute_result"
    }
   ],
   "source": [
    "y_test[0].values"
   ]
  },
  {
   "cell_type": "code",
   "execution_count": 143,
   "metadata": {},
   "outputs": [
    {
     "name": "stdout",
     "output_type": "stream",
     "text": [
      "real:  [ 6.16  6.12 12.53  0.18 12.9 ]\n",
      "pred:  [8.71 8.01 7.82 0.48 6.9 ]\n"
     ]
    }
   ],
   "source": [
    "print(\"real: \", y_test[0].values)\n",
    "print(\"pred: \", y_pred[:,0])"
   ]
  },
  {
   "cell_type": "markdown",
   "metadata": {},
   "source": [
    "# PLS-2"
   ]
  },
  {
   "cell_type": "code",
   "execution_count": 154,
   "metadata": {},
   "outputs": [
    {
     "name": "stdout",
     "output_type": "stream",
     "text": [
      "100% completed\n",
      "Suggested number of components:  33\n",
      "\n"
     ]
    },
    {
     "data": {
      "image/png": "[encoded data removed]",
      "text/plain": [
       "<Figure size 432x288 with 1 Axes>"
      ]
     },
     "metadata": {},
     "output_type": "display_data"
    },
    {
     "name": "stdout",
     "output_type": "stream",
     "text": [
      "R2 calib: 1.000\n",
      "R2 CV: 0.018\n",
      "MSE calib: 0.000\n",
      "MSE CV: 0.939\n"
     ]
    }
   ],
   "source": [
    "optimise_pls_cv(X_train, y_train, 40, plot_components=True)"
   ]
  },
  {
   "cell_type": "code",
   "execution_count": 155,
   "metadata": {},
   "outputs": [
    {
     "name": "stdout",
     "output_type": "stream",
     "text": [
      "R^2:  0.018347253779067135\n",
      "MSE:  0.9391318844120397\n"
     ]
    }
   ],
   "source": [
    "# Define PLS object\n",
    "pls = PLSRegression(n_components= 26)\n",
    "# Fit\n",
    "pls.fit(X_train, y_train)\n",
    "# Cross-validation\n",
    "y_cv = cross_val_predict(pls, X_train, y_train, cv=10)\n",
    "# Calculate scores\n",
    "score = r2_score(y_train, y_cv)\n",
    "mse = mean_squared_error(y_train, y_cv)\n",
    "\n",
    "print(\"R^2: \", score)\n",
    "print(\"MSE: \", mse)"
   ]
  },
  {
   "cell_type": "code",
   "execution_count": 150,
   "metadata": {},
   "outputs": [
    {
     "name": "stdout",
     "output_type": "stream",
     "text": [
      "-4.070272705754876\n",
      "0.36555579763038115\n"
     ]
    }
   ],
   "source": [
    "y_pred = pls.predict(X_test)\n",
    "\n",
    "# Cross-validation\n",
    "y_cv = cross_val_predict(pls, X_train, y_train, cv=10)\n",
    "\n",
    "# Calculate scores for calibration and cross-validation\n",
    "score_pred = r2_score(y_test, y_pred)\n",
    "score_cv = r2_score(y_train, y_cv)\n",
    "\n",
    "print(score_pred) #NAMMERDA\n",
    "print(score_cv)"
   ]
  },
  {
   "cell_type": "code",
   "execution_count": 151,
   "metadata": {},
   "outputs": [
    {
     "data": {
      "text/html": [
       "<div>\n",
       "<style scoped>\n",
       "    .dataframe tbody tr th:only-of-type {\n",
       "        vertical-align: middle;\n",
       "    }\n",
       "\n",
       "    .dataframe tbody tr th {\n",
       "        vertical-align: top;\n",
       "    }\n",
       "\n",
       "    .dataframe thead th {\n",
       "        text-align: right;\n",
       "    }\n",
       "</style>\n",
       "<table border=\"1\" class=\"dataframe\">\n",
       "  <thead>\n",
       "    <tr style=\"text-align: right;\">\n",
       "      <th></th>\n",
       "      <th>0</th>\n",
       "      <th>1</th>\n",
       "      <th>2</th>\n",
       "      <th>3</th>\n",
       "      <th>4</th>\n",
       "      <th>5</th>\n",
       "    </tr>\n",
       "  </thead>\n",
       "  <tbody>\n",
       "    <tr>\n",
       "      <th>0</th>\n",
       "      <td>7.84</td>\n",
       "      <td>0.22</td>\n",
       "      <td>0.54</td>\n",
       "      <td>0.19</td>\n",
       "      <td>0.57</td>\n",
       "      <td>0.27</td>\n",
       "    </tr>\n",
       "    <tr>\n",
       "      <th>1</th>\n",
       "      <td>8.62</td>\n",
       "      <td>0.12</td>\n",
       "      <td>0.35</td>\n",
       "      <td>0.06</td>\n",
       "      <td>-0.12</td>\n",
       "      <td>-0.06</td>\n",
       "    </tr>\n",
       "    <tr>\n",
       "      <th>2</th>\n",
       "      <td>10.50</td>\n",
       "      <td>0.13</td>\n",
       "      <td>-0.61</td>\n",
       "      <td>0.45</td>\n",
       "      <td>0.15</td>\n",
       "      <td>-0.03</td>\n",
       "    </tr>\n",
       "    <tr>\n",
       "      <th>3</th>\n",
       "      <td>-0.28</td>\n",
       "      <td>0.42</td>\n",
       "      <td>1.56</td>\n",
       "      <td>-0.11</td>\n",
       "      <td>-0.34</td>\n",
       "      <td>0.95</td>\n",
       "    </tr>\n",
       "    <tr>\n",
       "      <th>4</th>\n",
       "      <td>9.93</td>\n",
       "      <td>0.09</td>\n",
       "      <td>0.29</td>\n",
       "      <td>-0.26</td>\n",
       "      <td>0.65</td>\n",
       "      <td>0.14</td>\n",
       "    </tr>\n",
       "  </tbody>\n",
       "</table>\n",
       "</div>"
      ],
      "text/plain": [
       "       0     1     2     3     4     5\n",
       "0   7.84  0.22  0.54  0.19  0.57  0.27\n",
       "1   8.62  0.12  0.35  0.06 -0.12 -0.06\n",
       "2  10.50  0.13 -0.61  0.45  0.15 -0.03\n",
       "3  -0.28  0.42  1.56 -0.11 -0.34  0.95\n",
       "4   9.93  0.09  0.29 -0.26  0.65  0.14"
      ]
     },
     "execution_count": 151,
     "metadata": {},
     "output_type": "execute_result"
    }
   ],
   "source": [
    "pd.DataFrame(np.round(y_pred, decimals=2))"
   ]
  },
  {
   "cell_type": "code",
   "execution_count": 152,
   "metadata": {
    "scrolled": true
   },
   "outputs": [
    {
     "data": {
      "text/html": [
       "<div>\n",
       "<style scoped>\n",
       "    .dataframe tbody tr th:only-of-type {\n",
       "        vertical-align: middle;\n",
       "    }\n",
       "\n",
       "    .dataframe tbody tr th {\n",
       "        vertical-align: top;\n",
       "    }\n",
       "\n",
       "    .dataframe thead th {\n",
       "        text-align: right;\n",
       "    }\n",
       "</style>\n",
       "<table border=\"1\" class=\"dataframe\">\n",
       "  <thead>\n",
       "    <tr style=\"text-align: right;\">\n",
       "      <th></th>\n",
       "      <th>0</th>\n",
       "      <th>1</th>\n",
       "      <th>2</th>\n",
       "      <th>3</th>\n",
       "      <th>4</th>\n",
       "      <th>5</th>\n",
       "    </tr>\n",
       "  </thead>\n",
       "  <tbody>\n",
       "    <tr>\n",
       "      <th>20</th>\n",
       "      <td>6.16</td>\n",
       "      <td>0.00</td>\n",
       "      <td>0.36</td>\n",
       "      <td>0.00</td>\n",
       "      <td>0.01</td>\n",
       "      <td>0.21</td>\n",
       "    </tr>\n",
       "    <tr>\n",
       "      <th>12</th>\n",
       "      <td>6.12</td>\n",
       "      <td>0.00</td>\n",
       "      <td>0.32</td>\n",
       "      <td>0.00</td>\n",
       "      <td>0.01</td>\n",
       "      <td>0.02</td>\n",
       "    </tr>\n",
       "    <tr>\n",
       "      <th>13</th>\n",
       "      <td>12.53</td>\n",
       "      <td>0.31</td>\n",
       "      <td>0.02</td>\n",
       "      <td>0.05</td>\n",
       "      <td>0.06</td>\n",
       "      <td>0.03</td>\n",
       "    </tr>\n",
       "    <tr>\n",
       "      <th>22</th>\n",
       "      <td>0.18</td>\n",
       "      <td>0.50</td>\n",
       "      <td>1.11</td>\n",
       "      <td>0.05</td>\n",
       "      <td>0.15</td>\n",
       "      <td>1.26</td>\n",
       "    </tr>\n",
       "    <tr>\n",
       "      <th>7</th>\n",
       "      <td>12.90</td>\n",
       "      <td>0.12</td>\n",
       "      <td>0.52</td>\n",
       "      <td>0.16</td>\n",
       "      <td>0.52</td>\n",
       "      <td>0.29</td>\n",
       "    </tr>\n",
       "  </tbody>\n",
       "</table>\n",
       "</div>"
      ],
      "text/plain": [
       "        0     1     2     3     4     5\n",
       "20   6.16  0.00  0.36  0.00  0.01  0.21\n",
       "12   6.12  0.00  0.32  0.00  0.01  0.02\n",
       "13  12.53  0.31  0.02  0.05  0.06  0.03\n",
       "22   0.18  0.50  1.11  0.05  0.15  1.26\n",
       "7   12.90  0.12  0.52  0.16  0.52  0.29"
      ]
     },
     "execution_count": 152,
     "metadata": {},
     "output_type": "execute_result"
    }
   ],
   "source": [
    "np.round(y_test, decimals=2)"
   ]
  },
  {
   "cell_type": "code",
   "execution_count": null,
   "metadata": {},
   "outputs": [],
   "source": []
  },
  {
   "cell_type": "code",
   "execution_count": null,
   "metadata": {},
   "outputs": [],
   "source": []
  }
 ],
 "metadata": {
  "kernelspec": {
   "display_name": "Python 3",
   "language": "python",
   "name": "python3"
  },
  "language_info": {
   "codemirror_mode": {
    "name": "ipython",
    "version": 3
   },
   "file_extension": ".py",
   "mimetype": "text/x-python",
   "name": "python",
   "nbconvert_exporter": "python",
   "pygments_lexer": "ipython3",
   "version": "3.7.6"
  }
 },
 "nbformat": 4,
 "nbformat_minor": 2
}
