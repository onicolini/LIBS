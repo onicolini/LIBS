{
 "cells": [
  {
   "cell_type": "code",
   "execution_count": 64,
   "metadata": {},
   "outputs": [],
   "source": [
    "import os\n",
    "from sys import stdout\n",
    "\n",
    "import numpy as np\n",
    "import pandas as pd\n",
    "import matplotlib.pyplot as plt\n",
    "import peakutils\n",
    "%matplotlib inline \n",
    "from math import sqrt\n",
    "from scipy.signal import savgol_filter\n",
    "from sklearn.decomposition import PCA \n",
    "from sklearn.preprocessing import StandardScaler, normalize, MinMaxScaler \n",
    "from sklearn.model_selection import train_test_split, RandomizedSearchCV\n",
    "from sklearn.metrics import mean_squared_error, r2_score\n",
    "from sklearn.cross_decomposition import PLSRegression\n",
    "from sklearn.model_selection import cross_val_predict\n",
    "from sklearn import linear_model\n",
    "\n",
    "import warnings\n",
    "warnings.filterwarnings('ignore')"
   ]
  },
  {
   "cell_type": "code",
   "execution_count": 92,
   "metadata": {},
   "outputs": [
    {
     "data": {
      "text/plain": [
       "\"   \\n    # Fit a line to the CV vs response\\n    z = np.polyfit(y, y_c, 1)\\n    with plt.style.context(('ggplot')):\\n        fig, ax = plt.subplots(figsize=(9, 5))\\n        ax.scatter(y_c, y, c='red', edgecolors='k')\\n        #Plot the best fit line\\n        ax.plot(np.polyval(z,y), y, c='blue', linewidth=1)\\n        #Plot the ideal 1:1 line\\n        ax.plot(y, y, color='green', linewidth=1)\\n        plt.title('$R^{2}$ (CV): '+str(score_cv))\\n        plt.xlabel('Predicted $^{\\\\circ}$Brix')\\n        plt.ylabel('Measured $^{\\\\circ}$Brix')\\n        plt.show()\\n    return\\n\""
      ]
     },
     "execution_count": 92,
     "metadata": {},
     "output_type": "execute_result"
    }
   ],
   "source": [
    "def optimise_pls_cv(X, y, n_comp, plot_components=True):\n",
    "    '''Run PLS including a variable number of components, up to n_comp,\n",
    "       and calculate MSE '''\n",
    "    mse = []\n",
    "    component = np.arange(1, n_comp)\n",
    "    for i in component:\n",
    "        pls = PLSRegression(n_components=i)\n",
    "        # Cross-validation\n",
    "        y_cv = cross_val_predict(pls, X, y, cv=10)\n",
    "        mse.append(mean_squared_error(y, y_cv))\n",
    "        comp = 100*(i+1)/40\n",
    "        # Trick to update status on the same line\n",
    "        stdout.write(\"\\r%d%% completed\" % comp)\n",
    "        stdout.flush()\n",
    "    stdout.write(\"\\n\")\n",
    "    # Calculate and print the position of minimum in MSE\n",
    "    msemin = np.argmin(mse)\n",
    "    print(\"Suggested number of components: \", msemin+1)\n",
    "    stdout.write(\"\\n\")\n",
    "    if plot_components is True:\n",
    "        with plt.style.context(('ggplot')):\n",
    "            plt.plot(component, np.array(mse), '-v', color = 'blue', mfc='blue')\n",
    "            plt.plot(component[msemin], np.array(mse)[msemin], 'P', ms=10, mfc='red')\n",
    "            plt.xlabel('Number of PLS components')\n",
    "            plt.ylabel('MSE')\n",
    "            plt.title('PLS')\n",
    "            plt.xlim(left=-1)\n",
    "        plt.show()\n",
    "    # Define PLS object with optimal number of components\n",
    "    pls_opt = PLSRegression(n_components=msemin+1)\n",
    "    # Fir to the entire dataset\n",
    "    pls_opt.fit(X, y)\n",
    "    y_c = pls_opt.predict(X)\n",
    "    # Cross-validation\n",
    "    y_cv = cross_val_predict(pls_opt, X, y, cv=10)\n",
    "    # Calculate scores for calibration and cross-validation\n",
    "    score_c = r2_score(y, y_c)\n",
    "    score_cv = r2_score(y, y_cv)\n",
    "    # Calculate mean squared error for calibration and cross validation\n",
    "    mse_c = mean_squared_error(y, y_c)\n",
    "    mse_cv = mean_squared_error(y, y_cv)\n",
    "    print('R2 calib: %5.3f'  % score_c)\n",
    "    print('R2 CV: %5.3f'  % score_cv)\n",
    "    print('MSE calib: %5.3f' % mse_c)\n",
    "    print('MSE CV: %5.3f' % mse_cv)\n",
    "    \n",
    "    return\n",
    "    # Plot regression and figures of merit\n",
    "    rangey = max(y) - min(y)\n",
    "    rangex = max(y_c) - min(y_c)\n",
    "\"\"\"   \n",
    "    # Fit a line to the CV vs response\n",
    "    z = np.polyfit(y, y_c, 1)\n",
    "    with plt.style.context(('ggplot')):\n",
    "        fig, ax = plt.subplots(figsize=(9, 5))\n",
    "        ax.scatter(y_c, y, c='red', edgecolors='k')\n",
    "        #Plot the best fit line\n",
    "        ax.plot(np.polyval(z,y), y, c='blue', linewidth=1)\n",
    "        #Plot the ideal 1:1 line\n",
    "        ax.plot(y, y, color='green', linewidth=1)\n",
    "        plt.title('$R^{2}$ (CV): '+str(score_cv))\n",
    "        plt.xlabel('Predicted $^{\\circ}$Brix')\n",
    "        plt.ylabel('Measured $^{\\circ}$Brix')\n",
    "        plt.show()\n",
    "    return\n",
    "\"\"\" "
   ]
  },
  {
   "cell_type": "code",
   "execution_count": 93,
   "metadata": {},
   "outputs": [],
   "source": [
    "def pls_variable_selection(X, y, max_comp):\n",
    "    \n",
    "    # Define MSE array to be populated\n",
    "    mse = np.zeros((max_comp,X.shape[1]))\n",
    "    # Loop over the number of PLS components\n",
    "    for i in range(max_comp):\n",
    "        \n",
    "        # Regression with specified number of components, using full spectrum\n",
    "        pls1 = PLSRegression(n_components=i+1)\n",
    "        pls1.fit(X, y)\n",
    "        \n",
    "        # Indices of sort spectra according to ascending absolute value of PLS coefficients\n",
    "        sorted_ind = np.argsort(np.abs(pls1.coef_[:,0]))\n",
    "        # Sort spectra accordingly \n",
    "        Xc = X[:,sorted_ind]\n",
    "        # Discard one wavelength at a time of the sorted spectra,\n",
    "        # regress, and calculate the MSE cross-validation\n",
    "        for j in range(Xc.shape[1]-(i+1)):\n",
    "            pls2 = PLSRegression(n_components=i+1)\n",
    "            pls2.fit(Xc[:, j:], y)\n",
    "            \n",
    "            y_cv = cross_val_predict(pls2, Xc[:, j:], y, cv=5)\n",
    "            mse[i,j] = mean_squared_error(y, y_cv)\n",
    "    \n",
    "        comp = 100*(i+1)/(max_comp)\n",
    "        stdout.write(\"\\r%d%% completed\" % comp)\n",
    "        stdout.flush()\n",
    "    stdout.write(\"\\n\")\n",
    "    # # Calculate and print the position of minimum in MSE\n",
    "    mseminx,mseminy = np.where(mse==np.min(mse[np.nonzero(mse)]))\n",
    "    print(\"Optimised number of PLS components: \", mseminx[0]+1)\n",
    "    print(\"Wavelengths to be discarded \",mseminy[0])\n",
    "    print('Optimised MSEP ', mse[mseminx,mseminy][0])\n",
    "    stdout.write(\"\\n\")\n",
    "    # plt.imshow(mse, interpolation=None)\n",
    "    # plt.show()\n",
    "    # Calculate PLS with optimal components and export values\n",
    "    pls = PLSRegression(n_components=mseminx[0]+1)\n",
    "    pls.fit(X, y)\n",
    "        \n",
    "    sorted_ind = np.argsort(np.abs(pls.coef_[:,0]))\n",
    "    Xc = X[:,sorted_ind]\n",
    "    return(Xc[:,mseminy[0]:],mseminx[0]+1,mseminy[0], sorted_ind)"
   ]
  },
  {
   "cell_type": "code",
   "execution_count": 100,
   "metadata": {},
   "outputs": [],
   "source": [
    "def msc(input_data, reference=None):\n",
    "    ''' Perform Multiplicative scatter correction'''\n",
    "    # mean centre correction\n",
    "    for i in range(input_data.shape[0]):\n",
    "        input_data[i,:] -= input_data[i,:].mean()\n",
    "    # Get the reference spectrum. If not given, estimate it from the mean    \n",
    "    if reference is None:    \n",
    "        # Calculate mean\n",
    "        ref = np.mean(input_data, axis=0)\n",
    "    else:\n",
    "        ref = reference\n",
    "    # Define a new array and populate it with the corrected data    \n",
    "    data_msc = np.zeros_like(input_data)\n",
    "    for i in range(input_data.shape[0]):\n",
    "        # Run regression\n",
    "        fit = np.polyfit(ref, input_data[i,:], 1, full=True)\n",
    "        # Apply correction\n",
    "        data_msc[i,:] = (input_data[i,:] - fit[0][1]) / fit[0][0] \n",
    "    return (data_msc, ref)"
   ]
  },
  {
   "cell_type": "code",
   "execution_count": 83,
   "metadata": {},
   "outputs": [
    {
     "name": "stdout",
     "output_type": "stream",
     "text": [
      "(24, 1446)\n",
      "(1446,)\n",
      "24\n"
     ]
    },
    {
     "data": {
      "text/html": [
       "<div>\n",
       "<style scoped>\n",
       "    .dataframe tbody tr th:only-of-type {\n",
       "        vertical-align: middle;\n",
       "    }\n",
       "\n",
       "    .dataframe tbody tr th {\n",
       "        vertical-align: top;\n",
       "    }\n",
       "\n",
       "    .dataframe thead th {\n",
       "        text-align: right;\n",
       "    }\n",
       "</style>\n",
       "<table border=\"1\" class=\"dataframe\">\n",
       "  <thead>\n",
       "    <tr style=\"text-align: right;\">\n",
       "      <th></th>\n",
       "      <th>252.071400</th>\n",
       "      <th>252.201700</th>\n",
       "      <th>252.331900</th>\n",
       "      <th>252.462200</th>\n",
       "      <th>252.592400</th>\n",
       "      <th>252.722600</th>\n",
       "      <th>252.852900</th>\n",
       "      <th>252.983100</th>\n",
       "      <th>253.113300</th>\n",
       "      <th>253.243600</th>\n",
       "      <th>...</th>\n",
       "      <th>428.718100</th>\n",
       "      <th>428.828600</th>\n",
       "      <th>428.939000</th>\n",
       "      <th>429.049500</th>\n",
       "      <th>429.159900</th>\n",
       "      <th>429.270300</th>\n",
       "      <th>429.380600</th>\n",
       "      <th>429.491000</th>\n",
       "      <th>429.601300</th>\n",
       "      <th>429.711600</th>\n",
       "    </tr>\n",
       "  </thead>\n",
       "  <tbody>\n",
       "    <tr>\n",
       "      <th>0</th>\n",
       "      <td>0.021587</td>\n",
       "      <td>0.021441</td>\n",
       "      <td>0.021291</td>\n",
       "      <td>0.021880</td>\n",
       "      <td>0.021664</td>\n",
       "      <td>0.021075</td>\n",
       "      <td>0.021748</td>\n",
       "      <td>0.021961</td>\n",
       "      <td>0.021617</td>\n",
       "      <td>0.021503</td>\n",
       "      <td>...</td>\n",
       "      <td>0.019178</td>\n",
       "      <td>0.019368</td>\n",
       "      <td>0.020147</td>\n",
       "      <td>0.020016</td>\n",
       "      <td>0.019211</td>\n",
       "      <td>0.019072</td>\n",
       "      <td>0.018749</td>\n",
       "      <td>0.018533</td>\n",
       "      <td>0.018647</td>\n",
       "      <td>0.018680</td>\n",
       "    </tr>\n",
       "    <tr>\n",
       "      <th>1</th>\n",
       "      <td>0.026370</td>\n",
       "      <td>0.026642</td>\n",
       "      <td>0.026547</td>\n",
       "      <td>0.026462</td>\n",
       "      <td>0.026634</td>\n",
       "      <td>0.026581</td>\n",
       "      <td>0.026635</td>\n",
       "      <td>0.026474</td>\n",
       "      <td>0.026619</td>\n",
       "      <td>0.026699</td>\n",
       "      <td>...</td>\n",
       "      <td>0.019997</td>\n",
       "      <td>0.019729</td>\n",
       "      <td>0.019555</td>\n",
       "      <td>0.019649</td>\n",
       "      <td>0.019676</td>\n",
       "      <td>0.019714</td>\n",
       "      <td>0.019417</td>\n",
       "      <td>0.019238</td>\n",
       "      <td>0.019207</td>\n",
       "      <td>0.019211</td>\n",
       "    </tr>\n",
       "    <tr>\n",
       "      <th>2</th>\n",
       "      <td>0.022681</td>\n",
       "      <td>0.022737</td>\n",
       "      <td>0.022276</td>\n",
       "      <td>0.022898</td>\n",
       "      <td>0.022830</td>\n",
       "      <td>0.022728</td>\n",
       "      <td>0.022736</td>\n",
       "      <td>0.022983</td>\n",
       "      <td>0.022890</td>\n",
       "      <td>0.022400</td>\n",
       "      <td>...</td>\n",
       "      <td>0.020306</td>\n",
       "      <td>0.020312</td>\n",
       "      <td>0.019751</td>\n",
       "      <td>0.020045</td>\n",
       "      <td>0.020051</td>\n",
       "      <td>0.020427</td>\n",
       "      <td>0.019842</td>\n",
       "      <td>0.020208</td>\n",
       "      <td>0.019943</td>\n",
       "      <td>0.020071</td>\n",
       "    </tr>\n",
       "    <tr>\n",
       "      <th>3</th>\n",
       "      <td>0.024106</td>\n",
       "      <td>0.024033</td>\n",
       "      <td>0.023864</td>\n",
       "      <td>0.024128</td>\n",
       "      <td>0.024015</td>\n",
       "      <td>0.024126</td>\n",
       "      <td>0.024204</td>\n",
       "      <td>0.024213</td>\n",
       "      <td>0.024186</td>\n",
       "      <td>0.024204</td>\n",
       "      <td>...</td>\n",
       "      <td>0.020380</td>\n",
       "      <td>0.019863</td>\n",
       "      <td>0.019939</td>\n",
       "      <td>0.019657</td>\n",
       "      <td>0.020119</td>\n",
       "      <td>0.019975</td>\n",
       "      <td>0.019697</td>\n",
       "      <td>0.019306</td>\n",
       "      <td>0.019332</td>\n",
       "      <td>0.019383</td>\n",
       "    </tr>\n",
       "    <tr>\n",
       "      <th>4</th>\n",
       "      <td>0.022621</td>\n",
       "      <td>0.022661</td>\n",
       "      <td>0.022401</td>\n",
       "      <td>0.022621</td>\n",
       "      <td>0.022714</td>\n",
       "      <td>0.022769</td>\n",
       "      <td>0.023096</td>\n",
       "      <td>0.023208</td>\n",
       "      <td>0.022707</td>\n",
       "      <td>0.022377</td>\n",
       "      <td>...</td>\n",
       "      <td>0.019011</td>\n",
       "      <td>0.018698</td>\n",
       "      <td>0.018374</td>\n",
       "      <td>0.018439</td>\n",
       "      <td>0.018985</td>\n",
       "      <td>0.018891</td>\n",
       "      <td>0.018558</td>\n",
       "      <td>0.018694</td>\n",
       "      <td>0.018316</td>\n",
       "      <td>0.018411</td>\n",
       "    </tr>\n",
       "    <tr>\n",
       "      <th>5</th>\n",
       "      <td>0.022423</td>\n",
       "      <td>0.021908</td>\n",
       "      <td>0.021901</td>\n",
       "      <td>0.022549</td>\n",
       "      <td>0.022164</td>\n",
       "      <td>0.022158</td>\n",
       "      <td>0.022697</td>\n",
       "      <td>0.022626</td>\n",
       "      <td>0.022245</td>\n",
       "      <td>0.021787</td>\n",
       "      <td>...</td>\n",
       "      <td>0.019999</td>\n",
       "      <td>0.019536</td>\n",
       "      <td>0.019536</td>\n",
       "      <td>0.019378</td>\n",
       "      <td>0.019569</td>\n",
       "      <td>0.019581</td>\n",
       "      <td>0.019414</td>\n",
       "      <td>0.019309</td>\n",
       "      <td>0.019337</td>\n",
       "      <td>0.019422</td>\n",
       "    </tr>\n",
       "    <tr>\n",
       "      <th>6</th>\n",
       "      <td>0.027824</td>\n",
       "      <td>0.027949</td>\n",
       "      <td>0.027859</td>\n",
       "      <td>0.027894</td>\n",
       "      <td>0.027960</td>\n",
       "      <td>0.027953</td>\n",
       "      <td>0.028103</td>\n",
       "      <td>0.028150</td>\n",
       "      <td>0.028023</td>\n",
       "      <td>0.027968</td>\n",
       "      <td>...</td>\n",
       "      <td>0.020215</td>\n",
       "      <td>0.020211</td>\n",
       "      <td>0.020007</td>\n",
       "      <td>0.019929</td>\n",
       "      <td>0.019927</td>\n",
       "      <td>0.020054</td>\n",
       "      <td>0.019908</td>\n",
       "      <td>0.019698</td>\n",
       "      <td>0.019746</td>\n",
       "      <td>0.019659</td>\n",
       "    </tr>\n",
       "    <tr>\n",
       "      <th>7</th>\n",
       "      <td>0.022082</td>\n",
       "      <td>0.021763</td>\n",
       "      <td>0.021886</td>\n",
       "      <td>0.022141</td>\n",
       "      <td>0.022122</td>\n",
       "      <td>0.021941</td>\n",
       "      <td>0.021898</td>\n",
       "      <td>0.022389</td>\n",
       "      <td>0.021996</td>\n",
       "      <td>0.021901</td>\n",
       "      <td>...</td>\n",
       "      <td>0.021156</td>\n",
       "      <td>0.021115</td>\n",
       "      <td>0.021363</td>\n",
       "      <td>0.021094</td>\n",
       "      <td>0.021145</td>\n",
       "      <td>0.021279</td>\n",
       "      <td>0.021021</td>\n",
       "      <td>0.020686</td>\n",
       "      <td>0.020675</td>\n",
       "      <td>0.020963</td>\n",
       "    </tr>\n",
       "    <tr>\n",
       "      <th>8</th>\n",
       "      <td>0.019303</td>\n",
       "      <td>0.019211</td>\n",
       "      <td>0.019010</td>\n",
       "      <td>0.019402</td>\n",
       "      <td>0.019290</td>\n",
       "      <td>0.019481</td>\n",
       "      <td>0.019634</td>\n",
       "      <td>0.019589</td>\n",
       "      <td>0.019538</td>\n",
       "      <td>0.019061</td>\n",
       "      <td>...</td>\n",
       "      <td>0.017575</td>\n",
       "      <td>0.017308</td>\n",
       "      <td>0.017042</td>\n",
       "      <td>0.017283</td>\n",
       "      <td>0.017232</td>\n",
       "      <td>0.017416</td>\n",
       "      <td>0.017007</td>\n",
       "      <td>0.017031</td>\n",
       "      <td>0.017047</td>\n",
       "      <td>0.017009</td>\n",
       "    </tr>\n",
       "    <tr>\n",
       "      <th>9</th>\n",
       "      <td>0.020854</td>\n",
       "      <td>0.020552</td>\n",
       "      <td>0.020294</td>\n",
       "      <td>0.020688</td>\n",
       "      <td>0.020814</td>\n",
       "      <td>0.020779</td>\n",
       "      <td>0.021291</td>\n",
       "      <td>0.021121</td>\n",
       "      <td>0.020670</td>\n",
       "      <td>0.020460</td>\n",
       "      <td>...</td>\n",
       "      <td>0.019804</td>\n",
       "      <td>0.019821</td>\n",
       "      <td>0.019388</td>\n",
       "      <td>0.019489</td>\n",
       "      <td>0.019769</td>\n",
       "      <td>0.019913</td>\n",
       "      <td>0.019686</td>\n",
       "      <td>0.019598</td>\n",
       "      <td>0.019257</td>\n",
       "      <td>0.019440</td>\n",
       "    </tr>\n",
       "    <tr>\n",
       "      <th>10</th>\n",
       "      <td>0.019886</td>\n",
       "      <td>0.019788</td>\n",
       "      <td>0.019543</td>\n",
       "      <td>0.020004</td>\n",
       "      <td>0.019950</td>\n",
       "      <td>0.019723</td>\n",
       "      <td>0.019881</td>\n",
       "      <td>0.020004</td>\n",
       "      <td>0.019762</td>\n",
       "      <td>0.019677</td>\n",
       "      <td>...</td>\n",
       "      <td>0.017211</td>\n",
       "      <td>0.017420</td>\n",
       "      <td>0.018052</td>\n",
       "      <td>0.017874</td>\n",
       "      <td>0.017103</td>\n",
       "      <td>0.017095</td>\n",
       "      <td>0.016654</td>\n",
       "      <td>0.016623</td>\n",
       "      <td>0.016623</td>\n",
       "      <td>0.016778</td>\n",
       "    </tr>\n",
       "    <tr>\n",
       "      <th>11</th>\n",
       "      <td>0.021513</td>\n",
       "      <td>0.021545</td>\n",
       "      <td>0.021343</td>\n",
       "      <td>0.021837</td>\n",
       "      <td>0.021576</td>\n",
       "      <td>0.021531</td>\n",
       "      <td>0.021861</td>\n",
       "      <td>0.021635</td>\n",
       "      <td>0.021736</td>\n",
       "      <td>0.021381</td>\n",
       "      <td>...</td>\n",
       "      <td>0.019915</td>\n",
       "      <td>0.019751</td>\n",
       "      <td>0.019961</td>\n",
       "      <td>0.019746</td>\n",
       "      <td>0.019722</td>\n",
       "      <td>0.019924</td>\n",
       "      <td>0.019478</td>\n",
       "      <td>0.019253</td>\n",
       "      <td>0.019414</td>\n",
       "      <td>0.019331</td>\n",
       "    </tr>\n",
       "    <tr>\n",
       "      <th>12</th>\n",
       "      <td>0.023659</td>\n",
       "      <td>0.023392</td>\n",
       "      <td>0.023287</td>\n",
       "      <td>0.023560</td>\n",
       "      <td>0.023513</td>\n",
       "      <td>0.023679</td>\n",
       "      <td>0.023919</td>\n",
       "      <td>0.023999</td>\n",
       "      <td>0.023503</td>\n",
       "      <td>0.023448</td>\n",
       "      <td>...</td>\n",
       "      <td>0.020126</td>\n",
       "      <td>0.019622</td>\n",
       "      <td>0.019472</td>\n",
       "      <td>0.019408</td>\n",
       "      <td>0.019829</td>\n",
       "      <td>0.019698</td>\n",
       "      <td>0.019356</td>\n",
       "      <td>0.019401</td>\n",
       "      <td>0.019423</td>\n",
       "      <td>0.019333</td>\n",
       "    </tr>\n",
       "    <tr>\n",
       "      <th>13</th>\n",
       "      <td>0.020027</td>\n",
       "      <td>0.019873</td>\n",
       "      <td>0.019719</td>\n",
       "      <td>0.020479</td>\n",
       "      <td>0.019981</td>\n",
       "      <td>0.020064</td>\n",
       "      <td>0.020301</td>\n",
       "      <td>0.020575</td>\n",
       "      <td>0.020031</td>\n",
       "      <td>0.020006</td>\n",
       "      <td>...</td>\n",
       "      <td>0.019528</td>\n",
       "      <td>0.018955</td>\n",
       "      <td>0.018910</td>\n",
       "      <td>0.019125</td>\n",
       "      <td>0.019175</td>\n",
       "      <td>0.019416</td>\n",
       "      <td>0.019171</td>\n",
       "      <td>0.019063</td>\n",
       "      <td>0.018872</td>\n",
       "      <td>0.018756</td>\n",
       "    </tr>\n",
       "    <tr>\n",
       "      <th>14</th>\n",
       "      <td>0.024311</td>\n",
       "      <td>0.024410</td>\n",
       "      <td>0.024374</td>\n",
       "      <td>0.024699</td>\n",
       "      <td>0.024438</td>\n",
       "      <td>0.024400</td>\n",
       "      <td>0.024680</td>\n",
       "      <td>0.024785</td>\n",
       "      <td>0.024728</td>\n",
       "      <td>0.024649</td>\n",
       "      <td>...</td>\n",
       "      <td>0.019438</td>\n",
       "      <td>0.019330</td>\n",
       "      <td>0.019418</td>\n",
       "      <td>0.019684</td>\n",
       "      <td>0.019473</td>\n",
       "      <td>0.019442</td>\n",
       "      <td>0.018997</td>\n",
       "      <td>0.018953</td>\n",
       "      <td>0.018858</td>\n",
       "      <td>0.019005</td>\n",
       "    </tr>\n",
       "    <tr>\n",
       "      <th>15</th>\n",
       "      <td>0.023875</td>\n",
       "      <td>0.023713</td>\n",
       "      <td>0.023830</td>\n",
       "      <td>0.024001</td>\n",
       "      <td>0.024066</td>\n",
       "      <td>0.023788</td>\n",
       "      <td>0.023742</td>\n",
       "      <td>0.024059</td>\n",
       "      <td>0.024063</td>\n",
       "      <td>0.023768</td>\n",
       "      <td>...</td>\n",
       "      <td>0.020084</td>\n",
       "      <td>0.019639</td>\n",
       "      <td>0.019621</td>\n",
       "      <td>0.019403</td>\n",
       "      <td>0.019691</td>\n",
       "      <td>0.019755</td>\n",
       "      <td>0.019455</td>\n",
       "      <td>0.019587</td>\n",
       "      <td>0.019255</td>\n",
       "      <td>0.019379</td>\n",
       "    </tr>\n",
       "    <tr>\n",
       "      <th>16</th>\n",
       "      <td>0.022471</td>\n",
       "      <td>0.022601</td>\n",
       "      <td>0.022454</td>\n",
       "      <td>0.022575</td>\n",
       "      <td>0.022550</td>\n",
       "      <td>0.022527</td>\n",
       "      <td>0.022673</td>\n",
       "      <td>0.022848</td>\n",
       "      <td>0.022669</td>\n",
       "      <td>0.022632</td>\n",
       "      <td>...</td>\n",
       "      <td>0.018941</td>\n",
       "      <td>0.018772</td>\n",
       "      <td>0.018864</td>\n",
       "      <td>0.018941</td>\n",
       "      <td>0.018909</td>\n",
       "      <td>0.018631</td>\n",
       "      <td>0.018350</td>\n",
       "      <td>0.018389</td>\n",
       "      <td>0.018190</td>\n",
       "      <td>0.018275</td>\n",
       "    </tr>\n",
       "    <tr>\n",
       "      <th>17</th>\n",
       "      <td>0.023049</td>\n",
       "      <td>0.022902</td>\n",
       "      <td>0.022640</td>\n",
       "      <td>0.023418</td>\n",
       "      <td>0.023049</td>\n",
       "      <td>0.023358</td>\n",
       "      <td>0.023611</td>\n",
       "      <td>0.023401</td>\n",
       "      <td>0.022892</td>\n",
       "      <td>0.022986</td>\n",
       "      <td>...</td>\n",
       "      <td>0.020522</td>\n",
       "      <td>0.020266</td>\n",
       "      <td>0.019937</td>\n",
       "      <td>0.019987</td>\n",
       "      <td>0.020153</td>\n",
       "      <td>0.020299</td>\n",
       "      <td>0.020033</td>\n",
       "      <td>0.019880</td>\n",
       "      <td>0.019821</td>\n",
       "      <td>0.019857</td>\n",
       "    </tr>\n",
       "    <tr>\n",
       "      <th>18</th>\n",
       "      <td>0.023053</td>\n",
       "      <td>0.022621</td>\n",
       "      <td>0.022689</td>\n",
       "      <td>0.023382</td>\n",
       "      <td>0.022944</td>\n",
       "      <td>0.023006</td>\n",
       "      <td>0.022994</td>\n",
       "      <td>0.023289</td>\n",
       "      <td>0.023109</td>\n",
       "      <td>0.022838</td>\n",
       "      <td>...</td>\n",
       "      <td>0.020316</td>\n",
       "      <td>0.019925</td>\n",
       "      <td>0.019767</td>\n",
       "      <td>0.019484</td>\n",
       "      <td>0.019686</td>\n",
       "      <td>0.019878</td>\n",
       "      <td>0.019440</td>\n",
       "      <td>0.019425</td>\n",
       "      <td>0.019649</td>\n",
       "      <td>0.019372</td>\n",
       "    </tr>\n",
       "    <tr>\n",
       "      <th>19</th>\n",
       "      <td>0.019450</td>\n",
       "      <td>0.018897</td>\n",
       "      <td>0.018758</td>\n",
       "      <td>0.019389</td>\n",
       "      <td>0.019110</td>\n",
       "      <td>0.019139</td>\n",
       "      <td>0.019712</td>\n",
       "      <td>0.020052</td>\n",
       "      <td>0.019163</td>\n",
       "      <td>0.018696</td>\n",
       "      <td>...</td>\n",
       "      <td>0.017959</td>\n",
       "      <td>0.017492</td>\n",
       "      <td>0.017496</td>\n",
       "      <td>0.017611</td>\n",
       "      <td>0.017746</td>\n",
       "      <td>0.017762</td>\n",
       "      <td>0.017414</td>\n",
       "      <td>0.017234</td>\n",
       "      <td>0.017168</td>\n",
       "      <td>0.017173</td>\n",
       "    </tr>\n",
       "    <tr>\n",
       "      <th>20</th>\n",
       "      <td>0.024461</td>\n",
       "      <td>0.024464</td>\n",
       "      <td>0.024419</td>\n",
       "      <td>0.024554</td>\n",
       "      <td>0.024585</td>\n",
       "      <td>0.024576</td>\n",
       "      <td>0.024419</td>\n",
       "      <td>0.024860</td>\n",
       "      <td>0.024585</td>\n",
       "      <td>0.024642</td>\n",
       "      <td>...</td>\n",
       "      <td>0.020286</td>\n",
       "      <td>0.019969</td>\n",
       "      <td>0.019909</td>\n",
       "      <td>0.019851</td>\n",
       "      <td>0.020085</td>\n",
       "      <td>0.019997</td>\n",
       "      <td>0.019961</td>\n",
       "      <td>0.019997</td>\n",
       "      <td>0.019766</td>\n",
       "      <td>0.019708</td>\n",
       "    </tr>\n",
       "    <tr>\n",
       "      <th>21</th>\n",
       "      <td>0.021752</td>\n",
       "      <td>0.021391</td>\n",
       "      <td>0.021326</td>\n",
       "      <td>0.021942</td>\n",
       "      <td>0.021553</td>\n",
       "      <td>0.021814</td>\n",
       "      <td>0.022037</td>\n",
       "      <td>0.021963</td>\n",
       "      <td>0.021477</td>\n",
       "      <td>0.021438</td>\n",
       "      <td>...</td>\n",
       "      <td>0.019511</td>\n",
       "      <td>0.019228</td>\n",
       "      <td>0.019280</td>\n",
       "      <td>0.019113</td>\n",
       "      <td>0.019285</td>\n",
       "      <td>0.019487</td>\n",
       "      <td>0.019022</td>\n",
       "      <td>0.019006</td>\n",
       "      <td>0.019036</td>\n",
       "      <td>0.019126</td>\n",
       "    </tr>\n",
       "    <tr>\n",
       "      <th>22</th>\n",
       "      <td>0.020721</td>\n",
       "      <td>0.020634</td>\n",
       "      <td>0.020767</td>\n",
       "      <td>0.020886</td>\n",
       "      <td>0.020771</td>\n",
       "      <td>0.020959</td>\n",
       "      <td>0.021152</td>\n",
       "      <td>0.020964</td>\n",
       "      <td>0.020877</td>\n",
       "      <td>0.020295</td>\n",
       "      <td>...</td>\n",
       "      <td>0.019456</td>\n",
       "      <td>0.018782</td>\n",
       "      <td>0.018599</td>\n",
       "      <td>0.018754</td>\n",
       "      <td>0.019314</td>\n",
       "      <td>0.019034</td>\n",
       "      <td>0.019107</td>\n",
       "      <td>0.018722</td>\n",
       "      <td>0.018745</td>\n",
       "      <td>0.018979</td>\n",
       "    </tr>\n",
       "    <tr>\n",
       "      <th>23</th>\n",
       "      <td>0.018950</td>\n",
       "      <td>0.018762</td>\n",
       "      <td>0.018700</td>\n",
       "      <td>0.019208</td>\n",
       "      <td>0.019001</td>\n",
       "      <td>0.019090</td>\n",
       "      <td>0.019631</td>\n",
       "      <td>0.019534</td>\n",
       "      <td>0.019112</td>\n",
       "      <td>0.018964</td>\n",
       "      <td>...</td>\n",
       "      <td>0.017992</td>\n",
       "      <td>0.017759</td>\n",
       "      <td>0.017532</td>\n",
       "      <td>0.017667</td>\n",
       "      <td>0.017792</td>\n",
       "      <td>0.017890</td>\n",
       "      <td>0.017805</td>\n",
       "      <td>0.017526</td>\n",
       "      <td>0.017459</td>\n",
       "      <td>0.017664</td>\n",
       "    </tr>\n",
       "  </tbody>\n",
       "</table>\n",
       "<p>24 rows × 1446 columns</p>\n",
       "</div>"
      ],
      "text/plain": [
       "    252.071400  252.201700  252.331900  252.462200  252.592400  252.722600  \\\n",
       "0     0.021587    0.021441    0.021291    0.021880    0.021664    0.021075   \n",
       "1     0.026370    0.026642    0.026547    0.026462    0.026634    0.026581   \n",
       "2     0.022681    0.022737    0.022276    0.022898    0.022830    0.022728   \n",
       "3     0.024106    0.024033    0.023864    0.024128    0.024015    0.024126   \n",
       "4     0.022621    0.022661    0.022401    0.022621    0.022714    0.022769   \n",
       "5     0.022423    0.021908    0.021901    0.022549    0.022164    0.022158   \n",
       "6     0.027824    0.027949    0.027859    0.027894    0.027960    0.027953   \n",
       "7     0.022082    0.021763    0.021886    0.022141    0.022122    0.021941   \n",
       "8     0.019303    0.019211    0.019010    0.019402    0.019290    0.019481   \n",
       "9     0.020854    0.020552    0.020294    0.020688    0.020814    0.020779   \n",
       "10    0.019886    0.019788    0.019543    0.020004    0.019950    0.019723   \n",
       "11    0.021513    0.021545    0.021343    0.021837    0.021576    0.021531   \n",
       "12    0.023659    0.023392    0.023287    0.023560    0.023513    0.023679   \n",
       "13    0.020027    0.019873    0.019719    0.020479    0.019981    0.020064   \n",
       "14    0.024311    0.024410    0.024374    0.024699    0.024438    0.024400   \n",
       "15    0.023875    0.023713    0.023830    0.024001    0.024066    0.023788   \n",
       "16    0.022471    0.022601    0.022454    0.022575    0.022550    0.022527   \n",
       "17    0.023049    0.022902    0.022640    0.023418    0.023049    0.023358   \n",
       "18    0.023053    0.022621    0.022689    0.023382    0.022944    0.023006   \n",
       "19    0.019450    0.018897    0.018758    0.019389    0.019110    0.019139   \n",
       "20    0.024461    0.024464    0.024419    0.024554    0.024585    0.024576   \n",
       "21    0.021752    0.021391    0.021326    0.021942    0.021553    0.021814   \n",
       "22    0.020721    0.020634    0.020767    0.020886    0.020771    0.020959   \n",
       "23    0.018950    0.018762    0.018700    0.019208    0.019001    0.019090   \n",
       "\n",
       "    252.852900  252.983100  253.113300  253.243600  ...  428.718100  \\\n",
       "0     0.021748    0.021961    0.021617    0.021503  ...    0.019178   \n",
       "1     0.026635    0.026474    0.026619    0.026699  ...    0.019997   \n",
       "2     0.022736    0.022983    0.022890    0.022400  ...    0.020306   \n",
       "3     0.024204    0.024213    0.024186    0.024204  ...    0.020380   \n",
       "4     0.023096    0.023208    0.022707    0.022377  ...    0.019011   \n",
       "5     0.022697    0.022626    0.022245    0.021787  ...    0.019999   \n",
       "6     0.028103    0.028150    0.028023    0.027968  ...    0.020215   \n",
       "7     0.021898    0.022389    0.021996    0.021901  ...    0.021156   \n",
       "8     0.019634    0.019589    0.019538    0.019061  ...    0.017575   \n",
       "9     0.021291    0.021121    0.020670    0.020460  ...    0.019804   \n",
       "10    0.019881    0.020004    0.019762    0.019677  ...    0.017211   \n",
       "11    0.021861    0.021635    0.021736    0.021381  ...    0.019915   \n",
       "12    0.023919    0.023999    0.023503    0.023448  ...    0.020126   \n",
       "13    0.020301    0.020575    0.020031    0.020006  ...    0.019528   \n",
       "14    0.024680    0.024785    0.024728    0.024649  ...    0.019438   \n",
       "15    0.023742    0.024059    0.024063    0.023768  ...    0.020084   \n",
       "16    0.022673    0.022848    0.022669    0.022632  ...    0.018941   \n",
       "17    0.023611    0.023401    0.022892    0.022986  ...    0.020522   \n",
       "18    0.022994    0.023289    0.023109    0.022838  ...    0.020316   \n",
       "19    0.019712    0.020052    0.019163    0.018696  ...    0.017959   \n",
       "20    0.024419    0.024860    0.024585    0.024642  ...    0.020286   \n",
       "21    0.022037    0.021963    0.021477    0.021438  ...    0.019511   \n",
       "22    0.021152    0.020964    0.020877    0.020295  ...    0.019456   \n",
       "23    0.019631    0.019534    0.019112    0.018964  ...    0.017992   \n",
       "\n",
       "    428.828600  428.939000  429.049500  429.159900  429.270300  429.380600  \\\n",
       "0     0.019368    0.020147    0.020016    0.019211    0.019072    0.018749   \n",
       "1     0.019729    0.019555    0.019649    0.019676    0.019714    0.019417   \n",
       "2     0.020312    0.019751    0.020045    0.020051    0.020427    0.019842   \n",
       "3     0.019863    0.019939    0.019657    0.020119    0.019975    0.019697   \n",
       "4     0.018698    0.018374    0.018439    0.018985    0.018891    0.018558   \n",
       "5     0.019536    0.019536    0.019378    0.019569    0.019581    0.019414   \n",
       "6     0.020211    0.020007    0.019929    0.019927    0.020054    0.019908   \n",
       "7     0.021115    0.021363    0.021094    0.021145    0.021279    0.021021   \n",
       "8     0.017308    0.017042    0.017283    0.017232    0.017416    0.017007   \n",
       "9     0.019821    0.019388    0.019489    0.019769    0.019913    0.019686   \n",
       "10    0.017420    0.018052    0.017874    0.017103    0.017095    0.016654   \n",
       "11    0.019751    0.019961    0.019746    0.019722    0.019924    0.019478   \n",
       "12    0.019622    0.019472    0.019408    0.019829    0.019698    0.019356   \n",
       "13    0.018955    0.018910    0.019125    0.019175    0.019416    0.019171   \n",
       "14    0.019330    0.019418    0.019684    0.019473    0.019442    0.018997   \n",
       "15    0.019639    0.019621    0.019403    0.019691    0.019755    0.019455   \n",
       "16    0.018772    0.018864    0.018941    0.018909    0.018631    0.018350   \n",
       "17    0.020266    0.019937    0.019987    0.020153    0.020299    0.020033   \n",
       "18    0.019925    0.019767    0.019484    0.019686    0.019878    0.019440   \n",
       "19    0.017492    0.017496    0.017611    0.017746    0.017762    0.017414   \n",
       "20    0.019969    0.019909    0.019851    0.020085    0.019997    0.019961   \n",
       "21    0.019228    0.019280    0.019113    0.019285    0.019487    0.019022   \n",
       "22    0.018782    0.018599    0.018754    0.019314    0.019034    0.019107   \n",
       "23    0.017759    0.017532    0.017667    0.017792    0.017890    0.017805   \n",
       "\n",
       "    429.491000  429.601300  429.711600  \n",
       "0     0.018533    0.018647    0.018680  \n",
       "1     0.019238    0.019207    0.019211  \n",
       "2     0.020208    0.019943    0.020071  \n",
       "3     0.019306    0.019332    0.019383  \n",
       "4     0.018694    0.018316    0.018411  \n",
       "5     0.019309    0.019337    0.019422  \n",
       "6     0.019698    0.019746    0.019659  \n",
       "7     0.020686    0.020675    0.020963  \n",
       "8     0.017031    0.017047    0.017009  \n",
       "9     0.019598    0.019257    0.019440  \n",
       "10    0.016623    0.016623    0.016778  \n",
       "11    0.019253    0.019414    0.019331  \n",
       "12    0.019401    0.019423    0.019333  \n",
       "13    0.019063    0.018872    0.018756  \n",
       "14    0.018953    0.018858    0.019005  \n",
       "15    0.019587    0.019255    0.019379  \n",
       "16    0.018389    0.018190    0.018275  \n",
       "17    0.019880    0.019821    0.019857  \n",
       "18    0.019425    0.019649    0.019372  \n",
       "19    0.017234    0.017168    0.017173  \n",
       "20    0.019997    0.019766    0.019708  \n",
       "21    0.019006    0.019036    0.019126  \n",
       "22    0.018722    0.018745    0.018979  \n",
       "23    0.017526    0.017459    0.017664  \n",
       "\n",
       "[24 rows x 1446 columns]"
      ]
     },
     "execution_count": 83,
     "metadata": {},
     "output_type": "execute_result"
    }
   ],
   "source": [
    "x_df = pd.read_csv('avg_norm.csv', sep = ',')\n",
    "values = x_df.values\n",
    "#wl=x_df.columns.values\n",
    "#print(wl.shape)\n",
    "\n",
    "#print(values)\n",
    "#print(type(values))\n",
    "print(values.shape)\n",
    "print(values[1].shape)\n",
    "print(len(values))\n",
    "x_df"
   ]
  },
  {
   "cell_type": "code",
   "execution_count": 75,
   "metadata": {},
   "outputs": [
    {
     "name": "stdout",
     "output_type": "stream",
     "text": [
      "[252.0714 252.2017 252.3319 ... 429.491  429.6013 429.7116]\n"
     ]
    },
    {
     "data": {
      "image/png": "[encoded data removed]",
      "text/plain": [
       "<Figure size 432x288 with 1 Axes>"
      ]
     },
     "metadata": {
      "needs_background": "light"
     },
     "output_type": "display_data"
    }
   ],
   "source": [
    "#This is just for visualizing the various plots of the samples\n",
    "\n",
    "df = pd.read_csv('./ref_new/1.csv')\n",
    "data=df.values\n",
    "wl= data[0]\n",
    "print(wl)\n",
    "\n",
    "for i in range(len(values)):\n",
    "    plt.plot(wl, data[i,:])\n",
    "    #plt.show() #comment this one to have unique plot instead of multiple ones\n",
    "#range(len(dfs))\n",
    "#\"\"\"\n",
    "\n"
   ]
  },
  {
   "cell_type": "code",
   "execution_count": 67,
   "metadata": {},
   "outputs": [
    {
     "name": "stdout",
     "output_type": "stream",
     "text": [
      "<class 'pandas.core.frame.DataFrame'>\n",
      "(24, 9)\n"
     ]
    },
    {
     "data": {
      "text/html": [
       "<div>\n",
       "<style scoped>\n",
       "    .dataframe tbody tr th:only-of-type {\n",
       "        vertical-align: middle;\n",
       "    }\n",
       "\n",
       "    .dataframe tbody tr th {\n",
       "        vertical-align: top;\n",
       "    }\n",
       "\n",
       "    .dataframe thead th {\n",
       "        text-align: right;\n",
       "    }\n",
       "</style>\n",
       "<table border=\"1\" class=\"dataframe\">\n",
       "  <thead>\n",
       "    <tr style=\"text-align: right;\">\n",
       "      <th></th>\n",
       "      <th>Reference Number</th>\n",
       "      <th>Si</th>\n",
       "      <th>Fe</th>\n",
       "      <th>Mg</th>\n",
       "      <th>Cu</th>\n",
       "      <th>Zn</th>\n",
       "      <th>Mn</th>\n",
       "      <th>Al</th>\n",
       "      <th>Total</th>\n",
       "    </tr>\n",
       "  </thead>\n",
       "  <tbody>\n",
       "    <tr>\n",
       "      <th>0</th>\n",
       "      <td>1</td>\n",
       "      <td>0.185</td>\n",
       "      <td>0.228</td>\n",
       "      <td>2.940</td>\n",
       "      <td>0.0304</td>\n",
       "      <td>0.0620</td>\n",
       "      <td>0.280</td>\n",
       "      <td>96.0000</td>\n",
       "      <td>99.7254</td>\n",
       "    </tr>\n",
       "    <tr>\n",
       "      <th>1</th>\n",
       "      <td>2</td>\n",
       "      <td>0.360</td>\n",
       "      <td>0.600</td>\n",
       "      <td>1.100</td>\n",
       "      <td>0.0700</td>\n",
       "      <td>0.2000</td>\n",
       "      <td>0.830</td>\n",
       "      <td>96.5787</td>\n",
       "      <td>99.7387</td>\n",
       "    </tr>\n",
       "    <tr>\n",
       "      <th>2</th>\n",
       "      <td>3</td>\n",
       "      <td>9.140</td>\n",
       "      <td>1.010</td>\n",
       "      <td>0.200</td>\n",
       "      <td>0.4200</td>\n",
       "      <td>3.6000</td>\n",
       "      <td>0.410</td>\n",
       "      <td>84.7770</td>\n",
       "      <td>99.5570</td>\n",
       "    </tr>\n",
       "    <tr>\n",
       "      <th>3</th>\n",
       "      <td>4</td>\n",
       "      <td>8.565</td>\n",
       "      <td>0.000</td>\n",
       "      <td>0.293</td>\n",
       "      <td>0.8870</td>\n",
       "      <td>2.6360</td>\n",
       "      <td>0.330</td>\n",
       "      <td>86.5650</td>\n",
       "      <td>99.2760</td>\n",
       "    </tr>\n",
       "    <tr>\n",
       "      <th>4</th>\n",
       "      <td>5</td>\n",
       "      <td>9.500</td>\n",
       "      <td>0.000</td>\n",
       "      <td>0.391</td>\n",
       "      <td>0.0000</td>\n",
       "      <td>0.0580</td>\n",
       "      <td>0.016</td>\n",
       "      <td>90.0210</td>\n",
       "      <td>99.9860</td>\n",
       "    </tr>\n",
       "    <tr>\n",
       "      <th>5</th>\n",
       "      <td>6</td>\n",
       "      <td>7.220</td>\n",
       "      <td>0.140</td>\n",
       "      <td>0.360</td>\n",
       "      <td>0.0840</td>\n",
       "      <td>0.1200</td>\n",
       "      <td>0.053</td>\n",
       "      <td>91.8090</td>\n",
       "      <td>99.7860</td>\n",
       "    </tr>\n",
       "    <tr>\n",
       "      <th>6</th>\n",
       "      <td>7</td>\n",
       "      <td>7.460</td>\n",
       "      <td>0.530</td>\n",
       "      <td>0.036</td>\n",
       "      <td>0.1400</td>\n",
       "      <td>0.1500</td>\n",
       "      <td>0.100</td>\n",
       "      <td>91.4140</td>\n",
       "      <td>99.8300</td>\n",
       "    </tr>\n",
       "    <tr>\n",
       "      <th>7</th>\n",
       "      <td>8</td>\n",
       "      <td>12.900</td>\n",
       "      <td>0.120</td>\n",
       "      <td>0.520</td>\n",
       "      <td>0.1550</td>\n",
       "      <td>0.5200</td>\n",
       "      <td>0.286</td>\n",
       "      <td>84.7905</td>\n",
       "      <td>99.2915</td>\n",
       "    </tr>\n",
       "    <tr>\n",
       "      <th>8</th>\n",
       "      <td>9</td>\n",
       "      <td>8.750</td>\n",
       "      <td>0.460</td>\n",
       "      <td>1.710</td>\n",
       "      <td>0.0290</td>\n",
       "      <td>2.0000</td>\n",
       "      <td>0.056</td>\n",
       "      <td>85.3100</td>\n",
       "      <td>98.3150</td>\n",
       "    </tr>\n",
       "    <tr>\n",
       "      <th>9</th>\n",
       "      <td>10</td>\n",
       "      <td>0.260</td>\n",
       "      <td>0.420</td>\n",
       "      <td>1.260</td>\n",
       "      <td>0.0200</td>\n",
       "      <td>0.0040</td>\n",
       "      <td>1.160</td>\n",
       "      <td>96.8346</td>\n",
       "      <td>99.9586</td>\n",
       "    </tr>\n",
       "    <tr>\n",
       "      <th>10</th>\n",
       "      <td>11</td>\n",
       "      <td>0.070</td>\n",
       "      <td>0.100</td>\n",
       "      <td>0.410</td>\n",
       "      <td>0.1800</td>\n",
       "      <td>0.0600</td>\n",
       "      <td>1.450</td>\n",
       "      <td>97.6000</td>\n",
       "      <td>99.8700</td>\n",
       "    </tr>\n",
       "    <tr>\n",
       "      <th>11</th>\n",
       "      <td>12</td>\n",
       "      <td>0.160</td>\n",
       "      <td>0.310</td>\n",
       "      <td>0.880</td>\n",
       "      <td>0.1000</td>\n",
       "      <td>0.1100</td>\n",
       "      <td>1.140</td>\n",
       "      <td>97.1500</td>\n",
       "      <td>99.8500</td>\n",
       "    </tr>\n",
       "    <tr>\n",
       "      <th>12</th>\n",
       "      <td>13</td>\n",
       "      <td>6.120</td>\n",
       "      <td>0.000</td>\n",
       "      <td>0.320</td>\n",
       "      <td>0.0000</td>\n",
       "      <td>0.0054</td>\n",
       "      <td>0.016</td>\n",
       "      <td>93.5352</td>\n",
       "      <td>99.9966</td>\n",
       "    </tr>\n",
       "    <tr>\n",
       "      <th>13</th>\n",
       "      <td>14</td>\n",
       "      <td>12.530</td>\n",
       "      <td>0.310</td>\n",
       "      <td>0.025</td>\n",
       "      <td>0.0500</td>\n",
       "      <td>0.0560</td>\n",
       "      <td>0.033</td>\n",
       "      <td>86.8180</td>\n",
       "      <td>99.8220</td>\n",
       "    </tr>\n",
       "    <tr>\n",
       "      <th>14</th>\n",
       "      <td>15</td>\n",
       "      <td>0.530</td>\n",
       "      <td>0.230</td>\n",
       "      <td>0.770</td>\n",
       "      <td>0.0310</td>\n",
       "      <td>0.0060</td>\n",
       "      <td>0.024</td>\n",
       "      <td>98.3881</td>\n",
       "      <td>99.9791</td>\n",
       "    </tr>\n",
       "    <tr>\n",
       "      <th>15</th>\n",
       "      <td>16</td>\n",
       "      <td>0.160</td>\n",
       "      <td>0.200</td>\n",
       "      <td>4.540</td>\n",
       "      <td>0.0520</td>\n",
       "      <td>0.0500</td>\n",
       "      <td>0.380</td>\n",
       "      <td>94.5340</td>\n",
       "      <td>99.9160</td>\n",
       "    </tr>\n",
       "    <tr>\n",
       "      <th>16</th>\n",
       "      <td>17</td>\n",
       "      <td>3.000</td>\n",
       "      <td>0.795</td>\n",
       "      <td>0.570</td>\n",
       "      <td>0.1540</td>\n",
       "      <td>4.2900</td>\n",
       "      <td>0.037</td>\n",
       "      <td>90.4640</td>\n",
       "      <td>99.3100</td>\n",
       "    </tr>\n",
       "    <tr>\n",
       "      <th>17</th>\n",
       "      <td>18</td>\n",
       "      <td>9.460</td>\n",
       "      <td>1.190</td>\n",
       "      <td>0.390</td>\n",
       "      <td>0.1600</td>\n",
       "      <td>3.1000</td>\n",
       "      <td>0.260</td>\n",
       "      <td>84.8070</td>\n",
       "      <td>99.3670</td>\n",
       "    </tr>\n",
       "    <tr>\n",
       "      <th>18</th>\n",
       "      <td>19</td>\n",
       "      <td>0.530</td>\n",
       "      <td>0.180</td>\n",
       "      <td>3.570</td>\n",
       "      <td>5.0600</td>\n",
       "      <td>1.9000</td>\n",
       "      <td>0.130</td>\n",
       "      <td>88.2100</td>\n",
       "      <td>99.5800</td>\n",
       "    </tr>\n",
       "    <tr>\n",
       "      <th>19</th>\n",
       "      <td>24</td>\n",
       "      <td>9.190</td>\n",
       "      <td>0.000</td>\n",
       "      <td>0.339</td>\n",
       "      <td>0.0000</td>\n",
       "      <td>0.0057</td>\n",
       "      <td>0.008</td>\n",
       "      <td>90.4538</td>\n",
       "      <td>99.9965</td>\n",
       "    </tr>\n",
       "    <tr>\n",
       "      <th>20</th>\n",
       "      <td>25</td>\n",
       "      <td>6.160</td>\n",
       "      <td>0.000</td>\n",
       "      <td>0.363</td>\n",
       "      <td>0.0000</td>\n",
       "      <td>0.0060</td>\n",
       "      <td>0.206</td>\n",
       "      <td>93.2574</td>\n",
       "      <td>99.9924</td>\n",
       "    </tr>\n",
       "    <tr>\n",
       "      <th>21</th>\n",
       "      <td>26</td>\n",
       "      <td>0.180</td>\n",
       "      <td>0.205</td>\n",
       "      <td>2.480</td>\n",
       "      <td>5.4400</td>\n",
       "      <td>1.6000</td>\n",
       "      <td>0.079</td>\n",
       "      <td>89.8430</td>\n",
       "      <td>99.8270</td>\n",
       "    </tr>\n",
       "    <tr>\n",
       "      <th>22</th>\n",
       "      <td>28</td>\n",
       "      <td>0.180</td>\n",
       "      <td>0.500</td>\n",
       "      <td>1.110</td>\n",
       "      <td>0.0520</td>\n",
       "      <td>0.1500</td>\n",
       "      <td>1.260</td>\n",
       "      <td>96.7210</td>\n",
       "      <td>99.9730</td>\n",
       "    </tr>\n",
       "    <tr>\n",
       "      <th>23</th>\n",
       "      <td>29</td>\n",
       "      <td>0.180</td>\n",
       "      <td>0.350</td>\n",
       "      <td>2.030</td>\n",
       "      <td>6.0800</td>\n",
       "      <td>1.3500</td>\n",
       "      <td>0.450</td>\n",
       "      <td>89.3900</td>\n",
       "      <td>99.8300</td>\n",
       "    </tr>\n",
       "  </tbody>\n",
       "</table>\n",
       "</div>"
      ],
      "text/plain": [
       "    Reference Number      Si     Fe     Mg     Cu       Zn     Mn       Al  \\\n",
       "0                  1   0.185  0.228  2.940  0.0304  0.0620  0.280  96.0000   \n",
       "1                  2   0.360  0.600  1.100  0.0700  0.2000  0.830  96.5787   \n",
       "2                  3   9.140  1.010  0.200  0.4200  3.6000  0.410  84.7770   \n",
       "3                  4   8.565  0.000  0.293  0.8870  2.6360  0.330  86.5650   \n",
       "4                  5   9.500  0.000  0.391  0.0000  0.0580  0.016  90.0210   \n",
       "5                  6   7.220  0.140  0.360  0.0840  0.1200  0.053  91.8090   \n",
       "6                  7   7.460  0.530  0.036  0.1400  0.1500  0.100  91.4140   \n",
       "7                  8  12.900  0.120  0.520  0.1550  0.5200  0.286  84.7905   \n",
       "8                  9   8.750  0.460  1.710  0.0290  2.0000  0.056  85.3100   \n",
       "9                 10   0.260  0.420  1.260  0.0200  0.0040  1.160  96.8346   \n",
       "10                11   0.070  0.100  0.410  0.1800  0.0600  1.450  97.6000   \n",
       "11                12   0.160  0.310  0.880  0.1000  0.1100  1.140  97.1500   \n",
       "12                13   6.120  0.000  0.320  0.0000  0.0054  0.016  93.5352   \n",
       "13                14  12.530  0.310  0.025  0.0500  0.0560  0.033  86.8180   \n",
       "14                15   0.530  0.230  0.770  0.0310  0.0060  0.024  98.3881   \n",
       "15                16   0.160  0.200  4.540  0.0520  0.0500  0.380  94.5340   \n",
       "16                17   3.000  0.795  0.570  0.1540  4.2900  0.037  90.4640   \n",
       "17                18   9.460  1.190  0.390  0.1600  3.1000  0.260  84.8070   \n",
       "18                19   0.530  0.180  3.570  5.0600  1.9000  0.130  88.2100   \n",
       "19                24   9.190  0.000  0.339  0.0000  0.0057  0.008  90.4538   \n",
       "20                25   6.160  0.000  0.363  0.0000  0.0060  0.206  93.2574   \n",
       "21                26   0.180  0.205  2.480  5.4400  1.6000  0.079  89.8430   \n",
       "22                28   0.180  0.500  1.110  0.0520  0.1500  1.260  96.7210   \n",
       "23                29   0.180  0.350  2.030  6.0800  1.3500  0.450  89.3900   \n",
       "\n",
       "      Total  \n",
       "0   99.7254  \n",
       "1   99.7387  \n",
       "2   99.5570  \n",
       "3   99.2760  \n",
       "4   99.9860  \n",
       "5   99.7860  \n",
       "6   99.8300  \n",
       "7   99.2915  \n",
       "8   98.3150  \n",
       "9   99.9586  \n",
       "10  99.8700  \n",
       "11  99.8500  \n",
       "12  99.9966  \n",
       "13  99.8220  \n",
       "14  99.9791  \n",
       "15  99.9160  \n",
       "16  99.3100  \n",
       "17  99.3670  \n",
       "18  99.5800  \n",
       "19  99.9965  \n",
       "20  99.9924  \n",
       "21  99.8270  \n",
       "22  99.9730  \n",
       "23  99.8300  "
      ]
     },
     "execution_count": 67,
     "metadata": {},
     "output_type": "execute_result"
    }
   ],
   "source": [
    "df_y = pd.read_csv('concentration_1.csv', sep = ',')\n",
    "print(type(df_y))\n",
    "concentration=df_y.values\n",
    "print(concentration.shape)\n",
    "#print(concentration)\n",
    "values=df_y.values\n",
    "y_all=pd.DataFrame(values[:,1:-2])\n",
    "#print(y_all)\n",
    "df_y"
   ]
  },
  {
   "cell_type": "code",
   "execution_count": 69,
   "metadata": {
    "scrolled": true
   },
   "outputs": [
    {
     "name": "stdout",
     "output_type": "stream",
     "text": [
      "[ 0.185  0.36   9.14   8.565  9.5    7.22   7.46  12.9    8.75   0.26\n",
      "  0.07   0.16   6.12  12.53   0.53   0.16   3.     9.46   0.53   9.19\n",
      "  6.16   0.18   0.18   0.18 ]\n",
      "(24,)\n"
     ]
    }
   ],
   "source": [
    "y_cu = concentration[:,1]\n",
    "print(y_cu)\n",
    "print(y_cu.shape)"
   ]
  },
  {
   "cell_type": "code",
   "execution_count": 70,
   "metadata": {},
   "outputs": [],
   "source": [
    "y_df= pd.DataFrame(y_cu)\n",
    "#df_y_si"
   ]
  },
  {
   "cell_type": "code",
   "execution_count": 71,
   "metadata": {},
   "outputs": [
    {
     "data": {
      "text/plain": [
       "[251.59, 288.12, 390.6]"
      ]
     },
     "execution_count": 71,
     "metadata": {},
     "output_type": "execute_result"
    }
   ],
   "source": [
    "target = [251.59, 288.12, 390.60]\n",
    "target"
   ]
  },
  {
   "cell_type": "code",
   "execution_count": 101,
   "metadata": {},
   "outputs": [
    {
     "name": "stdout",
     "output_type": "stream",
     "text": [
      "number of selected wavelengths:  56 \n",
      "\n",
      "[252.0714, 252.2017, 252.3319, 252.4622, 252.5924, 252.7226, 252.8529, 252.9831, 286.6869, 286.8158, 286.9447, 287.0735, 287.2024, 287.3313, 287.4601, 287.5889, 287.7178, 287.8466, 287.9754, 288.1042, 288.233, 288.3618, 288.4906, 288.6194, 288.7482, 288.8769, 289.0057, 289.1345, 289.2632, 289.3919, 289.5207, 389.203, 389.3212, 389.4394, 389.5576, 389.6757, 389.7939, 389.912, 390.0301, 390.1481, 390.2662, 390.3842, 390.5023, 390.6203, 390.7382, 390.8562, 390.9741, 391.0921, 391.21, 391.3278, 391.4457, 391.5635, 391.6814, 391.7992, 391.917, 392.0347] \n",
      "\n",
      "[0, 1, 2, 3, 4, 5, 6, 7, 267, 268, 269, 270, 271, 272, 273, 274, 275, 276, 277, 278, 279, 280, 281, 282, 283, 284, 285, 286, 287, 288, 289, 1091, 1092, 1093, 1094, 1095, 1096, 1097, 1098, 1099, 1100, 1101, 1102, 1103, 1104, 1105, 1106, 1107, 1108, 1109, 1110, 1111, 1112, 1113, 1114, 1115]\n"
     ]
    }
   ],
   "source": [
    "a = []\n",
    "b = []\n",
    "for t in target:\n",
    "    for i in range(len(wl)):\n",
    "        if abs(wl[i]-t) < 1.5:\n",
    "            a.append(wl[i])\n",
    "            b.append(i)\n",
    "            \n",
    "print(\"number of selected wavelengths: \",len(a), \"\\n\")\n",
    "print(a, \"\\n\")\n",
    "print(b)"
   ]
  },
  {
   "cell_type": "code",
   "execution_count": 102,
   "metadata": {},
   "outputs": [
    {
     "name": "stdout",
     "output_type": "stream",
     "text": [
      "(24, 1446)\n"
     ]
    },
    {
     "data": {
      "text/html": [
       "<div>\n",
       "<style scoped>\n",
       "    .dataframe tbody tr th:only-of-type {\n",
       "        vertical-align: middle;\n",
       "    }\n",
       "\n",
       "    .dataframe tbody tr th {\n",
       "        vertical-align: top;\n",
       "    }\n",
       "\n",
       "    .dataframe thead th {\n",
       "        text-align: right;\n",
       "    }\n",
       "</style>\n",
       "<table border=\"1\" class=\"dataframe\">\n",
       "  <thead>\n",
       "    <tr style=\"text-align: right;\">\n",
       "      <th></th>\n",
       "      <th>0</th>\n",
       "      <th>1</th>\n",
       "      <th>2</th>\n",
       "      <th>3</th>\n",
       "      <th>4</th>\n",
       "      <th>5</th>\n",
       "      <th>6</th>\n",
       "      <th>7</th>\n",
       "      <th>8</th>\n",
       "      <th>9</th>\n",
       "      <th>...</th>\n",
       "      <th>46</th>\n",
       "      <th>47</th>\n",
       "      <th>48</th>\n",
       "      <th>49</th>\n",
       "      <th>50</th>\n",
       "      <th>51</th>\n",
       "      <th>52</th>\n",
       "      <th>53</th>\n",
       "      <th>54</th>\n",
       "      <th>55</th>\n",
       "    </tr>\n",
       "  </thead>\n",
       "  <tbody>\n",
       "    <tr>\n",
       "      <th>0</th>\n",
       "      <td>0.021587</td>\n",
       "      <td>0.021441</td>\n",
       "      <td>0.021291</td>\n",
       "      <td>0.021880</td>\n",
       "      <td>0.021664</td>\n",
       "      <td>0.021075</td>\n",
       "      <td>0.021748</td>\n",
       "      <td>0.021961</td>\n",
       "      <td>0.022990</td>\n",
       "      <td>0.022693</td>\n",
       "      <td>...</td>\n",
       "      <td>0.022719</td>\n",
       "      <td>0.022876</td>\n",
       "      <td>0.022737</td>\n",
       "      <td>0.022829</td>\n",
       "      <td>0.023037</td>\n",
       "      <td>0.023227</td>\n",
       "      <td>0.023321</td>\n",
       "      <td>0.023589</td>\n",
       "      <td>0.024289</td>\n",
       "      <td>0.024456</td>\n",
       "    </tr>\n",
       "    <tr>\n",
       "      <th>1</th>\n",
       "      <td>0.026370</td>\n",
       "      <td>0.026642</td>\n",
       "      <td>0.026547</td>\n",
       "      <td>0.026462</td>\n",
       "      <td>0.026634</td>\n",
       "      <td>0.026581</td>\n",
       "      <td>0.026635</td>\n",
       "      <td>0.026474</td>\n",
       "      <td>0.027759</td>\n",
       "      <td>0.027944</td>\n",
       "      <td>...</td>\n",
       "      <td>0.023118</td>\n",
       "      <td>0.023038</td>\n",
       "      <td>0.022868</td>\n",
       "      <td>0.023068</td>\n",
       "      <td>0.023000</td>\n",
       "      <td>0.023395</td>\n",
       "      <td>0.023609</td>\n",
       "      <td>0.023478</td>\n",
       "      <td>0.024167</td>\n",
       "      <td>0.024029</td>\n",
       "    </tr>\n",
       "    <tr>\n",
       "      <th>2</th>\n",
       "      <td>0.022681</td>\n",
       "      <td>0.022737</td>\n",
       "      <td>0.022276</td>\n",
       "      <td>0.022898</td>\n",
       "      <td>0.022830</td>\n",
       "      <td>0.022728</td>\n",
       "      <td>0.022736</td>\n",
       "      <td>0.022983</td>\n",
       "      <td>0.023545</td>\n",
       "      <td>0.023554</td>\n",
       "      <td>...</td>\n",
       "      <td>0.024481</td>\n",
       "      <td>0.024593</td>\n",
       "      <td>0.024555</td>\n",
       "      <td>0.024579</td>\n",
       "      <td>0.024807</td>\n",
       "      <td>0.024953</td>\n",
       "      <td>0.025153</td>\n",
       "      <td>0.025051</td>\n",
       "      <td>0.025636</td>\n",
       "      <td>0.025741</td>\n",
       "    </tr>\n",
       "    <tr>\n",
       "      <th>3</th>\n",
       "      <td>0.024106</td>\n",
       "      <td>0.024033</td>\n",
       "      <td>0.023864</td>\n",
       "      <td>0.024128</td>\n",
       "      <td>0.024015</td>\n",
       "      <td>0.024126</td>\n",
       "      <td>0.024204</td>\n",
       "      <td>0.024213</td>\n",
       "      <td>0.025491</td>\n",
       "      <td>0.025482</td>\n",
       "      <td>...</td>\n",
       "      <td>0.023947</td>\n",
       "      <td>0.023718</td>\n",
       "      <td>0.023638</td>\n",
       "      <td>0.024089</td>\n",
       "      <td>0.024122</td>\n",
       "      <td>0.024137</td>\n",
       "      <td>0.024189</td>\n",
       "      <td>0.024421</td>\n",
       "      <td>0.024875</td>\n",
       "      <td>0.024917</td>\n",
       "    </tr>\n",
       "    <tr>\n",
       "      <th>4</th>\n",
       "      <td>0.022621</td>\n",
       "      <td>0.022661</td>\n",
       "      <td>0.022401</td>\n",
       "      <td>0.022621</td>\n",
       "      <td>0.022714</td>\n",
       "      <td>0.022769</td>\n",
       "      <td>0.023096</td>\n",
       "      <td>0.023208</td>\n",
       "      <td>0.023409</td>\n",
       "      <td>0.023375</td>\n",
       "      <td>...</td>\n",
       "      <td>0.023662</td>\n",
       "      <td>0.023400</td>\n",
       "      <td>0.023131</td>\n",
       "      <td>0.023120</td>\n",
       "      <td>0.023233</td>\n",
       "      <td>0.023432</td>\n",
       "      <td>0.023404</td>\n",
       "      <td>0.023472</td>\n",
       "      <td>0.023811</td>\n",
       "      <td>0.023929</td>\n",
       "    </tr>\n",
       "    <tr>\n",
       "      <th>5</th>\n",
       "      <td>0.022423</td>\n",
       "      <td>0.021908</td>\n",
       "      <td>0.021901</td>\n",
       "      <td>0.022549</td>\n",
       "      <td>0.022164</td>\n",
       "      <td>0.022158</td>\n",
       "      <td>0.022697</td>\n",
       "      <td>0.022626</td>\n",
       "      <td>0.022265</td>\n",
       "      <td>0.022695</td>\n",
       "      <td>...</td>\n",
       "      <td>0.023820</td>\n",
       "      <td>0.023548</td>\n",
       "      <td>0.023556</td>\n",
       "      <td>0.023742</td>\n",
       "      <td>0.023386</td>\n",
       "      <td>0.023597</td>\n",
       "      <td>0.023776</td>\n",
       "      <td>0.023832</td>\n",
       "      <td>0.024053</td>\n",
       "      <td>0.024528</td>\n",
       "    </tr>\n",
       "    <tr>\n",
       "      <th>6</th>\n",
       "      <td>0.027824</td>\n",
       "      <td>0.027949</td>\n",
       "      <td>0.027859</td>\n",
       "      <td>0.027894</td>\n",
       "      <td>0.027960</td>\n",
       "      <td>0.027953</td>\n",
       "      <td>0.028103</td>\n",
       "      <td>0.028150</td>\n",
       "      <td>0.029477</td>\n",
       "      <td>0.029188</td>\n",
       "      <td>...</td>\n",
       "      <td>0.023702</td>\n",
       "      <td>0.023569</td>\n",
       "      <td>0.023377</td>\n",
       "      <td>0.023492</td>\n",
       "      <td>0.023654</td>\n",
       "      <td>0.024223</td>\n",
       "      <td>0.024228</td>\n",
       "      <td>0.024095</td>\n",
       "      <td>0.025102</td>\n",
       "      <td>0.025038</td>\n",
       "    </tr>\n",
       "    <tr>\n",
       "      <th>7</th>\n",
       "      <td>0.022082</td>\n",
       "      <td>0.021763</td>\n",
       "      <td>0.021886</td>\n",
       "      <td>0.022141</td>\n",
       "      <td>0.022122</td>\n",
       "      <td>0.021941</td>\n",
       "      <td>0.021898</td>\n",
       "      <td>0.022389</td>\n",
       "      <td>0.023673</td>\n",
       "      <td>0.023569</td>\n",
       "      <td>...</td>\n",
       "      <td>0.023728</td>\n",
       "      <td>0.023606</td>\n",
       "      <td>0.023553</td>\n",
       "      <td>0.023920</td>\n",
       "      <td>0.023749</td>\n",
       "      <td>0.024030</td>\n",
       "      <td>0.024190</td>\n",
       "      <td>0.023928</td>\n",
       "      <td>0.024386</td>\n",
       "      <td>0.024695</td>\n",
       "    </tr>\n",
       "    <tr>\n",
       "      <th>8</th>\n",
       "      <td>0.019303</td>\n",
       "      <td>0.019211</td>\n",
       "      <td>0.019010</td>\n",
       "      <td>0.019402</td>\n",
       "      <td>0.019290</td>\n",
       "      <td>0.019481</td>\n",
       "      <td>0.019634</td>\n",
       "      <td>0.019589</td>\n",
       "      <td>0.019968</td>\n",
       "      <td>0.019917</td>\n",
       "      <td>...</td>\n",
       "      <td>0.022795</td>\n",
       "      <td>0.022600</td>\n",
       "      <td>0.022418</td>\n",
       "      <td>0.022689</td>\n",
       "      <td>0.022618</td>\n",
       "      <td>0.022906</td>\n",
       "      <td>0.022940</td>\n",
       "      <td>0.023330</td>\n",
       "      <td>0.023554</td>\n",
       "      <td>0.023652</td>\n",
       "    </tr>\n",
       "    <tr>\n",
       "      <th>9</th>\n",
       "      <td>0.020854</td>\n",
       "      <td>0.020552</td>\n",
       "      <td>0.020294</td>\n",
       "      <td>0.020688</td>\n",
       "      <td>0.020814</td>\n",
       "      <td>0.020779</td>\n",
       "      <td>0.021291</td>\n",
       "      <td>0.021121</td>\n",
       "      <td>0.021576</td>\n",
       "      <td>0.021409</td>\n",
       "      <td>...</td>\n",
       "      <td>0.025529</td>\n",
       "      <td>0.025423</td>\n",
       "      <td>0.025483</td>\n",
       "      <td>0.025406</td>\n",
       "      <td>0.025506</td>\n",
       "      <td>0.025549</td>\n",
       "      <td>0.025989</td>\n",
       "      <td>0.026246</td>\n",
       "      <td>0.026433</td>\n",
       "      <td>0.026730</td>\n",
       "    </tr>\n",
       "    <tr>\n",
       "      <th>10</th>\n",
       "      <td>0.019886</td>\n",
       "      <td>0.019788</td>\n",
       "      <td>0.019543</td>\n",
       "      <td>0.020004</td>\n",
       "      <td>0.019950</td>\n",
       "      <td>0.019723</td>\n",
       "      <td>0.019881</td>\n",
       "      <td>0.020004</td>\n",
       "      <td>0.021684</td>\n",
       "      <td>0.021720</td>\n",
       "      <td>...</td>\n",
       "      <td>0.022760</td>\n",
       "      <td>0.022538</td>\n",
       "      <td>0.022707</td>\n",
       "      <td>0.022774</td>\n",
       "      <td>0.022580</td>\n",
       "      <td>0.022707</td>\n",
       "      <td>0.022993</td>\n",
       "      <td>0.022594</td>\n",
       "      <td>0.023094</td>\n",
       "      <td>0.023100</td>\n",
       "    </tr>\n",
       "    <tr>\n",
       "      <th>11</th>\n",
       "      <td>0.021513</td>\n",
       "      <td>0.021545</td>\n",
       "      <td>0.021343</td>\n",
       "      <td>0.021837</td>\n",
       "      <td>0.021576</td>\n",
       "      <td>0.021531</td>\n",
       "      <td>0.021861</td>\n",
       "      <td>0.021635</td>\n",
       "      <td>0.022376</td>\n",
       "      <td>0.022574</td>\n",
       "      <td>...</td>\n",
       "      <td>0.023457</td>\n",
       "      <td>0.023380</td>\n",
       "      <td>0.023202</td>\n",
       "      <td>0.023784</td>\n",
       "      <td>0.023472</td>\n",
       "      <td>0.023940</td>\n",
       "      <td>0.023862</td>\n",
       "      <td>0.023930</td>\n",
       "      <td>0.024658</td>\n",
       "      <td>0.024643</td>\n",
       "    </tr>\n",
       "    <tr>\n",
       "      <th>12</th>\n",
       "      <td>0.023659</td>\n",
       "      <td>0.023392</td>\n",
       "      <td>0.023287</td>\n",
       "      <td>0.023560</td>\n",
       "      <td>0.023513</td>\n",
       "      <td>0.023679</td>\n",
       "      <td>0.023919</td>\n",
       "      <td>0.023999</td>\n",
       "      <td>0.024505</td>\n",
       "      <td>0.024411</td>\n",
       "      <td>...</td>\n",
       "      <td>0.024252</td>\n",
       "      <td>0.024155</td>\n",
       "      <td>0.024215</td>\n",
       "      <td>0.024155</td>\n",
       "      <td>0.024452</td>\n",
       "      <td>0.024227</td>\n",
       "      <td>0.024326</td>\n",
       "      <td>0.024726</td>\n",
       "      <td>0.024657</td>\n",
       "      <td>0.024928</td>\n",
       "    </tr>\n",
       "    <tr>\n",
       "      <th>13</th>\n",
       "      <td>0.020027</td>\n",
       "      <td>0.019873</td>\n",
       "      <td>0.019719</td>\n",
       "      <td>0.020479</td>\n",
       "      <td>0.019981</td>\n",
       "      <td>0.020064</td>\n",
       "      <td>0.020301</td>\n",
       "      <td>0.020575</td>\n",
       "      <td>0.020969</td>\n",
       "      <td>0.021215</td>\n",
       "      <td>...</td>\n",
       "      <td>0.024554</td>\n",
       "      <td>0.024820</td>\n",
       "      <td>0.024246</td>\n",
       "      <td>0.024570</td>\n",
       "      <td>0.024624</td>\n",
       "      <td>0.024853</td>\n",
       "      <td>0.024687</td>\n",
       "      <td>0.024766</td>\n",
       "      <td>0.025019</td>\n",
       "      <td>0.025202</td>\n",
       "    </tr>\n",
       "    <tr>\n",
       "      <th>14</th>\n",
       "      <td>0.024311</td>\n",
       "      <td>0.024410</td>\n",
       "      <td>0.024374</td>\n",
       "      <td>0.024699</td>\n",
       "      <td>0.024438</td>\n",
       "      <td>0.024400</td>\n",
       "      <td>0.024680</td>\n",
       "      <td>0.024785</td>\n",
       "      <td>0.026051</td>\n",
       "      <td>0.025920</td>\n",
       "      <td>...</td>\n",
       "      <td>0.023127</td>\n",
       "      <td>0.023167</td>\n",
       "      <td>0.022945</td>\n",
       "      <td>0.022885</td>\n",
       "      <td>0.023072</td>\n",
       "      <td>0.023207</td>\n",
       "      <td>0.023187</td>\n",
       "      <td>0.023386</td>\n",
       "      <td>0.023438</td>\n",
       "      <td>0.023711</td>\n",
       "    </tr>\n",
       "    <tr>\n",
       "      <th>15</th>\n",
       "      <td>0.023875</td>\n",
       "      <td>0.023713</td>\n",
       "      <td>0.023830</td>\n",
       "      <td>0.024001</td>\n",
       "      <td>0.024066</td>\n",
       "      <td>0.023788</td>\n",
       "      <td>0.023742</td>\n",
       "      <td>0.024059</td>\n",
       "      <td>0.024755</td>\n",
       "      <td>0.024778</td>\n",
       "      <td>...</td>\n",
       "      <td>0.023078</td>\n",
       "      <td>0.023027</td>\n",
       "      <td>0.023182</td>\n",
       "      <td>0.023331</td>\n",
       "      <td>0.023185</td>\n",
       "      <td>0.023386</td>\n",
       "      <td>0.023512</td>\n",
       "      <td>0.023704</td>\n",
       "      <td>0.023921</td>\n",
       "      <td>0.024200</td>\n",
       "    </tr>\n",
       "    <tr>\n",
       "      <th>16</th>\n",
       "      <td>0.022471</td>\n",
       "      <td>0.022601</td>\n",
       "      <td>0.022454</td>\n",
       "      <td>0.022575</td>\n",
       "      <td>0.022550</td>\n",
       "      <td>0.022527</td>\n",
       "      <td>0.022673</td>\n",
       "      <td>0.022848</td>\n",
       "      <td>0.024141</td>\n",
       "      <td>0.024202</td>\n",
       "      <td>...</td>\n",
       "      <td>0.023012</td>\n",
       "      <td>0.022998</td>\n",
       "      <td>0.022802</td>\n",
       "      <td>0.023028</td>\n",
       "      <td>0.022991</td>\n",
       "      <td>0.023057</td>\n",
       "      <td>0.022964</td>\n",
       "      <td>0.023249</td>\n",
       "      <td>0.023429</td>\n",
       "      <td>0.023438</td>\n",
       "    </tr>\n",
       "    <tr>\n",
       "      <th>17</th>\n",
       "      <td>0.023049</td>\n",
       "      <td>0.022902</td>\n",
       "      <td>0.022640</td>\n",
       "      <td>0.023418</td>\n",
       "      <td>0.023049</td>\n",
       "      <td>0.023358</td>\n",
       "      <td>0.023611</td>\n",
       "      <td>0.023401</td>\n",
       "      <td>0.024166</td>\n",
       "      <td>0.023990</td>\n",
       "      <td>...</td>\n",
       "      <td>0.024212</td>\n",
       "      <td>0.024212</td>\n",
       "      <td>0.023930</td>\n",
       "      <td>0.024138</td>\n",
       "      <td>0.024023</td>\n",
       "      <td>0.024205</td>\n",
       "      <td>0.024078</td>\n",
       "      <td>0.024233</td>\n",
       "      <td>0.024638</td>\n",
       "      <td>0.024736</td>\n",
       "    </tr>\n",
       "    <tr>\n",
       "      <th>18</th>\n",
       "      <td>0.023053</td>\n",
       "      <td>0.022621</td>\n",
       "      <td>0.022689</td>\n",
       "      <td>0.023382</td>\n",
       "      <td>0.022944</td>\n",
       "      <td>0.023006</td>\n",
       "      <td>0.022994</td>\n",
       "      <td>0.023289</td>\n",
       "      <td>0.023988</td>\n",
       "      <td>0.023829</td>\n",
       "      <td>...</td>\n",
       "      <td>0.023621</td>\n",
       "      <td>0.023717</td>\n",
       "      <td>0.023621</td>\n",
       "      <td>0.023894</td>\n",
       "      <td>0.023758</td>\n",
       "      <td>0.023910</td>\n",
       "      <td>0.024028</td>\n",
       "      <td>0.023784</td>\n",
       "      <td>0.024103</td>\n",
       "      <td>0.024192</td>\n",
       "    </tr>\n",
       "    <tr>\n",
       "      <th>19</th>\n",
       "      <td>0.019450</td>\n",
       "      <td>0.018897</td>\n",
       "      <td>0.018758</td>\n",
       "      <td>0.019389</td>\n",
       "      <td>0.019110</td>\n",
       "      <td>0.019139</td>\n",
       "      <td>0.019712</td>\n",
       "      <td>0.020052</td>\n",
       "      <td>0.019602</td>\n",
       "      <td>0.019766</td>\n",
       "      <td>...</td>\n",
       "      <td>0.022754</td>\n",
       "      <td>0.022769</td>\n",
       "      <td>0.022374</td>\n",
       "      <td>0.022335</td>\n",
       "      <td>0.022540</td>\n",
       "      <td>0.022655</td>\n",
       "      <td>0.022664</td>\n",
       "      <td>0.022634</td>\n",
       "      <td>0.022891</td>\n",
       "      <td>0.023104</td>\n",
       "    </tr>\n",
       "    <tr>\n",
       "      <th>20</th>\n",
       "      <td>0.024461</td>\n",
       "      <td>0.024464</td>\n",
       "      <td>0.024419</td>\n",
       "      <td>0.024554</td>\n",
       "      <td>0.024585</td>\n",
       "      <td>0.024576</td>\n",
       "      <td>0.024419</td>\n",
       "      <td>0.024860</td>\n",
       "      <td>0.025527</td>\n",
       "      <td>0.025592</td>\n",
       "      <td>...</td>\n",
       "      <td>0.024252</td>\n",
       "      <td>0.024265</td>\n",
       "      <td>0.024203</td>\n",
       "      <td>0.024258</td>\n",
       "      <td>0.024167</td>\n",
       "      <td>0.024236</td>\n",
       "      <td>0.024034</td>\n",
       "      <td>0.024213</td>\n",
       "      <td>0.024486</td>\n",
       "      <td>0.024479</td>\n",
       "    </tr>\n",
       "    <tr>\n",
       "      <th>21</th>\n",
       "      <td>0.021752</td>\n",
       "      <td>0.021391</td>\n",
       "      <td>0.021326</td>\n",
       "      <td>0.021942</td>\n",
       "      <td>0.021553</td>\n",
       "      <td>0.021814</td>\n",
       "      <td>0.022037</td>\n",
       "      <td>0.021963</td>\n",
       "      <td>0.021970</td>\n",
       "      <td>0.022014</td>\n",
       "      <td>...</td>\n",
       "      <td>0.023681</td>\n",
       "      <td>0.023261</td>\n",
       "      <td>0.023753</td>\n",
       "      <td>0.023407</td>\n",
       "      <td>0.023261</td>\n",
       "      <td>0.023599</td>\n",
       "      <td>0.023689</td>\n",
       "      <td>0.023672</td>\n",
       "      <td>0.024053</td>\n",
       "      <td>0.023757</td>\n",
       "    </tr>\n",
       "    <tr>\n",
       "      <th>22</th>\n",
       "      <td>0.020721</td>\n",
       "      <td>0.020634</td>\n",
       "      <td>0.020767</td>\n",
       "      <td>0.020886</td>\n",
       "      <td>0.020771</td>\n",
       "      <td>0.020959</td>\n",
       "      <td>0.021152</td>\n",
       "      <td>0.020964</td>\n",
       "      <td>0.021310</td>\n",
       "      <td>0.021365</td>\n",
       "      <td>...</td>\n",
       "      <td>0.024346</td>\n",
       "      <td>0.024130</td>\n",
       "      <td>0.024062</td>\n",
       "      <td>0.024032</td>\n",
       "      <td>0.024133</td>\n",
       "      <td>0.024211</td>\n",
       "      <td>0.024138</td>\n",
       "      <td>0.024388</td>\n",
       "      <td>0.024499</td>\n",
       "      <td>0.024647</td>\n",
       "    </tr>\n",
       "    <tr>\n",
       "      <th>23</th>\n",
       "      <td>0.018950</td>\n",
       "      <td>0.018762</td>\n",
       "      <td>0.018700</td>\n",
       "      <td>0.019208</td>\n",
       "      <td>0.019001</td>\n",
       "      <td>0.019090</td>\n",
       "      <td>0.019631</td>\n",
       "      <td>0.019534</td>\n",
       "      <td>0.020046</td>\n",
       "      <td>0.020086</td>\n",
       "      <td>...</td>\n",
       "      <td>0.023926</td>\n",
       "      <td>0.023881</td>\n",
       "      <td>0.023720</td>\n",
       "      <td>0.023803</td>\n",
       "      <td>0.024017</td>\n",
       "      <td>0.023937</td>\n",
       "      <td>0.023953</td>\n",
       "      <td>0.023892</td>\n",
       "      <td>0.024353</td>\n",
       "      <td>0.024255</td>\n",
       "    </tr>\n",
       "  </tbody>\n",
       "</table>\n",
       "<p>24 rows × 56 columns</p>\n",
       "</div>"
      ],
      "text/plain": [
       "          0         1         2         3         4         5         6   \\\n",
       "0   0.021587  0.021441  0.021291  0.021880  0.021664  0.021075  0.021748   \n",
       "1   0.026370  0.026642  0.026547  0.026462  0.026634  0.026581  0.026635   \n",
       "2   0.022681  0.022737  0.022276  0.022898  0.022830  0.022728  0.022736   \n",
       "3   0.024106  0.024033  0.023864  0.024128  0.024015  0.024126  0.024204   \n",
       "4   0.022621  0.022661  0.022401  0.022621  0.022714  0.022769  0.023096   \n",
       "5   0.022423  0.021908  0.021901  0.022549  0.022164  0.022158  0.022697   \n",
       "6   0.027824  0.027949  0.027859  0.027894  0.027960  0.027953  0.028103   \n",
       "7   0.022082  0.021763  0.021886  0.022141  0.022122  0.021941  0.021898   \n",
       "8   0.019303  0.019211  0.019010  0.019402  0.019290  0.019481  0.019634   \n",
       "9   0.020854  0.020552  0.020294  0.020688  0.020814  0.020779  0.021291   \n",
       "10  0.019886  0.019788  0.019543  0.020004  0.019950  0.019723  0.019881   \n",
       "11  0.021513  0.021545  0.021343  0.021837  0.021576  0.021531  0.021861   \n",
       "12  0.023659  0.023392  0.023287  0.023560  0.023513  0.023679  0.023919   \n",
       "13  0.020027  0.019873  0.019719  0.020479  0.019981  0.020064  0.020301   \n",
       "14  0.024311  0.024410  0.024374  0.024699  0.024438  0.024400  0.024680   \n",
       "15  0.023875  0.023713  0.023830  0.024001  0.024066  0.023788  0.023742   \n",
       "16  0.022471  0.022601  0.022454  0.022575  0.022550  0.022527  0.022673   \n",
       "17  0.023049  0.022902  0.022640  0.023418  0.023049  0.023358  0.023611   \n",
       "18  0.023053  0.022621  0.022689  0.023382  0.022944  0.023006  0.022994   \n",
       "19  0.019450  0.018897  0.018758  0.019389  0.019110  0.019139  0.019712   \n",
       "20  0.024461  0.024464  0.024419  0.024554  0.024585  0.024576  0.024419   \n",
       "21  0.021752  0.021391  0.021326  0.021942  0.021553  0.021814  0.022037   \n",
       "22  0.020721  0.020634  0.020767  0.020886  0.020771  0.020959  0.021152   \n",
       "23  0.018950  0.018762  0.018700  0.019208  0.019001  0.019090  0.019631   \n",
       "\n",
       "          7         8         9   ...        46        47        48        49  \\\n",
       "0   0.021961  0.022990  0.022693  ...  0.022719  0.022876  0.022737  0.022829   \n",
       "1   0.026474  0.027759  0.027944  ...  0.023118  0.023038  0.022868  0.023068   \n",
       "2   0.022983  0.023545  0.023554  ...  0.024481  0.024593  0.024555  0.024579   \n",
       "3   0.024213  0.025491  0.025482  ...  0.023947  0.023718  0.023638  0.024089   \n",
       "4   0.023208  0.023409  0.023375  ...  0.023662  0.023400  0.023131  0.023120   \n",
       "5   0.022626  0.022265  0.022695  ...  0.023820  0.023548  0.023556  0.023742   \n",
       "6   0.028150  0.029477  0.029188  ...  0.023702  0.023569  0.023377  0.023492   \n",
       "7   0.022389  0.023673  0.023569  ...  0.023728  0.023606  0.023553  0.023920   \n",
       "8   0.019589  0.019968  0.019917  ...  0.022795  0.022600  0.022418  0.022689   \n",
       "9   0.021121  0.021576  0.021409  ...  0.025529  0.025423  0.025483  0.025406   \n",
       "10  0.020004  0.021684  0.021720  ...  0.022760  0.022538  0.022707  0.022774   \n",
       "11  0.021635  0.022376  0.022574  ...  0.023457  0.023380  0.023202  0.023784   \n",
       "12  0.023999  0.024505  0.024411  ...  0.024252  0.024155  0.024215  0.024155   \n",
       "13  0.020575  0.020969  0.021215  ...  0.024554  0.024820  0.024246  0.024570   \n",
       "14  0.024785  0.026051  0.025920  ...  0.023127  0.023167  0.022945  0.022885   \n",
       "15  0.024059  0.024755  0.024778  ...  0.023078  0.023027  0.023182  0.023331   \n",
       "16  0.022848  0.024141  0.024202  ...  0.023012  0.022998  0.022802  0.023028   \n",
       "17  0.023401  0.024166  0.023990  ...  0.024212  0.024212  0.023930  0.024138   \n",
       "18  0.023289  0.023988  0.023829  ...  0.023621  0.023717  0.023621  0.023894   \n",
       "19  0.020052  0.019602  0.019766  ...  0.022754  0.022769  0.022374  0.022335   \n",
       "20  0.024860  0.025527  0.025592  ...  0.024252  0.024265  0.024203  0.024258   \n",
       "21  0.021963  0.021970  0.022014  ...  0.023681  0.023261  0.023753  0.023407   \n",
       "22  0.020964  0.021310  0.021365  ...  0.024346  0.024130  0.024062  0.024032   \n",
       "23  0.019534  0.020046  0.020086  ...  0.023926  0.023881  0.023720  0.023803   \n",
       "\n",
       "          50        51        52        53        54        55  \n",
       "0   0.023037  0.023227  0.023321  0.023589  0.024289  0.024456  \n",
       "1   0.023000  0.023395  0.023609  0.023478  0.024167  0.024029  \n",
       "2   0.024807  0.024953  0.025153  0.025051  0.025636  0.025741  \n",
       "3   0.024122  0.024137  0.024189  0.024421  0.024875  0.024917  \n",
       "4   0.023233  0.023432  0.023404  0.023472  0.023811  0.023929  \n",
       "5   0.023386  0.023597  0.023776  0.023832  0.024053  0.024528  \n",
       "6   0.023654  0.024223  0.024228  0.024095  0.025102  0.025038  \n",
       "7   0.023749  0.024030  0.024190  0.023928  0.024386  0.024695  \n",
       "8   0.022618  0.022906  0.022940  0.023330  0.023554  0.023652  \n",
       "9   0.025506  0.025549  0.025989  0.026246  0.026433  0.026730  \n",
       "10  0.022580  0.022707  0.022993  0.022594  0.023094  0.023100  \n",
       "11  0.023472  0.023940  0.023862  0.023930  0.024658  0.024643  \n",
       "12  0.024452  0.024227  0.024326  0.024726  0.024657  0.024928  \n",
       "13  0.024624  0.024853  0.024687  0.024766  0.025019  0.025202  \n",
       "14  0.023072  0.023207  0.023187  0.023386  0.023438  0.023711  \n",
       "15  0.023185  0.023386  0.023512  0.023704  0.023921  0.024200  \n",
       "16  0.022991  0.023057  0.022964  0.023249  0.023429  0.023438  \n",
       "17  0.024023  0.024205  0.024078  0.024233  0.024638  0.024736  \n",
       "18  0.023758  0.023910  0.024028  0.023784  0.024103  0.024192  \n",
       "19  0.022540  0.022655  0.022664  0.022634  0.022891  0.023104  \n",
       "20  0.024167  0.024236  0.024034  0.024213  0.024486  0.024479  \n",
       "21  0.023261  0.023599  0.023689  0.023672  0.024053  0.023757  \n",
       "22  0.024133  0.024211  0.024138  0.024388  0.024499  0.024647  \n",
       "23  0.024017  0.023937  0.023953  0.023892  0.024353  0.024255  \n",
       "\n",
       "[24 rows x 56 columns]"
      ]
     },
     "execution_count": 102,
     "metadata": {},
     "output_type": "execute_result"
    }
   ],
   "source": [
    "print(values.shape)\n",
    "values[:, b].shape\n",
    "x_selecta = pd.DataFrame(values[:, b])\n",
    "x_selecta"
   ]
  },
  {
   "cell_type": "code",
   "execution_count": 139,
   "metadata": {},
   "outputs": [
    {
     "name": "stdout",
     "output_type": "stream",
     "text": [
      "(19, 56) (19, 1)\n",
      "(5, 56) (5, 1)\n"
     ]
    }
   ],
   "source": [
    "X_train, X_test, y_train, y_test = train_test_split(x_selecta, y_df, test_size=0.2)\n",
    "print (X_train.shape, y_train.shape)\n",
    "print (X_test.shape, y_test.shape)\n",
    "\n",
    "#print(X_test)"
   ]
  },
  {
   "cell_type": "code",
   "execution_count": 140,
   "metadata": {},
   "outputs": [
    {
     "name": "stdout",
     "output_type": "stream",
     "text": [
      "(24, 20)\n",
      "[51.74 87.81 95.23 98.42 98.69 98.89 99.07 99.23 99.35 99.45 99.55 99.63\n",
      " 99.7  99.76 99.81 99.85 99.89 99.92 99.94 99.96]\n"
     ]
    }
   ],
   "source": [
    "n_components= 20\n",
    "\n",
    "# PCA\n",
    "\n",
    "X_std = StandardScaler().fit_transform(x_selecta.values)\n",
    "#print(X_std)\n",
    "\n",
    "pca = PCA(n_components= n_components)\n",
    "PC=pca.fit(X_std)\n",
    "\n",
    "principalComponents = pca.fit_transform(X_std)\n",
    "print(principalComponents.shape)\n",
    "#principalDf = pd.DataFrame(data = principalComponents, columns = ['principal component 1', 'principal component 2', 'principal component 3'])\n",
    "#print(principalDf)\n",
    "\n",
    "\n",
    "#print(pca.explained_variance_ratio_)\n",
    "print(np.cumsum(np.round(pca.explained_variance_ratio_, decimals=4)*100))\n",
    "#print(pca.singular_values_)"
   ]
  },
  {
   "cell_type": "code",
   "execution_count": 141,
   "metadata": {},
   "outputs": [
    {
     "name": "stdout",
     "output_type": "stream",
     "text": [
      "0.953627331660495 -3659.191864572407\n",
      "0.9354341915702457 73833.76330129079\n"
     ]
    }
   ],
   "source": [
    "regr = linear_model.LinearRegression()\n",
    "# Fit\n",
    "regr.fit(principalComponents, y_df)\n",
    "# Calibration\n",
    "y_c = regr.predict(principalComponents)\n",
    "# Cross-validation\n",
    "y_cv = cross_val_predict(regr, principalComponents, y_df, cv=10)\n",
    "# Calculate scores for calibration and cross-validation\n",
    "score_c = r2_score(y_df, y_c)\n",
    "score_cv = r2_score(y_df, y_cv)\n",
    "# Calculate mean square error for calibration and cross validation\n",
    "mse_c = mean_squared_error(y_df, y_c)\n",
    "mse_cv = mean_squared_error(y_df, y_cv)\n",
    "\n",
    "print(score_c, score_cv)\n",
    "print(mse_c, mse_cv)"
   ]
  },
  {
   "cell_type": "code",
   "execution_count": 142,
   "metadata": {},
   "outputs": [
    {
     "name": "stdout",
     "output_type": "stream",
     "text": [
      "(19, 56)\n",
      "(56,)\n",
      "19\n",
      "(19, 18)\n",
      "[ 51.5   87.83  94.97  98.21  98.55  98.81  99.03  99.24  99.39  99.52\n",
      "  99.63  99.72  99.79  99.84  99.89  99.94  99.98 100.  ]\n"
     ]
    }
   ],
   "source": [
    "n_components=18\n",
    "\n",
    "x = X_train.values\n",
    "x_t = X_test.values\n",
    "print(x.shape)\n",
    "print(x[1].shape)\n",
    "print(len(x))\n",
    "\n",
    "\n",
    "# This has to be used later for regression, PCA is done on X only\n",
    "\"\"\"\n",
    "y_df = pd.read_csv('labels_aligned+.csv', sep = ',')\n",
    "concentration=y_df.values\n",
    "#print(concentration)\n",
    "multi_y = concentration[:,2:]\n",
    "#print (multi_y)\n",
    "print (multi_y.shape)\n",
    "multi_y= np.array(multi_y, dtype=np.float)\n",
    "y=np.around(multi_y, decimals=4)\n",
    "#print(y)\n",
    "\"\"\"\n",
    "\n",
    "# PCA\n",
    "\n",
    "X_std = StandardScaler().fit_transform(x)\n",
    "X_std_test = StandardScaler().fit_transform(x_t)\n",
    "#print(X_std)\n",
    "\n",
    "pca = PCA(n_components= n_components)\n",
    "PC=pca.fit(X_std)\n",
    "\n",
    "x_pc = pca.fit_transform(X_std)\n",
    "x_test1 = pca.transform(X_std_test)\n",
    "print(x_pc.shape)\n",
    "#principalDf = pd.DataFrame(data = principalComponents, columns = ['principal component 1', 'principal component 2', 'principal component 3'])\n",
    "#print(principalDf)\n",
    "\n",
    "\n",
    "#print(pca.explained_variance_ratio_)\n",
    "print(np.cumsum(np.round(pca.explained_variance_ratio_, decimals=4)*100))"
   ]
  },
  {
   "cell_type": "code",
   "execution_count": 143,
   "metadata": {},
   "outputs": [
    {
     "name": "stdout",
     "output_type": "stream",
     "text": [
      "R2_pred:  -1.288226611115678\n",
      "MSE:  32.725576288725314\n"
     ]
    }
   ],
   "source": [
    "regr = linear_model.LinearRegression()\n",
    "# Fit\n",
    "regr.fit(x_pc, y_train)\n",
    "# Calibration\n",
    "y_c = regr.predict(x_test1)\n",
    "# Cross-validation\n",
    "#y_cv = cross_val_predict(regr, principalComponents, y_df, cv=10)\n",
    "# Calculate scores for calibration and cross-validation\n",
    "score_c = r2_score(y_test, y_c)\n",
    "#score_cv = r2_score(y_df, y_cv)\n",
    "# Calculate mean square error for calibration and cross validation\n",
    "mse_c = mean_squared_error(y_test, y_c)\n",
    "#mse_cv = mean_squared_error(y_df, y_cv)\n",
    "\n",
    "print(\"R2_pred: \", score_c)\n",
    "print(\"MSE: \", mse_c)"
   ]
  },
  {
   "cell_type": "code",
   "execution_count": 144,
   "metadata": {},
   "outputs": [
    {
     "name": "stdout",
     "output_type": "stream",
     "text": [
      "100% completed\n",
      "Optimised number of PLS components:  10\n",
      "Wavelengths to be discarded  37\n",
      "Optimised MSEP  8.595735112200257\n",
      "\n"
     ]
    }
   ],
   "source": [
    "opt_Xc, ncomp, wav, sorted_ind = pls_variable_selection(x_selecta.values, y_df, 20)"
   ]
  },
  {
   "cell_type": "code",
   "execution_count": 145,
   "metadata": {},
   "outputs": [
    {
     "name": "stdout",
     "output_type": "stream",
     "text": [
      "(19, 19) (19, 1)\n",
      "(5, 19) (5, 1)\n",
      "50% completed\n",
      "Suggested number of components:  11\n",
      "\n"
     ]
    },
    {
     "data": {
      "image/png": "[encoded data removed]",
      "text/plain": [
       "<Figure size 432x288 with 1 Axes>"
      ]
     },
     "metadata": {},
     "output_type": "display_data"
    },
    {
     "name": "stdout",
     "output_type": "stream",
     "text": [
      "R2 calib: 0.986\n",
      "R2 CV: 0.039\n",
      "MSE calib: 0.283\n",
      "MSE CV: 19.218\n"
     ]
    }
   ],
   "source": [
    "X_train, X_test, y_train, y_test = train_test_split(opt_Xc, y_df, test_size=0.2)\n",
    "print (X_train.shape, y_train.shape)\n",
    "print (X_test.shape, y_test.shape)\n",
    "#print(X_test)\n",
    "\n",
    "optimise_pls_cv(X_train,y_train, 20, plot_components=True)"
   ]
  },
  {
   "cell_type": "code",
   "execution_count": 153,
   "metadata": {},
   "outputs": [
    {
     "name": "stdout",
     "output_type": "stream",
     "text": [
      "R2_pred: 0.46480809333258766\n",
      "R2_cv: -0.06445424845194236 \n",
      "\n",
      "[real, predictions]\n",
      "[[ 0.53       -0.25032003]\n",
      " [ 0.07       -3.8209037 ]\n",
      " [ 8.565      11.76968294]\n",
      " [ 0.18       -0.93238306]\n",
      " [ 0.26       -1.26885094]]\n"
     ]
    },
    {
     "data": {
      "image/png": "[encoded data removed]",
      "text/plain": [
       "<Figure size 432x288 with 1 Axes>"
      ]
     },
     "metadata": {
      "needs_background": "light"
     },
     "output_type": "display_data"
    }
   ],
   "source": [
    "# Define PLS object\n",
    "pls = PLSRegression(n_components=10)\n",
    "# Fit\n",
    "pls.fit(X_train, y_train)\n",
    "# Cross-validation\n",
    "y_pred = pls.predict(X_test)\n",
    "\n",
    "# Cross-validation\n",
    "y_cv = cross_val_predict(pls, X_train, y_train, cv=10)\n",
    "\n",
    "# Calculate scores for calibration and cross-validation\n",
    "score_pred = r2_score(y_test, y_pred)\n",
    "score_cv = r2_score(y_train, y_cv)\n",
    "\n",
    "print(\"R2_pred:\", score_pred)\n",
    "print(\"R2_cv:\",score_cv, \"\\n\")\n",
    "\n",
    "b=np.append(y_test, y_pred, axis=1)\n",
    "\n",
    "print(\"[real, predictions]\")\n",
    "print(b)\n",
    "\n",
    "plt.scatter(y_test, y_pred)\n",
    "plt.xlabel('True Values')\n",
    "plt.ylabel('Predictions')\n",
    "plt.grid(True)\n",
    "plt.show()"
   ]
  },
  {
   "cell_type": "code",
   "execution_count": null,
   "metadata": {},
   "outputs": [],
   "source": []
  },
  {
   "cell_type": "code",
   "execution_count": null,
   "metadata": {},
   "outputs": [],
   "source": []
  },
  {
   "cell_type": "code",
   "execution_count": null,
   "metadata": {},
   "outputs": [],
   "source": []
  },
  {
   "cell_type": "code",
   "execution_count": null,
   "metadata": {},
   "outputs": [],
   "source": []
  },
  {
   "cell_type": "code",
   "execution_count": 38,
   "metadata": {},
   "outputs": [
    {
     "data": {
      "text/plain": [
       "array([[-0.00432779, -0.00445947, -0.00459477, ..., -0.0070824 ,\n",
       "        -0.00697957, -0.00694981],\n",
       "       [-0.00300622, -0.00289671, -0.00330585, ..., -0.01077987,\n",
       "        -0.01069323, -0.01084606],\n",
       "       [-0.00490734, -0.00516648, -0.00522813, ..., -0.00778191,\n",
       "        -0.00777324, -0.00787054],\n",
       "       ...,\n",
       "       [-0.00333413, -0.00366814, -0.00372828, ..., -0.0062468 ,\n",
       "        -0.00596367, -0.0061552 ],\n",
       "       [-0.00552155, -0.00564901, -0.00586207, ..., -0.00698353,\n",
       "        -0.0073193 , -0.00732596],\n",
       "       [-0.00662448, -0.00681398, -0.00687648, ..., -0.00805989,\n",
       "        -0.00812742, -0.00792078]])"
      ]
     },
     "execution_count": 38,
     "metadata": {},
     "output_type": "execute_result"
    }
   ],
   "source": [
    "Xmsc = msc(x_df.values)\n",
    "Xmsc[0]"
   ]
  },
  {
   "cell_type": "code",
   "execution_count": 136,
   "metadata": {
    "scrolled": false
   },
   "outputs": [
    {
     "data": {
      "image/png": "[encoded data removed]",
      "text/plain": [
       "<Figure size 1152x1440 with 2 Axes>"
      ]
     },
     "metadata": {
      "needs_background": "light"
     },
     "output_type": "display_data"
    }
   ],
   "source": [
    "X = x_df.values[0,:].reshape(1,-1)\n",
    "#wl\n",
    "Xmsc = msc(X)[0] # Take the first element of the output tuple\n",
    "\n",
    "%matplotlib inline\n",
    "## Plot spectra\n",
    "plt.figure(figsize=(16,20))\n",
    "with plt.style.context(('ggplot')):\n",
    "    ax1 = plt.subplot(311)\n",
    "    plt.plot(X.T)\n",
    "    #plt.plot(wl.T, X.T)\n",
    "    plt.title('Original data')\n",
    "    ax2 = plt.subplot(312)\n",
    "    plt.plot(Xmsc.T)\n",
    "    #plt.plot(wl.T, Xmsc.T)\n",
    "    plt.ylabel('Intensity spectra')\n",
    "    plt.title('MSC')\n",
    "    plt.show()"
   ]
  },
  {
   "cell_type": "code",
   "execution_count": null,
   "metadata": {},
   "outputs": [],
   "source": []
  },
  {
   "cell_type": "code",
   "execution_count": null,
   "metadata": {},
   "outputs": [],
   "source": []
  },
  {
   "cell_type": "code",
   "execution_count": null,
   "metadata": {},
   "outputs": [],
   "source": []
  },
  {
   "cell_type": "code",
   "execution_count": 40,
   "metadata": {},
   "outputs": [
    {
     "name": "stdout",
     "output_type": "stream",
     "text": [
      "(19, 1446) (19, 1)\n",
      "(5, 1446) (5, 1)\n",
      "        0\n",
      "6   0.530\n",
      "0   0.228\n",
      "7   0.120\n",
      "10  0.100\n",
      "17  1.190\n"
     ]
    }
   ],
   "source": [
    "X_train, X_test, y_train, y_test = train_test_split(x_df, y_df, test_size=0.2)\n",
    "print (X_train.shape, y_train.shape)\n",
    "print (X_test.shape, y_test.shape)\n",
    "print(y_test)"
   ]
  },
  {
   "cell_type": "code",
   "execution_count": null,
   "metadata": {},
   "outputs": [],
   "source": []
  },
  {
   "cell_type": "markdown",
   "metadata": {},
   "source": [
    "# Principal Components Analysis"
   ]
  },
  {
   "cell_type": "code",
   "execution_count": 57,
   "metadata": {},
   "outputs": [
    {
     "name": "stdout",
     "output_type": "stream",
     "text": [
      "(24, 1446)\n",
      "(1446,)\n",
      "24\n",
      "(24, 20)\n",
      "[51.76 73.33 83.06 88.24 91.3  93.83 95.26 96.51 97.32 97.86 98.27 98.64\n",
      " 98.92 99.14 99.31 99.45 99.57 99.68 99.76 99.84]\n"
     ]
    }
   ],
   "source": [
    "n_components=20\n",
    "\n",
    "x_df = pd.read_csv('avg_base_norm.csv', sep = ',')\n",
    "x = x_df.values\n",
    "print(x.shape)\n",
    "print(x[1].shape)\n",
    "print(len(x))\n",
    "\n",
    "\n",
    "# This has to be used later for regression, PCA is done on X only\n",
    "\"\"\"\n",
    "y_df = pd.read_csv('labels_aligned+.csv', sep = ',')\n",
    "concentration=y_df.values\n",
    "#print(concentration)\n",
    "multi_y = concentration[:,2:]\n",
    "#print (multi_y)\n",
    "print (multi_y.shape)\n",
    "multi_y= np.array(multi_y, dtype=np.float)\n",
    "y=np.around(multi_y, decimals=4)\n",
    "#print(y)\n",
    "\"\"\"\n",
    "\n",
    "# PCA\n",
    "\n",
    "X_std = StandardScaler().fit_transform(x)\n",
    "#print(X_std)\n",
    "\n",
    "pca = PCA(n_components= n_components)\n",
    "PC=pca.fit(X_std)\n",
    "\n",
    "principalComponents = pca.fit_transform(X_std)\n",
    "print(principalComponents.shape)\n",
    "#principalDf = pd.DataFrame(data = principalComponents, columns = ['principal component 1', 'principal component 2', 'principal component 3'])\n",
    "#print(principalDf)\n",
    "\n",
    "\n",
    "#print(pca.explained_variance_ratio_)\n",
    "print(np.cumsum(np.round(pca.explained_variance_ratio_, decimals=4)*100))\n",
    "#print(pca.singular_values_)"
   ]
  },
  {
   "cell_type": "code",
   "execution_count": 58,
   "metadata": {},
   "outputs": [],
   "source": [
    "regr = linear_model.LinearRegression()\n",
    "# Fit\n",
    "regr.fit(principalComponents, y_df)\n",
    "# Calibration\n",
    "y_c = regr.predict(principalComponents)\n",
    "# Cross-validation\n",
    "y_cv = cross_val_predict(regr, principalComponents, y_df, cv=10)\n",
    "# Calculate scores for calibration and cross-validation\n",
    "score_c = r2_score(y_df, y_c)\n",
    "score_cv = r2_score(y_df, y_cv)\n",
    "# Calculate mean square error for calibration and cross validation\n",
    "mse_c = mean_squared_error(y_df, y_c)\n",
    "mse_cv = mean_squared_error(y_df, y_cv)"
   ]
  },
  {
   "cell_type": "code",
   "execution_count": 43,
   "metadata": {},
   "outputs": [
    {
     "name": "stdout",
     "output_type": "stream",
     "text": [
      "0.8356021451900544 -585.2005450442468\n",
      "0.016023177342218996 57.13453683570308\n"
     ]
    }
   ],
   "source": [
    "print(score_c, score_cv)\n",
    "print(mse_c, mse_cv)"
   ]
  },
  {
   "cell_type": "code",
   "execution_count": 44,
   "metadata": {},
   "outputs": [
    {
     "name": "stdout",
     "output_type": "stream",
     "text": [
      "(19, 1446)\n",
      "(1446,)\n",
      "19\n",
      "(19, 15)\n",
      "[58.75 76.53 87.   91.07 92.86 94.57 95.95 97.06 97.78 98.34 98.75 99.03\n",
      " 99.25 99.45 99.63]\n"
     ]
    }
   ],
   "source": [
    "n_components=15\n",
    "\n",
    "x = X_train.values\n",
    "x_t = X_test.values\n",
    "print(x.shape)\n",
    "print(x[1].shape)\n",
    "print(len(x))\n",
    "\n",
    "\n",
    "# This has to be used later for regression, PCA is done on X only\n",
    "\"\"\"\n",
    "y_df = pd.read_csv('labels_aligned+.csv', sep = ',')\n",
    "concentration=y_df.values\n",
    "#print(concentration)\n",
    "multi_y = concentration[:,2:]\n",
    "#print (multi_y)\n",
    "print (multi_y.shape)\n",
    "multi_y= np.array(multi_y, dtype=np.float)\n",
    "y=np.around(multi_y, decimals=4)\n",
    "#print(y)\n",
    "\"\"\"\n",
    "\n",
    "# PCA\n",
    "\n",
    "X_std = StandardScaler().fit_transform(x)\n",
    "X_std_test = StandardScaler().fit_transform(x_t)\n",
    "#print(X_std)\n",
    "\n",
    "pca = PCA(n_components= n_components)\n",
    "PC=pca.fit(X_std)\n",
    "\n",
    "x_pc = pca.fit_transform(X_std)\n",
    "x_test1 = pca.transform(X_std_test)\n",
    "print(x_pc.shape)\n",
    "#principalDf = pd.DataFrame(data = principalComponents, columns = ['principal component 1', 'principal component 2', 'principal component 3'])\n",
    "#print(principalDf)\n",
    "\n",
    "\n",
    "#print(pca.explained_variance_ratio_)\n",
    "print(np.cumsum(np.round(pca.explained_variance_ratio_, decimals=4)*100))"
   ]
  },
  {
   "cell_type": "code",
   "execution_count": 45,
   "metadata": {},
   "outputs": [
    {
     "data": {
      "text/plain": [
       "array([[-3.24574886e+01, -9.41637595e+00, -9.93741303e+00,\n",
       "         9.74181581e+00,  1.32616555e+00,  3.99905766e-01,\n",
       "        -1.25226783e+00,  1.45574313e+00,  9.95867265e-01,\n",
       "         2.73742983e+00, -3.39051534e-01, -3.26699845e-01,\n",
       "         1.21739838e+00, -1.09771613e+00, -7.52143000e-01],\n",
       "       [ 1.84161235e+01, -4.92165333e-01,  2.10138366e+01,\n",
       "         1.15387371e+00, -3.05017342e+00,  5.82548481e+00,\n",
       "         7.85393498e+00, -2.65988596e+00,  2.95306263e-01,\n",
       "        -1.92387296e+00, -6.54316276e-01,  5.61489972e+00,\n",
       "        -3.76805081e-01,  2.00651126e+00, -2.03461115e+00],\n",
       "       [ 7.70064672e-01, -4.29935059e+00,  8.41795415e+00,\n",
       "        -3.47916389e+00,  1.94998523e+01,  5.57734880e+00,\n",
       "        -8.58052689e+00,  6.70339408e+00, -8.15365917e-01,\n",
       "        -2.47952163e+00,  1.05709930e+00,  3.28304546e+00,\n",
       "        -5.19023371e-02, -1.25051791e+00, -9.51345974e-01],\n",
       "       [ 1.39610856e+01,  2.57653465e+01, -3.23730369e+00,\n",
       "        -2.13471244e+01, -8.43794732e-01,  4.31605470e-01,\n",
       "        -3.66988760e-01, -1.89906431e+00,  6.96309469e-01,\n",
       "        -1.50732706e+00,  6.45716033e+00, -2.01978109e+00,\n",
       "        -2.87730072e+00,  3.32009858e-01, -7.63892666e-01],\n",
       "       [-6.89785237e-01, -1.15574547e+01, -1.62570740e+01,\n",
       "         1.39305987e+01, -1.69320497e+01, -1.22343449e+01,\n",
       "         2.34584849e+00, -3.60018695e+00, -1.17211708e+00,\n",
       "         3.17329182e+00, -6.52089182e+00, -6.55146424e+00,\n",
       "         2.08860976e+00,  9.71292680e-03,  4.50199279e+00]])"
      ]
     },
     "execution_count": 45,
     "metadata": {},
     "output_type": "execute_result"
    }
   ],
   "source": [
    "x_test1"
   ]
  },
  {
   "cell_type": "code",
   "execution_count": 46,
   "metadata": {},
   "outputs": [
    {
     "name": "stdout",
     "output_type": "stream",
     "text": [
      "R2:  -1.0310418664760772\n",
      "MSE:  0.33850936083513616\n"
     ]
    }
   ],
   "source": [
    "regr = linear_model.LinearRegression()\n",
    "# Fit\n",
    "regr.fit(x_pc, y_train)\n",
    "# Calibration\n",
    "y_c = regr.predict(x_test1)\n",
    "# Cross-validation\n",
    "#y_cv = cross_val_predict(regr, principalComponents, y_df, cv=10)\n",
    "# Calculate scores for calibration and cross-validation\n",
    "score_c = r2_score(y_test, y_c)\n",
    "#score_cv = r2_score(y_df, y_cv)\n",
    "# Calculate mean square error for calibration and cross validation\n",
    "mse_c = mean_squared_error(y_test, y_c)\n",
    "#mse_cv = mean_squared_error(y_df, y_cv)\n",
    "\n",
    "print(\"R2: \", score_c)\n",
    "print(\"MSE: \", mse_c)"
   ]
  },
  {
   "cell_type": "code",
   "execution_count": 59,
   "metadata": {},
   "outputs": [
    {
     "name": "stdout",
     "output_type": "stream",
     "text": [
      "37% completed\n",
      "Suggested number of components:  9\n",
      "\n"
     ]
    },
    {
     "data": {
      "image/png": "[encoded data removed]",
      "text/plain": [
       "<Figure size 432x288 with 1 Axes>"
      ]
     },
     "metadata": {},
     "output_type": "display_data"
    },
    {
     "name": "stdout",
     "output_type": "stream",
     "text": [
      "R2 calib: 0.956\n",
      "R2 CV: 0.190\n",
      "MSE calib: 0.004\n",
      "MSE CV: 0.079\n"
     ]
    }
   ],
   "source": [
    "optimise_pls_cv(x_pc, y_train, 15, plot_components=True) "
   ]
  },
  {
   "cell_type": "code",
   "execution_count": 63,
   "metadata": {},
   "outputs": [
    {
     "name": "stdout",
     "output_type": "stream",
     "text": [
      "R2:  -1.0310418664760812\n",
      "MSE:  0.33850936083513683\n"
     ]
    }
   ],
   "source": [
    "pls = PLSRegression(n_components=2)\n",
    "# Fit\n",
    "pls.fit(x_pc, y_train)\n",
    "# Calibration\n",
    "y_c = pls.predict(x_test1)\n",
    "# Cross-validation\n",
    "#y_cv = cross_val_predict(regr, principalComponents, y_df, cv=10)\n",
    "# Calculate scores for calibration and cross-validation\n",
    "score_c = r2_score(y_test, y_c)\n",
    "#score_cv = r2_score(y_df, y_cv)\n",
    "# Calculate mean square error for calibration and cross validation\n",
    "mse_c = mean_squared_error(y_test, y_c)\n",
    "#mse_cv = mean_squared_error(y_df, y_cv)\n",
    "\n",
    "print(\"R2: \", score_c)\n",
    "print(\"MSE: \", mse_c)"
   ]
  },
  {
   "cell_type": "code",
   "execution_count": null,
   "metadata": {},
   "outputs": [],
   "source": []
  },
  {
   "cell_type": "markdown",
   "metadata": {},
   "source": [
    "#### This is the *mathematical* way to do it"
   ]
  },
  {
   "cell_type": "code",
   "execution_count": 24,
   "metadata": {},
   "outputs": [
    {
     "name": "stdout",
     "output_type": "stream",
     "text": [
      "(1508.8695652173917+0j)\n",
      "[47.43 65.94 74.18 81.21 85.42 88.88 91.66 93.52 94.9  95.92 96.71 97.28\n",
      " 97.78 98.2  98.59 98.86 99.09 99.3  99.46 99.62]\n"
     ]
    },
    {
     "data": {
      "text/plain": [
       "\"# Make a list of (eigenvalue, eigenvector) tuples\\neig_pairs = [(np.abs(eig_vals[i]), eig_vecs[:,i]) for i in range(len(eig_vals))]\\n\\n# Sort the (eigenvalue, eigenvector) tuples from high to low\\neig_pairs.sort(key=lambda x: x[0], reverse=True)\\n\\n# Visually confirm that the list is correctly sorted by decreasing eigenvalues\\nprint('Eigenvalues in descending order:')\\nfor i in eig_pairs[:20]: #only first 20 eigenvalues\\n    print(i[0])\\n\""
      ]
     },
     "execution_count": 24,
     "metadata": {},
     "output_type": "execute_result"
    },
    {
     "data": {
      "image/png": "[encoded data removed]",
      "text/plain": [
       "<Figure size 432x288 with 1 Axes>"
      ]
     },
     "metadata": {},
     "output_type": "display_data"
    }
   ],
   "source": [
    "cov_mat = np.cov(X_std.T) #covariance matrix\n",
    "#print('NumPy covariance matrix: \\n%s' %np.cov(X_std.T))\n",
    "\n",
    "eig_vals, eig_vecs = np.linalg.eig(cov_mat)\n",
    "\n",
    "#print('Eigenvectors \\n%s' %eig_vecs)\n",
    "#print('\\nEigenvalues \\n%s' %eig_vals)\n",
    "\n",
    "tot = sum(eig_vals)\n",
    "print(tot)\n",
    "var_exp = [(i / tot)*100 for i in sorted(eig_vals, reverse=True)]\n",
    "cum_var_exp = np.cumsum(var_exp)\n",
    "#print(cum_var_exp.real)\n",
    "print(np.round(cum_var_exp[:20].real, decimals=2)) # same as above but only first 10 elements\n",
    "\n",
    "with plt.style.context('seaborn-whitegrid'):\n",
    "    plt.figure(figsize=(6, 4))\n",
    "\n",
    "    plt.bar(range(len(var_exp)), var_exp, alpha=0.5, align='center', label='individual explained variance')\n",
    "    plt.step(range(len(cum_var_exp)), cum_var_exp, where='mid', label='cumulative explained variance')\n",
    "    plt.ylabel('Explained variance ratio')\n",
    "    plt.xlabel('Principal components')\n",
    "    plt.legend(loc='best')\n",
    "    plt.tight_layout()\n",
    "    \n",
    "'''# Make a list of (eigenvalue, eigenvector) tuples\n",
    "eig_pairs = [(np.abs(eig_vals[i]), eig_vecs[:,i]) for i in range(len(eig_vals))]\n",
    "\n",
    "# Sort the (eigenvalue, eigenvector) tuples from high to low\n",
    "eig_pairs.sort(key=lambda x: x[0], reverse=True)\n",
    "\n",
    "# Visually confirm that the list is correctly sorted by decreasing eigenvalues\n",
    "print('Eigenvalues in descending order:')\n",
    "for i in eig_pairs[:20]: #only first 20 eigenvalues\n",
    "    print(i[0])\n",
    "'''"
   ]
  },
  {
   "cell_type": "markdown",
   "metadata": {},
   "source": [
    "# Linear Regression\n",
    "this is ordinary least square regression"
   ]
  },
  {
   "cell_type": "code",
   "execution_count": 21,
   "metadata": {},
   "outputs": [],
   "source": [
    "\n",
    "\n",
    "# fit a model\n",
    "lm = linear_model.LinearRegression()\n",
    "model = lm.fit(X_train, y_train)\n",
    "predictions = lm.predict(X_test)"
   ]
  },
  {
   "cell_type": "code",
   "execution_count": 22,
   "metadata": {},
   "outputs": [
    {
     "name": "stdout",
     "output_type": "stream",
     "text": [
      "[real, predictions]\n",
      "[[0.031      2.68721343]\n",
      " [5.06       1.607639  ]\n",
      " [0.16       2.5961751 ]\n",
      " [0.1        2.56690439]\n",
      " [0.052      2.07902308]]\n"
     ]
    }
   ],
   "source": [
    "b=np.append(y_test, predictions, axis=1)\n",
    "\n",
    "print(\"[real, predictions]\")\n",
    "print(b)"
   ]
  },
  {
   "cell_type": "code",
   "execution_count": 23,
   "metadata": {},
   "outputs": [
    {
     "data": {
      "image/png": "[encoded data removed]",
      "text/plain": [
       "<Figure size 432x288 with 1 Axes>"
      ]
     },
     "metadata": {
      "needs_background": "light"
     },
     "output_type": "display_data"
    }
   ],
   "source": [
    "plt.scatter(y_test, predictions)\n",
    "plt.xlabel('True Values')\n",
    "plt.ylabel('Predictions')\n",
    "plt.grid(True)\n",
    "plt.show()"
   ]
  },
  {
   "cell_type": "code",
   "execution_count": 24,
   "metadata": {},
   "outputs": [
    {
     "name": "stdout",
     "output_type": "stream",
     "text": [
      "RMSE:  2.6496662152506527\n",
      "R^2:  -0.7725194926143217\n"
     ]
    }
   ],
   "source": [
    "rmse = sqrt(mean_squared_error(y_test, predictions))\n",
    "r2 = r2_score(y_test, predictions)\n",
    "print(\"RMSE: \", rmse)\n",
    "print(\"R^2: \", r2)"
   ]
  },
  {
   "cell_type": "markdown",
   "metadata": {},
   "source": [
    "# Partial Least Square Regression"
   ]
  },
  {
   "cell_type": "code",
   "execution_count": 17,
   "metadata": {},
   "outputs": [
    {
     "data": {
      "text/plain": [
       "\"   \\n    # Fit a line to the CV vs response\\n    z = np.polyfit(y, y_c, 1)\\n    with plt.style.context(('ggplot')):\\n        fig, ax = plt.subplots(figsize=(9, 5))\\n        ax.scatter(y_c, y, c='red', edgecolors='k')\\n        #Plot the best fit line\\n        ax.plot(np.polyval(z,y), y, c='blue', linewidth=1)\\n        #Plot the ideal 1:1 line\\n        ax.plot(y, y, color='green', linewidth=1)\\n        plt.title('$R^{2}$ (CV): '+str(score_cv))\\n        plt.xlabel('Predicted $^{\\\\circ}$Brix')\\n        plt.ylabel('Measured $^{\\\\circ}$Brix')\\n        plt.show()\\n    return\\n\""
      ]
     },
     "execution_count": 17,
     "metadata": {},
     "output_type": "execute_result"
    }
   ],
   "source": [
    "def optimise_pls_cv(X, y, n_comp, plot_components=True):\n",
    "    '''Run PLS including a variable number of components, up to n_comp,\n",
    "       and calculate MSE '''\n",
    "    mse = []\n",
    "    component = np.arange(1, n_comp)\n",
    "    for i in component:\n",
    "        pls = PLSRegression(n_components=i)\n",
    "        # Cross-validation\n",
    "        y_cv = cross_val_predict(pls, X, y, cv=10)\n",
    "        mse.append(mean_squared_error(y, y_cv))\n",
    "        comp = 100*(i+1)/40\n",
    "        # Trick to update status on the same line\n",
    "        stdout.write(\"\\r%d%% completed\" % comp)\n",
    "        stdout.flush()\n",
    "    stdout.write(\"\\n\")\n",
    "    # Calculate and print the position of minimum in MSE\n",
    "    msemin = np.argmin(mse)\n",
    "    print(\"Suggested number of components: \", msemin+1)\n",
    "    stdout.write(\"\\n\")\n",
    "    if plot_components is True:\n",
    "        with plt.style.context(('ggplot')):\n",
    "            plt.plot(component, np.array(mse), '-v', color = 'blue', mfc='blue')\n",
    "            plt.plot(component[msemin], np.array(mse)[msemin], 'P', ms=10, mfc='red')\n",
    "            plt.xlabel('Number of PLS components')\n",
    "            plt.ylabel('MSE')\n",
    "            plt.title('PLS')\n",
    "            plt.xlim(left=-1)\n",
    "        plt.show()\n",
    "    # Define PLS object with optimal number of components\n",
    "    pls_opt = PLSRegression(n_components=msemin+1)\n",
    "    # Fir to the entire dataset\n",
    "    pls_opt.fit(X, y)\n",
    "    y_c = pls_opt.predict(X)\n",
    "    # Cross-validation\n",
    "    y_cv = cross_val_predict(pls_opt, X, y, cv=10)\n",
    "    # Calculate scores for calibration and cross-validation\n",
    "    score_c = r2_score(y, y_c)\n",
    "    score_cv = r2_score(y, y_cv)\n",
    "    # Calculate mean squared error for calibration and cross validation\n",
    "    mse_c = mean_squared_error(y, y_c)\n",
    "    mse_cv = mean_squared_error(y, y_cv)\n",
    "    print('R2 calib: %5.3f'  % score_c)\n",
    "    print('R2 CV: %5.3f'  % score_cv)\n",
    "    print('MSE calib: %5.3f' % mse_c)\n",
    "    print('MSE CV: %5.3f' % mse_cv)\n",
    "    \n",
    "    return\n",
    "    # Plot regression and figures of merit\n",
    "    rangey = max(y) - min(y)\n",
    "    rangex = max(y_c) - min(y_c)\n",
    "\"\"\"   \n",
    "    # Fit a line to the CV vs response\n",
    "    z = np.polyfit(y, y_c, 1)\n",
    "    with plt.style.context(('ggplot')):\n",
    "        fig, ax = plt.subplots(figsize=(9, 5))\n",
    "        ax.scatter(y_c, y, c='red', edgecolors='k')\n",
    "        #Plot the best fit line\n",
    "        ax.plot(np.polyval(z,y), y, c='blue', linewidth=1)\n",
    "        #Plot the ideal 1:1 line\n",
    "        ax.plot(y, y, color='green', linewidth=1)\n",
    "        plt.title('$R^{2}$ (CV): '+str(score_cv))\n",
    "        plt.xlabel('Predicted $^{\\circ}$Brix')\n",
    "        plt.ylabel('Measured $^{\\circ}$Brix')\n",
    "        plt.show()\n",
    "    return\n",
    "\"\"\" "
   ]
  },
  {
   "cell_type": "markdown",
   "metadata": {},
   "source": [
    "## No preprocessing"
   ]
  },
  {
   "cell_type": "code",
   "execution_count": 72,
   "metadata": {},
   "outputs": [
    {
     "name": "stdout",
     "output_type": "stream",
     "text": [
      "(19, 1446) (19, 1)\n",
      "(5, 1446) (5, 1)\n"
     ]
    },
    {
     "data": {
      "text/html": [
       "<div>\n",
       "<style scoped>\n",
       "    .dataframe tbody tr th:only-of-type {\n",
       "        vertical-align: middle;\n",
       "    }\n",
       "\n",
       "    .dataframe tbody tr th {\n",
       "        vertical-align: top;\n",
       "    }\n",
       "\n",
       "    .dataframe thead th {\n",
       "        text-align: right;\n",
       "    }\n",
       "</style>\n",
       "<table border=\"1\" class=\"dataframe\">\n",
       "  <thead>\n",
       "    <tr style=\"text-align: right;\">\n",
       "      <th></th>\n",
       "      <th>0</th>\n",
       "    </tr>\n",
       "  </thead>\n",
       "  <tbody>\n",
       "    <tr>\n",
       "      <th>22</th>\n",
       "      <td>1.260</td>\n",
       "    </tr>\n",
       "    <tr>\n",
       "      <th>21</th>\n",
       "      <td>0.079</td>\n",
       "    </tr>\n",
       "    <tr>\n",
       "      <th>0</th>\n",
       "      <td>0.280</td>\n",
       "    </tr>\n",
       "    <tr>\n",
       "      <th>3</th>\n",
       "      <td>0.330</td>\n",
       "    </tr>\n",
       "    <tr>\n",
       "      <th>12</th>\n",
       "      <td>0.016</td>\n",
       "    </tr>\n",
       "  </tbody>\n",
       "</table>\n",
       "</div>"
      ],
      "text/plain": [
       "        0\n",
       "22  1.260\n",
       "21  0.079\n",
       "0   0.280\n",
       "3   0.330\n",
       "12  0.016"
      ]
     },
     "execution_count": 72,
     "metadata": {},
     "output_type": "execute_result"
    }
   ],
   "source": [
    "X_train, X_test, y_train, y_test = train_test_split(x_df, y_df, test_size=0.2, random_state=4)\n",
    "print (X_train.shape, y_train.shape)\n",
    "print (X_test.shape, y_test.shape)\n",
    "#print(X_test)\n",
    "y_test"
   ]
  },
  {
   "cell_type": "code",
   "execution_count": 73,
   "metadata": {},
   "outputs": [
    {
     "name": "stdout",
     "output_type": "stream",
     "text": [
      "100% completed\n",
      "Suggested number of components:  3\n",
      "\n"
     ]
    },
    {
     "data": {
      "image/png": "[encoded data removed]",
      "text/plain": [
       "<Figure size 432x288 with 1 Axes>"
      ]
     },
     "metadata": {},
     "output_type": "display_data"
    },
    {
     "name": "stdout",
     "output_type": "stream",
     "text": [
      "R2 calib: 0.524\n",
      "R2 CV: -0.105\n",
      "MSE calib: 0.091\n",
      "MSE CV: 0.211\n"
     ]
    }
   ],
   "source": [
    "optimise_pls_cv(x_df, y_df, 40, plot_components=True)\n",
    "#optimise_pls_cv(x_df, y_all, 40, plot_components=True)"
   ]
  },
  {
   "cell_type": "code",
   "execution_count": 74,
   "metadata": {},
   "outputs": [
    {
     "name": "stdout",
     "output_type": "stream",
     "text": [
      "R^2_cv -0.10453192234784381\n",
      "MSE:  0.21126596081807159\n"
     ]
    }
   ],
   "source": [
    "# Define PLS object\n",
    "pls = PLSRegression(n_components=3)\n",
    "# Fit\n",
    "pls.fit(x_df, y_df)\n",
    "# Cross-validation\n",
    "y_cv = cross_val_predict(pls, x_df, y_df, cv=10)\n",
    "# Calculate scores\n",
    "score = r2_score(y_df, y_cv)\n",
    "mse = mean_squared_error(y_df, y_cv)\n",
    "\n",
    "print(\"R^2_cv\", score)\n",
    "print(\"MSE: \", mse)"
   ]
  },
  {
   "cell_type": "code",
   "execution_count": 75,
   "metadata": {},
   "outputs": [
    {
     "name": "stdout",
     "output_type": "stream",
     "text": [
      "100% completed\n",
      "Suggested number of components:  10\n",
      "\n"
     ]
    },
    {
     "data": {
      "image/png": "[encoded data removed]",
      "text/plain": [
       "<Figure size 432x288 with 1 Axes>"
      ]
     },
     "metadata": {},
     "output_type": "display_data"
    },
    {
     "name": "stdout",
     "output_type": "stream",
     "text": [
      "R2 calib: 0.999\n",
      "R2 CV: 0.523\n",
      "MSE calib: 0.000\n",
      "MSE CV: 0.090\n"
     ]
    }
   ],
   "source": [
    "optimise_pls_cv(X_train,y_train, 40, plot_components=True)"
   ]
  },
  {
   "cell_type": "code",
   "execution_count": 76,
   "metadata": {},
   "outputs": [
    {
     "name": "stdout",
     "output_type": "stream",
     "text": [
      "R^2:  0.5084917693555373\n",
      "MSE:  0.09259163843885171\n"
     ]
    }
   ],
   "source": [
    "# Define PLS object\n",
    "pls = PLSRegression(n_components=20)\n",
    "# Fit\n",
    "pls.fit(X_train, y_train)\n",
    "# Cross-validation\n",
    "y_cv = cross_val_predict(pls, X_train, y_train, cv=10)\n",
    "# Calculate scores\n",
    "score = r2_score(y_train, y_cv)\n",
    "mse = mean_squared_error(y_train, y_cv)\n",
    "\n",
    "print(\"R^2: \", score)\n",
    "print(\"MSE: \", mse)"
   ]
  },
  {
   "cell_type": "code",
   "execution_count": 77,
   "metadata": {},
   "outputs": [
    {
     "name": "stdout",
     "output_type": "stream",
     "text": [
      "R2_cv_test:  -4.217422818297326\n"
     ]
    }
   ],
   "source": [
    "y_cv = cross_val_predict(pls, X_test, y_test, cv=5)\n",
    "# Calculate scores\n",
    "score = r2_score(y_test, y_cv)\n",
    "print(\"R2_cv_test: \", score)"
   ]
  },
  {
   "cell_type": "code",
   "execution_count": 78,
   "metadata": {},
   "outputs": [
    {
     "name": "stdout",
     "output_type": "stream",
     "text": [
      "R2_pred:  -1.1784393998401468\n",
      "R2_cv:  0.5084917693555373\n",
      "\n",
      "TEST\n",
      " [real, predictions]\n",
      "[[ 1.26000000e+00  1.15724521e-04]\n",
      " [ 7.90000000e-02 -1.17881677e-01]\n",
      " [ 2.80000000e-01 -2.86885696e-01]\n",
      " [ 3.30000000e-01  8.29855935e-01]\n",
      " [ 1.60000000e-02 -1.70203957e-02]]\n",
      "\n",
      "TRAIN\n",
      " [real, predictions]\n",
      "[[1.45  1.45 ]\n",
      " [0.1   0.1  ]\n",
      " [1.14  1.14 ]\n",
      " [0.41  0.41 ]\n",
      " [0.016 0.016]\n",
      " [0.008 0.008]\n",
      " [0.26  0.26 ]\n",
      " [0.38  0.38 ]\n",
      " [0.037 0.037]\n",
      " [0.45  0.45 ]\n",
      " [0.033 0.033]\n",
      " [0.286 0.286]\n",
      " [1.16  1.16 ]\n",
      " [0.13  0.13 ]\n",
      " [0.206 0.206]\n",
      " [0.056 0.056]\n",
      " [0.83  0.83 ]\n",
      " [0.053 0.053]\n",
      " [0.024 0.024]]\n"
     ]
    },
    {
     "data": {
      "image/png": "[encoded data removed]",
      "text/plain": [
       "<Figure size 432x288 with 1 Axes>"
      ]
     },
     "metadata": {
      "needs_background": "light"
     },
     "output_type": "display_data"
    }
   ],
   "source": [
    "y_pred = pls.predict(X_test)\n",
    "y_pred1 = pls.predict(X_train)\n",
    "\n",
    "# Cross-validation\n",
    "y_cv = cross_val_predict(pls, X_train, y_train, cv=10)\n",
    "\n",
    "# Calculate scores for calibration and cross-validation\n",
    "score_pred = r2_score(y_test, y_pred)\n",
    "score_cv = r2_score(y_train, y_cv)\n",
    "\n",
    "print(\"R2_pred: \", score_pred)\n",
    "print(\"R2_cv: \",score_cv)\n",
    "print(\"\")\n",
    "\n",
    "b=np.append(y_test, y_pred, axis=1)\n",
    "\n",
    "print(\"TEST\\n [real, predictions]\")\n",
    "print(b)\n",
    "print(\"\")\n",
    "\n",
    "c=np.append(y_train, y_pred1, axis=1)\n",
    "\n",
    "print(\"TRAIN\\n [real, predictions]\")\n",
    "print(c)\n",
    "\n",
    "plt.scatter(y_test, y_pred)\n",
    "plt.scatter(y_train, y_pred1)\n",
    "plt.xlabel('True Values')\n",
    "plt.ylabel('Predictions')\n",
    "plt.grid(True)\n",
    "plt.show()"
   ]
  },
  {
   "cell_type": "code",
   "execution_count": null,
   "metadata": {},
   "outputs": [],
   "source": []
  },
  {
   "cell_type": "code",
   "execution_count": 33,
   "metadata": {},
   "outputs": [],
   "source": [
    "def pls_variable_selection(X, y, max_comp):\n",
    "    \n",
    "    # Define MSE array to be populated\n",
    "    mse = np.zeros((max_comp,X.shape[1]))\n",
    "    # Loop over the number of PLS components\n",
    "    for i in range(max_comp):\n",
    "        \n",
    "        # Regression with specified number of components, using full spectrum\n",
    "        pls1 = PLSRegression(n_components=i+1)\n",
    "        pls1.fit(X, y)\n",
    "        \n",
    "        # Indices of sort spectra according to ascending absolute value of PLS coefficients\n",
    "        sorted_ind = np.argsort(np.abs(pls1.coef_[:,0]))\n",
    "        # Sort spectra accordingly \n",
    "        Xc = X[:,sorted_ind]\n",
    "        # Discard one wavelength at a time of the sorted spectra,\n",
    "        # regress, and calculate the MSE cross-validation\n",
    "        for j in range(Xc.shape[1]-(i+1)):\n",
    "            pls2 = PLSRegression(n_components=i+1)\n",
    "            pls2.fit(Xc[:, j:], y)\n",
    "            \n",
    "            y_cv = cross_val_predict(pls2, Xc[:, j:], y, cv=5)\n",
    "            mse[i,j] = mean_squared_error(y, y_cv)\n",
    "    \n",
    "        comp = 100*(i+1)/(max_comp)\n",
    "        stdout.write(\"\\r%d%% completed\" % comp)\n",
    "        stdout.flush()\n",
    "    stdout.write(\"\\n\")\n",
    "    # # Calculate and print the position of minimum in MSE\n",
    "    mseminx,mseminy = np.where(mse==np.min(mse[np.nonzero(mse)]))\n",
    "    print(\"Optimised number of PLS components: \", mseminx[0]+1)\n",
    "    print(\"Wavelengths to be discarded \",mseminy[0])\n",
    "    print('Optimised MSEP ', mse[mseminx,mseminy][0])\n",
    "    stdout.write(\"\\n\")\n",
    "    # plt.imshow(mse, interpolation=None)\n",
    "    # plt.show()\n",
    "    # Calculate PLS with optimal components and export values\n",
    "    pls = PLSRegression(n_components=mseminx[0]+1)\n",
    "    pls.fit(X, y)\n",
    "        \n",
    "    sorted_ind = np.argsort(np.abs(pls.coef_[:,0]))\n",
    "    Xc = X[:,sorted_ind]\n",
    "    return(Xc[:,mseminy[0]:],mseminx[0]+1,mseminy[0], sorted_ind)"
   ]
  },
  {
   "cell_type": "code",
   "execution_count": 34,
   "metadata": {
    "scrolled": true
   },
   "outputs": [
    {
     "ename": "KeyboardInterrupt",
     "evalue": "",
     "output_type": "error",
     "traceback": [
      "\u001b[1;31m---------------------------------------------------------------------------\u001b[0m",
      "\u001b[1;31mKeyboardInterrupt\u001b[0m                         Traceback (most recent call last)",
      "\u001b[1;32m<ipython-input-34-10610b4f0417>\u001b[0m in \u001b[0;36m<module>\u001b[1;34m\u001b[0m\n\u001b[1;32m----> 1\u001b[1;33m \u001b[0mopt_Xc\u001b[0m\u001b[1;33m,\u001b[0m \u001b[0mncomp\u001b[0m\u001b[1;33m,\u001b[0m \u001b[0mwav\u001b[0m\u001b[1;33m,\u001b[0m \u001b[0msorted_ind\u001b[0m \u001b[1;33m=\u001b[0m \u001b[0mpls_variable_selection\u001b[0m\u001b[1;33m(\u001b[0m\u001b[0mx_df\u001b[0m\u001b[1;33m.\u001b[0m\u001b[0mvalues\u001b[0m\u001b[1;33m,\u001b[0m \u001b[0mdf_y\u001b[0m\u001b[1;33m,\u001b[0m \u001b[1;36m15\u001b[0m\u001b[1;33m)\u001b[0m\u001b[1;33m\u001b[0m\u001b[1;33m\u001b[0m\u001b[0m\n\u001b[0m",
      "\u001b[1;32m<ipython-input-33-a2d67383bc6f>\u001b[0m in \u001b[0;36mpls_variable_selection\u001b[1;34m(X, y, max_comp)\u001b[0m\n\u001b[0;32m     20\u001b[0m             \u001b[0mpls2\u001b[0m\u001b[1;33m.\u001b[0m\u001b[0mfit\u001b[0m\u001b[1;33m(\u001b[0m\u001b[0mXc\u001b[0m\u001b[1;33m[\u001b[0m\u001b[1;33m:\u001b[0m\u001b[1;33m,\u001b[0m \u001b[0mj\u001b[0m\u001b[1;33m:\u001b[0m\u001b[1;33m]\u001b[0m\u001b[1;33m,\u001b[0m \u001b[0my\u001b[0m\u001b[1;33m)\u001b[0m\u001b[1;33m\u001b[0m\u001b[1;33m\u001b[0m\u001b[0m\n\u001b[0;32m     21\u001b[0m \u001b[1;33m\u001b[0m\u001b[0m\n\u001b[1;32m---> 22\u001b[1;33m             \u001b[0my_cv\u001b[0m \u001b[1;33m=\u001b[0m \u001b[0mcross_val_predict\u001b[0m\u001b[1;33m(\u001b[0m\u001b[0mpls2\u001b[0m\u001b[1;33m,\u001b[0m \u001b[0mXc\u001b[0m\u001b[1;33m[\u001b[0m\u001b[1;33m:\u001b[0m\u001b[1;33m,\u001b[0m \u001b[0mj\u001b[0m\u001b[1;33m:\u001b[0m\u001b[1;33m]\u001b[0m\u001b[1;33m,\u001b[0m \u001b[0my\u001b[0m\u001b[1;33m,\u001b[0m \u001b[0mcv\u001b[0m\u001b[1;33m=\u001b[0m\u001b[1;36m5\u001b[0m\u001b[1;33m)\u001b[0m\u001b[1;33m\u001b[0m\u001b[1;33m\u001b[0m\u001b[0m\n\u001b[0m\u001b[0;32m     23\u001b[0m             \u001b[0mmse\u001b[0m\u001b[1;33m[\u001b[0m\u001b[0mi\u001b[0m\u001b[1;33m,\u001b[0m\u001b[0mj\u001b[0m\u001b[1;33m]\u001b[0m \u001b[1;33m=\u001b[0m \u001b[0mmean_squared_error\u001b[0m\u001b[1;33m(\u001b[0m\u001b[0my\u001b[0m\u001b[1;33m,\u001b[0m \u001b[0my_cv\u001b[0m\u001b[1;33m)\u001b[0m\u001b[1;33m\u001b[0m\u001b[1;33m\u001b[0m\u001b[0m\n\u001b[0;32m     24\u001b[0m \u001b[1;33m\u001b[0m\u001b[0m\n",
      "\u001b[1;32m~\\.conda\\envs\\tf_env\\lib\\site-packages\\sklearn\\model_selection\\_validation.py\u001b[0m in \u001b[0;36mcross_val_predict\u001b[1;34m(estimator, X, y, groups, cv, n_jobs, verbose, fit_params, pre_dispatch, method)\u001b[0m\n\u001b[0;32m    753\u001b[0m     prediction_blocks = parallel(delayed(_fit_and_predict)(\n\u001b[0;32m    754\u001b[0m         clone(estimator), X, y, train, test, verbose, fit_params, method)\n\u001b[1;32m--> 755\u001b[1;33m         for train, test in cv.split(X, y, groups))\n\u001b[0m\u001b[0;32m    756\u001b[0m \u001b[1;33m\u001b[0m\u001b[0m\n\u001b[0;32m    757\u001b[0m     \u001b[1;31m# Concatenate the predictions\u001b[0m\u001b[1;33m\u001b[0m\u001b[1;33m\u001b[0m\u001b[1;33m\u001b[0m\u001b[0m\n",
      "\u001b[1;32m~\\.conda\\envs\\tf_env\\lib\\site-packages\\joblib\\parallel.py\u001b[0m in \u001b[0;36m__call__\u001b[1;34m(self, iterable)\u001b[0m\n\u001b[0;32m   1005\u001b[0m                 \u001b[0mself\u001b[0m\u001b[1;33m.\u001b[0m\u001b[0m_iterating\u001b[0m \u001b[1;33m=\u001b[0m \u001b[0mself\u001b[0m\u001b[1;33m.\u001b[0m\u001b[0m_original_iterator\u001b[0m \u001b[1;32mis\u001b[0m \u001b[1;32mnot\u001b[0m \u001b[1;32mNone\u001b[0m\u001b[1;33m\u001b[0m\u001b[1;33m\u001b[0m\u001b[0m\n\u001b[0;32m   1006\u001b[0m \u001b[1;33m\u001b[0m\u001b[0m\n\u001b[1;32m-> 1007\u001b[1;33m             \u001b[1;32mwhile\u001b[0m \u001b[0mself\u001b[0m\u001b[1;33m.\u001b[0m\u001b[0mdispatch_one_batch\u001b[0m\u001b[1;33m(\u001b[0m\u001b[0miterator\u001b[0m\u001b[1;33m)\u001b[0m\u001b[1;33m:\u001b[0m\u001b[1;33m\u001b[0m\u001b[1;33m\u001b[0m\u001b[0m\n\u001b[0m\u001b[0;32m   1008\u001b[0m                 \u001b[1;32mpass\u001b[0m\u001b[1;33m\u001b[0m\u001b[1;33m\u001b[0m\u001b[0m\n\u001b[0;32m   1009\u001b[0m \u001b[1;33m\u001b[0m\u001b[0m\n",
      "\u001b[1;32m~\\.conda\\envs\\tf_env\\lib\\site-packages\\joblib\\parallel.py\u001b[0m in \u001b[0;36mdispatch_one_batch\u001b[1;34m(self, iterator)\u001b[0m\n\u001b[0;32m    833\u001b[0m                 \u001b[1;32mreturn\u001b[0m \u001b[1;32mFalse\u001b[0m\u001b[1;33m\u001b[0m\u001b[1;33m\u001b[0m\u001b[0m\n\u001b[0;32m    834\u001b[0m             \u001b[1;32melse\u001b[0m\u001b[1;33m:\u001b[0m\u001b[1;33m\u001b[0m\u001b[1;33m\u001b[0m\u001b[0m\n\u001b[1;32m--> 835\u001b[1;33m                 \u001b[0mself\u001b[0m\u001b[1;33m.\u001b[0m\u001b[0m_dispatch\u001b[0m\u001b[1;33m(\u001b[0m\u001b[0mtasks\u001b[0m\u001b[1;33m)\u001b[0m\u001b[1;33m\u001b[0m\u001b[1;33m\u001b[0m\u001b[0m\n\u001b[0m\u001b[0;32m    836\u001b[0m                 \u001b[1;32mreturn\u001b[0m \u001b[1;32mTrue\u001b[0m\u001b[1;33m\u001b[0m\u001b[1;33m\u001b[0m\u001b[0m\n\u001b[0;32m    837\u001b[0m \u001b[1;33m\u001b[0m\u001b[0m\n",
      "\u001b[1;32m~\\.conda\\envs\\tf_env\\lib\\site-packages\\joblib\\parallel.py\u001b[0m in \u001b[0;36m_dispatch\u001b[1;34m(self, batch)\u001b[0m\n\u001b[0;32m    752\u001b[0m         \u001b[1;32mwith\u001b[0m \u001b[0mself\u001b[0m\u001b[1;33m.\u001b[0m\u001b[0m_lock\u001b[0m\u001b[1;33m:\u001b[0m\u001b[1;33m\u001b[0m\u001b[1;33m\u001b[0m\u001b[0m\n\u001b[0;32m    753\u001b[0m             \u001b[0mjob_idx\u001b[0m \u001b[1;33m=\u001b[0m \u001b[0mlen\u001b[0m\u001b[1;33m(\u001b[0m\u001b[0mself\u001b[0m\u001b[1;33m.\u001b[0m\u001b[0m_jobs\u001b[0m\u001b[1;33m)\u001b[0m\u001b[1;33m\u001b[0m\u001b[1;33m\u001b[0m\u001b[0m\n\u001b[1;32m--> 754\u001b[1;33m             \u001b[0mjob\u001b[0m \u001b[1;33m=\u001b[0m \u001b[0mself\u001b[0m\u001b[1;33m.\u001b[0m\u001b[0m_backend\u001b[0m\u001b[1;33m.\u001b[0m\u001b[0mapply_async\u001b[0m\u001b[1;33m(\u001b[0m\u001b[0mbatch\u001b[0m\u001b[1;33m,\u001b[0m \u001b[0mcallback\u001b[0m\u001b[1;33m=\u001b[0m\u001b[0mcb\u001b[0m\u001b[1;33m)\u001b[0m\u001b[1;33m\u001b[0m\u001b[1;33m\u001b[0m\u001b[0m\n\u001b[0m\u001b[0;32m    755\u001b[0m             \u001b[1;31m# A job can complete so quickly than its callback is\u001b[0m\u001b[1;33m\u001b[0m\u001b[1;33m\u001b[0m\u001b[1;33m\u001b[0m\u001b[0m\n\u001b[0;32m    756\u001b[0m             \u001b[1;31m# called before we get here, causing self._jobs to\u001b[0m\u001b[1;33m\u001b[0m\u001b[1;33m\u001b[0m\u001b[1;33m\u001b[0m\u001b[0m\n",
      "\u001b[1;32m~\\.conda\\envs\\tf_env\\lib\\site-packages\\joblib\\_parallel_backends.py\u001b[0m in \u001b[0;36mapply_async\u001b[1;34m(self, func, callback)\u001b[0m\n\u001b[0;32m    207\u001b[0m     \u001b[1;32mdef\u001b[0m \u001b[0mapply_async\u001b[0m\u001b[1;33m(\u001b[0m\u001b[0mself\u001b[0m\u001b[1;33m,\u001b[0m \u001b[0mfunc\u001b[0m\u001b[1;33m,\u001b[0m \u001b[0mcallback\u001b[0m\u001b[1;33m=\u001b[0m\u001b[1;32mNone\u001b[0m\u001b[1;33m)\u001b[0m\u001b[1;33m:\u001b[0m\u001b[1;33m\u001b[0m\u001b[1;33m\u001b[0m\u001b[0m\n\u001b[0;32m    208\u001b[0m         \u001b[1;34m\"\"\"Schedule a func to be run\"\"\"\u001b[0m\u001b[1;33m\u001b[0m\u001b[1;33m\u001b[0m\u001b[0m\n\u001b[1;32m--> 209\u001b[1;33m         \u001b[0mresult\u001b[0m \u001b[1;33m=\u001b[0m \u001b[0mImmediateResult\u001b[0m\u001b[1;33m(\u001b[0m\u001b[0mfunc\u001b[0m\u001b[1;33m)\u001b[0m\u001b[1;33m\u001b[0m\u001b[1;33m\u001b[0m\u001b[0m\n\u001b[0m\u001b[0;32m    210\u001b[0m         \u001b[1;32mif\u001b[0m \u001b[0mcallback\u001b[0m\u001b[1;33m:\u001b[0m\u001b[1;33m\u001b[0m\u001b[1;33m\u001b[0m\u001b[0m\n\u001b[0;32m    211\u001b[0m             \u001b[0mcallback\u001b[0m\u001b[1;33m(\u001b[0m\u001b[0mresult\u001b[0m\u001b[1;33m)\u001b[0m\u001b[1;33m\u001b[0m\u001b[1;33m\u001b[0m\u001b[0m\n",
      "\u001b[1;32m~\\.conda\\envs\\tf_env\\lib\\site-packages\\joblib\\_parallel_backends.py\u001b[0m in \u001b[0;36m__init__\u001b[1;34m(self, batch)\u001b[0m\n\u001b[0;32m    588\u001b[0m         \u001b[1;31m# Don't delay the application, to avoid keeping the input\u001b[0m\u001b[1;33m\u001b[0m\u001b[1;33m\u001b[0m\u001b[1;33m\u001b[0m\u001b[0m\n\u001b[0;32m    589\u001b[0m         \u001b[1;31m# arguments in memory\u001b[0m\u001b[1;33m\u001b[0m\u001b[1;33m\u001b[0m\u001b[1;33m\u001b[0m\u001b[0m\n\u001b[1;32m--> 590\u001b[1;33m         \u001b[0mself\u001b[0m\u001b[1;33m.\u001b[0m\u001b[0mresults\u001b[0m \u001b[1;33m=\u001b[0m \u001b[0mbatch\u001b[0m\u001b[1;33m(\u001b[0m\u001b[1;33m)\u001b[0m\u001b[1;33m\u001b[0m\u001b[1;33m\u001b[0m\u001b[0m\n\u001b[0m\u001b[0;32m    591\u001b[0m \u001b[1;33m\u001b[0m\u001b[0m\n\u001b[0;32m    592\u001b[0m     \u001b[1;32mdef\u001b[0m \u001b[0mget\u001b[0m\u001b[1;33m(\u001b[0m\u001b[0mself\u001b[0m\u001b[1;33m)\u001b[0m\u001b[1;33m:\u001b[0m\u001b[1;33m\u001b[0m\u001b[1;33m\u001b[0m\u001b[0m\n",
      "\u001b[1;32m~\\.conda\\envs\\tf_env\\lib\\site-packages\\joblib\\parallel.py\u001b[0m in \u001b[0;36m__call__\u001b[1;34m(self)\u001b[0m\n\u001b[0;32m    254\u001b[0m         \u001b[1;32mwith\u001b[0m \u001b[0mparallel_backend\u001b[0m\u001b[1;33m(\u001b[0m\u001b[0mself\u001b[0m\u001b[1;33m.\u001b[0m\u001b[0m_backend\u001b[0m\u001b[1;33m,\u001b[0m \u001b[0mn_jobs\u001b[0m\u001b[1;33m=\u001b[0m\u001b[0mself\u001b[0m\u001b[1;33m.\u001b[0m\u001b[0m_n_jobs\u001b[0m\u001b[1;33m)\u001b[0m\u001b[1;33m:\u001b[0m\u001b[1;33m\u001b[0m\u001b[1;33m\u001b[0m\u001b[0m\n\u001b[0;32m    255\u001b[0m             return [func(*args, **kwargs)\n\u001b[1;32m--> 256\u001b[1;33m                     for func, args, kwargs in self.items]\n\u001b[0m\u001b[0;32m    257\u001b[0m \u001b[1;33m\u001b[0m\u001b[0m\n\u001b[0;32m    258\u001b[0m     \u001b[1;32mdef\u001b[0m \u001b[0m__len__\u001b[0m\u001b[1;33m(\u001b[0m\u001b[0mself\u001b[0m\u001b[1;33m)\u001b[0m\u001b[1;33m:\u001b[0m\u001b[1;33m\u001b[0m\u001b[1;33m\u001b[0m\u001b[0m\n",
      "\u001b[1;32m~\\.conda\\envs\\tf_env\\lib\\site-packages\\joblib\\parallel.py\u001b[0m in \u001b[0;36m<listcomp>\u001b[1;34m(.0)\u001b[0m\n\u001b[0;32m    254\u001b[0m         \u001b[1;32mwith\u001b[0m \u001b[0mparallel_backend\u001b[0m\u001b[1;33m(\u001b[0m\u001b[0mself\u001b[0m\u001b[1;33m.\u001b[0m\u001b[0m_backend\u001b[0m\u001b[1;33m,\u001b[0m \u001b[0mn_jobs\u001b[0m\u001b[1;33m=\u001b[0m\u001b[0mself\u001b[0m\u001b[1;33m.\u001b[0m\u001b[0m_n_jobs\u001b[0m\u001b[1;33m)\u001b[0m\u001b[1;33m:\u001b[0m\u001b[1;33m\u001b[0m\u001b[1;33m\u001b[0m\u001b[0m\n\u001b[0;32m    255\u001b[0m             return [func(*args, **kwargs)\n\u001b[1;32m--> 256\u001b[1;33m                     for func, args, kwargs in self.items]\n\u001b[0m\u001b[0;32m    257\u001b[0m \u001b[1;33m\u001b[0m\u001b[0m\n\u001b[0;32m    258\u001b[0m     \u001b[1;32mdef\u001b[0m \u001b[0m__len__\u001b[0m\u001b[1;33m(\u001b[0m\u001b[0mself\u001b[0m\u001b[1;33m)\u001b[0m\u001b[1;33m:\u001b[0m\u001b[1;33m\u001b[0m\u001b[1;33m\u001b[0m\u001b[0m\n",
      "\u001b[1;32m~\\.conda\\envs\\tf_env\\lib\\site-packages\\sklearn\\model_selection\\_validation.py\u001b[0m in \u001b[0;36m_fit_and_predict\u001b[1;34m(estimator, X, y, train, test, verbose, fit_params, method)\u001b[0m\n\u001b[0;32m    833\u001b[0m     \u001b[0mfit_params\u001b[0m \u001b[1;33m=\u001b[0m \u001b[0m_check_fit_params\u001b[0m\u001b[1;33m(\u001b[0m\u001b[0mX\u001b[0m\u001b[1;33m,\u001b[0m \u001b[0mfit_params\u001b[0m\u001b[1;33m,\u001b[0m \u001b[0mtrain\u001b[0m\u001b[1;33m)\u001b[0m\u001b[1;33m\u001b[0m\u001b[1;33m\u001b[0m\u001b[0m\n\u001b[0;32m    834\u001b[0m \u001b[1;33m\u001b[0m\u001b[0m\n\u001b[1;32m--> 835\u001b[1;33m     \u001b[0mX_train\u001b[0m\u001b[1;33m,\u001b[0m \u001b[0my_train\u001b[0m \u001b[1;33m=\u001b[0m \u001b[0m_safe_split\u001b[0m\u001b[1;33m(\u001b[0m\u001b[0mestimator\u001b[0m\u001b[1;33m,\u001b[0m \u001b[0mX\u001b[0m\u001b[1;33m,\u001b[0m \u001b[0my\u001b[0m\u001b[1;33m,\u001b[0m \u001b[0mtrain\u001b[0m\u001b[1;33m)\u001b[0m\u001b[1;33m\u001b[0m\u001b[1;33m\u001b[0m\u001b[0m\n\u001b[0m\u001b[0;32m    836\u001b[0m     \u001b[0mX_test\u001b[0m\u001b[1;33m,\u001b[0m \u001b[0m_\u001b[0m \u001b[1;33m=\u001b[0m \u001b[0m_safe_split\u001b[0m\u001b[1;33m(\u001b[0m\u001b[0mestimator\u001b[0m\u001b[1;33m,\u001b[0m \u001b[0mX\u001b[0m\u001b[1;33m,\u001b[0m \u001b[0my\u001b[0m\u001b[1;33m,\u001b[0m \u001b[0mtest\u001b[0m\u001b[1;33m,\u001b[0m \u001b[0mtrain\u001b[0m\u001b[1;33m)\u001b[0m\u001b[1;33m\u001b[0m\u001b[1;33m\u001b[0m\u001b[0m\n\u001b[0;32m    837\u001b[0m \u001b[1;33m\u001b[0m\u001b[0m\n",
      "\u001b[1;32m~\\.conda\\envs\\tf_env\\lib\\site-packages\\sklearn\\utils\\metaestimators.py\u001b[0m in \u001b[0;36m_safe_split\u001b[1;34m(estimator, X, y, indices, train_indices)\u001b[0m\n\u001b[0;32m    199\u001b[0m             \u001b[0mX_subset\u001b[0m \u001b[1;33m=\u001b[0m \u001b[0mX\u001b[0m\u001b[1;33m[\u001b[0m\u001b[0mnp\u001b[0m\u001b[1;33m.\u001b[0m\u001b[0mix_\u001b[0m\u001b[1;33m(\u001b[0m\u001b[0mindices\u001b[0m\u001b[1;33m,\u001b[0m \u001b[0mtrain_indices\u001b[0m\u001b[1;33m)\u001b[0m\u001b[1;33m]\u001b[0m\u001b[1;33m\u001b[0m\u001b[1;33m\u001b[0m\u001b[0m\n\u001b[0;32m    200\u001b[0m     \u001b[1;32melse\u001b[0m\u001b[1;33m:\u001b[0m\u001b[1;33m\u001b[0m\u001b[1;33m\u001b[0m\u001b[0m\n\u001b[1;32m--> 201\u001b[1;33m         \u001b[0mX_subset\u001b[0m \u001b[1;33m=\u001b[0m \u001b[0m_safe_indexing\u001b[0m\u001b[1;33m(\u001b[0m\u001b[0mX\u001b[0m\u001b[1;33m,\u001b[0m \u001b[0mindices\u001b[0m\u001b[1;33m)\u001b[0m\u001b[1;33m\u001b[0m\u001b[1;33m\u001b[0m\u001b[0m\n\u001b[0m\u001b[0;32m    202\u001b[0m \u001b[1;33m\u001b[0m\u001b[0m\n\u001b[0;32m    203\u001b[0m     \u001b[1;32mif\u001b[0m \u001b[0my\u001b[0m \u001b[1;32mis\u001b[0m \u001b[1;32mnot\u001b[0m \u001b[1;32mNone\u001b[0m\u001b[1;33m:\u001b[0m\u001b[1;33m\u001b[0m\u001b[1;33m\u001b[0m\u001b[0m\n",
      "\u001b[1;32m~\\.conda\\envs\\tf_env\\lib\\site-packages\\sklearn\\utils\\__init__.py\u001b[0m in \u001b[0;36m_safe_indexing\u001b[1;34m(X, indices, axis)\u001b[0m\n\u001b[0;32m    411\u001b[0m         \u001b[1;32mreturn\u001b[0m \u001b[0m_pandas_indexing\u001b[0m\u001b[1;33m(\u001b[0m\u001b[0mX\u001b[0m\u001b[1;33m,\u001b[0m \u001b[0mindices\u001b[0m\u001b[1;33m,\u001b[0m \u001b[0mindices_dtype\u001b[0m\u001b[1;33m,\u001b[0m \u001b[0maxis\u001b[0m\u001b[1;33m=\u001b[0m\u001b[0maxis\u001b[0m\u001b[1;33m)\u001b[0m\u001b[1;33m\u001b[0m\u001b[1;33m\u001b[0m\u001b[0m\n\u001b[0;32m    412\u001b[0m     \u001b[1;32melif\u001b[0m \u001b[0mhasattr\u001b[0m\u001b[1;33m(\u001b[0m\u001b[0mX\u001b[0m\u001b[1;33m,\u001b[0m \u001b[1;34m\"shape\"\u001b[0m\u001b[1;33m)\u001b[0m\u001b[1;33m:\u001b[0m\u001b[1;33m\u001b[0m\u001b[1;33m\u001b[0m\u001b[0m\n\u001b[1;32m--> 413\u001b[1;33m         \u001b[1;32mreturn\u001b[0m \u001b[0m_array_indexing\u001b[0m\u001b[1;33m(\u001b[0m\u001b[0mX\u001b[0m\u001b[1;33m,\u001b[0m \u001b[0mindices\u001b[0m\u001b[1;33m,\u001b[0m \u001b[0mindices_dtype\u001b[0m\u001b[1;33m,\u001b[0m \u001b[0maxis\u001b[0m\u001b[1;33m=\u001b[0m\u001b[0maxis\u001b[0m\u001b[1;33m)\u001b[0m\u001b[1;33m\u001b[0m\u001b[1;33m\u001b[0m\u001b[0m\n\u001b[0m\u001b[0;32m    414\u001b[0m     \u001b[1;32melse\u001b[0m\u001b[1;33m:\u001b[0m\u001b[1;33m\u001b[0m\u001b[1;33m\u001b[0m\u001b[0m\n\u001b[0;32m    415\u001b[0m         \u001b[1;32mreturn\u001b[0m \u001b[0m_list_indexing\u001b[0m\u001b[1;33m(\u001b[0m\u001b[0mX\u001b[0m\u001b[1;33m,\u001b[0m \u001b[0mindices\u001b[0m\u001b[1;33m,\u001b[0m \u001b[0mindices_dtype\u001b[0m\u001b[1;33m)\u001b[0m\u001b[1;33m\u001b[0m\u001b[1;33m\u001b[0m\u001b[0m\n",
      "\u001b[1;32m~\\.conda\\envs\\tf_env\\lib\\site-packages\\sklearn\\utils\\__init__.py\u001b[0m in \u001b[0;36m_array_indexing\u001b[1;34m(array, key, key_dtype, axis)\u001b[0m\n\u001b[0;32m    197\u001b[0m     \u001b[1;32mif\u001b[0m \u001b[0misinstance\u001b[0m\u001b[1;33m(\u001b[0m\u001b[0mkey\u001b[0m\u001b[1;33m,\u001b[0m \u001b[0mtuple\u001b[0m\u001b[1;33m)\u001b[0m\u001b[1;33m:\u001b[0m\u001b[1;33m\u001b[0m\u001b[1;33m\u001b[0m\u001b[0m\n\u001b[0;32m    198\u001b[0m         \u001b[0mkey\u001b[0m \u001b[1;33m=\u001b[0m \u001b[0mlist\u001b[0m\u001b[1;33m(\u001b[0m\u001b[0mkey\u001b[0m\u001b[1;33m)\u001b[0m\u001b[1;33m\u001b[0m\u001b[1;33m\u001b[0m\u001b[0m\n\u001b[1;32m--> 199\u001b[1;33m     \u001b[1;32mreturn\u001b[0m \u001b[0marray\u001b[0m\u001b[1;33m[\u001b[0m\u001b[0mkey\u001b[0m\u001b[1;33m]\u001b[0m \u001b[1;32mif\u001b[0m \u001b[0maxis\u001b[0m \u001b[1;33m==\u001b[0m \u001b[1;36m0\u001b[0m \u001b[1;32melse\u001b[0m \u001b[0marray\u001b[0m\u001b[1;33m[\u001b[0m\u001b[1;33m:\u001b[0m\u001b[1;33m,\u001b[0m \u001b[0mkey\u001b[0m\u001b[1;33m]\u001b[0m\u001b[1;33m\u001b[0m\u001b[1;33m\u001b[0m\u001b[0m\n\u001b[0m\u001b[0;32m    200\u001b[0m \u001b[1;33m\u001b[0m\u001b[0m\n\u001b[0;32m    201\u001b[0m \u001b[1;33m\u001b[0m\u001b[0m\n",
      "\u001b[1;31mKeyboardInterrupt\u001b[0m: "
     ]
    }
   ],
   "source": [
    "opt_Xc, ncomp, wav, sorted_ind = pls_variable_selection(x_df.values, df_y, 15)"
   ]
  },
  {
   "cell_type": "code",
   "execution_count": null,
   "metadata": {},
   "outputs": [],
   "source": [
    "opt_Xc.shape"
   ]
  },
  {
   "cell_type": "code",
   "execution_count": null,
   "metadata": {},
   "outputs": [],
   "source": [
    "X_train, X_test, y_train, y_test = train_test_split(opt_Xc, y_df, test_size=0.2, random_state=4)\n",
    "print (X_train.shape, y_train.shape)\n",
    "print (X_test.shape, y_test.shape)\n",
    "#print(X_test)"
   ]
  },
  {
   "cell_type": "code",
   "execution_count": null,
   "metadata": {},
   "outputs": [],
   "source": [
    "# Define PLS object\n",
    "pls = PLSRegression(n_components=13)\n",
    "# Fit\n",
    "pls.fit(X_train, y_train)\n",
    "# Cross-validation\n",
    "y_cv = cross_val_predict(pls, X_train, y_train, cv=10)\n",
    "# Calculate scores\n",
    "score = r2_score(y_train, y_cv)\n",
    "mse = mean_squared_error(y_train, y_cv)\n",
    "\n",
    "print(\"R^2: \", score)\n",
    "print(\"MSE: \", mse)"
   ]
  },
  {
   "cell_type": "code",
   "execution_count": null,
   "metadata": {},
   "outputs": [],
   "source": [
    "y_pred = pls.predict(X_test)\n",
    "y_pred1 = pls.predict(X_train)\n",
    "\n",
    "# Cross-validation\n",
    "y_cv = cross_val_predict(pls, X_train, y_train, cv=10)\n",
    "\n",
    "# Calculate scores for calibration and cross-validation\n",
    "score_pred = r2_score(y_test, y_pred)\n",
    "score_cv = r2_score(y_train, y_cv)\n",
    "\n",
    "print(\"R2_pred: \", score_pred)\n",
    "print(\"R2_cv: \",score_cv)\n",
    "print(\"\")\n",
    "\n",
    "b=np.append(y_test, y_pred, axis=1)\n",
    "\n",
    "print(\"TEST\\n [real, predictions]\")\n",
    "print(b)\n",
    "print(\"\")\n",
    "\n",
    "c=np.append(y_train, y_pred1, axis=1)\n",
    "\n",
    "print(\"TRAIN\\n [real, predictions]\")\n",
    "print(c)\n",
    "\n",
    "plt.scatter(y_test, y_pred)\n",
    "plt.scatter(y_train, y_pred1)\n",
    "plt.xlabel('True Values')\n",
    "plt.ylabel('Predictions')\n",
    "plt.grid(True)\n",
    "plt.show()"
   ]
  },
  {
   "cell_type": "code",
   "execution_count": null,
   "metadata": {},
   "outputs": [],
   "source": []
  },
  {
   "cell_type": "code",
   "execution_count": null,
   "metadata": {},
   "outputs": [],
   "source": []
  },
  {
   "cell_type": "markdown",
   "metadata": {},
   "source": [
    "## Using Savgol filter"
   ]
  },
  {
   "cell_type": "code",
   "execution_count": 79,
   "metadata": {},
   "outputs": [
    {
     "name": "stdout",
     "output_type": "stream",
     "text": [
      "(19, 1446) (19, 1)\n",
      "(5, 1446) (5, 1)\n"
     ]
    }
   ],
   "source": [
    "X_train, X_test, y_train, y_test = train_test_split(x_df, y_df, test_size=0.2, random_state=4)\n",
    "print (X_train.shape, y_train.shape)\n",
    "print (X_test.shape, y_test.shape)\n",
    "#print(X_test)"
   ]
  },
  {
   "cell_type": "code",
   "execution_count": 80,
   "metadata": {},
   "outputs": [
    {
     "data": {
      "image/png": "[encoded data removed]",
      "text/plain": [
       "<Figure size 576x324 with 1 Axes>"
      ]
     },
     "metadata": {
      "needs_background": "light"
     },
     "output_type": "display_data"
    },
    {
     "name": "stdout",
     "output_type": "stream",
     "text": [
      "100% completed\n",
      "Suggested number of components:  1\n",
      "\n"
     ]
    },
    {
     "data": {
      "image/png": "[encoded data removed]",
      "text/plain": [
       "<Figure size 432x288 with 1 Axes>"
      ]
     },
     "metadata": {},
     "output_type": "display_data"
    },
    {
     "name": "stdout",
     "output_type": "stream",
     "text": [
      "R2 calib: 0.030\n",
      "R2 CV: -0.577\n",
      "MSE calib: 1.324\n",
      "MSE CV: 2.154\n"
     ]
    }
   ],
   "source": [
    "# Calculate second derivative\n",
    "X2 = savgol_filter(x_df, 101, polyorder = 6,deriv=0) # Is this useful with LIBS spectra???\n",
    "# Plot second derivative\n",
    "plt.figure(figsize=(8,4.5))\n",
    "with plt.style.context(('ggplot')):\n",
    "    plt.plot(range(len(X2.T)), X2.T)\n",
    "    plt.xlabel('Wavelength (nm)')\n",
    "    plt.ylabel('D2 Intensity')\n",
    "    plt.show()\n",
    "    \n",
    "    \n",
    "X2_1 = msc(X2)[0]\n",
    "    \n",
    "optimise_pls_cv(X2_1, y_df, 40, plot_components=True)"
   ]
  },
  {
   "cell_type": "code",
   "execution_count": 65,
   "metadata": {},
   "outputs": [
    {
     "name": "stdout",
     "output_type": "stream",
     "text": [
      "100% completed\n",
      "Suggested number of components:  6\n",
      "\n"
     ]
    },
    {
     "data": {
      "image/png": "[encoded data removed]",
      "text/plain": [
       "<Figure size 432x288 with 1 Axes>"
      ]
     },
     "metadata": {},
     "output_type": "display_data"
    },
    {
     "name": "stdout",
     "output_type": "stream",
     "text": [
      "R2 calib: 0.995\n",
      "R2 CV: -0.380\n",
      "MSE calib: 0.007\n",
      "MSE CV: 1.897\n"
     ]
    }
   ],
   "source": [
    "X2_train = savgol_filter(X_train, 37, polyorder = 4,deriv=2) \n",
    "X2_test = savgol_filter(X_test, 35, polyorder = 4,deriv=2) \n",
    "\n",
    "\n",
    "\n",
    "\n",
    "optimise_pls_cv(X2_train, y_train, 40, plot_components=True)"
   ]
  },
  {
   "cell_type": "code",
   "execution_count": 54,
   "metadata": {},
   "outputs": [
    {
     "name": "stdout",
     "output_type": "stream",
     "text": [
      "R2_cv:  -0.4132153315854279\n",
      "MSE:  1.9423276614929568\n"
     ]
    }
   ],
   "source": [
    "# Define PLS object\n",
    "pls = PLSRegression(n_components=19)\n",
    "# Fit\n",
    "pls.fit(X2_train, y_train)\n",
    "# Cross-validation\n",
    "y_cv = cross_val_predict(pls, X2_train, y_train, cv=10)\n",
    "# Calculate scores\n",
    "score = r2_score(y_train, y_cv)\n",
    "mse = mean_squared_error(y_train, y_cv)\n",
    "\n",
    "print(\"R2_cv: \", score)\n",
    "print(\"MSE: \", mse)\n",
    "\n",
    "\n"
   ]
  },
  {
   "cell_type": "code",
   "execution_count": 55,
   "metadata": {},
   "outputs": [
    {
     "name": "stdout",
     "output_type": "stream",
     "text": [
      "R2_pred:  0.24340944615397486\n",
      "R2_cv:  -0.4132153315854279\n",
      "\n",
      "[real, predictions]\n",
      "[[ 1.11        1.6149564 ]\n",
      " [ 2.48        1.65092226]\n",
      " [ 2.94        1.64802885]\n",
      " [ 0.293       1.59828036]\n",
      " [ 0.32       -0.16135806]]\n"
     ]
    },
    {
     "data": {
      "image/png": "[encoded data removed]",
      "text/plain": [
       "<Figure size 432x288 with 1 Axes>"
      ]
     },
     "metadata": {
      "needs_background": "light"
     },
     "output_type": "display_data"
    }
   ],
   "source": [
    "y_pred = pls.predict(X2_test)\n",
    "\n",
    "# Cross-validation\n",
    "y_cv = cross_val_predict(pls, X2_train, y_train, cv=10)\n",
    "\n",
    "# Calculate scores for calibration and cross-validation\n",
    "score_pred = r2_score(y_test, y_pred)\n",
    "score_cv = r2_score(y_train, y_cv)\n",
    "\n",
    "print(\"R2_pred: \", score_pred)\n",
    "print(\"R2_cv: \",score_cv)\n",
    "print(\"\")\n",
    "\n",
    "b=np.append(y_test, y_pred, axis=1)\n",
    "\n",
    "print(\"[real, predictions]\")\n",
    "print(b)\n",
    "\n",
    "plt.scatter(y_test, y_pred)\n",
    "plt.xlabel('True Values')\n",
    "plt.ylabel('Predictions')\n",
    "plt.grid(True)\n",
    "plt.show()"
   ]
  },
  {
   "cell_type": "code",
   "execution_count": null,
   "metadata": {},
   "outputs": [],
   "source": []
  },
  {
   "cell_type": "markdown",
   "metadata": {},
   "source": [
    "## Using Normalization"
   ]
  },
  {
   "cell_type": "code",
   "execution_count": 43,
   "metadata": {},
   "outputs": [],
   "source": [
    "Xn_train = normalize(X_train, axis=1)\n",
    "Xn_test = normalize(X_test, axis=1)"
   ]
  },
  {
   "cell_type": "code",
   "execution_count": 44,
   "metadata": {},
   "outputs": [],
   "source": [
    "\n",
    "\n",
    "\n",
    "\n",
    "y_df= pd.DataFrame(y_cu)\n"
   ]
  },
  {
   "cell_type": "code",
   "execution_count": 45,
   "metadata": {},
   "outputs": [
    {
     "name": "stdout",
     "output_type": "stream",
     "text": [
      "100% completed\n",
      "Suggested number of components:  2\n",
      "\n"
     ]
    },
    {
     "data": {
      "image/png": "[encoded data removed]",
      "text/plain": [
       "<Figure size 432x288 with 1 Axes>"
      ]
     },
     "metadata": {},
     "output_type": "display_data"
    },
    {
     "name": "stdout",
     "output_type": "stream",
     "text": [
      "R2 calib: 0.302\n",
      "R2 CV: -0.141\n",
      "MSE calib: 1.993\n",
      "MSE CV: 3.260\n"
     ]
    }
   ],
   "source": [
    "optimise_pls_cv(Xn_train,y_train, 40, plot_components=True)"
   ]
  },
  {
   "cell_type": "code",
   "execution_count": 46,
   "metadata": {},
   "outputs": [
    {
     "name": "stdout",
     "output_type": "stream",
     "text": [
      "R^2:  -0.1406614981571661\n",
      "MSE:  3.2597790548449623\n"
     ]
    }
   ],
   "source": [
    "# Define PLS object\n",
    "pls = PLSRegression(n_components=2)\n",
    "# Fit\n",
    "pls.fit(Xn_train, y_train)\n",
    "# Cross-validation\n",
    "y_cv = cross_val_predict(pls, Xn_train, y_train, cv=10)\n",
    "# Calculate scores\n",
    "score = r2_score(y_train, y_cv)\n",
    "mse = mean_squared_error(y_train, y_cv)\n",
    "\n",
    "print(\"R^2: \", score)\n",
    "print(\"MSE: \", mse)"
   ]
  },
  {
   "cell_type": "code",
   "execution_count": 47,
   "metadata": {},
   "outputs": [
    {
     "name": "stdout",
     "output_type": "stream",
     "text": [
      "R2_pred:  -1.0379453710255424\n",
      "R2_cv:  -0.1406614981571661\n",
      "\n",
      "[real, predictions]\n",
      "[[ 0.052       1.49182935]\n",
      " [ 5.44       -0.79888926]\n",
      " [ 0.0304     -1.306341  ]\n",
      " [ 0.887      -0.42762889]\n",
      " [ 0.         -0.81549208]]\n"
     ]
    },
    {
     "data": {
      "image/png": "[encoded data removed]",
      "text/plain": [
       "<Figure size 432x288 with 1 Axes>"
      ]
     },
     "metadata": {
      "needs_background": "light"
     },
     "output_type": "display_data"
    }
   ],
   "source": [
    "y_pred = pls.predict(Xn_test)\n",
    "\n",
    "# Cross-validation\n",
    "y_cv = cross_val_predict(pls, Xn_train, y_train, cv=10)\n",
    "\n",
    "# Calculate scores for calibration and cross-validation\n",
    "score_pred = r2_score(y_test, y_pred)\n",
    "score_cv = r2_score(y_train, y_cv)\n",
    "\n",
    "print(\"R2_pred: \", score_pred)\n",
    "print(\"R2_cv: \",score_cv)\n",
    "print(\"\")\n",
    "\n",
    "b=np.append(y_test, y_pred, axis=1)\n",
    "\n",
    "print(\"[real, predictions]\")\n",
    "print(b)\n",
    "\n",
    "plt.scatter(y_test, y_pred)\n",
    "plt.xlabel('True Values')\n",
    "plt.ylabel('Predictions')\n",
    "plt.grid(True)\n",
    "plt.show()"
   ]
  },
  {
   "cell_type": "code",
   "execution_count": null,
   "metadata": {},
   "outputs": [],
   "source": []
  },
  {
   "cell_type": "code",
   "execution_count": null,
   "metadata": {},
   "outputs": [],
   "source": []
  },
  {
   "cell_type": "code",
   "execution_count": null,
   "metadata": {},
   "outputs": [],
   "source": []
  },
  {
   "cell_type": "markdown",
   "metadata": {},
   "source": [
    "# Elastic Net"
   ]
  },
  {
   "cell_type": "code",
   "execution_count": 79,
   "metadata": {},
   "outputs": [],
   "source": [
    "from sklearn.linear_model import ElasticNet,ElasticNetCV"
   ]
  },
  {
   "cell_type": "code",
   "execution_count": 80,
   "metadata": {},
   "outputs": [],
   "source": [
    "alphas = [0.0001, 0.001, 0.01, 0.1, 0.3, 0.5, 0.7, 1]"
   ]
  },
  {
   "cell_type": "code",
   "execution_count": 81,
   "metadata": {},
   "outputs": [
    {
     "name": "stdout",
     "output_type": "stream",
     "text": [
      "Alpha:0.0001, R2:0.76, MSE:0.26, RMSE:0.51\n",
      "Alpha:0.0010, R2:0.27, MSE:0.23, RMSE:0.48\n",
      "Alpha:0.0100, R2:0.00, MSE:0.20, RMSE:0.45\n",
      "Alpha:0.1000, R2:0.00, MSE:0.20, RMSE:0.45\n",
      "Alpha:0.3000, R2:0.00, MSE:0.20, RMSE:0.45\n",
      "Alpha:0.5000, R2:0.00, MSE:0.20, RMSE:0.45\n",
      "Alpha:0.7000, R2:0.00, MSE:0.20, RMSE:0.45\n",
      "Alpha:1.0000, R2:0.00, MSE:0.20, RMSE:0.45\n"
     ]
    }
   ],
   "source": [
    "for a in alphas:\n",
    "    model = ElasticNet(alpha=a).fit(X_train,y_train)   \n",
    "    score = model.score(X_train, y_train)\n",
    "    pred_y = model.predict(X_test)\n",
    "    mse = mean_squared_error(y_test, pred_y)   \n",
    "    print(\"Alpha:{0:.4f}, R2:{1:.2f}, MSE:{2:.2f}, RMSE:{3:.2f}\".format(a, score, mse, np.sqrt(mse)))"
   ]
  },
  {
   "cell_type": "code",
   "execution_count": 82,
   "metadata": {
    "scrolled": true
   },
   "outputs": [
    {
     "name": "stdout",
     "output_type": "stream",
     "text": [
      "Train score:  0.0\n",
      "RMSE:  0.4498464447149879\n",
      "R^2:  -0.0026330216989842725\n"
     ]
    }
   ],
   "source": [
    "model = ElasticNet(alpha=0.01).fit(X_train,y_train)   \n",
    "score = model.score(X_train, y_train)\n",
    "print(\"Train score: \", score)\n",
    "pred_y = model.predict(X_test)\n",
    "\n",
    "\n",
    "rmse = sqrt(mean_squared_error(y_test, pred_y))\n",
    "r2 = r2_score(y_test, pred_y)\n",
    "print(\"RMSE: \", rmse)\n",
    "print(\"R^2: \", r2)"
   ]
  },
  {
   "cell_type": "code",
   "execution_count": 83,
   "metadata": {},
   "outputs": [
    {
     "data": {
      "image/png": "[encoded data removed]",
      "text/plain": [
       "<Figure size 432x288 with 1 Axes>"
      ]
     },
     "metadata": {
      "needs_background": "light"
     },
     "output_type": "display_data"
    }
   ],
   "source": [
    "plt.scatter(y_test, y_pred)\n",
    "plt.xlabel('True Values')\n",
    "plt.ylabel('Predictions')\n",
    "plt.grid(True)\n",
    "plt.show()"
   ]
  },
  {
   "cell_type": "code",
   "execution_count": null,
   "metadata": {},
   "outputs": [],
   "source": []
  },
  {
   "cell_type": "markdown",
   "metadata": {},
   "source": [
    "# Random Forest"
   ]
  },
  {
   "cell_type": "code",
   "execution_count": 84,
   "metadata": {},
   "outputs": [
    {
     "name": "stdout",
     "output_type": "stream",
     "text": [
      "(20, 1446) (20, 1)\n",
      "(4, 1446) (4, 1)\n"
     ]
    }
   ],
   "source": [
    "X_train, X_test, y_train, y_test = train_test_split(x_df, y_df, test_size=0.15)\n",
    "print (X_train.shape, y_train.shape)\n",
    "print (X_test.shape, y_test.shape)\n",
    "#print(X_test)"
   ]
  },
  {
   "cell_type": "code",
   "execution_count": 85,
   "metadata": {},
   "outputs": [
    {
     "name": "stdout",
     "output_type": "stream",
     "text": [
      "(4,)\n",
      "(20,)\n"
     ]
    }
   ],
   "source": [
    "y_test=np.ravel(y_test)\n",
    "print(y_test.shape)\n",
    "y_train=np.ravel(y_train)\n",
    "print(y_train.shape)"
   ]
  },
  {
   "cell_type": "code",
   "execution_count": 86,
   "metadata": {},
   "outputs": [],
   "source": [
    "# Import the model we are using\n",
    "from sklearn.ensemble import RandomForestRegressor\n",
    "# Instantiate model with 1000 decision trees\n",
    "rf = RandomForestRegressor(n_estimators = 2500, max_depth=30, random_state = 42)\n",
    "# Train the model on training data\n",
    "#rf.fit(X_train, y_train);\n",
    "\n",
    "rf.fit(X_train, y_train);"
   ]
  },
  {
   "cell_type": "code",
   "execution_count": 87,
   "metadata": {},
   "outputs": [
    {
     "name": "stdout",
     "output_type": "stream",
     "text": [
      "Mean Absolute Error: 0.27\n"
     ]
    }
   ],
   "source": [
    "# Use the forest's predict method on the test data\n",
    "\n",
    "#predictions = rf.predict(X_test)\n",
    "predictions = rf.predict(X_test)\n",
    "\n",
    "# Calculate the absolute errors\n",
    "errors = abs(predictions - y_test)\n",
    "# Print out the mean absolute error (mae)\n",
    "print('Mean Absolute Error:', round(np.mean(errors), 2))"
   ]
  },
  {
   "cell_type": "code",
   "execution_count": 88,
   "metadata": {},
   "outputs": [
    {
     "name": "stdout",
     "output_type": "stream",
     "text": [
      "RMSE:  0.313128813780083\n",
      "R^2:  -2.111582323558003\n"
     ]
    }
   ],
   "source": [
    "rmse = sqrt(mean_squared_error(y_test, predictions))\n",
    "r2 = r2_score(y_test, predictions)\n",
    "print(\"RMSE: \", rmse)\n",
    "print(\"R^2: \", r2)"
   ]
  },
  {
   "cell_type": "code",
   "execution_count": 89,
   "metadata": {},
   "outputs": [
    {
     "name": "stdout",
     "output_type": "stream",
     "text": [
      "(4, 1)\n",
      "<class 'numpy.ndarray'>\n",
      "(4, 1)\n",
      "<class 'numpy.ndarray'>\n"
     ]
    }
   ],
   "source": [
    "y_test= y_test.reshape((len(y_test), 1))\n",
    "print(y_test.shape)\n",
    "print(type(y_test))\n",
    "predictions=predictions.reshape((len(y_test), 1))\n",
    "print(predictions.shape)\n",
    "print(type(y_test))\n",
    "#print((y_test, predictions))"
   ]
  },
  {
   "cell_type": "code",
   "execution_count": 90,
   "metadata": {},
   "outputs": [
    {
     "name": "stdout",
     "output_type": "stream",
     "text": [
      "[real, predictions]\n",
      "[[0.016     0.1086304]\n",
      " [0.053     0.2018772]\n",
      " [0.45      0.9706772]\n",
      " [0.056     0.3565812]]\n"
     ]
    }
   ],
   "source": [
    "b=np.append(y_test, predictions, axis=1)\n",
    "\n",
    "print(\"[real, predictions]\")\n",
    "print(b)"
   ]
  },
  {
   "cell_type": "code",
   "execution_count": 91,
   "metadata": {},
   "outputs": [
    {
     "data": {
      "text/plain": [
       "Text(0, 0.5, 'Predictions')"
      ]
     },
     "execution_count": 91,
     "metadata": {},
     "output_type": "execute_result"
    },
    {
     "data": {
      "image/png": "[encoded data removed]",
      "text/plain": [
       "<Figure size 432x288 with 1 Axes>"
      ]
     },
     "metadata": {
      "needs_background": "light"
     },
     "output_type": "display_data"
    }
   ],
   "source": [
    "plt.scatter(y_test, predictions)\n",
    "plt.xlabel('True Values')\n",
    "plt.ylabel('Predictions')"
   ]
  },
  {
   "cell_type": "code",
   "execution_count": 55,
   "metadata": {},
   "outputs": [],
   "source": [
    "#I don't remember what's this\n",
    "\n",
    "#X_train = normalize(X_train, axis=1)\n",
    "#X_test = normalize(X_test, axis=1)"
   ]
  },
  {
   "cell_type": "code",
   "execution_count": 41,
   "metadata": {},
   "outputs": [
    {
     "ename": "NameError",
     "evalue": "name 'c' is not defined",
     "output_type": "error",
     "traceback": [
      "\u001b[1;31m---------------------------------------------------------------------------\u001b[0m",
      "\u001b[1;31mNameError\u001b[0m                                 Traceback (most recent call last)",
      "\u001b[1;32m<ipython-input-41-2b66fd261ee5>\u001b[0m in \u001b[0;36m<module>\u001b[1;34m\u001b[0m\n\u001b[1;32m----> 1\u001b[1;33m \u001b[0mc\u001b[0m\u001b[1;33m\u001b[0m\u001b[1;33m\u001b[0m\u001b[0m\n\u001b[0m",
      "\u001b[1;31mNameError\u001b[0m: name 'c' is not defined"
     ]
    }
   ],
   "source": [
    "c"
   ]
  },
  {
   "cell_type": "markdown",
   "metadata": {},
   "source": [
    "# MultiOutput Random Forest"
   ]
  },
  {
   "cell_type": "code",
   "execution_count": 132,
   "metadata": {},
   "outputs": [
    {
     "name": "stdout",
     "output_type": "stream",
     "text": [
      "(24, 6)\n",
      "<class 'numpy.ndarray'>\n",
      "<class 'pandas.core.frame.DataFrame'>\n"
     ]
    }
   ],
   "source": [
    "multi_y = concentration[:,1:-2]\n",
    "print (multi_y.shape)\n",
    "print (type(multi_y))\n",
    "df_y= pd.DataFrame(multi_y)\n",
    "print (type(df_y))"
   ]
  },
  {
   "cell_type": "code",
   "execution_count": 153,
   "metadata": {},
   "outputs": [
    {
     "name": "stdout",
     "output_type": "stream",
     "text": [
      "(19, 1130) (19, 6)\n",
      "(5, 1130) (5, 6)\n"
     ]
    }
   ],
   "source": [
    "X_train, X_test, y_train, y_test = train_test_split(x_df, df_y, test_size=0.2)\n",
    "print (X_train.shape, y_train.shape)\n",
    "print (X_test.shape, y_test.shape)\n",
    "#print(X_test)"
   ]
  },
  {
   "cell_type": "code",
   "execution_count": 134,
   "metadata": {},
   "outputs": [
    {
     "data": {
      "text/plain": [
       "MultiOutputRegressor(estimator=RandomForestRegressor(bootstrap=True,\n",
       "                                                     ccp_alpha=0.0,\n",
       "                                                     criterion='mse',\n",
       "                                                     max_depth=30,\n",
       "                                                     max_features='auto',\n",
       "                                                     max_leaf_nodes=None,\n",
       "                                                     max_samples=None,\n",
       "                                                     min_impurity_decrease=0.0,\n",
       "                                                     min_impurity_split=None,\n",
       "                                                     min_samples_leaf=1,\n",
       "                                                     min_samples_split=2,\n",
       "                                                     min_weight_fraction_leaf=0.0,\n",
       "                                                     n_estimators=650,\n",
       "                                                     n_jobs=None,\n",
       "                                                     oob_score=False,\n",
       "                                                     random_state=0, verbose=0,\n",
       "                                                     warm_start=False),\n",
       "                     n_jobs=None)"
      ]
     },
     "execution_count": 134,
     "metadata": {},
     "output_type": "execute_result"
    }
   ],
   "source": [
    "from sklearn.multioutput import MultiOutputRegressor\n",
    "from sklearn.ensemble import RandomForestRegressor\n",
    "\n",
    "max_depth = 30\n",
    "regr_multirf = MultiOutputRegressor(RandomForestRegressor(n_estimators=650,\n",
    "                                                          max_depth=max_depth,\n",
    "                                                          random_state=0))\n",
    "regr_multirf.fit(X_train, y_train)\n"
   ]
  },
  {
   "cell_type": "code",
   "execution_count": 135,
   "metadata": {},
   "outputs": [],
   "source": [
    "y_multirf = regr_multirf.predict(X_test)"
   ]
  },
  {
   "cell_type": "code",
   "execution_count": 136,
   "metadata": {},
   "outputs": [
    {
     "name": "stdout",
     "output_type": "stream",
     "text": [
      "(5, 6)\n",
      "(5, 6)\n"
     ]
    }
   ],
   "source": [
    "print(y_test.shape)\n",
    "print(y_multirf.shape)"
   ]
  },
  {
   "cell_type": "code",
   "execution_count": 137,
   "metadata": {},
   "outputs": [
    {
     "name": "stdout",
     "output_type": "stream",
     "text": [
      "R^2:  -1.2798201186343863\n",
      "RMSE:  1.5231794557929577\n"
     ]
    }
   ],
   "source": [
    "rmse = sqrt(mean_squared_error(y_test, y_multirf))\n",
    "r2 = r2_score(y_test, y_multirf)\n",
    "\n",
    "print(\"R^2: \", r2)\n",
    "print(\"RMSE: \", rmse)"
   ]
  },
  {
   "cell_type": "code",
   "execution_count": 138,
   "metadata": {},
   "outputs": [
    {
     "name": "stdout",
     "output_type": "stream",
     "text": [
      "[real, predictions]\n",
      "[[6.160e+00 0.000e+00 3.630e-01 0.000e+00 6.000e-03 2.060e-01 8.711e+00\n",
      "  2.880e-01 4.460e-01 2.870e-01 7.790e-01 1.910e-01]\n",
      " [6.120e+00 0.000e+00 3.200e-01 0.000e+00 5.000e-03 1.600e-02 8.009e+00\n",
      "  2.150e-01 4.630e-01 8.500e-02 1.110e-01 1.440e-01]\n",
      " [1.253e+01 3.100e-01 2.500e-02 5.000e-02 5.600e-02 3.300e-02 7.822e+00\n",
      "  2.570e-01 2.970e-01 1.650e-01 1.750e-01 2.170e-01]\n",
      " [1.800e-01 5.000e-01 1.110e+00 5.200e-02 1.500e-01 1.260e+00 4.830e-01\n",
      "  3.630e-01 1.233e+00 2.260e-01 1.360e-01 9.710e-01]\n",
      " [1.290e+01 1.200e-01 5.200e-01 1.550e-01 5.200e-01 2.860e-01 6.898e+00\n",
      "  3.360e-01 7.140e-01 1.420e-01 5.610e-01 2.290e-01]]\n"
     ]
    }
   ],
   "source": [
    "b=np.append(np.around(y_test,3), np.around(y_multirf,3), axis=1)\n",
    "\n",
    "print(\"[real, predictions]\")\n",
    "print(b)"
   ]
  },
  {
   "cell_type": "code",
   "execution_count": 139,
   "metadata": {},
   "outputs": [
    {
     "data": {
      "text/plain": [
       "Text(0, 0.5, 'Predictions')"
      ]
     },
     "execution_count": 139,
     "metadata": {},
     "output_type": "execute_result"
    },
    {
     "data": {
      "image/png": "[encoded data removed]",
      "text/plain": [
       "<Figure size 432x288 with 1 Axes>"
      ]
     },
     "metadata": {
      "needs_background": "light"
     },
     "output_type": "display_data"
    }
   ],
   "source": [
    "plt.scatter(y_test, y_multirf)\n",
    "plt.xlabel('True Values')\n",
    "plt.ylabel('Predictions')"
   ]
  },
  {
   "cell_type": "code",
   "execution_count": 141,
   "metadata": {},
   "outputs": [
    {
     "data": {
      "text/plain": [
       "array([8.71, 8.01, 7.82, 0.48, 6.9 ])"
      ]
     },
     "execution_count": 141,
     "metadata": {},
     "output_type": "execute_result"
    }
   ],
   "source": [
    "y_pred=np.around(y_multirf,2)\n",
    "y_pred[:,0]"
   ]
  },
  {
   "cell_type": "code",
   "execution_count": 142,
   "metadata": {},
   "outputs": [
    {
     "data": {
      "text/plain": [
       "array([ 6.16,  6.12, 12.53,  0.18, 12.9 ])"
      ]
     },
     "execution_count": 142,
     "metadata": {},
     "output_type": "execute_result"
    }
   ],
   "source": [
    "y_test[0].values"
   ]
  },
  {
   "cell_type": "code",
   "execution_count": 143,
   "metadata": {},
   "outputs": [
    {
     "name": "stdout",
     "output_type": "stream",
     "text": [
      "real:  [ 6.16  6.12 12.53  0.18 12.9 ]\n",
      "pred:  [8.71 8.01 7.82 0.48 6.9 ]\n"
     ]
    }
   ],
   "source": [
    "print(\"real: \", y_test[0].values)\n",
    "print(\"pred: \", y_pred[:,0])"
   ]
  },
  {
   "cell_type": "markdown",
   "metadata": {},
   "source": [
    "# PLS-2"
   ]
  },
  {
   "cell_type": "code",
   "execution_count": 154,
   "metadata": {},
   "outputs": [
    {
     "name": "stdout",
     "output_type": "stream",
     "text": [
      "100% completed\n",
      "Suggested number of components:  33\n",
      "\n"
     ]
    },
    {
     "data": {
      "image/png": "[encoded data removed]",
      "text/plain": [
       "<Figure size 432x288 with 1 Axes>"
      ]
     },
     "metadata": {},
     "output_type": "display_data"
    },
    {
     "name": "stdout",
     "output_type": "stream",
     "text": [
      "R2 calib: 1.000\n",
      "R2 CV: 0.018\n",
      "MSE calib: 0.000\n",
      "MSE CV: 0.939\n"
     ]
    }
   ],
   "source": [
    "optimise_pls_cv(X_train, y_train, 40, plot_components=True)"
   ]
  },
  {
   "cell_type": "code",
   "execution_count": 155,
   "metadata": {},
   "outputs": [
    {
     "name": "stdout",
     "output_type": "stream",
     "text": [
      "R^2:  0.018347253779067135\n",
      "MSE:  0.9391318844120397\n"
     ]
    }
   ],
   "source": [
    "# Define PLS object\n",
    "pls = PLSRegression(n_components= 26)\n",
    "# Fit\n",
    "pls.fit(X_train, y_train)\n",
    "# Cross-validation\n",
    "y_cv = cross_val_predict(pls, X_train, y_train, cv=10)\n",
    "# Calculate scores\n",
    "score = r2_score(y_train, y_cv)\n",
    "mse = mean_squared_error(y_train, y_cv)\n",
    "\n",
    "print(\"R^2: \", score)\n",
    "print(\"MSE: \", mse)"
   ]
  },
  {
   "cell_type": "code",
   "execution_count": 150,
   "metadata": {},
   "outputs": [
    {
     "name": "stdout",
     "output_type": "stream",
     "text": [
      "-4.070272705754876\n",
      "0.36555579763038115\n"
     ]
    }
   ],
   "source": [
    "y_pred = pls.predict(X_test)\n",
    "\n",
    "# Cross-validation\n",
    "y_cv = cross_val_predict(pls, X_train, y_train, cv=10)\n",
    "\n",
    "# Calculate scores for calibration and cross-validation\n",
    "score_pred = r2_score(y_test, y_pred)\n",
    "score_cv = r2_score(y_train, y_cv)\n",
    "\n",
    "print(score_pred) #NAMMERDA\n",
    "print(score_cv)"
   ]
  },
  {
   "cell_type": "code",
   "execution_count": 151,
   "metadata": {},
   "outputs": [
    {
     "data": {
      "text/html": [
       "<div>\n",
       "<style scoped>\n",
       "    .dataframe tbody tr th:only-of-type {\n",
       "        vertical-align: middle;\n",
       "    }\n",
       "\n",
       "    .dataframe tbody tr th {\n",
       "        vertical-align: top;\n",
       "    }\n",
       "\n",
       "    .dataframe thead th {\n",
       "        text-align: right;\n",
       "    }\n",
       "</style>\n",
       "<table border=\"1\" class=\"dataframe\">\n",
       "  <thead>\n",
       "    <tr style=\"text-align: right;\">\n",
       "      <th></th>\n",
       "      <th>0</th>\n",
       "      <th>1</th>\n",
       "      <th>2</th>\n",
       "      <th>3</th>\n",
       "      <th>4</th>\n",
       "      <th>5</th>\n",
       "    </tr>\n",
       "  </thead>\n",
       "  <tbody>\n",
       "    <tr>\n",
       "      <th>0</th>\n",
       "      <td>7.84</td>\n",
       "      <td>0.22</td>\n",
       "      <td>0.54</td>\n",
       "      <td>0.19</td>\n",
       "      <td>0.57</td>\n",
       "      <td>0.27</td>\n",
       "    </tr>\n",
       "    <tr>\n",
       "      <th>1</th>\n",
       "      <td>8.62</td>\n",
       "      <td>0.12</td>\n",
       "      <td>0.35</td>\n",
       "      <td>0.06</td>\n",
       "      <td>-0.12</td>\n",
       "      <td>-0.06</td>\n",
       "    </tr>\n",
       "    <tr>\n",
       "      <th>2</th>\n",
       "      <td>10.50</td>\n",
       "      <td>0.13</td>\n",
       "      <td>-0.61</td>\n",
       "      <td>0.45</td>\n",
       "      <td>0.15</td>\n",
       "      <td>-0.03</td>\n",
       "    </tr>\n",
       "    <tr>\n",
       "      <th>3</th>\n",
       "      <td>-0.28</td>\n",
       "      <td>0.42</td>\n",
       "      <td>1.56</td>\n",
       "      <td>-0.11</td>\n",
       "      <td>-0.34</td>\n",
       "      <td>0.95</td>\n",
       "    </tr>\n",
       "    <tr>\n",
       "      <th>4</th>\n",
       "      <td>9.93</td>\n",
       "      <td>0.09</td>\n",
       "      <td>0.29</td>\n",
       "      <td>-0.26</td>\n",
       "      <td>0.65</td>\n",
       "      <td>0.14</td>\n",
       "    </tr>\n",
       "  </tbody>\n",
       "</table>\n",
       "</div>"
      ],
      "text/plain": [
       "       0     1     2     3     4     5\n",
       "0   7.84  0.22  0.54  0.19  0.57  0.27\n",
       "1   8.62  0.12  0.35  0.06 -0.12 -0.06\n",
       "2  10.50  0.13 -0.61  0.45  0.15 -0.03\n",
       "3  -0.28  0.42  1.56 -0.11 -0.34  0.95\n",
       "4   9.93  0.09  0.29 -0.26  0.65  0.14"
      ]
     },
     "execution_count": 151,
     "metadata": {},
     "output_type": "execute_result"
    }
   ],
   "source": [
    "pd.DataFrame(np.round(y_pred, decimals=2))"
   ]
  },
  {
   "cell_type": "code",
   "execution_count": 152,
   "metadata": {
    "scrolled": true
   },
   "outputs": [
    {
     "data": {
      "text/html": [
       "<div>\n",
       "<style scoped>\n",
       "    .dataframe tbody tr th:only-of-type {\n",
       "        vertical-align: middle;\n",
       "    }\n",
       "\n",
       "    .dataframe tbody tr th {\n",
       "        vertical-align: top;\n",
       "    }\n",
       "\n",
       "    .dataframe thead th {\n",
       "        text-align: right;\n",
       "    }\n",
       "</style>\n",
       "<table border=\"1\" class=\"dataframe\">\n",
       "  <thead>\n",
       "    <tr style=\"text-align: right;\">\n",
       "      <th></th>\n",
       "      <th>0</th>\n",
       "      <th>1</th>\n",
       "      <th>2</th>\n",
       "      <th>3</th>\n",
       "      <th>4</th>\n",
       "      <th>5</th>\n",
       "    </tr>\n",
       "  </thead>\n",
       "  <tbody>\n",
       "    <tr>\n",
       "      <th>20</th>\n",
       "      <td>6.16</td>\n",
       "      <td>0.00</td>\n",
       "      <td>0.36</td>\n",
       "      <td>0.00</td>\n",
       "      <td>0.01</td>\n",
       "      <td>0.21</td>\n",
       "    </tr>\n",
       "    <tr>\n",
       "      <th>12</th>\n",
       "      <td>6.12</td>\n",
       "      <td>0.00</td>\n",
       "      <td>0.32</td>\n",
       "      <td>0.00</td>\n",
       "      <td>0.01</td>\n",
       "      <td>0.02</td>\n",
       "    </tr>\n",
       "    <tr>\n",
       "      <th>13</th>\n",
       "      <td>12.53</td>\n",
       "      <td>0.31</td>\n",
       "      <td>0.02</td>\n",
       "      <td>0.05</td>\n",
       "      <td>0.06</td>\n",
       "      <td>0.03</td>\n",
       "    </tr>\n",
       "    <tr>\n",
       "      <th>22</th>\n",
       "      <td>0.18</td>\n",
       "      <td>0.50</td>\n",
       "      <td>1.11</td>\n",
       "      <td>0.05</td>\n",
       "      <td>0.15</td>\n",
       "      <td>1.26</td>\n",
       "    </tr>\n",
       "    <tr>\n",
       "      <th>7</th>\n",
       "      <td>12.90</td>\n",
       "      <td>0.12</td>\n",
       "      <td>0.52</td>\n",
       "      <td>0.16</td>\n",
       "      <td>0.52</td>\n",
       "      <td>0.29</td>\n",
       "    </tr>\n",
       "  </tbody>\n",
       "</table>\n",
       "</div>"
      ],
      "text/plain": [
       "        0     1     2     3     4     5\n",
       "20   6.16  0.00  0.36  0.00  0.01  0.21\n",
       "12   6.12  0.00  0.32  0.00  0.01  0.02\n",
       "13  12.53  0.31  0.02  0.05  0.06  0.03\n",
       "22   0.18  0.50  1.11  0.05  0.15  1.26\n",
       "7   12.90  0.12  0.52  0.16  0.52  0.29"
      ]
     },
     "execution_count": 152,
     "metadata": {},
     "output_type": "execute_result"
    }
   ],
   "source": [
    "np.round(y_test, decimals=2)"
   ]
  },
  {
   "cell_type": "code",
   "execution_count": null,
   "metadata": {},
   "outputs": [],
   "source": []
  },
  {
   "cell_type": "code",
   "execution_count": null,
   "metadata": {},
   "outputs": [],
   "source": []
  }
 ],
 "metadata": {
  "kernelspec": {
   "display_name": "Python 3",
   "language": "python",
   "name": "python3"
  },
  "language_info": {
   "codemirror_mode": {
    "name": "ipython",
    "version": 3
   },
   "file_extension": ".py",
   "mimetype": "text/x-python",
   "name": "python",
   "nbconvert_exporter": "python",
   "pygments_lexer": "ipython3",
   "version": "3.7.6"
  }
 },
 "nbformat": 4,
 "nbformat_minor": 2
}
