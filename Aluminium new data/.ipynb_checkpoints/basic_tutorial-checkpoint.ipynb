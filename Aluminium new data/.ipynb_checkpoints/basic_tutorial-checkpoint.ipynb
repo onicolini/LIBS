{
 "cells": [
  {
   "cell_type": "code",
   "execution_count": 6,
   "metadata": {},
   "outputs": [
    {
     "name": "stdout",
     "output_type": "stream",
     "text": [
      "hello Jonas and Mélina\n"
     ]
    },
    {
     "data": {
      "text/plain": [
       "'Jonas and Mélina'"
      ]
     },
     "execution_count": 6,
     "metadata": {},
     "output_type": "execute_result"
    }
   ],
   "source": [
    "# this grey box is called a cell, it can contain code or text. This is a code cell\n",
    "\n",
    "# this is a single line comment. \n",
    "\"\"\" this is a multiline comment.\n",
    "as you can see I can write how much I wnat inside the triple \"\" sign. It would work also using ''\n",
    "\n",
    "to run the content of a cell you can either press the \"run\" button in the top of the page or press Shift + Enter\n",
    "\"\"\"\n",
    "\n",
    "print(\"hello Jonas and Mélina\") # this is a simple print command\n",
    "\n",
    "var = \"Jonas and Mélina\" \n",
    "#in python there is no need to use ; at the end of the line, but indentation is very important to make programs flow\n",
    "# also it is not needed to define the type of a variable like in C\n",
    "\n",
    "# you can also avoid using print command by just typing the variable of interest in the end of the cell\n",
    "var"
   ]
  },
  {
   "cell_type": "markdown",
   "metadata": {},
   "source": [
    "This cell is a \"markdown\" cell. It will show just text. You can switch from code to text cell by changing the type with the \"code\" or \"markdown\" button to the top of the page\n",
    "\n",
    "in Python variable types are directly recognised when they are defined:"
   ]
  },
  {
   "cell_type": "code",
   "execution_count": 16,
   "metadata": {},
   "outputs": [
    {
     "name": "stdout",
     "output_type": "stream",
     "text": [
      "<class 'str'>\n",
      "<class 'int'>\n",
      "<class 'float'>\n",
      "<class 'bool'>\n",
      "<class 'list'>\n",
      "<class 'set'>\n"
     ]
    }
   ],
   "source": [
    "b = \"hello\" #string\n",
    "print(type(b)) #you can know the type of a variable by using type()\n",
    "\n",
    "c = 10 #integer\n",
    "print(type(c))\n",
    "\n",
    "d = 10. #float\n",
    "print(type(d))\n",
    "\n",
    "t = True #boolean\n",
    "print(type(t))\n",
    "\n",
    "e = [10, 23, 34] #list\n",
    "print(type(e))\n",
    "\n",
    "f = {\"nice\", \"outfit\", 1234, False} #set\n",
    "print(type(f))"
   ]
  },
  {
   "cell_type": "code",
   "execution_count": 19,
   "metadata": {},
   "outputs": [
    {
     "data": {
      "text/plain": [
       "10"
      ]
     },
     "execution_count": 19,
     "metadata": {},
     "output_type": "execute_result"
    }
   ],
   "source": [
    "e[0] #I can acces the elements of a variable by using [i]. the first element has index 0, the last -1."
   ]
  },
  {
   "cell_type": "code",
   "execution_count": 22,
   "metadata": {},
   "outputs": [
    {
     "data": {
      "text/plain": [
       "100"
      ]
     },
     "execution_count": 22,
     "metadata": {},
     "output_type": "execute_result"
    }
   ],
   "source": [
    "#to define function use def and pay attention to indentation\n",
    "def square(x):\n",
    "    sq = x**2 #double * is exponentiation \n",
    "    return sq\n",
    "\n",
    "square(10)"
   ]
  },
  {
   "cell_type": "code",
   "execution_count": 36,
   "metadata": {},
   "outputs": [
    {
     "name": "stdout",
     "output_type": "stream",
     "text": [
      "0\n",
      "1\n",
      "2\n",
      "3\n",
      "4\n",
      "5\n",
      "\n",
      "10\n",
      "12\n",
      "14\n",
      "16\n",
      "18\n"
     ]
    }
   ],
   "source": [
    "#indentation is important also for for and if.\n",
    "for i in range(6): #no need for parenthesis\n",
    "    print(i)\n",
    "\n",
    "print(\"\")\n",
    "    \n",
    "    \n",
    "for k in range(10,20):\n",
    "    if k%2 == 0: #no need for parenthesis\n",
    "        print(k)"
   ]
  },
  {
   "cell_type": "code",
   "execution_count": 20,
   "metadata": {},
   "outputs": [],
   "source": [
    "# to import packages, use the \"import\" command. You also can use aliases using \"as\"\n",
    "import numpy as np \n",
    "import pandas as pd\n",
    "import matplotlib.pyplot as plt"
   ]
  },
  {
   "cell_type": "markdown",
   "metadata": {},
   "source": [
    "# Numpy\n",
    "numpy is a library specifically made for matrix operation\n",
    "\n",
    "for more info\n",
    "https://cs231n.github.io/python-numpy-tutorial/"
   ]
  },
  {
   "cell_type": "code",
   "execution_count": 51,
   "metadata": {},
   "outputs": [
    {
     "name": "stdout",
     "output_type": "stream",
     "text": [
      "[[ 1  2  3  4]\n",
      " [ 5  6  7  8]\n",
      " [ 9 10 11 12]]\n",
      "(3, 4)\n",
      "4 \n",
      "\n",
      "b:  [[2 3]\n",
      " [6 7]]\n"
     ]
    }
   ],
   "source": [
    "a = np.array([[1,2,3,4], [5,6,7,8], [9,10,11,12]])\n",
    "print(a)\n",
    "print(a.shape)\n",
    "print(a.shape[1], \"\\n\")\n",
    "\n",
    "#slicing\n",
    "b = a[:2, 1:3]\n",
    "print(\"b: \", b)"
   ]
  },
  {
   "cell_type": "code",
   "execution_count": 40,
   "metadata": {},
   "outputs": [
    {
     "name": "stdout",
     "output_type": "stream",
     "text": [
      "[  4   6  10 100]\n",
      "[0 1 2 3]\n",
      "[  4   7  12 103]\n"
     ]
    }
   ],
   "source": [
    "a = np.array([4, 6, 10, 100])\n",
    "print(a)\n",
    "\n",
    "b = np.arange(4)\n",
    "print(b)\n",
    "\n",
    "c = a + b #elementwise sum\n",
    "print(c)"
   ]
  },
  {
   "cell_type": "code",
   "execution_count": 43,
   "metadata": {},
   "outputs": [
    {
     "name": "stdout",
     "output_type": "stream",
     "text": [
      "[4, 6, 10, 100, 1, 3, 5, 7]\n"
     ]
    },
    {
     "data": {
      "text/plain": [
       "[4, 6, 10, 100, 1, 3, 5, 7]"
      ]
     },
     "execution_count": 43,
     "metadata": {},
     "output_type": "execute_result"
    }
   ],
   "source": [
    "e = [4, 6, 10, 100]\n",
    "d = [1 ,3, 5, 7]\n",
    "print(e + d) #this append the second list"
   ]
  },
  {
   "cell_type": "code",
   "execution_count": 44,
   "metadata": {},
   "outputs": [
    {
     "name": "stdout",
     "output_type": "stream",
     "text": [
      "[[0. 0. 0. 0.]\n",
      " [0. 0. 0. 0.]\n",
      " [0. 0. 0. 0.]]\n"
     ]
    }
   ],
   "source": [
    "zero= np.zeros((3, 4))\n",
    "print(zero)\n",
    "\n",
    "one= np.ones((3, 4))\n",
    "print(one)"
   ]
  },
  {
   "cell_type": "markdown",
   "metadata": {},
   "source": [
    "# Matplotlib\n",
    "Matplotlib is a plotting library, which provides a plotting system similar to that of MATLAB."
   ]
  },
  {
   "cell_type": "code",
   "execution_count": 58,
   "metadata": {},
   "outputs": [
    {
     "data": {
      "image/png": "[encoded data removed]",
      "text/plain": [
       "<Figure size 432x288 with 1 Axes>"
      ]
     },
     "metadata": {
      "needs_background": "light"
     },
     "output_type": "display_data"
    }
   ],
   "source": [
    "import numpy as np\n",
    "import matplotlib.pyplot as plt\n",
    "# %matplotlib notebook #this allows to zoom and move the plot, but it must be added to each cell where the plotting is done\n",
    "%matplotlib inline\n",
    "\n",
    "# Compute the x and y coordinates for points on a sine and cosine curve\n",
    "x = np.arange(0, 3 * np.pi, 0.1)\n",
    "y_sin = np.sin(x)\n",
    "y_cos = np.cos(x)\n",
    "\n",
    "# Plot the points using matplotlib\n",
    "plt.plot(x, y_sin)\n",
    "plt.plot(x, y_cos)\n",
    "plt.xlabel('x axis label')\n",
    "plt.ylabel('y axis label')\n",
    "plt.title('Sine and Cosine')\n",
    "plt.legend(['Sine', 'Cosine'])\n",
    "plt.show() # You must call plt.show() to make graphics appear"
   ]
  },
  {
   "cell_type": "code",
   "execution_count": null,
   "metadata": {},
   "outputs": [],
   "source": []
  }
 ],
 "metadata": {
  "kernelspec": {
   "display_name": "Python 3",
   "language": "python",
   "name": "python3"
  },
  "language_info": {
   "codemirror_mode": {
    "name": "ipython",
    "version": 3
   },
   "file_extension": ".py",
   "mimetype": "text/x-python",
   "name": "python",
   "nbconvert_exporter": "python",
   "pygments_lexer": "ipython3",
   "version": "3.6.3"
  }
 },
 "nbformat": 4,
 "nbformat_minor": 2
}
