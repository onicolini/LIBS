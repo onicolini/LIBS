{
 "cells": [
  {
   "cell_type": "markdown",
   "metadata": {},
   "source": [
    "# Trial of various feature selection algorithms\n"
   ]
  },
  {
   "cell_type": "code",
   "execution_count": 1,
   "metadata": {},
   "outputs": [],
   "source": [
    "import os\n",
    "from sys import stdout\n",
    "import time\n",
    "\n",
    "import random\n",
    "import numpy as np\n",
    "import pandas as pd\n",
    "import matplotlib.pyplot as plt\n",
    "import peakutils\n",
    "%matplotlib inline \n",
    "from math import sqrt\n",
    "from scipy.signal import savgol_filter\n",
    "import scipy.io\n",
    "from sklearn import model_selection\n",
    "from sklearn.decomposition import PCA \n",
    "from sklearn.preprocessing import StandardScaler, normalize, MinMaxScaler \n",
    "from sklearn.model_selection import train_test_split, RandomizedSearchCV\n",
    "from sklearn.metrics import mean_squared_error, r2_score\n",
    "from sklearn.cross_decomposition import PLSRegression\n",
    "from sklearn.model_selection import cross_val_predict\n",
    "from sklearn import linear_model\n",
    "from sklearn.linear_model import ElasticNet,ElasticNetCV\n",
    "from deap import base\n",
    "from deap import creator\n",
    "from deap import tools\n",
    "\n",
    "from feature_selection import *\n",
    "\n",
    "\n",
    "\n",
    "\n",
    "import warnings\n",
    "warnings.filterwarnings('ignore')"
   ]
  },
  {
   "cell_type": "code",
   "execution_count": 2,
   "metadata": {},
   "outputs": [
    {
     "data": {
      "text/plain": [
       "\"   \\n    # Fit a line to the CV vs response\\n    z = np.polyfit(y, y_c, 1)\\n    with plt.style.context(('ggplot')):\\n        fig, ax = plt.subplots(figsize=(9, 5))\\n        ax.scatter(y_c, y, c='red', edgecolors='k')\\n        #Plot the best fit line\\n        ax.plot(np.polyval(z,y), y, c='blue', linewidth=1)\\n        #Plot the ideal 1:1 line\\n        ax.plot(y, y, color='green', linewidth=1)\\n        plt.title('$R^{2}$ (CV): '+str(score_cv))\\n        plt.xlabel('Predicted $^{\\\\circ}$Brix')\\n        plt.ylabel('Measured $^{\\\\circ}$Brix')\\n        plt.show()\\n    return\\n\""
      ]
     },
     "execution_count": 2,
     "metadata": {},
     "output_type": "execute_result"
    }
   ],
   "source": [
    "def optimise_pls_cv(X, y, n_comp, plot_components=True):\n",
    "    '''Run PLS including a variable number of components, up to n_comp,\n",
    "       and calculate MSE '''\n",
    "    mse = []\n",
    "    component = np.arange(1, n_comp)\n",
    "    for i in component:\n",
    "        pls = PLSRegression(n_components=i)\n",
    "        # Cross-validation\n",
    "        y_cv = cross_val_predict(pls, X, y, cv=10)\n",
    "        mse.append(mean_squared_error(y, y_cv))\n",
    "        comp = 100*(i+1)/40\n",
    "        # Trick to update status on the same line\n",
    "        stdout.write(\"\\r%d%% completed\" % comp)\n",
    "        stdout.flush()\n",
    "    stdout.write(\"\\n\")\n",
    "    # Calculate and print the position of minimum in MSE\n",
    "    msemin = np.argmin(mse)\n",
    "    print(\"Suggested number of components: \", msemin+1)\n",
    "    stdout.write(\"\\n\")\n",
    "    if plot_components is True:\n",
    "        with plt.style.context(('ggplot')):\n",
    "            plt.plot(component, np.array(mse), '-v', color = 'blue', mfc='blue')\n",
    "            plt.plot(component[msemin], np.array(mse)[msemin], 'P', ms=10, mfc='red')\n",
    "            plt.xlabel('Number of PLS components')\n",
    "            plt.ylabel('MSE')\n",
    "            plt.title('PLS')\n",
    "            plt.xlim(left=-1)\n",
    "        plt.show()\n",
    "    # Define PLS object with optimal number of components\n",
    "    pls_opt = PLSRegression(n_components=msemin+1)\n",
    "    # Fir to the entire dataset\n",
    "    pls_opt.fit(X, y)\n",
    "    y_c = pls_opt.predict(X)\n",
    "    # Cross-validation\n",
    "    y_cv = cross_val_predict(pls_opt, X, y, cv=10)\n",
    "    # Calculate scores for calibration and cross-validation\n",
    "    score_c = r2_score(y, y_c)\n",
    "    score_cv = r2_score(y, y_cv)\n",
    "    # Calculate mean squared error for calibration and cross validation\n",
    "    mse_c = mean_squared_error(y, y_c)\n",
    "    mse_cv = mean_squared_error(y, y_cv)\n",
    "    print('R2 calib: %5.3f'  % score_c)\n",
    "    print('R2 CV: %5.3f'  % score_cv)\n",
    "    print('MSE calib: %5.3f' % mse_c)\n",
    "    print('MSE CV: %5.3f' % mse_cv)\n",
    "    \n",
    "    return\n",
    "    # Plot regression and figures of merit\n",
    "    rangey = max(y) - min(y)\n",
    "    rangex = max(y_c) - min(y_c)\n",
    "\"\"\"   \n",
    "    # Fit a line to the CV vs response\n",
    "    z = np.polyfit(y, y_c, 1)\n",
    "    with plt.style.context(('ggplot')):\n",
    "        fig, ax = plt.subplots(figsize=(9, 5))\n",
    "        ax.scatter(y_c, y, c='red', edgecolors='k')\n",
    "        #Plot the best fit line\n",
    "        ax.plot(np.polyval(z,y), y, c='blue', linewidth=1)\n",
    "        #Plot the ideal 1:1 line\n",
    "        ax.plot(y, y, color='green', linewidth=1)\n",
    "        plt.title('$R^{2}$ (CV): '+str(score_cv))\n",
    "        plt.xlabel('Predicted $^{\\circ}$Brix')\n",
    "        plt.ylabel('Measured $^{\\circ}$Brix')\n",
    "        plt.show()\n",
    "    return\n",
    "\"\"\" "
   ]
  },
  {
   "cell_type": "code",
   "execution_count": 3,
   "metadata": {},
   "outputs": [],
   "source": [
    "def pls_variable_selection(X, y, max_comp):\n",
    "    \n",
    "    # Define MSE array to be populated\n",
    "    mse = np.zeros((max_comp,X.shape[1]))\n",
    "    # Loop over the number of PLS components\n",
    "    for i in range(max_comp):\n",
    "        \n",
    "        # Regression with specified number of components, using full spectrum\n",
    "        pls1 = PLSRegression(n_components=i+1)\n",
    "        pls1.fit(X, y)\n",
    "        \n",
    "        # Indices of sort spectra according to ascending absolute value of PLS coefficients\n",
    "        sorted_ind = np.argsort(np.abs(pls1.coef_[:,0]))\n",
    "        # Sort spectra accordingly \n",
    "        Xc = X[:,sorted_ind]\n",
    "        # Discard one wavelength at a time of the sorted spectra,\n",
    "        # regress, and calculate the MSE cross-validation\n",
    "        for j in range(Xc.shape[1]-(i+1)):\n",
    "            pls2 = PLSRegression(n_components=i+1)\n",
    "            pls2.fit(Xc[:, j:], y)\n",
    "            \n",
    "            y_cv = cross_val_predict(pls2, Xc[:, j:], y, cv=5)\n",
    "            mse[i,j] = mean_squared_error(y, y_cv)\n",
    "    \n",
    "        comp = 100*(i+1)/(max_comp)\n",
    "        stdout.write(\"\\r%d%% completed\" % comp)\n",
    "        stdout.flush()\n",
    "    stdout.write(\"\\n\")\n",
    "    # # Calculate and print the position of minimum in MSE\n",
    "    mseminx,mseminy = np.where(mse==np.min(mse[np.nonzero(mse)]))\n",
    "    print(\"Optimised number of PLS components: \", mseminx[0]+1)\n",
    "    print(\"Wavelengths to be discarded \",mseminy[0])\n",
    "    print('Optimised MSEP ', mse[mseminx,mseminy][0])\n",
    "    stdout.write(\"\\n\")\n",
    "    # plt.imshow(mse, interpolation=None)\n",
    "    # plt.show()\n",
    "    # Calculate PLS with optimal components and export values\n",
    "    pls = PLSRegression(n_components=mseminx[0]+1)\n",
    "    pls.fit(X, y)\n",
    "        \n",
    "    sorted_ind = np.argsort(np.abs(pls.coef_[:,0]))\n",
    "    Xc = X[:,sorted_ind]\n",
    "    return(Xc[:,mseminy[0]:],mseminx[0]+1,mseminy[0], sorted_ind)"
   ]
  },
  {
   "cell_type": "code",
   "execution_count": 4,
   "metadata": {},
   "outputs": [],
   "source": [
    "def msc(input_data, reference=None):\n",
    "    ''' Perform Multiplicative scatter correction'''\n",
    "    # mean centre correction\n",
    "    for i in range(input_data.shape[0]):\n",
    "        input_data[i,:] -= input_data[i,:].mean()\n",
    "    # Get the reference spectrum. If not given, estimate it from the mean    \n",
    "    if reference is None:    \n",
    "        # Calculate mean\n",
    "        ref = np.mean(input_data, axis=0)\n",
    "    else:\n",
    "        ref = reference\n",
    "    # Define a new array and populate it with the corrected data    \n",
    "    data_msc = np.zeros_like(input_data)\n",
    "    for i in range(input_data.shape[0]):\n",
    "        # Run regression\n",
    "        fit = np.polyfit(ref, input_data[i,:], 1, full=True)\n",
    "        # Apply correction\n",
    "        data_msc[i,:] = (input_data[i,:] - fit[0][1]) / fit[0][0] \n",
    "    return (data_msc, ref)"
   ]
  },
  {
   "cell_type": "code",
   "execution_count": 5,
   "metadata": {},
   "outputs": [],
   "source": [
    "def snv(input_data):\n",
    "  \n",
    "    # Define a new array and populate it with the corrected data  \n",
    "    data_snv = np.zeros_like(input_data)\n",
    "    for i in range(input_data.shape[0]):\n",
    "        # Apply correction\n",
    "        data_snv[i,:] = (input_data[i,:] - np.mean(input_data[i,:])) / np.std(input_data[i,:])\n",
    "    return data_snv"
   ]
  },
  {
   "cell_type": "code",
   "execution_count": 6,
   "metadata": {},
   "outputs": [],
   "source": [
    "def genetic_algorithm(X, y):\n",
    "\n",
    "    autoscaled_X_train= X\n",
    "    autoscaled_y_train=y\n",
    "\n",
    "\n",
    "\n",
    "    # GAPLS\n",
    "    creator.create('FitnessMax', base.Fitness, weights=(1.0,))  # for minimization, set weights as (-1.0,)\n",
    "    creator.create('Individual', list, fitness=creator.FitnessMax)\n",
    "\n",
    "    toolbox = base.Toolbox()\n",
    "    min_boundary = np.zeros(X_train.shape[1])\n",
    "    max_boundary = np.ones(X_train.shape[1]) * 1.0\n",
    "    #print(min_boundary.shape)\n",
    "    #print(max_boundary.shape)\n",
    "\n",
    "\n",
    "    ###this one is for selecting at random the \"individual\"\n",
    "    def create_ind_uniform(min_boundary, max_boundary):\n",
    "        index = []\n",
    "        for min, max in zip(min_boundary, max_boundary):\n",
    "            index.append(random.uniform(min, max))\n",
    "        return index\n",
    "\n",
    "\n",
    "    toolbox.register('create_ind', create_ind_uniform, min_boundary, max_boundary)\n",
    "    toolbox.register('individual', tools.initIterate, creator.Individual, toolbox.create_ind)\n",
    "    toolbox.register('population', tools.initRepeat, list, toolbox.individual)\n",
    "\n",
    "\n",
    "    def evalOneMax(individual):\n",
    "        individual_array = np.array(individual)\n",
    "        #individual array is an array of lenght \"wl\" with values between 0 and 1. \n",
    "        #print(\"individual_array\", individual_array.shape)\n",
    "\n",
    "        selected_X_variable_numbers = np.where(individual_array > threshold_of_variable_selection)[0]\n",
    "        #If an element of ind_arr is bigger than thresh it is kept. this one will be used for the selection of selected_autoscaled_X_train\n",
    "        #print(\"selected_X_variable_numbers: \", selected_X_variable_numbers.shape)\n",
    "\n",
    "        selected_autoscaled_X_train = autoscaled_X_train[:, selected_X_variable_numbers]\n",
    "        #print(\"selected_autoscaled_X_train: \", selected_autoscaled_X_train.shape)\n",
    "\n",
    "\n",
    "        if len(selected_X_variable_numbers):\n",
    "            # cross-validation\n",
    "            #print(\"np.linalg.matrix_rank(selected_autoscaled_X_train)\", np.linalg.matrix_rank(selected_autoscaled_X_train))\n",
    "\n",
    "            #print(\"AAAA \", min(np.linalg.matrix_rank(selected_autoscaled_X_train) + 1, max_number_of_components + 1))\n",
    "\n",
    "            pls_components = np.arange(1, min(min(selected_autoscaled_X_train.shape[0],selected_autoscaled_X_train.shape[1]) + 1,\n",
    "                                              max_number_of_components + 1), 1)\n",
    "            #pls_components = np.arange(1, min(np.linalg.matrix_rank(selected_autoscaled_X_train) + 1,\n",
    "            #                                  max_number_of_components + 1), 1)\n",
    "            #print(\"pls components: \", pls_components)\n",
    "\n",
    "            r2_cv_all = []\n",
    "\n",
    "            for pls_component in pls_components:\n",
    "\n",
    "                model_in_cv = PLSRegression(n_components=pls_component)\n",
    "\n",
    "                #print(\"selected_autoscaled_X_train\",selected_autoscaled_X_train)\n",
    "\n",
    "                estimated_y_train_in_cv = np.ndarray.flatten(\n",
    "                    model_selection.cross_val_predict(model_in_cv, selected_autoscaled_X_train, autoscaled_y_train, cv=fold_number))\n",
    "\n",
    "\n",
    "\n",
    "                estimated_y_train_in_cv = estimated_y_train_in_cv * y_train.std(ddof=1) + y_train.mean()\n",
    "                r2_cv_all.append(1 - sum((y_train - estimated_y_train_in_cv) ** 2) / sum((y_train - y_train.mean()) ** 2))\n",
    "            #print(len(r2_cv_all))\n",
    "            #print(\"r2_cv_all: \",r2_cv_all)\n",
    "            \"\"\"\n",
    "            try:\n",
    "                value = np.max(r2_cv_all)\n",
    "            except ValueError:  #raised if `y` is empty.\n",
    "                value = -999\n",
    "                pass\n",
    "            \"\"\"\n",
    "            value = np.max(r2_cv_all)\n",
    "\n",
    "        else:\n",
    "            value = -999\n",
    "\n",
    "        return value,\n",
    "\n",
    "\n",
    "    toolbox.register('evaluate', evalOneMax)\n",
    "    toolbox.register('mate', tools.cxTwoPoint)\n",
    "    toolbox.register('mutate', tools.mutFlipBit, indpb=0.05)\n",
    "    toolbox.register('select', tools.selTournament, tournsize=3)\n",
    "\n",
    "    # random.seed(100)\n",
    "    random.seed()\n",
    "    pop = toolbox.population(n=number_of_population)\n",
    "\n",
    "    print('Start of evolution')\n",
    "\n",
    "    fitnesses = list(map(toolbox.evaluate, pop))\n",
    "    for ind, fit in zip(pop, fitnesses):\n",
    "        ind.fitness.values = fit\n",
    "\n",
    "    print('  Evaluated %i individuals' % len(pop))\n",
    "\n",
    "    for generation in range(number_of_generation):\n",
    "        print('-- Generation {0} --'.format(generation + 1))\n",
    "\n",
    "        offspring = toolbox.select(pop, len(pop))\n",
    "        offspring = list(map(toolbox.clone, offspring))\n",
    "\n",
    "        for child1, child2 in zip(offspring[::2], offspring[1::2]):\n",
    "            if random.random() < probability_of_crossover:\n",
    "                toolbox.mate(child1, child2)\n",
    "                del child1.fitness.values\n",
    "                del child2.fitness.values\n",
    "\n",
    "        for mutant in offspring:\n",
    "            if random.random() < probability_of_mutation:\n",
    "                toolbox.mutate(mutant)\n",
    "                del mutant.fitness.values\n",
    "\n",
    "        invalid_ind = [ind for ind in offspring if not ind.fitness.valid]\n",
    "        fitnesses = map(toolbox.evaluate, invalid_ind)\n",
    "        for ind, fit in zip(invalid_ind, fitnesses):\n",
    "            ind.fitness.values = fit\n",
    "\n",
    "        print('  Evaluated %i individuals' % len(invalid_ind))\n",
    "\n",
    "        pop[:] = offspring\n",
    "        fits = [ind.fitness.values[0] for ind in pop]\n",
    "\n",
    "        length = len(pop)\n",
    "        mean = sum(fits) / length\n",
    "        sum2 = sum(x * x for x in fits)\n",
    "        std = abs(sum2 / length - mean ** 2) ** 0.5\n",
    "\n",
    "        print('  Min %s' % min(fits))\n",
    "        print('  Max %s' % max(fits))\n",
    "        print('  Avg %s' % mean)\n",
    "        print('  Std %s' % std)\n",
    "\n",
    "    print('-- End of (successful) evolution --')\n",
    "\n",
    "    best_individual = tools.selBest(pop, 1)[0]\n",
    "    best_individual_array = np.array(best_individual)\n",
    "    selected_X_variable_numbers = np.where(best_individual_array > threshold_of_variable_selection)[0]\n",
    "    print('Selected variables : %s, %s' % (selected_X_variable_numbers, best_individual.fitness.values))"
   ]
  },
  {
   "cell_type": "code",
   "execution_count": 7,
   "metadata": {},
   "outputs": [],
   "source": [
    "def _calculate_vips(model):\n",
    "    t = model.x_scores_\n",
    "    w = model.x_weights_\n",
    "    q = model.y_loadings_\n",
    "    p, h = w.shape\n",
    "    vips = np.zeros((p,))\n",
    "    s = np.diag(np.matmul(np.matmul(np.matmul(t.T,t),q.T), q)).reshape(h, -1)\n",
    "    total_s = np.sum(s)\n",
    "    for i in range(p):\n",
    "        weight = np.array([ (w[i,j] / np.linalg.norm(w[:,j]))**2 for j in range(h) ])\n",
    "        vips[i] = np.sqrt(p*(np.matmul(s.T, weight))/total_s)\n",
    "    return vips"
   ]
  },
  {
   "cell_type": "code",
   "execution_count": 8,
   "metadata": {},
   "outputs": [
    {
     "data": {
      "text/plain": [
       "\"# Define the PLS regression object\\npls = PLSRegression(n_components=8)\\n# Fit data\\npls.fit(X_train, y_train)\\n# Plot spectra\\nplt.figure(figsize=(8,9))\\nwith plt.style.context(('ggplot')):\\n    ax1 = plt.subplot(211)\\n    plt.plot(wl, X_train.T)\\n    plt.ylabel('First derivative absorbance spectra')\\n    ax2 = plt.subplot(212, sharex=ax1)\\n    plt.plot(wl, np.abs(pls.coef_[:,0])) ###this is the interesting line!!!\\n    plt.xlabel('Wavelength (nm)')\\n    plt.ylabel('Absolute value of PLS coefficients')\\n    plt.show()\\n\""
      ]
     },
     "execution_count": 8,
     "metadata": {},
     "output_type": "execute_result"
    }
   ],
   "source": [
    "\"\"\"# Define the PLS regression object\n",
    "pls = PLSRegression(n_components=8)\n",
    "# Fit data\n",
    "pls.fit(X_train, y_train)\n",
    "# Plot spectra\n",
    "plt.figure(figsize=(8,9))\n",
    "with plt.style.context(('ggplot')):\n",
    "    ax1 = plt.subplot(211)\n",
    "    plt.plot(wl, X_train.T)\n",
    "    plt.ylabel('First derivative absorbance spectra')\n",
    "    ax2 = plt.subplot(212, sharex=ax1)\n",
    "    plt.plot(wl, np.abs(pls.coef_[:,0])) ###this is the interesting line!!!\n",
    "    plt.xlabel('Wavelength (nm)')\n",
    "    plt.ylabel('Absolute value of PLS coefficients')\n",
    "    plt.show()\n",
    "\"\"\""
   ]
  },
  {
   "cell_type": "code",
   "execution_count": null,
   "metadata": {},
   "outputs": [],
   "source": []
  },
  {
   "cell_type": "code",
   "execution_count": null,
   "metadata": {},
   "outputs": [],
   "source": []
  },
  {
   "cell_type": "code",
   "execution_count": null,
   "metadata": {},
   "outputs": [],
   "source": []
  },
  {
   "cell_type": "code",
   "execution_count": null,
   "metadata": {},
   "outputs": [],
   "source": []
  },
  {
   "cell_type": "markdown",
   "metadata": {},
   "source": [
    "# Data loading"
   ]
  },
  {
   "cell_type": "code",
   "execution_count": 9,
   "metadata": {},
   "outputs": [
    {
     "name": "stdout",
     "output_type": "stream",
     "text": [
      "(31, 4094)\n",
      "(4094,)\n",
      "31\n"
     ]
    },
    {
     "data": {
      "text/html": [
       "<div>\n",
       "<style scoped>\n",
       "    .dataframe tbody tr th:only-of-type {\n",
       "        vertical-align: middle;\n",
       "    }\n",
       "\n",
       "    .dataframe tbody tr th {\n",
       "        vertical-align: top;\n",
       "    }\n",
       "\n",
       "    .dataframe thead th {\n",
       "        text-align: right;\n",
       "    }\n",
       "</style>\n",
       "<table border=\"1\" class=\"dataframe\">\n",
       "  <thead>\n",
       "    <tr style=\"text-align: right;\">\n",
       "      <th></th>\n",
       "      <th>188.195100</th>\n",
       "      <th>188.260100</th>\n",
       "      <th>188.325000</th>\n",
       "      <th>188.390000</th>\n",
       "      <th>188.455000</th>\n",
       "      <th>188.520000</th>\n",
       "      <th>188.585000</th>\n",
       "      <th>188.650000</th>\n",
       "      <th>188.714900</th>\n",
       "      <th>188.779900</th>\n",
       "      <th>...</th>\n",
       "      <th>440.300000</th>\n",
       "      <th>440.353000</th>\n",
       "      <th>440.406100</th>\n",
       "      <th>440.459200</th>\n",
       "      <th>440.512300</th>\n",
       "      <th>440.565300</th>\n",
       "      <th>440.618400</th>\n",
       "      <th>440.671400</th>\n",
       "      <th>440.724500</th>\n",
       "      <th>440.777500</th>\n",
       "    </tr>\n",
       "  </thead>\n",
       "  <tbody>\n",
       "    <tr>\n",
       "      <th>0</th>\n",
       "      <td>-69.221869</td>\n",
       "      <td>-158.742833</td>\n",
       "      <td>-119.436366</td>\n",
       "      <td>-188.904643</td>\n",
       "      <td>-63.993252</td>\n",
       "      <td>-185.913809</td>\n",
       "      <td>-68.912441</td>\n",
       "      <td>-71.982774</td>\n",
       "      <td>-49.260124</td>\n",
       "      <td>-111.210412</td>\n",
       "      <td>...</td>\n",
       "      <td>57.987736</td>\n",
       "      <td>-58.837784</td>\n",
       "      <td>60.078744</td>\n",
       "      <td>-58.499735</td>\n",
       "      <td>50.963564</td>\n",
       "      <td>9.325138</td>\n",
       "      <td>48.628583</td>\n",
       "      <td>-25.978052</td>\n",
       "      <td>56.219128</td>\n",
       "      <td>-49.945180</td>\n",
       "    </tr>\n",
       "    <tr>\n",
       "      <th>1</th>\n",
       "      <td>-65.918565</td>\n",
       "      <td>-155.629829</td>\n",
       "      <td>-115.410786</td>\n",
       "      <td>-188.773574</td>\n",
       "      <td>-61.814280</td>\n",
       "      <td>-183.332260</td>\n",
       "      <td>-63.567206</td>\n",
       "      <td>-67.330086</td>\n",
       "      <td>-45.602930</td>\n",
       "      <td>-110.031973</td>\n",
       "      <td>...</td>\n",
       "      <td>57.015086</td>\n",
       "      <td>-44.614609</td>\n",
       "      <td>81.401937</td>\n",
       "      <td>-24.462199</td>\n",
       "      <td>86.909142</td>\n",
       "      <td>29.507515</td>\n",
       "      <td>56.597968</td>\n",
       "      <td>-23.360151</td>\n",
       "      <td>54.799998</td>\n",
       "      <td>-51.003948</td>\n",
       "    </tr>\n",
       "    <tr>\n",
       "      <th>2</th>\n",
       "      <td>-66.099613</td>\n",
       "      <td>-157.373422</td>\n",
       "      <td>-117.842186</td>\n",
       "      <td>-186.255659</td>\n",
       "      <td>-62.889293</td>\n",
       "      <td>-184.760538</td>\n",
       "      <td>-69.228256</td>\n",
       "      <td>-72.855963</td>\n",
       "      <td>-50.517550</td>\n",
       "      <td>-109.723183</td>\n",
       "      <td>...</td>\n",
       "      <td>51.295238</td>\n",
       "      <td>-38.257145</td>\n",
       "      <td>99.672488</td>\n",
       "      <td>7.856212</td>\n",
       "      <td>126.134965</td>\n",
       "      <td>58.828834</td>\n",
       "      <td>86.152177</td>\n",
       "      <td>28.781044</td>\n",
       "      <td>130.722225</td>\n",
       "      <td>34.606180</td>\n",
       "    </tr>\n",
       "    <tr>\n",
       "      <th>3</th>\n",
       "      <td>-64.677878</td>\n",
       "      <td>-154.233229</td>\n",
       "      <td>-115.096784</td>\n",
       "      <td>-184.164324</td>\n",
       "      <td>-59.970211</td>\n",
       "      <td>-183.733947</td>\n",
       "      <td>-66.853524</td>\n",
       "      <td>-70.610525</td>\n",
       "      <td>-48.705597</td>\n",
       "      <td>-106.973534</td>\n",
       "      <td>...</td>\n",
       "      <td>70.344273</td>\n",
       "      <td>6.833239</td>\n",
       "      <td>158.925279</td>\n",
       "      <td>89.783373</td>\n",
       "      <td>212.720167</td>\n",
       "      <td>104.908614</td>\n",
       "      <td>91.584860</td>\n",
       "      <td>1.405229</td>\n",
       "      <td>82.675708</td>\n",
       "      <td>-22.262239</td>\n",
       "    </tr>\n",
       "    <tr>\n",
       "      <th>4</th>\n",
       "      <td>-42.057358</td>\n",
       "      <td>-128.338506</td>\n",
       "      <td>-92.421250</td>\n",
       "      <td>-157.127160</td>\n",
       "      <td>-38.871675</td>\n",
       "      <td>-168.524296</td>\n",
       "      <td>-64.353986</td>\n",
       "      <td>-71.829442</td>\n",
       "      <td>-49.694992</td>\n",
       "      <td>-97.063802</td>\n",
       "      <td>...</td>\n",
       "      <td>65.735997</td>\n",
       "      <td>-15.182984</td>\n",
       "      <td>124.486568</td>\n",
       "      <td>38.564898</td>\n",
       "      <td>161.342291</td>\n",
       "      <td>74.535128</td>\n",
       "      <td>69.869111</td>\n",
       "      <td>-21.924734</td>\n",
       "      <td>55.972500</td>\n",
       "      <td>-55.878599</td>\n",
       "    </tr>\n",
       "    <tr>\n",
       "      <th>5</th>\n",
       "      <td>-42.559352</td>\n",
       "      <td>-128.806762</td>\n",
       "      <td>-93.862528</td>\n",
       "      <td>-160.944227</td>\n",
       "      <td>-40.074908</td>\n",
       "      <td>-167.939000</td>\n",
       "      <td>-62.026407</td>\n",
       "      <td>-67.816945</td>\n",
       "      <td>-46.463337</td>\n",
       "      <td>-97.883434</td>\n",
       "      <td>...</td>\n",
       "      <td>49.860573</td>\n",
       "      <td>-54.591599</td>\n",
       "      <td>67.895710</td>\n",
       "      <td>-44.346086</td>\n",
       "      <td>70.806932</td>\n",
       "      <td>15.151596</td>\n",
       "      <td>42.458800</td>\n",
       "      <td>-37.899700</td>\n",
       "      <td>43.898862</td>\n",
       "      <td>-65.108049</td>\n",
       "    </tr>\n",
       "    <tr>\n",
       "      <th>6</th>\n",
       "      <td>-46.600930</td>\n",
       "      <td>-131.936044</td>\n",
       "      <td>-96.007751</td>\n",
       "      <td>-163.920148</td>\n",
       "      <td>-40.905090</td>\n",
       "      <td>-172.729129</td>\n",
       "      <td>-64.568914</td>\n",
       "      <td>-70.719383</td>\n",
       "      <td>-50.106389</td>\n",
       "      <td>-98.386069</td>\n",
       "      <td>...</td>\n",
       "      <td>64.836896</td>\n",
       "      <td>-1.400873</td>\n",
       "      <td>148.828206</td>\n",
       "      <td>76.637705</td>\n",
       "      <td>211.221637</td>\n",
       "      <td>103.942782</td>\n",
       "      <td>89.391051</td>\n",
       "      <td>4.976541</td>\n",
       "      <td>89.927960</td>\n",
       "      <td>-13.085920</td>\n",
       "    </tr>\n",
       "    <tr>\n",
       "      <th>7</th>\n",
       "      <td>-44.351517</td>\n",
       "      <td>-128.386838</td>\n",
       "      <td>-94.080659</td>\n",
       "      <td>-159.433718</td>\n",
       "      <td>-39.895899</td>\n",
       "      <td>-169.744105</td>\n",
       "      <td>-65.728141</td>\n",
       "      <td>-72.196175</td>\n",
       "      <td>-51.243962</td>\n",
       "      <td>-97.024420</td>\n",
       "      <td>...</td>\n",
       "      <td>55.908894</td>\n",
       "      <td>-52.221276</td>\n",
       "      <td>68.591386</td>\n",
       "      <td>-42.618967</td>\n",
       "      <td>68.689610</td>\n",
       "      <td>19.444365</td>\n",
       "      <td>48.518350</td>\n",
       "      <td>-30.592518</td>\n",
       "      <td>51.197878</td>\n",
       "      <td>-59.143871</td>\n",
       "    </tr>\n",
       "    <tr>\n",
       "      <th>8</th>\n",
       "      <td>-42.553121</td>\n",
       "      <td>-129.333489</td>\n",
       "      <td>-93.232050</td>\n",
       "      <td>-157.068189</td>\n",
       "      <td>-39.735661</td>\n",
       "      <td>-170.282264</td>\n",
       "      <td>-66.426450</td>\n",
       "      <td>-72.554660</td>\n",
       "      <td>-52.577903</td>\n",
       "      <td>-97.059243</td>\n",
       "      <td>...</td>\n",
       "      <td>56.146984</td>\n",
       "      <td>-50.209511</td>\n",
       "      <td>74.266658</td>\n",
       "      <td>-35.492235</td>\n",
       "      <td>74.451395</td>\n",
       "      <td>23.316674</td>\n",
       "      <td>49.373189</td>\n",
       "      <td>-30.672551</td>\n",
       "      <td>51.549971</td>\n",
       "      <td>-62.015022</td>\n",
       "    </tr>\n",
       "    <tr>\n",
       "      <th>9</th>\n",
       "      <td>-41.323356</td>\n",
       "      <td>-128.644632</td>\n",
       "      <td>-92.694780</td>\n",
       "      <td>-157.775441</td>\n",
       "      <td>-38.448815</td>\n",
       "      <td>-169.676162</td>\n",
       "      <td>-63.930477</td>\n",
       "      <td>-69.095551</td>\n",
       "      <td>-48.203060</td>\n",
       "      <td>-95.684913</td>\n",
       "      <td>...</td>\n",
       "      <td>65.382647</td>\n",
       "      <td>0.046046</td>\n",
       "      <td>145.086180</td>\n",
       "      <td>67.958457</td>\n",
       "      <td>201.141755</td>\n",
       "      <td>99.619646</td>\n",
       "      <td>84.394483</td>\n",
       "      <td>-6.468004</td>\n",
       "      <td>73.146034</td>\n",
       "      <td>-35.164809</td>\n",
       "    </tr>\n",
       "    <tr>\n",
       "      <th>10</th>\n",
       "      <td>-46.367951</td>\n",
       "      <td>-133.721168</td>\n",
       "      <td>-96.179816</td>\n",
       "      <td>-163.553262</td>\n",
       "      <td>-43.700926</td>\n",
       "      <td>-171.866675</td>\n",
       "      <td>-64.559553</td>\n",
       "      <td>-71.527150</td>\n",
       "      <td>-50.012263</td>\n",
       "      <td>-99.064929</td>\n",
       "      <td>...</td>\n",
       "      <td>47.518467</td>\n",
       "      <td>-64.467707</td>\n",
       "      <td>56.326725</td>\n",
       "      <td>-54.994930</td>\n",
       "      <td>59.984792</td>\n",
       "      <td>15.053969</td>\n",
       "      <td>49.179587</td>\n",
       "      <td>-19.511623</td>\n",
       "      <td>68.100683</td>\n",
       "      <td>-32.760920</td>\n",
       "    </tr>\n",
       "    <tr>\n",
       "      <th>11</th>\n",
       "      <td>-43.524640</td>\n",
       "      <td>-130.848225</td>\n",
       "      <td>-96.193804</td>\n",
       "      <td>-160.092164</td>\n",
       "      <td>-41.326292</td>\n",
       "      <td>-170.412308</td>\n",
       "      <td>-65.282753</td>\n",
       "      <td>-72.170753</td>\n",
       "      <td>-50.730253</td>\n",
       "      <td>-98.384991</td>\n",
       "      <td>...</td>\n",
       "      <td>53.111790</td>\n",
       "      <td>-62.522253</td>\n",
       "      <td>56.037251</td>\n",
       "      <td>-61.590929</td>\n",
       "      <td>46.987634</td>\n",
       "      <td>6.107255</td>\n",
       "      <td>44.191685</td>\n",
       "      <td>-29.728281</td>\n",
       "      <td>57.196328</td>\n",
       "      <td>-53.294018</td>\n",
       "    </tr>\n",
       "    <tr>\n",
       "      <th>12</th>\n",
       "      <td>-43.072363</td>\n",
       "      <td>-130.782062</td>\n",
       "      <td>-94.717461</td>\n",
       "      <td>-160.513646</td>\n",
       "      <td>-41.713446</td>\n",
       "      <td>-169.963475</td>\n",
       "      <td>-62.343624</td>\n",
       "      <td>-68.773157</td>\n",
       "      <td>-47.614497</td>\n",
       "      <td>-97.510956</td>\n",
       "      <td>...</td>\n",
       "      <td>52.810702</td>\n",
       "      <td>-54.555207</td>\n",
       "      <td>66.141487</td>\n",
       "      <td>-45.549791</td>\n",
       "      <td>66.116429</td>\n",
       "      <td>14.243938</td>\n",
       "      <td>41.710000</td>\n",
       "      <td>-37.197081</td>\n",
       "      <td>42.962561</td>\n",
       "      <td>-66.264945</td>\n",
       "    </tr>\n",
       "    <tr>\n",
       "      <th>13</th>\n",
       "      <td>-44.839446</td>\n",
       "      <td>-131.800076</td>\n",
       "      <td>-95.611345</td>\n",
       "      <td>-160.542097</td>\n",
       "      <td>-42.625045</td>\n",
       "      <td>-173.006694</td>\n",
       "      <td>-66.032696</td>\n",
       "      <td>-73.065770</td>\n",
       "      <td>-53.935204</td>\n",
       "      <td>-98.999446</td>\n",
       "      <td>...</td>\n",
       "      <td>57.189841</td>\n",
       "      <td>-40.155602</td>\n",
       "      <td>85.617013</td>\n",
       "      <td>-19.362866</td>\n",
       "      <td>97.872048</td>\n",
       "      <td>36.977518</td>\n",
       "      <td>53.323387</td>\n",
       "      <td>-31.371992</td>\n",
       "      <td>49.730638</td>\n",
       "      <td>-60.025905</td>\n",
       "    </tr>\n",
       "    <tr>\n",
       "      <th>14</th>\n",
       "      <td>-42.915948</td>\n",
       "      <td>-128.671864</td>\n",
       "      <td>-93.412704</td>\n",
       "      <td>-158.448347</td>\n",
       "      <td>-39.586159</td>\n",
       "      <td>-170.988608</td>\n",
       "      <td>-65.327379</td>\n",
       "      <td>-72.153548</td>\n",
       "      <td>-50.485525</td>\n",
       "      <td>-96.525976</td>\n",
       "      <td>...</td>\n",
       "      <td>63.094678</td>\n",
       "      <td>-37.808780</td>\n",
       "      <td>93.130298</td>\n",
       "      <td>-9.444868</td>\n",
       "      <td>106.244621</td>\n",
       "      <td>40.362920</td>\n",
       "      <td>54.273515</td>\n",
       "      <td>-28.517730</td>\n",
       "      <td>54.014309</td>\n",
       "      <td>-57.701557</td>\n",
       "    </tr>\n",
       "    <tr>\n",
       "      <th>15</th>\n",
       "      <td>-43.122457</td>\n",
       "      <td>-128.920829</td>\n",
       "      <td>-93.893220</td>\n",
       "      <td>-160.523695</td>\n",
       "      <td>-39.629651</td>\n",
       "      <td>-169.860589</td>\n",
       "      <td>-61.836597</td>\n",
       "      <td>-69.834625</td>\n",
       "      <td>-48.027451</td>\n",
       "      <td>-96.929767</td>\n",
       "      <td>...</td>\n",
       "      <td>67.396347</td>\n",
       "      <td>9.046206</td>\n",
       "      <td>158.259762</td>\n",
       "      <td>88.644869</td>\n",
       "      <td>226.717462</td>\n",
       "      <td>115.763086</td>\n",
       "      <td>91.251109</td>\n",
       "      <td>-1.657929</td>\n",
       "      <td>76.196514</td>\n",
       "      <td>-31.424533</td>\n",
       "    </tr>\n",
       "    <tr>\n",
       "      <th>16</th>\n",
       "      <td>-44.383683</td>\n",
       "      <td>-132.152695</td>\n",
       "      <td>-95.945723</td>\n",
       "      <td>-161.269315</td>\n",
       "      <td>-41.861456</td>\n",
       "      <td>-171.296373</td>\n",
       "      <td>-65.886284</td>\n",
       "      <td>-72.650827</td>\n",
       "      <td>-49.799594</td>\n",
       "      <td>-98.345670</td>\n",
       "      <td>...</td>\n",
       "      <td>56.322839</td>\n",
       "      <td>-54.345214</td>\n",
       "      <td>66.294587</td>\n",
       "      <td>-47.703169</td>\n",
       "      <td>66.571999</td>\n",
       "      <td>18.788215</td>\n",
       "      <td>48.155087</td>\n",
       "      <td>-27.480222</td>\n",
       "      <td>55.124644</td>\n",
       "      <td>-51.855642</td>\n",
       "    </tr>\n",
       "    <tr>\n",
       "      <th>17</th>\n",
       "      <td>-45.147266</td>\n",
       "      <td>-131.790596</td>\n",
       "      <td>-96.610305</td>\n",
       "      <td>-161.666207</td>\n",
       "      <td>-40.557988</td>\n",
       "      <td>-172.110794</td>\n",
       "      <td>-65.778603</td>\n",
       "      <td>-73.174898</td>\n",
       "      <td>-51.815003</td>\n",
       "      <td>-96.662092</td>\n",
       "      <td>...</td>\n",
       "      <td>63.984480</td>\n",
       "      <td>-23.982208</td>\n",
       "      <td>110.517350</td>\n",
       "      <td>17.065982</td>\n",
       "      <td>138.562464</td>\n",
       "      <td>58.178577</td>\n",
       "      <td>63.595306</td>\n",
       "      <td>-27.949620</td>\n",
       "      <td>49.893493</td>\n",
       "      <td>-60.386092</td>\n",
       "    </tr>\n",
       "    <tr>\n",
       "      <th>18</th>\n",
       "      <td>-44.354646</td>\n",
       "      <td>-133.462116</td>\n",
       "      <td>-97.336605</td>\n",
       "      <td>-163.188396</td>\n",
       "      <td>-43.258030</td>\n",
       "      <td>-172.233847</td>\n",
       "      <td>-64.404796</td>\n",
       "      <td>-71.710347</td>\n",
       "      <td>-50.182258</td>\n",
       "      <td>-99.741842</td>\n",
       "      <td>...</td>\n",
       "      <td>58.687541</td>\n",
       "      <td>-31.718729</td>\n",
       "      <td>98.938523</td>\n",
       "      <td>3.321934</td>\n",
       "      <td>127.420918</td>\n",
       "      <td>55.050911</td>\n",
       "      <td>66.225531</td>\n",
       "      <td>-12.959910</td>\n",
       "      <td>70.903061</td>\n",
       "      <td>-35.494180</td>\n",
       "    </tr>\n",
       "    <tr>\n",
       "      <th>19</th>\n",
       "      <td>-42.654212</td>\n",
       "      <td>-129.409367</td>\n",
       "      <td>-94.118105</td>\n",
       "      <td>-159.848825</td>\n",
       "      <td>-40.538004</td>\n",
       "      <td>-171.514625</td>\n",
       "      <td>-64.303922</td>\n",
       "      <td>-71.205557</td>\n",
       "      <td>-49.963001</td>\n",
       "      <td>-97.251320</td>\n",
       "      <td>...</td>\n",
       "      <td>48.665771</td>\n",
       "      <td>-58.697176</td>\n",
       "      <td>63.506647</td>\n",
       "      <td>-45.275688</td>\n",
       "      <td>66.656145</td>\n",
       "      <td>17.636838</td>\n",
       "      <td>45.390334</td>\n",
       "      <td>-30.473432</td>\n",
       "      <td>54.311011</td>\n",
       "      <td>-52.306011</td>\n",
       "    </tr>\n",
       "    <tr>\n",
       "      <th>20</th>\n",
       "      <td>-41.963491</td>\n",
       "      <td>-129.061955</td>\n",
       "      <td>-92.835911</td>\n",
       "      <td>-158.963871</td>\n",
       "      <td>-39.355816</td>\n",
       "      <td>-169.765140</td>\n",
       "      <td>-62.379430</td>\n",
       "      <td>-68.776585</td>\n",
       "      <td>-49.185033</td>\n",
       "      <td>-96.076771</td>\n",
       "      <td>...</td>\n",
       "      <td>69.002426</td>\n",
       "      <td>8.437839</td>\n",
       "      <td>158.638732</td>\n",
       "      <td>90.310861</td>\n",
       "      <td>230.247728</td>\n",
       "      <td>118.005312</td>\n",
       "      <td>92.248519</td>\n",
       "      <td>-1.956080</td>\n",
       "      <td>78.829486</td>\n",
       "      <td>-29.438654</td>\n",
       "    </tr>\n",
       "    <tr>\n",
       "      <th>21</th>\n",
       "      <td>-43.709099</td>\n",
       "      <td>-130.799312</td>\n",
       "      <td>-95.830795</td>\n",
       "      <td>-160.807511</td>\n",
       "      <td>-41.417551</td>\n",
       "      <td>-172.352969</td>\n",
       "      <td>-65.852646</td>\n",
       "      <td>-72.206250</td>\n",
       "      <td>-50.277260</td>\n",
       "      <td>-97.610104</td>\n",
       "      <td>...</td>\n",
       "      <td>53.912730</td>\n",
       "      <td>-41.630797</td>\n",
       "      <td>86.516926</td>\n",
       "      <td>-12.967905</td>\n",
       "      <td>108.120270</td>\n",
       "      <td>43.678281</td>\n",
       "      <td>62.424385</td>\n",
       "      <td>-13.434274</td>\n",
       "      <td>74.092781</td>\n",
       "      <td>-31.278577</td>\n",
       "    </tr>\n",
       "    <tr>\n",
       "      <th>22</th>\n",
       "      <td>-44.802595</td>\n",
       "      <td>-131.679098</td>\n",
       "      <td>-96.461123</td>\n",
       "      <td>-161.389947</td>\n",
       "      <td>-41.730097</td>\n",
       "      <td>-173.638543</td>\n",
       "      <td>-66.123996</td>\n",
       "      <td>-72.222781</td>\n",
       "      <td>-51.934882</td>\n",
       "      <td>-98.295168</td>\n",
       "      <td>...</td>\n",
       "      <td>57.276165</td>\n",
       "      <td>-41.525391</td>\n",
       "      <td>85.161416</td>\n",
       "      <td>-17.243352</td>\n",
       "      <td>100.609147</td>\n",
       "      <td>38.577925</td>\n",
       "      <td>55.379554</td>\n",
       "      <td>-28.077536</td>\n",
       "      <td>48.952294</td>\n",
       "      <td>-59.916130</td>\n",
       "    </tr>\n",
       "    <tr>\n",
       "      <th>23</th>\n",
       "      <td>-44.143214</td>\n",
       "      <td>-130.700908</td>\n",
       "      <td>-95.472576</td>\n",
       "      <td>-161.864327</td>\n",
       "      <td>-41.187290</td>\n",
       "      <td>-171.453467</td>\n",
       "      <td>-66.179223</td>\n",
       "      <td>-72.174589</td>\n",
       "      <td>-51.384966</td>\n",
       "      <td>-97.947892</td>\n",
       "      <td>...</td>\n",
       "      <td>56.950694</td>\n",
       "      <td>-48.799465</td>\n",
       "      <td>72.399062</td>\n",
       "      <td>-36.219006</td>\n",
       "      <td>73.987162</td>\n",
       "      <td>24.174772</td>\n",
       "      <td>48.139678</td>\n",
       "      <td>-31.648690</td>\n",
       "      <td>46.690674</td>\n",
       "      <td>-61.300747</td>\n",
       "    </tr>\n",
       "    <tr>\n",
       "      <th>24</th>\n",
       "      <td>-43.512278</td>\n",
       "      <td>-130.211988</td>\n",
       "      <td>-96.177873</td>\n",
       "      <td>-160.883460</td>\n",
       "      <td>-41.346391</td>\n",
       "      <td>-171.438714</td>\n",
       "      <td>-65.217775</td>\n",
       "      <td>-72.193855</td>\n",
       "      <td>-50.290468</td>\n",
       "      <td>-96.984069</td>\n",
       "      <td>...</td>\n",
       "      <td>78.797474</td>\n",
       "      <td>26.771674</td>\n",
       "      <td>182.053206</td>\n",
       "      <td>119.421487</td>\n",
       "      <td>260.514757</td>\n",
       "      <td>137.393316</td>\n",
       "      <td>100.873342</td>\n",
       "      <td>-2.009867</td>\n",
       "      <td>69.786336</td>\n",
       "      <td>-40.648343</td>\n",
       "    </tr>\n",
       "    <tr>\n",
       "      <th>25</th>\n",
       "      <td>-42.962442</td>\n",
       "      <td>-130.615917</td>\n",
       "      <td>-95.338675</td>\n",
       "      <td>-160.608773</td>\n",
       "      <td>-41.496645</td>\n",
       "      <td>-170.809440</td>\n",
       "      <td>-63.422439</td>\n",
       "      <td>-70.477661</td>\n",
       "      <td>-49.221050</td>\n",
       "      <td>-97.301552</td>\n",
       "      <td>...</td>\n",
       "      <td>75.908693</td>\n",
       "      <td>14.547724</td>\n",
       "      <td>162.594358</td>\n",
       "      <td>92.117884</td>\n",
       "      <td>229.097523</td>\n",
       "      <td>117.065611</td>\n",
       "      <td>90.030233</td>\n",
       "      <td>-11.607915</td>\n",
       "      <td>60.525301</td>\n",
       "      <td>-50.148642</td>\n",
       "    </tr>\n",
       "    <tr>\n",
       "      <th>26</th>\n",
       "      <td>-44.973295</td>\n",
       "      <td>-129.786762</td>\n",
       "      <td>-93.975872</td>\n",
       "      <td>-158.000311</td>\n",
       "      <td>-40.518737</td>\n",
       "      <td>-172.246408</td>\n",
       "      <td>-67.739060</td>\n",
       "      <td>-75.018978</td>\n",
       "      <td>-51.952358</td>\n",
       "      <td>-96.942272</td>\n",
       "      <td>...</td>\n",
       "      <td>51.235718</td>\n",
       "      <td>-50.721347</td>\n",
       "      <td>73.036845</td>\n",
       "      <td>-36.289017</td>\n",
       "      <td>80.436575</td>\n",
       "      <td>26.203333</td>\n",
       "      <td>50.596162</td>\n",
       "      <td>-24.789738</td>\n",
       "      <td>59.956439</td>\n",
       "      <td>-47.175600</td>\n",
       "    </tr>\n",
       "    <tr>\n",
       "      <th>27</th>\n",
       "      <td>-42.186507</td>\n",
       "      <td>-128.244414</td>\n",
       "      <td>-91.647544</td>\n",
       "      <td>-158.000988</td>\n",
       "      <td>-39.162065</td>\n",
       "      <td>-170.290004</td>\n",
       "      <td>-64.946578</td>\n",
       "      <td>-71.099928</td>\n",
       "      <td>-48.676154</td>\n",
       "      <td>-96.603905</td>\n",
       "      <td>...</td>\n",
       "      <td>68.060535</td>\n",
       "      <td>-3.732116</td>\n",
       "      <td>138.257378</td>\n",
       "      <td>57.277432</td>\n",
       "      <td>185.970088</td>\n",
       "      <td>89.951912</td>\n",
       "      <td>79.712079</td>\n",
       "      <td>-13.099729</td>\n",
       "      <td>67.340693</td>\n",
       "      <td>-44.146273</td>\n",
       "    </tr>\n",
       "    <tr>\n",
       "      <th>28</th>\n",
       "      <td>-41.424810</td>\n",
       "      <td>-128.706549</td>\n",
       "      <td>-93.878258</td>\n",
       "      <td>-158.244704</td>\n",
       "      <td>-39.854569</td>\n",
       "      <td>-169.452731</td>\n",
       "      <td>-64.284557</td>\n",
       "      <td>-70.721990</td>\n",
       "      <td>-49.547880</td>\n",
       "      <td>-96.066009</td>\n",
       "      <td>...</td>\n",
       "      <td>48.807648</td>\n",
       "      <td>-62.217110</td>\n",
       "      <td>58.867191</td>\n",
       "      <td>-56.748602</td>\n",
       "      <td>53.559659</td>\n",
       "      <td>5.926347</td>\n",
       "      <td>38.464411</td>\n",
       "      <td>-39.202001</td>\n",
       "      <td>42.676866</td>\n",
       "      <td>-65.737352</td>\n",
       "    </tr>\n",
       "    <tr>\n",
       "      <th>29</th>\n",
       "      <td>-44.558939</td>\n",
       "      <td>-131.794742</td>\n",
       "      <td>-96.114594</td>\n",
       "      <td>-161.053353</td>\n",
       "      <td>-42.533650</td>\n",
       "      <td>-171.680594</td>\n",
       "      <td>-66.454063</td>\n",
       "      <td>-71.903709</td>\n",
       "      <td>-50.396280</td>\n",
       "      <td>-97.713039</td>\n",
       "      <td>...</td>\n",
       "      <td>53.142443</td>\n",
       "      <td>-57.971298</td>\n",
       "      <td>63.026703</td>\n",
       "      <td>-49.892205</td>\n",
       "      <td>61.931005</td>\n",
       "      <td>15.355934</td>\n",
       "      <td>48.055935</td>\n",
       "      <td>-25.419803</td>\n",
       "      <td>58.727192</td>\n",
       "      <td>-50.286271</td>\n",
       "    </tr>\n",
       "    <tr>\n",
       "      <th>30</th>\n",
       "      <td>-41.001750</td>\n",
       "      <td>-126.887583</td>\n",
       "      <td>-92.590419</td>\n",
       "      <td>-157.707266</td>\n",
       "      <td>-37.898732</td>\n",
       "      <td>-169.459420</td>\n",
       "      <td>-62.613203</td>\n",
       "      <td>-68.935669</td>\n",
       "      <td>-48.221093</td>\n",
       "      <td>-95.347460</td>\n",
       "      <td>...</td>\n",
       "      <td>68.855676</td>\n",
       "      <td>12.096665</td>\n",
       "      <td>164.773058</td>\n",
       "      <td>98.186614</td>\n",
       "      <td>238.034940</td>\n",
       "      <td>121.621089</td>\n",
       "      <td>93.923003</td>\n",
       "      <td>-1.379237</td>\n",
       "      <td>80.649476</td>\n",
       "      <td>-28.550234</td>\n",
       "    </tr>\n",
       "  </tbody>\n",
       "</table>\n",
       "<p>31 rows × 4094 columns</p>\n",
       "</div>"
      ],
      "text/plain": [
       "    188.195100  188.260100  188.325000  188.390000  188.455000  188.520000  \\\n",
       "0   -69.221869 -158.742833 -119.436366 -188.904643  -63.993252 -185.913809   \n",
       "1   -65.918565 -155.629829 -115.410786 -188.773574  -61.814280 -183.332260   \n",
       "2   -66.099613 -157.373422 -117.842186 -186.255659  -62.889293 -184.760538   \n",
       "3   -64.677878 -154.233229 -115.096784 -184.164324  -59.970211 -183.733947   \n",
       "4   -42.057358 -128.338506  -92.421250 -157.127160  -38.871675 -168.524296   \n",
       "5   -42.559352 -128.806762  -93.862528 -160.944227  -40.074908 -167.939000   \n",
       "6   -46.600930 -131.936044  -96.007751 -163.920148  -40.905090 -172.729129   \n",
       "7   -44.351517 -128.386838  -94.080659 -159.433718  -39.895899 -169.744105   \n",
       "8   -42.553121 -129.333489  -93.232050 -157.068189  -39.735661 -170.282264   \n",
       "9   -41.323356 -128.644632  -92.694780 -157.775441  -38.448815 -169.676162   \n",
       "10  -46.367951 -133.721168  -96.179816 -163.553262  -43.700926 -171.866675   \n",
       "11  -43.524640 -130.848225  -96.193804 -160.092164  -41.326292 -170.412308   \n",
       "12  -43.072363 -130.782062  -94.717461 -160.513646  -41.713446 -169.963475   \n",
       "13  -44.839446 -131.800076  -95.611345 -160.542097  -42.625045 -173.006694   \n",
       "14  -42.915948 -128.671864  -93.412704 -158.448347  -39.586159 -170.988608   \n",
       "15  -43.122457 -128.920829  -93.893220 -160.523695  -39.629651 -169.860589   \n",
       "16  -44.383683 -132.152695  -95.945723 -161.269315  -41.861456 -171.296373   \n",
       "17  -45.147266 -131.790596  -96.610305 -161.666207  -40.557988 -172.110794   \n",
       "18  -44.354646 -133.462116  -97.336605 -163.188396  -43.258030 -172.233847   \n",
       "19  -42.654212 -129.409367  -94.118105 -159.848825  -40.538004 -171.514625   \n",
       "20  -41.963491 -129.061955  -92.835911 -158.963871  -39.355816 -169.765140   \n",
       "21  -43.709099 -130.799312  -95.830795 -160.807511  -41.417551 -172.352969   \n",
       "22  -44.802595 -131.679098  -96.461123 -161.389947  -41.730097 -173.638543   \n",
       "23  -44.143214 -130.700908  -95.472576 -161.864327  -41.187290 -171.453467   \n",
       "24  -43.512278 -130.211988  -96.177873 -160.883460  -41.346391 -171.438714   \n",
       "25  -42.962442 -130.615917  -95.338675 -160.608773  -41.496645 -170.809440   \n",
       "26  -44.973295 -129.786762  -93.975872 -158.000311  -40.518737 -172.246408   \n",
       "27  -42.186507 -128.244414  -91.647544 -158.000988  -39.162065 -170.290004   \n",
       "28  -41.424810 -128.706549  -93.878258 -158.244704  -39.854569 -169.452731   \n",
       "29  -44.558939 -131.794742  -96.114594 -161.053353  -42.533650 -171.680594   \n",
       "30  -41.001750 -126.887583  -92.590419 -157.707266  -37.898732 -169.459420   \n",
       "\n",
       "    188.585000  188.650000  188.714900  188.779900  ...  440.300000  \\\n",
       "0   -68.912441  -71.982774  -49.260124 -111.210412  ...   57.987736   \n",
       "1   -63.567206  -67.330086  -45.602930 -110.031973  ...   57.015086   \n",
       "2   -69.228256  -72.855963  -50.517550 -109.723183  ...   51.295238   \n",
       "3   -66.853524  -70.610525  -48.705597 -106.973534  ...   70.344273   \n",
       "4   -64.353986  -71.829442  -49.694992  -97.063802  ...   65.735997   \n",
       "5   -62.026407  -67.816945  -46.463337  -97.883434  ...   49.860573   \n",
       "6   -64.568914  -70.719383  -50.106389  -98.386069  ...   64.836896   \n",
       "7   -65.728141  -72.196175  -51.243962  -97.024420  ...   55.908894   \n",
       "8   -66.426450  -72.554660  -52.577903  -97.059243  ...   56.146984   \n",
       "9   -63.930477  -69.095551  -48.203060  -95.684913  ...   65.382647   \n",
       "10  -64.559553  -71.527150  -50.012263  -99.064929  ...   47.518467   \n",
       "11  -65.282753  -72.170753  -50.730253  -98.384991  ...   53.111790   \n",
       "12  -62.343624  -68.773157  -47.614497  -97.510956  ...   52.810702   \n",
       "13  -66.032696  -73.065770  -53.935204  -98.999446  ...   57.189841   \n",
       "14  -65.327379  -72.153548  -50.485525  -96.525976  ...   63.094678   \n",
       "15  -61.836597  -69.834625  -48.027451  -96.929767  ...   67.396347   \n",
       "16  -65.886284  -72.650827  -49.799594  -98.345670  ...   56.322839   \n",
       "17  -65.778603  -73.174898  -51.815003  -96.662092  ...   63.984480   \n",
       "18  -64.404796  -71.710347  -50.182258  -99.741842  ...   58.687541   \n",
       "19  -64.303922  -71.205557  -49.963001  -97.251320  ...   48.665771   \n",
       "20  -62.379430  -68.776585  -49.185033  -96.076771  ...   69.002426   \n",
       "21  -65.852646  -72.206250  -50.277260  -97.610104  ...   53.912730   \n",
       "22  -66.123996  -72.222781  -51.934882  -98.295168  ...   57.276165   \n",
       "23  -66.179223  -72.174589  -51.384966  -97.947892  ...   56.950694   \n",
       "24  -65.217775  -72.193855  -50.290468  -96.984069  ...   78.797474   \n",
       "25  -63.422439  -70.477661  -49.221050  -97.301552  ...   75.908693   \n",
       "26  -67.739060  -75.018978  -51.952358  -96.942272  ...   51.235718   \n",
       "27  -64.946578  -71.099928  -48.676154  -96.603905  ...   68.060535   \n",
       "28  -64.284557  -70.721990  -49.547880  -96.066009  ...   48.807648   \n",
       "29  -66.454063  -71.903709  -50.396280  -97.713039  ...   53.142443   \n",
       "30  -62.613203  -68.935669  -48.221093  -95.347460  ...   68.855676   \n",
       "\n",
       "    440.353000  440.406100  440.459200  440.512300  440.565300  440.618400  \\\n",
       "0   -58.837784   60.078744  -58.499735   50.963564    9.325138   48.628583   \n",
       "1   -44.614609   81.401937  -24.462199   86.909142   29.507515   56.597968   \n",
       "2   -38.257145   99.672488    7.856212  126.134965   58.828834   86.152177   \n",
       "3     6.833239  158.925279   89.783373  212.720167  104.908614   91.584860   \n",
       "4   -15.182984  124.486568   38.564898  161.342291   74.535128   69.869111   \n",
       "5   -54.591599   67.895710  -44.346086   70.806932   15.151596   42.458800   \n",
       "6    -1.400873  148.828206   76.637705  211.221637  103.942782   89.391051   \n",
       "7   -52.221276   68.591386  -42.618967   68.689610   19.444365   48.518350   \n",
       "8   -50.209511   74.266658  -35.492235   74.451395   23.316674   49.373189   \n",
       "9     0.046046  145.086180   67.958457  201.141755   99.619646   84.394483   \n",
       "10  -64.467707   56.326725  -54.994930   59.984792   15.053969   49.179587   \n",
       "11  -62.522253   56.037251  -61.590929   46.987634    6.107255   44.191685   \n",
       "12  -54.555207   66.141487  -45.549791   66.116429   14.243938   41.710000   \n",
       "13  -40.155602   85.617013  -19.362866   97.872048   36.977518   53.323387   \n",
       "14  -37.808780   93.130298   -9.444868  106.244621   40.362920   54.273515   \n",
       "15    9.046206  158.259762   88.644869  226.717462  115.763086   91.251109   \n",
       "16  -54.345214   66.294587  -47.703169   66.571999   18.788215   48.155087   \n",
       "17  -23.982208  110.517350   17.065982  138.562464   58.178577   63.595306   \n",
       "18  -31.718729   98.938523    3.321934  127.420918   55.050911   66.225531   \n",
       "19  -58.697176   63.506647  -45.275688   66.656145   17.636838   45.390334   \n",
       "20    8.437839  158.638732   90.310861  230.247728  118.005312   92.248519   \n",
       "21  -41.630797   86.516926  -12.967905  108.120270   43.678281   62.424385   \n",
       "22  -41.525391   85.161416  -17.243352  100.609147   38.577925   55.379554   \n",
       "23  -48.799465   72.399062  -36.219006   73.987162   24.174772   48.139678   \n",
       "24   26.771674  182.053206  119.421487  260.514757  137.393316  100.873342   \n",
       "25   14.547724  162.594358   92.117884  229.097523  117.065611   90.030233   \n",
       "26  -50.721347   73.036845  -36.289017   80.436575   26.203333   50.596162   \n",
       "27   -3.732116  138.257378   57.277432  185.970088   89.951912   79.712079   \n",
       "28  -62.217110   58.867191  -56.748602   53.559659    5.926347   38.464411   \n",
       "29  -57.971298   63.026703  -49.892205   61.931005   15.355934   48.055935   \n",
       "30   12.096665  164.773058   98.186614  238.034940  121.621089   93.923003   \n",
       "\n",
       "    440.671400  440.724500  440.777500  \n",
       "0   -25.978052   56.219128  -49.945180  \n",
       "1   -23.360151   54.799998  -51.003948  \n",
       "2    28.781044  130.722225   34.606180  \n",
       "3     1.405229   82.675708  -22.262239  \n",
       "4   -21.924734   55.972500  -55.878599  \n",
       "5   -37.899700   43.898862  -65.108049  \n",
       "6     4.976541   89.927960  -13.085920  \n",
       "7   -30.592518   51.197878  -59.143871  \n",
       "8   -30.672551   51.549971  -62.015022  \n",
       "9    -6.468004   73.146034  -35.164809  \n",
       "10  -19.511623   68.100683  -32.760920  \n",
       "11  -29.728281   57.196328  -53.294018  \n",
       "12  -37.197081   42.962561  -66.264945  \n",
       "13  -31.371992   49.730638  -60.025905  \n",
       "14  -28.517730   54.014309  -57.701557  \n",
       "15   -1.657929   76.196514  -31.424533  \n",
       "16  -27.480222   55.124644  -51.855642  \n",
       "17  -27.949620   49.893493  -60.386092  \n",
       "18  -12.959910   70.903061  -35.494180  \n",
       "19  -30.473432   54.311011  -52.306011  \n",
       "20   -1.956080   78.829486  -29.438654  \n",
       "21  -13.434274   74.092781  -31.278577  \n",
       "22  -28.077536   48.952294  -59.916130  \n",
       "23  -31.648690   46.690674  -61.300747  \n",
       "24   -2.009867   69.786336  -40.648343  \n",
       "25  -11.607915   60.525301  -50.148642  \n",
       "26  -24.789738   59.956439  -47.175600  \n",
       "27  -13.099729   67.340693  -44.146273  \n",
       "28  -39.202001   42.676866  -65.737352  \n",
       "29  -25.419803   58.727192  -50.286271  \n",
       "30   -1.379237   80.649476  -28.550234  \n",
       "\n",
       "[31 rows x 4094 columns]"
      ]
     },
     "execution_count": 9,
     "metadata": {},
     "output_type": "execute_result"
    }
   ],
   "source": [
    "x_df = pd.read_csv('./avg_basic_noPure.csv', sep = ',')\n",
    "#x_df = pd.read_csv('./avg_snv_noPure.csv', sep = ',')\n",
    "#x_df = pd.read_csv('./avg_norm_noPure.csv', sep = ',')\n",
    "#x_df = pd.read_csv('./avg_sum_noPure.csv', sep = ',')\n",
    "#x_df = pd.read_csv('./avg_max_noPure.csv', sep = ',')\n",
    "\n",
    "\n",
    "\n",
    "\n",
    "\n",
    "x_df= x_df.drop(columns=['Measurement'])\n",
    "values = x_df.values\n",
    "#wl=x_df.columns.values\n",
    "#print(wl.shape)\n",
    "\n",
    "#print(values)\n",
    "#print(type(values))\n",
    "print(values.shape)\n",
    "print(values[1].shape)\n",
    "print(len(values))\n",
    "x_df"
   ]
  },
  {
   "cell_type": "code",
   "execution_count": 10,
   "metadata": {},
   "outputs": [
    {
     "name": "stdout",
     "output_type": "stream",
     "text": [
      "[[188.1951]\n",
      " [188.2601]\n",
      " [188.325 ]\n",
      " ...\n",
      " [440.6714]\n",
      " [440.7245]\n",
      " [440.7775]]\n",
      "wl shape:  (4094, 1)\n"
     ]
    },
    {
     "data": {
      "image/png": "[encoded data removed]",
      "text/plain": [
       "<Figure size 432x288 with 1 Axes>"
      ]
     },
     "metadata": {
      "needs_background": "light"
     },
     "output_type": "display_data"
    }
   ],
   "source": [
    "#This is just for visualizing the various plots of the samples\n",
    "\n",
    "\n",
    "mat = scipy.io.loadmat(\"./data/002_29-Granges6958-v-335_200Hz_QS295_trig1435_int0.1.mat\")\n",
    "wl= mat[\"wl\"]\n",
    "print(wl)\n",
    "print(\"wl shape: \", wl.shape)\n",
    "\n",
    "for i in range(len(values)):\n",
    "    plt.plot(wl, values[i])\n",
    "    #plt.show() #comment this one to have unique plot instead of multiple ones\n",
    "#range(len(dfs))\n",
    "#\"\"\"\n"
   ]
  },
  {
   "cell_type": "code",
   "execution_count": 11,
   "metadata": {},
   "outputs": [
    {
     "name": "stdout",
     "output_type": "stream",
     "text": [
      "[188.1951]\n",
      "[440.7775]\n"
     ]
    }
   ],
   "source": [
    "print(wl[0])\n",
    "print(wl[-1])"
   ]
  },
  {
   "cell_type": "code",
   "execution_count": 12,
   "metadata": {
    "scrolled": true
   },
   "outputs": [
    {
     "name": "stdout",
     "output_type": "stream",
     "text": [
      "<class 'pandas.core.frame.DataFrame'>\n",
      "(31, 14)\n"
     ]
    },
    {
     "data": {
      "text/html": [
       "<div>\n",
       "<style scoped>\n",
       "    .dataframe tbody tr th:only-of-type {\n",
       "        vertical-align: middle;\n",
       "    }\n",
       "\n",
       "    .dataframe tbody tr th {\n",
       "        vertical-align: top;\n",
       "    }\n",
       "\n",
       "    .dataframe thead th {\n",
       "        text-align: right;\n",
       "    }\n",
       "</style>\n",
       "<table border=\"1\" class=\"dataframe\">\n",
       "  <thead>\n",
       "    <tr style=\"text-align: right;\">\n",
       "      <th></th>\n",
       "      <th>Measurement</th>\n",
       "      <th>Reference material</th>\n",
       "      <th>Si</th>\n",
       "      <th>Fe</th>\n",
       "      <th>Mg</th>\n",
       "      <th>Ti</th>\n",
       "      <th>Ni</th>\n",
       "      <th>Zn</th>\n",
       "      <th>Cu</th>\n",
       "      <th>Mn</th>\n",
       "      <th>Pb</th>\n",
       "      <th>Sn</th>\n",
       "      <th>Cr</th>\n",
       "      <th>Al (100-summa)</th>\n",
       "    </tr>\n",
       "  </thead>\n",
       "  <tbody>\n",
       "    <tr>\n",
       "      <th>0</th>\n",
       "      <td>1</td>\n",
       "      <td>Pech. 68451</td>\n",
       "      <td>0.070</td>\n",
       "      <td>0.100</td>\n",
       "      <td>0.4100</td>\n",
       "      <td>0.0400</td>\n",
       "      <td>0.0400</td>\n",
       "      <td>0.180</td>\n",
       "      <td>0.060</td>\n",
       "      <td>1.4500</td>\n",
       "      <td>0.0000</td>\n",
       "      <td>0.0000</td>\n",
       "      <td>0.0000</td>\n",
       "      <td>97.6</td>\n",
       "    </tr>\n",
       "    <tr>\n",
       "      <th>1</th>\n",
       "      <td>2</td>\n",
       "      <td>Gränges al 6958-v-335</td>\n",
       "      <td>0.180</td>\n",
       "      <td>0.350</td>\n",
       "      <td>2.0300</td>\n",
       "      <td>0.0600</td>\n",
       "      <td>0.0000</td>\n",
       "      <td>6.080</td>\n",
       "      <td>1.350</td>\n",
       "      <td>0.4500</td>\n",
       "      <td>0.0000</td>\n",
       "      <td>0.0000</td>\n",
       "      <td>0.1000</td>\n",
       "      <td>89.4</td>\n",
       "    </tr>\n",
       "    <tr>\n",
       "      <th>2</th>\n",
       "      <td>3</td>\n",
       "      <td>4343-AA</td>\n",
       "      <td>7.460</td>\n",
       "      <td>0.530</td>\n",
       "      <td>0.0360</td>\n",
       "      <td>0.0450</td>\n",
       "      <td>0.0310</td>\n",
       "      <td>0.140</td>\n",
       "      <td>0.150</td>\n",
       "      <td>0.1000</td>\n",
       "      <td>0.0000</td>\n",
       "      <td>0.0000</td>\n",
       "      <td>0.0000</td>\n",
       "      <td>91.4</td>\n",
       "    </tr>\n",
       "    <tr>\n",
       "      <th>3</th>\n",
       "      <td>4</td>\n",
       "      <td>NIST1256 (values for 1256b)</td>\n",
       "      <td>9.362</td>\n",
       "      <td>0.865</td>\n",
       "      <td>0.0637</td>\n",
       "      <td>0.0868</td>\n",
       "      <td>0.4135</td>\n",
       "      <td>1.011</td>\n",
       "      <td>3.478</td>\n",
       "      <td>0.3857</td>\n",
       "      <td>0.1075</td>\n",
       "      <td>0.0091</td>\n",
       "      <td>0.0572</td>\n",
       "      <td>84.2</td>\n",
       "    </tr>\n",
       "    <tr>\n",
       "      <th>4</th>\n",
       "      <td>10</td>\n",
       "      <td>Pech. 1206</td>\n",
       "      <td>3.000</td>\n",
       "      <td>0.795</td>\n",
       "      <td>0.5700</td>\n",
       "      <td>0.0930</td>\n",
       "      <td>0.3010</td>\n",
       "      <td>0.154</td>\n",
       "      <td>4.290</td>\n",
       "      <td>0.0370</td>\n",
       "      <td>0.1000</td>\n",
       "      <td>0.2000</td>\n",
       "      <td>0.0000</td>\n",
       "      <td>90.5</td>\n",
       "    </tr>\n",
       "    <tr>\n",
       "      <th>5</th>\n",
       "      <td>11</td>\n",
       "      <td>Gränges al 6958-v-331</td>\n",
       "      <td>0.120</td>\n",
       "      <td>0.300</td>\n",
       "      <td>3.0400</td>\n",
       "      <td>0.0290</td>\n",
       "      <td>0.0000</td>\n",
       "      <td>4.930</td>\n",
       "      <td>1.850</td>\n",
       "      <td>0.0600</td>\n",
       "      <td>0.0000</td>\n",
       "      <td>0.0000</td>\n",
       "      <td>0.4000</td>\n",
       "      <td>89.3</td>\n",
       "    </tr>\n",
       "    <tr>\n",
       "      <th>6</th>\n",
       "      <td>12</td>\n",
       "      <td>NIST 1255a</td>\n",
       "      <td>7.220</td>\n",
       "      <td>0.140</td>\n",
       "      <td>0.3600</td>\n",
       "      <td>0.1540</td>\n",
       "      <td>0.0180</td>\n",
       "      <td>0.084</td>\n",
       "      <td>0.120</td>\n",
       "      <td>0.0530</td>\n",
       "      <td>0.0000</td>\n",
       "      <td>0.0000</td>\n",
       "      <td>0.0000</td>\n",
       "      <td>91.8</td>\n",
       "    </tr>\n",
       "    <tr>\n",
       "      <th>7</th>\n",
       "      <td>14</td>\n",
       "      <td>NBS 1258</td>\n",
       "      <td>0.780</td>\n",
       "      <td>0.079</td>\n",
       "      <td>0.9800</td>\n",
       "      <td>0.0000</td>\n",
       "      <td>0.0010</td>\n",
       "      <td>1.030</td>\n",
       "      <td>0.840</td>\n",
       "      <td>0.4800</td>\n",
       "      <td>0.0000</td>\n",
       "      <td>0.0000</td>\n",
       "      <td>0.0000</td>\n",
       "      <td>95.8</td>\n",
       "    </tr>\n",
       "    <tr>\n",
       "      <th>8</th>\n",
       "      <td>15</td>\n",
       "      <td>O 2:3</td>\n",
       "      <td>6.160</td>\n",
       "      <td>0.000</td>\n",
       "      <td>0.3630</td>\n",
       "      <td>0.0080</td>\n",
       "      <td>0.0000</td>\n",
       "      <td>0.000</td>\n",
       "      <td>0.006</td>\n",
       "      <td>0.2060</td>\n",
       "      <td>0.0000</td>\n",
       "      <td>0.0000</td>\n",
       "      <td>0.0000</td>\n",
       "      <td>93.3</td>\n",
       "    </tr>\n",
       "    <tr>\n",
       "      <th>9</th>\n",
       "      <td>16</td>\n",
       "      <td>NIST1256 (values for 1256b)</td>\n",
       "      <td>9.362</td>\n",
       "      <td>0.865</td>\n",
       "      <td>0.0637</td>\n",
       "      <td>0.0868</td>\n",
       "      <td>0.4135</td>\n",
       "      <td>1.011</td>\n",
       "      <td>3.478</td>\n",
       "      <td>0.3857</td>\n",
       "      <td>0.1075</td>\n",
       "      <td>0.0091</td>\n",
       "      <td>0.0572</td>\n",
       "      <td>84.2</td>\n",
       "    </tr>\n",
       "    <tr>\n",
       "      <th>10</th>\n",
       "      <td>17</td>\n",
       "      <td>NBS 1241a</td>\n",
       "      <td>0.160</td>\n",
       "      <td>0.200</td>\n",
       "      <td>4.5400</td>\n",
       "      <td>0.0320</td>\n",
       "      <td>0.0200</td>\n",
       "      <td>0.052</td>\n",
       "      <td>0.050</td>\n",
       "      <td>0.3800</td>\n",
       "      <td>0.0000</td>\n",
       "      <td>0.0000</td>\n",
       "      <td>0.0000</td>\n",
       "      <td>94.5</td>\n",
       "    </tr>\n",
       "    <tr>\n",
       "      <th>11</th>\n",
       "      <td>18</td>\n",
       "      <td>J 2:3</td>\n",
       "      <td>6.120</td>\n",
       "      <td>0.000</td>\n",
       "      <td>0.3200</td>\n",
       "      <td>0.0030</td>\n",
       "      <td>0.0000</td>\n",
       "      <td>0.000</td>\n",
       "      <td>0.005</td>\n",
       "      <td>0.0160</td>\n",
       "      <td>0.0000</td>\n",
       "      <td>0.0000</td>\n",
       "      <td>0.0000</td>\n",
       "      <td>93.5</td>\n",
       "    </tr>\n",
       "    <tr>\n",
       "      <th>12</th>\n",
       "      <td>19</td>\n",
       "      <td>Gränges al  6958-v-337</td>\n",
       "      <td>0.350</td>\n",
       "      <td>0.270</td>\n",
       "      <td>2.7800</td>\n",
       "      <td>0.0700</td>\n",
       "      <td>0.0000</td>\n",
       "      <td>5.370</td>\n",
       "      <td>1.600</td>\n",
       "      <td>0.2900</td>\n",
       "      <td>0.0000</td>\n",
       "      <td>0.0000</td>\n",
       "      <td>0.2000</td>\n",
       "      <td>89.1</td>\n",
       "    </tr>\n",
       "    <tr>\n",
       "      <th>13</th>\n",
       "      <td>20</td>\n",
       "      <td>Pech. 68454</td>\n",
       "      <td>0.260</td>\n",
       "      <td>0.420</td>\n",
       "      <td>1.2600</td>\n",
       "      <td>0.0100</td>\n",
       "      <td>0.0100</td>\n",
       "      <td>0.020</td>\n",
       "      <td>0.004</td>\n",
       "      <td>1.1600</td>\n",
       "      <td>0.0000</td>\n",
       "      <td>0.0000</td>\n",
       "      <td>0.0000</td>\n",
       "      <td>96.8</td>\n",
       "    </tr>\n",
       "    <tr>\n",
       "      <th>14</th>\n",
       "      <td>21</td>\n",
       "      <td>Pech. 1010</td>\n",
       "      <td>8.750</td>\n",
       "      <td>0.460</td>\n",
       "      <td>1.7100</td>\n",
       "      <td>0.1360</td>\n",
       "      <td>1.5100</td>\n",
       "      <td>0.029</td>\n",
       "      <td>2.000</td>\n",
       "      <td>0.0560</td>\n",
       "      <td>0.0000</td>\n",
       "      <td>0.0000</td>\n",
       "      <td>0.0000</td>\n",
       "      <td>85.3</td>\n",
       "    </tr>\n",
       "    <tr>\n",
       "      <th>15</th>\n",
       "      <td>22</td>\n",
       "      <td>NIST1256 (values for 1256b)</td>\n",
       "      <td>9.362</td>\n",
       "      <td>0.865</td>\n",
       "      <td>0.0637</td>\n",
       "      <td>0.0868</td>\n",
       "      <td>0.4135</td>\n",
       "      <td>1.011</td>\n",
       "      <td>3.478</td>\n",
       "      <td>0.3857</td>\n",
       "      <td>0.1075</td>\n",
       "      <td>0.0091</td>\n",
       "      <td>0.0572</td>\n",
       "      <td>84.2</td>\n",
       "    </tr>\n",
       "    <tr>\n",
       "      <th>16</th>\n",
       "      <td>24</td>\n",
       "      <td>HIT 6063</td>\n",
       "      <td>0.530</td>\n",
       "      <td>0.230</td>\n",
       "      <td>0.7700</td>\n",
       "      <td>0.0110</td>\n",
       "      <td>0.0040</td>\n",
       "      <td>0.031</td>\n",
       "      <td>0.006</td>\n",
       "      <td>0.0240</td>\n",
       "      <td>0.0000</td>\n",
       "      <td>0.0000</td>\n",
       "      <td>0.0000</td>\n",
       "      <td>98.4</td>\n",
       "    </tr>\n",
       "    <tr>\n",
       "      <th>17</th>\n",
       "      <td>26</td>\n",
       "      <td>Pech. 68453</td>\n",
       "      <td>0.360</td>\n",
       "      <td>0.600</td>\n",
       "      <td>1.1000</td>\n",
       "      <td>0.1500</td>\n",
       "      <td>0.0100</td>\n",
       "      <td>0.070</td>\n",
       "      <td>0.200</td>\n",
       "      <td>0.8300</td>\n",
       "      <td>0.0000</td>\n",
       "      <td>0.0000</td>\n",
       "      <td>0.1000</td>\n",
       "      <td>96.6</td>\n",
       "    </tr>\n",
       "    <tr>\n",
       "      <th>18</th>\n",
       "      <td>27</td>\n",
       "      <td>NBS 1240</td>\n",
       "      <td>0.180</td>\n",
       "      <td>0.500</td>\n",
       "      <td>1.1100</td>\n",
       "      <td>0.0220</td>\n",
       "      <td>0.0040</td>\n",
       "      <td>0.052</td>\n",
       "      <td>0.150</td>\n",
       "      <td>1.2600</td>\n",
       "      <td>0.0000</td>\n",
       "      <td>0.0000</td>\n",
       "      <td>0.0000</td>\n",
       "      <td>96.7</td>\n",
       "    </tr>\n",
       "    <tr>\n",
       "      <th>19</th>\n",
       "      <td>29</td>\n",
       "      <td>NIST 1259 (PT)</td>\n",
       "      <td>0.180</td>\n",
       "      <td>0.205</td>\n",
       "      <td>2.4800</td>\n",
       "      <td>0.0000</td>\n",
       "      <td>0.0000</td>\n",
       "      <td>5.440</td>\n",
       "      <td>1.600</td>\n",
       "      <td>0.0790</td>\n",
       "      <td>0.0000</td>\n",
       "      <td>0.0000</td>\n",
       "      <td>0.2000</td>\n",
       "      <td>89.8</td>\n",
       "    </tr>\n",
       "    <tr>\n",
       "      <th>20</th>\n",
       "      <td>30</td>\n",
       "      <td>NIST1256 (values for 1256b)</td>\n",
       "      <td>9.362</td>\n",
       "      <td>0.865</td>\n",
       "      <td>0.0637</td>\n",
       "      <td>0.0868</td>\n",
       "      <td>0.4135</td>\n",
       "      <td>1.011</td>\n",
       "      <td>3.478</td>\n",
       "      <td>0.3857</td>\n",
       "      <td>0.1075</td>\n",
       "      <td>0.0091</td>\n",
       "      <td>0.0572</td>\n",
       "      <td>84.2</td>\n",
       "    </tr>\n",
       "    <tr>\n",
       "      <th>21</th>\n",
       "      <td>31</td>\n",
       "      <td>160-DO (PT)</td>\n",
       "      <td>12.530</td>\n",
       "      <td>0.310</td>\n",
       "      <td>0.0250</td>\n",
       "      <td>0.0510</td>\n",
       "      <td>0.0350</td>\n",
       "      <td>0.050</td>\n",
       "      <td>0.056</td>\n",
       "      <td>0.0330</td>\n",
       "      <td>0.0000</td>\n",
       "      <td>0.0000</td>\n",
       "      <td>0.0000</td>\n",
       "      <td>86.8</td>\n",
       "    </tr>\n",
       "    <tr>\n",
       "      <th>22</th>\n",
       "      <td>32</td>\n",
       "      <td>O 3:3</td>\n",
       "      <td>9.500</td>\n",
       "      <td>0.000</td>\n",
       "      <td>0.3910</td>\n",
       "      <td>0.0140</td>\n",
       "      <td>0.0000</td>\n",
       "      <td>0.000</td>\n",
       "      <td>0.058</td>\n",
       "      <td>0.0160</td>\n",
       "      <td>0.0000</td>\n",
       "      <td>0.0000</td>\n",
       "      <td>0.0000</td>\n",
       "      <td>90.0</td>\n",
       "    </tr>\n",
       "    <tr>\n",
       "      <th>23</th>\n",
       "      <td>33</td>\n",
       "      <td>Pech. 68452</td>\n",
       "      <td>0.160</td>\n",
       "      <td>0.310</td>\n",
       "      <td>0.8800</td>\n",
       "      <td>0.0600</td>\n",
       "      <td>0.0200</td>\n",
       "      <td>0.100</td>\n",
       "      <td>0.110</td>\n",
       "      <td>1.1400</td>\n",
       "      <td>0.0000</td>\n",
       "      <td>0.0000</td>\n",
       "      <td>0.0000</td>\n",
       "      <td>97.2</td>\n",
       "    </tr>\n",
       "    <tr>\n",
       "      <th>24</th>\n",
       "      <td>34</td>\n",
       "      <td>SAC 1306-30</td>\n",
       "      <td>9.460</td>\n",
       "      <td>1.190</td>\n",
       "      <td>0.3900</td>\n",
       "      <td>0.1600</td>\n",
       "      <td>0.4700</td>\n",
       "      <td>0.160</td>\n",
       "      <td>3.100</td>\n",
       "      <td>0.2600</td>\n",
       "      <td>0.0000</td>\n",
       "      <td>0.0000</td>\n",
       "      <td>0.0000</td>\n",
       "      <td>84.8</td>\n",
       "    </tr>\n",
       "    <tr>\n",
       "      <th>25</th>\n",
       "      <td>35</td>\n",
       "      <td>BAM 306</td>\n",
       "      <td>8.565</td>\n",
       "      <td>0.000</td>\n",
       "      <td>0.2930</td>\n",
       "      <td>0.1520</td>\n",
       "      <td>0.2960</td>\n",
       "      <td>0.887</td>\n",
       "      <td>2.636</td>\n",
       "      <td>0.3300</td>\n",
       "      <td>0.2000</td>\n",
       "      <td>0.1000</td>\n",
       "      <td>0.0000</td>\n",
       "      <td>86.6</td>\n",
       "    </tr>\n",
       "    <tr>\n",
       "      <th>26</th>\n",
       "      <td>36</td>\n",
       "      <td>Alusuisse 10/525</td>\n",
       "      <td>0.185</td>\n",
       "      <td>0.228</td>\n",
       "      <td>2.9400</td>\n",
       "      <td>0.0220</td>\n",
       "      <td>0.0200</td>\n",
       "      <td>0.030</td>\n",
       "      <td>0.062</td>\n",
       "      <td>0.2800</td>\n",
       "      <td>0.0000</td>\n",
       "      <td>0.0000</td>\n",
       "      <td>0.2000</td>\n",
       "      <td>95.9</td>\n",
       "    </tr>\n",
       "    <tr>\n",
       "      <th>27</th>\n",
       "      <td>37</td>\n",
       "      <td>SS 380 AG-24</td>\n",
       "      <td>9.140</td>\n",
       "      <td>1.010</td>\n",
       "      <td>0.2000</td>\n",
       "      <td>0.1200</td>\n",
       "      <td>0.3200</td>\n",
       "      <td>0.420</td>\n",
       "      <td>3.600</td>\n",
       "      <td>0.4100</td>\n",
       "      <td>0.0000</td>\n",
       "      <td>0.0000</td>\n",
       "      <td>0.0000</td>\n",
       "      <td>84.8</td>\n",
       "    </tr>\n",
       "    <tr>\n",
       "      <th>28</th>\n",
       "      <td>38</td>\n",
       "      <td>Gränges al  6958-v-336</td>\n",
       "      <td>0.530</td>\n",
       "      <td>0.180</td>\n",
       "      <td>3.5700</td>\n",
       "      <td>0.0900</td>\n",
       "      <td>0.0000</td>\n",
       "      <td>5.060</td>\n",
       "      <td>1.900</td>\n",
       "      <td>0.1300</td>\n",
       "      <td>0.0000</td>\n",
       "      <td>0.0000</td>\n",
       "      <td>0.3000</td>\n",
       "      <td>88.2</td>\n",
       "    </tr>\n",
       "    <tr>\n",
       "      <th>29</th>\n",
       "      <td>39</td>\n",
       "      <td>J 3:3</td>\n",
       "      <td>9.190</td>\n",
       "      <td>0.000</td>\n",
       "      <td>0.3390</td>\n",
       "      <td>0.0040</td>\n",
       "      <td>0.0000</td>\n",
       "      <td>0.000</td>\n",
       "      <td>0.006</td>\n",
       "      <td>0.0080</td>\n",
       "      <td>0.0000</td>\n",
       "      <td>0.0000</td>\n",
       "      <td>0.0000</td>\n",
       "      <td>90.5</td>\n",
       "    </tr>\n",
       "    <tr>\n",
       "      <th>30</th>\n",
       "      <td>40</td>\n",
       "      <td>NIST1256 (values for 1256b)</td>\n",
       "      <td>9.362</td>\n",
       "      <td>0.865</td>\n",
       "      <td>0.0637</td>\n",
       "      <td>0.0868</td>\n",
       "      <td>0.4135</td>\n",
       "      <td>1.011</td>\n",
       "      <td>3.478</td>\n",
       "      <td>0.3857</td>\n",
       "      <td>0.1075</td>\n",
       "      <td>0.0091</td>\n",
       "      <td>0.0572</td>\n",
       "      <td>84.2</td>\n",
       "    </tr>\n",
       "  </tbody>\n",
       "</table>\n",
       "</div>"
      ],
      "text/plain": [
       "    Measurement           Reference material      Si     Fe      Mg      Ti  \\\n",
       "0             1                  Pech. 68451   0.070  0.100  0.4100  0.0400   \n",
       "1             2        Gränges al 6958-v-335   0.180  0.350  2.0300  0.0600   \n",
       "2             3                      4343-AA   7.460  0.530  0.0360  0.0450   \n",
       "3             4  NIST1256 (values for 1256b)   9.362  0.865  0.0637  0.0868   \n",
       "4            10                   Pech. 1206   3.000  0.795  0.5700  0.0930   \n",
       "5            11        Gränges al 6958-v-331   0.120  0.300  3.0400  0.0290   \n",
       "6            12                   NIST 1255a   7.220  0.140  0.3600  0.1540   \n",
       "7            14                     NBS 1258   0.780  0.079  0.9800  0.0000   \n",
       "8            15                        O 2:3   6.160  0.000  0.3630  0.0080   \n",
       "9            16  NIST1256 (values for 1256b)   9.362  0.865  0.0637  0.0868   \n",
       "10           17                    NBS 1241a   0.160  0.200  4.5400  0.0320   \n",
       "11           18                        J 2:3   6.120  0.000  0.3200  0.0030   \n",
       "12           19       Gränges al  6958-v-337   0.350  0.270  2.7800  0.0700   \n",
       "13           20                  Pech. 68454   0.260  0.420  1.2600  0.0100   \n",
       "14           21                   Pech. 1010   8.750  0.460  1.7100  0.1360   \n",
       "15           22  NIST1256 (values for 1256b)   9.362  0.865  0.0637  0.0868   \n",
       "16           24                     HIT 6063   0.530  0.230  0.7700  0.0110   \n",
       "17           26                  Pech. 68453   0.360  0.600  1.1000  0.1500   \n",
       "18           27                     NBS 1240   0.180  0.500  1.1100  0.0220   \n",
       "19           29               NIST 1259 (PT)   0.180  0.205  2.4800  0.0000   \n",
       "20           30  NIST1256 (values for 1256b)   9.362  0.865  0.0637  0.0868   \n",
       "21           31                  160-DO (PT)  12.530  0.310  0.0250  0.0510   \n",
       "22           32                        O 3:3   9.500  0.000  0.3910  0.0140   \n",
       "23           33                  Pech. 68452   0.160  0.310  0.8800  0.0600   \n",
       "24           34                  SAC 1306-30   9.460  1.190  0.3900  0.1600   \n",
       "25           35                      BAM 306   8.565  0.000  0.2930  0.1520   \n",
       "26           36             Alusuisse 10/525   0.185  0.228  2.9400  0.0220   \n",
       "27           37                 SS 380 AG-24   9.140  1.010  0.2000  0.1200   \n",
       "28           38       Gränges al  6958-v-336   0.530  0.180  3.5700  0.0900   \n",
       "29           39                        J 3:3   9.190  0.000  0.3390  0.0040   \n",
       "30           40  NIST1256 (values for 1256b)   9.362  0.865  0.0637  0.0868   \n",
       "\n",
       "        Ni     Zn     Cu      Mn      Pb      Sn      Cr  Al (100-summa)  \n",
       "0   0.0400  0.180  0.060  1.4500  0.0000  0.0000  0.0000            97.6  \n",
       "1   0.0000  6.080  1.350  0.4500  0.0000  0.0000  0.1000            89.4  \n",
       "2   0.0310  0.140  0.150  0.1000  0.0000  0.0000  0.0000            91.4  \n",
       "3   0.4135  1.011  3.478  0.3857  0.1075  0.0091  0.0572            84.2  \n",
       "4   0.3010  0.154  4.290  0.0370  0.1000  0.2000  0.0000            90.5  \n",
       "5   0.0000  4.930  1.850  0.0600  0.0000  0.0000  0.4000            89.3  \n",
       "6   0.0180  0.084  0.120  0.0530  0.0000  0.0000  0.0000            91.8  \n",
       "7   0.0010  1.030  0.840  0.4800  0.0000  0.0000  0.0000            95.8  \n",
       "8   0.0000  0.000  0.006  0.2060  0.0000  0.0000  0.0000            93.3  \n",
       "9   0.4135  1.011  3.478  0.3857  0.1075  0.0091  0.0572            84.2  \n",
       "10  0.0200  0.052  0.050  0.3800  0.0000  0.0000  0.0000            94.5  \n",
       "11  0.0000  0.000  0.005  0.0160  0.0000  0.0000  0.0000            93.5  \n",
       "12  0.0000  5.370  1.600  0.2900  0.0000  0.0000  0.2000            89.1  \n",
       "13  0.0100  0.020  0.004  1.1600  0.0000  0.0000  0.0000            96.8  \n",
       "14  1.5100  0.029  2.000  0.0560  0.0000  0.0000  0.0000            85.3  \n",
       "15  0.4135  1.011  3.478  0.3857  0.1075  0.0091  0.0572            84.2  \n",
       "16  0.0040  0.031  0.006  0.0240  0.0000  0.0000  0.0000            98.4  \n",
       "17  0.0100  0.070  0.200  0.8300  0.0000  0.0000  0.1000            96.6  \n",
       "18  0.0040  0.052  0.150  1.2600  0.0000  0.0000  0.0000            96.7  \n",
       "19  0.0000  5.440  1.600  0.0790  0.0000  0.0000  0.2000            89.8  \n",
       "20  0.4135  1.011  3.478  0.3857  0.1075  0.0091  0.0572            84.2  \n",
       "21  0.0350  0.050  0.056  0.0330  0.0000  0.0000  0.0000            86.8  \n",
       "22  0.0000  0.000  0.058  0.0160  0.0000  0.0000  0.0000            90.0  \n",
       "23  0.0200  0.100  0.110  1.1400  0.0000  0.0000  0.0000            97.2  \n",
       "24  0.4700  0.160  3.100  0.2600  0.0000  0.0000  0.0000            84.8  \n",
       "25  0.2960  0.887  2.636  0.3300  0.2000  0.1000  0.0000            86.6  \n",
       "26  0.0200  0.030  0.062  0.2800  0.0000  0.0000  0.2000            95.9  \n",
       "27  0.3200  0.420  3.600  0.4100  0.0000  0.0000  0.0000            84.8  \n",
       "28  0.0000  5.060  1.900  0.1300  0.0000  0.0000  0.3000            88.2  \n",
       "29  0.0000  0.000  0.006  0.0080  0.0000  0.0000  0.0000            90.5  \n",
       "30  0.4135  1.011  3.478  0.3857  0.1075  0.0091  0.0572            84.2  "
      ]
     },
     "execution_count": 12,
     "metadata": {},
     "output_type": "execute_result"
    }
   ],
   "source": [
    "df_y = pd.read_csv('./al_concentration_noPure.csv')\n",
    "print(type(df_y))\n",
    "concentration=df_y.values\n",
    "print(concentration.shape)\n",
    "#print(concentration)\n",
    "\n",
    "y_values=df_y.values\n",
    "y_all=pd.DataFrame(y_values[:,1:-2])\n",
    "#print(y_all)\n",
    "df_y"
   ]
  },
  {
   "cell_type": "code",
   "execution_count": 13,
   "metadata": {
    "scrolled": true
   },
   "outputs": [
    {
     "name": "stdout",
     "output_type": "stream",
     "text": [
      "[1.45 0.45 0.1 0.3857 0.037000000000000005 0.06 0.053 0.48\n",
      " 0.20600000000000002 0.3857 0.38 0.016 0.29 1.16 0.055999999999999994\n",
      " 0.3857 0.024 0.83 1.26 0.079 0.3857 0.033 0.016 1.14 0.26 0.33 0.28 0.41\n",
      " 0.13 0.008 0.3857]\n",
      "(31,)\n"
     ]
    }
   ],
   "source": [
    "y_val = concentration[:,9] #2-Si, 3-Fe, 4-Mg, 7-Zn, 8-Cu, 9-Mn (7-Zn but too much sparse)\n",
    "print(y_val)\n",
    "print(y_val.shape)\n",
    "y_df= pd.DataFrame(y_val)\n",
    "#y_df"
   ]
  },
  {
   "cell_type": "code",
   "execution_count": 14,
   "metadata": {},
   "outputs": [
    {
     "name": "stdout",
     "output_type": "stream",
     "text": [
      "number of selected wavelengths:  245\n",
      "[1394, 1395, 1396, 1397, 1398, 1399, 1400, 1401, 1402, 1403, 1404, 1405, 1406, 1407, 1408, 1409, 1410, 1411, 1412, 1413, 1414, 1415, 1416, 1417, 1418, 1419, 1420, 1421, 1422, 1423, 1424, 1425, 1426, 1427, 1428, 1429, 1430, 1431, 1432, 1433, 1434, 1435, 1436, 1437, 1438, 1439, 1440, 1441, 1442, 1443, 1444, 1445, 1446, 1447, 1448, 1449, 1450, 1451, 1452, 1453, 1454, 1455, 1456, 1457, 1458, 1459, 1460, 1461, 1462, 1463, 1464, 1465, 1466, 1467, 1468, 1469, 1470, 1471, 1472, 1473, 1474, 1475, 3198, 3199, 3200, 3201, 3202, 3203, 3204, 3205, 3206, 3207, 3208, 3209, 3210, 3211, 3212, 3213, 3214, 3215, 3216, 3217, 3218, 3219, 3220, 3221, 3222, 3223, 3224, 3225, 3226, 3227, 3228, 3229, 3230, 3231, 3232, 3233, 3234, 3235, 3236, 3237, 3238, 3239, 3240, 3241, 3242, 3243, 3244, 3245, 3246, 3247, 3248, 3249, 3250, 3251, 3252, 3253, 3254, 3255, 3256, 3257, 3258, 3259, 3260, 3261, 3262, 3263, 3264, 3265, 3266, 3267, 3268, 3269, 3270, 3271, 3272, 3273, 3274, 3275, 3276, 3277, 3278, 3279, 4014, 4015, 4016, 4017, 4018, 4019, 4020, 4021, 4022, 4023, 4024, 4025, 4026, 4027, 4028, 4029, 4030, 4031, 4032, 4033, 4034, 4035, 4036, 4037, 4038, 4039, 4040, 4041, 4042, 4043, 4044, 4045, 4046, 4047, 4048, 4049, 4050, 4051, 4052, 4053, 4054, 4055, 4056, 4057, 4058, 4059, 4060, 4061, 4062, 4063, 4064, 4065, 4066, 4067, 4068, 4069, 4070, 4071, 4072, 4073, 4074, 4075, 4076, 4077, 4078, 4079, 4080, 4081, 4082, 4083, 4084, 4085, 4086, 4087, 4088, 4089, 4090, 4091, 4092, 4093, 4094]\n"
     ]
    }
   ],
   "source": [
    "sel= pd.read_csv('./selected_wavelengths/selecta_Si_basic_ipls.txt', sep= ' |,|\\n', header = None)\n",
    "#sel= sel.dropna()\n",
    "#print(sel, \"\\n\")\n",
    "sel= sel.values.flatten()\n",
    "sel= sel[~np.isnan(sel)]\n",
    "sel = [int(i)-1 for i in sel]\n",
    "print(\"number of selected wavelengths: \", len(sel))\n",
    "print(sel)"
   ]
  },
  {
   "cell_type": "code",
   "execution_count": 15,
   "metadata": {},
   "outputs": [
    {
     "name": "stdout",
     "output_type": "stream",
     "text": [
      "(4094, 1)\n",
      "(244, 1)\n"
     ]
    },
    {
     "data": {
      "text/plain": [
       "array([[278.6693, 278.7337, 278.7981, 278.8625, 278.9268, 278.9912,\n",
       "        279.0556, 279.12  , 279.1843, 279.2487, 279.3131, 279.3775,\n",
       "        279.4418, 279.5062, 279.5705, 279.6349, 279.6993, 279.7636,\n",
       "        279.828 , 279.8923, 279.9567, 280.021 , 280.0854, 280.1497,\n",
       "        280.2141, 280.2784, 280.3428, 280.4071, 280.4715, 280.5358,\n",
       "        280.6002, 280.6645, 280.7288, 280.7932, 280.8575, 280.9218,\n",
       "        280.9862, 281.0505, 281.1148, 281.1791, 281.2435, 281.3078,\n",
       "        281.3721, 281.4364, 281.5008, 281.5651, 281.6294, 281.6937,\n",
       "        281.758 , 281.8223, 281.8866, 281.9509, 282.0152, 282.0796,\n",
       "        282.1439, 282.2082, 282.2725, 282.3368, 282.4011, 282.4653,\n",
       "        282.5296, 282.5939, 282.6582, 282.7225, 282.7868, 282.8511,\n",
       "        282.9154, 282.9797, 283.0439, 283.1082, 283.1725, 283.2368,\n",
       "        283.301 , 283.3653, 283.4296, 283.4939, 283.5581, 283.6224,\n",
       "        283.6867, 283.7509, 283.8152, 283.8795, 390.6456, 390.7043,\n",
       "        390.7629, 390.8216, 390.8802, 390.9388, 390.9974, 391.0561,\n",
       "        391.1147, 391.1733, 391.2319, 391.2905, 391.3491, 391.4076,\n",
       "        391.4662, 391.5248, 391.5834, 391.6419, 391.7005, 391.759 ,\n",
       "        391.8176, 391.8761, 391.9347, 391.9932, 392.0517, 392.1103,\n",
       "        392.1688, 392.2273, 392.2858, 392.3443, 392.4028, 392.4613,\n",
       "        392.5198, 392.5783, 392.6367, 392.6952, 392.7537, 392.8121,\n",
       "        392.8706, 392.929 , 392.9875, 393.0459, 393.1044, 393.1628,\n",
       "        393.2212, 393.2796, 393.338 , 393.3965, 393.4549, 393.5133,\n",
       "        393.5716, 393.63  , 393.6884, 393.7468, 393.8052, 393.8635,\n",
       "        393.9219, 393.9802, 394.0386, 394.0969, 394.1553, 394.2136,\n",
       "        394.2719, 394.3303, 394.3886, 394.4469, 394.5052, 394.5635,\n",
       "        394.6218, 394.6801, 394.7384, 394.7967, 394.8549, 394.9132,\n",
       "        394.9715, 395.0297, 395.088 , 395.1462, 395.2045, 395.2627,\n",
       "        395.321 , 395.3792, 436.5652, 436.6189, 436.6725, 436.726 ,\n",
       "        436.7796, 436.8332, 436.8868, 436.9403, 436.9939, 437.0474,\n",
       "        437.101 , 437.1545, 437.208 , 437.2616, 437.3151, 437.3686,\n",
       "        437.4221, 437.4756, 437.529 , 437.5825, 437.636 , 437.6894,\n",
       "        437.7429, 437.7963, 437.8498, 437.9032, 437.9566, 438.01  ,\n",
       "        438.0635, 438.1169, 438.1702, 438.2236, 438.277 , 438.3304,\n",
       "        438.3838, 438.4371, 438.4905, 438.5438, 438.5971, 438.6505,\n",
       "        438.7038, 438.7571, 438.8104, 438.8637, 438.917 , 438.9703,\n",
       "        439.0236, 439.0768, 439.1301, 439.1833, 439.2366, 439.2898,\n",
       "        439.3431, 439.3963, 439.4495, 439.5027, 439.5559, 439.6091,\n",
       "        439.6623, 439.7155, 439.7686, 439.8218, 439.875 , 439.9281,\n",
       "        439.9813, 440.0344, 440.0875, 440.1406, 440.1938, 440.2469,\n",
       "        440.3   , 440.353 , 440.4061, 440.4592, 440.5123, 440.5653,\n",
       "        440.6184, 440.6714, 440.7245, 440.7775]])"
      ]
     },
     "execution_count": 15,
     "metadata": {},
     "output_type": "execute_result"
    }
   ],
   "source": [
    "sel=sel[:-1]\n",
    "print(wl.shape)\n",
    "wl_sel= wl[sel]\n",
    "print(wl_sel.shape)\n",
    "wl_sel.T"
   ]
  },
  {
   "cell_type": "markdown",
   "metadata": {},
   "source": [
    "# Check for consistency"
   ]
  },
  {
   "cell_type": "code",
   "execution_count": 16,
   "metadata": {},
   "outputs": [],
   "source": [
    "# Python program to illustrate the intersection \n",
    "# of two lists in most simple way \n",
    "def intersection(lst1, lst2, lst3): \n",
    "    lst_fin = [value for value in lst1 if value in lst2 and value in lst3] \n",
    "    return lst_fin\n",
    "\n",
    "def intersect(*d):\n",
    "    sets = iter(map(set, d))\n",
    "    result = sets.next()\n",
    "    for s in sets:\n",
    "        result = result.intersection(s)\n",
    "    return result"
   ]
  },
  {
   "cell_type": "markdown",
   "metadata": {},
   "source": [
    "### same algorithm, different normalization"
   ]
  },
  {
   "cell_type": "code",
   "execution_count": 17,
   "metadata": {},
   "outputs": [
    {
     "name": "stdout",
     "output_type": "stream",
     "text": [
      "246\n",
      "[2050, 2051, 2052, 2053, 2054, 2055, 2056, 2057, 2058, 2059, 2060, 2061, 2062, 2063, 2064, 2065, 2066, 2067, 2068, 2069, 2070, 2071, 2072, 2073, 2074, 2075, 2076, 2077, 2078, 2079, 2080, 2081, 2082, 2083, 2084, 2085, 2086, 2087, 2088, 2089, 2090, 2091, 2092, 2093, 2094, 2095, 2096, 2097, 2098, 2099, 2100, 2101, 2102, 2103, 2104, 2105, 2106, 2107, 2108, 2109, 2110, 2111, 2112, 2113, 2114, 2115, 2116, 2117, 2118, 2119, 2120, 2121, 2122, 2123, 2124, 2125, 2126, 2127, 2128, 2129, 2130, 2131, 3198, 3199, 3200, 3201, 3202, 3203, 3204, 3205, 3206, 3207, 3208, 3209, 3210, 3211, 3212, 3213, 3214, 3215, 3216, 3217, 3218, 3219, 3220, 3221, 3222, 3223, 3224, 3225, 3226, 3227, 3228, 3229, 3230, 3231, 3232, 3233, 3234, 3235, 3236, 3237, 3238, 3239, 3240, 3241, 3242, 3243, 3244, 3245, 3246, 3247, 3248, 3249, 3250, 3251, 3252, 3253, 3254, 3255, 3256, 3257, 3258, 3259, 3260, 3261, 3262, 3263, 3264, 3265, 3266, 3267, 3268, 3269, 3270, 3271, 3272, 3273, 3274, 3275, 3276, 3277, 3278, 3279, 3526, 3527, 3528, 3529, 3530, 3531, 3532, 3533, 3534, 3535, 3536, 3537, 3538, 3539, 3540, 3541, 3542, 3543, 3544, 3545, 3546, 3547, 3548, 3549, 3550, 3551, 3552, 3553, 3554, 3555, 3556, 3557, 3558, 3559, 3560, 3561, 3562, 3563, 3564, 3565, 3566, 3567, 3568, 3569, 3570, 3571, 3572, 3573, 3574, 3575, 3576, 3577, 3578, 3579, 3580, 3581, 3582, 3583, 3584, 3585, 3586, 3587, 3588, 3589, 3590, 3591, 3592, 3593, 3594, 3595, 3596, 3597, 3598, 3599, 3600, 3601, 3602, 3603, 3604, 3605, 3606, 3607]\n"
     ]
    }
   ],
   "source": [
    "sel1= pd.read_csv('./selected_wavelengths/noBaseline_Cu_ipls_basic.txt', sep= ' |,|\\n', header = None)\n",
    "#sel= sel.dropna()\n",
    "#print(sel, \"\\n\")\n",
    "sel1= sel1.values.flatten()\n",
    "sel1= sel1[~np.isnan(sel1)]\n",
    "sel1 = [int(i)-1 for i in sel1]\n",
    "print(len(sel1))\n",
    "print(sel1)"
   ]
  },
  {
   "cell_type": "code",
   "execution_count": 18,
   "metadata": {},
   "outputs": [
    {
     "name": "stdout",
     "output_type": "stream",
     "text": [
      "492\n",
      "[328, 329, 330, 331, 332, 333, 334, 335, 336, 337, 338, 339, 340, 341, 342, 343, 344, 345, 346, 347, 348, 349, 350, 351, 352, 353, 354, 355, 356, 357, 358, 359, 360, 361, 362, 363, 364, 365, 366, 367, 368, 369, 370, 371, 372, 373, 374, 375, 376, 377, 378, 379, 380, 381, 382, 383, 384, 385, 386, 387, 388, 389, 390, 391, 392, 393, 394, 395, 396, 397, 398, 399, 400, 401, 402, 403, 404, 405, 406, 407, 408, 409, 902, 903, 904, 905, 906, 907, 908, 909, 910, 911, 912, 913, 914, 915, 916, 917, 918, 919, 920, 921, 922, 923, 924, 925, 926, 927, 928, 929, 930, 931, 932, 933, 934, 935, 936, 937, 938, 939, 940, 941, 942, 943, 944, 945, 946, 947, 948, 949, 950, 951, 952, 953, 954, 955, 956, 957, 958, 959, 960, 961, 962, 963, 964, 965, 966, 967, 968, 969, 970, 971, 972, 973, 974, 975, 976, 977, 978, 979, 980, 981, 982, 983, 984, 985, 986, 987, 988, 989, 990, 991, 992, 993, 994, 995, 996, 997, 998, 999, 1000, 1001, 1002, 1003, 1004, 1005, 1006, 1007, 1008, 1009, 1010, 1011, 1012, 1013, 1014, 1015, 1016, 1017, 1018, 1019, 1020, 1021, 1022, 1023, 1024, 1025, 1026, 1027, 1028, 1029, 1030, 1031, 1032, 1033, 1034, 1035, 1036, 1037, 1038, 1039, 1040, 1041, 1042, 1043, 1044, 1045, 1046, 1047, 1048, 1049, 1050, 1051, 1052, 1053, 1054, 1055, 1056, 1057, 1058, 1059, 1060, 1061, 1062, 1063, 1064, 1065, 1230, 1231, 1232, 1233, 1234, 1235, 1236, 1237, 1238, 1239, 1240, 1241, 1242, 1243, 1244, 1245, 1246, 1247, 1248, 1249, 1250, 1251, 1252, 1253, 1254, 1255, 1256, 1257, 1258, 1259, 1260, 1261, 1262, 1263, 1264, 1265, 1266, 1267, 1268, 1269, 1270, 1271, 1272, 1273, 1274, 1275, 1276, 1277, 1278, 1279, 1280, 1281, 1282, 1283, 1284, 1285, 1286, 1287, 1288, 1289, 1290, 1291, 1292, 1293, 1294, 1295, 1296, 1297, 1298, 1299, 1300, 1301, 1302, 1303, 1304, 1305, 1306, 1307, 1308, 1309, 1310, 1311, 2460, 2461, 2462, 2463, 2464, 2465, 2466, 2467, 2468, 2469, 2470, 2471, 2472, 2473, 2474, 2475, 2476, 2477, 2478, 2479, 2480, 2481, 2482, 2483, 2484, 2485, 2486, 2487, 2488, 2489, 2490, 2491, 2492, 2493, 2494, 2495, 2496, 2497, 2498, 2499, 2500, 2501, 2502, 2503, 2504, 2505, 2506, 2507, 2508, 2509, 2510, 2511, 2512, 2513, 2514, 2515, 2516, 2517, 2518, 2519, 2520, 2521, 2522, 2523, 2524, 2525, 2526, 2527, 2528, 2529, 2530, 2531, 2532, 2533, 2534, 2535, 2536, 2537, 2538, 2539, 2540, 2541, 3116, 3117, 3118, 3119, 3120, 3121, 3122, 3123, 3124, 3125, 3126, 3127, 3128, 3129, 3130, 3131, 3132, 3133, 3134, 3135, 3136, 3137, 3138, 3139, 3140, 3141, 3142, 3143, 3144, 3145, 3146, 3147, 3148, 3149, 3150, 3151, 3152, 3153, 3154, 3155, 3156, 3157, 3158, 3159, 3160, 3161, 3162, 3163, 3164, 3165, 3166, 3167, 3168, 3169, 3170, 3171, 3172, 3173, 3174, 3175, 3176, 3177, 3178, 3179, 3180, 3181, 3182, 3183, 3184, 3185, 3186, 3187, 3188, 3189, 3190, 3191, 3192, 3193, 3194, 3195, 3196, 3197]\n"
     ]
    }
   ],
   "source": [
    "sel1b= pd.read_csv('./selected_wavelengths/noBaseline_Si_ipls_norm.txt', sep= ' |,|\\n', header = None)\n",
    "#sel= sel.dropna()\n",
    "#print(sel, \"\\n\")\n",
    "sel1b = sel1b.values.flatten()\n",
    "sel1b = sel1b[~np.isnan(sel1b)]\n",
    "sel1b = [int(i)-1 for i in sel1b]\n",
    "print(len(sel1b))\n",
    "print(sel1b)"
   ]
  },
  {
   "cell_type": "code",
   "execution_count": 19,
   "metadata": {},
   "outputs": [
    {
     "name": "stdout",
     "output_type": "stream",
     "text": [
      "245\n",
      "[1230, 1231, 1232, 1233, 1234, 1235, 1236, 1237, 1238, 1239, 1240, 1241, 1242, 1243, 1244, 1245, 1246, 1247, 1248, 1249, 1250, 1251, 1252, 1253, 1254, 1255, 1256, 1257, 1258, 1259, 1260, 1261, 1262, 1263, 1264, 1265, 1266, 1267, 1268, 1269, 1270, 1271, 1272, 1273, 1274, 1275, 1276, 1277, 1278, 1279, 1280, 1281, 1282, 1283, 1284, 1285, 1286, 1287, 1288, 1289, 1290, 1291, 1292, 1293, 1294, 1295, 1296, 1297, 1298, 1299, 1300, 1301, 1302, 1303, 1304, 1305, 1306, 1307, 1308, 1309, 1310, 1311, 2050, 2051, 2052, 2053, 2054, 2055, 2056, 2057, 2058, 2059, 2060, 2061, 2062, 2063, 2064, 2065, 2066, 2067, 2068, 2069, 2070, 2071, 2072, 2073, 2074, 2075, 2076, 2077, 2078, 2079, 2080, 2081, 2082, 2083, 2084, 2085, 2086, 2087, 2088, 2089, 2090, 2091, 2092, 2093, 2094, 2095, 2096, 2097, 2098, 2099, 2100, 2101, 2102, 2103, 2104, 2105, 2106, 2107, 2108, 2109, 2110, 2111, 2112, 2113, 2114, 2115, 2116, 2117, 2118, 2119, 2120, 2121, 2122, 2123, 2124, 2125, 2126, 2127, 2128, 2129, 2130, 2131, 3770, 3771, 3772, 3773, 3774, 3775, 3776, 3777, 3778, 3779, 3780, 3781, 3782, 3783, 3784, 3785, 3786, 3787, 3788, 3789, 3790, 3791, 3792, 3793, 3794, 3795, 3796, 3797, 3798, 3799, 3800, 3801, 3802, 3803, 3804, 3805, 3806, 3807, 3808, 3809, 3810, 3811, 3812, 3813, 3814, 3815, 3816, 3817, 3818, 3819, 3820, 3821, 3822, 3823, 3824, 3825, 3826, 3827, 3828, 3829, 3830, 3831, 3832, 3833, 3834, 3835, 3836, 3837, 3838, 3839, 3840, 3841, 3842, 3843, 3844, 3845, 3846, 3847, 3848, 3849, 3850]\n"
     ]
    }
   ],
   "source": [
    "sel2= pd.read_csv('./selected_wavelengths/noBaseline_Cu_ipls_snv.txt', sep= ' |,|\\n', header = None)\n",
    "#sel= sel.dropna()\n",
    "#print(sel, \"\\n\")\n",
    "sel2= sel2.values.flatten()\n",
    "sel2= sel2[~np.isnan(sel2)]\n",
    "sel2 = [int(i)-1 for i in sel2]\n",
    "print(len(sel2))\n",
    "print(sel2)"
   ]
  },
  {
   "cell_type": "code",
   "execution_count": 20,
   "metadata": {},
   "outputs": [
    {
     "name": "stdout",
     "output_type": "stream",
     "text": [
      "410\n",
      "[328, 329, 330, 331, 332, 333, 334, 335, 336, 337, 338, 339, 340, 341, 342, 343, 344, 345, 346, 347, 348, 349, 350, 351, 352, 353, 354, 355, 356, 357, 358, 359, 360, 361, 362, 363, 364, 365, 366, 367, 368, 369, 370, 371, 372, 373, 374, 375, 376, 377, 378, 379, 380, 381, 382, 383, 384, 385, 386, 387, 388, 389, 390, 391, 392, 393, 394, 395, 396, 397, 398, 399, 400, 401, 402, 403, 404, 405, 406, 407, 408, 409, 902, 903, 904, 905, 906, 907, 908, 909, 910, 911, 912, 913, 914, 915, 916, 917, 918, 919, 920, 921, 922, 923, 924, 925, 926, 927, 928, 929, 930, 931, 932, 933, 934, 935, 936, 937, 938, 939, 940, 941, 942, 943, 944, 945, 946, 947, 948, 949, 950, 951, 952, 953, 954, 955, 956, 957, 958, 959, 960, 961, 962, 963, 964, 965, 966, 967, 968, 969, 970, 971, 972, 973, 974, 975, 976, 977, 978, 979, 980, 981, 982, 983, 2296, 2297, 2298, 2299, 2300, 2301, 2302, 2303, 2304, 2305, 2306, 2307, 2308, 2309, 2310, 2311, 2312, 2313, 2314, 2315, 2316, 2317, 2318, 2319, 2320, 2321, 2322, 2323, 2324, 2325, 2326, 2327, 2328, 2329, 2330, 2331, 2332, 2333, 2334, 2335, 2336, 2337, 2338, 2339, 2340, 2341, 2342, 2343, 2344, 2345, 2346, 2347, 2348, 2349, 2350, 2351, 2352, 2353, 2354, 2355, 2356, 2357, 2358, 2359, 2360, 2361, 2362, 2363, 2364, 2365, 2366, 2367, 2368, 2369, 2370, 2371, 2372, 2373, 2374, 2375, 2376, 2377, 2542, 2543, 2544, 2545, 2546, 2547, 2548, 2549, 2550, 2551, 2552, 2553, 2554, 2555, 2556, 2557, 2558, 2559, 2560, 2561, 2562, 2563, 2564, 2565, 2566, 2567, 2568, 2569, 2570, 2571, 2572, 2573, 2574, 2575, 2576, 2577, 2578, 2579, 2580, 2581, 2582, 2583, 2584, 2585, 2586, 2587, 2588, 2589, 2590, 2591, 2592, 2593, 2594, 2595, 2596, 2597, 2598, 2599, 2600, 2601, 2602, 2603, 2604, 2605, 2606, 2607, 2608, 2609, 2610, 2611, 2612, 2613, 2614, 2615, 2616, 2617, 2618, 2619, 2620, 2621, 2622, 2623, 3116, 3117, 3118, 3119, 3120, 3121, 3122, 3123, 3124, 3125, 3126, 3127, 3128, 3129, 3130, 3131, 3132, 3133, 3134, 3135, 3136, 3137, 3138, 3139, 3140, 3141, 3142, 3143, 3144, 3145, 3146, 3147, 3148, 3149, 3150, 3151, 3152, 3153, 3154, 3155, 3156, 3157, 3158, 3159, 3160, 3161, 3162, 3163, 3164, 3165, 3166, 3167, 3168, 3169, 3170, 3171, 3172, 3173, 3174, 3175, 3176, 3177, 3178, 3179, 3180, 3181, 3182, 3183, 3184, 3185, 3186, 3187, 3188, 3189, 3190, 3191, 3192, 3193, 3194, 3195, 3196, 3197]\n"
     ]
    }
   ],
   "source": [
    "sel3= pd.read_csv('./selected_wavelengths/noBaseline_Si_ipls_sum.txt', sep= ' |,|\\n', header = None)\n",
    "#sel= sel.dropna()\n",
    "#print(sel, \"\\n\")\n",
    "sel3= sel3.values.flatten()\n",
    "sel3= sel3[~np.isnan(sel3)]\n",
    "sel3 = [int(i)-1 for i in sel3]\n",
    "print(len(sel3))\n",
    "print(sel3)"
   ]
  },
  {
   "cell_type": "code",
   "execution_count": 21,
   "metadata": {},
   "outputs": [
    {
     "name": "stdout",
     "output_type": "stream",
     "text": [
      "246\n",
      "[2788, 2789, 2790, 2791, 2792, 2793, 2794, 2795, 2796, 2797, 2798, 2799, 2800, 2801, 2802, 2803, 2804, 2805, 2806, 2807, 2808, 2809, 2810, 2811, 2812, 2813, 2814, 2815, 2816, 2817, 2818, 2819, 2820, 2821, 2822, 2823, 2824, 2825, 2826, 2827, 2828, 2829, 2830, 2831, 2832, 2833, 2834, 2835, 2836, 2837, 2838, 2839, 2840, 2841, 2842, 2843, 2844, 2845, 2846, 2847, 2848, 2849, 2850, 2851, 2852, 2853, 2854, 2855, 2856, 2857, 2858, 2859, 2860, 2861, 2862, 2863, 2864, 2865, 2866, 2867, 2868, 2869, 3116, 3117, 3118, 3119, 3120, 3121, 3122, 3123, 3124, 3125, 3126, 3127, 3128, 3129, 3130, 3131, 3132, 3133, 3134, 3135, 3136, 3137, 3138, 3139, 3140, 3141, 3142, 3143, 3144, 3145, 3146, 3147, 3148, 3149, 3150, 3151, 3152, 3153, 3154, 3155, 3156, 3157, 3158, 3159, 3160, 3161, 3162, 3163, 3164, 3165, 3166, 3167, 3168, 3169, 3170, 3171, 3172, 3173, 3174, 3175, 3176, 3177, 3178, 3179, 3180, 3181, 3182, 3183, 3184, 3185, 3186, 3187, 3188, 3189, 3190, 3191, 3192, 3193, 3194, 3195, 3196, 3197, 3198, 3199, 3200, 3201, 3202, 3203, 3204, 3205, 3206, 3207, 3208, 3209, 3210, 3211, 3212, 3213, 3214, 3215, 3216, 3217, 3218, 3219, 3220, 3221, 3222, 3223, 3224, 3225, 3226, 3227, 3228, 3229, 3230, 3231, 3232, 3233, 3234, 3235, 3236, 3237, 3238, 3239, 3240, 3241, 3242, 3243, 3244, 3245, 3246, 3247, 3248, 3249, 3250, 3251, 3252, 3253, 3254, 3255, 3256, 3257, 3258, 3259, 3260, 3261, 3262, 3263, 3264, 3265, 3266, 3267, 3268, 3269, 3270, 3271, 3272, 3273, 3274, 3275, 3276, 3277, 3278, 3279]\n"
     ]
    }
   ],
   "source": [
    "sel4= pd.read_csv('./selected_wavelengths/noBaseline_Si_ipls_max.txt', sep= ' |,|\\n', header = None)\n",
    "#sel= sel.dropna()\n",
    "#print(sel, \"\\n\")\n",
    "sel4= sel4.values.flatten()\n",
    "sel4= sel4[~np.isnan(sel4)]\n",
    "sel4 = [int(i)-1 for i in sel4]\n",
    "print(len(sel4))\n",
    "print(sel4)"
   ]
  },
  {
   "cell_type": "code",
   "execution_count": 22,
   "metadata": {},
   "outputs": [
    {
     "name": "stdout",
     "output_type": "stream",
     "text": [
      "82\n",
      "[574, 575, 576, 577, 578, 579, 580, 581, 582, 583, 584, 585, 586, 587, 588, 589, 590, 591, 592, 593, 594, 595, 596, 597, 598, 599, 600, 601, 602, 603, 604, 605, 606, 607, 608, 609, 610, 611, 612, 613, 614, 615, 616, 617, 618, 619, 620, 621, 622, 623, 624, 625, 626, 627, 628, 629, 630, 631, 632, 633, 634, 635, 636, 637, 638, 639, 640, 641, 642, 643, 644, 645, 646, 647, 648, 649, 650, 651, 652, 653, 654, 655]\n"
     ]
    }
   ],
   "source": [
    "sel5= pd.read_csv('./selected_wavelengths/noBaseline_Cu_ipls_wl-norm.txt', sep= ' |,|\\n', header = None)\n",
    "#sel= sel.dropna()\n",
    "#print(sel, \"\\n\")\n",
    "sel5= sel5.values.flatten()\n",
    "sel5= sel5[~np.isnan(sel5)]\n",
    "sel5 = [int(i)-1 for i in sel5]\n",
    "print(len(sel5))\n",
    "print(sel5)"
   ]
  },
  {
   "cell_type": "code",
   "execution_count": 23,
   "metadata": {},
   "outputs": [
    {
     "name": "stdout",
     "output_type": "stream",
     "text": [
      "[]\n"
     ]
    }
   ],
   "source": [
    "#a =[sel1, sel2, sel3, sel4, sel5 ,sel6] #sel1=ipw, sel2=bve, sel3=ga, sel4=rep, sel5=mcuve, sel6=ipls\n",
    "#a =[sel1, sel1b, sel2, sel3, sel4, sel5]\n",
    "a =[sel1, sel1b,sel2, sel5]\n",
    "#a =[sel2, sel4]\n",
    "#a = intersect(a)\n",
    "a= set.intersection(*map(set,a))\n",
    "print(wl[list(a)].T)"
   ]
  },
  {
   "cell_type": "code",
   "execution_count": null,
   "metadata": {},
   "outputs": [],
   "source": []
  },
  {
   "cell_type": "markdown",
   "metadata": {},
   "source": [
    "### same normalization, different feature selection algorithm"
   ]
  },
  {
   "cell_type": "code",
   "execution_count": 358,
   "metadata": {},
   "outputs": [
    {
     "name": "stdout",
     "output_type": "stream",
     "text": [
      "18\n",
      "[0, 1543, 2118, 2160, 2161, 2274, 2386, 2652, 2656, 3081, 3082, 3083, 3245, 3293, 3416, 3419, 3495, 3847]\n"
     ]
    }
   ],
   "source": [
    "sela= pd.read_csv('./selected_wavelengths/selecta_Zn_snv_ipw-f.txt', sep= ' |,|\\n', header = None)\n",
    "#sel= sel.dropna()\n",
    "#print(sel, \"\\n\")\n",
    "sela= sela.values.flatten()\n",
    "sela= sela[~np.isnan(sela)]\n",
    "sela = [int(i)-1 for i in sela]\n",
    "print(len(sela))\n",
    "print(sela)"
   ]
  },
  {
   "cell_type": "code",
   "execution_count": 359,
   "metadata": {},
   "outputs": [
    {
     "name": "stdout",
     "output_type": "stream",
     "text": [
      "20\n",
      "[0, 1408, 1543, 2118, 2160, 2273, 2274, 2548, 2652, 2656, 3081, 3083, 3197, 3245, 3292, 3294, 3419, 3494, 3495, 3874]\n"
     ]
    }
   ],
   "source": [
    "selb= pd.read_csv('./selected_wavelengths/selecta_Zn_snv_ipw-t.txt', sep= ' |,|\\n', header = None)\n",
    "#sel= sel.dropna()\n",
    "#print(sel, \"\\n\")\n",
    "selb= selb.values.flatten()\n",
    "selb= selb[~np.isnan(selb)]\n",
    "selb = [int(i)-1 for i in selb]\n",
    "print(len(selb))\n",
    "print(selb)"
   ]
  },
  {
   "cell_type": "code",
   "execution_count": 360,
   "metadata": {},
   "outputs": [
    {
     "name": "stdout",
     "output_type": "stream",
     "text": [
      "288\n",
      "[0, 222, 278, 1408, 1409, 1419, 1420, 1496, 1497, 1542, 1543, 1760, 1761, 1854, 1855, 1856, 1857, 1858, 1859, 1860, 1861, 1868, 1869, 1870, 1871, 1872, 1873, 1874, 1875, 1876, 1877, 1878, 1879, 1880, 1887, 1888, 2116, 2117, 2118, 2119, 2120, 2121, 2158, 2159, 2160, 2161, 2162, 2163, 2173, 2174, 2205, 2206, 2207, 2208, 2272, 2273, 2274, 2275, 2276, 2277, 2281, 2313, 2316, 2317, 2330, 2331, 2350, 2351, 2385, 2386, 2387, 2388, 2416, 2427, 2428, 2436, 2437, 2456, 2457, 2461, 2462, 2479, 2512, 2513, 2540, 2547, 2548, 2549, 2563, 2564, 2565, 2566, 2602, 2631, 2632, 2637, 2638, 2651, 2652, 2653, 2654, 2655, 2656, 2657, 2675, 2676, 2677, 2678, 2679, 2695, 2696, 2697, 2698, 2699, 2717, 2718, 2719, 2720, 2721, 2884, 2885, 2909, 2910, 2911, 2912, 2913, 2914, 2927, 2928, 2932, 2933, 2934, 2935, 2948, 2949, 3045, 3052, 3053, 3054, 3061, 3062, 3063, 3064, 3065, 3066, 3067, 3068, 3069, 3070, 3071, 3072, 3073, 3074, 3075, 3076, 3077, 3078, 3079, 3080, 3081, 3082, 3083, 3084, 3085, 3086, 3087, 3088, 3089, 3119, 3120, 3121, 3164, 3196, 3197, 3198, 3199, 3200, 3244, 3245, 3246, 3247, 3248, 3249, 3256, 3257, 3258, 3259, 3260, 3261, 3262, 3263, 3264, 3265, 3266, 3267, 3268, 3269, 3270, 3271, 3272, 3273, 3274, 3275, 3276, 3282, 3283, 3284, 3285, 3286, 3287, 3288, 3289, 3290, 3291, 3292, 3293, 3294, 3295, 3296, 3297, 3298, 3299, 3300, 3301, 3302, 3303, 3304, 3305, 3306, 3307, 3308, 3357, 3411, 3412, 3413, 3414, 3415, 3416, 3417, 3418, 3419, 3420, 3421, 3422, 3423, 3424, 3431, 3432, 3438, 3439, 3440, 3470, 3494, 3495, 3496, 3497, 3498, 3739, 3740, 3741, 3759, 3760, 3761, 3762, 3808, 3809, 3810, 3811, 3812, 3813, 3841, 3846, 3847, 3848, 3849, 3850, 3873, 3874, 3875, 3876, 3877, 3904, 3907, 3908, 3941, 4048, 4049, 4050]\n"
     ]
    }
   ],
   "source": [
    "selc= pd.read_csv('./selected_wavelengths/selecta_Zn_snv_bve.txt', sep= ' |,|\\n', header = None)\n",
    "#sel= sel.dropna()\n",
    "#print(sel, \"\\n\")\n",
    "selc= selc.values.flatten()\n",
    "selc= selc[~np.isnan(selc)]\n",
    "selc = [int(i)-1 for i in selc]\n",
    "print(len(selc))\n",
    "print(selc)"
   ]
  },
  {
   "cell_type": "code",
   "execution_count": 361,
   "metadata": {},
   "outputs": [
    {
     "name": "stdout",
     "output_type": "stream",
     "text": [
      "264\n",
      "[13, 14, 15, 38, 42, 64, 69, 70, 73, 75, 80, 81, 86, 123, 132, 138, 154, 181, 194, 204, 213, 225, 227, 268, 290, 322, 343, 345, 363, 364, 378, 385, 419, 426, 489, 501, 528, 529, 531, 551, 557, 562, 584, 588, 593, 616, 633, 643, 654, 672, 678, 694, 710, 719, 738, 746, 748, 759, 782, 809, 819, 837, 842, 847, 861, 884, 925, 937, 940, 953, 956, 969, 975, 991, 998, 1000, 1006, 1016, 1047, 1066, 1072, 1074, 1080, 1083, 1102, 1104, 1112, 1117, 1120, 1125, 1138, 1173, 1174, 1177, 1180, 1204, 1216, 1224, 1228, 1231, 1243, 1251, 1261, 1334, 1461, 1472, 1527, 1554, 1563, 1575, 1607, 1610, 1629, 1637, 1658, 1661, 1665, 1666, 1670, 1719, 1759, 1760, 1785, 1796, 1801, 1806, 1816, 1821, 1824, 1828, 1842, 1866, 1884, 1888, 1911, 1916, 1949, 2010, 2014, 2026, 2027, 2037, 2068, 2083, 2085, 2110, 2137, 2139, 2149, 2208, 2210, 2213, 2240, 2252, 2253, 2274, 2275, 2287, 2298, 2303, 2312, 2316, 2318, 2328, 2379, 2382, 2386, 2407, 2448, 2458, 2467, 2470, 2474, 2540, 2545, 2569, 2570, 2587, 2622, 2643, 2658, 2665, 2681, 2707, 2713, 2714, 2715, 2718, 2740, 2741, 2743, 2756, 2781, 2803, 2810, 2846, 2870, 2885, 2920, 2930, 2975, 2982, 3006, 3040, 3041, 3053, 3056, 3097, 3130, 3224, 3236, 3268, 3274, 3278, 3296, 3320, 3326, 3341, 3346, 3359, 3363, 3371, 3389, 3396, 3464, 3475, 3484, 3498, 3501, 3544, 3558, 3562, 3567, 3575, 3579, 3603, 3632, 3640, 3662, 3669, 3683, 3689, 3709, 3712, 3720, 3748, 3781, 3816, 3821, 3833, 3834, 3868, 3876, 3886, 3898, 3900, 3966, 4016, 4019, 4022, 4026, 4032, 4057, 4074]\n"
     ]
    }
   ],
   "source": [
    "seld= pd.read_csv('./selected_wavelengths/selecta_Zn_snv_ga.txt', sep= ' |,|\\n', header = None)\n",
    "#sel= sel.dropna()\n",
    "#print(sel, \"\\n\")\n",
    "seld= seld.values.flatten()\n",
    "seld= seld[~np.isnan(seld)]\n",
    "seld = [int(i)-1 for i in seld]\n",
    "print(len(seld))\n",
    "print(seld)"
   ]
  },
  {
   "cell_type": "code",
   "execution_count": 362,
   "metadata": {},
   "outputs": [
    {
     "name": "stdout",
     "output_type": "stream",
     "text": [
      "343\n",
      "[0, 220, 221, 222, 278, 395, 396, 756, 1408, 1409, 1419, 1420, 1496, 1497, 1498, 1541, 1542, 1543, 1544, 1760, 1761, 1818, 1853, 1854, 1855, 1856, 1857, 1858, 1859, 1860, 1861, 1862, 1868, 1869, 1870, 1871, 1872, 1873, 1874, 1875, 1876, 1877, 1878, 1879, 1880, 1887, 1888, 2116, 2117, 2118, 2119, 2120, 2121, 2122, 2158, 2159, 2160, 2161, 2162, 2163, 2173, 2174, 2204, 2205, 2206, 2207, 2208, 2209, 2271, 2272, 2273, 2274, 2275, 2276, 2277, 2278, 2281, 2300, 2313, 2314, 2316, 2317, 2330, 2331, 2332, 2350, 2351, 2384, 2385, 2386, 2387, 2388, 2400, 2416, 2427, 2428, 2436, 2437, 2456, 2457, 2460, 2461, 2462, 2463, 2479, 2511, 2512, 2513, 2540, 2541, 2547, 2548, 2549, 2550, 2562, 2563, 2564, 2565, 2566, 2601, 2602, 2630, 2631, 2632, 2633, 2637, 2638, 2650, 2651, 2652, 2653, 2654, 2655, 2656, 2657, 2675, 2676, 2677, 2678, 2679, 2680, 2694, 2695, 2696, 2697, 2698, 2699, 2701, 2717, 2718, 2719, 2720, 2721, 2738, 2884, 2885, 2886, 2909, 2910, 2911, 2912, 2913, 2914, 2915, 2927, 2928, 2932, 2933, 2934, 2935, 2948, 2949, 3045, 3052, 3053, 3054, 3055, 3061, 3062, 3063, 3064, 3065, 3066, 3067, 3068, 3069, 3070, 3071, 3072, 3073, 3074, 3075, 3076, 3077, 3078, 3079, 3080, 3081, 3082, 3083, 3084, 3085, 3086, 3087, 3088, 3089, 3090, 3117, 3118, 3119, 3120, 3121, 3164, 3165, 3196, 3197, 3198, 3199, 3200, 3201, 3244, 3245, 3246, 3247, 3248, 3249, 3250, 3256, 3257, 3258, 3259, 3260, 3261, 3262, 3263, 3264, 3265, 3266, 3267, 3268, 3269, 3270, 3271, 3272, 3273, 3274, 3275, 3276, 3277, 3278, 3279, 3280, 3281, 3282, 3283, 3284, 3285, 3286, 3287, 3288, 3289, 3290, 3291, 3292, 3293, 3294, 3295, 3296, 3297, 3298, 3299, 3300, 3301, 3302, 3303, 3304, 3305, 3306, 3307, 3308, 3309, 3357, 3411, 3412, 3413, 3414, 3415, 3416, 3417, 3418, 3419, 3420, 3421, 3422, 3423, 3424, 3431, 3432, 3438, 3439, 3440, 3470, 3493, 3494, 3495, 3496, 3497, 3498, 3499, 3661, 3739, 3740, 3741, 3759, 3760, 3761, 3762, 3808, 3809, 3810, 3811, 3812, 3813, 3841, 3846, 3847, 3848, 3849, 3850, 3873, 3874, 3875, 3876, 3877, 3895, 3904, 3907, 3908, 3941, 4047, 4048, 4049, 4050]\n"
     ]
    }
   ],
   "source": [
    "sele= pd.read_csv('./selected_wavelengths/selecta_Zn_snv_rep.txt', sep= ' |,|\\n', header = None)\n",
    "#sel= sel.dropna()\n",
    "#print(sel, \"\\n\")\n",
    "sele= sele.values.flatten()\n",
    "sele= sele[~np.isnan(sele)]\n",
    "sele = [int(i)-1 for i in sele]\n",
    "print(len(sele))\n",
    "print(sele)"
   ]
  },
  {
   "cell_type": "code",
   "execution_count": 363,
   "metadata": {},
   "outputs": [
    {
     "name": "stdout",
     "output_type": "stream",
     "text": [
      "12\n",
      "[148, 149, 188, 387, 408, 492, 741, 1197, 1794, 1823, 4092, 4094]\n"
     ]
    }
   ],
   "source": [
    "self= pd.read_csv('./selected_wavelengths/selecta_Zn_snv_mcuve.txt', sep= ' |,|\\n', header = None)\n",
    "#sel= sel.dropna()\n",
    "#print(sel, \"\\n\")\n",
    "self= self.values.flatten()\n",
    "self= self[~np.isnan(self)]\n",
    "self = [int(i)-1 for i in self]\n",
    "print(len(self))\n",
    "print(self)"
   ]
  },
  {
   "cell_type": "code",
   "execution_count": 364,
   "metadata": {},
   "outputs": [
    {
     "name": "stdout",
     "output_type": "stream",
     "text": [
      "164\n",
      "[164, 165, 166, 167, 168, 169, 170, 171, 172, 173, 174, 175, 176, 177, 178, 179, 180, 181, 182, 183, 184, 185, 186, 187, 188, 189, 190, 191, 192, 193, 194, 195, 196, 197, 198, 199, 200, 201, 202, 203, 204, 205, 206, 207, 208, 209, 210, 211, 212, 213, 214, 215, 216, 217, 218, 219, 220, 221, 222, 223, 224, 225, 226, 227, 228, 229, 230, 231, 232, 233, 234, 235, 236, 237, 238, 239, 240, 241, 242, 243, 244, 245, 2214, 2215, 2216, 2217, 2218, 2219, 2220, 2221, 2222, 2223, 2224, 2225, 2226, 2227, 2228, 2229, 2230, 2231, 2232, 2233, 2234, 2235, 2236, 2237, 2238, 2239, 2240, 2241, 2242, 2243, 2244, 2245, 2246, 2247, 2248, 2249, 2250, 2251, 2252, 2253, 2254, 2255, 2256, 2257, 2258, 2259, 2260, 2261, 2262, 2263, 2264, 2265, 2266, 2267, 2268, 2269, 2270, 2271, 2272, 2273, 2274, 2275, 2276, 2277, 2278, 2279, 2280, 2281, 2282, 2283, 2284, 2285, 2286, 2287, 2288, 2289, 2290, 2291, 2292, 2293, 2294, 2295]\n"
     ]
    }
   ],
   "source": [
    "selg= pd.read_csv('./selected_wavelengths/selecta_Zn_snv_ipls.txt', sep= ' |,|\\n', header = None)\n",
    "#sel= sel.dropna()\n",
    "#print(sel, \"\\n\")\n",
    "selg= selg.values.flatten()\n",
    "selg= selg[~np.isnan(selg)]\n",
    "selg = [int(i)-1 for i in selg]\n",
    "print(len(selg))\n",
    "print(selg)"
   ]
  },
  {
   "cell_type": "code",
   "execution_count": 366,
   "metadata": {},
   "outputs": [
    {
     "name": "stdout",
     "output_type": "stream",
     "text": [
      "[[188.1951 358.1656 334.5662 324.793  288.2454 407.8272 383.7491 383.8675\n",
      "  393.3965 327.4312 403.4773 357.9213]]\n",
      "12\n"
     ]
    }
   ],
   "source": [
    "#a =[sel1, sel2, sel3, sel4, sel5 ,sel6] #sela=ipw-f, selb=ipw-t, selc=bve, seld=ga, sele=rep, self=mcuve, selg=ipls\n",
    "#a =[sel1, sel1b, sel2, sel3, sel4, sel5]\n",
    "a =[sela, selb]\n",
    "#a =[sel2, sel4]\n",
    "#a = intersect(a)\n",
    "a= set.intersection(*map(set,a))\n",
    "print(wl[list(a)].T)\n",
    "print(len(a))"
   ]
  },
  {
   "cell_type": "code",
   "execution_count": null,
   "metadata": {},
   "outputs": [],
   "source": []
  },
  {
   "cell_type": "markdown",
   "metadata": {},
   "source": [
    "### Wavelength subset selection"
   ]
  },
  {
   "cell_type": "code",
   "execution_count": 291,
   "metadata": {},
   "outputs": [],
   "source": [
    "#target = [251.59, 288.12, 390.60] #peaks for Si\n",
    "#target = [277.91, 279.59, 280.23, 281.78, 285.27, 383.74] #peaks for Mg\n",
    "#target = [292.83, 293.61, 294.91, 403.25, 404.63, 404.56] #peaks for Mn\n",
    "#target= [296.06,324.73, 327.37] #peaks for Cu\n",
    "target= [202.60, 206.20, 213.90, 330.14, 334.41] #peaks for Zn\n",
    "#target= [310.03, 312.69, 404.63, 426.17, 373.69, 372.03, 373.43, 257.67, 259.36, 259.90, 274.89, 356.94, 363.04] #Fe#\n",
    "#target = [251.59, 288.12, 390.60, 277.91, 279.59, 280.23, 281.78, 383.74, 285.27, 292.83, 293.61, 294.91, 403.25, 404.63, 404.56, 296.06,324.73, 327.37, 330.14, 334.41, 310.03, 312.69, 404.63, 426.17, 373.69, 372.03, 373.43, 257.67, 259.36, 259.90, 274.89, 356.94, 363.04]\n",
    "#len(target)"
   ]
  },
  {
   "cell_type": "code",
   "execution_count": 110,
   "metadata": {},
   "outputs": [
    {
     "name": "stdout",
     "output_type": "stream",
     "text": [
      "number of selected peaks:  12 \n",
      "\n",
      "[292.6675, 292.7315, 292.7955, 292.8596, 292.9236, 292.9876, 293.4357, 293.4997, 293.5637, 293.6277, 293.6917, 293.7557] \n",
      "\n"
     ]
    }
   ],
   "source": [
    "a = []\n",
    "b = []\n",
    "for t in target:\n",
    "    for i in range(len(wl_sel)):\n",
    "        if abs(wl_sel[i][0]-t) < 0.2:\n",
    "            a.append(wl_sel[i][0])\n",
    "            b.append(i)\n",
    "            \n",
    "print(\"number of selected peaks: \",len(a), \"\\n\")\n",
    "print(a, \"\\n\")\n",
    "#print(b)"
   ]
  },
  {
   "cell_type": "markdown",
   "metadata": {},
   "source": [
    "For Silicon (Si) the peaks are at **251.59, 288.12, 390.60**\n",
    "\n",
    "For Magnesium (Mg) the peaks are at **277.91, 279.59, 280.23, 281.78, 383.74, 285.27**\n",
    "\n",
    "For Manganese (Mn) the peaks are at **292.83, 293.61, 294.91, 403.25, 404.63, 404.56**\n",
    "\n",
    "For Copper (Cu) the peaks are at **296.06,324.73, 327.37**\n",
    "\n",
    "For Zinc (Zn) the peaks are at **202.55, 206.20, 213.90, 330.14, 334.41**"
   ]
  },
  {
   "cell_type": "code",
   "execution_count": 111,
   "metadata": {},
   "outputs": [
    {
     "data": {
      "text/html": [
       "<div>\n",
       "<style scoped>\n",
       "    .dataframe tbody tr th:only-of-type {\n",
       "        vertical-align: middle;\n",
       "    }\n",
       "\n",
       "    .dataframe tbody tr th {\n",
       "        vertical-align: top;\n",
       "    }\n",
       "\n",
       "    .dataframe thead th {\n",
       "        text-align: right;\n",
       "    }\n",
       "</style>\n",
       "<table border=\"1\" class=\"dataframe\">\n",
       "  <thead>\n",
       "    <tr style=\"text-align: right;\">\n",
       "      <th></th>\n",
       "      <th>0</th>\n",
       "      <th>1</th>\n",
       "      <th>2</th>\n",
       "      <th>3</th>\n",
       "      <th>4</th>\n",
       "      <th>5</th>\n",
       "      <th>6</th>\n",
       "      <th>7</th>\n",
       "      <th>8</th>\n",
       "      <th>9</th>\n",
       "      <th>...</th>\n",
       "      <th>153</th>\n",
       "      <th>154</th>\n",
       "      <th>155</th>\n",
       "      <th>156</th>\n",
       "      <th>157</th>\n",
       "      <th>158</th>\n",
       "      <th>159</th>\n",
       "      <th>160</th>\n",
       "      <th>161</th>\n",
       "      <th>162</th>\n",
       "    </tr>\n",
       "  </thead>\n",
       "  <tbody>\n",
       "    <tr>\n",
       "      <th>0</th>\n",
       "      <td>0.203601</td>\n",
       "      <td>0.248379</td>\n",
       "      <td>0.135825</td>\n",
       "      <td>-0.092937</td>\n",
       "      <td>-0.096241</td>\n",
       "      <td>-0.017615</td>\n",
       "      <td>-0.021200</td>\n",
       "      <td>-0.129819</td>\n",
       "      <td>-0.067256</td>\n",
       "      <td>-0.145748</td>\n",
       "      <td>...</td>\n",
       "      <td>-0.139329</td>\n",
       "      <td>-0.090179</td>\n",
       "      <td>-0.119180</td>\n",
       "      <td>0.226693</td>\n",
       "      <td>-0.150275</td>\n",
       "      <td>-0.107077</td>\n",
       "      <td>-0.168977</td>\n",
       "      <td>-0.105359</td>\n",
       "      <td>-0.189641</td>\n",
       "      <td>-0.050694</td>\n",
       "    </tr>\n",
       "    <tr>\n",
       "      <th>1</th>\n",
       "      <td>0.196541</td>\n",
       "      <td>0.231315</td>\n",
       "      <td>0.090112</td>\n",
       "      <td>-0.108521</td>\n",
       "      <td>-0.109792</td>\n",
       "      <td>-0.026573</td>\n",
       "      <td>-0.034486</td>\n",
       "      <td>-0.142293</td>\n",
       "      <td>-0.081817</td>\n",
       "      <td>-0.151813</td>\n",
       "      <td>...</td>\n",
       "      <td>-0.140075</td>\n",
       "      <td>-0.114275</td>\n",
       "      <td>-0.171146</td>\n",
       "      <td>0.141758</td>\n",
       "      <td>-0.182364</td>\n",
       "      <td>-0.130479</td>\n",
       "      <td>-0.174870</td>\n",
       "      <td>-0.109315</td>\n",
       "      <td>-0.195250</td>\n",
       "      <td>-0.054040</td>\n",
       "    </tr>\n",
       "    <tr>\n",
       "      <th>2</th>\n",
       "      <td>0.193951</td>\n",
       "      <td>0.210990</td>\n",
       "      <td>0.084635</td>\n",
       "      <td>-0.098243</td>\n",
       "      <td>-0.084712</td>\n",
       "      <td>-0.015570</td>\n",
       "      <td>-0.020731</td>\n",
       "      <td>-0.118292</td>\n",
       "      <td>-0.063564</td>\n",
       "      <td>-0.136296</td>\n",
       "      <td>...</td>\n",
       "      <td>-0.146258</td>\n",
       "      <td>-0.121499</td>\n",
       "      <td>-0.187678</td>\n",
       "      <td>0.090978</td>\n",
       "      <td>-0.181756</td>\n",
       "      <td>-0.119583</td>\n",
       "      <td>-0.169623</td>\n",
       "      <td>-0.104173</td>\n",
       "      <td>-0.175546</td>\n",
       "      <td>-0.043705</td>\n",
       "    </tr>\n",
       "    <tr>\n",
       "      <th>3</th>\n",
       "      <td>0.173340</td>\n",
       "      <td>0.200087</td>\n",
       "      <td>0.096727</td>\n",
       "      <td>-0.107420</td>\n",
       "      <td>-0.099034</td>\n",
       "      <td>-0.022858</td>\n",
       "      <td>-0.028565</td>\n",
       "      <td>-0.137979</td>\n",
       "      <td>-0.076479</td>\n",
       "      <td>-0.157492</td>\n",
       "      <td>...</td>\n",
       "      <td>-0.162354</td>\n",
       "      <td>-0.133952</td>\n",
       "      <td>-0.197884</td>\n",
       "      <td>0.122142</td>\n",
       "      <td>-0.200451</td>\n",
       "      <td>-0.137626</td>\n",
       "      <td>-0.192486</td>\n",
       "      <td>-0.121931</td>\n",
       "      <td>-0.206708</td>\n",
       "      <td>-0.063261</td>\n",
       "    </tr>\n",
       "    <tr>\n",
       "      <th>4</th>\n",
       "      <td>0.100600</td>\n",
       "      <td>0.101222</td>\n",
       "      <td>0.042054</td>\n",
       "      <td>-0.133603</td>\n",
       "      <td>-0.098254</td>\n",
       "      <td>-0.016849</td>\n",
       "      <td>-0.018016</td>\n",
       "      <td>-0.125377</td>\n",
       "      <td>-0.061199</td>\n",
       "      <td>-0.148625</td>\n",
       "      <td>...</td>\n",
       "      <td>-0.150908</td>\n",
       "      <td>-0.123957</td>\n",
       "      <td>-0.204267</td>\n",
       "      <td>0.113653</td>\n",
       "      <td>-0.194690</td>\n",
       "      <td>-0.120047</td>\n",
       "      <td>-0.182100</td>\n",
       "      <td>-0.103638</td>\n",
       "      <td>-0.188831</td>\n",
       "      <td>-0.052114</td>\n",
       "    </tr>\n",
       "    <tr>\n",
       "      <th>5</th>\n",
       "      <td>0.102703</td>\n",
       "      <td>0.107249</td>\n",
       "      <td>0.024620</td>\n",
       "      <td>-0.139094</td>\n",
       "      <td>-0.111646</td>\n",
       "      <td>-0.029565</td>\n",
       "      <td>-0.032372</td>\n",
       "      <td>-0.137045</td>\n",
       "      <td>-0.075942</td>\n",
       "      <td>-0.152728</td>\n",
       "      <td>...</td>\n",
       "      <td>-0.142303</td>\n",
       "      <td>-0.120967</td>\n",
       "      <td>-0.197529</td>\n",
       "      <td>0.106690</td>\n",
       "      <td>-0.194409</td>\n",
       "      <td>-0.129925</td>\n",
       "      <td>-0.180753</td>\n",
       "      <td>-0.109195</td>\n",
       "      <td>-0.192299</td>\n",
       "      <td>-0.056400</td>\n",
       "    </tr>\n",
       "    <tr>\n",
       "      <th>6</th>\n",
       "      <td>0.100364</td>\n",
       "      <td>0.109279</td>\n",
       "      <td>0.037084</td>\n",
       "      <td>-0.122619</td>\n",
       "      <td>-0.100702</td>\n",
       "      <td>-0.031262</td>\n",
       "      <td>-0.034631</td>\n",
       "      <td>-0.130193</td>\n",
       "      <td>-0.075490</td>\n",
       "      <td>-0.146783</td>\n",
       "      <td>...</td>\n",
       "      <td>-0.148685</td>\n",
       "      <td>-0.128262</td>\n",
       "      <td>-0.195982</td>\n",
       "      <td>0.079773</td>\n",
       "      <td>-0.190213</td>\n",
       "      <td>-0.126999</td>\n",
       "      <td>-0.174241</td>\n",
       "      <td>-0.106525</td>\n",
       "      <td>-0.183324</td>\n",
       "      <td>-0.061826</td>\n",
       "    </tr>\n",
       "    <tr>\n",
       "      <th>7</th>\n",
       "      <td>0.124552</td>\n",
       "      <td>0.139817</td>\n",
       "      <td>0.064089</td>\n",
       "      <td>-0.118892</td>\n",
       "      <td>-0.094463</td>\n",
       "      <td>-0.020122</td>\n",
       "      <td>-0.019944</td>\n",
       "      <td>-0.118802</td>\n",
       "      <td>-0.060086</td>\n",
       "      <td>-0.138399</td>\n",
       "      <td>...</td>\n",
       "      <td>-0.136582</td>\n",
       "      <td>-0.102066</td>\n",
       "      <td>-0.160913</td>\n",
       "      <td>0.142285</td>\n",
       "      <td>-0.165319</td>\n",
       "      <td>-0.104981</td>\n",
       "      <td>-0.165733</td>\n",
       "      <td>-0.096629</td>\n",
       "      <td>-0.172937</td>\n",
       "      <td>-0.048015</td>\n",
       "    </tr>\n",
       "    <tr>\n",
       "      <th>8</th>\n",
       "      <td>0.128577</td>\n",
       "      <td>0.140293</td>\n",
       "      <td>0.056570</td>\n",
       "      <td>-0.112664</td>\n",
       "      <td>-0.086655</td>\n",
       "      <td>-0.020810</td>\n",
       "      <td>-0.020754</td>\n",
       "      <td>-0.111790</td>\n",
       "      <td>-0.057373</td>\n",
       "      <td>-0.131924</td>\n",
       "      <td>...</td>\n",
       "      <td>-0.134356</td>\n",
       "      <td>-0.105856</td>\n",
       "      <td>-0.167908</td>\n",
       "      <td>0.104836</td>\n",
       "      <td>-0.164129</td>\n",
       "      <td>-0.103755</td>\n",
       "      <td>-0.161832</td>\n",
       "      <td>-0.097578</td>\n",
       "      <td>-0.166424</td>\n",
       "      <td>-0.054590</td>\n",
       "    </tr>\n",
       "    <tr>\n",
       "      <th>9</th>\n",
       "      <td>0.101174</td>\n",
       "      <td>0.116012</td>\n",
       "      <td>0.060185</td>\n",
       "      <td>-0.126894</td>\n",
       "      <td>-0.102657</td>\n",
       "      <td>-0.018668</td>\n",
       "      <td>-0.021203</td>\n",
       "      <td>-0.134425</td>\n",
       "      <td>-0.068906</td>\n",
       "      <td>-0.155508</td>\n",
       "      <td>...</td>\n",
       "      <td>-0.157998</td>\n",
       "      <td>-0.125972</td>\n",
       "      <td>-0.197541</td>\n",
       "      <td>0.139063</td>\n",
       "      <td>-0.196491</td>\n",
       "      <td>-0.126904</td>\n",
       "      <td>-0.189325</td>\n",
       "      <td>-0.113313</td>\n",
       "      <td>-0.200402</td>\n",
       "      <td>-0.054673</td>\n",
       "    </tr>\n",
       "    <tr>\n",
       "      <th>10</th>\n",
       "      <td>0.095817</td>\n",
       "      <td>0.112554</td>\n",
       "      <td>0.041016</td>\n",
       "      <td>-0.123614</td>\n",
       "      <td>-0.108028</td>\n",
       "      <td>-0.040039</td>\n",
       "      <td>-0.042655</td>\n",
       "      <td>-0.133036</td>\n",
       "      <td>-0.079716</td>\n",
       "      <td>-0.148791</td>\n",
       "      <td>...</td>\n",
       "      <td>-0.121748</td>\n",
       "      <td>-0.103426</td>\n",
       "      <td>-0.161347</td>\n",
       "      <td>0.112139</td>\n",
       "      <td>-0.170981</td>\n",
       "      <td>-0.120572</td>\n",
       "      <td>-0.165283</td>\n",
       "      <td>-0.103857</td>\n",
       "      <td>-0.176587</td>\n",
       "      <td>-0.056724</td>\n",
       "    </tr>\n",
       "    <tr>\n",
       "      <th>11</th>\n",
       "      <td>0.122936</td>\n",
       "      <td>0.127958</td>\n",
       "      <td>0.046532</td>\n",
       "      <td>-0.115802</td>\n",
       "      <td>-0.086149</td>\n",
       "      <td>-0.016376</td>\n",
       "      <td>-0.016238</td>\n",
       "      <td>-0.111410</td>\n",
       "      <td>-0.055855</td>\n",
       "      <td>-0.131830</td>\n",
       "      <td>...</td>\n",
       "      <td>-0.137436</td>\n",
       "      <td>-0.108343</td>\n",
       "      <td>-0.179481</td>\n",
       "      <td>0.100540</td>\n",
       "      <td>-0.170797</td>\n",
       "      <td>-0.106530</td>\n",
       "      <td>-0.163706</td>\n",
       "      <td>-0.096226</td>\n",
       "      <td>-0.168483</td>\n",
       "      <td>-0.049447</td>\n",
       "    </tr>\n",
       "    <tr>\n",
       "      <th>12</th>\n",
       "      <td>0.112479</td>\n",
       "      <td>0.124342</td>\n",
       "      <td>0.039416</td>\n",
       "      <td>-0.134305</td>\n",
       "      <td>-0.110605</td>\n",
       "      <td>-0.028556</td>\n",
       "      <td>-0.030563</td>\n",
       "      <td>-0.135108</td>\n",
       "      <td>-0.073194</td>\n",
       "      <td>-0.151765</td>\n",
       "      <td>...</td>\n",
       "      <td>-0.137864</td>\n",
       "      <td>-0.111299</td>\n",
       "      <td>-0.179455</td>\n",
       "      <td>0.130812</td>\n",
       "      <td>-0.184107</td>\n",
       "      <td>-0.122201</td>\n",
       "      <td>-0.175244</td>\n",
       "      <td>-0.103327</td>\n",
       "      <td>-0.187258</td>\n",
       "      <td>-0.052125</td>\n",
       "    </tr>\n",
       "    <tr>\n",
       "      <th>13</th>\n",
       "      <td>0.118737</td>\n",
       "      <td>0.142931</td>\n",
       "      <td>0.077820</td>\n",
       "      <td>-0.115136</td>\n",
       "      <td>-0.098540</td>\n",
       "      <td>-0.027417</td>\n",
       "      <td>-0.027199</td>\n",
       "      <td>-0.124458</td>\n",
       "      <td>-0.066863</td>\n",
       "      <td>-0.144877</td>\n",
       "      <td>...</td>\n",
       "      <td>-0.133670</td>\n",
       "      <td>-0.094250</td>\n",
       "      <td>-0.133238</td>\n",
       "      <td>0.181276</td>\n",
       "      <td>-0.155771</td>\n",
       "      <td>-0.106429</td>\n",
       "      <td>-0.168567</td>\n",
       "      <td>-0.103784</td>\n",
       "      <td>-0.179882</td>\n",
       "      <td>-0.054983</td>\n",
       "    </tr>\n",
       "    <tr>\n",
       "      <th>14</th>\n",
       "      <td>0.105173</td>\n",
       "      <td>0.103608</td>\n",
       "      <td>0.028218</td>\n",
       "      <td>-0.148837</td>\n",
       "      <td>-0.108778</td>\n",
       "      <td>-0.025438</td>\n",
       "      <td>-0.024423</td>\n",
       "      <td>-0.133569</td>\n",
       "      <td>-0.068599</td>\n",
       "      <td>-0.156355</td>\n",
       "      <td>...</td>\n",
       "      <td>-0.151816</td>\n",
       "      <td>-0.124291</td>\n",
       "      <td>-0.206035</td>\n",
       "      <td>0.117599</td>\n",
       "      <td>-0.198210</td>\n",
       "      <td>-0.123318</td>\n",
       "      <td>-0.184693</td>\n",
       "      <td>-0.102381</td>\n",
       "      <td>-0.190835</td>\n",
       "      <td>-0.048313</td>\n",
       "    </tr>\n",
       "    <tr>\n",
       "      <th>15</th>\n",
       "      <td>0.100845</td>\n",
       "      <td>0.115549</td>\n",
       "      <td>0.053688</td>\n",
       "      <td>-0.122720</td>\n",
       "      <td>-0.104840</td>\n",
       "      <td>-0.027524</td>\n",
       "      <td>-0.031120</td>\n",
       "      <td>-0.134444</td>\n",
       "      <td>-0.074474</td>\n",
       "      <td>-0.152018</td>\n",
       "      <td>...</td>\n",
       "      <td>-0.153733</td>\n",
       "      <td>-0.126397</td>\n",
       "      <td>-0.188293</td>\n",
       "      <td>0.119645</td>\n",
       "      <td>-0.189856</td>\n",
       "      <td>-0.127428</td>\n",
       "      <td>-0.182637</td>\n",
       "      <td>-0.113868</td>\n",
       "      <td>-0.194190</td>\n",
       "      <td>-0.059318</td>\n",
       "    </tr>\n",
       "    <tr>\n",
       "      <th>16</th>\n",
       "      <td>0.127142</td>\n",
       "      <td>0.127559</td>\n",
       "      <td>0.041016</td>\n",
       "      <td>-0.132799</td>\n",
       "      <td>-0.094263</td>\n",
       "      <td>-0.004262</td>\n",
       "      <td>-0.004042</td>\n",
       "      <td>-0.116939</td>\n",
       "      <td>-0.050428</td>\n",
       "      <td>-0.138023</td>\n",
       "      <td>...</td>\n",
       "      <td>-0.137464</td>\n",
       "      <td>-0.106376</td>\n",
       "      <td>-0.189710</td>\n",
       "      <td>0.142737</td>\n",
       "      <td>-0.180190</td>\n",
       "      <td>-0.104125</td>\n",
       "      <td>-0.168554</td>\n",
       "      <td>-0.089483</td>\n",
       "      <td>-0.176603</td>\n",
       "      <td>-0.030918</td>\n",
       "    </tr>\n",
       "    <tr>\n",
       "      <th>17</th>\n",
       "      <td>0.120456</td>\n",
       "      <td>0.139361</td>\n",
       "      <td>0.071265</td>\n",
       "      <td>-0.126983</td>\n",
       "      <td>-0.102685</td>\n",
       "      <td>-0.024353</td>\n",
       "      <td>-0.023212</td>\n",
       "      <td>-0.127661</td>\n",
       "      <td>-0.065622</td>\n",
       "      <td>-0.150041</td>\n",
       "      <td>...</td>\n",
       "      <td>-0.139084</td>\n",
       "      <td>-0.104544</td>\n",
       "      <td>-0.159320</td>\n",
       "      <td>0.173546</td>\n",
       "      <td>-0.171797</td>\n",
       "      <td>-0.112403</td>\n",
       "      <td>-0.175899</td>\n",
       "      <td>-0.100419</td>\n",
       "      <td>-0.186975</td>\n",
       "      <td>-0.053017</td>\n",
       "    </tr>\n",
       "    <tr>\n",
       "      <th>18</th>\n",
       "      <td>0.126763</td>\n",
       "      <td>0.155606</td>\n",
       "      <td>0.085226</td>\n",
       "      <td>-0.113943</td>\n",
       "      <td>-0.102762</td>\n",
       "      <td>-0.025140</td>\n",
       "      <td>-0.025904</td>\n",
       "      <td>-0.129132</td>\n",
       "      <td>-0.069190</td>\n",
       "      <td>-0.145922</td>\n",
       "      <td>...</td>\n",
       "      <td>-0.132442</td>\n",
       "      <td>-0.091731</td>\n",
       "      <td>-0.127837</td>\n",
       "      <td>0.201390</td>\n",
       "      <td>-0.153572</td>\n",
       "      <td>-0.107614</td>\n",
       "      <td>-0.165968</td>\n",
       "      <td>-0.102626</td>\n",
       "      <td>-0.181963</td>\n",
       "      <td>-0.047787</td>\n",
       "    </tr>\n",
       "    <tr>\n",
       "      <th>19</th>\n",
       "      <td>0.105798</td>\n",
       "      <td>0.113499</td>\n",
       "      <td>0.030404</td>\n",
       "      <td>-0.132238</td>\n",
       "      <td>-0.105637</td>\n",
       "      <td>-0.034530</td>\n",
       "      <td>-0.035025</td>\n",
       "      <td>-0.131075</td>\n",
       "      <td>-0.075060</td>\n",
       "      <td>-0.149619</td>\n",
       "      <td>...</td>\n",
       "      <td>-0.139776</td>\n",
       "      <td>-0.118100</td>\n",
       "      <td>-0.188782</td>\n",
       "      <td>0.089492</td>\n",
       "      <td>-0.185693</td>\n",
       "      <td>-0.124981</td>\n",
       "      <td>-0.176543</td>\n",
       "      <td>-0.108433</td>\n",
       "      <td>-0.181909</td>\n",
       "      <td>-0.056671</td>\n",
       "    </tr>\n",
       "    <tr>\n",
       "      <th>20</th>\n",
       "      <td>0.094557</td>\n",
       "      <td>0.108752</td>\n",
       "      <td>0.054719</td>\n",
       "      <td>-0.122374</td>\n",
       "      <td>-0.104666</td>\n",
       "      <td>-0.026760</td>\n",
       "      <td>-0.030372</td>\n",
       "      <td>-0.136356</td>\n",
       "      <td>-0.075790</td>\n",
       "      <td>-0.154116</td>\n",
       "      <td>...</td>\n",
       "      <td>-0.156168</td>\n",
       "      <td>-0.129208</td>\n",
       "      <td>-0.193007</td>\n",
       "      <td>0.117926</td>\n",
       "      <td>-0.193548</td>\n",
       "      <td>-0.130146</td>\n",
       "      <td>-0.186848</td>\n",
       "      <td>-0.116554</td>\n",
       "      <td>-0.197497</td>\n",
       "      <td>-0.061203</td>\n",
       "    </tr>\n",
       "    <tr>\n",
       "      <th>21</th>\n",
       "      <td>0.116372</td>\n",
       "      <td>0.122243</td>\n",
       "      <td>0.043034</td>\n",
       "      <td>-0.107659</td>\n",
       "      <td>-0.088376</td>\n",
       "      <td>-0.026529</td>\n",
       "      <td>-0.028723</td>\n",
       "      <td>-0.113968</td>\n",
       "      <td>-0.064542</td>\n",
       "      <td>-0.130946</td>\n",
       "      <td>...</td>\n",
       "      <td>-0.138224</td>\n",
       "      <td>-0.115804</td>\n",
       "      <td>-0.176430</td>\n",
       "      <td>0.070054</td>\n",
       "      <td>-0.169307</td>\n",
       "      <td>-0.112134</td>\n",
       "      <td>-0.159647</td>\n",
       "      <td>-0.099471</td>\n",
       "      <td>-0.165047</td>\n",
       "      <td>-0.055600</td>\n",
       "    </tr>\n",
       "    <tr>\n",
       "      <th>22</th>\n",
       "      <td>0.119612</td>\n",
       "      <td>0.128649</td>\n",
       "      <td>0.053990</td>\n",
       "      <td>-0.108468</td>\n",
       "      <td>-0.089935</td>\n",
       "      <td>-0.024953</td>\n",
       "      <td>-0.026914</td>\n",
       "      <td>-0.116370</td>\n",
       "      <td>-0.065646</td>\n",
       "      <td>-0.135813</td>\n",
       "      <td>...</td>\n",
       "      <td>-0.138884</td>\n",
       "      <td>-0.113217</td>\n",
       "      <td>-0.173426</td>\n",
       "      <td>0.091150</td>\n",
       "      <td>-0.171125</td>\n",
       "      <td>-0.113898</td>\n",
       "      <td>-0.166186</td>\n",
       "      <td>-0.104631</td>\n",
       "      <td>-0.172238</td>\n",
       "      <td>-0.059657</td>\n",
       "    </tr>\n",
       "    <tr>\n",
       "      <th>23</th>\n",
       "      <td>0.132312</td>\n",
       "      <td>0.154713</td>\n",
       "      <td>0.082892</td>\n",
       "      <td>-0.117238</td>\n",
       "      <td>-0.097068</td>\n",
       "      <td>-0.017778</td>\n",
       "      <td>-0.018176</td>\n",
       "      <td>-0.122293</td>\n",
       "      <td>-0.060089</td>\n",
       "      <td>-0.142744</td>\n",
       "      <td>...</td>\n",
       "      <td>-0.134677</td>\n",
       "      <td>-0.092481</td>\n",
       "      <td>-0.135461</td>\n",
       "      <td>0.200466</td>\n",
       "      <td>-0.155336</td>\n",
       "      <td>-0.102290</td>\n",
       "      <td>-0.167660</td>\n",
       "      <td>-0.096510</td>\n",
       "      <td>-0.178756</td>\n",
       "      <td>-0.047041</td>\n",
       "    </tr>\n",
       "    <tr>\n",
       "      <th>24</th>\n",
       "      <td>0.111030</td>\n",
       "      <td>0.120312</td>\n",
       "      <td>0.045579</td>\n",
       "      <td>-0.131609</td>\n",
       "      <td>-0.106750</td>\n",
       "      <td>-0.030804</td>\n",
       "      <td>-0.031534</td>\n",
       "      <td>-0.132023</td>\n",
       "      <td>-0.073489</td>\n",
       "      <td>-0.153131</td>\n",
       "      <td>...</td>\n",
       "      <td>-0.151016</td>\n",
       "      <td>-0.125843</td>\n",
       "      <td>-0.192122</td>\n",
       "      <td>0.111726</td>\n",
       "      <td>-0.191511</td>\n",
       "      <td>-0.125928</td>\n",
       "      <td>-0.181198</td>\n",
       "      <td>-0.108834</td>\n",
       "      <td>-0.190570</td>\n",
       "      <td>-0.060081</td>\n",
       "    </tr>\n",
       "    <tr>\n",
       "      <th>25</th>\n",
       "      <td>0.114478</td>\n",
       "      <td>0.125916</td>\n",
       "      <td>0.053869</td>\n",
       "      <td>-0.134678</td>\n",
       "      <td>-0.108216</td>\n",
       "      <td>-0.020756</td>\n",
       "      <td>-0.022453</td>\n",
       "      <td>-0.135728</td>\n",
       "      <td>-0.068753</td>\n",
       "      <td>-0.154779</td>\n",
       "      <td>...</td>\n",
       "      <td>-0.151746</td>\n",
       "      <td>-0.122223</td>\n",
       "      <td>-0.193285</td>\n",
       "      <td>0.145311</td>\n",
       "      <td>-0.193486</td>\n",
       "      <td>-0.123754</td>\n",
       "      <td>-0.184396</td>\n",
       "      <td>-0.106503</td>\n",
       "      <td>-0.198663</td>\n",
       "      <td>-0.054800</td>\n",
       "    </tr>\n",
       "    <tr>\n",
       "      <th>26</th>\n",
       "      <td>0.116721</td>\n",
       "      <td>0.116082</td>\n",
       "      <td>0.042485</td>\n",
       "      <td>-0.147651</td>\n",
       "      <td>-0.102903</td>\n",
       "      <td>-0.021999</td>\n",
       "      <td>-0.016015</td>\n",
       "      <td>-0.124988</td>\n",
       "      <td>-0.058200</td>\n",
       "      <td>-0.151297</td>\n",
       "      <td>...</td>\n",
       "      <td>-0.139113</td>\n",
       "      <td>-0.108591</td>\n",
       "      <td>-0.187220</td>\n",
       "      <td>0.144424</td>\n",
       "      <td>-0.187338</td>\n",
       "      <td>-0.113869</td>\n",
       "      <td>-0.182223</td>\n",
       "      <td>-0.101853</td>\n",
       "      <td>-0.187258</td>\n",
       "      <td>-0.049287</td>\n",
       "    </tr>\n",
       "    <tr>\n",
       "      <th>27</th>\n",
       "      <td>0.119778</td>\n",
       "      <td>0.126843</td>\n",
       "      <td>0.059175</td>\n",
       "      <td>-0.135930</td>\n",
       "      <td>-0.101554</td>\n",
       "      <td>-0.013558</td>\n",
       "      <td>-0.011554</td>\n",
       "      <td>-0.127254</td>\n",
       "      <td>-0.059122</td>\n",
       "      <td>-0.151671</td>\n",
       "      <td>...</td>\n",
       "      <td>-0.148886</td>\n",
       "      <td>-0.114767</td>\n",
       "      <td>-0.189828</td>\n",
       "      <td>0.162549</td>\n",
       "      <td>-0.189714</td>\n",
       "      <td>-0.114212</td>\n",
       "      <td>-0.182184</td>\n",
       "      <td>-0.099979</td>\n",
       "      <td>-0.192599</td>\n",
       "      <td>-0.043671</td>\n",
       "    </tr>\n",
       "    <tr>\n",
       "      <th>28</th>\n",
       "      <td>0.103110</td>\n",
       "      <td>0.110892</td>\n",
       "      <td>0.024542</td>\n",
       "      <td>-0.138763</td>\n",
       "      <td>-0.111487</td>\n",
       "      <td>-0.040107</td>\n",
       "      <td>-0.039770</td>\n",
       "      <td>-0.134990</td>\n",
       "      <td>-0.078196</td>\n",
       "      <td>-0.152881</td>\n",
       "      <td>...</td>\n",
       "      <td>-0.136650</td>\n",
       "      <td>-0.116965</td>\n",
       "      <td>-0.185564</td>\n",
       "      <td>0.092613</td>\n",
       "      <td>-0.186131</td>\n",
       "      <td>-0.126369</td>\n",
       "      <td>-0.176191</td>\n",
       "      <td>-0.105837</td>\n",
       "      <td>-0.183684</td>\n",
       "      <td>-0.063053</td>\n",
       "    </tr>\n",
       "    <tr>\n",
       "      <th>29</th>\n",
       "      <td>0.116010</td>\n",
       "      <td>0.122975</td>\n",
       "      <td>0.043222</td>\n",
       "      <td>-0.107937</td>\n",
       "      <td>-0.086803</td>\n",
       "      <td>-0.026371</td>\n",
       "      <td>-0.027719</td>\n",
       "      <td>-0.113438</td>\n",
       "      <td>-0.064351</td>\n",
       "      <td>-0.131468</td>\n",
       "      <td>...</td>\n",
       "      <td>-0.136953</td>\n",
       "      <td>-0.113356</td>\n",
       "      <td>-0.176671</td>\n",
       "      <td>0.070711</td>\n",
       "      <td>-0.168402</td>\n",
       "      <td>-0.111778</td>\n",
       "      <td>-0.161321</td>\n",
       "      <td>-0.102360</td>\n",
       "      <td>-0.166765</td>\n",
       "      <td>-0.060483</td>\n",
       "    </tr>\n",
       "    <tr>\n",
       "      <th>30</th>\n",
       "      <td>0.087067</td>\n",
       "      <td>0.102391</td>\n",
       "      <td>0.054974</td>\n",
       "      <td>-0.120319</td>\n",
       "      <td>-0.104689</td>\n",
       "      <td>-0.028801</td>\n",
       "      <td>-0.032543</td>\n",
       "      <td>-0.137428</td>\n",
       "      <td>-0.078246</td>\n",
       "      <td>-0.155843</td>\n",
       "      <td>...</td>\n",
       "      <td>-0.160106</td>\n",
       "      <td>-0.132147</td>\n",
       "      <td>-0.194540</td>\n",
       "      <td>0.112733</td>\n",
       "      <td>-0.196476</td>\n",
       "      <td>-0.133321</td>\n",
       "      <td>-0.189475</td>\n",
       "      <td>-0.119615</td>\n",
       "      <td>-0.199721</td>\n",
       "      <td>-0.064967</td>\n",
       "    </tr>\n",
       "  </tbody>\n",
       "</table>\n",
       "<p>31 rows × 163 columns</p>\n",
       "</div>"
      ],
      "text/plain": [
       "         0         1         2         3         4         5         6    \\\n",
       "0   0.203601  0.248379  0.135825 -0.092937 -0.096241 -0.017615 -0.021200   \n",
       "1   0.196541  0.231315  0.090112 -0.108521 -0.109792 -0.026573 -0.034486   \n",
       "2   0.193951  0.210990  0.084635 -0.098243 -0.084712 -0.015570 -0.020731   \n",
       "3   0.173340  0.200087  0.096727 -0.107420 -0.099034 -0.022858 -0.028565   \n",
       "4   0.100600  0.101222  0.042054 -0.133603 -0.098254 -0.016849 -0.018016   \n",
       "5   0.102703  0.107249  0.024620 -0.139094 -0.111646 -0.029565 -0.032372   \n",
       "6   0.100364  0.109279  0.037084 -0.122619 -0.100702 -0.031262 -0.034631   \n",
       "7   0.124552  0.139817  0.064089 -0.118892 -0.094463 -0.020122 -0.019944   \n",
       "8   0.128577  0.140293  0.056570 -0.112664 -0.086655 -0.020810 -0.020754   \n",
       "9   0.101174  0.116012  0.060185 -0.126894 -0.102657 -0.018668 -0.021203   \n",
       "10  0.095817  0.112554  0.041016 -0.123614 -0.108028 -0.040039 -0.042655   \n",
       "11  0.122936  0.127958  0.046532 -0.115802 -0.086149 -0.016376 -0.016238   \n",
       "12  0.112479  0.124342  0.039416 -0.134305 -0.110605 -0.028556 -0.030563   \n",
       "13  0.118737  0.142931  0.077820 -0.115136 -0.098540 -0.027417 -0.027199   \n",
       "14  0.105173  0.103608  0.028218 -0.148837 -0.108778 -0.025438 -0.024423   \n",
       "15  0.100845  0.115549  0.053688 -0.122720 -0.104840 -0.027524 -0.031120   \n",
       "16  0.127142  0.127559  0.041016 -0.132799 -0.094263 -0.004262 -0.004042   \n",
       "17  0.120456  0.139361  0.071265 -0.126983 -0.102685 -0.024353 -0.023212   \n",
       "18  0.126763  0.155606  0.085226 -0.113943 -0.102762 -0.025140 -0.025904   \n",
       "19  0.105798  0.113499  0.030404 -0.132238 -0.105637 -0.034530 -0.035025   \n",
       "20  0.094557  0.108752  0.054719 -0.122374 -0.104666 -0.026760 -0.030372   \n",
       "21  0.116372  0.122243  0.043034 -0.107659 -0.088376 -0.026529 -0.028723   \n",
       "22  0.119612  0.128649  0.053990 -0.108468 -0.089935 -0.024953 -0.026914   \n",
       "23  0.132312  0.154713  0.082892 -0.117238 -0.097068 -0.017778 -0.018176   \n",
       "24  0.111030  0.120312  0.045579 -0.131609 -0.106750 -0.030804 -0.031534   \n",
       "25  0.114478  0.125916  0.053869 -0.134678 -0.108216 -0.020756 -0.022453   \n",
       "26  0.116721  0.116082  0.042485 -0.147651 -0.102903 -0.021999 -0.016015   \n",
       "27  0.119778  0.126843  0.059175 -0.135930 -0.101554 -0.013558 -0.011554   \n",
       "28  0.103110  0.110892  0.024542 -0.138763 -0.111487 -0.040107 -0.039770   \n",
       "29  0.116010  0.122975  0.043222 -0.107937 -0.086803 -0.026371 -0.027719   \n",
       "30  0.087067  0.102391  0.054974 -0.120319 -0.104689 -0.028801 -0.032543   \n",
       "\n",
       "         7         8         9    ...       153       154       155       156  \\\n",
       "0  -0.129819 -0.067256 -0.145748  ... -0.139329 -0.090179 -0.119180  0.226693   \n",
       "1  -0.142293 -0.081817 -0.151813  ... -0.140075 -0.114275 -0.171146  0.141758   \n",
       "2  -0.118292 -0.063564 -0.136296  ... -0.146258 -0.121499 -0.187678  0.090978   \n",
       "3  -0.137979 -0.076479 -0.157492  ... -0.162354 -0.133952 -0.197884  0.122142   \n",
       "4  -0.125377 -0.061199 -0.148625  ... -0.150908 -0.123957 -0.204267  0.113653   \n",
       "5  -0.137045 -0.075942 -0.152728  ... -0.142303 -0.120967 -0.197529  0.106690   \n",
       "6  -0.130193 -0.075490 -0.146783  ... -0.148685 -0.128262 -0.195982  0.079773   \n",
       "7  -0.118802 -0.060086 -0.138399  ... -0.136582 -0.102066 -0.160913  0.142285   \n",
       "8  -0.111790 -0.057373 -0.131924  ... -0.134356 -0.105856 -0.167908  0.104836   \n",
       "9  -0.134425 -0.068906 -0.155508  ... -0.157998 -0.125972 -0.197541  0.139063   \n",
       "10 -0.133036 -0.079716 -0.148791  ... -0.121748 -0.103426 -0.161347  0.112139   \n",
       "11 -0.111410 -0.055855 -0.131830  ... -0.137436 -0.108343 -0.179481  0.100540   \n",
       "12 -0.135108 -0.073194 -0.151765  ... -0.137864 -0.111299 -0.179455  0.130812   \n",
       "13 -0.124458 -0.066863 -0.144877  ... -0.133670 -0.094250 -0.133238  0.181276   \n",
       "14 -0.133569 -0.068599 -0.156355  ... -0.151816 -0.124291 -0.206035  0.117599   \n",
       "15 -0.134444 -0.074474 -0.152018  ... -0.153733 -0.126397 -0.188293  0.119645   \n",
       "16 -0.116939 -0.050428 -0.138023  ... -0.137464 -0.106376 -0.189710  0.142737   \n",
       "17 -0.127661 -0.065622 -0.150041  ... -0.139084 -0.104544 -0.159320  0.173546   \n",
       "18 -0.129132 -0.069190 -0.145922  ... -0.132442 -0.091731 -0.127837  0.201390   \n",
       "19 -0.131075 -0.075060 -0.149619  ... -0.139776 -0.118100 -0.188782  0.089492   \n",
       "20 -0.136356 -0.075790 -0.154116  ... -0.156168 -0.129208 -0.193007  0.117926   \n",
       "21 -0.113968 -0.064542 -0.130946  ... -0.138224 -0.115804 -0.176430  0.070054   \n",
       "22 -0.116370 -0.065646 -0.135813  ... -0.138884 -0.113217 -0.173426  0.091150   \n",
       "23 -0.122293 -0.060089 -0.142744  ... -0.134677 -0.092481 -0.135461  0.200466   \n",
       "24 -0.132023 -0.073489 -0.153131  ... -0.151016 -0.125843 -0.192122  0.111726   \n",
       "25 -0.135728 -0.068753 -0.154779  ... -0.151746 -0.122223 -0.193285  0.145311   \n",
       "26 -0.124988 -0.058200 -0.151297  ... -0.139113 -0.108591 -0.187220  0.144424   \n",
       "27 -0.127254 -0.059122 -0.151671  ... -0.148886 -0.114767 -0.189828  0.162549   \n",
       "28 -0.134990 -0.078196 -0.152881  ... -0.136650 -0.116965 -0.185564  0.092613   \n",
       "29 -0.113438 -0.064351 -0.131468  ... -0.136953 -0.113356 -0.176671  0.070711   \n",
       "30 -0.137428 -0.078246 -0.155843  ... -0.160106 -0.132147 -0.194540  0.112733   \n",
       "\n",
       "         157       158       159       160       161       162  \n",
       "0  -0.150275 -0.107077 -0.168977 -0.105359 -0.189641 -0.050694  \n",
       "1  -0.182364 -0.130479 -0.174870 -0.109315 -0.195250 -0.054040  \n",
       "2  -0.181756 -0.119583 -0.169623 -0.104173 -0.175546 -0.043705  \n",
       "3  -0.200451 -0.137626 -0.192486 -0.121931 -0.206708 -0.063261  \n",
       "4  -0.194690 -0.120047 -0.182100 -0.103638 -0.188831 -0.052114  \n",
       "5  -0.194409 -0.129925 -0.180753 -0.109195 -0.192299 -0.056400  \n",
       "6  -0.190213 -0.126999 -0.174241 -0.106525 -0.183324 -0.061826  \n",
       "7  -0.165319 -0.104981 -0.165733 -0.096629 -0.172937 -0.048015  \n",
       "8  -0.164129 -0.103755 -0.161832 -0.097578 -0.166424 -0.054590  \n",
       "9  -0.196491 -0.126904 -0.189325 -0.113313 -0.200402 -0.054673  \n",
       "10 -0.170981 -0.120572 -0.165283 -0.103857 -0.176587 -0.056724  \n",
       "11 -0.170797 -0.106530 -0.163706 -0.096226 -0.168483 -0.049447  \n",
       "12 -0.184107 -0.122201 -0.175244 -0.103327 -0.187258 -0.052125  \n",
       "13 -0.155771 -0.106429 -0.168567 -0.103784 -0.179882 -0.054983  \n",
       "14 -0.198210 -0.123318 -0.184693 -0.102381 -0.190835 -0.048313  \n",
       "15 -0.189856 -0.127428 -0.182637 -0.113868 -0.194190 -0.059318  \n",
       "16 -0.180190 -0.104125 -0.168554 -0.089483 -0.176603 -0.030918  \n",
       "17 -0.171797 -0.112403 -0.175899 -0.100419 -0.186975 -0.053017  \n",
       "18 -0.153572 -0.107614 -0.165968 -0.102626 -0.181963 -0.047787  \n",
       "19 -0.185693 -0.124981 -0.176543 -0.108433 -0.181909 -0.056671  \n",
       "20 -0.193548 -0.130146 -0.186848 -0.116554 -0.197497 -0.061203  \n",
       "21 -0.169307 -0.112134 -0.159647 -0.099471 -0.165047 -0.055600  \n",
       "22 -0.171125 -0.113898 -0.166186 -0.104631 -0.172238 -0.059657  \n",
       "23 -0.155336 -0.102290 -0.167660 -0.096510 -0.178756 -0.047041  \n",
       "24 -0.191511 -0.125928 -0.181198 -0.108834 -0.190570 -0.060081  \n",
       "25 -0.193486 -0.123754 -0.184396 -0.106503 -0.198663 -0.054800  \n",
       "26 -0.187338 -0.113869 -0.182223 -0.101853 -0.187258 -0.049287  \n",
       "27 -0.189714 -0.114212 -0.182184 -0.099979 -0.192599 -0.043671  \n",
       "28 -0.186131 -0.126369 -0.176191 -0.105837 -0.183684 -0.063053  \n",
       "29 -0.168402 -0.111778 -0.161321 -0.102360 -0.166765 -0.060483  \n",
       "30 -0.196476 -0.133321 -0.189475 -0.119615 -0.199721 -0.064967  \n",
       "\n",
       "[31 rows x 163 columns]"
      ]
     },
     "execution_count": 111,
     "metadata": {},
     "output_type": "execute_result"
    }
   ],
   "source": [
    "x_selecta = pd.DataFrame(x_df.values[:,sel])\n",
    "x_selecta"
   ]
  },
  {
   "cell_type": "code",
   "execution_count": null,
   "metadata": {},
   "outputs": [],
   "source": []
  },
  {
   "cell_type": "code",
   "execution_count": 112,
   "metadata": {
    "scrolled": false
   },
   "outputs": [
    {
     "name": "stdout",
     "output_type": "stream",
     "text": [
      "100% completed\n",
      "Suggested number of components:  6\n",
      "\n"
     ]
    },
    {
     "data": {
      "image/png": "[encoded data removed]",
      "text/plain": [
       "<Figure size 432x288 with 1 Axes>"
      ]
     },
     "metadata": {},
     "output_type": "display_data"
    },
    {
     "name": "stdout",
     "output_type": "stream",
     "text": [
      "R2 calib: 0.989\n",
      "R2 CV: 0.981\n",
      "MSE calib: 0.002\n",
      "MSE CV: 0.003\n"
     ]
    }
   ],
   "source": [
    "optimise_pls_cv(x_selecta, y_df, 40, plot_components=True) \n",
    "#optimise_pls_cv(x_selecta, y_df, 17, plot_components=True) \n",
    "\n",
    "#optimise_pls_cv(x_df, y_df, 20, plot_components=True) "
   ]
  },
  {
   "cell_type": "code",
   "execution_count": 88,
   "metadata": {},
   "outputs": [
    {
     "name": "stdout",
     "output_type": "stream",
     "text": [
      "(24, 4094) (24, 1)\n",
      "(7, 4094) (7, 1)\n",
      "         0\n",
      "2      0.1\n",
      "21   0.033\n",
      "30  0.3857\n",
      "16   0.024\n",
      "23    1.14\n",
      "20  0.3857\n",
      "5     0.06\n"
     ]
    }
   ],
   "source": [
    "X_train, X_test, y_train, y_test = train_test_split(x_df, y_df, test_size=0.2, random_state = 13)\n",
    "X_train, X_test, y_train, y_test = train_test_split(x_df, y_df, test_size=0.2)\n",
    "#X_train, X_test, y_train, y_test = train_test_split(x_selecta, y_df, test_size=0.2)\n",
    "print (X_train.shape, y_train.shape)\n",
    "print (X_test.shape, y_test.shape)\n",
    "\n",
    "print(y_test)"
   ]
  },
  {
   "cell_type": "code",
   "execution_count": 89,
   "metadata": {},
   "outputs": [
    {
     "name": "stdout",
     "output_type": "stream",
     "text": [
      "R2_pred:  0.9650789752849575\n",
      "RMSE:  0.06939238996368269\n"
     ]
    },
    {
     "data": {
      "image/png": "[encoded data removed]",
      "text/plain": [
       "<Figure size 720x360 with 1 Axes>"
      ]
     },
     "metadata": {
      "needs_background": "light"
     },
     "output_type": "display_data"
    }
   ],
   "source": [
    "ncomps = min(20,len(wl_sel)-1)\n",
    "#print(\"number of components: \", ncomps)\n",
    "\n",
    "# Define PLS object\n",
    "#pls =  PLSRegression(n_components=ncomps)\n",
    "pls =  PLSRegression(n_components=20)\n",
    "# Fit\n",
    "pls.fit(X_train, y_train)\n",
    "\n",
    "y_pred = pls.predict(X_test)\n",
    "y_pred1 = pls.predict(X_train)\n",
    "\n",
    "# Calculate score and error\n",
    "r2 = r2_score(y_test, y_pred)\n",
    "rmse = sqrt(mean_squared_error(y_test, y_pred))\n",
    "\n",
    "\n",
    "print(\"R2_pred: \", r2)\n",
    "print(\"RMSE: \", rmse)\n",
    "#print(\"R2_cv: \",score_cv)\n",
    "\n",
    "\n",
    "c=np.append(y_train, y_pred1, axis=1)\n",
    "\n",
    "#print(\"TRAIN\\n [real, predictions]\")\n",
    "#print(c)\n",
    "\n",
    "plt.figure(figsize=(10,5))\n",
    "plt.scatter(y_test, y_pred)\n",
    "plt.scatter(y_train, y_pred1)\n",
    "plt.plot( y_test, linear_model.LinearRegression().fit(y_test, y_pred).predict(y_test) )\n",
    "plt.xlabel('True Values')\n",
    "plt.ylabel('Predictions')\n",
    "plt.savefig(\"../basic_PLS.png\")\n",
    "plt.grid(True)\n",
    "plt.show()"
   ]
  },
  {
   "cell_type": "code",
   "execution_count": null,
   "metadata": {},
   "outputs": [],
   "source": []
  },
  {
   "cell_type": "code",
   "execution_count": 90,
   "metadata": {},
   "outputs": [
    {
     "name": "stdout",
     "output_type": "stream",
     "text": [
      "R^2_pred:  0.9010475082981296\n",
      "RMSE:  0.11681045703342431\n"
     ]
    },
    {
     "data": {
      "image/png": "[encoded data removed]",
      "text/plain": [
       "<Figure size 720x504 with 1 Axes>"
      ]
     },
     "metadata": {
      "needs_background": "light"
     },
     "output_type": "display_data"
    }
   ],
   "source": [
    "lm = linear_model.LinearRegression()\n",
    "model = lm.fit(X_train, y_train)\n",
    "predictions = lm.predict(X_test)\n",
    "y_pred1 = lm.predict(X_train)\n",
    "\n",
    "rmse = sqrt(mean_squared_error(y_test, predictions))\n",
    "r2 = r2_score(y_test, predictions)\n",
    "print(\"R^2_pred: \", r2)\n",
    "print(\"RMSE: \", rmse)\n",
    "\n",
    "\n",
    "b=np.append(y_test, predictions, axis=1)\n",
    "\n",
    "#print(\"[real, predictions]\")\n",
    "#print(b)\n",
    "plt.figure(figsize=(10,7))\n",
    "plt.scatter(y_test, predictions)\n",
    "plt.scatter(y_train, y_pred1)\n",
    "plt.plot( y_test, linear_model.LinearRegression().fit(y_test, predictions).predict(y_test) )\n",
    "plt.xlabel('True Values')\n",
    "plt.savefig(\"../basic_Linear.png\")\n",
    "plt.ylabel('Predictions')\n",
    "plt.grid(True)\n",
    "plt.show()"
   ]
  },
  {
   "cell_type": "code",
   "execution_count": null,
   "metadata": {},
   "outputs": [],
   "source": []
  },
  {
   "cell_type": "code",
   "execution_count": null,
   "metadata": {},
   "outputs": [],
   "source": []
  },
  {
   "cell_type": "code",
   "execution_count": null,
   "metadata": {},
   "outputs": [],
   "source": []
  },
  {
   "cell_type": "code",
   "execution_count": 91,
   "metadata": {},
   "outputs": [
    {
     "name": "stdout",
     "output_type": "stream",
     "text": [
      "Alpha:0.0000, R2:1.00, MSE:0.18, RMSE:0.42\n",
      "Alpha:0.0000, R2:1.00, MSE:0.18, RMSE:0.42\n",
      "Alpha:0.0000, R2:1.00, MSE:0.18, RMSE:0.42\n",
      "Alpha:0.0001, R2:1.00, MSE:0.06, RMSE:0.25\n",
      "Alpha:0.0010, R2:1.00, MSE:0.01, RMSE:0.07\n",
      "Alpha:0.0100, R2:1.00, MSE:0.01, RMSE:0.09\n",
      "Alpha:0.1000, R2:1.00, MSE:0.02, RMSE:0.13\n",
      "Alpha:0.3000, R2:1.00, MSE:0.00, RMSE:0.06\n",
      "Alpha:0.5000, R2:1.00, MSE:0.00, RMSE:0.05\n",
      "Alpha:0.7000, R2:1.00, MSE:0.00, RMSE:0.06\n",
      "Alpha:1.0000, R2:0.99, MSE:0.00, RMSE:0.06\n"
     ]
    }
   ],
   "source": [
    "alphas = [0, 0.000001, 0.00001, 0.0001, 0.001, 0.01, 0.1, 0.3, 0.5, 0.7, 1]\n",
    "\n",
    "for a in alphas:\n",
    "    model = ElasticNet(alpha=a).fit(X_train,y_train)   \n",
    "    score = model.score(X_train, y_train)\n",
    "    pred_y = model.predict(X_test)\n",
    "    mse = mean_squared_error(y_test, pred_y)   \n",
    "    print(\"Alpha:{0:.4f}, R2:{1:.2f}, MSE:{2:.2f}, RMSE:{3:.2f}\".format(a, score, mse, np.sqrt(mse)))"
   ]
  },
  {
   "cell_type": "code",
   "execution_count": 94,
   "metadata": {},
   "outputs": [
    {
     "name": "stdout",
     "output_type": "stream",
     "text": [
      "R^2:  -0.2780028388832607\n",
      "RMSE:  0.41979210361945346\n"
     ]
    },
    {
     "data": {
      "image/png": "[encoded data removed]",
      "text/plain": [
       "<Figure size 720x360 with 1 Axes>"
      ]
     },
     "metadata": {
      "needs_background": "light"
     },
     "output_type": "display_data"
    }
   ],
   "source": [
    "model = ElasticNet(alpha=0.000001).fit(X_train,y_train)   \n",
    "score = model.score(X_train, y_train)\n",
    "#print(\"Train score: \", score)\n",
    "pred_y = model.predict(X_test)\n",
    "y_pred1 = model.predict(X_train)\n",
    "\n",
    "rmse = sqrt(mean_squared_error(y_test, pred_y))\n",
    "r2 = r2_score(y_test, pred_y)\n",
    "print(\"R^2: \", r2)\n",
    "print(\"RMSE: \", rmse)\n",
    "\n",
    "plt.figure(figsize=(10,5))\n",
    "plt.scatter(y_test, pred_y)\n",
    "plt.scatter(y_train, y_pred1)\n",
    "plt.plot( y_test, linear_model.LinearRegression().fit(y_test, pred_y).predict(y_test) )\n",
    "plt.xlabel('True Values')\n",
    "plt.ylabel('Predictions')\n",
    "plt.savefig(\"../basic_ElasticNet.png\")\n",
    "plt.grid(True)\n",
    "plt.show()"
   ]
  },
  {
   "cell_type": "code",
   "execution_count": null,
   "metadata": {},
   "outputs": [],
   "source": []
  },
  {
   "cell_type": "code",
   "execution_count": 72,
   "metadata": {},
   "outputs": [
    {
     "name": "stdout",
     "output_type": "stream",
     "text": [
      "(7,)\n",
      "(24,)\n"
     ]
    }
   ],
   "source": [
    "y_test=np.ravel(y_test)\n",
    "print(y_test.shape)\n",
    "y_train=np.ravel(y_train)\n",
    "print(y_train.shape)"
   ]
  },
  {
   "cell_type": "code",
   "execution_count": 73,
   "metadata": {},
   "outputs": [
    {
     "name": "stdout",
     "output_type": "stream",
     "text": [
      "R^2:  0.5709624072773708\n",
      "RMSE:  0.21541670959121426 \n",
      "\n",
      "[real, predictions]\n",
      "[[0.83 0.4465646800000012]\n",
      " [0.079 0.18769499999999947]\n",
      " [1.14 0.7878701600000154]\n",
      " [0.45 0.5217753200000069]\n",
      " [0.48 0.3049556400000009]\n",
      " [0.3857 0.38123348000001495]\n",
      " [0.28 0.3586489999999993]]\n"
     ]
    },
    {
     "data": {
      "text/plain": [
       "Text(63.0, 0.5, 'Predictions')"
      ]
     },
     "execution_count": 73,
     "metadata": {},
     "output_type": "execute_result"
    },
    {
     "data": {
      "image/png": "[encoded data removed]",
      "text/plain": [
       "<Figure size 720x504 with 1 Axes>"
      ]
     },
     "metadata": {
      "needs_background": "light"
     },
     "output_type": "display_data"
    }
   ],
   "source": [
    "# Import the model we are using\n",
    "from sklearn.ensemble import RandomForestRegressor\n",
    "# Instantiate model with 1000 decision trees\n",
    "rf = RandomForestRegressor(n_estimators = 2500, max_depth=30, random_state = 42)\n",
    "# Train the model on training data\n",
    "\n",
    "rf.fit(X_train, y_train);\n",
    "\n",
    "# Use the forest's predict method on the test data\n",
    "predictions = rf.predict(X_test)\n",
    "y_pred1 = rf.predict(X_train)\n",
    "\n",
    "rmse = sqrt(mean_squared_error(y_test, predictions))\n",
    "r2 = r2_score(y_test, predictions)\n",
    "print(\"R^2: \", r2)\n",
    "print(\"RMSE: \", rmse, \"\\n\")\n",
    "\n",
    "\n",
    "y_test= y_test.reshape((len(y_test), 1))\n",
    "y_pred1= y_pred1.reshape((len(y_pred1), 1))\n",
    "predictions=predictions.reshape((len(y_test), 1))\n",
    "\n",
    "#print((y_test, predictions))\n",
    "\n",
    "b=np.append(y_test, predictions, axis=1)\n",
    "\n",
    "print(\"[real, predictions]\")\n",
    "print(b)\n",
    "\n",
    "plt.figure(figsize=(10,7))\n",
    "plt.scatter(y_test, predictions)\n",
    "plt.scatter(y_train, y_pred1)\n",
    "plt.plot( y_test, linear_model.LinearRegression().fit(y_test, predictions).predict(y_test) )\n",
    "plt.grid(True)\n",
    "plt.savefig(\"../basic_RF.png\")\n",
    "plt.xlabel('True Values')\n",
    "plt.ylabel('Predictions')"
   ]
  },
  {
   "cell_type": "code",
   "execution_count": null,
   "metadata": {},
   "outputs": [],
   "source": []
  },
  {
   "cell_type": "code",
   "execution_count": null,
   "metadata": {},
   "outputs": [],
   "source": []
  },
  {
   "cell_type": "code",
   "execution_count": null,
   "metadata": {},
   "outputs": [],
   "source": []
  },
  {
   "cell_type": "code",
   "execution_count": null,
   "metadata": {},
   "outputs": [],
   "source": []
  },
  {
   "cell_type": "code",
   "execution_count": 20,
   "metadata": {},
   "outputs": [],
   "source": [
    "wl=wl.astype('float32')"
   ]
  },
  {
   "cell_type": "code",
   "execution_count": 67,
   "metadata": {},
   "outputs": [
    {
     "data": {
      "text/html": [
       "<div>\n",
       "<style scoped>\n",
       "    .dataframe tbody tr th:only-of-type {\n",
       "        vertical-align: middle;\n",
       "    }\n",
       "\n",
       "    .dataframe tbody tr th {\n",
       "        vertical-align: top;\n",
       "    }\n",
       "\n",
       "    .dataframe thead th {\n",
       "        text-align: right;\n",
       "    }\n",
       "</style>\n",
       "<table border=\"1\" class=\"dataframe\">\n",
       "  <thead>\n",
       "    <tr style=\"text-align: right;\">\n",
       "      <th></th>\n",
       "      <th>0</th>\n",
       "      <th>1</th>\n",
       "      <th>2</th>\n",
       "      <th>3</th>\n",
       "      <th>4</th>\n",
       "      <th>5</th>\n",
       "      <th>6</th>\n",
       "      <th>7</th>\n",
       "      <th>8</th>\n",
       "      <th>9</th>\n",
       "      <th>...</th>\n",
       "      <th>14</th>\n",
       "      <th>15</th>\n",
       "      <th>16</th>\n",
       "      <th>17</th>\n",
       "      <th>18</th>\n",
       "      <th>19</th>\n",
       "      <th>20</th>\n",
       "      <th>21</th>\n",
       "      <th>22</th>\n",
       "      <th>23</th>\n",
       "    </tr>\n",
       "  </thead>\n",
       "  <tbody>\n",
       "    <tr>\n",
       "      <th>252.071400</th>\n",
       "      <td>-7.864691</td>\n",
       "      <td>-122.419869</td>\n",
       "      <td>-45.938542</td>\n",
       "      <td>-74.248689</td>\n",
       "      <td>113.773646</td>\n",
       "      <td>117.523648</td>\n",
       "      <td>-46.131274</td>\n",
       "      <td>-34.186038</td>\n",
       "      <td>81.436124</td>\n",
       "      <td>242.174780</td>\n",
       "      <td>...</td>\n",
       "      <td>-11.939907</td>\n",
       "      <td>-68.529632</td>\n",
       "      <td>-78.189487</td>\n",
       "      <td>143.780849</td>\n",
       "      <td>136.377916</td>\n",
       "      <td>233.596703</td>\n",
       "      <td>1.697015</td>\n",
       "      <td>74.629782</td>\n",
       "      <td>154.126083</td>\n",
       "      <td>181.647922</td>\n",
       "    </tr>\n",
       "    <tr>\n",
       "      <th>252.201700</th>\n",
       "      <td>-32.876223</td>\n",
       "      <td>-121.975190</td>\n",
       "      <td>-72.597810</td>\n",
       "      <td>-88.550836</td>\n",
       "      <td>44.218164</td>\n",
       "      <td>28.773685</td>\n",
       "      <td>-59.723018</td>\n",
       "      <td>-55.433807</td>\n",
       "      <td>17.374412</td>\n",
       "      <td>126.912135</td>\n",
       "      <td>...</td>\n",
       "      <td>-59.197878</td>\n",
       "      <td>-73.066960</td>\n",
       "      <td>-92.605431</td>\n",
       "      <td>58.743087</td>\n",
       "      <td>41.772137</td>\n",
       "      <td>118.400946</td>\n",
       "      <td>-77.178520</td>\n",
       "      <td>7.706264</td>\n",
       "      <td>83.776126</td>\n",
       "      <td>84.686353</td>\n",
       "    </tr>\n",
       "    <tr>\n",
       "      <th>252.331900</th>\n",
       "      <td>-81.441809</td>\n",
       "      <td>-183.580510</td>\n",
       "      <td>-135.657078</td>\n",
       "      <td>-140.577119</td>\n",
       "      <td>13.704347</td>\n",
       "      <td>-0.176279</td>\n",
       "      <td>-111.939761</td>\n",
       "      <td>-97.281576</td>\n",
       "      <td>-15.946560</td>\n",
       "      <td>124.316155</td>\n",
       "      <td>...</td>\n",
       "      <td>-88.055848</td>\n",
       "      <td>-136.718573</td>\n",
       "      <td>-142.240124</td>\n",
       "      <td>27.589938</td>\n",
       "      <td>15.984538</td>\n",
       "      <td>74.621854</td>\n",
       "      <td>-86.508601</td>\n",
       "      <td>-33.717255</td>\n",
       "      <td>37.943409</td>\n",
       "      <td>64.796209</td>\n",
       "    </tr>\n",
       "    <tr>\n",
       "      <th>252.462200</th>\n",
       "      <td>34.100714</td>\n",
       "      <td>-67.385822</td>\n",
       "      <td>-23.249675</td>\n",
       "      <td>-24.499950</td>\n",
       "      <td>151.315527</td>\n",
       "      <td>167.373754</td>\n",
       "      <td>0.843499</td>\n",
       "      <td>7.020658</td>\n",
       "      <td>126.436168</td>\n",
       "      <td>319.220170</td>\n",
       "      <td>...</td>\n",
       "      <td>33.919516</td>\n",
       "      <td>-22.941610</td>\n",
       "      <td>-28.562312</td>\n",
       "      <td>173.013708</td>\n",
       "      <td>177.772694</td>\n",
       "      <td>243.342761</td>\n",
       "      <td>52.161320</td>\n",
       "      <td>110.992556</td>\n",
       "      <td>191.317585</td>\n",
       "      <td>233.334627</td>\n",
       "    </tr>\n",
       "    <tr>\n",
       "      <th>252.592400</th>\n",
       "      <td>-8.329733</td>\n",
       "      <td>-101.341118</td>\n",
       "      <td>-63.075597</td>\n",
       "      <td>-75.181390</td>\n",
       "      <td>114.676703</td>\n",
       "      <td>123.123781</td>\n",
       "      <td>-32.623234</td>\n",
       "      <td>-47.677101</td>\n",
       "      <td>100.189261</td>\n",
       "      <td>283.457508</td>\n",
       "      <td>...</td>\n",
       "      <td>-7.438448</td>\n",
       "      <td>-70.450351</td>\n",
       "      <td>-65.259489</td>\n",
       "      <td>145.360547</td>\n",
       "      <td>142.772965</td>\n",
       "      <td>188.146997</td>\n",
       "      <td>20.513063</td>\n",
       "      <td>56.069029</td>\n",
       "      <td>145.967616</td>\n",
       "      <td>192.087315</td>\n",
       "    </tr>\n",
       "    <tr>\n",
       "      <th>...</th>\n",
       "      <td>...</td>\n",
       "      <td>...</td>\n",
       "      <td>...</td>\n",
       "      <td>...</td>\n",
       "      <td>...</td>\n",
       "      <td>...</td>\n",
       "      <td>...</td>\n",
       "      <td>...</td>\n",
       "      <td>...</td>\n",
       "      <td>...</td>\n",
       "      <td>...</td>\n",
       "      <td>...</td>\n",
       "      <td>...</td>\n",
       "      <td>...</td>\n",
       "      <td>...</td>\n",
       "      <td>...</td>\n",
       "      <td>...</td>\n",
       "      <td>...</td>\n",
       "      <td>...</td>\n",
       "      <td>...</td>\n",
       "      <td>...</td>\n",
       "    </tr>\n",
       "    <tr>\n",
       "      <th>429.270300</th>\n",
       "      <td>45.829415</td>\n",
       "      <td>-46.334756</td>\n",
       "      <td>-13.052112</td>\n",
       "      <td>-35.509030</td>\n",
       "      <td>-37.513078</td>\n",
       "      <td>-29.982800</td>\n",
       "      <td>13.238299</td>\n",
       "      <td>1.178094</td>\n",
       "      <td>21.374104</td>\n",
       "      <td>-0.991572</td>\n",
       "      <td>...</td>\n",
       "      <td>48.842055</td>\n",
       "      <td>-21.822062</td>\n",
       "      <td>-9.566722</td>\n",
       "      <td>-9.351451</td>\n",
       "      <td>-68.212020</td>\n",
       "      <td>7.702046</td>\n",
       "      <td>-66.396315</td>\n",
       "      <td>-26.006831</td>\n",
       "      <td>-0.002719</td>\n",
       "      <td>42.854604</td>\n",
       "    </tr>\n",
       "    <tr>\n",
       "      <th>429.380600</th>\n",
       "      <td>-58.928506</td>\n",
       "      <td>-129.158287</td>\n",
       "      <td>-82.745375</td>\n",
       "      <td>-105.136672</td>\n",
       "      <td>-93.661145</td>\n",
       "      <td>-112.469232</td>\n",
       "      <td>-57.418883</td>\n",
       "      <td>-55.443555</td>\n",
       "      <td>-32.246530</td>\n",
       "      <td>-39.530775</td>\n",
       "      <td>...</td>\n",
       "      <td>-37.016277</td>\n",
       "      <td>-107.254400</td>\n",
       "      <td>-94.798098</td>\n",
       "      <td>-71.616581</td>\n",
       "      <td>-104.077373</td>\n",
       "      <td>-46.237878</td>\n",
       "      <td>-140.879641</td>\n",
       "      <td>-90.243253</td>\n",
       "      <td>-60.984722</td>\n",
       "      <td>-9.582645</td>\n",
       "    </tr>\n",
       "    <tr>\n",
       "      <th>429.491000</th>\n",
       "      <td>-100.591822</td>\n",
       "      <td>-148.631798</td>\n",
       "      <td>-108.538624</td>\n",
       "      <td>-132.660848</td>\n",
       "      <td>-119.142531</td>\n",
       "      <td>-134.580649</td>\n",
       "      <td>-87.451055</td>\n",
       "      <td>-86.315192</td>\n",
       "      <td>-35.719011</td>\n",
       "      <td>-73.369968</td>\n",
       "      <td>...</td>\n",
       "      <td>-60.741269</td>\n",
       "      <td>-113.315293</td>\n",
       "      <td>-127.029459</td>\n",
       "      <td>-83.727854</td>\n",
       "      <td>-118.760890</td>\n",
       "      <td>-74.136125</td>\n",
       "      <td>-150.408402</td>\n",
       "      <td>-108.746328</td>\n",
       "      <td>-78.794301</td>\n",
       "      <td>-21.912747</td>\n",
       "    </tr>\n",
       "    <tr>\n",
       "      <th>429.601300</th>\n",
       "      <td>-116.011889</td>\n",
       "      <td>-188.155299</td>\n",
       "      <td>-121.998532</td>\n",
       "      <td>-151.702258</td>\n",
       "      <td>-138.832243</td>\n",
       "      <td>-150.592057</td>\n",
       "      <td>-95.233222</td>\n",
       "      <td>-112.586823</td>\n",
       "      <td>-66.747045</td>\n",
       "      <td>-94.842491</td>\n",
       "      <td>...</td>\n",
       "      <td>-92.066256</td>\n",
       "      <td>-146.290464</td>\n",
       "      <td>-137.635813</td>\n",
       "      <td>-101.377583</td>\n",
       "      <td>-150.505005</td>\n",
       "      <td>-114.992699</td>\n",
       "      <td>-160.346245</td>\n",
       "      <td>-129.116063</td>\n",
       "      <td>-100.672840</td>\n",
       "      <td>-51.421419</td>\n",
       "    </tr>\n",
       "    <tr>\n",
       "      <th>429.711600</th>\n",
       "      <td>-77.283306</td>\n",
       "      <td>-161.378796</td>\n",
       "      <td>-110.125106</td>\n",
       "      <td>-129.226424</td>\n",
       "      <td>-109.605286</td>\n",
       "      <td>-119.403464</td>\n",
       "      <td>-76.265387</td>\n",
       "      <td>-92.858452</td>\n",
       "      <td>-31.034337</td>\n",
       "      <td>-64.815013</td>\n",
       "      <td>...</td>\n",
       "      <td>-60.257908</td>\n",
       "      <td>-131.094204</td>\n",
       "      <td>-126.367163</td>\n",
       "      <td>-91.258080</td>\n",
       "      <td>-144.158207</td>\n",
       "      <td>-77.849272</td>\n",
       "      <td>-158.965903</td>\n",
       "      <td>-103.852462</td>\n",
       "      <td>-81.482412</td>\n",
       "      <td>-22.215805</td>\n",
       "    </tr>\n",
       "  </tbody>\n",
       "</table>\n",
       "<p>1446 rows × 24 columns</p>\n",
       "</div>"
      ],
      "text/plain": [
       "                    0           1           2           3           4   \\\n",
       "252.071400   -7.864691 -122.419869  -45.938542  -74.248689  113.773646   \n",
       "252.201700  -32.876223 -121.975190  -72.597810  -88.550836   44.218164   \n",
       "252.331900  -81.441809 -183.580510 -135.657078 -140.577119   13.704347   \n",
       "252.462200   34.100714  -67.385822  -23.249675  -24.499950  151.315527   \n",
       "252.592400   -8.329733 -101.341118  -63.075597  -75.181390  114.676703   \n",
       "...                ...         ...         ...         ...         ...   \n",
       "429.270300   45.829415  -46.334756  -13.052112  -35.509030  -37.513078   \n",
       "429.380600  -58.928506 -129.158287  -82.745375 -105.136672  -93.661145   \n",
       "429.491000 -100.591822 -148.631798 -108.538624 -132.660848 -119.142531   \n",
       "429.601300 -116.011889 -188.155299 -121.998532 -151.702258 -138.832243   \n",
       "429.711600  -77.283306 -161.378796 -110.125106 -129.226424 -109.605286   \n",
       "\n",
       "                    5           6           7           8           9   ...  \\\n",
       "252.071400  117.523648  -46.131274  -34.186038   81.436124  242.174780  ...   \n",
       "252.201700   28.773685  -59.723018  -55.433807   17.374412  126.912135  ...   \n",
       "252.331900   -0.176279 -111.939761  -97.281576  -15.946560  124.316155  ...   \n",
       "252.462200  167.373754    0.843499    7.020658  126.436168  319.220170  ...   \n",
       "252.592400  123.123781  -32.623234  -47.677101  100.189261  283.457508  ...   \n",
       "...                ...         ...         ...         ...         ...  ...   \n",
       "429.270300  -29.982800   13.238299    1.178094   21.374104   -0.991572  ...   \n",
       "429.380600 -112.469232  -57.418883  -55.443555  -32.246530  -39.530775  ...   \n",
       "429.491000 -134.580649  -87.451055  -86.315192  -35.719011  -73.369968  ...   \n",
       "429.601300 -150.592057  -95.233222 -112.586823  -66.747045  -94.842491  ...   \n",
       "429.711600 -119.403464  -76.265387  -92.858452  -31.034337  -64.815013  ...   \n",
       "\n",
       "                   14          15          16          17          18  \\\n",
       "252.071400 -11.939907  -68.529632  -78.189487  143.780849  136.377916   \n",
       "252.201700 -59.197878  -73.066960  -92.605431   58.743087   41.772137   \n",
       "252.331900 -88.055848 -136.718573 -142.240124   27.589938   15.984538   \n",
       "252.462200  33.919516  -22.941610  -28.562312  173.013708  177.772694   \n",
       "252.592400  -7.438448  -70.450351  -65.259489  145.360547  142.772965   \n",
       "...               ...         ...         ...         ...         ...   \n",
       "429.270300  48.842055  -21.822062   -9.566722   -9.351451  -68.212020   \n",
       "429.380600 -37.016277 -107.254400  -94.798098  -71.616581 -104.077373   \n",
       "429.491000 -60.741269 -113.315293 -127.029459  -83.727854 -118.760890   \n",
       "429.601300 -92.066256 -146.290464 -137.635813 -101.377583 -150.505005   \n",
       "429.711600 -60.257908 -131.094204 -126.367163  -91.258080 -144.158207   \n",
       "\n",
       "                    19          20          21          22          23  \n",
       "252.071400  233.596703    1.697015   74.629782  154.126083  181.647922  \n",
       "252.201700  118.400946  -77.178520    7.706264   83.776126   84.686353  \n",
       "252.331900   74.621854  -86.508601  -33.717255   37.943409   64.796209  \n",
       "252.462200  243.342761   52.161320  110.992556  191.317585  233.334627  \n",
       "252.592400  188.146997   20.513063   56.069029  145.967616  192.087315  \n",
       "...                ...         ...         ...         ...         ...  \n",
       "429.270300    7.702046  -66.396315  -26.006831   -0.002719   42.854604  \n",
       "429.380600  -46.237878 -140.879641  -90.243253  -60.984722   -9.582645  \n",
       "429.491000  -74.136125 -150.408402 -108.746328  -78.794301  -21.912747  \n",
       "429.601300 -114.992699 -160.346245 -129.116063 -100.672840  -51.421419  \n",
       "429.711600  -77.849272 -158.965903 -103.852462  -81.482412  -22.215805  \n",
       "\n",
       "[1446 rows x 24 columns]"
      ]
     },
     "execution_count": 67,
     "metadata": {},
     "output_type": "execute_result"
    }
   ],
   "source": [
    "x_df.T"
   ]
  },
  {
   "cell_type": "code",
   "execution_count": 21,
   "metadata": {},
   "outputs": [
    {
     "name": "stdout",
     "output_type": "stream",
     "text": [
      "        0\n",
      "17   0.36\n",
      "19   0.18\n",
      "23   0.16\n",
      "1    0.18\n",
      "7    0.78\n",
      "15  9.362\n",
      "26  0.185\n"
     ]
    }
   ],
   "source": [
    "Xtrain, Xtest, Ytrain, Ytest = train_test_split(x_df, y_df, test_size=0.2, random_state = 13)\n",
    "print(Ytest)\n",
    "\n",
    "Xtrain=Xtrain.values.astype('float32')\n",
    "Ytrain=Ytrain.values.astype('float32')\n",
    "Xtest=Xtest.values.astype('float32')\n",
    "Ytest=Ytest.values.astype('float32')"
   ]
  },
  {
   "cell_type": "code",
   "execution_count": 22,
   "metadata": {},
   "outputs": [
    {
     "data": {
      "image/png": "[encoded data removed]",
      "text/plain": [
       "<Figure size 432x288 with 1 Axes>"
      ]
     },
     "metadata": {
      "needs_background": "light"
     },
     "output_type": "display_data"
    },
    {
     "data": {
      "image/png": "[encoded data removed]",
      "text/plain": [
       "<Figure size 432x288 with 1 Axes>"
      ]
     },
     "metadata": {
      "needs_background": "light"
     },
     "output_type": "display_data"
    },
    {
     "name": "stdout",
     "output_type": "stream",
     "text": [
      "before feature selection\n",
      "R2_pred:  0.7893912721802439\n",
      "RMSE:  1.4571049438694204\n"
     ]
    },
    {
     "data": {
      "image/png": "[encoded data removed]",
      "text/plain": [
       "<Figure size 432x288 with 1 Axes>"
      ]
     },
     "metadata": {
      "needs_background": "light"
     },
     "output_type": "display_data"
    },
    {
     "data": {
      "image/png": "[encoded data removed]",
      "text/plain": [
       "<Figure size 432x288 with 1 Axes>"
      ]
     },
     "metadata": {
      "needs_background": "light"
     },
     "output_type": "display_data"
    },
    {
     "data": {
      "image/png": "[encoded data removed]",
      "text/plain": [
       "<Figure size 432x288 with 1 Axes>"
      ]
     },
     "metadata": {
      "needs_background": "light"
     },
     "output_type": "display_data"
    },
    {
     "name": "stdout",
     "output_type": "stream",
     "text": [
      "after feature selection\n",
      "R2_pred:  0.7909471981837097\n",
      "RMSE:  1.451712597792537\n"
     ]
    }
   ],
   "source": [
    "ncomp=10\n",
    "\n",
    "plsModel = PLSRegression(n_components=ncomp)\n",
    "plsModel.fit(Xtrain, Ytrain)\n",
    "T, P, U, Q, W, C, beta = plsModel.x_scores_, plsModel.x_loadings_, plsModel.y_scores_, plsModel.y_loadings_, plsModel.x_weights_, plsModel.y_weights_, plsModel.coef_\n",
    "plt.plot(wl, beta[0:])\n",
    "plt.xlabel(\"Wavelength\")\n",
    "plt.ylabel(\"Intensity\")\n",
    "plt.title(\"Regression Coefficients\")\n",
    "plt.savefig(\"./Image1_RegressionCoefficient_PLS.png\")\n",
    "plt.show()\n",
    "\n",
    "# Prediction result of pls model\n",
    "Ytrain_hat = plsModel.predict(Xtrain)\n",
    "Ytest_hat = plsModel.predict(Xtest)\n",
    "plt.plot([Ytrain.min(), Ytrain.max()], [Ytrain.min(), Ytrain.max()], 'k--', lw=4)\n",
    "plt.scatter(Ytrain, Ytrain_hat, marker='*')\n",
    "plt.scatter(Ytest, Ytest_hat, marker='*')\n",
    "plt.xlabel(\"Prediction\")\n",
    "plt.ylabel(\"Reference\")\n",
    "plt.title(\"Prediction of normal pls model\")\n",
    "plt.savefig(\"./Image2_PredictionPLS.png\")\n",
    "plt.show()\n",
    "\n",
    "r2 = r2_score(Ytest, Ytest_hat)\n",
    "rmse = sqrt(mean_squared_error(Ytest, Ytest_hat))\n",
    "print(\"before feature selection\")\n",
    "print(\"R2_pred: \", r2)\n",
    "print(\"RMSE: \", rmse)\n",
    "\n",
    "\n",
    "# P value of RT\n",
    "rtModel = RT(Xtrain, Ytrain, ncomp)\n",
    "rtModel.calcCriteria()\n",
    "plt.plot(rtModel.criteria)\n",
    "plt.xlabel(\"Wavelength\")\n",
    "plt.ylabel(\"Intensity\")\n",
    "plt.title(\"P value of RT\")\n",
    "plt.savefig(\"./Image3_P_vale.png\")\n",
    "plt.show()\n",
    "\n",
    "# Feature ranking efficienty by stability of RT\n",
    "rtModel.evalCriteria(cv=5)\n",
    "plt.plot(rtModel.featureR2)\n",
    "plt.xlabel(\"Wavelength\")\n",
    "plt.ylabel(\"Intensity\")\n",
    "plt.title(\"R2\")\n",
    "plt.savefig(\"./Image4_R2.png\")\n",
    "plt.show()\n",
    "\n",
    "# Prediction results after feature selection by RT\n",
    "XtrainNew, XtestNew = rtModel.cutFeature(Xtrain, Xtest)\n",
    "plsModelNew = PLSRegression(n_components=ncomp)\n",
    "plsModelNew.fit(XtrainNew, Ytrain)\n",
    "YtrainNew_hat = plsModelNew.predict(XtrainNew)\n",
    "YtestNew_hat = plsModelNew.predict(XtestNew)\n",
    "plt.plot([Ytrain.min(), Ytrain.max()], [Ytrain.min(), Ytrain.max()], 'k--', lw=4)\n",
    "plt.scatter(Ytrain, YtrainNew_hat, marker='*')\n",
    "plt.scatter(Ytest, YtestNew_hat, marker='*')\n",
    "plt.xlabel(\"Prediction\")\n",
    "plt.ylabel(\"Reference\")\n",
    "plt.title(\"Prediction after RT\")\n",
    "plt.savefig(\"./Image5_Prediction_RT.png\")\n",
    "plt.show()\n",
    "\n",
    "r2 = r2_score(Ytest, YtestNew_hat)\n",
    "rmse = sqrt(mean_squared_error(Ytest, YtestNew_hat))\n",
    "print(\"after feature selection\")\n",
    "print(\"R2_pred: \", r2)\n",
    "print(\"RMSE: \", rmse)"
   ]
  },
  {
   "cell_type": "code",
   "execution_count": 23,
   "metadata": {},
   "outputs": [
    {
     "data": {
      "image/png": "[encoded data removed]",
      "text/plain": [
       "<Figure size 432x288 with 1 Axes>"
      ]
     },
     "metadata": {
      "needs_background": "light"
     },
     "output_type": "display_data"
    },
    {
     "data": {
      "image/png": "[encoded data removed]",
      "text/plain": [
       "<Figure size 432x288 with 1 Axes>"
      ]
     },
     "metadata": {
      "needs_background": "light"
     },
     "output_type": "display_data"
    },
    {
     "name": "stdout",
     "output_type": "stream",
     "text": [
      "before feature selection\n",
      "R2_pred:  0.7648993387003173\n",
      "RMSE:  1.5394995797996531\n"
     ]
    },
    {
     "data": {
      "image/png": "[encoded data removed]",
      "text/plain": [
       "<Figure size 432x288 with 1 Axes>"
      ]
     },
     "metadata": {
      "needs_background": "light"
     },
     "output_type": "display_data"
    },
    {
     "data": {
      "image/png": "[encoded data removed]",
      "text/plain": [
       "<Figure size 432x288 with 1 Axes>"
      ]
     },
     "metadata": {
      "needs_background": "light"
     },
     "output_type": "display_data"
    },
    {
     "data": {
      "image/png": "[encoded data removed]",
      "text/plain": [
       "<Figure size 432x288 with 1 Axes>"
      ]
     },
     "metadata": {
      "needs_background": "light"
     },
     "output_type": "display_data"
    },
    {
     "name": "stdout",
     "output_type": "stream",
     "text": [
      "after feature selection\n",
      "R2_pred:  0.7835349941754673\n",
      "RMSE:  1.4772244869774245\n"
     ]
    }
   ],
   "source": [
    "ncomp=20\n",
    "\n",
    "plsModel = PLSRegression(n_components=ncomp)\n",
    "plsModel.fit(Xtrain, Ytrain)\n",
    "T, P, U, Q, W, C, beta = plsModel.x_scores_, plsModel.x_loadings_, plsModel.y_scores_, plsModel.y_loadings_, plsModel.x_weights_, plsModel.y_weights_, plsModel.coef_\n",
    "plt.plot(wl, beta[0:])\n",
    "plt.xlabel(\"Wavelength\")\n",
    "plt.ylabel(\"Intensity\")\n",
    "plt.title(\"Regression Coefficients\")\n",
    "plt.savefig(\"./Image1_RegressionCoefficient_PLS.png\")\n",
    "plt.show()\n",
    "\n",
    "# Prediction result of pls model\n",
    "Ytrain_hat = plsModel.predict(Xtrain)\n",
    "Ytest_hat = plsModel.predict(Xtest)\n",
    "plt.plot([Ytrain.min(), Ytrain.max()], [Ytrain.min(), Ytrain.max()], 'k--', lw=4)\n",
    "plt.scatter(Ytrain, Ytrain_hat, marker='*')\n",
    "plt.scatter(Ytest, Ytest_hat, marker='*')\n",
    "plt.xlabel(\"Prediction\")\n",
    "plt.ylabel(\"Reference\")\n",
    "plt.title(\"Prediction of normal pls model\")\n",
    "plt.savefig(\"./Image2_PredictionPLS.png\")\n",
    "plt.show()\n",
    "\n",
    "r2 = r2_score(Ytest, Ytest_hat)\n",
    "rmse = sqrt(mean_squared_error(Ytest, Ytest_hat))\n",
    "print(\"before feature selection\")\n",
    "print(\"R2_pred: \", r2)\n",
    "print(\"RMSE: \", rmse)\n",
    "\n",
    "\n",
    "# Stability of MC-UVE\n",
    "mcModel = MCUVE(Xtrain, Ytrain, ncomp)\n",
    "mcModel.calcCriteria()\n",
    "plt.plot(mcModel.criteria)\n",
    "plt.xlabel(\"Wavelength\")\n",
    "plt.ylabel(\"Intensity\")\n",
    "plt.title(\"Stability of MCUVE\")\n",
    "plt.savefig(\"./Image3_Stability.png\")\n",
    "plt.show()\n",
    "\n",
    "# Feature ranking efficienty by stability of MC-UVE\n",
    "mcModel.evalCriteria(cv=5)\n",
    "plt.plot(mcModel.featureR2)\n",
    "plt.xlabel(\"Wavelength\")\n",
    "plt.ylabel(\"Intensity\")\n",
    "plt.title(\"R2\")\n",
    "plt.savefig(\"./Image4_R2.png\")\n",
    "plt.show()\n",
    "\n",
    "# Prediction results after feature selection by MC-UVE\n",
    "XtrainNew, XtestNew = mcModel.cutFeature(Xtrain, Xtest)\n",
    "plsModelNew = PLSRegression(n_components=ncomp)\n",
    "plsModelNew.fit(XtrainNew, Ytrain)\n",
    "YtrainNew_hat = plsModelNew.predict(XtrainNew)\n",
    "YtestNew_hat = plsModelNew.predict(XtestNew)\n",
    "plt.plot([Ytrain.min(), Ytrain.max()], [Ytrain.min(), Ytrain.max()], 'k--', lw=4)\n",
    "plt.scatter(Ytrain, YtrainNew_hat, marker='*')\n",
    "plt.scatter(Ytest, YtestNew_hat, marker='*')\n",
    "plt.xlabel(\"Prediction\")\n",
    "plt.ylabel(\"Reference\")\n",
    "plt.title(\"Prediction after MC-UVE\")\n",
    "plt.savefig(\"./Image5_Prediction_MC_UVE.png\")\n",
    "plt.show()\n",
    "\n",
    "r2 = r2_score(Ytest, YtestNew_hat)\n",
    "rmse = sqrt(mean_squared_error(Ytest, YtestNew_hat))\n",
    "print(\"after feature selection\")\n",
    "print(\"R2_pred: \", r2)\n",
    "print(\"RMSE: \", rmse)"
   ]
  },
  {
   "cell_type": "code",
   "execution_count": null,
   "metadata": {},
   "outputs": [],
   "source": []
  },
  {
   "cell_type": "code",
   "execution_count": null,
   "metadata": {},
   "outputs": [],
   "source": []
  },
  {
   "cell_type": "code",
   "execution_count": 24,
   "metadata": {},
   "outputs": [
    {
     "data": {
      "image/png": "[encoded data removed]",
      "text/plain": [
       "<Figure size 432x288 with 1 Axes>"
      ]
     },
     "metadata": {
      "needs_background": "light"
     },
     "output_type": "display_data"
    },
    {
     "data": {
      "image/png": "[encoded data removed]",
      "text/plain": [
       "<Figure size 432x288 with 1 Axes>"
      ]
     },
     "metadata": {
      "needs_background": "light"
     },
     "output_type": "display_data"
    },
    {
     "name": "stdout",
     "output_type": "stream",
     "text": [
      "before feature selection\n",
      "R2_pred:  0.7648993387003173\n",
      "RMSE:  1.5394995797996531\n"
     ]
    },
    {
     "data": {
      "image/png": "[encoded data removed]",
      "text/plain": [
       "<Figure size 432x288 with 1 Axes>"
      ]
     },
     "metadata": {
      "needs_background": "light"
     },
     "output_type": "display_data"
    },
    {
     "data": {
      "image/png": "[encoded data removed]",
      "text/plain": [
       "<Figure size 432x288 with 1 Axes>"
      ]
     },
     "metadata": {
      "needs_background": "light"
     },
     "output_type": "display_data"
    },
    {
     "data": {
      "image/png": "[encoded data removed]",
      "text/plain": [
       "<Figure size 432x288 with 1 Axes>"
      ]
     },
     "metadata": {
      "needs_background": "light"
     },
     "output_type": "display_data"
    },
    {
     "name": "stdout",
     "output_type": "stream",
     "text": [
      "after feature selection\n",
      "R2_pred:  0.7876026277607628\n",
      "RMSE:  1.4632792664957124\n"
     ]
    }
   ],
   "source": [
    "ncomp=20\n",
    "\n",
    "plsModel = PLSRegression(n_components=ncomp)\n",
    "plsModel.fit(Xtrain, Ytrain)\n",
    "T, P, U, Q, W, C, beta = plsModel.x_scores_, plsModel.x_loadings_, plsModel.y_scores_, plsModel.y_loadings_, plsModel.x_weights_, plsModel.y_weights_, plsModel.coef_\n",
    "plt.plot(wl, beta[0:])\n",
    "plt.xlabel(\"Wavelength\")\n",
    "plt.ylabel(\"Intensity\")\n",
    "plt.title(\"Regression Coefficients\")\n",
    "plt.savefig(\"./Image1_RegressionCoefficient_PLS.png\")\n",
    "plt.show()\n",
    "\n",
    "# Prediction result of pls model\n",
    "Ytrain_hat = plsModel.predict(Xtrain)\n",
    "Ytest_hat = plsModel.predict(Xtest)\n",
    "plt.plot([Ytrain.min(), Ytrain.max()], [Ytrain.min(), Ytrain.max()], 'k--', lw=4)\n",
    "plt.scatter(Ytrain, Ytrain_hat, marker='*')\n",
    "plt.scatter(Ytest, Ytest_hat, marker='*')\n",
    "plt.xlabel(\"Prediction\")\n",
    "plt.ylabel(\"Reference\")\n",
    "plt.title(\"Prediction of normal pls model\")\n",
    "plt.savefig(\"./Image2_PredictionPLS.png\")\n",
    "plt.show()\n",
    "\n",
    "\n",
    "r2 = r2_score(Ytest, Ytest_hat)\n",
    "rmse = sqrt(mean_squared_error(Ytest, Ytest_hat))\n",
    "print(\"before feature selection\")\n",
    "print(\"R2_pred: \", r2)\n",
    "print(\"RMSE: \", rmse)\n",
    "\n",
    "\n",
    "\n",
    "# C value of VC\n",
    "vcModel = VC(Xtrain, Ytrain, ncomp, nrep=7000)\n",
    "vcModel.calcCriteria()\n",
    "plt.plot(wl, vcModel.criteria)\n",
    "plt.xlabel(\"Wavelength\")\n",
    "plt.ylabel(\"Intensity\")\n",
    "plt.title(\"C value of VC\")\n",
    "plt.savefig(\"./Image3_C_vale.png\")\n",
    "plt.show()\n",
    "\n",
    "# Feature ranking efficienty by stability of VC\n",
    "vcModel.evalCriteria(cv=5)\n",
    "plt.plot(wl, vcModel.featureR2)\n",
    "plt.xlabel(\"Wavelength\")\n",
    "plt.ylabel(\"Intensity\")\n",
    "plt.title(\"R2\")\n",
    "plt.savefig(\"./Image4_R2.png\")\n",
    "plt.show()\n",
    "\n",
    "# Prediction results after feature selection by VC\n",
    "XtrainNew, XtestNew = vcModel.cutFeature(Xtrain, Xtest)\n",
    "\n",
    "plsModelNew = PLSRegression(n_components=min([ncomp, rank(XtrainNew)]))\n",
    "#plsModelNew = PLSRegression(n_components=ncomp)\n",
    "\n",
    "plsModelNew.fit(XtrainNew, Ytrain)\n",
    "YtrainNew_hat = plsModelNew.predict(XtrainNew)\n",
    "YtestNew_hat = plsModelNew.predict(XtestNew)\n",
    "plt.plot([Ytrain.min(), Ytrain.max()], [Ytrain.min(), Ytrain.max()], 'k--', lw=4)\n",
    "plt.scatter(Ytrain, YtrainNew_hat, marker='*')\n",
    "plt.scatter(Ytest, YtestNew_hat, marker='*')\n",
    "plt.xlabel(\"Prediction\")\n",
    "plt.ylabel(\"Reference\")\n",
    "plt.title(\"Prediction after VC\")\n",
    "plt.savefig(\"./Image5_Prediction_VC.png\")\n",
    "plt.show()\n",
    "\n",
    "r2 = r2_score(Ytest, YtestNew_hat)\n",
    "rmse = sqrt(mean_squared_error(Ytest, YtestNew_hat))\n",
    "print(\"after feature selection\")\n",
    "print(\"R2_pred: \", r2)\n",
    "print(\"RMSE: \", rmse)"
   ]
  },
  {
   "cell_type": "code",
   "execution_count": null,
   "metadata": {},
   "outputs": [],
   "source": []
  },
  {
   "cell_type": "code",
   "execution_count": null,
   "metadata": {},
   "outputs": [],
   "source": []
  },
  {
   "cell_type": "code",
   "execution_count": 25,
   "metadata": {
    "scrolled": false
   },
   "outputs": [
    {
     "data": {
      "image/png": "[encoded data removed]",
      "text/plain": [
       "<Figure size 432x288 with 1 Axes>"
      ]
     },
     "metadata": {
      "needs_background": "light"
     },
     "output_type": "display_data"
    },
    {
     "data": {
      "image/png": "[encoded data removed]",
      "text/plain": [
       "<Figure size 432x288 with 1 Axes>"
      ]
     },
     "metadata": {
      "needs_background": "light"
     },
     "output_type": "display_data"
    },
    {
     "name": "stdout",
     "output_type": "stream",
     "text": [
      "before feature selection\n",
      "R2_pred:  0.7649017216897375\n",
      "RMSE:  1.539491777566161\n"
     ]
    },
    {
     "data": {
      "image/png": "[encoded data removed]",
      "text/plain": [
       "<Figure size 432x288 with 1 Axes>"
      ]
     },
     "metadata": {
      "needs_background": "light"
     },
     "output_type": "display_data"
    },
    {
     "data": {
      "image/png": "[encoded data removed]",
      "text/plain": [
       "<Figure size 432x288 with 1 Axes>"
      ]
     },
     "metadata": {
      "needs_background": "light"
     },
     "output_type": "display_data"
    },
    {
     "data": {
      "image/png": "[encoded data removed]",
      "text/plain": [
       "<Figure size 432x288 with 1 Axes>"
      ]
     },
     "metadata": {
      "needs_background": "light"
     },
     "output_type": "display_data"
    },
    {
     "name": "stdout",
     "output_type": "stream",
     "text": [
      "after feature selection\n",
      "R2_pred:  0.7767742300313683\n",
      "RMSE:  1.5001158996983837\n"
     ]
    }
   ],
   "source": [
    "ncomp=18\n",
    "\n",
    "plsModel = PLSRegression(n_components=ncomp)\n",
    "plsModel.fit(Xtrain, Ytrain)\n",
    "T, P, U, Q, W, C, beta = plsModel.x_scores_, plsModel.x_loadings_, plsModel.y_scores_, plsModel.y_loadings_, plsModel.x_weights_, plsModel.y_weights_, plsModel.coef_\n",
    "plt.plot(wl, beta[0:])\n",
    "plt.xlabel(\"Wavelength\")\n",
    "plt.ylabel(\"Intensity\")\n",
    "plt.title(\"Regression Coefficients\")\n",
    "plt.savefig(\"./Image1_RegressionCoefficient_PLS.png\")\n",
    "plt.show()\n",
    "\n",
    "# Prediction result of pls model\n",
    "Ytrain_hat = plsModel.predict(Xtrain)\n",
    "Ytest_hat = plsModel.predict(Xtest)\n",
    "plt.plot([Ytrain.min(), Ytrain.max()], [Ytrain.min(), Ytrain.max()], 'k--', lw=4)\n",
    "plt.scatter(Ytrain, Ytrain_hat, marker='*')\n",
    "plt.scatter(Ytest, Ytest_hat, marker='*')\n",
    "plt.xlabel(\"Prediction\")\n",
    "plt.ylabel(\"Reference\")\n",
    "plt.title(\"Prediction of normal pls model\")\n",
    "plt.savefig(\"./Image2_PredictionPLS.png\")\n",
    "plt.show()\n",
    "\n",
    "\n",
    "\n",
    "r2 = r2_score(Ytest, Ytest_hat)\n",
    "rmse = sqrt(mean_squared_error(Ytest, Ytest_hat))\n",
    "print(\"before feature selection\")\n",
    "print(\"R2_pred: \", r2)\n",
    "print(\"RMSE: \", rmse)\n",
    "\n",
    "\n",
    "\n",
    "# C value of MSVC\n",
    "vcModel = MSVC(Xtrain, Ytrain, ncomp, nrep=500)\n",
    "vcModel.calcCriteria()\n",
    "plt.imshow(vcModel.criteria, aspect='auto')\n",
    "plt.xlabel(\"Wavelength\")\n",
    "plt.ylabel(\"Iteration\")\n",
    "plt.title(\"C value of VC\")\n",
    "plt.savefig(\"./Image3_MS_C_vale.png\")\n",
    "plt.show()\n",
    "\n",
    "# Feature ranking efficienty by stability of VC\n",
    "vcModel.evalCriteria(cv=5)\n",
    "plt.plot(vcModel.featureR2)\n",
    "plt.xlabel(\"Wavelength\")\n",
    "plt.ylabel(\"Intensity\")\n",
    "plt.title(\"R2\")\n",
    "plt.savefig(\"./Image4_R2.png\")\n",
    "plt.show()\n",
    "\n",
    "# Prediction results after feature selection by VC\n",
    "XtrainNew, XtestNew = vcModel.cutFeature(Xtrain, Xtest)\n",
    "plsModelNew = PLSRegression(n_components=min([ncomp, rank(XtrainNew)]))\n",
    "plsModelNew.fit(XtrainNew, Ytrain)\n",
    "YtrainNew_hat = plsModelNew.predict(XtrainNew)\n",
    "YtestNew_hat = plsModelNew.predict(XtestNew)\n",
    "plt.plot([Ytrain.min(), Ytrain.max()], [Ytrain.min(), Ytrain.max()], 'k--', lw=4)\n",
    "plt.scatter(Ytrain, YtrainNew_hat, marker='*')\n",
    "plt.scatter(Ytest, YtestNew_hat, marker='*')\n",
    "plt.xlabel(\"Prediction\")\n",
    "plt.ylabel(\"Reference\")\n",
    "plt.title(\"Prediction after MSVC\")\n",
    "plt.savefig(\"./Image5_Prediction_MSVC.png\")\n",
    "plt.show()\n",
    "\n",
    "\n",
    "r2 = r2_score(Ytest, YtestNew_hat)\n",
    "rmse = sqrt(mean_squared_error(Ytest, YtestNew_hat))\n",
    "print(\"after feature selection\")\n",
    "print(\"R2_pred: \", r2)\n",
    "print(\"RMSE: \", rmse)"
   ]
  },
  {
   "cell_type": "code",
   "execution_count": 28,
   "metadata": {},
   "outputs": [
    {
     "data": {
      "text/plain": [
       "(24, 137)"
      ]
     },
     "execution_count": 28,
     "metadata": {},
     "output_type": "execute_result"
    }
   ],
   "source": [
    "XtrainNew.shape"
   ]
  },
  {
   "cell_type": "code",
   "execution_count": 29,
   "metadata": {},
   "outputs": [
    {
     "data": {
      "text/plain": [
       "24"
      ]
     },
     "execution_count": 29,
     "metadata": {},
     "output_type": "execute_result"
    }
   ],
   "source": [
    "rank(XtrainNew)"
   ]
  },
  {
   "cell_type": "code",
   "execution_count": 31,
   "metadata": {},
   "outputs": [],
   "source": [
    "\n",
    "X_train=XtrainNew\n",
    "y_train=Ytrain\n",
    "X_test=XtestNew\n",
    "y_test=Ytest"
   ]
  },
  {
   "cell_type": "code",
   "execution_count": 27,
   "metadata": {},
   "outputs": [
    {
     "name": "stdout",
     "output_type": "stream",
     "text": [
      "R2_pred:  0.7767742300313683\n",
      "RMSE:  1.5001158996983837\n",
      "\n"
     ]
    },
    {
     "data": {
      "image/png": "[encoded data removed]",
      "text/plain": [
       "<Figure size 720x504 with 1 Axes>"
      ]
     },
     "metadata": {
      "needs_background": "light"
     },
     "output_type": "display_data"
    }
   ],
   "source": [
    "# Define PLS object\n",
    "pls =  PLSRegression(n_components=18)\n",
    "# Fit\n",
    "pls.fit(X_train, y_train)\n",
    "\n",
    "y_pred = pls.predict(X_test)\n",
    "y_pred1 = pls.predict(X_train)\n",
    "\n",
    "# Calculate score and error\n",
    "r2 = r2_score(y_test, y_pred)\n",
    "rmse = sqrt(mean_squared_error(y_test, y_pred))\n",
    "\n",
    "\n",
    "print(\"R2_pred: \", r2)\n",
    "print(\"RMSE: \", rmse)\n",
    "#print(\"R2_cv: \",score_cv)\n",
    "print(\"\")\n",
    "\n",
    "\n",
    "c=np.append(y_train, y_pred1, axis=1)\n",
    "\n",
    "#print(\"TRAIN\\n [real, predictions]\")\n",
    "#print(c)\n",
    "\n",
    "plt.figure(figsize=(10,7))\n",
    "plt.scatter(y_test, y_pred)\n",
    "plt.scatter(y_train, y_pred1)\n",
    "plt.plot( y_test, linear_model.LinearRegression().fit(y_test, y_pred).predict(y_test) )\n",
    "plt.xlabel('True Values')\n",
    "plt.ylabel('Predictions')\n",
    "plt.grid(True)\n",
    "plt.show()"
   ]
  },
  {
   "cell_type": "code",
   "execution_count": null,
   "metadata": {},
   "outputs": [],
   "source": []
  },
  {
   "cell_type": "code",
   "execution_count": null,
   "metadata": {},
   "outputs": [],
   "source": []
  },
  {
   "cell_type": "markdown",
   "metadata": {},
   "source": [
    "# VIP filter selection"
   ]
  },
  {
   "cell_type": "code",
   "execution_count": 159,
   "metadata": {},
   "outputs": [
    {
     "name": "stdout",
     "output_type": "stream",
     "text": [
      "[1.28229721 1.21217475 1.17745189 ... 1.45493084 1.17456334 1.23178447]\n",
      "(24, 210)\n"
     ]
    }
   ],
   "source": [
    "a= _calculate_vips(pls)\n",
    "print(a)\n",
    "b=[]\n",
    "for i in range(len(a)):\n",
    "    if a[i]> 1.21:\n",
    "        b.append(i)\n",
    "\n",
    "x_selecta = pd.DataFrame(x_df.values[:,b])\n",
    "print(x_selecta.shape)"
   ]
  },
  {
   "cell_type": "code",
   "execution_count": null,
   "metadata": {},
   "outputs": [],
   "source": []
  },
  {
   "cell_type": "code",
   "execution_count": 160,
   "metadata": {},
   "outputs": [
    {
     "name": "stdout",
     "output_type": "stream",
     "text": [
      "37% completed\n",
      "Suggested number of components:  5\n",
      "\n"
     ]
    },
    {
     "data": {
      "image/png": "[encoded data removed]",
      "text/plain": [
       "<Figure size 432x288 with 1 Axes>"
      ]
     },
     "metadata": {},
     "output_type": "display_data"
    },
    {
     "name": "stdout",
     "output_type": "stream",
     "text": [
      "R2 calib: 0.962\n",
      "R2 CV: 0.570\n",
      "MSE calib: 0.038\n",
      "MSE CV: 0.428\n"
     ]
    }
   ],
   "source": [
    "X_train, X_test, y_train, y_test = train_test_split(x_selecta, y_df, test_size=0.2)\n",
    "\n",
    "optimise_pls_cv(X_train, y_train, 15, plot_components=True) "
   ]
  },
  {
   "cell_type": "code",
   "execution_count": 23,
   "metadata": {},
   "outputs": [
    {
     "name": "stdout",
     "output_type": "stream",
     "text": [
      "R2_pred:  -0.3690216841795315\n",
      "RMSE:  1.755614582771907\n",
      "\n"
     ]
    },
    {
     "data": {
      "image/png": "[encoded data removed]",
      "text/plain": [
       "<Figure size 720x504 with 1 Axes>"
      ]
     },
     "metadata": {
      "needs_background": "light"
     },
     "output_type": "display_data"
    }
   ],
   "source": [
    "# Define PLS object\n",
    "pls =  PLSRegression(n_components=3)\n",
    "# Fit\n",
    "pls.fit(X_train, y_train)\n",
    "\n",
    "y_pred = pls.predict(X_test)\n",
    "y_pred1 = pls.predict(X_train)\n",
    "\n",
    "# Calculate score and error\n",
    "r2 = r2_score(y_test, y_pred)\n",
    "rmse = sqrt(mean_squared_error(y_test, y_pred))\n",
    "\n",
    "\n",
    "print(\"R2_pred: \", r2)\n",
    "print(\"RMSE: \", rmse)\n",
    "#print(\"R2_cv: \",score_cv)\n",
    "print(\"\")\n",
    "\n",
    "\n",
    "c=np.append(y_train, y_pred1, axis=1)\n",
    "\n",
    "#print(\"TRAIN\\n [real, predictions]\")\n",
    "#print(c)\n",
    "\n",
    "plt.figure(figsize=(10,7))\n",
    "plt.scatter(y_test, y_pred)\n",
    "plt.scatter(y_train, y_pred1)\n",
    "plt.plot( y_test, linear_model.LinearRegression().fit(y_test, y_pred).predict(y_test) )\n",
    "plt.xlabel('True Values')\n",
    "plt.ylabel('Predictions')\n",
    "plt.grid(True)\n",
    "plt.show()"
   ]
  },
  {
   "cell_type": "code",
   "execution_count": null,
   "metadata": {},
   "outputs": [],
   "source": []
  },
  {
   "cell_type": "markdown",
   "metadata": {},
   "source": [
    "# wavelength selection with *i*-PLS \n",
    "NIRpy function"
   ]
  },
  {
   "cell_type": "code",
   "execution_count": null,
   "metadata": {},
   "outputs": [],
   "source": [
    "start_time = time.time()\n",
    "opt_Xc, ncomp, wav, sorted_ind = pls_variable_selection(x_selecta.values, y_val, 15)\n",
    "#opt_Xc, ncomp, wav, sorted_ind = pls_variable_selection(x_df.values, y_val, 15)\n",
    "print(\"--- %s seconds ---\" % (time.time() - start_time))\n",
    "\n",
    "print(\"sorted wavelengths: \", wl[sorted_ind[:10]].T)\n",
    "\n",
    "plt.plot(opt_Xc.T)\n",
    "plt.show()"
   ]
  },
  {
   "cell_type": "code",
   "execution_count": null,
   "metadata": {},
   "outputs": [],
   "source": [
    "#X_train, X_test, y_train, y_test = train_test_split(opt_Xc, y_df, test_size=0.2, random_state = 16) #seed for Mg = 3, 16\n",
    "#X_train, X_test, y_train, y_test = train_test_split(opt_Xc, y_df, test_size=0.2, random_state = 7) #seed for Si = 7\n",
    "#X_train, X_test, y_train, y_test = train_test_split(opt_Xc, y_df, test_size=0.2, random_state = 16) #seed for Cu =16\n",
    "#X_train, X_test, y_train, y_test = train_test_split(opt_Xc, y_df, test_size=0.2, random_state = 7) #seed for Fe =7\n",
    "#X_train, X_test, y_train, y_test = train_test_split(opt_Xc, y_df, test_size=0.2, random_state = 3) #seed for Mn = 3\n",
    "\n",
    "X_train, X_test, y_train, y_test = train_test_split(opt_Xc, y_df, test_size=0.2)\n",
    "print (X_train.shape, y_train.shape)\n",
    "print (X_test.shape, y_test.shape)\n",
    "print(y_test)"
   ]
  },
  {
   "cell_type": "code",
   "execution_count": null,
   "metadata": {},
   "outputs": [],
   "source": [
    "optimise_pls_cv(X_train,y_train, 40, plot_components=True)"
   ]
  },
  {
   "cell_type": "code",
   "execution_count": null,
   "metadata": {},
   "outputs": [],
   "source": [
    "# Define PLS object\n",
    "pls = PLSRegression(n_components=14)\n",
    "# Fit\n",
    "pls.fit(X_train, y_train)\n",
    "\n",
    "y_pred = pls.predict(X_test)\n",
    "y_pred1 = pls.predict(X_train)\n",
    "\n",
    "# Calculate score and error\n",
    "r2 = r2_score(y_test, y_pred)\n",
    "rmse = sqrt(mean_squared_error(y_test, y_pred))\n",
    "\n",
    "\n",
    "print(\"R2_pred: \", r2)\n",
    "print(\"RMSE: \", rmse)\n",
    "#print(\"R2_cv: \",score_cv)\n",
    "print(\"\")\n",
    "\n",
    "\n",
    "c=np.append(y_train, y_pred1, axis=1)\n",
    "\n",
    "#print(\"TRAIN\\n [real, predictions]\")\n",
    "#print(c)\n",
    "\n",
    "plt.figure(figsize=(10,7))\n",
    "plt.scatter(y_test, y_pred)\n",
    "plt.scatter(y_train, y_pred1)\n",
    "plt.plot( y_test, linear_model.LinearRegression().fit(y_test, y_pred).predict(y_test) )\n",
    "plt.xlabel('True Values')\n",
    "plt.ylabel('Predictions')\n",
    "plt.grid(True)\n",
    "plt.show()"
   ]
  },
  {
   "cell_type": "code",
   "execution_count": null,
   "metadata": {},
   "outputs": [],
   "source": []
  },
  {
   "cell_type": "code",
   "execution_count": null,
   "metadata": {},
   "outputs": [],
   "source": []
  },
  {
   "cell_type": "code",
   "execution_count": null,
   "metadata": {},
   "outputs": [],
   "source": []
  },
  {
   "cell_type": "code",
   "execution_count": null,
   "metadata": {},
   "outputs": [],
   "source": []
  },
  {
   "cell_type": "code",
   "execution_count": null,
   "metadata": {},
   "outputs": [],
   "source": []
  },
  {
   "cell_type": "code",
   "execution_count": null,
   "metadata": {},
   "outputs": [],
   "source": []
  },
  {
   "cell_type": "code",
   "execution_count": null,
   "metadata": {},
   "outputs": [],
   "source": []
  },
  {
   "cell_type": "code",
   "execution_count": null,
   "metadata": {},
   "outputs": [],
   "source": []
  },
  {
   "cell_type": "code",
   "execution_count": null,
   "metadata": {},
   "outputs": [],
   "source": []
  },
  {
   "cell_type": "code",
   "execution_count": null,
   "metadata": {},
   "outputs": [],
   "source": []
  },
  {
   "cell_type": "code",
   "execution_count": null,
   "metadata": {},
   "outputs": [],
   "source": []
  },
  {
   "cell_type": "code",
   "execution_count": null,
   "metadata": {},
   "outputs": [],
   "source": []
  },
  {
   "cell_type": "code",
   "execution_count": null,
   "metadata": {},
   "outputs": [],
   "source": []
  },
  {
   "cell_type": "code",
   "execution_count": null,
   "metadata": {},
   "outputs": [],
   "source": []
  },
  {
   "cell_type": "code",
   "execution_count": null,
   "metadata": {},
   "outputs": [],
   "source": []
  },
  {
   "cell_type": "code",
   "execution_count": null,
   "metadata": {},
   "outputs": [],
   "source": []
  },
  {
   "cell_type": "code",
   "execution_count": null,
   "metadata": {},
   "outputs": [],
   "source": []
  },
  {
   "cell_type": "code",
   "execution_count": null,
   "metadata": {},
   "outputs": [],
   "source": []
  },
  {
   "cell_type": "code",
   "execution_count": null,
   "metadata": {},
   "outputs": [],
   "source": []
  },
  {
   "cell_type": "code",
   "execution_count": null,
   "metadata": {},
   "outputs": [],
   "source": []
  },
  {
   "cell_type": "code",
   "execution_count": null,
   "metadata": {},
   "outputs": [],
   "source": []
  },
  {
   "cell_type": "code",
   "execution_count": null,
   "metadata": {},
   "outputs": [],
   "source": []
  },
  {
   "cell_type": "code",
   "execution_count": null,
   "metadata": {},
   "outputs": [],
   "source": []
  },
  {
   "cell_type": "code",
   "execution_count": null,
   "metadata": {},
   "outputs": [],
   "source": []
  },
  {
   "cell_type": "code",
   "execution_count": null,
   "metadata": {},
   "outputs": [],
   "source": []
  },
  {
   "cell_type": "code",
   "execution_count": null,
   "metadata": {},
   "outputs": [],
   "source": []
  },
  {
   "cell_type": "code",
   "execution_count": null,
   "metadata": {},
   "outputs": [],
   "source": []
  },
  {
   "cell_type": "code",
   "execution_count": null,
   "metadata": {},
   "outputs": [],
   "source": []
  },
  {
   "cell_type": "code",
   "execution_count": null,
   "metadata": {},
   "outputs": [],
   "source": []
  },
  {
   "cell_type": "code",
   "execution_count": null,
   "metadata": {},
   "outputs": [],
   "source": []
  },
  {
   "cell_type": "markdown",
   "metadata": {},
   "source": [
    "# Genetic Algorithm with PLS"
   ]
  },
  {
   "cell_type": "code",
   "execution_count": 15,
   "metadata": {},
   "outputs": [
    {
     "name": "stdout",
     "output_type": "stream",
     "text": [
      "(34, 3648)\n",
      "(34,)\n",
      "33\n"
     ]
    }
   ],
   "source": [
    "# GA settings\n",
    "number_of_population = 200\n",
    "number_of_generation = 100\n",
    "max_number_of_components = 10\n",
    "fold_number = 5\n",
    "probability_of_crossover = 0.5\n",
    "probability_of_mutation = 0.01\n",
    "threshold_of_variable_selection = 0.5\n",
    "\n",
    "# input\n",
    "X_train=values\n",
    "y_train= y_val\n",
    "\n",
    "#autoscaled_X_train= X_train\n",
    "#autoscaled_y_train=y_train\n",
    "\n",
    "autoscaled_X_train= (X_train - X_train.mean(axis=0)) / X_train.std(axis=0, ddof=1)\n",
    "autoscaled_y_train = (y_train - y_train.mean()) / y_train.std(ddof=1)\n",
    "#print(autoscaled_X_train.shape)\n",
    "#print(autoscaled_y_train.shape)\n",
    "\n",
    "#genetic_algorithm(autoscaled_X_train,autoscaled_y_train)"
   ]
  },
  {
   "cell_type": "code",
   "execution_count": 25,
   "metadata": {},
   "outputs": [],
   "source": [
    "x_selecta = pd.DataFrame(x_df.values[:,selected_X_variable_numbers])"
   ]
  },
  {
   "cell_type": "code",
   "execution_count": 103,
   "metadata": {},
   "outputs": [
    {
     "name": "stdout",
     "output_type": "stream",
     "text": [
      "(27, 348) (27, 1)\n",
      "(7, 348) (7, 1)\n",
      "       0\n",
      "10  11.2\n",
      "30  19.9\n",
      "1     18\n",
      "2   21.1\n",
      "31    14\n",
      "33  24.4\n",
      "16   8.4\n"
     ]
    }
   ],
   "source": [
    "#X_train, X_test, y_train, y_test = train_test_split(x_selecta, y_df, test_size=0.2, random_state = 3) #seed for Mg = 3, 16\n",
    "#X_train, X_test, y_train, y_test = train_test_split(opt_Xc, y_df, test_size=0.2, random_state = 7) #seed for Si = 7\n",
    "#X_train, X_test, y_train, y_test = train_test_split(opt_Xc, y_df, test_size=0.2, random_state = 16) #seed for Cu =16\n",
    "#X_train, X_test, y_train, y_test = train_test_split(opt_Xc, y_df, test_size=0.2, random_state = 7) #seed for Fe =7\n",
    "#X_train, X_test, y_train, y_test = train_test_split(opt_Xc, y_df, test_size=0.2, random_state = 3) #seed for Mn = 3\n",
    "\n",
    "X_train, X_test, y_train, y_test = train_test_split(x_selecta, y_df, test_size=0.2)\n",
    "print (X_train.shape, y_train.shape)\n",
    "print (X_test.shape, y_test.shape)\n",
    "print(y_test)"
   ]
  },
  {
   "cell_type": "code",
   "execution_count": 104,
   "metadata": {},
   "outputs": [
    {
     "name": "stdout",
     "output_type": "stream",
     "text": [
      "37% completed\n",
      "Suggested number of components:  2\n",
      "\n"
     ]
    },
    {
     "data": {
      "image/png": "[encoded data removed]",
      "text/plain": [
       "<Figure size 432x288 with 1 Axes>"
      ]
     },
     "metadata": {},
     "output_type": "display_data"
    },
    {
     "name": "stdout",
     "output_type": "stream",
     "text": [
      "R2 calib: 0.349\n",
      "R2 CV: 0.101\n",
      "MSE calib: 15.815\n",
      "MSE CV: 21.849\n"
     ]
    }
   ],
   "source": [
    "optimise_pls_cv(X_train, y_train, 15, plot_components=True) "
   ]
  },
  {
   "cell_type": "code",
   "execution_count": 30,
   "metadata": {},
   "outputs": [
    {
     "name": "stdout",
     "output_type": "stream",
     "text": [
      "R2_pred:  -0.09441884308116721\n",
      "RMSE:  1.4843109346366985\n",
      "\n"
     ]
    },
    {
     "data": {
      "image/png": "[encoded data removed]",
      "text/plain": [
       "<Figure size 720x504 with 1 Axes>"
      ]
     },
     "metadata": {
      "needs_background": "light"
     },
     "output_type": "display_data"
    }
   ],
   "source": [
    "# Define PLS object\n",
    "pls =  PLSRegression(n_components=3)\n",
    "# Fit\n",
    "pls.fit(X_train, y_train)\n",
    "\n",
    "y_pred = pls.predict(X_test)\n",
    "y_pred1 = pls.predict(X_train)\n",
    "\n",
    "# Calculate score and error\n",
    "r2 = r2_score(y_test, y_pred)\n",
    "rmse = sqrt(mean_squared_error(y_test, y_pred))\n",
    "\n",
    "\n",
    "print(\"R2_pred: \", r2)\n",
    "print(\"RMSE: \", rmse)\n",
    "#print(\"R2_cv: \",score_cv)\n",
    "print(\"\")\n",
    "\n",
    "\n",
    "c=np.append(y_train, y_pred1, axis=1)\n",
    "\n",
    "#print(\"TRAIN\\n [real, predictions]\")\n",
    "#print(c)\n",
    "\n",
    "plt.figure(figsize=(10,7))\n",
    "plt.scatter(y_test, y_pred)\n",
    "plt.scatter(y_train, y_pred1)\n",
    "plt.plot( y_test, linear_model.LinearRegression().fit(y_test, y_pred).predict(y_test) )\n",
    "plt.xlabel('True Values')\n",
    "plt.ylabel('Predictions')\n",
    "plt.grid(True)\n",
    "plt.show()"
   ]
  },
  {
   "cell_type": "code",
   "execution_count": null,
   "metadata": {},
   "outputs": [],
   "source": []
  },
  {
   "cell_type": "code",
   "execution_count": 25,
   "metadata": {},
   "outputs": [
    {
     "name": "stdout",
     "output_type": "stream",
     "text": [
      "100% completed\n",
      "Optimised number of PLS components:  12\n",
      "Wavelengths to be discarded  177\n",
      "Optimised MSEP  0.4391647684828197\n",
      "\n",
      "--- 32.15109443664551 seconds ---\n"
     ]
    }
   ],
   "source": [
    "start_time = time.time()\n",
    "\n",
    "opt_Xc, ncomp, wav, sorted_ind = pls_variable_selection(x_selecta.values, y_val, 15)\n",
    "#opt_Xc, ncomp, wav, sorted_ind = pls_variable_selection(x_df.values, y_val, 15)\n",
    "\n",
    "print(\"--- %s seconds ---\" % (time.time() - start_time))"
   ]
  },
  {
   "cell_type": "code",
   "execution_count": 26,
   "metadata": {},
   "outputs": [
    {
     "name": "stdout",
     "output_type": "stream",
     "text": [
      "sorted wavelengths:  [271.5639 272.3414 262.0899 257.669  264.8179 271.9527 261.3101 264.1685\n",
      " 265.0776 253.1133]\n"
     ]
    },
    {
     "data": {
      "image/png": "[encoded data removed]",
      "text/plain": [
       "<Figure size 432x288 with 1 Axes>"
      ]
     },
     "metadata": {
      "needs_background": "light"
     },
     "output_type": "display_data"
    }
   ],
   "source": [
    "#print(opt_Xc.shape,\"\\n\")\n",
    "#print(\"sorted indexes: \", sorted_ind)\n",
    "print(\"sorted wavelengths: \", wl[sorted_ind[:10]].T)\n",
    "\n",
    "plt.plot(opt_Xc.T)\n",
    "plt.show()"
   ]
  },
  {
   "cell_type": "code",
   "execution_count": 44,
   "metadata": {},
   "outputs": [
    {
     "name": "stdout",
     "output_type": "stream",
     "text": [
      "(19, 39) (19, 1)\n",
      "(5, 39) (5, 1)\n",
      "        0\n",
      "19  0.339\n",
      "5   0.360\n",
      "23  2.030\n",
      "21  2.480\n",
      "12  0.320\n"
     ]
    }
   ],
   "source": [
    "#X_train, X_test, y_train, y_test = train_test_split(opt_Xc, y_df, test_size=0.2, random_state = 16) #seed for Mg = 3, 16\n",
    "#X_train, X_test, y_train, y_test = train_test_split(opt_Xc, y_df, test_size=0.2, random_state = 7) #seed for Si = 7\n",
    "#X_train, X_test, y_train, y_test = train_test_split(opt_Xc, y_df, test_size=0.2, random_state = 16) #seed for Cu =16\n",
    "#X_train, X_test, y_train, y_test = train_test_split(opt_Xc, y_df, test_size=0.2, random_state = 7) #seed for Fe =7\n",
    "#X_train, X_test, y_train, y_test = train_test_split(opt_Xc, y_df, test_size=0.2, random_state = 3) #seed for Mn = 3\n",
    "\n",
    "X_train, X_test, y_train, y_test = train_test_split(opt_Xc, y_df, test_size=0.2)\n",
    "print (X_train.shape, y_train.shape)\n",
    "print (X_test.shape, y_test.shape)\n",
    "print(y_test)"
   ]
  },
  {
   "cell_type": "code",
   "execution_count": 45,
   "metadata": {},
   "outputs": [
    {
     "name": "stdout",
     "output_type": "stream",
     "text": [
      "100% completed\n",
      "Suggested number of components:  14\n",
      "\n"
     ]
    },
    {
     "data": {
      "image/png": "[encoded data removed]",
      "text/plain": [
       "<Figure size 432x288 with 1 Axes>"
      ]
     },
     "metadata": {},
     "output_type": "display_data"
    },
    {
     "name": "stdout",
     "output_type": "stream",
     "text": [
      "R2 calib: 1.000\n",
      "R2 CV: 0.452\n",
      "MSE calib: 0.000\n",
      "MSE CV: 0.816\n"
     ]
    }
   ],
   "source": [
    "optimise_pls_cv(X_train,y_train, 40, plot_components=True)"
   ]
  },
  {
   "cell_type": "code",
   "execution_count": 47,
   "metadata": {},
   "outputs": [
    {
     "name": "stdout",
     "output_type": "stream",
     "text": [
      "R2_pred:  0.7360721453243093\n",
      "RMSE:  0.4876059430361719\n",
      "\n"
     ]
    },
    {
     "data": {
      "image/png": "[encoded data removed]",
      "text/plain": [
       "<Figure size 720x504 with 1 Axes>"
      ]
     },
     "metadata": {
      "needs_background": "light"
     },
     "output_type": "display_data"
    }
   ],
   "source": [
    "# Define PLS object\n",
    "pls = PLSRegression(n_components=14)\n",
    "# Fit\n",
    "pls.fit(X_train, y_train)\n",
    "\n",
    "y_pred = pls.predict(X_test)\n",
    "y_pred1 = pls.predict(X_train)\n",
    "\n",
    "# Calculate score and error\n",
    "r2 = r2_score(y_test, y_pred)\n",
    "rmse = sqrt(mean_squared_error(y_test, y_pred))\n",
    "\n",
    "\n",
    "print(\"R2_pred: \", r2)\n",
    "print(\"RMSE: \", rmse)\n",
    "#print(\"R2_cv: \",score_cv)\n",
    "print(\"\")\n",
    "\n",
    "\n",
    "c=np.append(y_train, y_pred1, axis=1)\n",
    "\n",
    "#print(\"TRAIN\\n [real, predictions]\")\n",
    "#print(c)\n",
    "\n",
    "plt.figure(figsize=(10,7))\n",
    "plt.scatter(y_test, y_pred)\n",
    "plt.scatter(y_train, y_pred1)\n",
    "plt.plot( y_test, linear_model.LinearRegression().fit(y_test, y_pred).predict(y_test) )\n",
    "plt.xlabel('True Values')\n",
    "plt.ylabel('Predictions')\n",
    "plt.grid(True)\n",
    "plt.show()"
   ]
  },
  {
   "cell_type": "code",
   "execution_count": null,
   "metadata": {},
   "outputs": [],
   "source": []
  },
  {
   "cell_type": "markdown",
   "metadata": {},
   "source": [
    "Best ones so far:\n",
    "\n",
    "#1\n",
    "number_of_population = 150\n",
    "number_of_generation = 100\n",
    "max_number_of_components = 10\n",
    "fold_number = 5\n",
    "probability_of_crossover = 0.5\n",
    "probability_of_mutation = 0.3\n",
    "threshold_of_variable_selection = 0.6\n",
    "\n",
    "\n",
    "#2\n",
    "number_of_population = 150\n",
    "number_of_generation = 100\n",
    "max_number_of_components = 10\n",
    "fold_number = 5\n",
    "probability_of_crossover = 0.5\n",
    "probability_of_mutation = 0.25\n",
    "threshold_of_variable_selection = 0.5\n"
   ]
  },
  {
   "cell_type": "code",
   "execution_count": null,
   "metadata": {},
   "outputs": [],
   "source": []
  },
  {
   "cell_type": "code",
   "execution_count": null,
   "metadata": {},
   "outputs": [],
   "source": []
  },
  {
   "cell_type": "code",
   "execution_count": null,
   "metadata": {},
   "outputs": [],
   "source": []
  },
  {
   "cell_type": "code",
   "execution_count": null,
   "metadata": {},
   "outputs": [],
   "source": []
  },
  {
   "cell_type": "code",
   "execution_count": null,
   "metadata": {},
   "outputs": [],
   "source": []
  },
  {
   "cell_type": "code",
   "execution_count": null,
   "metadata": {},
   "outputs": [],
   "source": []
  },
  {
   "cell_type": "code",
   "execution_count": null,
   "metadata": {},
   "outputs": [],
   "source": []
  },
  {
   "cell_type": "markdown",
   "metadata": {},
   "source": [
    "# Elastic Net"
   ]
  },
  {
   "cell_type": "code",
   "execution_count": 28,
   "metadata": {},
   "outputs": [
    {
     "name": "stdout",
     "output_type": "stream",
     "text": [
      "Alpha:0.0001, R2:0.83, MSE:1.34, RMSE:1.16\n",
      "Alpha:0.0010, R2:0.83, MSE:1.34, RMSE:1.16\n",
      "Alpha:0.0100, R2:0.83, MSE:1.34, RMSE:1.16\n",
      "Alpha:0.1000, R2:0.83, MSE:1.33, RMSE:1.15\n",
      "Alpha:0.3000, R2:0.83, MSE:1.32, RMSE:1.15\n",
      "Alpha:0.5000, R2:0.83, MSE:1.32, RMSE:1.15\n",
      "Alpha:0.7000, R2:0.83, MSE:1.31, RMSE:1.14\n",
      "Alpha:1.0000, R2:0.83, MSE:1.30, RMSE:1.14\n"
     ]
    }
   ],
   "source": [
    "alphas = [0.0001, 0.001, 0.01, 0.1, 0.3, 0.5, 0.7, 1]\n",
    "\n",
    "for a in alphas:\n",
    "    model = ElasticNet(alpha=a).fit(X_train,y_train)   \n",
    "    score = model.score(X_train, y_train)\n",
    "    pred_y = model.predict(X_test)\n",
    "    mse = mean_squared_error(y_test, pred_y)   \n",
    "    print(\"Alpha:{0:.4f}, R2:{1:.2f}, MSE:{2:.2f}, RMSE:{3:.2f}\".format(a, score, mse, np.sqrt(mse)))"
   ]
  },
  {
   "cell_type": "code",
   "execution_count": 29,
   "metadata": {
    "scrolled": true
   },
   "outputs": [
    {
     "name": "stdout",
     "output_type": "stream",
     "text": [
      "Train score:  0.8284647883737228\n",
      "RMSE:  1.156219072947733\n",
      "R^2:  0.7573130383682116\n"
     ]
    }
   ],
   "source": [
    "model = ElasticNet(alpha=0.0001).fit(X_train,y_train)   \n",
    "score = model.score(X_train, y_train)\n",
    "print(\"Train score: \", score)\n",
    "pred_y = model.predict(X_test)\n",
    "\n",
    "\n",
    "rmse = sqrt(mean_squared_error(y_test, pred_y))\n",
    "r2 = r2_score(y_test, pred_y)\n",
    "print(\"RMSE: \", rmse)\n",
    "print(\"R^2: \", r2)"
   ]
  },
  {
   "cell_type": "code",
   "execution_count": 30,
   "metadata": {},
   "outputs": [
    {
     "data": {
      "image/png": "[encoded data removed]",
      "text/plain": [
       "<Figure size 432x288 with 1 Axes>"
      ]
     },
     "metadata": {
      "needs_background": "light"
     },
     "output_type": "display_data"
    }
   ],
   "source": [
    "plt.scatter(y_test, y_pred)\n",
    "plt.xlabel('True Values')\n",
    "plt.ylabel('Predictions')\n",
    "plt.grid(True)\n",
    "plt.show()"
   ]
  },
  {
   "cell_type": "code",
   "execution_count": null,
   "metadata": {},
   "outputs": [],
   "source": []
  },
  {
   "cell_type": "markdown",
   "metadata": {},
   "source": [
    "# Random Forest"
   ]
  },
  {
   "cell_type": "code",
   "execution_count": 24,
   "metadata": {},
   "outputs": [
    {
     "name": "stdout",
     "output_type": "stream",
     "text": [
      "(20, 20) (20, 1)\n",
      "(4, 20) (4, 1)\n"
     ]
    }
   ],
   "source": [
    "#X_train, X_test, y_train, y_test = train_test_split(x_df, y_df, test_size=0.15)\n",
    "X_train, X_test, y_train, y_test = train_test_split(principalComponents, y_df, test_size=0.15)\n",
    "\n",
    "\n",
    "print (X_train.shape, y_train.shape)\n",
    "print (X_test.shape, y_test.shape)\n",
    "#print(y_test)"
   ]
  },
  {
   "cell_type": "code",
   "execution_count": 31,
   "metadata": {},
   "outputs": [
    {
     "name": "stdout",
     "output_type": "stream",
     "text": [
      "(7,)\n",
      "(24,)\n"
     ]
    }
   ],
   "source": [
    "y_test=np.ravel(y_test)\n",
    "print(y_test.shape)\n",
    "y_train=np.ravel(y_train)\n",
    "print(y_train.shape)"
   ]
  },
  {
   "cell_type": "code",
   "execution_count": 32,
   "metadata": {},
   "outputs": [
    {
     "name": "stdout",
     "output_type": "stream",
     "text": [
      "RMSE:  1.7339715593844924\n",
      "R^2:  0.4541791444235702 \n",
      "\n",
      "[real, predictions]\n",
      "[[1.011 0.9078559999999976]\n",
      " [5.37 2.0503199999999993]\n",
      " [0.18 0.6055359999999989]\n",
      " [0.052000000000000005 0.565691999999997]\n",
      " [0.031 0.17300800000000005]\n",
      " [5.44 2.376215999999997]\n",
      " [0.02 0.42470800000000014]]\n"
     ]
    },
    {
     "data": {
      "text/plain": [
       "Text(0, 0.5, 'Predictions')"
      ]
     },
     "execution_count": 32,
     "metadata": {},
     "output_type": "execute_result"
    },
    {
     "data": {
      "image/png": "[encoded data removed]",
      "text/plain": [
       "<Figure size 432x288 with 1 Axes>"
      ]
     },
     "metadata": {
      "needs_background": "light"
     },
     "output_type": "display_data"
    }
   ],
   "source": [
    "# Import the model we are using\n",
    "from sklearn.ensemble import RandomForestRegressor\n",
    "# Instantiate model with 1000 decision trees\n",
    "rf = RandomForestRegressor(n_estimators = 250, max_depth=30, random_state = 42)\n",
    "# Train the model on training data\n",
    "\n",
    "rf.fit(X_train, y_train);\n",
    "\n",
    "# Use the forest's predict method on the test data\n",
    "predictions = rf.predict(X_test)\n",
    "\n",
    "rmse = sqrt(mean_squared_error(y_test, predictions))\n",
    "r2 = r2_score(y_test, predictions)\n",
    "print(\"RMSE: \", rmse)\n",
    "print(\"R^2: \", r2, \"\\n\")\n",
    "\n",
    "y_test= y_test.reshape((len(y_test), 1))\n",
    "predictions=predictions.reshape((len(y_test), 1))\n",
    "#print((y_test, predictions))\n",
    "\n",
    "b=np.append(y_test, predictions, axis=1)\n",
    "\n",
    "print(\"[real, predictions]\")\n",
    "print(b)\n",
    "\n",
    "plt.scatter(y_test, predictions)\n",
    "plt.xlabel('True Values')\n",
    "plt.ylabel('Predictions')"
   ]
  },
  {
   "cell_type": "code",
   "execution_count": null,
   "metadata": {},
   "outputs": [],
   "source": []
  },
  {
   "cell_type": "code",
   "execution_count": null,
   "metadata": {},
   "outputs": [],
   "source": []
  },
  {
   "cell_type": "markdown",
   "metadata": {},
   "source": [
    "# MultiOutput Random Forest"
   ]
  },
  {
   "cell_type": "code",
   "execution_count": 132,
   "metadata": {},
   "outputs": [
    {
     "name": "stdout",
     "output_type": "stream",
     "text": [
      "(24, 6)\n",
      "<class 'numpy.ndarray'>\n",
      "<class 'pandas.core.frame.DataFrame'>\n"
     ]
    }
   ],
   "source": [
    "multi_y = concentration[:,1:-2]\n",
    "print (multi_y.shape)\n",
    "print (type(multi_y))\n",
    "df_y= pd.DataFrame(multi_y)\n",
    "print (type(df_y))"
   ]
  },
  {
   "cell_type": "code",
   "execution_count": 153,
   "metadata": {},
   "outputs": [
    {
     "name": "stdout",
     "output_type": "stream",
     "text": [
      "(19, 1130) (19, 6)\n",
      "(5, 1130) (5, 6)\n"
     ]
    }
   ],
   "source": [
    "X_train, X_test, y_train, y_test = train_test_split(x_df, df_y, test_size=0.2)\n",
    "print (X_train.shape, y_train.shape)\n",
    "print (X_test.shape, y_test.shape)\n",
    "#print(X_test)"
   ]
  },
  {
   "cell_type": "code",
   "execution_count": 134,
   "metadata": {},
   "outputs": [
    {
     "data": {
      "text/plain": [
       "MultiOutputRegressor(estimator=RandomForestRegressor(bootstrap=True,\n",
       "                                                     ccp_alpha=0.0,\n",
       "                                                     criterion='mse',\n",
       "                                                     max_depth=30,\n",
       "                                                     max_features='auto',\n",
       "                                                     max_leaf_nodes=None,\n",
       "                                                     max_samples=None,\n",
       "                                                     min_impurity_decrease=0.0,\n",
       "                                                     min_impurity_split=None,\n",
       "                                                     min_samples_leaf=1,\n",
       "                                                     min_samples_split=2,\n",
       "                                                     min_weight_fraction_leaf=0.0,\n",
       "                                                     n_estimators=650,\n",
       "                                                     n_jobs=None,\n",
       "                                                     oob_score=False,\n",
       "                                                     random_state=0, verbose=0,\n",
       "                                                     warm_start=False),\n",
       "                     n_jobs=None)"
      ]
     },
     "execution_count": 134,
     "metadata": {},
     "output_type": "execute_result"
    }
   ],
   "source": [
    "from sklearn.multioutput import MultiOutputRegressor\n",
    "from sklearn.ensemble import RandomForestRegressor\n",
    "\n",
    "max_depth = 30\n",
    "regr_multirf = MultiOutputRegressor(RandomForestRegressor(n_estimators=650,\n",
    "                                                          max_depth=max_depth,\n",
    "                                                          random_state=0))\n",
    "regr_multirf.fit(X_train, y_train)\n"
   ]
  },
  {
   "cell_type": "code",
   "execution_count": 135,
   "metadata": {},
   "outputs": [],
   "source": [
    "y_multirf = regr_multirf.predict(X_test)"
   ]
  },
  {
   "cell_type": "code",
   "execution_count": 136,
   "metadata": {},
   "outputs": [
    {
     "name": "stdout",
     "output_type": "stream",
     "text": [
      "(5, 6)\n",
      "(5, 6)\n"
     ]
    }
   ],
   "source": [
    "print(y_test.shape)\n",
    "print(y_multirf.shape)"
   ]
  },
  {
   "cell_type": "code",
   "execution_count": 137,
   "metadata": {},
   "outputs": [
    {
     "name": "stdout",
     "output_type": "stream",
     "text": [
      "R^2:  -1.2798201186343863\n",
      "RMSE:  1.5231794557929577\n"
     ]
    }
   ],
   "source": [
    "rmse = sqrt(mean_squared_error(y_test, y_multirf))\n",
    "r2 = r2_score(y_test, y_multirf)\n",
    "\n",
    "print(\"R^2: \", r2)\n",
    "print(\"RMSE: \", rmse)"
   ]
  },
  {
   "cell_type": "code",
   "execution_count": 138,
   "metadata": {},
   "outputs": [
    {
     "name": "stdout",
     "output_type": "stream",
     "text": [
      "[real, predictions]\n",
      "[[6.160e+00 0.000e+00 3.630e-01 0.000e+00 6.000e-03 2.060e-01 8.711e+00\n",
      "  2.880e-01 4.460e-01 2.870e-01 7.790e-01 1.910e-01]\n",
      " [6.120e+00 0.000e+00 3.200e-01 0.000e+00 5.000e-03 1.600e-02 8.009e+00\n",
      "  2.150e-01 4.630e-01 8.500e-02 1.110e-01 1.440e-01]\n",
      " [1.253e+01 3.100e-01 2.500e-02 5.000e-02 5.600e-02 3.300e-02 7.822e+00\n",
      "  2.570e-01 2.970e-01 1.650e-01 1.750e-01 2.170e-01]\n",
      " [1.800e-01 5.000e-01 1.110e+00 5.200e-02 1.500e-01 1.260e+00 4.830e-01\n",
      "  3.630e-01 1.233e+00 2.260e-01 1.360e-01 9.710e-01]\n",
      " [1.290e+01 1.200e-01 5.200e-01 1.550e-01 5.200e-01 2.860e-01 6.898e+00\n",
      "  3.360e-01 7.140e-01 1.420e-01 5.610e-01 2.290e-01]]\n"
     ]
    }
   ],
   "source": [
    "b=np.append(np.around(y_test,3), np.around(y_multirf,3), axis=1)\n",
    "\n",
    "print(\"[real, predictions]\")\n",
    "print(b)"
   ]
  },
  {
   "cell_type": "code",
   "execution_count": 139,
   "metadata": {},
   "outputs": [
    {
     "data": {
      "text/plain": [
       "Text(0, 0.5, 'Predictions')"
      ]
     },
     "execution_count": 139,
     "metadata": {},
     "output_type": "execute_result"
    },
    {
     "data": {
      "image/png": "[encoded data removed]",
      "text/plain": [
       "<Figure size 432x288 with 1 Axes>"
      ]
     },
     "metadata": {
      "needs_background": "light"
     },
     "output_type": "display_data"
    }
   ],
   "source": [
    "plt.scatter(y_test, y_multirf)\n",
    "plt.xlabel('True Values')\n",
    "plt.ylabel('Predictions')"
   ]
  },
  {
   "cell_type": "code",
   "execution_count": 141,
   "metadata": {},
   "outputs": [
    {
     "data": {
      "text/plain": [
       "array([8.71, 8.01, 7.82, 0.48, 6.9 ])"
      ]
     },
     "execution_count": 141,
     "metadata": {},
     "output_type": "execute_result"
    }
   ],
   "source": [
    "y_pred=np.around(y_multirf,2)\n",
    "y_pred[:,0]"
   ]
  },
  {
   "cell_type": "code",
   "execution_count": 142,
   "metadata": {},
   "outputs": [
    {
     "data": {
      "text/plain": [
       "array([ 6.16,  6.12, 12.53,  0.18, 12.9 ])"
      ]
     },
     "execution_count": 142,
     "metadata": {},
     "output_type": "execute_result"
    }
   ],
   "source": [
    "y_test[0].values"
   ]
  },
  {
   "cell_type": "code",
   "execution_count": 143,
   "metadata": {},
   "outputs": [
    {
     "name": "stdout",
     "output_type": "stream",
     "text": [
      "real:  [ 6.16  6.12 12.53  0.18 12.9 ]\n",
      "pred:  [8.71 8.01 7.82 0.48 6.9 ]\n"
     ]
    }
   ],
   "source": [
    "print(\"real: \", y_test[0].values)\n",
    "print(\"pred: \", y_pred[:,0])"
   ]
  },
  {
   "cell_type": "markdown",
   "metadata": {},
   "source": [
    "# PLS-2"
   ]
  },
  {
   "cell_type": "code",
   "execution_count": 154,
   "metadata": {},
   "outputs": [
    {
     "name": "stdout",
     "output_type": "stream",
     "text": [
      "100% completed\n",
      "Suggested number of components:  33\n",
      "\n"
     ]
    },
    {
     "data": {
      "image/png": "[encoded data removed]",
      "text/plain": [
       "<Figure size 432x288 with 1 Axes>"
      ]
     },
     "metadata": {},
     "output_type": "display_data"
    },
    {
     "name": "stdout",
     "output_type": "stream",
     "text": [
      "R2 calib: 1.000\n",
      "R2 CV: 0.018\n",
      "MSE calib: 0.000\n",
      "MSE CV: 0.939\n"
     ]
    }
   ],
   "source": [
    "optimise_pls_cv(X_train, y_train, 40, plot_components=True)"
   ]
  },
  {
   "cell_type": "code",
   "execution_count": 155,
   "metadata": {},
   "outputs": [
    {
     "name": "stdout",
     "output_type": "stream",
     "text": [
      "R^2:  0.018347253779067135\n",
      "MSE:  0.9391318844120397\n"
     ]
    }
   ],
   "source": [
    "# Define PLS object\n",
    "pls = PLSRegression(n_components= 26)\n",
    "# Fit\n",
    "pls.fit(X_train, y_train)\n",
    "# Cross-validation\n",
    "y_cv = cross_val_predict(pls, X_train, y_train, cv=10)\n",
    "# Calculate scores\n",
    "score = r2_score(y_train, y_cv)\n",
    "mse = mean_squared_error(y_train, y_cv)\n",
    "\n",
    "print(\"R^2: \", score)\n",
    "print(\"MSE: \", mse)"
   ]
  },
  {
   "cell_type": "code",
   "execution_count": 150,
   "metadata": {},
   "outputs": [
    {
     "name": "stdout",
     "output_type": "stream",
     "text": [
      "-4.070272705754876\n",
      "0.36555579763038115\n"
     ]
    }
   ],
   "source": [
    "y_pred = pls.predict(X_test)\n",
    "\n",
    "# Cross-validation\n",
    "y_cv = cross_val_predict(pls, X_train, y_train, cv=10)\n",
    "\n",
    "# Calculate scores for calibration and cross-validation\n",
    "score_pred = r2_score(y_test, y_pred)\n",
    "score_cv = r2_score(y_train, y_cv)\n",
    "\n",
    "print(score_pred) #NAMMERDA\n",
    "print(score_cv)"
   ]
  },
  {
   "cell_type": "code",
   "execution_count": 151,
   "metadata": {},
   "outputs": [
    {
     "data": {
      "text/html": [
       "<div>\n",
       "<style scoped>\n",
       "    .dataframe tbody tr th:only-of-type {\n",
       "        vertical-align: middle;\n",
       "    }\n",
       "\n",
       "    .dataframe tbody tr th {\n",
       "        vertical-align: top;\n",
       "    }\n",
       "\n",
       "    .dataframe thead th {\n",
       "        text-align: right;\n",
       "    }\n",
       "</style>\n",
       "<table border=\"1\" class=\"dataframe\">\n",
       "  <thead>\n",
       "    <tr style=\"text-align: right;\">\n",
       "      <th></th>\n",
       "      <th>0</th>\n",
       "      <th>1</th>\n",
       "      <th>2</th>\n",
       "      <th>3</th>\n",
       "      <th>4</th>\n",
       "      <th>5</th>\n",
       "    </tr>\n",
       "  </thead>\n",
       "  <tbody>\n",
       "    <tr>\n",
       "      <th>0</th>\n",
       "      <td>7.84</td>\n",
       "      <td>0.22</td>\n",
       "      <td>0.54</td>\n",
       "      <td>0.19</td>\n",
       "      <td>0.57</td>\n",
       "      <td>0.27</td>\n",
       "    </tr>\n",
       "    <tr>\n",
       "      <th>1</th>\n",
       "      <td>8.62</td>\n",
       "      <td>0.12</td>\n",
       "      <td>0.35</td>\n",
       "      <td>0.06</td>\n",
       "      <td>-0.12</td>\n",
       "      <td>-0.06</td>\n",
       "    </tr>\n",
       "    <tr>\n",
       "      <th>2</th>\n",
       "      <td>10.50</td>\n",
       "      <td>0.13</td>\n",
       "      <td>-0.61</td>\n",
       "      <td>0.45</td>\n",
       "      <td>0.15</td>\n",
       "      <td>-0.03</td>\n",
       "    </tr>\n",
       "    <tr>\n",
       "      <th>3</th>\n",
       "      <td>-0.28</td>\n",
       "      <td>0.42</td>\n",
       "      <td>1.56</td>\n",
       "      <td>-0.11</td>\n",
       "      <td>-0.34</td>\n",
       "      <td>0.95</td>\n",
       "    </tr>\n",
       "    <tr>\n",
       "      <th>4</th>\n",
       "      <td>9.93</td>\n",
       "      <td>0.09</td>\n",
       "      <td>0.29</td>\n",
       "      <td>-0.26</td>\n",
       "      <td>0.65</td>\n",
       "      <td>0.14</td>\n",
       "    </tr>\n",
       "  </tbody>\n",
       "</table>\n",
       "</div>"
      ],
      "text/plain": [
       "       0     1     2     3     4     5\n",
       "0   7.84  0.22  0.54  0.19  0.57  0.27\n",
       "1   8.62  0.12  0.35  0.06 -0.12 -0.06\n",
       "2  10.50  0.13 -0.61  0.45  0.15 -0.03\n",
       "3  -0.28  0.42  1.56 -0.11 -0.34  0.95\n",
       "4   9.93  0.09  0.29 -0.26  0.65  0.14"
      ]
     },
     "execution_count": 151,
     "metadata": {},
     "output_type": "execute_result"
    }
   ],
   "source": [
    "pd.DataFrame(np.round(y_pred, decimals=2))"
   ]
  },
  {
   "cell_type": "code",
   "execution_count": 152,
   "metadata": {
    "scrolled": true
   },
   "outputs": [
    {
     "data": {
      "text/html": [
       "<div>\n",
       "<style scoped>\n",
       "    .dataframe tbody tr th:only-of-type {\n",
       "        vertical-align: middle;\n",
       "    }\n",
       "\n",
       "    .dataframe tbody tr th {\n",
       "        vertical-align: top;\n",
       "    }\n",
       "\n",
       "    .dataframe thead th {\n",
       "        text-align: right;\n",
       "    }\n",
       "</style>\n",
       "<table border=\"1\" class=\"dataframe\">\n",
       "  <thead>\n",
       "    <tr style=\"text-align: right;\">\n",
       "      <th></th>\n",
       "      <th>0</th>\n",
       "      <th>1</th>\n",
       "      <th>2</th>\n",
       "      <th>3</th>\n",
       "      <th>4</th>\n",
       "      <th>5</th>\n",
       "    </tr>\n",
       "  </thead>\n",
       "  <tbody>\n",
       "    <tr>\n",
       "      <th>20</th>\n",
       "      <td>6.16</td>\n",
       "      <td>0.00</td>\n",
       "      <td>0.36</td>\n",
       "      <td>0.00</td>\n",
       "      <td>0.01</td>\n",
       "      <td>0.21</td>\n",
       "    </tr>\n",
       "    <tr>\n",
       "      <th>12</th>\n",
       "      <td>6.12</td>\n",
       "      <td>0.00</td>\n",
       "      <td>0.32</td>\n",
       "      <td>0.00</td>\n",
       "      <td>0.01</td>\n",
       "      <td>0.02</td>\n",
       "    </tr>\n",
       "    <tr>\n",
       "      <th>13</th>\n",
       "      <td>12.53</td>\n",
       "      <td>0.31</td>\n",
       "      <td>0.02</td>\n",
       "      <td>0.05</td>\n",
       "      <td>0.06</td>\n",
       "      <td>0.03</td>\n",
       "    </tr>\n",
       "    <tr>\n",
       "      <th>22</th>\n",
       "      <td>0.18</td>\n",
       "      <td>0.50</td>\n",
       "      <td>1.11</td>\n",
       "      <td>0.05</td>\n",
       "      <td>0.15</td>\n",
       "      <td>1.26</td>\n",
       "    </tr>\n",
       "    <tr>\n",
       "      <th>7</th>\n",
       "      <td>12.90</td>\n",
       "      <td>0.12</td>\n",
       "      <td>0.52</td>\n",
       "      <td>0.16</td>\n",
       "      <td>0.52</td>\n",
       "      <td>0.29</td>\n",
       "    </tr>\n",
       "  </tbody>\n",
       "</table>\n",
       "</div>"
      ],
      "text/plain": [
       "        0     1     2     3     4     5\n",
       "20   6.16  0.00  0.36  0.00  0.01  0.21\n",
       "12   6.12  0.00  0.32  0.00  0.01  0.02\n",
       "13  12.53  0.31  0.02  0.05  0.06  0.03\n",
       "22   0.18  0.50  1.11  0.05  0.15  1.26\n",
       "7   12.90  0.12  0.52  0.16  0.52  0.29"
      ]
     },
     "execution_count": 152,
     "metadata": {},
     "output_type": "execute_result"
    }
   ],
   "source": [
    "np.round(y_test, decimals=2)"
   ]
  },
  {
   "cell_type": "code",
   "execution_count": null,
   "metadata": {},
   "outputs": [],
   "source": []
  },
  {
   "cell_type": "code",
   "execution_count": null,
   "metadata": {},
   "outputs": [],
   "source": []
  }
 ],
 "metadata": {
  "kernelspec": {
   "display_name": "Python 3",
   "language": "python",
   "name": "python3"
  },
  "language_info": {
   "codemirror_mode": {
    "name": "ipython",
    "version": 3
   },
   "file_extension": ".py",
   "mimetype": "text/x-python",
   "name": "python",
   "nbconvert_exporter": "python",
   "pygments_lexer": "ipython3",
   "version": "3.6.3"
  }
 },
 "nbformat": 4,
 "nbformat_minor": 2
}
