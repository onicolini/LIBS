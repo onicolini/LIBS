{
 "cells": [
  {
   "cell_type": "markdown",
   "metadata": {},
   "source": [
    "## Intensity filtered data using reference aluminium wavelength 309.506 (pixel number 445) using saturated data\n",
    "\n",
    "### No preprocessing"
   ]
  },
  {
   "cell_type": "code",
   "execution_count": 1,
   "metadata": {},
   "outputs": [],
   "source": [
    "import os\n",
    "from sys import stdout\n",
    "import time\n",
    "\n",
    "\n",
    "import scipy.io\n",
    "import numpy as np\n",
    "import pandas as pd\n",
    "import matplotlib.pyplot as plt\n",
    "import peakutils\n",
    "%matplotlib inline \n",
    "from math import sqrt\n",
    "from scipy.signal import savgol_filter\n",
    "from sklearn.decomposition import PCA \n",
    "from sklearn.preprocessing import StandardScaler, normalize, MinMaxScaler \n",
    "from sklearn.model_selection import train_test_split, RandomizedSearchCV\n",
    "from sklearn.metrics import mean_squared_error, r2_score\n",
    "from sklearn.cross_decomposition import PLSRegression\n",
    "from sklearn.model_selection import cross_val_predict\n",
    "from sklearn import linear_model\n",
    "from sklearn.linear_model import ElasticNet,ElasticNetCV\n",
    "\n",
    "import warnings\n",
    "warnings.filterwarnings('ignore')"
   ]
  },
  {
   "cell_type": "code",
   "execution_count": 2,
   "metadata": {},
   "outputs": [
    {
     "data": {
      "text/plain": [
       "\"   \\n    # Fit a line to the CV vs response\\n    z = np.polyfit(y, y_c, 1)\\n    with plt.style.context(('ggplot')):\\n        fig, ax = plt.subplots(figsize=(9, 5))\\n        ax.scatter(y_c, y, c='red', edgecolors='k')\\n        #Plot the best fit line\\n        ax.plot(np.polyval(z,y), y, c='blue', linewidth=1)\\n        #Plot the ideal 1:1 line\\n        ax.plot(y, y, color='green', linewidth=1)\\n        plt.title('$R^{2}$ (CV): '+str(score_cv))\\n        plt.xlabel('Predicted $^{\\\\circ}$Brix')\\n        plt.ylabel('Measured $^{\\\\circ}$Brix')\\n        plt.show()\\n    return\\n\""
      ]
     },
     "execution_count": 2,
     "metadata": {},
     "output_type": "execute_result"
    }
   ],
   "source": [
    "def optimise_pls_cv(X, y, n_comp, plot_components=True):\n",
    "    '''Run PLS including a variable number of components, up to n_comp,\n",
    "       and calculate MSE '''\n",
    "    mse = []\n",
    "    component = np.arange(1, n_comp)\n",
    "    for i in component:\n",
    "        pls = PLSRegression(n_components=i)\n",
    "        # Cross-validation\n",
    "        y_cv = cross_val_predict(pls, X, y, cv=10)\n",
    "        mse.append(mean_squared_error(y, y_cv))\n",
    "        comp = 100*(i+1)/40\n",
    "        # Trick to update status on the same line\n",
    "        stdout.write(\"\\r%d%% completed\" % comp)\n",
    "        stdout.flush()\n",
    "    stdout.write(\"\\n\")\n",
    "    # Calculate and print the position of minimum in MSE\n",
    "    msemin = np.argmin(mse)\n",
    "    print(\"Suggested number of components: \", msemin+1)\n",
    "    stdout.write(\"\\n\")\n",
    "    if plot_components is True:\n",
    "        with plt.style.context(('ggplot')):\n",
    "            plt.plot(component, np.array(mse), '-v', color = 'blue', mfc='blue')\n",
    "            plt.plot(component[msemin], np.array(mse)[msemin], 'P', ms=10, mfc='red')\n",
    "            plt.xlabel('Number of PLS components')\n",
    "            plt.ylabel('MSE')\n",
    "            plt.title('PLS')\n",
    "            plt.xlim(left=-1)\n",
    "        plt.show()\n",
    "    # Define PLS object with optimal number of components\n",
    "    pls_opt = PLSRegression(n_components=msemin+1)\n",
    "    # Fir to the entire dataset\n",
    "    pls_opt.fit(X, y)\n",
    "    y_c = pls_opt.predict(X)\n",
    "    # Cross-validation\n",
    "    y_cv = cross_val_predict(pls_opt, X, y, cv=10)\n",
    "    # Calculate scores for calibration and cross-validation\n",
    "    score_c = r2_score(y, y_c)\n",
    "    score_cv = r2_score(y, y_cv)\n",
    "    # Calculate mean squared error for calibration and cross validation\n",
    "    mse_c = mean_squared_error(y, y_c)\n",
    "    mse_cv = mean_squared_error(y, y_cv)\n",
    "    print('R2 calib: %5.3f'  % score_c)\n",
    "    print('R2 CV: %5.3f'  % score_cv)\n",
    "    print('MSE calib: %5.3f' % mse_c)\n",
    "    print('MSE CV: %5.3f' % mse_cv)\n",
    "    \n",
    "    return\n",
    "    # Plot regression and figures of merit\n",
    "    rangey = max(y) - min(y)\n",
    "    rangex = max(y_c) - min(y_c)\n",
    "\"\"\"   \n",
    "    # Fit a line to the CV vs response\n",
    "    z = np.polyfit(y, y_c, 1)\n",
    "    with plt.style.context(('ggplot')):\n",
    "        fig, ax = plt.subplots(figsize=(9, 5))\n",
    "        ax.scatter(y_c, y, c='red', edgecolors='k')\n",
    "        #Plot the best fit line\n",
    "        ax.plot(np.polyval(z,y), y, c='blue', linewidth=1)\n",
    "        #Plot the ideal 1:1 line\n",
    "        ax.plot(y, y, color='green', linewidth=1)\n",
    "        plt.title('$R^{2}$ (CV): '+str(score_cv))\n",
    "        plt.xlabel('Predicted $^{\\circ}$Brix')\n",
    "        plt.ylabel('Measured $^{\\circ}$Brix')\n",
    "        plt.show()\n",
    "    return\n",
    "\"\"\" "
   ]
  },
  {
   "cell_type": "code",
   "execution_count": 3,
   "metadata": {},
   "outputs": [],
   "source": [
    "def pls_variable_selection(X, y, max_comp):\n",
    "    \n",
    "    # Define MSE array to be populated\n",
    "    mse = np.zeros((max_comp,X.shape[1]))\n",
    "    # Loop over the number of PLS components\n",
    "    for i in range(max_comp):\n",
    "        \n",
    "        # Regression with specified number of components, using full spectrum\n",
    "        pls1 = PLSRegression(n_components=i+1)\n",
    "        pls1.fit(X, y)\n",
    "        \n",
    "        # Indices of sort spectra according to ascending absolute value of PLS coefficients\n",
    "        sorted_ind = np.argsort(np.abs(pls1.coef_[:,0]))\n",
    "        # Sort spectra accordingly \n",
    "        Xc = X[:,sorted_ind]\n",
    "        # Discard one wavelength at a time of the sorted spectra,\n",
    "        # regress, and calculate the MSE cross-validation\n",
    "        for j in range(Xc.shape[1]-(i+1)):\n",
    "            pls2 = PLSRegression(n_components=i+1)\n",
    "            pls2.fit(Xc[:, j:], y)\n",
    "            \n",
    "            y_cv = cross_val_predict(pls2, Xc[:, j:], y, cv=5)\n",
    "            mse[i,j] = mean_squared_error(y, y_cv)\n",
    "    \n",
    "        comp = 100*(i+1)/(max_comp)\n",
    "        stdout.write(\"\\r%d%% completed\" % comp)\n",
    "        stdout.flush()\n",
    "    stdout.write(\"\\n\")\n",
    "    # # Calculate and print the position of minimum in MSE\n",
    "    mseminx,mseminy = np.where(mse==np.min(mse[np.nonzero(mse)]))\n",
    "    print(\"Optimised number of PLS components: \", mseminx[0]+1)\n",
    "    print(\"Wavelengths to be discarded \",mseminy[0])\n",
    "    print('Optimised MSEP ', mse[mseminx,mseminy][0])\n",
    "    stdout.write(\"\\n\")\n",
    "    # plt.imshow(mse, interpolation=None)\n",
    "    # plt.show()\n",
    "    # Calculate PLS with optimal components and export values\n",
    "    pls = PLSRegression(n_components=mseminx[0]+1)\n",
    "    pls.fit(X, y)\n",
    "        \n",
    "    sorted_ind = np.argsort(np.abs(pls.coef_[:,0]))\n",
    "    Xc = X[:,sorted_ind]\n",
    "    return(Xc[:,mseminy[0]:],mseminx[0]+1,mseminy[0], sorted_ind)"
   ]
  },
  {
   "cell_type": "code",
   "execution_count": 4,
   "metadata": {},
   "outputs": [],
   "source": [
    "def msc(input_data, reference=None):\n",
    "    ''' Perform Multiplicative scatter correction'''\n",
    "    # mean centre correction\n",
    "    for i in range(input_data.shape[0]):\n",
    "        input_data[i,:] -= input_data[i,:].mean()\n",
    "    # Get the reference spectrum. If not given, estimate it from the mean    \n",
    "    if reference is None:    \n",
    "        # Calculate mean\n",
    "        ref = np.mean(input_data, axis=0)\n",
    "    else:\n",
    "        ref = reference\n",
    "    # Define a new array and populate it with the corrected data    \n",
    "    data_msc = np.zeros_like(input_data)\n",
    "    for i in range(input_data.shape[0]):\n",
    "        # Run regression\n",
    "        fit = np.polyfit(ref, input_data[i,:], 1, full=True)\n",
    "        # Apply correction\n",
    "        data_msc[i,:] = (input_data[i,:] - fit[0][1]) / fit[0][0] \n",
    "    return (data_msc, ref)"
   ]
  },
  {
   "cell_type": "code",
   "execution_count": 5,
   "metadata": {},
   "outputs": [],
   "source": [
    "def snv(input_data):\n",
    "  \n",
    "    # Define a new array and populate it with the corrected data  \n",
    "    data_snv = np.zeros_like(input_data)\n",
    "    for i in range(input_data.shape[0]):\n",
    "        # Apply correction\n",
    "        data_snv[i,:] = (input_data[i,:] - np.mean(input_data[i,:])) / np.std(input_data[i,:])\n",
    "    return data_snv"
   ]
  },
  {
   "cell_type": "code",
   "execution_count": 6,
   "metadata": {},
   "outputs": [
    {
     "name": "stdout",
     "output_type": "stream",
     "text": [
      "(34, 3648)\n",
      "(3648,)\n",
      "34\n"
     ]
    },
    {
     "data": {
      "text/html": [
       "<div>\n",
       "<style scoped>\n",
       "    .dataframe tbody tr th:only-of-type {\n",
       "        vertical-align: middle;\n",
       "    }\n",
       "\n",
       "    .dataframe tbody tr th {\n",
       "        vertical-align: top;\n",
       "    }\n",
       "\n",
       "    .dataframe thead th {\n",
       "        text-align: right;\n",
       "    }\n",
       "</style>\n",
       "<table border=\"1\" class=\"dataframe\">\n",
       "  <thead>\n",
       "    <tr style=\"text-align: right;\">\n",
       "      <th></th>\n",
       "      <th>216.330000</th>\n",
       "      <th>216.370000</th>\n",
       "      <th>216.410000</th>\n",
       "      <th>216.450000</th>\n",
       "      <th>216.490000</th>\n",
       "      <th>216.520000</th>\n",
       "      <th>216.560000</th>\n",
       "      <th>216.600000</th>\n",
       "      <th>216.640000</th>\n",
       "      <th>216.680000</th>\n",
       "      <th>...</th>\n",
       "      <th>340.120000</th>\n",
       "      <th>340.150000</th>\n",
       "      <th>340.170000</th>\n",
       "      <th>340.200000</th>\n",
       "      <th>340.230000</th>\n",
       "      <th>340.260000</th>\n",
       "      <th>340.290000</th>\n",
       "      <th>340.320000</th>\n",
       "      <th>340.340000</th>\n",
       "      <th>340.370000</th>\n",
       "    </tr>\n",
       "  </thead>\n",
       "  <tbody>\n",
       "    <tr>\n",
       "      <th>0</th>\n",
       "      <td>-0.000971</td>\n",
       "      <td>-0.001513</td>\n",
       "      <td>-0.001537</td>\n",
       "      <td>-0.001446</td>\n",
       "      <td>-0.001329</td>\n",
       "      <td>-0.001400</td>\n",
       "      <td>-0.001263</td>\n",
       "      <td>-0.001237</td>\n",
       "      <td>-0.000737</td>\n",
       "      <td>-0.000370</td>\n",
       "      <td>...</td>\n",
       "      <td>-0.002839</td>\n",
       "      <td>-0.000734</td>\n",
       "      <td>-0.000576</td>\n",
       "      <td>-0.000206</td>\n",
       "      <td>-0.000487</td>\n",
       "      <td>-0.001280</td>\n",
       "      <td>-0.001555</td>\n",
       "      <td>-0.001104</td>\n",
       "      <td>-0.000473</td>\n",
       "      <td>0.000150</td>\n",
       "    </tr>\n",
       "    <tr>\n",
       "      <th>1</th>\n",
       "      <td>-0.000990</td>\n",
       "      <td>-0.001709</td>\n",
       "      <td>-0.001716</td>\n",
       "      <td>-0.001646</td>\n",
       "      <td>-0.001491</td>\n",
       "      <td>-0.001544</td>\n",
       "      <td>-0.001405</td>\n",
       "      <td>-0.001372</td>\n",
       "      <td>-0.000814</td>\n",
       "      <td>-0.000230</td>\n",
       "      <td>...</td>\n",
       "      <td>-0.001933</td>\n",
       "      <td>0.000642</td>\n",
       "      <td>0.000811</td>\n",
       "      <td>0.001411</td>\n",
       "      <td>0.001043</td>\n",
       "      <td>-0.000176</td>\n",
       "      <td>-0.000374</td>\n",
       "      <td>0.000230</td>\n",
       "      <td>0.001008</td>\n",
       "      <td>0.001834</td>\n",
       "    </tr>\n",
       "    <tr>\n",
       "      <th>2</th>\n",
       "      <td>-0.001592</td>\n",
       "      <td>-0.002231</td>\n",
       "      <td>-0.002187</td>\n",
       "      <td>-0.002158</td>\n",
       "      <td>-0.001942</td>\n",
       "      <td>-0.002038</td>\n",
       "      <td>-0.001832</td>\n",
       "      <td>-0.001680</td>\n",
       "      <td>-0.001126</td>\n",
       "      <td>-0.000577</td>\n",
       "      <td>...</td>\n",
       "      <td>-0.002332</td>\n",
       "      <td>0.000094</td>\n",
       "      <td>0.000096</td>\n",
       "      <td>0.000830</td>\n",
       "      <td>0.000328</td>\n",
       "      <td>-0.000598</td>\n",
       "      <td>-0.000636</td>\n",
       "      <td>-0.000052</td>\n",
       "      <td>0.000606</td>\n",
       "      <td>0.001288</td>\n",
       "    </tr>\n",
       "    <tr>\n",
       "      <th>3</th>\n",
       "      <td>-0.001974</td>\n",
       "      <td>-0.002943</td>\n",
       "      <td>-0.003067</td>\n",
       "      <td>-0.002909</td>\n",
       "      <td>-0.002360</td>\n",
       "      <td>-0.002542</td>\n",
       "      <td>-0.002514</td>\n",
       "      <td>-0.002261</td>\n",
       "      <td>-0.001045</td>\n",
       "      <td>0.000931</td>\n",
       "      <td>...</td>\n",
       "      <td>-0.000994</td>\n",
       "      <td>0.003097</td>\n",
       "      <td>0.003858</td>\n",
       "      <td>0.005618</td>\n",
       "      <td>0.005193</td>\n",
       "      <td>0.002781</td>\n",
       "      <td>0.002060</td>\n",
       "      <td>0.003184</td>\n",
       "      <td>0.004883</td>\n",
       "      <td>0.007010</td>\n",
       "    </tr>\n",
       "    <tr>\n",
       "      <th>4</th>\n",
       "      <td>-0.001142</td>\n",
       "      <td>-0.001877</td>\n",
       "      <td>-0.001925</td>\n",
       "      <td>-0.001809</td>\n",
       "      <td>-0.001632</td>\n",
       "      <td>-0.001676</td>\n",
       "      <td>-0.001559</td>\n",
       "      <td>-0.001483</td>\n",
       "      <td>-0.000802</td>\n",
       "      <td>0.000155</td>\n",
       "      <td>...</td>\n",
       "      <td>-0.002026</td>\n",
       "      <td>0.000788</td>\n",
       "      <td>0.001041</td>\n",
       "      <td>0.001845</td>\n",
       "      <td>0.001382</td>\n",
       "      <td>0.000046</td>\n",
       "      <td>-0.000481</td>\n",
       "      <td>0.000249</td>\n",
       "      <td>0.001247</td>\n",
       "      <td>0.002534</td>\n",
       "    </tr>\n",
       "    <tr>\n",
       "      <th>5</th>\n",
       "      <td>-0.000938</td>\n",
       "      <td>-0.001583</td>\n",
       "      <td>-0.001570</td>\n",
       "      <td>-0.001434</td>\n",
       "      <td>-0.001293</td>\n",
       "      <td>-0.001331</td>\n",
       "      <td>-0.001358</td>\n",
       "      <td>-0.001198</td>\n",
       "      <td>-0.000701</td>\n",
       "      <td>-0.000019</td>\n",
       "      <td>...</td>\n",
       "      <td>-0.002130</td>\n",
       "      <td>0.000412</td>\n",
       "      <td>0.000556</td>\n",
       "      <td>0.001274</td>\n",
       "      <td>0.000812</td>\n",
       "      <td>-0.000362</td>\n",
       "      <td>-0.000793</td>\n",
       "      <td>-0.000154</td>\n",
       "      <td>0.000755</td>\n",
       "      <td>0.001812</td>\n",
       "    </tr>\n",
       "    <tr>\n",
       "      <th>6</th>\n",
       "      <td>-0.000998</td>\n",
       "      <td>-0.001702</td>\n",
       "      <td>-0.001706</td>\n",
       "      <td>-0.001602</td>\n",
       "      <td>-0.001437</td>\n",
       "      <td>-0.001505</td>\n",
       "      <td>-0.001444</td>\n",
       "      <td>-0.001327</td>\n",
       "      <td>-0.000698</td>\n",
       "      <td>0.000155</td>\n",
       "      <td>...</td>\n",
       "      <td>-0.001986</td>\n",
       "      <td>0.000813</td>\n",
       "      <td>0.000923</td>\n",
       "      <td>0.001931</td>\n",
       "      <td>0.001455</td>\n",
       "      <td>0.000075</td>\n",
       "      <td>-0.000376</td>\n",
       "      <td>0.000339</td>\n",
       "      <td>0.001332</td>\n",
       "      <td>0.002633</td>\n",
       "    </tr>\n",
       "    <tr>\n",
       "      <th>7</th>\n",
       "      <td>-0.000964</td>\n",
       "      <td>-0.001628</td>\n",
       "      <td>-0.001651</td>\n",
       "      <td>-0.001606</td>\n",
       "      <td>-0.001379</td>\n",
       "      <td>-0.001506</td>\n",
       "      <td>-0.001420</td>\n",
       "      <td>-0.001316</td>\n",
       "      <td>-0.000685</td>\n",
       "      <td>-0.000009</td>\n",
       "      <td>...</td>\n",
       "      <td>-0.002142</td>\n",
       "      <td>0.000723</td>\n",
       "      <td>0.000727</td>\n",
       "      <td>0.001589</td>\n",
       "      <td>0.001066</td>\n",
       "      <td>-0.000237</td>\n",
       "      <td>-0.000648</td>\n",
       "      <td>-0.000006</td>\n",
       "      <td>0.000929</td>\n",
       "      <td>0.002168</td>\n",
       "    </tr>\n",
       "    <tr>\n",
       "      <th>8</th>\n",
       "      <td>-0.001282</td>\n",
       "      <td>-0.002357</td>\n",
       "      <td>-0.002454</td>\n",
       "      <td>-0.002377</td>\n",
       "      <td>-0.001970</td>\n",
       "      <td>-0.002121</td>\n",
       "      <td>-0.001991</td>\n",
       "      <td>-0.001933</td>\n",
       "      <td>-0.000961</td>\n",
       "      <td>0.000014</td>\n",
       "      <td>...</td>\n",
       "      <td>-0.002514</td>\n",
       "      <td>0.001364</td>\n",
       "      <td>0.001986</td>\n",
       "      <td>0.003405</td>\n",
       "      <td>0.003099</td>\n",
       "      <td>0.001087</td>\n",
       "      <td>0.000439</td>\n",
       "      <td>0.001331</td>\n",
       "      <td>0.002886</td>\n",
       "      <td>0.004573</td>\n",
       "    </tr>\n",
       "    <tr>\n",
       "      <th>9</th>\n",
       "      <td>-0.000980</td>\n",
       "      <td>-0.001509</td>\n",
       "      <td>-0.001562</td>\n",
       "      <td>-0.001450</td>\n",
       "      <td>-0.001318</td>\n",
       "      <td>-0.001345</td>\n",
       "      <td>-0.001296</td>\n",
       "      <td>-0.001159</td>\n",
       "      <td>-0.000637</td>\n",
       "      <td>0.000038</td>\n",
       "      <td>...</td>\n",
       "      <td>-0.001978</td>\n",
       "      <td>0.000265</td>\n",
       "      <td>0.000265</td>\n",
       "      <td>0.000955</td>\n",
       "      <td>0.000591</td>\n",
       "      <td>-0.000356</td>\n",
       "      <td>-0.000618</td>\n",
       "      <td>-0.000048</td>\n",
       "      <td>0.000647</td>\n",
       "      <td>0.001534</td>\n",
       "    </tr>\n",
       "    <tr>\n",
       "      <th>10</th>\n",
       "      <td>-0.001340</td>\n",
       "      <td>-0.002227</td>\n",
       "      <td>-0.002270</td>\n",
       "      <td>-0.002152</td>\n",
       "      <td>-0.001825</td>\n",
       "      <td>-0.001907</td>\n",
       "      <td>-0.001873</td>\n",
       "      <td>-0.001704</td>\n",
       "      <td>-0.000748</td>\n",
       "      <td>0.000721</td>\n",
       "      <td>...</td>\n",
       "      <td>-0.002224</td>\n",
       "      <td>0.001691</td>\n",
       "      <td>0.002431</td>\n",
       "      <td>0.004453</td>\n",
       "      <td>0.004624</td>\n",
       "      <td>0.003288</td>\n",
       "      <td>0.003136</td>\n",
       "      <td>0.004129</td>\n",
       "      <td>0.005285</td>\n",
       "      <td>0.006410</td>\n",
       "    </tr>\n",
       "    <tr>\n",
       "      <th>11</th>\n",
       "      <td>-0.001773</td>\n",
       "      <td>-0.002709</td>\n",
       "      <td>-0.002754</td>\n",
       "      <td>-0.002738</td>\n",
       "      <td>-0.002260</td>\n",
       "      <td>-0.002486</td>\n",
       "      <td>-0.002340</td>\n",
       "      <td>-0.002165</td>\n",
       "      <td>-0.001267</td>\n",
       "      <td>0.000034</td>\n",
       "      <td>...</td>\n",
       "      <td>-0.002670</td>\n",
       "      <td>0.001415</td>\n",
       "      <td>0.002084</td>\n",
       "      <td>0.004278</td>\n",
       "      <td>0.004549</td>\n",
       "      <td>0.003584</td>\n",
       "      <td>0.003686</td>\n",
       "      <td>0.005038</td>\n",
       "      <td>0.005688</td>\n",
       "      <td>0.006203</td>\n",
       "    </tr>\n",
       "    <tr>\n",
       "      <th>12</th>\n",
       "      <td>-0.001447</td>\n",
       "      <td>-0.002176</td>\n",
       "      <td>-0.002108</td>\n",
       "      <td>-0.002006</td>\n",
       "      <td>-0.001994</td>\n",
       "      <td>-0.001976</td>\n",
       "      <td>-0.001690</td>\n",
       "      <td>-0.001648</td>\n",
       "      <td>-0.001319</td>\n",
       "      <td>-0.001569</td>\n",
       "      <td>...</td>\n",
       "      <td>-0.002411</td>\n",
       "      <td>-0.000184</td>\n",
       "      <td>0.001341</td>\n",
       "      <td>0.003419</td>\n",
       "      <td>0.005684</td>\n",
       "      <td>0.007968</td>\n",
       "      <td>0.010063</td>\n",
       "      <td>0.011467</td>\n",
       "      <td>0.009651</td>\n",
       "      <td>0.005622</td>\n",
       "    </tr>\n",
       "    <tr>\n",
       "      <th>13</th>\n",
       "      <td>-0.002292</td>\n",
       "      <td>-0.002810</td>\n",
       "      <td>-0.002705</td>\n",
       "      <td>-0.002707</td>\n",
       "      <td>-0.002483</td>\n",
       "      <td>-0.002362</td>\n",
       "      <td>-0.001977</td>\n",
       "      <td>-0.001750</td>\n",
       "      <td>-0.001644</td>\n",
       "      <td>-0.001992</td>\n",
       "      <td>...</td>\n",
       "      <td>-0.003361</td>\n",
       "      <td>-0.000919</td>\n",
       "      <td>0.000428</td>\n",
       "      <td>0.002718</td>\n",
       "      <td>0.004966</td>\n",
       "      <td>0.007116</td>\n",
       "      <td>0.009260</td>\n",
       "      <td>0.010673</td>\n",
       "      <td>0.008861</td>\n",
       "      <td>0.005002</td>\n",
       "    </tr>\n",
       "    <tr>\n",
       "      <th>14</th>\n",
       "      <td>-0.001504</td>\n",
       "      <td>-0.002044</td>\n",
       "      <td>-0.002095</td>\n",
       "      <td>-0.001906</td>\n",
       "      <td>-0.001810</td>\n",
       "      <td>-0.001693</td>\n",
       "      <td>-0.001147</td>\n",
       "      <td>-0.000740</td>\n",
       "      <td>-0.000626</td>\n",
       "      <td>-0.001156</td>\n",
       "      <td>...</td>\n",
       "      <td>-0.002109</td>\n",
       "      <td>0.000479</td>\n",
       "      <td>0.002514</td>\n",
       "      <td>0.005288</td>\n",
       "      <td>0.008298</td>\n",
       "      <td>0.011356</td>\n",
       "      <td>0.014262</td>\n",
       "      <td>0.015839</td>\n",
       "      <td>0.013405</td>\n",
       "      <td>0.008247</td>\n",
       "    </tr>\n",
       "    <tr>\n",
       "      <th>15</th>\n",
       "      <td>-0.001349</td>\n",
       "      <td>-0.001974</td>\n",
       "      <td>-0.001919</td>\n",
       "      <td>-0.001739</td>\n",
       "      <td>-0.001703</td>\n",
       "      <td>-0.001481</td>\n",
       "      <td>-0.000992</td>\n",
       "      <td>-0.000632</td>\n",
       "      <td>-0.000500</td>\n",
       "      <td>-0.001119</td>\n",
       "      <td>...</td>\n",
       "      <td>-0.004187</td>\n",
       "      <td>-0.001326</td>\n",
       "      <td>0.000720</td>\n",
       "      <td>0.004148</td>\n",
       "      <td>0.008008</td>\n",
       "      <td>0.011618</td>\n",
       "      <td>0.015027</td>\n",
       "      <td>0.017189</td>\n",
       "      <td>0.014410</td>\n",
       "      <td>0.008071</td>\n",
       "    </tr>\n",
       "    <tr>\n",
       "      <th>16</th>\n",
       "      <td>-0.001736</td>\n",
       "      <td>-0.002334</td>\n",
       "      <td>-0.002292</td>\n",
       "      <td>-0.002120</td>\n",
       "      <td>-0.002069</td>\n",
       "      <td>-0.002029</td>\n",
       "      <td>-0.001698</td>\n",
       "      <td>-0.001339</td>\n",
       "      <td>-0.001235</td>\n",
       "      <td>-0.001568</td>\n",
       "      <td>...</td>\n",
       "      <td>-0.002710</td>\n",
       "      <td>0.000369</td>\n",
       "      <td>0.002635</td>\n",
       "      <td>0.006478</td>\n",
       "      <td>0.010502</td>\n",
       "      <td>0.014408</td>\n",
       "      <td>0.017905</td>\n",
       "      <td>0.020035</td>\n",
       "      <td>0.016871</td>\n",
       "      <td>0.010331</td>\n",
       "    </tr>\n",
       "    <tr>\n",
       "      <th>17</th>\n",
       "      <td>-0.001029</td>\n",
       "      <td>-0.001551</td>\n",
       "      <td>-0.001524</td>\n",
       "      <td>-0.001450</td>\n",
       "      <td>-0.001435</td>\n",
       "      <td>-0.001394</td>\n",
       "      <td>-0.001248</td>\n",
       "      <td>-0.001203</td>\n",
       "      <td>-0.001025</td>\n",
       "      <td>-0.001153</td>\n",
       "      <td>...</td>\n",
       "      <td>-0.003072</td>\n",
       "      <td>-0.001170</td>\n",
       "      <td>-0.000026</td>\n",
       "      <td>0.001747</td>\n",
       "      <td>0.003656</td>\n",
       "      <td>0.005642</td>\n",
       "      <td>0.007527</td>\n",
       "      <td>0.008736</td>\n",
       "      <td>0.007086</td>\n",
       "      <td>0.003592</td>\n",
       "    </tr>\n",
       "    <tr>\n",
       "      <th>18</th>\n",
       "      <td>-0.001747</td>\n",
       "      <td>-0.002372</td>\n",
       "      <td>-0.002310</td>\n",
       "      <td>-0.002252</td>\n",
       "      <td>-0.002098</td>\n",
       "      <td>-0.002102</td>\n",
       "      <td>-0.001557</td>\n",
       "      <td>-0.001381</td>\n",
       "      <td>-0.001074</td>\n",
       "      <td>-0.001542</td>\n",
       "      <td>...</td>\n",
       "      <td>-0.002414</td>\n",
       "      <td>0.000788</td>\n",
       "      <td>0.003296</td>\n",
       "      <td>0.006859</td>\n",
       "      <td>0.010911</td>\n",
       "      <td>0.014466</td>\n",
       "      <td>0.018006</td>\n",
       "      <td>0.020179</td>\n",
       "      <td>0.017155</td>\n",
       "      <td>0.010749</td>\n",
       "    </tr>\n",
       "    <tr>\n",
       "      <th>19</th>\n",
       "      <td>-0.001381</td>\n",
       "      <td>-0.001896</td>\n",
       "      <td>-0.001867</td>\n",
       "      <td>-0.001800</td>\n",
       "      <td>-0.001701</td>\n",
       "      <td>-0.001704</td>\n",
       "      <td>-0.001560</td>\n",
       "      <td>-0.001461</td>\n",
       "      <td>-0.001263</td>\n",
       "      <td>-0.001477</td>\n",
       "      <td>...</td>\n",
       "      <td>-0.003709</td>\n",
       "      <td>-0.001539</td>\n",
       "      <td>-0.000192</td>\n",
       "      <td>0.001779</td>\n",
       "      <td>0.004032</td>\n",
       "      <td>0.006303</td>\n",
       "      <td>0.008408</td>\n",
       "      <td>0.009699</td>\n",
       "      <td>0.007924</td>\n",
       "      <td>0.003882</td>\n",
       "    </tr>\n",
       "    <tr>\n",
       "      <th>20</th>\n",
       "      <td>-0.002175</td>\n",
       "      <td>-0.002690</td>\n",
       "      <td>-0.002728</td>\n",
       "      <td>-0.002615</td>\n",
       "      <td>-0.002583</td>\n",
       "      <td>-0.002544</td>\n",
       "      <td>-0.002221</td>\n",
       "      <td>-0.002045</td>\n",
       "      <td>-0.001875</td>\n",
       "      <td>-0.002114</td>\n",
       "      <td>...</td>\n",
       "      <td>-0.004706</td>\n",
       "      <td>-0.000755</td>\n",
       "      <td>0.001948</td>\n",
       "      <td>0.006777</td>\n",
       "      <td>0.011657</td>\n",
       "      <td>0.015998</td>\n",
       "      <td>0.020329</td>\n",
       "      <td>0.022672</td>\n",
       "      <td>0.018980</td>\n",
       "      <td>0.011370</td>\n",
       "    </tr>\n",
       "    <tr>\n",
       "      <th>21</th>\n",
       "      <td>-0.003009</td>\n",
       "      <td>-0.003498</td>\n",
       "      <td>-0.003457</td>\n",
       "      <td>-0.003422</td>\n",
       "      <td>-0.003307</td>\n",
       "      <td>-0.003233</td>\n",
       "      <td>-0.002858</td>\n",
       "      <td>-0.002550</td>\n",
       "      <td>-0.002342</td>\n",
       "      <td>-0.002553</td>\n",
       "      <td>...</td>\n",
       "      <td>-0.002959</td>\n",
       "      <td>0.001857</td>\n",
       "      <td>0.005729</td>\n",
       "      <td>0.012761</td>\n",
       "      <td>0.019800</td>\n",
       "      <td>0.026147</td>\n",
       "      <td>0.032312</td>\n",
       "      <td>0.035652</td>\n",
       "      <td>0.030530</td>\n",
       "      <td>0.019411</td>\n",
       "    </tr>\n",
       "    <tr>\n",
       "      <th>22</th>\n",
       "      <td>-0.000660</td>\n",
       "      <td>-0.001213</td>\n",
       "      <td>-0.001134</td>\n",
       "      <td>-0.001032</td>\n",
       "      <td>-0.000976</td>\n",
       "      <td>-0.001022</td>\n",
       "      <td>-0.000934</td>\n",
       "      <td>-0.000935</td>\n",
       "      <td>-0.000661</td>\n",
       "      <td>-0.000716</td>\n",
       "      <td>...</td>\n",
       "      <td>-0.001220</td>\n",
       "      <td>-0.000261</td>\n",
       "      <td>0.000260</td>\n",
       "      <td>0.000466</td>\n",
       "      <td>0.001036</td>\n",
       "      <td>0.001786</td>\n",
       "      <td>0.002532</td>\n",
       "      <td>0.003152</td>\n",
       "      <td>0.002652</td>\n",
       "      <td>0.001021</td>\n",
       "    </tr>\n",
       "    <tr>\n",
       "      <th>23</th>\n",
       "      <td>-0.001015</td>\n",
       "      <td>-0.001472</td>\n",
       "      <td>-0.001441</td>\n",
       "      <td>-0.001340</td>\n",
       "      <td>-0.001330</td>\n",
       "      <td>-0.001356</td>\n",
       "      <td>-0.001263</td>\n",
       "      <td>-0.001237</td>\n",
       "      <td>-0.000929</td>\n",
       "      <td>-0.000916</td>\n",
       "      <td>...</td>\n",
       "      <td>-0.002100</td>\n",
       "      <td>-0.000383</td>\n",
       "      <td>0.000092</td>\n",
       "      <td>0.001071</td>\n",
       "      <td>0.001798</td>\n",
       "      <td>0.002602</td>\n",
       "      <td>0.003488</td>\n",
       "      <td>0.004197</td>\n",
       "      <td>0.003656</td>\n",
       "      <td>0.002043</td>\n",
       "    </tr>\n",
       "    <tr>\n",
       "      <th>24</th>\n",
       "      <td>-0.002297</td>\n",
       "      <td>-0.003226</td>\n",
       "      <td>-0.003304</td>\n",
       "      <td>-0.003182</td>\n",
       "      <td>-0.002586</td>\n",
       "      <td>-0.002753</td>\n",
       "      <td>-0.002769</td>\n",
       "      <td>-0.002505</td>\n",
       "      <td>-0.001276</td>\n",
       "      <td>0.000877</td>\n",
       "      <td>...</td>\n",
       "      <td>-0.001071</td>\n",
       "      <td>0.003888</td>\n",
       "      <td>0.005280</td>\n",
       "      <td>0.008314</td>\n",
       "      <td>0.009155</td>\n",
       "      <td>0.007939</td>\n",
       "      <td>0.008021</td>\n",
       "      <td>0.009348</td>\n",
       "      <td>0.010196</td>\n",
       "      <td>0.011081</td>\n",
       "    </tr>\n",
       "    <tr>\n",
       "      <th>25</th>\n",
       "      <td>-0.000231</td>\n",
       "      <td>-0.000794</td>\n",
       "      <td>-0.000858</td>\n",
       "      <td>-0.000676</td>\n",
       "      <td>-0.000674</td>\n",
       "      <td>-0.000670</td>\n",
       "      <td>-0.000622</td>\n",
       "      <td>-0.000553</td>\n",
       "      <td>-0.000236</td>\n",
       "      <td>-0.000356</td>\n",
       "      <td>...</td>\n",
       "      <td>-0.001440</td>\n",
       "      <td>-0.000640</td>\n",
       "      <td>-0.000358</td>\n",
       "      <td>-0.000588</td>\n",
       "      <td>-0.000794</td>\n",
       "      <td>-0.000586</td>\n",
       "      <td>-0.000481</td>\n",
       "      <td>-0.000139</td>\n",
       "      <td>0.000023</td>\n",
       "      <td>-0.000339</td>\n",
       "    </tr>\n",
       "    <tr>\n",
       "      <th>26</th>\n",
       "      <td>-0.000421</td>\n",
       "      <td>-0.000906</td>\n",
       "      <td>-0.000956</td>\n",
       "      <td>-0.000823</td>\n",
       "      <td>-0.000725</td>\n",
       "      <td>-0.000817</td>\n",
       "      <td>-0.000638</td>\n",
       "      <td>-0.000688</td>\n",
       "      <td>-0.000428</td>\n",
       "      <td>-0.000529</td>\n",
       "      <td>...</td>\n",
       "      <td>-0.001653</td>\n",
       "      <td>-0.000560</td>\n",
       "      <td>-0.000231</td>\n",
       "      <td>-0.000209</td>\n",
       "      <td>-0.000054</td>\n",
       "      <td>0.000265</td>\n",
       "      <td>0.000599</td>\n",
       "      <td>0.001046</td>\n",
       "      <td>0.000959</td>\n",
       "      <td>0.000149</td>\n",
       "    </tr>\n",
       "    <tr>\n",
       "      <th>27</th>\n",
       "      <td>-0.001776</td>\n",
       "      <td>-0.002454</td>\n",
       "      <td>-0.002492</td>\n",
       "      <td>-0.002390</td>\n",
       "      <td>-0.002081</td>\n",
       "      <td>-0.002175</td>\n",
       "      <td>-0.002126</td>\n",
       "      <td>-0.001927</td>\n",
       "      <td>-0.001137</td>\n",
       "      <td>-0.000163</td>\n",
       "      <td>...</td>\n",
       "      <td>-0.001537</td>\n",
       "      <td>0.002121</td>\n",
       "      <td>0.003385</td>\n",
       "      <td>0.006145</td>\n",
       "      <td>0.007696</td>\n",
       "      <td>0.008146</td>\n",
       "      <td>0.009498</td>\n",
       "      <td>0.011209</td>\n",
       "      <td>0.010747</td>\n",
       "      <td>0.008995</td>\n",
       "    </tr>\n",
       "    <tr>\n",
       "      <th>28</th>\n",
       "      <td>-0.000480</td>\n",
       "      <td>-0.001240</td>\n",
       "      <td>-0.001116</td>\n",
       "      <td>-0.001015</td>\n",
       "      <td>-0.001044</td>\n",
       "      <td>-0.001016</td>\n",
       "      <td>-0.000880</td>\n",
       "      <td>-0.000765</td>\n",
       "      <td>-0.000625</td>\n",
       "      <td>-0.000776</td>\n",
       "      <td>...</td>\n",
       "      <td>-0.000914</td>\n",
       "      <td>-0.000112</td>\n",
       "      <td>0.000014</td>\n",
       "      <td>-0.000577</td>\n",
       "      <td>-0.000828</td>\n",
       "      <td>-0.000736</td>\n",
       "      <td>-0.000690</td>\n",
       "      <td>-0.000524</td>\n",
       "      <td>-0.000408</td>\n",
       "      <td>-0.000623</td>\n",
       "    </tr>\n",
       "    <tr>\n",
       "      <th>29</th>\n",
       "      <td>-0.000608</td>\n",
       "      <td>-0.001182</td>\n",
       "      <td>-0.001062</td>\n",
       "      <td>-0.000929</td>\n",
       "      <td>-0.000984</td>\n",
       "      <td>-0.000913</td>\n",
       "      <td>-0.000833</td>\n",
       "      <td>-0.000883</td>\n",
       "      <td>-0.000561</td>\n",
       "      <td>-0.000837</td>\n",
       "      <td>...</td>\n",
       "      <td>-0.000718</td>\n",
       "      <td>-0.000068</td>\n",
       "      <td>0.000134</td>\n",
       "      <td>-0.000620</td>\n",
       "      <td>-0.000854</td>\n",
       "      <td>-0.000705</td>\n",
       "      <td>-0.000720</td>\n",
       "      <td>-0.000488</td>\n",
       "      <td>-0.000264</td>\n",
       "      <td>-0.000621</td>\n",
       "    </tr>\n",
       "    <tr>\n",
       "      <th>30</th>\n",
       "      <td>-0.000767</td>\n",
       "      <td>-0.001208</td>\n",
       "      <td>-0.001192</td>\n",
       "      <td>-0.001071</td>\n",
       "      <td>-0.001128</td>\n",
       "      <td>-0.001108</td>\n",
       "      <td>-0.000966</td>\n",
       "      <td>-0.001008</td>\n",
       "      <td>-0.000748</td>\n",
       "      <td>-0.000853</td>\n",
       "      <td>...</td>\n",
       "      <td>-0.002021</td>\n",
       "      <td>-0.000835</td>\n",
       "      <td>-0.000891</td>\n",
       "      <td>-0.000776</td>\n",
       "      <td>-0.001005</td>\n",
       "      <td>-0.001005</td>\n",
       "      <td>-0.000894</td>\n",
       "      <td>-0.000546</td>\n",
       "      <td>-0.000666</td>\n",
       "      <td>-0.000912</td>\n",
       "    </tr>\n",
       "    <tr>\n",
       "      <th>31</th>\n",
       "      <td>-0.000739</td>\n",
       "      <td>-0.001141</td>\n",
       "      <td>-0.001213</td>\n",
       "      <td>-0.000977</td>\n",
       "      <td>-0.000958</td>\n",
       "      <td>-0.001070</td>\n",
       "      <td>-0.000941</td>\n",
       "      <td>-0.000868</td>\n",
       "      <td>-0.000691</td>\n",
       "      <td>-0.000829</td>\n",
       "      <td>...</td>\n",
       "      <td>-0.001082</td>\n",
       "      <td>-0.000291</td>\n",
       "      <td>-0.000166</td>\n",
       "      <td>-0.000608</td>\n",
       "      <td>-0.000861</td>\n",
       "      <td>-0.000776</td>\n",
       "      <td>-0.000719</td>\n",
       "      <td>-0.000520</td>\n",
       "      <td>-0.000368</td>\n",
       "      <td>-0.000694</td>\n",
       "    </tr>\n",
       "    <tr>\n",
       "      <th>32</th>\n",
       "      <td>-0.000712</td>\n",
       "      <td>-0.001053</td>\n",
       "      <td>-0.001073</td>\n",
       "      <td>-0.000998</td>\n",
       "      <td>-0.001022</td>\n",
       "      <td>-0.000981</td>\n",
       "      <td>-0.000899</td>\n",
       "      <td>-0.000913</td>\n",
       "      <td>-0.000738</td>\n",
       "      <td>-0.000736</td>\n",
       "      <td>...</td>\n",
       "      <td>-0.001987</td>\n",
       "      <td>-0.000753</td>\n",
       "      <td>-0.000908</td>\n",
       "      <td>-0.000649</td>\n",
       "      <td>-0.000705</td>\n",
       "      <td>-0.000710</td>\n",
       "      <td>-0.000519</td>\n",
       "      <td>-0.000192</td>\n",
       "      <td>-0.000286</td>\n",
       "      <td>-0.000613</td>\n",
       "    </tr>\n",
       "    <tr>\n",
       "      <th>33</th>\n",
       "      <td>-0.000456</td>\n",
       "      <td>-0.000976</td>\n",
       "      <td>-0.000950</td>\n",
       "      <td>-0.000757</td>\n",
       "      <td>-0.000839</td>\n",
       "      <td>-0.000891</td>\n",
       "      <td>-0.000666</td>\n",
       "      <td>-0.000760</td>\n",
       "      <td>-0.000462</td>\n",
       "      <td>-0.000662</td>\n",
       "      <td>...</td>\n",
       "      <td>-0.000828</td>\n",
       "      <td>-0.000194</td>\n",
       "      <td>-0.000037</td>\n",
       "      <td>-0.000485</td>\n",
       "      <td>-0.000654</td>\n",
       "      <td>-0.000668</td>\n",
       "      <td>-0.000521</td>\n",
       "      <td>-0.000415</td>\n",
       "      <td>-0.000269</td>\n",
       "      <td>-0.000487</td>\n",
       "    </tr>\n",
       "  </tbody>\n",
       "</table>\n",
       "<p>34 rows × 3648 columns</p>\n",
       "</div>"
      ],
      "text/plain": [
       "    216.330000  216.370000  216.410000  216.450000  216.490000  216.520000  \\\n",
       "0    -0.000971   -0.001513   -0.001537   -0.001446   -0.001329   -0.001400   \n",
       "1    -0.000990   -0.001709   -0.001716   -0.001646   -0.001491   -0.001544   \n",
       "2    -0.001592   -0.002231   -0.002187   -0.002158   -0.001942   -0.002038   \n",
       "3    -0.001974   -0.002943   -0.003067   -0.002909   -0.002360   -0.002542   \n",
       "4    -0.001142   -0.001877   -0.001925   -0.001809   -0.001632   -0.001676   \n",
       "5    -0.000938   -0.001583   -0.001570   -0.001434   -0.001293   -0.001331   \n",
       "6    -0.000998   -0.001702   -0.001706   -0.001602   -0.001437   -0.001505   \n",
       "7    -0.000964   -0.001628   -0.001651   -0.001606   -0.001379   -0.001506   \n",
       "8    -0.001282   -0.002357   -0.002454   -0.002377   -0.001970   -0.002121   \n",
       "9    -0.000980   -0.001509   -0.001562   -0.001450   -0.001318   -0.001345   \n",
       "10   -0.001340   -0.002227   -0.002270   -0.002152   -0.001825   -0.001907   \n",
       "11   -0.001773   -0.002709   -0.002754   -0.002738   -0.002260   -0.002486   \n",
       "12   -0.001447   -0.002176   -0.002108   -0.002006   -0.001994   -0.001976   \n",
       "13   -0.002292   -0.002810   -0.002705   -0.002707   -0.002483   -0.002362   \n",
       "14   -0.001504   -0.002044   -0.002095   -0.001906   -0.001810   -0.001693   \n",
       "15   -0.001349   -0.001974   -0.001919   -0.001739   -0.001703   -0.001481   \n",
       "16   -0.001736   -0.002334   -0.002292   -0.002120   -0.002069   -0.002029   \n",
       "17   -0.001029   -0.001551   -0.001524   -0.001450   -0.001435   -0.001394   \n",
       "18   -0.001747   -0.002372   -0.002310   -0.002252   -0.002098   -0.002102   \n",
       "19   -0.001381   -0.001896   -0.001867   -0.001800   -0.001701   -0.001704   \n",
       "20   -0.002175   -0.002690   -0.002728   -0.002615   -0.002583   -0.002544   \n",
       "21   -0.003009   -0.003498   -0.003457   -0.003422   -0.003307   -0.003233   \n",
       "22   -0.000660   -0.001213   -0.001134   -0.001032   -0.000976   -0.001022   \n",
       "23   -0.001015   -0.001472   -0.001441   -0.001340   -0.001330   -0.001356   \n",
       "24   -0.002297   -0.003226   -0.003304   -0.003182   -0.002586   -0.002753   \n",
       "25   -0.000231   -0.000794   -0.000858   -0.000676   -0.000674   -0.000670   \n",
       "26   -0.000421   -0.000906   -0.000956   -0.000823   -0.000725   -0.000817   \n",
       "27   -0.001776   -0.002454   -0.002492   -0.002390   -0.002081   -0.002175   \n",
       "28   -0.000480   -0.001240   -0.001116   -0.001015   -0.001044   -0.001016   \n",
       "29   -0.000608   -0.001182   -0.001062   -0.000929   -0.000984   -0.000913   \n",
       "30   -0.000767   -0.001208   -0.001192   -0.001071   -0.001128   -0.001108   \n",
       "31   -0.000739   -0.001141   -0.001213   -0.000977   -0.000958   -0.001070   \n",
       "32   -0.000712   -0.001053   -0.001073   -0.000998   -0.001022   -0.000981   \n",
       "33   -0.000456   -0.000976   -0.000950   -0.000757   -0.000839   -0.000891   \n",
       "\n",
       "    216.560000  216.600000  216.640000  216.680000  ...  340.120000  \\\n",
       "0    -0.001263   -0.001237   -0.000737   -0.000370  ...   -0.002839   \n",
       "1    -0.001405   -0.001372   -0.000814   -0.000230  ...   -0.001933   \n",
       "2    -0.001832   -0.001680   -0.001126   -0.000577  ...   -0.002332   \n",
       "3    -0.002514   -0.002261   -0.001045    0.000931  ...   -0.000994   \n",
       "4    -0.001559   -0.001483   -0.000802    0.000155  ...   -0.002026   \n",
       "5    -0.001358   -0.001198   -0.000701   -0.000019  ...   -0.002130   \n",
       "6    -0.001444   -0.001327   -0.000698    0.000155  ...   -0.001986   \n",
       "7    -0.001420   -0.001316   -0.000685   -0.000009  ...   -0.002142   \n",
       "8    -0.001991   -0.001933   -0.000961    0.000014  ...   -0.002514   \n",
       "9    -0.001296   -0.001159   -0.000637    0.000038  ...   -0.001978   \n",
       "10   -0.001873   -0.001704   -0.000748    0.000721  ...   -0.002224   \n",
       "11   -0.002340   -0.002165   -0.001267    0.000034  ...   -0.002670   \n",
       "12   -0.001690   -0.001648   -0.001319   -0.001569  ...   -0.002411   \n",
       "13   -0.001977   -0.001750   -0.001644   -0.001992  ...   -0.003361   \n",
       "14   -0.001147   -0.000740   -0.000626   -0.001156  ...   -0.002109   \n",
       "15   -0.000992   -0.000632   -0.000500   -0.001119  ...   -0.004187   \n",
       "16   -0.001698   -0.001339   -0.001235   -0.001568  ...   -0.002710   \n",
       "17   -0.001248   -0.001203   -0.001025   -0.001153  ...   -0.003072   \n",
       "18   -0.001557   -0.001381   -0.001074   -0.001542  ...   -0.002414   \n",
       "19   -0.001560   -0.001461   -0.001263   -0.001477  ...   -0.003709   \n",
       "20   -0.002221   -0.002045   -0.001875   -0.002114  ...   -0.004706   \n",
       "21   -0.002858   -0.002550   -0.002342   -0.002553  ...   -0.002959   \n",
       "22   -0.000934   -0.000935   -0.000661   -0.000716  ...   -0.001220   \n",
       "23   -0.001263   -0.001237   -0.000929   -0.000916  ...   -0.002100   \n",
       "24   -0.002769   -0.002505   -0.001276    0.000877  ...   -0.001071   \n",
       "25   -0.000622   -0.000553   -0.000236   -0.000356  ...   -0.001440   \n",
       "26   -0.000638   -0.000688   -0.000428   -0.000529  ...   -0.001653   \n",
       "27   -0.002126   -0.001927   -0.001137   -0.000163  ...   -0.001537   \n",
       "28   -0.000880   -0.000765   -0.000625   -0.000776  ...   -0.000914   \n",
       "29   -0.000833   -0.000883   -0.000561   -0.000837  ...   -0.000718   \n",
       "30   -0.000966   -0.001008   -0.000748   -0.000853  ...   -0.002021   \n",
       "31   -0.000941   -0.000868   -0.000691   -0.000829  ...   -0.001082   \n",
       "32   -0.000899   -0.000913   -0.000738   -0.000736  ...   -0.001987   \n",
       "33   -0.000666   -0.000760   -0.000462   -0.000662  ...   -0.000828   \n",
       "\n",
       "    340.150000  340.170000  340.200000  340.230000  340.260000  340.290000  \\\n",
       "0    -0.000734   -0.000576   -0.000206   -0.000487   -0.001280   -0.001555   \n",
       "1     0.000642    0.000811    0.001411    0.001043   -0.000176   -0.000374   \n",
       "2     0.000094    0.000096    0.000830    0.000328   -0.000598   -0.000636   \n",
       "3     0.003097    0.003858    0.005618    0.005193    0.002781    0.002060   \n",
       "4     0.000788    0.001041    0.001845    0.001382    0.000046   -0.000481   \n",
       "5     0.000412    0.000556    0.001274    0.000812   -0.000362   -0.000793   \n",
       "6     0.000813    0.000923    0.001931    0.001455    0.000075   -0.000376   \n",
       "7     0.000723    0.000727    0.001589    0.001066   -0.000237   -0.000648   \n",
       "8     0.001364    0.001986    0.003405    0.003099    0.001087    0.000439   \n",
       "9     0.000265    0.000265    0.000955    0.000591   -0.000356   -0.000618   \n",
       "10    0.001691    0.002431    0.004453    0.004624    0.003288    0.003136   \n",
       "11    0.001415    0.002084    0.004278    0.004549    0.003584    0.003686   \n",
       "12   -0.000184    0.001341    0.003419    0.005684    0.007968    0.010063   \n",
       "13   -0.000919    0.000428    0.002718    0.004966    0.007116    0.009260   \n",
       "14    0.000479    0.002514    0.005288    0.008298    0.011356    0.014262   \n",
       "15   -0.001326    0.000720    0.004148    0.008008    0.011618    0.015027   \n",
       "16    0.000369    0.002635    0.006478    0.010502    0.014408    0.017905   \n",
       "17   -0.001170   -0.000026    0.001747    0.003656    0.005642    0.007527   \n",
       "18    0.000788    0.003296    0.006859    0.010911    0.014466    0.018006   \n",
       "19   -0.001539   -0.000192    0.001779    0.004032    0.006303    0.008408   \n",
       "20   -0.000755    0.001948    0.006777    0.011657    0.015998    0.020329   \n",
       "21    0.001857    0.005729    0.012761    0.019800    0.026147    0.032312   \n",
       "22   -0.000261    0.000260    0.000466    0.001036    0.001786    0.002532   \n",
       "23   -0.000383    0.000092    0.001071    0.001798    0.002602    0.003488   \n",
       "24    0.003888    0.005280    0.008314    0.009155    0.007939    0.008021   \n",
       "25   -0.000640   -0.000358   -0.000588   -0.000794   -0.000586   -0.000481   \n",
       "26   -0.000560   -0.000231   -0.000209   -0.000054    0.000265    0.000599   \n",
       "27    0.002121    0.003385    0.006145    0.007696    0.008146    0.009498   \n",
       "28   -0.000112    0.000014   -0.000577   -0.000828   -0.000736   -0.000690   \n",
       "29   -0.000068    0.000134   -0.000620   -0.000854   -0.000705   -0.000720   \n",
       "30   -0.000835   -0.000891   -0.000776   -0.001005   -0.001005   -0.000894   \n",
       "31   -0.000291   -0.000166   -0.000608   -0.000861   -0.000776   -0.000719   \n",
       "32   -0.000753   -0.000908   -0.000649   -0.000705   -0.000710   -0.000519   \n",
       "33   -0.000194   -0.000037   -0.000485   -0.000654   -0.000668   -0.000521   \n",
       "\n",
       "    340.320000  340.340000  340.370000  \n",
       "0    -0.001104   -0.000473    0.000150  \n",
       "1     0.000230    0.001008    0.001834  \n",
       "2    -0.000052    0.000606    0.001288  \n",
       "3     0.003184    0.004883    0.007010  \n",
       "4     0.000249    0.001247    0.002534  \n",
       "5    -0.000154    0.000755    0.001812  \n",
       "6     0.000339    0.001332    0.002633  \n",
       "7    -0.000006    0.000929    0.002168  \n",
       "8     0.001331    0.002886    0.004573  \n",
       "9    -0.000048    0.000647    0.001534  \n",
       "10    0.004129    0.005285    0.006410  \n",
       "11    0.005038    0.005688    0.006203  \n",
       "12    0.011467    0.009651    0.005622  \n",
       "13    0.010673    0.008861    0.005002  \n",
       "14    0.015839    0.013405    0.008247  \n",
       "15    0.017189    0.014410    0.008071  \n",
       "16    0.020035    0.016871    0.010331  \n",
       "17    0.008736    0.007086    0.003592  \n",
       "18    0.020179    0.017155    0.010749  \n",
       "19    0.009699    0.007924    0.003882  \n",
       "20    0.022672    0.018980    0.011370  \n",
       "21    0.035652    0.030530    0.019411  \n",
       "22    0.003152    0.002652    0.001021  \n",
       "23    0.004197    0.003656    0.002043  \n",
       "24    0.009348    0.010196    0.011081  \n",
       "25   -0.000139    0.000023   -0.000339  \n",
       "26    0.001046    0.000959    0.000149  \n",
       "27    0.011209    0.010747    0.008995  \n",
       "28   -0.000524   -0.000408   -0.000623  \n",
       "29   -0.000488   -0.000264   -0.000621  \n",
       "30   -0.000546   -0.000666   -0.000912  \n",
       "31   -0.000520   -0.000368   -0.000694  \n",
       "32   -0.000192   -0.000286   -0.000613  \n",
       "33   -0.000415   -0.000269   -0.000487  \n",
       "\n",
       "[34 rows x 3648 columns]"
      ]
     },
     "execution_count": 6,
     "metadata": {},
     "output_type": "execute_result"
    }
   ],
   "source": [
    "x_df = pd.read_csv('../avg_base_wl_max_28-02.csv', sep = ',')\n",
    "values = x_df.values\n",
    "#wl=x_df.columns.values\n",
    "#print(wl.shape)\n",
    "\n",
    "#print(values)\n",
    "#print(type(values))\n",
    "print(values.shape)\n",
    "print(values[1].shape)\n",
    "print(len(values))\n",
    "x_df"
   ]
  },
  {
   "cell_type": "code",
   "execution_count": 7,
   "metadata": {},
   "outputs": [
    {
     "name": "stdout",
     "output_type": "stream",
     "text": [
      "[[216.33]\n",
      " [216.37]\n",
      " [216.41]\n",
      " ...\n",
      " [340.32]\n",
      " [340.34]\n",
      " [340.37]]\n"
     ]
    },
    {
     "data": {
      "image/png": "[encoded data removed]",
      "text/plain": [
       "<Figure size 432x288 with 1 Axes>"
      ]
     },
     "metadata": {
      "needs_background": "light"
     },
     "output_type": "display_data"
    }
   ],
   "source": [
    "#This is just for visualizing the various plots of the samples\n",
    "\n",
    "mat = scipy.io.loadmat(\"../data/H01.mat\")\n",
    "wl= mat[\"wl\"]\n",
    "print(wl)\n",
    "\n",
    "for i in range(len(values)):\n",
    "    plt.plot(wl, values[i])\n",
    "    #plt.show() #comment this one to have unique plot instead of multiple ones\n",
    "#range(len(dfs))\n",
    "#\"\"\"\n",
    "\n",
    "\n"
   ]
  },
  {
   "cell_type": "code",
   "execution_count": 8,
   "metadata": {
    "scrolled": true
   },
   "outputs": [
    {
     "name": "stdout",
     "output_type": "stream",
     "text": [
      "<class 'pandas.core.frame.DataFrame'>\n",
      "(34, 12)\n"
     ]
    },
    {
     "data": {
      "text/html": [
       "<div>\n",
       "<style scoped>\n",
       "    .dataframe tbody tr th:only-of-type {\n",
       "        vertical-align: middle;\n",
       "    }\n",
       "\n",
       "    .dataframe tbody tr th {\n",
       "        vertical-align: top;\n",
       "    }\n",
       "\n",
       "    .dataframe thead th {\n",
       "        text-align: right;\n",
       "    }\n",
       "</style>\n",
       "<table border=\"1\" class=\"dataframe\">\n",
       "  <thead>\n",
       "    <tr style=\"text-align: right;\">\n",
       "      <th></th>\n",
       "      <th>Sample</th>\n",
       "      <th>CaO</th>\n",
       "      <th>CaF2</th>\n",
       "      <th>MgO</th>\n",
       "      <th>Al2O3</th>\n",
       "      <th>SiO2</th>\n",
       "      <th>FeO</th>\n",
       "      <th>MnO</th>\n",
       "      <th>Cr2O3</th>\n",
       "      <th>P2O5</th>\n",
       "      <th>V2O5</th>\n",
       "      <th>TiO2</th>\n",
       "    </tr>\n",
       "  </thead>\n",
       "  <tbody>\n",
       "    <tr>\n",
       "      <th>0</th>\n",
       "      <td>H01</td>\n",
       "      <td>37.8</td>\n",
       "      <td>0.18</td>\n",
       "      <td>25.00</td>\n",
       "      <td>9.61</td>\n",
       "      <td>13.20</td>\n",
       "      <td>18.30</td>\n",
       "      <td>1.99</td>\n",
       "      <td>0.20</td>\n",
       "      <td>0.23</td>\n",
       "      <td>0.18</td>\n",
       "      <td>1.03</td>\n",
       "    </tr>\n",
       "    <tr>\n",
       "      <th>1</th>\n",
       "      <td>H02</td>\n",
       "      <td>44.5</td>\n",
       "      <td>0.22</td>\n",
       "      <td>18.00</td>\n",
       "      <td>5.04</td>\n",
       "      <td>14.20</td>\n",
       "      <td>18.90</td>\n",
       "      <td>2.10</td>\n",
       "      <td>0.28</td>\n",
       "      <td>0.26</td>\n",
       "      <td>0.06</td>\n",
       "      <td>1.07</td>\n",
       "    </tr>\n",
       "    <tr>\n",
       "      <th>2</th>\n",
       "      <td>H03</td>\n",
       "      <td>38.5</td>\n",
       "      <td>0.22</td>\n",
       "      <td>21.10</td>\n",
       "      <td>6.14</td>\n",
       "      <td>10.60</td>\n",
       "      <td>20.20</td>\n",
       "      <td>5.82</td>\n",
       "      <td>0.61</td>\n",
       "      <td>0.40</td>\n",
       "      <td>0.14</td>\n",
       "      <td>0.86</td>\n",
       "    </tr>\n",
       "    <tr>\n",
       "      <th>3</th>\n",
       "      <td>H04</td>\n",
       "      <td>38.4</td>\n",
       "      <td>0.04</td>\n",
       "      <td>15.50</td>\n",
       "      <td>4.07</td>\n",
       "      <td>12.80</td>\n",
       "      <td>26.70</td>\n",
       "      <td>3.35</td>\n",
       "      <td>0.52</td>\n",
       "      <td>0.31</td>\n",
       "      <td>0.08</td>\n",
       "      <td>1.07</td>\n",
       "    </tr>\n",
       "    <tr>\n",
       "      <th>4</th>\n",
       "      <td>H05</td>\n",
       "      <td>43.2</td>\n",
       "      <td>0.18</td>\n",
       "      <td>17.10</td>\n",
       "      <td>4.14</td>\n",
       "      <td>14.80</td>\n",
       "      <td>21.70</td>\n",
       "      <td>1.72</td>\n",
       "      <td>0.20</td>\n",
       "      <td>0.29</td>\n",
       "      <td>0.18</td>\n",
       "      <td>1.07</td>\n",
       "    </tr>\n",
       "    <tr>\n",
       "      <th>5</th>\n",
       "      <td>H06</td>\n",
       "      <td>45.3</td>\n",
       "      <td>0.23</td>\n",
       "      <td>15.90</td>\n",
       "      <td>4.34</td>\n",
       "      <td>16.50</td>\n",
       "      <td>18.90</td>\n",
       "      <td>1.29</td>\n",
       "      <td>0.10</td>\n",
       "      <td>0.30</td>\n",
       "      <td>0.11</td>\n",
       "      <td>1.10</td>\n",
       "    </tr>\n",
       "    <tr>\n",
       "      <th>6</th>\n",
       "      <td>H07</td>\n",
       "      <td>46.1</td>\n",
       "      <td>0.25</td>\n",
       "      <td>14.30</td>\n",
       "      <td>4.12</td>\n",
       "      <td>16.20</td>\n",
       "      <td>19.00</td>\n",
       "      <td>1.21</td>\n",
       "      <td>0.09</td>\n",
       "      <td>0.27</td>\n",
       "      <td>0.06</td>\n",
       "      <td>1.08</td>\n",
       "    </tr>\n",
       "    <tr>\n",
       "      <th>7</th>\n",
       "      <td>H08</td>\n",
       "      <td>45.1</td>\n",
       "      <td>0.19</td>\n",
       "      <td>13.00</td>\n",
       "      <td>4.05</td>\n",
       "      <td>16.10</td>\n",
       "      <td>21.00</td>\n",
       "      <td>1.26</td>\n",
       "      <td>0.10</td>\n",
       "      <td>0.28</td>\n",
       "      <td>0.06</td>\n",
       "      <td>1.09</td>\n",
       "    </tr>\n",
       "    <tr>\n",
       "      <th>8</th>\n",
       "      <td>H09</td>\n",
       "      <td>32.8</td>\n",
       "      <td>0.01</td>\n",
       "      <td>10.60</td>\n",
       "      <td>7.30</td>\n",
       "      <td>14.30</td>\n",
       "      <td>33.20</td>\n",
       "      <td>2.75</td>\n",
       "      <td>0.42</td>\n",
       "      <td>0.32</td>\n",
       "      <td>0.09</td>\n",
       "      <td>1.12</td>\n",
       "    </tr>\n",
       "    <tr>\n",
       "      <th>9</th>\n",
       "      <td>H10</td>\n",
       "      <td>42.4</td>\n",
       "      <td>0.24</td>\n",
       "      <td>19.30</td>\n",
       "      <td>6.50</td>\n",
       "      <td>14.70</td>\n",
       "      <td>17.40</td>\n",
       "      <td>2.72</td>\n",
       "      <td>0.31</td>\n",
       "      <td>0.28</td>\n",
       "      <td>0.09</td>\n",
       "      <td>1.06</td>\n",
       "    </tr>\n",
       "    <tr>\n",
       "      <th>10</th>\n",
       "      <td>H11</td>\n",
       "      <td>38.4</td>\n",
       "      <td>0.04</td>\n",
       "      <td>11.20</td>\n",
       "      <td>5.02</td>\n",
       "      <td>14.00</td>\n",
       "      <td>26.10</td>\n",
       "      <td>2.84</td>\n",
       "      <td>2.11</td>\n",
       "      <td>0.34</td>\n",
       "      <td>0.09</td>\n",
       "      <td>0.91</td>\n",
       "    </tr>\n",
       "    <tr>\n",
       "      <th>11</th>\n",
       "      <td>H12</td>\n",
       "      <td>36.4</td>\n",
       "      <td>0.01</td>\n",
       "      <td>17.40</td>\n",
       "      <td>4.31</td>\n",
       "      <td>12.80</td>\n",
       "      <td>27.70</td>\n",
       "      <td>2.86</td>\n",
       "      <td>2.59</td>\n",
       "      <td>0.27</td>\n",
       "      <td>0.09</td>\n",
       "      <td>0.77</td>\n",
       "    </tr>\n",
       "    <tr>\n",
       "      <th>12</th>\n",
       "      <td>O01</td>\n",
       "      <td>43.7</td>\n",
       "      <td>1.30</td>\n",
       "      <td>7.90</td>\n",
       "      <td>3.20</td>\n",
       "      <td>33.30</td>\n",
       "      <td>1.30</td>\n",
       "      <td>3.00</td>\n",
       "      <td>3.70</td>\n",
       "      <td>0.01</td>\n",
       "      <td>0.11</td>\n",
       "      <td>0.80</td>\n",
       "    </tr>\n",
       "    <tr>\n",
       "      <th>13</th>\n",
       "      <td>O02</td>\n",
       "      <td>41.3</td>\n",
       "      <td>1.20</td>\n",
       "      <td>7.90</td>\n",
       "      <td>3.80</td>\n",
       "      <td>35.30</td>\n",
       "      <td>1.30</td>\n",
       "      <td>2.00</td>\n",
       "      <td>3.90</td>\n",
       "      <td>0.01</td>\n",
       "      <td>0.10</td>\n",
       "      <td>0.83</td>\n",
       "    </tr>\n",
       "    <tr>\n",
       "      <th>14</th>\n",
       "      <td>O03</td>\n",
       "      <td>44.6</td>\n",
       "      <td>1.10</td>\n",
       "      <td>9.60</td>\n",
       "      <td>2.80</td>\n",
       "      <td>35.30</td>\n",
       "      <td>0.90</td>\n",
       "      <td>1.30</td>\n",
       "      <td>2.70</td>\n",
       "      <td>0.01</td>\n",
       "      <td>0.07</td>\n",
       "      <td>0.80</td>\n",
       "    </tr>\n",
       "    <tr>\n",
       "      <th>15</th>\n",
       "      <td>O04</td>\n",
       "      <td>42.5</td>\n",
       "      <td>1.60</td>\n",
       "      <td>8.90</td>\n",
       "      <td>3.20</td>\n",
       "      <td>29.00</td>\n",
       "      <td>1.30</td>\n",
       "      <td>1.60</td>\n",
       "      <td>11.00</td>\n",
       "      <td>0.01</td>\n",
       "      <td>0.17</td>\n",
       "      <td>1.12</td>\n",
       "    </tr>\n",
       "    <tr>\n",
       "      <th>16</th>\n",
       "      <td>O05</td>\n",
       "      <td>39.2</td>\n",
       "      <td>1.10</td>\n",
       "      <td>8.40</td>\n",
       "      <td>3.70</td>\n",
       "      <td>34.30</td>\n",
       "      <td>1.70</td>\n",
       "      <td>1.30</td>\n",
       "      <td>9.30</td>\n",
       "      <td>0.01</td>\n",
       "      <td>0.11</td>\n",
       "      <td>0.92</td>\n",
       "    </tr>\n",
       "    <tr>\n",
       "      <th>17</th>\n",
       "      <td>O06</td>\n",
       "      <td>44.2</td>\n",
       "      <td>1.10</td>\n",
       "      <td>10.50</td>\n",
       "      <td>3.20</td>\n",
       "      <td>34.50</td>\n",
       "      <td>1.00</td>\n",
       "      <td>1.10</td>\n",
       "      <td>3.20</td>\n",
       "      <td>0.01</td>\n",
       "      <td>0.08</td>\n",
       "      <td>0.98</td>\n",
       "    </tr>\n",
       "    <tr>\n",
       "      <th>18</th>\n",
       "      <td>O07</td>\n",
       "      <td>44.1</td>\n",
       "      <td>1.10</td>\n",
       "      <td>9.10</td>\n",
       "      <td>3.70</td>\n",
       "      <td>32.50</td>\n",
       "      <td>2.00</td>\n",
       "      <td>2.00</td>\n",
       "      <td>4.50</td>\n",
       "      <td>0.01</td>\n",
       "      <td>0.12</td>\n",
       "      <td>0.71</td>\n",
       "    </tr>\n",
       "    <tr>\n",
       "      <th>19</th>\n",
       "      <td>O08</td>\n",
       "      <td>40.3</td>\n",
       "      <td>1.20</td>\n",
       "      <td>7.70</td>\n",
       "      <td>4.80</td>\n",
       "      <td>30.90</td>\n",
       "      <td>1.70</td>\n",
       "      <td>3.30</td>\n",
       "      <td>7.60</td>\n",
       "      <td>0.01</td>\n",
       "      <td>0.18</td>\n",
       "      <td>1.45</td>\n",
       "    </tr>\n",
       "    <tr>\n",
       "      <th>20</th>\n",
       "      <td>O09</td>\n",
       "      <td>37.5</td>\n",
       "      <td>1.40</td>\n",
       "      <td>6.80</td>\n",
       "      <td>4.10</td>\n",
       "      <td>27.80</td>\n",
       "      <td>2.50</td>\n",
       "      <td>3.50</td>\n",
       "      <td>12.90</td>\n",
       "      <td>0.01</td>\n",
       "      <td>0.23</td>\n",
       "      <td>1.93</td>\n",
       "    </tr>\n",
       "    <tr>\n",
       "      <th>21</th>\n",
       "      <td>O10</td>\n",
       "      <td>37.9</td>\n",
       "      <td>1.10</td>\n",
       "      <td>6.10</td>\n",
       "      <td>2.80</td>\n",
       "      <td>25.30</td>\n",
       "      <td>1.70</td>\n",
       "      <td>2.80</td>\n",
       "      <td>17.80</td>\n",
       "      <td>0.02</td>\n",
       "      <td>0.28</td>\n",
       "      <td>0.74</td>\n",
       "    </tr>\n",
       "    <tr>\n",
       "      <th>22</th>\n",
       "      <td>U01</td>\n",
       "      <td>24.2</td>\n",
       "      <td>3.04</td>\n",
       "      <td>14.10</td>\n",
       "      <td>10.90</td>\n",
       "      <td>24.30</td>\n",
       "      <td>2.45</td>\n",
       "      <td>4.39</td>\n",
       "      <td>15.40</td>\n",
       "      <td>0.00</td>\n",
       "      <td>0.96</td>\n",
       "      <td>0.21</td>\n",
       "    </tr>\n",
       "    <tr>\n",
       "      <th>23</th>\n",
       "      <td>U02</td>\n",
       "      <td>39.8</td>\n",
       "      <td>3.63</td>\n",
       "      <td>11.80</td>\n",
       "      <td>7.91</td>\n",
       "      <td>21.50</td>\n",
       "      <td>3.87</td>\n",
       "      <td>1.36</td>\n",
       "      <td>6.98</td>\n",
       "      <td>0.00</td>\n",
       "      <td>3.00</td>\n",
       "      <td>0.28</td>\n",
       "    </tr>\n",
       "    <tr>\n",
       "      <th>24</th>\n",
       "      <td>U03</td>\n",
       "      <td>33.4</td>\n",
       "      <td>1.72</td>\n",
       "      <td>7.20</td>\n",
       "      <td>6.70</td>\n",
       "      <td>5.85</td>\n",
       "      <td>35.00</td>\n",
       "      <td>3.79</td>\n",
       "      <td>2.05</td>\n",
       "      <td>0.20</td>\n",
       "      <td>0.30</td>\n",
       "      <td>0.45</td>\n",
       "    </tr>\n",
       "    <tr>\n",
       "      <th>25</th>\n",
       "      <td>U04</td>\n",
       "      <td>41.0</td>\n",
       "      <td>2.81</td>\n",
       "      <td>18.40</td>\n",
       "      <td>5.72</td>\n",
       "      <td>25.40</td>\n",
       "      <td>3.46</td>\n",
       "      <td>0.49</td>\n",
       "      <td>1.08</td>\n",
       "      <td>0.00</td>\n",
       "      <td>0.40</td>\n",
       "      <td>0.22</td>\n",
       "    </tr>\n",
       "    <tr>\n",
       "      <th>26</th>\n",
       "      <td>U05</td>\n",
       "      <td>31.3</td>\n",
       "      <td>3.95</td>\n",
       "      <td>19.90</td>\n",
       "      <td>9.52</td>\n",
       "      <td>28.00</td>\n",
       "      <td>2.86</td>\n",
       "      <td>0.70</td>\n",
       "      <td>3.00</td>\n",
       "      <td>0.00</td>\n",
       "      <td>0.00</td>\n",
       "      <td>0.45</td>\n",
       "    </tr>\n",
       "    <tr>\n",
       "      <th>27</th>\n",
       "      <td>U06</td>\n",
       "      <td>33.2</td>\n",
       "      <td>2.19</td>\n",
       "      <td>14.90</td>\n",
       "      <td>8.57</td>\n",
       "      <td>13.90</td>\n",
       "      <td>12.80</td>\n",
       "      <td>5.32</td>\n",
       "      <td>6.99</td>\n",
       "      <td>0.00</td>\n",
       "      <td>0.40</td>\n",
       "      <td>0.21</td>\n",
       "    </tr>\n",
       "    <tr>\n",
       "      <th>28</th>\n",
       "      <td>U07</td>\n",
       "      <td>51.4</td>\n",
       "      <td>0.00</td>\n",
       "      <td>8.90</td>\n",
       "      <td>26.90</td>\n",
       "      <td>11.60</td>\n",
       "      <td>0.27</td>\n",
       "      <td>0.00</td>\n",
       "      <td>0.15</td>\n",
       "      <td>0.00</td>\n",
       "      <td>0.00</td>\n",
       "      <td>0.12</td>\n",
       "    </tr>\n",
       "    <tr>\n",
       "      <th>29</th>\n",
       "      <td>U08</td>\n",
       "      <td>53.0</td>\n",
       "      <td>0.00</td>\n",
       "      <td>8.94</td>\n",
       "      <td>25.50</td>\n",
       "      <td>11.80</td>\n",
       "      <td>0.14</td>\n",
       "      <td>0.00</td>\n",
       "      <td>0.00</td>\n",
       "      <td>0.00</td>\n",
       "      <td>0.00</td>\n",
       "      <td>0.00</td>\n",
       "    </tr>\n",
       "    <tr>\n",
       "      <th>30</th>\n",
       "      <td>U09</td>\n",
       "      <td>40.5</td>\n",
       "      <td>2.05</td>\n",
       "      <td>19.90</td>\n",
       "      <td>6.05</td>\n",
       "      <td>28.50</td>\n",
       "      <td>1.39</td>\n",
       "      <td>0.42</td>\n",
       "      <td>0.92</td>\n",
       "      <td>0.00</td>\n",
       "      <td>0.22</td>\n",
       "      <td>0.25</td>\n",
       "    </tr>\n",
       "    <tr>\n",
       "      <th>31</th>\n",
       "      <td>U10</td>\n",
       "      <td>50.1</td>\n",
       "      <td>0.00</td>\n",
       "      <td>14.00</td>\n",
       "      <td>28.40</td>\n",
       "      <td>5.99</td>\n",
       "      <td>0.45</td>\n",
       "      <td>0.00</td>\n",
       "      <td>0.15</td>\n",
       "      <td>0.00</td>\n",
       "      <td>0.19</td>\n",
       "      <td>0.14</td>\n",
       "    </tr>\n",
       "    <tr>\n",
       "      <th>32</th>\n",
       "      <td>U11</td>\n",
       "      <td>40.1</td>\n",
       "      <td>2.43</td>\n",
       "      <td>20.00</td>\n",
       "      <td>6.79</td>\n",
       "      <td>27.50</td>\n",
       "      <td>1.37</td>\n",
       "      <td>0.41</td>\n",
       "      <td>0.89</td>\n",
       "      <td>0.00</td>\n",
       "      <td>0.22</td>\n",
       "      <td>0.24</td>\n",
       "    </tr>\n",
       "    <tr>\n",
       "      <th>33</th>\n",
       "      <td>U12</td>\n",
       "      <td>44.5</td>\n",
       "      <td>0.00</td>\n",
       "      <td>24.40</td>\n",
       "      <td>22.10</td>\n",
       "      <td>7.54</td>\n",
       "      <td>0.47</td>\n",
       "      <td>0.00</td>\n",
       "      <td>0.00</td>\n",
       "      <td>0.00</td>\n",
       "      <td>0.00</td>\n",
       "      <td>0.00</td>\n",
       "    </tr>\n",
       "  </tbody>\n",
       "</table>\n",
       "</div>"
      ],
      "text/plain": [
       "   Sample   CaO  CaF2    MgO  Al2O3   SiO2    FeO   MnO  Cr2O3  P2O5  V2O5  \\\n",
       "0     H01  37.8  0.18  25.00   9.61  13.20  18.30  1.99   0.20  0.23  0.18   \n",
       "1     H02  44.5  0.22  18.00   5.04  14.20  18.90  2.10   0.28  0.26  0.06   \n",
       "2     H03  38.5  0.22  21.10   6.14  10.60  20.20  5.82   0.61  0.40  0.14   \n",
       "3     H04  38.4  0.04  15.50   4.07  12.80  26.70  3.35   0.52  0.31  0.08   \n",
       "4     H05  43.2  0.18  17.10   4.14  14.80  21.70  1.72   0.20  0.29  0.18   \n",
       "5     H06  45.3  0.23  15.90   4.34  16.50  18.90  1.29   0.10  0.30  0.11   \n",
       "6     H07  46.1  0.25  14.30   4.12  16.20  19.00  1.21   0.09  0.27  0.06   \n",
       "7     H08  45.1  0.19  13.00   4.05  16.10  21.00  1.26   0.10  0.28  0.06   \n",
       "8     H09  32.8  0.01  10.60   7.30  14.30  33.20  2.75   0.42  0.32  0.09   \n",
       "9     H10  42.4  0.24  19.30   6.50  14.70  17.40  2.72   0.31  0.28  0.09   \n",
       "10    H11  38.4  0.04  11.20   5.02  14.00  26.10  2.84   2.11  0.34  0.09   \n",
       "11    H12  36.4  0.01  17.40   4.31  12.80  27.70  2.86   2.59  0.27  0.09   \n",
       "12    O01  43.7  1.30   7.90   3.20  33.30   1.30  3.00   3.70  0.01  0.11   \n",
       "13    O02  41.3  1.20   7.90   3.80  35.30   1.30  2.00   3.90  0.01  0.10   \n",
       "14    O03  44.6  1.10   9.60   2.80  35.30   0.90  1.30   2.70  0.01  0.07   \n",
       "15    O04  42.5  1.60   8.90   3.20  29.00   1.30  1.60  11.00  0.01  0.17   \n",
       "16    O05  39.2  1.10   8.40   3.70  34.30   1.70  1.30   9.30  0.01  0.11   \n",
       "17    O06  44.2  1.10  10.50   3.20  34.50   1.00  1.10   3.20  0.01  0.08   \n",
       "18    O07  44.1  1.10   9.10   3.70  32.50   2.00  2.00   4.50  0.01  0.12   \n",
       "19    O08  40.3  1.20   7.70   4.80  30.90   1.70  3.30   7.60  0.01  0.18   \n",
       "20    O09  37.5  1.40   6.80   4.10  27.80   2.50  3.50  12.90  0.01  0.23   \n",
       "21    O10  37.9  1.10   6.10   2.80  25.30   1.70  2.80  17.80  0.02  0.28   \n",
       "22    U01  24.2  3.04  14.10  10.90  24.30   2.45  4.39  15.40  0.00  0.96   \n",
       "23    U02  39.8  3.63  11.80   7.91  21.50   3.87  1.36   6.98  0.00  3.00   \n",
       "24    U03  33.4  1.72   7.20   6.70   5.85  35.00  3.79   2.05  0.20  0.30   \n",
       "25    U04  41.0  2.81  18.40   5.72  25.40   3.46  0.49   1.08  0.00  0.40   \n",
       "26    U05  31.3  3.95  19.90   9.52  28.00   2.86  0.70   3.00  0.00  0.00   \n",
       "27    U06  33.2  2.19  14.90   8.57  13.90  12.80  5.32   6.99  0.00  0.40   \n",
       "28    U07  51.4  0.00   8.90  26.90  11.60   0.27  0.00   0.15  0.00  0.00   \n",
       "29    U08  53.0  0.00   8.94  25.50  11.80   0.14  0.00   0.00  0.00  0.00   \n",
       "30    U09  40.5  2.05  19.90   6.05  28.50   1.39  0.42   0.92  0.00  0.22   \n",
       "31    U10  50.1  0.00  14.00  28.40   5.99   0.45  0.00   0.15  0.00  0.19   \n",
       "32    U11  40.1  2.43  20.00   6.79  27.50   1.37  0.41   0.89  0.00  0.22   \n",
       "33    U12  44.5  0.00  24.40  22.10   7.54   0.47  0.00   0.00  0.00  0.00   \n",
       "\n",
       "    TiO2  \n",
       "0   1.03  \n",
       "1   1.07  \n",
       "2   0.86  \n",
       "3   1.07  \n",
       "4   1.07  \n",
       "5   1.10  \n",
       "6   1.08  \n",
       "7   1.09  \n",
       "8   1.12  \n",
       "9   1.06  \n",
       "10  0.91  \n",
       "11  0.77  \n",
       "12  0.80  \n",
       "13  0.83  \n",
       "14  0.80  \n",
       "15  1.12  \n",
       "16  0.92  \n",
       "17  0.98  \n",
       "18  0.71  \n",
       "19  1.45  \n",
       "20  1.93  \n",
       "21  0.74  \n",
       "22  0.21  \n",
       "23  0.28  \n",
       "24  0.45  \n",
       "25  0.22  \n",
       "26  0.45  \n",
       "27  0.21  \n",
       "28  0.12  \n",
       "29  0.00  \n",
       "30  0.25  \n",
       "31  0.14  \n",
       "32  0.24  \n",
       "33  0.00  "
      ]
     },
     "execution_count": 8,
     "metadata": {},
     "output_type": "execute_result"
    }
   ],
   "source": [
    "df_y = pd.read_csv('../concentration.csv', sep = ',')\n",
    "print(type(df_y))\n",
    "concentration=df_y.values\n",
    "print(concentration.shape)\n",
    "#print(concentration)\n",
    "\n",
    "y_values=df_y.values\n",
    "#y_all=pd.DataFrame(y_values[:,1:-2])\n",
    "#print(y_all)\n",
    "df_y"
   ]
  },
  {
   "cell_type": "code",
   "execution_count": 120,
   "metadata": {
    "scrolled": true
   },
   "outputs": [
    {
     "name": "stdout",
     "output_type": "stream",
     "text": [
      "[13.2 14.2 10.6 12.8 14.8 16.5 16.2 16.1 14.3 14.7 14.0 12.8 33.3 35.3\n",
      " 35.3 29.0 34.3 34.5 32.5 30.9 27.8 25.3 24.3 21.5 5.85 25.4 28.0 13.9\n",
      " 11.6 11.8 28.5 5.99 27.5 7.54]\n",
      "(34,)\n"
     ]
    }
   ],
   "source": [
    "y_val = concentration[:,5] #3-Mg, 4-Al, 5-Si, 6-Fe, 7-Mn\n",
    "print(y_val)\n",
    "print(y_val.shape)\n",
    "y_df= pd.DataFrame(y_val)\n",
    "#y_df"
   ]
  },
  {
   "cell_type": "code",
   "execution_count": null,
   "metadata": {},
   "outputs": [],
   "source": []
  },
  {
   "cell_type": "code",
   "execution_count": 11,
   "metadata": {},
   "outputs": [
    {
     "name": "stdout",
     "output_type": "stream",
     "text": [
      "(27, 3648) (27, 1)\n",
      "(7, 3648) (7, 1)\n",
      "       0\n",
      "13   7.9\n",
      "14   9.6\n",
      "8   10.6\n",
      "28   8.9\n",
      "32    20\n",
      "3   15.5\n",
      "0     25\n"
     ]
    }
   ],
   "source": [
    "X_train, X_test, y_train, y_test = train_test_split(x_df, y_df, test_size=0.2)\n",
    "print (X_train.shape, y_train.shape)\n",
    "print (X_test.shape, y_test.shape)\n",
    "print(y_test)"
   ]
  },
  {
   "cell_type": "code",
   "execution_count": null,
   "metadata": {},
   "outputs": [],
   "source": []
  },
  {
   "cell_type": "markdown",
   "metadata": {},
   "source": [
    "# Principal Components Analysis"
   ]
  },
  {
   "cell_type": "code",
   "execution_count": 12,
   "metadata": {},
   "outputs": [
    {
     "name": "stdout",
     "output_type": "stream",
     "text": [
      "(34, 3648)\n",
      "(3648,)\n",
      "34\n",
      "(34, 25)\n",
      "[53.58 77.76 85.12 91.31 93.68 95.42 96.48 97.47 98.17 98.75 99.   99.23\n",
      " 99.41 99.55 99.65 99.72 99.78 99.83 99.87 99.91 99.93 99.94 99.95 99.96\n",
      " 99.97]\n"
     ]
    }
   ],
   "source": [
    "n_components=25\n",
    "\n",
    "\n",
    "x = x_df.values\n",
    "print(x.shape)\n",
    "print(x[1].shape)\n",
    "print(len(x))\n",
    "\n",
    "\n",
    "# This has to be used later for regression, PCA is done on X only\n",
    "\"\"\"\n",
    "y_df = pd.read_csv('labels_aligned+.csv', sep = ',')\n",
    "concentration=y_df.values\n",
    "#print(concentration)\n",
    "multi_y = concentration[:,2:]\n",
    "#print (multi_y)\n",
    "print (multi_y.shape)\n",
    "multi_y= np.array(multi_y, dtype=np.float)\n",
    "y=np.around(multi_y, decimals=4)\n",
    "#print(y)\n",
    "\"\"\"\n",
    "\n",
    "# PCA\n",
    "\n",
    "X_std = StandardScaler().fit_transform(x)\n",
    "#print(X_std)\n",
    "\n",
    "pca = PCA(n_components= n_components)\n",
    "PC=pca.fit(X_std)\n",
    "\n",
    "principalComponents = pca.fit_transform(X_std)\n",
    "print(principalComponents.shape)\n",
    "#principalDf = pd.DataFrame(data = principalComponents, columns = ['principal component 1', 'principal component 2', 'principal component 3'])\n",
    "#print(principalDf)\n",
    "\n",
    "\n",
    "#print(pca.explained_variance_ratio_)\n",
    "print(np.cumsum(np.round(pca.explained_variance_ratio_, decimals=4)*100))\n",
    "#print(pca.singular_values_)"
   ]
  },
  {
   "cell_type": "code",
   "execution_count": 13,
   "metadata": {},
   "outputs": [
    {
     "name": "stdout",
     "output_type": "stream",
     "text": [
      "0.9073011737744466 -35.84844457394992\n",
      "2.553587620852715 1015.0692920616232\n"
     ]
    }
   ],
   "source": [
    "regr = linear_model.LinearRegression()\n",
    "# Fit\n",
    "regr.fit(principalComponents, y_df)\n",
    "# Calibration\n",
    "y_c = regr.predict(principalComponents)\n",
    "# Cross-validation\n",
    "y_cv = cross_val_predict(regr, principalComponents, y_df, cv=10)\n",
    "# Calculate scores for calibration and cross-validation\n",
    "score_c = r2_score(y_df, y_c)\n",
    "score_cv = r2_score(y_df, y_cv)\n",
    "# Calculate mean square error for calibration and cross validation\n",
    "\n",
    "mse_c = mean_squared_error(y_df, y_c)\n",
    "mse_cv = mean_squared_error(y_df, y_cv)\n",
    "\n",
    "print(score_c, score_cv)\n",
    "print(mse_c, mse_cv)"
   ]
  },
  {
   "cell_type": "markdown",
   "metadata": {},
   "source": [
    "now using PCA with Linear regression and PLS"
   ]
  },
  {
   "cell_type": "code",
   "execution_count": 14,
   "metadata": {},
   "outputs": [
    {
     "name": "stdout",
     "output_type": "stream",
     "text": [
      "(27, 3648)\n",
      "(3648,)\n",
      "27\n",
      "(27, 25)\n",
      "[50.88 76.67 84.88 91.56 94.41 96.33 97.56 98.29 98.72 99.07 99.32 99.52\n",
      " 99.66 99.74 99.81 99.86 99.89 99.91 99.93 99.94 99.95 99.96 99.97 99.98\n",
      " 99.98]\n"
     ]
    }
   ],
   "source": [
    "n_components=25\n",
    "\n",
    "x = X_train.values\n",
    "x_t = X_test.values\n",
    "print(x.shape)\n",
    "print(x[1].shape)\n",
    "print(len(x))\n",
    "\n",
    "\n",
    "# This has to be used later for regression, PCA is done on X only\n",
    "\"\"\"\n",
    "y_df = pd.read_csv('labels_aligned+.csv', sep = ',')\n",
    "concentration=y_df.values\n",
    "#print(concentration)\n",
    "multi_y = concentration[:,2:]\n",
    "#print (multi_y)\n",
    "print (multi_y.shape)\n",
    "multi_y= np.array(multi_y, dtype=np.float)\n",
    "y=np.around(multi_y, decimals=4)\n",
    "#print(y)\n",
    "\"\"\"\n",
    "\n",
    "# PCA\n",
    "\n",
    "X_std = StandardScaler().fit_transform(x)\n",
    "X_std_test = StandardScaler().fit_transform(x_t)\n",
    "#print(X_std)\n",
    "\n",
    "pca = PCA(n_components= n_components)\n",
    "PC=pca.fit(X_std)\n",
    "\n",
    "x_pc = pca.fit_transform(X_std)\n",
    "x_test1 = pca.transform(X_std_test)\n",
    "print(x_pc.shape)\n",
    "#principalDf = pd.DataFrame(data = principalComponents, columns = ['principal component 1', 'principal component 2', 'principal component 3'])\n",
    "#print(principalDf)\n",
    "\n",
    "\n",
    "#print(pca.explained_variance_ratio_)\n",
    "print(np.cumsum(np.round(pca.explained_variance_ratio_, decimals=4)*100))"
   ]
  },
  {
   "cell_type": "code",
   "execution_count": 91,
   "metadata": {},
   "outputs": [],
   "source": [
    "x_pc, x_test1, y_train, y_test = train_test_split(principalComponents, y_df, test_size=0.15)"
   ]
  },
  {
   "cell_type": "code",
   "execution_count": 92,
   "metadata": {},
   "outputs": [
    {
     "name": "stdout",
     "output_type": "stream",
     "text": [
      "R2_pred:  -39.569957362196114\n",
      "MSE:  262.62285732461606\n"
     ]
    }
   ],
   "source": [
    "regr = linear_model.LinearRegression()\n",
    "# Fit\n",
    "regr.fit(x_pc, y_train)\n",
    "# Calibration\n",
    "y_p = regr.predict(x_test1)\n",
    "# Cross-validation\n",
    "#y_cv = cross_val_predict(regr, principalComponents, y_df, cv=10)\n",
    "# Calculate scores for calibration and cross-validation\n",
    "score_c = r2_score(y_test, y_p)\n",
    "#score_cv = r2_score(y_df, y_cv)\n",
    "# Calculate mean square error for calibration and cross validation\n",
    "mse_c = mean_squared_error(y_test, y_p)\n",
    "#mse_cv = mean_squared_error(y_df, y_cv)\n",
    "\n",
    "print(\"R2_pred: \", score_c)\n",
    "print(\"MSE: \", mse_c)"
   ]
  },
  {
   "cell_type": "code",
   "execution_count": 93,
   "metadata": {},
   "outputs": [
    {
     "name": "stdout",
     "output_type": "stream",
     "text": [
      "37% completed\n",
      "Suggested number of components:  8\n",
      "\n"
     ]
    },
    {
     "data": {
      "image/png": "[encoded data removed]",
      "text/plain": [
       "<Figure size 432x288 with 1 Axes>"
      ]
     },
     "metadata": {},
     "output_type": "display_data"
    },
    {
     "name": "stdout",
     "output_type": "stream",
     "text": [
      "R2 calib: 0.995\n",
      "R2 CV: 0.241\n",
      "MSE calib: 0.165\n",
      "MSE CV: 24.343\n"
     ]
    }
   ],
   "source": [
    "optimise_pls_cv(x_pc, y_train, 15, plot_components=True) "
   ]
  },
  {
   "cell_type": "code",
   "execution_count": 94,
   "metadata": {},
   "outputs": [
    {
     "name": "stdout",
     "output_type": "stream",
     "text": [
      "R2_pred:  -14.708179040796798\n",
      "MSE:  101.6842789907579\n"
     ]
    }
   ],
   "source": [
    "pls = PLSRegression(n_components=8)\n",
    "# Fit\n",
    "pls.fit(x_pc, y_train)\n",
    "# Calibration\n",
    "y_c = pls.predict(x_test1)\n",
    "# Cross-validation\n",
    "#y_cv = cross_val_predict(regr, principalComponents, y_df, cv=10)\n",
    "# Calculate scores for calibration and cross-validation\n",
    "score_c = r2_score(y_test, y_c)\n",
    "#score_cv = r2_score(y_df, y_cv)\n",
    "# Calculate mean square error for calibration and cross validation\n",
    "mse_c = mean_squared_error(y_test, y_c)\n",
    "#mse_cv = mean_squared_error(y_df, y_cv)\n",
    "\n",
    "print(\"R2_pred: \", score_c)\n",
    "print(\"MSE: \", mse_c)"
   ]
  },
  {
   "cell_type": "markdown",
   "metadata": {},
   "source": [
    "# Independent Component Analysis"
   ]
  },
  {
   "cell_type": "code",
   "execution_count": 109,
   "metadata": {},
   "outputs": [
    {
     "data": {
      "text/plain": [
       "(34, 20)"
      ]
     },
     "execution_count": 109,
     "metadata": {},
     "output_type": "execute_result"
    }
   ],
   "source": [
    "from sklearn.decomposition import FastICA\n",
    "\n",
    "transformer = FastICA(n_components=20, random_state=0)\n",
    "\n",
    "X_transformed = transformer.fit_transform(x_df)\n",
    "X_transformed.shape"
   ]
  },
  {
   "cell_type": "code",
   "execution_count": 117,
   "metadata": {},
   "outputs": [],
   "source": [
    "X_train, X_test, y_train, y_test = train_test_split(X_transformed, y_df, test_size=0.2)"
   ]
  },
  {
   "cell_type": "code",
   "execution_count": null,
   "metadata": {},
   "outputs": [],
   "source": []
  },
  {
   "cell_type": "code",
   "execution_count": null,
   "metadata": {},
   "outputs": [],
   "source": []
  },
  {
   "cell_type": "code",
   "execution_count": null,
   "metadata": {},
   "outputs": [],
   "source": []
  },
  {
   "cell_type": "code",
   "execution_count": null,
   "metadata": {},
   "outputs": [],
   "source": []
  },
  {
   "cell_type": "code",
   "execution_count": null,
   "metadata": {},
   "outputs": [],
   "source": []
  },
  {
   "cell_type": "markdown",
   "metadata": {},
   "source": [
    "# Linear Regression\n",
    "this is ordinary least square regression"
   ]
  },
  {
   "cell_type": "code",
   "execution_count": 118,
   "metadata": {},
   "outputs": [
    {
     "name": "stdout",
     "output_type": "stream",
     "text": [
      "R^2_pred:  -12.604622266136763\n",
      "RMSE:  14.139942402597821 \n",
      "\n",
      "[real, predictions]\n",
      "[[17.1 17.629693652261157]\n",
      " [14.9 36.48230779054628]\n",
      " [18.4 17.658814194815736]\n",
      " [10.6 6.671117836373764]\n",
      " [14.0 24.48526790457291]\n",
      " [6.1 33.94282011484458]\n",
      " [14.3 19.986850330247748]]\n"
     ]
    },
    {
     "data": {
      "image/png": "[encoded data removed]",
      "text/plain": [
       "<Figure size 432x288 with 1 Axes>"
      ]
     },
     "metadata": {
      "needs_background": "light"
     },
     "output_type": "display_data"
    }
   ],
   "source": [
    "lm = linear_model.LinearRegression()\n",
    "model = lm.fit(X_train, y_train)\n",
    "predictions = lm.predict(X_test)\n",
    "\n",
    "\n",
    "rmse = sqrt(mean_squared_error(y_test, predictions))\n",
    "r2 = r2_score(y_test, predictions)\n",
    "print(\"R^2_pred: \", r2)\n",
    "print(\"RMSE: \", rmse, \"\\n\")\n",
    "\n",
    "\n",
    "b=np.append(y_test, predictions, axis=1)\n",
    "\n",
    "print(\"[real, predictions]\")\n",
    "print(b)\n",
    "\n",
    "plt.scatter(y_test, predictions)\n",
    "plt.xlabel('True Values')\n",
    "plt.ylabel('Predictions')\n",
    "plt.grid(True)\n",
    "plt.show()"
   ]
  },
  {
   "cell_type": "markdown",
   "metadata": {},
   "source": [
    "# Partial Least Square Regression"
   ]
  },
  {
   "cell_type": "markdown",
   "metadata": {},
   "source": [
    "## No preprocessing"
   ]
  },
  {
   "cell_type": "code",
   "execution_count": 96,
   "metadata": {},
   "outputs": [
    {
     "name": "stdout",
     "output_type": "stream",
     "text": [
      "(27, 3648) (27, 1)\n",
      "(7, 3648) (7, 1)\n"
     ]
    },
    {
     "data": {
      "text/html": [
       "<div>\n",
       "<style scoped>\n",
       "    .dataframe tbody tr th:only-of-type {\n",
       "        vertical-align: middle;\n",
       "    }\n",
       "\n",
       "    .dataframe tbody tr th {\n",
       "        vertical-align: top;\n",
       "    }\n",
       "\n",
       "    .dataframe thead th {\n",
       "        text-align: right;\n",
       "    }\n",
       "</style>\n",
       "<table border=\"1\" class=\"dataframe\">\n",
       "  <thead>\n",
       "    <tr style=\"text-align: right;\">\n",
       "      <th></th>\n",
       "      <th>0</th>\n",
       "    </tr>\n",
       "  </thead>\n",
       "  <tbody>\n",
       "    <tr>\n",
       "      <th>20</th>\n",
       "      <td>6.8</td>\n",
       "    </tr>\n",
       "    <tr>\n",
       "      <th>25</th>\n",
       "      <td>18.4</td>\n",
       "    </tr>\n",
       "    <tr>\n",
       "      <th>6</th>\n",
       "      <td>14.3</td>\n",
       "    </tr>\n",
       "    <tr>\n",
       "      <th>1</th>\n",
       "      <td>18</td>\n",
       "    </tr>\n",
       "    <tr>\n",
       "      <th>23</th>\n",
       "      <td>11.8</td>\n",
       "    </tr>\n",
       "    <tr>\n",
       "      <th>9</th>\n",
       "      <td>19.3</td>\n",
       "    </tr>\n",
       "    <tr>\n",
       "      <th>21</th>\n",
       "      <td>6.1</td>\n",
       "    </tr>\n",
       "  </tbody>\n",
       "</table>\n",
       "</div>"
      ],
      "text/plain": [
       "       0\n",
       "20   6.8\n",
       "25  18.4\n",
       "6   14.3\n",
       "1     18\n",
       "23  11.8\n",
       "9   19.3\n",
       "21   6.1"
      ]
     },
     "execution_count": 96,
     "metadata": {},
     "output_type": "execute_result"
    }
   ],
   "source": [
    "X_train, X_test, y_train, y_test = train_test_split(x_df, y_df, test_size=0.2)\n",
    "print (X_train.shape, y_train.shape)\n",
    "print (X_test.shape, y_test.shape)\n",
    "#print(X_test)\n",
    "y_test"
   ]
  },
  {
   "cell_type": "code",
   "execution_count": 112,
   "metadata": {},
   "outputs": [
    {
     "name": "stdout",
     "output_type": "stream",
     "text": [
      "100% completed\n",
      "Suggested number of components:  6\n",
      "\n"
     ]
    },
    {
     "data": {
      "image/png": "[encoded data removed]",
      "text/plain": [
       "<Figure size 432x288 with 1 Axes>"
      ]
     },
     "metadata": {},
     "output_type": "display_data"
    },
    {
     "name": "stdout",
     "output_type": "stream",
     "text": [
      "R2 calib: 0.821\n",
      "R2 CV: 0.428\n",
      "MSE calib: 4.920\n",
      "MSE CV: 15.760\n"
     ]
    }
   ],
   "source": [
    "optimise_pls_cv(x_df, y_df, 40, plot_components=True)\n",
    "#optimise_pls_cv(x_df, y_all, 40, plot_components=True)"
   ]
  },
  {
   "cell_type": "code",
   "execution_count": 113,
   "metadata": {},
   "outputs": [
    {
     "name": "stdout",
     "output_type": "stream",
     "text": [
      "R^2_cv 0.4279040179335776\n",
      "MSE:  15.759608586518235\n"
     ]
    }
   ],
   "source": [
    "# Define PLS object\n",
    "pls = PLSRegression(n_components=6)\n",
    "# Fit\n",
    "pls.fit(x_df, y_df)\n",
    "# Cross-validation\n",
    "y_cv = cross_val_predict(pls, x_df, y_df, cv=10)\n",
    "# Calculate scores\n",
    "score = r2_score(y_df, y_cv)\n",
    "mse = mean_squared_error(y_df, y_cv)\n",
    "\n",
    "print(\"R^2_cv\", score)\n",
    "print(\"MSE: \", mse)"
   ]
  },
  {
   "cell_type": "code",
   "execution_count": 115,
   "metadata": {},
   "outputs": [
    {
     "name": "stdout",
     "output_type": "stream",
     "text": [
      "50% completed\n",
      "Suggested number of components:  1\n",
      "\n"
     ]
    },
    {
     "data": {
      "image/png": "[encoded data removed]",
      "text/plain": [
       "<Figure size 432x288 with 1 Axes>"
      ]
     },
     "metadata": {},
     "output_type": "display_data"
    },
    {
     "name": "stdout",
     "output_type": "stream",
     "text": [
      "R2 calib: 0.888\n",
      "R2 CV: 0.058\n",
      "MSE calib: 3.521\n",
      "MSE CV: 29.680\n"
     ]
    }
   ],
   "source": [
    "optimise_pls_cv(X_train,y_train, 20, plot_components=True)"
   ]
  },
  {
   "cell_type": "code",
   "execution_count": 119,
   "metadata": {},
   "outputs": [
    {
     "name": "stdout",
     "output_type": "stream",
     "text": [
      "R2_pred:  -12.496082853614809\n",
      "R2_cv:  -16.632557412029144\n",
      "\n",
      "TEST\n",
      " [real, predictions]\n",
      "[[17.1 17.55731957139279]\n",
      " [14.9 36.18284643565124]\n",
      " [18.4 17.475499405799876]\n",
      " [10.6 6.950979639221165]\n",
      " [14.0 24.633079936374923]\n",
      " [6.1 33.97153997090671]\n",
      " [14.3 19.883548127069993]]\n",
      "\n"
     ]
    },
    {
     "data": {
      "image/png": "[encoded data removed]",
      "text/plain": [
       "<Figure size 432x288 with 1 Axes>"
      ]
     },
     "metadata": {
      "needs_background": "light"
     },
     "output_type": "display_data"
    }
   ],
   "source": [
    "# Define PLS object\n",
    "pls = PLSRegression(n_components=6)\n",
    "# Fit\n",
    "pls.fit(X_train, y_train)\n",
    "# Cross-validation\n",
    "y_pred = pls.predict(X_test)\n",
    "y_pred1 = pls.predict(X_train)\n",
    "\n",
    "# Cross-validation\n",
    "y_cv = cross_val_predict(pls, X_train, y_train, cv=10)\n",
    "\n",
    "# Calculate scores for calibration and cross-validation\n",
    "score_pred = r2_score(y_test, y_pred)\n",
    "score_cv = r2_score(y_train, y_cv)\n",
    "\n",
    "print(\"R2_pred: \", score_pred)\n",
    "print(\"R2_cv: \",score_cv)\n",
    "print(\"\")\n",
    "\n",
    "b=np.append(y_test, y_pred, axis=1)\n",
    "\n",
    "print(\"TEST\\n [real, predictions]\")\n",
    "print(b)\n",
    "print(\"\")\n",
    "\n",
    "c=np.append(y_train, y_pred1, axis=1)\n",
    "\n",
    "#print(\"TRAIN\\n [real, predictions]\")\n",
    "#print(c)\n",
    "\n",
    "plt.scatter(y_test, y_pred)\n",
    "plt.scatter(y_train, y_pred1)\n",
    "plt.xlabel('True Values')\n",
    "plt.ylabel('Predictions')\n",
    "plt.grid(True)\n",
    "plt.show()"
   ]
  },
  {
   "cell_type": "code",
   "execution_count": 42,
   "metadata": {},
   "outputs": [
    {
     "name": "stdout",
     "output_type": "stream",
     "text": [
      "(3648, 1)\n"
     ]
    }
   ],
   "source": [
    "print(wl.shape)"
   ]
  },
  {
   "cell_type": "markdown",
   "metadata": {},
   "source": [
    "## Wavelenght selection for PLS"
   ]
  },
  {
   "cell_type": "code",
   "execution_count": 121,
   "metadata": {
    "scrolled": true
   },
   "outputs": [
    {
     "name": "stdout",
     "output_type": "stream",
     "text": [
      "100% completed\n",
      "Optimised number of PLS components:  7\n",
      "Wavelengths to be discarded  3600\n",
      "Optimised MSEP  3.586002585737057\n",
      "\n",
      "--- 1539.1489548683167 seconds ---\n"
     ]
    }
   ],
   "source": [
    "start_time = time.time()\n",
    "\n",
    "opt_Xc, ncomp, wav, sorted_ind = pls_variable_selection(x_df.values, y_val, 15)\n",
    "\n",
    "print(\"--- %s seconds ---\" % (time.time() - start_time))"
   ]
  },
  {
   "cell_type": "code",
   "execution_count": 122,
   "metadata": {},
   "outputs": [
    {
     "name": "stdout",
     "output_type": "stream",
     "text": [
      "sorted wavelengths:  [[273.04 312.28 235.39 304.01 323.55 245.14 333.51 331.51 336.07 245.06]]\n"
     ]
    },
    {
     "data": {
      "image/png": "[encoded data removed]",
      "text/plain": [
       "<Figure size 432x288 with 1 Axes>"
      ]
     },
     "metadata": {
      "needs_background": "light"
     },
     "output_type": "display_data"
    }
   ],
   "source": [
    "#print(opt_Xc.shape,\"\\n\")\n",
    "#print(\"sorted indexes: \", sorted_ind)\n",
    "print(\"sorted wavelengths: \", wl[sorted_ind[:10]].T)\n",
    "\n",
    "plt.plot(opt_Xc.T)\n",
    "plt.show()"
   ]
  },
  {
   "cell_type": "code",
   "execution_count": 142,
   "metadata": {},
   "outputs": [
    {
     "name": "stdout",
     "output_type": "stream",
     "text": [
      "(27, 48) (27, 1)\n",
      "(7, 48) (7, 1)\n",
      "       0\n",
      "4   14.8\n",
      "31  5.99\n",
      "18  32.5\n",
      "22  24.3\n",
      "17  34.5\n",
      "20  27.8\n",
      "15    29\n"
     ]
    }
   ],
   "source": [
    "#X_train, X_test, y_train, y_test = train_test_split(opt_Xc, y_df, test_size=0.2, random_state = 16) #seed for Mg = 3, 16\n",
    "#X_train, X_test, y_train, y_test = train_test_split(opt_Xc, y_df, test_size=0.2, random_state = 7) #seed for Si = 7\n",
    "#X_train, X_test, y_train, y_test = train_test_split(opt_Xc, y_df, test_size=0.2, random_state = 16) #seed for Cu =16\n",
    "#X_train, X_test, y_train, y_test = train_test_split(opt_Xc, y_df, test_size=0.2, random_state = 7) #seed for Fe =7\n",
    "X_train, X_test, y_train, y_test = train_test_split(opt_Xc, y_df, test_size=0.2, random_state = 3) #seed for Mn = 3\n",
    "\n",
    "#X_train, X_test, y_train, y_test = train_test_split(opt_Xc, y_df, test_size=0.2)\n",
    "print (X_train.shape, y_train.shape)\n",
    "print (X_test.shape, y_test.shape)\n",
    "print(y_test)"
   ]
  },
  {
   "cell_type": "code",
   "execution_count": 143,
   "metadata": {},
   "outputs": [
    {
     "name": "stdout",
     "output_type": "stream",
     "text": [
      "75% completed\n",
      "Suggested number of components:  7\n",
      "\n"
     ]
    },
    {
     "data": {
      "image/png": "[encoded data removed]",
      "text/plain": [
       "<Figure size 432x288 with 1 Axes>"
      ]
     },
     "metadata": {},
     "output_type": "display_data"
    },
    {
     "name": "stdout",
     "output_type": "stream",
     "text": [
      "R2 calib: 0.979\n",
      "R2 CV: 0.948\n",
      "MSE calib: 1.718\n",
      "MSE CV: 4.148\n"
     ]
    }
   ],
   "source": [
    "optimise_pls_cv(X_train,y_train, 30, plot_components=True)"
   ]
  },
  {
   "cell_type": "code",
   "execution_count": 144,
   "metadata": {},
   "outputs": [
    {
     "name": "stdout",
     "output_type": "stream",
     "text": [
      "R2_pred:  0.9565529422614767\n",
      "RMSE:  1.9788699821769458\n",
      "\n"
     ]
    },
    {
     "data": {
      "image/png": "[encoded data removed]",
      "text/plain": [
       "<Figure size 720x504 with 1 Axes>"
      ]
     },
     "metadata": {
      "needs_background": "light"
     },
     "output_type": "display_data"
    }
   ],
   "source": [
    "# Define PLS object\n",
    "pls = PLSRegression(n_components=7)\n",
    "# Fit\n",
    "pls.fit(X_train, y_train)\n",
    "\n",
    "y_pred = pls.predict(X_test)\n",
    "y_pred1 = pls.predict(X_train)\n",
    "\n",
    "# Calculate score and error\n",
    "r2 = r2_score(y_test, y_pred)\n",
    "rmse = sqrt(mean_squared_error(y_test, y_pred))\n",
    "\n",
    "\n",
    "print(\"R2_pred: \", r2)\n",
    "print(\"RMSE: \", rmse)\n",
    "#print(\"R2_cv: \",score_cv)\n",
    "print(\"\")\n",
    "\n",
    "\n",
    "c=np.append(y_train, y_pred1, axis=1)\n",
    "\n",
    "#print(\"TRAIN\\n [real, predictions]\")\n",
    "#print(c)\n",
    "\n",
    "plt.figure(figsize=(10,7))\n",
    "plt.scatter(y_test, y_pred)\n",
    "plt.scatter(y_train, y_pred1)\n",
    "plt.plot( y_test, linear_model.LinearRegression().fit(y_test, y_pred).predict(y_test) )\n",
    "plt.xlabel('True Values')\n",
    "plt.ylabel('Predictions')\n",
    "plt.grid(True)\n",
    "plt.show()"
   ]
  },
  {
   "cell_type": "markdown",
   "metadata": {},
   "source": [
    "## Using Normalization"
   ]
  },
  {
   "cell_type": "code",
   "execution_count": 145,
   "metadata": {},
   "outputs": [
    {
     "name": "stdout",
     "output_type": "stream",
     "text": [
      "(27, 48)\n",
      "(7, 48)\n"
     ]
    }
   ],
   "source": [
    "Xn_train = normalize(X_train, axis=1)\n",
    "Xn_test = normalize(X_test, axis=1)\n",
    "print(Xn_train.shape)\n",
    "print(Xn_test.shape)"
   ]
  },
  {
   "cell_type": "code",
   "execution_count": 146,
   "metadata": {},
   "outputs": [
    {
     "data": {
      "image/png": "[encoded data removed]",
      "text/plain": [
       "<Figure size 432x288 with 1 Axes>"
      ]
     },
     "metadata": {
      "needs_background": "light"
     },
     "output_type": "display_data"
    }
   ],
   "source": [
    "plt.plot(Xn_train.T)\n",
    "plt.show()"
   ]
  },
  {
   "cell_type": "code",
   "execution_count": 147,
   "metadata": {},
   "outputs": [],
   "source": [
    "#optimise_pls_cv(Xn_train,y_train, 40, plot_components=True)\n",
    "#optimise_pls_cv(Xn_train,y_train, 7, plot_components=True)"
   ]
  },
  {
   "cell_type": "code",
   "execution_count": 148,
   "metadata": {},
   "outputs": [
    {
     "name": "stdout",
     "output_type": "stream",
     "text": [
      "R2_pred:  0.9811864579728238\n",
      "RMSE:  1.302184012676967\n",
      "\n",
      "TEST\n",
      " [real, predictions]\n",
      "[[14.8 14.189538758813868]\n",
      " [5.99 7.080155539483663]\n",
      " [32.5 29.665975642811283]\n",
      " [24.3 25.738612567808417]\n",
      " [34.5 34.575832262461475]\n",
      " [27.8 27.359400345985453]\n",
      " [29.0 29.086611940862507]]\n",
      "\n"
     ]
    },
    {
     "data": {
      "image/png": "[encoded data removed]",
      "text/plain": [
       "<Figure size 720x504 with 1 Axes>"
      ]
     },
     "metadata": {
      "needs_background": "light"
     },
     "output_type": "display_data"
    }
   ],
   "source": [
    "# Define PLS object\n",
    "pls = PLSRegression(n_components=7)\n",
    "# Fit\n",
    "pls.fit(Xn_train, y_train)\n",
    "\n",
    "y_pred = pls.predict(Xn_test)\n",
    "y_pred1 = pls.predict(Xn_train)\n",
    "\n",
    "# Calculate score and error\n",
    "r2 = r2_score(y_test, y_pred)\n",
    "rmse = sqrt(mean_squared_error(y_test, y_pred))\n",
    "\n",
    "\n",
    "print(\"R2_pred: \", r2)\n",
    "print(\"RMSE: \", rmse)\n",
    "#print(\"R2_cv: \",score_cv)\n",
    "print(\"\")\n",
    "\n",
    "\n",
    "b=np.append(y_test, y_pred, axis=1)\n",
    "\n",
    "print(\"TEST\\n [real, predictions]\")\n",
    "print(b)\n",
    "print(\"\")\n",
    "\n",
    "c=np.append(y_train, y_pred1, axis=1)\n",
    "\n",
    "#print(\"TRAIN\\n [real, predictions]\")\n",
    "#print(c)\n",
    "\n",
    "plt.figure(figsize=(10,7))\n",
    "plt.scatter(y_test, y_pred)\n",
    "plt.scatter(y_train, y_pred1)\n",
    "plt.plot( y_test, linear_model.LinearRegression().fit(y_test, y_pred).predict(y_test) )\n",
    "plt.xlabel('True Values')\n",
    "plt.ylabel('Predictions')\n",
    "plt.grid(True)\n",
    "plt.show()"
   ]
  },
  {
   "cell_type": "markdown",
   "metadata": {},
   "source": [
    "## Using SNV"
   ]
  },
  {
   "cell_type": "code",
   "execution_count": 149,
   "metadata": {},
   "outputs": [
    {
     "name": "stdout",
     "output_type": "stream",
     "text": [
      "(27, 48)\n",
      "(7, 48)\n"
     ]
    }
   ],
   "source": [
    "Xs_train = snv(X_train)\n",
    "Xs_test = snv(X_test)\n",
    "print(Xs_train.shape)\n",
    "print(Xs_test.shape)\n",
    "\n",
    "#optimise_pls_cv(Xn_train,y_train, 40, plot_components=True)\n",
    "#optimise_pls_cv(Xs_train,y_train, 7, plot_components=True)"
   ]
  },
  {
   "cell_type": "code",
   "execution_count": 150,
   "metadata": {},
   "outputs": [
    {
     "data": {
      "image/png": "[encoded data removed]",
      "text/plain": [
       "<Figure size 432x288 with 1 Axes>"
      ]
     },
     "metadata": {
      "needs_background": "light"
     },
     "output_type": "display_data"
    }
   ],
   "source": [
    "plt.plot(Xs_train.T)\n",
    "plt.show()"
   ]
  },
  {
   "cell_type": "code",
   "execution_count": 151,
   "metadata": {},
   "outputs": [
    {
     "name": "stdout",
     "output_type": "stream",
     "text": [
      "R2_pred:  0.9578198999496087\n",
      "RMSE:  1.9498036448100278\n",
      "\n",
      "TEST\n",
      " [real, predictions]\n",
      "[[14.8 15.372806627267126]\n",
      " [5.99 6.523011504876521]\n",
      " [32.5 31.46543382421063]\n",
      " [24.3 28.29832148994769]\n",
      " [34.5 32.80817362181932]\n",
      " [27.8 29.848477356912323]\n",
      " [29.0 30.372768440733548]]\n",
      "\n"
     ]
    },
    {
     "data": {
      "image/png": "[encoded data removed]",
      "text/plain": [
       "<Figure size 720x504 with 1 Axes>"
      ]
     },
     "metadata": {
      "needs_background": "light"
     },
     "output_type": "display_data"
    }
   ],
   "source": [
    "# Define PLS object\n",
    "pls = PLSRegression(n_components=7)\n",
    "# Fit\n",
    "pls.fit(Xs_train, y_train)\n",
    "\n",
    "y_pred = pls.predict(Xs_test)\n",
    "y_pred1 = pls.predict(Xs_train)\n",
    "\n",
    "# Calculate score and error\n",
    "r2 = r2_score(y_test, y_pred)\n",
    "rmse = sqrt(mean_squared_error(y_test, y_pred))\n",
    "\n",
    "\n",
    "print(\"R2_pred: \", r2)\n",
    "print(\"RMSE: \", rmse)\n",
    "#print(\"R2_cv: \",score_cv)\n",
    "print(\"\")\n",
    "\n",
    "\n",
    "b=np.append(y_test, y_pred, axis=1)\n",
    "\n",
    "print(\"TEST\\n [real, predictions]\")\n",
    "print(b)\n",
    "print(\"\")\n",
    "\n",
    "c=np.append(y_train, y_pred1, axis=1)\n",
    "\n",
    "#print(\"TRAIN\\n [real, predictions]\")\n",
    "#print(c)\n",
    "\n",
    "plt.figure(figsize=(10,7))\n",
    "plt.scatter(y_test, y_pred)\n",
    "plt.scatter(y_train, y_pred1)\n",
    "plt.plot( y_test, linear_model.LinearRegression().fit(y_test, y_pred).predict(y_test) )\n",
    "plt.xlabel('True Values')\n",
    "plt.ylabel('Predictions')\n",
    "plt.grid(True)\n",
    "plt.show()"
   ]
  },
  {
   "cell_type": "code",
   "execution_count": null,
   "metadata": {},
   "outputs": [],
   "source": []
  },
  {
   "cell_type": "markdown",
   "metadata": {},
   "source": [
    "## Using Max-norm"
   ]
  },
  {
   "cell_type": "code",
   "execution_count": 152,
   "metadata": {},
   "outputs": [],
   "source": [
    "Xm_train = X_train / np.max(X_train)\n",
    "Xm_test = X_test / np.max(X_test)\n",
    "\n",
    "#optimise_pls_cv(Xn_train,y_train, 40, plot_components=True)\n",
    "#optimise_pls_cv(Xm_train,y_train, 15, plot_components=True)"
   ]
  },
  {
   "cell_type": "code",
   "execution_count": 153,
   "metadata": {},
   "outputs": [
    {
     "data": {
      "image/png": "[encoded data removed]",
      "text/plain": [
       "<Figure size 432x288 with 1 Axes>"
      ]
     },
     "metadata": {
      "needs_background": "light"
     },
     "output_type": "display_data"
    }
   ],
   "source": [
    "plt.plot(Xm_train.T)\n",
    "plt.show()"
   ]
  },
  {
   "cell_type": "code",
   "execution_count": 155,
   "metadata": {},
   "outputs": [
    {
     "name": "stdout",
     "output_type": "stream",
     "text": [
      "R2_pred:  0.9577255379409734\n",
      "RMSE:  1.9519834002225744\n",
      "\n",
      "TEST\n",
      " [real, predictions]\n",
      "[[14.8 14.62413266949011]\n",
      " [5.99 4.330170218648428]\n",
      " [32.5 30.929239981607466]\n",
      " [24.3 27.166833454359143]\n",
      " [34.5 31.928260061534417]\n",
      " [27.8 27.594124045052872]\n",
      " [29.0 31.558018340800444]]\n",
      "\n"
     ]
    },
    {
     "data": {
      "image/png": "[encoded data removed]",
      "text/plain": [
       "<Figure size 720x504 with 1 Axes>"
      ]
     },
     "metadata": {
      "needs_background": "light"
     },
     "output_type": "display_data"
    }
   ],
   "source": [
    "# Define PLS object\n",
    "pls = PLSRegression(n_components=7)\n",
    "# Fit\n",
    "pls.fit(Xm_train, y_train)\n",
    "\n",
    "y_pred = pls.predict(Xm_test)\n",
    "y_pred1 = pls.predict(Xm_train)\n",
    "\n",
    "# Calculate score and error\n",
    "r2 = r2_score(y_test, y_pred)\n",
    "rmse = sqrt(mean_squared_error(y_test, y_pred))\n",
    "\n",
    "\n",
    "print(\"R2_pred: \", r2)\n",
    "print(\"RMSE: \", rmse)\n",
    "#print(\"R2_cv: \",score_cv)\n",
    "print(\"\")\n",
    "\n",
    "b=np.append(y_test, y_pred, axis=1)\n",
    "\n",
    "print(\"TEST\\n [real, predictions]\")\n",
    "print(b)\n",
    "print(\"\")\n",
    "\n",
    "c=np.append(y_train, y_pred1, axis=1)\n",
    "\n",
    "#print(\"TRAIN\\n [real, predictions]\")\n",
    "#print(c)\n",
    "\n",
    "plt.figure(figsize=(10,7))\n",
    "plt.scatter(y_test, y_pred)\n",
    "plt.scatter(y_train, y_pred1)\n",
    "plt.plot( y_test, linear_model.LinearRegression().fit(y_test, y_pred).predict(y_test) )\n",
    "plt.xlabel('True Values')\n",
    "plt.ylabel('Predictions')\n",
    "plt.grid(True)\n",
    "plt.show()"
   ]
  },
  {
   "cell_type": "code",
   "execution_count": null,
   "metadata": {},
   "outputs": [],
   "source": []
  },
  {
   "cell_type": "code",
   "execution_count": null,
   "metadata": {},
   "outputs": [],
   "source": []
  },
  {
   "cell_type": "code",
   "execution_count": null,
   "metadata": {},
   "outputs": [],
   "source": []
  },
  {
   "cell_type": "markdown",
   "metadata": {},
   "source": [
    "## Using Savgol filter"
   ]
  },
  {
   "cell_type": "code",
   "execution_count": 33,
   "metadata": {},
   "outputs": [
    {
     "name": "stdout",
     "output_type": "stream",
     "text": [
      "(27, 3648) (27, 1)\n",
      "(7, 3648) (7, 1)\n"
     ]
    }
   ],
   "source": [
    "X_train, X_test, y_train, y_test = train_test_split(x_df, y_df, test_size=0.2)\n",
    "print (X_train.shape, y_train.shape)\n",
    "print (X_test.shape, y_test.shape)\n",
    "#print(X_test)"
   ]
  },
  {
   "cell_type": "code",
   "execution_count": 34,
   "metadata": {},
   "outputs": [
    {
     "data": {
      "image/png": "[encoded data removed]",
      "text/plain": [
       "<Figure size 576x324 with 1 Axes>"
      ]
     },
     "metadata": {
      "needs_background": "light"
     },
     "output_type": "display_data"
    },
    {
     "name": "stdout",
     "output_type": "stream",
     "text": [
      "100% completed\n",
      "Suggested number of components:  6\n",
      "\n"
     ]
    },
    {
     "data": {
      "image/png": "[encoded data removed]",
      "text/plain": [
       "<Figure size 432x288 with 1 Axes>"
      ]
     },
     "metadata": {},
     "output_type": "display_data"
    },
    {
     "name": "stdout",
     "output_type": "stream",
     "text": [
      "R2 calib: 0.834\n",
      "R2 CV: 0.609\n",
      "MSE calib: 4.571\n",
      "MSE CV: 10.778\n"
     ]
    }
   ],
   "source": [
    "# Calculate second derivative\n",
    "X2 = savgol_filter(x_df, 101, polyorder = 6,deriv=0) # Is this useful with LIBS spectra???\n",
    "# Plot second derivative\n",
    "plt.figure(figsize=(8,4.5))\n",
    "with plt.style.context(('ggplot')):\n",
    "    plt.plot(range(len(X2.T)), X2.T)\n",
    "    plt.xlabel('Wavelength (nm)')\n",
    "    plt.ylabel('D2 Intensity')\n",
    "    plt.show()\n",
    "    \n",
    "    \n",
    "X2_1 = msc(X2)[0]\n",
    "    \n",
    "optimise_pls_cv(X2_1, y_df, 40, plot_components=True)"
   ]
  },
  {
   "cell_type": "code",
   "execution_count": 35,
   "metadata": {},
   "outputs": [
    {
     "name": "stdout",
     "output_type": "stream",
     "text": [
      "100% completed\n",
      "Suggested number of components:  5\n",
      "\n"
     ]
    },
    {
     "data": {
      "image/png": "[encoded data removed]",
      "text/plain": [
       "<Figure size 432x288 with 1 Axes>"
      ]
     },
     "metadata": {},
     "output_type": "display_data"
    },
    {
     "name": "stdout",
     "output_type": "stream",
     "text": [
      "R2 calib: 0.852\n",
      "R2 CV: 0.581\n",
      "MSE calib: 3.787\n",
      "MSE CV: 10.752\n"
     ]
    }
   ],
   "source": [
    "X2_train = savgol_filter(X_train, 37, polyorder = 4,deriv=1) \n",
    "X2_test = savgol_filter(X_test, 35, polyorder = 4,deriv=1) \n",
    "\n",
    "\n",
    "\n",
    "\n",
    "optimise_pls_cv(X2_train, y_train, 40, plot_components=True)"
   ]
  },
  {
   "cell_type": "code",
   "execution_count": 37,
   "metadata": {},
   "outputs": [
    {
     "name": "stdout",
     "output_type": "stream",
     "text": [
      "R2_pred:  0.1649860006265983\n",
      "R2_cv:  0.4927830298446778\n",
      "\n",
      "[real, predictions]\n",
      "[[15.9 10.770687549143025]\n",
      " [13.0 14.465004698889048]\n",
      " [7.2 -1.138163658934202]\n",
      " [9.1 3.8163457681246644]\n",
      " [25.0 19.962244678550732]\n",
      " [7.9 3.550324681147721]\n",
      " [17.4 11.62702744131783]]\n"
     ]
    },
    {
     "data": {
      "image/png": "[encoded data removed]",
      "text/plain": [
       "<Figure size 432x288 with 1 Axes>"
      ]
     },
     "metadata": {
      "needs_background": "light"
     },
     "output_type": "display_data"
    }
   ],
   "source": [
    "# Define PLS object\n",
    "pls = PLSRegression(n_components=6)\n",
    "# Fit\n",
    "pls.fit(X2_train, y_train)\n",
    "\n",
    "y_pred = pls.predict(X2_test)\n",
    "\n",
    "# Cross-validation\n",
    "y_cv = cross_val_predict(pls, X2_train, y_train, cv=10)\n",
    "\n",
    "# Calculate scores for calibration and cross-validation\n",
    "score_pred = r2_score(y_test, y_pred)\n",
    "score_cv = r2_score(y_train, y_cv)\n",
    "\n",
    "print(\"R2_pred: \", score_pred)\n",
    "print(\"R2_cv: \",score_cv)\n",
    "print(\"\")\n",
    "\n",
    "b=np.append(y_test, y_pred, axis=1)\n",
    "\n",
    "print(\"[real, predictions]\")\n",
    "print(b)\n",
    "\n",
    "plt.scatter(y_test, y_pred)\n",
    "plt.xlabel('True Values')\n",
    "plt.ylabel('Predictions')\n",
    "plt.grid(True)\n",
    "plt.show()"
   ]
  },
  {
   "cell_type": "code",
   "execution_count": null,
   "metadata": {},
   "outputs": [],
   "source": []
  },
  {
   "cell_type": "markdown",
   "metadata": {},
   "source": [
    "# Elastic Net"
   ]
  },
  {
   "cell_type": "code",
   "execution_count": 56,
   "metadata": {},
   "outputs": [],
   "source": [
    "alphas = [0.0001, 0.001, 0.01, 0.1, 0.3, 0.5, 0.7, 1]"
   ]
  },
  {
   "cell_type": "code",
   "execution_count": 57,
   "metadata": {},
   "outputs": [
    {
     "name": "stdout",
     "output_type": "stream",
     "text": [
      "Alpha:0.0001, R2:0.82, MSE:3.91, RMSE:1.98\n",
      "Alpha:0.0010, R2:0.71, MSE:1.89, RMSE:1.38\n",
      "Alpha:0.0100, R2:0.58, MSE:2.54, RMSE:1.59\n",
      "Alpha:0.1000, R2:0.38, MSE:6.61, RMSE:2.57\n",
      "Alpha:0.3000, R2:0.15, MSE:13.84, RMSE:3.72\n",
      "Alpha:0.5000, R2:0.01, MSE:18.26, RMSE:4.27\n",
      "Alpha:0.7000, R2:0.00, MSE:18.68, RMSE:4.32\n",
      "Alpha:1.0000, R2:0.00, MSE:18.68, RMSE:4.32\n"
     ]
    }
   ],
   "source": [
    "for a in alphas:\n",
    "    model = ElasticNet(alpha=a).fit(X_train,y_train)   \n",
    "    score = model.score(X_train, y_train)\n",
    "    pred_y = model.predict(X_test)\n",
    "    mse = mean_squared_error(y_test, pred_y)   \n",
    "    print(\"Alpha:{0:.4f}, R2:{1:.2f}, MSE:{2:.2f}, RMSE:{3:.2f}\".format(a, score, mse, np.sqrt(mse)))"
   ]
  },
  {
   "cell_type": "code",
   "execution_count": 64,
   "metadata": {
    "scrolled": true
   },
   "outputs": [
    {
     "name": "stdout",
     "output_type": "stream",
     "text": [
      "Train score:  0.7114321578157426\n",
      "RMSE:  1.3750068392311252\n",
      "R^2_pred:  0.8345272986305754\n"
     ]
    }
   ],
   "source": [
    "model = ElasticNet(alpha=0.001).fit(X_train,y_train)   \n",
    "score = model.score(X_train, y_train)\n",
    "print(\"Train score: \", score)\n",
    "pred_y = model.predict(X_test)\n",
    "\n",
    "\n",
    "rmse = sqrt(mean_squared_error(y_test, pred_y))\n",
    "r2 = r2_score(y_test, pred_y)\n",
    "print(\"RMSE: \", rmse)\n",
    "print(\"R^2_pred: \", r2)"
   ]
  },
  {
   "cell_type": "code",
   "execution_count": 65,
   "metadata": {},
   "outputs": [
    {
     "data": {
      "image/png": "[encoded data removed]",
      "text/plain": [
       "<Figure size 432x288 with 1 Axes>"
      ]
     },
     "metadata": {
      "needs_background": "light"
     },
     "output_type": "display_data"
    }
   ],
   "source": [
    "plt.scatter(y_test, y_pred)\n",
    "plt.xlabel('True Values')\n",
    "plt.ylabel('Predictions')\n",
    "plt.grid(True)\n",
    "plt.show()"
   ]
  },
  {
   "cell_type": "code",
   "execution_count": null,
   "metadata": {},
   "outputs": [],
   "source": []
  },
  {
   "cell_type": "markdown",
   "metadata": {},
   "source": [
    "# Random Forest"
   ]
  },
  {
   "cell_type": "code",
   "execution_count": 86,
   "metadata": {},
   "outputs": [
    {
     "name": "stdout",
     "output_type": "stream",
     "text": [
      "(28, 3648) (28, 1)\n",
      "(6, 3648) (6, 1)\n",
      "       0\n",
      "19   7.7\n",
      "21   6.1\n",
      "31    14\n",
      "11  17.4\n",
      "5   15.9\n",
      "27  14.9\n"
     ]
    }
   ],
   "source": [
    "#X_train, X_test, y_train, y_test = train_test_split(x_df, y_df, test_size=0.15)\n",
    "#X_train, X_test, y_train, y_test = train_test_split(principalComponents, y_df, test_size=0.15)\n",
    "\n",
    "\n",
    "print (X_train.shape, y_train.shape)\n",
    "print (X_test.shape, y_test.shape)\n",
    "print(y_test)"
   ]
  },
  {
   "cell_type": "code",
   "execution_count": 84,
   "metadata": {},
   "outputs": [
    {
     "name": "stdout",
     "output_type": "stream",
     "text": [
      "(6,)\n",
      "(28,)\n"
     ]
    }
   ],
   "source": [
    "y_test=np.ravel(y_test)\n",
    "print(y_test.shape)\n",
    "y_train=np.ravel(y_train)\n",
    "print(y_train.shape)"
   ]
  },
  {
   "cell_type": "code",
   "execution_count": 85,
   "metadata": {},
   "outputs": [
    {
     "name": "stdout",
     "output_type": "stream",
     "text": [
      "RMSE:  3.4253221483409475\n",
      "R^2:  0.4227862338513424 \n",
      "\n",
      "[real, predictions]\n",
      "[[19.9 19.79389600000039]\n",
      " [15.5 14.460439999999815]\n",
      " [7.9 9.055768000000073]\n",
      " [14.0 14.928896000000439]\n",
      " [7.2 15.140856000000044]\n",
      " [15.9 13.887735999999931]]\n"
     ]
    },
    {
     "data": {
      "text/plain": [
       "Text(0, 0.5, 'Predictions')"
      ]
     },
     "execution_count": 85,
     "metadata": {},
     "output_type": "execute_result"
    },
    {
     "data": {
      "image/png": "[encoded data removed]",
      "text/plain": [
       "<Figure size 432x288 with 1 Axes>"
      ]
     },
     "metadata": {
      "needs_background": "light"
     },
     "output_type": "display_data"
    }
   ],
   "source": [
    "# Import the model we are using\n",
    "from sklearn.ensemble import RandomForestRegressor\n",
    "# Instantiate model with 1000 decision trees\n",
    "rf = RandomForestRegressor(n_estimators = 2500, max_depth=30, random_state = 42)\n",
    "# Train the model on training data\n",
    "\n",
    "rf.fit(X_train, y_train);\n",
    "\n",
    "# Use the forest's predict method on the test data\n",
    "predictions = rf.predict(X_test)\n",
    "\n",
    "rmse = sqrt(mean_squared_error(y_test, predictions))\n",
    "r2 = r2_score(y_test, predictions)\n",
    "print(\"RMSE: \", rmse)\n",
    "print(\"R^2: \", r2, \"\\n\")\n",
    "\n",
    "y_test= y_test.reshape((len(y_test), 1))\n",
    "predictions=predictions.reshape((len(y_test), 1))\n",
    "#print((y_test, predictions))\n",
    "\n",
    "b=np.append(y_test, predictions, axis=1)\n",
    "\n",
    "print(\"[real, predictions]\")\n",
    "print(b)\n",
    "\n",
    "plt.scatter(y_test, predictions)\n",
    "plt.xlabel('True Values')\n",
    "plt.ylabel('Predictions')"
   ]
  },
  {
   "cell_type": "code",
   "execution_count": null,
   "metadata": {},
   "outputs": [],
   "source": []
  },
  {
   "cell_type": "code",
   "execution_count": null,
   "metadata": {},
   "outputs": [],
   "source": []
  },
  {
   "cell_type": "markdown",
   "metadata": {},
   "source": [
    "# MultiOutput Random Forest"
   ]
  },
  {
   "cell_type": "code",
   "execution_count": 132,
   "metadata": {},
   "outputs": [
    {
     "name": "stdout",
     "output_type": "stream",
     "text": [
      "(24, 6)\n",
      "<class 'numpy.ndarray'>\n",
      "<class 'pandas.core.frame.DataFrame'>\n"
     ]
    }
   ],
   "source": [
    "multi_y = concentration[:,1:-2]\n",
    "print (multi_y.shape)\n",
    "print (type(multi_y))\n",
    "df_y= pd.DataFrame(multi_y)\n",
    "print (type(df_y))"
   ]
  },
  {
   "cell_type": "code",
   "execution_count": 153,
   "metadata": {},
   "outputs": [
    {
     "name": "stdout",
     "output_type": "stream",
     "text": [
      "(19, 1130) (19, 6)\n",
      "(5, 1130) (5, 6)\n"
     ]
    }
   ],
   "source": [
    "X_train, X_test, y_train, y_test = train_test_split(x_df, df_y, test_size=0.2)\n",
    "print (X_train.shape, y_train.shape)\n",
    "print (X_test.shape, y_test.shape)\n",
    "#print(X_test)"
   ]
  },
  {
   "cell_type": "code",
   "execution_count": 134,
   "metadata": {},
   "outputs": [
    {
     "data": {
      "text/plain": [
       "MultiOutputRegressor(estimator=RandomForestRegressor(bootstrap=True,\n",
       "                                                     ccp_alpha=0.0,\n",
       "                                                     criterion='mse',\n",
       "                                                     max_depth=30,\n",
       "                                                     max_features='auto',\n",
       "                                                     max_leaf_nodes=None,\n",
       "                                                     max_samples=None,\n",
       "                                                     min_impurity_decrease=0.0,\n",
       "                                                     min_impurity_split=None,\n",
       "                                                     min_samples_leaf=1,\n",
       "                                                     min_samples_split=2,\n",
       "                                                     min_weight_fraction_leaf=0.0,\n",
       "                                                     n_estimators=650,\n",
       "                                                     n_jobs=None,\n",
       "                                                     oob_score=False,\n",
       "                                                     random_state=0, verbose=0,\n",
       "                                                     warm_start=False),\n",
       "                     n_jobs=None)"
      ]
     },
     "execution_count": 134,
     "metadata": {},
     "output_type": "execute_result"
    }
   ],
   "source": [
    "from sklearn.multioutput import MultiOutputRegressor\n",
    "from sklearn.ensemble import RandomForestRegressor\n",
    "\n",
    "max_depth = 30\n",
    "regr_multirf = MultiOutputRegressor(RandomForestRegressor(n_estimators=650,\n",
    "                                                          max_depth=max_depth,\n",
    "                                                          random_state=0))\n",
    "regr_multirf.fit(X_train, y_train)\n"
   ]
  },
  {
   "cell_type": "code",
   "execution_count": 135,
   "metadata": {},
   "outputs": [],
   "source": [
    "y_multirf = regr_multirf.predict(X_test)"
   ]
  },
  {
   "cell_type": "code",
   "execution_count": 136,
   "metadata": {},
   "outputs": [
    {
     "name": "stdout",
     "output_type": "stream",
     "text": [
      "(5, 6)\n",
      "(5, 6)\n"
     ]
    }
   ],
   "source": [
    "print(y_test.shape)\n",
    "print(y_multirf.shape)"
   ]
  },
  {
   "cell_type": "code",
   "execution_count": 137,
   "metadata": {},
   "outputs": [
    {
     "name": "stdout",
     "output_type": "stream",
     "text": [
      "R^2:  -1.2798201186343863\n",
      "RMSE:  1.5231794557929577\n"
     ]
    }
   ],
   "source": [
    "rmse = sqrt(mean_squared_error(y_test, y_multirf))\n",
    "r2 = r2_score(y_test, y_multirf)\n",
    "\n",
    "print(\"R^2: \", r2)\n",
    "print(\"RMSE: \", rmse)"
   ]
  },
  {
   "cell_type": "code",
   "execution_count": 138,
   "metadata": {},
   "outputs": [
    {
     "name": "stdout",
     "output_type": "stream",
     "text": [
      "[real, predictions]\n",
      "[[6.160e+00 0.000e+00 3.630e-01 0.000e+00 6.000e-03 2.060e-01 8.711e+00\n",
      "  2.880e-01 4.460e-01 2.870e-01 7.790e-01 1.910e-01]\n",
      " [6.120e+00 0.000e+00 3.200e-01 0.000e+00 5.000e-03 1.600e-02 8.009e+00\n",
      "  2.150e-01 4.630e-01 8.500e-02 1.110e-01 1.440e-01]\n",
      " [1.253e+01 3.100e-01 2.500e-02 5.000e-02 5.600e-02 3.300e-02 7.822e+00\n",
      "  2.570e-01 2.970e-01 1.650e-01 1.750e-01 2.170e-01]\n",
      " [1.800e-01 5.000e-01 1.110e+00 5.200e-02 1.500e-01 1.260e+00 4.830e-01\n",
      "  3.630e-01 1.233e+00 2.260e-01 1.360e-01 9.710e-01]\n",
      " [1.290e+01 1.200e-01 5.200e-01 1.550e-01 5.200e-01 2.860e-01 6.898e+00\n",
      "  3.360e-01 7.140e-01 1.420e-01 5.610e-01 2.290e-01]]\n"
     ]
    }
   ],
   "source": [
    "b=np.append(np.around(y_test,3), np.around(y_multirf,3), axis=1)\n",
    "\n",
    "print(\"[real, predictions]\")\n",
    "print(b)"
   ]
  },
  {
   "cell_type": "code",
   "execution_count": 139,
   "metadata": {},
   "outputs": [
    {
     "data": {
      "text/plain": [
       "Text(0, 0.5, 'Predictions')"
      ]
     },
     "execution_count": 139,
     "metadata": {},
     "output_type": "execute_result"
    },
    {
     "data": {
      "image/png": "[encoded data removed]",
      "text/plain": [
       "<Figure size 432x288 with 1 Axes>"
      ]
     },
     "metadata": {
      "needs_background": "light"
     },
     "output_type": "display_data"
    }
   ],
   "source": [
    "plt.scatter(y_test, y_multirf)\n",
    "plt.xlabel('True Values')\n",
    "plt.ylabel('Predictions')"
   ]
  },
  {
   "cell_type": "code",
   "execution_count": 141,
   "metadata": {},
   "outputs": [
    {
     "data": {
      "text/plain": [
       "array([8.71, 8.01, 7.82, 0.48, 6.9 ])"
      ]
     },
     "execution_count": 141,
     "metadata": {},
     "output_type": "execute_result"
    }
   ],
   "source": [
    "y_pred=np.around(y_multirf,2)\n",
    "y_pred[:,0]"
   ]
  },
  {
   "cell_type": "code",
   "execution_count": 142,
   "metadata": {},
   "outputs": [
    {
     "data": {
      "text/plain": [
       "array([ 6.16,  6.12, 12.53,  0.18, 12.9 ])"
      ]
     },
     "execution_count": 142,
     "metadata": {},
     "output_type": "execute_result"
    }
   ],
   "source": [
    "y_test[0].values"
   ]
  },
  {
   "cell_type": "code",
   "execution_count": 143,
   "metadata": {},
   "outputs": [
    {
     "name": "stdout",
     "output_type": "stream",
     "text": [
      "real:  [ 6.16  6.12 12.53  0.18 12.9 ]\n",
      "pred:  [8.71 8.01 7.82 0.48 6.9 ]\n"
     ]
    }
   ],
   "source": [
    "print(\"real: \", y_test[0].values)\n",
    "print(\"pred: \", y_pred[:,0])"
   ]
  },
  {
   "cell_type": "markdown",
   "metadata": {},
   "source": [
    "# PLS-2"
   ]
  },
  {
   "cell_type": "code",
   "execution_count": 154,
   "metadata": {},
   "outputs": [
    {
     "name": "stdout",
     "output_type": "stream",
     "text": [
      "100% completed\n",
      "Suggested number of components:  33\n",
      "\n"
     ]
    },
    {
     "data": {
      "image/png": "[encoded data removed]",
      "text/plain": [
       "<Figure size 432x288 with 1 Axes>"
      ]
     },
     "metadata": {},
     "output_type": "display_data"
    },
    {
     "name": "stdout",
     "output_type": "stream",
     "text": [
      "R2 calib: 1.000\n",
      "R2 CV: 0.018\n",
      "MSE calib: 0.000\n",
      "MSE CV: 0.939\n"
     ]
    }
   ],
   "source": [
    "optimise_pls_cv(X_train, y_train, 40, plot_components=True)"
   ]
  },
  {
   "cell_type": "code",
   "execution_count": 155,
   "metadata": {},
   "outputs": [
    {
     "name": "stdout",
     "output_type": "stream",
     "text": [
      "R^2:  0.018347253779067135\n",
      "MSE:  0.9391318844120397\n"
     ]
    }
   ],
   "source": [
    "# Define PLS object\n",
    "pls = PLSRegression(n_components= 26)\n",
    "# Fit\n",
    "pls.fit(X_train, y_train)\n",
    "# Cross-validation\n",
    "y_cv = cross_val_predict(pls, X_train, y_train, cv=10)\n",
    "# Calculate scores\n",
    "score = r2_score(y_train, y_cv)\n",
    "mse = mean_squared_error(y_train, y_cv)\n",
    "\n",
    "print(\"R^2: \", score)\n",
    "print(\"MSE: \", mse)"
   ]
  },
  {
   "cell_type": "code",
   "execution_count": 150,
   "metadata": {},
   "outputs": [
    {
     "name": "stdout",
     "output_type": "stream",
     "text": [
      "-4.070272705754876\n",
      "0.36555579763038115\n"
     ]
    }
   ],
   "source": [
    "y_pred = pls.predict(X_test)\n",
    "\n",
    "# Cross-validation\n",
    "y_cv = cross_val_predict(pls, X_train, y_train, cv=10)\n",
    "\n",
    "# Calculate scores for calibration and cross-validation\n",
    "score_pred = r2_score(y_test, y_pred)\n",
    "score_cv = r2_score(y_train, y_cv)\n",
    "\n",
    "print(score_pred) #NAMMERDA\n",
    "print(score_cv)"
   ]
  },
  {
   "cell_type": "code",
   "execution_count": 151,
   "metadata": {},
   "outputs": [
    {
     "data": {
      "text/html": [
       "<div>\n",
       "<style scoped>\n",
       "    .dataframe tbody tr th:only-of-type {\n",
       "        vertical-align: middle;\n",
       "    }\n",
       "\n",
       "    .dataframe tbody tr th {\n",
       "        vertical-align: top;\n",
       "    }\n",
       "\n",
       "    .dataframe thead th {\n",
       "        text-align: right;\n",
       "    }\n",
       "</style>\n",
       "<table border=\"1\" class=\"dataframe\">\n",
       "  <thead>\n",
       "    <tr style=\"text-align: right;\">\n",
       "      <th></th>\n",
       "      <th>0</th>\n",
       "      <th>1</th>\n",
       "      <th>2</th>\n",
       "      <th>3</th>\n",
       "      <th>4</th>\n",
       "      <th>5</th>\n",
       "    </tr>\n",
       "  </thead>\n",
       "  <tbody>\n",
       "    <tr>\n",
       "      <th>0</th>\n",
       "      <td>7.84</td>\n",
       "      <td>0.22</td>\n",
       "      <td>0.54</td>\n",
       "      <td>0.19</td>\n",
       "      <td>0.57</td>\n",
       "      <td>0.27</td>\n",
       "    </tr>\n",
       "    <tr>\n",
       "      <th>1</th>\n",
       "      <td>8.62</td>\n",
       "      <td>0.12</td>\n",
       "      <td>0.35</td>\n",
       "      <td>0.06</td>\n",
       "      <td>-0.12</td>\n",
       "      <td>-0.06</td>\n",
       "    </tr>\n",
       "    <tr>\n",
       "      <th>2</th>\n",
       "      <td>10.50</td>\n",
       "      <td>0.13</td>\n",
       "      <td>-0.61</td>\n",
       "      <td>0.45</td>\n",
       "      <td>0.15</td>\n",
       "      <td>-0.03</td>\n",
       "    </tr>\n",
       "    <tr>\n",
       "      <th>3</th>\n",
       "      <td>-0.28</td>\n",
       "      <td>0.42</td>\n",
       "      <td>1.56</td>\n",
       "      <td>-0.11</td>\n",
       "      <td>-0.34</td>\n",
       "      <td>0.95</td>\n",
       "    </tr>\n",
       "    <tr>\n",
       "      <th>4</th>\n",
       "      <td>9.93</td>\n",
       "      <td>0.09</td>\n",
       "      <td>0.29</td>\n",
       "      <td>-0.26</td>\n",
       "      <td>0.65</td>\n",
       "      <td>0.14</td>\n",
       "    </tr>\n",
       "  </tbody>\n",
       "</table>\n",
       "</div>"
      ],
      "text/plain": [
       "       0     1     2     3     4     5\n",
       "0   7.84  0.22  0.54  0.19  0.57  0.27\n",
       "1   8.62  0.12  0.35  0.06 -0.12 -0.06\n",
       "2  10.50  0.13 -0.61  0.45  0.15 -0.03\n",
       "3  -0.28  0.42  1.56 -0.11 -0.34  0.95\n",
       "4   9.93  0.09  0.29 -0.26  0.65  0.14"
      ]
     },
     "execution_count": 151,
     "metadata": {},
     "output_type": "execute_result"
    }
   ],
   "source": [
    "pd.DataFrame(np.round(y_pred, decimals=2))"
   ]
  },
  {
   "cell_type": "code",
   "execution_count": 152,
   "metadata": {
    "scrolled": true
   },
   "outputs": [
    {
     "data": {
      "text/html": [
       "<div>\n",
       "<style scoped>\n",
       "    .dataframe tbody tr th:only-of-type {\n",
       "        vertical-align: middle;\n",
       "    }\n",
       "\n",
       "    .dataframe tbody tr th {\n",
       "        vertical-align: top;\n",
       "    }\n",
       "\n",
       "    .dataframe thead th {\n",
       "        text-align: right;\n",
       "    }\n",
       "</style>\n",
       "<table border=\"1\" class=\"dataframe\">\n",
       "  <thead>\n",
       "    <tr style=\"text-align: right;\">\n",
       "      <th></th>\n",
       "      <th>0</th>\n",
       "      <th>1</th>\n",
       "      <th>2</th>\n",
       "      <th>3</th>\n",
       "      <th>4</th>\n",
       "      <th>5</th>\n",
       "    </tr>\n",
       "  </thead>\n",
       "  <tbody>\n",
       "    <tr>\n",
       "      <th>20</th>\n",
       "      <td>6.16</td>\n",
       "      <td>0.00</td>\n",
       "      <td>0.36</td>\n",
       "      <td>0.00</td>\n",
       "      <td>0.01</td>\n",
       "      <td>0.21</td>\n",
       "    </tr>\n",
       "    <tr>\n",
       "      <th>12</th>\n",
       "      <td>6.12</td>\n",
       "      <td>0.00</td>\n",
       "      <td>0.32</td>\n",
       "      <td>0.00</td>\n",
       "      <td>0.01</td>\n",
       "      <td>0.02</td>\n",
       "    </tr>\n",
       "    <tr>\n",
       "      <th>13</th>\n",
       "      <td>12.53</td>\n",
       "      <td>0.31</td>\n",
       "      <td>0.02</td>\n",
       "      <td>0.05</td>\n",
       "      <td>0.06</td>\n",
       "      <td>0.03</td>\n",
       "    </tr>\n",
       "    <tr>\n",
       "      <th>22</th>\n",
       "      <td>0.18</td>\n",
       "      <td>0.50</td>\n",
       "      <td>1.11</td>\n",
       "      <td>0.05</td>\n",
       "      <td>0.15</td>\n",
       "      <td>1.26</td>\n",
       "    </tr>\n",
       "    <tr>\n",
       "      <th>7</th>\n",
       "      <td>12.90</td>\n",
       "      <td>0.12</td>\n",
       "      <td>0.52</td>\n",
       "      <td>0.16</td>\n",
       "      <td>0.52</td>\n",
       "      <td>0.29</td>\n",
       "    </tr>\n",
       "  </tbody>\n",
       "</table>\n",
       "</div>"
      ],
      "text/plain": [
       "        0     1     2     3     4     5\n",
       "20   6.16  0.00  0.36  0.00  0.01  0.21\n",
       "12   6.12  0.00  0.32  0.00  0.01  0.02\n",
       "13  12.53  0.31  0.02  0.05  0.06  0.03\n",
       "22   0.18  0.50  1.11  0.05  0.15  1.26\n",
       "7   12.90  0.12  0.52  0.16  0.52  0.29"
      ]
     },
     "execution_count": 152,
     "metadata": {},
     "output_type": "execute_result"
    }
   ],
   "source": [
    "np.round(y_test, decimals=2)"
   ]
  },
  {
   "cell_type": "code",
   "execution_count": null,
   "metadata": {},
   "outputs": [],
   "source": []
  },
  {
   "cell_type": "code",
   "execution_count": null,
   "metadata": {},
   "outputs": [],
   "source": []
  }
 ],
 "metadata": {
  "kernelspec": {
   "display_name": "Python 3",
   "language": "python",
   "name": "python3"
  },
  "language_info": {
   "codemirror_mode": {
    "name": "ipython",
    "version": 3
   },
   "file_extension": ".py",
   "mimetype": "text/x-python",
   "name": "python",
   "nbconvert_exporter": "python",
   "pygments_lexer": "ipython3",
   "version": "3.7.6"
  }
 },
 "nbformat": 4,
 "nbformat_minor": 2
}
