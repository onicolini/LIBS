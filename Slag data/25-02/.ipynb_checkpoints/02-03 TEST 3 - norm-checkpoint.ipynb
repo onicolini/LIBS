{
 "cells": [
  {
   "cell_type": "markdown",
   "metadata": {},
   "source": [
    "## Intensity filtered data using reference aluminium wavelength 309.506 (pixel number 445) using saturated data\n",
    "\n",
    "### No preprocessing"
   ]
  },
  {
   "cell_type": "code",
   "execution_count": 1,
   "metadata": {},
   "outputs": [],
   "source": [
    "import os\n",
    "from sys import stdout\n",
    "import time\n",
    "\n",
    "\n",
    "import scipy.io\n",
    "import numpy as np\n",
    "import pandas as pd\n",
    "import matplotlib.pyplot as plt\n",
    "import peakutils\n",
    "%matplotlib inline \n",
    "from math import sqrt\n",
    "from scipy.signal import savgol_filter\n",
    "from sklearn.decomposition import PCA \n",
    "from sklearn.preprocessing import StandardScaler, normalize, MinMaxScaler \n",
    "from sklearn.model_selection import train_test_split, RandomizedSearchCV\n",
    "from sklearn.metrics import mean_squared_error, r2_score\n",
    "from sklearn.cross_decomposition import PLSRegression\n",
    "from sklearn.model_selection import cross_val_predict\n",
    "from sklearn import linear_model\n",
    "from sklearn.linear_model import ElasticNet,ElasticNetCV\n",
    "\n",
    "import warnings\n",
    "warnings.filterwarnings('ignore')"
   ]
  },
  {
   "cell_type": "code",
   "execution_count": 2,
   "metadata": {},
   "outputs": [
    {
     "data": {
      "text/plain": [
       "\"   \\n    # Fit a line to the CV vs response\\n    z = np.polyfit(y, y_c, 1)\\n    with plt.style.context(('ggplot')):\\n        fig, ax = plt.subplots(figsize=(9, 5))\\n        ax.scatter(y_c, y, c='red', edgecolors='k')\\n        #Plot the best fit line\\n        ax.plot(np.polyval(z,y), y, c='blue', linewidth=1)\\n        #Plot the ideal 1:1 line\\n        ax.plot(y, y, color='green', linewidth=1)\\n        plt.title('$R^{2}$ (CV): '+str(score_cv))\\n        plt.xlabel('Predicted $^{\\\\circ}$Brix')\\n        plt.ylabel('Measured $^{\\\\circ}$Brix')\\n        plt.show()\\n    return\\n\""
      ]
     },
     "execution_count": 2,
     "metadata": {},
     "output_type": "execute_result"
    }
   ],
   "source": [
    "def optimise_pls_cv(X, y, n_comp, plot_components=True):\n",
    "    '''Run PLS including a variable number of components, up to n_comp,\n",
    "       and calculate MSE '''\n",
    "    mse = []\n",
    "    component = np.arange(1, n_comp)\n",
    "    for i in component:\n",
    "        pls = PLSRegression(n_components=i)\n",
    "        # Cross-validation\n",
    "        y_cv = cross_val_predict(pls, X, y, cv=10)\n",
    "        mse.append(mean_squared_error(y, y_cv))\n",
    "        comp = 100*(i+1)/40\n",
    "        # Trick to update status on the same line\n",
    "        stdout.write(\"\\r%d%% completed\" % comp)\n",
    "        stdout.flush()\n",
    "    stdout.write(\"\\n\")\n",
    "    # Calculate and print the position of minimum in MSE\n",
    "    msemin = np.argmin(mse)\n",
    "    print(\"Suggested number of components: \", msemin+1)\n",
    "    stdout.write(\"\\n\")\n",
    "    if plot_components is True:\n",
    "        with plt.style.context(('ggplot')):\n",
    "            plt.plot(component, np.array(mse), '-v', color = 'blue', mfc='blue')\n",
    "            plt.plot(component[msemin], np.array(mse)[msemin], 'P', ms=10, mfc='red')\n",
    "            plt.xlabel('Number of PLS components')\n",
    "            plt.ylabel('MSE')\n",
    "            plt.title('PLS')\n",
    "            plt.xlim(left=-1)\n",
    "        plt.show()\n",
    "    # Define PLS object with optimal number of components\n",
    "    pls_opt = PLSRegression(n_components=msemin+1)\n",
    "    # Fir to the entire dataset\n",
    "    pls_opt.fit(X, y)\n",
    "    y_c = pls_opt.predict(X)\n",
    "    # Cross-validation\n",
    "    y_cv = cross_val_predict(pls_opt, X, y, cv=10)\n",
    "    # Calculate scores for calibration and cross-validation\n",
    "    score_c = r2_score(y, y_c)\n",
    "    score_cv = r2_score(y, y_cv)\n",
    "    # Calculate mean squared error for calibration and cross validation\n",
    "    mse_c = mean_squared_error(y, y_c)\n",
    "    mse_cv = mean_squared_error(y, y_cv)\n",
    "    print('R2 calib: %5.3f'  % score_c)\n",
    "    print('R2 CV: %5.3f'  % score_cv)\n",
    "    print('MSE calib: %5.3f' % mse_c)\n",
    "    print('MSE CV: %5.3f' % mse_cv)\n",
    "    \n",
    "    return\n",
    "    # Plot regression and figures of merit\n",
    "    rangey = max(y) - min(y)\n",
    "    rangex = max(y_c) - min(y_c)\n",
    "\"\"\"   \n",
    "    # Fit a line to the CV vs response\n",
    "    z = np.polyfit(y, y_c, 1)\n",
    "    with plt.style.context(('ggplot')):\n",
    "        fig, ax = plt.subplots(figsize=(9, 5))\n",
    "        ax.scatter(y_c, y, c='red', edgecolors='k')\n",
    "        #Plot the best fit line\n",
    "        ax.plot(np.polyval(z,y), y, c='blue', linewidth=1)\n",
    "        #Plot the ideal 1:1 line\n",
    "        ax.plot(y, y, color='green', linewidth=1)\n",
    "        plt.title('$R^{2}$ (CV): '+str(score_cv))\n",
    "        plt.xlabel('Predicted $^{\\circ}$Brix')\n",
    "        plt.ylabel('Measured $^{\\circ}$Brix')\n",
    "        plt.show()\n",
    "    return\n",
    "\"\"\" "
   ]
  },
  {
   "cell_type": "code",
   "execution_count": 3,
   "metadata": {},
   "outputs": [],
   "source": [
    "def pls_variable_selection(X, y, max_comp):\n",
    "    \n",
    "    # Define MSE array to be populated\n",
    "    mse = np.zeros((max_comp,X.shape[1]))\n",
    "    # Loop over the number of PLS components\n",
    "    for i in range(max_comp):\n",
    "        \n",
    "        # Regression with specified number of components, using full spectrum\n",
    "        pls1 = PLSRegression(n_components=i+1)\n",
    "        pls1.fit(X, y)\n",
    "        \n",
    "        # Indices of sort spectra according to ascending absolute value of PLS coefficients\n",
    "        sorted_ind = np.argsort(np.abs(pls1.coef_[:,0]))\n",
    "        # Sort spectra accordingly \n",
    "        Xc = X[:,sorted_ind]\n",
    "        # Discard one wavelength at a time of the sorted spectra,\n",
    "        # regress, and calculate the MSE cross-validation\n",
    "        for j in range(Xc.shape[1]-(i+1)):\n",
    "            pls2 = PLSRegression(n_components=i+1)\n",
    "            pls2.fit(Xc[:, j:], y)\n",
    "            \n",
    "            y_cv = cross_val_predict(pls2, Xc[:, j:], y, cv=5)\n",
    "            mse[i,j] = mean_squared_error(y, y_cv)\n",
    "    \n",
    "        comp = 100*(i+1)/(max_comp)\n",
    "        stdout.write(\"\\r%d%% completed\" % comp)\n",
    "        stdout.flush()\n",
    "    stdout.write(\"\\n\")\n",
    "    # # Calculate and print the position of minimum in MSE\n",
    "    mseminx,mseminy = np.where(mse==np.min(mse[np.nonzero(mse)]))\n",
    "    print(\"Optimised number of PLS components: \", mseminx[0]+1)\n",
    "    print(\"Wavelengths to be discarded \",mseminy[0])\n",
    "    print('Optimised MSEP ', mse[mseminx,mseminy][0])\n",
    "    stdout.write(\"\\n\")\n",
    "    # plt.imshow(mse, interpolation=None)\n",
    "    # plt.show()\n",
    "    # Calculate PLS with optimal components and export values\n",
    "    pls = PLSRegression(n_components=mseminx[0]+1)\n",
    "    pls.fit(X, y)\n",
    "        \n",
    "    sorted_ind = np.argsort(np.abs(pls.coef_[:,0]))\n",
    "    Xc = X[:,sorted_ind]\n",
    "    return(Xc[:,mseminy[0]:],mseminx[0]+1,mseminy[0], sorted_ind)"
   ]
  },
  {
   "cell_type": "code",
   "execution_count": 4,
   "metadata": {},
   "outputs": [],
   "source": [
    "def msc(input_data, reference=None):\n",
    "    ''' Perform Multiplicative scatter correction'''\n",
    "    # mean centre correction\n",
    "    for i in range(input_data.shape[0]):\n",
    "        input_data[i,:] -= input_data[i,:].mean()\n",
    "    # Get the reference spectrum. If not given, estimate it from the mean    \n",
    "    if reference is None:    \n",
    "        # Calculate mean\n",
    "        ref = np.mean(input_data, axis=0)\n",
    "    else:\n",
    "        ref = reference\n",
    "    # Define a new array and populate it with the corrected data    \n",
    "    data_msc = np.zeros_like(input_data)\n",
    "    for i in range(input_data.shape[0]):\n",
    "        # Run regression\n",
    "        fit = np.polyfit(ref, input_data[i,:], 1, full=True)\n",
    "        # Apply correction\n",
    "        data_msc[i,:] = (input_data[i,:] - fit[0][1]) / fit[0][0] \n",
    "    return (data_msc, ref)"
   ]
  },
  {
   "cell_type": "code",
   "execution_count": 5,
   "metadata": {},
   "outputs": [],
   "source": [
    "def snv(input_data):\n",
    "  \n",
    "    # Define a new array and populate it with the corrected data  \n",
    "    data_snv = np.zeros_like(input_data)\n",
    "    for i in range(input_data.shape[0]):\n",
    "        # Apply correction\n",
    "        data_snv[i,:] = (input_data[i,:] - np.mean(input_data[i,:])) / np.std(input_data[i,:])\n",
    "    return data_snv"
   ]
  },
  {
   "cell_type": "code",
   "execution_count": 6,
   "metadata": {},
   "outputs": [
    {
     "name": "stdout",
     "output_type": "stream",
     "text": [
      "(34, 3648)\n",
      "(3648,)\n",
      "34\n"
     ]
    },
    {
     "data": {
      "text/html": [
       "<div>\n",
       "<style scoped>\n",
       "    .dataframe tbody tr th:only-of-type {\n",
       "        vertical-align: middle;\n",
       "    }\n",
       "\n",
       "    .dataframe tbody tr th {\n",
       "        vertical-align: top;\n",
       "    }\n",
       "\n",
       "    .dataframe thead th {\n",
       "        text-align: right;\n",
       "    }\n",
       "</style>\n",
       "<table border=\"1\" class=\"dataframe\">\n",
       "  <thead>\n",
       "    <tr style=\"text-align: right;\">\n",
       "      <th></th>\n",
       "      <th>216.330000</th>\n",
       "      <th>216.370000</th>\n",
       "      <th>216.410000</th>\n",
       "      <th>216.450000</th>\n",
       "      <th>216.490000</th>\n",
       "      <th>216.520000</th>\n",
       "      <th>216.560000</th>\n",
       "      <th>216.600000</th>\n",
       "      <th>216.640000</th>\n",
       "      <th>216.680000</th>\n",
       "      <th>...</th>\n",
       "      <th>340.120000</th>\n",
       "      <th>340.150000</th>\n",
       "      <th>340.170000</th>\n",
       "      <th>340.200000</th>\n",
       "      <th>340.230000</th>\n",
       "      <th>340.260000</th>\n",
       "      <th>340.290000</th>\n",
       "      <th>340.320000</th>\n",
       "      <th>340.340000</th>\n",
       "      <th>340.370000</th>\n",
       "    </tr>\n",
       "  </thead>\n",
       "  <tbody>\n",
       "    <tr>\n",
       "      <th>0</th>\n",
       "      <td>-0.000123</td>\n",
       "      <td>-0.000190</td>\n",
       "      <td>-0.000193</td>\n",
       "      <td>-0.000180</td>\n",
       "      <td>-0.000167</td>\n",
       "      <td>-0.000175</td>\n",
       "      <td>-0.000158</td>\n",
       "      <td>-0.000154</td>\n",
       "      <td>-0.000092</td>\n",
       "      <td>-0.000049</td>\n",
       "      <td>...</td>\n",
       "      <td>-0.000368</td>\n",
       "      <td>-0.000105</td>\n",
       "      <td>-0.000088</td>\n",
       "      <td>-0.000044</td>\n",
       "      <td>-0.000081</td>\n",
       "      <td>-0.000179</td>\n",
       "      <td>-0.000210</td>\n",
       "      <td>-0.000154</td>\n",
       "      <td>-0.000079</td>\n",
       "      <td>-0.000002</td>\n",
       "    </tr>\n",
       "    <tr>\n",
       "      <th>1</th>\n",
       "      <td>-0.000113</td>\n",
       "      <td>-0.000197</td>\n",
       "      <td>-0.000198</td>\n",
       "      <td>-0.000189</td>\n",
       "      <td>-0.000172</td>\n",
       "      <td>-0.000178</td>\n",
       "      <td>-0.000161</td>\n",
       "      <td>-0.000159</td>\n",
       "      <td>-0.000094</td>\n",
       "      <td>-0.000028</td>\n",
       "      <td>...</td>\n",
       "      <td>-0.000243</td>\n",
       "      <td>0.000053</td>\n",
       "      <td>0.000071</td>\n",
       "      <td>0.000137</td>\n",
       "      <td>0.000094</td>\n",
       "      <td>-0.000045</td>\n",
       "      <td>-0.000065</td>\n",
       "      <td>0.000005</td>\n",
       "      <td>0.000092</td>\n",
       "      <td>0.000185</td>\n",
       "    </tr>\n",
       "    <tr>\n",
       "      <th>2</th>\n",
       "      <td>-0.000188</td>\n",
       "      <td>-0.000264</td>\n",
       "      <td>-0.000258</td>\n",
       "      <td>-0.000254</td>\n",
       "      <td>-0.000230</td>\n",
       "      <td>-0.000240</td>\n",
       "      <td>-0.000217</td>\n",
       "      <td>-0.000199</td>\n",
       "      <td>-0.000134</td>\n",
       "      <td>-0.000069</td>\n",
       "      <td>...</td>\n",
       "      <td>-0.000289</td>\n",
       "      <td>0.000000</td>\n",
       "      <td>0.000001</td>\n",
       "      <td>0.000086</td>\n",
       "      <td>0.000024</td>\n",
       "      <td>-0.000082</td>\n",
       "      <td>-0.000087</td>\n",
       "      <td>-0.000016</td>\n",
       "      <td>0.000062</td>\n",
       "      <td>0.000141</td>\n",
       "    </tr>\n",
       "    <tr>\n",
       "      <th>3</th>\n",
       "      <td>-0.000180</td>\n",
       "      <td>-0.000271</td>\n",
       "      <td>-0.000281</td>\n",
       "      <td>-0.000268</td>\n",
       "      <td>-0.000218</td>\n",
       "      <td>-0.000235</td>\n",
       "      <td>-0.000231</td>\n",
       "      <td>-0.000210</td>\n",
       "      <td>-0.000098</td>\n",
       "      <td>0.000083</td>\n",
       "      <td>...</td>\n",
       "      <td>-0.000121</td>\n",
       "      <td>0.000260</td>\n",
       "      <td>0.000330</td>\n",
       "      <td>0.000491</td>\n",
       "      <td>0.000452</td>\n",
       "      <td>0.000228</td>\n",
       "      <td>0.000163</td>\n",
       "      <td>0.000269</td>\n",
       "      <td>0.000427</td>\n",
       "      <td>0.000620</td>\n",
       "    </tr>\n",
       "    <tr>\n",
       "      <th>4</th>\n",
       "      <td>-0.000123</td>\n",
       "      <td>-0.000203</td>\n",
       "      <td>-0.000209</td>\n",
       "      <td>-0.000195</td>\n",
       "      <td>-0.000176</td>\n",
       "      <td>-0.000181</td>\n",
       "      <td>-0.000169</td>\n",
       "      <td>-0.000159</td>\n",
       "      <td>-0.000086</td>\n",
       "      <td>0.000015</td>\n",
       "      <td>...</td>\n",
       "      <td>-0.000230</td>\n",
       "      <td>0.000075</td>\n",
       "      <td>0.000103</td>\n",
       "      <td>0.000188</td>\n",
       "      <td>0.000138</td>\n",
       "      <td>-0.000007</td>\n",
       "      <td>-0.000064</td>\n",
       "      <td>0.000015</td>\n",
       "      <td>0.000124</td>\n",
       "      <td>0.000264</td>\n",
       "    </tr>\n",
       "    <tr>\n",
       "      <th>5</th>\n",
       "      <td>-0.000118</td>\n",
       "      <td>-0.000194</td>\n",
       "      <td>-0.000193</td>\n",
       "      <td>-0.000177</td>\n",
       "      <td>-0.000161</td>\n",
       "      <td>-0.000166</td>\n",
       "      <td>-0.000167</td>\n",
       "      <td>-0.000148</td>\n",
       "      <td>-0.000088</td>\n",
       "      <td>-0.000009</td>\n",
       "      <td>...</td>\n",
       "      <td>-0.000292</td>\n",
       "      <td>0.000013</td>\n",
       "      <td>0.000025</td>\n",
       "      <td>0.000109</td>\n",
       "      <td>0.000051</td>\n",
       "      <td>-0.000085</td>\n",
       "      <td>-0.000133</td>\n",
       "      <td>-0.000057</td>\n",
       "      <td>0.000047</td>\n",
       "      <td>0.000167</td>\n",
       "    </tr>\n",
       "    <tr>\n",
       "      <th>6</th>\n",
       "      <td>-0.000112</td>\n",
       "      <td>-0.000189</td>\n",
       "      <td>-0.000190</td>\n",
       "      <td>-0.000178</td>\n",
       "      <td>-0.000161</td>\n",
       "      <td>-0.000167</td>\n",
       "      <td>-0.000161</td>\n",
       "      <td>-0.000148</td>\n",
       "      <td>-0.000078</td>\n",
       "      <td>0.000017</td>\n",
       "      <td>...</td>\n",
       "      <td>-0.000230</td>\n",
       "      <td>0.000079</td>\n",
       "      <td>0.000090</td>\n",
       "      <td>0.000200</td>\n",
       "      <td>0.000146</td>\n",
       "      <td>-0.000006</td>\n",
       "      <td>-0.000055</td>\n",
       "      <td>0.000025</td>\n",
       "      <td>0.000135</td>\n",
       "      <td>0.000278</td>\n",
       "    </tr>\n",
       "    <tr>\n",
       "      <th>7</th>\n",
       "      <td>-0.000111</td>\n",
       "      <td>-0.000187</td>\n",
       "      <td>-0.000190</td>\n",
       "      <td>-0.000185</td>\n",
       "      <td>-0.000159</td>\n",
       "      <td>-0.000174</td>\n",
       "      <td>-0.000163</td>\n",
       "      <td>-0.000152</td>\n",
       "      <td>-0.000079</td>\n",
       "      <td>-0.000001</td>\n",
       "      <td>...</td>\n",
       "      <td>-0.000257</td>\n",
       "      <td>0.000067</td>\n",
       "      <td>0.000067</td>\n",
       "      <td>0.000164</td>\n",
       "      <td>0.000103</td>\n",
       "      <td>-0.000044</td>\n",
       "      <td>-0.000090</td>\n",
       "      <td>-0.000017</td>\n",
       "      <td>0.000089</td>\n",
       "      <td>0.000228</td>\n",
       "    </tr>\n",
       "    <tr>\n",
       "      <th>8</th>\n",
       "      <td>-0.000120</td>\n",
       "      <td>-0.000223</td>\n",
       "      <td>-0.000233</td>\n",
       "      <td>-0.000224</td>\n",
       "      <td>-0.000186</td>\n",
       "      <td>-0.000201</td>\n",
       "      <td>-0.000187</td>\n",
       "      <td>-0.000183</td>\n",
       "      <td>-0.000091</td>\n",
       "      <td>0.000003</td>\n",
       "      <td>...</td>\n",
       "      <td>-0.000251</td>\n",
       "      <td>0.000117</td>\n",
       "      <td>0.000177</td>\n",
       "      <td>0.000307</td>\n",
       "      <td>0.000278</td>\n",
       "      <td>0.000088</td>\n",
       "      <td>0.000028</td>\n",
       "      <td>0.000113</td>\n",
       "      <td>0.000258</td>\n",
       "      <td>0.000416</td>\n",
       "    </tr>\n",
       "    <tr>\n",
       "      <th>9</th>\n",
       "      <td>-0.000114</td>\n",
       "      <td>-0.000176</td>\n",
       "      <td>-0.000182</td>\n",
       "      <td>-0.000168</td>\n",
       "      <td>-0.000154</td>\n",
       "      <td>-0.000157</td>\n",
       "      <td>-0.000150</td>\n",
       "      <td>-0.000136</td>\n",
       "      <td>-0.000075</td>\n",
       "      <td>0.000002</td>\n",
       "      <td>...</td>\n",
       "      <td>-0.000240</td>\n",
       "      <td>0.000022</td>\n",
       "      <td>0.000020</td>\n",
       "      <td>0.000098</td>\n",
       "      <td>0.000056</td>\n",
       "      <td>-0.000054</td>\n",
       "      <td>-0.000083</td>\n",
       "      <td>-0.000016</td>\n",
       "      <td>0.000064</td>\n",
       "      <td>0.000165</td>\n",
       "    </tr>\n",
       "    <tr>\n",
       "      <th>10</th>\n",
       "      <td>-0.000141</td>\n",
       "      <td>-0.000235</td>\n",
       "      <td>-0.000240</td>\n",
       "      <td>-0.000227</td>\n",
       "      <td>-0.000193</td>\n",
       "      <td>-0.000202</td>\n",
       "      <td>-0.000198</td>\n",
       "      <td>-0.000181</td>\n",
       "      <td>-0.000078</td>\n",
       "      <td>0.000075</td>\n",
       "      <td>...</td>\n",
       "      <td>-0.000247</td>\n",
       "      <td>0.000169</td>\n",
       "      <td>0.000247</td>\n",
       "      <td>0.000461</td>\n",
       "      <td>0.000482</td>\n",
       "      <td>0.000343</td>\n",
       "      <td>0.000328</td>\n",
       "      <td>0.000435</td>\n",
       "      <td>0.000556</td>\n",
       "      <td>0.000670</td>\n",
       "    </tr>\n",
       "    <tr>\n",
       "      <th>11</th>\n",
       "      <td>-0.000181</td>\n",
       "      <td>-0.000277</td>\n",
       "      <td>-0.000281</td>\n",
       "      <td>-0.000279</td>\n",
       "      <td>-0.000229</td>\n",
       "      <td>-0.000253</td>\n",
       "      <td>-0.000239</td>\n",
       "      <td>-0.000222</td>\n",
       "      <td>-0.000127</td>\n",
       "      <td>0.000007</td>\n",
       "      <td>...</td>\n",
       "      <td>-0.000286</td>\n",
       "      <td>0.000141</td>\n",
       "      <td>0.000210</td>\n",
       "      <td>0.000437</td>\n",
       "      <td>0.000468</td>\n",
       "      <td>0.000366</td>\n",
       "      <td>0.000377</td>\n",
       "      <td>0.000519</td>\n",
       "      <td>0.000586</td>\n",
       "      <td>0.000638</td>\n",
       "    </tr>\n",
       "    <tr>\n",
       "      <th>12</th>\n",
       "      <td>-0.000201</td>\n",
       "      <td>-0.000316</td>\n",
       "      <td>-0.000305</td>\n",
       "      <td>-0.000288</td>\n",
       "      <td>-0.000288</td>\n",
       "      <td>-0.000287</td>\n",
       "      <td>-0.000244</td>\n",
       "      <td>-0.000238</td>\n",
       "      <td>-0.000186</td>\n",
       "      <td>-0.000226</td>\n",
       "      <td>...</td>\n",
       "      <td>-0.000406</td>\n",
       "      <td>-0.000091</td>\n",
       "      <td>0.000112</td>\n",
       "      <td>0.000385</td>\n",
       "      <td>0.000683</td>\n",
       "      <td>0.000995</td>\n",
       "      <td>0.001282</td>\n",
       "      <td>0.001487</td>\n",
       "      <td>0.001233</td>\n",
       "      <td>0.000669</td>\n",
       "    </tr>\n",
       "    <tr>\n",
       "      <th>13</th>\n",
       "      <td>-0.000312</td>\n",
       "      <td>-0.000394</td>\n",
       "      <td>-0.000378</td>\n",
       "      <td>-0.000377</td>\n",
       "      <td>-0.000347</td>\n",
       "      <td>-0.000336</td>\n",
       "      <td>-0.000287</td>\n",
       "      <td>-0.000258</td>\n",
       "      <td>-0.000233</td>\n",
       "      <td>-0.000285</td>\n",
       "      <td>...</td>\n",
       "      <td>-0.000539</td>\n",
       "      <td>-0.000178</td>\n",
       "      <td>0.000007</td>\n",
       "      <td>0.000326</td>\n",
       "      <td>0.000639</td>\n",
       "      <td>0.000947</td>\n",
       "      <td>0.001250</td>\n",
       "      <td>0.001461</td>\n",
       "      <td>0.001198</td>\n",
       "      <td>0.000642</td>\n",
       "    </tr>\n",
       "    <tr>\n",
       "      <th>14</th>\n",
       "      <td>-0.000196</td>\n",
       "      <td>-0.000275</td>\n",
       "      <td>-0.000284</td>\n",
       "      <td>-0.000255</td>\n",
       "      <td>-0.000244</td>\n",
       "      <td>-0.000233</td>\n",
       "      <td>-0.000168</td>\n",
       "      <td>-0.000125</td>\n",
       "      <td>-0.000098</td>\n",
       "      <td>-0.000165</td>\n",
       "      <td>...</td>\n",
       "      <td>-0.000344</td>\n",
       "      <td>-0.000009</td>\n",
       "      <td>0.000254</td>\n",
       "      <td>0.000578</td>\n",
       "      <td>0.000944</td>\n",
       "      <td>0.001331</td>\n",
       "      <td>0.001700</td>\n",
       "      <td>0.001909</td>\n",
       "      <td>0.001601</td>\n",
       "      <td>0.000945</td>\n",
       "    </tr>\n",
       "    <tr>\n",
       "      <th>15</th>\n",
       "      <td>-0.000191</td>\n",
       "      <td>-0.000282</td>\n",
       "      <td>-0.000275</td>\n",
       "      <td>-0.000248</td>\n",
       "      <td>-0.000246</td>\n",
       "      <td>-0.000215</td>\n",
       "      <td>-0.000149</td>\n",
       "      <td>-0.000103</td>\n",
       "      <td>-0.000082</td>\n",
       "      <td>-0.000163</td>\n",
       "      <td>...</td>\n",
       "      <td>-0.000616</td>\n",
       "      <td>-0.000207</td>\n",
       "      <td>0.000089</td>\n",
       "      <td>0.000571</td>\n",
       "      <td>0.001125</td>\n",
       "      <td>0.001640</td>\n",
       "      <td>0.002128</td>\n",
       "      <td>0.002435</td>\n",
       "      <td>0.002041</td>\n",
       "      <td>0.001128</td>\n",
       "    </tr>\n",
       "    <tr>\n",
       "      <th>16</th>\n",
       "      <td>-0.000245</td>\n",
       "      <td>-0.000336</td>\n",
       "      <td>-0.000331</td>\n",
       "      <td>-0.000304</td>\n",
       "      <td>-0.000296</td>\n",
       "      <td>-0.000291</td>\n",
       "      <td>-0.000245</td>\n",
       "      <td>-0.000196</td>\n",
       "      <td>-0.000177</td>\n",
       "      <td>-0.000225</td>\n",
       "      <td>...</td>\n",
       "      <td>-0.000425</td>\n",
       "      <td>0.000013</td>\n",
       "      <td>0.000328</td>\n",
       "      <td>0.000858</td>\n",
       "      <td>0.001419</td>\n",
       "      <td>0.001968</td>\n",
       "      <td>0.002458</td>\n",
       "      <td>0.002767</td>\n",
       "      <td>0.002320</td>\n",
       "      <td>0.001390</td>\n",
       "    </tr>\n",
       "    <tr>\n",
       "      <th>17</th>\n",
       "      <td>-0.000155</td>\n",
       "      <td>-0.000236</td>\n",
       "      <td>-0.000231</td>\n",
       "      <td>-0.000221</td>\n",
       "      <td>-0.000218</td>\n",
       "      <td>-0.000213</td>\n",
       "      <td>-0.000190</td>\n",
       "      <td>-0.000186</td>\n",
       "      <td>-0.000156</td>\n",
       "      <td>-0.000176</td>\n",
       "      <td>...</td>\n",
       "      <td>-0.000485</td>\n",
       "      <td>-0.000198</td>\n",
       "      <td>-0.000036</td>\n",
       "      <td>0.000217</td>\n",
       "      <td>0.000489</td>\n",
       "      <td>0.000774</td>\n",
       "      <td>0.001046</td>\n",
       "      <td>0.001224</td>\n",
       "      <td>0.000984</td>\n",
       "      <td>0.000475</td>\n",
       "    </tr>\n",
       "    <tr>\n",
       "      <th>18</th>\n",
       "      <td>-0.000226</td>\n",
       "      <td>-0.000318</td>\n",
       "      <td>-0.000308</td>\n",
       "      <td>-0.000299</td>\n",
       "      <td>-0.000280</td>\n",
       "      <td>-0.000284</td>\n",
       "      <td>-0.000210</td>\n",
       "      <td>-0.000196</td>\n",
       "      <td>-0.000147</td>\n",
       "      <td>-0.000210</td>\n",
       "      <td>...</td>\n",
       "      <td>-0.000394</td>\n",
       "      <td>0.000033</td>\n",
       "      <td>0.000353</td>\n",
       "      <td>0.000798</td>\n",
       "      <td>0.001317</td>\n",
       "      <td>0.001778</td>\n",
       "      <td>0.002238</td>\n",
       "      <td>0.002532</td>\n",
       "      <td>0.002132</td>\n",
       "      <td>0.001289</td>\n",
       "    </tr>\n",
       "    <tr>\n",
       "      <th>19</th>\n",
       "      <td>-0.000217</td>\n",
       "      <td>-0.000302</td>\n",
       "      <td>-0.000297</td>\n",
       "      <td>-0.000288</td>\n",
       "      <td>-0.000270</td>\n",
       "      <td>-0.000271</td>\n",
       "      <td>-0.000247</td>\n",
       "      <td>-0.000234</td>\n",
       "      <td>-0.000201</td>\n",
       "      <td>-0.000236</td>\n",
       "      <td>...</td>\n",
       "      <td>-0.000607</td>\n",
       "      <td>-0.000270</td>\n",
       "      <td>-0.000068</td>\n",
       "      <td>0.000224</td>\n",
       "      <td>0.000559</td>\n",
       "      <td>0.000899</td>\n",
       "      <td>0.001218</td>\n",
       "      <td>0.001414</td>\n",
       "      <td>0.001148</td>\n",
       "      <td>0.000533</td>\n",
       "    </tr>\n",
       "    <tr>\n",
       "      <th>20</th>\n",
       "      <td>-0.000304</td>\n",
       "      <td>-0.000381</td>\n",
       "      <td>-0.000385</td>\n",
       "      <td>-0.000369</td>\n",
       "      <td>-0.000365</td>\n",
       "      <td>-0.000361</td>\n",
       "      <td>-0.000312</td>\n",
       "      <td>-0.000287</td>\n",
       "      <td>-0.000263</td>\n",
       "      <td>-0.000299</td>\n",
       "      <td>...</td>\n",
       "      <td>-0.000723</td>\n",
       "      <td>-0.000182</td>\n",
       "      <td>0.000168</td>\n",
       "      <td>0.000805</td>\n",
       "      <td>0.001447</td>\n",
       "      <td>0.002018</td>\n",
       "      <td>0.002600</td>\n",
       "      <td>0.002920</td>\n",
       "      <td>0.002421</td>\n",
       "      <td>0.001401</td>\n",
       "    </tr>\n",
       "    <tr>\n",
       "      <th>21</th>\n",
       "      <td>-0.000364</td>\n",
       "      <td>-0.000426</td>\n",
       "      <td>-0.000421</td>\n",
       "      <td>-0.000415</td>\n",
       "      <td>-0.000403</td>\n",
       "      <td>-0.000393</td>\n",
       "      <td>-0.000347</td>\n",
       "      <td>-0.000310</td>\n",
       "      <td>-0.000284</td>\n",
       "      <td>-0.000314</td>\n",
       "      <td>...</td>\n",
       "      <td>-0.000364</td>\n",
       "      <td>0.000232</td>\n",
       "      <td>0.000716</td>\n",
       "      <td>0.001590</td>\n",
       "      <td>0.002468</td>\n",
       "      <td>0.003263</td>\n",
       "      <td>0.004033</td>\n",
       "      <td>0.004451</td>\n",
       "      <td>0.003810</td>\n",
       "      <td>0.002414</td>\n",
       "    </tr>\n",
       "    <tr>\n",
       "      <th>22</th>\n",
       "      <td>-0.000097</td>\n",
       "      <td>-0.000180</td>\n",
       "      <td>-0.000166</td>\n",
       "      <td>-0.000152</td>\n",
       "      <td>-0.000145</td>\n",
       "      <td>-0.000150</td>\n",
       "      <td>-0.000139</td>\n",
       "      <td>-0.000139</td>\n",
       "      <td>-0.000097</td>\n",
       "      <td>-0.000107</td>\n",
       "      <td>...</td>\n",
       "      <td>-0.000183</td>\n",
       "      <td>-0.000038</td>\n",
       "      <td>0.000042</td>\n",
       "      <td>0.000069</td>\n",
       "      <td>0.000158</td>\n",
       "      <td>0.000270</td>\n",
       "      <td>0.000382</td>\n",
       "      <td>0.000476</td>\n",
       "      <td>0.000400</td>\n",
       "      <td>0.000155</td>\n",
       "    </tr>\n",
       "    <tr>\n",
       "      <th>23</th>\n",
       "      <td>-0.000146</td>\n",
       "      <td>-0.000209</td>\n",
       "      <td>-0.000205</td>\n",
       "      <td>-0.000191</td>\n",
       "      <td>-0.000190</td>\n",
       "      <td>-0.000193</td>\n",
       "      <td>-0.000179</td>\n",
       "      <td>-0.000175</td>\n",
       "      <td>-0.000133</td>\n",
       "      <td>-0.000133</td>\n",
       "      <td>...</td>\n",
       "      <td>-0.000299</td>\n",
       "      <td>-0.000054</td>\n",
       "      <td>0.000011</td>\n",
       "      <td>0.000149</td>\n",
       "      <td>0.000251</td>\n",
       "      <td>0.000368</td>\n",
       "      <td>0.000494</td>\n",
       "      <td>0.000595</td>\n",
       "      <td>0.000517</td>\n",
       "      <td>0.000286</td>\n",
       "    </tr>\n",
       "    <tr>\n",
       "      <th>24</th>\n",
       "      <td>-0.000230</td>\n",
       "      <td>-0.000326</td>\n",
       "      <td>-0.000334</td>\n",
       "      <td>-0.000322</td>\n",
       "      <td>-0.000260</td>\n",
       "      <td>-0.000278</td>\n",
       "      <td>-0.000280</td>\n",
       "      <td>-0.000253</td>\n",
       "      <td>-0.000128</td>\n",
       "      <td>0.000092</td>\n",
       "      <td>...</td>\n",
       "      <td>-0.000115</td>\n",
       "      <td>0.000396</td>\n",
       "      <td>0.000541</td>\n",
       "      <td>0.000856</td>\n",
       "      <td>0.000944</td>\n",
       "      <td>0.000821</td>\n",
       "      <td>0.000833</td>\n",
       "      <td>0.000973</td>\n",
       "      <td>0.001058</td>\n",
       "      <td>0.001145</td>\n",
       "    </tr>\n",
       "    <tr>\n",
       "      <th>25</th>\n",
       "      <td>-0.000035</td>\n",
       "      <td>-0.000116</td>\n",
       "      <td>-0.000126</td>\n",
       "      <td>-0.000099</td>\n",
       "      <td>-0.000099</td>\n",
       "      <td>-0.000096</td>\n",
       "      <td>-0.000092</td>\n",
       "      <td>-0.000081</td>\n",
       "      <td>-0.000034</td>\n",
       "      <td>-0.000053</td>\n",
       "      <td>...</td>\n",
       "      <td>-0.000207</td>\n",
       "      <td>-0.000088</td>\n",
       "      <td>-0.000046</td>\n",
       "      <td>-0.000083</td>\n",
       "      <td>-0.000114</td>\n",
       "      <td>-0.000083</td>\n",
       "      <td>-0.000065</td>\n",
       "      <td>-0.000015</td>\n",
       "      <td>0.000008</td>\n",
       "      <td>-0.000047</td>\n",
       "    </tr>\n",
       "    <tr>\n",
       "      <th>26</th>\n",
       "      <td>-0.000064</td>\n",
       "      <td>-0.000139</td>\n",
       "      <td>-0.000145</td>\n",
       "      <td>-0.000125</td>\n",
       "      <td>-0.000110</td>\n",
       "      <td>-0.000125</td>\n",
       "      <td>-0.000098</td>\n",
       "      <td>-0.000104</td>\n",
       "      <td>-0.000065</td>\n",
       "      <td>-0.000080</td>\n",
       "      <td>...</td>\n",
       "      <td>-0.000252</td>\n",
       "      <td>-0.000087</td>\n",
       "      <td>-0.000036</td>\n",
       "      <td>-0.000036</td>\n",
       "      <td>-0.000015</td>\n",
       "      <td>0.000034</td>\n",
       "      <td>0.000085</td>\n",
       "      <td>0.000150</td>\n",
       "      <td>0.000139</td>\n",
       "      <td>0.000015</td>\n",
       "    </tr>\n",
       "    <tr>\n",
       "      <th>27</th>\n",
       "      <td>-0.000199</td>\n",
       "      <td>-0.000276</td>\n",
       "      <td>-0.000280</td>\n",
       "      <td>-0.000267</td>\n",
       "      <td>-0.000234</td>\n",
       "      <td>-0.000243</td>\n",
       "      <td>-0.000240</td>\n",
       "      <td>-0.000216</td>\n",
       "      <td>-0.000129</td>\n",
       "      <td>-0.000022</td>\n",
       "      <td>...</td>\n",
       "      <td>-0.000181</td>\n",
       "      <td>0.000233</td>\n",
       "      <td>0.000376</td>\n",
       "      <td>0.000689</td>\n",
       "      <td>0.000868</td>\n",
       "      <td>0.000925</td>\n",
       "      <td>0.001082</td>\n",
       "      <td>0.001278</td>\n",
       "      <td>0.001221</td>\n",
       "      <td>0.001013</td>\n",
       "    </tr>\n",
       "    <tr>\n",
       "      <th>28</th>\n",
       "      <td>-0.000078</td>\n",
       "      <td>-0.000199</td>\n",
       "      <td>-0.000179</td>\n",
       "      <td>-0.000162</td>\n",
       "      <td>-0.000168</td>\n",
       "      <td>-0.000163</td>\n",
       "      <td>-0.000142</td>\n",
       "      <td>-0.000124</td>\n",
       "      <td>-0.000102</td>\n",
       "      <td>-0.000126</td>\n",
       "      <td>...</td>\n",
       "      <td>-0.000146</td>\n",
       "      <td>-0.000019</td>\n",
       "      <td>0.000001</td>\n",
       "      <td>-0.000092</td>\n",
       "      <td>-0.000132</td>\n",
       "      <td>-0.000118</td>\n",
       "      <td>-0.000110</td>\n",
       "      <td>-0.000082</td>\n",
       "      <td>-0.000064</td>\n",
       "      <td>-0.000101</td>\n",
       "    </tr>\n",
       "    <tr>\n",
       "      <th>29</th>\n",
       "      <td>-0.000098</td>\n",
       "      <td>-0.000190</td>\n",
       "      <td>-0.000172</td>\n",
       "      <td>-0.000150</td>\n",
       "      <td>-0.000160</td>\n",
       "      <td>-0.000148</td>\n",
       "      <td>-0.000135</td>\n",
       "      <td>-0.000143</td>\n",
       "      <td>-0.000091</td>\n",
       "      <td>-0.000135</td>\n",
       "      <td>...</td>\n",
       "      <td>-0.000117</td>\n",
       "      <td>-0.000011</td>\n",
       "      <td>0.000021</td>\n",
       "      <td>-0.000100</td>\n",
       "      <td>-0.000139</td>\n",
       "      <td>-0.000114</td>\n",
       "      <td>-0.000117</td>\n",
       "      <td>-0.000079</td>\n",
       "      <td>-0.000042</td>\n",
       "      <td>-0.000099</td>\n",
       "    </tr>\n",
       "    <tr>\n",
       "      <th>30</th>\n",
       "      <td>-0.000116</td>\n",
       "      <td>-0.000181</td>\n",
       "      <td>-0.000179</td>\n",
       "      <td>-0.000162</td>\n",
       "      <td>-0.000170</td>\n",
       "      <td>-0.000167</td>\n",
       "      <td>-0.000145</td>\n",
       "      <td>-0.000152</td>\n",
       "      <td>-0.000113</td>\n",
       "      <td>-0.000129</td>\n",
       "      <td>...</td>\n",
       "      <td>-0.000305</td>\n",
       "      <td>-0.000127</td>\n",
       "      <td>-0.000137</td>\n",
       "      <td>-0.000121</td>\n",
       "      <td>-0.000156</td>\n",
       "      <td>-0.000156</td>\n",
       "      <td>-0.000141</td>\n",
       "      <td>-0.000088</td>\n",
       "      <td>-0.000106</td>\n",
       "      <td>-0.000143</td>\n",
       "    </tr>\n",
       "    <tr>\n",
       "      <th>31</th>\n",
       "      <td>-0.000116</td>\n",
       "      <td>-0.000178</td>\n",
       "      <td>-0.000189</td>\n",
       "      <td>-0.000153</td>\n",
       "      <td>-0.000150</td>\n",
       "      <td>-0.000168</td>\n",
       "      <td>-0.000148</td>\n",
       "      <td>-0.000135</td>\n",
       "      <td>-0.000107</td>\n",
       "      <td>-0.000130</td>\n",
       "      <td>...</td>\n",
       "      <td>-0.000168</td>\n",
       "      <td>-0.000045</td>\n",
       "      <td>-0.000024</td>\n",
       "      <td>-0.000094</td>\n",
       "      <td>-0.000135</td>\n",
       "      <td>-0.000122</td>\n",
       "      <td>-0.000113</td>\n",
       "      <td>-0.000082</td>\n",
       "      <td>-0.000057</td>\n",
       "      <td>-0.000109</td>\n",
       "    </tr>\n",
       "    <tr>\n",
       "      <th>32</th>\n",
       "      <td>-0.000102</td>\n",
       "      <td>-0.000151</td>\n",
       "      <td>-0.000154</td>\n",
       "      <td>-0.000143</td>\n",
       "      <td>-0.000146</td>\n",
       "      <td>-0.000141</td>\n",
       "      <td>-0.000128</td>\n",
       "      <td>-0.000131</td>\n",
       "      <td>-0.000105</td>\n",
       "      <td>-0.000106</td>\n",
       "      <td>...</td>\n",
       "      <td>-0.000284</td>\n",
       "      <td>-0.000108</td>\n",
       "      <td>-0.000131</td>\n",
       "      <td>-0.000094</td>\n",
       "      <td>-0.000102</td>\n",
       "      <td>-0.000103</td>\n",
       "      <td>-0.000076</td>\n",
       "      <td>-0.000029</td>\n",
       "      <td>-0.000043</td>\n",
       "      <td>-0.000089</td>\n",
       "    </tr>\n",
       "    <tr>\n",
       "      <th>33</th>\n",
       "      <td>-0.000069</td>\n",
       "      <td>-0.000146</td>\n",
       "      <td>-0.000142</td>\n",
       "      <td>-0.000113</td>\n",
       "      <td>-0.000126</td>\n",
       "      <td>-0.000134</td>\n",
       "      <td>-0.000100</td>\n",
       "      <td>-0.000114</td>\n",
       "      <td>-0.000069</td>\n",
       "      <td>-0.000099</td>\n",
       "      <td>...</td>\n",
       "      <td>-0.000125</td>\n",
       "      <td>-0.000029</td>\n",
       "      <td>-0.000005</td>\n",
       "      <td>-0.000073</td>\n",
       "      <td>-0.000099</td>\n",
       "      <td>-0.000099</td>\n",
       "      <td>-0.000078</td>\n",
       "      <td>-0.000063</td>\n",
       "      <td>-0.000041</td>\n",
       "      <td>-0.000074</td>\n",
       "    </tr>\n",
       "  </tbody>\n",
       "</table>\n",
       "<p>34 rows × 3648 columns</p>\n",
       "</div>"
      ],
      "text/plain": [
       "    216.330000  216.370000  216.410000  216.450000  216.490000  216.520000  \\\n",
       "0    -0.000123   -0.000190   -0.000193   -0.000180   -0.000167   -0.000175   \n",
       "1    -0.000113   -0.000197   -0.000198   -0.000189   -0.000172   -0.000178   \n",
       "2    -0.000188   -0.000264   -0.000258   -0.000254   -0.000230   -0.000240   \n",
       "3    -0.000180   -0.000271   -0.000281   -0.000268   -0.000218   -0.000235   \n",
       "4    -0.000123   -0.000203   -0.000209   -0.000195   -0.000176   -0.000181   \n",
       "5    -0.000118   -0.000194   -0.000193   -0.000177   -0.000161   -0.000166   \n",
       "6    -0.000112   -0.000189   -0.000190   -0.000178   -0.000161   -0.000167   \n",
       "7    -0.000111   -0.000187   -0.000190   -0.000185   -0.000159   -0.000174   \n",
       "8    -0.000120   -0.000223   -0.000233   -0.000224   -0.000186   -0.000201   \n",
       "9    -0.000114   -0.000176   -0.000182   -0.000168   -0.000154   -0.000157   \n",
       "10   -0.000141   -0.000235   -0.000240   -0.000227   -0.000193   -0.000202   \n",
       "11   -0.000181   -0.000277   -0.000281   -0.000279   -0.000229   -0.000253   \n",
       "12   -0.000201   -0.000316   -0.000305   -0.000288   -0.000288   -0.000287   \n",
       "13   -0.000312   -0.000394   -0.000378   -0.000377   -0.000347   -0.000336   \n",
       "14   -0.000196   -0.000275   -0.000284   -0.000255   -0.000244   -0.000233   \n",
       "15   -0.000191   -0.000282   -0.000275   -0.000248   -0.000246   -0.000215   \n",
       "16   -0.000245   -0.000336   -0.000331   -0.000304   -0.000296   -0.000291   \n",
       "17   -0.000155   -0.000236   -0.000231   -0.000221   -0.000218   -0.000213   \n",
       "18   -0.000226   -0.000318   -0.000308   -0.000299   -0.000280   -0.000284   \n",
       "19   -0.000217   -0.000302   -0.000297   -0.000288   -0.000270   -0.000271   \n",
       "20   -0.000304   -0.000381   -0.000385   -0.000369   -0.000365   -0.000361   \n",
       "21   -0.000364   -0.000426   -0.000421   -0.000415   -0.000403   -0.000393   \n",
       "22   -0.000097   -0.000180   -0.000166   -0.000152   -0.000145   -0.000150   \n",
       "23   -0.000146   -0.000209   -0.000205   -0.000191   -0.000190   -0.000193   \n",
       "24   -0.000230   -0.000326   -0.000334   -0.000322   -0.000260   -0.000278   \n",
       "25   -0.000035   -0.000116   -0.000126   -0.000099   -0.000099   -0.000096   \n",
       "26   -0.000064   -0.000139   -0.000145   -0.000125   -0.000110   -0.000125   \n",
       "27   -0.000199   -0.000276   -0.000280   -0.000267   -0.000234   -0.000243   \n",
       "28   -0.000078   -0.000199   -0.000179   -0.000162   -0.000168   -0.000163   \n",
       "29   -0.000098   -0.000190   -0.000172   -0.000150   -0.000160   -0.000148   \n",
       "30   -0.000116   -0.000181   -0.000179   -0.000162   -0.000170   -0.000167   \n",
       "31   -0.000116   -0.000178   -0.000189   -0.000153   -0.000150   -0.000168   \n",
       "32   -0.000102   -0.000151   -0.000154   -0.000143   -0.000146   -0.000141   \n",
       "33   -0.000069   -0.000146   -0.000142   -0.000113   -0.000126   -0.000134   \n",
       "\n",
       "    216.560000  216.600000  216.640000  216.680000  ...  340.120000  \\\n",
       "0    -0.000158   -0.000154   -0.000092   -0.000049  ...   -0.000368   \n",
       "1    -0.000161   -0.000159   -0.000094   -0.000028  ...   -0.000243   \n",
       "2    -0.000217   -0.000199   -0.000134   -0.000069  ...   -0.000289   \n",
       "3    -0.000231   -0.000210   -0.000098    0.000083  ...   -0.000121   \n",
       "4    -0.000169   -0.000159   -0.000086    0.000015  ...   -0.000230   \n",
       "5    -0.000167   -0.000148   -0.000088   -0.000009  ...   -0.000292   \n",
       "6    -0.000161   -0.000148   -0.000078    0.000017  ...   -0.000230   \n",
       "7    -0.000163   -0.000152   -0.000079   -0.000001  ...   -0.000257   \n",
       "8    -0.000187   -0.000183   -0.000091    0.000003  ...   -0.000251   \n",
       "9    -0.000150   -0.000136   -0.000075    0.000002  ...   -0.000240   \n",
       "10   -0.000198   -0.000181   -0.000078    0.000075  ...   -0.000247   \n",
       "11   -0.000239   -0.000222   -0.000127    0.000007  ...   -0.000286   \n",
       "12   -0.000244   -0.000238   -0.000186   -0.000226  ...   -0.000406   \n",
       "13   -0.000287   -0.000258   -0.000233   -0.000285  ...   -0.000539   \n",
       "14   -0.000168   -0.000125   -0.000098   -0.000165  ...   -0.000344   \n",
       "15   -0.000149   -0.000103   -0.000082   -0.000163  ...   -0.000616   \n",
       "16   -0.000245   -0.000196   -0.000177   -0.000225  ...   -0.000425   \n",
       "17   -0.000190   -0.000186   -0.000156   -0.000176  ...   -0.000485   \n",
       "18   -0.000210   -0.000196   -0.000147   -0.000210  ...   -0.000394   \n",
       "19   -0.000247   -0.000234   -0.000201   -0.000236  ...   -0.000607   \n",
       "20   -0.000312   -0.000287   -0.000263   -0.000299  ...   -0.000723   \n",
       "21   -0.000347   -0.000310   -0.000284   -0.000314  ...   -0.000364   \n",
       "22   -0.000139   -0.000139   -0.000097   -0.000107  ...   -0.000183   \n",
       "23   -0.000179   -0.000175   -0.000133   -0.000133  ...   -0.000299   \n",
       "24   -0.000280   -0.000253   -0.000128    0.000092  ...   -0.000115   \n",
       "25   -0.000092   -0.000081   -0.000034   -0.000053  ...   -0.000207   \n",
       "26   -0.000098   -0.000104   -0.000065   -0.000080  ...   -0.000252   \n",
       "27   -0.000240   -0.000216   -0.000129   -0.000022  ...   -0.000181   \n",
       "28   -0.000142   -0.000124   -0.000102   -0.000126  ...   -0.000146   \n",
       "29   -0.000135   -0.000143   -0.000091   -0.000135  ...   -0.000117   \n",
       "30   -0.000145   -0.000152   -0.000113   -0.000129  ...   -0.000305   \n",
       "31   -0.000148   -0.000135   -0.000107   -0.000130  ...   -0.000168   \n",
       "32   -0.000128   -0.000131   -0.000105   -0.000106  ...   -0.000284   \n",
       "33   -0.000100   -0.000114   -0.000069   -0.000099  ...   -0.000125   \n",
       "\n",
       "    340.150000  340.170000  340.200000  340.230000  340.260000  340.290000  \\\n",
       "0    -0.000105   -0.000088   -0.000044   -0.000081   -0.000179   -0.000210   \n",
       "1     0.000053    0.000071    0.000137    0.000094   -0.000045   -0.000065   \n",
       "2     0.000000    0.000001    0.000086    0.000024   -0.000082   -0.000087   \n",
       "3     0.000260    0.000330    0.000491    0.000452    0.000228    0.000163   \n",
       "4     0.000075    0.000103    0.000188    0.000138   -0.000007   -0.000064   \n",
       "5     0.000013    0.000025    0.000109    0.000051   -0.000085   -0.000133   \n",
       "6     0.000079    0.000090    0.000200    0.000146   -0.000006   -0.000055   \n",
       "7     0.000067    0.000067    0.000164    0.000103   -0.000044   -0.000090   \n",
       "8     0.000117    0.000177    0.000307    0.000278    0.000088    0.000028   \n",
       "9     0.000022    0.000020    0.000098    0.000056   -0.000054   -0.000083   \n",
       "10    0.000169    0.000247    0.000461    0.000482    0.000343    0.000328   \n",
       "11    0.000141    0.000210    0.000437    0.000468    0.000366    0.000377   \n",
       "12   -0.000091    0.000112    0.000385    0.000683    0.000995    0.001282   \n",
       "13   -0.000178    0.000007    0.000326    0.000639    0.000947    0.001250   \n",
       "14   -0.000009    0.000254    0.000578    0.000944    0.001331    0.001700   \n",
       "15   -0.000207    0.000089    0.000571    0.001125    0.001640    0.002128   \n",
       "16    0.000013    0.000328    0.000858    0.001419    0.001968    0.002458   \n",
       "17   -0.000198   -0.000036    0.000217    0.000489    0.000774    0.001046   \n",
       "18    0.000033    0.000353    0.000798    0.001317    0.001778    0.002238   \n",
       "19   -0.000270   -0.000068    0.000224    0.000559    0.000899    0.001218   \n",
       "20   -0.000182    0.000168    0.000805    0.001447    0.002018    0.002600   \n",
       "21    0.000232    0.000716    0.001590    0.002468    0.003263    0.004033   \n",
       "22   -0.000038    0.000042    0.000069    0.000158    0.000270    0.000382   \n",
       "23   -0.000054    0.000011    0.000149    0.000251    0.000368    0.000494   \n",
       "24    0.000396    0.000541    0.000856    0.000944    0.000821    0.000833   \n",
       "25   -0.000088   -0.000046   -0.000083   -0.000114   -0.000083   -0.000065   \n",
       "26   -0.000087   -0.000036   -0.000036   -0.000015    0.000034    0.000085   \n",
       "27    0.000233    0.000376    0.000689    0.000868    0.000925    0.001082   \n",
       "28   -0.000019    0.000001   -0.000092   -0.000132   -0.000118   -0.000110   \n",
       "29   -0.000011    0.000021   -0.000100   -0.000139   -0.000114   -0.000117   \n",
       "30   -0.000127   -0.000137   -0.000121   -0.000156   -0.000156   -0.000141   \n",
       "31   -0.000045   -0.000024   -0.000094   -0.000135   -0.000122   -0.000113   \n",
       "32   -0.000108   -0.000131   -0.000094   -0.000102   -0.000103   -0.000076   \n",
       "33   -0.000029   -0.000005   -0.000073   -0.000099   -0.000099   -0.000078   \n",
       "\n",
       "    340.320000  340.340000  340.370000  \n",
       "0    -0.000154   -0.000079   -0.000002  \n",
       "1     0.000005    0.000092    0.000185  \n",
       "2    -0.000016    0.000062    0.000141  \n",
       "3     0.000269    0.000427    0.000620  \n",
       "4     0.000015    0.000124    0.000264  \n",
       "5    -0.000057    0.000047    0.000167  \n",
       "6     0.000025    0.000135    0.000278  \n",
       "7    -0.000017    0.000089    0.000228  \n",
       "8     0.000113    0.000258    0.000416  \n",
       "9    -0.000016    0.000064    0.000165  \n",
       "10    0.000435    0.000556    0.000670  \n",
       "11    0.000519    0.000586    0.000638  \n",
       "12    0.001487    0.001233    0.000669  \n",
       "13    0.001461    0.001198    0.000642  \n",
       "14    0.001909    0.001601    0.000945  \n",
       "15    0.002435    0.002041    0.001128  \n",
       "16    0.002767    0.002320    0.001390  \n",
       "17    0.001224    0.000984    0.000475  \n",
       "18    0.002532    0.002132    0.001289  \n",
       "19    0.001414    0.001148    0.000533  \n",
       "20    0.002920    0.002421    0.001401  \n",
       "21    0.004451    0.003810    0.002414  \n",
       "22    0.000476    0.000400    0.000155  \n",
       "23    0.000595    0.000517    0.000286  \n",
       "24    0.000973    0.001058    0.001145  \n",
       "25   -0.000015    0.000008   -0.000047  \n",
       "26    0.000150    0.000139    0.000015  \n",
       "27    0.001278    0.001221    0.001013  \n",
       "28   -0.000082   -0.000064   -0.000101  \n",
       "29   -0.000079   -0.000042   -0.000099  \n",
       "30   -0.000088   -0.000106   -0.000143  \n",
       "31   -0.000082   -0.000057   -0.000109  \n",
       "32   -0.000029   -0.000043   -0.000089  \n",
       "33   -0.000063   -0.000041   -0.000074  \n",
       "\n",
       "[34 rows x 3648 columns]"
      ]
     },
     "execution_count": 6,
     "metadata": {},
     "output_type": "execute_result"
    }
   ],
   "source": [
    "x_df = pd.read_csv('../avg_base_wl_norm_28-02.csv', sep = ',')\n",
    "values = x_df.values\n",
    "#wl=x_df.columns.values\n",
    "#print(wl.shape)\n",
    "\n",
    "#print(values)\n",
    "#print(type(values))\n",
    "print(values.shape)\n",
    "print(values[1].shape)\n",
    "print(len(values))\n",
    "x_df"
   ]
  },
  {
   "cell_type": "code",
   "execution_count": 7,
   "metadata": {},
   "outputs": [
    {
     "name": "stdout",
     "output_type": "stream",
     "text": [
      "[[216.33]\n",
      " [216.37]\n",
      " [216.41]\n",
      " ...\n",
      " [340.32]\n",
      " [340.34]\n",
      " [340.37]]\n"
     ]
    },
    {
     "data": {
      "image/png": "[encoded data removed]",
      "text/plain": [
       "<Figure size 432x288 with 1 Axes>"
      ]
     },
     "metadata": {
      "needs_background": "light"
     },
     "output_type": "display_data"
    }
   ],
   "source": [
    "#This is just for visualizing the various plots of the samples\n",
    "\n",
    "mat = scipy.io.loadmat(\"../data/H01.mat\")\n",
    "wl= mat[\"wl\"]\n",
    "print(wl)\n",
    "\n",
    "for i in range(len(values)):\n",
    "    plt.plot(wl, values[i])\n",
    "    #plt.show() #comment this one to have unique plot instead of multiple ones\n",
    "#range(len(dfs))\n",
    "#\"\"\"\n",
    "\n",
    "\n"
   ]
  },
  {
   "cell_type": "code",
   "execution_count": 44,
   "metadata": {
    "scrolled": true
   },
   "outputs": [
    {
     "name": "stdout",
     "output_type": "stream",
     "text": [
      "<class 'pandas.core.frame.DataFrame'>\n",
      "(34, 12)\n"
     ]
    },
    {
     "data": {
      "text/html": [
       "<div>\n",
       "<style scoped>\n",
       "    .dataframe tbody tr th:only-of-type {\n",
       "        vertical-align: middle;\n",
       "    }\n",
       "\n",
       "    .dataframe tbody tr th {\n",
       "        vertical-align: top;\n",
       "    }\n",
       "\n",
       "    .dataframe thead th {\n",
       "        text-align: right;\n",
       "    }\n",
       "</style>\n",
       "<table border=\"1\" class=\"dataframe\">\n",
       "  <thead>\n",
       "    <tr style=\"text-align: right;\">\n",
       "      <th></th>\n",
       "      <th>Sample</th>\n",
       "      <th>CaO</th>\n",
       "      <th>CaF2</th>\n",
       "      <th>MgO</th>\n",
       "      <th>Al2O3</th>\n",
       "      <th>SiO2</th>\n",
       "      <th>FeO</th>\n",
       "      <th>MnO</th>\n",
       "      <th>Cr2O3</th>\n",
       "      <th>P2O5</th>\n",
       "      <th>V2O5</th>\n",
       "      <th>TiO2</th>\n",
       "    </tr>\n",
       "  </thead>\n",
       "  <tbody>\n",
       "    <tr>\n",
       "      <th>0</th>\n",
       "      <td>H01</td>\n",
       "      <td>37.8</td>\n",
       "      <td>0.18</td>\n",
       "      <td>25.00</td>\n",
       "      <td>9.61</td>\n",
       "      <td>13.20</td>\n",
       "      <td>18.30</td>\n",
       "      <td>1.99</td>\n",
       "      <td>0.20</td>\n",
       "      <td>0.23</td>\n",
       "      <td>0.18</td>\n",
       "      <td>1.03</td>\n",
       "    </tr>\n",
       "    <tr>\n",
       "      <th>1</th>\n",
       "      <td>H02</td>\n",
       "      <td>44.5</td>\n",
       "      <td>0.22</td>\n",
       "      <td>18.00</td>\n",
       "      <td>5.04</td>\n",
       "      <td>14.20</td>\n",
       "      <td>18.90</td>\n",
       "      <td>2.10</td>\n",
       "      <td>0.28</td>\n",
       "      <td>0.26</td>\n",
       "      <td>0.06</td>\n",
       "      <td>1.07</td>\n",
       "    </tr>\n",
       "    <tr>\n",
       "      <th>2</th>\n",
       "      <td>H03</td>\n",
       "      <td>38.5</td>\n",
       "      <td>0.22</td>\n",
       "      <td>21.10</td>\n",
       "      <td>6.14</td>\n",
       "      <td>10.60</td>\n",
       "      <td>20.20</td>\n",
       "      <td>5.82</td>\n",
       "      <td>0.61</td>\n",
       "      <td>0.40</td>\n",
       "      <td>0.14</td>\n",
       "      <td>0.86</td>\n",
       "    </tr>\n",
       "    <tr>\n",
       "      <th>3</th>\n",
       "      <td>H04</td>\n",
       "      <td>38.4</td>\n",
       "      <td>0.04</td>\n",
       "      <td>15.50</td>\n",
       "      <td>4.07</td>\n",
       "      <td>12.80</td>\n",
       "      <td>26.70</td>\n",
       "      <td>3.35</td>\n",
       "      <td>0.52</td>\n",
       "      <td>0.31</td>\n",
       "      <td>0.08</td>\n",
       "      <td>1.07</td>\n",
       "    </tr>\n",
       "    <tr>\n",
       "      <th>4</th>\n",
       "      <td>H05</td>\n",
       "      <td>43.2</td>\n",
       "      <td>0.18</td>\n",
       "      <td>17.10</td>\n",
       "      <td>4.14</td>\n",
       "      <td>14.80</td>\n",
       "      <td>21.70</td>\n",
       "      <td>1.72</td>\n",
       "      <td>0.20</td>\n",
       "      <td>0.29</td>\n",
       "      <td>0.18</td>\n",
       "      <td>1.07</td>\n",
       "    </tr>\n",
       "    <tr>\n",
       "      <th>5</th>\n",
       "      <td>H06</td>\n",
       "      <td>45.3</td>\n",
       "      <td>0.23</td>\n",
       "      <td>15.90</td>\n",
       "      <td>4.34</td>\n",
       "      <td>16.50</td>\n",
       "      <td>18.90</td>\n",
       "      <td>1.29</td>\n",
       "      <td>0.10</td>\n",
       "      <td>0.30</td>\n",
       "      <td>0.11</td>\n",
       "      <td>1.10</td>\n",
       "    </tr>\n",
       "    <tr>\n",
       "      <th>6</th>\n",
       "      <td>H07</td>\n",
       "      <td>46.1</td>\n",
       "      <td>0.25</td>\n",
       "      <td>14.30</td>\n",
       "      <td>4.12</td>\n",
       "      <td>16.20</td>\n",
       "      <td>19.00</td>\n",
       "      <td>1.21</td>\n",
       "      <td>0.09</td>\n",
       "      <td>0.27</td>\n",
       "      <td>0.06</td>\n",
       "      <td>1.08</td>\n",
       "    </tr>\n",
       "    <tr>\n",
       "      <th>7</th>\n",
       "      <td>H08</td>\n",
       "      <td>45.1</td>\n",
       "      <td>0.19</td>\n",
       "      <td>13.00</td>\n",
       "      <td>4.05</td>\n",
       "      <td>16.10</td>\n",
       "      <td>21.00</td>\n",
       "      <td>1.26</td>\n",
       "      <td>0.10</td>\n",
       "      <td>0.28</td>\n",
       "      <td>0.06</td>\n",
       "      <td>1.09</td>\n",
       "    </tr>\n",
       "    <tr>\n",
       "      <th>8</th>\n",
       "      <td>H09</td>\n",
       "      <td>32.8</td>\n",
       "      <td>0.01</td>\n",
       "      <td>10.60</td>\n",
       "      <td>7.30</td>\n",
       "      <td>14.30</td>\n",
       "      <td>33.20</td>\n",
       "      <td>2.75</td>\n",
       "      <td>0.42</td>\n",
       "      <td>0.32</td>\n",
       "      <td>0.09</td>\n",
       "      <td>1.12</td>\n",
       "    </tr>\n",
       "    <tr>\n",
       "      <th>9</th>\n",
       "      <td>H10</td>\n",
       "      <td>42.4</td>\n",
       "      <td>0.24</td>\n",
       "      <td>19.30</td>\n",
       "      <td>6.50</td>\n",
       "      <td>14.70</td>\n",
       "      <td>17.40</td>\n",
       "      <td>2.72</td>\n",
       "      <td>0.31</td>\n",
       "      <td>0.28</td>\n",
       "      <td>0.09</td>\n",
       "      <td>1.06</td>\n",
       "    </tr>\n",
       "    <tr>\n",
       "      <th>10</th>\n",
       "      <td>H11</td>\n",
       "      <td>38.4</td>\n",
       "      <td>0.04</td>\n",
       "      <td>11.20</td>\n",
       "      <td>5.02</td>\n",
       "      <td>14.00</td>\n",
       "      <td>26.10</td>\n",
       "      <td>2.84</td>\n",
       "      <td>2.11</td>\n",
       "      <td>0.34</td>\n",
       "      <td>0.09</td>\n",
       "      <td>0.91</td>\n",
       "    </tr>\n",
       "    <tr>\n",
       "      <th>11</th>\n",
       "      <td>H12</td>\n",
       "      <td>36.4</td>\n",
       "      <td>0.01</td>\n",
       "      <td>17.40</td>\n",
       "      <td>4.31</td>\n",
       "      <td>12.80</td>\n",
       "      <td>27.70</td>\n",
       "      <td>2.86</td>\n",
       "      <td>2.59</td>\n",
       "      <td>0.27</td>\n",
       "      <td>0.09</td>\n",
       "      <td>0.77</td>\n",
       "    </tr>\n",
       "    <tr>\n",
       "      <th>12</th>\n",
       "      <td>O01</td>\n",
       "      <td>43.7</td>\n",
       "      <td>1.30</td>\n",
       "      <td>7.90</td>\n",
       "      <td>3.20</td>\n",
       "      <td>33.30</td>\n",
       "      <td>1.30</td>\n",
       "      <td>3.00</td>\n",
       "      <td>3.70</td>\n",
       "      <td>0.01</td>\n",
       "      <td>0.11</td>\n",
       "      <td>0.80</td>\n",
       "    </tr>\n",
       "    <tr>\n",
       "      <th>13</th>\n",
       "      <td>O02</td>\n",
       "      <td>41.3</td>\n",
       "      <td>1.20</td>\n",
       "      <td>7.90</td>\n",
       "      <td>3.80</td>\n",
       "      <td>35.30</td>\n",
       "      <td>1.30</td>\n",
       "      <td>2.00</td>\n",
       "      <td>3.90</td>\n",
       "      <td>0.01</td>\n",
       "      <td>0.10</td>\n",
       "      <td>0.83</td>\n",
       "    </tr>\n",
       "    <tr>\n",
       "      <th>14</th>\n",
       "      <td>O03</td>\n",
       "      <td>44.6</td>\n",
       "      <td>1.10</td>\n",
       "      <td>9.60</td>\n",
       "      <td>2.80</td>\n",
       "      <td>35.30</td>\n",
       "      <td>0.90</td>\n",
       "      <td>1.30</td>\n",
       "      <td>2.70</td>\n",
       "      <td>0.01</td>\n",
       "      <td>0.07</td>\n",
       "      <td>0.80</td>\n",
       "    </tr>\n",
       "    <tr>\n",
       "      <th>15</th>\n",
       "      <td>O04</td>\n",
       "      <td>42.5</td>\n",
       "      <td>1.60</td>\n",
       "      <td>8.90</td>\n",
       "      <td>3.20</td>\n",
       "      <td>29.00</td>\n",
       "      <td>1.30</td>\n",
       "      <td>1.60</td>\n",
       "      <td>11.00</td>\n",
       "      <td>0.01</td>\n",
       "      <td>0.17</td>\n",
       "      <td>1.12</td>\n",
       "    </tr>\n",
       "    <tr>\n",
       "      <th>16</th>\n",
       "      <td>O05</td>\n",
       "      <td>39.2</td>\n",
       "      <td>1.10</td>\n",
       "      <td>8.40</td>\n",
       "      <td>3.70</td>\n",
       "      <td>34.30</td>\n",
       "      <td>1.70</td>\n",
       "      <td>1.30</td>\n",
       "      <td>9.30</td>\n",
       "      <td>0.01</td>\n",
       "      <td>0.11</td>\n",
       "      <td>0.92</td>\n",
       "    </tr>\n",
       "    <tr>\n",
       "      <th>17</th>\n",
       "      <td>O06</td>\n",
       "      <td>44.2</td>\n",
       "      <td>1.10</td>\n",
       "      <td>10.50</td>\n",
       "      <td>3.20</td>\n",
       "      <td>34.50</td>\n",
       "      <td>1.00</td>\n",
       "      <td>1.10</td>\n",
       "      <td>3.20</td>\n",
       "      <td>0.01</td>\n",
       "      <td>0.08</td>\n",
       "      <td>0.98</td>\n",
       "    </tr>\n",
       "    <tr>\n",
       "      <th>18</th>\n",
       "      <td>O07</td>\n",
       "      <td>44.1</td>\n",
       "      <td>1.10</td>\n",
       "      <td>9.10</td>\n",
       "      <td>3.70</td>\n",
       "      <td>32.50</td>\n",
       "      <td>2.00</td>\n",
       "      <td>2.00</td>\n",
       "      <td>4.50</td>\n",
       "      <td>0.01</td>\n",
       "      <td>0.12</td>\n",
       "      <td>0.71</td>\n",
       "    </tr>\n",
       "    <tr>\n",
       "      <th>19</th>\n",
       "      <td>O08</td>\n",
       "      <td>40.3</td>\n",
       "      <td>1.20</td>\n",
       "      <td>7.70</td>\n",
       "      <td>4.80</td>\n",
       "      <td>30.90</td>\n",
       "      <td>1.70</td>\n",
       "      <td>3.30</td>\n",
       "      <td>7.60</td>\n",
       "      <td>0.01</td>\n",
       "      <td>0.18</td>\n",
       "      <td>1.45</td>\n",
       "    </tr>\n",
       "    <tr>\n",
       "      <th>20</th>\n",
       "      <td>O09</td>\n",
       "      <td>37.5</td>\n",
       "      <td>1.40</td>\n",
       "      <td>6.80</td>\n",
       "      <td>4.10</td>\n",
       "      <td>27.80</td>\n",
       "      <td>2.50</td>\n",
       "      <td>3.50</td>\n",
       "      <td>12.90</td>\n",
       "      <td>0.01</td>\n",
       "      <td>0.23</td>\n",
       "      <td>1.93</td>\n",
       "    </tr>\n",
       "    <tr>\n",
       "      <th>21</th>\n",
       "      <td>O10</td>\n",
       "      <td>37.9</td>\n",
       "      <td>1.10</td>\n",
       "      <td>6.10</td>\n",
       "      <td>2.80</td>\n",
       "      <td>25.30</td>\n",
       "      <td>1.70</td>\n",
       "      <td>2.80</td>\n",
       "      <td>17.80</td>\n",
       "      <td>0.02</td>\n",
       "      <td>0.28</td>\n",
       "      <td>0.74</td>\n",
       "    </tr>\n",
       "    <tr>\n",
       "      <th>22</th>\n",
       "      <td>U01</td>\n",
       "      <td>24.2</td>\n",
       "      <td>3.04</td>\n",
       "      <td>14.10</td>\n",
       "      <td>10.90</td>\n",
       "      <td>24.30</td>\n",
       "      <td>2.45</td>\n",
       "      <td>4.39</td>\n",
       "      <td>15.40</td>\n",
       "      <td>0.00</td>\n",
       "      <td>0.96</td>\n",
       "      <td>0.21</td>\n",
       "    </tr>\n",
       "    <tr>\n",
       "      <th>23</th>\n",
       "      <td>U02</td>\n",
       "      <td>39.8</td>\n",
       "      <td>3.63</td>\n",
       "      <td>11.80</td>\n",
       "      <td>7.91</td>\n",
       "      <td>21.50</td>\n",
       "      <td>3.87</td>\n",
       "      <td>1.36</td>\n",
       "      <td>6.98</td>\n",
       "      <td>0.00</td>\n",
       "      <td>3.00</td>\n",
       "      <td>0.28</td>\n",
       "    </tr>\n",
       "    <tr>\n",
       "      <th>24</th>\n",
       "      <td>U03</td>\n",
       "      <td>33.4</td>\n",
       "      <td>1.72</td>\n",
       "      <td>7.20</td>\n",
       "      <td>6.70</td>\n",
       "      <td>5.85</td>\n",
       "      <td>35.00</td>\n",
       "      <td>3.79</td>\n",
       "      <td>2.05</td>\n",
       "      <td>0.20</td>\n",
       "      <td>0.30</td>\n",
       "      <td>0.45</td>\n",
       "    </tr>\n",
       "    <tr>\n",
       "      <th>25</th>\n",
       "      <td>U04</td>\n",
       "      <td>41.0</td>\n",
       "      <td>2.81</td>\n",
       "      <td>18.40</td>\n",
       "      <td>5.72</td>\n",
       "      <td>25.40</td>\n",
       "      <td>3.46</td>\n",
       "      <td>0.49</td>\n",
       "      <td>1.08</td>\n",
       "      <td>0.00</td>\n",
       "      <td>0.40</td>\n",
       "      <td>0.22</td>\n",
       "    </tr>\n",
       "    <tr>\n",
       "      <th>26</th>\n",
       "      <td>U05</td>\n",
       "      <td>31.3</td>\n",
       "      <td>3.95</td>\n",
       "      <td>19.90</td>\n",
       "      <td>9.52</td>\n",
       "      <td>28.00</td>\n",
       "      <td>2.86</td>\n",
       "      <td>0.70</td>\n",
       "      <td>3.00</td>\n",
       "      <td>0.00</td>\n",
       "      <td>0.00</td>\n",
       "      <td>0.45</td>\n",
       "    </tr>\n",
       "    <tr>\n",
       "      <th>27</th>\n",
       "      <td>U06</td>\n",
       "      <td>33.2</td>\n",
       "      <td>2.19</td>\n",
       "      <td>14.90</td>\n",
       "      <td>8.57</td>\n",
       "      <td>13.90</td>\n",
       "      <td>12.80</td>\n",
       "      <td>5.32</td>\n",
       "      <td>6.99</td>\n",
       "      <td>0.00</td>\n",
       "      <td>0.40</td>\n",
       "      <td>0.21</td>\n",
       "    </tr>\n",
       "    <tr>\n",
       "      <th>28</th>\n",
       "      <td>U07</td>\n",
       "      <td>51.4</td>\n",
       "      <td>0.00</td>\n",
       "      <td>8.90</td>\n",
       "      <td>26.90</td>\n",
       "      <td>11.60</td>\n",
       "      <td>0.27</td>\n",
       "      <td>0.00</td>\n",
       "      <td>0.15</td>\n",
       "      <td>0.00</td>\n",
       "      <td>0.00</td>\n",
       "      <td>0.12</td>\n",
       "    </tr>\n",
       "    <tr>\n",
       "      <th>29</th>\n",
       "      <td>U08</td>\n",
       "      <td>53.0</td>\n",
       "      <td>0.00</td>\n",
       "      <td>8.94</td>\n",
       "      <td>25.50</td>\n",
       "      <td>11.80</td>\n",
       "      <td>0.14</td>\n",
       "      <td>0.00</td>\n",
       "      <td>0.00</td>\n",
       "      <td>0.00</td>\n",
       "      <td>0.00</td>\n",
       "      <td>0.00</td>\n",
       "    </tr>\n",
       "    <tr>\n",
       "      <th>30</th>\n",
       "      <td>U09</td>\n",
       "      <td>40.5</td>\n",
       "      <td>2.05</td>\n",
       "      <td>19.90</td>\n",
       "      <td>6.05</td>\n",
       "      <td>28.50</td>\n",
       "      <td>1.39</td>\n",
       "      <td>0.42</td>\n",
       "      <td>0.92</td>\n",
       "      <td>0.00</td>\n",
       "      <td>0.22</td>\n",
       "      <td>0.25</td>\n",
       "    </tr>\n",
       "    <tr>\n",
       "      <th>31</th>\n",
       "      <td>U10</td>\n",
       "      <td>50.1</td>\n",
       "      <td>0.00</td>\n",
       "      <td>14.00</td>\n",
       "      <td>28.40</td>\n",
       "      <td>5.99</td>\n",
       "      <td>0.45</td>\n",
       "      <td>0.00</td>\n",
       "      <td>0.15</td>\n",
       "      <td>0.00</td>\n",
       "      <td>0.19</td>\n",
       "      <td>0.14</td>\n",
       "    </tr>\n",
       "    <tr>\n",
       "      <th>32</th>\n",
       "      <td>U11</td>\n",
       "      <td>40.1</td>\n",
       "      <td>2.43</td>\n",
       "      <td>20.00</td>\n",
       "      <td>6.79</td>\n",
       "      <td>27.50</td>\n",
       "      <td>1.37</td>\n",
       "      <td>0.41</td>\n",
       "      <td>0.89</td>\n",
       "      <td>0.00</td>\n",
       "      <td>0.22</td>\n",
       "      <td>0.24</td>\n",
       "    </tr>\n",
       "    <tr>\n",
       "      <th>33</th>\n",
       "      <td>U12</td>\n",
       "      <td>44.5</td>\n",
       "      <td>0.00</td>\n",
       "      <td>24.40</td>\n",
       "      <td>22.10</td>\n",
       "      <td>7.54</td>\n",
       "      <td>0.47</td>\n",
       "      <td>0.00</td>\n",
       "      <td>0.00</td>\n",
       "      <td>0.00</td>\n",
       "      <td>0.00</td>\n",
       "      <td>0.00</td>\n",
       "    </tr>\n",
       "  </tbody>\n",
       "</table>\n",
       "</div>"
      ],
      "text/plain": [
       "   Sample   CaO  CaF2    MgO  Al2O3   SiO2    FeO   MnO  Cr2O3  P2O5  V2O5  \\\n",
       "0     H01  37.8  0.18  25.00   9.61  13.20  18.30  1.99   0.20  0.23  0.18   \n",
       "1     H02  44.5  0.22  18.00   5.04  14.20  18.90  2.10   0.28  0.26  0.06   \n",
       "2     H03  38.5  0.22  21.10   6.14  10.60  20.20  5.82   0.61  0.40  0.14   \n",
       "3     H04  38.4  0.04  15.50   4.07  12.80  26.70  3.35   0.52  0.31  0.08   \n",
       "4     H05  43.2  0.18  17.10   4.14  14.80  21.70  1.72   0.20  0.29  0.18   \n",
       "5     H06  45.3  0.23  15.90   4.34  16.50  18.90  1.29   0.10  0.30  0.11   \n",
       "6     H07  46.1  0.25  14.30   4.12  16.20  19.00  1.21   0.09  0.27  0.06   \n",
       "7     H08  45.1  0.19  13.00   4.05  16.10  21.00  1.26   0.10  0.28  0.06   \n",
       "8     H09  32.8  0.01  10.60   7.30  14.30  33.20  2.75   0.42  0.32  0.09   \n",
       "9     H10  42.4  0.24  19.30   6.50  14.70  17.40  2.72   0.31  0.28  0.09   \n",
       "10    H11  38.4  0.04  11.20   5.02  14.00  26.10  2.84   2.11  0.34  0.09   \n",
       "11    H12  36.4  0.01  17.40   4.31  12.80  27.70  2.86   2.59  0.27  0.09   \n",
       "12    O01  43.7  1.30   7.90   3.20  33.30   1.30  3.00   3.70  0.01  0.11   \n",
       "13    O02  41.3  1.20   7.90   3.80  35.30   1.30  2.00   3.90  0.01  0.10   \n",
       "14    O03  44.6  1.10   9.60   2.80  35.30   0.90  1.30   2.70  0.01  0.07   \n",
       "15    O04  42.5  1.60   8.90   3.20  29.00   1.30  1.60  11.00  0.01  0.17   \n",
       "16    O05  39.2  1.10   8.40   3.70  34.30   1.70  1.30   9.30  0.01  0.11   \n",
       "17    O06  44.2  1.10  10.50   3.20  34.50   1.00  1.10   3.20  0.01  0.08   \n",
       "18    O07  44.1  1.10   9.10   3.70  32.50   2.00  2.00   4.50  0.01  0.12   \n",
       "19    O08  40.3  1.20   7.70   4.80  30.90   1.70  3.30   7.60  0.01  0.18   \n",
       "20    O09  37.5  1.40   6.80   4.10  27.80   2.50  3.50  12.90  0.01  0.23   \n",
       "21    O10  37.9  1.10   6.10   2.80  25.30   1.70  2.80  17.80  0.02  0.28   \n",
       "22    U01  24.2  3.04  14.10  10.90  24.30   2.45  4.39  15.40  0.00  0.96   \n",
       "23    U02  39.8  3.63  11.80   7.91  21.50   3.87  1.36   6.98  0.00  3.00   \n",
       "24    U03  33.4  1.72   7.20   6.70   5.85  35.00  3.79   2.05  0.20  0.30   \n",
       "25    U04  41.0  2.81  18.40   5.72  25.40   3.46  0.49   1.08  0.00  0.40   \n",
       "26    U05  31.3  3.95  19.90   9.52  28.00   2.86  0.70   3.00  0.00  0.00   \n",
       "27    U06  33.2  2.19  14.90   8.57  13.90  12.80  5.32   6.99  0.00  0.40   \n",
       "28    U07  51.4  0.00   8.90  26.90  11.60   0.27  0.00   0.15  0.00  0.00   \n",
       "29    U08  53.0  0.00   8.94  25.50  11.80   0.14  0.00   0.00  0.00  0.00   \n",
       "30    U09  40.5  2.05  19.90   6.05  28.50   1.39  0.42   0.92  0.00  0.22   \n",
       "31    U10  50.1  0.00  14.00  28.40   5.99   0.45  0.00   0.15  0.00  0.19   \n",
       "32    U11  40.1  2.43  20.00   6.79  27.50   1.37  0.41   0.89  0.00  0.22   \n",
       "33    U12  44.5  0.00  24.40  22.10   7.54   0.47  0.00   0.00  0.00  0.00   \n",
       "\n",
       "    TiO2  \n",
       "0   1.03  \n",
       "1   1.07  \n",
       "2   0.86  \n",
       "3   1.07  \n",
       "4   1.07  \n",
       "5   1.10  \n",
       "6   1.08  \n",
       "7   1.09  \n",
       "8   1.12  \n",
       "9   1.06  \n",
       "10  0.91  \n",
       "11  0.77  \n",
       "12  0.80  \n",
       "13  0.83  \n",
       "14  0.80  \n",
       "15  1.12  \n",
       "16  0.92  \n",
       "17  0.98  \n",
       "18  0.71  \n",
       "19  1.45  \n",
       "20  1.93  \n",
       "21  0.74  \n",
       "22  0.21  \n",
       "23  0.28  \n",
       "24  0.45  \n",
       "25  0.22  \n",
       "26  0.45  \n",
       "27  0.21  \n",
       "28  0.12  \n",
       "29  0.00  \n",
       "30  0.25  \n",
       "31  0.14  \n",
       "32  0.24  \n",
       "33  0.00  "
      ]
     },
     "execution_count": 44,
     "metadata": {},
     "output_type": "execute_result"
    }
   ],
   "source": [
    "df_y = pd.read_csv('../concentration.csv', sep = ',')\n",
    "print(type(df_y))\n",
    "concentration=df_y.values\n",
    "print(concentration.shape)\n",
    "#print(concentration)\n",
    "\n",
    "y_values=df_y.values\n",
    "#y_all=pd.DataFrame(y_values[:,1:-2])\n",
    "#print(y_all)\n",
    "df_y"
   ]
  },
  {
   "cell_type": "code",
   "execution_count": 45,
   "metadata": {
    "scrolled": true
   },
   "outputs": [
    {
     "name": "stdout",
     "output_type": "stream",
     "text": [
      "[13.2 14.2 10.6 12.8 14.8 16.5 16.2 16.1 14.3 14.7 14.0 12.8 33.3 35.3\n",
      " 35.3 29.0 34.3 34.5 32.5 30.9 27.8 25.3 24.3 21.5 5.85 25.4 28.0 13.9\n",
      " 11.6 11.8 28.5 5.99 27.5 7.54]\n",
      "(34,)\n"
     ]
    }
   ],
   "source": [
    "y_val = concentration[:,5] #3-Mg, 4-Al, 5-Si, 6-Fe, 7-Mn\n",
    "print(y_val)\n",
    "print(y_val.shape)\n",
    "y_df= pd.DataFrame(y_val)\n",
    "#y_df"
   ]
  },
  {
   "cell_type": "code",
   "execution_count": null,
   "metadata": {},
   "outputs": [],
   "source": []
  },
  {
   "cell_type": "code",
   "execution_count": 10,
   "metadata": {},
   "outputs": [
    {
     "name": "stdout",
     "output_type": "stream",
     "text": [
      "(27, 3648) (27, 1)\n",
      "(7, 3648) (7, 1)\n",
      "       0\n",
      "0     25\n",
      "22  14.1\n",
      "5   15.9\n",
      "16   8.4\n",
      "31    14\n",
      "10  11.2\n",
      "32    20\n"
     ]
    }
   ],
   "source": [
    "X_train, X_test, y_train, y_test = train_test_split(x_df, y_df, test_size=0.2)\n",
    "print (X_train.shape, y_train.shape)\n",
    "print (X_test.shape, y_test.shape)\n",
    "print(y_test)"
   ]
  },
  {
   "cell_type": "code",
   "execution_count": null,
   "metadata": {},
   "outputs": [],
   "source": []
  },
  {
   "cell_type": "markdown",
   "metadata": {},
   "source": [
    "# Principal Components Analysis"
   ]
  },
  {
   "cell_type": "code",
   "execution_count": 11,
   "metadata": {},
   "outputs": [
    {
     "name": "stdout",
     "output_type": "stream",
     "text": [
      "(34, 3648)\n",
      "(3648,)\n",
      "34\n",
      "(34, 25)\n",
      "[45.88 73.26 83.23 90.16 92.99 94.89 96.26 97.37 98.08 98.73 99.   99.22\n",
      " 99.42 99.54 99.66 99.73 99.78 99.83 99.87 99.9  99.92 99.94 99.95 99.96\n",
      " 99.97]\n"
     ]
    }
   ],
   "source": [
    "n_components=25\n",
    "\n",
    "\n",
    "x = x_df.values\n",
    "print(x.shape)\n",
    "print(x[1].shape)\n",
    "print(len(x))\n",
    "\n",
    "\n",
    "# This has to be used later for regression, PCA is done on X only\n",
    "\"\"\"\n",
    "y_df = pd.read_csv('labels_aligned+.csv', sep = ',')\n",
    "concentration=y_df.values\n",
    "#print(concentration)\n",
    "multi_y = concentration[:,2:]\n",
    "#print (multi_y)\n",
    "print (multi_y.shape)\n",
    "multi_y= np.array(multi_y, dtype=np.float)\n",
    "y=np.around(multi_y, decimals=4)\n",
    "#print(y)\n",
    "\"\"\"\n",
    "\n",
    "# PCA\n",
    "\n",
    "X_std = StandardScaler().fit_transform(x)\n",
    "#print(X_std)\n",
    "\n",
    "pca = PCA(n_components= n_components)\n",
    "PC=pca.fit(X_std)\n",
    "\n",
    "principalComponents = pca.fit_transform(X_std)\n",
    "print(principalComponents.shape)\n",
    "#principalDf = pd.DataFrame(data = principalComponents, columns = ['principal component 1', 'principal component 2', 'principal component 3'])\n",
    "#print(principalDf)\n",
    "\n",
    "\n",
    "#print(pca.explained_variance_ratio_)\n",
    "print(np.cumsum(np.round(pca.explained_variance_ratio_, decimals=4)*100))\n",
    "#print(pca.singular_values_)"
   ]
  },
  {
   "cell_type": "code",
   "execution_count": 12,
   "metadata": {},
   "outputs": [
    {
     "name": "stdout",
     "output_type": "stream",
     "text": [
      "0.9167842056853994 -34.27471374340132\n",
      "2.2923572053020465 971.7175072432801\n"
     ]
    }
   ],
   "source": [
    "regr = linear_model.LinearRegression()\n",
    "# Fit\n",
    "regr.fit(principalComponents, y_df)\n",
    "# Calibration\n",
    "y_c = regr.predict(principalComponents)\n",
    "# Cross-validation\n",
    "y_cv = cross_val_predict(regr, principalComponents, y_df, cv=10)\n",
    "# Calculate scores for calibration and cross-validation\n",
    "score_c = r2_score(y_df, y_c)\n",
    "score_cv = r2_score(y_df, y_cv)\n",
    "# Calculate mean square error for calibration and cross validation\n",
    "\n",
    "mse_c = mean_squared_error(y_df, y_c)\n",
    "mse_cv = mean_squared_error(y_df, y_cv)\n",
    "\n",
    "print(score_c, score_cv)\n",
    "print(mse_c, mse_cv)"
   ]
  },
  {
   "cell_type": "markdown",
   "metadata": {},
   "source": [
    "now using PCA with Linear regression and PLS"
   ]
  },
  {
   "cell_type": "code",
   "execution_count": 13,
   "metadata": {},
   "outputs": [
    {
     "name": "stdout",
     "output_type": "stream",
     "text": [
      "(27, 3648)\n",
      "(3648,)\n",
      "27\n",
      "(27, 25)\n",
      "[46.23 74.28 83.77 91.33 93.67 95.62 96.92 97.9  98.61 99.06 99.33 99.49\n",
      " 99.63 99.73 99.8  99.84 99.88 99.92 99.94 99.96 99.97 99.98 99.99 99.99\n",
      " 99.99]\n"
     ]
    }
   ],
   "source": [
    "n_components=25\n",
    "\n",
    "x = X_train.values\n",
    "x_t = X_test.values\n",
    "print(x.shape)\n",
    "print(x[1].shape)\n",
    "print(len(x))\n",
    "\n",
    "\n",
    "# This has to be used later for regression, PCA is done on X only\n",
    "\"\"\"\n",
    "y_df = pd.read_csv('labels_aligned+.csv', sep = ',')\n",
    "concentration=y_df.values\n",
    "#print(concentration)\n",
    "multi_y = concentration[:,2:]\n",
    "#print (multi_y)\n",
    "print (multi_y.shape)\n",
    "multi_y= np.array(multi_y, dtype=np.float)\n",
    "y=np.around(multi_y, decimals=4)\n",
    "#print(y)\n",
    "\"\"\"\n",
    "\n",
    "# PCA\n",
    "\n",
    "X_std = StandardScaler().fit_transform(x)\n",
    "X_std_test = StandardScaler().fit_transform(x_t)\n",
    "#print(X_std)\n",
    "\n",
    "pca = PCA(n_components= n_components)\n",
    "PC=pca.fit(X_std)\n",
    "\n",
    "x_pc = pca.fit_transform(X_std)\n",
    "x_test1 = pca.transform(X_std_test)\n",
    "print(x_pc.shape)\n",
    "#principalDf = pd.DataFrame(data = principalComponents, columns = ['principal component 1', 'principal component 2', 'principal component 3'])\n",
    "#print(principalDf)\n",
    "\n",
    "\n",
    "#print(pca.explained_variance_ratio_)\n",
    "print(np.cumsum(np.round(pca.explained_variance_ratio_, decimals=4)*100))"
   ]
  },
  {
   "cell_type": "code",
   "execution_count": 14,
   "metadata": {},
   "outputs": [
    {
     "name": "stdout",
     "output_type": "stream",
     "text": [
      "R2_pred:  -0.5742166745545978\n",
      "MSE:  41.3273642002764\n"
     ]
    }
   ],
   "source": [
    "regr = linear_model.LinearRegression()\n",
    "# Fit\n",
    "regr.fit(x_pc, y_train)\n",
    "# Calibration\n",
    "y_p = regr.predict(x_test1)\n",
    "# Cross-validation\n",
    "#y_cv = cross_val_predict(regr, principalComponents, y_df, cv=10)\n",
    "# Calculate scores for calibration and cross-validation\n",
    "score_c = r2_score(y_test, y_p)\n",
    "#score_cv = r2_score(y_df, y_cv)\n",
    "# Calculate mean square error for calibration and cross validation\n",
    "mse_c = mean_squared_error(y_test, y_p)\n",
    "#mse_cv = mean_squared_error(y_df, y_cv)\n",
    "\n",
    "print(\"R2_pred: \", score_c)\n",
    "print(\"MSE: \", mse_c)"
   ]
  },
  {
   "cell_type": "code",
   "execution_count": 15,
   "metadata": {},
   "outputs": [
    {
     "name": "stdout",
     "output_type": "stream",
     "text": [
      "37% completed\n",
      "Suggested number of components:  5\n",
      "\n"
     ]
    },
    {
     "data": {
      "image/png": "[encoded data removed]",
      "text/plain": [
       "<Figure size 432x288 with 1 Axes>"
      ]
     },
     "metadata": {},
     "output_type": "display_data"
    },
    {
     "name": "stdout",
     "output_type": "stream",
     "text": [
      "R2 calib: 1.000\n",
      "R2 CV: 0.206\n",
      "MSE calib: 0.010\n",
      "MSE CV: 21.226\n"
     ]
    }
   ],
   "source": [
    "optimise_pls_cv(x_pc, y_train, 15, plot_components=True) "
   ]
  },
  {
   "cell_type": "code",
   "execution_count": 16,
   "metadata": {},
   "outputs": [
    {
     "name": "stdout",
     "output_type": "stream",
     "text": [
      "R2_pred:  -0.46553163433582734\n",
      "MSE:  38.474093546467785\n"
     ]
    }
   ],
   "source": [
    "pls = PLSRegression(n_components=13)\n",
    "# Fit\n",
    "pls.fit(x_pc, y_train)\n",
    "# Calibration\n",
    "y_c = pls.predict(x_test1)\n",
    "# Cross-validation\n",
    "#y_cv = cross_val_predict(regr, principalComponents, y_df, cv=10)\n",
    "# Calculate scores for calibration and cross-validation\n",
    "score_c = r2_score(y_test, y_c)\n",
    "#score_cv = r2_score(y_df, y_cv)\n",
    "# Calculate mean square error for calibration and cross validation\n",
    "mse_c = mean_squared_error(y_test, y_c)\n",
    "#mse_cv = mean_squared_error(y_df, y_cv)\n",
    "\n",
    "print(\"R2_pred: \", score_c)\n",
    "print(\"MSE: \", mse_c)"
   ]
  },
  {
   "cell_type": "markdown",
   "metadata": {},
   "source": [
    "# Linear Regression\n",
    "this is ordinary least square regression"
   ]
  },
  {
   "cell_type": "code",
   "execution_count": 17,
   "metadata": {},
   "outputs": [
    {
     "name": "stdout",
     "output_type": "stream",
     "text": [
      "R^2_pred:  -1.8206973678467993\n",
      "RMSE:  8.605276833942714 \n",
      "\n",
      "[real, predictions]\n",
      "[[25.0 22.968079159542683]\n",
      " [14.1 29.318076354478194]\n",
      " [15.9 6.990467621601681]\n",
      " [8.4 1.7041158271222798]\n",
      " [14.0 23.328363716020405]\n",
      " [11.2 15.51306627055888]\n",
      " [20.0 12.73354053489571]]\n"
     ]
    },
    {
     "data": {
      "image/png": "[encoded data removed]",
      "text/plain": [
       "<Figure size 432x288 with 1 Axes>"
      ]
     },
     "metadata": {
      "needs_background": "light"
     },
     "output_type": "display_data"
    }
   ],
   "source": [
    "lm = linear_model.LinearRegression()\n",
    "model = lm.fit(X_train, y_train)\n",
    "predictions = lm.predict(X_test)\n",
    "\n",
    "\n",
    "rmse = sqrt(mean_squared_error(y_test, predictions))\n",
    "r2 = r2_score(y_test, predictions)\n",
    "print(\"R^2_pred: \", r2)\n",
    "print(\"RMSE: \", rmse, \"\\n\")\n",
    "\n",
    "\n",
    "b=np.append(y_test, predictions, axis=1)\n",
    "\n",
    "print(\"[real, predictions]\")\n",
    "print(b)\n",
    "\n",
    "plt.scatter(y_test, predictions)\n",
    "plt.xlabel('True Values')\n",
    "plt.ylabel('Predictions')\n",
    "plt.grid(True)\n",
    "plt.show()"
   ]
  },
  {
   "cell_type": "markdown",
   "metadata": {},
   "source": [
    "# Partial Least Square Regression"
   ]
  },
  {
   "cell_type": "markdown",
   "metadata": {},
   "source": [
    "## No preprocessing"
   ]
  },
  {
   "cell_type": "code",
   "execution_count": 18,
   "metadata": {},
   "outputs": [
    {
     "name": "stdout",
     "output_type": "stream",
     "text": [
      "(27, 3648) (27, 1)\n",
      "(7, 3648) (7, 1)\n"
     ]
    },
    {
     "data": {
      "text/html": [
       "<div>\n",
       "<style scoped>\n",
       "    .dataframe tbody tr th:only-of-type {\n",
       "        vertical-align: middle;\n",
       "    }\n",
       "\n",
       "    .dataframe tbody tr th {\n",
       "        vertical-align: top;\n",
       "    }\n",
       "\n",
       "    .dataframe thead th {\n",
       "        text-align: right;\n",
       "    }\n",
       "</style>\n",
       "<table border=\"1\" class=\"dataframe\">\n",
       "  <thead>\n",
       "    <tr style=\"text-align: right;\">\n",
       "      <th></th>\n",
       "      <th>0</th>\n",
       "    </tr>\n",
       "  </thead>\n",
       "  <tbody>\n",
       "    <tr>\n",
       "      <th>17</th>\n",
       "      <td>10.5</td>\n",
       "    </tr>\n",
       "    <tr>\n",
       "      <th>27</th>\n",
       "      <td>14.9</td>\n",
       "    </tr>\n",
       "    <tr>\n",
       "      <th>28</th>\n",
       "      <td>8.9</td>\n",
       "    </tr>\n",
       "    <tr>\n",
       "      <th>10</th>\n",
       "      <td>11.2</td>\n",
       "    </tr>\n",
       "    <tr>\n",
       "      <th>29</th>\n",
       "      <td>8.94</td>\n",
       "    </tr>\n",
       "    <tr>\n",
       "      <th>13</th>\n",
       "      <td>7.9</td>\n",
       "    </tr>\n",
       "    <tr>\n",
       "      <th>19</th>\n",
       "      <td>7.7</td>\n",
       "    </tr>\n",
       "  </tbody>\n",
       "</table>\n",
       "</div>"
      ],
      "text/plain": [
       "       0\n",
       "17  10.5\n",
       "27  14.9\n",
       "28   8.9\n",
       "10  11.2\n",
       "29  8.94\n",
       "13   7.9\n",
       "19   7.7"
      ]
     },
     "execution_count": 18,
     "metadata": {},
     "output_type": "execute_result"
    }
   ],
   "source": [
    "X_train, X_test, y_train, y_test = train_test_split(x_df, y_df, test_size=0.2)\n",
    "print (X_train.shape, y_train.shape)\n",
    "print (X_test.shape, y_test.shape)\n",
    "#print(X_test)\n",
    "y_test"
   ]
  },
  {
   "cell_type": "code",
   "execution_count": 19,
   "metadata": {},
   "outputs": [
    {
     "name": "stdout",
     "output_type": "stream",
     "text": [
      "100% completed\n",
      "Suggested number of components:  6\n",
      "\n"
     ]
    },
    {
     "data": {
      "image/png": "[encoded data removed]",
      "text/plain": [
       "<Figure size 432x288 with 1 Axes>"
      ]
     },
     "metadata": {},
     "output_type": "display_data"
    },
    {
     "name": "stdout",
     "output_type": "stream",
     "text": [
      "R2 calib: 0.851\n",
      "R2 CV: 0.559\n",
      "MSE calib: 4.093\n",
      "MSE CV: 12.141\n"
     ]
    }
   ],
   "source": [
    "optimise_pls_cv(x_df, y_df, 40, plot_components=True)\n",
    "#optimise_pls_cv(x_df, y_all, 40, plot_components=True)"
   ]
  },
  {
   "cell_type": "code",
   "execution_count": 20,
   "metadata": {},
   "outputs": [
    {
     "name": "stdout",
     "output_type": "stream",
     "text": [
      "R^2_cv 0.5592488727284993\n",
      "MSE:  12.141433374127544\n"
     ]
    }
   ],
   "source": [
    "# Define PLS object\n",
    "pls = PLSRegression(n_components=6)\n",
    "# Fit\n",
    "pls.fit(x_df, y_df)\n",
    "# Cross-validation\n",
    "y_cv = cross_val_predict(pls, x_df, y_df, cv=10)\n",
    "# Calculate scores\n",
    "score = r2_score(y_df, y_cv)\n",
    "mse = mean_squared_error(y_df, y_cv)\n",
    "\n",
    "print(\"R^2_cv\", score)\n",
    "print(\"MSE: \", mse)"
   ]
  },
  {
   "cell_type": "code",
   "execution_count": 21,
   "metadata": {},
   "outputs": [
    {
     "name": "stdout",
     "output_type": "stream",
     "text": [
      "100% completed\n",
      "Suggested number of components:  3\n",
      "\n"
     ]
    },
    {
     "data": {
      "image/png": "[encoded data removed]",
      "text/plain": [
       "<Figure size 432x288 with 1 Axes>"
      ]
     },
     "metadata": {},
     "output_type": "display_data"
    },
    {
     "name": "stdout",
     "output_type": "stream",
     "text": [
      "R2 calib: 0.745\n",
      "R2 CV: 0.554\n",
      "MSE calib: 7.390\n",
      "MSE CV: 12.917\n"
     ]
    }
   ],
   "source": [
    "optimise_pls_cv(X_train,y_train, 40, plot_components=True)"
   ]
  },
  {
   "cell_type": "code",
   "execution_count": 22,
   "metadata": {},
   "outputs": [
    {
     "name": "stdout",
     "output_type": "stream",
     "text": [
      "R2_pred:  -1.870950269492142\n",
      "R2_cv:  -1.0144011245170184\n",
      "\n",
      "TEST\n",
      " [real, predictions]\n",
      "[[10.5 12.920122086509972]\n",
      " [14.9 22.185984936550717]\n",
      " [8.9 12.65783618951866]\n",
      " [11.2 13.577578752086417]\n",
      " [8.94 12.433814055337503]\n",
      " [7.9 11.782658794171969]\n",
      " [7.7 9.227113600091082]]\n",
      "\n"
     ]
    },
    {
     "data": {
      "image/png": "[encoded data removed]",
      "text/plain": [
       "<Figure size 432x288 with 1 Axes>"
      ]
     },
     "metadata": {
      "needs_background": "light"
     },
     "output_type": "display_data"
    }
   ],
   "source": [
    "# Define PLS object\n",
    "pls = PLSRegression(n_components=8)\n",
    "# Fit\n",
    "pls.fit(X_train, y_train)\n",
    "# Cross-validation\n",
    "y_pred = pls.predict(X_test)\n",
    "y_pred1 = pls.predict(X_train)\n",
    "\n",
    "# Cross-validation\n",
    "y_cv = cross_val_predict(pls, X_train, y_train, cv=10)\n",
    "\n",
    "# Calculate scores for calibration and cross-validation\n",
    "score_pred = r2_score(y_test, y_pred)\n",
    "score_cv = r2_score(y_train, y_cv)\n",
    "\n",
    "print(\"R2_pred: \", score_pred)\n",
    "print(\"R2_cv: \",score_cv)\n",
    "print(\"\")\n",
    "\n",
    "b=np.append(y_test, y_pred, axis=1)\n",
    "\n",
    "print(\"TEST\\n [real, predictions]\")\n",
    "print(b)\n",
    "print(\"\")\n",
    "\n",
    "c=np.append(y_train, y_pred1, axis=1)\n",
    "\n",
    "#print(\"TRAIN\\n [real, predictions]\")\n",
    "#print(c)\n",
    "\n",
    "plt.scatter(y_test, y_pred)\n",
    "plt.scatter(y_train, y_pred1)\n",
    "plt.xlabel('True Values')\n",
    "plt.ylabel('Predictions')\n",
    "plt.grid(True)\n",
    "plt.show()"
   ]
  },
  {
   "cell_type": "code",
   "execution_count": 23,
   "metadata": {},
   "outputs": [
    {
     "name": "stdout",
     "output_type": "stream",
     "text": [
      "(3648, 1)\n"
     ]
    }
   ],
   "source": [
    "print(wl.shape)"
   ]
  },
  {
   "cell_type": "markdown",
   "metadata": {},
   "source": [
    "## Wavelenght selection for PLS"
   ]
  },
  {
   "cell_type": "code",
   "execution_count": 46,
   "metadata": {
    "scrolled": true
   },
   "outputs": [
    {
     "name": "stdout",
     "output_type": "stream",
     "text": [
      "100% completed\n",
      "Optimised number of PLS components:  7\n",
      "Wavelengths to be discarded  3510\n",
      "Optimised MSEP  2.8051386387043657\n",
      "\n",
      "--- 1518.2784893512726 seconds ---\n"
     ]
    }
   ],
   "source": [
    "start_time = time.time()\n",
    "\n",
    "opt_Xc, ncomp, wav, sorted_ind = pls_variable_selection(x_df.values, y_val, 15)\n",
    "\n",
    "print(\"--- %s seconds ---\" % (time.time() - start_time))"
   ]
  },
  {
   "cell_type": "code",
   "execution_count": 47,
   "metadata": {},
   "outputs": [
    {
     "name": "stdout",
     "output_type": "stream",
     "text": [
      "sorted wavelengths:  [[276.73 267.9  319.51 298.14 264.98 340.26 265.05 327.74 324.43 303.59]]\n"
     ]
    },
    {
     "data": {
      "image/png": "[encoded data removed]",
      "text/plain": [
       "<Figure size 432x288 with 1 Axes>"
      ]
     },
     "metadata": {
      "needs_background": "light"
     },
     "output_type": "display_data"
    }
   ],
   "source": [
    "#print(opt_Xc.shape,\"\\n\")\n",
    "#print(\"sorted indexes: \", sorted_ind)\n",
    "print(\"sorted wavelengths: \", wl[sorted_ind[:10]].T)\n",
    "\n",
    "plt.plot(opt_Xc.T)\n",
    "plt.show()"
   ]
  },
  {
   "cell_type": "code",
   "execution_count": 92,
   "metadata": {},
   "outputs": [
    {
     "name": "stdout",
     "output_type": "stream",
     "text": [
      "(27, 138) (27, 1)\n",
      "(7, 138) (7, 1)\n",
      "       0\n",
      "9   14.7\n",
      "14  35.3\n",
      "16  34.3\n",
      "7   16.1\n",
      "4   14.8\n",
      "28  11.6\n",
      "22  24.3\n"
     ]
    }
   ],
   "source": [
    "#X_train, X_test, y_train, y_test = train_test_split(opt_Xc, y_df, test_size=0.2, random_state = 16) #seed for Mg = 3, 16\n",
    "#X_train, X_test, y_train, y_test = train_test_split(opt_Xc, y_df, test_size=0.2, random_state = 7) #seed for Si = 7\n",
    "#X_train, X_test, y_train, y_test = train_test_split(opt_Xc, y_df, test_size=0.2, random_state = 16) #seed for Cu =16\n",
    "#X_train, X_test, y_train, y_test = train_test_split(opt_Xc, y_df, test_size=0.2, random_state = 7) #seed for Fe =7\n",
    "#X_train, X_test, y_train, y_test = train_test_split(opt_Xc, y_df, test_size=0.2, random_state = 3) #seed for Mn = 3\n",
    "\n",
    "X_train, X_test, y_train, y_test = train_test_split(opt_Xc, y_df, test_size=0.2)\n",
    "print (X_train.shape, y_train.shape)\n",
    "print (X_test.shape, y_test.shape)\n",
    "print(y_test)"
   ]
  },
  {
   "cell_type": "code",
   "execution_count": 93,
   "metadata": {},
   "outputs": [],
   "source": [
    "#optimise_pls_cv(X_train,y_train, 3, plot_components=True)"
   ]
  },
  {
   "cell_type": "code",
   "execution_count": 94,
   "metadata": {},
   "outputs": [
    {
     "name": "stdout",
     "output_type": "stream",
     "text": [
      "R2_pred:  0.9868313567099862\n",
      "RMSE:  1.0448968981180968\n",
      "\n"
     ]
    },
    {
     "data": {
      "image/png": "[encoded data removed]",
      "text/plain": [
       "<Figure size 720x504 with 1 Axes>"
      ]
     },
     "metadata": {
      "needs_background": "light"
     },
     "output_type": "display_data"
    }
   ],
   "source": [
    "# Define PLS object\n",
    "pls = PLSRegression(n_components=7)\n",
    "# Fit\n",
    "pls.fit(X_train, y_train)\n",
    "\n",
    "y_pred = pls.predict(X_test)\n",
    "y_pred1 = pls.predict(X_train)\n",
    "\n",
    "# Calculate score and error\n",
    "r2 = r2_score(y_test, y_pred)\n",
    "rmse = sqrt(mean_squared_error(y_test, y_pred))\n",
    "\n",
    "\n",
    "print(\"R2_pred: \", r2)\n",
    "print(\"RMSE: \", rmse)\n",
    "#print(\"R2_cv: \",score_cv)\n",
    "print(\"\")\n",
    "\n",
    "\n",
    "c=np.append(y_train, y_pred1, axis=1)\n",
    "\n",
    "#print(\"TRAIN\\n [real, predictions]\")\n",
    "#print(c)\n",
    "\n",
    "plt.figure(figsize=(10,7))\n",
    "plt.scatter(y_test, y_pred)\n",
    "plt.scatter(y_train, y_pred1)\n",
    "plt.plot( y_test, linear_model.LinearRegression().fit(y_test, y_pred).predict(y_test) )\n",
    "plt.xlabel('True Values')\n",
    "plt.ylabel('Predictions')\n",
    "plt.grid(True)\n",
    "plt.show()"
   ]
  },
  {
   "cell_type": "markdown",
   "metadata": {},
   "source": [
    "## Using Normalization"
   ]
  },
  {
   "cell_type": "code",
   "execution_count": 95,
   "metadata": {},
   "outputs": [
    {
     "name": "stdout",
     "output_type": "stream",
     "text": [
      "(27, 138)\n",
      "(7, 138)\n"
     ]
    }
   ],
   "source": [
    "Xn_train = normalize(X_train, axis=1)\n",
    "Xn_test = normalize(X_test, axis=1)\n",
    "print(Xn_train.shape)\n",
    "print(Xn_test.shape)"
   ]
  },
  {
   "cell_type": "code",
   "execution_count": 96,
   "metadata": {},
   "outputs": [
    {
     "data": {
      "image/png": "[encoded data removed]",
      "text/plain": [
       "<Figure size 432x288 with 1 Axes>"
      ]
     },
     "metadata": {
      "needs_background": "light"
     },
     "output_type": "display_data"
    }
   ],
   "source": [
    "plt.plot(Xn_train.T)\n",
    "plt.show()"
   ]
  },
  {
   "cell_type": "code",
   "execution_count": 97,
   "metadata": {},
   "outputs": [],
   "source": [
    "#optimise_pls_cv(Xn_train,y_train, 40, plot_components=True)\n",
    "#optimise_pls_cv(Xn_train,y_train, 7, plot_components=True)"
   ]
  },
  {
   "cell_type": "code",
   "execution_count": 98,
   "metadata": {},
   "outputs": [
    {
     "name": "stdout",
     "output_type": "stream",
     "text": [
      "R2_pred:  0.9911356027773226\n",
      "RMSE:  0.8572895454113054\n",
      "\n",
      "TEST\n",
      " [real, predictions]\n",
      "[[14.7 16.37465872606635]\n",
      " [35.3 35.238814981874825]\n",
      " [34.3 34.9632650056504]\n",
      " [16.1 17.054785782924338]\n",
      " [14.8 14.814678655069411]\n",
      " [11.6 10.777023238980966]\n",
      " [24.3 24.854391131224713]]\n",
      "\n"
     ]
    },
    {
     "data": {
      "image/png": "[encoded data removed]",
      "text/plain": [
       "<Figure size 720x504 with 1 Axes>"
      ]
     },
     "metadata": {
      "needs_background": "light"
     },
     "output_type": "display_data"
    }
   ],
   "source": [
    "# Define PLS object\n",
    "pls = PLSRegression(n_components=7)\n",
    "# Fit\n",
    "pls.fit(Xn_train, y_train)\n",
    "\n",
    "y_pred = pls.predict(Xn_test)\n",
    "y_pred1 = pls.predict(Xn_train)\n",
    "\n",
    "# Calculate score and error\n",
    "r2 = r2_score(y_test, y_pred)\n",
    "rmse = sqrt(mean_squared_error(y_test, y_pred))\n",
    "\n",
    "\n",
    "print(\"R2_pred: \", r2)\n",
    "print(\"RMSE: \", rmse)\n",
    "#print(\"R2_cv: \",score_cv)\n",
    "print(\"\")\n",
    "\n",
    "\n",
    "b=np.append(y_test, y_pred, axis=1)\n",
    "\n",
    "print(\"TEST\\n [real, predictions]\")\n",
    "print(b)\n",
    "print(\"\")\n",
    "\n",
    "c=np.append(y_train, y_pred1, axis=1)\n",
    "\n",
    "#print(\"TRAIN\\n [real, predictions]\")\n",
    "#print(c)\n",
    "\n",
    "plt.figure(figsize=(10,7))\n",
    "plt.scatter(y_test, y_pred)\n",
    "plt.scatter(y_train, y_pred1)\n",
    "plt.plot( y_test, linear_model.LinearRegression().fit(y_test, y_pred).predict(y_test) )\n",
    "plt.xlabel('True Values')\n",
    "plt.ylabel('Predictions')\n",
    "plt.grid(True)\n",
    "plt.show()"
   ]
  },
  {
   "cell_type": "markdown",
   "metadata": {},
   "source": [
    "## Using SNV"
   ]
  },
  {
   "cell_type": "code",
   "execution_count": 99,
   "metadata": {},
   "outputs": [
    {
     "name": "stdout",
     "output_type": "stream",
     "text": [
      "(27, 138)\n",
      "(7, 138)\n"
     ]
    }
   ],
   "source": [
    "Xs_train = snv(X_train)\n",
    "Xs_test = snv(X_test)\n",
    "print(Xs_train.shape)\n",
    "print(Xs_test.shape)\n",
    "\n",
    "#optimise_pls_cv(Xn_train,y_train, 40, plot_components=True)\n",
    "#optimise_pls_cv(Xs_train,y_train, 7, plot_components=True)"
   ]
  },
  {
   "cell_type": "code",
   "execution_count": 100,
   "metadata": {},
   "outputs": [
    {
     "data": {
      "image/png": "[encoded data removed]",
      "text/plain": [
       "<Figure size 432x288 with 1 Axes>"
      ]
     },
     "metadata": {
      "needs_background": "light"
     },
     "output_type": "display_data"
    }
   ],
   "source": [
    "plt.plot(Xs_train.T)\n",
    "plt.show()"
   ]
  },
  {
   "cell_type": "code",
   "execution_count": 101,
   "metadata": {},
   "outputs": [
    {
     "name": "stdout",
     "output_type": "stream",
     "text": [
      "R2_pred:  0.982308563990105\n",
      "RMSE:  1.2111124427910254\n",
      "\n",
      "TEST\n",
      " [real, predictions]\n",
      "[[14.7 16.15914425917836]\n",
      " [35.3 34.15004313185413]\n",
      " [34.3 32.80881705756207]\n",
      " [16.1 16.979172846740866]\n",
      " [14.8 15.347683318064309]\n",
      " [11.6 11.378347519310582]\n",
      " [24.3 26.162898916889407]]\n",
      "\n"
     ]
    },
    {
     "data": {
      "image/png": "[encoded data removed]",
      "text/plain": [
       "<Figure size 720x504 with 1 Axes>"
      ]
     },
     "metadata": {
      "needs_background": "light"
     },
     "output_type": "display_data"
    }
   ],
   "source": [
    "# Define PLS object\n",
    "pls = PLSRegression(n_components=7)\n",
    "# Fit\n",
    "pls.fit(Xs_train, y_train)\n",
    "\n",
    "y_pred = pls.predict(Xs_test)\n",
    "y_pred1 = pls.predict(Xs_train)\n",
    "\n",
    "# Calculate score and error\n",
    "r2 = r2_score(y_test, y_pred)\n",
    "rmse = sqrt(mean_squared_error(y_test, y_pred))\n",
    "\n",
    "\n",
    "print(\"R2_pred: \", r2)\n",
    "print(\"RMSE: \", rmse)\n",
    "#print(\"R2_cv: \",score_cv)\n",
    "print(\"\")\n",
    "\n",
    "\n",
    "b=np.append(y_test, y_pred, axis=1)\n",
    "\n",
    "print(\"TEST\\n [real, predictions]\")\n",
    "print(b)\n",
    "print(\"\")\n",
    "\n",
    "c=np.append(y_train, y_pred1, axis=1)\n",
    "\n",
    "#print(\"TRAIN\\n [real, predictions]\")\n",
    "#print(c)\n",
    "\n",
    "plt.figure(figsize=(10,7))\n",
    "plt.scatter(y_test, y_pred)\n",
    "plt.scatter(y_train, y_pred1)\n",
    "plt.plot( y_test, linear_model.LinearRegression().fit(y_test, y_pred).predict(y_test) )\n",
    "plt.xlabel('True Values')\n",
    "plt.ylabel('Predictions')\n",
    "plt.grid(True)\n",
    "plt.show()"
   ]
  },
  {
   "cell_type": "code",
   "execution_count": null,
   "metadata": {},
   "outputs": [],
   "source": []
  },
  {
   "cell_type": "markdown",
   "metadata": {},
   "source": [
    "## Using Max-norm"
   ]
  },
  {
   "cell_type": "code",
   "execution_count": 102,
   "metadata": {},
   "outputs": [],
   "source": [
    "Xm_train = X_train / np.max(X_train)\n",
    "Xm_test = X_test / np.max(X_test)\n",
    "\n",
    "#optimise_pls_cv(Xn_train,y_train, 40, plot_components=True)\n",
    "#optimise_pls_cv(Xm_train,y_train, 15, plot_components=True)"
   ]
  },
  {
   "cell_type": "code",
   "execution_count": 103,
   "metadata": {},
   "outputs": [
    {
     "data": {
      "image/png": "[encoded data removed]",
      "text/plain": [
       "<Figure size 432x288 with 1 Axes>"
      ]
     },
     "metadata": {
      "needs_background": "light"
     },
     "output_type": "display_data"
    }
   ],
   "source": [
    "plt.plot(Xm_train.T)\n",
    "plt.show()"
   ]
  },
  {
   "cell_type": "code",
   "execution_count": 104,
   "metadata": {},
   "outputs": [
    {
     "name": "stdout",
     "output_type": "stream",
     "text": [
      "R2_pred:  0.9864114931286918\n",
      "RMSE:  1.0614237285530654\n",
      "\n",
      "TEST\n",
      " [real, predictions]\n",
      "[[14.7 16.03683024791093]\n",
      " [35.3 35.07112400798714]\n",
      " [34.3 36.34770809901042]\n",
      " [16.1 16.83313147807359]\n",
      " [14.8 14.964491919762706]\n",
      " [11.6 10.80710984514954]\n",
      " [24.3 25.112724047311094]]\n",
      "\n"
     ]
    },
    {
     "data": {
      "image/png": "[encoded data removed]",
      "text/plain": [
       "<Figure size 720x504 with 1 Axes>"
      ]
     },
     "metadata": {
      "needs_background": "light"
     },
     "output_type": "display_data"
    }
   ],
   "source": [
    "# Define PLS object\n",
    "pls = PLSRegression(n_components=7)\n",
    "# Fit\n",
    "pls.fit(Xm_train, y_train)\n",
    "\n",
    "y_pred = pls.predict(Xm_test)\n",
    "y_pred1 = pls.predict(Xm_train)\n",
    "\n",
    "# Calculate score and error\n",
    "r2 = r2_score(y_test, y_pred)\n",
    "rmse = sqrt(mean_squared_error(y_test, y_pred))\n",
    "\n",
    "\n",
    "print(\"R2_pred: \", r2)\n",
    "print(\"RMSE: \", rmse)\n",
    "#print(\"R2_cv: \",score_cv)\n",
    "print(\"\")\n",
    "\n",
    "b=np.append(y_test, y_pred, axis=1)\n",
    "\n",
    "print(\"TEST\\n [real, predictions]\")\n",
    "print(b)\n",
    "print(\"\")\n",
    "\n",
    "c=np.append(y_train, y_pred1, axis=1)\n",
    "\n",
    "#print(\"TRAIN\\n [real, predictions]\")\n",
    "#print(c)\n",
    "\n",
    "plt.figure(figsize=(10,7))\n",
    "plt.scatter(y_test, y_pred)\n",
    "plt.scatter(y_train, y_pred1)\n",
    "plt.plot( y_test, linear_model.LinearRegression().fit(y_test, y_pred).predict(y_test) )\n",
    "plt.xlabel('True Values')\n",
    "plt.ylabel('Predictions')\n",
    "plt.grid(True)\n",
    "plt.show()"
   ]
  },
  {
   "cell_type": "code",
   "execution_count": null,
   "metadata": {},
   "outputs": [],
   "source": []
  },
  {
   "cell_type": "code",
   "execution_count": null,
   "metadata": {},
   "outputs": [],
   "source": []
  },
  {
   "cell_type": "code",
   "execution_count": null,
   "metadata": {},
   "outputs": [],
   "source": []
  },
  {
   "cell_type": "markdown",
   "metadata": {},
   "source": [
    "## Using Savgol filter"
   ]
  },
  {
   "cell_type": "code",
   "execution_count": 78,
   "metadata": {},
   "outputs": [
    {
     "name": "stdout",
     "output_type": "stream",
     "text": [
      "(27, 3648) (27, 1)\n",
      "(7, 3648) (7, 1)\n"
     ]
    }
   ],
   "source": [
    "X_train, X_test, y_train, y_test = train_test_split(x_df, y_df, test_size=0.2)\n",
    "print (X_train.shape, y_train.shape)\n",
    "print (X_test.shape, y_test.shape)\n",
    "#print(X_test)"
   ]
  },
  {
   "cell_type": "code",
   "execution_count": 34,
   "metadata": {},
   "outputs": [
    {
     "data": {
      "image/png": "[encoded data removed]",
      "text/plain": [
       "<Figure size 576x324 with 1 Axes>"
      ]
     },
     "metadata": {
      "needs_background": "light"
     },
     "output_type": "display_data"
    },
    {
     "name": "stdout",
     "output_type": "stream",
     "text": [
      "100% completed\n",
      "Suggested number of components:  6\n",
      "\n"
     ]
    },
    {
     "data": {
      "image/png": "[encoded data removed]",
      "text/plain": [
       "<Figure size 432x288 with 1 Axes>"
      ]
     },
     "metadata": {},
     "output_type": "display_data"
    },
    {
     "name": "stdout",
     "output_type": "stream",
     "text": [
      "R2 calib: 0.834\n",
      "R2 CV: 0.609\n",
      "MSE calib: 4.571\n",
      "MSE CV: 10.778\n"
     ]
    }
   ],
   "source": [
    "# Calculate second derivative\n",
    "X2 = savgol_filter(x_df, 101, polyorder = 6,deriv=0) # Is this useful with LIBS spectra???\n",
    "# Plot second derivative\n",
    "plt.figure(figsize=(8,4.5))\n",
    "with plt.style.context(('ggplot')):\n",
    "    plt.plot(range(len(X2.T)), X2.T)\n",
    "    plt.xlabel('Wavelength (nm)')\n",
    "    plt.ylabel('D2 Intensity')\n",
    "    plt.show()\n",
    "    \n",
    "    \n",
    "X2_1 = msc(X2)[0]\n",
    "    \n",
    "optimise_pls_cv(X2_1, y_df, 40, plot_components=True)"
   ]
  },
  {
   "cell_type": "code",
   "execution_count": 35,
   "metadata": {},
   "outputs": [
    {
     "name": "stdout",
     "output_type": "stream",
     "text": [
      "100% completed\n",
      "Suggested number of components:  5\n",
      "\n"
     ]
    },
    {
     "data": {
      "image/png": "[encoded data removed]",
      "text/plain": [
       "<Figure size 432x288 with 1 Axes>"
      ]
     },
     "metadata": {},
     "output_type": "display_data"
    },
    {
     "name": "stdout",
     "output_type": "stream",
     "text": [
      "R2 calib: 0.852\n",
      "R2 CV: 0.581\n",
      "MSE calib: 3.787\n",
      "MSE CV: 10.752\n"
     ]
    }
   ],
   "source": [
    "X2_train = savgol_filter(X_train, 37, polyorder = 4,deriv=1) \n",
    "X2_test = savgol_filter(X_test, 35, polyorder = 4,deriv=1) \n",
    "\n",
    "\n",
    "\n",
    "\n",
    "optimise_pls_cv(X2_train, y_train, 40, plot_components=True)"
   ]
  },
  {
   "cell_type": "code",
   "execution_count": 37,
   "metadata": {},
   "outputs": [
    {
     "name": "stdout",
     "output_type": "stream",
     "text": [
      "R2_pred:  0.1649860006265983\n",
      "R2_cv:  0.4927830298446778\n",
      "\n",
      "[real, predictions]\n",
      "[[15.9 10.770687549143025]\n",
      " [13.0 14.465004698889048]\n",
      " [7.2 -1.138163658934202]\n",
      " [9.1 3.8163457681246644]\n",
      " [25.0 19.962244678550732]\n",
      " [7.9 3.550324681147721]\n",
      " [17.4 11.62702744131783]]\n"
     ]
    },
    {
     "data": {
      "image/png": "[encoded data removed]",
      "text/plain": [
       "<Figure size 432x288 with 1 Axes>"
      ]
     },
     "metadata": {
      "needs_background": "light"
     },
     "output_type": "display_data"
    }
   ],
   "source": [
    "# Define PLS object\n",
    "pls = PLSRegression(n_components=6)\n",
    "# Fit\n",
    "pls.fit(X2_train, y_train)\n",
    "\n",
    "y_pred = pls.predict(X2_test)\n",
    "\n",
    "# Cross-validation\n",
    "y_cv = cross_val_predict(pls, X2_train, y_train, cv=10)\n",
    "\n",
    "# Calculate scores for calibration and cross-validation\n",
    "score_pred = r2_score(y_test, y_pred)\n",
    "score_cv = r2_score(y_train, y_cv)\n",
    "\n",
    "print(\"R2_pred: \", score_pred)\n",
    "print(\"R2_cv: \",score_cv)\n",
    "print(\"\")\n",
    "\n",
    "b=np.append(y_test, y_pred, axis=1)\n",
    "\n",
    "print(\"[real, predictions]\")\n",
    "print(b)\n",
    "\n",
    "plt.scatter(y_test, y_pred)\n",
    "plt.xlabel('True Values')\n",
    "plt.ylabel('Predictions')\n",
    "plt.grid(True)\n",
    "plt.show()"
   ]
  },
  {
   "cell_type": "code",
   "execution_count": null,
   "metadata": {},
   "outputs": [],
   "source": []
  },
  {
   "cell_type": "markdown",
   "metadata": {},
   "source": [
    "# Elastic Net"
   ]
  },
  {
   "cell_type": "code",
   "execution_count": 38,
   "metadata": {},
   "outputs": [],
   "source": [
    "alphas = [0.0001, 0.001, 0.01, 0.1, 0.3, 0.5, 0.7, 1]"
   ]
  },
  {
   "cell_type": "code",
   "execution_count": 39,
   "metadata": {},
   "outputs": [
    {
     "name": "stdout",
     "output_type": "stream",
     "text": [
      "Alpha:0.0001, R2:0.97, MSE:8.87, RMSE:2.98\n",
      "Alpha:0.0010, R2:0.91, MSE:8.53, RMSE:2.92\n",
      "Alpha:0.0100, R2:0.77, MSE:11.74, RMSE:3.43\n",
      "Alpha:0.1000, R2:0.58, MSE:17.74, RMSE:4.21\n",
      "Alpha:0.3000, R2:0.26, MSE:27.92, RMSE:5.28\n",
      "Alpha:0.5000, R2:0.06, MSE:33.55, RMSE:5.79\n",
      "Alpha:0.7000, R2:0.00, MSE:34.73, RMSE:5.89\n",
      "Alpha:1.0000, R2:0.00, MSE:34.82, RMSE:5.90\n"
     ]
    }
   ],
   "source": [
    "for a in alphas:\n",
    "    model = ElasticNet(alpha=a).fit(X_train,y_train)   \n",
    "    score = model.score(X_train, y_train)\n",
    "    pred_y = model.predict(X_test)\n",
    "    mse = mean_squared_error(y_test, pred_y)   \n",
    "    print(\"Alpha:{0:.4f}, R2:{1:.2f}, MSE:{2:.2f}, RMSE:{3:.2f}\".format(a, score, mse, np.sqrt(mse)))"
   ]
  },
  {
   "cell_type": "code",
   "execution_count": 40,
   "metadata": {
    "scrolled": true
   },
   "outputs": [
    {
     "name": "stdout",
     "output_type": "stream",
     "text": [
      "Train score:  0.9745781713670396\n",
      "RMSE:  2.9779539755657836\n",
      "R^2:  0.7453097692192908\n"
     ]
    }
   ],
   "source": [
    "model = ElasticNet(alpha=0.0001).fit(X_train,y_train)   \n",
    "score = model.score(X_train, y_train)\n",
    "print(\"Train score: \", score)\n",
    "pred_y = model.predict(X_test)\n",
    "\n",
    "\n",
    "rmse = sqrt(mean_squared_error(y_test, pred_y))\n",
    "r2 = r2_score(y_test, pred_y)\n",
    "print(\"RMSE: \", rmse)\n",
    "print(\"R^2: \", r2)"
   ]
  },
  {
   "cell_type": "code",
   "execution_count": 41,
   "metadata": {},
   "outputs": [
    {
     "data": {
      "image/png": "[encoded data removed]",
      "text/plain": [
       "<Figure size 432x288 with 1 Axes>"
      ]
     },
     "metadata": {
      "needs_background": "light"
     },
     "output_type": "display_data"
    }
   ],
   "source": [
    "plt.scatter(y_test, y_pred)\n",
    "plt.xlabel('True Values')\n",
    "plt.ylabel('Predictions')\n",
    "plt.grid(True)\n",
    "plt.show()"
   ]
  },
  {
   "cell_type": "code",
   "execution_count": null,
   "metadata": {},
   "outputs": [],
   "source": []
  },
  {
   "cell_type": "markdown",
   "metadata": {},
   "source": [
    "# Random Forest"
   ]
  },
  {
   "cell_type": "code",
   "execution_count": 44,
   "metadata": {},
   "outputs": [
    {
     "name": "stdout",
     "output_type": "stream",
     "text": [
      "(28, 20) (28, 1)\n",
      "(6, 20) (6, 1)\n"
     ]
    }
   ],
   "source": [
    "#X_train, X_test, y_train, y_test = train_test_split(x_df, y_df, test_size=0.15)\n",
    "X_train, X_test, y_train, y_test = train_test_split(principalComponents, y_df, test_size=0.15)\n",
    "\n",
    "\n",
    "print (X_train.shape, y_train.shape)\n",
    "print (X_test.shape, y_test.shape)\n",
    "#print(y_test)"
   ]
  },
  {
   "cell_type": "code",
   "execution_count": 45,
   "metadata": {},
   "outputs": [
    {
     "name": "stdout",
     "output_type": "stream",
     "text": [
      "(6,)\n",
      "(28,)\n"
     ]
    }
   ],
   "source": [
    "y_test=np.ravel(y_test)\n",
    "print(y_test.shape)\n",
    "y_train=np.ravel(y_train)\n",
    "print(y_train.shape)"
   ]
  },
  {
   "cell_type": "code",
   "execution_count": 46,
   "metadata": {},
   "outputs": [
    {
     "name": "stdout",
     "output_type": "stream",
     "text": [
      "RMSE:  4.656149107864393\n",
      "R^2:  0.29224213000392685 \n",
      "\n",
      "[real, predictions]\n",
      "[[8.94 11.94368000000031]\n",
      " [14.0 15.567280000000377]\n",
      " [19.9 16.690320000000337]\n",
      " [6.8 10.018600000000136]\n",
      " [21.1 11.722720000000184]\n",
      " [9.1 12.263079999999999]]\n"
     ]
    },
    {
     "data": {
      "text/plain": [
       "Text(0, 0.5, 'Predictions')"
      ]
     },
     "execution_count": 46,
     "metadata": {},
     "output_type": "execute_result"
    },
    {
     "data": {
      "image/png": "[encoded data removed]",
      "text/plain": [
       "<Figure size 432x288 with 1 Axes>"
      ]
     },
     "metadata": {
      "needs_background": "light"
     },
     "output_type": "display_data"
    }
   ],
   "source": [
    "# Import the model we are using\n",
    "from sklearn.ensemble import RandomForestRegressor\n",
    "# Instantiate model with 1000 decision trees\n",
    "rf = RandomForestRegressor(n_estimators = 2500, max_depth=30, random_state = 42)\n",
    "# Train the model on training data\n",
    "\n",
    "rf.fit(X_train, y_train);\n",
    "\n",
    "# Use the forest's predict method on the test data\n",
    "predictions = rf.predict(X_test)\n",
    "\n",
    "rmse = sqrt(mean_squared_error(y_test, predictions))\n",
    "r2 = r2_score(y_test, predictions)\n",
    "print(\"RMSE: \", rmse)\n",
    "print(\"R^2: \", r2, \"\\n\")\n",
    "\n",
    "y_test= y_test.reshape((len(y_test), 1))\n",
    "predictions=predictions.reshape((len(y_test), 1))\n",
    "#print((y_test, predictions))\n",
    "\n",
    "b=np.append(y_test, predictions, axis=1)\n",
    "\n",
    "print(\"[real, predictions]\")\n",
    "print(b)\n",
    "\n",
    "plt.scatter(y_test, predictions)\n",
    "plt.xlabel('True Values')\n",
    "plt.ylabel('Predictions')"
   ]
  },
  {
   "cell_type": "code",
   "execution_count": null,
   "metadata": {},
   "outputs": [],
   "source": []
  },
  {
   "cell_type": "code",
   "execution_count": null,
   "metadata": {},
   "outputs": [],
   "source": []
  },
  {
   "cell_type": "markdown",
   "metadata": {},
   "source": [
    "# MultiOutput Random Forest"
   ]
  },
  {
   "cell_type": "code",
   "execution_count": 132,
   "metadata": {},
   "outputs": [
    {
     "name": "stdout",
     "output_type": "stream",
     "text": [
      "(24, 6)\n",
      "<class 'numpy.ndarray'>\n",
      "<class 'pandas.core.frame.DataFrame'>\n"
     ]
    }
   ],
   "source": [
    "multi_y = concentration[:,1:-2]\n",
    "print (multi_y.shape)\n",
    "print (type(multi_y))\n",
    "df_y= pd.DataFrame(multi_y)\n",
    "print (type(df_y))"
   ]
  },
  {
   "cell_type": "code",
   "execution_count": 153,
   "metadata": {},
   "outputs": [
    {
     "name": "stdout",
     "output_type": "stream",
     "text": [
      "(19, 1130) (19, 6)\n",
      "(5, 1130) (5, 6)\n"
     ]
    }
   ],
   "source": [
    "X_train, X_test, y_train, y_test = train_test_split(x_df, df_y, test_size=0.2)\n",
    "print (X_train.shape, y_train.shape)\n",
    "print (X_test.shape, y_test.shape)\n",
    "#print(X_test)"
   ]
  },
  {
   "cell_type": "code",
   "execution_count": 134,
   "metadata": {},
   "outputs": [
    {
     "data": {
      "text/plain": [
       "MultiOutputRegressor(estimator=RandomForestRegressor(bootstrap=True,\n",
       "                                                     ccp_alpha=0.0,\n",
       "                                                     criterion='mse',\n",
       "                                                     max_depth=30,\n",
       "                                                     max_features='auto',\n",
       "                                                     max_leaf_nodes=None,\n",
       "                                                     max_samples=None,\n",
       "                                                     min_impurity_decrease=0.0,\n",
       "                                                     min_impurity_split=None,\n",
       "                                                     min_samples_leaf=1,\n",
       "                                                     min_samples_split=2,\n",
       "                                                     min_weight_fraction_leaf=0.0,\n",
       "                                                     n_estimators=650,\n",
       "                                                     n_jobs=None,\n",
       "                                                     oob_score=False,\n",
       "                                                     random_state=0, verbose=0,\n",
       "                                                     warm_start=False),\n",
       "                     n_jobs=None)"
      ]
     },
     "execution_count": 134,
     "metadata": {},
     "output_type": "execute_result"
    }
   ],
   "source": [
    "from sklearn.multioutput import MultiOutputRegressor\n",
    "from sklearn.ensemble import RandomForestRegressor\n",
    "\n",
    "max_depth = 30\n",
    "regr_multirf = MultiOutputRegressor(RandomForestRegressor(n_estimators=650,\n",
    "                                                          max_depth=max_depth,\n",
    "                                                          random_state=0))\n",
    "regr_multirf.fit(X_train, y_train)\n"
   ]
  },
  {
   "cell_type": "code",
   "execution_count": 135,
   "metadata": {},
   "outputs": [],
   "source": [
    "y_multirf = regr_multirf.predict(X_test)"
   ]
  },
  {
   "cell_type": "code",
   "execution_count": 136,
   "metadata": {},
   "outputs": [
    {
     "name": "stdout",
     "output_type": "stream",
     "text": [
      "(5, 6)\n",
      "(5, 6)\n"
     ]
    }
   ],
   "source": [
    "print(y_test.shape)\n",
    "print(y_multirf.shape)"
   ]
  },
  {
   "cell_type": "code",
   "execution_count": 137,
   "metadata": {},
   "outputs": [
    {
     "name": "stdout",
     "output_type": "stream",
     "text": [
      "R^2:  -1.2798201186343863\n",
      "RMSE:  1.5231794557929577\n"
     ]
    }
   ],
   "source": [
    "rmse = sqrt(mean_squared_error(y_test, y_multirf))\n",
    "r2 = r2_score(y_test, y_multirf)\n",
    "\n",
    "print(\"R^2: \", r2)\n",
    "print(\"RMSE: \", rmse)"
   ]
  },
  {
   "cell_type": "code",
   "execution_count": 138,
   "metadata": {},
   "outputs": [
    {
     "name": "stdout",
     "output_type": "stream",
     "text": [
      "[real, predictions]\n",
      "[[6.160e+00 0.000e+00 3.630e-01 0.000e+00 6.000e-03 2.060e-01 8.711e+00\n",
      "  2.880e-01 4.460e-01 2.870e-01 7.790e-01 1.910e-01]\n",
      " [6.120e+00 0.000e+00 3.200e-01 0.000e+00 5.000e-03 1.600e-02 8.009e+00\n",
      "  2.150e-01 4.630e-01 8.500e-02 1.110e-01 1.440e-01]\n",
      " [1.253e+01 3.100e-01 2.500e-02 5.000e-02 5.600e-02 3.300e-02 7.822e+00\n",
      "  2.570e-01 2.970e-01 1.650e-01 1.750e-01 2.170e-01]\n",
      " [1.800e-01 5.000e-01 1.110e+00 5.200e-02 1.500e-01 1.260e+00 4.830e-01\n",
      "  3.630e-01 1.233e+00 2.260e-01 1.360e-01 9.710e-01]\n",
      " [1.290e+01 1.200e-01 5.200e-01 1.550e-01 5.200e-01 2.860e-01 6.898e+00\n",
      "  3.360e-01 7.140e-01 1.420e-01 5.610e-01 2.290e-01]]\n"
     ]
    }
   ],
   "source": [
    "b=np.append(np.around(y_test,3), np.around(y_multirf,3), axis=1)\n",
    "\n",
    "print(\"[real, predictions]\")\n",
    "print(b)"
   ]
  },
  {
   "cell_type": "code",
   "execution_count": 139,
   "metadata": {},
   "outputs": [
    {
     "data": {
      "text/plain": [
       "Text(0, 0.5, 'Predictions')"
      ]
     },
     "execution_count": 139,
     "metadata": {},
     "output_type": "execute_result"
    },
    {
     "data": {
      "image/png": "[encoded data removed]",
      "text/plain": [
       "<Figure size 432x288 with 1 Axes>"
      ]
     },
     "metadata": {
      "needs_background": "light"
     },
     "output_type": "display_data"
    }
   ],
   "source": [
    "plt.scatter(y_test, y_multirf)\n",
    "plt.xlabel('True Values')\n",
    "plt.ylabel('Predictions')"
   ]
  },
  {
   "cell_type": "code",
   "execution_count": 141,
   "metadata": {},
   "outputs": [
    {
     "data": {
      "text/plain": [
       "array([8.71, 8.01, 7.82, 0.48, 6.9 ])"
      ]
     },
     "execution_count": 141,
     "metadata": {},
     "output_type": "execute_result"
    }
   ],
   "source": [
    "y_pred=np.around(y_multirf,2)\n",
    "y_pred[:,0]"
   ]
  },
  {
   "cell_type": "code",
   "execution_count": 142,
   "metadata": {},
   "outputs": [
    {
     "data": {
      "text/plain": [
       "array([ 6.16,  6.12, 12.53,  0.18, 12.9 ])"
      ]
     },
     "execution_count": 142,
     "metadata": {},
     "output_type": "execute_result"
    }
   ],
   "source": [
    "y_test[0].values"
   ]
  },
  {
   "cell_type": "code",
   "execution_count": 143,
   "metadata": {},
   "outputs": [
    {
     "name": "stdout",
     "output_type": "stream",
     "text": [
      "real:  [ 6.16  6.12 12.53  0.18 12.9 ]\n",
      "pred:  [8.71 8.01 7.82 0.48 6.9 ]\n"
     ]
    }
   ],
   "source": [
    "print(\"real: \", y_test[0].values)\n",
    "print(\"pred: \", y_pred[:,0])"
   ]
  },
  {
   "cell_type": "markdown",
   "metadata": {},
   "source": [
    "# PLS-2"
   ]
  },
  {
   "cell_type": "code",
   "execution_count": 154,
   "metadata": {},
   "outputs": [
    {
     "name": "stdout",
     "output_type": "stream",
     "text": [
      "100% completed\n",
      "Suggested number of components:  33\n",
      "\n"
     ]
    },
    {
     "data": {
      "image/png": "[encoded data removed]",
      "text/plain": [
       "<Figure size 432x288 with 1 Axes>"
      ]
     },
     "metadata": {},
     "output_type": "display_data"
    },
    {
     "name": "stdout",
     "output_type": "stream",
     "text": [
      "R2 calib: 1.000\n",
      "R2 CV: 0.018\n",
      "MSE calib: 0.000\n",
      "MSE CV: 0.939\n"
     ]
    }
   ],
   "source": [
    "optimise_pls_cv(X_train, y_train, 40, plot_components=True)"
   ]
  },
  {
   "cell_type": "code",
   "execution_count": 155,
   "metadata": {},
   "outputs": [
    {
     "name": "stdout",
     "output_type": "stream",
     "text": [
      "R^2:  0.018347253779067135\n",
      "MSE:  0.9391318844120397\n"
     ]
    }
   ],
   "source": [
    "# Define PLS object\n",
    "pls = PLSRegression(n_components= 26)\n",
    "# Fit\n",
    "pls.fit(X_train, y_train)\n",
    "# Cross-validation\n",
    "y_cv = cross_val_predict(pls, X_train, y_train, cv=10)\n",
    "# Calculate scores\n",
    "score = r2_score(y_train, y_cv)\n",
    "mse = mean_squared_error(y_train, y_cv)\n",
    "\n",
    "print(\"R^2: \", score)\n",
    "print(\"MSE: \", mse)"
   ]
  },
  {
   "cell_type": "code",
   "execution_count": 150,
   "metadata": {},
   "outputs": [
    {
     "name": "stdout",
     "output_type": "stream",
     "text": [
      "-4.070272705754876\n",
      "0.36555579763038115\n"
     ]
    }
   ],
   "source": [
    "y_pred = pls.predict(X_test)\n",
    "\n",
    "# Cross-validation\n",
    "y_cv = cross_val_predict(pls, X_train, y_train, cv=10)\n",
    "\n",
    "# Calculate scores for calibration and cross-validation\n",
    "score_pred = r2_score(y_test, y_pred)\n",
    "score_cv = r2_score(y_train, y_cv)\n",
    "\n",
    "print(score_pred) #NAMMERDA\n",
    "print(score_cv)"
   ]
  },
  {
   "cell_type": "code",
   "execution_count": 151,
   "metadata": {},
   "outputs": [
    {
     "data": {
      "text/html": [
       "<div>\n",
       "<style scoped>\n",
       "    .dataframe tbody tr th:only-of-type {\n",
       "        vertical-align: middle;\n",
       "    }\n",
       "\n",
       "    .dataframe tbody tr th {\n",
       "        vertical-align: top;\n",
       "    }\n",
       "\n",
       "    .dataframe thead th {\n",
       "        text-align: right;\n",
       "    }\n",
       "</style>\n",
       "<table border=\"1\" class=\"dataframe\">\n",
       "  <thead>\n",
       "    <tr style=\"text-align: right;\">\n",
       "      <th></th>\n",
       "      <th>0</th>\n",
       "      <th>1</th>\n",
       "      <th>2</th>\n",
       "      <th>3</th>\n",
       "      <th>4</th>\n",
       "      <th>5</th>\n",
       "    </tr>\n",
       "  </thead>\n",
       "  <tbody>\n",
       "    <tr>\n",
       "      <th>0</th>\n",
       "      <td>7.84</td>\n",
       "      <td>0.22</td>\n",
       "      <td>0.54</td>\n",
       "      <td>0.19</td>\n",
       "      <td>0.57</td>\n",
       "      <td>0.27</td>\n",
       "    </tr>\n",
       "    <tr>\n",
       "      <th>1</th>\n",
       "      <td>8.62</td>\n",
       "      <td>0.12</td>\n",
       "      <td>0.35</td>\n",
       "      <td>0.06</td>\n",
       "      <td>-0.12</td>\n",
       "      <td>-0.06</td>\n",
       "    </tr>\n",
       "    <tr>\n",
       "      <th>2</th>\n",
       "      <td>10.50</td>\n",
       "      <td>0.13</td>\n",
       "      <td>-0.61</td>\n",
       "      <td>0.45</td>\n",
       "      <td>0.15</td>\n",
       "      <td>-0.03</td>\n",
       "    </tr>\n",
       "    <tr>\n",
       "      <th>3</th>\n",
       "      <td>-0.28</td>\n",
       "      <td>0.42</td>\n",
       "      <td>1.56</td>\n",
       "      <td>-0.11</td>\n",
       "      <td>-0.34</td>\n",
       "      <td>0.95</td>\n",
       "    </tr>\n",
       "    <tr>\n",
       "      <th>4</th>\n",
       "      <td>9.93</td>\n",
       "      <td>0.09</td>\n",
       "      <td>0.29</td>\n",
       "      <td>-0.26</td>\n",
       "      <td>0.65</td>\n",
       "      <td>0.14</td>\n",
       "    </tr>\n",
       "  </tbody>\n",
       "</table>\n",
       "</div>"
      ],
      "text/plain": [
       "       0     1     2     3     4     5\n",
       "0   7.84  0.22  0.54  0.19  0.57  0.27\n",
       "1   8.62  0.12  0.35  0.06 -0.12 -0.06\n",
       "2  10.50  0.13 -0.61  0.45  0.15 -0.03\n",
       "3  -0.28  0.42  1.56 -0.11 -0.34  0.95\n",
       "4   9.93  0.09  0.29 -0.26  0.65  0.14"
      ]
     },
     "execution_count": 151,
     "metadata": {},
     "output_type": "execute_result"
    }
   ],
   "source": [
    "pd.DataFrame(np.round(y_pred, decimals=2))"
   ]
  },
  {
   "cell_type": "code",
   "execution_count": 152,
   "metadata": {
    "scrolled": true
   },
   "outputs": [
    {
     "data": {
      "text/html": [
       "<div>\n",
       "<style scoped>\n",
       "    .dataframe tbody tr th:only-of-type {\n",
       "        vertical-align: middle;\n",
       "    }\n",
       "\n",
       "    .dataframe tbody tr th {\n",
       "        vertical-align: top;\n",
       "    }\n",
       "\n",
       "    .dataframe thead th {\n",
       "        text-align: right;\n",
       "    }\n",
       "</style>\n",
       "<table border=\"1\" class=\"dataframe\">\n",
       "  <thead>\n",
       "    <tr style=\"text-align: right;\">\n",
       "      <th></th>\n",
       "      <th>0</th>\n",
       "      <th>1</th>\n",
       "      <th>2</th>\n",
       "      <th>3</th>\n",
       "      <th>4</th>\n",
       "      <th>5</th>\n",
       "    </tr>\n",
       "  </thead>\n",
       "  <tbody>\n",
       "    <tr>\n",
       "      <th>20</th>\n",
       "      <td>6.16</td>\n",
       "      <td>0.00</td>\n",
       "      <td>0.36</td>\n",
       "      <td>0.00</td>\n",
       "      <td>0.01</td>\n",
       "      <td>0.21</td>\n",
       "    </tr>\n",
       "    <tr>\n",
       "      <th>12</th>\n",
       "      <td>6.12</td>\n",
       "      <td>0.00</td>\n",
       "      <td>0.32</td>\n",
       "      <td>0.00</td>\n",
       "      <td>0.01</td>\n",
       "      <td>0.02</td>\n",
       "    </tr>\n",
       "    <tr>\n",
       "      <th>13</th>\n",
       "      <td>12.53</td>\n",
       "      <td>0.31</td>\n",
       "      <td>0.02</td>\n",
       "      <td>0.05</td>\n",
       "      <td>0.06</td>\n",
       "      <td>0.03</td>\n",
       "    </tr>\n",
       "    <tr>\n",
       "      <th>22</th>\n",
       "      <td>0.18</td>\n",
       "      <td>0.50</td>\n",
       "      <td>1.11</td>\n",
       "      <td>0.05</td>\n",
       "      <td>0.15</td>\n",
       "      <td>1.26</td>\n",
       "    </tr>\n",
       "    <tr>\n",
       "      <th>7</th>\n",
       "      <td>12.90</td>\n",
       "      <td>0.12</td>\n",
       "      <td>0.52</td>\n",
       "      <td>0.16</td>\n",
       "      <td>0.52</td>\n",
       "      <td>0.29</td>\n",
       "    </tr>\n",
       "  </tbody>\n",
       "</table>\n",
       "</div>"
      ],
      "text/plain": [
       "        0     1     2     3     4     5\n",
       "20   6.16  0.00  0.36  0.00  0.01  0.21\n",
       "12   6.12  0.00  0.32  0.00  0.01  0.02\n",
       "13  12.53  0.31  0.02  0.05  0.06  0.03\n",
       "22   0.18  0.50  1.11  0.05  0.15  1.26\n",
       "7   12.90  0.12  0.52  0.16  0.52  0.29"
      ]
     },
     "execution_count": 152,
     "metadata": {},
     "output_type": "execute_result"
    }
   ],
   "source": [
    "np.round(y_test, decimals=2)"
   ]
  },
  {
   "cell_type": "code",
   "execution_count": null,
   "metadata": {},
   "outputs": [],
   "source": []
  },
  {
   "cell_type": "code",
   "execution_count": null,
   "metadata": {},
   "outputs": [],
   "source": []
  }
 ],
 "metadata": {
  "kernelspec": {
   "display_name": "Python 3",
   "language": "python",
   "name": "python3"
  },
  "language_info": {
   "codemirror_mode": {
    "name": "ipython",
    "version": 3
   },
   "file_extension": ".py",
   "mimetype": "text/x-python",
   "name": "python",
   "nbconvert_exporter": "python",
   "pygments_lexer": "ipython3",
   "version": "3.7.6"
  }
 },
 "nbformat": 4,
 "nbformat_minor": 2
}
