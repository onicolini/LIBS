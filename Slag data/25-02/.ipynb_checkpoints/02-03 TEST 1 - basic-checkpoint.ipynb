{
 "cells": [
  {
   "cell_type": "markdown",
   "metadata": {},
   "source": [
    "## Intensity filtered data using reference aluminium wavelength 309.506 (pixel number 445) using saturated data\n",
    "\n",
    "### No preprocessing"
   ]
  },
  {
   "cell_type": "code",
   "execution_count": 1,
   "metadata": {},
   "outputs": [],
   "source": [
    "import os\n",
    "from sys import stdout\n",
    "import time\n",
    "\n",
    "\n",
    "import scipy.io\n",
    "import numpy as np\n",
    "import pandas as pd\n",
    "import matplotlib.pyplot as plt\n",
    "import peakutils\n",
    "%matplotlib inline \n",
    "from math import sqrt\n",
    "from scipy.signal import savgol_filter\n",
    "from sklearn.decomposition import PCA \n",
    "from sklearn.preprocessing import StandardScaler, normalize, MinMaxScaler \n",
    "from sklearn.model_selection import train_test_split, RandomizedSearchCV\n",
    "from sklearn.metrics import mean_squared_error, r2_score\n",
    "from sklearn.cross_decomposition import PLSRegression\n",
    "from sklearn.model_selection import cross_val_predict\n",
    "from sklearn import linear_model\n",
    "from sklearn.linear_model import ElasticNet,ElasticNetCV\n",
    "\n",
    "import warnings\n",
    "warnings.filterwarnings('ignore')"
   ]
  },
  {
   "cell_type": "code",
   "execution_count": 2,
   "metadata": {},
   "outputs": [
    {
     "data": {
      "text/plain": [
       "\"   \\n    # Fit a line to the CV vs response\\n    z = np.polyfit(y, y_c, 1)\\n    with plt.style.context(('ggplot')):\\n        fig, ax = plt.subplots(figsize=(9, 5))\\n        ax.scatter(y_c, y, c='red', edgecolors='k')\\n        #Plot the best fit line\\n        ax.plot(np.polyval(z,y), y, c='blue', linewidth=1)\\n        #Plot the ideal 1:1 line\\n        ax.plot(y, y, color='green', linewidth=1)\\n        plt.title('$R^{2}$ (CV): '+str(score_cv))\\n        plt.xlabel('Predicted $^{\\\\circ}$Brix')\\n        plt.ylabel('Measured $^{\\\\circ}$Brix')\\n        plt.show()\\n    return\\n\""
      ]
     },
     "execution_count": 2,
     "metadata": {},
     "output_type": "execute_result"
    }
   ],
   "source": [
    "def optimise_pls_cv(X, y, n_comp, plot_components=True):\n",
    "    '''Run PLS including a variable number of components, up to n_comp,\n",
    "       and calculate MSE '''\n",
    "    mse = []\n",
    "    component = np.arange(1, n_comp)\n",
    "    for i in component:\n",
    "        pls = PLSRegression(n_components=i)\n",
    "        # Cross-validation\n",
    "        y_cv = cross_val_predict(pls, X, y, cv=10)\n",
    "        mse.append(mean_squared_error(y, y_cv))\n",
    "        comp = 100*(i+1)/40\n",
    "        # Trick to update status on the same line\n",
    "        stdout.write(\"\\r%d%% completed\" % comp)\n",
    "        stdout.flush()\n",
    "    stdout.write(\"\\n\")\n",
    "    # Calculate and print the position of minimum in MSE\n",
    "    msemin = np.argmin(mse)\n",
    "    print(\"Suggested number of components: \", msemin+1)\n",
    "    stdout.write(\"\\n\")\n",
    "    if plot_components is True:\n",
    "        with plt.style.context(('ggplot')):\n",
    "            plt.plot(component, np.array(mse), '-v', color = 'blue', mfc='blue')\n",
    "            plt.plot(component[msemin], np.array(mse)[msemin], 'P', ms=10, mfc='red')\n",
    "            plt.xlabel('Number of PLS components')\n",
    "            plt.ylabel('MSE')\n",
    "            plt.title('PLS')\n",
    "            plt.xlim(left=-1)\n",
    "        plt.show()\n",
    "    # Define PLS object with optimal number of components\n",
    "    pls_opt = PLSRegression(n_components=msemin+1)\n",
    "    # Fir to the entire dataset\n",
    "    pls_opt.fit(X, y)\n",
    "    y_c = pls_opt.predict(X)\n",
    "    # Cross-validation\n",
    "    y_cv = cross_val_predict(pls_opt, X, y, cv=10)\n",
    "    # Calculate scores for calibration and cross-validation\n",
    "    score_c = r2_score(y, y_c)\n",
    "    score_cv = r2_score(y, y_cv)\n",
    "    # Calculate mean squared error for calibration and cross validation\n",
    "    mse_c = mean_squared_error(y, y_c)\n",
    "    mse_cv = mean_squared_error(y, y_cv)\n",
    "    print('R2 calib: %5.3f'  % score_c)\n",
    "    print('R2 CV: %5.3f'  % score_cv)\n",
    "    print('MSE calib: %5.3f' % mse_c)\n",
    "    print('MSE CV: %5.3f' % mse_cv)\n",
    "    \n",
    "    return\n",
    "    # Plot regression and figures of merit\n",
    "    rangey = max(y) - min(y)\n",
    "    rangex = max(y_c) - min(y_c)\n",
    "\"\"\"   \n",
    "    # Fit a line to the CV vs response\n",
    "    z = np.polyfit(y, y_c, 1)\n",
    "    with plt.style.context(('ggplot')):\n",
    "        fig, ax = plt.subplots(figsize=(9, 5))\n",
    "        ax.scatter(y_c, y, c='red', edgecolors='k')\n",
    "        #Plot the best fit line\n",
    "        ax.plot(np.polyval(z,y), y, c='blue', linewidth=1)\n",
    "        #Plot the ideal 1:1 line\n",
    "        ax.plot(y, y, color='green', linewidth=1)\n",
    "        plt.title('$R^{2}$ (CV): '+str(score_cv))\n",
    "        plt.xlabel('Predicted $^{\\circ}$Brix')\n",
    "        plt.ylabel('Measured $^{\\circ}$Brix')\n",
    "        plt.show()\n",
    "    return\n",
    "\"\"\" "
   ]
  },
  {
   "cell_type": "code",
   "execution_count": 3,
   "metadata": {},
   "outputs": [],
   "source": [
    "def pls_variable_selection(X, y, max_comp):\n",
    "    \n",
    "    # Define MSE array to be populated\n",
    "    mse = np.zeros((max_comp,X.shape[1]))\n",
    "    # Loop over the number of PLS components\n",
    "    for i in range(max_comp):\n",
    "        \n",
    "        # Regression with specified number of components, using full spectrum\n",
    "        pls1 = PLSRegression(n_components=i+1)\n",
    "        pls1.fit(X, y)\n",
    "        \n",
    "        # Indices of sort spectra according to ascending absolute value of PLS coefficients\n",
    "        sorted_ind = np.argsort(np.abs(pls1.coef_[:,0]))\n",
    "        # Sort spectra accordingly \n",
    "        Xc = X[:,sorted_ind]\n",
    "        # Discard one wavelength at a time of the sorted spectra,\n",
    "        # regress, and calculate the MSE cross-validation\n",
    "        for j in range(Xc.shape[1]-(i+1)):\n",
    "            pls2 = PLSRegression(n_components=i+1)\n",
    "            pls2.fit(Xc[:, j:], y)\n",
    "            \n",
    "            y_cv = cross_val_predict(pls2, Xc[:, j:], y, cv=5)\n",
    "            mse[i,j] = mean_squared_error(y, y_cv)\n",
    "    \n",
    "        comp = 100*(i+1)/(max_comp)\n",
    "        stdout.write(\"\\r%d%% completed\" % comp)\n",
    "        stdout.flush()\n",
    "    stdout.write(\"\\n\")\n",
    "    # # Calculate and print the position of minimum in MSE\n",
    "    mseminx,mseminy = np.where(mse==np.min(mse[np.nonzero(mse)]))\n",
    "    print(\"Optimised number of PLS components: \", mseminx[0]+1)\n",
    "    print(\"Wavelengths to be discarded \",mseminy[0])\n",
    "    print('Optimised MSEP ', mse[mseminx,mseminy][0])\n",
    "    stdout.write(\"\\n\")\n",
    "    # plt.imshow(mse, interpolation=None)\n",
    "    # plt.show()\n",
    "    # Calculate PLS with optimal components and export values\n",
    "    pls = PLSRegression(n_components=mseminx[0]+1)\n",
    "    pls.fit(X, y)\n",
    "        \n",
    "    sorted_ind = np.argsort(np.abs(pls.coef_[:,0]))\n",
    "    Xc = X[:,sorted_ind]\n",
    "    return(Xc[:,mseminy[0]:],mseminx[0]+1,mseminy[0], sorted_ind)"
   ]
  },
  {
   "cell_type": "code",
   "execution_count": 4,
   "metadata": {},
   "outputs": [],
   "source": [
    "def msc(input_data, reference=None):\n",
    "    ''' Perform Multiplicative scatter correction'''\n",
    "    # mean centre correction\n",
    "    for i in range(input_data.shape[0]):\n",
    "        input_data[i,:] -= input_data[i,:].mean()\n",
    "    # Get the reference spectrum. If not given, estimate it from the mean    \n",
    "    if reference is None:    \n",
    "        # Calculate mean\n",
    "        ref = np.mean(input_data, axis=0)\n",
    "    else:\n",
    "        ref = reference\n",
    "    # Define a new array and populate it with the corrected data    \n",
    "    data_msc = np.zeros_like(input_data)\n",
    "    for i in range(input_data.shape[0]):\n",
    "        # Run regression\n",
    "        fit = np.polyfit(ref, input_data[i,:], 1, full=True)\n",
    "        # Apply correction\n",
    "        data_msc[i,:] = (input_data[i,:] - fit[0][1]) / fit[0][0] \n",
    "    return (data_msc, ref)"
   ]
  },
  {
   "cell_type": "code",
   "execution_count": 5,
   "metadata": {},
   "outputs": [],
   "source": [
    "def snv(input_data):\n",
    "  \n",
    "    # Define a new array and populate it with the corrected data  \n",
    "    data_snv = np.zeros_like(input_data)\n",
    "    for i in range(input_data.shape[0]):\n",
    "        # Apply correction\n",
    "        data_snv[i,:] = (input_data[i,:] - np.mean(input_data[i,:])) / np.std(input_data[i,:])\n",
    "    return data_snv"
   ]
  },
  {
   "cell_type": "code",
   "execution_count": 9,
   "metadata": {},
   "outputs": [
    {
     "name": "stdout",
     "output_type": "stream",
     "text": [
      "(34, 3648)\n",
      "(3648,)\n",
      "34\n"
     ]
    },
    {
     "data": {
      "text/html": [
       "<div>\n",
       "<style scoped>\n",
       "    .dataframe tbody tr th:only-of-type {\n",
       "        vertical-align: middle;\n",
       "    }\n",
       "\n",
       "    .dataframe tbody tr th {\n",
       "        vertical-align: top;\n",
       "    }\n",
       "\n",
       "    .dataframe thead th {\n",
       "        text-align: right;\n",
       "    }\n",
       "</style>\n",
       "<table border=\"1\" class=\"dataframe\">\n",
       "  <thead>\n",
       "    <tr style=\"text-align: right;\">\n",
       "      <th></th>\n",
       "      <th>216.330000</th>\n",
       "      <th>216.370000</th>\n",
       "      <th>216.410000</th>\n",
       "      <th>216.450000</th>\n",
       "      <th>216.490000</th>\n",
       "      <th>216.520000</th>\n",
       "      <th>216.560000</th>\n",
       "      <th>216.600000</th>\n",
       "      <th>216.640000</th>\n",
       "      <th>216.680000</th>\n",
       "      <th>...</th>\n",
       "      <th>340.120000</th>\n",
       "      <th>340.150000</th>\n",
       "      <th>340.170000</th>\n",
       "      <th>340.200000</th>\n",
       "      <th>340.230000</th>\n",
       "      <th>340.260000</th>\n",
       "      <th>340.290000</th>\n",
       "      <th>340.320000</th>\n",
       "      <th>340.340000</th>\n",
       "      <th>340.370000</th>\n",
       "    </tr>\n",
       "  </thead>\n",
       "  <tbody>\n",
       "    <tr>\n",
       "      <th>0</th>\n",
       "      <td>-34.080506</td>\n",
       "      <td>-52.856238</td>\n",
       "      <td>-53.531268</td>\n",
       "      <td>-50.722102</td>\n",
       "      <td>-46.480848</td>\n",
       "      <td>-48.353168</td>\n",
       "      <td>-43.511188</td>\n",
       "      <td>-42.930313</td>\n",
       "      <td>-25.964166</td>\n",
       "      <td>-13.178900</td>\n",
       "      <td>...</td>\n",
       "      <td>-103.397082</td>\n",
       "      <td>-27.768753</td>\n",
       "      <td>-23.160893</td>\n",
       "      <td>-9.626787</td>\n",
       "      <td>-19.266555</td>\n",
       "      <td>-49.249992</td>\n",
       "      <td>-57.284947</td>\n",
       "      <td>-42.332194</td>\n",
       "      <td>-19.901689</td>\n",
       "      <td>3.392399</td>\n",
       "    </tr>\n",
       "    <tr>\n",
       "      <th>1</th>\n",
       "      <td>-35.618919</td>\n",
       "      <td>-60.499509</td>\n",
       "      <td>-60.724984</td>\n",
       "      <td>-58.526364</td>\n",
       "      <td>-52.552160</td>\n",
       "      <td>-54.819421</td>\n",
       "      <td>-50.428250</td>\n",
       "      <td>-48.202075</td>\n",
       "      <td>-29.373010</td>\n",
       "      <td>-7.262829</td>\n",
       "      <td>...</td>\n",
       "      <td>-65.223663</td>\n",
       "      <td>25.026995</td>\n",
       "      <td>31.068621</td>\n",
       "      <td>53.714197</td>\n",
       "      <td>41.419173</td>\n",
       "      <td>-1.771897</td>\n",
       "      <td>-9.098835</td>\n",
       "      <td>12.655631</td>\n",
       "      <td>38.602063</td>\n",
       "      <td>69.219012</td>\n",
       "    </tr>\n",
       "    <tr>\n",
       "      <th>2</th>\n",
       "      <td>-62.382227</td>\n",
       "      <td>-84.498001</td>\n",
       "      <td>-82.950714</td>\n",
       "      <td>-81.565761</td>\n",
       "      <td>-74.436931</td>\n",
       "      <td>-77.430743</td>\n",
       "      <td>-70.423088</td>\n",
       "      <td>-64.868505</td>\n",
       "      <td>-43.506519</td>\n",
       "      <td>-21.451839</td>\n",
       "      <td>...</td>\n",
       "      <td>-93.318483</td>\n",
       "      <td>2.007907</td>\n",
       "      <td>0.898504</td>\n",
       "      <td>30.370624</td>\n",
       "      <td>11.331196</td>\n",
       "      <td>-23.058164</td>\n",
       "      <td>-25.353733</td>\n",
       "      <td>-3.266188</td>\n",
       "      <td>21.531311</td>\n",
       "      <td>46.794898</td>\n",
       "    </tr>\n",
       "    <tr>\n",
       "      <th>3</th>\n",
       "      <td>-49.101504</td>\n",
       "      <td>-80.148716</td>\n",
       "      <td>-83.607070</td>\n",
       "      <td>-77.709286</td>\n",
       "      <td>-63.839702</td>\n",
       "      <td>-69.958822</td>\n",
       "      <td>-68.338852</td>\n",
       "      <td>-63.386695</td>\n",
       "      <td>-29.598815</td>\n",
       "      <td>21.239889</td>\n",
       "      <td>...</td>\n",
       "      <td>-42.188972</td>\n",
       "      <td>93.573616</td>\n",
       "      <td>118.603411</td>\n",
       "      <td>177.033714</td>\n",
       "      <td>161.691056</td>\n",
       "      <td>82.310284</td>\n",
       "      <td>56.179137</td>\n",
       "      <td>97.075480</td>\n",
       "      <td>151.791278</td>\n",
       "      <td>221.938668</td>\n",
       "    </tr>\n",
       "    <tr>\n",
       "      <th>4</th>\n",
       "      <td>-35.597277</td>\n",
       "      <td>-58.723867</td>\n",
       "      <td>-60.834177</td>\n",
       "      <td>-57.003971</td>\n",
       "      <td>-51.635249</td>\n",
       "      <td>-52.753055</td>\n",
       "      <td>-50.356131</td>\n",
       "      <td>-46.890307</td>\n",
       "      <td>-24.775737</td>\n",
       "      <td>3.372683</td>\n",
       "      <td>...</td>\n",
       "      <td>-72.327183</td>\n",
       "      <td>24.663949</td>\n",
       "      <td>30.693258</td>\n",
       "      <td>61.472081</td>\n",
       "      <td>45.860159</td>\n",
       "      <td>-2.779950</td>\n",
       "      <td>-19.371852</td>\n",
       "      <td>6.021838</td>\n",
       "      <td>38.575199</td>\n",
       "      <td>85.071577</td>\n",
       "    </tr>\n",
       "    <tr>\n",
       "      <th>5</th>\n",
       "      <td>-36.534193</td>\n",
       "      <td>-59.580579</td>\n",
       "      <td>-59.810637</td>\n",
       "      <td>-55.192681</td>\n",
       "      <td>-50.080626</td>\n",
       "      <td>-51.567380</td>\n",
       "      <td>-51.542303</td>\n",
       "      <td>-46.489816</td>\n",
       "      <td>-26.755774</td>\n",
       "      <td>-1.753168</td>\n",
       "      <td>...</td>\n",
       "      <td>-85.625283</td>\n",
       "      <td>9.758146</td>\n",
       "      <td>12.955223</td>\n",
       "      <td>40.682918</td>\n",
       "      <td>23.893431</td>\n",
       "      <td>-20.144712</td>\n",
       "      <td>-35.420234</td>\n",
       "      <td>-11.428840</td>\n",
       "      <td>20.462124</td>\n",
       "      <td>59.212916</td>\n",
       "    </tr>\n",
       "    <tr>\n",
       "      <th>6</th>\n",
       "      <td>-37.056010</td>\n",
       "      <td>-62.295118</td>\n",
       "      <td>-62.219335</td>\n",
       "      <td>-58.452735</td>\n",
       "      <td>-52.370099</td>\n",
       "      <td>-54.861897</td>\n",
       "      <td>-52.544780</td>\n",
       "      <td>-48.673733</td>\n",
       "      <td>-25.452400</td>\n",
       "      <td>4.840277</td>\n",
       "      <td>...</td>\n",
       "      <td>-76.810026</td>\n",
       "      <td>30.638917</td>\n",
       "      <td>34.893883</td>\n",
       "      <td>73.356474</td>\n",
       "      <td>54.438559</td>\n",
       "      <td>1.259937</td>\n",
       "      <td>-14.633469</td>\n",
       "      <td>12.454864</td>\n",
       "      <td>50.428531</td>\n",
       "      <td>101.901342</td>\n",
       "    </tr>\n",
       "    <tr>\n",
       "      <th>7</th>\n",
       "      <td>-36.567012</td>\n",
       "      <td>-60.525560</td>\n",
       "      <td>-61.558858</td>\n",
       "      <td>-60.930587</td>\n",
       "      <td>-51.995660</td>\n",
       "      <td>-56.664018</td>\n",
       "      <td>-52.716117</td>\n",
       "      <td>-49.237293</td>\n",
       "      <td>-25.918533</td>\n",
       "      <td>0.284314</td>\n",
       "      <td>...</td>\n",
       "      <td>-81.835294</td>\n",
       "      <td>26.650759</td>\n",
       "      <td>25.292772</td>\n",
       "      <td>59.780565</td>\n",
       "      <td>40.039979</td>\n",
       "      <td>-9.963122</td>\n",
       "      <td>-25.816141</td>\n",
       "      <td>-0.461396</td>\n",
       "      <td>34.829779</td>\n",
       "      <td>80.718363</td>\n",
       "    </tr>\n",
       "    <tr>\n",
       "      <th>8</th>\n",
       "      <td>-36.352760</td>\n",
       "      <td>-66.482287</td>\n",
       "      <td>-70.130211</td>\n",
       "      <td>-67.015686</td>\n",
       "      <td>-56.367065</td>\n",
       "      <td>-60.704904</td>\n",
       "      <td>-57.048680</td>\n",
       "      <td>-55.251739</td>\n",
       "      <td>-29.179874</td>\n",
       "      <td>-1.546280</td>\n",
       "      <td>...</td>\n",
       "      <td>-79.287743</td>\n",
       "      <td>33.481820</td>\n",
       "      <td>49.192359</td>\n",
       "      <td>93.304922</td>\n",
       "      <td>84.044624</td>\n",
       "      <td>24.143615</td>\n",
       "      <td>7.073220</td>\n",
       "      <td>34.408659</td>\n",
       "      <td>76.490304</td>\n",
       "      <td>125.803008</td>\n",
       "    </tr>\n",
       "    <tr>\n",
       "      <th>9</th>\n",
       "      <td>-31.922748</td>\n",
       "      <td>-51.175660</td>\n",
       "      <td>-52.985698</td>\n",
       "      <td>-47.869829</td>\n",
       "      <td>-44.266964</td>\n",
       "      <td>-45.152212</td>\n",
       "      <td>-43.333262</td>\n",
       "      <td>-39.709429</td>\n",
       "      <td>-22.070866</td>\n",
       "      <td>0.327345</td>\n",
       "      <td>...</td>\n",
       "      <td>-78.304219</td>\n",
       "      <td>6.692097</td>\n",
       "      <td>4.575283</td>\n",
       "      <td>32.220340</td>\n",
       "      <td>18.928740</td>\n",
       "      <td>-18.095330</td>\n",
       "      <td>-29.613183</td>\n",
       "      <td>-6.082963</td>\n",
       "      <td>18.667277</td>\n",
       "      <td>53.660729</td>\n",
       "    </tr>\n",
       "    <tr>\n",
       "      <th>10</th>\n",
       "      <td>-44.853878</td>\n",
       "      <td>-77.363471</td>\n",
       "      <td>-77.828906</td>\n",
       "      <td>-74.245638</td>\n",
       "      <td>-62.899375</td>\n",
       "      <td>-66.801152</td>\n",
       "      <td>-64.706805</td>\n",
       "      <td>-58.911782</td>\n",
       "      <td>-25.695943</td>\n",
       "      <td>22.637475</td>\n",
       "      <td>...</td>\n",
       "      <td>-86.845884</td>\n",
       "      <td>59.973656</td>\n",
       "      <td>88.309967</td>\n",
       "      <td>162.035799</td>\n",
       "      <td>169.562862</td>\n",
       "      <td>119.235331</td>\n",
       "      <td>113.755167</td>\n",
       "      <td>151.712643</td>\n",
       "      <td>195.344783</td>\n",
       "      <td>235.413283</td>\n",
       "    </tr>\n",
       "    <tr>\n",
       "      <th>11</th>\n",
       "      <td>-56.049767</td>\n",
       "      <td>-85.316034</td>\n",
       "      <td>-88.122173</td>\n",
       "      <td>-85.360525</td>\n",
       "      <td>-71.298230</td>\n",
       "      <td>-78.835602</td>\n",
       "      <td>-75.357003</td>\n",
       "      <td>-69.306601</td>\n",
       "      <td>-39.904484</td>\n",
       "      <td>0.075839</td>\n",
       "      <td>...</td>\n",
       "      <td>-90.194816</td>\n",
       "      <td>46.208376</td>\n",
       "      <td>68.542083</td>\n",
       "      <td>140.965815</td>\n",
       "      <td>151.848811</td>\n",
       "      <td>117.656800</td>\n",
       "      <td>119.940832</td>\n",
       "      <td>167.240791</td>\n",
       "      <td>187.909161</td>\n",
       "      <td>206.356634</td>\n",
       "    </tr>\n",
       "    <tr>\n",
       "      <th>12</th>\n",
       "      <td>-37.110913</td>\n",
       "      <td>-54.480085</td>\n",
       "      <td>-52.202878</td>\n",
       "      <td>-50.244582</td>\n",
       "      <td>-49.938695</td>\n",
       "      <td>-49.494972</td>\n",
       "      <td>-42.139263</td>\n",
       "      <td>-41.144701</td>\n",
       "      <td>-33.557053</td>\n",
       "      <td>-39.324000</td>\n",
       "      <td>...</td>\n",
       "      <td>-59.646484</td>\n",
       "      <td>-2.083357</td>\n",
       "      <td>35.140704</td>\n",
       "      <td>91.961824</td>\n",
       "      <td>151.058578</td>\n",
       "      <td>208.827352</td>\n",
       "      <td>264.006076</td>\n",
       "      <td>298.429262</td>\n",
       "      <td>251.108482</td>\n",
       "      <td>148.434583</td>\n",
       "    </tr>\n",
       "    <tr>\n",
       "      <th>13</th>\n",
       "      <td>-59.504080</td>\n",
       "      <td>-73.812557</td>\n",
       "      <td>-70.581533</td>\n",
       "      <td>-71.401440</td>\n",
       "      <td>-66.797223</td>\n",
       "      <td>-64.741849</td>\n",
       "      <td>-55.505581</td>\n",
       "      <td>-51.229265</td>\n",
       "      <td>-45.902495</td>\n",
       "      <td>-55.733682</td>\n",
       "      <td>...</td>\n",
       "      <td>-104.941694</td>\n",
       "      <td>-33.613983</td>\n",
       "      <td>2.753182</td>\n",
       "      <td>67.536630</td>\n",
       "      <td>132.114229</td>\n",
       "      <td>193.130476</td>\n",
       "      <td>253.697645</td>\n",
       "      <td>294.812104</td>\n",
       "      <td>241.767515</td>\n",
       "      <td>131.523860</td>\n",
       "    </tr>\n",
       "    <tr>\n",
       "      <th>14</th>\n",
       "      <td>-43.141050</td>\n",
       "      <td>-56.757398</td>\n",
       "      <td>-56.340484</td>\n",
       "      <td>-53.668082</td>\n",
       "      <td>-50.214357</td>\n",
       "      <td>-46.846963</td>\n",
       "      <td>-32.155422</td>\n",
       "      <td>-20.055507</td>\n",
       "      <td>-17.825345</td>\n",
       "      <td>-32.797555</td>\n",
       "      <td>...</td>\n",
       "      <td>-54.450492</td>\n",
       "      <td>17.953766</td>\n",
       "      <td>72.801033</td>\n",
       "      <td>153.898107</td>\n",
       "      <td>239.349734</td>\n",
       "      <td>322.615931</td>\n",
       "      <td>403.419986</td>\n",
       "      <td>446.090279</td>\n",
       "      <td>378.740047</td>\n",
       "      <td>237.945370</td>\n",
       "    </tr>\n",
       "    <tr>\n",
       "      <th>15</th>\n",
       "      <td>-42.234265</td>\n",
       "      <td>-59.352397</td>\n",
       "      <td>-57.835929</td>\n",
       "      <td>-53.295594</td>\n",
       "      <td>-51.225052</td>\n",
       "      <td>-44.751816</td>\n",
       "      <td>-30.240532</td>\n",
       "      <td>-18.841084</td>\n",
       "      <td>-16.518416</td>\n",
       "      <td>-34.284452</td>\n",
       "      <td>...</td>\n",
       "      <td>-122.993509</td>\n",
       "      <td>-35.627349</td>\n",
       "      <td>26.711922</td>\n",
       "      <td>134.708131</td>\n",
       "      <td>253.719230</td>\n",
       "      <td>363.505106</td>\n",
       "      <td>468.167928</td>\n",
       "      <td>533.410906</td>\n",
       "      <td>447.721739</td>\n",
       "      <td>253.882682</td>\n",
       "    </tr>\n",
       "    <tr>\n",
       "      <th>16</th>\n",
       "      <td>-53.388363</td>\n",
       "      <td>-69.857963</td>\n",
       "      <td>-68.749905</td>\n",
       "      <td>-64.348927</td>\n",
       "      <td>-63.266063</td>\n",
       "      <td>-61.255393</td>\n",
       "      <td>-51.983805</td>\n",
       "      <td>-42.550746</td>\n",
       "      <td>-38.437816</td>\n",
       "      <td>-48.449501</td>\n",
       "      <td>...</td>\n",
       "      <td>-82.712486</td>\n",
       "      <td>11.972866</td>\n",
       "      <td>79.704500</td>\n",
       "      <td>198.686786</td>\n",
       "      <td>320.294391</td>\n",
       "      <td>436.438764</td>\n",
       "      <td>543.314735</td>\n",
       "      <td>607.486339</td>\n",
       "      <td>512.771018</td>\n",
       "      <td>315.755287</td>\n",
       "    </tr>\n",
       "    <tr>\n",
       "      <th>17</th>\n",
       "      <td>-30.921968</td>\n",
       "      <td>-45.458906</td>\n",
       "      <td>-44.618564</td>\n",
       "      <td>-42.942566</td>\n",
       "      <td>-42.509506</td>\n",
       "      <td>-41.698804</td>\n",
       "      <td>-37.283589</td>\n",
       "      <td>-36.184184</td>\n",
       "      <td>-30.882541</td>\n",
       "      <td>-34.910987</td>\n",
       "      <td>...</td>\n",
       "      <td>-94.465317</td>\n",
       "      <td>-35.280441</td>\n",
       "      <td>-4.716887</td>\n",
       "      <td>49.746252</td>\n",
       "      <td>105.039669</td>\n",
       "      <td>161.305921</td>\n",
       "      <td>215.862268</td>\n",
       "      <td>251.530079</td>\n",
       "      <td>202.711643</td>\n",
       "      <td>102.103639</td>\n",
       "    </tr>\n",
       "    <tr>\n",
       "      <th>18</th>\n",
       "      <td>-46.051061</td>\n",
       "      <td>-61.081730</td>\n",
       "      <td>-59.844707</td>\n",
       "      <td>-58.175975</td>\n",
       "      <td>-54.435378</td>\n",
       "      <td>-55.071621</td>\n",
       "      <td>-41.744600</td>\n",
       "      <td>-37.716514</td>\n",
       "      <td>-30.387246</td>\n",
       "      <td>-40.720583</td>\n",
       "      <td>...</td>\n",
       "      <td>-61.718371</td>\n",
       "      <td>20.987222</td>\n",
       "      <td>81.935784</td>\n",
       "      <td>175.648992</td>\n",
       "      <td>278.040183</td>\n",
       "      <td>368.219071</td>\n",
       "      <td>456.860374</td>\n",
       "      <td>512.012368</td>\n",
       "      <td>435.628977</td>\n",
       "      <td>275.598848</td>\n",
       "    </tr>\n",
       "    <tr>\n",
       "      <th>19</th>\n",
       "      <td>-40.437569</td>\n",
       "      <td>-53.368599</td>\n",
       "      <td>-52.354001</td>\n",
       "      <td>-51.883608</td>\n",
       "      <td>-48.535669</td>\n",
       "      <td>-48.041620</td>\n",
       "      <td>-44.166470</td>\n",
       "      <td>-41.413286</td>\n",
       "      <td>-35.732887</td>\n",
       "      <td>-42.236379</td>\n",
       "      <td>...</td>\n",
       "      <td>-102.390869</td>\n",
       "      <td>-41.349077</td>\n",
       "      <td>-5.939007</td>\n",
       "      <td>52.013344</td>\n",
       "      <td>115.436116</td>\n",
       "      <td>175.383218</td>\n",
       "      <td>234.345437</td>\n",
       "      <td>269.207886</td>\n",
       "      <td>220.249999</td>\n",
       "      <td>109.891166</td>\n",
       "    </tr>\n",
       "    <tr>\n",
       "      <th>20</th>\n",
       "      <td>-64.492851</td>\n",
       "      <td>-79.491338</td>\n",
       "      <td>-80.066391</td>\n",
       "      <td>-78.427537</td>\n",
       "      <td>-76.790618</td>\n",
       "      <td>-75.984507</td>\n",
       "      <td>-65.906619</td>\n",
       "      <td>-60.938082</td>\n",
       "      <td>-56.019576</td>\n",
       "      <td>-63.067473</td>\n",
       "      <td>...</td>\n",
       "      <td>-138.599294</td>\n",
       "      <td>-22.905799</td>\n",
       "      <td>55.301496</td>\n",
       "      <td>197.736751</td>\n",
       "      <td>337.917233</td>\n",
       "      <td>463.077761</td>\n",
       "      <td>590.113333</td>\n",
       "      <td>656.157161</td>\n",
       "      <td>550.761023</td>\n",
       "      <td>329.644417</td>\n",
       "    </tr>\n",
       "    <tr>\n",
       "      <th>21</th>\n",
       "      <td>-103.064140</td>\n",
       "      <td>-120.225521</td>\n",
       "      <td>-117.851821</td>\n",
       "      <td>-117.778948</td>\n",
       "      <td>-114.048511</td>\n",
       "      <td>-111.152773</td>\n",
       "      <td>-98.567939</td>\n",
       "      <td>-88.923606</td>\n",
       "      <td>-81.519400</td>\n",
       "      <td>-89.423674</td>\n",
       "      <td>...</td>\n",
       "      <td>-101.135119</td>\n",
       "      <td>71.479341</td>\n",
       "      <td>209.049769</td>\n",
       "      <td>461.345496</td>\n",
       "      <td>715.666176</td>\n",
       "      <td>944.618235</td>\n",
       "      <td>1165.129142</td>\n",
       "      <td>1284.646584</td>\n",
       "      <td>1099.664022</td>\n",
       "      <td>700.127950</td>\n",
       "    </tr>\n",
       "    <tr>\n",
       "      <th>22</th>\n",
       "      <td>-18.635485</td>\n",
       "      <td>-33.116267</td>\n",
       "      <td>-31.251134</td>\n",
       "      <td>-28.115578</td>\n",
       "      <td>-27.840168</td>\n",
       "      <td>-27.825272</td>\n",
       "      <td>-26.578314</td>\n",
       "      <td>-25.257087</td>\n",
       "      <td>-18.477924</td>\n",
       "      <td>-19.820028</td>\n",
       "      <td>...</td>\n",
       "      <td>-35.228852</td>\n",
       "      <td>-6.603317</td>\n",
       "      <td>6.008602</td>\n",
       "      <td>13.242426</td>\n",
       "      <td>28.784416</td>\n",
       "      <td>47.835068</td>\n",
       "      <td>66.784854</td>\n",
       "      <td>84.879441</td>\n",
       "      <td>70.069325</td>\n",
       "      <td>28.360694</td>\n",
       "    </tr>\n",
       "    <tr>\n",
       "      <th>23</th>\n",
       "      <td>-32.922595</td>\n",
       "      <td>-46.451284</td>\n",
       "      <td>-45.394735</td>\n",
       "      <td>-42.497556</td>\n",
       "      <td>-42.445572</td>\n",
       "      <td>-42.489595</td>\n",
       "      <td>-39.800099</td>\n",
       "      <td>-38.309802</td>\n",
       "      <td>-30.341363</td>\n",
       "      <td>-30.716460</td>\n",
       "      <td>...</td>\n",
       "      <td>-68.855414</td>\n",
       "      <td>-12.717581</td>\n",
       "      <td>0.304584</td>\n",
       "      <td>34.085682</td>\n",
       "      <td>57.430427</td>\n",
       "      <td>84.310744</td>\n",
       "      <td>113.695941</td>\n",
       "      <td>136.873421</td>\n",
       "      <td>116.289956</td>\n",
       "      <td>63.528175</td>\n",
       "    </tr>\n",
       "    <tr>\n",
       "      <th>24</th>\n",
       "      <td>-67.813804</td>\n",
       "      <td>-100.379079</td>\n",
       "      <td>-101.077468</td>\n",
       "      <td>-97.335196</td>\n",
       "      <td>-78.678817</td>\n",
       "      <td>-84.724059</td>\n",
       "      <td>-85.674193</td>\n",
       "      <td>-78.245275</td>\n",
       "      <td>-37.832045</td>\n",
       "      <td>28.907148</td>\n",
       "      <td>...</td>\n",
       "      <td>-26.225522</td>\n",
       "      <td>146.285428</td>\n",
       "      <td>191.918144</td>\n",
       "      <td>297.319225</td>\n",
       "      <td>322.893301</td>\n",
       "      <td>278.592536</td>\n",
       "      <td>282.161220</td>\n",
       "      <td>328.150197</td>\n",
       "      <td>358.957516</td>\n",
       "      <td>392.983846</td>\n",
       "    </tr>\n",
       "    <tr>\n",
       "      <th>25</th>\n",
       "      <td>-6.654355</td>\n",
       "      <td>-21.944984</td>\n",
       "      <td>-22.569564</td>\n",
       "      <td>-18.818758</td>\n",
       "      <td>-18.679576</td>\n",
       "      <td>-18.564510</td>\n",
       "      <td>-16.509426</td>\n",
       "      <td>-16.049265</td>\n",
       "      <td>-8.144443</td>\n",
       "      <td>-10.616232</td>\n",
       "      <td>...</td>\n",
       "      <td>-42.096844</td>\n",
       "      <td>-16.948085</td>\n",
       "      <td>-11.724491</td>\n",
       "      <td>-14.569538</td>\n",
       "      <td>-19.389227</td>\n",
       "      <td>-15.223757</td>\n",
       "      <td>-12.369974</td>\n",
       "      <td>-0.968880</td>\n",
       "      <td>0.979523</td>\n",
       "      <td>-8.487039</td>\n",
       "    </tr>\n",
       "    <tr>\n",
       "      <th>26</th>\n",
       "      <td>-12.881659</td>\n",
       "      <td>-27.042398</td>\n",
       "      <td>-27.585504</td>\n",
       "      <td>-24.188559</td>\n",
       "      <td>-22.413778</td>\n",
       "      <td>-24.349320</td>\n",
       "      <td>-19.077802</td>\n",
       "      <td>-19.944814</td>\n",
       "      <td>-13.188641</td>\n",
       "      <td>-15.741771</td>\n",
       "      <td>...</td>\n",
       "      <td>-51.294915</td>\n",
       "      <td>-17.290035</td>\n",
       "      <td>-8.640831</td>\n",
       "      <td>-3.074760</td>\n",
       "      <td>2.389037</td>\n",
       "      <td>11.336456</td>\n",
       "      <td>22.334250</td>\n",
       "      <td>36.759750</td>\n",
       "      <td>31.636634</td>\n",
       "      <td>7.734677</td>\n",
       "    </tr>\n",
       "    <tr>\n",
       "      <th>27</th>\n",
       "      <td>-52.903696</td>\n",
       "      <td>-74.352399</td>\n",
       "      <td>-74.569024</td>\n",
       "      <td>-71.240239</td>\n",
       "      <td>-63.750533</td>\n",
       "      <td>-66.619816</td>\n",
       "      <td>-64.208676</td>\n",
       "      <td>-59.406642</td>\n",
       "      <td>-36.404891</td>\n",
       "      <td>-12.096665</td>\n",
       "      <td>...</td>\n",
       "      <td>-51.942393</td>\n",
       "      <td>69.835947</td>\n",
       "      <td>112.454310</td>\n",
       "      <td>209.577619</td>\n",
       "      <td>267.637126</td>\n",
       "      <td>290.391216</td>\n",
       "      <td>343.528170</td>\n",
       "      <td>405.459048</td>\n",
       "      <td>381.499315</td>\n",
       "      <td>307.513024</td>\n",
       "    </tr>\n",
       "    <tr>\n",
       "      <th>28</th>\n",
       "      <td>-10.935745</td>\n",
       "      <td>-25.815226</td>\n",
       "      <td>-23.347346</td>\n",
       "      <td>-21.923796</td>\n",
       "      <td>-21.830210</td>\n",
       "      <td>-22.206879</td>\n",
       "      <td>-19.053801</td>\n",
       "      <td>-16.829445</td>\n",
       "      <td>-13.400813</td>\n",
       "      <td>-16.925029</td>\n",
       "      <td>...</td>\n",
       "      <td>-20.361740</td>\n",
       "      <td>-3.219095</td>\n",
       "      <td>-0.777338</td>\n",
       "      <td>-11.910210</td>\n",
       "      <td>-16.998743</td>\n",
       "      <td>-15.893109</td>\n",
       "      <td>-15.212837</td>\n",
       "      <td>-11.555010</td>\n",
       "      <td>-9.307396</td>\n",
       "      <td>-13.298278</td>\n",
       "    </tr>\n",
       "    <tr>\n",
       "      <th>29</th>\n",
       "      <td>-12.376573</td>\n",
       "      <td>-23.880609</td>\n",
       "      <td>-22.305571</td>\n",
       "      <td>-19.606871</td>\n",
       "      <td>-20.804125</td>\n",
       "      <td>-19.283183</td>\n",
       "      <td>-17.833579</td>\n",
       "      <td>-18.141399</td>\n",
       "      <td>-12.613298</td>\n",
       "      <td>-17.491248</td>\n",
       "      <td>...</td>\n",
       "      <td>-16.220602</td>\n",
       "      <td>-1.267866</td>\n",
       "      <td>1.090348</td>\n",
       "      <td>-11.875450</td>\n",
       "      <td>-17.365619</td>\n",
       "      <td>-15.027604</td>\n",
       "      <td>-15.231798</td>\n",
       "      <td>-9.630402</td>\n",
       "      <td>-6.432692</td>\n",
       "      <td>-12.729631</td>\n",
       "    </tr>\n",
       "    <tr>\n",
       "      <th>30</th>\n",
       "      <td>-27.439976</td>\n",
       "      <td>-41.701398</td>\n",
       "      <td>-41.046564</td>\n",
       "      <td>-37.476566</td>\n",
       "      <td>-39.168742</td>\n",
       "      <td>-38.627195</td>\n",
       "      <td>-33.833858</td>\n",
       "      <td>-34.619597</td>\n",
       "      <td>-26.544342</td>\n",
       "      <td>-30.649136</td>\n",
       "      <td>...</td>\n",
       "      <td>-73.265852</td>\n",
       "      <td>-29.136098</td>\n",
       "      <td>-33.276710</td>\n",
       "      <td>-28.438652</td>\n",
       "      <td>-35.641631</td>\n",
       "      <td>-37.633873</td>\n",
       "      <td>-33.097921</td>\n",
       "      <td>-21.217685</td>\n",
       "      <td>-26.788460</td>\n",
       "      <td>-33.330225</td>\n",
       "    </tr>\n",
       "    <tr>\n",
       "      <th>31</th>\n",
       "      <td>-20.311666</td>\n",
       "      <td>-30.870419</td>\n",
       "      <td>-32.010735</td>\n",
       "      <td>-26.673577</td>\n",
       "      <td>-26.759513</td>\n",
       "      <td>-29.322398</td>\n",
       "      <td>-25.377248</td>\n",
       "      <td>-23.747468</td>\n",
       "      <td>-18.760345</td>\n",
       "      <td>-22.879883</td>\n",
       "      <td>...</td>\n",
       "      <td>-30.785607</td>\n",
       "      <td>-7.937813</td>\n",
       "      <td>-5.698499</td>\n",
       "      <td>-16.096151</td>\n",
       "      <td>-22.917411</td>\n",
       "      <td>-22.338873</td>\n",
       "      <td>-19.892905</td>\n",
       "      <td>-14.469722</td>\n",
       "      <td>-11.087449</td>\n",
       "      <td>-18.930966</td>\n",
       "    </tr>\n",
       "    <tr>\n",
       "      <th>32</th>\n",
       "      <td>-27.951139</td>\n",
       "      <td>-40.765102</td>\n",
       "      <td>-42.007698</td>\n",
       "      <td>-38.803172</td>\n",
       "      <td>-39.475254</td>\n",
       "      <td>-38.331336</td>\n",
       "      <td>-34.063159</td>\n",
       "      <td>-35.630307</td>\n",
       "      <td>-27.957537</td>\n",
       "      <td>-28.993254</td>\n",
       "      <td>...</td>\n",
       "      <td>-77.308586</td>\n",
       "      <td>-28.872046</td>\n",
       "      <td>-36.316834</td>\n",
       "      <td>-25.061697</td>\n",
       "      <td>-26.400277</td>\n",
       "      <td>-27.441344</td>\n",
       "      <td>-19.645350</td>\n",
       "      <td>-6.899224</td>\n",
       "      <td>-11.137620</td>\n",
       "      <td>-23.910410</td>\n",
       "    </tr>\n",
       "    <tr>\n",
       "      <th>33</th>\n",
       "      <td>-14.028450</td>\n",
       "      <td>-26.875373</td>\n",
       "      <td>-26.673201</td>\n",
       "      <td>-21.852423</td>\n",
       "      <td>-23.301410</td>\n",
       "      <td>-24.719901</td>\n",
       "      <td>-19.412805</td>\n",
       "      <td>-20.609059</td>\n",
       "      <td>-13.538634</td>\n",
       "      <td>-18.611862</td>\n",
       "      <td>...</td>\n",
       "      <td>-25.493063</td>\n",
       "      <td>-6.196483</td>\n",
       "      <td>-2.952607</td>\n",
       "      <td>-12.464279</td>\n",
       "      <td>-17.470519</td>\n",
       "      <td>-18.906730</td>\n",
       "      <td>-15.150174</td>\n",
       "      <td>-10.945037</td>\n",
       "      <td>-8.657729</td>\n",
       "      <td>-13.463444</td>\n",
       "    </tr>\n",
       "  </tbody>\n",
       "</table>\n",
       "<p>34 rows × 3648 columns</p>\n",
       "</div>"
      ],
      "text/plain": [
       "    216.330000  216.370000  216.410000  216.450000  216.490000  216.520000  \\\n",
       "0   -34.080506  -52.856238  -53.531268  -50.722102  -46.480848  -48.353168   \n",
       "1   -35.618919  -60.499509  -60.724984  -58.526364  -52.552160  -54.819421   \n",
       "2   -62.382227  -84.498001  -82.950714  -81.565761  -74.436931  -77.430743   \n",
       "3   -49.101504  -80.148716  -83.607070  -77.709286  -63.839702  -69.958822   \n",
       "4   -35.597277  -58.723867  -60.834177  -57.003971  -51.635249  -52.753055   \n",
       "5   -36.534193  -59.580579  -59.810637  -55.192681  -50.080626  -51.567380   \n",
       "6   -37.056010  -62.295118  -62.219335  -58.452735  -52.370099  -54.861897   \n",
       "7   -36.567012  -60.525560  -61.558858  -60.930587  -51.995660  -56.664018   \n",
       "8   -36.352760  -66.482287  -70.130211  -67.015686  -56.367065  -60.704904   \n",
       "9   -31.922748  -51.175660  -52.985698  -47.869829  -44.266964  -45.152212   \n",
       "10  -44.853878  -77.363471  -77.828906  -74.245638  -62.899375  -66.801152   \n",
       "11  -56.049767  -85.316034  -88.122173  -85.360525  -71.298230  -78.835602   \n",
       "12  -37.110913  -54.480085  -52.202878  -50.244582  -49.938695  -49.494972   \n",
       "13  -59.504080  -73.812557  -70.581533  -71.401440  -66.797223  -64.741849   \n",
       "14  -43.141050  -56.757398  -56.340484  -53.668082  -50.214357  -46.846963   \n",
       "15  -42.234265  -59.352397  -57.835929  -53.295594  -51.225052  -44.751816   \n",
       "16  -53.388363  -69.857963  -68.749905  -64.348927  -63.266063  -61.255393   \n",
       "17  -30.921968  -45.458906  -44.618564  -42.942566  -42.509506  -41.698804   \n",
       "18  -46.051061  -61.081730  -59.844707  -58.175975  -54.435378  -55.071621   \n",
       "19  -40.437569  -53.368599  -52.354001  -51.883608  -48.535669  -48.041620   \n",
       "20  -64.492851  -79.491338  -80.066391  -78.427537  -76.790618  -75.984507   \n",
       "21 -103.064140 -120.225521 -117.851821 -117.778948 -114.048511 -111.152773   \n",
       "22  -18.635485  -33.116267  -31.251134  -28.115578  -27.840168  -27.825272   \n",
       "23  -32.922595  -46.451284  -45.394735  -42.497556  -42.445572  -42.489595   \n",
       "24  -67.813804 -100.379079 -101.077468  -97.335196  -78.678817  -84.724059   \n",
       "25   -6.654355  -21.944984  -22.569564  -18.818758  -18.679576  -18.564510   \n",
       "26  -12.881659  -27.042398  -27.585504  -24.188559  -22.413778  -24.349320   \n",
       "27  -52.903696  -74.352399  -74.569024  -71.240239  -63.750533  -66.619816   \n",
       "28  -10.935745  -25.815226  -23.347346  -21.923796  -21.830210  -22.206879   \n",
       "29  -12.376573  -23.880609  -22.305571  -19.606871  -20.804125  -19.283183   \n",
       "30  -27.439976  -41.701398  -41.046564  -37.476566  -39.168742  -38.627195   \n",
       "31  -20.311666  -30.870419  -32.010735  -26.673577  -26.759513  -29.322398   \n",
       "32  -27.951139  -40.765102  -42.007698  -38.803172  -39.475254  -38.331336   \n",
       "33  -14.028450  -26.875373  -26.673201  -21.852423  -23.301410  -24.719901   \n",
       "\n",
       "    216.560000  216.600000  216.640000  216.680000  ...  340.120000  \\\n",
       "0   -43.511188  -42.930313  -25.964166  -13.178900  ... -103.397082   \n",
       "1   -50.428250  -48.202075  -29.373010   -7.262829  ...  -65.223663   \n",
       "2   -70.423088  -64.868505  -43.506519  -21.451839  ...  -93.318483   \n",
       "3   -68.338852  -63.386695  -29.598815   21.239889  ...  -42.188972   \n",
       "4   -50.356131  -46.890307  -24.775737    3.372683  ...  -72.327183   \n",
       "5   -51.542303  -46.489816  -26.755774   -1.753168  ...  -85.625283   \n",
       "6   -52.544780  -48.673733  -25.452400    4.840277  ...  -76.810026   \n",
       "7   -52.716117  -49.237293  -25.918533    0.284314  ...  -81.835294   \n",
       "8   -57.048680  -55.251739  -29.179874   -1.546280  ...  -79.287743   \n",
       "9   -43.333262  -39.709429  -22.070866    0.327345  ...  -78.304219   \n",
       "10  -64.706805  -58.911782  -25.695943   22.637475  ...  -86.845884   \n",
       "11  -75.357003  -69.306601  -39.904484    0.075839  ...  -90.194816   \n",
       "12  -42.139263  -41.144701  -33.557053  -39.324000  ...  -59.646484   \n",
       "13  -55.505581  -51.229265  -45.902495  -55.733682  ... -104.941694   \n",
       "14  -32.155422  -20.055507  -17.825345  -32.797555  ...  -54.450492   \n",
       "15  -30.240532  -18.841084  -16.518416  -34.284452  ... -122.993509   \n",
       "16  -51.983805  -42.550746  -38.437816  -48.449501  ...  -82.712486   \n",
       "17  -37.283589  -36.184184  -30.882541  -34.910987  ...  -94.465317   \n",
       "18  -41.744600  -37.716514  -30.387246  -40.720583  ...  -61.718371   \n",
       "19  -44.166470  -41.413286  -35.732887  -42.236379  ... -102.390869   \n",
       "20  -65.906619  -60.938082  -56.019576  -63.067473  ... -138.599294   \n",
       "21  -98.567939  -88.923606  -81.519400  -89.423674  ... -101.135119   \n",
       "22  -26.578314  -25.257087  -18.477924  -19.820028  ...  -35.228852   \n",
       "23  -39.800099  -38.309802  -30.341363  -30.716460  ...  -68.855414   \n",
       "24  -85.674193  -78.245275  -37.832045   28.907148  ...  -26.225522   \n",
       "25  -16.509426  -16.049265   -8.144443  -10.616232  ...  -42.096844   \n",
       "26  -19.077802  -19.944814  -13.188641  -15.741771  ...  -51.294915   \n",
       "27  -64.208676  -59.406642  -36.404891  -12.096665  ...  -51.942393   \n",
       "28  -19.053801  -16.829445  -13.400813  -16.925029  ...  -20.361740   \n",
       "29  -17.833579  -18.141399  -12.613298  -17.491248  ...  -16.220602   \n",
       "30  -33.833858  -34.619597  -26.544342  -30.649136  ...  -73.265852   \n",
       "31  -25.377248  -23.747468  -18.760345  -22.879883  ...  -30.785607   \n",
       "32  -34.063159  -35.630307  -27.957537  -28.993254  ...  -77.308586   \n",
       "33  -19.412805  -20.609059  -13.538634  -18.611862  ...  -25.493063   \n",
       "\n",
       "    340.150000  340.170000  340.200000  340.230000  340.260000   340.290000  \\\n",
       "0   -27.768753  -23.160893   -9.626787  -19.266555  -49.249992   -57.284947   \n",
       "1    25.026995   31.068621   53.714197   41.419173   -1.771897    -9.098835   \n",
       "2     2.007907    0.898504   30.370624   11.331196  -23.058164   -25.353733   \n",
       "3    93.573616  118.603411  177.033714  161.691056   82.310284    56.179137   \n",
       "4    24.663949   30.693258   61.472081   45.860159   -2.779950   -19.371852   \n",
       "5     9.758146   12.955223   40.682918   23.893431  -20.144712   -35.420234   \n",
       "6    30.638917   34.893883   73.356474   54.438559    1.259937   -14.633469   \n",
       "7    26.650759   25.292772   59.780565   40.039979   -9.963122   -25.816141   \n",
       "8    33.481820   49.192359   93.304922   84.044624   24.143615     7.073220   \n",
       "9     6.692097    4.575283   32.220340   18.928740  -18.095330   -29.613183   \n",
       "10   59.973656   88.309967  162.035799  169.562862  119.235331   113.755167   \n",
       "11   46.208376   68.542083  140.965815  151.848811  117.656800   119.940832   \n",
       "12   -2.083357   35.140704   91.961824  151.058578  208.827352   264.006076   \n",
       "13  -33.613983    2.753182   67.536630  132.114229  193.130476   253.697645   \n",
       "14   17.953766   72.801033  153.898107  239.349734  322.615931   403.419986   \n",
       "15  -35.627349   26.711922  134.708131  253.719230  363.505106   468.167928   \n",
       "16   11.972866   79.704500  198.686786  320.294391  436.438764   543.314735   \n",
       "17  -35.280441   -4.716887   49.746252  105.039669  161.305921   215.862268   \n",
       "18   20.987222   81.935784  175.648992  278.040183  368.219071   456.860374   \n",
       "19  -41.349077   -5.939007   52.013344  115.436116  175.383218   234.345437   \n",
       "20  -22.905799   55.301496  197.736751  337.917233  463.077761   590.113333   \n",
       "21   71.479341  209.049769  461.345496  715.666176  944.618235  1165.129142   \n",
       "22   -6.603317    6.008602   13.242426   28.784416   47.835068    66.784854   \n",
       "23  -12.717581    0.304584   34.085682   57.430427   84.310744   113.695941   \n",
       "24  146.285428  191.918144  297.319225  322.893301  278.592536   282.161220   \n",
       "25  -16.948085  -11.724491  -14.569538  -19.389227  -15.223757   -12.369974   \n",
       "26  -17.290035   -8.640831   -3.074760    2.389037   11.336456    22.334250   \n",
       "27   69.835947  112.454310  209.577619  267.637126  290.391216   343.528170   \n",
       "28   -3.219095   -0.777338  -11.910210  -16.998743  -15.893109   -15.212837   \n",
       "29   -1.267866    1.090348  -11.875450  -17.365619  -15.027604   -15.231798   \n",
       "30  -29.136098  -33.276710  -28.438652  -35.641631  -37.633873   -33.097921   \n",
       "31   -7.937813   -5.698499  -16.096151  -22.917411  -22.338873   -19.892905   \n",
       "32  -28.872046  -36.316834  -25.061697  -26.400277  -27.441344   -19.645350   \n",
       "33   -6.196483   -2.952607  -12.464279  -17.470519  -18.906730   -15.150174   \n",
       "\n",
       "     340.320000   340.340000  340.370000  \n",
       "0    -42.332194   -19.901689    3.392399  \n",
       "1     12.655631    38.602063   69.219012  \n",
       "2     -3.266188    21.531311   46.794898  \n",
       "3     97.075480   151.791278  221.938668  \n",
       "4      6.021838    38.575199   85.071577  \n",
       "5    -11.428840    20.462124   59.212916  \n",
       "6     12.454864    50.428531  101.901342  \n",
       "7     -0.461396    34.829779   80.718363  \n",
       "8     34.408659    76.490304  125.803008  \n",
       "9     -6.082963    18.667277   53.660729  \n",
       "10   151.712643   195.344783  235.413283  \n",
       "11   167.240791   187.909161  206.356634  \n",
       "12   298.429262   251.108482  148.434583  \n",
       "13   294.812104   241.767515  131.523860  \n",
       "14   446.090279   378.740047  237.945370  \n",
       "15   533.410906   447.721739  253.882682  \n",
       "16   607.486339   512.771018  315.755287  \n",
       "17   251.530079   202.711643  102.103639  \n",
       "18   512.012368   435.628977  275.598848  \n",
       "19   269.207886   220.249999  109.891166  \n",
       "20   656.157161   550.761023  329.644417  \n",
       "21  1284.646584  1099.664022  700.127950  \n",
       "22    84.879441    70.069325   28.360694  \n",
       "23   136.873421   116.289956   63.528175  \n",
       "24   328.150197   358.957516  392.983846  \n",
       "25    -0.968880     0.979523   -8.487039  \n",
       "26    36.759750    31.636634    7.734677  \n",
       "27   405.459048   381.499315  307.513024  \n",
       "28   -11.555010    -9.307396  -13.298278  \n",
       "29    -9.630402    -6.432692  -12.729631  \n",
       "30   -21.217685   -26.788460  -33.330225  \n",
       "31   -14.469722   -11.087449  -18.930966  \n",
       "32    -6.899224   -11.137620  -23.910410  \n",
       "33   -10.945037    -8.657729  -13.463444  \n",
       "\n",
       "[34 rows x 3648 columns]"
      ]
     },
     "execution_count": 9,
     "metadata": {},
     "output_type": "execute_result"
    }
   ],
   "source": [
    "x_df = pd.read_csv('../avg_base_wl_basic_28-02.csv', sep = ',')\n",
    "values = x_df.values\n",
    "#wl=x_df.columns.values\n",
    "#print(wl.shape)\n",
    "\n",
    "#print(values)\n",
    "#print(type(values))\n",
    "print(values.shape)\n",
    "print(values[1].shape)\n",
    "print(len(values))\n",
    "x_df"
   ]
  },
  {
   "cell_type": "code",
   "execution_count": 10,
   "metadata": {},
   "outputs": [
    {
     "name": "stdout",
     "output_type": "stream",
     "text": [
      "[[216.33]\n",
      " [216.37]\n",
      " [216.41]\n",
      " ...\n",
      " [340.32]\n",
      " [340.34]\n",
      " [340.37]]\n"
     ]
    },
    {
     "data": {
      "image/png": "[encoded data removed]",
      "text/plain": [
       "<Figure size 432x288 with 1 Axes>"
      ]
     },
     "metadata": {
      "needs_background": "light"
     },
     "output_type": "display_data"
    }
   ],
   "source": [
    "#This is just for visualizing the various plots of the samples\n",
    "\n",
    "mat = scipy.io.loadmat(\"../data/H01.mat\")\n",
    "wl= mat[\"wl\"]\n",
    "print(wl)\n",
    "\n",
    "for i in range(len(values)):\n",
    "    plt.plot(wl, values[i])\n",
    "    #plt.show() #comment this one to have unique plot instead of multiple ones\n",
    "#range(len(dfs))\n",
    "#\"\"\"\n",
    "\n",
    "\n"
   ]
  },
  {
   "cell_type": "code",
   "execution_count": 11,
   "metadata": {
    "scrolled": false
   },
   "outputs": [
    {
     "name": "stdout",
     "output_type": "stream",
     "text": [
      "<class 'pandas.core.frame.DataFrame'>\n",
      "(34, 12)\n"
     ]
    },
    {
     "data": {
      "text/html": [
       "<div>\n",
       "<style scoped>\n",
       "    .dataframe tbody tr th:only-of-type {\n",
       "        vertical-align: middle;\n",
       "    }\n",
       "\n",
       "    .dataframe tbody tr th {\n",
       "        vertical-align: top;\n",
       "    }\n",
       "\n",
       "    .dataframe thead th {\n",
       "        text-align: right;\n",
       "    }\n",
       "</style>\n",
       "<table border=\"1\" class=\"dataframe\">\n",
       "  <thead>\n",
       "    <tr style=\"text-align: right;\">\n",
       "      <th></th>\n",
       "      <th>Sample</th>\n",
       "      <th>CaO</th>\n",
       "      <th>CaF2</th>\n",
       "      <th>MgO</th>\n",
       "      <th>Al2O3</th>\n",
       "      <th>SiO2</th>\n",
       "      <th>FeO</th>\n",
       "      <th>MnO</th>\n",
       "      <th>Cr2O3</th>\n",
       "      <th>P2O5</th>\n",
       "      <th>V2O5</th>\n",
       "      <th>TiO2</th>\n",
       "    </tr>\n",
       "  </thead>\n",
       "  <tbody>\n",
       "    <tr>\n",
       "      <th>0</th>\n",
       "      <td>H01</td>\n",
       "      <td>37.8</td>\n",
       "      <td>0.18</td>\n",
       "      <td>25.00</td>\n",
       "      <td>9.61</td>\n",
       "      <td>13.20</td>\n",
       "      <td>18.30</td>\n",
       "      <td>1.99</td>\n",
       "      <td>0.20</td>\n",
       "      <td>0.23</td>\n",
       "      <td>0.18</td>\n",
       "      <td>1.03</td>\n",
       "    </tr>\n",
       "    <tr>\n",
       "      <th>1</th>\n",
       "      <td>H02</td>\n",
       "      <td>44.5</td>\n",
       "      <td>0.22</td>\n",
       "      <td>18.00</td>\n",
       "      <td>5.04</td>\n",
       "      <td>14.20</td>\n",
       "      <td>18.90</td>\n",
       "      <td>2.10</td>\n",
       "      <td>0.28</td>\n",
       "      <td>0.26</td>\n",
       "      <td>0.06</td>\n",
       "      <td>1.07</td>\n",
       "    </tr>\n",
       "    <tr>\n",
       "      <th>2</th>\n",
       "      <td>H03</td>\n",
       "      <td>38.5</td>\n",
       "      <td>0.22</td>\n",
       "      <td>21.10</td>\n",
       "      <td>6.14</td>\n",
       "      <td>10.60</td>\n",
       "      <td>20.20</td>\n",
       "      <td>5.82</td>\n",
       "      <td>0.61</td>\n",
       "      <td>0.40</td>\n",
       "      <td>0.14</td>\n",
       "      <td>0.86</td>\n",
       "    </tr>\n",
       "    <tr>\n",
       "      <th>3</th>\n",
       "      <td>H04</td>\n",
       "      <td>38.4</td>\n",
       "      <td>0.04</td>\n",
       "      <td>15.50</td>\n",
       "      <td>4.07</td>\n",
       "      <td>12.80</td>\n",
       "      <td>26.70</td>\n",
       "      <td>3.35</td>\n",
       "      <td>0.52</td>\n",
       "      <td>0.31</td>\n",
       "      <td>0.08</td>\n",
       "      <td>1.07</td>\n",
       "    </tr>\n",
       "    <tr>\n",
       "      <th>4</th>\n",
       "      <td>H05</td>\n",
       "      <td>43.2</td>\n",
       "      <td>0.18</td>\n",
       "      <td>17.10</td>\n",
       "      <td>4.14</td>\n",
       "      <td>14.80</td>\n",
       "      <td>21.70</td>\n",
       "      <td>1.72</td>\n",
       "      <td>0.20</td>\n",
       "      <td>0.29</td>\n",
       "      <td>0.18</td>\n",
       "      <td>1.07</td>\n",
       "    </tr>\n",
       "    <tr>\n",
       "      <th>5</th>\n",
       "      <td>H06</td>\n",
       "      <td>45.3</td>\n",
       "      <td>0.23</td>\n",
       "      <td>15.90</td>\n",
       "      <td>4.34</td>\n",
       "      <td>16.50</td>\n",
       "      <td>18.90</td>\n",
       "      <td>1.29</td>\n",
       "      <td>0.10</td>\n",
       "      <td>0.30</td>\n",
       "      <td>0.11</td>\n",
       "      <td>1.10</td>\n",
       "    </tr>\n",
       "    <tr>\n",
       "      <th>6</th>\n",
       "      <td>H07</td>\n",
       "      <td>46.1</td>\n",
       "      <td>0.25</td>\n",
       "      <td>14.30</td>\n",
       "      <td>4.12</td>\n",
       "      <td>16.20</td>\n",
       "      <td>19.00</td>\n",
       "      <td>1.21</td>\n",
       "      <td>0.09</td>\n",
       "      <td>0.27</td>\n",
       "      <td>0.06</td>\n",
       "      <td>1.08</td>\n",
       "    </tr>\n",
       "    <tr>\n",
       "      <th>7</th>\n",
       "      <td>H08</td>\n",
       "      <td>45.1</td>\n",
       "      <td>0.19</td>\n",
       "      <td>13.00</td>\n",
       "      <td>4.05</td>\n",
       "      <td>16.10</td>\n",
       "      <td>21.00</td>\n",
       "      <td>1.26</td>\n",
       "      <td>0.10</td>\n",
       "      <td>0.28</td>\n",
       "      <td>0.06</td>\n",
       "      <td>1.09</td>\n",
       "    </tr>\n",
       "    <tr>\n",
       "      <th>8</th>\n",
       "      <td>H09</td>\n",
       "      <td>32.8</td>\n",
       "      <td>0.01</td>\n",
       "      <td>10.60</td>\n",
       "      <td>7.30</td>\n",
       "      <td>14.30</td>\n",
       "      <td>33.20</td>\n",
       "      <td>2.75</td>\n",
       "      <td>0.42</td>\n",
       "      <td>0.32</td>\n",
       "      <td>0.09</td>\n",
       "      <td>1.12</td>\n",
       "    </tr>\n",
       "    <tr>\n",
       "      <th>9</th>\n",
       "      <td>H10</td>\n",
       "      <td>42.4</td>\n",
       "      <td>0.24</td>\n",
       "      <td>19.30</td>\n",
       "      <td>6.50</td>\n",
       "      <td>14.70</td>\n",
       "      <td>17.40</td>\n",
       "      <td>2.72</td>\n",
       "      <td>0.31</td>\n",
       "      <td>0.28</td>\n",
       "      <td>0.09</td>\n",
       "      <td>1.06</td>\n",
       "    </tr>\n",
       "    <tr>\n",
       "      <th>10</th>\n",
       "      <td>H11</td>\n",
       "      <td>38.4</td>\n",
       "      <td>0.04</td>\n",
       "      <td>11.20</td>\n",
       "      <td>5.02</td>\n",
       "      <td>14.00</td>\n",
       "      <td>26.10</td>\n",
       "      <td>2.84</td>\n",
       "      <td>2.11</td>\n",
       "      <td>0.34</td>\n",
       "      <td>0.09</td>\n",
       "      <td>0.91</td>\n",
       "    </tr>\n",
       "    <tr>\n",
       "      <th>11</th>\n",
       "      <td>H12</td>\n",
       "      <td>36.4</td>\n",
       "      <td>0.01</td>\n",
       "      <td>17.40</td>\n",
       "      <td>4.31</td>\n",
       "      <td>12.80</td>\n",
       "      <td>27.70</td>\n",
       "      <td>2.86</td>\n",
       "      <td>2.59</td>\n",
       "      <td>0.27</td>\n",
       "      <td>0.09</td>\n",
       "      <td>0.77</td>\n",
       "    </tr>\n",
       "    <tr>\n",
       "      <th>12</th>\n",
       "      <td>O01</td>\n",
       "      <td>43.7</td>\n",
       "      <td>1.30</td>\n",
       "      <td>7.90</td>\n",
       "      <td>3.20</td>\n",
       "      <td>33.30</td>\n",
       "      <td>1.30</td>\n",
       "      <td>3.00</td>\n",
       "      <td>3.70</td>\n",
       "      <td>0.01</td>\n",
       "      <td>0.11</td>\n",
       "      <td>0.80</td>\n",
       "    </tr>\n",
       "    <tr>\n",
       "      <th>13</th>\n",
       "      <td>O02</td>\n",
       "      <td>41.3</td>\n",
       "      <td>1.20</td>\n",
       "      <td>7.90</td>\n",
       "      <td>3.80</td>\n",
       "      <td>35.30</td>\n",
       "      <td>1.30</td>\n",
       "      <td>2.00</td>\n",
       "      <td>3.90</td>\n",
       "      <td>0.01</td>\n",
       "      <td>0.10</td>\n",
       "      <td>0.83</td>\n",
       "    </tr>\n",
       "    <tr>\n",
       "      <th>14</th>\n",
       "      <td>O03</td>\n",
       "      <td>44.6</td>\n",
       "      <td>1.10</td>\n",
       "      <td>9.60</td>\n",
       "      <td>2.80</td>\n",
       "      <td>35.30</td>\n",
       "      <td>0.90</td>\n",
       "      <td>1.30</td>\n",
       "      <td>2.70</td>\n",
       "      <td>0.01</td>\n",
       "      <td>0.07</td>\n",
       "      <td>0.80</td>\n",
       "    </tr>\n",
       "    <tr>\n",
       "      <th>15</th>\n",
       "      <td>O04</td>\n",
       "      <td>42.5</td>\n",
       "      <td>1.60</td>\n",
       "      <td>8.90</td>\n",
       "      <td>3.20</td>\n",
       "      <td>29.00</td>\n",
       "      <td>1.30</td>\n",
       "      <td>1.60</td>\n",
       "      <td>11.00</td>\n",
       "      <td>0.01</td>\n",
       "      <td>0.17</td>\n",
       "      <td>1.12</td>\n",
       "    </tr>\n",
       "    <tr>\n",
       "      <th>16</th>\n",
       "      <td>O05</td>\n",
       "      <td>39.2</td>\n",
       "      <td>1.10</td>\n",
       "      <td>8.40</td>\n",
       "      <td>3.70</td>\n",
       "      <td>34.30</td>\n",
       "      <td>1.70</td>\n",
       "      <td>1.30</td>\n",
       "      <td>9.30</td>\n",
       "      <td>0.01</td>\n",
       "      <td>0.11</td>\n",
       "      <td>0.92</td>\n",
       "    </tr>\n",
       "    <tr>\n",
       "      <th>17</th>\n",
       "      <td>O06</td>\n",
       "      <td>44.2</td>\n",
       "      <td>1.10</td>\n",
       "      <td>10.50</td>\n",
       "      <td>3.20</td>\n",
       "      <td>34.50</td>\n",
       "      <td>1.00</td>\n",
       "      <td>1.10</td>\n",
       "      <td>3.20</td>\n",
       "      <td>0.01</td>\n",
       "      <td>0.08</td>\n",
       "      <td>0.98</td>\n",
       "    </tr>\n",
       "    <tr>\n",
       "      <th>18</th>\n",
       "      <td>O07</td>\n",
       "      <td>44.1</td>\n",
       "      <td>1.10</td>\n",
       "      <td>9.10</td>\n",
       "      <td>3.70</td>\n",
       "      <td>32.50</td>\n",
       "      <td>2.00</td>\n",
       "      <td>2.00</td>\n",
       "      <td>4.50</td>\n",
       "      <td>0.01</td>\n",
       "      <td>0.12</td>\n",
       "      <td>0.71</td>\n",
       "    </tr>\n",
       "    <tr>\n",
       "      <th>19</th>\n",
       "      <td>O08</td>\n",
       "      <td>40.3</td>\n",
       "      <td>1.20</td>\n",
       "      <td>7.70</td>\n",
       "      <td>4.80</td>\n",
       "      <td>30.90</td>\n",
       "      <td>1.70</td>\n",
       "      <td>3.30</td>\n",
       "      <td>7.60</td>\n",
       "      <td>0.01</td>\n",
       "      <td>0.18</td>\n",
       "      <td>1.45</td>\n",
       "    </tr>\n",
       "    <tr>\n",
       "      <th>20</th>\n",
       "      <td>O09</td>\n",
       "      <td>37.5</td>\n",
       "      <td>1.40</td>\n",
       "      <td>6.80</td>\n",
       "      <td>4.10</td>\n",
       "      <td>27.80</td>\n",
       "      <td>2.50</td>\n",
       "      <td>3.50</td>\n",
       "      <td>12.90</td>\n",
       "      <td>0.01</td>\n",
       "      <td>0.23</td>\n",
       "      <td>1.93</td>\n",
       "    </tr>\n",
       "    <tr>\n",
       "      <th>21</th>\n",
       "      <td>O10</td>\n",
       "      <td>37.9</td>\n",
       "      <td>1.10</td>\n",
       "      <td>6.10</td>\n",
       "      <td>2.80</td>\n",
       "      <td>25.30</td>\n",
       "      <td>1.70</td>\n",
       "      <td>2.80</td>\n",
       "      <td>17.80</td>\n",
       "      <td>0.02</td>\n",
       "      <td>0.28</td>\n",
       "      <td>0.74</td>\n",
       "    </tr>\n",
       "    <tr>\n",
       "      <th>22</th>\n",
       "      <td>U01</td>\n",
       "      <td>24.2</td>\n",
       "      <td>3.04</td>\n",
       "      <td>14.10</td>\n",
       "      <td>10.90</td>\n",
       "      <td>24.30</td>\n",
       "      <td>2.45</td>\n",
       "      <td>4.39</td>\n",
       "      <td>15.40</td>\n",
       "      <td>0.00</td>\n",
       "      <td>0.96</td>\n",
       "      <td>0.21</td>\n",
       "    </tr>\n",
       "    <tr>\n",
       "      <th>23</th>\n",
       "      <td>U02</td>\n",
       "      <td>39.8</td>\n",
       "      <td>3.63</td>\n",
       "      <td>11.80</td>\n",
       "      <td>7.91</td>\n",
       "      <td>21.50</td>\n",
       "      <td>3.87</td>\n",
       "      <td>1.36</td>\n",
       "      <td>6.98</td>\n",
       "      <td>0.00</td>\n",
       "      <td>3.00</td>\n",
       "      <td>0.28</td>\n",
       "    </tr>\n",
       "    <tr>\n",
       "      <th>24</th>\n",
       "      <td>U03</td>\n",
       "      <td>33.4</td>\n",
       "      <td>1.72</td>\n",
       "      <td>7.20</td>\n",
       "      <td>6.70</td>\n",
       "      <td>5.85</td>\n",
       "      <td>35.00</td>\n",
       "      <td>3.79</td>\n",
       "      <td>2.05</td>\n",
       "      <td>0.20</td>\n",
       "      <td>0.30</td>\n",
       "      <td>0.45</td>\n",
       "    </tr>\n",
       "    <tr>\n",
       "      <th>25</th>\n",
       "      <td>U04</td>\n",
       "      <td>41.0</td>\n",
       "      <td>2.81</td>\n",
       "      <td>18.40</td>\n",
       "      <td>5.72</td>\n",
       "      <td>25.40</td>\n",
       "      <td>3.46</td>\n",
       "      <td>0.49</td>\n",
       "      <td>1.08</td>\n",
       "      <td>0.00</td>\n",
       "      <td>0.40</td>\n",
       "      <td>0.22</td>\n",
       "    </tr>\n",
       "    <tr>\n",
       "      <th>26</th>\n",
       "      <td>U05</td>\n",
       "      <td>31.3</td>\n",
       "      <td>3.95</td>\n",
       "      <td>19.90</td>\n",
       "      <td>9.52</td>\n",
       "      <td>28.00</td>\n",
       "      <td>2.86</td>\n",
       "      <td>0.70</td>\n",
       "      <td>3.00</td>\n",
       "      <td>0.00</td>\n",
       "      <td>0.00</td>\n",
       "      <td>0.45</td>\n",
       "    </tr>\n",
       "    <tr>\n",
       "      <th>27</th>\n",
       "      <td>U06</td>\n",
       "      <td>33.2</td>\n",
       "      <td>2.19</td>\n",
       "      <td>14.90</td>\n",
       "      <td>8.57</td>\n",
       "      <td>13.90</td>\n",
       "      <td>12.80</td>\n",
       "      <td>5.32</td>\n",
       "      <td>6.99</td>\n",
       "      <td>0.00</td>\n",
       "      <td>0.40</td>\n",
       "      <td>0.21</td>\n",
       "    </tr>\n",
       "    <tr>\n",
       "      <th>28</th>\n",
       "      <td>U07</td>\n",
       "      <td>51.4</td>\n",
       "      <td>0.00</td>\n",
       "      <td>8.90</td>\n",
       "      <td>26.90</td>\n",
       "      <td>11.60</td>\n",
       "      <td>0.27</td>\n",
       "      <td>0.00</td>\n",
       "      <td>0.15</td>\n",
       "      <td>0.00</td>\n",
       "      <td>0.00</td>\n",
       "      <td>0.12</td>\n",
       "    </tr>\n",
       "    <tr>\n",
       "      <th>29</th>\n",
       "      <td>U08</td>\n",
       "      <td>53.0</td>\n",
       "      <td>0.00</td>\n",
       "      <td>8.94</td>\n",
       "      <td>25.50</td>\n",
       "      <td>11.80</td>\n",
       "      <td>0.14</td>\n",
       "      <td>0.00</td>\n",
       "      <td>0.00</td>\n",
       "      <td>0.00</td>\n",
       "      <td>0.00</td>\n",
       "      <td>0.00</td>\n",
       "    </tr>\n",
       "    <tr>\n",
       "      <th>30</th>\n",
       "      <td>U09</td>\n",
       "      <td>40.5</td>\n",
       "      <td>2.05</td>\n",
       "      <td>19.90</td>\n",
       "      <td>6.05</td>\n",
       "      <td>28.50</td>\n",
       "      <td>1.39</td>\n",
       "      <td>0.42</td>\n",
       "      <td>0.92</td>\n",
       "      <td>0.00</td>\n",
       "      <td>0.22</td>\n",
       "      <td>0.25</td>\n",
       "    </tr>\n",
       "    <tr>\n",
       "      <th>31</th>\n",
       "      <td>U10</td>\n",
       "      <td>50.1</td>\n",
       "      <td>0.00</td>\n",
       "      <td>14.00</td>\n",
       "      <td>28.40</td>\n",
       "      <td>5.99</td>\n",
       "      <td>0.45</td>\n",
       "      <td>0.00</td>\n",
       "      <td>0.15</td>\n",
       "      <td>0.00</td>\n",
       "      <td>0.19</td>\n",
       "      <td>0.14</td>\n",
       "    </tr>\n",
       "    <tr>\n",
       "      <th>32</th>\n",
       "      <td>U11</td>\n",
       "      <td>40.1</td>\n",
       "      <td>2.43</td>\n",
       "      <td>20.00</td>\n",
       "      <td>6.79</td>\n",
       "      <td>27.50</td>\n",
       "      <td>1.37</td>\n",
       "      <td>0.41</td>\n",
       "      <td>0.89</td>\n",
       "      <td>0.00</td>\n",
       "      <td>0.22</td>\n",
       "      <td>0.24</td>\n",
       "    </tr>\n",
       "    <tr>\n",
       "      <th>33</th>\n",
       "      <td>U12</td>\n",
       "      <td>44.5</td>\n",
       "      <td>0.00</td>\n",
       "      <td>24.40</td>\n",
       "      <td>22.10</td>\n",
       "      <td>7.54</td>\n",
       "      <td>0.47</td>\n",
       "      <td>0.00</td>\n",
       "      <td>0.00</td>\n",
       "      <td>0.00</td>\n",
       "      <td>0.00</td>\n",
       "      <td>0.00</td>\n",
       "    </tr>\n",
       "  </tbody>\n",
       "</table>\n",
       "</div>"
      ],
      "text/plain": [
       "   Sample   CaO  CaF2    MgO  Al2O3   SiO2    FeO   MnO  Cr2O3  P2O5  V2O5  \\\n",
       "0     H01  37.8  0.18  25.00   9.61  13.20  18.30  1.99   0.20  0.23  0.18   \n",
       "1     H02  44.5  0.22  18.00   5.04  14.20  18.90  2.10   0.28  0.26  0.06   \n",
       "2     H03  38.5  0.22  21.10   6.14  10.60  20.20  5.82   0.61  0.40  0.14   \n",
       "3     H04  38.4  0.04  15.50   4.07  12.80  26.70  3.35   0.52  0.31  0.08   \n",
       "4     H05  43.2  0.18  17.10   4.14  14.80  21.70  1.72   0.20  0.29  0.18   \n",
       "5     H06  45.3  0.23  15.90   4.34  16.50  18.90  1.29   0.10  0.30  0.11   \n",
       "6     H07  46.1  0.25  14.30   4.12  16.20  19.00  1.21   0.09  0.27  0.06   \n",
       "7     H08  45.1  0.19  13.00   4.05  16.10  21.00  1.26   0.10  0.28  0.06   \n",
       "8     H09  32.8  0.01  10.60   7.30  14.30  33.20  2.75   0.42  0.32  0.09   \n",
       "9     H10  42.4  0.24  19.30   6.50  14.70  17.40  2.72   0.31  0.28  0.09   \n",
       "10    H11  38.4  0.04  11.20   5.02  14.00  26.10  2.84   2.11  0.34  0.09   \n",
       "11    H12  36.4  0.01  17.40   4.31  12.80  27.70  2.86   2.59  0.27  0.09   \n",
       "12    O01  43.7  1.30   7.90   3.20  33.30   1.30  3.00   3.70  0.01  0.11   \n",
       "13    O02  41.3  1.20   7.90   3.80  35.30   1.30  2.00   3.90  0.01  0.10   \n",
       "14    O03  44.6  1.10   9.60   2.80  35.30   0.90  1.30   2.70  0.01  0.07   \n",
       "15    O04  42.5  1.60   8.90   3.20  29.00   1.30  1.60  11.00  0.01  0.17   \n",
       "16    O05  39.2  1.10   8.40   3.70  34.30   1.70  1.30   9.30  0.01  0.11   \n",
       "17    O06  44.2  1.10  10.50   3.20  34.50   1.00  1.10   3.20  0.01  0.08   \n",
       "18    O07  44.1  1.10   9.10   3.70  32.50   2.00  2.00   4.50  0.01  0.12   \n",
       "19    O08  40.3  1.20   7.70   4.80  30.90   1.70  3.30   7.60  0.01  0.18   \n",
       "20    O09  37.5  1.40   6.80   4.10  27.80   2.50  3.50  12.90  0.01  0.23   \n",
       "21    O10  37.9  1.10   6.10   2.80  25.30   1.70  2.80  17.80  0.02  0.28   \n",
       "22    U01  24.2  3.04  14.10  10.90  24.30   2.45  4.39  15.40  0.00  0.96   \n",
       "23    U02  39.8  3.63  11.80   7.91  21.50   3.87  1.36   6.98  0.00  3.00   \n",
       "24    U03  33.4  1.72   7.20   6.70   5.85  35.00  3.79   2.05  0.20  0.30   \n",
       "25    U04  41.0  2.81  18.40   5.72  25.40   3.46  0.49   1.08  0.00  0.40   \n",
       "26    U05  31.3  3.95  19.90   9.52  28.00   2.86  0.70   3.00  0.00  0.00   \n",
       "27    U06  33.2  2.19  14.90   8.57  13.90  12.80  5.32   6.99  0.00  0.40   \n",
       "28    U07  51.4  0.00   8.90  26.90  11.60   0.27  0.00   0.15  0.00  0.00   \n",
       "29    U08  53.0  0.00   8.94  25.50  11.80   0.14  0.00   0.00  0.00  0.00   \n",
       "30    U09  40.5  2.05  19.90   6.05  28.50   1.39  0.42   0.92  0.00  0.22   \n",
       "31    U10  50.1  0.00  14.00  28.40   5.99   0.45  0.00   0.15  0.00  0.19   \n",
       "32    U11  40.1  2.43  20.00   6.79  27.50   1.37  0.41   0.89  0.00  0.22   \n",
       "33    U12  44.5  0.00  24.40  22.10   7.54   0.47  0.00   0.00  0.00  0.00   \n",
       "\n",
       "    TiO2  \n",
       "0   1.03  \n",
       "1   1.07  \n",
       "2   0.86  \n",
       "3   1.07  \n",
       "4   1.07  \n",
       "5   1.10  \n",
       "6   1.08  \n",
       "7   1.09  \n",
       "8   1.12  \n",
       "9   1.06  \n",
       "10  0.91  \n",
       "11  0.77  \n",
       "12  0.80  \n",
       "13  0.83  \n",
       "14  0.80  \n",
       "15  1.12  \n",
       "16  0.92  \n",
       "17  0.98  \n",
       "18  0.71  \n",
       "19  1.45  \n",
       "20  1.93  \n",
       "21  0.74  \n",
       "22  0.21  \n",
       "23  0.28  \n",
       "24  0.45  \n",
       "25  0.22  \n",
       "26  0.45  \n",
       "27  0.21  \n",
       "28  0.12  \n",
       "29  0.00  \n",
       "30  0.25  \n",
       "31  0.14  \n",
       "32  0.24  \n",
       "33  0.00  "
      ]
     },
     "execution_count": 11,
     "metadata": {},
     "output_type": "execute_result"
    }
   ],
   "source": [
    "df_y = pd.read_csv('../concentration.csv', sep = ',')\n",
    "print(type(df_y))\n",
    "concentration=df_y.values\n",
    "print(concentration.shape)\n",
    "#print(concentration)\n",
    "\n",
    "y_values=df_y.values\n",
    "#y_all=pd.DataFrame(y_values[:,1:-2])\n",
    "#print(y_all)\n",
    "df_y"
   ]
  },
  {
   "cell_type": "code",
   "execution_count": 43,
   "metadata": {
    "scrolled": true
   },
   "outputs": [
    {
     "name": "stdout",
     "output_type": "stream",
     "text": [
      "[25.0 18.0 21.1 15.5 17.1 15.9 14.3 13.0 10.6 19.3 11.2 17.4 7.9 7.9 9.6\n",
      " 8.9 8.4 10.5 9.1 7.7 6.8 6.1 14.1 11.8 7.2 18.4 19.9 14.9 8.9 8.94 19.9\n",
      " 14.0 20.0 24.4]\n",
      "(34,)\n"
     ]
    }
   ],
   "source": [
    "y_val = concentration[:,3] #3-Mg, 4-Al, 5-Si, 6-Fe, 7-Mn\n",
    "print(y_val)\n",
    "print(y_val.shape)\n",
    "y_df= pd.DataFrame(y_val)\n",
    "#y_df"
   ]
  },
  {
   "cell_type": "code",
   "execution_count": null,
   "metadata": {},
   "outputs": [],
   "source": []
  },
  {
   "cell_type": "code",
   "execution_count": 44,
   "metadata": {},
   "outputs": [
    {
     "name": "stdout",
     "output_type": "stream",
     "text": [
      "(27, 3648) (27, 1)\n",
      "(7, 3648) (7, 1)\n",
      "       0\n",
      "6   14.3\n",
      "7     13\n",
      "13   7.9\n",
      "1     18\n",
      "4   17.1\n",
      "24   7.2\n",
      "22  14.1\n"
     ]
    }
   ],
   "source": [
    "X_train, X_test, y_train, y_test = train_test_split(x_df, y_df, test_size=0.2)\n",
    "print (X_train.shape, y_train.shape)\n",
    "print (X_test.shape, y_test.shape)\n",
    "print(y_test)"
   ]
  },
  {
   "cell_type": "code",
   "execution_count": null,
   "metadata": {},
   "outputs": [],
   "source": []
  },
  {
   "cell_type": "markdown",
   "metadata": {},
   "source": [
    "# Principal Components Analysis"
   ]
  },
  {
   "cell_type": "code",
   "execution_count": 45,
   "metadata": {},
   "outputs": [
    {
     "name": "stdout",
     "output_type": "stream",
     "text": [
      "(34, 3648)\n",
      "(3648,)\n",
      "34\n",
      "(34, 25)\n",
      "[58.   80.11 87.04 91.02 93.73 95.76 96.96 97.88 98.51 99.04 99.24 99.43\n",
      " 99.6  99.7  99.77 99.82 99.86 99.9  99.93 99.95 99.96 99.97 99.98 99.99\n",
      " 99.99]\n"
     ]
    }
   ],
   "source": [
    "n_components=25\n",
    "\n",
    "\n",
    "x = x_df.values\n",
    "print(x.shape)\n",
    "print(x[1].shape)\n",
    "print(len(x))\n",
    "\n",
    "\n",
    "# This has to be used later for regression, PCA is done on X only\n",
    "\"\"\"\n",
    "y_df = pd.read_csv('labels_aligned+.csv', sep = ',')\n",
    "concentration=y_df.values\n",
    "#print(concentration)\n",
    "multi_y = concentration[:,2:]\n",
    "#print (multi_y)\n",
    "print (multi_y.shape)\n",
    "multi_y= np.array(multi_y, dtype=np.float)\n",
    "y=np.around(multi_y, decimals=4)\n",
    "#print(y)\n",
    "\"\"\"\n",
    "\n",
    "# PCA\n",
    "\n",
    "X_std = StandardScaler().fit_transform(x)\n",
    "#print(X_std)\n",
    "\n",
    "pca = PCA(n_components= n_components)\n",
    "PC=pca.fit(X_std)\n",
    "\n",
    "principalComponents = pca.fit_transform(X_std)\n",
    "print(principalComponents.shape)\n",
    "#principalDf = pd.DataFrame(data = principalComponents, columns = ['principal component 1', 'principal component 2', 'principal component 3'])\n",
    "#print(principalDf)\n",
    "\n",
    "\n",
    "#print(pca.explained_variance_ratio_)\n",
    "print(np.cumsum(np.round(pca.explained_variance_ratio_, decimals=4)*100))\n",
    "#print(pca.singular_values_)"
   ]
  },
  {
   "cell_type": "code",
   "execution_count": 46,
   "metadata": {},
   "outputs": [
    {
     "name": "stdout",
     "output_type": "stream",
     "text": [
      "0.9192739043346322 -28.010890726982876\n",
      "2.223773125986253 799.1670924729882\n"
     ]
    }
   ],
   "source": [
    "regr = linear_model.LinearRegression()\n",
    "# Fit\n",
    "regr.fit(principalComponents, y_df)\n",
    "# Calibration\n",
    "y_c = regr.predict(principalComponents)\n",
    "# Cross-validation\n",
    "y_cv = cross_val_predict(regr, principalComponents, y_df, cv=10)\n",
    "# Calculate scores for calibration and cross-validation\n",
    "score_c = r2_score(y_df, y_c)\n",
    "score_cv = r2_score(y_df, y_cv)\n",
    "# Calculate mean square error for calibration and cross validation\n",
    "\n",
    "mse_c = mean_squared_error(y_df, y_c)\n",
    "mse_cv = mean_squared_error(y_df, y_cv)\n",
    "\n",
    "print(score_c, score_cv)\n",
    "print(mse_c, mse_cv)"
   ]
  },
  {
   "cell_type": "markdown",
   "metadata": {},
   "source": [
    "now using PCA with Linear regression and PLS"
   ]
  },
  {
   "cell_type": "code",
   "execution_count": 47,
   "metadata": {},
   "outputs": [
    {
     "name": "stdout",
     "output_type": "stream",
     "text": [
      "(27, 3648)\n",
      "(3648,)\n",
      "27\n",
      "(27, 25)\n",
      "[ 57.6   82.03  87.58  92.31  94.67  96.1   97.34  98.23  98.83  99.27\n",
      "  99.49  99.67  99.76  99.83  99.88  99.92  99.95  99.97  99.98  99.99\n",
      " 100.   100.01 100.01 100.01 100.01]\n"
     ]
    }
   ],
   "source": [
    "n_components=25\n",
    "\n",
    "x = X_train.values\n",
    "x_t = X_test.values\n",
    "print(x.shape)\n",
    "print(x[1].shape)\n",
    "print(len(x))\n",
    "\n",
    "\n",
    "# This has to be used later for regression, PCA is done on X only\n",
    "\"\"\"\n",
    "y_df = pd.read_csv('labels_aligned+.csv', sep = ',')\n",
    "concentration=y_df.values\n",
    "#print(concentration)\n",
    "multi_y = concentration[:,2:]\n",
    "#print (multi_y)\n",
    "print (multi_y.shape)\n",
    "multi_y= np.array(multi_y, dtype=np.float)\n",
    "y=np.around(multi_y, decimals=4)\n",
    "#print(y)\n",
    "\"\"\"\n",
    "\n",
    "# PCA\n",
    "\n",
    "X_std = StandardScaler().fit_transform(x)\n",
    "X_std_test = StandardScaler().fit_transform(x_t)\n",
    "#print(X_std)\n",
    "\n",
    "pca = PCA(n_components= n_components)\n",
    "PC=pca.fit(X_std)\n",
    "\n",
    "x_pc = pca.fit_transform(X_std)\n",
    "x_test1 = pca.transform(X_std_test)\n",
    "print(x_pc.shape)\n",
    "#principalDf = pd.DataFrame(data = principalComponents, columns = ['principal component 1', 'principal component 2', 'principal component 3'])\n",
    "#print(principalDf)\n",
    "\n",
    "\n",
    "#print(pca.explained_variance_ratio_)\n",
    "print(np.cumsum(np.round(pca.explained_variance_ratio_, decimals=4)*100))"
   ]
  },
  {
   "cell_type": "code",
   "execution_count": 48,
   "metadata": {},
   "outputs": [
    {
     "name": "stdout",
     "output_type": "stream",
     "text": [
      "R2_pred:  -6.630833874861764\n",
      "MSE:  113.70876861365441\n"
     ]
    }
   ],
   "source": [
    "regr = linear_model.LinearRegression()\n",
    "# Fit\n",
    "regr.fit(x_pc, y_train)\n",
    "# Calibration\n",
    "y_p = regr.predict(x_test1)\n",
    "# Cross-validation\n",
    "#y_cv = cross_val_predict(regr, principalComponents, y_df, cv=10)\n",
    "# Calculate scores for calibration and cross-validation\n",
    "score_c = r2_score(y_test, y_p)\n",
    "#score_cv = r2_score(y_df, y_cv)\n",
    "# Calculate mean square error for calibration and cross validation\n",
    "mse_c = mean_squared_error(y_test, y_p)\n",
    "#mse_cv = mean_squared_error(y_df, y_cv)\n",
    "\n",
    "print(\"R2_pred: \", score_c)\n",
    "print(\"MSE: \", mse_c)"
   ]
  },
  {
   "cell_type": "code",
   "execution_count": 49,
   "metadata": {},
   "outputs": [
    {
     "name": "stdout",
     "output_type": "stream",
     "text": [
      "37% completed\n",
      "Suggested number of components:  3\n",
      "\n"
     ]
    },
    {
     "data": {
      "image/png": "[encoded data removed]",
      "text/plain": [
       "<Figure size 432x288 with 1 Axes>"
      ]
     },
     "metadata": {},
     "output_type": "display_data"
    },
    {
     "name": "stdout",
     "output_type": "stream",
     "text": [
      "R2 calib: 0.999\n",
      "R2 CV: -0.235\n",
      "MSE calib: 0.038\n",
      "MSE CV: 37.955\n"
     ]
    }
   ],
   "source": [
    "optimise_pls_cv(x_pc, y_train, 15, plot_components=True) "
   ]
  },
  {
   "cell_type": "code",
   "execution_count": 50,
   "metadata": {},
   "outputs": [
    {
     "name": "stdout",
     "output_type": "stream",
     "text": [
      "R2_pred:  -5.988127151011698\n",
      "MSE:  104.13165144046329\n"
     ]
    }
   ],
   "source": [
    "pls = PLSRegression(n_components=13)\n",
    "# Fit\n",
    "pls.fit(x_pc, y_train)\n",
    "# Calibration\n",
    "y_c = pls.predict(x_test1)\n",
    "# Cross-validation\n",
    "#y_cv = cross_val_predict(regr, principalComponents, y_df, cv=10)\n",
    "# Calculate scores for calibration and cross-validation\n",
    "score_c = r2_score(y_test, y_c)\n",
    "#score_cv = r2_score(y_df, y_cv)\n",
    "# Calculate mean square error for calibration and cross validation\n",
    "mse_c = mean_squared_error(y_test, y_c)\n",
    "#mse_cv = mean_squared_error(y_df, y_cv)\n",
    "\n",
    "print(\"R2_pred: \", score_c)\n",
    "print(\"MSE: \", mse_c)"
   ]
  },
  {
   "cell_type": "markdown",
   "metadata": {},
   "source": [
    "# Linear Regression\n",
    "this is ordinary least square regression"
   ]
  },
  {
   "cell_type": "code",
   "execution_count": 51,
   "metadata": {},
   "outputs": [
    {
     "name": "stdout",
     "output_type": "stream",
     "text": [
      "R^2_pred:  -0.8725269082555704\n",
      "RMSE:  5.282323714341988 \n",
      "\n",
      "[real, predictions]\n",
      "[[14.3 23.430131604054466]\n",
      " [13.0 18.008149994132694]\n",
      " [7.9 8.961169780005294]\n",
      " [18.0 20.490781532750475]\n",
      " [17.1 17.503614113290134]\n",
      " [7.2 10.439607406919686]\n",
      " [14.1 22.400102580167882]]\n"
     ]
    },
    {
     "data": {
      "image/png": "[encoded data removed]",
      "text/plain": [
       "<Figure size 432x288 with 1 Axes>"
      ]
     },
     "metadata": {
      "needs_background": "light"
     },
     "output_type": "display_data"
    }
   ],
   "source": [
    "lm = linear_model.LinearRegression()\n",
    "model = lm.fit(X_train, y_train)\n",
    "predictions = lm.predict(X_test)\n",
    "\n",
    "\n",
    "rmse = sqrt(mean_squared_error(y_test, predictions))\n",
    "r2 = r2_score(y_test, predictions)\n",
    "print(\"R^2_pred: \", r2)\n",
    "print(\"RMSE: \", rmse, \"\\n\")\n",
    "\n",
    "\n",
    "b=np.append(y_test, predictions, axis=1)\n",
    "\n",
    "print(\"[real, predictions]\")\n",
    "print(b)\n",
    "\n",
    "plt.scatter(y_test, predictions)\n",
    "plt.xlabel('True Values')\n",
    "plt.ylabel('Predictions')\n",
    "plt.grid(True)\n",
    "plt.show()"
   ]
  },
  {
   "cell_type": "markdown",
   "metadata": {},
   "source": [
    "# Partial Least Square Regression"
   ]
  },
  {
   "cell_type": "markdown",
   "metadata": {},
   "source": [
    "## No preprocessing"
   ]
  },
  {
   "cell_type": "code",
   "execution_count": 100,
   "metadata": {},
   "outputs": [
    {
     "name": "stdout",
     "output_type": "stream",
     "text": [
      "(27, 3648) (27, 1)\n",
      "(7, 3648) (7, 1)\n"
     ]
    },
    {
     "data": {
      "text/html": [
       "<div>\n",
       "<style scoped>\n",
       "    .dataframe tbody tr th:only-of-type {\n",
       "        vertical-align: middle;\n",
       "    }\n",
       "\n",
       "    .dataframe tbody tr th {\n",
       "        vertical-align: top;\n",
       "    }\n",
       "\n",
       "    .dataframe thead th {\n",
       "        text-align: right;\n",
       "    }\n",
       "</style>\n",
       "<table border=\"1\" class=\"dataframe\">\n",
       "  <thead>\n",
       "    <tr style=\"text-align: right;\">\n",
       "      <th></th>\n",
       "      <th>0</th>\n",
       "    </tr>\n",
       "  </thead>\n",
       "  <tbody>\n",
       "    <tr>\n",
       "      <th>0</th>\n",
       "      <td>25</td>\n",
       "    </tr>\n",
       "    <tr>\n",
       "      <th>14</th>\n",
       "      <td>9.6</td>\n",
       "    </tr>\n",
       "    <tr>\n",
       "      <th>31</th>\n",
       "      <td>14</td>\n",
       "    </tr>\n",
       "    <tr>\n",
       "      <th>9</th>\n",
       "      <td>19.3</td>\n",
       "    </tr>\n",
       "    <tr>\n",
       "      <th>8</th>\n",
       "      <td>10.6</td>\n",
       "    </tr>\n",
       "    <tr>\n",
       "      <th>24</th>\n",
       "      <td>7.2</td>\n",
       "    </tr>\n",
       "    <tr>\n",
       "      <th>27</th>\n",
       "      <td>14.9</td>\n",
       "    </tr>\n",
       "  </tbody>\n",
       "</table>\n",
       "</div>"
      ],
      "text/plain": [
       "       0\n",
       "0     25\n",
       "14   9.6\n",
       "31    14\n",
       "9   19.3\n",
       "8   10.6\n",
       "24   7.2\n",
       "27  14.9"
      ]
     },
     "execution_count": 100,
     "metadata": {},
     "output_type": "execute_result"
    }
   ],
   "source": [
    "X_train, X_test, y_train, y_test = train_test_split(x_df, y_df, test_size=0.2)\n",
    "print (X_train.shape, y_train.shape)\n",
    "print (X_test.shape, y_test.shape)\n",
    "#print(X_test)\n",
    "y_test"
   ]
  },
  {
   "cell_type": "code",
   "execution_count": 92,
   "metadata": {},
   "outputs": [
    {
     "name": "stdout",
     "output_type": "stream",
     "text": [
      "100% completed\n",
      "Suggested number of components:  4\n",
      "\n"
     ]
    },
    {
     "data": {
      "image/png": "[encoded data removed]",
      "text/plain": [
       "<Figure size 432x288 with 1 Axes>"
      ]
     },
     "metadata": {},
     "output_type": "display_data"
    },
    {
     "name": "stdout",
     "output_type": "stream",
     "text": [
      "R2 calib: 0.770\n",
      "R2 CV: 0.541\n",
      "MSE calib: 6.326\n",
      "MSE CV: 12.648\n"
     ]
    }
   ],
   "source": [
    "optimise_pls_cv(x_df, y_df, 40, plot_components=True)\n",
    "#optimise_pls_cv(x_df, y_all, 40, plot_components=True)"
   ]
  },
  {
   "cell_type": "code",
   "execution_count": 93,
   "metadata": {},
   "outputs": [
    {
     "name": "stdout",
     "output_type": "stream",
     "text": [
      "R^2_cv 0.21468135280949252\n",
      "MSE:  21.63328337093525\n"
     ]
    }
   ],
   "source": [
    "# Define PLS object\n",
    "pls = PLSRegression(n_components=6)\n",
    "# Fit\n",
    "pls.fit(x_df, y_df)\n",
    "# Cross-validation\n",
    "y_cv = cross_val_predict(pls, x_df, y_df, cv=10)\n",
    "# Calculate scores\n",
    "score = r2_score(y_df, y_cv)\n",
    "mse = mean_squared_error(y_df, y_cv)\n",
    "\n",
    "print(\"R^2_cv\", score)\n",
    "print(\"MSE: \", mse)"
   ]
  },
  {
   "cell_type": "code",
   "execution_count": 94,
   "metadata": {},
   "outputs": [
    {
     "name": "stdout",
     "output_type": "stream",
     "text": [
      "100% completed\n",
      "Suggested number of components:  4\n",
      "\n"
     ]
    },
    {
     "data": {
      "image/png": "[encoded data removed]",
      "text/plain": [
       "<Figure size 432x288 with 1 Axes>"
      ]
     },
     "metadata": {},
     "output_type": "display_data"
    },
    {
     "name": "stdout",
     "output_type": "stream",
     "text": [
      "R2 calib: 0.768\n",
      "R2 CV: 0.501\n",
      "MSE calib: 6.719\n",
      "MSE CV: 14.479\n"
     ]
    }
   ],
   "source": [
    "optimise_pls_cv(X_train,y_train, 40, plot_components=True)"
   ]
  },
  {
   "cell_type": "code",
   "execution_count": 101,
   "metadata": {},
   "outputs": [
    {
     "name": "stdout",
     "output_type": "stream",
     "text": [
      "R2_pred:  0.5452511610573683\n",
      "R2_cv:  0.18012185566673633\n",
      "\n",
      "TEST\n",
      " [real, predictions]\n",
      "[[25.0 20.472635550145075]\n",
      " [9.6 8.056088756740701]\n",
      " [14.0 15.303861015192272]\n",
      " [19.3 21.280917470912076]\n",
      " [10.6 13.704998193977799]\n",
      " [7.2 11.217941561326999]\n",
      " [14.9 21.86609412676252]]\n",
      "\n"
     ]
    },
    {
     "data": {
      "image/png": "[encoded data removed]",
      "text/plain": [
       "<Figure size 432x288 with 1 Axes>"
      ]
     },
     "metadata": {
      "needs_background": "light"
     },
     "output_type": "display_data"
    }
   ],
   "source": [
    "# Define PLS object\n",
    "pls = PLSRegression(n_components=4)\n",
    "# Fit\n",
    "pls.fit(X_train, y_train)\n",
    "# Cross-validation\n",
    "y_pred = pls.predict(X_test)\n",
    "y_pred1 = pls.predict(X_train)\n",
    "\n",
    "# Cross-validation\n",
    "y_cv = cross_val_predict(pls, X_train, y_train, cv=10)\n",
    "\n",
    "# Calculate scores for calibration and cross-validation\n",
    "score_pred = r2_score(y_test, y_pred)\n",
    "score_cv = r2_score(y_train, y_cv)\n",
    "\n",
    "print(\"R2_pred: \", score_pred)\n",
    "print(\"R2_cv: \",score_cv)\n",
    "print(\"\")\n",
    "\n",
    "b=np.append(y_test, y_pred, axis=1)\n",
    "\n",
    "print(\"TEST\\n [real, predictions]\")\n",
    "print(b)\n",
    "print(\"\")\n",
    "\n",
    "c=np.append(y_train, y_pred1, axis=1)\n",
    "\n",
    "#print(\"TRAIN\\n [real, predictions]\")\n",
    "#print(c)\n",
    "\n",
    "plt.scatter(y_test, y_pred)\n",
    "plt.scatter(y_train, y_pred1)\n",
    "plt.xlabel('True Values')\n",
    "plt.ylabel('Predictions')\n",
    "plt.grid(True)\n",
    "plt.show()"
   ]
  },
  {
   "cell_type": "code",
   "execution_count": 23,
   "metadata": {},
   "outputs": [
    {
     "name": "stdout",
     "output_type": "stream",
     "text": [
      "(3648, 1)\n"
     ]
    }
   ],
   "source": [
    "print(wl.shape)"
   ]
  },
  {
   "cell_type": "markdown",
   "metadata": {},
   "source": [
    "## Wavelenght selection for PLS"
   ]
  },
  {
   "cell_type": "code",
   "execution_count": 60,
   "metadata": {
    "scrolled": true
   },
   "outputs": [
    {
     "name": "stdout",
     "output_type": "stream",
     "text": [
      "100% completed\n",
      "Optimised number of PLS components:  3\n",
      "Wavelengths to be discarded  2898\n",
      "Optimised MSEP  8.3149245352438\n",
      "\n",
      "--- 2718.446411371231 seconds ---\n"
     ]
    }
   ],
   "source": [
    "start_time = time.time()\n",
    "\n",
    "opt_Xc, ncomp, wav, sorted_ind = pls_variable_selection(x_df.values, y_val, 15)\n",
    "\n",
    "print(\"--- %s seconds ---\" % (time.time() - start_time))"
   ]
  },
  {
   "cell_type": "code",
   "execution_count": 61,
   "metadata": {},
   "outputs": [
    {
     "name": "stdout",
     "output_type": "stream",
     "text": [
      "sorted wavelengths:  [[273.95 299.48 304.69 322.67 334.03 255.37 245.25 302.1  252.53 334.73]]\n"
     ]
    },
    {
     "data": {
      "image/png": "[encoded data removed]",
      "text/plain": [
       "<Figure size 432x288 with 1 Axes>"
      ]
     },
     "metadata": {
      "needs_background": "light"
     },
     "output_type": "display_data"
    }
   ],
   "source": [
    "#print(opt_Xc.shape,\"\\n\")\n",
    "#print(\"sorted indexes: \", sorted_ind)\n",
    "print(\"sorted wavelengths: \", wl[sorted_ind[:10]].T)\n",
    "\n",
    "plt.plot(opt_Xc.T)\n",
    "plt.show()"
   ]
  },
  {
   "cell_type": "code",
   "execution_count": 102,
   "metadata": {},
   "outputs": [
    {
     "name": "stdout",
     "output_type": "stream",
     "text": [
      "(27, 750) (27, 1)\n",
      "(7, 750) (7, 1)\n",
      "       0\n",
      "27  14.9\n",
      "19   7.7\n",
      "1     18\n",
      "28   8.9\n",
      "2   21.1\n",
      "20   6.8\n",
      "12   7.9\n"
     ]
    }
   ],
   "source": [
    "#X_train, X_test, y_train, y_test = train_test_split(opt_Xc, y_df, test_size=0.2, random_state = 16) #seed for Mg = 3, 16\n",
    "#X_train, X_test, y_train, y_test = train_test_split(opt_Xc, y_df, test_size=0.2, random_state = 7) #seed for Si = 7\n",
    "#X_train, X_test, y_train, y_test = train_test_split(opt_Xc, y_df, test_size=0.2, random_state = 16) #seed for Cu =16\n",
    "#X_train, X_test, y_train, y_test = train_test_split(opt_Xc, y_df, test_size=0.2, random_state = 7) #seed for Fe =7\n",
    "#X_train, X_test, y_train, y_test = train_test_split(opt_Xc, y_df, test_size=0.2, random_state = 3) #seed for Mn = 3\n",
    "\n",
    "X_train, X_test, y_train, y_test = train_test_split(opt_Xc, y_df, test_size=0.2)\n",
    "print (X_train.shape, y_train.shape)\n",
    "print (X_test.shape, y_test.shape)\n",
    "print(y_test)"
   ]
  },
  {
   "cell_type": "code",
   "execution_count": 103,
   "metadata": {},
   "outputs": [],
   "source": [
    "#optimise_pls_cv(X_train,y_train, 3, plot_components=True)"
   ]
  },
  {
   "cell_type": "code",
   "execution_count": 118,
   "metadata": {},
   "outputs": [
    {
     "name": "stdout",
     "output_type": "stream",
     "text": [
      "R2_pred:  0.6232467942600319\n",
      "RMSE:  3.827251897319096\n",
      "\n"
     ]
    },
    {
     "data": {
      "image/png": "[encoded data removed]",
      "text/plain": [
       "<Figure size 720x504 with 1 Axes>"
      ]
     },
     "metadata": {
      "needs_background": "light"
     },
     "output_type": "display_data"
    }
   ],
   "source": [
    "# Define PLS object\n",
    "pls = PLSRegression(n_components=3)\n",
    "# Fit\n",
    "pls.fit(X_train, y_train)\n",
    "\n",
    "y_pred = pls.predict(X_test)\n",
    "y_pred1 = pls.predict(X_train)\n",
    "\n",
    "# Calculate score and error\n",
    "r2 = r2_score(y_test, y_pred)\n",
    "rmse = sqrt(mean_squared_error(y_test, y_pred))\n",
    "\n",
    "\n",
    "print(\"R2_pred: \", r2)\n",
    "print(\"RMSE: \", rmse)\n",
    "#print(\"R2_cv: \",score_cv)\n",
    "print(\"\")\n",
    "\n",
    "\n",
    "c=np.append(y_train, y_pred1, axis=1)\n",
    "\n",
    "#print(\"TRAIN\\n [real, predictions]\")\n",
    "#print(c)\n",
    "\n",
    "plt.figure(figsize=(10,7))\n",
    "plt.scatter(y_test, y_pred)\n",
    "plt.scatter(y_train, y_pred1)\n",
    "plt.plot( y_test, linear_model.LinearRegression().fit(y_test, y_pred).predict(y_test) )\n",
    "plt.xlabel('True Values')\n",
    "plt.ylabel('Predictions')\n",
    "plt.grid(True)\n",
    "plt.show()"
   ]
  },
  {
   "cell_type": "markdown",
   "metadata": {},
   "source": [
    "## Using Normalization"
   ]
  },
  {
   "cell_type": "code",
   "execution_count": 105,
   "metadata": {},
   "outputs": [
    {
     "name": "stdout",
     "output_type": "stream",
     "text": [
      "(27, 750)\n",
      "(7, 750)\n"
     ]
    }
   ],
   "source": [
    "Xn_train = normalize(X_train, axis=1)\n",
    "Xn_test = normalize(X_test, axis=1)\n",
    "print(Xn_train.shape)\n",
    "print(Xn_test.shape)"
   ]
  },
  {
   "cell_type": "code",
   "execution_count": 106,
   "metadata": {},
   "outputs": [
    {
     "data": {
      "image/png": "[encoded data removed]",
      "text/plain": [
       "<Figure size 432x288 with 1 Axes>"
      ]
     },
     "metadata": {
      "needs_background": "light"
     },
     "output_type": "display_data"
    }
   ],
   "source": [
    "plt.plot(Xn_train.T)\n",
    "plt.show()"
   ]
  },
  {
   "cell_type": "code",
   "execution_count": 107,
   "metadata": {},
   "outputs": [],
   "source": [
    "#optimise_pls_cv(Xn_train,y_train, 40, plot_components=True)\n",
    "#optimise_pls_cv(Xn_train,y_train, 7, plot_components=True)"
   ]
  },
  {
   "cell_type": "code",
   "execution_count": 108,
   "metadata": {},
   "outputs": [
    {
     "name": "stdout",
     "output_type": "stream",
     "text": [
      "R2_pred:  0.7202102606130725\n",
      "RMSE:  2.8197814797962573\n",
      "\n",
      "TEST\n",
      " [real, predictions]\n",
      "[[14.9 18.94218010053904]\n",
      " [7.7 7.188635597786872]\n",
      " [18.0 15.739655942100828]\n",
      " [8.9 10.874436383035802]\n",
      " [21.1 16.503229696236286]\n",
      " [6.8 9.423442908279037]\n",
      " [7.9 6.472710460253396]]\n",
      "\n"
     ]
    },
    {
     "data": {
      "image/png": "[encoded data removed]",
      "text/plain": [
       "<Figure size 720x504 with 1 Axes>"
      ]
     },
     "metadata": {
      "needs_background": "light"
     },
     "output_type": "display_data"
    }
   ],
   "source": [
    "# Define PLS object\n",
    "pls = PLSRegression(n_components=7)\n",
    "# Fit\n",
    "pls.fit(Xn_train, y_train)\n",
    "\n",
    "y_pred = pls.predict(Xn_test)\n",
    "y_pred1 = pls.predict(Xn_train)\n",
    "\n",
    "# Calculate score and error\n",
    "r2 = r2_score(y_test, y_pred)\n",
    "rmse = sqrt(mean_squared_error(y_test, y_pred))\n",
    "\n",
    "\n",
    "print(\"R2_pred: \", r2)\n",
    "print(\"RMSE: \", rmse)\n",
    "#print(\"R2_cv: \",score_cv)\n",
    "print(\"\")\n",
    "\n",
    "\n",
    "b=np.append(y_test, y_pred, axis=1)\n",
    "\n",
    "print(\"TEST\\n [real, predictions]\")\n",
    "print(b)\n",
    "print(\"\")\n",
    "\n",
    "c=np.append(y_train, y_pred1, axis=1)\n",
    "\n",
    "#print(\"TRAIN\\n [real, predictions]\")\n",
    "#print(c)\n",
    "\n",
    "plt.figure(figsize=(10,7))\n",
    "plt.scatter(y_test, y_pred)\n",
    "plt.scatter(y_train, y_pred1)\n",
    "plt.plot( y_test, linear_model.LinearRegression().fit(y_test, y_pred).predict(y_test) )\n",
    "plt.xlabel('True Values')\n",
    "plt.ylabel('Predictions')\n",
    "plt.grid(True)\n",
    "plt.show()"
   ]
  },
  {
   "cell_type": "markdown",
   "metadata": {},
   "source": [
    "## Using SNV"
   ]
  },
  {
   "cell_type": "code",
   "execution_count": 109,
   "metadata": {},
   "outputs": [
    {
     "name": "stdout",
     "output_type": "stream",
     "text": [
      "(27, 750)\n",
      "(7, 750)\n"
     ]
    }
   ],
   "source": [
    "Xs_train = snv(X_train)\n",
    "Xs_test = snv(X_test)\n",
    "print(Xs_train.shape)\n",
    "print(Xs_test.shape)\n",
    "\n",
    "#optimise_pls_cv(Xn_train,y_train, 40, plot_components=True)\n",
    "#optimise_pls_cv(Xs_train,y_train, 7, plot_components=True)"
   ]
  },
  {
   "cell_type": "code",
   "execution_count": 110,
   "metadata": {},
   "outputs": [
    {
     "data": {
      "image/png": "[encoded data removed]",
      "text/plain": [
       "<Figure size 432x288 with 1 Axes>"
      ]
     },
     "metadata": {
      "needs_background": "light"
     },
     "output_type": "display_data"
    }
   ],
   "source": [
    "plt.plot(Xs_train.T)\n",
    "plt.show()"
   ]
  },
  {
   "cell_type": "code",
   "execution_count": 111,
   "metadata": {},
   "outputs": [
    {
     "name": "stdout",
     "output_type": "stream",
     "text": [
      "R2_pred:  0.7775972404488015\n",
      "RMSE:  2.514025322048061\n",
      "\n",
      "TEST\n",
      " [real, predictions]\n",
      "[[14.9 18.51455682465541]\n",
      " [7.7 7.264181859290526]\n",
      " [18.0 15.898602707338833]\n",
      " [8.9 11.046857657257288]\n",
      " [21.1 16.80687688816041]\n",
      " [6.8 5.061342846539489]\n",
      " [7.9 7.186836893804144]]\n",
      "\n"
     ]
    },
    {
     "data": {
      "image/png": "[encoded data removed]",
      "text/plain": [
       "<Figure size 720x504 with 1 Axes>"
      ]
     },
     "metadata": {
      "needs_background": "light"
     },
     "output_type": "display_data"
    }
   ],
   "source": [
    "# Define PLS object\n",
    "pls = PLSRegression(n_components=4)\n",
    "# Fit\n",
    "pls.fit(Xs_train, y_train)\n",
    "\n",
    "y_pred = pls.predict(Xs_test)\n",
    "y_pred1 = pls.predict(Xs_train)\n",
    "\n",
    "# Calculate score and error\n",
    "r2 = r2_score(y_test, y_pred)\n",
    "rmse = sqrt(mean_squared_error(y_test, y_pred))\n",
    "\n",
    "\n",
    "print(\"R2_pred: \", r2)\n",
    "print(\"RMSE: \", rmse)\n",
    "#print(\"R2_cv: \",score_cv)\n",
    "print(\"\")\n",
    "\n",
    "\n",
    "b=np.append(y_test, y_pred, axis=1)\n",
    "\n",
    "print(\"TEST\\n [real, predictions]\")\n",
    "print(b)\n",
    "print(\"\")\n",
    "\n",
    "c=np.append(y_train, y_pred1, axis=1)\n",
    "\n",
    "#print(\"TRAIN\\n [real, predictions]\")\n",
    "#print(c)\n",
    "\n",
    "plt.figure(figsize=(10,7))\n",
    "plt.scatter(y_test, y_pred)\n",
    "plt.scatter(y_train, y_pred1)\n",
    "plt.plot( y_test, linear_model.LinearRegression().fit(y_test, y_pred).predict(y_test) )\n",
    "plt.xlabel('True Values')\n",
    "plt.ylabel('Predictions')\n",
    "plt.grid(True)\n",
    "plt.show()"
   ]
  },
  {
   "cell_type": "code",
   "execution_count": null,
   "metadata": {},
   "outputs": [],
   "source": []
  },
  {
   "cell_type": "markdown",
   "metadata": {},
   "source": [
    "## Using Max-norm"
   ]
  },
  {
   "cell_type": "code",
   "execution_count": 112,
   "metadata": {},
   "outputs": [],
   "source": [
    "Xm_train = X_train / np.max(X_train)\n",
    "Xm_test = X_test / np.max(X_test)\n",
    "\n",
    "#optimise_pls_cv(Xn_train,y_train, 40, plot_components=True)\n",
    "#optimise_pls_cv(Xm_train,y_train, 15, plot_components=True)"
   ]
  },
  {
   "cell_type": "code",
   "execution_count": 113,
   "metadata": {},
   "outputs": [
    {
     "data": {
      "image/png": "[encoded data removed]",
      "text/plain": [
       "<Figure size 432x288 with 1 Axes>"
      ]
     },
     "metadata": {
      "needs_background": "light"
     },
     "output_type": "display_data"
    }
   ],
   "source": [
    "plt.plot(Xm_train.T)\n",
    "plt.show()"
   ]
  },
  {
   "cell_type": "code",
   "execution_count": 114,
   "metadata": {},
   "outputs": [
    {
     "name": "stdout",
     "output_type": "stream",
     "text": [
      "R2_pred:  0.8354951025617094\n",
      "RMSE:  2.1621657211628875\n",
      "\n",
      "TEST\n",
      " [real, predictions]\n",
      "[[14.9 18.03652363014002]\n",
      " [7.7 9.398476517702235]\n",
      " [18.0 16.764368808340866]\n",
      " [8.9 12.652003906923563]\n",
      " [21.1 19.125149639471324]\n",
      " [6.8 7.297205872540534]\n",
      " [7.9 8.400555582578473]]\n",
      "\n"
     ]
    },
    {
     "data": {
      "image/png": "[encoded data removed]",
      "text/plain": [
       "<Figure size 720x504 with 1 Axes>"
      ]
     },
     "metadata": {
      "needs_background": "light"
     },
     "output_type": "display_data"
    }
   ],
   "source": [
    "# Define PLS object\n",
    "pls = PLSRegression(n_components=4)\n",
    "# Fit\n",
    "pls.fit(Xm_train, y_train)\n",
    "\n",
    "y_pred = pls.predict(Xm_test)\n",
    "y_pred1 = pls.predict(Xm_train)\n",
    "\n",
    "# Calculate score and error\n",
    "r2 = r2_score(y_test, y_pred)\n",
    "rmse = sqrt(mean_squared_error(y_test, y_pred))\n",
    "\n",
    "\n",
    "print(\"R2_pred: \", r2)\n",
    "print(\"RMSE: \", rmse)\n",
    "#print(\"R2_cv: \",score_cv)\n",
    "print(\"\")\n",
    "\n",
    "b=np.append(y_test, y_pred, axis=1)\n",
    "\n",
    "print(\"TEST\\n [real, predictions]\")\n",
    "print(b)\n",
    "print(\"\")\n",
    "\n",
    "c=np.append(y_train, y_pred1, axis=1)\n",
    "\n",
    "#print(\"TRAIN\\n [real, predictions]\")\n",
    "#print(c)\n",
    "\n",
    "plt.figure(figsize=(10,7))\n",
    "plt.scatter(y_test, y_pred)\n",
    "plt.scatter(y_train, y_pred1)\n",
    "plt.plot( y_test, linear_model.LinearRegression().fit(y_test, y_pred).predict(y_test) )\n",
    "plt.xlabel('True Values')\n",
    "plt.ylabel('Predictions')\n",
    "plt.grid(True)\n",
    "plt.show()"
   ]
  },
  {
   "cell_type": "code",
   "execution_count": null,
   "metadata": {},
   "outputs": [],
   "source": []
  },
  {
   "cell_type": "code",
   "execution_count": null,
   "metadata": {},
   "outputs": [],
   "source": []
  },
  {
   "cell_type": "code",
   "execution_count": null,
   "metadata": {},
   "outputs": [],
   "source": []
  },
  {
   "cell_type": "markdown",
   "metadata": {},
   "source": [
    "## Using Savgol filter"
   ]
  },
  {
   "cell_type": "code",
   "execution_count": 115,
   "metadata": {},
   "outputs": [
    {
     "name": "stdout",
     "output_type": "stream",
     "text": [
      "(27, 3648) (27, 1)\n",
      "(7, 3648) (7, 1)\n"
     ]
    }
   ],
   "source": [
    "X_train, X_test, y_train, y_test = train_test_split(x_df, y_df, test_size=0.2)\n",
    "print (X_train.shape, y_train.shape)\n",
    "print (X_test.shape, y_test.shape)\n",
    "#print(X_test)"
   ]
  },
  {
   "cell_type": "code",
   "execution_count": 34,
   "metadata": {},
   "outputs": [
    {
     "data": {
      "image/png": "[encoded data removed]",
      "text/plain": [
       "<Figure size 576x324 with 1 Axes>"
      ]
     },
     "metadata": {
      "needs_background": "light"
     },
     "output_type": "display_data"
    },
    {
     "name": "stdout",
     "output_type": "stream",
     "text": [
      "100% completed\n",
      "Suggested number of components:  6\n",
      "\n"
     ]
    },
    {
     "data": {
      "image/png": "[encoded data removed]",
      "text/plain": [
       "<Figure size 432x288 with 1 Axes>"
      ]
     },
     "metadata": {},
     "output_type": "display_data"
    },
    {
     "name": "stdout",
     "output_type": "stream",
     "text": [
      "R2 calib: 0.834\n",
      "R2 CV: 0.609\n",
      "MSE calib: 4.571\n",
      "MSE CV: 10.778\n"
     ]
    }
   ],
   "source": [
    "# Calculate second derivative\n",
    "X2 = savgol_filter(x_df, 101, polyorder = 6,deriv=0) # Is this useful with LIBS spectra???\n",
    "# Plot second derivative\n",
    "plt.figure(figsize=(8,4.5))\n",
    "with plt.style.context(('ggplot')):\n",
    "    plt.plot(range(len(X2.T)), X2.T)\n",
    "    plt.xlabel('Wavelength (nm)')\n",
    "    plt.ylabel('D2 Intensity')\n",
    "    plt.show()\n",
    "    \n",
    "    \n",
    "X2_1 = msc(X2)[0]\n",
    "    \n",
    "optimise_pls_cv(X2_1, y_df, 40, plot_components=True)"
   ]
  },
  {
   "cell_type": "code",
   "execution_count": 35,
   "metadata": {},
   "outputs": [
    {
     "name": "stdout",
     "output_type": "stream",
     "text": [
      "100% completed\n",
      "Suggested number of components:  5\n",
      "\n"
     ]
    },
    {
     "data": {
      "image/png": "[encoded data removed]",
      "text/plain": [
       "<Figure size 432x288 with 1 Axes>"
      ]
     },
     "metadata": {},
     "output_type": "display_data"
    },
    {
     "name": "stdout",
     "output_type": "stream",
     "text": [
      "R2 calib: 0.852\n",
      "R2 CV: 0.581\n",
      "MSE calib: 3.787\n",
      "MSE CV: 10.752\n"
     ]
    }
   ],
   "source": [
    "X2_train = savgol_filter(X_train, 37, polyorder = 4,deriv=1) \n",
    "X2_test = savgol_filter(X_test, 35, polyorder = 4,deriv=1) \n",
    "\n",
    "\n",
    "\n",
    "\n",
    "optimise_pls_cv(X2_train, y_train, 40, plot_components=True)"
   ]
  },
  {
   "cell_type": "code",
   "execution_count": 37,
   "metadata": {},
   "outputs": [
    {
     "name": "stdout",
     "output_type": "stream",
     "text": [
      "R2_pred:  0.1649860006265983\n",
      "R2_cv:  0.4927830298446778\n",
      "\n",
      "[real, predictions]\n",
      "[[15.9 10.770687549143025]\n",
      " [13.0 14.465004698889048]\n",
      " [7.2 -1.138163658934202]\n",
      " [9.1 3.8163457681246644]\n",
      " [25.0 19.962244678550732]\n",
      " [7.9 3.550324681147721]\n",
      " [17.4 11.62702744131783]]\n"
     ]
    },
    {
     "data": {
      "image/png": "[encoded data removed]",
      "text/plain": [
       "<Figure size 432x288 with 1 Axes>"
      ]
     },
     "metadata": {
      "needs_background": "light"
     },
     "output_type": "display_data"
    }
   ],
   "source": [
    "# Define PLS object\n",
    "pls = PLSRegression(n_components=6)\n",
    "# Fit\n",
    "pls.fit(X2_train, y_train)\n",
    "\n",
    "y_pred = pls.predict(X2_test)\n",
    "\n",
    "# Cross-validation\n",
    "y_cv = cross_val_predict(pls, X2_train, y_train, cv=10)\n",
    "\n",
    "# Calculate scores for calibration and cross-validation\n",
    "score_pred = r2_score(y_test, y_pred)\n",
    "score_cv = r2_score(y_train, y_cv)\n",
    "\n",
    "print(\"R2_pred: \", score_pred)\n",
    "print(\"R2_cv: \",score_cv)\n",
    "print(\"\")\n",
    "\n",
    "b=np.append(y_test, y_pred, axis=1)\n",
    "\n",
    "print(\"[real, predictions]\")\n",
    "print(b)\n",
    "\n",
    "plt.scatter(y_test, y_pred)\n",
    "plt.xlabel('True Values')\n",
    "plt.ylabel('Predictions')\n",
    "plt.grid(True)\n",
    "plt.show()"
   ]
  },
  {
   "cell_type": "code",
   "execution_count": null,
   "metadata": {},
   "outputs": [],
   "source": []
  },
  {
   "cell_type": "markdown",
   "metadata": {},
   "source": [
    "# Elastic Net"
   ]
  },
  {
   "cell_type": "code",
   "execution_count": 38,
   "metadata": {},
   "outputs": [],
   "source": [
    "alphas = [0.0001, 0.001, 0.01, 0.1, 0.3, 0.5, 0.7, 1]"
   ]
  },
  {
   "cell_type": "code",
   "execution_count": 39,
   "metadata": {},
   "outputs": [
    {
     "name": "stdout",
     "output_type": "stream",
     "text": [
      "Alpha:0.0001, R2:0.97, MSE:8.87, RMSE:2.98\n",
      "Alpha:0.0010, R2:0.91, MSE:8.53, RMSE:2.92\n",
      "Alpha:0.0100, R2:0.77, MSE:11.74, RMSE:3.43\n",
      "Alpha:0.1000, R2:0.58, MSE:17.74, RMSE:4.21\n",
      "Alpha:0.3000, R2:0.26, MSE:27.92, RMSE:5.28\n",
      "Alpha:0.5000, R2:0.06, MSE:33.55, RMSE:5.79\n",
      "Alpha:0.7000, R2:0.00, MSE:34.73, RMSE:5.89\n",
      "Alpha:1.0000, R2:0.00, MSE:34.82, RMSE:5.90\n"
     ]
    }
   ],
   "source": [
    "for a in alphas:\n",
    "    model = ElasticNet(alpha=a).fit(X_train,y_train)   \n",
    "    score = model.score(X_train, y_train)\n",
    "    pred_y = model.predict(X_test)\n",
    "    mse = mean_squared_error(y_test, pred_y)   \n",
    "    print(\"Alpha:{0:.4f}, R2:{1:.2f}, MSE:{2:.2f}, RMSE:{3:.2f}\".format(a, score, mse, np.sqrt(mse)))"
   ]
  },
  {
   "cell_type": "code",
   "execution_count": 40,
   "metadata": {
    "scrolled": true
   },
   "outputs": [
    {
     "name": "stdout",
     "output_type": "stream",
     "text": [
      "Train score:  0.9745781713670396\n",
      "RMSE:  2.9779539755657836\n",
      "R^2:  0.7453097692192908\n"
     ]
    }
   ],
   "source": [
    "model = ElasticNet(alpha=0.0001).fit(X_train,y_train)   \n",
    "score = model.score(X_train, y_train)\n",
    "print(\"Train score: \", score)\n",
    "pred_y = model.predict(X_test)\n",
    "\n",
    "\n",
    "rmse = sqrt(mean_squared_error(y_test, pred_y))\n",
    "r2 = r2_score(y_test, pred_y)\n",
    "print(\"RMSE: \", rmse)\n",
    "print(\"R^2: \", r2)"
   ]
  },
  {
   "cell_type": "code",
   "execution_count": 41,
   "metadata": {},
   "outputs": [
    {
     "data": {
      "image/png": "[encoded data removed]",
      "text/plain": [
       "<Figure size 432x288 with 1 Axes>"
      ]
     },
     "metadata": {
      "needs_background": "light"
     },
     "output_type": "display_data"
    }
   ],
   "source": [
    "plt.scatter(y_test, y_pred)\n",
    "plt.xlabel('True Values')\n",
    "plt.ylabel('Predictions')\n",
    "plt.grid(True)\n",
    "plt.show()"
   ]
  },
  {
   "cell_type": "code",
   "execution_count": null,
   "metadata": {},
   "outputs": [],
   "source": []
  },
  {
   "cell_type": "markdown",
   "metadata": {},
   "source": [
    "# Random Forest"
   ]
  },
  {
   "cell_type": "code",
   "execution_count": 44,
   "metadata": {},
   "outputs": [
    {
     "name": "stdout",
     "output_type": "stream",
     "text": [
      "(28, 20) (28, 1)\n",
      "(6, 20) (6, 1)\n"
     ]
    }
   ],
   "source": [
    "#X_train, X_test, y_train, y_test = train_test_split(x_df, y_df, test_size=0.15)\n",
    "X_train, X_test, y_train, y_test = train_test_split(principalComponents, y_df, test_size=0.15)\n",
    "\n",
    "\n",
    "print (X_train.shape, y_train.shape)\n",
    "print (X_test.shape, y_test.shape)\n",
    "#print(y_test)"
   ]
  },
  {
   "cell_type": "code",
   "execution_count": 45,
   "metadata": {},
   "outputs": [
    {
     "name": "stdout",
     "output_type": "stream",
     "text": [
      "(6,)\n",
      "(28,)\n"
     ]
    }
   ],
   "source": [
    "y_test=np.ravel(y_test)\n",
    "print(y_test.shape)\n",
    "y_train=np.ravel(y_train)\n",
    "print(y_train.shape)"
   ]
  },
  {
   "cell_type": "code",
   "execution_count": 46,
   "metadata": {},
   "outputs": [
    {
     "name": "stdout",
     "output_type": "stream",
     "text": [
      "RMSE:  4.656149107864393\n",
      "R^2:  0.29224213000392685 \n",
      "\n",
      "[real, predictions]\n",
      "[[8.94 11.94368000000031]\n",
      " [14.0 15.567280000000377]\n",
      " [19.9 16.690320000000337]\n",
      " [6.8 10.018600000000136]\n",
      " [21.1 11.722720000000184]\n",
      " [9.1 12.263079999999999]]\n"
     ]
    },
    {
     "data": {
      "text/plain": [
       "Text(0, 0.5, 'Predictions')"
      ]
     },
     "execution_count": 46,
     "metadata": {},
     "output_type": "execute_result"
    },
    {
     "data": {
      "image/png": "[encoded data removed]",
      "text/plain": [
       "<Figure size 432x288 with 1 Axes>"
      ]
     },
     "metadata": {
      "needs_background": "light"
     },
     "output_type": "display_data"
    }
   ],
   "source": [
    "# Import the model we are using\n",
    "from sklearn.ensemble import RandomForestRegressor\n",
    "# Instantiate model with 1000 decision trees\n",
    "rf = RandomForestRegressor(n_estimators = 2500, max_depth=30, random_state = 42)\n",
    "# Train the model on training data\n",
    "\n",
    "rf.fit(X_train, y_train);\n",
    "\n",
    "# Use the forest's predict method on the test data\n",
    "predictions = rf.predict(X_test)\n",
    "\n",
    "rmse = sqrt(mean_squared_error(y_test, predictions))\n",
    "r2 = r2_score(y_test, predictions)\n",
    "print(\"RMSE: \", rmse)\n",
    "print(\"R^2: \", r2, \"\\n\")\n",
    "\n",
    "y_test= y_test.reshape((len(y_test), 1))\n",
    "predictions=predictions.reshape((len(y_test), 1))\n",
    "#print((y_test, predictions))\n",
    "\n",
    "b=np.append(y_test, predictions, axis=1)\n",
    "\n",
    "print(\"[real, predictions]\")\n",
    "print(b)\n",
    "\n",
    "plt.scatter(y_test, predictions)\n",
    "plt.xlabel('True Values')\n",
    "plt.ylabel('Predictions')"
   ]
  },
  {
   "cell_type": "code",
   "execution_count": null,
   "metadata": {},
   "outputs": [],
   "source": []
  },
  {
   "cell_type": "code",
   "execution_count": null,
   "metadata": {},
   "outputs": [],
   "source": []
  },
  {
   "cell_type": "markdown",
   "metadata": {},
   "source": [
    "# MultiOutput Random Forest"
   ]
  },
  {
   "cell_type": "code",
   "execution_count": 132,
   "metadata": {},
   "outputs": [
    {
     "name": "stdout",
     "output_type": "stream",
     "text": [
      "(24, 6)\n",
      "<class 'numpy.ndarray'>\n",
      "<class 'pandas.core.frame.DataFrame'>\n"
     ]
    }
   ],
   "source": [
    "multi_y = concentration[:,1:-2]\n",
    "print (multi_y.shape)\n",
    "print (type(multi_y))\n",
    "df_y= pd.DataFrame(multi_y)\n",
    "print (type(df_y))"
   ]
  },
  {
   "cell_type": "code",
   "execution_count": 153,
   "metadata": {},
   "outputs": [
    {
     "name": "stdout",
     "output_type": "stream",
     "text": [
      "(19, 1130) (19, 6)\n",
      "(5, 1130) (5, 6)\n"
     ]
    }
   ],
   "source": [
    "X_train, X_test, y_train, y_test = train_test_split(x_df, df_y, test_size=0.2)\n",
    "print (X_train.shape, y_train.shape)\n",
    "print (X_test.shape, y_test.shape)\n",
    "#print(X_test)"
   ]
  },
  {
   "cell_type": "code",
   "execution_count": 134,
   "metadata": {},
   "outputs": [
    {
     "data": {
      "text/plain": [
       "MultiOutputRegressor(estimator=RandomForestRegressor(bootstrap=True,\n",
       "                                                     ccp_alpha=0.0,\n",
       "                                                     criterion='mse',\n",
       "                                                     max_depth=30,\n",
       "                                                     max_features='auto',\n",
       "                                                     max_leaf_nodes=None,\n",
       "                                                     max_samples=None,\n",
       "                                                     min_impurity_decrease=0.0,\n",
       "                                                     min_impurity_split=None,\n",
       "                                                     min_samples_leaf=1,\n",
       "                                                     min_samples_split=2,\n",
       "                                                     min_weight_fraction_leaf=0.0,\n",
       "                                                     n_estimators=650,\n",
       "                                                     n_jobs=None,\n",
       "                                                     oob_score=False,\n",
       "                                                     random_state=0, verbose=0,\n",
       "                                                     warm_start=False),\n",
       "                     n_jobs=None)"
      ]
     },
     "execution_count": 134,
     "metadata": {},
     "output_type": "execute_result"
    }
   ],
   "source": [
    "from sklearn.multioutput import MultiOutputRegressor\n",
    "from sklearn.ensemble import RandomForestRegressor\n",
    "\n",
    "max_depth = 30\n",
    "regr_multirf = MultiOutputRegressor(RandomForestRegressor(n_estimators=650,\n",
    "                                                          max_depth=max_depth,\n",
    "                                                          random_state=0))\n",
    "regr_multirf.fit(X_train, y_train)\n"
   ]
  },
  {
   "cell_type": "code",
   "execution_count": 135,
   "metadata": {},
   "outputs": [],
   "source": [
    "y_multirf = regr_multirf.predict(X_test)"
   ]
  },
  {
   "cell_type": "code",
   "execution_count": 136,
   "metadata": {},
   "outputs": [
    {
     "name": "stdout",
     "output_type": "stream",
     "text": [
      "(5, 6)\n",
      "(5, 6)\n"
     ]
    }
   ],
   "source": [
    "print(y_test.shape)\n",
    "print(y_multirf.shape)"
   ]
  },
  {
   "cell_type": "code",
   "execution_count": 137,
   "metadata": {},
   "outputs": [
    {
     "name": "stdout",
     "output_type": "stream",
     "text": [
      "R^2:  -1.2798201186343863\n",
      "RMSE:  1.5231794557929577\n"
     ]
    }
   ],
   "source": [
    "rmse = sqrt(mean_squared_error(y_test, y_multirf))\n",
    "r2 = r2_score(y_test, y_multirf)\n",
    "\n",
    "print(\"R^2: \", r2)\n",
    "print(\"RMSE: \", rmse)"
   ]
  },
  {
   "cell_type": "code",
   "execution_count": 138,
   "metadata": {},
   "outputs": [
    {
     "name": "stdout",
     "output_type": "stream",
     "text": [
      "[real, predictions]\n",
      "[[6.160e+00 0.000e+00 3.630e-01 0.000e+00 6.000e-03 2.060e-01 8.711e+00\n",
      "  2.880e-01 4.460e-01 2.870e-01 7.790e-01 1.910e-01]\n",
      " [6.120e+00 0.000e+00 3.200e-01 0.000e+00 5.000e-03 1.600e-02 8.009e+00\n",
      "  2.150e-01 4.630e-01 8.500e-02 1.110e-01 1.440e-01]\n",
      " [1.253e+01 3.100e-01 2.500e-02 5.000e-02 5.600e-02 3.300e-02 7.822e+00\n",
      "  2.570e-01 2.970e-01 1.650e-01 1.750e-01 2.170e-01]\n",
      " [1.800e-01 5.000e-01 1.110e+00 5.200e-02 1.500e-01 1.260e+00 4.830e-01\n",
      "  3.630e-01 1.233e+00 2.260e-01 1.360e-01 9.710e-01]\n",
      " [1.290e+01 1.200e-01 5.200e-01 1.550e-01 5.200e-01 2.860e-01 6.898e+00\n",
      "  3.360e-01 7.140e-01 1.420e-01 5.610e-01 2.290e-01]]\n"
     ]
    }
   ],
   "source": [
    "b=np.append(np.around(y_test,3), np.around(y_multirf,3), axis=1)\n",
    "\n",
    "print(\"[real, predictions]\")\n",
    "print(b)"
   ]
  },
  {
   "cell_type": "code",
   "execution_count": 139,
   "metadata": {},
   "outputs": [
    {
     "data": {
      "text/plain": [
       "Text(0, 0.5, 'Predictions')"
      ]
     },
     "execution_count": 139,
     "metadata": {},
     "output_type": "execute_result"
    },
    {
     "data": {
      "image/png": "[encoded data removed]",
      "text/plain": [
       "<Figure size 432x288 with 1 Axes>"
      ]
     },
     "metadata": {
      "needs_background": "light"
     },
     "output_type": "display_data"
    }
   ],
   "source": [
    "plt.scatter(y_test, y_multirf)\n",
    "plt.xlabel('True Values')\n",
    "plt.ylabel('Predictions')"
   ]
  },
  {
   "cell_type": "code",
   "execution_count": 141,
   "metadata": {},
   "outputs": [
    {
     "data": {
      "text/plain": [
       "array([8.71, 8.01, 7.82, 0.48, 6.9 ])"
      ]
     },
     "execution_count": 141,
     "metadata": {},
     "output_type": "execute_result"
    }
   ],
   "source": [
    "y_pred=np.around(y_multirf,2)\n",
    "y_pred[:,0]"
   ]
  },
  {
   "cell_type": "code",
   "execution_count": 142,
   "metadata": {},
   "outputs": [
    {
     "data": {
      "text/plain": [
       "array([ 6.16,  6.12, 12.53,  0.18, 12.9 ])"
      ]
     },
     "execution_count": 142,
     "metadata": {},
     "output_type": "execute_result"
    }
   ],
   "source": [
    "y_test[0].values"
   ]
  },
  {
   "cell_type": "code",
   "execution_count": 143,
   "metadata": {},
   "outputs": [
    {
     "name": "stdout",
     "output_type": "stream",
     "text": [
      "real:  [ 6.16  6.12 12.53  0.18 12.9 ]\n",
      "pred:  [8.71 8.01 7.82 0.48 6.9 ]\n"
     ]
    }
   ],
   "source": [
    "print(\"real: \", y_test[0].values)\n",
    "print(\"pred: \", y_pred[:,0])"
   ]
  },
  {
   "cell_type": "markdown",
   "metadata": {},
   "source": [
    "# PLS-2"
   ]
  },
  {
   "cell_type": "code",
   "execution_count": 154,
   "metadata": {},
   "outputs": [
    {
     "name": "stdout",
     "output_type": "stream",
     "text": [
      "100% completed\n",
      "Suggested number of components:  33\n",
      "\n"
     ]
    },
    {
     "data": {
      "image/png": "[encoded data removed]",
      "text/plain": [
       "<Figure size 432x288 with 1 Axes>"
      ]
     },
     "metadata": {},
     "output_type": "display_data"
    },
    {
     "name": "stdout",
     "output_type": "stream",
     "text": [
      "R2 calib: 1.000\n",
      "R2 CV: 0.018\n",
      "MSE calib: 0.000\n",
      "MSE CV: 0.939\n"
     ]
    }
   ],
   "source": [
    "optimise_pls_cv(X_train, y_train, 40, plot_components=True)"
   ]
  },
  {
   "cell_type": "code",
   "execution_count": 155,
   "metadata": {},
   "outputs": [
    {
     "name": "stdout",
     "output_type": "stream",
     "text": [
      "R^2:  0.018347253779067135\n",
      "MSE:  0.9391318844120397\n"
     ]
    }
   ],
   "source": [
    "# Define PLS object\n",
    "pls = PLSRegression(n_components= 26)\n",
    "# Fit\n",
    "pls.fit(X_train, y_train)\n",
    "# Cross-validation\n",
    "y_cv = cross_val_predict(pls, X_train, y_train, cv=10)\n",
    "# Calculate scores\n",
    "score = r2_score(y_train, y_cv)\n",
    "mse = mean_squared_error(y_train, y_cv)\n",
    "\n",
    "print(\"R^2: \", score)\n",
    "print(\"MSE: \", mse)"
   ]
  },
  {
   "cell_type": "code",
   "execution_count": 150,
   "metadata": {},
   "outputs": [
    {
     "name": "stdout",
     "output_type": "stream",
     "text": [
      "-4.070272705754876\n",
      "0.36555579763038115\n"
     ]
    }
   ],
   "source": [
    "y_pred = pls.predict(X_test)\n",
    "\n",
    "# Cross-validation\n",
    "y_cv = cross_val_predict(pls, X_train, y_train, cv=10)\n",
    "\n",
    "# Calculate scores for calibration and cross-validation\n",
    "score_pred = r2_score(y_test, y_pred)\n",
    "score_cv = r2_score(y_train, y_cv)\n",
    "\n",
    "print(score_pred) #NAMMERDA\n",
    "print(score_cv)"
   ]
  },
  {
   "cell_type": "code",
   "execution_count": 151,
   "metadata": {},
   "outputs": [
    {
     "data": {
      "text/html": [
       "<div>\n",
       "<style scoped>\n",
       "    .dataframe tbody tr th:only-of-type {\n",
       "        vertical-align: middle;\n",
       "    }\n",
       "\n",
       "    .dataframe tbody tr th {\n",
       "        vertical-align: top;\n",
       "    }\n",
       "\n",
       "    .dataframe thead th {\n",
       "        text-align: right;\n",
       "    }\n",
       "</style>\n",
       "<table border=\"1\" class=\"dataframe\">\n",
       "  <thead>\n",
       "    <tr style=\"text-align: right;\">\n",
       "      <th></th>\n",
       "      <th>0</th>\n",
       "      <th>1</th>\n",
       "      <th>2</th>\n",
       "      <th>3</th>\n",
       "      <th>4</th>\n",
       "      <th>5</th>\n",
       "    </tr>\n",
       "  </thead>\n",
       "  <tbody>\n",
       "    <tr>\n",
       "      <th>0</th>\n",
       "      <td>7.84</td>\n",
       "      <td>0.22</td>\n",
       "      <td>0.54</td>\n",
       "      <td>0.19</td>\n",
       "      <td>0.57</td>\n",
       "      <td>0.27</td>\n",
       "    </tr>\n",
       "    <tr>\n",
       "      <th>1</th>\n",
       "      <td>8.62</td>\n",
       "      <td>0.12</td>\n",
       "      <td>0.35</td>\n",
       "      <td>0.06</td>\n",
       "      <td>-0.12</td>\n",
       "      <td>-0.06</td>\n",
       "    </tr>\n",
       "    <tr>\n",
       "      <th>2</th>\n",
       "      <td>10.50</td>\n",
       "      <td>0.13</td>\n",
       "      <td>-0.61</td>\n",
       "      <td>0.45</td>\n",
       "      <td>0.15</td>\n",
       "      <td>-0.03</td>\n",
       "    </tr>\n",
       "    <tr>\n",
       "      <th>3</th>\n",
       "      <td>-0.28</td>\n",
       "      <td>0.42</td>\n",
       "      <td>1.56</td>\n",
       "      <td>-0.11</td>\n",
       "      <td>-0.34</td>\n",
       "      <td>0.95</td>\n",
       "    </tr>\n",
       "    <tr>\n",
       "      <th>4</th>\n",
       "      <td>9.93</td>\n",
       "      <td>0.09</td>\n",
       "      <td>0.29</td>\n",
       "      <td>-0.26</td>\n",
       "      <td>0.65</td>\n",
       "      <td>0.14</td>\n",
       "    </tr>\n",
       "  </tbody>\n",
       "</table>\n",
       "</div>"
      ],
      "text/plain": [
       "       0     1     2     3     4     5\n",
       "0   7.84  0.22  0.54  0.19  0.57  0.27\n",
       "1   8.62  0.12  0.35  0.06 -0.12 -0.06\n",
       "2  10.50  0.13 -0.61  0.45  0.15 -0.03\n",
       "3  -0.28  0.42  1.56 -0.11 -0.34  0.95\n",
       "4   9.93  0.09  0.29 -0.26  0.65  0.14"
      ]
     },
     "execution_count": 151,
     "metadata": {},
     "output_type": "execute_result"
    }
   ],
   "source": [
    "pd.DataFrame(np.round(y_pred, decimals=2))"
   ]
  },
  {
   "cell_type": "code",
   "execution_count": 152,
   "metadata": {
    "scrolled": true
   },
   "outputs": [
    {
     "data": {
      "text/html": [
       "<div>\n",
       "<style scoped>\n",
       "    .dataframe tbody tr th:only-of-type {\n",
       "        vertical-align: middle;\n",
       "    }\n",
       "\n",
       "    .dataframe tbody tr th {\n",
       "        vertical-align: top;\n",
       "    }\n",
       "\n",
       "    .dataframe thead th {\n",
       "        text-align: right;\n",
       "    }\n",
       "</style>\n",
       "<table border=\"1\" class=\"dataframe\">\n",
       "  <thead>\n",
       "    <tr style=\"text-align: right;\">\n",
       "      <th></th>\n",
       "      <th>0</th>\n",
       "      <th>1</th>\n",
       "      <th>2</th>\n",
       "      <th>3</th>\n",
       "      <th>4</th>\n",
       "      <th>5</th>\n",
       "    </tr>\n",
       "  </thead>\n",
       "  <tbody>\n",
       "    <tr>\n",
       "      <th>20</th>\n",
       "      <td>6.16</td>\n",
       "      <td>0.00</td>\n",
       "      <td>0.36</td>\n",
       "      <td>0.00</td>\n",
       "      <td>0.01</td>\n",
       "      <td>0.21</td>\n",
       "    </tr>\n",
       "    <tr>\n",
       "      <th>12</th>\n",
       "      <td>6.12</td>\n",
       "      <td>0.00</td>\n",
       "      <td>0.32</td>\n",
       "      <td>0.00</td>\n",
       "      <td>0.01</td>\n",
       "      <td>0.02</td>\n",
       "    </tr>\n",
       "    <tr>\n",
       "      <th>13</th>\n",
       "      <td>12.53</td>\n",
       "      <td>0.31</td>\n",
       "      <td>0.02</td>\n",
       "      <td>0.05</td>\n",
       "      <td>0.06</td>\n",
       "      <td>0.03</td>\n",
       "    </tr>\n",
       "    <tr>\n",
       "      <th>22</th>\n",
       "      <td>0.18</td>\n",
       "      <td>0.50</td>\n",
       "      <td>1.11</td>\n",
       "      <td>0.05</td>\n",
       "      <td>0.15</td>\n",
       "      <td>1.26</td>\n",
       "    </tr>\n",
       "    <tr>\n",
       "      <th>7</th>\n",
       "      <td>12.90</td>\n",
       "      <td>0.12</td>\n",
       "      <td>0.52</td>\n",
       "      <td>0.16</td>\n",
       "      <td>0.52</td>\n",
       "      <td>0.29</td>\n",
       "    </tr>\n",
       "  </tbody>\n",
       "</table>\n",
       "</div>"
      ],
      "text/plain": [
       "        0     1     2     3     4     5\n",
       "20   6.16  0.00  0.36  0.00  0.01  0.21\n",
       "12   6.12  0.00  0.32  0.00  0.01  0.02\n",
       "13  12.53  0.31  0.02  0.05  0.06  0.03\n",
       "22   0.18  0.50  1.11  0.05  0.15  1.26\n",
       "7   12.90  0.12  0.52  0.16  0.52  0.29"
      ]
     },
     "execution_count": 152,
     "metadata": {},
     "output_type": "execute_result"
    }
   ],
   "source": [
    "np.round(y_test, decimals=2)"
   ]
  },
  {
   "cell_type": "code",
   "execution_count": null,
   "metadata": {},
   "outputs": [],
   "source": []
  },
  {
   "cell_type": "code",
   "execution_count": null,
   "metadata": {},
   "outputs": [],
   "source": []
  }
 ],
 "metadata": {
  "kernelspec": {
   "display_name": "Python 3",
   "language": "python",
   "name": "python3"
  },
  "language_info": {
   "codemirror_mode": {
    "name": "ipython",
    "version": 3
   },
   "file_extension": ".py",
   "mimetype": "text/x-python",
   "name": "python",
   "nbconvert_exporter": "python",
   "pygments_lexer": "ipython3",
   "version": "3.7.6"
  }
 },
 "nbformat": 4,
 "nbformat_minor": 2
}
