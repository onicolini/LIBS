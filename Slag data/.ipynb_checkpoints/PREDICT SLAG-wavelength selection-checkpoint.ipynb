{
 "cells": [
  {
   "cell_type": "code",
   "execution_count": 1,
   "metadata": {},
   "outputs": [],
   "source": [
    "import os\n",
    "from sys import stdout\n",
    "import scipy.io\n",
    "\n",
    "\n",
    "import numpy as np\n",
    "import pandas as pd\n",
    "import matplotlib.pyplot as plt\n",
    "%matplotlib inline \n",
    "from math import sqrt\n",
    "from scipy.signal import savgol_filter\n",
    "from sklearn.decomposition import PCA \n",
    "from sklearn.preprocessing import StandardScaler, normalize\n",
    "from sklearn.model_selection import train_test_split\n",
    "from sklearn.metrics import mean_squared_error, r2_score\n",
    "from sklearn.cross_decomposition import PLSRegression\n",
    "from sklearn.model_selection import cross_val_predict\n",
    "from sklearn import linear_model\n",
    "\n",
    "import warnings\n",
    "warnings.filterwarnings('ignore')"
   ]
  },
  {
   "cell_type": "code",
   "execution_count": 2,
   "metadata": {},
   "outputs": [
    {
     "data": {
      "text/plain": [
       "\"   \\n    # Fit a line to the CV vs response\\n    z = np.polyfit(y, y_c, 1)\\n    with plt.style.context(('ggplot')):\\n        fig, ax = plt.subplots(figsize=(9, 5))\\n        ax.scatter(y_c, y, c='red', edgecolors='k')\\n        #Plot the best fit line\\n        ax.plot(np.polyval(z,y), y, c='blue', linewidth=1)\\n        #Plot the ideal 1:1 line\\n        ax.plot(y, y, color='green', linewidth=1)\\n        plt.title('$R^{2}$ (CV): '+str(score_cv))\\n        plt.xlabel('Predicted $^{\\\\circ}$Brix')\\n        plt.ylabel('Measured $^{\\\\circ}$Brix')\\n        plt.show()\\n    return\\n\""
      ]
     },
     "execution_count": 2,
     "metadata": {},
     "output_type": "execute_result"
    }
   ],
   "source": [
    "def optimise_pls_cv(X, y, n_comp, plot_components=True):\n",
    "    '''Run PLS including a variable number of components, up to n_comp,\n",
    "       and calculate MSE '''\n",
    "    mse = []\n",
    "    component = np.arange(1, n_comp)\n",
    "    for i in component:\n",
    "        pls = PLSRegression(n_components=i)\n",
    "        # Cross-validation\n",
    "        y_cv = cross_val_predict(pls, X, y, cv=10)\n",
    "        mse.append(mean_squared_error(y, y_cv))\n",
    "        comp = 100*(i+1)/40\n",
    "        # Trick to update status on the same line\n",
    "        stdout.write(\"\\r%d%% completed\" % comp)\n",
    "        stdout.flush()\n",
    "    stdout.write(\"\\n\")\n",
    "    # Calculate and print the position of minimum in MSE\n",
    "    msemin = np.argmin(mse)\n",
    "    print(\"Suggested number of components: \", msemin+1)\n",
    "    stdout.write(\"\\n\")\n",
    "    if plot_components is True:\n",
    "        with plt.style.context(('ggplot')):\n",
    "            plt.plot(component, np.array(mse), '-v', color = 'blue', mfc='blue')\n",
    "            plt.plot(component[msemin], np.array(mse)[msemin], 'P', ms=10, mfc='red')\n",
    "            plt.xlabel('Number of PLS components')\n",
    "            plt.ylabel('MSE')\n",
    "            plt.title('PLS')\n",
    "            plt.xlim(left=-1)\n",
    "        plt.show()\n",
    "    # Define PLS object with optimal number of components\n",
    "    pls_opt = PLSRegression(n_components=msemin+1)\n",
    "    # Fir to the entire dataset\n",
    "    pls_opt.fit(X, y)\n",
    "    y_c = pls_opt.predict(X)\n",
    "    # Cross-validation\n",
    "    y_cv = cross_val_predict(pls_opt, X, y, cv=10)\n",
    "    # Calculate scores for calibration and cross-validation\n",
    "    score_c = r2_score(y, y_c)\n",
    "    score_cv = r2_score(y, y_cv)\n",
    "    # Calculate mean squared error for calibration and cross validation\n",
    "    mse_c = mean_squared_error(y, y_c)\n",
    "    mse_cv = mean_squared_error(y, y_cv)\n",
    "    print('R2 calib: %5.3f'  % score_c)\n",
    "    print('R2 CV: %5.3f'  % score_cv)\n",
    "    print('MSE calib: %5.3f' % mse_c)\n",
    "    print('MSE CV: %5.3f' % mse_cv)\n",
    "    \n",
    "    return\n",
    "    # Plot regression and figures of merit\n",
    "    rangey = max(y) - min(y)\n",
    "    rangex = max(y_c) - min(y_c)\n",
    "\"\"\"   \n",
    "    # Fit a line to the CV vs response\n",
    "    z = np.polyfit(y, y_c, 1)\n",
    "    with plt.style.context(('ggplot')):\n",
    "        fig, ax = plt.subplots(figsize=(9, 5))\n",
    "        ax.scatter(y_c, y, c='red', edgecolors='k')\n",
    "        #Plot the best fit line\n",
    "        ax.plot(np.polyval(z,y), y, c='blue', linewidth=1)\n",
    "        #Plot the ideal 1:1 line\n",
    "        ax.plot(y, y, color='green', linewidth=1)\n",
    "        plt.title('$R^{2}$ (CV): '+str(score_cv))\n",
    "        plt.xlabel('Predicted $^{\\circ}$Brix')\n",
    "        plt.ylabel('Measured $^{\\circ}$Brix')\n",
    "        plt.show()\n",
    "    return\n",
    "\"\"\" "
   ]
  },
  {
   "cell_type": "code",
   "execution_count": 3,
   "metadata": {},
   "outputs": [],
   "source": [
    "def pls_variable_selection(X, y, max_comp):\n",
    "    \n",
    "    # Define MSE array to be populated\n",
    "    mse = np.zeros((max_comp,X.shape[1]))\n",
    "    # Loop over the number of PLS components\n",
    "    for i in range(max_comp):\n",
    "        \n",
    "        # Regression with specified number of components, using full spectrum\n",
    "        pls1 = PLSRegression(n_components=i+1)\n",
    "        pls1.fit(X, y)\n",
    "        \n",
    "        # Indices of sort spectra according to ascending absolute value of PLS coefficients\n",
    "        sorted_ind = np.argsort(np.abs(pls1.coef_[:,0]))\n",
    "        # Sort spectra accordingly \n",
    "        Xc = X[:,sorted_ind]\n",
    "        # Discard one wavelength at a time of the sorted spectra,\n",
    "        # regress, and calculate the MSE cross-validation\n",
    "        for j in range(Xc.shape[1]-(i+1)):\n",
    "            pls2 = PLSRegression(n_components=i+1)\n",
    "            pls2.fit(Xc[:, j:], y)\n",
    "            \n",
    "            y_cv = cross_val_predict(pls2, Xc[:, j:], y, cv=5)\n",
    "            mse[i,j] = mean_squared_error(y, y_cv)\n",
    "    \n",
    "        comp = 100*(i+1)/(max_comp)\n",
    "        stdout.write(\"\\r%d%% completed\" % comp)\n",
    "        stdout.flush()\n",
    "    stdout.write(\"\\n\")\n",
    "    # # Calculate and print the position of minimum in MSE\n",
    "    mseminx,mseminy = np.where(mse==np.min(mse[np.nonzero(mse)]))\n",
    "    print(\"Optimised number of PLS components: \", mseminx[0]+1)\n",
    "    print(\"Wavelengths to be discarded \",mseminy[0])\n",
    "    print('Optimised MSEP ', mse[mseminx,mseminy][0])\n",
    "    stdout.write(\"\\n\")\n",
    "    # plt.imshow(mse, interpolation=None)\n",
    "    # plt.show()\n",
    "    # Calculate PLS with optimal components and export values\n",
    "    pls = PLSRegression(n_components=mseminx[0]+1)\n",
    "    pls.fit(X, y)\n",
    "        \n",
    "    sorted_ind = np.argsort(np.abs(pls.coef_[:,0]))\n",
    "    Xc = X[:,sorted_ind]\n",
    "    return(Xc[:,mseminy[0]:],mseminx[0]+1,mseminy[0], sorted_ind)"
   ]
  },
  {
   "cell_type": "code",
   "execution_count": 4,
   "metadata": {},
   "outputs": [
    {
     "name": "stdout",
     "output_type": "stream",
     "text": [
      "(34, 3648)\n",
      "(3648,)\n",
      "34\n"
     ]
    }
   ],
   "source": [
    "x_df = pd.read_csv('avg_intesities.csv', sep = ',')\n",
    "values = x_df.values\n",
    "#wl=x_df.columns.values\n",
    "#print(wl.shape)\n",
    "\n",
    "#print(values)\n",
    "#print(type(values))\n",
    "print(values.shape)\n",
    "print(values[1].shape)\n",
    "print(len(values))\n",
    "#x_df"
   ]
  },
  {
   "cell_type": "code",
   "execution_count": 5,
   "metadata": {},
   "outputs": [
    {
     "name": "stdout",
     "output_type": "stream",
     "text": [
      "[[216.33]\n",
      " [216.37]\n",
      " [216.41]\n",
      " ...\n",
      " [340.32]\n",
      " [340.34]\n",
      " [340.37]]\n"
     ]
    },
    {
     "data": {
      "image/png": "[encoded data removed]",
      "text/plain": [
       "<Figure size 432x288 with 1 Axes>"
      ]
     },
     "metadata": {
      "needs_background": "light"
     },
     "output_type": "display_data"
    }
   ],
   "source": [
    "#This is just for visualizing the various plots of the samples\n",
    "\n",
    "mat = scipy.io.loadmat(\"./data/H01.mat\")\n",
    "wl= mat[\"wl\"]\n",
    "print(wl)\n",
    "\n",
    "for i in range(len(values)):\n",
    "    plt.plot(wl, values[i])\n",
    "    #plt.show() #comment this one to have unique plot instead of multiple ones\n",
    "#range(len(dfs))\n",
    "#\"\"\"\n",
    "\n"
   ]
  },
  {
   "cell_type": "code",
   "execution_count": 6,
   "metadata": {},
   "outputs": [
    {
     "name": "stdout",
     "output_type": "stream",
     "text": [
      "<class 'pandas.core.frame.DataFrame'>\n",
      "(34, 12)\n"
     ]
    },
    {
     "data": {
      "text/html": [
       "<div>\n",
       "<style scoped>\n",
       "    .dataframe tbody tr th:only-of-type {\n",
       "        vertical-align: middle;\n",
       "    }\n",
       "\n",
       "    .dataframe tbody tr th {\n",
       "        vertical-align: top;\n",
       "    }\n",
       "\n",
       "    .dataframe thead th {\n",
       "        text-align: right;\n",
       "    }\n",
       "</style>\n",
       "<table border=\"1\" class=\"dataframe\">\n",
       "  <thead>\n",
       "    <tr style=\"text-align: right;\">\n",
       "      <th></th>\n",
       "      <th>Sample</th>\n",
       "      <th>CaO</th>\n",
       "      <th>CaF2</th>\n",
       "      <th>MgO</th>\n",
       "      <th>Al2O3</th>\n",
       "      <th>SiO2</th>\n",
       "      <th>FeO</th>\n",
       "      <th>MnO</th>\n",
       "      <th>Cr2O3</th>\n",
       "      <th>P2O5</th>\n",
       "      <th>V2O5</th>\n",
       "      <th>TiO2</th>\n",
       "    </tr>\n",
       "  </thead>\n",
       "  <tbody>\n",
       "    <tr>\n",
       "      <th>0</th>\n",
       "      <td>H01</td>\n",
       "      <td>37.8</td>\n",
       "      <td>0.18</td>\n",
       "      <td>25.00</td>\n",
       "      <td>9.61</td>\n",
       "      <td>13.20</td>\n",
       "      <td>18.30</td>\n",
       "      <td>1.99</td>\n",
       "      <td>0.20</td>\n",
       "      <td>0.23</td>\n",
       "      <td>0.18</td>\n",
       "      <td>1.03</td>\n",
       "    </tr>\n",
       "    <tr>\n",
       "      <th>1</th>\n",
       "      <td>H02</td>\n",
       "      <td>44.5</td>\n",
       "      <td>0.22</td>\n",
       "      <td>18.00</td>\n",
       "      <td>5.04</td>\n",
       "      <td>14.20</td>\n",
       "      <td>18.90</td>\n",
       "      <td>2.10</td>\n",
       "      <td>0.28</td>\n",
       "      <td>0.26</td>\n",
       "      <td>0.06</td>\n",
       "      <td>1.07</td>\n",
       "    </tr>\n",
       "    <tr>\n",
       "      <th>2</th>\n",
       "      <td>H03</td>\n",
       "      <td>38.5</td>\n",
       "      <td>0.22</td>\n",
       "      <td>21.10</td>\n",
       "      <td>6.14</td>\n",
       "      <td>10.60</td>\n",
       "      <td>20.20</td>\n",
       "      <td>5.82</td>\n",
       "      <td>0.61</td>\n",
       "      <td>0.40</td>\n",
       "      <td>0.14</td>\n",
       "      <td>0.86</td>\n",
       "    </tr>\n",
       "    <tr>\n",
       "      <th>3</th>\n",
       "      <td>H04</td>\n",
       "      <td>38.4</td>\n",
       "      <td>0.04</td>\n",
       "      <td>15.50</td>\n",
       "      <td>4.07</td>\n",
       "      <td>12.80</td>\n",
       "      <td>26.70</td>\n",
       "      <td>3.35</td>\n",
       "      <td>0.52</td>\n",
       "      <td>0.31</td>\n",
       "      <td>0.08</td>\n",
       "      <td>1.07</td>\n",
       "    </tr>\n",
       "    <tr>\n",
       "      <th>4</th>\n",
       "      <td>H05</td>\n",
       "      <td>43.2</td>\n",
       "      <td>0.18</td>\n",
       "      <td>17.10</td>\n",
       "      <td>4.14</td>\n",
       "      <td>14.80</td>\n",
       "      <td>21.70</td>\n",
       "      <td>1.72</td>\n",
       "      <td>0.20</td>\n",
       "      <td>0.29</td>\n",
       "      <td>0.18</td>\n",
       "      <td>1.07</td>\n",
       "    </tr>\n",
       "    <tr>\n",
       "      <th>5</th>\n",
       "      <td>H06</td>\n",
       "      <td>45.3</td>\n",
       "      <td>0.23</td>\n",
       "      <td>15.90</td>\n",
       "      <td>4.34</td>\n",
       "      <td>16.50</td>\n",
       "      <td>18.90</td>\n",
       "      <td>1.29</td>\n",
       "      <td>0.10</td>\n",
       "      <td>0.30</td>\n",
       "      <td>0.11</td>\n",
       "      <td>1.10</td>\n",
       "    </tr>\n",
       "    <tr>\n",
       "      <th>6</th>\n",
       "      <td>H07</td>\n",
       "      <td>46.1</td>\n",
       "      <td>0.25</td>\n",
       "      <td>14.30</td>\n",
       "      <td>4.12</td>\n",
       "      <td>16.20</td>\n",
       "      <td>19.00</td>\n",
       "      <td>1.21</td>\n",
       "      <td>0.09</td>\n",
       "      <td>0.27</td>\n",
       "      <td>0.06</td>\n",
       "      <td>1.08</td>\n",
       "    </tr>\n",
       "    <tr>\n",
       "      <th>7</th>\n",
       "      <td>H08</td>\n",
       "      <td>45.1</td>\n",
       "      <td>0.19</td>\n",
       "      <td>13.00</td>\n",
       "      <td>4.05</td>\n",
       "      <td>16.10</td>\n",
       "      <td>21.00</td>\n",
       "      <td>1.26</td>\n",
       "      <td>0.10</td>\n",
       "      <td>0.28</td>\n",
       "      <td>0.06</td>\n",
       "      <td>1.09</td>\n",
       "    </tr>\n",
       "    <tr>\n",
       "      <th>8</th>\n",
       "      <td>H09</td>\n",
       "      <td>32.8</td>\n",
       "      <td>0.01</td>\n",
       "      <td>10.60</td>\n",
       "      <td>7.30</td>\n",
       "      <td>14.30</td>\n",
       "      <td>33.20</td>\n",
       "      <td>2.75</td>\n",
       "      <td>0.42</td>\n",
       "      <td>0.32</td>\n",
       "      <td>0.09</td>\n",
       "      <td>1.12</td>\n",
       "    </tr>\n",
       "    <tr>\n",
       "      <th>9</th>\n",
       "      <td>H10</td>\n",
       "      <td>42.4</td>\n",
       "      <td>0.24</td>\n",
       "      <td>19.30</td>\n",
       "      <td>6.50</td>\n",
       "      <td>14.70</td>\n",
       "      <td>17.40</td>\n",
       "      <td>2.72</td>\n",
       "      <td>0.31</td>\n",
       "      <td>0.28</td>\n",
       "      <td>0.09</td>\n",
       "      <td>1.06</td>\n",
       "    </tr>\n",
       "    <tr>\n",
       "      <th>10</th>\n",
       "      <td>H11</td>\n",
       "      <td>38.4</td>\n",
       "      <td>0.04</td>\n",
       "      <td>11.20</td>\n",
       "      <td>5.02</td>\n",
       "      <td>14.00</td>\n",
       "      <td>26.10</td>\n",
       "      <td>2.84</td>\n",
       "      <td>2.11</td>\n",
       "      <td>0.34</td>\n",
       "      <td>0.09</td>\n",
       "      <td>0.91</td>\n",
       "    </tr>\n",
       "    <tr>\n",
       "      <th>11</th>\n",
       "      <td>H12</td>\n",
       "      <td>36.4</td>\n",
       "      <td>0.01</td>\n",
       "      <td>17.40</td>\n",
       "      <td>4.31</td>\n",
       "      <td>12.80</td>\n",
       "      <td>27.70</td>\n",
       "      <td>2.86</td>\n",
       "      <td>2.59</td>\n",
       "      <td>0.27</td>\n",
       "      <td>0.09</td>\n",
       "      <td>0.77</td>\n",
       "    </tr>\n",
       "    <tr>\n",
       "      <th>12</th>\n",
       "      <td>O01</td>\n",
       "      <td>43.7</td>\n",
       "      <td>1.30</td>\n",
       "      <td>7.90</td>\n",
       "      <td>3.20</td>\n",
       "      <td>33.30</td>\n",
       "      <td>1.30</td>\n",
       "      <td>3.00</td>\n",
       "      <td>3.70</td>\n",
       "      <td>0.01</td>\n",
       "      <td>0.11</td>\n",
       "      <td>0.80</td>\n",
       "    </tr>\n",
       "    <tr>\n",
       "      <th>13</th>\n",
       "      <td>O02</td>\n",
       "      <td>41.3</td>\n",
       "      <td>1.20</td>\n",
       "      <td>7.90</td>\n",
       "      <td>3.80</td>\n",
       "      <td>35.30</td>\n",
       "      <td>1.30</td>\n",
       "      <td>2.00</td>\n",
       "      <td>3.90</td>\n",
       "      <td>0.01</td>\n",
       "      <td>0.10</td>\n",
       "      <td>0.83</td>\n",
       "    </tr>\n",
       "    <tr>\n",
       "      <th>14</th>\n",
       "      <td>O03</td>\n",
       "      <td>44.6</td>\n",
       "      <td>1.10</td>\n",
       "      <td>9.60</td>\n",
       "      <td>2.80</td>\n",
       "      <td>35.30</td>\n",
       "      <td>0.90</td>\n",
       "      <td>1.30</td>\n",
       "      <td>2.70</td>\n",
       "      <td>0.01</td>\n",
       "      <td>0.07</td>\n",
       "      <td>0.80</td>\n",
       "    </tr>\n",
       "    <tr>\n",
       "      <th>15</th>\n",
       "      <td>O04</td>\n",
       "      <td>42.5</td>\n",
       "      <td>1.60</td>\n",
       "      <td>8.90</td>\n",
       "      <td>3.20</td>\n",
       "      <td>29.00</td>\n",
       "      <td>1.30</td>\n",
       "      <td>1.60</td>\n",
       "      <td>11.00</td>\n",
       "      <td>0.01</td>\n",
       "      <td>0.17</td>\n",
       "      <td>1.12</td>\n",
       "    </tr>\n",
       "    <tr>\n",
       "      <th>16</th>\n",
       "      <td>O05</td>\n",
       "      <td>39.2</td>\n",
       "      <td>1.10</td>\n",
       "      <td>8.40</td>\n",
       "      <td>3.70</td>\n",
       "      <td>34.30</td>\n",
       "      <td>1.70</td>\n",
       "      <td>1.30</td>\n",
       "      <td>9.30</td>\n",
       "      <td>0.01</td>\n",
       "      <td>0.11</td>\n",
       "      <td>0.92</td>\n",
       "    </tr>\n",
       "    <tr>\n",
       "      <th>17</th>\n",
       "      <td>O06</td>\n",
       "      <td>44.2</td>\n",
       "      <td>1.10</td>\n",
       "      <td>10.50</td>\n",
       "      <td>3.20</td>\n",
       "      <td>34.50</td>\n",
       "      <td>1.00</td>\n",
       "      <td>1.10</td>\n",
       "      <td>3.20</td>\n",
       "      <td>0.01</td>\n",
       "      <td>0.08</td>\n",
       "      <td>0.98</td>\n",
       "    </tr>\n",
       "    <tr>\n",
       "      <th>18</th>\n",
       "      <td>O07</td>\n",
       "      <td>44.1</td>\n",
       "      <td>1.10</td>\n",
       "      <td>9.10</td>\n",
       "      <td>3.70</td>\n",
       "      <td>32.50</td>\n",
       "      <td>2.00</td>\n",
       "      <td>2.00</td>\n",
       "      <td>4.50</td>\n",
       "      <td>0.01</td>\n",
       "      <td>0.12</td>\n",
       "      <td>0.71</td>\n",
       "    </tr>\n",
       "    <tr>\n",
       "      <th>19</th>\n",
       "      <td>O08</td>\n",
       "      <td>40.3</td>\n",
       "      <td>1.20</td>\n",
       "      <td>7.70</td>\n",
       "      <td>4.80</td>\n",
       "      <td>30.90</td>\n",
       "      <td>1.70</td>\n",
       "      <td>3.30</td>\n",
       "      <td>7.60</td>\n",
       "      <td>0.01</td>\n",
       "      <td>0.18</td>\n",
       "      <td>1.45</td>\n",
       "    </tr>\n",
       "    <tr>\n",
       "      <th>20</th>\n",
       "      <td>O09</td>\n",
       "      <td>37.5</td>\n",
       "      <td>1.40</td>\n",
       "      <td>6.80</td>\n",
       "      <td>4.10</td>\n",
       "      <td>27.80</td>\n",
       "      <td>2.50</td>\n",
       "      <td>3.50</td>\n",
       "      <td>12.90</td>\n",
       "      <td>0.01</td>\n",
       "      <td>0.23</td>\n",
       "      <td>1.93</td>\n",
       "    </tr>\n",
       "    <tr>\n",
       "      <th>21</th>\n",
       "      <td>O10</td>\n",
       "      <td>37.9</td>\n",
       "      <td>1.10</td>\n",
       "      <td>6.10</td>\n",
       "      <td>2.80</td>\n",
       "      <td>25.30</td>\n",
       "      <td>1.70</td>\n",
       "      <td>2.80</td>\n",
       "      <td>17.80</td>\n",
       "      <td>0.02</td>\n",
       "      <td>0.28</td>\n",
       "      <td>0.74</td>\n",
       "    </tr>\n",
       "    <tr>\n",
       "      <th>22</th>\n",
       "      <td>U01</td>\n",
       "      <td>24.2</td>\n",
       "      <td>3.04</td>\n",
       "      <td>14.10</td>\n",
       "      <td>10.90</td>\n",
       "      <td>24.30</td>\n",
       "      <td>2.45</td>\n",
       "      <td>4.39</td>\n",
       "      <td>15.40</td>\n",
       "      <td>0.00</td>\n",
       "      <td>0.96</td>\n",
       "      <td>0.21</td>\n",
       "    </tr>\n",
       "    <tr>\n",
       "      <th>23</th>\n",
       "      <td>U02</td>\n",
       "      <td>39.8</td>\n",
       "      <td>3.63</td>\n",
       "      <td>11.80</td>\n",
       "      <td>7.91</td>\n",
       "      <td>21.50</td>\n",
       "      <td>3.87</td>\n",
       "      <td>1.36</td>\n",
       "      <td>6.98</td>\n",
       "      <td>0.00</td>\n",
       "      <td>3.00</td>\n",
       "      <td>0.28</td>\n",
       "    </tr>\n",
       "    <tr>\n",
       "      <th>24</th>\n",
       "      <td>U03</td>\n",
       "      <td>33.4</td>\n",
       "      <td>1.72</td>\n",
       "      <td>7.20</td>\n",
       "      <td>6.70</td>\n",
       "      <td>5.85</td>\n",
       "      <td>35.00</td>\n",
       "      <td>3.79</td>\n",
       "      <td>2.05</td>\n",
       "      <td>0.20</td>\n",
       "      <td>0.30</td>\n",
       "      <td>0.45</td>\n",
       "    </tr>\n",
       "    <tr>\n",
       "      <th>25</th>\n",
       "      <td>U04</td>\n",
       "      <td>41.0</td>\n",
       "      <td>2.81</td>\n",
       "      <td>18.40</td>\n",
       "      <td>5.72</td>\n",
       "      <td>25.40</td>\n",
       "      <td>3.46</td>\n",
       "      <td>0.49</td>\n",
       "      <td>1.08</td>\n",
       "      <td>0.00</td>\n",
       "      <td>0.40</td>\n",
       "      <td>0.22</td>\n",
       "    </tr>\n",
       "    <tr>\n",
       "      <th>26</th>\n",
       "      <td>U05</td>\n",
       "      <td>31.3</td>\n",
       "      <td>3.95</td>\n",
       "      <td>19.90</td>\n",
       "      <td>9.52</td>\n",
       "      <td>28.00</td>\n",
       "      <td>2.86</td>\n",
       "      <td>0.70</td>\n",
       "      <td>3.00</td>\n",
       "      <td>0.00</td>\n",
       "      <td>0.00</td>\n",
       "      <td>0.45</td>\n",
       "    </tr>\n",
       "    <tr>\n",
       "      <th>27</th>\n",
       "      <td>U06</td>\n",
       "      <td>33.2</td>\n",
       "      <td>2.19</td>\n",
       "      <td>14.90</td>\n",
       "      <td>8.57</td>\n",
       "      <td>13.90</td>\n",
       "      <td>12.80</td>\n",
       "      <td>5.32</td>\n",
       "      <td>6.99</td>\n",
       "      <td>0.00</td>\n",
       "      <td>0.40</td>\n",
       "      <td>0.21</td>\n",
       "    </tr>\n",
       "    <tr>\n",
       "      <th>28</th>\n",
       "      <td>U07</td>\n",
       "      <td>51.4</td>\n",
       "      <td>0.00</td>\n",
       "      <td>8.90</td>\n",
       "      <td>26.90</td>\n",
       "      <td>11.60</td>\n",
       "      <td>0.27</td>\n",
       "      <td>0.00</td>\n",
       "      <td>0.15</td>\n",
       "      <td>0.00</td>\n",
       "      <td>0.00</td>\n",
       "      <td>0.12</td>\n",
       "    </tr>\n",
       "    <tr>\n",
       "      <th>29</th>\n",
       "      <td>U08</td>\n",
       "      <td>53.0</td>\n",
       "      <td>0.00</td>\n",
       "      <td>8.94</td>\n",
       "      <td>25.50</td>\n",
       "      <td>11.80</td>\n",
       "      <td>0.14</td>\n",
       "      <td>0.00</td>\n",
       "      <td>0.00</td>\n",
       "      <td>0.00</td>\n",
       "      <td>0.00</td>\n",
       "      <td>0.00</td>\n",
       "    </tr>\n",
       "    <tr>\n",
       "      <th>30</th>\n",
       "      <td>U09</td>\n",
       "      <td>40.5</td>\n",
       "      <td>2.05</td>\n",
       "      <td>19.90</td>\n",
       "      <td>6.05</td>\n",
       "      <td>28.50</td>\n",
       "      <td>1.39</td>\n",
       "      <td>0.42</td>\n",
       "      <td>0.92</td>\n",
       "      <td>0.00</td>\n",
       "      <td>0.22</td>\n",
       "      <td>0.25</td>\n",
       "    </tr>\n",
       "    <tr>\n",
       "      <th>31</th>\n",
       "      <td>U10</td>\n",
       "      <td>50.1</td>\n",
       "      <td>0.00</td>\n",
       "      <td>14.00</td>\n",
       "      <td>28.40</td>\n",
       "      <td>5.99</td>\n",
       "      <td>0.45</td>\n",
       "      <td>0.00</td>\n",
       "      <td>0.15</td>\n",
       "      <td>0.00</td>\n",
       "      <td>0.19</td>\n",
       "      <td>0.14</td>\n",
       "    </tr>\n",
       "    <tr>\n",
       "      <th>32</th>\n",
       "      <td>U11</td>\n",
       "      <td>40.1</td>\n",
       "      <td>2.43</td>\n",
       "      <td>20.00</td>\n",
       "      <td>6.79</td>\n",
       "      <td>27.50</td>\n",
       "      <td>1.37</td>\n",
       "      <td>0.41</td>\n",
       "      <td>0.89</td>\n",
       "      <td>0.00</td>\n",
       "      <td>0.22</td>\n",
       "      <td>0.24</td>\n",
       "    </tr>\n",
       "    <tr>\n",
       "      <th>33</th>\n",
       "      <td>U12</td>\n",
       "      <td>44.5</td>\n",
       "      <td>0.00</td>\n",
       "      <td>24.40</td>\n",
       "      <td>22.10</td>\n",
       "      <td>7.54</td>\n",
       "      <td>0.47</td>\n",
       "      <td>0.00</td>\n",
       "      <td>0.00</td>\n",
       "      <td>0.00</td>\n",
       "      <td>0.00</td>\n",
       "      <td>0.00</td>\n",
       "    </tr>\n",
       "  </tbody>\n",
       "</table>\n",
       "</div>"
      ],
      "text/plain": [
       "   Sample   CaO  CaF2    MgO  Al2O3   SiO2    FeO   MnO  Cr2O3  P2O5  V2O5  \\\n",
       "0     H01  37.8  0.18  25.00   9.61  13.20  18.30  1.99   0.20  0.23  0.18   \n",
       "1     H02  44.5  0.22  18.00   5.04  14.20  18.90  2.10   0.28  0.26  0.06   \n",
       "2     H03  38.5  0.22  21.10   6.14  10.60  20.20  5.82   0.61  0.40  0.14   \n",
       "3     H04  38.4  0.04  15.50   4.07  12.80  26.70  3.35   0.52  0.31  0.08   \n",
       "4     H05  43.2  0.18  17.10   4.14  14.80  21.70  1.72   0.20  0.29  0.18   \n",
       "5     H06  45.3  0.23  15.90   4.34  16.50  18.90  1.29   0.10  0.30  0.11   \n",
       "6     H07  46.1  0.25  14.30   4.12  16.20  19.00  1.21   0.09  0.27  0.06   \n",
       "7     H08  45.1  0.19  13.00   4.05  16.10  21.00  1.26   0.10  0.28  0.06   \n",
       "8     H09  32.8  0.01  10.60   7.30  14.30  33.20  2.75   0.42  0.32  0.09   \n",
       "9     H10  42.4  0.24  19.30   6.50  14.70  17.40  2.72   0.31  0.28  0.09   \n",
       "10    H11  38.4  0.04  11.20   5.02  14.00  26.10  2.84   2.11  0.34  0.09   \n",
       "11    H12  36.4  0.01  17.40   4.31  12.80  27.70  2.86   2.59  0.27  0.09   \n",
       "12    O01  43.7  1.30   7.90   3.20  33.30   1.30  3.00   3.70  0.01  0.11   \n",
       "13    O02  41.3  1.20   7.90   3.80  35.30   1.30  2.00   3.90  0.01  0.10   \n",
       "14    O03  44.6  1.10   9.60   2.80  35.30   0.90  1.30   2.70  0.01  0.07   \n",
       "15    O04  42.5  1.60   8.90   3.20  29.00   1.30  1.60  11.00  0.01  0.17   \n",
       "16    O05  39.2  1.10   8.40   3.70  34.30   1.70  1.30   9.30  0.01  0.11   \n",
       "17    O06  44.2  1.10  10.50   3.20  34.50   1.00  1.10   3.20  0.01  0.08   \n",
       "18    O07  44.1  1.10   9.10   3.70  32.50   2.00  2.00   4.50  0.01  0.12   \n",
       "19    O08  40.3  1.20   7.70   4.80  30.90   1.70  3.30   7.60  0.01  0.18   \n",
       "20    O09  37.5  1.40   6.80   4.10  27.80   2.50  3.50  12.90  0.01  0.23   \n",
       "21    O10  37.9  1.10   6.10   2.80  25.30   1.70  2.80  17.80  0.02  0.28   \n",
       "22    U01  24.2  3.04  14.10  10.90  24.30   2.45  4.39  15.40  0.00  0.96   \n",
       "23    U02  39.8  3.63  11.80   7.91  21.50   3.87  1.36   6.98  0.00  3.00   \n",
       "24    U03  33.4  1.72   7.20   6.70   5.85  35.00  3.79   2.05  0.20  0.30   \n",
       "25    U04  41.0  2.81  18.40   5.72  25.40   3.46  0.49   1.08  0.00  0.40   \n",
       "26    U05  31.3  3.95  19.90   9.52  28.00   2.86  0.70   3.00  0.00  0.00   \n",
       "27    U06  33.2  2.19  14.90   8.57  13.90  12.80  5.32   6.99  0.00  0.40   \n",
       "28    U07  51.4  0.00   8.90  26.90  11.60   0.27  0.00   0.15  0.00  0.00   \n",
       "29    U08  53.0  0.00   8.94  25.50  11.80   0.14  0.00   0.00  0.00  0.00   \n",
       "30    U09  40.5  2.05  19.90   6.05  28.50   1.39  0.42   0.92  0.00  0.22   \n",
       "31    U10  50.1  0.00  14.00  28.40   5.99   0.45  0.00   0.15  0.00  0.19   \n",
       "32    U11  40.1  2.43  20.00   6.79  27.50   1.37  0.41   0.89  0.00  0.22   \n",
       "33    U12  44.5  0.00  24.40  22.10   7.54   0.47  0.00   0.00  0.00  0.00   \n",
       "\n",
       "    TiO2  \n",
       "0   1.03  \n",
       "1   1.07  \n",
       "2   0.86  \n",
       "3   1.07  \n",
       "4   1.07  \n",
       "5   1.10  \n",
       "6   1.08  \n",
       "7   1.09  \n",
       "8   1.12  \n",
       "9   1.06  \n",
       "10  0.91  \n",
       "11  0.77  \n",
       "12  0.80  \n",
       "13  0.83  \n",
       "14  0.80  \n",
       "15  1.12  \n",
       "16  0.92  \n",
       "17  0.98  \n",
       "18  0.71  \n",
       "19  1.45  \n",
       "20  1.93  \n",
       "21  0.74  \n",
       "22  0.21  \n",
       "23  0.28  \n",
       "24  0.45  \n",
       "25  0.22  \n",
       "26  0.45  \n",
       "27  0.21  \n",
       "28  0.12  \n",
       "29  0.00  \n",
       "30  0.25  \n",
       "31  0.14  \n",
       "32  0.24  \n",
       "33  0.00  "
      ]
     },
     "execution_count": 6,
     "metadata": {},
     "output_type": "execute_result"
    }
   ],
   "source": [
    "df_y = pd.read_csv('concentration.csv', sep = ',')\n",
    "print(type(df_y))\n",
    "concentration=df_y.values\n",
    "print(concentration.shape)\n",
    "#print(concentration)\n",
    "df_y"
   ]
  },
  {
   "cell_type": "code",
   "execution_count": 10,
   "metadata": {
    "scrolled": true
   },
   "outputs": [
    {
     "name": "stdout",
     "output_type": "stream",
     "text": [
      "[13.2 14.2 10.6 12.8 14.8 16.5 16.2 16.1 14.3 14.7 14.0 12.8 33.3 35.3\n",
      " 35.3 29.0 34.3 34.5 32.5 30.9 27.8 25.3 24.3 21.5 5.85 25.4 28.0 13.9\n",
      " 11.6 11.8 28.5 5.99 27.5 7.54]\n",
      "(34,)\n"
     ]
    }
   ],
   "source": [
    "y = concentration[:,5] # 4 is aluminium, 5 is silicon\n",
    "print(y)\n",
    "print(y.shape)"
   ]
  },
  {
   "cell_type": "code",
   "execution_count": 8,
   "metadata": {},
   "outputs": [],
   "source": [
    "y_df= pd.DataFrame(y)\n",
    "#df_y_si"
   ]
  },
  {
   "cell_type": "code",
   "execution_count": 9,
   "metadata": {},
   "outputs": [
    {
     "name": "stdout",
     "output_type": "stream",
     "text": [
      "(27, 3648) (27, 1)\n",
      "(7, 3648) (7, 1)\n"
     ]
    }
   ],
   "source": [
    "X_train, X_test, y_train, y_test = train_test_split(x_df, y_df, test_size=0.2)\n",
    "print (X_train.shape, y_train.shape)\n",
    "print (X_test.shape, y_test.shape)\n",
    "#print(X_test)"
   ]
  },
  {
   "cell_type": "markdown",
   "metadata": {},
   "source": [
    "### Wavelength exploration"
   ]
  },
  {
   "attachments": {},
   "cell_type": "markdown",
   "metadata": {},
   "source": [
    "For Silicon (Si) the peaks are at 251.59, 288.12, 390.60 (last one not useful in this setting)"
   ]
  },
  {
   "cell_type": "code",
   "execution_count": 42,
   "metadata": {},
   "outputs": [
    {
     "name": "stdout",
     "output_type": "stream",
     "text": [
      "[[216.33 216.37 216.41 ... 340.32 340.34 340.37]]\n",
      "(3648, 1)\n",
      "3648\n",
      "[0.97]\n"
     ]
    }
   ],
   "source": [
    "print(wl.T)\n",
    "print(wl.shape)\n",
    "print(len(wl))\n",
    "print(wl[25]-wl[0])"
   ]
  },
  {
   "cell_type": "code",
   "execution_count": 18,
   "metadata": {},
   "outputs": [
    {
     "data": {
      "text/plain": [
       "[251.59, 288.12]"
      ]
     },
     "execution_count": 18,
     "metadata": {},
     "output_type": "execute_result"
    }
   ],
   "source": [
    "target = [251.59, 288.12, 390.60]\n",
    "target"
   ]
  },
  {
   "cell_type": "code",
   "execution_count": 81,
   "metadata": {},
   "outputs": [
    {
     "name": "stdout",
     "output_type": "stream",
     "text": [
      "number of selected wavelengths:  57 \n",
      "\n",
      "[251.11, 251.14, 251.18, 251.22, 251.25, 251.29, 251.33, 251.36, 251.4, 251.44, 251.47, 251.51, 251.54, 251.58, 251.62, 251.65, 251.69, 251.73, 251.76, 251.8, 251.84, 251.87, 251.91, 251.95, 251.98, 252.02, 252.06, 287.63, 287.67, 287.7, 287.73, 287.77, 287.8, 287.83, 287.87, 287.9, 287.94, 287.97, 288.0, 288.04, 288.07, 288.11, 288.14, 288.17, 288.21, 288.24, 288.27, 288.31, 288.34, 288.38, 288.41, 288.44, 288.48, 288.51, 288.54, 288.58, 288.61] \n",
      "\n",
      "[921, 922, 923, 924, 925, 926, 927, 928, 929, 930, 931, 932, 933, 934, 935, 936, 937, 938, 939, 940, 941, 942, 943, 944, 945, 946, 947, 1957, 1958, 1959, 1960, 1961, 1962, 1963, 1964, 1965, 1966, 1967, 1968, 1969, 1970, 1971, 1972, 1973, 1974, 1975, 1976, 1977, 1978, 1979, 1980, 1981, 1982, 1983, 1984, 1985, 1986]\n"
     ]
    }
   ],
   "source": [
    "a = []\n",
    "b = []\n",
    "for t in target:\n",
    "    for i in range(len(wl)):\n",
    "        if abs(wl[i][0]-t) < 0.5:\n",
    "            a.append(wl[i][0])\n",
    "            b.append(i)\n",
    "            \n",
    "print(\"number of selected wavelengths: \",len(a), \"\\n\")\n",
    "print(a, \"\\n\")\n",
    "print(b)"
   ]
  },
  {
   "cell_type": "code",
   "execution_count": 82,
   "metadata": {},
   "outputs": [
    {
     "name": "stdout",
     "output_type": "stream",
     "text": [
      "(34, 3648)\n"
     ]
    },
    {
     "data": {
      "text/html": [
       "<div>\n",
       "<style scoped>\n",
       "    .dataframe tbody tr th:only-of-type {\n",
       "        vertical-align: middle;\n",
       "    }\n",
       "\n",
       "    .dataframe tbody tr th {\n",
       "        vertical-align: top;\n",
       "    }\n",
       "\n",
       "    .dataframe thead th {\n",
       "        text-align: right;\n",
       "    }\n",
       "</style>\n",
       "<table border=\"1\" class=\"dataframe\">\n",
       "  <thead>\n",
       "    <tr style=\"text-align: right;\">\n",
       "      <th></th>\n",
       "      <th>0</th>\n",
       "      <th>1</th>\n",
       "      <th>2</th>\n",
       "      <th>3</th>\n",
       "      <th>4</th>\n",
       "      <th>5</th>\n",
       "      <th>6</th>\n",
       "      <th>7</th>\n",
       "      <th>8</th>\n",
       "      <th>9</th>\n",
       "      <th>...</th>\n",
       "      <th>47</th>\n",
       "      <th>48</th>\n",
       "      <th>49</th>\n",
       "      <th>50</th>\n",
       "      <th>51</th>\n",
       "      <th>52</th>\n",
       "      <th>53</th>\n",
       "      <th>54</th>\n",
       "      <th>55</th>\n",
       "      <th>56</th>\n",
       "    </tr>\n",
       "  </thead>\n",
       "  <tbody>\n",
       "    <tr>\n",
       "      <th>0</th>\n",
       "      <td>20915.0</td>\n",
       "      <td>23818.0</td>\n",
       "      <td>26691.0</td>\n",
       "      <td>29762.0</td>\n",
       "      <td>27852.0</td>\n",
       "      <td>24192.0</td>\n",
       "      <td>21238.0</td>\n",
       "      <td>18930.0</td>\n",
       "      <td>19374.0</td>\n",
       "      <td>20655.0</td>\n",
       "      <td>...</td>\n",
       "      <td>16519.0</td>\n",
       "      <td>16002.0</td>\n",
       "      <td>15814.0</td>\n",
       "      <td>15203.0</td>\n",
       "      <td>14541.0</td>\n",
       "      <td>13545.0</td>\n",
       "      <td>12880.0</td>\n",
       "      <td>12481.0</td>\n",
       "      <td>12399.0</td>\n",
       "      <td>12260.0</td>\n",
       "    </tr>\n",
       "    <tr>\n",
       "      <th>1</th>\n",
       "      <td>21034.0</td>\n",
       "      <td>23363.0</td>\n",
       "      <td>26609.0</td>\n",
       "      <td>29386.0</td>\n",
       "      <td>27930.0</td>\n",
       "      <td>24766.0</td>\n",
       "      <td>22365.0</td>\n",
       "      <td>20485.0</td>\n",
       "      <td>20490.0</td>\n",
       "      <td>21922.0</td>\n",
       "      <td>...</td>\n",
       "      <td>15181.0</td>\n",
       "      <td>14601.0</td>\n",
       "      <td>14612.0</td>\n",
       "      <td>14562.0</td>\n",
       "      <td>13319.0</td>\n",
       "      <td>12302.0</td>\n",
       "      <td>11945.0</td>\n",
       "      <td>11600.0</td>\n",
       "      <td>11344.0</td>\n",
       "      <td>11326.0</td>\n",
       "    </tr>\n",
       "    <tr>\n",
       "      <th>2</th>\n",
       "      <td>18561.0</td>\n",
       "      <td>21026.0</td>\n",
       "      <td>23947.0</td>\n",
       "      <td>26518.0</td>\n",
       "      <td>25289.0</td>\n",
       "      <td>22434.0</td>\n",
       "      <td>19875.0</td>\n",
       "      <td>18149.0</td>\n",
       "      <td>18391.0</td>\n",
       "      <td>19784.0</td>\n",
       "      <td>...</td>\n",
       "      <td>19794.0</td>\n",
       "      <td>19445.0</td>\n",
       "      <td>19689.0</td>\n",
       "      <td>19297.0</td>\n",
       "      <td>18938.0</td>\n",
       "      <td>18714.0</td>\n",
       "      <td>18293.0</td>\n",
       "      <td>18180.0</td>\n",
       "      <td>18305.0</td>\n",
       "      <td>18784.0</td>\n",
       "    </tr>\n",
       "    <tr>\n",
       "      <th>3</th>\n",
       "      <td>31532.0</td>\n",
       "      <td>35738.0</td>\n",
       "      <td>40365.0</td>\n",
       "      <td>44654.0</td>\n",
       "      <td>42280.0</td>\n",
       "      <td>37211.0</td>\n",
       "      <td>32353.0</td>\n",
       "      <td>29344.0</td>\n",
       "      <td>29455.0</td>\n",
       "      <td>31563.0</td>\n",
       "      <td>...</td>\n",
       "      <td>20848.0</td>\n",
       "      <td>20133.0</td>\n",
       "      <td>20421.0</td>\n",
       "      <td>20397.0</td>\n",
       "      <td>19469.0</td>\n",
       "      <td>17869.0</td>\n",
       "      <td>17337.0</td>\n",
       "      <td>17278.0</td>\n",
       "      <td>16958.0</td>\n",
       "      <td>17601.0</td>\n",
       "    </tr>\n",
       "    <tr>\n",
       "      <th>4</th>\n",
       "      <td>20987.0</td>\n",
       "      <td>23971.0</td>\n",
       "      <td>27304.0</td>\n",
       "      <td>30485.0</td>\n",
       "      <td>28590.0</td>\n",
       "      <td>24761.0</td>\n",
       "      <td>21550.0</td>\n",
       "      <td>19852.0</td>\n",
       "      <td>19727.0</td>\n",
       "      <td>21737.0</td>\n",
       "      <td>...</td>\n",
       "      <td>19141.0</td>\n",
       "      <td>18560.0</td>\n",
       "      <td>18576.0</td>\n",
       "      <td>18300.0</td>\n",
       "      <td>17632.0</td>\n",
       "      <td>16871.0</td>\n",
       "      <td>16464.0</td>\n",
       "      <td>15965.0</td>\n",
       "      <td>16166.0</td>\n",
       "      <td>16247.0</td>\n",
       "    </tr>\n",
       "    <tr>\n",
       "      <th>5</th>\n",
       "      <td>21965.0</td>\n",
       "      <td>24808.0</td>\n",
       "      <td>28029.0</td>\n",
       "      <td>30887.0</td>\n",
       "      <td>29513.0</td>\n",
       "      <td>26561.0</td>\n",
       "      <td>23805.0</td>\n",
       "      <td>21523.0</td>\n",
       "      <td>22018.0</td>\n",
       "      <td>23311.0</td>\n",
       "      <td>...</td>\n",
       "      <td>16433.0</td>\n",
       "      <td>15467.0</td>\n",
       "      <td>16104.0</td>\n",
       "      <td>16161.0</td>\n",
       "      <td>14780.0</td>\n",
       "      <td>13227.0</td>\n",
       "      <td>12779.0</td>\n",
       "      <td>12249.0</td>\n",
       "      <td>12124.0</td>\n",
       "      <td>12144.0</td>\n",
       "    </tr>\n",
       "    <tr>\n",
       "      <th>6</th>\n",
       "      <td>19323.0</td>\n",
       "      <td>22051.0</td>\n",
       "      <td>25505.0</td>\n",
       "      <td>29090.0</td>\n",
       "      <td>27302.0</td>\n",
       "      <td>23731.0</td>\n",
       "      <td>21006.0</td>\n",
       "      <td>19021.0</td>\n",
       "      <td>19256.0</td>\n",
       "      <td>20903.0</td>\n",
       "      <td>...</td>\n",
       "      <td>15922.0</td>\n",
       "      <td>15521.0</td>\n",
       "      <td>15251.0</td>\n",
       "      <td>14704.0</td>\n",
       "      <td>14511.0</td>\n",
       "      <td>13931.0</td>\n",
       "      <td>13598.0</td>\n",
       "      <td>13011.0</td>\n",
       "      <td>13052.0</td>\n",
       "      <td>13011.0</td>\n",
       "    </tr>\n",
       "    <tr>\n",
       "      <th>7</th>\n",
       "      <td>18175.0</td>\n",
       "      <td>20421.0</td>\n",
       "      <td>23114.0</td>\n",
       "      <td>25738.0</td>\n",
       "      <td>24367.0</td>\n",
       "      <td>21587.0</td>\n",
       "      <td>19368.0</td>\n",
       "      <td>17860.0</td>\n",
       "      <td>17766.0</td>\n",
       "      <td>18849.0</td>\n",
       "      <td>...</td>\n",
       "      <td>14943.0</td>\n",
       "      <td>14303.0</td>\n",
       "      <td>13864.0</td>\n",
       "      <td>13131.0</td>\n",
       "      <td>12863.0</td>\n",
       "      <td>12224.0</td>\n",
       "      <td>11694.0</td>\n",
       "      <td>11260.0</td>\n",
       "      <td>11134.0</td>\n",
       "      <td>11149.0</td>\n",
       "    </tr>\n",
       "    <tr>\n",
       "      <th>8</th>\n",
       "      <td>30961.0</td>\n",
       "      <td>34383.0</td>\n",
       "      <td>38431.0</td>\n",
       "      <td>41962.0</td>\n",
       "      <td>39765.0</td>\n",
       "      <td>36043.0</td>\n",
       "      <td>32820.0</td>\n",
       "      <td>30196.0</td>\n",
       "      <td>30277.0</td>\n",
       "      <td>32197.0</td>\n",
       "      <td>...</td>\n",
       "      <td>23483.0</td>\n",
       "      <td>23109.0</td>\n",
       "      <td>24339.0</td>\n",
       "      <td>24279.0</td>\n",
       "      <td>23107.0</td>\n",
       "      <td>21569.0</td>\n",
       "      <td>20699.0</td>\n",
       "      <td>20164.0</td>\n",
       "      <td>20582.0</td>\n",
       "      <td>21022.0</td>\n",
       "    </tr>\n",
       "    <tr>\n",
       "      <th>9</th>\n",
       "      <td>19483.0</td>\n",
       "      <td>22578.0</td>\n",
       "      <td>25550.0</td>\n",
       "      <td>28609.0</td>\n",
       "      <td>26687.0</td>\n",
       "      <td>23193.0</td>\n",
       "      <td>20118.0</td>\n",
       "      <td>18392.0</td>\n",
       "      <td>18863.0</td>\n",
       "      <td>20107.0</td>\n",
       "      <td>...</td>\n",
       "      <td>17774.0</td>\n",
       "      <td>16951.0</td>\n",
       "      <td>16638.0</td>\n",
       "      <td>16004.0</td>\n",
       "      <td>15307.0</td>\n",
       "      <td>14385.0</td>\n",
       "      <td>13788.0</td>\n",
       "      <td>13720.0</td>\n",
       "      <td>13678.0</td>\n",
       "      <td>13981.0</td>\n",
       "    </tr>\n",
       "    <tr>\n",
       "      <th>10</th>\n",
       "      <td>19591.0</td>\n",
       "      <td>22750.0</td>\n",
       "      <td>24976.0</td>\n",
       "      <td>28021.0</td>\n",
       "      <td>26349.0</td>\n",
       "      <td>22847.0</td>\n",
       "      <td>20312.0</td>\n",
       "      <td>18211.0</td>\n",
       "      <td>18451.0</td>\n",
       "      <td>20254.0</td>\n",
       "      <td>...</td>\n",
       "      <td>19951.0</td>\n",
       "      <td>19164.0</td>\n",
       "      <td>18866.0</td>\n",
       "      <td>18698.0</td>\n",
       "      <td>17483.0</td>\n",
       "      <td>16456.0</td>\n",
       "      <td>15756.0</td>\n",
       "      <td>15221.0</td>\n",
       "      <td>15517.0</td>\n",
       "      <td>15462.0</td>\n",
       "    </tr>\n",
       "    <tr>\n",
       "      <th>11</th>\n",
       "      <td>19836.0</td>\n",
       "      <td>22623.0</td>\n",
       "      <td>25682.0</td>\n",
       "      <td>28629.0</td>\n",
       "      <td>27083.0</td>\n",
       "      <td>23613.0</td>\n",
       "      <td>21873.0</td>\n",
       "      <td>20412.0</td>\n",
       "      <td>20512.0</td>\n",
       "      <td>21769.0</td>\n",
       "      <td>...</td>\n",
       "      <td>20108.0</td>\n",
       "      <td>19057.0</td>\n",
       "      <td>18913.0</td>\n",
       "      <td>18438.0</td>\n",
       "      <td>17866.0</td>\n",
       "      <td>17055.0</td>\n",
       "      <td>16296.0</td>\n",
       "      <td>16244.0</td>\n",
       "      <td>16302.0</td>\n",
       "      <td>16353.0</td>\n",
       "    </tr>\n",
       "    <tr>\n",
       "      <th>12</th>\n",
       "      <td>18238.0</td>\n",
       "      <td>19116.0</td>\n",
       "      <td>20386.0</td>\n",
       "      <td>21899.0</td>\n",
       "      <td>20836.0</td>\n",
       "      <td>19483.0</td>\n",
       "      <td>18487.0</td>\n",
       "      <td>17835.0</td>\n",
       "      <td>18757.0</td>\n",
       "      <td>20320.0</td>\n",
       "      <td>...</td>\n",
       "      <td>32306.0</td>\n",
       "      <td>30436.0</td>\n",
       "      <td>29393.0</td>\n",
       "      <td>29139.0</td>\n",
       "      <td>28269.0</td>\n",
       "      <td>27922.0</td>\n",
       "      <td>27609.0</td>\n",
       "      <td>27552.0</td>\n",
       "      <td>27227.0</td>\n",
       "      <td>28048.0</td>\n",
       "    </tr>\n",
       "    <tr>\n",
       "      <th>13</th>\n",
       "      <td>21314.0</td>\n",
       "      <td>23544.0</td>\n",
       "      <td>26628.0</td>\n",
       "      <td>29310.0</td>\n",
       "      <td>27667.0</td>\n",
       "      <td>23885.0</td>\n",
       "      <td>21451.0</td>\n",
       "      <td>20028.0</td>\n",
       "      <td>20860.0</td>\n",
       "      <td>22953.0</td>\n",
       "      <td>...</td>\n",
       "      <td>27867.0</td>\n",
       "      <td>25615.0</td>\n",
       "      <td>24421.0</td>\n",
       "      <td>23278.0</td>\n",
       "      <td>22371.0</td>\n",
       "      <td>21367.0</td>\n",
       "      <td>21065.0</td>\n",
       "      <td>20685.0</td>\n",
       "      <td>21100.0</td>\n",
       "      <td>21392.0</td>\n",
       "    </tr>\n",
       "    <tr>\n",
       "      <th>14</th>\n",
       "      <td>20979.0</td>\n",
       "      <td>22261.0</td>\n",
       "      <td>23413.0</td>\n",
       "      <td>24584.0</td>\n",
       "      <td>23368.0</td>\n",
       "      <td>21106.0</td>\n",
       "      <td>19666.0</td>\n",
       "      <td>19149.0</td>\n",
       "      <td>19699.0</td>\n",
       "      <td>21354.0</td>\n",
       "      <td>...</td>\n",
       "      <td>27074.0</td>\n",
       "      <td>26446.0</td>\n",
       "      <td>26596.0</td>\n",
       "      <td>26661.0</td>\n",
       "      <td>26602.0</td>\n",
       "      <td>26585.0</td>\n",
       "      <td>26742.0</td>\n",
       "      <td>27314.0</td>\n",
       "      <td>27612.0</td>\n",
       "      <td>29211.0</td>\n",
       "    </tr>\n",
       "    <tr>\n",
       "      <th>15</th>\n",
       "      <td>14544.0</td>\n",
       "      <td>16431.0</td>\n",
       "      <td>17559.0</td>\n",
       "      <td>18970.0</td>\n",
       "      <td>17713.0</td>\n",
       "      <td>15816.0</td>\n",
       "      <td>14128.0</td>\n",
       "      <td>13468.0</td>\n",
       "      <td>13805.0</td>\n",
       "      <td>15839.0</td>\n",
       "      <td>...</td>\n",
       "      <td>20990.0</td>\n",
       "      <td>20252.0</td>\n",
       "      <td>20410.0</td>\n",
       "      <td>20215.0</td>\n",
       "      <td>20100.0</td>\n",
       "      <td>19438.0</td>\n",
       "      <td>19679.0</td>\n",
       "      <td>19592.0</td>\n",
       "      <td>19896.0</td>\n",
       "      <td>21175.0</td>\n",
       "    </tr>\n",
       "    <tr>\n",
       "      <th>16</th>\n",
       "      <td>15617.0</td>\n",
       "      <td>16050.0</td>\n",
       "      <td>16432.0</td>\n",
       "      <td>17333.0</td>\n",
       "      <td>16927.0</td>\n",
       "      <td>15959.0</td>\n",
       "      <td>15283.0</td>\n",
       "      <td>14929.0</td>\n",
       "      <td>15582.0</td>\n",
       "      <td>17405.0</td>\n",
       "      <td>...</td>\n",
       "      <td>29023.0</td>\n",
       "      <td>26929.0</td>\n",
       "      <td>25849.0</td>\n",
       "      <td>24772.0</td>\n",
       "      <td>24047.0</td>\n",
       "      <td>23787.0</td>\n",
       "      <td>22998.0</td>\n",
       "      <td>22865.0</td>\n",
       "      <td>22479.0</td>\n",
       "      <td>22987.0</td>\n",
       "    </tr>\n",
       "    <tr>\n",
       "      <th>17</th>\n",
       "      <td>18432.0</td>\n",
       "      <td>19097.0</td>\n",
       "      <td>20033.0</td>\n",
       "      <td>21525.0</td>\n",
       "      <td>20690.0</td>\n",
       "      <td>19899.0</td>\n",
       "      <td>19175.0</td>\n",
       "      <td>18931.0</td>\n",
       "      <td>20013.0</td>\n",
       "      <td>21542.0</td>\n",
       "      <td>...</td>\n",
       "      <td>35237.0</td>\n",
       "      <td>33319.0</td>\n",
       "      <td>32537.0</td>\n",
       "      <td>31194.0</td>\n",
       "      <td>30719.0</td>\n",
       "      <td>30229.0</td>\n",
       "      <td>29622.0</td>\n",
       "      <td>29617.0</td>\n",
       "      <td>29458.0</td>\n",
       "      <td>29946.0</td>\n",
       "    </tr>\n",
       "    <tr>\n",
       "      <th>18</th>\n",
       "      <td>22777.0</td>\n",
       "      <td>23587.0</td>\n",
       "      <td>24107.0</td>\n",
       "      <td>25427.0</td>\n",
       "      <td>23950.0</td>\n",
       "      <td>22136.0</td>\n",
       "      <td>21166.0</td>\n",
       "      <td>20877.0</td>\n",
       "      <td>21750.0</td>\n",
       "      <td>23543.0</td>\n",
       "      <td>...</td>\n",
       "      <td>29799.0</td>\n",
       "      <td>29986.0</td>\n",
       "      <td>30879.0</td>\n",
       "      <td>31817.0</td>\n",
       "      <td>31774.0</td>\n",
       "      <td>31571.0</td>\n",
       "      <td>32378.0</td>\n",
       "      <td>33175.0</td>\n",
       "      <td>33830.0</td>\n",
       "      <td>36200.0</td>\n",
       "    </tr>\n",
       "    <tr>\n",
       "      <th>19</th>\n",
       "      <td>14797.0</td>\n",
       "      <td>15723.0</td>\n",
       "      <td>16877.0</td>\n",
       "      <td>18179.0</td>\n",
       "      <td>17717.0</td>\n",
       "      <td>16603.0</td>\n",
       "      <td>15427.0</td>\n",
       "      <td>15441.0</td>\n",
       "      <td>15883.0</td>\n",
       "      <td>17125.0</td>\n",
       "      <td>...</td>\n",
       "      <td>26672.0</td>\n",
       "      <td>25032.0</td>\n",
       "      <td>24569.0</td>\n",
       "      <td>23213.0</td>\n",
       "      <td>22827.0</td>\n",
       "      <td>22348.0</td>\n",
       "      <td>22260.0</td>\n",
       "      <td>21973.0</td>\n",
       "      <td>21928.0</td>\n",
       "      <td>22308.0</td>\n",
       "    </tr>\n",
       "    <tr>\n",
       "      <th>20</th>\n",
       "      <td>15994.0</td>\n",
       "      <td>16702.0</td>\n",
       "      <td>17633.0</td>\n",
       "      <td>18979.0</td>\n",
       "      <td>18163.0</td>\n",
       "      <td>17601.0</td>\n",
       "      <td>16545.0</td>\n",
       "      <td>16194.0</td>\n",
       "      <td>17290.0</td>\n",
       "      <td>18739.0</td>\n",
       "      <td>...</td>\n",
       "      <td>31039.0</td>\n",
       "      <td>28838.0</td>\n",
       "      <td>27904.0</td>\n",
       "      <td>26674.0</td>\n",
       "      <td>25930.0</td>\n",
       "      <td>25445.0</td>\n",
       "      <td>25143.0</td>\n",
       "      <td>24814.0</td>\n",
       "      <td>24733.0</td>\n",
       "      <td>24861.0</td>\n",
       "    </tr>\n",
       "    <tr>\n",
       "      <th>21</th>\n",
       "      <td>15410.0</td>\n",
       "      <td>17672.0</td>\n",
       "      <td>20196.0</td>\n",
       "      <td>22703.0</td>\n",
       "      <td>21518.0</td>\n",
       "      <td>18805.0</td>\n",
       "      <td>15991.0</td>\n",
       "      <td>14642.0</td>\n",
       "      <td>14675.0</td>\n",
       "      <td>15829.0</td>\n",
       "      <td>...</td>\n",
       "      <td>24356.0</td>\n",
       "      <td>23723.0</td>\n",
       "      <td>23335.0</td>\n",
       "      <td>22861.0</td>\n",
       "      <td>22910.0</td>\n",
       "      <td>22498.0</td>\n",
       "      <td>22898.0</td>\n",
       "      <td>22705.0</td>\n",
       "      <td>22705.0</td>\n",
       "      <td>23963.0</td>\n",
       "    </tr>\n",
       "    <tr>\n",
       "      <th>22</th>\n",
       "      <td>8875.0</td>\n",
       "      <td>9111.0</td>\n",
       "      <td>9041.0</td>\n",
       "      <td>9361.0</td>\n",
       "      <td>9011.0</td>\n",
       "      <td>8963.0</td>\n",
       "      <td>8162.0</td>\n",
       "      <td>8632.0</td>\n",
       "      <td>9677.0</td>\n",
       "      <td>11267.0</td>\n",
       "      <td>...</td>\n",
       "      <td>18904.0</td>\n",
       "      <td>18238.0</td>\n",
       "      <td>17907.0</td>\n",
       "      <td>17964.0</td>\n",
       "      <td>17404.0</td>\n",
       "      <td>17211.0</td>\n",
       "      <td>17346.0</td>\n",
       "      <td>17307.0</td>\n",
       "      <td>17575.0</td>\n",
       "      <td>18783.0</td>\n",
       "    </tr>\n",
       "    <tr>\n",
       "      <th>23</th>\n",
       "      <td>13997.0</td>\n",
       "      <td>15825.0</td>\n",
       "      <td>17777.0</td>\n",
       "      <td>19385.0</td>\n",
       "      <td>18557.0</td>\n",
       "      <td>16244.0</td>\n",
       "      <td>14417.0</td>\n",
       "      <td>13326.0</td>\n",
       "      <td>13861.0</td>\n",
       "      <td>15300.0</td>\n",
       "      <td>...</td>\n",
       "      <td>16848.0</td>\n",
       "      <td>15912.0</td>\n",
       "      <td>15582.0</td>\n",
       "      <td>15045.0</td>\n",
       "      <td>14676.0</td>\n",
       "      <td>14404.0</td>\n",
       "      <td>13944.0</td>\n",
       "      <td>13411.0</td>\n",
       "      <td>13448.0</td>\n",
       "      <td>13304.0</td>\n",
       "    </tr>\n",
       "    <tr>\n",
       "      <th>24</th>\n",
       "      <td>22707.0</td>\n",
       "      <td>25928.0</td>\n",
       "      <td>29252.0</td>\n",
       "      <td>32472.0</td>\n",
       "      <td>30798.0</td>\n",
       "      <td>26288.0</td>\n",
       "      <td>22969.0</td>\n",
       "      <td>21517.0</td>\n",
       "      <td>21369.0</td>\n",
       "      <td>23234.0</td>\n",
       "      <td>...</td>\n",
       "      <td>17394.0</td>\n",
       "      <td>17416.0</td>\n",
       "      <td>17668.0</td>\n",
       "      <td>17572.0</td>\n",
       "      <td>16566.0</td>\n",
       "      <td>15910.0</td>\n",
       "      <td>15149.0</td>\n",
       "      <td>15149.0</td>\n",
       "      <td>14981.0</td>\n",
       "      <td>15468.0</td>\n",
       "    </tr>\n",
       "    <tr>\n",
       "      <th>25</th>\n",
       "      <td>3873.0</td>\n",
       "      <td>4563.0</td>\n",
       "      <td>5460.0</td>\n",
       "      <td>6564.0</td>\n",
       "      <td>6082.0</td>\n",
       "      <td>4798.0</td>\n",
       "      <td>4075.0</td>\n",
       "      <td>3907.0</td>\n",
       "      <td>4501.0</td>\n",
       "      <td>5510.0</td>\n",
       "      <td>...</td>\n",
       "      <td>9428.0</td>\n",
       "      <td>8325.0</td>\n",
       "      <td>7795.0</td>\n",
       "      <td>7203.0</td>\n",
       "      <td>6745.0</td>\n",
       "      <td>6374.0</td>\n",
       "      <td>6159.0</td>\n",
       "      <td>5749.0</td>\n",
       "      <td>5622.0</td>\n",
       "      <td>5524.0</td>\n",
       "    </tr>\n",
       "    <tr>\n",
       "      <th>26</th>\n",
       "      <td>10566.0</td>\n",
       "      <td>12525.0</td>\n",
       "      <td>14495.0</td>\n",
       "      <td>16355.0</td>\n",
       "      <td>15786.0</td>\n",
       "      <td>13241.0</td>\n",
       "      <td>11500.0</td>\n",
       "      <td>10411.0</td>\n",
       "      <td>10681.0</td>\n",
       "      <td>11983.0</td>\n",
       "      <td>...</td>\n",
       "      <td>11999.0</td>\n",
       "      <td>10983.0</td>\n",
       "      <td>10525.0</td>\n",
       "      <td>9947.0</td>\n",
       "      <td>9140.0</td>\n",
       "      <td>8601.0</td>\n",
       "      <td>7765.0</td>\n",
       "      <td>7392.0</td>\n",
       "      <td>7279.0</td>\n",
       "      <td>7068.0</td>\n",
       "    </tr>\n",
       "    <tr>\n",
       "      <th>27</th>\n",
       "      <td>22841.0</td>\n",
       "      <td>25921.0</td>\n",
       "      <td>29665.0</td>\n",
       "      <td>32884.0</td>\n",
       "      <td>30914.0</td>\n",
       "      <td>27274.0</td>\n",
       "      <td>23841.0</td>\n",
       "      <td>22015.0</td>\n",
       "      <td>22020.0</td>\n",
       "      <td>23871.0</td>\n",
       "      <td>...</td>\n",
       "      <td>20067.0</td>\n",
       "      <td>19646.0</td>\n",
       "      <td>20104.0</td>\n",
       "      <td>19478.0</td>\n",
       "      <td>18701.0</td>\n",
       "      <td>17873.0</td>\n",
       "      <td>17713.0</td>\n",
       "      <td>17297.0</td>\n",
       "      <td>17530.0</td>\n",
       "      <td>18171.0</td>\n",
       "    </tr>\n",
       "    <tr>\n",
       "      <th>28</th>\n",
       "      <td>1024.0</td>\n",
       "      <td>1356.0</td>\n",
       "      <td>1575.0</td>\n",
       "      <td>1814.0</td>\n",
       "      <td>1749.0</td>\n",
       "      <td>1375.0</td>\n",
       "      <td>1149.0</td>\n",
       "      <td>1214.0</td>\n",
       "      <td>1357.0</td>\n",
       "      <td>1787.0</td>\n",
       "      <td>...</td>\n",
       "      <td>4234.0</td>\n",
       "      <td>3695.0</td>\n",
       "      <td>3193.0</td>\n",
       "      <td>3009.0</td>\n",
       "      <td>2701.0</td>\n",
       "      <td>2682.0</td>\n",
       "      <td>2391.0</td>\n",
       "      <td>2277.0</td>\n",
       "      <td>2186.0</td>\n",
       "      <td>2109.0</td>\n",
       "    </tr>\n",
       "    <tr>\n",
       "      <th>29</th>\n",
       "      <td>953.0</td>\n",
       "      <td>903.0</td>\n",
       "      <td>887.0</td>\n",
       "      <td>983.0</td>\n",
       "      <td>1029.0</td>\n",
       "      <td>1031.0</td>\n",
       "      <td>1012.0</td>\n",
       "      <td>1059.0</td>\n",
       "      <td>1283.0</td>\n",
       "      <td>1663.0</td>\n",
       "      <td>...</td>\n",
       "      <td>3947.0</td>\n",
       "      <td>3427.0</td>\n",
       "      <td>3068.0</td>\n",
       "      <td>2940.0</td>\n",
       "      <td>2572.0</td>\n",
       "      <td>2388.0</td>\n",
       "      <td>2501.0</td>\n",
       "      <td>2314.0</td>\n",
       "      <td>2221.0</td>\n",
       "      <td>2104.0</td>\n",
       "    </tr>\n",
       "    <tr>\n",
       "      <th>30</th>\n",
       "      <td>18143.0</td>\n",
       "      <td>20873.0</td>\n",
       "      <td>23931.0</td>\n",
       "      <td>27460.0</td>\n",
       "      <td>25497.0</td>\n",
       "      <td>21699.0</td>\n",
       "      <td>18924.0</td>\n",
       "      <td>17113.0</td>\n",
       "      <td>17433.0</td>\n",
       "      <td>19872.0</td>\n",
       "      <td>...</td>\n",
       "      <td>17335.0</td>\n",
       "      <td>16726.0</td>\n",
       "      <td>17291.0</td>\n",
       "      <td>17426.0</td>\n",
       "      <td>17291.0</td>\n",
       "      <td>17179.0</td>\n",
       "      <td>17394.0</td>\n",
       "      <td>17751.0</td>\n",
       "      <td>17814.0</td>\n",
       "      <td>19465.0</td>\n",
       "    </tr>\n",
       "    <tr>\n",
       "      <th>31</th>\n",
       "      <td>1949.0</td>\n",
       "      <td>2041.0</td>\n",
       "      <td>2423.0</td>\n",
       "      <td>2664.0</td>\n",
       "      <td>2699.0</td>\n",
       "      <td>2382.0</td>\n",
       "      <td>2120.0</td>\n",
       "      <td>1837.0</td>\n",
       "      <td>2082.0</td>\n",
       "      <td>2283.0</td>\n",
       "      <td>...</td>\n",
       "      <td>5270.0</td>\n",
       "      <td>5104.0</td>\n",
       "      <td>4924.0</td>\n",
       "      <td>4489.0</td>\n",
       "      <td>4557.0</td>\n",
       "      <td>4442.0</td>\n",
       "      <td>4367.0</td>\n",
       "      <td>4261.0</td>\n",
       "      <td>4050.0</td>\n",
       "      <td>4066.0</td>\n",
       "    </tr>\n",
       "    <tr>\n",
       "      <th>32</th>\n",
       "      <td>14668.0</td>\n",
       "      <td>16670.0</td>\n",
       "      <td>18333.0</td>\n",
       "      <td>20656.0</td>\n",
       "      <td>19702.0</td>\n",
       "      <td>17234.0</td>\n",
       "      <td>15529.0</td>\n",
       "      <td>14270.0</td>\n",
       "      <td>14854.0</td>\n",
       "      <td>16537.0</td>\n",
       "      <td>...</td>\n",
       "      <td>17344.0</td>\n",
       "      <td>16307.0</td>\n",
       "      <td>15758.0</td>\n",
       "      <td>15283.0</td>\n",
       "      <td>14283.0</td>\n",
       "      <td>13624.0</td>\n",
       "      <td>13012.0</td>\n",
       "      <td>12511.0</td>\n",
       "      <td>12322.0</td>\n",
       "      <td>12819.0</td>\n",
       "    </tr>\n",
       "    <tr>\n",
       "      <th>33</th>\n",
       "      <td>3370.0</td>\n",
       "      <td>3622.0</td>\n",
       "      <td>4396.0</td>\n",
       "      <td>4794.0</td>\n",
       "      <td>4727.0</td>\n",
       "      <td>4043.0</td>\n",
       "      <td>3614.0</td>\n",
       "      <td>3170.0</td>\n",
       "      <td>3590.0</td>\n",
       "      <td>4206.0</td>\n",
       "      <td>...</td>\n",
       "      <td>7195.0</td>\n",
       "      <td>6929.0</td>\n",
       "      <td>6855.0</td>\n",
       "      <td>6771.0</td>\n",
       "      <td>6554.0</td>\n",
       "      <td>6649.0</td>\n",
       "      <td>6615.0</td>\n",
       "      <td>6489.0</td>\n",
       "      <td>6600.0</td>\n",
       "      <td>6396.0</td>\n",
       "    </tr>\n",
       "  </tbody>\n",
       "</table>\n",
       "<p>34 rows × 57 columns</p>\n",
       "</div>"
      ],
      "text/plain": [
       "         0        1        2        3        4        5        6        7   \\\n",
       "0   20915.0  23818.0  26691.0  29762.0  27852.0  24192.0  21238.0  18930.0   \n",
       "1   21034.0  23363.0  26609.0  29386.0  27930.0  24766.0  22365.0  20485.0   \n",
       "2   18561.0  21026.0  23947.0  26518.0  25289.0  22434.0  19875.0  18149.0   \n",
       "3   31532.0  35738.0  40365.0  44654.0  42280.0  37211.0  32353.0  29344.0   \n",
       "4   20987.0  23971.0  27304.0  30485.0  28590.0  24761.0  21550.0  19852.0   \n",
       "5   21965.0  24808.0  28029.0  30887.0  29513.0  26561.0  23805.0  21523.0   \n",
       "6   19323.0  22051.0  25505.0  29090.0  27302.0  23731.0  21006.0  19021.0   \n",
       "7   18175.0  20421.0  23114.0  25738.0  24367.0  21587.0  19368.0  17860.0   \n",
       "8   30961.0  34383.0  38431.0  41962.0  39765.0  36043.0  32820.0  30196.0   \n",
       "9   19483.0  22578.0  25550.0  28609.0  26687.0  23193.0  20118.0  18392.0   \n",
       "10  19591.0  22750.0  24976.0  28021.0  26349.0  22847.0  20312.0  18211.0   \n",
       "11  19836.0  22623.0  25682.0  28629.0  27083.0  23613.0  21873.0  20412.0   \n",
       "12  18238.0  19116.0  20386.0  21899.0  20836.0  19483.0  18487.0  17835.0   \n",
       "13  21314.0  23544.0  26628.0  29310.0  27667.0  23885.0  21451.0  20028.0   \n",
       "14  20979.0  22261.0  23413.0  24584.0  23368.0  21106.0  19666.0  19149.0   \n",
       "15  14544.0  16431.0  17559.0  18970.0  17713.0  15816.0  14128.0  13468.0   \n",
       "16  15617.0  16050.0  16432.0  17333.0  16927.0  15959.0  15283.0  14929.0   \n",
       "17  18432.0  19097.0  20033.0  21525.0  20690.0  19899.0  19175.0  18931.0   \n",
       "18  22777.0  23587.0  24107.0  25427.0  23950.0  22136.0  21166.0  20877.0   \n",
       "19  14797.0  15723.0  16877.0  18179.0  17717.0  16603.0  15427.0  15441.0   \n",
       "20  15994.0  16702.0  17633.0  18979.0  18163.0  17601.0  16545.0  16194.0   \n",
       "21  15410.0  17672.0  20196.0  22703.0  21518.0  18805.0  15991.0  14642.0   \n",
       "22   8875.0   9111.0   9041.0   9361.0   9011.0   8963.0   8162.0   8632.0   \n",
       "23  13997.0  15825.0  17777.0  19385.0  18557.0  16244.0  14417.0  13326.0   \n",
       "24  22707.0  25928.0  29252.0  32472.0  30798.0  26288.0  22969.0  21517.0   \n",
       "25   3873.0   4563.0   5460.0   6564.0   6082.0   4798.0   4075.0   3907.0   \n",
       "26  10566.0  12525.0  14495.0  16355.0  15786.0  13241.0  11500.0  10411.0   \n",
       "27  22841.0  25921.0  29665.0  32884.0  30914.0  27274.0  23841.0  22015.0   \n",
       "28   1024.0   1356.0   1575.0   1814.0   1749.0   1375.0   1149.0   1214.0   \n",
       "29    953.0    903.0    887.0    983.0   1029.0   1031.0   1012.0   1059.0   \n",
       "30  18143.0  20873.0  23931.0  27460.0  25497.0  21699.0  18924.0  17113.0   \n",
       "31   1949.0   2041.0   2423.0   2664.0   2699.0   2382.0   2120.0   1837.0   \n",
       "32  14668.0  16670.0  18333.0  20656.0  19702.0  17234.0  15529.0  14270.0   \n",
       "33   3370.0   3622.0   4396.0   4794.0   4727.0   4043.0   3614.0   3170.0   \n",
       "\n",
       "         8        9   ...       47       48       49       50       51  \\\n",
       "0   19374.0  20655.0  ...  16519.0  16002.0  15814.0  15203.0  14541.0   \n",
       "1   20490.0  21922.0  ...  15181.0  14601.0  14612.0  14562.0  13319.0   \n",
       "2   18391.0  19784.0  ...  19794.0  19445.0  19689.0  19297.0  18938.0   \n",
       "3   29455.0  31563.0  ...  20848.0  20133.0  20421.0  20397.0  19469.0   \n",
       "4   19727.0  21737.0  ...  19141.0  18560.0  18576.0  18300.0  17632.0   \n",
       "5   22018.0  23311.0  ...  16433.0  15467.0  16104.0  16161.0  14780.0   \n",
       "6   19256.0  20903.0  ...  15922.0  15521.0  15251.0  14704.0  14511.0   \n",
       "7   17766.0  18849.0  ...  14943.0  14303.0  13864.0  13131.0  12863.0   \n",
       "8   30277.0  32197.0  ...  23483.0  23109.0  24339.0  24279.0  23107.0   \n",
       "9   18863.0  20107.0  ...  17774.0  16951.0  16638.0  16004.0  15307.0   \n",
       "10  18451.0  20254.0  ...  19951.0  19164.0  18866.0  18698.0  17483.0   \n",
       "11  20512.0  21769.0  ...  20108.0  19057.0  18913.0  18438.0  17866.0   \n",
       "12  18757.0  20320.0  ...  32306.0  30436.0  29393.0  29139.0  28269.0   \n",
       "13  20860.0  22953.0  ...  27867.0  25615.0  24421.0  23278.0  22371.0   \n",
       "14  19699.0  21354.0  ...  27074.0  26446.0  26596.0  26661.0  26602.0   \n",
       "15  13805.0  15839.0  ...  20990.0  20252.0  20410.0  20215.0  20100.0   \n",
       "16  15582.0  17405.0  ...  29023.0  26929.0  25849.0  24772.0  24047.0   \n",
       "17  20013.0  21542.0  ...  35237.0  33319.0  32537.0  31194.0  30719.0   \n",
       "18  21750.0  23543.0  ...  29799.0  29986.0  30879.0  31817.0  31774.0   \n",
       "19  15883.0  17125.0  ...  26672.0  25032.0  24569.0  23213.0  22827.0   \n",
       "20  17290.0  18739.0  ...  31039.0  28838.0  27904.0  26674.0  25930.0   \n",
       "21  14675.0  15829.0  ...  24356.0  23723.0  23335.0  22861.0  22910.0   \n",
       "22   9677.0  11267.0  ...  18904.0  18238.0  17907.0  17964.0  17404.0   \n",
       "23  13861.0  15300.0  ...  16848.0  15912.0  15582.0  15045.0  14676.0   \n",
       "24  21369.0  23234.0  ...  17394.0  17416.0  17668.0  17572.0  16566.0   \n",
       "25   4501.0   5510.0  ...   9428.0   8325.0   7795.0   7203.0   6745.0   \n",
       "26  10681.0  11983.0  ...  11999.0  10983.0  10525.0   9947.0   9140.0   \n",
       "27  22020.0  23871.0  ...  20067.0  19646.0  20104.0  19478.0  18701.0   \n",
       "28   1357.0   1787.0  ...   4234.0   3695.0   3193.0   3009.0   2701.0   \n",
       "29   1283.0   1663.0  ...   3947.0   3427.0   3068.0   2940.0   2572.0   \n",
       "30  17433.0  19872.0  ...  17335.0  16726.0  17291.0  17426.0  17291.0   \n",
       "31   2082.0   2283.0  ...   5270.0   5104.0   4924.0   4489.0   4557.0   \n",
       "32  14854.0  16537.0  ...  17344.0  16307.0  15758.0  15283.0  14283.0   \n",
       "33   3590.0   4206.0  ...   7195.0   6929.0   6855.0   6771.0   6554.0   \n",
       "\n",
       "         52       53       54       55       56  \n",
       "0   13545.0  12880.0  12481.0  12399.0  12260.0  \n",
       "1   12302.0  11945.0  11600.0  11344.0  11326.0  \n",
       "2   18714.0  18293.0  18180.0  18305.0  18784.0  \n",
       "3   17869.0  17337.0  17278.0  16958.0  17601.0  \n",
       "4   16871.0  16464.0  15965.0  16166.0  16247.0  \n",
       "5   13227.0  12779.0  12249.0  12124.0  12144.0  \n",
       "6   13931.0  13598.0  13011.0  13052.0  13011.0  \n",
       "7   12224.0  11694.0  11260.0  11134.0  11149.0  \n",
       "8   21569.0  20699.0  20164.0  20582.0  21022.0  \n",
       "9   14385.0  13788.0  13720.0  13678.0  13981.0  \n",
       "10  16456.0  15756.0  15221.0  15517.0  15462.0  \n",
       "11  17055.0  16296.0  16244.0  16302.0  16353.0  \n",
       "12  27922.0  27609.0  27552.0  27227.0  28048.0  \n",
       "13  21367.0  21065.0  20685.0  21100.0  21392.0  \n",
       "14  26585.0  26742.0  27314.0  27612.0  29211.0  \n",
       "15  19438.0  19679.0  19592.0  19896.0  21175.0  \n",
       "16  23787.0  22998.0  22865.0  22479.0  22987.0  \n",
       "17  30229.0  29622.0  29617.0  29458.0  29946.0  \n",
       "18  31571.0  32378.0  33175.0  33830.0  36200.0  \n",
       "19  22348.0  22260.0  21973.0  21928.0  22308.0  \n",
       "20  25445.0  25143.0  24814.0  24733.0  24861.0  \n",
       "21  22498.0  22898.0  22705.0  22705.0  23963.0  \n",
       "22  17211.0  17346.0  17307.0  17575.0  18783.0  \n",
       "23  14404.0  13944.0  13411.0  13448.0  13304.0  \n",
       "24  15910.0  15149.0  15149.0  14981.0  15468.0  \n",
       "25   6374.0   6159.0   5749.0   5622.0   5524.0  \n",
       "26   8601.0   7765.0   7392.0   7279.0   7068.0  \n",
       "27  17873.0  17713.0  17297.0  17530.0  18171.0  \n",
       "28   2682.0   2391.0   2277.0   2186.0   2109.0  \n",
       "29   2388.0   2501.0   2314.0   2221.0   2104.0  \n",
       "30  17179.0  17394.0  17751.0  17814.0  19465.0  \n",
       "31   4442.0   4367.0   4261.0   4050.0   4066.0  \n",
       "32  13624.0  13012.0  12511.0  12322.0  12819.0  \n",
       "33   6649.0   6615.0   6489.0   6600.0   6396.0  \n",
       "\n",
       "[34 rows x 57 columns]"
      ]
     },
     "execution_count": 82,
     "metadata": {},
     "output_type": "execute_result"
    }
   ],
   "source": [
    "print(values.shape)\n",
    "values[:, b].shape\n",
    "x_selecta = pd.DataFrame(values[:, b])\n",
    "x_selecta"
   ]
  },
  {
   "cell_type": "code",
   "execution_count": 83,
   "metadata": {},
   "outputs": [
    {
     "name": "stdout",
     "output_type": "stream",
     "text": [
      "(27, 57) (27, 1)\n",
      "(7, 57) (7, 1)\n"
     ]
    }
   ],
   "source": [
    "X_train, X_test, y_train, y_test = train_test_split(x_selecta, y_df, test_size=0.2)\n",
    "print (X_train.shape, y_train.shape)\n",
    "print (X_test.shape, y_test.shape)\n",
    "\n",
    "#print(X_test)"
   ]
  },
  {
   "cell_type": "code",
   "execution_count": 85,
   "metadata": {},
   "outputs": [
    {
     "name": "stdout",
     "output_type": "stream",
     "text": [
      "(34, 20)\n",
      "[78.42 98.37 99.26 99.63 99.79 99.87 99.91 99.94 99.96 99.97 99.98 99.98\n",
      " 99.98 99.98 99.98 99.98 99.98 99.98 99.98 99.98]\n"
     ]
    }
   ],
   "source": [
    "n_components= 20\n",
    "\n",
    "# PCA\n",
    "\n",
    "X_std = StandardScaler().fit_transform(x_selecta.values)\n",
    "#print(X_std)\n",
    "\n",
    "pca = PCA(n_components= n_components)\n",
    "PC=pca.fit(X_std)\n",
    "\n",
    "principalComponents = pca.fit_transform(X_std)\n",
    "print(principalComponents.shape)\n",
    "#principalDf = pd.DataFrame(data = principalComponents, columns = ['principal component 1', 'principal component 2', 'principal component 3'])\n",
    "#print(principalDf)\n",
    "\n",
    "\n",
    "#print(pca.explained_variance_ratio_)\n",
    "print(np.cumsum(np.round(pca.explained_variance_ratio_, decimals=4)*100))\n",
    "#print(pca.singular_values_)"
   ]
  },
  {
   "cell_type": "code",
   "execution_count": 86,
   "metadata": {},
   "outputs": [
    {
     "name": "stdout",
     "output_type": "stream",
     "text": [
      "0.7459391993302442 -4.466700675366267\n",
      "0.5496986293915392 11.828026443358242\n"
     ]
    }
   ],
   "source": [
    "regr = linear_model.LinearRegression()\n",
    "# Fit\n",
    "regr.fit(principalComponents, y_df)\n",
    "# Calibration\n",
    "y_c = regr.predict(principalComponents)\n",
    "# Cross-validation\n",
    "y_cv = cross_val_predict(regr, principalComponents, y_df, cv=10)\n",
    "# Calculate scores for calibration and cross-validation\n",
    "score_c = r2_score(y_df, y_c)\n",
    "score_cv = r2_score(y_df, y_cv)\n",
    "# Calculate mean square error for calibration and cross validation\n",
    "mse_c = mean_squared_error(y_df, y_c)\n",
    "mse_cv = mean_squared_error(y_df, y_cv)\n",
    "\n",
    "print(score_c, score_cv)\n",
    "print(mse_c, mse_cv)"
   ]
  },
  {
   "cell_type": "code",
   "execution_count": null,
   "metadata": {},
   "outputs": [],
   "source": []
  },
  {
   "cell_type": "code",
   "execution_count": 87,
   "metadata": {},
   "outputs": [
    {
     "name": "stdout",
     "output_type": "stream",
     "text": [
      "(27, 57)\n",
      "(57,)\n",
      "27\n",
      "(27, 20)\n",
      "[79.98 98.63 99.39 99.74 99.86 99.91 99.94 99.96 99.97 99.98 99.98 99.98\n",
      " 99.98 99.98 99.98 99.98 99.98 99.98 99.98 99.98]\n"
     ]
    }
   ],
   "source": [
    "n_components=20\n",
    "\n",
    "x = X_train.values\n",
    "x_t = X_test.values\n",
    "print(x.shape)\n",
    "print(x[1].shape)\n",
    "print(len(x))\n",
    "\n",
    "\n",
    "# This has to be used later for regression, PCA is done on X only\n",
    "\"\"\"\n",
    "y_df = pd.read_csv('labels_aligned+.csv', sep = ',')\n",
    "concentration=y_df.values\n",
    "#print(concentration)\n",
    "multi_y = concentration[:,2:]\n",
    "#print (multi_y)\n",
    "print (multi_y.shape)\n",
    "multi_y= np.array(multi_y, dtype=np.float)\n",
    "y=np.around(multi_y, decimals=4)\n",
    "#print(y)\n",
    "\"\"\"\n",
    "\n",
    "# PCA\n",
    "\n",
    "X_std = StandardScaler().fit_transform(x)\n",
    "X_std_test = StandardScaler().fit_transform(x_t)\n",
    "#print(X_std)\n",
    "\n",
    "pca = PCA(n_components= n_components)\n",
    "PC=pca.fit(X_std)\n",
    "\n",
    "x_pc = pca.fit_transform(X_std)\n",
    "x_test1 = pca.transform(X_std_test)\n",
    "print(x_pc.shape)\n",
    "#principalDf = pd.DataFrame(data = principalComponents, columns = ['principal component 1', 'principal component 2', 'principal component 3'])\n",
    "#print(principalDf)\n",
    "\n",
    "\n",
    "#print(pca.explained_variance_ratio_)\n",
    "print(np.cumsum(np.round(pca.explained_variance_ratio_, decimals=4)*100))"
   ]
  },
  {
   "cell_type": "code",
   "execution_count": 88,
   "metadata": {},
   "outputs": [
    {
     "name": "stdout",
     "output_type": "stream",
     "text": [
      "R2_pred:  -49.252083823826965\n",
      "MSE:  41.1211776377645\n"
     ]
    }
   ],
   "source": [
    "regr = linear_model.LinearRegression()\n",
    "# Fit\n",
    "regr.fit(x_pc, y_train)\n",
    "# Calibration\n",
    "y_c = regr.predict(x_test1)\n",
    "# Cross-validation\n",
    "#y_cv = cross_val_predict(regr, principalComponents, y_df, cv=10)\n",
    "# Calculate scores for calibration and cross-validation\n",
    "score_c = r2_score(y_test, y_c)\n",
    "#score_cv = r2_score(y_df, y_cv)\n",
    "# Calculate mean square error for calibration and cross validation\n",
    "mse_c = mean_squared_error(y_test, y_c)\n",
    "#mse_cv = mean_squared_error(y_df, y_cv)\n",
    "\n",
    "print(\"R2_pred: \", score_c)\n",
    "print(\"MSE: \", mse_c)"
   ]
  },
  {
   "cell_type": "code",
   "execution_count": 91,
   "metadata": {},
   "outputs": [
    {
     "name": "stdout",
     "output_type": "stream",
     "text": [
      "100% completed\n",
      "Optimised number of PLS components:  10\n",
      "Wavelengths to be discarded  40\n",
      "Optimised MSEP  1.210981693093711\n",
      "\n"
     ]
    }
   ],
   "source": [
    "opt_Xc, ncomp, wav, sorted_ind = pls_variable_selection(x_selecta.values, y_df, 20)"
   ]
  },
  {
   "cell_type": "code",
   "execution_count": 96,
   "metadata": {},
   "outputs": [
    {
     "name": "stdout",
     "output_type": "stream",
     "text": [
      "(27, 17) (27, 1)\n",
      "(7, 17) (7, 1)\n",
      "42% completed\n",
      "Suggested number of components:  1\n",
      "\n"
     ]
    },
    {
     "data": {
      "image/png": "[encoded data removed]",
      "text/plain": [
       "<Figure size 432x288 with 1 Axes>"
      ]
     },
     "metadata": {},
     "output_type": "display_data"
    },
    {
     "name": "stdout",
     "output_type": "stream",
     "text": [
      "R2 calib: 0.279\n",
      "R2 CV: 0.193\n",
      "MSE calib: 1.397\n",
      "MSE CV: 1.562\n"
     ]
    }
   ],
   "source": [
    "X_train, X_test, y_train, y_test = train_test_split(opt_Xc, y_df, test_size=0.2)\n",
    "print (X_train.shape, y_train.shape)\n",
    "print (X_test.shape, y_test.shape)\n",
    "#print(X_test)\n",
    "\n",
    "optimise_pls_cv(X_train,y_train, 17, plot_components=True)"
   ]
  },
  {
   "cell_type": "code",
   "execution_count": 101,
   "metadata": {},
   "outputs": [
    {
     "name": "stdout",
     "output_type": "stream",
     "text": [
      "R2_pred: -0.11845205739324616\n",
      "R2_cv: -0.3706660189255846 \n",
      "\n",
      "[real, predictions]\n",
      "[[1.26 1.8872303936305617]\n",
      " [5.32 2.6087793427834196]\n",
      " [3.5 2.401293437100999]\n",
      " [1.1 4.47683648745723]\n",
      " [2.84 2.9032024892789554]\n",
      " [0.0 -0.5171549320447422]\n",
      " [3.3 2.2373528144289674]]\n"
     ]
    },
    {
     "data": {
      "image/png": "[encoded data removed]",
      "text/plain": [
       "<Figure size 432x288 with 1 Axes>"
      ]
     },
     "metadata": {
      "needs_background": "light"
     },
     "output_type": "display_data"
    }
   ],
   "source": [
    "# Define PLS object\n",
    "pls = PLSRegression(n_components=5)\n",
    "# Fit\n",
    "pls.fit(X_train, y_train)\n",
    "# Cross-validation\n",
    "y_pred = pls.predict(X_test)\n",
    "\n",
    "# Cross-validation\n",
    "y_cv = cross_val_predict(pls, X_train, y_train, cv=10)\n",
    "\n",
    "# Calculate scores for calibration and cross-validation\n",
    "score_pred = r2_score(y_test, y_pred)\n",
    "score_cv = r2_score(y_train, y_cv)\n",
    "\n",
    "print(\"R2_pred:\", score_pred)\n",
    "print(\"R2_cv:\",score_cv, \"\\n\")\n",
    "\n",
    "b=np.append(y_test, y_pred, axis=1)\n",
    "\n",
    "print(\"[real, predictions]\")\n",
    "print(b)\n",
    "\n",
    "plt.scatter(y_test, y_pred)\n",
    "plt.xlabel('True Values')\n",
    "plt.ylabel('Predictions')\n",
    "plt.grid(True)\n",
    "plt.show()"
   ]
  },
  {
   "cell_type": "code",
   "execution_count": null,
   "metadata": {},
   "outputs": [],
   "source": []
  },
  {
   "cell_type": "code",
   "execution_count": null,
   "metadata": {},
   "outputs": [],
   "source": []
  },
  {
   "cell_type": "code",
   "execution_count": null,
   "metadata": {},
   "outputs": [],
   "source": []
  },
  {
   "cell_type": "code",
   "execution_count": null,
   "metadata": {},
   "outputs": [],
   "source": []
  },
  {
   "cell_type": "code",
   "execution_count": null,
   "metadata": {},
   "outputs": [],
   "source": []
  },
  {
   "cell_type": "code",
   "execution_count": null,
   "metadata": {},
   "outputs": [],
   "source": []
  },
  {
   "cell_type": "markdown",
   "metadata": {},
   "source": [
    "# Principal Components Analysis"
   ]
  },
  {
   "cell_type": "code",
   "execution_count": 312,
   "metadata": {},
   "outputs": [
    {
     "name": "stdout",
     "output_type": "stream",
     "text": [
      "(34, 3648)\n",
      "(3648,)\n",
      "34\n",
      "(34, 20)\n",
      "[72.09 88.57 92.59 94.97 96.24 97.39 98.27 98.61 98.92 99.13 99.32 99.41\n",
      " 99.5  99.58 99.65 99.7  99.74 99.78 99.82 99.85]\n"
     ]
    }
   ],
   "source": [
    "n_components=20\n",
    "\n",
    "x_df = pd.read_csv('avg_intesities.csv', sep = ',')\n",
    "x = x_df.values\n",
    "print(x.shape)\n",
    "print(x[1].shape)\n",
    "print(len(x))\n",
    "\n",
    "# PCA\n",
    "\n",
    "X_std = StandardScaler().fit_transform(x)\n",
    "#print(X_std)\n",
    "\n",
    "pca = PCA(n_components= n_components)\n",
    "PC=pca.fit(X_std)\n",
    "\n",
    "principalComponents = pca.fit_transform(X_std)\n",
    "print(principalComponents.shape)\n",
    "#principalDf = pd.DataFrame(data = principalComponents, columns = ['principal component 1', 'principal component 2', 'principal component 3'])\n",
    "#print(principalDf)\n",
    "\n",
    "\n",
    "#print(pca.explained_variance_ratio_)\n",
    "print(np.cumsum(np.round(pca.explained_variance_ratio_, decimals=4)*100))\n",
    "#print(pca.singular_values_)"
   ]
  },
  {
   "cell_type": "code",
   "execution_count": 313,
   "metadata": {},
   "outputs": [
    {
     "name": "stdout",
     "output_type": "stream",
     "text": [
      "0.7462047565891495 -12.317452190447945\n",
      "0.5491240564512809 28.814304279833962\n"
     ]
    }
   ],
   "source": [
    "regr = linear_model.LinearRegression()\n",
    "# Fit\n",
    "regr.fit(principalComponents, y_df)\n",
    "# Calibration\n",
    "y_c = regr.predict(principalComponents)\n",
    "# Cross-validation\n",
    "y_cv = cross_val_predict(regr, principalComponents, y_df, cv=10)\n",
    "# Calculate scores for calibration and cross-validation\n",
    "score_c = r2_score(y_df, y_c)\n",
    "score_cv = r2_score(y_df, y_cv)\n",
    "# Calculate mean square error for calibration and cross validation\n",
    "mse_c = mean_squared_error(y_df, y_c)\n",
    "mse_cv = mean_squared_error(y_df, y_cv)\n",
    "\n",
    "print(score_c, score_cv)\n",
    "print(mse_c, mse_cv)"
   ]
  },
  {
   "cell_type": "code",
   "execution_count": 314,
   "metadata": {},
   "outputs": [
    {
     "name": "stdout",
     "output_type": "stream",
     "text": [
      "(27, 3648)\n",
      "(3648,)\n",
      "27\n",
      "(27, 20)\n",
      "[70.85 87.71 92.49 95.12 96.55 97.82 98.49 98.87 99.09 99.26 99.38 99.48\n",
      " 99.57 99.66 99.72 99.77 99.81 99.84 99.87 99.9 ]\n"
     ]
    }
   ],
   "source": [
    "n_components=20\n",
    "\n",
    "x = X_train.values\n",
    "x_t = X_test.values\n",
    "print(x.shape)\n",
    "print(x[1].shape)\n",
    "print(len(x))\n",
    "\n",
    "\n",
    "# This has to be used later for regression, PCA is done on X only\n",
    "\"\"\"\n",
    "y_df = pd.read_csv('labels_aligned+.csv', sep = ',')\n",
    "concentration=y_df.values\n",
    "#print(concentration)\n",
    "multi_y = concentration[:,2:]\n",
    "#print (multi_y)\n",
    "print (multi_y.shape)\n",
    "multi_y= np.array(multi_y, dtype=np.float)\n",
    "y=np.around(multi_y, decimals=4)\n",
    "#print(y)\n",
    "\"\"\"\n",
    "\n",
    "# PCA\n",
    "\n",
    "X_std = StandardScaler().fit_transform(x)\n",
    "X_std_test = StandardScaler().fit_transform(x_t)\n",
    "#print(X_std)\n",
    "\n",
    "pca = PCA(n_components= n_components)\n",
    "PC=pca.fit(X_std)\n",
    "\n",
    "x_pc = pca.fit_transform(X_std)\n",
    "x_test1 = pca.transform(X_std_test)\n",
    "print(x_pc.shape)\n",
    "#principalDf = pd.DataFrame(data = principalComponents, columns = ['principal component 1', 'principal component 2', 'principal component 3'])\n",
    "#print(principalDf)\n",
    "\n",
    "\n",
    "#print(pca.explained_variance_ratio_)\n",
    "print(np.cumsum(np.round(pca.explained_variance_ratio_, decimals=4)*100))"
   ]
  },
  {
   "cell_type": "markdown",
   "metadata": {},
   "source": [
    "#### Linear regression w/ PCA"
   ]
  },
  {
   "cell_type": "code",
   "execution_count": 315,
   "metadata": {
    "scrolled": true
   },
   "outputs": [
    {
     "name": "stdout",
     "output_type": "stream",
     "text": [
      "R2_pred:  -0.9511744232700496\n",
      "MSE:  2.643108657625036\n"
     ]
    }
   ],
   "source": [
    "regr = linear_model.LinearRegression()\n",
    "# Fit\n",
    "regr.fit(x_pc, y_train)\n",
    "# Calibration\n",
    "y_c = regr.predict(x_test1)\n",
    "# Cross-validation\n",
    "#y_cv = cross_val_predict(regr, principalComponents, y_df, cv=10)\n",
    "# Calculate scores for calibration and cross-validation\n",
    "score_c = r2_score(y_test, y_c)\n",
    "#score_cv = r2_score(y_df, y_cv)\n",
    "# Calculate mean square error for calibration and cross validation\n",
    "mse_c = mean_squared_error(y_test, y_c)\n",
    "#mse_cv = mean_squared_error(y_df, y_cv)\n",
    "\n",
    "print(\"R2_pred: \", score_c)\n",
    "print(\"MSE: \", mse_c)"
   ]
  },
  {
   "cell_type": "code",
   "execution_count": 316,
   "metadata": {},
   "outputs": [
    {
     "name": "stdout",
     "output_type": "stream",
     "text": [
      "[real, predictions]\n",
      "[[0.0 0.8558257240299387]\n",
      " [0.7 0.05285004131356219]\n",
      " [3.35 4.107982590100743]\n",
      " [1.21 2.7500325879579997]\n",
      " [2.0 1.1350385063992072]\n",
      " [3.3 1.0622417165211233]\n",
      " [1.72 4.6608436484922375]] \n",
      "\n"
     ]
    },
    {
     "data": {
      "image/png": "[encoded data removed]",
      "text/plain": [
       "<Figure size 432x288 with 1 Axes>"
      ]
     },
     "metadata": {
      "needs_background": "light"
     },
     "output_type": "display_data"
    }
   ],
   "source": [
    "b=np.append(y_test, y_c, axis=1)\n",
    "\n",
    "print(\"[real, predictions]\")\n",
    "print(b, \"\\n\")\n",
    "\n",
    "plt.scatter(y_test, y_c)\n",
    "plt.xlabel('True Values')\n",
    "plt.ylabel('Predictions')\n",
    "plt.grid(True)\n",
    "plt.show()"
   ]
  },
  {
   "cell_type": "markdown",
   "metadata": {},
   "source": [
    "#### PLS regression w/ PCA"
   ]
  },
  {
   "cell_type": "code",
   "execution_count": 317,
   "metadata": {},
   "outputs": [
    {
     "name": "stdout",
     "output_type": "stream",
     "text": [
      "50% completed\n",
      "Suggested number of components:  1\n",
      "\n"
     ]
    },
    {
     "data": {
      "image/png": "[encoded data removed]",
      "text/plain": [
       "<Figure size 432x288 with 1 Axes>"
      ]
     },
     "metadata": {},
     "output_type": "display_data"
    },
    {
     "name": "stdout",
     "output_type": "stream",
     "text": [
      "R2 calib: 0.780\n",
      "R2 CV: -0.267\n",
      "MSE calib: 0.518\n",
      "MSE CV: 2.978\n"
     ]
    }
   ],
   "source": [
    "optimise_pls_cv(x_pc, y_train, 20, plot_components=True) "
   ]
  },
  {
   "cell_type": "code",
   "execution_count": 319,
   "metadata": {},
   "outputs": [
    {
     "name": "stdout",
     "output_type": "stream",
     "text": [
      "R2_pred:  -0.9511747045331733\n",
      "MSE:  2.6431090386309513 \n",
      "\n",
      "[real, predictions]\n",
      "[[0.0 0.8558257937541576]\n",
      " [0.7 0.052849635087480085]\n",
      " [3.35 4.1079830355534135]\n",
      " [1.21 2.750032633970009]\n",
      " [2.0 1.1350385531015212]\n",
      " [3.3 1.062241477862988]\n",
      " [1.72 4.660843685485241]] \n",
      "\n"
     ]
    },
    {
     "data": {
      "image/png": "[encoded data removed]",
      "text/plain": [
       "<Figure size 432x288 with 1 Axes>"
      ]
     },
     "metadata": {
      "needs_background": "light"
     },
     "output_type": "display_data"
    }
   ],
   "source": [
    "pls = PLSRegression(n_components=10)\n",
    "# Fit\n",
    "pls.fit(x_pc, y_train)\n",
    "# Calibration\n",
    "y_c = pls.predict(x_test1)\n",
    "# Cross-validation\n",
    "#y_cv = cross_val_predict(regr, principalComponents, y_df, cv=10)\n",
    "# Calculate scores for calibration and cross-validation\n",
    "score_c = r2_score(y_test, y_c)\n",
    "#score_cv = r2_score(y_df, y_cv)\n",
    "# Calculate mean square error for calibration and cross validation\n",
    "mse_c = mean_squared_error(y_test, y_c)\n",
    "#mse_cv = mean_squared_error(y_df, y_cv)\n",
    "\n",
    "print(\"R2_pred: \", score_c)\n",
    "print(\"MSE: \", mse_c, \"\\n\")\n",
    "\n",
    "b=np.append(y_test, y_c, axis=1)\n",
    "\n",
    "print(\"[real, predictions]\")\n",
    "print(b, \"\\n\")\n",
    "\n",
    "plt.scatter(y_test, y_c)\n",
    "plt.xlabel('True Values')\n",
    "plt.ylabel('Predictions')\n",
    "plt.grid(True)\n",
    "plt.show()"
   ]
  },
  {
   "cell_type": "code",
   "execution_count": null,
   "metadata": {},
   "outputs": [],
   "source": []
  },
  {
   "cell_type": "markdown",
   "metadata": {},
   "source": [
    "# Linear Regression\n",
    "this is ordinary least square regression on the whole spectra"
   ]
  },
  {
   "cell_type": "code",
   "execution_count": 61,
   "metadata": {},
   "outputs": [],
   "source": [
    "from sklearn import linear_model\n",
    "\n",
    "# fit a model\n",
    "lm = linear_model.LinearRegression()\n",
    "model = lm.fit(X_train, y_train)\n",
    "predictions = lm.predict(X_test)"
   ]
  },
  {
   "cell_type": "code",
   "execution_count": 62,
   "metadata": {},
   "outputs": [
    {
     "name": "stdout",
     "output_type": "stream",
     "text": [
      "R^2:  -0.8840019691362262\n",
      "RMSE:  1.4271671463213786 \n",
      "\n",
      "[real, predictions]\n",
      "[[0.41 2.5302918670816825]\n",
      " [1.36 1.3837549842366572]\n",
      " [2.1 4.664824490427691]\n",
      " [3.5 2.2257470281698386]\n",
      " [3.35 2.7202853961878013]\n",
      " [2.0 1.069055140187697]\n",
      " [1.26 1.8042393101421288]] \n",
      "\n"
     ]
    },
    {
     "data": {
      "image/png": "[encoded data removed]",
      "text/plain": [
       "<Figure size 432x288 with 1 Axes>"
      ]
     },
     "metadata": {
      "needs_background": "light"
     },
     "output_type": "display_data"
    }
   ],
   "source": [
    "rmse = sqrt(mean_squared_error(y_test, predictions))\n",
    "r2 = r2_score(y_test, predictions)\n",
    "\n",
    "print(\"R^2: \", r2)\n",
    "print(\"RMSE: \", rmse, \"\\n\")\n",
    "\n",
    "b=np.append(y_test, predictions, axis=1)\n",
    "\n",
    "print(\"[real, predictions]\")\n",
    "print(b, \"\\n\")\n",
    "\n",
    "plt.scatter(y_test, predictions)\n",
    "plt.xlabel('True Values')\n",
    "plt.ylabel('Predictions')\n",
    "plt.grid(True)\n",
    "plt.show()"
   ]
  },
  {
   "cell_type": "markdown",
   "metadata": {},
   "source": [
    "# Partial Least Square Regression"
   ]
  },
  {
   "cell_type": "code",
   "execution_count": 322,
   "metadata": {},
   "outputs": [
    {
     "name": "stdout",
     "output_type": "stream",
     "text": [
      "(27, 3648) (27, 1)\n",
      "(7, 3648) (7, 1)\n"
     ]
    }
   ],
   "source": [
    "X_train, X_test, y_train, y_test = train_test_split(x_df, y_df, test_size=0.2)\n",
    "print (X_train.shape, y_train.shape)\n",
    "print (X_test.shape, y_test.shape)"
   ]
  },
  {
   "cell_type": "markdown",
   "metadata": {},
   "source": [
    "#### First search for optimal number of components on the whole dataset"
   ]
  },
  {
   "cell_type": "code",
   "execution_count": 323,
   "metadata": {},
   "outputs": [
    {
     "name": "stdout",
     "output_type": "stream",
     "text": [
      "100% completed\n",
      "Suggested number of components:  1\n",
      "\n"
     ]
    },
    {
     "data": {
      "image/png": "[encoded data removed]",
      "text/plain": [
       "<Figure size 432x288 with 1 Axes>"
      ]
     },
     "metadata": {},
     "output_type": "display_data"
    },
    {
     "name": "stdout",
     "output_type": "stream",
     "text": [
      "R2 calib: 0.321\n",
      "R2 CV: 0.134\n",
      "MSE calib: 1.469\n",
      "MSE CV: 1.874\n"
     ]
    }
   ],
   "source": [
    "optimise_pls_cv(x_df,y_df, 40, plot_components=True)"
   ]
  },
  {
   "cell_type": "code",
   "execution_count": 89,
   "metadata": {},
   "outputs": [
    {
     "name": "stdout",
     "output_type": "stream",
     "text": [
      "87% completed\n",
      "Suggested number of components:  1\n",
      "\n"
     ]
    },
    {
     "data": {
      "image/png": "[encoded data removed]",
      "text/plain": [
       "<Figure size 432x288 with 1 Axes>"
      ]
     },
     "metadata": {},
     "output_type": "display_data"
    },
    {
     "name": "stdout",
     "output_type": "stream",
     "text": [
      "R2 calib: 0.289\n",
      "R2 CV: 0.180\n",
      "MSE calib: 1.784\n",
      "MSE CV: 2.059\n"
     ]
    }
   ],
   "source": [
    "optimise_pls_cv(X_train,y_train, 35, plot_components=True)"
   ]
  },
  {
   "cell_type": "code",
   "execution_count": 90,
   "metadata": {},
   "outputs": [
    {
     "name": "stdout",
     "output_type": "stream",
     "text": [
      "R2_pred: 0.03777747155317124\n",
      "R2_cv: 0.17551273148265856 \n",
      "\n",
      "[real, predictions]\n",
      "[[2.8 1.9905211708522101]\n",
      " [0.41 1.9207387802123679]\n",
      " [2.1 2.3676266407639806]\n",
      " [3.3 2.001519119060513]\n",
      " [2.0 2.6628234784659854]\n",
      " [1.36 1.7789981301980495]\n",
      " [2.72 2.271074094580274]]\n"
     ]
    },
    {
     "data": {
      "image/png": "[encoded data removed]",
      "text/plain": [
       "<Figure size 432x288 with 1 Axes>"
      ]
     },
     "metadata": {
      "needs_background": "light"
     },
     "output_type": "display_data"
    }
   ],
   "source": [
    "# Define PLS object\n",
    "pls = PLSRegression(n_components=2)\n",
    "# Fit\n",
    "pls.fit(X_train, y_train)\n",
    "# Cross-validation\n",
    "y_pred = pls.predict(X_test)\n",
    "\n",
    "# Cross-validation\n",
    "y_cv = cross_val_predict(pls, X_train, y_train, cv=10)\n",
    "\n",
    "# Calculate scores for calibration and cross-validation\n",
    "score_pred = r2_score(y_test, y_pred)\n",
    "score_cv = r2_score(y_train, y_cv)\n",
    "\n",
    "print(\"R2_pred:\", score_pred)\n",
    "print(\"R2_cv:\",score_cv, \"\\n\")\n",
    "\n",
    "b=np.append(y_test, y_pred, axis=1)\n",
    "\n",
    "print(\"[real, predictions]\")\n",
    "print(b)\n",
    "\n",
    "plt.scatter(y_test, y_pred)\n",
    "plt.xlabel('True Values')\n",
    "plt.ylabel('Predictions')\n",
    "plt.grid(True)\n",
    "plt.show()"
   ]
  },
  {
   "cell_type": "code",
   "execution_count": 22,
   "metadata": {},
   "outputs": [],
   "source": [
    "def pls_variable_selection(X, y, max_comp):\n",
    "    \n",
    "    # Define MSE array to be populated\n",
    "    mse = np.zeros((max_comp,X.shape[1]))\n",
    "    # Loop over the number of PLS components\n",
    "    for i in range(max_comp):\n",
    "        \n",
    "        # Regression with specified number of components, using full spectrum\n",
    "        pls1 = PLSRegression(n_components=i+1)\n",
    "        pls1.fit(X, y)\n",
    "        \n",
    "        # Indices of sort spectra according to ascending absolute value of PLS coefficients\n",
    "        sorted_ind = np.argsort(np.abs(pls1.coef_[:,0]))\n",
    "        # Sort spectra accordingly \n",
    "        Xc = X[:,sorted_ind]\n",
    "        # Discard one wavelength at a time of the sorted spectra,\n",
    "        # regress, and calculate the MSE cross-validation\n",
    "        for j in range(Xc.shape[1]-(i+1)):\n",
    "            pls2 = PLSRegression(n_components=i+1)\n",
    "            pls2.fit(Xc[:, j:], y)\n",
    "            \n",
    "            y_cv = cross_val_predict(pls2, Xc[:, j:], y, cv=5)\n",
    "            mse[i,j] = mean_squared_error(y, y_cv)\n",
    "    \n",
    "        comp = 100*(i+1)/(max_comp)\n",
    "        stdout.write(\"\\r%d%% completed\" % comp)\n",
    "        stdout.flush()\n",
    "    stdout.write(\"\\n\")\n",
    "    # # Calculate and print the position of minimum in MSE\n",
    "    mseminx,mseminy = np.where(mse==np.min(mse[np.nonzero(mse)]))\n",
    "    print(\"Optimised number of PLS components: \", mseminx[0]+1)\n",
    "    print(\"Wavelengths to be discarded \",mseminy[0])\n",
    "    print('Optimised MSEP ', mse[mseminx,mseminy][0])\n",
    "    stdout.write(\"\\n\")\n",
    "    # plt.imshow(mse, interpolation=None)\n",
    "    # plt.show()\n",
    "    # Calculate PLS with optimal components and export values\n",
    "    pls = PLSRegression(n_components=mseminx[0]+1)\n",
    "    pls.fit(X, y)\n",
    "        \n",
    "    sorted_ind = np.argsort(np.abs(pls.coef_[:,0]))\n",
    "    Xc = X[:,sorted_ind]\n",
    "    return(Xc[:,mseminy[0]:],mseminx[0]+1,mseminy[0], sorted_ind)"
   ]
  },
  {
   "cell_type": "code",
   "execution_count": 329,
   "metadata": {},
   "outputs": [
    {
     "name": "stdout",
     "output_type": "stream",
     "text": [
      "100% completed\n",
      "Optimised number of PLS components:  9\n",
      "Wavelengths to be discarded  3387\n",
      "Optimised MSEP  1.067910796261743\n",
      "\n"
     ]
    }
   ],
   "source": [
    "opt_Xc, ncomp, wav, sorted_ind = pls_variable_selection(x_df.values, y_df, 20)"
   ]
  },
  {
   "cell_type": "code",
   "execution_count": 353,
   "metadata": {},
   "outputs": [
    {
     "name": "stdout",
     "output_type": "stream",
     "text": [
      "sorted indexes:  (3648,)\n",
      "wav:  3387\n",
      "9\n"
     ]
    }
   ],
   "source": [
    "print(\"sorted indexes: \", sorted_ind.shape)\n",
    "print(\"wav: \", wav)\n",
    "print(ncomp)"
   ]
  },
  {
   "cell_type": "code",
   "execution_count": 388,
   "metadata": {},
   "outputs": [
    {
     "name": "stdout",
     "output_type": "stream",
     "text": [
      "(27, 261) (27, 1)\n",
      "(7, 261) (7, 1)\n"
     ]
    }
   ],
   "source": [
    "X_train, X_test, y_train, y_test = train_test_split(opt_Xc, y_df, test_size=0.2)\n",
    "print (X_train.shape, y_train.shape)\n",
    "print (X_test.shape, y_test.shape)\n",
    "#print(X_test)"
   ]
  },
  {
   "cell_type": "code",
   "execution_count": 389,
   "metadata": {},
   "outputs": [
    {
     "name": "stdout",
     "output_type": "stream",
     "text": [
      "62% completed\n",
      "Suggested number of components:  1\n",
      "\n"
     ]
    },
    {
     "data": {
      "image/png": "[encoded data removed]",
      "text/plain": [
       "<Figure size 432x288 with 1 Axes>"
      ]
     },
     "metadata": {},
     "output_type": "display_data"
    },
    {
     "name": "stdout",
     "output_type": "stream",
     "text": [
      "R2 calib: 0.395\n",
      "R2 CV: 0.213\n",
      "MSE calib: 1.198\n",
      "MSE CV: 1.557\n"
     ]
    }
   ],
   "source": [
    "optimise_pls_cv(X_train,y_train, 25, plot_components=True)"
   ]
  },
  {
   "cell_type": "code",
   "execution_count": 400,
   "metadata": {
    "scrolled": false
   },
   "outputs": [
    {
     "name": "stdout",
     "output_type": "stream",
     "text": [
      "R2_pred:  0.7602639187188991\n",
      "R2_cv:  0.19901350615527735\n",
      "\n",
      "TEST\n",
      " [real, predictions]\n",
      "[[1.6 0.8662747108489837]\n",
      " [0.0 -0.08342676837436769]\n",
      " [5.82 4.004986635555064]\n",
      " [2.0 2.607029897270751]\n",
      " [1.99 1.8481800425670567]\n",
      " [1.21 1.9178824563563022]\n",
      " [2.86 2.7247964261783277]]\n",
      "\n"
     ]
    },
    {
     "data": {
      "image/png": "[encoded data removed]",
      "text/plain": [
       "<Figure size 432x288 with 1 Axes>"
      ]
     },
     "metadata": {
      "needs_background": "light"
     },
     "output_type": "display_data"
    }
   ],
   "source": [
    "# Define PLS object\n",
    "pls = PLSRegression(n_components=8)\n",
    "# Fit\n",
    "pls.fit(X_train, y_train)\n",
    "# Cross-validation\n",
    "y_pred = pls.predict(X_test)\n",
    "y_pred1 = pls.predict(X_train)\n",
    "\n",
    "# Cross-validation\n",
    "y_cv = cross_val_predict(pls, X_train, y_train, cv=10)\n",
    "\n",
    "# Calculate scores for calibration and cross-validation\n",
    "score_pred = r2_score(y_test, y_pred)\n",
    "score_cv = r2_score(y_train, y_cv)\n",
    "\n",
    "print(\"R2_pred: \", score_pred)\n",
    "print(\"R2_cv: \",score_cv)\n",
    "print(\"\")\n",
    "\n",
    "b=np.append(y_test, y_pred, axis=1)\n",
    "\n",
    "print(\"TEST\\n [real, predictions]\")\n",
    "print(b)\n",
    "print(\"\")\n",
    "\n",
    "c=np.append(y_train, y_pred1, axis=1)\n",
    "\n",
    "#print(\"TRAIN\\n [real, predictions]\")\n",
    "#print(c)\n",
    "\n",
    "plt.scatter(y_test, y_pred)\n",
    "plt.scatter(y_train, y_pred1)\n",
    "plt.xlabel('True Values')\n",
    "plt.ylabel('Predictions')\n",
    "plt.grid(True)\n",
    "plt.show()"
   ]
  },
  {
   "cell_type": "markdown",
   "metadata": {},
   "source": [
    "## Using Savgol filter"
   ]
  },
  {
   "cell_type": "code",
   "execution_count": 212,
   "metadata": {},
   "outputs": [
    {
     "name": "stdout",
     "output_type": "stream",
     "text": [
      "(27, 3648) (27, 1)\n",
      "(7, 3648) (7, 1)\n"
     ]
    }
   ],
   "source": [
    "X_train, X_test, y_train, y_test = train_test_split(x_df, y_df, test_size=0.2, random_state=4)\n",
    "print (X_train.shape, y_train.shape)\n",
    "print (X_test.shape, y_test.shape)\n",
    "#print(X_test)"
   ]
  },
  {
   "cell_type": "code",
   "execution_count": 113,
   "metadata": {},
   "outputs": [
    {
     "data": {
      "image/png": "[encoded data removed]",
      "text/plain": [
       "<Figure size 576x324 with 1 Axes>"
      ]
     },
     "metadata": {
      "needs_background": "light"
     },
     "output_type": "display_data"
    },
    {
     "name": "stdout",
     "output_type": "stream",
     "text": [
      "100% completed\n",
      "Suggested number of components:  4\n",
      "\n"
     ]
    },
    {
     "data": {
      "image/png": "[encoded data removed]",
      "text/plain": [
       "<Figure size 432x288 with 1 Axes>"
      ]
     },
     "metadata": {},
     "output_type": "display_data"
    },
    {
     "name": "stdout",
     "output_type": "stream",
     "text": [
      "R2 calib: 0.678\n",
      "R2 CV: 0.182\n",
      "MSE calib: 8.880\n",
      "MSE CV: 22.547\n"
     ]
    }
   ],
   "source": [
    "# Calculate second derivative\n",
    "X2 = savgol_filter(x_df, 23, polyorder = 2,deriv=0) # Is this useful with LIBS spectra???\n",
    "# Plot second derivative\n",
    "plt.figure(figsize=(8,4.5))\n",
    "with plt.style.context(('ggplot')):\n",
    "    plt.plot(range(len(X2.T)), X2.T)\n",
    "    plt.xlabel('Wavelength (nm)')\n",
    "    plt.ylabel('D2 Intensity')\n",
    "    plt.show()\n",
    "    \n",
    "    \n",
    "#X2_1 = msc(X2)[0]\n",
    "    \n",
    "optimise_pls_cv(X2, y_df, 40, plot_components=True)"
   ]
  },
  {
   "cell_type": "code",
   "execution_count": 401,
   "metadata": {},
   "outputs": [
    {
     "name": "stdout",
     "output_type": "stream",
     "text": [
      "100% completed\n",
      "Suggested number of components:  1\n",
      "\n"
     ]
    },
    {
     "data": {
      "image/png": "[encoded data removed]",
      "text/plain": [
       "<Figure size 432x288 with 1 Axes>"
      ]
     },
     "metadata": {},
     "output_type": "display_data"
    },
    {
     "name": "stdout",
     "output_type": "stream",
     "text": [
      "R2 calib: 0.448\n",
      "R2 CV: 0.169\n",
      "MSE calib: 1.092\n",
      "MSE CV: 1.644\n"
     ]
    }
   ],
   "source": [
    "X2_train = savgol_filter(X_train, 17, polyorder = 4,deriv=0) \n",
    "X2_test = savgol_filter(X_test, 17, polyorder = 4,deriv=0) \n",
    "\n",
    "X2_train = savgol_filter(X_train, 17, polyorder = 4,deriv=1) \n",
    "X2_test = savgol_filter(X_test, 17, polyorder = 4,deriv=1) \n",
    "\n",
    "X2_train = savgol_filter(X_train, 17, polyorder = 8,deriv=2) \n",
    "X2_test = savgol_filter(X_test, 17, polyorder = 8,deriv=2) \n",
    "\n",
    "\n",
    "optimise_pls_cv(X2_train, y_train, 40, plot_components=True)"
   ]
  },
  {
   "cell_type": "code",
   "execution_count": 412,
   "metadata": {},
   "outputs": [
    {
     "name": "stdout",
     "output_type": "stream",
     "text": [
      "R2_pred:  0.5762863814088144\n",
      "R2_cv:  -0.23286987488763145\n",
      "\n",
      "[real, predictions]\n",
      "[[1.6 2.5763578464001204]\n",
      " [0.0 0.12414627501779818]\n",
      " [5.82 3.2162343868766703]\n",
      " [2.0 1.611788777090525]\n",
      " [1.99 1.9860380297744138]\n",
      " [1.21 1.9013823977303057]\n",
      " [2.86 2.9779248463704744]]\n"
     ]
    },
    {
     "data": {
      "image/png": "[encoded data removed]",
      "text/plain": [
       "<Figure size 432x288 with 1 Axes>"
      ]
     },
     "metadata": {
      "needs_background": "light"
     },
     "output_type": "display_data"
    }
   ],
   "source": [
    "# Define PLS object\n",
    "pls = PLSRegression(n_components=8)\n",
    "# Fit\n",
    "pls.fit(X2_train, y_train)\n",
    "# Cross-validation\n",
    "y_pred = pls.predict(X2_test)\n",
    "\n",
    "# Cross-validation\n",
    "y_cv = cross_val_predict(pls, X2_train, y_train, cv=10)\n",
    "\n",
    "# Calculate scores for calibration and cross-validation\n",
    "score_pred = r2_score(y_test, y_pred)\n",
    "score_cv = r2_score(y_train, y_cv)\n",
    "\n",
    "print(\"R2_pred: \", score_pred)\n",
    "print(\"R2_cv: \",score_cv)\n",
    "print(\"\")\n",
    "\n",
    "b=np.append(y_test, y_pred, axis=1)\n",
    "\n",
    "print(\"[real, predictions]\")\n",
    "print(b)\n",
    "\n",
    "plt.scatter(y_test, y_pred)\n",
    "plt.xlabel('True Values')\n",
    "plt.ylabel('Predictions')\n",
    "plt.grid(True)\n",
    "plt.show()"
   ]
  },
  {
   "cell_type": "markdown",
   "metadata": {},
   "source": [
    "## Using Normalization"
   ]
  },
  {
   "cell_type": "code",
   "execution_count": 413,
   "metadata": {},
   "outputs": [
    {
     "name": "stdout",
     "output_type": "stream",
     "text": [
      "(7, 261)\n"
     ]
    }
   ],
   "source": [
    "#use this if you want to try normalization on the optimized dataset (opt_Xc)\n",
    "#X_train, X_test, y_train, y_test = train_test_split(opt_Xc, y_df, test_size=0.2) \n",
    "\n",
    "\n",
    "Xn_train = normalize(X_train, axis=1)\n",
    "Xn_test = normalize(X_test, axis=1)\n",
    "\n",
    "print(Xn_test.shape)\n",
    "#plt.plot(wl, X_test.T)"
   ]
  },
  {
   "cell_type": "code",
   "execution_count": 414,
   "metadata": {},
   "outputs": [
    {
     "name": "stdout",
     "output_type": "stream",
     "text": [
      "100% completed\n",
      "Suggested number of components:  6\n",
      "\n"
     ]
    },
    {
     "data": {
      "image/png": "[encoded data removed]",
      "text/plain": [
       "<Figure size 432x288 with 1 Axes>"
      ]
     },
     "metadata": {},
     "output_type": "display_data"
    },
    {
     "name": "stdout",
     "output_type": "stream",
     "text": [
      "R2 calib: 0.837\n",
      "R2 CV: 0.222\n",
      "MSE calib: 0.323\n",
      "MSE CV: 1.541\n"
     ]
    }
   ],
   "source": [
    "optimise_pls_cv(Xn_train, y_train, 40, plot_components=True)"
   ]
  },
  {
   "cell_type": "code",
   "execution_count": 423,
   "metadata": {},
   "outputs": [
    {
     "name": "stdout",
     "output_type": "stream",
     "text": [
      "R2_pred:  0.746303123754157\n",
      "R2_cv:  0.12812487797271732\n",
      "\n",
      "[real, predictions]\n",
      "[[1.6 1.337319572982875]\n",
      " [0.0 -1.0572710481473233]\n",
      " [5.82 4.042511781674474]\n",
      " [2.0 2.031979636374199]\n",
      " [1.99 2.172305786212815]\n",
      " [1.21 1.9902214107373024]\n",
      " [2.86 2.67361133016861]]\n"
     ]
    },
    {
     "data": {
      "image/png": "[encoded data removed]",
      "text/plain": [
       "<Figure size 432x288 with 1 Axes>"
      ]
     },
     "metadata": {
      "needs_background": "light"
     },
     "output_type": "display_data"
    }
   ],
   "source": [
    "# Define PLS object\n",
    "pls = PLSRegression(n_components=8)\n",
    "# Fit\n",
    "pls.fit(Xn_train, y_train)\n",
    "# Cross-validation\n",
    "y_pred = pls.predict(Xn_test)\n",
    "\n",
    "# Cross-validation\n",
    "y_cv = cross_val_predict(pls, Xn_train, y_train, cv=10)\n",
    "\n",
    "# Calculate scores for calibration and cross-validation\n",
    "score_pred = r2_score(y_test, y_pred)\n",
    "score_cv = r2_score(y_train, y_cv)\n",
    "\n",
    "print(\"R2_pred: \", score_pred)\n",
    "print(\"R2_cv: \",score_cv)\n",
    "print(\"\")\n",
    "\n",
    "b=np.append(y_test, y_pred, axis=1)\n",
    "\n",
    "print(\"[real, predictions]\")\n",
    "print(b)\n",
    "\n",
    "plt.scatter(y_test, y_pred)\n",
    "plt.xlabel('True Values')\n",
    "plt.ylabel('Predictions')\n",
    "plt.grid(True)\n",
    "plt.show()"
   ]
  },
  {
   "cell_type": "code",
   "execution_count": null,
   "metadata": {},
   "outputs": [],
   "source": []
  },
  {
   "cell_type": "code",
   "execution_count": null,
   "metadata": {},
   "outputs": [],
   "source": []
  },
  {
   "cell_type": "code",
   "execution_count": null,
   "metadata": {},
   "outputs": [],
   "source": []
  },
  {
   "cell_type": "code",
   "execution_count": null,
   "metadata": {},
   "outputs": [],
   "source": []
  },
  {
   "cell_type": "code",
   "execution_count": null,
   "metadata": {},
   "outputs": [],
   "source": []
  },
  {
   "cell_type": "code",
   "execution_count": null,
   "metadata": {},
   "outputs": [],
   "source": []
  },
  {
   "cell_type": "code",
   "execution_count": null,
   "metadata": {},
   "outputs": [],
   "source": []
  },
  {
   "cell_type": "code",
   "execution_count": null,
   "metadata": {},
   "outputs": [],
   "source": []
  },
  {
   "cell_type": "markdown",
   "metadata": {},
   "source": [
    "## Elastic Net"
   ]
  },
  {
   "cell_type": "code",
   "execution_count": 221,
   "metadata": {},
   "outputs": [],
   "source": [
    "from sklearn.linear_model import ElasticNet,ElasticNetCV"
   ]
  },
  {
   "cell_type": "code",
   "execution_count": 222,
   "metadata": {},
   "outputs": [],
   "source": [
    "alphas = [0.0001, 0.001, 0.01, 0.1, 0.3, 0.5, 0.7, 1]"
   ]
  },
  {
   "cell_type": "code",
   "execution_count": 424,
   "metadata": {},
   "outputs": [
    {
     "name": "stdout",
     "output_type": "stream",
     "text": [
      "Alpha:0.0001, R2:1.00, MSE:7.55, RMSE:2.75\n",
      "Alpha:0.0010, R2:1.00, MSE:7.55, RMSE:2.75\n",
      "Alpha:0.0100, R2:1.00, MSE:7.55, RMSE:2.75\n",
      "Alpha:0.1000, R2:1.00, MSE:7.73, RMSE:2.78\n",
      "Alpha:0.3000, R2:1.00, MSE:7.89, RMSE:2.81\n",
      "Alpha:0.5000, R2:1.00, MSE:7.98, RMSE:2.82\n",
      "Alpha:0.7000, R2:1.00, MSE:8.09, RMSE:2.84\n",
      "Alpha:1.0000, R2:1.00, MSE:7.72, RMSE:2.78\n"
     ]
    }
   ],
   "source": [
    "for a in alphas:\n",
    "    model = ElasticNet(alpha=a).fit(X_train,y_train)   \n",
    "    score = model.score(X_train, y_train)\n",
    "    pred_y = model.predict(X_test)\n",
    "    mse = mean_squared_error(y_test, pred_y)   \n",
    "    print(\"Alpha:{0:.4f}, R2:{1:.2f}, MSE:{2:.2f}, RMSE:{3:.2f}\".format(a, score, mse, np.sqrt(mse)))"
   ]
  },
  {
   "cell_type": "code",
   "execution_count": 429,
   "metadata": {
    "scrolled": true
   },
   "outputs": [
    {
     "name": "stdout",
     "output_type": "stream",
     "text": [
      "Train score:  0.9999952526075552\n",
      "RMSE:  2.748305990646831\n",
      "R^2:  -1.669875165687063\n"
     ]
    }
   ],
   "source": [
    "model = ElasticNet(alpha=0.001).fit(X_train,y_train)   \n",
    "score = model.score(X_train, y_train)\n",
    "print(\"Train score: \", score)\n",
    "pred_y = model.predict(X_test)\n",
    "\n",
    "\n",
    "rmse = sqrt(mean_squared_error(y_test, pred_y))\n",
    "r2 = r2_score(y_test, pred_y)\n",
    "print(\"RMSE: \", rmse)\n",
    "print(\"R^2: \", r2)"
   ]
  },
  {
   "cell_type": "code",
   "execution_count": 430,
   "metadata": {},
   "outputs": [
    {
     "data": {
      "image/png": "[encoded data removed]",
      "text/plain": [
       "<Figure size 432x288 with 1 Axes>"
      ]
     },
     "metadata": {
      "needs_background": "light"
     },
     "output_type": "display_data"
    }
   ],
   "source": [
    "plt.scatter(y_test, y_pred)\n",
    "plt.xlabel('True Values')\n",
    "plt.ylabel('Predictions')\n",
    "plt.grid(True)\n",
    "plt.show()"
   ]
  },
  {
   "cell_type": "code",
   "execution_count": null,
   "metadata": {},
   "outputs": [],
   "source": []
  },
  {
   "cell_type": "code",
   "execution_count": null,
   "metadata": {},
   "outputs": [],
   "source": []
  },
  {
   "cell_type": "code",
   "execution_count": null,
   "metadata": {},
   "outputs": [],
   "source": []
  },
  {
   "cell_type": "markdown",
   "metadata": {},
   "source": [
    "# Random Forest"
   ]
  },
  {
   "cell_type": "code",
   "execution_count": 66,
   "metadata": {},
   "outputs": [
    {
     "name": "stdout",
     "output_type": "stream",
     "text": [
      "(7,)\n",
      "(27,)\n"
     ]
    }
   ],
   "source": [
    "y_test=np.ravel(y_test)\n",
    "print(y_test.shape)\n",
    "y_train=np.ravel(y_train)\n",
    "print(y_train.shape)"
   ]
  },
  {
   "cell_type": "code",
   "execution_count": 67,
   "metadata": {},
   "outputs": [],
   "source": [
    "# Import the model we are using\n",
    "from sklearn.ensemble import RandomForestRegressor\n",
    "# Instantiate model with 1000 decision trees\n",
    "rf = RandomForestRegressor(n_estimators = 150, random_state = 69)\n",
    "# Train the model on training data\n",
    "rf.fit(X_train, y_train);"
   ]
  },
  {
   "cell_type": "code",
   "execution_count": 68,
   "metadata": {},
   "outputs": [
    {
     "name": "stdout",
     "output_type": "stream",
     "text": [
      "Mean Absolute Error: 0.71\n"
     ]
    }
   ],
   "source": [
    "# Use the forest's predict method on the test data\n",
    "predictions = rf.predict(X_test)\n",
    "# Calculate the absolute errors\n",
    "errors = abs(predictions - y_test)\n",
    "# Print out the mean absolute error (mae)\n",
    "print('Mean Absolute Error:', round(np.mean(errors), 2))"
   ]
  },
  {
   "cell_type": "code",
   "execution_count": 69,
   "metadata": {},
   "outputs": [
    {
     "name": "stdout",
     "output_type": "stream",
     "text": [
      "R^2:  0.3877622372987447\n",
      "RMSE:  0.8135686778943697\n"
     ]
    }
   ],
   "source": [
    "rmse = sqrt(mean_squared_error(y_test, predictions))\n",
    "r2 = r2_score(y_test, predictions)\n",
    "\n",
    "print(\"R^2: \", r2)\n",
    "print(\"RMSE: \", rmse)"
   ]
  },
  {
   "cell_type": "code",
   "execution_count": 70,
   "metadata": {},
   "outputs": [
    {
     "name": "stdout",
     "output_type": "stream",
     "text": [
      "(7, 1)\n",
      "<class 'numpy.ndarray'>\n",
      "(7, 1)\n",
      "<class 'numpy.ndarray'>\n"
     ]
    }
   ],
   "source": [
    "y_test= y_test.reshape((len(y_test), 1))\n",
    "print(y_test.shape)\n",
    "print(type(y_test))\n",
    "predictions=predictions.reshape((len(y_test), 1))\n",
    "print(predictions.shape)\n",
    "print(type(y_test))\n",
    "#print((y_test, predictions))"
   ]
  },
  {
   "cell_type": "code",
   "execution_count": 71,
   "metadata": {},
   "outputs": [
    {
     "name": "stdout",
     "output_type": "stream",
     "text": [
      "[real, predictions]\n",
      "[[0.41 1.6207333333333318]\n",
      " [1.36 1.8407333333333311]\n",
      " [2.1 1.5204000000000002]\n",
      " [3.5 2.2115333333333367]\n",
      " [3.35 3.8558666666666688]\n",
      " [2.0 2.81946666666667]\n",
      " [1.26 1.1470000000000002]]\n"
     ]
    }
   ],
   "source": [
    "b=np.append(y_test, predictions, axis=1)\n",
    "\n",
    "print(\"[real, predictions]\")\n",
    "print(b)"
   ]
  },
  {
   "cell_type": "code",
   "execution_count": 72,
   "metadata": {},
   "outputs": [
    {
     "data": {
      "text/plain": [
       "Text(0, 0.5, 'Predictions')"
      ]
     },
     "execution_count": 72,
     "metadata": {},
     "output_type": "execute_result"
    },
    {
     "data": {
      "image/png": "[encoded data removed]",
      "text/plain": [
       "<Figure size 432x288 with 1 Axes>"
      ]
     },
     "metadata": {
      "needs_background": "light"
     },
     "output_type": "display_data"
    }
   ],
   "source": [
    "plt.scatter(y_test, predictions)\n",
    "plt.xlabel('True Values')\n",
    "plt.ylabel('Predictions')"
   ]
  },
  {
   "cell_type": "markdown",
   "metadata": {},
   "source": [
    "#### This is a trial with PC as input "
   ]
  },
  {
   "cell_type": "code",
   "execution_count": 438,
   "metadata": {},
   "outputs": [
    {
     "name": "stdout",
     "output_type": "stream",
     "text": [
      "R2:  -0.13304307573634944\n",
      "MSE:  3.2054251079142846\n"
     ]
    }
   ],
   "source": [
    "from sklearn.ensemble import RandomForestRegressor\n",
    "# Instantiate model with 1000 decision trees\n",
    "rf = RandomForestRegressor(n_estimators = 2000, max_depth=30, random_state = 42)\n",
    "# Train the model on training data\n",
    "rf.fit(x_pc, y_train)\n",
    "# Calibration\n",
    "y_p = rf.predict(x_test1)\n",
    "# Cross-validation\n",
    "#y_cv = cross_val_predict(regr, principalComponents, y_df, cv=10)\n",
    "# Calculate scores for calibration and cross-validation\n",
    "score_c = r2_score(y_test, y_p)\n",
    "#score_cv = r2_score(y_df, y_cv)\n",
    "# Calculate mean square error for calibration and cross validation\n",
    "mse_c = mean_squared_error(y_test, y_p)\n",
    "#mse_cv = mean_squared_error(y_df, y_cv)\n",
    "\n",
    "print(\"R2: \", score_c)\n",
    "print(\"MSE: \", mse_c)"
   ]
  },
  {
   "cell_type": "code",
   "execution_count": null,
   "metadata": {},
   "outputs": [],
   "source": []
  },
  {
   "cell_type": "code",
   "execution_count": null,
   "metadata": {},
   "outputs": [],
   "source": []
  },
  {
   "cell_type": "code",
   "execution_count": null,
   "metadata": {},
   "outputs": [],
   "source": []
  },
  {
   "cell_type": "code",
   "execution_count": null,
   "metadata": {},
   "outputs": [],
   "source": []
  },
  {
   "cell_type": "code",
   "execution_count": null,
   "metadata": {},
   "outputs": [],
   "source": []
  },
  {
   "cell_type": "markdown",
   "metadata": {},
   "source": [
    "# MultiOutput Random Forest"
   ]
  },
  {
   "cell_type": "code",
   "execution_count": 47,
   "metadata": {},
   "outputs": [
    {
     "name": "stdout",
     "output_type": "stream",
     "text": [
      "do you want to continue? \n"
     ]
    }
   ],
   "source": [
    "bau = input(\"do you want to continue? \")"
   ]
  },
  {
   "cell_type": "code",
   "execution_count": 48,
   "metadata": {},
   "outputs": [
    {
     "name": "stdout",
     "output_type": "stream",
     "text": [
      "<class 'numpy.ndarray'>\n",
      "<class 'pandas.core.frame.DataFrame'>\n"
     ]
    },
    {
     "data": {
      "text/html": [
       "<div>\n",
       "<style scoped>\n",
       "    .dataframe tbody tr th:only-of-type {\n",
       "        vertical-align: middle;\n",
       "    }\n",
       "\n",
       "    .dataframe tbody tr th {\n",
       "        vertical-align: top;\n",
       "    }\n",
       "\n",
       "    .dataframe thead th {\n",
       "        text-align: right;\n",
       "    }\n",
       "</style>\n",
       "<table border=\"1\" class=\"dataframe\">\n",
       "  <thead>\n",
       "    <tr style=\"text-align: right;\">\n",
       "      <th></th>\n",
       "      <th>0</th>\n",
       "      <th>1</th>\n",
       "      <th>2</th>\n",
       "      <th>3</th>\n",
       "      <th>4</th>\n",
       "      <th>5</th>\n",
       "      <th>6</th>\n",
       "      <th>7</th>\n",
       "      <th>8</th>\n",
       "      <th>9</th>\n",
       "      <th>10</th>\n",
       "    </tr>\n",
       "  </thead>\n",
       "  <tbody>\n",
       "    <tr>\n",
       "      <th>0</th>\n",
       "      <td>37.8</td>\n",
       "      <td>0.18</td>\n",
       "      <td>25</td>\n",
       "      <td>9.61</td>\n",
       "      <td>13.2</td>\n",
       "      <td>18.3</td>\n",
       "      <td>1.99</td>\n",
       "      <td>0.2</td>\n",
       "      <td>0.23</td>\n",
       "      <td>0.18</td>\n",
       "      <td>1.03</td>\n",
       "    </tr>\n",
       "    <tr>\n",
       "      <th>1</th>\n",
       "      <td>44.5</td>\n",
       "      <td>0.22</td>\n",
       "      <td>18</td>\n",
       "      <td>5.04</td>\n",
       "      <td>14.2</td>\n",
       "      <td>18.9</td>\n",
       "      <td>2.1</td>\n",
       "      <td>0.28</td>\n",
       "      <td>0.26</td>\n",
       "      <td>0.06</td>\n",
       "      <td>1.07</td>\n",
       "    </tr>\n",
       "    <tr>\n",
       "      <th>2</th>\n",
       "      <td>38.5</td>\n",
       "      <td>0.22</td>\n",
       "      <td>21.1</td>\n",
       "      <td>6.14</td>\n",
       "      <td>10.6</td>\n",
       "      <td>20.2</td>\n",
       "      <td>5.82</td>\n",
       "      <td>0.61</td>\n",
       "      <td>0.4</td>\n",
       "      <td>0.14</td>\n",
       "      <td>0.86</td>\n",
       "    </tr>\n",
       "    <tr>\n",
       "      <th>3</th>\n",
       "      <td>38.4</td>\n",
       "      <td>0.04</td>\n",
       "      <td>15.5</td>\n",
       "      <td>4.07</td>\n",
       "      <td>12.8</td>\n",
       "      <td>26.7</td>\n",
       "      <td>3.35</td>\n",
       "      <td>0.52</td>\n",
       "      <td>0.31</td>\n",
       "      <td>0.08</td>\n",
       "      <td>1.07</td>\n",
       "    </tr>\n",
       "    <tr>\n",
       "      <th>4</th>\n",
       "      <td>43.2</td>\n",
       "      <td>0.18</td>\n",
       "      <td>17.1</td>\n",
       "      <td>4.14</td>\n",
       "      <td>14.8</td>\n",
       "      <td>21.7</td>\n",
       "      <td>1.72</td>\n",
       "      <td>0.2</td>\n",
       "      <td>0.29</td>\n",
       "      <td>0.18</td>\n",
       "      <td>1.07</td>\n",
       "    </tr>\n",
       "    <tr>\n",
       "      <th>5</th>\n",
       "      <td>45.3</td>\n",
       "      <td>0.23</td>\n",
       "      <td>15.9</td>\n",
       "      <td>4.34</td>\n",
       "      <td>16.5</td>\n",
       "      <td>18.9</td>\n",
       "      <td>1.29</td>\n",
       "      <td>0.1</td>\n",
       "      <td>0.3</td>\n",
       "      <td>0.11</td>\n",
       "      <td>1.1</td>\n",
       "    </tr>\n",
       "    <tr>\n",
       "      <th>6</th>\n",
       "      <td>46.1</td>\n",
       "      <td>0.25</td>\n",
       "      <td>14.3</td>\n",
       "      <td>4.12</td>\n",
       "      <td>16.2</td>\n",
       "      <td>19</td>\n",
       "      <td>1.21</td>\n",
       "      <td>0.09</td>\n",
       "      <td>0.27</td>\n",
       "      <td>0.06</td>\n",
       "      <td>1.08</td>\n",
       "    </tr>\n",
       "    <tr>\n",
       "      <th>7</th>\n",
       "      <td>45.1</td>\n",
       "      <td>0.19</td>\n",
       "      <td>13</td>\n",
       "      <td>4.05</td>\n",
       "      <td>16.1</td>\n",
       "      <td>21</td>\n",
       "      <td>1.26</td>\n",
       "      <td>0.1</td>\n",
       "      <td>0.28</td>\n",
       "      <td>0.06</td>\n",
       "      <td>1.09</td>\n",
       "    </tr>\n",
       "    <tr>\n",
       "      <th>8</th>\n",
       "      <td>32.8</td>\n",
       "      <td>0.01</td>\n",
       "      <td>10.6</td>\n",
       "      <td>7.3</td>\n",
       "      <td>14.3</td>\n",
       "      <td>33.2</td>\n",
       "      <td>2.75</td>\n",
       "      <td>0.42</td>\n",
       "      <td>0.32</td>\n",
       "      <td>0.09</td>\n",
       "      <td>1.12</td>\n",
       "    </tr>\n",
       "    <tr>\n",
       "      <th>9</th>\n",
       "      <td>42.4</td>\n",
       "      <td>0.24</td>\n",
       "      <td>19.3</td>\n",
       "      <td>6.5</td>\n",
       "      <td>14.7</td>\n",
       "      <td>17.4</td>\n",
       "      <td>2.72</td>\n",
       "      <td>0.31</td>\n",
       "      <td>0.28</td>\n",
       "      <td>0.09</td>\n",
       "      <td>1.06</td>\n",
       "    </tr>\n",
       "    <tr>\n",
       "      <th>10</th>\n",
       "      <td>38.4</td>\n",
       "      <td>0.04</td>\n",
       "      <td>11.2</td>\n",
       "      <td>5.02</td>\n",
       "      <td>14</td>\n",
       "      <td>26.1</td>\n",
       "      <td>2.84</td>\n",
       "      <td>2.11</td>\n",
       "      <td>0.34</td>\n",
       "      <td>0.09</td>\n",
       "      <td>0.91</td>\n",
       "    </tr>\n",
       "    <tr>\n",
       "      <th>11</th>\n",
       "      <td>36.4</td>\n",
       "      <td>0.01</td>\n",
       "      <td>17.4</td>\n",
       "      <td>4.31</td>\n",
       "      <td>12.8</td>\n",
       "      <td>27.7</td>\n",
       "      <td>2.86</td>\n",
       "      <td>2.59</td>\n",
       "      <td>0.27</td>\n",
       "      <td>0.09</td>\n",
       "      <td>0.77</td>\n",
       "    </tr>\n",
       "    <tr>\n",
       "      <th>12</th>\n",
       "      <td>43.7</td>\n",
       "      <td>1.3</td>\n",
       "      <td>7.9</td>\n",
       "      <td>3.2</td>\n",
       "      <td>33.3</td>\n",
       "      <td>1.3</td>\n",
       "      <td>3</td>\n",
       "      <td>3.7</td>\n",
       "      <td>0.01</td>\n",
       "      <td>0.11</td>\n",
       "      <td>0.8</td>\n",
       "    </tr>\n",
       "    <tr>\n",
       "      <th>13</th>\n",
       "      <td>41.3</td>\n",
       "      <td>1.2</td>\n",
       "      <td>7.9</td>\n",
       "      <td>3.8</td>\n",
       "      <td>35.3</td>\n",
       "      <td>1.3</td>\n",
       "      <td>2</td>\n",
       "      <td>3.9</td>\n",
       "      <td>0.01</td>\n",
       "      <td>0.1</td>\n",
       "      <td>0.83</td>\n",
       "    </tr>\n",
       "    <tr>\n",
       "      <th>14</th>\n",
       "      <td>44.6</td>\n",
       "      <td>1.1</td>\n",
       "      <td>9.6</td>\n",
       "      <td>2.8</td>\n",
       "      <td>35.3</td>\n",
       "      <td>0.9</td>\n",
       "      <td>1.3</td>\n",
       "      <td>2.7</td>\n",
       "      <td>0.01</td>\n",
       "      <td>0.07</td>\n",
       "      <td>0.8</td>\n",
       "    </tr>\n",
       "    <tr>\n",
       "      <th>15</th>\n",
       "      <td>42.5</td>\n",
       "      <td>1.6</td>\n",
       "      <td>8.9</td>\n",
       "      <td>3.2</td>\n",
       "      <td>29</td>\n",
       "      <td>1.3</td>\n",
       "      <td>1.6</td>\n",
       "      <td>11</td>\n",
       "      <td>0.01</td>\n",
       "      <td>0.17</td>\n",
       "      <td>1.12</td>\n",
       "    </tr>\n",
       "    <tr>\n",
       "      <th>16</th>\n",
       "      <td>39.2</td>\n",
       "      <td>1.1</td>\n",
       "      <td>8.4</td>\n",
       "      <td>3.7</td>\n",
       "      <td>34.3</td>\n",
       "      <td>1.7</td>\n",
       "      <td>1.3</td>\n",
       "      <td>9.3</td>\n",
       "      <td>0.01</td>\n",
       "      <td>0.11</td>\n",
       "      <td>0.92</td>\n",
       "    </tr>\n",
       "    <tr>\n",
       "      <th>17</th>\n",
       "      <td>44.2</td>\n",
       "      <td>1.1</td>\n",
       "      <td>10.5</td>\n",
       "      <td>3.2</td>\n",
       "      <td>34.5</td>\n",
       "      <td>1</td>\n",
       "      <td>1.1</td>\n",
       "      <td>3.2</td>\n",
       "      <td>0.01</td>\n",
       "      <td>0.08</td>\n",
       "      <td>0.98</td>\n",
       "    </tr>\n",
       "    <tr>\n",
       "      <th>18</th>\n",
       "      <td>44.1</td>\n",
       "      <td>1.1</td>\n",
       "      <td>9.1</td>\n",
       "      <td>3.7</td>\n",
       "      <td>32.5</td>\n",
       "      <td>2</td>\n",
       "      <td>2</td>\n",
       "      <td>4.5</td>\n",
       "      <td>0.01</td>\n",
       "      <td>0.12</td>\n",
       "      <td>0.71</td>\n",
       "    </tr>\n",
       "    <tr>\n",
       "      <th>19</th>\n",
       "      <td>40.3</td>\n",
       "      <td>1.2</td>\n",
       "      <td>7.7</td>\n",
       "      <td>4.8</td>\n",
       "      <td>30.9</td>\n",
       "      <td>1.7</td>\n",
       "      <td>3.3</td>\n",
       "      <td>7.6</td>\n",
       "      <td>0.01</td>\n",
       "      <td>0.18</td>\n",
       "      <td>1.45</td>\n",
       "    </tr>\n",
       "    <tr>\n",
       "      <th>20</th>\n",
       "      <td>37.5</td>\n",
       "      <td>1.4</td>\n",
       "      <td>6.8</td>\n",
       "      <td>4.1</td>\n",
       "      <td>27.8</td>\n",
       "      <td>2.5</td>\n",
       "      <td>3.5</td>\n",
       "      <td>12.9</td>\n",
       "      <td>0.01</td>\n",
       "      <td>0.23</td>\n",
       "      <td>1.93</td>\n",
       "    </tr>\n",
       "    <tr>\n",
       "      <th>21</th>\n",
       "      <td>37.9</td>\n",
       "      <td>1.1</td>\n",
       "      <td>6.1</td>\n",
       "      <td>2.8</td>\n",
       "      <td>25.3</td>\n",
       "      <td>1.7</td>\n",
       "      <td>2.8</td>\n",
       "      <td>17.8</td>\n",
       "      <td>0.02</td>\n",
       "      <td>0.28</td>\n",
       "      <td>0.74</td>\n",
       "    </tr>\n",
       "    <tr>\n",
       "      <th>22</th>\n",
       "      <td>24.2</td>\n",
       "      <td>3.04</td>\n",
       "      <td>14.1</td>\n",
       "      <td>10.9</td>\n",
       "      <td>24.3</td>\n",
       "      <td>2.45</td>\n",
       "      <td>4.39</td>\n",
       "      <td>15.4</td>\n",
       "      <td>0</td>\n",
       "      <td>0.96</td>\n",
       "      <td>0.21</td>\n",
       "    </tr>\n",
       "    <tr>\n",
       "      <th>23</th>\n",
       "      <td>39.8</td>\n",
       "      <td>3.63</td>\n",
       "      <td>11.8</td>\n",
       "      <td>7.91</td>\n",
       "      <td>21.5</td>\n",
       "      <td>3.87</td>\n",
       "      <td>1.36</td>\n",
       "      <td>6.98</td>\n",
       "      <td>0</td>\n",
       "      <td>3</td>\n",
       "      <td>0.28</td>\n",
       "    </tr>\n",
       "    <tr>\n",
       "      <th>24</th>\n",
       "      <td>33.4</td>\n",
       "      <td>1.72</td>\n",
       "      <td>7.2</td>\n",
       "      <td>6.7</td>\n",
       "      <td>5.85</td>\n",
       "      <td>35</td>\n",
       "      <td>3.79</td>\n",
       "      <td>2.05</td>\n",
       "      <td>0.2</td>\n",
       "      <td>0.3</td>\n",
       "      <td>0.45</td>\n",
       "    </tr>\n",
       "    <tr>\n",
       "      <th>25</th>\n",
       "      <td>41</td>\n",
       "      <td>2.81</td>\n",
       "      <td>18.4</td>\n",
       "      <td>5.72</td>\n",
       "      <td>25.4</td>\n",
       "      <td>3.46</td>\n",
       "      <td>0.49</td>\n",
       "      <td>1.08</td>\n",
       "      <td>0</td>\n",
       "      <td>0.4</td>\n",
       "      <td>0.22</td>\n",
       "    </tr>\n",
       "    <tr>\n",
       "      <th>26</th>\n",
       "      <td>31.3</td>\n",
       "      <td>3.95</td>\n",
       "      <td>19.9</td>\n",
       "      <td>9.52</td>\n",
       "      <td>28</td>\n",
       "      <td>2.86</td>\n",
       "      <td>0.7</td>\n",
       "      <td>3</td>\n",
       "      <td>0</td>\n",
       "      <td>0</td>\n",
       "      <td>0.45</td>\n",
       "    </tr>\n",
       "    <tr>\n",
       "      <th>27</th>\n",
       "      <td>33.2</td>\n",
       "      <td>2.19</td>\n",
       "      <td>14.9</td>\n",
       "      <td>8.57</td>\n",
       "      <td>13.9</td>\n",
       "      <td>12.8</td>\n",
       "      <td>5.32</td>\n",
       "      <td>6.99</td>\n",
       "      <td>0</td>\n",
       "      <td>0.4</td>\n",
       "      <td>0.21</td>\n",
       "    </tr>\n",
       "    <tr>\n",
       "      <th>28</th>\n",
       "      <td>51.4</td>\n",
       "      <td>0</td>\n",
       "      <td>8.9</td>\n",
       "      <td>26.9</td>\n",
       "      <td>11.6</td>\n",
       "      <td>0.27</td>\n",
       "      <td>0</td>\n",
       "      <td>0.15</td>\n",
       "      <td>0</td>\n",
       "      <td>0</td>\n",
       "      <td>0.12</td>\n",
       "    </tr>\n",
       "    <tr>\n",
       "      <th>29</th>\n",
       "      <td>53</td>\n",
       "      <td>0</td>\n",
       "      <td>8.94</td>\n",
       "      <td>25.5</td>\n",
       "      <td>11.8</td>\n",
       "      <td>0.14</td>\n",
       "      <td>0</td>\n",
       "      <td>0</td>\n",
       "      <td>0</td>\n",
       "      <td>0</td>\n",
       "      <td>0</td>\n",
       "    </tr>\n",
       "    <tr>\n",
       "      <th>30</th>\n",
       "      <td>40.5</td>\n",
       "      <td>2.05</td>\n",
       "      <td>19.9</td>\n",
       "      <td>6.05</td>\n",
       "      <td>28.5</td>\n",
       "      <td>1.39</td>\n",
       "      <td>0.42</td>\n",
       "      <td>0.92</td>\n",
       "      <td>0</td>\n",
       "      <td>0.22</td>\n",
       "      <td>0.25</td>\n",
       "    </tr>\n",
       "    <tr>\n",
       "      <th>31</th>\n",
       "      <td>50.1</td>\n",
       "      <td>0</td>\n",
       "      <td>14</td>\n",
       "      <td>28.4</td>\n",
       "      <td>5.99</td>\n",
       "      <td>0.45</td>\n",
       "      <td>0</td>\n",
       "      <td>0.15</td>\n",
       "      <td>0</td>\n",
       "      <td>0.19</td>\n",
       "      <td>0.14</td>\n",
       "    </tr>\n",
       "    <tr>\n",
       "      <th>32</th>\n",
       "      <td>40.1</td>\n",
       "      <td>2.43</td>\n",
       "      <td>20</td>\n",
       "      <td>6.79</td>\n",
       "      <td>27.5</td>\n",
       "      <td>1.37</td>\n",
       "      <td>0.41</td>\n",
       "      <td>0.89</td>\n",
       "      <td>0</td>\n",
       "      <td>0.22</td>\n",
       "      <td>0.24</td>\n",
       "    </tr>\n",
       "    <tr>\n",
       "      <th>33</th>\n",
       "      <td>44.5</td>\n",
       "      <td>0</td>\n",
       "      <td>24.4</td>\n",
       "      <td>22.1</td>\n",
       "      <td>7.54</td>\n",
       "      <td>0.47</td>\n",
       "      <td>0</td>\n",
       "      <td>0</td>\n",
       "      <td>0</td>\n",
       "      <td>0</td>\n",
       "      <td>0</td>\n",
       "    </tr>\n",
       "  </tbody>\n",
       "</table>\n",
       "</div>"
      ],
      "text/plain": [
       "       0     1     2     3     4     5     6     7     8     9    10\n",
       "0   37.8  0.18    25  9.61  13.2  18.3  1.99   0.2  0.23  0.18  1.03\n",
       "1   44.5  0.22    18  5.04  14.2  18.9   2.1  0.28  0.26  0.06  1.07\n",
       "2   38.5  0.22  21.1  6.14  10.6  20.2  5.82  0.61   0.4  0.14  0.86\n",
       "3   38.4  0.04  15.5  4.07  12.8  26.7  3.35  0.52  0.31  0.08  1.07\n",
       "4   43.2  0.18  17.1  4.14  14.8  21.7  1.72   0.2  0.29  0.18  1.07\n",
       "5   45.3  0.23  15.9  4.34  16.5  18.9  1.29   0.1   0.3  0.11   1.1\n",
       "6   46.1  0.25  14.3  4.12  16.2    19  1.21  0.09  0.27  0.06  1.08\n",
       "7   45.1  0.19    13  4.05  16.1    21  1.26   0.1  0.28  0.06  1.09\n",
       "8   32.8  0.01  10.6   7.3  14.3  33.2  2.75  0.42  0.32  0.09  1.12\n",
       "9   42.4  0.24  19.3   6.5  14.7  17.4  2.72  0.31  0.28  0.09  1.06\n",
       "10  38.4  0.04  11.2  5.02    14  26.1  2.84  2.11  0.34  0.09  0.91\n",
       "11  36.4  0.01  17.4  4.31  12.8  27.7  2.86  2.59  0.27  0.09  0.77\n",
       "12  43.7   1.3   7.9   3.2  33.3   1.3     3   3.7  0.01  0.11   0.8\n",
       "13  41.3   1.2   7.9   3.8  35.3   1.3     2   3.9  0.01   0.1  0.83\n",
       "14  44.6   1.1   9.6   2.8  35.3   0.9   1.3   2.7  0.01  0.07   0.8\n",
       "15  42.5   1.6   8.9   3.2    29   1.3   1.6    11  0.01  0.17  1.12\n",
       "16  39.2   1.1   8.4   3.7  34.3   1.7   1.3   9.3  0.01  0.11  0.92\n",
       "17  44.2   1.1  10.5   3.2  34.5     1   1.1   3.2  0.01  0.08  0.98\n",
       "18  44.1   1.1   9.1   3.7  32.5     2     2   4.5  0.01  0.12  0.71\n",
       "19  40.3   1.2   7.7   4.8  30.9   1.7   3.3   7.6  0.01  0.18  1.45\n",
       "20  37.5   1.4   6.8   4.1  27.8   2.5   3.5  12.9  0.01  0.23  1.93\n",
       "21  37.9   1.1   6.1   2.8  25.3   1.7   2.8  17.8  0.02  0.28  0.74\n",
       "22  24.2  3.04  14.1  10.9  24.3  2.45  4.39  15.4     0  0.96  0.21\n",
       "23  39.8  3.63  11.8  7.91  21.5  3.87  1.36  6.98     0     3  0.28\n",
       "24  33.4  1.72   7.2   6.7  5.85    35  3.79  2.05   0.2   0.3  0.45\n",
       "25    41  2.81  18.4  5.72  25.4  3.46  0.49  1.08     0   0.4  0.22\n",
       "26  31.3  3.95  19.9  9.52    28  2.86   0.7     3     0     0  0.45\n",
       "27  33.2  2.19  14.9  8.57  13.9  12.8  5.32  6.99     0   0.4  0.21\n",
       "28  51.4     0   8.9  26.9  11.6  0.27     0  0.15     0     0  0.12\n",
       "29    53     0  8.94  25.5  11.8  0.14     0     0     0     0     0\n",
       "30  40.5  2.05  19.9  6.05  28.5  1.39  0.42  0.92     0  0.22  0.25\n",
       "31  50.1     0    14  28.4  5.99  0.45     0  0.15     0  0.19  0.14\n",
       "32  40.1  2.43    20  6.79  27.5  1.37  0.41  0.89     0  0.22  0.24\n",
       "33  44.5     0  24.4  22.1  7.54  0.47     0     0     0     0     0"
      ]
     },
     "execution_count": 48,
     "metadata": {},
     "output_type": "execute_result"
    }
   ],
   "source": [
    "multi_y = concentration[:,1:]\n",
    "#print (multi_y)\n",
    "print (type(multi_y))\n",
    "df_y= pd.DataFrame(multi_y)\n",
    "print (type(df_y))\n",
    "df_y"
   ]
  },
  {
   "cell_type": "code",
   "execution_count": 49,
   "metadata": {},
   "outputs": [
    {
     "name": "stdout",
     "output_type": "stream",
     "text": [
      "(27, 3648) (27, 11)\n",
      "(7, 3648) (7, 11)\n"
     ]
    }
   ],
   "source": [
    "X_train, X_test, y_train, y_test = train_test_split(x_df, df_y, test_size=0.2)\n",
    "print (X_train.shape, y_train.shape)\n",
    "print (X_test.shape, y_test.shape)\n",
    "#print(X_test)"
   ]
  },
  {
   "cell_type": "code",
   "execution_count": 50,
   "metadata": {},
   "outputs": [
    {
     "data": {
      "text/plain": [
       "MultiOutputRegressor(estimator=RandomForestRegressor(bootstrap=True,\n",
       "                                                     ccp_alpha=0.0,\n",
       "                                                     criterion='mse',\n",
       "                                                     max_depth=30,\n",
       "                                                     max_features='auto',\n",
       "                                                     max_leaf_nodes=None,\n",
       "                                                     max_samples=None,\n",
       "                                                     min_impurity_decrease=0.0,\n",
       "                                                     min_impurity_split=None,\n",
       "                                                     min_samples_leaf=1,\n",
       "                                                     min_samples_split=2,\n",
       "                                                     min_weight_fraction_leaf=0.0,\n",
       "                                                     n_estimators=500,\n",
       "                                                     n_jobs=None,\n",
       "                                                     oob_score=False,\n",
       "                                                     random_state=0, verbose=0,\n",
       "                                                     warm_start=False),\n",
       "                     n_jobs=None)"
      ]
     },
     "execution_count": 50,
     "metadata": {},
     "output_type": "execute_result"
    }
   ],
   "source": [
    "from sklearn.multioutput import MultiOutputRegressor\n",
    "from sklearn.ensemble import RandomForestRegressor\n",
    "\n",
    "max_depth = 30\n",
    "regr_multirf = MultiOutputRegressor(RandomForestRegressor(n_estimators=500,\n",
    "                                                          max_depth=max_depth,\n",
    "                                                          random_state=0))\n",
    "regr_multirf.fit(X_train, y_train)\n"
   ]
  },
  {
   "cell_type": "code",
   "execution_count": 51,
   "metadata": {},
   "outputs": [],
   "source": [
    "y_multirf = regr_multirf.predict(X_test)"
   ]
  },
  {
   "cell_type": "code",
   "execution_count": 52,
   "metadata": {},
   "outputs": [
    {
     "name": "stdout",
     "output_type": "stream",
     "text": [
      "(7, 11)\n",
      "(7, 11)\n"
     ]
    }
   ],
   "source": [
    "print(y_test.shape)\n",
    "print(y_multirf.shape)"
   ]
  },
  {
   "cell_type": "code",
   "execution_count": 53,
   "metadata": {},
   "outputs": [
    {
     "name": "stdout",
     "output_type": "stream",
     "text": [
      "R^2:  -2.4536787314137825\n",
      "RMSE:  3.2696541804501393\n"
     ]
    }
   ],
   "source": [
    "rmse = sqrt(mean_squared_error(y_test, y_multirf))\n",
    "r2 = r2_score(y_test, y_multirf)\n",
    "\n",
    "print(\"R^2: \", r2)\n",
    "print(\"RMSE: \", rmse)"
   ]
  },
  {
   "cell_type": "code",
   "execution_count": 54,
   "metadata": {},
   "outputs": [
    {
     "name": "stdout",
     "output_type": "stream",
     "text": [
      "[real, predictions]\n",
      "[[39.2 1.1 8.4 3.7 34.3 1.7 1.3 9.3 0.01 0.11 0.92 40.559 1.317 8.521\n",
      "  3.939 25.406 2.591 2.717 8.112 0.018 0.166 1.102]\n",
      " [32.8 0.01 10.6 7.3 14.3 33.2 2.75 0.42 0.32 0.09 1.12 38.187 1.239\n",
      "  13.097 5.132 26.534 25.305 3.942 4.92 0.152 0.282 0.668]\n",
      " [40.3 1.2 7.7 4.8 30.9 1.7 3.3 7.6 0.01 0.18 1.45 41.214 1.23 9.129\n",
      "  3.973 26.153 2.065 2.296 6.938 0.011 0.148 0.998]\n",
      " [45.3 0.23 15.9 4.34 16.5 18.9 1.29 0.1 0.3 0.11 1.1 42.105 0.396 16.975\n",
      "  5.725 13.12 19.43 2.209 0.576 0.202 0.132 0.822]\n",
      " [38.4 0.04 15.5 4.07 12.8 26.7 3.35 0.52 0.31 0.08 1.07 36.973 1.289\n",
      "  14.138 5.601 22.114 25.602 3.606 4.386 0.155 0.77 0.604]\n",
      " [40.1 2.43 20.0 6.79 27.5 1.37 0.41 0.89 0.0 0.22 0.24 40.308 0.849\n",
      "  16.817 7.212 12.927 2.422 1.758 0.777 0.005 0.161 0.41]\n",
      " [44.2 1.1 10.5 3.2 34.5 1.0 1.1 3.2 0.01 0.08 0.98 40.015 1.324 7.935\n",
      "  3.71 31.015 2.446 3.17 8.266 0.026 0.229 1.263]]\n"
     ]
    }
   ],
   "source": [
    "b=np.append(np.around(y_test,3), np.around(y_multirf,3), axis=1)\n",
    "\n",
    "print(\"[real, predictions]\")\n",
    "print(b)"
   ]
  },
  {
   "cell_type": "code",
   "execution_count": 55,
   "metadata": {},
   "outputs": [
    {
     "data": {
      "text/plain": [
       "Text(0, 0.5, 'Predictions')"
      ]
     },
     "execution_count": 55,
     "metadata": {},
     "output_type": "execute_result"
    },
    {
     "data": {
      "image/png": "[encoded data removed]",
      "text/plain": [
       "<Figure size 432x288 with 1 Axes>"
      ]
     },
     "metadata": {
      "needs_background": "light"
     },
     "output_type": "display_data"
    }
   ],
   "source": [
    "plt.scatter(y_test, y_multirf)\n",
    "plt.xlabel('True Values')\n",
    "plt.ylabel('Predictions')"
   ]
  },
  {
   "cell_type": "code",
   "execution_count": 56,
   "metadata": {},
   "outputs": [
    {
     "data": {
      "text/plain": [
       "array([40.56, 38.19, 41.21, 42.1 , 36.97, 40.31, 40.01])"
      ]
     },
     "execution_count": 56,
     "metadata": {},
     "output_type": "execute_result"
    }
   ],
   "source": [
    "y_pred=np.around(y_multirf,2)\n",
    "y_pred[:,0]"
   ]
  },
  {
   "cell_type": "code",
   "execution_count": 57,
   "metadata": {},
   "outputs": [
    {
     "data": {
      "text/plain": [
       "array([39.2, 32.8, 40.3, 45.3, 38.4, 40.1, 44.2], dtype=object)"
      ]
     },
     "execution_count": 57,
     "metadata": {},
     "output_type": "execute_result"
    }
   ],
   "source": [
    "y_test[0].values"
   ]
  },
  {
   "cell_type": "code",
   "execution_count": 58,
   "metadata": {},
   "outputs": [
    {
     "name": "stdout",
     "output_type": "stream",
     "text": [
      "real:  [39.2 32.8 40.3 45.3 38.4 40.1 44.2]\n",
      "pred:  [40.56 38.19 41.21 42.1  36.97 40.31 40.01]\n"
     ]
    }
   ],
   "source": [
    "print(\"real: \", y_test[0].values)\n",
    "print(\"pred: \", y_pred[:,0])"
   ]
  },
  {
   "cell_type": "markdown",
   "metadata": {},
   "source": [
    "# PLS-2"
   ]
  },
  {
   "cell_type": "code",
   "execution_count": 59,
   "metadata": {},
   "outputs": [],
   "source": [
    "#optimise_pls_cv(x_df, df_y, 40, plot_components=True)\n",
    "\n",
    "# the optimal number of components is 6 on the whole dataset"
   ]
  },
  {
   "cell_type": "code",
   "execution_count": 60,
   "metadata": {},
   "outputs": [
    {
     "name": "stdout",
     "output_type": "stream",
     "text": [
      "100% completed\n",
      "Suggested number of components:  6\n",
      "\n"
     ]
    },
    {
     "data": {
      "image/png": "[encoded data removed]",
      "text/plain": [
       "<Figure size 432x288 with 1 Axes>"
      ]
     },
     "metadata": {},
     "output_type": "display_data"
    },
    {
     "name": "stdout",
     "output_type": "stream",
     "text": [
      "R2 calib: 0.648\n",
      "R2 CV: 0.167\n",
      "MSE calib: 6.691\n",
      "MSE CV: 16.568\n"
     ]
    }
   ],
   "source": [
    "optimise_pls_cv(X_train, y_train, 40, plot_components=True)"
   ]
  },
  {
   "cell_type": "code",
   "execution_count": 61,
   "metadata": {},
   "outputs": [
    {
     "name": "stdout",
     "output_type": "stream",
     "text": [
      "R^2:  0.16727823583868234\n",
      "MSE:  16.56841242368313\n"
     ]
    }
   ],
   "source": [
    "# Define PLS object\n",
    "pls = PLSRegression(n_components= 6)\n",
    "# Fit\n",
    "pls.fit(X_train, y_train)\n",
    "# Cross-validation\n",
    "y_cv = cross_val_predict(pls, X_train, y_train, cv=10)\n",
    "# Calculate scores\n",
    "score = r2_score(y_train, y_cv)\n",
    "mse = mean_squared_error(y_train, y_cv)\n",
    "\n",
    "print(\"R^2: \", score)\n",
    "print(\"MSE: \", mse)"
   ]
  },
  {
   "cell_type": "code",
   "execution_count": 62,
   "metadata": {},
   "outputs": [
    {
     "name": "stdout",
     "output_type": "stream",
     "text": [
      "-6.042330324475305\n",
      "0.16727823583868234\n"
     ]
    }
   ],
   "source": [
    "y_pred = pls.predict(X_test)\n",
    "\n",
    "# Cross-validation\n",
    "y_cv = cross_val_predict(pls, X_train, y_train, cv=10)\n",
    "\n",
    "# Calculate scores for calibration and cross-validation\n",
    "score_pred = r2_score(y_test, y_pred)\n",
    "score_cv = r2_score(y_train, y_cv)\n",
    "\n",
    "print(score_pred) #not so good\n",
    "print(score_cv)"
   ]
  },
  {
   "cell_type": "code",
   "execution_count": 63,
   "metadata": {},
   "outputs": [
    {
     "data": {
      "text/html": [
       "<div>\n",
       "<style scoped>\n",
       "    .dataframe tbody tr th:only-of-type {\n",
       "        vertical-align: middle;\n",
       "    }\n",
       "\n",
       "    .dataframe tbody tr th {\n",
       "        vertical-align: top;\n",
       "    }\n",
       "\n",
       "    .dataframe thead th {\n",
       "        text-align: right;\n",
       "    }\n",
       "</style>\n",
       "<table border=\"1\" class=\"dataframe\">\n",
       "  <thead>\n",
       "    <tr style=\"text-align: right;\">\n",
       "      <th></th>\n",
       "      <th>0</th>\n",
       "      <th>1</th>\n",
       "      <th>2</th>\n",
       "      <th>3</th>\n",
       "      <th>4</th>\n",
       "      <th>5</th>\n",
       "      <th>6</th>\n",
       "      <th>7</th>\n",
       "      <th>8</th>\n",
       "      <th>9</th>\n",
       "      <th>10</th>\n",
       "    </tr>\n",
       "  </thead>\n",
       "  <tbody>\n",
       "    <tr>\n",
       "      <th>16</th>\n",
       "      <td>39.2</td>\n",
       "      <td>1.1</td>\n",
       "      <td>8.4</td>\n",
       "      <td>3.7</td>\n",
       "      <td>34.3</td>\n",
       "      <td>1.7</td>\n",
       "      <td>1.3</td>\n",
       "      <td>9.3</td>\n",
       "      <td>0.01</td>\n",
       "      <td>0.11</td>\n",
       "      <td>0.92</td>\n",
       "    </tr>\n",
       "    <tr>\n",
       "      <th>8</th>\n",
       "      <td>32.8</td>\n",
       "      <td>0.01</td>\n",
       "      <td>10.6</td>\n",
       "      <td>7.3</td>\n",
       "      <td>14.3</td>\n",
       "      <td>33.2</td>\n",
       "      <td>2.75</td>\n",
       "      <td>0.42</td>\n",
       "      <td>0.32</td>\n",
       "      <td>0.09</td>\n",
       "      <td>1.12</td>\n",
       "    </tr>\n",
       "    <tr>\n",
       "      <th>19</th>\n",
       "      <td>40.3</td>\n",
       "      <td>1.2</td>\n",
       "      <td>7.7</td>\n",
       "      <td>4.8</td>\n",
       "      <td>30.9</td>\n",
       "      <td>1.7</td>\n",
       "      <td>3.3</td>\n",
       "      <td>7.6</td>\n",
       "      <td>0.01</td>\n",
       "      <td>0.18</td>\n",
       "      <td>1.45</td>\n",
       "    </tr>\n",
       "    <tr>\n",
       "      <th>5</th>\n",
       "      <td>45.3</td>\n",
       "      <td>0.23</td>\n",
       "      <td>15.9</td>\n",
       "      <td>4.34</td>\n",
       "      <td>16.5</td>\n",
       "      <td>18.9</td>\n",
       "      <td>1.29</td>\n",
       "      <td>0.1</td>\n",
       "      <td>0.3</td>\n",
       "      <td>0.11</td>\n",
       "      <td>1.1</td>\n",
       "    </tr>\n",
       "    <tr>\n",
       "      <th>3</th>\n",
       "      <td>38.4</td>\n",
       "      <td>0.04</td>\n",
       "      <td>15.5</td>\n",
       "      <td>4.07</td>\n",
       "      <td>12.8</td>\n",
       "      <td>26.7</td>\n",
       "      <td>3.35</td>\n",
       "      <td>0.52</td>\n",
       "      <td>0.31</td>\n",
       "      <td>0.08</td>\n",
       "      <td>1.07</td>\n",
       "    </tr>\n",
       "    <tr>\n",
       "      <th>32</th>\n",
       "      <td>40.1</td>\n",
       "      <td>2.43</td>\n",
       "      <td>20</td>\n",
       "      <td>6.79</td>\n",
       "      <td>27.5</td>\n",
       "      <td>1.37</td>\n",
       "      <td>0.41</td>\n",
       "      <td>0.89</td>\n",
       "      <td>0</td>\n",
       "      <td>0.22</td>\n",
       "      <td>0.24</td>\n",
       "    </tr>\n",
       "    <tr>\n",
       "      <th>17</th>\n",
       "      <td>44.2</td>\n",
       "      <td>1.1</td>\n",
       "      <td>10.5</td>\n",
       "      <td>3.2</td>\n",
       "      <td>34.5</td>\n",
       "      <td>1</td>\n",
       "      <td>1.1</td>\n",
       "      <td>3.2</td>\n",
       "      <td>0.01</td>\n",
       "      <td>0.08</td>\n",
       "      <td>0.98</td>\n",
       "    </tr>\n",
       "  </tbody>\n",
       "</table>\n",
       "</div>"
      ],
      "text/plain": [
       "       0     1     2     3     4     5     6     7     8     9    10\n",
       "16  39.2   1.1   8.4   3.7  34.3   1.7   1.3   9.3  0.01  0.11  0.92\n",
       "8   32.8  0.01  10.6   7.3  14.3  33.2  2.75  0.42  0.32  0.09  1.12\n",
       "19  40.3   1.2   7.7   4.8  30.9   1.7   3.3   7.6  0.01  0.18  1.45\n",
       "5   45.3  0.23  15.9  4.34  16.5  18.9  1.29   0.1   0.3  0.11   1.1\n",
       "3   38.4  0.04  15.5  4.07  12.8  26.7  3.35  0.52  0.31  0.08  1.07\n",
       "32  40.1  2.43    20  6.79  27.5  1.37  0.41  0.89     0  0.22  0.24\n",
       "17  44.2   1.1  10.5   3.2  34.5     1   1.1   3.2  0.01  0.08  0.98"
      ]
     },
     "execution_count": 63,
     "metadata": {},
     "output_type": "execute_result"
    }
   ],
   "source": [
    "# test real values\n",
    "np.round(y_test, decimals=2)"
   ]
  },
  {
   "cell_type": "code",
   "execution_count": 64,
   "metadata": {},
   "outputs": [
    {
     "data": {
      "text/html": [
       "<div>\n",
       "<style scoped>\n",
       "    .dataframe tbody tr th:only-of-type {\n",
       "        vertical-align: middle;\n",
       "    }\n",
       "\n",
       "    .dataframe tbody tr th {\n",
       "        vertical-align: top;\n",
       "    }\n",
       "\n",
       "    .dataframe thead th {\n",
       "        text-align: right;\n",
       "    }\n",
       "</style>\n",
       "<table border=\"1\" class=\"dataframe\">\n",
       "  <thead>\n",
       "    <tr style=\"text-align: right;\">\n",
       "      <th></th>\n",
       "      <th>0</th>\n",
       "      <th>1</th>\n",
       "      <th>2</th>\n",
       "      <th>3</th>\n",
       "      <th>4</th>\n",
       "      <th>5</th>\n",
       "      <th>6</th>\n",
       "      <th>7</th>\n",
       "      <th>8</th>\n",
       "      <th>9</th>\n",
       "      <th>10</th>\n",
       "    </tr>\n",
       "  </thead>\n",
       "  <tbody>\n",
       "    <tr>\n",
       "      <th>0</th>\n",
       "      <td>40.91</td>\n",
       "      <td>1.26</td>\n",
       "      <td>4.25</td>\n",
       "      <td>4.96</td>\n",
       "      <td>25.90</td>\n",
       "      <td>4.22</td>\n",
       "      <td>3.20</td>\n",
       "      <td>10.79</td>\n",
       "      <td>0.01</td>\n",
       "      <td>0.60</td>\n",
       "      <td>1.23</td>\n",
       "    </tr>\n",
       "    <tr>\n",
       "      <th>1</th>\n",
       "      <td>44.12</td>\n",
       "      <td>-1.38</td>\n",
       "      <td>18.47</td>\n",
       "      <td>2.92</td>\n",
       "      <td>8.15</td>\n",
       "      <td>35.75</td>\n",
       "      <td>3.88</td>\n",
       "      <td>-5.73</td>\n",
       "      <td>0.47</td>\n",
       "      <td>-0.58</td>\n",
       "      <td>1.34</td>\n",
       "    </tr>\n",
       "    <tr>\n",
       "      <th>2</th>\n",
       "      <td>43.52</td>\n",
       "      <td>1.12</td>\n",
       "      <td>10.07</td>\n",
       "      <td>6.97</td>\n",
       "      <td>29.35</td>\n",
       "      <td>0.63</td>\n",
       "      <td>1.92</td>\n",
       "      <td>4.52</td>\n",
       "      <td>0.01</td>\n",
       "      <td>0.06</td>\n",
       "      <td>1.05</td>\n",
       "    </tr>\n",
       "    <tr>\n",
       "      <th>3</th>\n",
       "      <td>44.39</td>\n",
       "      <td>-0.18</td>\n",
       "      <td>18.91</td>\n",
       "      <td>7.33</td>\n",
       "      <td>13.59</td>\n",
       "      <td>22.71</td>\n",
       "      <td>2.01</td>\n",
       "      <td>-4.85</td>\n",
       "      <td>0.29</td>\n",
       "      <td>-0.37</td>\n",
       "      <td>0.98</td>\n",
       "    </tr>\n",
       "    <tr>\n",
       "      <th>4</th>\n",
       "      <td>42.99</td>\n",
       "      <td>-0.91</td>\n",
       "      <td>16.34</td>\n",
       "      <td>2.08</td>\n",
       "      <td>7.77</td>\n",
       "      <td>36.74</td>\n",
       "      <td>3.51</td>\n",
       "      <td>-3.79</td>\n",
       "      <td>0.44</td>\n",
       "      <td>-0.37</td>\n",
       "      <td>1.24</td>\n",
       "    </tr>\n",
       "    <tr>\n",
       "      <th>5</th>\n",
       "      <td>39.29</td>\n",
       "      <td>1.98</td>\n",
       "      <td>17.59</td>\n",
       "      <td>7.84</td>\n",
       "      <td>24.36</td>\n",
       "      <td>4.88</td>\n",
       "      <td>1.17</td>\n",
       "      <td>2.46</td>\n",
       "      <td>0.05</td>\n",
       "      <td>0.36</td>\n",
       "      <td>0.56</td>\n",
       "    </tr>\n",
       "    <tr>\n",
       "      <th>6</th>\n",
       "      <td>42.75</td>\n",
       "      <td>0.49</td>\n",
       "      <td>5.83</td>\n",
       "      <td>4.01</td>\n",
       "      <td>26.48</td>\n",
       "      <td>6.41</td>\n",
       "      <td>3.70</td>\n",
       "      <td>7.84</td>\n",
       "      <td>0.07</td>\n",
       "      <td>0.22</td>\n",
       "      <td>1.45</td>\n",
       "    </tr>\n",
       "  </tbody>\n",
       "</table>\n",
       "</div>"
      ],
      "text/plain": [
       "       0     1      2     3      4      5     6      7     8     9    10\n",
       "0  40.91  1.26   4.25  4.96  25.90   4.22  3.20  10.79  0.01  0.60  1.23\n",
       "1  44.12 -1.38  18.47  2.92   8.15  35.75  3.88  -5.73  0.47 -0.58  1.34\n",
       "2  43.52  1.12  10.07  6.97  29.35   0.63  1.92   4.52  0.01  0.06  1.05\n",
       "3  44.39 -0.18  18.91  7.33  13.59  22.71  2.01  -4.85  0.29 -0.37  0.98\n",
       "4  42.99 -0.91  16.34  2.08   7.77  36.74  3.51  -3.79  0.44 -0.37  1.24\n",
       "5  39.29  1.98  17.59  7.84  24.36   4.88  1.17   2.46  0.05  0.36  0.56\n",
       "6  42.75  0.49   5.83  4.01  26.48   6.41  3.70   7.84  0.07  0.22  1.45"
      ]
     },
     "execution_count": 64,
     "metadata": {},
     "output_type": "execute_result"
    }
   ],
   "source": [
    "# test predicted values\n",
    "pd.DataFrame(np.round(y_pred, decimals=2))"
   ]
  },
  {
   "cell_type": "code",
   "execution_count": null,
   "metadata": {},
   "outputs": [],
   "source": []
  }
 ],
 "metadata": {
  "kernelspec": {
   "display_name": "Python 3",
   "language": "python",
   "name": "python3"
  },
  "language_info": {
   "codemirror_mode": {
    "name": "ipython",
    "version": 3
   },
   "file_extension": ".py",
   "mimetype": "text/x-python",
   "name": "python",
   "nbconvert_exporter": "python",
   "pygments_lexer": "ipython3",
   "version": "3.7.6"
  }
 },
 "nbformat": 4,
 "nbformat_minor": 2
}
