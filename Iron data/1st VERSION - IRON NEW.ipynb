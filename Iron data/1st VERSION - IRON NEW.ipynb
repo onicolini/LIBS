{
 "cells": [
  {
   "cell_type": "code",
   "execution_count": 148,
   "metadata": {},
   "outputs": [],
   "source": [
    "import os\n",
    "from sys import stdout\n",
    "import scipy.io\n",
    "\n",
    "\n",
    "import numpy as np\n",
    "import pandas as pd\n",
    "import matplotlib.pyplot as plt\n",
    "%matplotlib inline \n",
    "from math import sqrt\n",
    "from scipy.signal import savgol_filter\n",
    "from sklearn.decomposition import PCA \n",
    "from sklearn.preprocessing import StandardScaler, normalize\n",
    "from sklearn.model_selection import train_test_split\n",
    "from sklearn.metrics import mean_squared_error, r2_score\n",
    "from sklearn.cross_decomposition import PLSRegression\n",
    "from sklearn.model_selection import cross_val_predict\n",
    "from sklearn import linear_model\n",
    "from sklearn.linear_model import LinearRegression\n",
    "\n",
    "import warnings\n",
    "warnings.filterwarnings('ignore')"
   ]
  },
  {
   "cell_type": "code",
   "execution_count": 2,
   "metadata": {},
   "outputs": [
    {
     "data": {
      "text/plain": [
       "\"   \\n    # Fit a line to the CV vs response\\n    z = np.polyfit(y, y_c, 1)\\n    with plt.style.context(('ggplot')):\\n        fig, ax = plt.subplots(figsize=(9, 5))\\n        ax.scatter(y_c, y, c='red', edgecolors='k')\\n        #Plot the best fit line\\n        ax.plot(np.polyval(z,y), y, c='blue', linewidth=1)\\n        #Plot the ideal 1:1 line\\n        ax.plot(y, y, color='green', linewidth=1)\\n        plt.title('$R^{2}$ (CV): '+str(score_cv))\\n        plt.xlabel('Predicted $^{\\\\circ}$Brix')\\n        plt.ylabel('Measured $^{\\\\circ}$Brix')\\n        plt.show()\\n    return\\n\""
      ]
     },
     "execution_count": 2,
     "metadata": {},
     "output_type": "execute_result"
    }
   ],
   "source": [
    "def optimise_pls_cv(X, y, n_comp, plot_components=True):\n",
    "    '''Run PLS including a variable number of components, up to n_comp,\n",
    "       and calculate MSE '''\n",
    "    mse = []\n",
    "    component = np.arange(1, n_comp)\n",
    "    for i in component:\n",
    "        pls = PLSRegression(n_components=i)\n",
    "        # Cross-validation\n",
    "        y_cv = cross_val_predict(pls, X, y, cv=10)\n",
    "        mse.append(mean_squared_error(y, y_cv))\n",
    "        comp = 100*(i+1)/40\n",
    "        # Trick to update status on the same line\n",
    "        stdout.write(\"\\r%d%% completed\" % comp)\n",
    "        stdout.flush()\n",
    "    stdout.write(\"\\n\")\n",
    "    # Calculate and print the position of minimum in MSE\n",
    "    msemin = np.argmin(mse)\n",
    "    print(\"Suggested number of components: \", msemin+1)\n",
    "    stdout.write(\"\\n\")\n",
    "    if plot_components is True:\n",
    "        with plt.style.context(('ggplot')):\n",
    "            plt.plot(component, np.array(mse), '-v', color = 'blue', mfc='blue')\n",
    "            plt.plot(component[msemin], np.array(mse)[msemin], 'P', ms=10, mfc='red')\n",
    "            plt.xlabel('Number of PLS components')\n",
    "            plt.ylabel('MSE')\n",
    "            plt.title('PLS')\n",
    "            plt.xlim(left=-1)\n",
    "        plt.show()\n",
    "    # Define PLS object with optimal number of components\n",
    "    pls_opt = PLSRegression(n_components=msemin+1)\n",
    "    # Fir to the entire dataset\n",
    "    pls_opt.fit(X, y)\n",
    "    y_c = pls_opt.predict(X)\n",
    "    # Cross-validation\n",
    "    y_cv = cross_val_predict(pls_opt, X, y, cv=10)\n",
    "    # Calculate scores for calibration and cross-validation\n",
    "    score_c = r2_score(y, y_c)\n",
    "    score_cv = r2_score(y, y_cv)\n",
    "    # Calculate mean squared error for calibration and cross validation\n",
    "    mse_c = mean_squared_error(y, y_c)\n",
    "    mse_cv = mean_squared_error(y, y_cv)\n",
    "    print('R2 calib: %5.3f'  % score_c)\n",
    "    print('R2 CV: %5.3f'  % score_cv)\n",
    "    print('MSE calib: %5.3f' % mse_c)\n",
    "    print('MSE CV: %5.3f' % mse_cv)\n",
    "    \n",
    "    return\n",
    "    # Plot regression and figures of merit\n",
    "    rangey = max(y) - min(y)\n",
    "    rangex = max(y_c) - min(y_c)\n",
    "\"\"\"   \n",
    "    # Fit a line to the CV vs response\n",
    "    z = np.polyfit(y, y_c, 1)\n",
    "    with plt.style.context(('ggplot')):\n",
    "        fig, ax = plt.subplots(figsize=(9, 5))\n",
    "        ax.scatter(y_c, y, c='red', edgecolors='k')\n",
    "        #Plot the best fit line\n",
    "        ax.plot(np.polyval(z,y), y, c='blue', linewidth=1)\n",
    "        #Plot the ideal 1:1 line\n",
    "        ax.plot(y, y, color='green', linewidth=1)\n",
    "        plt.title('$R^{2}$ (CV): '+str(score_cv))\n",
    "        plt.xlabel('Predicted $^{\\circ}$Brix')\n",
    "        plt.ylabel('Measured $^{\\circ}$Brix')\n",
    "        plt.show()\n",
    "    return\n",
    "\"\"\" "
   ]
  },
  {
   "cell_type": "code",
   "execution_count": 4,
   "metadata": {},
   "outputs": [],
   "source": [
    "def pls_variable_selection(X, y, max_comp):\n",
    "    \n",
    "    # Define MSE array to be populated\n",
    "    mse = np.zeros((max_comp,X.shape[1]))\n",
    "    # Loop over the number of PLS components\n",
    "    for i in range(max_comp):\n",
    "        \n",
    "        # Regression with specified number of components, using full spectrum\n",
    "        pls1 = PLSRegression(n_components=i+1)\n",
    "        pls1.fit(X, y)\n",
    "        \n",
    "        # Indices of sort spectra according to ascending absolute value of PLS coefficients\n",
    "        sorted_ind = np.argsort(np.abs(pls1.coef_[:,0]))\n",
    "        # Sort spectra accordingly \n",
    "        Xc = X[:,sorted_ind]\n",
    "        # Discard one wavelength at a time of the sorted spectra,\n",
    "        # regress, and calculate the MSE cross-validation\n",
    "        for j in range(Xc.shape[1]-(i+1)):\n",
    "            pls2 = PLSRegression(n_components=i+1)\n",
    "            pls2.fit(Xc[:, j:], y)\n",
    "            \n",
    "            y_cv = cross_val_predict(pls2, Xc[:, j:], y, cv=5)\n",
    "            mse[i,j] = mean_squared_error(y, y_cv)\n",
    "    \n",
    "        comp = 100*(i+1)/(max_comp)\n",
    "        stdout.write(\"\\r%d%% completed\" % comp)\n",
    "        stdout.flush()\n",
    "    stdout.write(\"\\n\")\n",
    "    # # Calculate and print the position of minimum in MSE\n",
    "    mseminx,mseminy = np.where(mse==np.min(mse[np.nonzero(mse)]))\n",
    "    print(\"Optimised number of PLS components: \", mseminx[0]+1)\n",
    "    print(\"Wavelengths to be discarded \",mseminy[0])\n",
    "    print('Optimised MSEP ', mse[mseminx,mseminy][0])\n",
    "    stdout.write(\"\\n\")\n",
    "    # plt.imshow(mse, interpolation=None)\n",
    "    # plt.show()\n",
    "    # Calculate PLS with optimal components and export values\n",
    "    pls = PLSRegression(n_components=mseminx[0]+1)\n",
    "    pls.fit(X, y)\n",
    "        \n",
    "    sorted_ind = np.argsort(np.abs(pls.coef_[:,0]))\n",
    "    Xc = X[:,sorted_ind]\n",
    "    return(Xc[:,mseminy[0]:],mseminx[0]+1,mseminy[0], sorted_ind)"
   ]
  },
  {
   "cell_type": "code",
   "execution_count": 3,
   "metadata": {},
   "outputs": [
    {
     "name": "stdout",
     "output_type": "stream",
     "text": [
      "(20, 4093)\n",
      "(4093,)\n",
      "20\n"
     ]
    },
    {
     "data": {
      "text/html": [
       "<div>\n",
       "<style scoped>\n",
       "    .dataframe tbody tr th:only-of-type {\n",
       "        vertical-align: middle;\n",
       "    }\n",
       "\n",
       "    .dataframe tbody tr th {\n",
       "        vertical-align: top;\n",
       "    }\n",
       "\n",
       "    .dataframe thead th {\n",
       "        text-align: right;\n",
       "    }\n",
       "</style>\n",
       "<table border=\"1\" class=\"dataframe\">\n",
       "  <thead>\n",
       "    <tr style=\"text-align: right;\">\n",
       "      <th></th>\n",
       "      <th>188.195100</th>\n",
       "      <th>188.260100</th>\n",
       "      <th>188.325000</th>\n",
       "      <th>188.390000</th>\n",
       "      <th>188.455000</th>\n",
       "      <th>188.520000</th>\n",
       "      <th>188.585000</th>\n",
       "      <th>188.650000</th>\n",
       "      <th>188.714900</th>\n",
       "      <th>188.779900</th>\n",
       "      <th>...</th>\n",
       "      <th>440.246900</th>\n",
       "      <th>440.300000</th>\n",
       "      <th>440.353000</th>\n",
       "      <th>440.406100</th>\n",
       "      <th>440.459200</th>\n",
       "      <th>440.512300</th>\n",
       "      <th>440.565300</th>\n",
       "      <th>440.618400</th>\n",
       "      <th>440.671400</th>\n",
       "      <th>440.724500</th>\n",
       "    </tr>\n",
       "  </thead>\n",
       "  <tbody>\n",
       "    <tr>\n",
       "      <th>0</th>\n",
       "      <td>551.0</td>\n",
       "      <td>582.0</td>\n",
       "      <td>505.0</td>\n",
       "      <td>627.0</td>\n",
       "      <td>494.0</td>\n",
       "      <td>594.0</td>\n",
       "      <td>587.0</td>\n",
       "      <td>646.0</td>\n",
       "      <td>615.0</td>\n",
       "      <td>675.0</td>\n",
       "      <td>...</td>\n",
       "      <td>2490.0</td>\n",
       "      <td>6219.0</td>\n",
       "      <td>9455.0</td>\n",
       "      <td>11342.0</td>\n",
       "      <td>10826.0</td>\n",
       "      <td>5512.0</td>\n",
       "      <td>2575.0</td>\n",
       "      <td>1593.0</td>\n",
       "      <td>1423.0</td>\n",
       "      <td>1283.0</td>\n",
       "    </tr>\n",
       "    <tr>\n",
       "      <th>1</th>\n",
       "      <td>562.0</td>\n",
       "      <td>583.0</td>\n",
       "      <td>500.0</td>\n",
       "      <td>633.0</td>\n",
       "      <td>484.0</td>\n",
       "      <td>590.0</td>\n",
       "      <td>592.0</td>\n",
       "      <td>638.0</td>\n",
       "      <td>621.0</td>\n",
       "      <td>693.0</td>\n",
       "      <td>...</td>\n",
       "      <td>2482.0</td>\n",
       "      <td>6304.0</td>\n",
       "      <td>9715.0</td>\n",
       "      <td>11817.0</td>\n",
       "      <td>11009.0</td>\n",
       "      <td>5528.0</td>\n",
       "      <td>2480.0</td>\n",
       "      <td>1535.0</td>\n",
       "      <td>1434.0</td>\n",
       "      <td>1304.0</td>\n",
       "    </tr>\n",
       "    <tr>\n",
       "      <th>2</th>\n",
       "      <td>548.0</td>\n",
       "      <td>581.0</td>\n",
       "      <td>510.0</td>\n",
       "      <td>634.0</td>\n",
       "      <td>497.0</td>\n",
       "      <td>603.0</td>\n",
       "      <td>583.0</td>\n",
       "      <td>647.0</td>\n",
       "      <td>637.0</td>\n",
       "      <td>669.0</td>\n",
       "      <td>...</td>\n",
       "      <td>2472.0</td>\n",
       "      <td>6258.0</td>\n",
       "      <td>9835.0</td>\n",
       "      <td>11553.0</td>\n",
       "      <td>10857.0</td>\n",
       "      <td>5499.0</td>\n",
       "      <td>2499.0</td>\n",
       "      <td>1612.0</td>\n",
       "      <td>1485.0</td>\n",
       "      <td>1384.0</td>\n",
       "    </tr>\n",
       "    <tr>\n",
       "      <th>3</th>\n",
       "      <td>558.0</td>\n",
       "      <td>593.0</td>\n",
       "      <td>521.0</td>\n",
       "      <td>642.0</td>\n",
       "      <td>511.0</td>\n",
       "      <td>602.0</td>\n",
       "      <td>604.0</td>\n",
       "      <td>656.0</td>\n",
       "      <td>630.0</td>\n",
       "      <td>695.0</td>\n",
       "      <td>...</td>\n",
       "      <td>2418.0</td>\n",
       "      <td>6173.0</td>\n",
       "      <td>9536.0</td>\n",
       "      <td>11614.0</td>\n",
       "      <td>10966.0</td>\n",
       "      <td>5592.0</td>\n",
       "      <td>2547.0</td>\n",
       "      <td>1566.0</td>\n",
       "      <td>1479.0</td>\n",
       "      <td>1280.0</td>\n",
       "    </tr>\n",
       "    <tr>\n",
       "      <th>4</th>\n",
       "      <td>557.0</td>\n",
       "      <td>588.0</td>\n",
       "      <td>506.0</td>\n",
       "      <td>640.0</td>\n",
       "      <td>490.0</td>\n",
       "      <td>602.0</td>\n",
       "      <td>587.0</td>\n",
       "      <td>659.0</td>\n",
       "      <td>617.0</td>\n",
       "      <td>681.0</td>\n",
       "      <td>...</td>\n",
       "      <td>2455.0</td>\n",
       "      <td>6147.0</td>\n",
       "      <td>9404.0</td>\n",
       "      <td>11347.0</td>\n",
       "      <td>10962.0</td>\n",
       "      <td>5565.0</td>\n",
       "      <td>2494.0</td>\n",
       "      <td>1602.0</td>\n",
       "      <td>1488.0</td>\n",
       "      <td>1299.0</td>\n",
       "    </tr>\n",
       "    <tr>\n",
       "      <th>5</th>\n",
       "      <td>544.0</td>\n",
       "      <td>593.0</td>\n",
       "      <td>510.0</td>\n",
       "      <td>637.0</td>\n",
       "      <td>498.0</td>\n",
       "      <td>596.0</td>\n",
       "      <td>587.0</td>\n",
       "      <td>664.0</td>\n",
       "      <td>628.0</td>\n",
       "      <td>687.0</td>\n",
       "      <td>...</td>\n",
       "      <td>2461.0</td>\n",
       "      <td>6374.0</td>\n",
       "      <td>9914.0</td>\n",
       "      <td>11874.0</td>\n",
       "      <td>11157.0</td>\n",
       "      <td>5358.0</td>\n",
       "      <td>2456.0</td>\n",
       "      <td>1543.0</td>\n",
       "      <td>1432.0</td>\n",
       "      <td>1273.0</td>\n",
       "    </tr>\n",
       "    <tr>\n",
       "      <th>6</th>\n",
       "      <td>556.0</td>\n",
       "      <td>594.0</td>\n",
       "      <td>510.0</td>\n",
       "      <td>653.0</td>\n",
       "      <td>511.0</td>\n",
       "      <td>617.0</td>\n",
       "      <td>603.0</td>\n",
       "      <td>658.0</td>\n",
       "      <td>639.0</td>\n",
       "      <td>679.0</td>\n",
       "      <td>...</td>\n",
       "      <td>2328.0</td>\n",
       "      <td>6114.0</td>\n",
       "      <td>9469.0</td>\n",
       "      <td>11485.0</td>\n",
       "      <td>10539.0</td>\n",
       "      <td>5299.0</td>\n",
       "      <td>2500.0</td>\n",
       "      <td>1540.0</td>\n",
       "      <td>1461.0</td>\n",
       "      <td>1297.0</td>\n",
       "    </tr>\n",
       "    <tr>\n",
       "      <th>7</th>\n",
       "      <td>558.0</td>\n",
       "      <td>583.0</td>\n",
       "      <td>526.0</td>\n",
       "      <td>637.0</td>\n",
       "      <td>500.0</td>\n",
       "      <td>604.0</td>\n",
       "      <td>585.0</td>\n",
       "      <td>645.0</td>\n",
       "      <td>634.0</td>\n",
       "      <td>673.0</td>\n",
       "      <td>...</td>\n",
       "      <td>2340.0</td>\n",
       "      <td>6080.0</td>\n",
       "      <td>9425.0</td>\n",
       "      <td>11355.0</td>\n",
       "      <td>10692.0</td>\n",
       "      <td>5182.0</td>\n",
       "      <td>2410.0</td>\n",
       "      <td>1523.0</td>\n",
       "      <td>1378.0</td>\n",
       "      <td>1224.0</td>\n",
       "    </tr>\n",
       "    <tr>\n",
       "      <th>8</th>\n",
       "      <td>555.0</td>\n",
       "      <td>613.0</td>\n",
       "      <td>518.0</td>\n",
       "      <td>646.0</td>\n",
       "      <td>492.0</td>\n",
       "      <td>617.0</td>\n",
       "      <td>588.0</td>\n",
       "      <td>647.0</td>\n",
       "      <td>631.0</td>\n",
       "      <td>674.0</td>\n",
       "      <td>...</td>\n",
       "      <td>2437.0</td>\n",
       "      <td>6136.0</td>\n",
       "      <td>9561.0</td>\n",
       "      <td>11531.0</td>\n",
       "      <td>10946.0</td>\n",
       "      <td>5526.0</td>\n",
       "      <td>2502.0</td>\n",
       "      <td>1584.0</td>\n",
       "      <td>1438.0</td>\n",
       "      <td>1267.0</td>\n",
       "    </tr>\n",
       "    <tr>\n",
       "      <th>9</th>\n",
       "      <td>565.0</td>\n",
       "      <td>591.0</td>\n",
       "      <td>512.0</td>\n",
       "      <td>639.0</td>\n",
       "      <td>504.0</td>\n",
       "      <td>599.0</td>\n",
       "      <td>585.0</td>\n",
       "      <td>654.0</td>\n",
       "      <td>614.0</td>\n",
       "      <td>674.0</td>\n",
       "      <td>...</td>\n",
       "      <td>2223.0</td>\n",
       "      <td>5702.0</td>\n",
       "      <td>8785.0</td>\n",
       "      <td>10674.0</td>\n",
       "      <td>10119.0</td>\n",
       "      <td>5109.0</td>\n",
       "      <td>2387.0</td>\n",
       "      <td>1440.0</td>\n",
       "      <td>1337.0</td>\n",
       "      <td>1213.0</td>\n",
       "    </tr>\n",
       "    <tr>\n",
       "      <th>10</th>\n",
       "      <td>559.0</td>\n",
       "      <td>615.0</td>\n",
       "      <td>512.0</td>\n",
       "      <td>641.0</td>\n",
       "      <td>498.0</td>\n",
       "      <td>595.0</td>\n",
       "      <td>592.0</td>\n",
       "      <td>651.0</td>\n",
       "      <td>617.0</td>\n",
       "      <td>679.0</td>\n",
       "      <td>...</td>\n",
       "      <td>2279.0</td>\n",
       "      <td>5723.0</td>\n",
       "      <td>8825.0</td>\n",
       "      <td>10562.0</td>\n",
       "      <td>9974.0</td>\n",
       "      <td>5075.0</td>\n",
       "      <td>2366.0</td>\n",
       "      <td>1466.0</td>\n",
       "      <td>1355.0</td>\n",
       "      <td>1229.0</td>\n",
       "    </tr>\n",
       "    <tr>\n",
       "      <th>11</th>\n",
       "      <td>548.0</td>\n",
       "      <td>592.0</td>\n",
       "      <td>522.0</td>\n",
       "      <td>639.0</td>\n",
       "      <td>501.0</td>\n",
       "      <td>597.0</td>\n",
       "      <td>592.0</td>\n",
       "      <td>647.0</td>\n",
       "      <td>620.0</td>\n",
       "      <td>686.0</td>\n",
       "      <td>...</td>\n",
       "      <td>2472.0</td>\n",
       "      <td>6167.0</td>\n",
       "      <td>9529.0</td>\n",
       "      <td>11534.0</td>\n",
       "      <td>10913.0</td>\n",
       "      <td>5442.0</td>\n",
       "      <td>2503.0</td>\n",
       "      <td>1554.0</td>\n",
       "      <td>1463.0</td>\n",
       "      <td>1287.0</td>\n",
       "    </tr>\n",
       "    <tr>\n",
       "      <th>12</th>\n",
       "      <td>564.0</td>\n",
       "      <td>593.0</td>\n",
       "      <td>525.0</td>\n",
       "      <td>648.0</td>\n",
       "      <td>482.0</td>\n",
       "      <td>607.0</td>\n",
       "      <td>592.0</td>\n",
       "      <td>644.0</td>\n",
       "      <td>632.0</td>\n",
       "      <td>678.0</td>\n",
       "      <td>...</td>\n",
       "      <td>2533.0</td>\n",
       "      <td>6573.0</td>\n",
       "      <td>10139.0</td>\n",
       "      <td>12104.0</td>\n",
       "      <td>11368.0</td>\n",
       "      <td>5652.0</td>\n",
       "      <td>2491.0</td>\n",
       "      <td>1546.0</td>\n",
       "      <td>1409.0</td>\n",
       "      <td>1242.0</td>\n",
       "    </tr>\n",
       "    <tr>\n",
       "      <th>13</th>\n",
       "      <td>557.0</td>\n",
       "      <td>600.0</td>\n",
       "      <td>513.0</td>\n",
       "      <td>642.0</td>\n",
       "      <td>510.0</td>\n",
       "      <td>600.0</td>\n",
       "      <td>596.0</td>\n",
       "      <td>663.0</td>\n",
       "      <td>624.0</td>\n",
       "      <td>679.0</td>\n",
       "      <td>...</td>\n",
       "      <td>2458.0</td>\n",
       "      <td>6409.0</td>\n",
       "      <td>9977.0</td>\n",
       "      <td>11936.0</td>\n",
       "      <td>10982.0</td>\n",
       "      <td>5385.0</td>\n",
       "      <td>2414.0</td>\n",
       "      <td>1560.0</td>\n",
       "      <td>1446.0</td>\n",
       "      <td>1307.0</td>\n",
       "    </tr>\n",
       "    <tr>\n",
       "      <th>14</th>\n",
       "      <td>558.0</td>\n",
       "      <td>587.0</td>\n",
       "      <td>515.0</td>\n",
       "      <td>644.0</td>\n",
       "      <td>492.0</td>\n",
       "      <td>604.0</td>\n",
       "      <td>585.0</td>\n",
       "      <td>663.0</td>\n",
       "      <td>629.0</td>\n",
       "      <td>686.0</td>\n",
       "      <td>...</td>\n",
       "      <td>2559.0</td>\n",
       "      <td>6363.0</td>\n",
       "      <td>9885.0</td>\n",
       "      <td>11813.0</td>\n",
       "      <td>11012.0</td>\n",
       "      <td>5771.0</td>\n",
       "      <td>2579.0</td>\n",
       "      <td>1580.0</td>\n",
       "      <td>1426.0</td>\n",
       "      <td>1270.0</td>\n",
       "    </tr>\n",
       "    <tr>\n",
       "      <th>15</th>\n",
       "      <td>567.0</td>\n",
       "      <td>613.0</td>\n",
       "      <td>523.0</td>\n",
       "      <td>639.0</td>\n",
       "      <td>500.0</td>\n",
       "      <td>618.0</td>\n",
       "      <td>590.0</td>\n",
       "      <td>663.0</td>\n",
       "      <td>629.0</td>\n",
       "      <td>686.0</td>\n",
       "      <td>...</td>\n",
       "      <td>2558.0</td>\n",
       "      <td>6544.0</td>\n",
       "      <td>9961.0</td>\n",
       "      <td>12058.0</td>\n",
       "      <td>11451.0</td>\n",
       "      <td>5604.0</td>\n",
       "      <td>2640.0</td>\n",
       "      <td>1608.0</td>\n",
       "      <td>1467.0</td>\n",
       "      <td>1394.0</td>\n",
       "    </tr>\n",
       "    <tr>\n",
       "      <th>16</th>\n",
       "      <td>556.0</td>\n",
       "      <td>589.0</td>\n",
       "      <td>520.0</td>\n",
       "      <td>643.0</td>\n",
       "      <td>528.0</td>\n",
       "      <td>601.0</td>\n",
       "      <td>592.0</td>\n",
       "      <td>659.0</td>\n",
       "      <td>634.0</td>\n",
       "      <td>687.0</td>\n",
       "      <td>...</td>\n",
       "      <td>2453.0</td>\n",
       "      <td>6175.0</td>\n",
       "      <td>9388.0</td>\n",
       "      <td>11521.0</td>\n",
       "      <td>10671.0</td>\n",
       "      <td>5335.0</td>\n",
       "      <td>2441.0</td>\n",
       "      <td>1498.0</td>\n",
       "      <td>1401.0</td>\n",
       "      <td>1226.0</td>\n",
       "    </tr>\n",
       "    <tr>\n",
       "      <th>17</th>\n",
       "      <td>553.0</td>\n",
       "      <td>598.0</td>\n",
       "      <td>518.0</td>\n",
       "      <td>644.0</td>\n",
       "      <td>498.0</td>\n",
       "      <td>606.0</td>\n",
       "      <td>590.0</td>\n",
       "      <td>663.0</td>\n",
       "      <td>623.0</td>\n",
       "      <td>682.0</td>\n",
       "      <td>...</td>\n",
       "      <td>2410.0</td>\n",
       "      <td>5906.0</td>\n",
       "      <td>9041.0</td>\n",
       "      <td>10994.0</td>\n",
       "      <td>10263.0</td>\n",
       "      <td>5095.0</td>\n",
       "      <td>2331.0</td>\n",
       "      <td>1480.0</td>\n",
       "      <td>1361.0</td>\n",
       "      <td>1193.0</td>\n",
       "    </tr>\n",
       "    <tr>\n",
       "      <th>18</th>\n",
       "      <td>563.0</td>\n",
       "      <td>591.0</td>\n",
       "      <td>515.0</td>\n",
       "      <td>643.0</td>\n",
       "      <td>497.0</td>\n",
       "      <td>608.0</td>\n",
       "      <td>594.0</td>\n",
       "      <td>645.0</td>\n",
       "      <td>624.0</td>\n",
       "      <td>680.0</td>\n",
       "      <td>...</td>\n",
       "      <td>2487.0</td>\n",
       "      <td>6246.0</td>\n",
       "      <td>9568.0</td>\n",
       "      <td>11496.0</td>\n",
       "      <td>10504.0</td>\n",
       "      <td>5113.0</td>\n",
       "      <td>2377.0</td>\n",
       "      <td>1522.0</td>\n",
       "      <td>1392.0</td>\n",
       "      <td>1276.0</td>\n",
       "    </tr>\n",
       "    <tr>\n",
       "      <th>19</th>\n",
       "      <td>568.0</td>\n",
       "      <td>600.0</td>\n",
       "      <td>522.0</td>\n",
       "      <td>645.0</td>\n",
       "      <td>496.0</td>\n",
       "      <td>605.0</td>\n",
       "      <td>597.0</td>\n",
       "      <td>663.0</td>\n",
       "      <td>633.0</td>\n",
       "      <td>686.0</td>\n",
       "      <td>...</td>\n",
       "      <td>2503.0</td>\n",
       "      <td>6405.0</td>\n",
       "      <td>9824.0</td>\n",
       "      <td>11809.0</td>\n",
       "      <td>11091.0</td>\n",
       "      <td>5541.0</td>\n",
       "      <td>2589.0</td>\n",
       "      <td>1579.0</td>\n",
       "      <td>1445.0</td>\n",
       "      <td>1252.0</td>\n",
       "    </tr>\n",
       "  </tbody>\n",
       "</table>\n",
       "<p>20 rows × 4093 columns</p>\n",
       "</div>"
      ],
      "text/plain": [
       "    188.195100  188.260100  188.325000  188.390000  188.455000  188.520000  \\\n",
       "0        551.0       582.0       505.0       627.0       494.0       594.0   \n",
       "1        562.0       583.0       500.0       633.0       484.0       590.0   \n",
       "2        548.0       581.0       510.0       634.0       497.0       603.0   \n",
       "3        558.0       593.0       521.0       642.0       511.0       602.0   \n",
       "4        557.0       588.0       506.0       640.0       490.0       602.0   \n",
       "5        544.0       593.0       510.0       637.0       498.0       596.0   \n",
       "6        556.0       594.0       510.0       653.0       511.0       617.0   \n",
       "7        558.0       583.0       526.0       637.0       500.0       604.0   \n",
       "8        555.0       613.0       518.0       646.0       492.0       617.0   \n",
       "9        565.0       591.0       512.0       639.0       504.0       599.0   \n",
       "10       559.0       615.0       512.0       641.0       498.0       595.0   \n",
       "11       548.0       592.0       522.0       639.0       501.0       597.0   \n",
       "12       564.0       593.0       525.0       648.0       482.0       607.0   \n",
       "13       557.0       600.0       513.0       642.0       510.0       600.0   \n",
       "14       558.0       587.0       515.0       644.0       492.0       604.0   \n",
       "15       567.0       613.0       523.0       639.0       500.0       618.0   \n",
       "16       556.0       589.0       520.0       643.0       528.0       601.0   \n",
       "17       553.0       598.0       518.0       644.0       498.0       606.0   \n",
       "18       563.0       591.0       515.0       643.0       497.0       608.0   \n",
       "19       568.0       600.0       522.0       645.0       496.0       605.0   \n",
       "\n",
       "    188.585000  188.650000  188.714900  188.779900  ...  440.246900  \\\n",
       "0        587.0       646.0       615.0       675.0  ...      2490.0   \n",
       "1        592.0       638.0       621.0       693.0  ...      2482.0   \n",
       "2        583.0       647.0       637.0       669.0  ...      2472.0   \n",
       "3        604.0       656.0       630.0       695.0  ...      2418.0   \n",
       "4        587.0       659.0       617.0       681.0  ...      2455.0   \n",
       "5        587.0       664.0       628.0       687.0  ...      2461.0   \n",
       "6        603.0       658.0       639.0       679.0  ...      2328.0   \n",
       "7        585.0       645.0       634.0       673.0  ...      2340.0   \n",
       "8        588.0       647.0       631.0       674.0  ...      2437.0   \n",
       "9        585.0       654.0       614.0       674.0  ...      2223.0   \n",
       "10       592.0       651.0       617.0       679.0  ...      2279.0   \n",
       "11       592.0       647.0       620.0       686.0  ...      2472.0   \n",
       "12       592.0       644.0       632.0       678.0  ...      2533.0   \n",
       "13       596.0       663.0       624.0       679.0  ...      2458.0   \n",
       "14       585.0       663.0       629.0       686.0  ...      2559.0   \n",
       "15       590.0       663.0       629.0       686.0  ...      2558.0   \n",
       "16       592.0       659.0       634.0       687.0  ...      2453.0   \n",
       "17       590.0       663.0       623.0       682.0  ...      2410.0   \n",
       "18       594.0       645.0       624.0       680.0  ...      2487.0   \n",
       "19       597.0       663.0       633.0       686.0  ...      2503.0   \n",
       "\n",
       "    440.300000  440.353000  440.406100  440.459200  440.512300  440.565300  \\\n",
       "0       6219.0      9455.0     11342.0     10826.0      5512.0      2575.0   \n",
       "1       6304.0      9715.0     11817.0     11009.0      5528.0      2480.0   \n",
       "2       6258.0      9835.0     11553.0     10857.0      5499.0      2499.0   \n",
       "3       6173.0      9536.0     11614.0     10966.0      5592.0      2547.0   \n",
       "4       6147.0      9404.0     11347.0     10962.0      5565.0      2494.0   \n",
       "5       6374.0      9914.0     11874.0     11157.0      5358.0      2456.0   \n",
       "6       6114.0      9469.0     11485.0     10539.0      5299.0      2500.0   \n",
       "7       6080.0      9425.0     11355.0     10692.0      5182.0      2410.0   \n",
       "8       6136.0      9561.0     11531.0     10946.0      5526.0      2502.0   \n",
       "9       5702.0      8785.0     10674.0     10119.0      5109.0      2387.0   \n",
       "10      5723.0      8825.0     10562.0      9974.0      5075.0      2366.0   \n",
       "11      6167.0      9529.0     11534.0     10913.0      5442.0      2503.0   \n",
       "12      6573.0     10139.0     12104.0     11368.0      5652.0      2491.0   \n",
       "13      6409.0      9977.0     11936.0     10982.0      5385.0      2414.0   \n",
       "14      6363.0      9885.0     11813.0     11012.0      5771.0      2579.0   \n",
       "15      6544.0      9961.0     12058.0     11451.0      5604.0      2640.0   \n",
       "16      6175.0      9388.0     11521.0     10671.0      5335.0      2441.0   \n",
       "17      5906.0      9041.0     10994.0     10263.0      5095.0      2331.0   \n",
       "18      6246.0      9568.0     11496.0     10504.0      5113.0      2377.0   \n",
       "19      6405.0      9824.0     11809.0     11091.0      5541.0      2589.0   \n",
       "\n",
       "    440.618400  440.671400  440.724500  \n",
       "0       1593.0      1423.0      1283.0  \n",
       "1       1535.0      1434.0      1304.0  \n",
       "2       1612.0      1485.0      1384.0  \n",
       "3       1566.0      1479.0      1280.0  \n",
       "4       1602.0      1488.0      1299.0  \n",
       "5       1543.0      1432.0      1273.0  \n",
       "6       1540.0      1461.0      1297.0  \n",
       "7       1523.0      1378.0      1224.0  \n",
       "8       1584.0      1438.0      1267.0  \n",
       "9       1440.0      1337.0      1213.0  \n",
       "10      1466.0      1355.0      1229.0  \n",
       "11      1554.0      1463.0      1287.0  \n",
       "12      1546.0      1409.0      1242.0  \n",
       "13      1560.0      1446.0      1307.0  \n",
       "14      1580.0      1426.0      1270.0  \n",
       "15      1608.0      1467.0      1394.0  \n",
       "16      1498.0      1401.0      1226.0  \n",
       "17      1480.0      1361.0      1193.0  \n",
       "18      1522.0      1392.0      1276.0  \n",
       "19      1579.0      1445.0      1252.0  \n",
       "\n",
       "[20 rows x 4093 columns]"
      ]
     },
     "execution_count": 3,
     "metadata": {},
     "output_type": "execute_result"
    }
   ],
   "source": [
    "x_df = pd.read_csv('avg_intesities_reduced.csv', sep = ',')\n",
    "values = x_df.values\n",
    "#wl=x_df.columns.values\n",
    "#print(wl.shape)\n",
    "\n",
    "#print(values)\n",
    "#print(type(values))\n",
    "print(values.shape)\n",
    "print(values[1].shape)\n",
    "print(len(values))\n",
    "x_df"
   ]
  },
  {
   "cell_type": "code",
   "execution_count": 5,
   "metadata": {},
   "outputs": [
    {
     "name": "stdout",
     "output_type": "stream",
     "text": [
      "[[188.1951]\n",
      " [188.2601]\n",
      " [188.325 ]\n",
      " ...\n",
      " [440.6184]\n",
      " [440.6714]\n",
      " [440.7245]]\n"
     ]
    },
    {
     "data": {
      "image/png": "[encoded data removed]",
      "text/plain": [
       "<Figure size 432x288 with 1 Axes>"
      ]
     },
     "metadata": {
      "needs_background": "light"
     },
     "output_type": "display_data"
    }
   ],
   "source": [
    "#This is just for visualizing the various plots of the samples\n",
    "\n",
    "mat = scipy.io.loadmat(\"./data_new/001_A1_Zanardi_QS277us_200Hz_delay1us_exp1ms.mat\")\n",
    "wl= mat[\"wl\"]\n",
    "print(wl)\n",
    "\n",
    "for i in range(len(values)):\n",
    "    plt.plot(wl, values[i])\n",
    "    #plt.show() #comment this one to have unique plot instead of multiple ones\n",
    "#range(len(dfs))\n",
    "#\"\"\"\n",
    "\n"
   ]
  },
  {
   "cell_type": "code",
   "execution_count": 6,
   "metadata": {},
   "outputs": [
    {
     "name": "stdout",
     "output_type": "stream",
     "text": [
      "<class 'pandas.core.frame.DataFrame'>\n",
      "(20, 9)\n"
     ]
    },
    {
     "data": {
      "text/html": [
       "<div>\n",
       "<style scoped>\n",
       "    .dataframe tbody tr th:only-of-type {\n",
       "        vertical-align: middle;\n",
       "    }\n",
       "\n",
       "    .dataframe tbody tr th {\n",
       "        vertical-align: top;\n",
       "    }\n",
       "\n",
       "    .dataframe thead th {\n",
       "        text-align: right;\n",
       "    }\n",
       "</style>\n",
       "<table border=\"1\" class=\"dataframe\">\n",
       "  <thead>\n",
       "    <tr style=\"text-align: right;\">\n",
       "      <th></th>\n",
       "      <th>Sample Name</th>\n",
       "      <th>Fe</th>\n",
       "      <th>Si</th>\n",
       "      <th>Mn</th>\n",
       "      <th>Cu</th>\n",
       "      <th>Ni</th>\n",
       "      <th>Cr</th>\n",
       "      <th>Mo</th>\n",
       "      <th>Mg</th>\n",
       "    </tr>\n",
       "  </thead>\n",
       "  <tbody>\n",
       "    <tr>\n",
       "      <th>0</th>\n",
       "      <td>A01</td>\n",
       "      <td>92.94</td>\n",
       "      <td>1.84</td>\n",
       "      <td>0.19</td>\n",
       "      <td>0.64</td>\n",
       "      <td>0.420</td>\n",
       "      <td>0.022</td>\n",
       "      <td>0.269</td>\n",
       "      <td>0.0024</td>\n",
       "    </tr>\n",
       "    <tr>\n",
       "      <th>1</th>\n",
       "      <td>A02</td>\n",
       "      <td>93.35</td>\n",
       "      <td>1.80</td>\n",
       "      <td>0.17</td>\n",
       "      <td>0.48</td>\n",
       "      <td>0.370</td>\n",
       "      <td>0.022</td>\n",
       "      <td>0.173</td>\n",
       "      <td>0.0017</td>\n",
       "    </tr>\n",
       "    <tr>\n",
       "      <th>2</th>\n",
       "      <td>A03</td>\n",
       "      <td>94.15</td>\n",
       "      <td>1.59</td>\n",
       "      <td>0.14</td>\n",
       "      <td>0.32</td>\n",
       "      <td>0.060</td>\n",
       "      <td>0.024</td>\n",
       "      <td>0.016</td>\n",
       "      <td>0.0010</td>\n",
       "    </tr>\n",
       "    <tr>\n",
       "      <th>3</th>\n",
       "      <td>A04</td>\n",
       "      <td>93.70</td>\n",
       "      <td>1.38</td>\n",
       "      <td>0.20</td>\n",
       "      <td>0.66</td>\n",
       "      <td>0.040</td>\n",
       "      <td>0.018</td>\n",
       "      <td>0.269</td>\n",
       "      <td>0.0017</td>\n",
       "    </tr>\n",
       "    <tr>\n",
       "      <th>4</th>\n",
       "      <td>A05</td>\n",
       "      <td>94.33</td>\n",
       "      <td>1.63</td>\n",
       "      <td>0.12</td>\n",
       "      <td>0.11</td>\n",
       "      <td>0.090</td>\n",
       "      <td>0.019</td>\n",
       "      <td>0.019</td>\n",
       "      <td>0.0022</td>\n",
       "    </tr>\n",
       "    <tr>\n",
       "      <th>5</th>\n",
       "      <td>A06</td>\n",
       "      <td>94.51</td>\n",
       "      <td>1.50</td>\n",
       "      <td>0.12</td>\n",
       "      <td>0.09</td>\n",
       "      <td>0.040</td>\n",
       "      <td>0.021</td>\n",
       "      <td>0.009</td>\n",
       "      <td>0.0009</td>\n",
       "    </tr>\n",
       "    <tr>\n",
       "      <th>6</th>\n",
       "      <td>A07</td>\n",
       "      <td>94.01</td>\n",
       "      <td>1.31</td>\n",
       "      <td>0.20</td>\n",
       "      <td>0.61</td>\n",
       "      <td>0.070</td>\n",
       "      <td>0.019</td>\n",
       "      <td>0.016</td>\n",
       "      <td>0.0046</td>\n",
       "    </tr>\n",
       "    <tr>\n",
       "      <th>7</th>\n",
       "      <td>B10</td>\n",
       "      <td>93.24</td>\n",
       "      <td>2.27</td>\n",
       "      <td>0.17</td>\n",
       "      <td>0.55</td>\n",
       "      <td>0.061</td>\n",
       "      <td>0.025</td>\n",
       "      <td>0.013</td>\n",
       "      <td>0.0660</td>\n",
       "    </tr>\n",
       "    <tr>\n",
       "      <th>8</th>\n",
       "      <td>B11</td>\n",
       "      <td>93.23</td>\n",
       "      <td>2.31</td>\n",
       "      <td>0.17</td>\n",
       "      <td>0.55</td>\n",
       "      <td>0.061</td>\n",
       "      <td>0.025</td>\n",
       "      <td>0.014</td>\n",
       "      <td>0.0720</td>\n",
       "    </tr>\n",
       "    <tr>\n",
       "      <th>9</th>\n",
       "      <td>B12</td>\n",
       "      <td>92.47</td>\n",
       "      <td>2.62</td>\n",
       "      <td>0.36</td>\n",
       "      <td>0.83</td>\n",
       "      <td>0.070</td>\n",
       "      <td>0.022</td>\n",
       "      <td>0.018</td>\n",
       "      <td>0.0490</td>\n",
       "    </tr>\n",
       "    <tr>\n",
       "      <th>10</th>\n",
       "      <td>B13</td>\n",
       "      <td>91.68</td>\n",
       "      <td>2.46</td>\n",
       "      <td>0.19</td>\n",
       "      <td>0.64</td>\n",
       "      <td>1.180</td>\n",
       "      <td>0.023</td>\n",
       "      <td>0.270</td>\n",
       "      <td>0.0580</td>\n",
       "    </tr>\n",
       "    <tr>\n",
       "      <th>11</th>\n",
       "      <td>B14</td>\n",
       "      <td>93.65</td>\n",
       "      <td>2.49</td>\n",
       "      <td>0.12</td>\n",
       "      <td>0.13</td>\n",
       "      <td>0.110</td>\n",
       "      <td>0.024</td>\n",
       "      <td>0.012</td>\n",
       "      <td>0.0360</td>\n",
       "    </tr>\n",
       "    <tr>\n",
       "      <th>12</th>\n",
       "      <td>B15</td>\n",
       "      <td>93.55</td>\n",
       "      <td>2.53</td>\n",
       "      <td>0.13</td>\n",
       "      <td>0.13</td>\n",
       "      <td>0.093</td>\n",
       "      <td>0.024</td>\n",
       "      <td>0.012</td>\n",
       "      <td>0.0330</td>\n",
       "    </tr>\n",
       "    <tr>\n",
       "      <th>13</th>\n",
       "      <td>B16</td>\n",
       "      <td>93.63</td>\n",
       "      <td>2.48</td>\n",
       "      <td>0.12</td>\n",
       "      <td>0.13</td>\n",
       "      <td>0.052</td>\n",
       "      <td>0.024</td>\n",
       "      <td>0.012</td>\n",
       "      <td>0.0300</td>\n",
       "    </tr>\n",
       "    <tr>\n",
       "      <th>14</th>\n",
       "      <td>C17</td>\n",
       "      <td>92.27</td>\n",
       "      <td>2.54</td>\n",
       "      <td>0.16</td>\n",
       "      <td>1.13</td>\n",
       "      <td>0.095</td>\n",
       "      <td>0.027</td>\n",
       "      <td>0.027</td>\n",
       "      <td>0.0568</td>\n",
       "    </tr>\n",
       "    <tr>\n",
       "      <th>15</th>\n",
       "      <td>C18</td>\n",
       "      <td>92.79</td>\n",
       "      <td>2.40</td>\n",
       "      <td>0.21</td>\n",
       "      <td>0.65</td>\n",
       "      <td>0.071</td>\n",
       "      <td>0.019</td>\n",
       "      <td>0.265</td>\n",
       "      <td>0.0470</td>\n",
       "    </tr>\n",
       "    <tr>\n",
       "      <th>16</th>\n",
       "      <td>C19</td>\n",
       "      <td>91.81</td>\n",
       "      <td>2.39</td>\n",
       "      <td>0.20</td>\n",
       "      <td>0.65</td>\n",
       "      <td>1.100</td>\n",
       "      <td>0.021</td>\n",
       "      <td>0.267</td>\n",
       "      <td>0.0542</td>\n",
       "    </tr>\n",
       "    <tr>\n",
       "      <th>17</th>\n",
       "      <td>C20</td>\n",
       "      <td>91.81</td>\n",
       "      <td>2.42</td>\n",
       "      <td>0.19</td>\n",
       "      <td>0.65</td>\n",
       "      <td>1.060</td>\n",
       "      <td>0.021</td>\n",
       "      <td>0.263</td>\n",
       "      <td>0.0442</td>\n",
       "    </tr>\n",
       "    <tr>\n",
       "      <th>18</th>\n",
       "      <td>C21</td>\n",
       "      <td>92.37</td>\n",
       "      <td>2.61</td>\n",
       "      <td>0.16</td>\n",
       "      <td>1.17</td>\n",
       "      <td>0.062</td>\n",
       "      <td>0.019</td>\n",
       "      <td>0.015</td>\n",
       "      <td>0.0504</td>\n",
       "    </tr>\n",
       "    <tr>\n",
       "      <th>19</th>\n",
       "      <td>C22</td>\n",
       "      <td>92.07</td>\n",
       "      <td>4.40</td>\n",
       "      <td>0.20</td>\n",
       "      <td>0.14</td>\n",
       "      <td>0.053</td>\n",
       "      <td>0.022</td>\n",
       "      <td>0.012</td>\n",
       "      <td>0.0468</td>\n",
       "    </tr>\n",
       "  </tbody>\n",
       "</table>\n",
       "</div>"
      ],
      "text/plain": [
       "   Sample Name     Fe    Si    Mn    Cu     Ni     Cr     Mo      Mg\n",
       "0          A01  92.94  1.84  0.19  0.64  0.420  0.022  0.269  0.0024\n",
       "1          A02  93.35  1.80  0.17  0.48  0.370  0.022  0.173  0.0017\n",
       "2          A03  94.15  1.59  0.14  0.32  0.060  0.024  0.016  0.0010\n",
       "3          A04  93.70  1.38  0.20  0.66  0.040  0.018  0.269  0.0017\n",
       "4          A05  94.33  1.63  0.12  0.11  0.090  0.019  0.019  0.0022\n",
       "5          A06  94.51  1.50  0.12  0.09  0.040  0.021  0.009  0.0009\n",
       "6          A07  94.01  1.31  0.20  0.61  0.070  0.019  0.016  0.0046\n",
       "7          B10  93.24  2.27  0.17  0.55  0.061  0.025  0.013  0.0660\n",
       "8          B11  93.23  2.31  0.17  0.55  0.061  0.025  0.014  0.0720\n",
       "9          B12  92.47  2.62  0.36  0.83  0.070  0.022  0.018  0.0490\n",
       "10         B13  91.68  2.46  0.19  0.64  1.180  0.023  0.270  0.0580\n",
       "11         B14  93.65  2.49  0.12  0.13  0.110  0.024  0.012  0.0360\n",
       "12         B15  93.55  2.53  0.13  0.13  0.093  0.024  0.012  0.0330\n",
       "13         B16  93.63  2.48  0.12  0.13  0.052  0.024  0.012  0.0300\n",
       "14         C17  92.27  2.54  0.16  1.13  0.095  0.027  0.027  0.0568\n",
       "15         C18  92.79  2.40  0.21  0.65  0.071  0.019  0.265  0.0470\n",
       "16         C19  91.81  2.39  0.20  0.65  1.100  0.021  0.267  0.0542\n",
       "17         C20  91.81  2.42  0.19  0.65  1.060  0.021  0.263  0.0442\n",
       "18         C21  92.37  2.61  0.16  1.17  0.062  0.019  0.015  0.0504\n",
       "19         C22  92.07  4.40  0.20  0.14  0.053  0.022  0.012  0.0468"
      ]
     },
     "execution_count": 6,
     "metadata": {},
     "output_type": "execute_result"
    }
   ],
   "source": [
    "df_y = pd.read_csv('labels.csv', sep = ',')\n",
    "print(type(df_y))\n",
    "concentration=df_y.values\n",
    "print(concentration.shape)\n",
    "#print(concentration)\n",
    "df_y"
   ]
  },
  {
   "cell_type": "code",
   "execution_count": 8,
   "metadata": {
    "scrolled": true
   },
   "outputs": [
    {
     "name": "stdout",
     "output_type": "stream",
     "text": [
      "[0.0024 0.0017 0.001 0.0017 0.0022 0.0009 0.0046 0.066 0.07200000000000001\n",
      " 0.049 0.057999999999999996 0.036000000000000004 0.033 0.03 0.0568 0.047\n",
      " 0.0542 0.0442 0.0504 0.0468]\n",
      "(20,)\n"
     ]
    }
   ],
   "source": [
    "y = concentration[:,-1] #2 is Si, -1 is Mg\n",
    "print(y)\n",
    "print(y.shape)"
   ]
  },
  {
   "cell_type": "code",
   "execution_count": null,
   "metadata": {},
   "outputs": [],
   "source": []
  },
  {
   "cell_type": "code",
   "execution_count": 9,
   "metadata": {},
   "outputs": [],
   "source": [
    "y_df= pd.DataFrame(y)\n",
    "#df_y_si"
   ]
  },
  {
   "cell_type": "code",
   "execution_count": 10,
   "metadata": {},
   "outputs": [
    {
     "name": "stdout",
     "output_type": "stream",
     "text": [
      "(16, 4093) (16, 1)\n",
      "(4, 4093) (4, 1)\n"
     ]
    }
   ],
   "source": [
    "X_train, X_test, y_train, y_test = train_test_split(x_df, y_df, test_size=0.2)\n",
    "print (X_train.shape, y_train.shape)\n",
    "print (X_test.shape, y_test.shape)\n",
    "#print(X_test)"
   ]
  },
  {
   "cell_type": "markdown",
   "metadata": {},
   "source": [
    "# Principal Components Analysis"
   ]
  },
  {
   "cell_type": "code",
   "execution_count": 11,
   "metadata": {},
   "outputs": [
    {
     "name": "stdout",
     "output_type": "stream",
     "text": [
      "(20, 4093)\n",
      "(4093,)\n",
      "20\n",
      "(20, 20)\n",
      "[45.23 55.81 66.17 72.76 76.94 80.37 82.75 84.76 86.63 88.3  89.85 91.38\n",
      " 92.77 94.13 95.44 96.66 97.82 98.93 99.99 99.99]\n"
     ]
    }
   ],
   "source": [
    "n_components=20\n",
    "\n",
    "x_df = pd.read_csv('avg_intesities_reduced.csv', sep = ',')\n",
    "x = x_df.values\n",
    "print(x.shape)\n",
    "print(x[1].shape)\n",
    "print(len(x))\n",
    "\n",
    "# PCA\n",
    "\n",
    "X_std = StandardScaler().fit_transform(x)\n",
    "#print(X_std)\n",
    "\n",
    "pca = PCA(n_components= n_components)\n",
    "PC=pca.fit(X_std)\n",
    "\n",
    "principalComponents = pca.fit_transform(X_std)\n",
    "print(principalComponents.shape)\n",
    "#principalDf = pd.DataFrame(data = principalComponents, columns = ['principal component 1', 'principal component 2', 'principal component 3'])\n",
    "#print(principalDf)\n",
    "\n",
    "\n",
    "#print(pca.explained_variance_ratio_)\n",
    "print(np.cumsum(np.round(pca.explained_variance_ratio_, decimals=4)*100))\n",
    "#print(pca.singular_values_)"
   ]
  },
  {
   "cell_type": "code",
   "execution_count": 12,
   "metadata": {},
   "outputs": [
    {
     "name": "stdout",
     "output_type": "stream",
     "text": [
      "1.0 0.4819181318648965\n",
      "4.104144486347951e-34 0.000312005725699627\n"
     ]
    }
   ],
   "source": [
    "regr = linear_model.LinearRegression()\n",
    "# Fit\n",
    "regr.fit(principalComponents, y_df)\n",
    "# Calibration\n",
    "y_c = regr.predict(principalComponents)\n",
    "# Cross-validation\n",
    "y_cv = cross_val_predict(regr, principalComponents, y_df, cv=10)\n",
    "# Calculate scores for calibration and cross-validation\n",
    "score_c = r2_score(y_df, y_c)\n",
    "score_cv = r2_score(y_df, y_cv)\n",
    "# Calculate mean square error for calibration and cross validation\n",
    "mse_c = mean_squared_error(y_df, y_c)\n",
    "mse_cv = mean_squared_error(y_df, y_cv)\n",
    "\n",
    "print(score_c, score_cv)\n",
    "print(mse_c, mse_cv)"
   ]
  },
  {
   "cell_type": "code",
   "execution_count": 13,
   "metadata": {},
   "outputs": [
    {
     "name": "stdout",
     "output_type": "stream",
     "text": [
      "(16, 4093)\n",
      "(4093,)\n",
      "16\n",
      "(16, 15)\n",
      "[ 45.43  56.99  67.55  74.62  79.43  82.91  85.81  88.11  90.17  92.\n",
      "  93.78  95.48  97.16  98.66 100.01]\n"
     ]
    }
   ],
   "source": [
    "n_components=15\n",
    "\n",
    "x = X_train.values\n",
    "x_t = X_test.values\n",
    "print(x.shape)\n",
    "print(x[1].shape)\n",
    "print(len(x))\n",
    "\n",
    "\n",
    "# This has to be used later for regression, PCA is done on X only\n",
    "\"\"\"\n",
    "y_df = pd.read_csv('labels_aligned+.csv', sep = ',')\n",
    "concentration=y_df.values\n",
    "#print(concentration)\n",
    "multi_y = concentration[:,2:]\n",
    "#print (multi_y)\n",
    "print (multi_y.shape)\n",
    "multi_y= np.array(multi_y, dtype=np.float)\n",
    "y=np.around(multi_y, decimals=4)\n",
    "#print(y)\n",
    "\"\"\"\n",
    "\n",
    "# PCA\n",
    "\n",
    "X_std = StandardScaler().fit_transform(x)\n",
    "X_std_test = StandardScaler().fit_transform(x_t)\n",
    "#print(X_std)\n",
    "\n",
    "pca = PCA(n_components= n_components)\n",
    "PC=pca.fit(X_std)\n",
    "\n",
    "x_pc = pca.fit_transform(X_std)\n",
    "x_test1 = pca.transform(X_std_test)\n",
    "print(x_pc.shape)\n",
    "#principalDf = pd.DataFrame(data = principalComponents, columns = ['principal component 1', 'principal component 2', 'principal component 3'])\n",
    "#print(principalDf)\n",
    "\n",
    "\n",
    "#print(pca.explained_variance_ratio_)\n",
    "print(np.cumsum(np.round(pca.explained_variance_ratio_, decimals=4)*100))"
   ]
  },
  {
   "cell_type": "markdown",
   "metadata": {},
   "source": [
    "#### Linear regression w/ PCA"
   ]
  },
  {
   "cell_type": "code",
   "execution_count": 14,
   "metadata": {
    "scrolled": true
   },
   "outputs": [
    {
     "name": "stdout",
     "output_type": "stream",
     "text": [
      "R2_pred:  0.5844973467359778\n",
      "MSE:  0.0003069533641662714\n"
     ]
    }
   ],
   "source": [
    "regr = linear_model.LinearRegression()\n",
    "# Fit\n",
    "regr.fit(x_pc, y_train)\n",
    "# Calibration\n",
    "y_c = regr.predict(x_test1)\n",
    "# Cross-validation\n",
    "#y_cv = cross_val_predict(regr, principalComponents, y_df, cv=10)\n",
    "# Calculate scores for calibration and cross-validation\n",
    "score_c = r2_score(y_test, y_c)\n",
    "#score_cv = r2_score(y_df, y_cv)\n",
    "# Calculate mean square error for calibration and cross validation\n",
    "mse_c = mean_squared_error(y_test, y_c)\n",
    "#mse_cv = mean_squared_error(y_df, y_cv)\n",
    "\n",
    "print(\"R2_pred: \", score_c)\n",
    "print(\"MSE: \", mse_c)"
   ]
  },
  {
   "cell_type": "code",
   "execution_count": 15,
   "metadata": {},
   "outputs": [
    {
     "name": "stdout",
     "output_type": "stream",
     "text": [
      "[real, predictions]\n",
      "[[0.001 0.006924261023735272]\n",
      " [0.066 0.056051515529569704]\n",
      " [0.036000000000000004 0.04212444842958639]\n",
      " [0.0009 0.03339977501710867]] \n",
      "\n"
     ]
    },
    {
     "data": {
      "image/png": "[encoded data removed]",
      "text/plain": [
       "<Figure size 432x288 with 1 Axes>"
      ]
     },
     "metadata": {
      "needs_background": "light"
     },
     "output_type": "display_data"
    }
   ],
   "source": [
    "b=np.append(y_test, y_c, axis=1)\n",
    "\n",
    "print(\"[real, predictions]\")\n",
    "print(b, \"\\n\")\n",
    "\n",
    "plt.scatter(y_test, y_c)\n",
    "plt.xlabel('True Values')\n",
    "plt.ylabel('Predictions')\n",
    "plt.grid(True)\n",
    "plt.show()"
   ]
  },
  {
   "cell_type": "markdown",
   "metadata": {},
   "source": [
    "#### PLS regression w/ PCA"
   ]
  },
  {
   "cell_type": "code",
   "execution_count": 16,
   "metadata": {},
   "outputs": [
    {
     "name": "stdout",
     "output_type": "stream",
     "text": [
      "37% completed\n",
      "Suggested number of components:  2\n",
      "\n"
     ]
    },
    {
     "data": {
      "image/png": "[encoded data removed]",
      "text/plain": [
       "<Figure size 432x288 with 1 Axes>"
      ]
     },
     "metadata": {},
     "output_type": "display_data"
    },
    {
     "name": "stdout",
     "output_type": "stream",
     "text": [
      "R2 calib: 1.000\n",
      "R2 CV: -0.284\n",
      "MSE calib: 0.000\n",
      "MSE CV: 0.001\n"
     ]
    }
   ],
   "source": [
    "optimise_pls_cv(x_pc, y_train, 15, plot_components=True) "
   ]
  },
  {
   "cell_type": "code",
   "execution_count": 18,
   "metadata": {},
   "outputs": [
    {
     "name": "stdout",
     "output_type": "stream",
     "text": [
      "R2_pred:  0.5844973467359774\n",
      "MSE:  0.00030695336416627163 \n",
      "\n",
      "[real, predictions]\n",
      "[[0.001 0.006924261023735251]\n",
      " [0.066 0.0560515155295697]\n",
      " [0.036000000000000004 0.042124448429586396]\n",
      " [0.0009 0.03339977501710868]] \n",
      "\n"
     ]
    },
    {
     "data": {
      "image/png": "[encoded data removed]",
      "text/plain": [
       "<Figure size 432x288 with 1 Axes>"
      ]
     },
     "metadata": {
      "needs_background": "light"
     },
     "output_type": "display_data"
    }
   ],
   "source": [
    "pls = PLSRegression(n_components=2)\n",
    "# Fit\n",
    "pls.fit(x_pc, y_train)\n",
    "# Calibration\n",
    "y_c = pls.predict(x_test1)\n",
    "# Cross-validation\n",
    "#y_cv = cross_val_predict(regr, principalComponents, y_df, cv=10)\n",
    "# Calculate scores for calibration and cross-validation\n",
    "score_c = r2_score(y_test, y_c)\n",
    "#score_cv = r2_score(y_df, y_cv)\n",
    "# Calculate mean square error for calibration and cross validation\n",
    "mse_c = mean_squared_error(y_test, y_c)\n",
    "#mse_cv = mean_squared_error(y_df, y_cv)\n",
    "\n",
    "print(\"R2_pred: \", score_c)\n",
    "print(\"MSE: \", mse_c, \"\\n\")\n",
    "\n",
    "b=np.append(y_test, y_c, axis=1)\n",
    "\n",
    "print(\"[real, predictions]\")\n",
    "print(b, \"\\n\")\n",
    "\n",
    "plt.scatter(y_test, y_c)\n",
    "plt.xlabel('True Values')\n",
    "plt.ylabel('Predictions')\n",
    "plt.grid(True)\n",
    "plt.show()"
   ]
  },
  {
   "cell_type": "code",
   "execution_count": null,
   "metadata": {},
   "outputs": [],
   "source": []
  },
  {
   "cell_type": "markdown",
   "metadata": {},
   "source": [
    "# Linear Regression\n",
    "this is ordinary least square regression on the whole spectra"
   ]
  },
  {
   "cell_type": "code",
   "execution_count": 19,
   "metadata": {},
   "outputs": [
    {
     "name": "stdout",
     "output_type": "stream",
     "text": [
      "(16, 4093) (16, 1)\n",
      "(4, 4093) (4, 1)\n"
     ]
    }
   ],
   "source": [
    "X_train, X_test, y_train, y_test = train_test_split(x_df, y_df, test_size=0.2)\n",
    "print (X_train.shape, y_train.shape)\n",
    "print (X_test.shape, y_test.shape)"
   ]
  },
  {
   "cell_type": "code",
   "execution_count": 24,
   "metadata": {},
   "outputs": [],
   "source": [
    "from sklearn import linear_model\n",
    "\n",
    "# fit a model\n",
    "lm = linear_model.LinearRegression()\n",
    "model = lm.fit(X_train, y_train)\n",
    "predictions = lm.predict(X_test)"
   ]
  },
  {
   "cell_type": "code",
   "execution_count": 25,
   "metadata": {},
   "outputs": [
    {
     "name": "stdout",
     "output_type": "stream",
     "text": [
      "R^2:  0.8275089272298963\n",
      "RMSE:  0.011368951533874317 \n",
      "\n",
      "[real, predictions]\n",
      "[[0.0046 0.024021761900722416]\n",
      " [0.0017 0.010676707347656772]\n",
      " [0.066 0.0584985921190897]\n",
      " [0.0022 0.003919012969329061]] \n",
      "\n"
     ]
    },
    {
     "data": {
      "image/png": "[encoded data removed]",
      "text/plain": [
       "<Figure size 432x288 with 1 Axes>"
      ]
     },
     "metadata": {
      "needs_background": "light"
     },
     "output_type": "display_data"
    }
   ],
   "source": [
    "rmse = sqrt(mean_squared_error(y_test, predictions))\n",
    "r2 = r2_score(y_test, predictions)\n",
    "\n",
    "print(\"R^2: \", r2)\n",
    "print(\"RMSE: \", rmse, \"\\n\")\n",
    "\n",
    "b=np.append(y_test, predictions, axis=1)\n",
    "\n",
    "print(\"[real, predictions]\")\n",
    "print(b, \"\\n\")\n",
    "\n",
    "plt.scatter(y_test, predictions)\n",
    "plt.xlabel('True Values')\n",
    "plt.ylabel('Predictions')\n",
    "plt.grid(True)\n",
    "plt.show()"
   ]
  },
  {
   "cell_type": "markdown",
   "metadata": {},
   "source": [
    "# Partial Least Square Regression"
   ]
  },
  {
   "cell_type": "code",
   "execution_count": 22,
   "metadata": {},
   "outputs": [
    {
     "name": "stdout",
     "output_type": "stream",
     "text": [
      "(16, 4093) (16, 1)\n",
      "(4, 4093) (4, 1)\n"
     ]
    }
   ],
   "source": [
    "X_train, X_test, y_train, y_test = train_test_split(x_df, y_df, test_size=0.2)\n",
    "print (X_train.shape, y_train.shape)\n",
    "print (X_test.shape, y_test.shape)"
   ]
  },
  {
   "cell_type": "markdown",
   "metadata": {},
   "source": [
    "#### First search for optimal number of components on the whole dataset"
   ]
  },
  {
   "cell_type": "code",
   "execution_count": 23,
   "metadata": {},
   "outputs": [
    {
     "name": "stdout",
     "output_type": "stream",
     "text": [
      "100% completed\n",
      "Suggested number of components:  7\n",
      "\n"
     ]
    },
    {
     "data": {
      "image/png": "[encoded data removed]",
      "text/plain": [
       "<Figure size 432x288 with 1 Axes>"
      ]
     },
     "metadata": {},
     "output_type": "display_data"
    },
    {
     "name": "stdout",
     "output_type": "stream",
     "text": [
      "R2 calib: 1.000\n",
      "R2 CV: 0.485\n",
      "MSE calib: 0.000\n",
      "MSE CV: 0.000\n"
     ]
    }
   ],
   "source": [
    "optimise_pls_cv(x_df,y_df, 40, plot_components=True)"
   ]
  },
  {
   "cell_type": "code",
   "execution_count": 26,
   "metadata": {},
   "outputs": [
    {
     "name": "stdout",
     "output_type": "stream",
     "text": [
      "100% completed\n",
      "Suggested number of components:  3\n",
      "\n"
     ]
    },
    {
     "data": {
      "image/png": "[encoded data removed]",
      "text/plain": [
       "<Figure size 432x288 with 1 Axes>"
      ]
     },
     "metadata": {},
     "output_type": "display_data"
    },
    {
     "name": "stdout",
     "output_type": "stream",
     "text": [
      "R2 calib: 0.962\n",
      "R2 CV: 0.198\n",
      "MSE calib: 0.000\n",
      "MSE CV: 0.000\n"
     ]
    }
   ],
   "source": [
    "optimise_pls_cv(X_train,y_train, 40, plot_components=True)"
   ]
  },
  {
   "cell_type": "code",
   "execution_count": 32,
   "metadata": {},
   "outputs": [
    {
     "name": "stdout",
     "output_type": "stream",
     "text": [
      "R2_pred: 0.6706609582634993\n",
      "R2_cv: 0.1825495150652372 \n",
      "\n",
      "[real, predictions]\n",
      "[[0.0046 0.010943360571269815]\n",
      " [0.0017 0.011528983721469672]\n",
      " [0.066 0.03897768900458854]\n",
      " [0.0022 0.013158308754259013]]\n"
     ]
    },
    {
     "data": {
      "image/png": "[encoded data removed]",
      "text/plain": [
       "<Figure size 432x288 with 1 Axes>"
      ]
     },
     "metadata": {
      "needs_background": "light"
     },
     "output_type": "display_data"
    }
   ],
   "source": [
    "# Define PLS object\n",
    "pls = PLSRegression(n_components=7)\n",
    "# Fit\n",
    "pls.fit(X_train, y_train)\n",
    "# Cross-validation\n",
    "y_pred = pls.predict(X_test)\n",
    "\n",
    "# Cross-validation\n",
    "y_cv = cross_val_predict(pls, X_train, y_train, cv=10)\n",
    "\n",
    "# Calculate scores for calibration and cross-validation\n",
    "score_pred = r2_score(y_test, y_pred)\n",
    "score_cv = r2_score(y_train, y_cv)\n",
    "\n",
    "print(\"R2_pred:\", score_pred)\n",
    "print(\"R2_cv:\",score_cv, \"\\n\")\n",
    "\n",
    "b=np.append(y_test, y_pred, axis=1)\n",
    "\n",
    "print(\"[real, predictions]\")\n",
    "print(b)\n",
    "\n",
    "plt.scatter(y_test, y_pred)\n",
    "plt.xlabel('True Values')\n",
    "plt.ylabel('Predictions')\n",
    "plt.grid(True)\n",
    "plt.show()"
   ]
  },
  {
   "cell_type": "code",
   "execution_count": 33,
   "metadata": {},
   "outputs": [
    {
     "name": "stdout",
     "output_type": "stream",
     "text": [
      "100% completed\n",
      "Optimised number of PLS components:  6\n",
      "Wavelengths to be discarded  3618\n",
      "Optimised MSEP  4.5522935904420236e-05\n",
      "\n"
     ]
    }
   ],
   "source": [
    "### This is the slow script\n",
    "\n",
    "opt_Xc, ncomp, wav, sorted_ind = pls_variable_selection(x_df.values, y_df, 20)"
   ]
  },
  {
   "cell_type": "code",
   "execution_count": 127,
   "metadata": {},
   "outputs": [
    {
     "name": "stdout",
     "output_type": "stream",
     "text": [
      "sorted indexes:  [1788  693 1650 ... 3070 1492 1494]\n",
      "indexes shape:  (4093,)\n",
      "[[303.9064 233.272  295.0992 364.8615 345.9348 305.3705 342.9016 272.9982\n",
      "  434.9537 384.8145]]\n"
     ]
    }
   ],
   "source": [
    "print(\"sorted indexes: \", sorted_ind)\n",
    "print(\"indexes shape: \", sorted_ind.shape)\n",
    "print(wl[sorted_ind[:10]].T)"
   ]
  },
  {
   "cell_type": "code",
   "execution_count": 136,
   "metadata": {},
   "outputs": [
    {
     "name": "stdout",
     "output_type": "stream",
     "text": [
      "(16, 475) (16, 1)\n",
      "(4, 475) (4, 1)\n"
     ]
    }
   ],
   "source": [
    "X_train, X_test, y_train, y_test = train_test_split(opt_Xc, y_df, test_size=0.2)\n",
    "print (X_train.shape, y_train.shape)\n",
    "print (X_test.shape, y_test.shape)\n",
    "#print(X_test)"
   ]
  },
  {
   "cell_type": "code",
   "execution_count": 137,
   "metadata": {},
   "outputs": [
    {
     "name": "stdout",
     "output_type": "stream",
     "text": [
      "62% completed\n",
      "Suggested number of components:  5\n",
      "\n"
     ]
    },
    {
     "data": {
      "image/png": "[encoded data removed]",
      "text/plain": [
       "<Figure size 432x288 with 1 Axes>"
      ]
     },
     "metadata": {},
     "output_type": "display_data"
    },
    {
     "name": "stdout",
     "output_type": "stream",
     "text": [
      "R2 calib: 1.000\n",
      "R2 CV: 0.909\n",
      "MSE calib: 0.000\n",
      "MSE CV: 0.000\n"
     ]
    }
   ],
   "source": [
    "optimise_pls_cv(X_train,y_train, 25, plot_components=True)"
   ]
  },
  {
   "cell_type": "code",
   "execution_count": 156,
   "metadata": {
    "scrolled": false
   },
   "outputs": [
    {
     "name": "stdout",
     "output_type": "stream",
     "text": [
      "R2_pred:  0.9390601990368406\n",
      "R2_cv:  0.9089230334719359\n",
      "\n",
      "TEST\n",
      " [real, predictions]\n",
      "[[0.066 0.05434645897294707]\n",
      " [0.001 -1.6097103421465475e-05]\n",
      " [0.033 0.030192934707197576]\n",
      " [0.0024 0.007668970498228851]]\n",
      "\n"
     ]
    },
    {
     "data": {
      "image/png": "[encoded data removed]",
      "text/plain": [
       "<Figure size 1080x720 with 1 Axes>"
      ]
     },
     "metadata": {
      "needs_background": "light"
     },
     "output_type": "display_data"
    }
   ],
   "source": [
    "\n",
    "\n",
    "# Define PLS object\n",
    "pls = PLSRegression(n_components=7)\n",
    "# Fit\n",
    "pls.fit(X_train, y_train)\n",
    "# Cross-validation\n",
    "y_pred = pls.predict(X_test)\n",
    "y_pred1 = pls.predict(X_train)\n",
    "\n",
    "# Cross-validation\n",
    "y_cv = cross_val_predict(pls, X_train, y_train, cv=10)\n",
    "\n",
    "# Calculate scores for calibration and cross-validation\n",
    "score_pred = r2_score(y_test, y_pred)\n",
    "score_cv = r2_score(y_train, y_cv)\n",
    "\n",
    "print(\"R2_pred: \", score_pred)\n",
    "print(\"R2_cv: \",score_cv)\n",
    "print(\"\")\n",
    "\n",
    "b=np.append(y_test, y_pred, axis=1)\n",
    "\n",
    "print(\"TEST\\n [real, predictions]\")\n",
    "print(b)\n",
    "print(\"\")\n",
    "\n",
    "#c=np.append(y_train, y_pred1, axis=1)\n",
    "\n",
    "#print(\"TRAIN\\n [real, predictions]\")\n",
    "#print(c)\n",
    "\n",
    "plt.figure(figsize=(15,10))\n",
    "plt.scatter(y_test, y_pred)\n",
    "plt.scatter(y_train, y_pred1)\n",
    "#plt.plot( y_test, LinearRegression().fit(y_test, y_pred).predict(y_test) )\n",
    "plt.xlabel('True Values', fontsize=18 )\n",
    "plt.ylabel('Predictions', fontsize=18)\n",
    "plt.grid(True)\n",
    "plt.show()"
   ]
  },
  {
   "cell_type": "code",
   "execution_count": 159,
   "metadata": {},
   "outputs": [
    {
     "data": {
      "image/png": "[encoded data removed]",
      "text/plain": [
       "<Figure size 1080x720 with 1 Axes>"
      ]
     },
     "metadata": {
      "needs_background": "light"
     },
     "output_type": "display_data"
    }
   ],
   "source": [
    "plt.figure(figsize=(15,10))\n",
    "plt.scatter(y_pred, y_test)\n",
    "plt.scatter(y_pred1,y_train)\n",
    "\n",
    "#plt.plot( y_test, linear_model.LinearRegression().fit(y_test, y_pred).predict(y_test) )\n",
    "\n",
    "plt.rc('xtick', labelsize=15) \n",
    "plt.rc('ytick', labelsize=15) \n",
    "\n",
    "plt.ylabel('True Values', fontsize=24 )\n",
    "plt.xlabel('Predictions', fontsize=24)\n",
    "plt.grid(True)\n",
    "plt.show()"
   ]
  },
  {
   "cell_type": "markdown",
   "metadata": {},
   "source": [
    "## Using Savgol filter"
   ]
  },
  {
   "cell_type": "code",
   "execution_count": 38,
   "metadata": {},
   "outputs": [
    {
     "name": "stdout",
     "output_type": "stream",
     "text": [
      "(16, 4093) (16, 1)\n",
      "(4, 4093) (4, 1)\n"
     ]
    }
   ],
   "source": [
    "X_train, X_test, y_train, y_test = train_test_split(x_df, y_df, test_size=0.2, random_state=4)\n",
    "print (X_train.shape, y_train.shape)\n",
    "print (X_test.shape, y_test.shape)\n",
    "#print(X_test)"
   ]
  },
  {
   "cell_type": "code",
   "execution_count": 39,
   "metadata": {},
   "outputs": [
    {
     "data": {
      "image/png": "[encoded data removed]",
      "text/plain": [
       "<Figure size 576x324 with 1 Axes>"
      ]
     },
     "metadata": {
      "needs_background": "light"
     },
     "output_type": "display_data"
    },
    {
     "name": "stdout",
     "output_type": "stream",
     "text": [
      "100% completed\n",
      "Suggested number of components:  10\n",
      "\n"
     ]
    },
    {
     "data": {
      "image/png": "[encoded data removed]",
      "text/plain": [
       "<Figure size 432x288 with 1 Axes>"
      ]
     },
     "metadata": {},
     "output_type": "display_data"
    },
    {
     "name": "stdout",
     "output_type": "stream",
     "text": [
      "R2 calib: 1.000\n",
      "R2 CV: 0.759\n",
      "MSE calib: 0.000\n",
      "MSE CV: 0.000\n"
     ]
    }
   ],
   "source": [
    "# Calculate second derivative\n",
    "X2 = savgol_filter(x_df, 23, polyorder = 2,deriv=0) # Is this useful with LIBS spectra???\n",
    "# Plot second derivative\n",
    "plt.figure(figsize=(8,4.5))\n",
    "with plt.style.context(('ggplot')):\n",
    "    plt.plot(range(len(X2.T)), X2.T)\n",
    "    plt.xlabel('Wavelength (nm)')\n",
    "    plt.ylabel('D2 Intensity')\n",
    "    plt.show()\n",
    "    \n",
    "    \n",
    "#X2_1 = msc(X2)[0]\n",
    "    \n",
    "optimise_pls_cv(X2, y_df, 40, plot_components=True)"
   ]
  },
  {
   "cell_type": "code",
   "execution_count": 46,
   "metadata": {},
   "outputs": [
    {
     "name": "stdout",
     "output_type": "stream",
     "text": [
      "100% completed\n",
      "Suggested number of components:  4\n",
      "\n"
     ]
    },
    {
     "data": {
      "image/png": "[encoded data removed]",
      "text/plain": [
       "<Figure size 432x288 with 1 Axes>"
      ]
     },
     "metadata": {},
     "output_type": "display_data"
    },
    {
     "name": "stdout",
     "output_type": "stream",
     "text": [
      "R2 calib: 0.982\n",
      "R2 CV: 0.507\n",
      "MSE calib: 0.000\n",
      "MSE CV: 0.000\n"
     ]
    }
   ],
   "source": [
    "#X2_train = savgol_filter(X_train, 17, polyorder = 4,deriv=0) \n",
    "#X2_test = savgol_filter(X_test, 17, polyorder = 4,deriv=0) \n",
    "\n",
    "X2_train = savgol_filter(X_train, 17, polyorder = 4,deriv=1) \n",
    "X2_test = savgol_filter(X_test, 17, polyorder = 4,deriv=1) \n",
    "\n",
    "#X2_train = savgol_filter(X_train, 17, polyorder = 8,deriv=2) \n",
    "#X2_test = savgol_filter(X_test, 17, polyorder = 8,deriv=2) \n",
    "\n",
    "\n",
    "optimise_pls_cv(X2_train, y_train, 40, plot_components=True)"
   ]
  },
  {
   "cell_type": "code",
   "execution_count": 48,
   "metadata": {},
   "outputs": [
    {
     "name": "stdout",
     "output_type": "stream",
     "text": [
      "R2_pred:  0.49674757595053953\n",
      "R2_cv:  0.5073857713451131\n",
      "\n",
      "[real, predictions]\n",
      "[[0.0468 0.06883109103816601]\n",
      " [0.0017 0.010564957900228596]\n",
      " [0.0504 0.028593383846708367]\n",
      " [0.0046 0.002262889887229169]]\n"
     ]
    },
    {
     "data": {
      "image/png": "[encoded data removed]",
      "text/plain": [
       "<Figure size 432x288 with 1 Axes>"
      ]
     },
     "metadata": {
      "needs_background": "light"
     },
     "output_type": "display_data"
    }
   ],
   "source": [
    "# Define PLS object\n",
    "pls = PLSRegression(n_components=4)\n",
    "# Fit\n",
    "pls.fit(X2_train, y_train)\n",
    "# Cross-validation\n",
    "y_pred = pls.predict(X2_test)\n",
    "\n",
    "# Cross-validation\n",
    "y_cv = cross_val_predict(pls, X2_train, y_train, cv=10)\n",
    "\n",
    "# Calculate scores for calibration and cross-validation\n",
    "score_pred = r2_score(y_test, y_pred)\n",
    "score_cv = r2_score(y_train, y_cv)\n",
    "\n",
    "print(\"R2_pred: \", score_pred)\n",
    "print(\"R2_cv: \",score_cv)\n",
    "print(\"\")\n",
    "\n",
    "b=np.append(y_test, y_pred, axis=1)\n",
    "\n",
    "print(\"[real, predictions]\")\n",
    "print(b)\n",
    "\n",
    "plt.scatter(y_test, y_pred)\n",
    "plt.xlabel('True Values')\n",
    "plt.ylabel('Predictions')\n",
    "plt.grid(True)\n",
    "plt.show()"
   ]
  },
  {
   "cell_type": "markdown",
   "metadata": {},
   "source": [
    "## Using Normalization"
   ]
  },
  {
   "cell_type": "code",
   "execution_count": 139,
   "metadata": {},
   "outputs": [
    {
     "name": "stdout",
     "output_type": "stream",
     "text": [
      "(4, 475)\n"
     ]
    }
   ],
   "source": [
    "#use this if you want to try normalization on the optimized dataset (opt_Xc)\n",
    "#X_train, X_test, y_train, y_test = train_test_split(opt_Xc, y_df, test_size=0.2) \n",
    "\n",
    "\n",
    "Xn_train = normalize(X_train, axis=1)\n",
    "Xn_test = normalize(X_test, axis=1)\n",
    "\n",
    "print(Xn_test.shape)\n",
    "#plt.plot(wl, X_test.T)"
   ]
  },
  {
   "cell_type": "code",
   "execution_count": 140,
   "metadata": {},
   "outputs": [
    {
     "name": "stdout",
     "output_type": "stream",
     "text": [
      "100% completed\n",
      "Suggested number of components:  5\n",
      "\n"
     ]
    },
    {
     "data": {
      "image/png": "[encoded data removed]",
      "text/plain": [
       "<Figure size 432x288 with 1 Axes>"
      ]
     },
     "metadata": {},
     "output_type": "display_data"
    },
    {
     "name": "stdout",
     "output_type": "stream",
     "text": [
      "R2 calib: 0.998\n",
      "R2 CV: 0.857\n",
      "MSE calib: 0.000\n",
      "MSE CV: 0.000\n"
     ]
    }
   ],
   "source": [
    "optimise_pls_cv(Xn_train, y_train, 40, plot_components=True)"
   ]
  },
  {
   "cell_type": "code",
   "execution_count": 142,
   "metadata": {},
   "outputs": [
    {
     "name": "stdout",
     "output_type": "stream",
     "text": [
      "R2_pred:  0.9584280442426749\n",
      "R2_cv:  0.857469347098189\n",
      "\n",
      "[real, predictions]\n",
      "[[0.066 0.061316894968542264]\n",
      " [0.001 -0.007000746956454036]\n",
      " [0.033 0.03171601962212271]\n",
      " [0.0024 0.007883603524273544]]\n"
     ]
    },
    {
     "data": {
      "image/png": "[encoded data removed]",
      "text/plain": [
       "<Figure size 432x288 with 1 Axes>"
      ]
     },
     "metadata": {
      "needs_background": "light"
     },
     "output_type": "display_data"
    }
   ],
   "source": [
    "# Define PLS object\n",
    "pls = PLSRegression(n_components=5)\n",
    "# Fit\n",
    "pls.fit(Xn_train, y_train)\n",
    "# Cross-validation\n",
    "y_pred = pls.predict(Xn_test)\n",
    "\n",
    "# Cross-validation\n",
    "y_cv = cross_val_predict(pls, Xn_train, y_train, cv=10)\n",
    "\n",
    "# Calculate scores for calibration and cross-validation\n",
    "score_pred = r2_score(y_test, y_pred)\n",
    "score_cv = r2_score(y_train, y_cv)\n",
    "\n",
    "print(\"R2_pred: \", score_pred)\n",
    "print(\"R2_cv: \",score_cv)\n",
    "print(\"\")\n",
    "\n",
    "b=np.append(y_test, y_pred, axis=1)\n",
    "\n",
    "print(\"[real, predictions]\")\n",
    "print(b)\n",
    "\n",
    "plt.scatter(y_test, y_pred)\n",
    "plt.xlabel('True Values')\n",
    "plt.ylabel('Predictions')\n",
    "plt.grid(True)\n",
    "plt.show()"
   ]
  },
  {
   "cell_type": "code",
   "execution_count": null,
   "metadata": {},
   "outputs": [],
   "source": []
  },
  {
   "cell_type": "code",
   "execution_count": null,
   "metadata": {},
   "outputs": [],
   "source": []
  },
  {
   "cell_type": "code",
   "execution_count": null,
   "metadata": {},
   "outputs": [],
   "source": []
  },
  {
   "cell_type": "code",
   "execution_count": null,
   "metadata": {},
   "outputs": [],
   "source": []
  },
  {
   "cell_type": "code",
   "execution_count": null,
   "metadata": {},
   "outputs": [],
   "source": []
  },
  {
   "cell_type": "code",
   "execution_count": null,
   "metadata": {},
   "outputs": [],
   "source": []
  },
  {
   "cell_type": "code",
   "execution_count": null,
   "metadata": {},
   "outputs": [],
   "source": []
  },
  {
   "cell_type": "code",
   "execution_count": null,
   "metadata": {},
   "outputs": [],
   "source": []
  },
  {
   "cell_type": "markdown",
   "metadata": {},
   "source": [
    "## Elastic Net"
   ]
  },
  {
   "cell_type": "code",
   "execution_count": 59,
   "metadata": {},
   "outputs": [],
   "source": [
    "from sklearn.linear_model import ElasticNet,ElasticNetCV"
   ]
  },
  {
   "cell_type": "code",
   "execution_count": 60,
   "metadata": {},
   "outputs": [],
   "source": [
    "alphas = [0.0001, 0.001, 0.01, 0.1, 0.3, 0.5, 0.7, 1]"
   ]
  },
  {
   "cell_type": "code",
   "execution_count": 61,
   "metadata": {},
   "outputs": [
    {
     "name": "stdout",
     "output_type": "stream",
     "text": [
      "Alpha:0.0001, R2:1.00, MSE:0.00, RMSE:0.02\n",
      "Alpha:0.0010, R2:1.00, MSE:0.00, RMSE:0.01\n",
      "Alpha:0.0100, R2:1.00, MSE:0.00, RMSE:0.02\n",
      "Alpha:0.1000, R2:0.99, MSE:0.00, RMSE:0.01\n",
      "Alpha:0.3000, R2:0.97, MSE:0.00, RMSE:0.01\n",
      "Alpha:0.5000, R2:0.96, MSE:0.00, RMSE:0.01\n",
      "Alpha:0.7000, R2:0.94, MSE:0.00, RMSE:0.01\n",
      "Alpha:1.0000, R2:0.93, MSE:0.00, RMSE:0.01\n"
     ]
    }
   ],
   "source": [
    "for a in alphas:\n",
    "    model = ElasticNet(alpha=a).fit(X_train,y_train)   \n",
    "    score = model.score(X_train, y_train)\n",
    "    pred_y = model.predict(X_test)\n",
    "    mse = mean_squared_error(y_test, pred_y)   \n",
    "    print(\"Alpha:{0:.4f}, R2:{1:.2f}, MSE:{2:.2f}, RMSE:{3:.2f}\".format(a, score, mse, np.sqrt(mse)))"
   ]
  },
  {
   "cell_type": "code",
   "execution_count": 81,
   "metadata": {
    "scrolled": true
   },
   "outputs": [
    {
     "name": "stdout",
     "output_type": "stream",
     "text": [
      "Train score:  0.9390935348053188\n",
      "RMSE:  0.00801077888981623\n",
      "R^2:  0.8857309350824826\n"
     ]
    }
   ],
   "source": [
    "model = ElasticNet(alpha=0.75).fit(X_train,y_train)   \n",
    "score = model.score(X_train, y_train)\n",
    "print(\"Train score: \", score)\n",
    "pred_y = model.predict(X_test)\n",
    "\n",
    "\n",
    "rmse = sqrt(mean_squared_error(y_test, pred_y))\n",
    "r2 = r2_score(y_test, pred_y)\n",
    "print(\"RMSE: \", rmse)\n",
    "print(\"R^2: \", r2)"
   ]
  },
  {
   "cell_type": "code",
   "execution_count": 63,
   "metadata": {},
   "outputs": [
    {
     "data": {
      "image/png": "[encoded data removed]",
      "text/plain": [
       "<Figure size 432x288 with 1 Axes>"
      ]
     },
     "metadata": {
      "needs_background": "light"
     },
     "output_type": "display_data"
    }
   ],
   "source": [
    "plt.scatter(y_test, y_pred)\n",
    "plt.xlabel('True Values')\n",
    "plt.ylabel('Predictions')\n",
    "plt.grid(True)\n",
    "plt.show()"
   ]
  },
  {
   "cell_type": "code",
   "execution_count": null,
   "metadata": {},
   "outputs": [],
   "source": []
  },
  {
   "cell_type": "code",
   "execution_count": null,
   "metadata": {},
   "outputs": [],
   "source": []
  },
  {
   "cell_type": "code",
   "execution_count": null,
   "metadata": {},
   "outputs": [],
   "source": []
  },
  {
   "cell_type": "markdown",
   "metadata": {},
   "source": [
    "# Random Forest"
   ]
  },
  {
   "cell_type": "code",
   "execution_count": 82,
   "metadata": {},
   "outputs": [
    {
     "name": "stdout",
     "output_type": "stream",
     "text": [
      "(4,)\n",
      "(16,)\n"
     ]
    }
   ],
   "source": [
    "y_test=np.ravel(y_test)\n",
    "print(y_test.shape)\n",
    "y_train=np.ravel(y_train)\n",
    "print(y_train.shape)"
   ]
  },
  {
   "cell_type": "code",
   "execution_count": 93,
   "metadata": {},
   "outputs": [],
   "source": [
    "# Import the model we are using\n",
    "from sklearn.ensemble import RandomForestRegressor\n",
    "# Instantiate model with 1000 decision trees\n",
    "rf = RandomForestRegressor(n_estimators = 3000, random_state = 69)\n",
    "# Train the model on training data\n",
    "rf.fit(X_train, y_train);"
   ]
  },
  {
   "cell_type": "code",
   "execution_count": 94,
   "metadata": {},
   "outputs": [
    {
     "name": "stdout",
     "output_type": "stream",
     "text": [
      "Mean Absolute Error: 0.02\n"
     ]
    }
   ],
   "source": [
    "# Use the forest's predict method on the test data\n",
    "predictions = rf.predict(X_test)\n",
    "# Calculate the absolute errors\n",
    "errors = abs(predictions - y_test)\n",
    "# Print out the mean absolute error (mae)\n",
    "print('Mean Absolute Error:', round(np.mean(errors), 2))"
   ]
  },
  {
   "cell_type": "code",
   "execution_count": 95,
   "metadata": {},
   "outputs": [
    {
     "name": "stdout",
     "output_type": "stream",
     "text": [
      "R^2:  0.6134791194951332\n",
      "RMSE:  0.014733193340528016\n"
     ]
    }
   ],
   "source": [
    "rmse = sqrt(mean_squared_error(y_test, predictions))\n",
    "r2 = r2_score(y_test, predictions)\n",
    "\n",
    "print(\"R^2: \", r2)\n",
    "print(\"RMSE: \", rmse)"
   ]
  },
  {
   "cell_type": "code",
   "execution_count": 96,
   "metadata": {},
   "outputs": [
    {
     "name": "stdout",
     "output_type": "stream",
     "text": [
      "(4, 1)\n",
      "<class 'numpy.ndarray'>\n",
      "(4, 1)\n",
      "<class 'numpy.ndarray'>\n"
     ]
    }
   ],
   "source": [
    "y_test= y_test.reshape((len(y_test), 1))\n",
    "print(y_test.shape)\n",
    "print(type(y_test))\n",
    "predictions=predictions.reshape((len(y_test), 1))\n",
    "print(predictions.shape)\n",
    "print(type(y_test))\n",
    "#print((y_test, predictions))"
   ]
  },
  {
   "cell_type": "code",
   "execution_count": 97,
   "metadata": {},
   "outputs": [
    {
     "name": "stdout",
     "output_type": "stream",
     "text": [
      "[real, predictions]\n",
      "[[0.033 0.03657733407407449]\n",
      " [0.066 0.04445375490740776]\n",
      " [0.0017 0.01121960149470911]\n",
      " [0.049 0.031661974312169834]]\n"
     ]
    }
   ],
   "source": [
    "b=np.append(y_test, predictions, axis=1)\n",
    "\n",
    "print(\"[real, predictions]\")\n",
    "print(b)"
   ]
  },
  {
   "cell_type": "code",
   "execution_count": 98,
   "metadata": {},
   "outputs": [
    {
     "data": {
      "text/plain": [
       "Text(0, 0.5, 'Predictions')"
      ]
     },
     "execution_count": 98,
     "metadata": {},
     "output_type": "execute_result"
    },
    {
     "data": {
      "image/png": "[encoded data removed]",
      "text/plain": [
       "<Figure size 432x288 with 1 Axes>"
      ]
     },
     "metadata": {
      "needs_background": "light"
     },
     "output_type": "display_data"
    }
   ],
   "source": [
    "plt.scatter(y_test, predictions)\n",
    "plt.xlabel('True Values')\n",
    "plt.ylabel('Predictions')"
   ]
  },
  {
   "cell_type": "markdown",
   "metadata": {},
   "source": [
    "#### This is a trial with PC as input "
   ]
  },
  {
   "cell_type": "code",
   "execution_count": 438,
   "metadata": {},
   "outputs": [
    {
     "name": "stdout",
     "output_type": "stream",
     "text": [
      "R2:  -0.13304307573634944\n",
      "MSE:  3.2054251079142846\n"
     ]
    }
   ],
   "source": [
    "from sklearn.ensemble import RandomForestRegressor\n",
    "# Instantiate model with 1000 decision trees\n",
    "rf = RandomForestRegressor(n_estimators = 2000, max_depth=30, random_state = 42)\n",
    "# Train the model on training data\n",
    "rf.fit(x_pc, y_train)\n",
    "# Calibration\n",
    "y_p = rf.predict(x_test1)\n",
    "# Cross-validation\n",
    "#y_cv = cross_val_predict(regr, principalComponents, y_df, cv=10)\n",
    "# Calculate scores for calibration and cross-validation\n",
    "score_c = r2_score(y_test, y_p)\n",
    "#score_cv = r2_score(y_df, y_cv)\n",
    "# Calculate mean square error for calibration and cross validation\n",
    "mse_c = mean_squared_error(y_test, y_p)\n",
    "#mse_cv = mean_squared_error(y_df, y_cv)\n",
    "\n",
    "print(\"R2: \", score_c)\n",
    "print(\"MSE: \", mse_c)"
   ]
  },
  {
   "cell_type": "code",
   "execution_count": null,
   "metadata": {},
   "outputs": [],
   "source": []
  },
  {
   "cell_type": "code",
   "execution_count": null,
   "metadata": {},
   "outputs": [],
   "source": []
  },
  {
   "cell_type": "code",
   "execution_count": null,
   "metadata": {},
   "outputs": [],
   "source": []
  },
  {
   "cell_type": "code",
   "execution_count": null,
   "metadata": {},
   "outputs": [],
   "source": []
  },
  {
   "cell_type": "code",
   "execution_count": null,
   "metadata": {},
   "outputs": [],
   "source": []
  },
  {
   "cell_type": "markdown",
   "metadata": {},
   "source": [
    "# MultiOutput Random Forest"
   ]
  },
  {
   "cell_type": "code",
   "execution_count": 47,
   "metadata": {},
   "outputs": [
    {
     "name": "stdout",
     "output_type": "stream",
     "text": [
      "do you want to continue? \n"
     ]
    }
   ],
   "source": [
    "bau = input(\"do you want to continue? \")"
   ]
  },
  {
   "cell_type": "code",
   "execution_count": 48,
   "metadata": {},
   "outputs": [
    {
     "name": "stdout",
     "output_type": "stream",
     "text": [
      "<class 'numpy.ndarray'>\n",
      "<class 'pandas.core.frame.DataFrame'>\n"
     ]
    },
    {
     "data": {
      "text/html": [
       "<div>\n",
       "<style scoped>\n",
       "    .dataframe tbody tr th:only-of-type {\n",
       "        vertical-align: middle;\n",
       "    }\n",
       "\n",
       "    .dataframe tbody tr th {\n",
       "        vertical-align: top;\n",
       "    }\n",
       "\n",
       "    .dataframe thead th {\n",
       "        text-align: right;\n",
       "    }\n",
       "</style>\n",
       "<table border=\"1\" class=\"dataframe\">\n",
       "  <thead>\n",
       "    <tr style=\"text-align: right;\">\n",
       "      <th></th>\n",
       "      <th>0</th>\n",
       "      <th>1</th>\n",
       "      <th>2</th>\n",
       "      <th>3</th>\n",
       "      <th>4</th>\n",
       "      <th>5</th>\n",
       "      <th>6</th>\n",
       "      <th>7</th>\n",
       "      <th>8</th>\n",
       "      <th>9</th>\n",
       "      <th>10</th>\n",
       "    </tr>\n",
       "  </thead>\n",
       "  <tbody>\n",
       "    <tr>\n",
       "      <th>0</th>\n",
       "      <td>37.8</td>\n",
       "      <td>0.18</td>\n",
       "      <td>25</td>\n",
       "      <td>9.61</td>\n",
       "      <td>13.2</td>\n",
       "      <td>18.3</td>\n",
       "      <td>1.99</td>\n",
       "      <td>0.2</td>\n",
       "      <td>0.23</td>\n",
       "      <td>0.18</td>\n",
       "      <td>1.03</td>\n",
       "    </tr>\n",
       "    <tr>\n",
       "      <th>1</th>\n",
       "      <td>44.5</td>\n",
       "      <td>0.22</td>\n",
       "      <td>18</td>\n",
       "      <td>5.04</td>\n",
       "      <td>14.2</td>\n",
       "      <td>18.9</td>\n",
       "      <td>2.1</td>\n",
       "      <td>0.28</td>\n",
       "      <td>0.26</td>\n",
       "      <td>0.06</td>\n",
       "      <td>1.07</td>\n",
       "    </tr>\n",
       "    <tr>\n",
       "      <th>2</th>\n",
       "      <td>38.5</td>\n",
       "      <td>0.22</td>\n",
       "      <td>21.1</td>\n",
       "      <td>6.14</td>\n",
       "      <td>10.6</td>\n",
       "      <td>20.2</td>\n",
       "      <td>5.82</td>\n",
       "      <td>0.61</td>\n",
       "      <td>0.4</td>\n",
       "      <td>0.14</td>\n",
       "      <td>0.86</td>\n",
       "    </tr>\n",
       "    <tr>\n",
       "      <th>3</th>\n",
       "      <td>38.4</td>\n",
       "      <td>0.04</td>\n",
       "      <td>15.5</td>\n",
       "      <td>4.07</td>\n",
       "      <td>12.8</td>\n",
       "      <td>26.7</td>\n",
       "      <td>3.35</td>\n",
       "      <td>0.52</td>\n",
       "      <td>0.31</td>\n",
       "      <td>0.08</td>\n",
       "      <td>1.07</td>\n",
       "    </tr>\n",
       "    <tr>\n",
       "      <th>4</th>\n",
       "      <td>43.2</td>\n",
       "      <td>0.18</td>\n",
       "      <td>17.1</td>\n",
       "      <td>4.14</td>\n",
       "      <td>14.8</td>\n",
       "      <td>21.7</td>\n",
       "      <td>1.72</td>\n",
       "      <td>0.2</td>\n",
       "      <td>0.29</td>\n",
       "      <td>0.18</td>\n",
       "      <td>1.07</td>\n",
       "    </tr>\n",
       "    <tr>\n",
       "      <th>5</th>\n",
       "      <td>45.3</td>\n",
       "      <td>0.23</td>\n",
       "      <td>15.9</td>\n",
       "      <td>4.34</td>\n",
       "      <td>16.5</td>\n",
       "      <td>18.9</td>\n",
       "      <td>1.29</td>\n",
       "      <td>0.1</td>\n",
       "      <td>0.3</td>\n",
       "      <td>0.11</td>\n",
       "      <td>1.1</td>\n",
       "    </tr>\n",
       "    <tr>\n",
       "      <th>6</th>\n",
       "      <td>46.1</td>\n",
       "      <td>0.25</td>\n",
       "      <td>14.3</td>\n",
       "      <td>4.12</td>\n",
       "      <td>16.2</td>\n",
       "      <td>19</td>\n",
       "      <td>1.21</td>\n",
       "      <td>0.09</td>\n",
       "      <td>0.27</td>\n",
       "      <td>0.06</td>\n",
       "      <td>1.08</td>\n",
       "    </tr>\n",
       "    <tr>\n",
       "      <th>7</th>\n",
       "      <td>45.1</td>\n",
       "      <td>0.19</td>\n",
       "      <td>13</td>\n",
       "      <td>4.05</td>\n",
       "      <td>16.1</td>\n",
       "      <td>21</td>\n",
       "      <td>1.26</td>\n",
       "      <td>0.1</td>\n",
       "      <td>0.28</td>\n",
       "      <td>0.06</td>\n",
       "      <td>1.09</td>\n",
       "    </tr>\n",
       "    <tr>\n",
       "      <th>8</th>\n",
       "      <td>32.8</td>\n",
       "      <td>0.01</td>\n",
       "      <td>10.6</td>\n",
       "      <td>7.3</td>\n",
       "      <td>14.3</td>\n",
       "      <td>33.2</td>\n",
       "      <td>2.75</td>\n",
       "      <td>0.42</td>\n",
       "      <td>0.32</td>\n",
       "      <td>0.09</td>\n",
       "      <td>1.12</td>\n",
       "    </tr>\n",
       "    <tr>\n",
       "      <th>9</th>\n",
       "      <td>42.4</td>\n",
       "      <td>0.24</td>\n",
       "      <td>19.3</td>\n",
       "      <td>6.5</td>\n",
       "      <td>14.7</td>\n",
       "      <td>17.4</td>\n",
       "      <td>2.72</td>\n",
       "      <td>0.31</td>\n",
       "      <td>0.28</td>\n",
       "      <td>0.09</td>\n",
       "      <td>1.06</td>\n",
       "    </tr>\n",
       "    <tr>\n",
       "      <th>10</th>\n",
       "      <td>38.4</td>\n",
       "      <td>0.04</td>\n",
       "      <td>11.2</td>\n",
       "      <td>5.02</td>\n",
       "      <td>14</td>\n",
       "      <td>26.1</td>\n",
       "      <td>2.84</td>\n",
       "      <td>2.11</td>\n",
       "      <td>0.34</td>\n",
       "      <td>0.09</td>\n",
       "      <td>0.91</td>\n",
       "    </tr>\n",
       "    <tr>\n",
       "      <th>11</th>\n",
       "      <td>36.4</td>\n",
       "      <td>0.01</td>\n",
       "      <td>17.4</td>\n",
       "      <td>4.31</td>\n",
       "      <td>12.8</td>\n",
       "      <td>27.7</td>\n",
       "      <td>2.86</td>\n",
       "      <td>2.59</td>\n",
       "      <td>0.27</td>\n",
       "      <td>0.09</td>\n",
       "      <td>0.77</td>\n",
       "    </tr>\n",
       "    <tr>\n",
       "      <th>12</th>\n",
       "      <td>43.7</td>\n",
       "      <td>1.3</td>\n",
       "      <td>7.9</td>\n",
       "      <td>3.2</td>\n",
       "      <td>33.3</td>\n",
       "      <td>1.3</td>\n",
       "      <td>3</td>\n",
       "      <td>3.7</td>\n",
       "      <td>0.01</td>\n",
       "      <td>0.11</td>\n",
       "      <td>0.8</td>\n",
       "    </tr>\n",
       "    <tr>\n",
       "      <th>13</th>\n",
       "      <td>41.3</td>\n",
       "      <td>1.2</td>\n",
       "      <td>7.9</td>\n",
       "      <td>3.8</td>\n",
       "      <td>35.3</td>\n",
       "      <td>1.3</td>\n",
       "      <td>2</td>\n",
       "      <td>3.9</td>\n",
       "      <td>0.01</td>\n",
       "      <td>0.1</td>\n",
       "      <td>0.83</td>\n",
       "    </tr>\n",
       "    <tr>\n",
       "      <th>14</th>\n",
       "      <td>44.6</td>\n",
       "      <td>1.1</td>\n",
       "      <td>9.6</td>\n",
       "      <td>2.8</td>\n",
       "      <td>35.3</td>\n",
       "      <td>0.9</td>\n",
       "      <td>1.3</td>\n",
       "      <td>2.7</td>\n",
       "      <td>0.01</td>\n",
       "      <td>0.07</td>\n",
       "      <td>0.8</td>\n",
       "    </tr>\n",
       "    <tr>\n",
       "      <th>15</th>\n",
       "      <td>42.5</td>\n",
       "      <td>1.6</td>\n",
       "      <td>8.9</td>\n",
       "      <td>3.2</td>\n",
       "      <td>29</td>\n",
       "      <td>1.3</td>\n",
       "      <td>1.6</td>\n",
       "      <td>11</td>\n",
       "      <td>0.01</td>\n",
       "      <td>0.17</td>\n",
       "      <td>1.12</td>\n",
       "    </tr>\n",
       "    <tr>\n",
       "      <th>16</th>\n",
       "      <td>39.2</td>\n",
       "      <td>1.1</td>\n",
       "      <td>8.4</td>\n",
       "      <td>3.7</td>\n",
       "      <td>34.3</td>\n",
       "      <td>1.7</td>\n",
       "      <td>1.3</td>\n",
       "      <td>9.3</td>\n",
       "      <td>0.01</td>\n",
       "      <td>0.11</td>\n",
       "      <td>0.92</td>\n",
       "    </tr>\n",
       "    <tr>\n",
       "      <th>17</th>\n",
       "      <td>44.2</td>\n",
       "      <td>1.1</td>\n",
       "      <td>10.5</td>\n",
       "      <td>3.2</td>\n",
       "      <td>34.5</td>\n",
       "      <td>1</td>\n",
       "      <td>1.1</td>\n",
       "      <td>3.2</td>\n",
       "      <td>0.01</td>\n",
       "      <td>0.08</td>\n",
       "      <td>0.98</td>\n",
       "    </tr>\n",
       "    <tr>\n",
       "      <th>18</th>\n",
       "      <td>44.1</td>\n",
       "      <td>1.1</td>\n",
       "      <td>9.1</td>\n",
       "      <td>3.7</td>\n",
       "      <td>32.5</td>\n",
       "      <td>2</td>\n",
       "      <td>2</td>\n",
       "      <td>4.5</td>\n",
       "      <td>0.01</td>\n",
       "      <td>0.12</td>\n",
       "      <td>0.71</td>\n",
       "    </tr>\n",
       "    <tr>\n",
       "      <th>19</th>\n",
       "      <td>40.3</td>\n",
       "      <td>1.2</td>\n",
       "      <td>7.7</td>\n",
       "      <td>4.8</td>\n",
       "      <td>30.9</td>\n",
       "      <td>1.7</td>\n",
       "      <td>3.3</td>\n",
       "      <td>7.6</td>\n",
       "      <td>0.01</td>\n",
       "      <td>0.18</td>\n",
       "      <td>1.45</td>\n",
       "    </tr>\n",
       "    <tr>\n",
       "      <th>20</th>\n",
       "      <td>37.5</td>\n",
       "      <td>1.4</td>\n",
       "      <td>6.8</td>\n",
       "      <td>4.1</td>\n",
       "      <td>27.8</td>\n",
       "      <td>2.5</td>\n",
       "      <td>3.5</td>\n",
       "      <td>12.9</td>\n",
       "      <td>0.01</td>\n",
       "      <td>0.23</td>\n",
       "      <td>1.93</td>\n",
       "    </tr>\n",
       "    <tr>\n",
       "      <th>21</th>\n",
       "      <td>37.9</td>\n",
       "      <td>1.1</td>\n",
       "      <td>6.1</td>\n",
       "      <td>2.8</td>\n",
       "      <td>25.3</td>\n",
       "      <td>1.7</td>\n",
       "      <td>2.8</td>\n",
       "      <td>17.8</td>\n",
       "      <td>0.02</td>\n",
       "      <td>0.28</td>\n",
       "      <td>0.74</td>\n",
       "    </tr>\n",
       "    <tr>\n",
       "      <th>22</th>\n",
       "      <td>24.2</td>\n",
       "      <td>3.04</td>\n",
       "      <td>14.1</td>\n",
       "      <td>10.9</td>\n",
       "      <td>24.3</td>\n",
       "      <td>2.45</td>\n",
       "      <td>4.39</td>\n",
       "      <td>15.4</td>\n",
       "      <td>0</td>\n",
       "      <td>0.96</td>\n",
       "      <td>0.21</td>\n",
       "    </tr>\n",
       "    <tr>\n",
       "      <th>23</th>\n",
       "      <td>39.8</td>\n",
       "      <td>3.63</td>\n",
       "      <td>11.8</td>\n",
       "      <td>7.91</td>\n",
       "      <td>21.5</td>\n",
       "      <td>3.87</td>\n",
       "      <td>1.36</td>\n",
       "      <td>6.98</td>\n",
       "      <td>0</td>\n",
       "      <td>3</td>\n",
       "      <td>0.28</td>\n",
       "    </tr>\n",
       "    <tr>\n",
       "      <th>24</th>\n",
       "      <td>33.4</td>\n",
       "      <td>1.72</td>\n",
       "      <td>7.2</td>\n",
       "      <td>6.7</td>\n",
       "      <td>5.85</td>\n",
       "      <td>35</td>\n",
       "      <td>3.79</td>\n",
       "      <td>2.05</td>\n",
       "      <td>0.2</td>\n",
       "      <td>0.3</td>\n",
       "      <td>0.45</td>\n",
       "    </tr>\n",
       "    <tr>\n",
       "      <th>25</th>\n",
       "      <td>41</td>\n",
       "      <td>2.81</td>\n",
       "      <td>18.4</td>\n",
       "      <td>5.72</td>\n",
       "      <td>25.4</td>\n",
       "      <td>3.46</td>\n",
       "      <td>0.49</td>\n",
       "      <td>1.08</td>\n",
       "      <td>0</td>\n",
       "      <td>0.4</td>\n",
       "      <td>0.22</td>\n",
       "    </tr>\n",
       "    <tr>\n",
       "      <th>26</th>\n",
       "      <td>31.3</td>\n",
       "      <td>3.95</td>\n",
       "      <td>19.9</td>\n",
       "      <td>9.52</td>\n",
       "      <td>28</td>\n",
       "      <td>2.86</td>\n",
       "      <td>0.7</td>\n",
       "      <td>3</td>\n",
       "      <td>0</td>\n",
       "      <td>0</td>\n",
       "      <td>0.45</td>\n",
       "    </tr>\n",
       "    <tr>\n",
       "      <th>27</th>\n",
       "      <td>33.2</td>\n",
       "      <td>2.19</td>\n",
       "      <td>14.9</td>\n",
       "      <td>8.57</td>\n",
       "      <td>13.9</td>\n",
       "      <td>12.8</td>\n",
       "      <td>5.32</td>\n",
       "      <td>6.99</td>\n",
       "      <td>0</td>\n",
       "      <td>0.4</td>\n",
       "      <td>0.21</td>\n",
       "    </tr>\n",
       "    <tr>\n",
       "      <th>28</th>\n",
       "      <td>51.4</td>\n",
       "      <td>0</td>\n",
       "      <td>8.9</td>\n",
       "      <td>26.9</td>\n",
       "      <td>11.6</td>\n",
       "      <td>0.27</td>\n",
       "      <td>0</td>\n",
       "      <td>0.15</td>\n",
       "      <td>0</td>\n",
       "      <td>0</td>\n",
       "      <td>0.12</td>\n",
       "    </tr>\n",
       "    <tr>\n",
       "      <th>29</th>\n",
       "      <td>53</td>\n",
       "      <td>0</td>\n",
       "      <td>8.94</td>\n",
       "      <td>25.5</td>\n",
       "      <td>11.8</td>\n",
       "      <td>0.14</td>\n",
       "      <td>0</td>\n",
       "      <td>0</td>\n",
       "      <td>0</td>\n",
       "      <td>0</td>\n",
       "      <td>0</td>\n",
       "    </tr>\n",
       "    <tr>\n",
       "      <th>30</th>\n",
       "      <td>40.5</td>\n",
       "      <td>2.05</td>\n",
       "      <td>19.9</td>\n",
       "      <td>6.05</td>\n",
       "      <td>28.5</td>\n",
       "      <td>1.39</td>\n",
       "      <td>0.42</td>\n",
       "      <td>0.92</td>\n",
       "      <td>0</td>\n",
       "      <td>0.22</td>\n",
       "      <td>0.25</td>\n",
       "    </tr>\n",
       "    <tr>\n",
       "      <th>31</th>\n",
       "      <td>50.1</td>\n",
       "      <td>0</td>\n",
       "      <td>14</td>\n",
       "      <td>28.4</td>\n",
       "      <td>5.99</td>\n",
       "      <td>0.45</td>\n",
       "      <td>0</td>\n",
       "      <td>0.15</td>\n",
       "      <td>0</td>\n",
       "      <td>0.19</td>\n",
       "      <td>0.14</td>\n",
       "    </tr>\n",
       "    <tr>\n",
       "      <th>32</th>\n",
       "      <td>40.1</td>\n",
       "      <td>2.43</td>\n",
       "      <td>20</td>\n",
       "      <td>6.79</td>\n",
       "      <td>27.5</td>\n",
       "      <td>1.37</td>\n",
       "      <td>0.41</td>\n",
       "      <td>0.89</td>\n",
       "      <td>0</td>\n",
       "      <td>0.22</td>\n",
       "      <td>0.24</td>\n",
       "    </tr>\n",
       "    <tr>\n",
       "      <th>33</th>\n",
       "      <td>44.5</td>\n",
       "      <td>0</td>\n",
       "      <td>24.4</td>\n",
       "      <td>22.1</td>\n",
       "      <td>7.54</td>\n",
       "      <td>0.47</td>\n",
       "      <td>0</td>\n",
       "      <td>0</td>\n",
       "      <td>0</td>\n",
       "      <td>0</td>\n",
       "      <td>0</td>\n",
       "    </tr>\n",
       "  </tbody>\n",
       "</table>\n",
       "</div>"
      ],
      "text/plain": [
       "       0     1     2     3     4     5     6     7     8     9    10\n",
       "0   37.8  0.18    25  9.61  13.2  18.3  1.99   0.2  0.23  0.18  1.03\n",
       "1   44.5  0.22    18  5.04  14.2  18.9   2.1  0.28  0.26  0.06  1.07\n",
       "2   38.5  0.22  21.1  6.14  10.6  20.2  5.82  0.61   0.4  0.14  0.86\n",
       "3   38.4  0.04  15.5  4.07  12.8  26.7  3.35  0.52  0.31  0.08  1.07\n",
       "4   43.2  0.18  17.1  4.14  14.8  21.7  1.72   0.2  0.29  0.18  1.07\n",
       "5   45.3  0.23  15.9  4.34  16.5  18.9  1.29   0.1   0.3  0.11   1.1\n",
       "6   46.1  0.25  14.3  4.12  16.2    19  1.21  0.09  0.27  0.06  1.08\n",
       "7   45.1  0.19    13  4.05  16.1    21  1.26   0.1  0.28  0.06  1.09\n",
       "8   32.8  0.01  10.6   7.3  14.3  33.2  2.75  0.42  0.32  0.09  1.12\n",
       "9   42.4  0.24  19.3   6.5  14.7  17.4  2.72  0.31  0.28  0.09  1.06\n",
       "10  38.4  0.04  11.2  5.02    14  26.1  2.84  2.11  0.34  0.09  0.91\n",
       "11  36.4  0.01  17.4  4.31  12.8  27.7  2.86  2.59  0.27  0.09  0.77\n",
       "12  43.7   1.3   7.9   3.2  33.3   1.3     3   3.7  0.01  0.11   0.8\n",
       "13  41.3   1.2   7.9   3.8  35.3   1.3     2   3.9  0.01   0.1  0.83\n",
       "14  44.6   1.1   9.6   2.8  35.3   0.9   1.3   2.7  0.01  0.07   0.8\n",
       "15  42.5   1.6   8.9   3.2    29   1.3   1.6    11  0.01  0.17  1.12\n",
       "16  39.2   1.1   8.4   3.7  34.3   1.7   1.3   9.3  0.01  0.11  0.92\n",
       "17  44.2   1.1  10.5   3.2  34.5     1   1.1   3.2  0.01  0.08  0.98\n",
       "18  44.1   1.1   9.1   3.7  32.5     2     2   4.5  0.01  0.12  0.71\n",
       "19  40.3   1.2   7.7   4.8  30.9   1.7   3.3   7.6  0.01  0.18  1.45\n",
       "20  37.5   1.4   6.8   4.1  27.8   2.5   3.5  12.9  0.01  0.23  1.93\n",
       "21  37.9   1.1   6.1   2.8  25.3   1.7   2.8  17.8  0.02  0.28  0.74\n",
       "22  24.2  3.04  14.1  10.9  24.3  2.45  4.39  15.4     0  0.96  0.21\n",
       "23  39.8  3.63  11.8  7.91  21.5  3.87  1.36  6.98     0     3  0.28\n",
       "24  33.4  1.72   7.2   6.7  5.85    35  3.79  2.05   0.2   0.3  0.45\n",
       "25    41  2.81  18.4  5.72  25.4  3.46  0.49  1.08     0   0.4  0.22\n",
       "26  31.3  3.95  19.9  9.52    28  2.86   0.7     3     0     0  0.45\n",
       "27  33.2  2.19  14.9  8.57  13.9  12.8  5.32  6.99     0   0.4  0.21\n",
       "28  51.4     0   8.9  26.9  11.6  0.27     0  0.15     0     0  0.12\n",
       "29    53     0  8.94  25.5  11.8  0.14     0     0     0     0     0\n",
       "30  40.5  2.05  19.9  6.05  28.5  1.39  0.42  0.92     0  0.22  0.25\n",
       "31  50.1     0    14  28.4  5.99  0.45     0  0.15     0  0.19  0.14\n",
       "32  40.1  2.43    20  6.79  27.5  1.37  0.41  0.89     0  0.22  0.24\n",
       "33  44.5     0  24.4  22.1  7.54  0.47     0     0     0     0     0"
      ]
     },
     "execution_count": 48,
     "metadata": {},
     "output_type": "execute_result"
    }
   ],
   "source": [
    "multi_y = concentration[:,1:]\n",
    "#print (multi_y)\n",
    "print (type(multi_y))\n",
    "df_y= pd.DataFrame(multi_y)\n",
    "print (type(df_y))\n",
    "df_y"
   ]
  },
  {
   "cell_type": "code",
   "execution_count": 49,
   "metadata": {},
   "outputs": [
    {
     "name": "stdout",
     "output_type": "stream",
     "text": [
      "(27, 3648) (27, 11)\n",
      "(7, 3648) (7, 11)\n"
     ]
    }
   ],
   "source": [
    "X_train, X_test, y_train, y_test = train_test_split(x_df, df_y, test_size=0.2)\n",
    "print (X_train.shape, y_train.shape)\n",
    "print (X_test.shape, y_test.shape)\n",
    "#print(X_test)"
   ]
  },
  {
   "cell_type": "code",
   "execution_count": 50,
   "metadata": {},
   "outputs": [
    {
     "data": {
      "text/plain": [
       "MultiOutputRegressor(estimator=RandomForestRegressor(bootstrap=True,\n",
       "                                                     ccp_alpha=0.0,\n",
       "                                                     criterion='mse',\n",
       "                                                     max_depth=30,\n",
       "                                                     max_features='auto',\n",
       "                                                     max_leaf_nodes=None,\n",
       "                                                     max_samples=None,\n",
       "                                                     min_impurity_decrease=0.0,\n",
       "                                                     min_impurity_split=None,\n",
       "                                                     min_samples_leaf=1,\n",
       "                                                     min_samples_split=2,\n",
       "                                                     min_weight_fraction_leaf=0.0,\n",
       "                                                     n_estimators=500,\n",
       "                                                     n_jobs=None,\n",
       "                                                     oob_score=False,\n",
       "                                                     random_state=0, verbose=0,\n",
       "                                                     warm_start=False),\n",
       "                     n_jobs=None)"
      ]
     },
     "execution_count": 50,
     "metadata": {},
     "output_type": "execute_result"
    }
   ],
   "source": [
    "from sklearn.multioutput import MultiOutputRegressor\n",
    "from sklearn.ensemble import RandomForestRegressor\n",
    "\n",
    "max_depth = 30\n",
    "regr_multirf = MultiOutputRegressor(RandomForestRegressor(n_estimators=500,\n",
    "                                                          max_depth=max_depth,\n",
    "                                                          random_state=0))\n",
    "regr_multirf.fit(X_train, y_train)\n"
   ]
  },
  {
   "cell_type": "code",
   "execution_count": 51,
   "metadata": {},
   "outputs": [],
   "source": [
    "y_multirf = regr_multirf.predict(X_test)"
   ]
  },
  {
   "cell_type": "code",
   "execution_count": 52,
   "metadata": {},
   "outputs": [
    {
     "name": "stdout",
     "output_type": "stream",
     "text": [
      "(7, 11)\n",
      "(7, 11)\n"
     ]
    }
   ],
   "source": [
    "print(y_test.shape)\n",
    "print(y_multirf.shape)"
   ]
  },
  {
   "cell_type": "code",
   "execution_count": 53,
   "metadata": {},
   "outputs": [
    {
     "name": "stdout",
     "output_type": "stream",
     "text": [
      "R^2:  -2.4536787314137825\n",
      "RMSE:  3.2696541804501393\n"
     ]
    }
   ],
   "source": [
    "rmse = sqrt(mean_squared_error(y_test, y_multirf))\n",
    "r2 = r2_score(y_test, y_multirf)\n",
    "\n",
    "print(\"R^2: \", r2)\n",
    "print(\"RMSE: \", rmse)"
   ]
  },
  {
   "cell_type": "code",
   "execution_count": 54,
   "metadata": {},
   "outputs": [
    {
     "name": "stdout",
     "output_type": "stream",
     "text": [
      "[real, predictions]\n",
      "[[39.2 1.1 8.4 3.7 34.3 1.7 1.3 9.3 0.01 0.11 0.92 40.559 1.317 8.521\n",
      "  3.939 25.406 2.591 2.717 8.112 0.018 0.166 1.102]\n",
      " [32.8 0.01 10.6 7.3 14.3 33.2 2.75 0.42 0.32 0.09 1.12 38.187 1.239\n",
      "  13.097 5.132 26.534 25.305 3.942 4.92 0.152 0.282 0.668]\n",
      " [40.3 1.2 7.7 4.8 30.9 1.7 3.3 7.6 0.01 0.18 1.45 41.214 1.23 9.129\n",
      "  3.973 26.153 2.065 2.296 6.938 0.011 0.148 0.998]\n",
      " [45.3 0.23 15.9 4.34 16.5 18.9 1.29 0.1 0.3 0.11 1.1 42.105 0.396 16.975\n",
      "  5.725 13.12 19.43 2.209 0.576 0.202 0.132 0.822]\n",
      " [38.4 0.04 15.5 4.07 12.8 26.7 3.35 0.52 0.31 0.08 1.07 36.973 1.289\n",
      "  14.138 5.601 22.114 25.602 3.606 4.386 0.155 0.77 0.604]\n",
      " [40.1 2.43 20.0 6.79 27.5 1.37 0.41 0.89 0.0 0.22 0.24 40.308 0.849\n",
      "  16.817 7.212 12.927 2.422 1.758 0.777 0.005 0.161 0.41]\n",
      " [44.2 1.1 10.5 3.2 34.5 1.0 1.1 3.2 0.01 0.08 0.98 40.015 1.324 7.935\n",
      "  3.71 31.015 2.446 3.17 8.266 0.026 0.229 1.263]]\n"
     ]
    }
   ],
   "source": [
    "b=np.append(np.around(y_test,3), np.around(y_multirf,3), axis=1)\n",
    "\n",
    "print(\"[real, predictions]\")\n",
    "print(b)"
   ]
  },
  {
   "cell_type": "code",
   "execution_count": 55,
   "metadata": {},
   "outputs": [
    {
     "data": {
      "text/plain": [
       "Text(0, 0.5, 'Predictions')"
      ]
     },
     "execution_count": 55,
     "metadata": {},
     "output_type": "execute_result"
    },
    {
     "data": {
      "image/png": "[encoded data removed]",
      "text/plain": [
       "<Figure size 432x288 with 1 Axes>"
      ]
     },
     "metadata": {
      "needs_background": "light"
     },
     "output_type": "display_data"
    }
   ],
   "source": [
    "plt.scatter(y_test, y_multirf)\n",
    "plt.xlabel('True Values')\n",
    "plt.ylabel('Predictions')"
   ]
  },
  {
   "cell_type": "code",
   "execution_count": 56,
   "metadata": {},
   "outputs": [
    {
     "data": {
      "text/plain": [
       "array([40.56, 38.19, 41.21, 42.1 , 36.97, 40.31, 40.01])"
      ]
     },
     "execution_count": 56,
     "metadata": {},
     "output_type": "execute_result"
    }
   ],
   "source": [
    "y_pred=np.around(y_multirf,2)\n",
    "y_pred[:,0]"
   ]
  },
  {
   "cell_type": "code",
   "execution_count": 57,
   "metadata": {},
   "outputs": [
    {
     "data": {
      "text/plain": [
       "array([39.2, 32.8, 40.3, 45.3, 38.4, 40.1, 44.2], dtype=object)"
      ]
     },
     "execution_count": 57,
     "metadata": {},
     "output_type": "execute_result"
    }
   ],
   "source": [
    "y_test[0].values"
   ]
  },
  {
   "cell_type": "code",
   "execution_count": 58,
   "metadata": {},
   "outputs": [
    {
     "name": "stdout",
     "output_type": "stream",
     "text": [
      "real:  [39.2 32.8 40.3 45.3 38.4 40.1 44.2]\n",
      "pred:  [40.56 38.19 41.21 42.1  36.97 40.31 40.01]\n"
     ]
    }
   ],
   "source": [
    "print(\"real: \", y_test[0].values)\n",
    "print(\"pred: \", y_pred[:,0])"
   ]
  },
  {
   "cell_type": "markdown",
   "metadata": {},
   "source": [
    "# PLS-2"
   ]
  },
  {
   "cell_type": "code",
   "execution_count": 59,
   "metadata": {},
   "outputs": [],
   "source": [
    "#optimise_pls_cv(x_df, df_y, 40, plot_components=True)\n",
    "\n",
    "# the optimal number of components is 6 on the whole dataset"
   ]
  },
  {
   "cell_type": "code",
   "execution_count": 60,
   "metadata": {},
   "outputs": [
    {
     "name": "stdout",
     "output_type": "stream",
     "text": [
      "100% completed\n",
      "Suggested number of components:  6\n",
      "\n"
     ]
    },
    {
     "data": {
      "image/png": "[encoded data removed]",
      "text/plain": [
       "<Figure size 432x288 with 1 Axes>"
      ]
     },
     "metadata": {},
     "output_type": "display_data"
    },
    {
     "name": "stdout",
     "output_type": "stream",
     "text": [
      "R2 calib: 0.648\n",
      "R2 CV: 0.167\n",
      "MSE calib: 6.691\n",
      "MSE CV: 16.568\n"
     ]
    }
   ],
   "source": [
    "optimise_pls_cv(X_train, y_train, 40, plot_components=True)"
   ]
  },
  {
   "cell_type": "code",
   "execution_count": 61,
   "metadata": {},
   "outputs": [
    {
     "name": "stdout",
     "output_type": "stream",
     "text": [
      "R^2:  0.16727823583868234\n",
      "MSE:  16.56841242368313\n"
     ]
    }
   ],
   "source": [
    "# Define PLS object\n",
    "pls = PLSRegression(n_components= 6)\n",
    "# Fit\n",
    "pls.fit(X_train, y_train)\n",
    "# Cross-validation\n",
    "y_cv = cross_val_predict(pls, X_train, y_train, cv=10)\n",
    "# Calculate scores\n",
    "score = r2_score(y_train, y_cv)\n",
    "mse = mean_squared_error(y_train, y_cv)\n",
    "\n",
    "print(\"R^2: \", score)\n",
    "print(\"MSE: \", mse)"
   ]
  },
  {
   "cell_type": "code",
   "execution_count": 62,
   "metadata": {},
   "outputs": [
    {
     "name": "stdout",
     "output_type": "stream",
     "text": [
      "-6.042330324475305\n",
      "0.16727823583868234\n"
     ]
    }
   ],
   "source": [
    "y_pred = pls.predict(X_test)\n",
    "\n",
    "# Cross-validation\n",
    "y_cv = cross_val_predict(pls, X_train, y_train, cv=10)\n",
    "\n",
    "# Calculate scores for calibration and cross-validation\n",
    "score_pred = r2_score(y_test, y_pred)\n",
    "score_cv = r2_score(y_train, y_cv)\n",
    "\n",
    "print(score_pred) #not so good\n",
    "print(score_cv)"
   ]
  },
  {
   "cell_type": "code",
   "execution_count": 63,
   "metadata": {},
   "outputs": [
    {
     "data": {
      "text/html": [
       "<div>\n",
       "<style scoped>\n",
       "    .dataframe tbody tr th:only-of-type {\n",
       "        vertical-align: middle;\n",
       "    }\n",
       "\n",
       "    .dataframe tbody tr th {\n",
       "        vertical-align: top;\n",
       "    }\n",
       "\n",
       "    .dataframe thead th {\n",
       "        text-align: right;\n",
       "    }\n",
       "</style>\n",
       "<table border=\"1\" class=\"dataframe\">\n",
       "  <thead>\n",
       "    <tr style=\"text-align: right;\">\n",
       "      <th></th>\n",
       "      <th>0</th>\n",
       "      <th>1</th>\n",
       "      <th>2</th>\n",
       "      <th>3</th>\n",
       "      <th>4</th>\n",
       "      <th>5</th>\n",
       "      <th>6</th>\n",
       "      <th>7</th>\n",
       "      <th>8</th>\n",
       "      <th>9</th>\n",
       "      <th>10</th>\n",
       "    </tr>\n",
       "  </thead>\n",
       "  <tbody>\n",
       "    <tr>\n",
       "      <th>16</th>\n",
       "      <td>39.2</td>\n",
       "      <td>1.1</td>\n",
       "      <td>8.4</td>\n",
       "      <td>3.7</td>\n",
       "      <td>34.3</td>\n",
       "      <td>1.7</td>\n",
       "      <td>1.3</td>\n",
       "      <td>9.3</td>\n",
       "      <td>0.01</td>\n",
       "      <td>0.11</td>\n",
       "      <td>0.92</td>\n",
       "    </tr>\n",
       "    <tr>\n",
       "      <th>8</th>\n",
       "      <td>32.8</td>\n",
       "      <td>0.01</td>\n",
       "      <td>10.6</td>\n",
       "      <td>7.3</td>\n",
       "      <td>14.3</td>\n",
       "      <td>33.2</td>\n",
       "      <td>2.75</td>\n",
       "      <td>0.42</td>\n",
       "      <td>0.32</td>\n",
       "      <td>0.09</td>\n",
       "      <td>1.12</td>\n",
       "    </tr>\n",
       "    <tr>\n",
       "      <th>19</th>\n",
       "      <td>40.3</td>\n",
       "      <td>1.2</td>\n",
       "      <td>7.7</td>\n",
       "      <td>4.8</td>\n",
       "      <td>30.9</td>\n",
       "      <td>1.7</td>\n",
       "      <td>3.3</td>\n",
       "      <td>7.6</td>\n",
       "      <td>0.01</td>\n",
       "      <td>0.18</td>\n",
       "      <td>1.45</td>\n",
       "    </tr>\n",
       "    <tr>\n",
       "      <th>5</th>\n",
       "      <td>45.3</td>\n",
       "      <td>0.23</td>\n",
       "      <td>15.9</td>\n",
       "      <td>4.34</td>\n",
       "      <td>16.5</td>\n",
       "      <td>18.9</td>\n",
       "      <td>1.29</td>\n",
       "      <td>0.1</td>\n",
       "      <td>0.3</td>\n",
       "      <td>0.11</td>\n",
       "      <td>1.1</td>\n",
       "    </tr>\n",
       "    <tr>\n",
       "      <th>3</th>\n",
       "      <td>38.4</td>\n",
       "      <td>0.04</td>\n",
       "      <td>15.5</td>\n",
       "      <td>4.07</td>\n",
       "      <td>12.8</td>\n",
       "      <td>26.7</td>\n",
       "      <td>3.35</td>\n",
       "      <td>0.52</td>\n",
       "      <td>0.31</td>\n",
       "      <td>0.08</td>\n",
       "      <td>1.07</td>\n",
       "    </tr>\n",
       "    <tr>\n",
       "      <th>32</th>\n",
       "      <td>40.1</td>\n",
       "      <td>2.43</td>\n",
       "      <td>20</td>\n",
       "      <td>6.79</td>\n",
       "      <td>27.5</td>\n",
       "      <td>1.37</td>\n",
       "      <td>0.41</td>\n",
       "      <td>0.89</td>\n",
       "      <td>0</td>\n",
       "      <td>0.22</td>\n",
       "      <td>0.24</td>\n",
       "    </tr>\n",
       "    <tr>\n",
       "      <th>17</th>\n",
       "      <td>44.2</td>\n",
       "      <td>1.1</td>\n",
       "      <td>10.5</td>\n",
       "      <td>3.2</td>\n",
       "      <td>34.5</td>\n",
       "      <td>1</td>\n",
       "      <td>1.1</td>\n",
       "      <td>3.2</td>\n",
       "      <td>0.01</td>\n",
       "      <td>0.08</td>\n",
       "      <td>0.98</td>\n",
       "    </tr>\n",
       "  </tbody>\n",
       "</table>\n",
       "</div>"
      ],
      "text/plain": [
       "       0     1     2     3     4     5     6     7     8     9    10\n",
       "16  39.2   1.1   8.4   3.7  34.3   1.7   1.3   9.3  0.01  0.11  0.92\n",
       "8   32.8  0.01  10.6   7.3  14.3  33.2  2.75  0.42  0.32  0.09  1.12\n",
       "19  40.3   1.2   7.7   4.8  30.9   1.7   3.3   7.6  0.01  0.18  1.45\n",
       "5   45.3  0.23  15.9  4.34  16.5  18.9  1.29   0.1   0.3  0.11   1.1\n",
       "3   38.4  0.04  15.5  4.07  12.8  26.7  3.35  0.52  0.31  0.08  1.07\n",
       "32  40.1  2.43    20  6.79  27.5  1.37  0.41  0.89     0  0.22  0.24\n",
       "17  44.2   1.1  10.5   3.2  34.5     1   1.1   3.2  0.01  0.08  0.98"
      ]
     },
     "execution_count": 63,
     "metadata": {},
     "output_type": "execute_result"
    }
   ],
   "source": [
    "# test real values\n",
    "np.round(y_test, decimals=2)"
   ]
  },
  {
   "cell_type": "code",
   "execution_count": 64,
   "metadata": {},
   "outputs": [
    {
     "data": {
      "text/html": [
       "<div>\n",
       "<style scoped>\n",
       "    .dataframe tbody tr th:only-of-type {\n",
       "        vertical-align: middle;\n",
       "    }\n",
       "\n",
       "    .dataframe tbody tr th {\n",
       "        vertical-align: top;\n",
       "    }\n",
       "\n",
       "    .dataframe thead th {\n",
       "        text-align: right;\n",
       "    }\n",
       "</style>\n",
       "<table border=\"1\" class=\"dataframe\">\n",
       "  <thead>\n",
       "    <tr style=\"text-align: right;\">\n",
       "      <th></th>\n",
       "      <th>0</th>\n",
       "      <th>1</th>\n",
       "      <th>2</th>\n",
       "      <th>3</th>\n",
       "      <th>4</th>\n",
       "      <th>5</th>\n",
       "      <th>6</th>\n",
       "      <th>7</th>\n",
       "      <th>8</th>\n",
       "      <th>9</th>\n",
       "      <th>10</th>\n",
       "    </tr>\n",
       "  </thead>\n",
       "  <tbody>\n",
       "    <tr>\n",
       "      <th>0</th>\n",
       "      <td>40.91</td>\n",
       "      <td>1.26</td>\n",
       "      <td>4.25</td>\n",
       "      <td>4.96</td>\n",
       "      <td>25.90</td>\n",
       "      <td>4.22</td>\n",
       "      <td>3.20</td>\n",
       "      <td>10.79</td>\n",
       "      <td>0.01</td>\n",
       "      <td>0.60</td>\n",
       "      <td>1.23</td>\n",
       "    </tr>\n",
       "    <tr>\n",
       "      <th>1</th>\n",
       "      <td>44.12</td>\n",
       "      <td>-1.38</td>\n",
       "      <td>18.47</td>\n",
       "      <td>2.92</td>\n",
       "      <td>8.15</td>\n",
       "      <td>35.75</td>\n",
       "      <td>3.88</td>\n",
       "      <td>-5.73</td>\n",
       "      <td>0.47</td>\n",
       "      <td>-0.58</td>\n",
       "      <td>1.34</td>\n",
       "    </tr>\n",
       "    <tr>\n",
       "      <th>2</th>\n",
       "      <td>43.52</td>\n",
       "      <td>1.12</td>\n",
       "      <td>10.07</td>\n",
       "      <td>6.97</td>\n",
       "      <td>29.35</td>\n",
       "      <td>0.63</td>\n",
       "      <td>1.92</td>\n",
       "      <td>4.52</td>\n",
       "      <td>0.01</td>\n",
       "      <td>0.06</td>\n",
       "      <td>1.05</td>\n",
       "    </tr>\n",
       "    <tr>\n",
       "      <th>3</th>\n",
       "      <td>44.39</td>\n",
       "      <td>-0.18</td>\n",
       "      <td>18.91</td>\n",
       "      <td>7.33</td>\n",
       "      <td>13.59</td>\n",
       "      <td>22.71</td>\n",
       "      <td>2.01</td>\n",
       "      <td>-4.85</td>\n",
       "      <td>0.29</td>\n",
       "      <td>-0.37</td>\n",
       "      <td>0.98</td>\n",
       "    </tr>\n",
       "    <tr>\n",
       "      <th>4</th>\n",
       "      <td>42.99</td>\n",
       "      <td>-0.91</td>\n",
       "      <td>16.34</td>\n",
       "      <td>2.08</td>\n",
       "      <td>7.77</td>\n",
       "      <td>36.74</td>\n",
       "      <td>3.51</td>\n",
       "      <td>-3.79</td>\n",
       "      <td>0.44</td>\n",
       "      <td>-0.37</td>\n",
       "      <td>1.24</td>\n",
       "    </tr>\n",
       "    <tr>\n",
       "      <th>5</th>\n",
       "      <td>39.29</td>\n",
       "      <td>1.98</td>\n",
       "      <td>17.59</td>\n",
       "      <td>7.84</td>\n",
       "      <td>24.36</td>\n",
       "      <td>4.88</td>\n",
       "      <td>1.17</td>\n",
       "      <td>2.46</td>\n",
       "      <td>0.05</td>\n",
       "      <td>0.36</td>\n",
       "      <td>0.56</td>\n",
       "    </tr>\n",
       "    <tr>\n",
       "      <th>6</th>\n",
       "      <td>42.75</td>\n",
       "      <td>0.49</td>\n",
       "      <td>5.83</td>\n",
       "      <td>4.01</td>\n",
       "      <td>26.48</td>\n",
       "      <td>6.41</td>\n",
       "      <td>3.70</td>\n",
       "      <td>7.84</td>\n",
       "      <td>0.07</td>\n",
       "      <td>0.22</td>\n",
       "      <td>1.45</td>\n",
       "    </tr>\n",
       "  </tbody>\n",
       "</table>\n",
       "</div>"
      ],
      "text/plain": [
       "       0     1      2     3      4      5     6      7     8     9    10\n",
       "0  40.91  1.26   4.25  4.96  25.90   4.22  3.20  10.79  0.01  0.60  1.23\n",
       "1  44.12 -1.38  18.47  2.92   8.15  35.75  3.88  -5.73  0.47 -0.58  1.34\n",
       "2  43.52  1.12  10.07  6.97  29.35   0.63  1.92   4.52  0.01  0.06  1.05\n",
       "3  44.39 -0.18  18.91  7.33  13.59  22.71  2.01  -4.85  0.29 -0.37  0.98\n",
       "4  42.99 -0.91  16.34  2.08   7.77  36.74  3.51  -3.79  0.44 -0.37  1.24\n",
       "5  39.29  1.98  17.59  7.84  24.36   4.88  1.17   2.46  0.05  0.36  0.56\n",
       "6  42.75  0.49   5.83  4.01  26.48   6.41  3.70   7.84  0.07  0.22  1.45"
      ]
     },
     "execution_count": 64,
     "metadata": {},
     "output_type": "execute_result"
    }
   ],
   "source": [
    "# test predicted values\n",
    "pd.DataFrame(np.round(y_pred, decimals=2))"
   ]
  },
  {
   "cell_type": "code",
   "execution_count": null,
   "metadata": {},
   "outputs": [],
   "source": []
  }
 ],
 "metadata": {
  "kernelspec": {
   "display_name": "Python 3",
   "language": "python",
   "name": "python3"
  },
  "language_info": {
   "codemirror_mode": {
    "name": "ipython",
    "version": 3
   },
   "file_extension": ".py",
   "mimetype": "text/x-python",
   "name": "python",
   "nbconvert_exporter": "python",
   "pygments_lexer": "ipython3",
   "version": "3.7.6"
  }
 },
 "nbformat": 4,
 "nbformat_minor": 2
}
