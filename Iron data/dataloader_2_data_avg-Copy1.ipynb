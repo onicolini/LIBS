{
 "cells": [
  {
   "cell_type": "code",
   "execution_count": 1,
   "metadata": {},
   "outputs": [],
   "source": [
    "import os\n",
    "import pandas as pd\n",
    "import matplotlib.pyplot as plt\n",
    "import numpy as np\n",
    "%matplotlib notebook \n",
    "from sklearn.decomposition import PCA \n",
    "from sklearn.preprocessing import StandardScaler"
   ]
  },
  {
   "cell_type": "code",
   "execution_count": 2,
   "metadata": {},
   "outputs": [],
   "source": [
    "from glob import glob\n",
    "filenames = glob('./data/0*')\n",
    "dfs = [pd.read_csv(f,sep='\\t') for f in filenames]\n",
    "#type(dfs) #dfs is a list of dataframes "
   ]
  },
  {
   "cell_type": "code",
   "execution_count": 3,
   "metadata": {},
   "outputs": [
    {
     "name": "stdout",
     "output_type": "stream",
     "text": [
      "<class 'numpy.ndarray'>\n",
      "(538, 4094)\n"
     ]
    }
   ],
   "source": [
    "df=dfs[0].drop(columns=['Pixels'])\n",
    "df=df.dropna(axis=1)\n",
    "data=df.values\n",
    "#plt.plot(data[0], data[400])\n",
    "\n",
    "print(type(data))\n",
    "#print(data)\n",
    "print(data.shape)"
   ]
  },
  {
   "cell_type": "code",
   "execution_count": 4,
   "metadata": {},
   "outputs": [
    {
     "name": "stdout",
     "output_type": "stream",
     "text": [
      "(4094,)\n",
      "[188.1951 188.2601 188.325  ... 440.6714 440.7245 440.7775]\n"
     ]
    }
   ],
   "source": [
    "x = data[0,:] #wavelengths\n",
    "print(x.shape)\n",
    "print(x)"
   ]
  },
  {
   "cell_type": "code",
   "execution_count": 5,
   "metadata": {},
   "outputs": [
    {
     "name": "stdout",
     "output_type": "stream",
     "text": [
      "(537, 4094)\n"
     ]
    }
   ],
   "source": [
    "y = data[1:,:] #intensities\n",
    "#print(y)\n",
    "print(y.shape)\n",
    "#np.asmatrix(y)"
   ]
  },
  {
   "cell_type": "code",
   "execution_count": 6,
   "metadata": {},
   "outputs": [
    {
     "name": "stdout",
     "output_type": "stream",
     "text": [
      "(4094,)\n",
      "[ 582.46368715  504.20856611  530.70949721 ... 2177.94599628 1990.0744879\n",
      " 1936.0689013 ]\n"
     ]
    }
   ],
   "source": [
    "y_avg0 = np.mean(y, axis=0) #average of intensities\n",
    "\n",
    "y_avg = y_avg0 # this will be used to append other means\n",
    "\n",
    "print(y_avg.shape)\n",
    "print(y_avg)"
   ]
  },
  {
   "cell_type": "code",
   "execution_count": 7,
   "metadata": {},
   "outputs": [
    {
     "name": "stdout",
     "output_type": "stream",
     "text": [
      "data index: 0\n",
      "(538, 4094)\n",
      "data index: 3\n",
      "(571, 4094)\n",
      "data index: 6\n",
      "(565, 4094)\n",
      "data index: 9\n",
      "(536, 4094)\n",
      "data index: 12\n",
      "(536, 4094)\n",
      "data index: 15\n",
      "(559, 4094)\n",
      "data index: 18\n",
      "(534, 4094)\n",
      "data index: 21\n",
      "(534, 4094)\n",
      "data index: 24\n",
      "(530, 4094)\n",
      "data index: 27\n",
      "(518, 4094)\n",
      "data index: 30\n",
      "(619, 4094)\n",
      "data index: 33\n",
      "(542, 4094)\n",
      "data index: 36\n",
      "(560, 4094)\n",
      "data index: 39\n",
      "(536, 4094)\n",
      "data index: 42\n",
      "(535, 4094)\n",
      "data index: 45\n",
      "(533, 4094)\n",
      "data index: 48\n",
      "(546, 4094)\n",
      "data index: 51\n",
      "(532, 4094)\n",
      "data index: 54\n",
      "(522, 4094)\n",
      "data index: 57\n",
      "(527, 4094)\n",
      "[[ 188.1951      188.2601      188.325      ...  440.6714\n",
      "   440.7245      440.7775    ]\n",
      " [ 582.46368715  504.20856611  530.70949721 ... 2177.94599628\n",
      "  1990.0744879  1936.0689013 ]\n",
      " [ 577.81403509  501.42807018  528.21929825 ... 2129.03684211\n",
      "  1942.41929825 1889.0754386 ]\n",
      " ...\n",
      " [ 579.5819209   503.76082863  528.76271186 ... 2222.36723164\n",
      "  1961.93785311 1889.83992467]\n",
      " [ 582.13819578  505.18426104  530.81957774 ... 2111.6487524\n",
      "  1859.09021113 1771.47984645]\n",
      " [ 583.41254753  504.43346008  530.52851711 ... 2140.35171103\n",
      "  1903.42585551 1834.83079848]]\n"
     ]
    }
   ],
   "source": [
    "#for i in range(0, len(dfs)):\n",
    "for i in range(0, len(dfs),3):\n",
    "    df=dfs[i].drop(columns=['Pixels']) \n",
    "    df=df.dropna(axis=1)\n",
    "    data=df.values\n",
    "    #plt.plot(data[0], data[400])\n",
    "    #print(data)\n",
    "    print(\"data index: \" + str(i))\n",
    "    print(data.shape)\n",
    "    tmp_y = data[1:,:] #intensities\n",
    "    y_avg = np.mean(tmp_y, axis=0) #average of intensities\n",
    "    x = np.vstack([x, y_avg])\n",
    "print(x)    "
   ]
  },
  {
   "cell_type": "code",
   "execution_count": 8,
   "metadata": {},
   "outputs": [
    {
     "data": {
      "text/plain": [
       "(21, 4094)"
      ]
     },
     "execution_count": 8,
     "metadata": {},
     "output_type": "execute_result"
    }
   ],
   "source": [
    "x.shape"
   ]
  },
  {
   "cell_type": "code",
   "execution_count": 9,
   "metadata": {},
   "outputs": [],
   "source": [
    "#np.savetxt(\"data_with_avg_intesities.csv\", x, delimiter=\",\", fmt='%f')\n",
    "np.savetxt(\"data_with_avg_intesities_reduced.csv\", x, delimiter=\",\", fmt='%f')"
   ]
  },
  {
   "cell_type": "code",
   "execution_count": 10,
   "metadata": {},
   "outputs": [],
   "source": [
    "#x.tofile('foo.csv',sep=',',format='%10.5f')"
   ]
  },
  {
   "cell_type": "code",
   "execution_count": 11,
   "metadata": {},
   "outputs": [
    {
     "data": {
      "text/plain": [
       "'import csv\\n\\n\\nwith open(\"new_file.csv\",\"w+\") as my_csv:\\n    csvWriter = csv.writer(my_csv,delimiter=\\',\\')\\n    csvWriter.writerows(x)'"
      ]
     },
     "execution_count": 11,
     "metadata": {},
     "output_type": "execute_result"
    }
   ],
   "source": [
    "\"\"\"import csv\n",
    "\n",
    "\n",
    "with open(\"new_file.csv\",\"w+\") as my_csv:\n",
    "    csvWriter = csv.writer(my_csv,delimiter=',')\n",
    "    csvWriter.writerows(x)\"\"\""
   ]
  },
  {
   "cell_type": "code",
   "execution_count": 12,
   "metadata": {},
   "outputs": [],
   "source": [
    "\n",
    "#y_avg = np.vstack([x, y_avg36])"
   ]
  },
  {
   "cell_type": "code",
   "execution_count": 13,
   "metadata": {},
   "outputs": [],
   "source": [
    "#print (y_avg)"
   ]
  },
  {
   "cell_type": "code",
   "execution_count": null,
   "metadata": {},
   "outputs": [],
   "source": []
  },
  {
   "cell_type": "code",
   "execution_count": null,
   "metadata": {},
   "outputs": [],
   "source": []
  },
  {
   "cell_type": "code",
   "execution_count": null,
   "metadata": {},
   "outputs": [],
   "source": []
  },
  {
   "cell_type": "code",
   "execution_count": null,
   "metadata": {},
   "outputs": [],
   "source": []
  },
  {
   "cell_type": "code",
   "execution_count": null,
   "metadata": {},
   "outputs": [],
   "source": []
  },
  {
   "cell_type": "code",
   "execution_count": null,
   "metadata": {},
   "outputs": [],
   "source": []
  },
  {
   "cell_type": "code",
   "execution_count": null,
   "metadata": {},
   "outputs": [],
   "source": []
  },
  {
   "cell_type": "code",
   "execution_count": null,
   "metadata": {},
   "outputs": [],
   "source": []
  },
  {
   "cell_type": "code",
   "execution_count": null,
   "metadata": {},
   "outputs": [],
   "source": []
  },
  {
   "cell_type": "code",
   "execution_count": null,
   "metadata": {},
   "outputs": [],
   "source": []
  },
  {
   "cell_type": "code",
   "execution_count": null,
   "metadata": {},
   "outputs": [],
   "source": []
  },
  {
   "cell_type": "code",
   "execution_count": null,
   "metadata": {},
   "outputs": [],
   "source": []
  },
  {
   "cell_type": "code",
   "execution_count": 14,
   "metadata": {},
   "outputs": [
    {
     "data": {
      "text/plain": [
       "\"df = pd.read_csv('./data2/001_B16_Zanardi_QS277us_200Hz_delay1us_exp1ms', sep = '\\t')\\n#print(df)\\n#print(df.dtypes)\\n#print(df.ndim)\\n#df\\n\\ndf1=df.drop(columns=['Pixels'])\\ndf1=df1.dropna(axis=1)\\n#df1\\n\\ndata=df1.values\\nprint(data)\\nplt.plot(data[0], data[200])\""
      ]
     },
     "execution_count": 14,
     "metadata": {},
     "output_type": "execute_result"
    }
   ],
   "source": [
    "\"\"\"df = pd.read_csv('./data2/001_B16_Zanardi_QS277us_200Hz_delay1us_exp1ms', sep = '\\t')\n",
    "#print(df)\n",
    "#print(df.dtypes)\n",
    "#print(df.ndim)\n",
    "#df\n",
    "\n",
    "df1=df.drop(columns=['Pixels'])\n",
    "df1=df1.dropna(axis=1)\n",
    "#df1\n",
    "\n",
    "data=df1.values\n",
    "print(data)\n",
    "plt.plot(data[0], data[200])\"\"\""
   ]
  },
  {
   "cell_type": "code",
   "execution_count": null,
   "metadata": {},
   "outputs": [],
   "source": []
  },
  {
   "cell_type": "code",
   "execution_count": null,
   "metadata": {},
   "outputs": [],
   "source": []
  },
  {
   "cell_type": "code",
   "execution_count": null,
   "metadata": {},
   "outputs": [],
   "source": []
  },
  {
   "cell_type": "code",
   "execution_count": null,
   "metadata": {},
   "outputs": [],
   "source": []
  }
 ],
 "metadata": {
  "kernelspec": {
   "display_name": "Python 3",
   "language": "python",
   "name": "python3"
  },
  "language_info": {
   "codemirror_mode": {
    "name": "ipython",
    "version": 3
   },
   "file_extension": ".py",
   "mimetype": "text/x-python",
   "name": "python",
   "nbconvert_exporter": "python",
   "pygments_lexer": "ipython3",
   "version": "3.7.6"
  }
 },
 "nbformat": 4,
 "nbformat_minor": 2
}
